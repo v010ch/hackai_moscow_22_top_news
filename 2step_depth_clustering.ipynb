{
 "cells": [
  {
   "cell_type": "code",
   "execution_count": null,
   "id": "fadbaec7-d549-4b6b-9a3b-39f5a4c966b6",
   "metadata": {},
   "outputs": [],
   "source": [
    "import os\n",
    "import pickle as pkl\n",
    "\n",
    "import pandas as pd\n",
    "from sklearn.cluster import KMeans#, SpectralClustering\n",
    "\n",
    "import seaborn as sns"
   ]
  },
  {
   "cell_type": "code",
   "execution_count": null,
   "id": "13bb037e-b789-42f4-b6ba-2d4ae128681e",
   "metadata": {},
   "outputs": [],
   "source": [
    "sns.set(rc={'figure.figsize':(30,16)}) # Setting seaborn as default style even if use only matplotlib\n",
    "sns.set(font_scale = 2)"
   ]
  },
  {
   "cell_type": "code",
   "execution_count": null,
   "id": "1196e416-399c-4232-b604-0df2cfb3082a",
   "metadata": {},
   "outputs": [],
   "source": []
  },
  {
   "cell_type": "code",
   "execution_count": null,
   "id": "1b327b12-0af1-44e8-b4d4-5ba3a3db08db",
   "metadata": {},
   "outputs": [],
   "source": [
    "DIR_DATA  = os.path.join(os.getcwd(), 'data')"
   ]
  },
  {
   "cell_type": "code",
   "execution_count": null,
   "id": "f5e36f79-6b2a-4440-96d4-91fd3046391b",
   "metadata": {},
   "outputs": [],
   "source": []
  },
  {
   "cell_type": "code",
   "execution_count": null,
   "id": "e33ef2b5-2dbc-4f5e-a018-41247e4dc42a",
   "metadata": {},
   "outputs": [],
   "source": []
  },
  {
   "cell_type": "code",
   "execution_count": null,
   "id": "d6e2142c-e3c7-4d2e-a2b7-2d9bca549a57",
   "metadata": {},
   "outputs": [],
   "source": [
    "df_train = pd.read_csv(os.path.join(DIR_DATA, 'train.csv'))\n",
    "df_train.shape"
   ]
  },
  {
   "cell_type": "markdown",
   "id": "b5da7c8c-d683-4756-9d16-7e48bc4431dd",
   "metadata": {},
   "source": [
    "depth явно состоих из 2х распределений "
   ]
  },
  {
   "cell_type": "code",
   "execution_count": null,
   "id": "cfdf727b-bf3d-48b1-a20e-501282c25f33",
   "metadata": {},
   "outputs": [],
   "source": [
    "df_train.depth.hist(bins = 40, figsize = (24, 12) )"
   ]
  },
  {
   "cell_type": "markdown",
   "id": "1124b911-6152-40df-a85b-a2d02bc4dd68",
   "metadata": {},
   "source": [
    "разобьем на 2 класса (+ выбросы?) по имеющимся у нас значениям depth.   \n",
    "далее, итеративно, по различныи признакам будем классифицировать на основе вышерасчитанного разбиения.   \n",
    "после чего depth будем считать для этих 2х классов в отдельности по отдельным алгоритмам"
   ]
  },
  {
   "cell_type": "code",
   "execution_count": null,
   "id": "3d38d849-1694-49a0-8835-765f5047a188",
   "metadata": {},
   "outputs": [],
   "source": []
  },
  {
   "cell_type": "code",
   "execution_count": null,
   "id": "3f16a443-0038-4503-ae19-e3709dcd7604",
   "metadata": {},
   "outputs": [],
   "source": []
  },
  {
   "cell_type": "code",
   "execution_count": null,
   "id": "ee6bdf80-ffdb-4050-8560-2b1195a35077",
   "metadata": {},
   "outputs": [],
   "source": [
    "kmeans2 = KMeans(n_clusters=2, random_state=0).fit(df_train.depth.values.reshape(-1, 1))\n",
    "df_train['c2'] = kmeans2.predict(df_train.depth.values.reshape(-1, 1))\n",
    "df_train.c2.value_counts()"
   ]
  },
  {
   "cell_type": "code",
   "execution_count": null,
   "id": "97a52b98-552b-4f91-8d66-21c5714926aa",
   "metadata": {},
   "outputs": [],
   "source": [
    "sns.histplot(data = df_train[['depth', 'c2']], x = 'depth', hue=\"c2\", )"
   ]
  },
  {
   "cell_type": "code",
   "execution_count": null,
   "id": "06d9335d-fe46-46f8-bc53-46e3dd41d399",
   "metadata": {},
   "outputs": [],
   "source": []
  },
  {
   "cell_type": "code",
   "execution_count": null,
   "id": "86de14ea-ede2-45ac-bec1-3765e22d702b",
   "metadata": {},
   "outputs": [],
   "source": []
  },
  {
   "cell_type": "code",
   "execution_count": null,
   "id": "b03cbb47-9639-466d-b854-dd5f042bc3a4",
   "metadata": {},
   "outputs": [],
   "source": [
    "kmeans3 = KMeans(n_clusters=3, random_state=0).fit(df_train.depth.values.reshape(-1, 1))\n",
    "df_train['c3'] = kmeans3.predict(df_train.depth.values.reshape(-1, 1))\n",
    "df_train.c3.value_counts()"
   ]
  },
  {
   "cell_type": "code",
   "execution_count": null,
   "id": "8bb00a60-8b46-48f2-9a83-7b222d9a8969",
   "metadata": {},
   "outputs": [],
   "source": [
    "sns.histplot(data = df_train[['depth', 'c3']], x = 'depth', hue=\"c3\", )"
   ]
  },
  {
   "cell_type": "code",
   "execution_count": null,
   "id": "28a30b8c-28de-4655-b820-ff9e9640ef80",
   "metadata": {},
   "outputs": [],
   "source": []
  },
  {
   "cell_type": "code",
   "execution_count": null,
   "id": "f62bea00-155a-4e3f-910c-362024af0409",
   "metadata": {},
   "outputs": [],
   "source": []
  },
  {
   "cell_type": "markdown",
   "id": "f96bbc39-64e2-4f22-b6cc-e0225617aa89",
   "metadata": {},
   "source": [
    "Сохраним классы для анализа"
   ]
  },
  {
   "cell_type": "code",
   "execution_count": null,
   "id": "b6f44056-d373-4fe4-bced-cf39ff9339ff",
   "metadata": {},
   "outputs": [],
   "source": [
    "df_train.to_csv(os.path.join(DIR_DATA, 'train_depth_classes.csv'), index = False)"
   ]
  },
  {
   "cell_type": "code",
   "execution_count": null,
   "id": "6d256715-ccfb-4395-9edb-f403afb7ffd1",
   "metadata": {},
   "outputs": [],
   "source": []
  }
 ],
 "metadata": {
  "kernelspec": {
   "display_name": "Python 3",
   "language": "python",
   "name": "python3"
  },
  "language_info": {
   "codemirror_mode": {
    "name": "ipython",
    "version": 3
   },
   "file_extension": ".py",
   "mimetype": "text/x-python",
   "name": "python",
   "nbconvert_exporter": "python",
   "pygments_lexer": "ipython3",
   "version": "3.7.10"
  }
 },
 "nbformat": 4,
 "nbformat_minor": 5
}
