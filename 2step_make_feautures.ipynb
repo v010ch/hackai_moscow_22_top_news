{
 "cells": [
  {
   "cell_type": "code",
   "execution_count": null,
   "id": "40e726ae-286d-4aba-85b1-13af34c9eca2",
   "metadata": {},
   "outputs": [],
   "source": [
    "import os\n",
    "import pickle as pkl\n",
    "\n",
    "import numpy as np\n",
    "import pandas as pd\n",
    "from itertools import product\n",
    "\n",
    "import category_encoders as ce\n",
    "from sklearn import preprocessing\n",
    "from sklearn.model_selection import train_test_split\n",
    "\n",
    "from ast import literal_eval\n",
    "\n",
    "from tqdm import tqdm\n",
    "tqdm.pandas()"
   ]
  },
  {
   "cell_type": "markdown",
   "id": "0daf7006-0f02-48cc-a9be-aec5b3df5b89",
   "metadata": {},
   "source": [
    "## Reproducibility block"
   ]
  },
  {
   "cell_type": "code",
   "execution_count": null,
   "id": "d715fcc1-cd77-4e37-bf03-7d6c62ac3c0a",
   "metadata": {},
   "outputs": [],
   "source": [
    "# seed the RNG for all devices (both CPU and CUDA)\n",
    "#torch.manual_seed(1984)\n",
    "\n",
    "#Disabling the benchmarking feature causes cuDNN to deterministically select an algorithm, \n",
    "#possibly at the cost of reduced performance.\n",
    "#torch.backends.cudnn.benchmark = False\n",
    "\n",
    "# for custom operators,\n",
    "import random\n",
    "random.seed(5986721)\n",
    "\n",
    "# \n",
    "np.random.seed(62185)\n",
    "\n",
    "#sklearn take seed from a line abowe"
   ]
  },
  {
   "cell_type": "code",
   "execution_count": null,
   "id": "dda75999-7bd7-47f8-b4fd-6aac0562dde5",
   "metadata": {},
   "outputs": [],
   "source": []
  },
  {
   "cell_type": "code",
   "execution_count": null,
   "id": "10c73d28-8eba-403c-9eb4-6cee5e76a593",
   "metadata": {},
   "outputs": [],
   "source": [
    "DIR_DATA  = os.path.join(os.getcwd(), 'data')"
   ]
  },
  {
   "cell_type": "markdown",
   "id": "dfee7f1b-6bf8-4e1b-8025-877ce98641b4",
   "metadata": {},
   "source": [
    "энкодеры для кодирования категориальных переменных. "
   ]
  },
  {
   "cell_type": "markdown",
   "id": "feb8f47d-1028-4b27-a094-01ef85da8601",
   "metadata": {},
   "source": [
    "но, например, для catboost не требуется такого кодирования, так что оригинальный признак так же останется в датасете,   \n",
    "а в модель будут передоваться признаки только через параметр features."
   ]
  },
  {
   "cell_type": "raw",
   "id": "f31874bf-4016-4add-9cf4-eec57e2dc70e",
   "metadata": {},
   "source": [
    "all_encoders = [ce.BackwardDifferenceEncoder(), \n",
    "ce.BaseNEncoder(), \n",
    "ce.BinaryEncoder(),\n",
    "ce.CatBoostEncoder(),\n",
    "ce.CountEncoder(),\n",
    "ce.GLMMEncoder(),\n",
    "ce.HashingEncoder(),\n",
    "ce.HelmertEncoder(),\n",
    "ce.JamesSteinEncoder(),\n",
    "ce.LeaveOneOutEncoder(),\n",
    "ce.MEstimateEncoder(),\n",
    "ce.OneHotEncoder(),\n",
    "ce.OrdinalEncoder(),\n",
    "ce.SumEncoder(),\n",
    "ce.PolynomialEncoder(),\n",
    "ce.TargetEncoder(),\n",
    "ce.WOEEncoder(),\n",
    "#ce.QuantileEncoder(),\n",
    "]"
   ]
  },
  {
   "cell_type": "code",
   "execution_count": null,
   "id": "79bc7a45-d159-4127-8ad7-a5e40e0cc3dc",
   "metadata": {},
   "outputs": [],
   "source": []
  },
  {
   "cell_type": "code",
   "execution_count": null,
   "id": "324446e1-7bcb-4ad6-accc-6dc5eacb921c",
   "metadata": {},
   "outputs": [],
   "source": [
    "df_train = pd.read_csv(os.path.join(DIR_DATA, 'train_extended.csv'))#, index_col= 0)\n",
    "df_test  = pd.read_csv(os.path.join(DIR_DATA, 'test_extended.csv'))#, index_col= 0)\n",
    "\n",
    "df_train['publish_date'] = pd.to_datetime(df_train['publish_date'])\n",
    "df_test['publish_date']  = pd.to_datetime(df_test['publish_date'])"
   ]
  },
  {
   "cell_type": "code",
   "execution_count": null,
   "id": "bee87a3c-d9dc-48c2-a4ce-c724785c9b43",
   "metadata": {},
   "outputs": [],
   "source": [
    "df_train.shape, df_test.shape"
   ]
  },
  {
   "cell_type": "code",
   "execution_count": null,
   "id": "d639e436-931d-4b14-9463-4197aab035b5",
   "metadata": {},
   "outputs": [],
   "source": []
  },
  {
   "cell_type": "markdown",
   "id": "a4dce281-329d-4605-a690-0b184a9bb3d7",
   "metadata": {},
   "source": [
    "Имена признаков для удобства перебора будут представлены словарем   \n",
    "Формат:   \n",
    "{\n",
    "исходный признак/идея: {   \n",
    "только числовые признаки: [ ]   \n",
    "только категориальные признаки: [ ]   \n",
    "признаки, которые могу быть как числовыми так и категориальными: [ ]   \n",
    "}}"
   ]
  },
  {
   "cell_type": "code",
   "execution_count": null,
   "id": "d323b9e5-02b2-4b6d-8f6c-0f10271673f0",
   "metadata": {},
   "outputs": [],
   "source": [
    "clmns = {'document_id':{'num':  ['nimgs','text_len', ],   \n",
    "                        'cat':  [],\n",
    "                        'both': [],\n",
    "                        },\n",
    "        'publish_date': {'num':  [],   \n",
    "                          'cat':  [],\n",
    "                          'both': [],\n",
    "                         },\n",
    "         'authors': {'num':  [],   \n",
    "                     'cat':  [],\n",
    "                     'both': [],\n",
    "                    },\n",
    "         'category': {'num':  [],   \n",
    "                      'cat':  [],\n",
    "                      'both': [],\n",
    "                     },\n",
    "         'title': {'num':  [],   \n",
    "                   'cat':  ['two_articles'],\n",
    "                   'both': [],\n",
    "                },\n",
    "        }"
   ]
  },
  {
   "cell_type": "code",
   "execution_count": null,
   "id": "7296b2a6-5d3e-420e-91b0-d4d14f08a1fb",
   "metadata": {},
   "outputs": [],
   "source": [
    "print(df_train.columns.values)"
   ]
  },
  {
   "cell_type": "code",
   "execution_count": null,
   "id": "bdb1a2b7-e60f-492e-9aa6-cf1456582820",
   "metadata": {},
   "outputs": [],
   "source": []
  },
  {
   "cell_type": "markdown",
   "id": "2967f281-1164-43df-9678-146877565bc8",
   "metadata": {},
   "source": [
    "## Очистка датасета"
   ]
  },
  {
   "cell_type": "markdown",
   "id": "5034fc71-4fd8-4ebd-8bbf-6457485f4c1a",
   "metadata": {},
   "source": [
    "этих категорий нет в тесте, а в трейне на них приходится всего 3 записи. они явно лишние.\n",
    "\n",
    "уберем статьи раньше минимальной даты в тесте. для начала так, дальше можно будет поиграться."
   ]
  },
  {
   "cell_type": "code",
   "execution_count": null,
   "id": "a683054c-62c3-4f7e-b179-698648c862f2",
   "metadata": {},
   "outputs": [],
   "source": [
    "def clear_data(inp_df: pd.DataFrame, min_time: pd.Timestamp) -> pd.DataFrame:\n",
    "    \n",
    "    exclude_category = {'5e54e2089a7947f63a801742', '552e430f9a79475dd957f8b3', '5e54e22a9a7947f560081ea2' }\n",
    "    inp_df = inp_df.query('category not in @exclude_category')\n",
    "    print(f'shape after clean category {inp_df.shape}')\n",
    "    \n",
    "    inp_df = inp_df[inp_df.publish_date >= min_time]\n",
    "    print(f'shape after min time {inp_df.shape}')\n",
    "    \n",
    "    \n",
    "    if 'full_reads_percent' in inp_df.columns:\n",
    "        inp_df = inp_df.query('full_reads_percent < 100')\n",
    "        print(f'shape after frp time {inp_df.shape}')\n",
    "                              \n",
    "    \n",
    "    return inp_df"
   ]
  },
  {
   "cell_type": "code",
   "execution_count": null,
   "id": "a62e0fbf-896e-4a49-9d83-77d614e0d9e9",
   "metadata": {},
   "outputs": [],
   "source": [
    "#min_test_time = df_test['publish_date'].min()\n",
    "#min_test_time = df_test['publish_date'].nsmallest(2).iloc[-1]\n",
    "min_test_time = pd.Timestamp('2022-01-01')\n",
    "\n",
    "df_train = clear_data(df_train, min_test_time)\n",
    "#df_test  = clear_data(df_test,  min_test_time)"
   ]
  },
  {
   "cell_type": "code",
   "execution_count": null,
   "id": "5b68554b-710a-4295-bf63-0e980a29ac48",
   "metadata": {},
   "outputs": [],
   "source": []
  },
  {
   "cell_type": "code",
   "execution_count": null,
   "id": "1608271f-2677-49a1-8a01-e48b0d21e127",
   "metadata": {},
   "outputs": [],
   "source": []
  },
  {
   "cell_type": "markdown",
   "id": "c8e24525-69a0-440e-8104-11968190153f",
   "metadata": {},
   "source": [
    "## title"
   ]
  },
  {
   "cell_type": "code",
   "execution_count": null,
   "id": "cdcd2325-4015-44d6-89b9-5966b3810cf4",
   "metadata": {},
   "outputs": [],
   "source": [
    "holidays = {pd.Timestamp('2022-01-01').date(), pd.Timestamp('2022-01-02').date(), pd.Timestamp('2022-01-03').date(),\n",
    "            pd.Timestamp('2022-01-04').date(), pd.Timestamp('2022-01-05').date(), pd.Timestamp('2022-01-06').date(),  #NY\n",
    "            pd.Timestamp('2022-01-07').date(), pd.Timestamp('2022-01-08').date(), pd.Timestamp('2022-01-08').date(),\n",
    "            pd.Timestamp('2022-02-23').date(), # 23 feb\n",
    "            pd.Timestamp('2022-03-06').date(), pd.Timestamp('2022-03-07').date(), pd.Timestamp('2022-03-08').date(), # 8 march\n",
    "            pd.Timestamp('2022-05-02').date(), pd.Timestamp('2022-05-03').date(), # 1st may\n",
    "            pd.Timestamp('2022-05-09').date(), pd.Timestamp('2022-05-10').date(),# 9 may\n",
    "            pd.Timestamp('2022-06-12').date(), pd.Timestamp('2022-06-13').date(), # day of the russia\n",
    "            pd.Timestamp('2022-11-04').date()\n",
    "           }\n",
    "\n",
    "day_before_holiday = {pd.Timestamp('2021-12-31').date(), pd.Timestamp('2022-02-22').date(), pd.Timestamp('2022-03-05').date(),\n",
    "                      pd.Timestamp('2022-02-23').date(),\n",
    "                      pd.Timestamp('2022-04-29').date(), pd.Timestamp('2022-05-04').date(), \n",
    "                      pd.Timestamp('2022-05-05').date(), pd.Timestamp('2022-05-06').date(),\n",
    "                      pd.Timestamp('2022-11-03').date(),\n",
    "                      #pd.Timestamp('2022-12-03').date(),\n",
    "                      #pd.Timestamp('2022-11-03').date(),\n",
    "                     }\n",
    "day_after_holiday = {pd.Timestamp('2022-01-10').date(), pd.Timestamp('2022-02-24').date(), pd.Timestamp('2022-03-09').date(), \n",
    "                     pd.Timestamp('2022-06-14').date(), pd.Timestamp('2022-05-11').date(),\n",
    "                    }"
   ]
  },
  {
   "cell_type": "code",
   "execution_count": null,
   "id": "492f5441-4158-4144-b546-863669e594ad",
   "metadata": {},
   "outputs": [],
   "source": [
    "def publish_date_features(inp_df: pd.DataFrame) -> pd.DataFrame:\n",
    "    \n",
    "    inp_df['m_d'] = inp_df['publish_date'].dt.date\n",
    "\n",
    "    inp_df['hour'] = inp_df['publish_date'].dt.hour\n",
    "    inp_df['dow']  = inp_df['publish_date'].dt.dayofweek\n",
    "    #Monday=0, Sunday=6\n",
    "    #inp_df['weekend'] = (inp_df.dow >= 4).astype(int) # 5\n",
    "    #inp_df['holidays']\n",
    "    inp_df['day']    = pd.to_datetime(inp_df['publish_date']).dt.strftime(\"%d\").astype(int)\n",
    "    inp_df['mounth'] = pd.to_datetime(inp_df['publish_date']).dt.strftime(\"%m\").astype(int)\n",
    "    \n",
    "    \n",
    "    inp_df['holiday'] = inp_df.m_d.apply(lambda x: 1 if x in holidays else 0)\n",
    "    inp_df['day_before_holiday'] = inp_df.m_d.apply(lambda x: 1 if x in day_before_holiday else 0)\n",
    "    inp_df['day_after_holiday'] = inp_df.m_d.apply(lambda x: 1 if x in day_after_holiday else 0)\n",
    "    \n",
    "    \n",
    "    if 'hour' not in clmns['publish_date']['both']:\n",
    "        clmns['publish_date']['both'].extend(['hour', 'dow', 'day', 'mounth'])\n",
    "        \n",
    "    if 'holiday' not in clmns['publish_date']['cat']:\n",
    "        clmns['publish_date']['cat'].extend(['holiday', 'day_before_holiday', 'day_after_holiday',]) \n",
    "    \n",
    "    return inp_df"
   ]
  },
  {
   "cell_type": "code",
   "execution_count": null,
   "id": "72ccf6f7-36b0-486c-abae-ef1ccf57d58b",
   "metadata": {},
   "outputs": [],
   "source": [
    "print('before ', df_train.shape, df_test.shape)\n",
    "df_train = publish_date_features(df_train)\n",
    "df_test  = publish_date_features(df_test)\n",
    "print('after  ', df_train.shape, df_test.shape)"
   ]
  },
  {
   "cell_type": "code",
   "execution_count": null,
   "id": "1adc733f-d392-4e10-807d-c36ec079d2f7",
   "metadata": {},
   "outputs": [],
   "source": [
    "print(sum(df_train.holiday), sum(df_train.day_before_holiday), sum(df_train.day_after_holiday), )\n",
    "print(sum(df_test.holiday), sum(df_test.day_before_holiday), sum(df_test.day_after_holiday), )"
   ]
  },
  {
   "cell_type": "code",
   "execution_count": null,
   "id": "42e4694a-019d-4563-b50e-7fd467e617d3",
   "metadata": {},
   "outputs": [],
   "source": []
  },
  {
   "cell_type": "markdown",
   "id": "f2698b48-ee38-4466-8a1d-f7a02527acdf",
   "metadata": {},
   "source": [
    "Рассчитаем дневные статистики + лаги за 7 дней"
   ]
  },
  {
   "cell_type": "code",
   "execution_count": null,
   "id": "6632adfd-e286-4a6a-b7a7-dadf6cf65968",
   "metadata": {},
   "outputs": [],
   "source": [
    "df_train.sort_values(by='m_d').m_d.diff().value_counts()"
   ]
  },
  {
   "cell_type": "code",
   "execution_count": null,
   "id": "45214f79-6e72-448d-8049-8187167b6de5",
   "metadata": {},
   "outputs": [],
   "source": [
    "def create_daily_stats(inp_df: pd.DataFrame, max_lags: int = 7) -> pd.DataFrame:\n",
    "    \n",
    "    ret_df = inp_df.sort_values(by='m_d').groupby('m_d')[['m_d', 'views', 'depth', 'full_reads_percent']].agg(['min', 'max', 'mean', 'std']).copy()\n",
    "    new_cols = ['views_min', 'views_max', 'views_mean', 'views_std',\n",
    "                'depth_min', 'depth_max', 'depth_mean', 'depth_std',\n",
    "                'frp_min',   'frp_max',   'frp_mean',   'frp_std',\n",
    "               ]\n",
    "    ret_df.columns = new_cols\n",
    "    ret_df = ret_df.reset_index()\n",
    "    #??????? only std\n",
    "    #ret_df.isnull().sum() > 0\n",
    "    ret_df.fillna(0, inplace = True)\n",
    "    \n",
    "    \n",
    "    for col, lag in  product(new_cols, list(range(max_lags))):\n",
    "        ret_df[f'{col}_lag{lag+1}'] = ret_df[col].shift(lag+1)\n",
    "        #????fillna\n",
    "        #ret_df[f'{col}_lag{lag+1}'].fillna('mean', inplace = True)\n",
    "    \n",
    "    return ret_df"
   ]
  },
  {
   "cell_type": "code",
   "execution_count": null,
   "id": "e968bcaa-76db-45b5-881d-d14efe1dd86b",
   "metadata": {},
   "outputs": [],
   "source": [
    "daily_stats = create_daily_stats(df_train)\n",
    "daily_stats.to_csv(os.path.join(DIR_DATA, 'dayly_stats.csv'), index = False)"
   ]
  },
  {
   "cell_type": "code",
   "execution_count": null,
   "id": "187a5895-5470-4a2d-8d7b-e139b34b3305",
   "metadata": {},
   "outputs": [],
   "source": []
  },
  {
   "cell_type": "markdown",
   "id": "4c6d124c-1e44-436f-a4fe-3e3d0bab0263",
   "metadata": {},
   "source": [
    "Добавим их к датасетам"
   ]
  },
  {
   "cell_type": "code",
   "execution_count": null,
   "id": "685a44c6-375a-4c5e-a92d-d82ed85dee3c",
   "metadata": {},
   "outputs": [],
   "source": [
    "def add_daily_stats(inp_df:pd.DataFrame) -> pd.DataFrame:\n",
    "    \n",
    "    #ret_df = inp_df.merge(daily_stats, on = 'm_d', validate = 'many_to_one')\n",
    "    ret_df = inp_df.merge(daily_stats, on = 'm_d', how = 'left', validate = 'many_to_one')\n",
    "    \n",
    "    if 'views_min' not in clmns['publish_date']['num']:\n",
    "        clmns['publish_date']['num'].extend(daily_stats.columns[1:])\n",
    "    \n",
    "    return ret_df"
   ]
  },
  {
   "cell_type": "code",
   "execution_count": null,
   "id": "af66509c-3085-4f2b-8605-bd67e8340066",
   "metadata": {},
   "outputs": [],
   "source": [
    "print('before ', df_train.shape, df_test.shape, 'add ', daily_stats.shape)\n",
    "df_train = add_daily_stats(df_train)\n",
    "df_test  = add_daily_stats(df_test)\n",
    "print('after  ', df_train.shape, df_test.shape)"
   ]
  },
  {
   "cell_type": "markdown",
   "id": "bcfc1bd5-7df3-419e-bc5a-fc4d008b853f",
   "metadata": {},
   "source": [
    "Проверим на пропуски в тесте"
   ]
  },
  {
   "cell_type": "code",
   "execution_count": null,
   "id": "7fe4552f-e958-4b34-9aa6-673425cba3f7",
   "metadata": {},
   "outputs": [],
   "source": [
    "df_test[['views_min', 'views_max', 'views_mean', 'views_std',\n",
    "            'depth_min', 'depth_max', 'depth_mean', 'depth_std',\n",
    "            'frp_min',   'frp_max',   'frp_mean',   'frp_std']].isnull().sum()"
   ]
  },
  {
   "cell_type": "markdown",
   "id": "ff4d73fa-1fb8-4de9-a52f-5c0c97d7b77c",
   "metadata": {},
   "source": [
    "да, на начальныз лагах есть пропуски.    \n",
    "заменять будем уже при подборе и построении моделей   "
   ]
  },
  {
   "cell_type": "code",
   "execution_count": null,
   "id": "864c75e8-54f7-40f9-9bec-ac6a74b5d7d1",
   "metadata": {},
   "outputs": [],
   "source": []
  },
  {
   "cell_type": "code",
   "execution_count": null,
   "id": "4e7f29aa-7897-4934-a7d2-67d7d18cbf16",
   "metadata": {},
   "outputs": [],
   "source": []
  },
  {
   "cell_type": "code",
   "execution_count": null,
   "id": "3b7e3585-03f6-43e8-a1fd-1ee97b86d4d6",
   "metadata": {},
   "outputs": [],
   "source": []
  },
  {
   "cell_type": "markdown",
   "id": "0325a77e-b14d-4ba1-b6c3-08918561f8a7",
   "metadata": {},
   "source": [
    "## session"
   ]
  },
  {
   "cell_type": "code",
   "execution_count": null,
   "id": "6bd8a217-23ce-4d79-a726-40f5e51b7fc2",
   "metadata": {},
   "outputs": [],
   "source": []
  },
  {
   "cell_type": "markdown",
   "id": "ec0a4b71-4077-468c-aea7-4d8593da13fc",
   "metadata": {},
   "source": [
    "## authors"
   ]
  },
  {
   "cell_type": "markdown",
   "id": "61ce0b6b-5419-4eca-b080-45bb9fb794b1",
   "metadata": {},
   "source": [
    "Авторы считываются как строки, а не как массив строк. исправим."
   ]
  },
  {
   "cell_type": "code",
   "execution_count": null,
   "id": "e65ff539-48c4-42b4-8d09-599dec297994",
   "metadata": {},
   "outputs": [],
   "source": [
    "df_train['authors']  = df_train.authors.apply(lambda x: literal_eval(x))\n",
    "df_test['authors']   = df_test.authors.apply( lambda x: literal_eval(x))\n",
    "\n",
    "# пустое поле автора заменим на значение, что автор не указан\n",
    "df_train['authors'] = df_train['authors'].apply(lambda x: x if len(x) > 0 else ['without_author'])\n",
    "df_test['authors']  = df_test['authors'].apply( lambda x: x if len(x) > 0 else ['without_author'])"
   ]
  },
  {
   "cell_type": "code",
   "execution_count": null,
   "id": "e5090772-07b0-4086-ad1c-3ab27d717af9",
   "metadata": {},
   "outputs": [],
   "source": [
    "df_train['Nauthors'] = df_train.authors.apply(lambda x: len(x))\n",
    "df_test['Nauthors']  = df_test.authors.apply(lambda x: len(x))"
   ]
  },
  {
   "cell_type": "code",
   "execution_count": null,
   "id": "b5daa433-8379-455f-8a53-c4a91c840799",
   "metadata": {},
   "outputs": [],
   "source": [
    "clmns['authors']['num'].extend(['Nauthors'])"
   ]
  },
  {
   "cell_type": "markdown",
   "id": "d20ec8dc-f694-4ff0-91a5-f801224a0d07",
   "metadata": {},
   "source": [
    "выделяем всех авторов в трейне"
   ]
  },
  {
   "cell_type": "code",
   "execution_count": null,
   "id": "3bb962bf-e87d-4bef-aee8-751af296081c",
   "metadata": {},
   "outputs": [],
   "source": [
    "all_authors = set()\n",
    "for el in df_train.authors.values:\n",
    "    if len (el) == 0:\n",
    "        continue\n",
    "    if len(el) == 1:\n",
    "        all_authors.add(el[0])\n",
    "        continue\n",
    "        \n",
    "    for author in el:\n",
    "        all_authors.add(author)"
   ]
  },
  {
   "cell_type": "markdown",
   "id": "647368f4-e838-438d-9157-fe75cdeeb2e6",
   "metadata": {},
   "source": [
    "проверяем на наличия авторов из теста"
   ]
  },
  {
   "cell_type": "code",
   "execution_count": null,
   "id": "48970f9e-293d-4279-9e71-e25d575062a5",
   "metadata": {},
   "outputs": [],
   "source": [
    "test_authors = set()\n",
    "for el in df_test.authors.values:\n",
    "    if len (el) == 0:\n",
    "        continue\n",
    "    if len(el) == 1:\n",
    "        test_authors.add(el[0])\n",
    "        continue\n",
    "        \n",
    "    for author in el:\n",
    "        test_authors.add(author)\n",
    "\n",
    "for el in test_authors:\n",
    "    if el not in all_authors:\n",
    "        print(el)"
   ]
  },
  {
   "cell_type": "markdown",
   "id": "148997dd-8034-47d0-ae51-fb935d9559ea",
   "metadata": {},
   "source": [
    "2х авторов нет в трейне.   \n",
    "предположительно заменим их статистики средними."
   ]
  },
  {
   "cell_type": "code",
   "execution_count": null,
   "id": "2fb8c209-663d-4bac-ae01-3b4349522b01",
   "metadata": {},
   "outputs": [],
   "source": []
  },
  {
   "cell_type": "markdown",
   "id": "81e6ba67-6954-4ff9-8873-46b7984495d9",
   "metadata": {},
   "source": [
    "Все статьи автора (с учетом совместных)"
   ]
  },
  {
   "cell_type": "code",
   "execution_count": null,
   "id": "778d462f-7324-4e9c-bd56-5713b8fb6fb3",
   "metadata": {},
   "outputs": [],
   "source": [
    "auth_doc_id = {el: [] for el in all_authors}\n",
    "\n",
    "for el in tqdm(df_train.loc[:, ['document_id', 'authors']].values):\n",
    "    for athr in range(len(el[1])):\n",
    "        auth_doc_id[el[1][athr]].append(el[0])\n",
    "        \n",
    "with open(os.path.join(DIR_DATA, 'authors_all.pkl'), 'wb') as pkl_file:\n",
    "    pkl.dump(auth_doc_id, pkl_file)"
   ]
  },
  {
   "cell_type": "markdown",
   "id": "39055cc8-db6d-484f-a233-ebaa95eef3b1",
   "metadata": {},
   "source": [
    "Статьи только автора (в одиночку)(пока не применяется)"
   ]
  },
  {
   "cell_type": "code",
   "execution_count": null,
   "id": "595a8c1d-bc76-42dd-adb9-0511cd326a05",
   "metadata": {},
   "outputs": [],
   "source": [
    "auth_doc_id_alone = {el: [] for el in all_authors}\n",
    "\n",
    "for el in tqdm(df_train.loc[:, ['document_id', 'authors']].values):\n",
    "    if len(el[1]) == 1:\n",
    "        auth_doc_id_alone[el[1][0]].append(el[0])\n",
    "        \n",
    "with open(os.path.join(DIR_DATA, 'authors_alone.pkl'), 'wb') as pkl_file:\n",
    "    pkl.dump(auth_doc_id_alone, pkl_file)"
   ]
  },
  {
   "cell_type": "code",
   "execution_count": null,
   "id": "9a59ea06-5f22-432d-9810-b1fb64e985be",
   "metadata": {},
   "outputs": [],
   "source": []
  },
  {
   "cell_type": "markdown",
   "id": "49ee5791-cd95-4470-be98-c5916d08583a",
   "metadata": {},
   "source": [
    "Соберем статистику по авторам (с учетом совместных)"
   ]
  },
  {
   "cell_type": "code",
   "execution_count": null,
   "id": "c91c21ca-173b-43c2-a44b-d8a3522b9226",
   "metadata": {},
   "outputs": [],
   "source": [
    "author_columns = ['author', 'author_size', 'v_auth_min', 'v_auth_max', 'v_auth_mean', 'v_auth_std', 'd_auth_min',\n",
    "                  'd_auth_max', 'd_auth_mean', 'd_auth_std', 'f_auth_min', 'f_auth_max', 'f_auth_mean', 'f_auth_std',\n",
    "                 ]\n",
    "\n",
    "author_group_columns = ['author_size', \n",
    "                        'v_auth_min', 'v_auth_max', 'v_auth_mean', 'v_auth_std',\n",
    "                        'author_size2',\n",
    "                        'd_auth_min', 'd_auth_max', 'd_auth_mean', 'd_auth_std',\n",
    "                        'author_size3',\n",
    "                        'f_auth_min', 'f_auth_max', 'f_auth_mean', 'f_auth_std',\n",
    "                   ]"
   ]
  },
  {
   "cell_type": "code",
   "execution_count": null,
   "id": "3ec44696-4efa-4974-83cf-68e4182c2f0d",
   "metadata": {},
   "outputs": [],
   "source": [
    "df_author = pd.DataFrame(columns = author_columns)\n",
    "df_author.author = list(all_authors)\n",
    "\n",
    "for el in tqdm(all_authors):\n",
    "    # определяем статьи текущего автора\n",
    "    df_train['cur_author'] = df_train.authors.apply(lambda x: 1 if el in x else 0)\n",
    "    \n",
    "    # собираем статистики текущего автора\n",
    "    tmp = df_train.groupby('cur_author')[['views', 'depth', 'full_reads_percent']].agg(['size', 'min', 'max', 'mean', 'std'])\n",
    "    tmp.columns = author_group_columns\n",
    "    tmp.reset_index(inplace = True)\n",
    "    tmp.drop(['author_size2', 'author_size3'], axis = 1, inplace = True)\n",
    "    \n",
    "    # сохраняем полученные статистики в DataFrame\n",
    "    df_author.loc[df_author.query('author == @el').index, author_columns[1:]] = tmp.query('cur_author == 1')[tmp.columns[1:]].values[0]\n",
    "    \n",
    "    \n",
    "    \n",
    "# для 2х неизвестных авторов из теста добавим их средними\n",
    "# правильнее бы добавить в функцию добавления статистки, а не в сам DataFrame\n",
    "# однако на данном этапе такой вариант нас более чем устроит\n",
    "#'5a2511349a794727e3fa3d20'\n",
    "#'57f766ae9a79479bfcfa0133'\n",
    "df_author.loc['mean'] = df_author.mean()\n",
    "df_author.loc['mean2'] = df_author.loc['mean']\n",
    "\n",
    "df_author.loc['mean', ['author']] = '5a2511349a794727e3fa3d20'\n",
    "df_author.loc['mean2', ['author']] = '57f766ae9a79479bfcfa0133'"
   ]
  },
  {
   "cell_type": "code",
   "execution_count": null,
   "id": "e74147b6-e70a-47ea-8e67-af368a051d3d",
   "metadata": {},
   "outputs": [],
   "source": [
    "df_author.to_csv(os.path.join(DIR_DATA, 'author_together.csv'), index = False)"
   ]
  },
  {
   "cell_type": "code",
   "execution_count": null,
   "id": "f42ca482-5d48-4f62-b930-e5d4ece3244b",
   "metadata": {},
   "outputs": [],
   "source": [
    "#df_author.tail()"
   ]
  },
  {
   "cell_type": "code",
   "execution_count": null,
   "id": "846bbc4c-13ae-4176-861b-c6bca5ad474d",
   "metadata": {},
   "outputs": [],
   "source": []
  },
  {
   "cell_type": "markdown",
   "id": "fdc2daaf-c52d-4cb3-a1fa-6779a8838797",
   "metadata": {},
   "source": [
    "Добавляем статистики по авторам в датасеты"
   ]
  },
  {
   "cell_type": "code",
   "execution_count": null,
   "id": "a9ae93ca-7769-46e1-b46b-185d907f5f96",
   "metadata": {},
   "outputs": [],
   "source": [
    "def add_author_statistics(inp_df):\n",
    "    \n",
    "    if len(inp_df[0]) == 0:  # заменяли на without_author так что не может быть\n",
    "        print(inp_Df)\n",
    "    elif len(inp_df[0]) == 1:\n",
    "        return df_author.loc[df_author.author == inp_df[0][0], \n",
    "                              author_columns[2:]\n",
    "                            ].values[0]\n",
    "    else:\n",
    "        ret_np  = np.zeros(shape = (len(author_columns[2:]),) )\n",
    "        divisor = len(inp_df[0])\n",
    "        \n",
    "        # если авторо больше одного будем выбират средние/мин/макс наченяи среди них\n",
    "        for el in inp_df[0]:\n",
    "            tmp = df_author[df_author.author == el]\n",
    "            ret_np = [ret_np[0]  + tmp.v_auth_min.values[0],\n",
    "                      ret_np[1]  + tmp.v_auth_max.values[0],\n",
    "                      ret_np[2]  + tmp.v_auth_mean.values[0],\n",
    "                      ret_np[3]  + tmp.v_auth_std.values[0],\n",
    "                      ret_np[4]  + tmp.d_auth_min.values[0],\n",
    "                      ret_np[5]  + tmp.d_auth_max.values[0],\n",
    "                      ret_np[6]  + tmp.d_auth_mean.values[0],\n",
    "                      ret_np[7]  + tmp.d_auth_std.values[0],\n",
    "                      ret_np[8]  + tmp.f_auth_min.values[0],\n",
    "                      ret_np[9]  + tmp.f_auth_max.values[0],\n",
    "                      ret_np[10] + tmp.f_auth_mean.values[0],\n",
    "                      ret_np[11] + tmp.f_auth_std.values[0]\n",
    "                     ]\n",
    "        #№ пока только среднее\n",
    "        ret_np = [ret_np[0]  / divisor,   # v_auth_min OR MIN\n",
    "                  ret_np[1]  / divisor,   # v_auth_max OR MAX\n",
    "                  ret_np[2]  / divisor,   # v_auth_mean\n",
    "                  ret_np[3]  / divisor,   # v_auth_std\n",
    "                  ret_np[4]  / divisor,   # d_auth_min OR MIN\n",
    "                  ret_np[5]  / divisor,   # d_auth_max OR MAX\n",
    "                  ret_np[6]  / divisor,   # d_auth_mean\n",
    "                  ret_np[7]  / divisor,   # d_auth_std\n",
    "                  ret_np[8]  / divisor,   # f_auth_min OR MIN\n",
    "                  ret_np[9]  / divisor,   # f_auth_max OR MAX\n",
    "                  ret_np[10] / divisor,   # f_auth_mean\n",
    "                  ret_np[11] / divisor,   # f_auth_std\n",
    "                 ]\n",
    "        \n",
    "    return ret_np"
   ]
  },
  {
   "cell_type": "code",
   "execution_count": null,
   "id": "00ecb3de-cfec-487f-893f-6bdf66584ff5",
   "metadata": {},
   "outputs": [],
   "source": [
    "# кроме полей author / author_size\n",
    "\n",
    "print('before', df_train.shape, df_test.shape)\n",
    "author_stats_train = df_train[['authors']].progress_apply(add_author_statistics, axis = 1)\n",
    "author_stats_test  = df_test[ ['authors']].progress_apply(add_author_statistics, axis = 1)\n",
    "\n",
    "#df_train = pd.concat([df_train, pd.DataFrame(author_stats_train.to_list(), columns = author_columns[2:])], axis = 1)\n",
    "#df_test  = pd.concat([df_test , pd.DataFrame(author_stats_test.to_list(),  columns = author_columns[2:])], axis = 1)\n",
    "print('after', df_train.shape, df_test.shape)"
   ]
  },
  {
   "cell_type": "code",
   "execution_count": null,
   "id": "ecf122a4-7283-4af2-a493-4756fb928506",
   "metadata": {},
   "outputs": [],
   "source": [
    "#clmns['authors']['num'].extend(author_columns[2:])"
   ]
  },
  {
   "cell_type": "code",
   "execution_count": null,
   "id": "54767dc3-75e3-491d-830c-60be27ce12f2",
   "metadata": {},
   "outputs": [],
   "source": []
  },
  {
   "cell_type": "code",
   "execution_count": null,
   "id": "d6677e5e-0c12-4689-9d04-e5c777926fce",
   "metadata": {},
   "outputs": [],
   "source": []
  },
  {
   "cell_type": "code",
   "execution_count": null,
   "id": "6733ce2d-21d6-4d37-8b54-e2ed3c9cf128",
   "metadata": {},
   "outputs": [],
   "source": []
  },
  {
   "cell_type": "markdown",
   "id": "809f01b0-998c-4508-bde1-dc6356354d3c",
   "metadata": {},
   "source": [
    "## ctr"
   ]
  },
  {
   "cell_type": "code",
   "execution_count": null,
   "id": "51b89e9d-98f0-4cf3-8663-5e850223ee4a",
   "metadata": {},
   "outputs": [],
   "source": []
  },
  {
   "cell_type": "markdown",
   "id": "a0c41832-2fd2-4fe6-ac60-2fc5dc762d20",
   "metadata": {},
   "source": [
    "## category"
   ]
  },
  {
   "cell_type": "markdown",
   "id": "f625d452-8cd5-4410-af35-17b5ab0cec8e",
   "metadata": {},
   "source": [
    "Собираем статистики по категориям"
   ]
  },
  {
   "cell_type": "code",
   "execution_count": null,
   "id": "2019036b-20a9-4d04-8647-3f802be36efa",
   "metadata": {},
   "outputs": [],
   "source": [
    "def create_daily_stats_by_category(inp_df: pd.DataFrame, max_lags: int = 7) -> pd.DataFrame:\n",
    "    \n",
    "    ret_df = inp_df[['publish_date', 'm_d', 'category', 'views', 'depth', 'full_reads_percent']].copy()\n",
    "    new_cols = ['cat_views_min', 'cat_views_max', 'cat_views_mean', 'cat_views_std',\n",
    "                'cat_depth_min', 'cat_depth_max', 'cat_depth_mean', 'cat_depth_std',\n",
    "                'cat_frp_min',   'cat_frp_max',   'cat_frp_mean',   'cat_frp_std',\n",
    "               ]\n",
    "    \n",
    "    ret_df.sort_values(by=['publish_date'], inplace = True)\n",
    "    ret_df = ret_df.groupby(['category', 'm_d'])['views', 'depth', 'full_reads_percent'].agg(('min', 'max', 'mean', 'std'))\n",
    "        \n",
    "    ret_df.columns = new_cols\n",
    "    ret_df = ret_df.reset_index()\n",
    "    #??????? only std\n",
    "    #ret_df.isnull().sum() > 0\n",
    "    ret_df.fillna(0, inplace = True)\n",
    "    \n",
    "    \n",
    "    for col, lag in  product(new_cols, list(range(max_lags))):\n",
    "        ret_df[f'{col}_lag{lag+1}'] = ret_df[col].shift(lag+1)\n",
    "        #????fillna\n",
    "        #ret_df[f'{col}_lag{lag+1}'].fillna('mean', inplace = True)\n",
    "        \n",
    "    return ret_df"
   ]
  },
  {
   "cell_type": "code",
   "execution_count": null,
   "id": "8b78db28-00cb-4006-91de-950c5f36f4d1",
   "metadata": {},
   "outputs": [],
   "source": [
    "daily_stats_category = create_daily_stats_by_category(df_train)\n",
    "daily_stats_category.to_csv(os.path.join(DIR_DATA, 'daily_stats_category.csv'), index = False)"
   ]
  },
  {
   "cell_type": "code",
   "execution_count": null,
   "id": "06faed46-e104-414c-901b-1c84d59f5647",
   "metadata": {},
   "outputs": [],
   "source": []
  },
  {
   "cell_type": "markdown",
   "id": "c97a7418-e6a6-4fee-aa95-9902562220cf",
   "metadata": {},
   "source": [
    "Добавляем статистики по категориям в датасеты"
   ]
  },
  {
   "cell_type": "code",
   "execution_count": null,
   "id": "1c07fee4-9b43-4ccc-b330-e3971e7b107b",
   "metadata": {},
   "outputs": [],
   "source": [
    "def add_daily_stats_category(inp_df:pd.DataFrame) -> pd.DataFrame:\n",
    "    \n",
    "    ret_df = inp_df.merge(daily_stats_category, on = ['category', 'm_d'], how = 'left', validate = 'many_to_one')\n",
    "    \n",
    "    \n",
    "    return ret_df"
   ]
  },
  {
   "cell_type": "code",
   "execution_count": null,
   "id": "95ada5f6-7a32-4e4d-8e3e-7f6fad02280e",
   "metadata": {},
   "outputs": [],
   "source": [
    "print('before ', df_train.shape, df_test.shape, 'add ', daily_stats_category.shape)\n",
    "df_train = add_daily_stats_category(df_train)\n",
    "df_test = add_daily_stats_category(df_test)\n",
    "print('after  ', df_train.shape, df_test.shape, )"
   ]
  },
  {
   "cell_type": "code",
   "execution_count": null,
   "id": "84fa71e7-c530-4da4-935c-c6b6d8af6a35",
   "metadata": {},
   "outputs": [],
   "source": [
    "clmns['category']['num'].extend(daily_stats_category.columns[2:])"
   ]
  },
  {
   "cell_type": "markdown",
   "id": "7ba08916-2ce6-462e-b442-2c6c6bcf10b2",
   "metadata": {},
   "source": [
    "Проверяем, что все данные есть в тесте"
   ]
  },
  {
   "cell_type": "code",
   "execution_count": null,
   "id": "201340b2-5f89-4257-8113-ad91b253da39",
   "metadata": {},
   "outputs": [],
   "source": [
    "#df_test[['cat_views_min', 'cat_views_max', 'cat_views_mean', 'cat_views_std',\n",
    "#                'cat_depth_min', 'cat_depth_max', 'cat_depth_mean', 'cat_depth_std',\n",
    "#               'cat_frp_min',   'cat_frp_max',   'cat_frp_mean',   'cat_frp_std',]].isnull().sum()\n",
    "df_test[daily_stats_category.columns[2:]].isnull().sum()"
   ]
  },
  {
   "cell_type": "markdown",
   "id": "c61fc93e-d6a5-4b7d-8a20-9ae511ae78a9",
   "metadata": {},
   "source": [
    "Значения в признаках с лагами могут отсутствовать"
   ]
  },
  {
   "cell_type": "code",
   "execution_count": null,
   "id": "80e7bc40-244b-490d-9b97-0b242ab507f9",
   "metadata": {},
   "outputs": [],
   "source": []
  },
  {
   "cell_type": "code",
   "execution_count": null,
   "id": "8188e5c0-551f-48e2-bbdd-df408909a427",
   "metadata": {},
   "outputs": [],
   "source": []
  },
  {
   "cell_type": "code",
   "execution_count": null,
   "id": "367da552-2621-4d7d-b158-7d338c49b13c",
   "metadata": {},
   "outputs": [],
   "source": []
  },
  {
   "cell_type": "markdown",
   "id": "136cf873-b7c3-457d-a564-ac30bf93a681",
   "metadata": {},
   "source": [
    "## tags"
   ]
  },
  {
   "cell_type": "code",
   "execution_count": null,
   "id": "247dda27-0b13-4cd8-bc2e-b155be2e7d25",
   "metadata": {},
   "outputs": [],
   "source": [
    "df_train['tags']  = df_train.tags.apply(lambda x: literal_eval(x))\n",
    "df_test['tags']   = df_test.tags.apply( lambda x: literal_eval(x))"
   ]
  },
  {
   "cell_type": "code",
   "execution_count": null,
   "id": "1669271c-d557-4f24-9c43-480d0dfaa233",
   "metadata": {},
   "outputs": [],
   "source": []
  },
  {
   "cell_type": "code",
   "execution_count": null,
   "id": "c520ad8a-370b-4fde-ab14-4dc28bd027e7",
   "metadata": {},
   "outputs": [],
   "source": []
  },
  {
   "cell_type": "markdown",
   "id": "01727832-2dcf-48bb-b4b4-cda9de5ecc45",
   "metadata": {},
   "source": [
    "## Предобработка признаков в датасетах"
   ]
  },
  {
   "cell_type": "markdown",
   "id": "c494b7f2-2869-42e2-b62b-966e11cef671",
   "metadata": {},
   "source": [
    "выделяем числовые признаки для нормализации"
   ]
  },
  {
   "cell_type": "code",
   "execution_count": null,
   "id": "438c364e-07e2-4722-bdc1-92805510cce8",
   "metadata": {},
   "outputs": [],
   "source": [
    "# исключаем из нормализации категориальные признаки\n",
    "# признаки, которые могут быть как категориальными, так и числовыми\n",
    "# так же нормализуем, т.к. после нормализации их 'количество категорий' не меняется\n",
    "cat_cols = []\n",
    "for el in clmns.keys():\n",
    "    cat_cols.extend(clmns[el]['cat'])\n",
    "\n",
    "\n",
    "num_cols = [el for el in df_test.columns.to_list() if el not in cat_cols]\n",
    "num_cols = [el for el in num_cols if el not in ['document_id', 'title', 'publish_date', 'm_d', 'session', 'authors', 'category', 'tags', \n",
    "                                                \n",
    "                                                'true_category', 'true_title', 'overview', \n",
    "                                                \n",
    "                                                'views_min', 'views_max', 'views_mean', 'views_std',   # not interested in the current day\n",
    "                                                'depth_min', 'depth_max', 'depth_mean', 'depth_std',   # not interested in the current day\n",
    "                                                'frp_min', 'frp_max', 'frp_mean', 'frp_std',           # not interested in the current day\n",
    "                                                \n",
    "                                                'cat_views_min', 'cat_views_max', 'cat_views_mean', 'cat_views_std',  # not interested in the current day\n",
    "                                                'cat_depth_min', 'cat_depth_max', 'cat_depth_mean', 'cat_depth_std',  # not interested in the current day\n",
    "                                                'cat_frp_min',   'cat_frp_max',   'cat_frp_mean',   'cat_frp_std',    # not interested in the current day\n",
    "                                                \n",
    "                                                'views', 'depth', 'full_reads_percent']]"
   ]
  },
  {
   "cell_type": "code",
   "execution_count": null,
   "id": "b946e364-a502-4b0f-99d1-c3dfea18e79c",
   "metadata": {},
   "outputs": [],
   "source": []
  },
  {
   "cell_type": "code",
   "execution_count": null,
   "id": "d3427c04-5f42-496e-a1ea-154c4343da1e",
   "metadata": {},
   "outputs": [],
   "source": [
    "for el in num_cols:\n",
    "    if el not in df_train.columns or el not in df_test.columns:\n",
    "        print(el)\n",
    "        \n",
    "for el in cat_cols:\n",
    "    if el not in df_train.columns or el not in df_test.columns:\n",
    "        print(el)"
   ]
  },
  {
   "cell_type": "markdown",
   "id": "db340078-8e72-4cce-a1e9-7acfae390f0a",
   "metadata": {},
   "source": [
    "нормализуем"
   ]
  },
  {
   "cell_type": "code",
   "execution_count": null,
   "id": "cf416a96-6750-452b-ba55-1120545774c3",
   "metadata": {},
   "outputs": [],
   "source": [
    "#scaler = preprocessing.MinMaxScaler()   #Transform features by scaling each feature to a given range.\n",
    "#scaler = preprocessing.Normalizer()     #Normalize samples individually to unit norm.\n",
    "scaler = preprocessing.StandardScaler()  #Standardize features by removing the mean and scaling to unit variance.\n",
    "\n",
    "scaler.fit(df_train[num_cols])\n",
    "\n",
    "df_train[num_cols] = scaler.transform(df_train[num_cols])\n",
    "df_test[num_cols]  = scaler.transform(df_test[num_cols])"
   ]
  },
  {
   "cell_type": "code",
   "execution_count": null,
   "id": "cde57a1b-caee-43c3-8106-93f7574ae183",
   "metadata": {},
   "outputs": [],
   "source": []
  },
  {
   "cell_type": "code",
   "execution_count": null,
   "id": "39ffdd7b-0473-40a1-9313-efe948ef8de8",
   "metadata": {},
   "outputs": [],
   "source": []
  },
  {
   "cell_type": "code",
   "execution_count": null,
   "id": "dfdddfe3-d27a-412e-b896-ff1a887ef04a",
   "metadata": {},
   "outputs": [],
   "source": []
  },
  {
   "cell_type": "markdown",
   "id": "04766e94-98c6-4255-9a53-bc5aa46d47b1",
   "metadata": {},
   "source": [
    "Добавляем эмбединги"
   ]
  },
  {
   "cell_type": "code",
   "execution_count": null,
   "id": "b7a79318-af7f-4fa8-bbe5-35ec2fd9aaae",
   "metadata": {},
   "outputs": [],
   "source": [
    "# sberbank-ai/sbert_large_mt_nlu_ru       1024  1.71Gb\n",
    "# DeepPavlov/rubert-base-cased-sentence   768   0.7Gb\n",
    "# DeepPavlov/rubert-base-cased-conversational  768\n",
    "# DeepPavlov/rubert-base-cased            768\n",
    "# sberbank-ai/sbert_large_nlu_ru          1024  1.71Gb\n",
    "\n",
    "MODEL_FOLDER = 'rubert-base-cased-sentence'\n",
    "MAX_LENGTH = 24"
   ]
  },
  {
   "cell_type": "raw",
   "id": "b3f2a3ac-36cc-4d92-be2d-8eecbbcb2afa",
   "metadata": {},
   "source": [
    "def add_ttle_embeding(inp_df: pd.DataFrame) -> pd.DataFrame:\n",
    "    \n",
    "    pass    \n",
    "    "
   ]
  },
  {
   "cell_type": "code",
   "execution_count": null,
   "id": "bf4a10d3-0920-487a-adbd-8311ee748a93",
   "metadata": {},
   "outputs": [],
   "source": [
    "emb_train = pd.read_csv(os.path.join(DIR_DATA, f'ttl_emb_train_{MODEL_FOLDER}_{MAX_LENGTH}.csv'))\n",
    "#emb_train.drop(['document_id', 'title'], axis = 1 , inplace = True)\n",
    "emb_train.drop(['title'], axis = 1 , inplace = True)\n",
    "\n",
    "df_train = df_train.merge(emb_train, on = 'document_id', validate = 'one_to_one')\n",
    "df_train.shape, emb_train.shape"
   ]
  },
  {
   "cell_type": "code",
   "execution_count": null,
   "id": "c768dd96-cfc7-4c89-903d-b04046d1e1f2",
   "metadata": {},
   "outputs": [],
   "source": [
    "emb_test = pd.read_csv(os.path.join(DIR_DATA, f'ttl_emb_test_{MODEL_FOLDER}_{MAX_LENGTH}.csv'))\n",
    "#emb_test.drop(['document_id', 'title'], axis = 1 , inplace = True)\n",
    "emb_test.drop(['title'], axis = 1 , inplace = True)\n",
    "\n",
    "df_test = df_test.merge(emb_test, on = 'document_id', validate = 'one_to_one')\n",
    "df_test.shape, emb_test.shape"
   ]
  },
  {
   "cell_type": "code",
   "execution_count": null,
   "id": "0a3fb1e7-1b33-4f13-bbef-8707b6af2bc5",
   "metadata": {},
   "outputs": [],
   "source": [
    "num_cols = num_cols + list(emb_train.columns)"
   ]
  },
  {
   "cell_type": "code",
   "execution_count": null,
   "id": "21e69b4c-2957-415b-bc4e-fa5f7f703f55",
   "metadata": {},
   "outputs": [],
   "source": [
    "if 'document_id' in num_cols:\n",
    "    num_cols.remove('document_id')"
   ]
  },
  {
   "cell_type": "code",
   "execution_count": null,
   "id": "26adfc18-7c1a-485c-a2da-f2e71eb4a264",
   "metadata": {},
   "outputs": [],
   "source": [
    "clmns['title']['num'].extend(emb_train.columns[1:])"
   ]
  },
  {
   "cell_type": "code",
   "execution_count": null,
   "id": "9393c3cb-f63e-4c8b-8713-69695581e3ff",
   "metadata": {},
   "outputs": [],
   "source": []
  },
  {
   "cell_type": "markdown",
   "id": "7cc64121-256c-45c2-bae6-45180a44ff3b",
   "metadata": {},
   "source": [
    "## train_test_split"
   ]
  },
  {
   "cell_type": "markdown",
   "id": "c6b949f4-0ed1-42fd-8504-08294255575e",
   "metadata": {},
   "source": [
    "вероятно лучше разделять до нормализации и категориальных энкодеров, что бы значения из валидационной выборки не были в учтены в тесте   \n",
    "однако, на первой итерации устроит и разбиение после всех преобразований"
   ]
  },
  {
   "cell_type": "code",
   "execution_count": null,
   "id": "b8950773-92bc-4f93-a60f-8f0dd3cd520d",
   "metadata": {},
   "outputs": [],
   "source": [
    "x_train, x_val = train_test_split(df_train, stratify = df_train['category'], test_size = 0.2)\n",
    "df_train.shape, x_train.shape, x_val.shape"
   ]
  },
  {
   "cell_type": "code",
   "execution_count": null,
   "id": "9ac27d63-a4ac-4c4d-bb76-61db444d9470",
   "metadata": {},
   "outputs": [],
   "source": []
  },
  {
   "cell_type": "markdown",
   "id": "252d3409-7429-4fdf-9e79-43ba84b0d727",
   "metadata": {},
   "source": [
    "## save"
   ]
  },
  {
   "cell_type": "code",
   "execution_count": null,
   "id": "119148f6-87af-4047-8a0d-ae74efa8b7ad",
   "metadata": {},
   "outputs": [],
   "source": [
    "df_test.shape, x_train.shape, x_val.shape, df_test.shape"
   ]
  },
  {
   "cell_type": "code",
   "execution_count": null,
   "id": "be0dbd1c-5b07-43fe-baf7-e4d7bcfaef7c",
   "metadata": {},
   "outputs": [],
   "source": [
    "df_train.to_csv(os.path.join( DIR_DATA, 'train_upd.csv'))\n",
    "df_test.to_csv(os.path.join( DIR_DATA,  'test_upd.csv'))\n",
    "x_train.to_csv(os.path.join(DIR_DATA,   'x_train.csv'))\n",
    "x_val.to_csv(os.path.join(DIR_DATA,     'x_val.csv'))\n"
   ]
  },
  {
   "cell_type": "code",
   "execution_count": null,
   "id": "6161b77b-5312-4bae-86b1-96a76da5901f",
   "metadata": {},
   "outputs": [],
   "source": [
    "with open(os.path.join(DIR_DATA, 'num_columns.pkl'), 'wb') as pickle_file:\n",
    "    pkl.dump(num_cols, pickle_file)"
   ]
  },
  {
   "cell_type": "code",
   "execution_count": null,
   "id": "b63b5549-cdb7-42ea-8909-bed1fd98e795",
   "metadata": {},
   "outputs": [],
   "source": [
    "with open(os.path.join(DIR_DATA, 'cat_columns.pkl'), 'wb') as pickle_file:\n",
    "    pkl.dump(cat_cols, pickle_file)"
   ]
  },
  {
   "cell_type": "code",
   "execution_count": null,
   "id": "db13180c-5188-4dfa-bbaa-a42ed582e61f",
   "metadata": {},
   "outputs": [],
   "source": [
    "with open(os.path.join(DIR_DATA, 'clmns.pkl'), 'wb') as pickle_file:\n",
    "    pkl.dump(clmns, pickle_file)"
   ]
  },
  {
   "cell_type": "code",
   "execution_count": null,
   "id": "fac1bb39-d9df-49f9-9ef0-4f17228443a9",
   "metadata": {},
   "outputs": [],
   "source": []
  },
  {
   "cell_type": "code",
   "execution_count": null,
   "id": "747baa53-ef7f-4074-918b-7911d78bac0a",
   "metadata": {},
   "outputs": [],
   "source": []
  },
  {
   "cell_type": "code",
   "execution_count": null,
   "id": "74ee0eaa-9dba-41cc-b612-d16298e8e3c7",
   "metadata": {},
   "outputs": [],
   "source": [
    "cat_cols"
   ]
  },
  {
   "cell_type": "code",
   "execution_count": null,
   "id": "4318445d-a44c-42e8-b13b-81c0572b352b",
   "metadata": {},
   "outputs": [],
   "source": [
    "print(num_cols)"
   ]
  },
  {
   "cell_type": "code",
   "execution_count": null,
   "id": "9abce378-b83d-431f-a6af-445c83033e3f",
   "metadata": {},
   "outputs": [],
   "source": []
  }
 ],
 "metadata": {
  "kernelspec": {
   "display_name": "Python 3",
   "language": "python",
   "name": "python3"
  },
  "language_info": {
   "codemirror_mode": {
    "name": "ipython",
    "version": 3
   },
   "file_extension": ".py",
   "mimetype": "text/x-python",
   "name": "python",
   "nbconvert_exporter": "python",
   "pygments_lexer": "ipython3",
   "version": "3.7.10"
  }
 },
 "nbformat": 4,
 "nbformat_minor": 5
}
