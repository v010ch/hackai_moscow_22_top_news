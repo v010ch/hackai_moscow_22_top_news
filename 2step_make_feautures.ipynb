{
 "cells": [
  {
   "cell_type": "code",
   "execution_count": 1,
   "id": "40e726ae-286d-4aba-85b1-13af34c9eca2",
   "metadata": {},
   "outputs": [],
   "source": [
    "import os\n",
    "import pickle as pkl\n",
    "\n",
    "import numpy as np\n",
    "import pandas as pd\n",
    "from itertools import product\n",
    "\n",
    "import category_encoders as ce\n",
    "from sklearn import preprocessing\n",
    "from sklearn.model_selection import train_test_split\n",
    "\n",
    "from ast import literal_eval\n",
    "\n",
    "from tqdm import tqdm\n",
    "tqdm.pandas()"
   ]
  },
  {
   "cell_type": "markdown",
   "id": "0daf7006-0f02-48cc-a9be-aec5b3df5b89",
   "metadata": {},
   "source": [
    "## Reproducibility block"
   ]
  },
  {
   "cell_type": "code",
   "execution_count": 2,
   "id": "d715fcc1-cd77-4e37-bf03-7d6c62ac3c0a",
   "metadata": {},
   "outputs": [],
   "source": [
    "# seed the RNG for all devices (both CPU and CUDA)\n",
    "#torch.manual_seed(1984)\n",
    "\n",
    "#Disabling the benchmarking feature causes cuDNN to deterministically select an algorithm, \n",
    "#possibly at the cost of reduced performance.\n",
    "#torch.backends.cudnn.benchmark = False\n",
    "\n",
    "# for custom operators,\n",
    "import random\n",
    "random.seed(5986721)\n",
    "\n",
    "# \n",
    "np.random.seed(62185)\n",
    "\n",
    "#sklearn take seed from a line abowe"
   ]
  },
  {
   "cell_type": "code",
   "execution_count": null,
   "id": "dda75999-7bd7-47f8-b4fd-6aac0562dde5",
   "metadata": {},
   "outputs": [],
   "source": []
  },
  {
   "cell_type": "code",
   "execution_count": 3,
   "id": "10c73d28-8eba-403c-9eb4-6cee5e76a593",
   "metadata": {},
   "outputs": [],
   "source": [
    "DIR_DATA  = os.path.join(os.getcwd(), 'data')"
   ]
  },
  {
   "cell_type": "markdown",
   "id": "dfee7f1b-6bf8-4e1b-8025-877ce98641b4",
   "metadata": {},
   "source": [
    "энкодеры для кодирования категориальных переменных. "
   ]
  },
  {
   "cell_type": "markdown",
   "id": "feb8f47d-1028-4b27-a094-01ef85da8601",
   "metadata": {},
   "source": [
    "но, например, для catboost не требуется такого кодирования, так что оригинальный признак так же останется в датасете,   \n",
    "а в модель будут передоваться признаки только через параметр features."
   ]
  },
  {
   "cell_type": "raw",
   "id": "f31874bf-4016-4add-9cf4-eec57e2dc70e",
   "metadata": {},
   "source": [
    "all_encoders = [ce.BackwardDifferenceEncoder(), \n",
    "ce.BaseNEncoder(), \n",
    "ce.BinaryEncoder(),\n",
    "ce.CatBoostEncoder(),\n",
    "ce.CountEncoder(),\n",
    "ce.GLMMEncoder(),\n",
    "ce.HashingEncoder(),\n",
    "ce.HelmertEncoder(),\n",
    "ce.JamesSteinEncoder(),\n",
    "ce.LeaveOneOutEncoder(),\n",
    "ce.MEstimateEncoder(),\n",
    "ce.OneHotEncoder(),\n",
    "ce.OrdinalEncoder(),\n",
    "ce.SumEncoder(),\n",
    "ce.PolynomialEncoder(),\n",
    "ce.TargetEncoder(),\n",
    "ce.WOEEncoder(),\n",
    "#ce.QuantileEncoder(),\n",
    "]"
   ]
  },
  {
   "cell_type": "code",
   "execution_count": null,
   "id": "79bc7a45-d159-4127-8ad7-a5e40e0cc3dc",
   "metadata": {},
   "outputs": [],
   "source": []
  },
  {
   "cell_type": "code",
   "execution_count": 4,
   "id": "324446e1-7bcb-4ad6-accc-6dc5eacb921c",
   "metadata": {},
   "outputs": [],
   "source": [
    "df_train = pd.read_csv(os.path.join(DIR_DATA, 'train.csv'))#, index_col= 0)\n",
    "df_test  = pd.read_csv(os.path.join(DIR_DATA, 'test.csv'))#, index_col= 0)\n",
    "\n",
    "df_train['publish_date'] = pd.to_datetime(df_train['publish_date'])\n",
    "df_test['publish_date']  = pd.to_datetime(df_test['publish_date'])"
   ]
  },
  {
   "cell_type": "code",
   "execution_count": 5,
   "id": "bee87a3c-d9dc-48c2-a4ce-c724785c9b43",
   "metadata": {},
   "outputs": [
    {
     "data": {
      "text/plain": [
       "((7000, 11), (3000, 8))"
      ]
     },
     "execution_count": 5,
     "metadata": {},
     "output_type": "execute_result"
    }
   ],
   "source": [
    "df_train.shape, df_test.shape"
   ]
  },
  {
   "cell_type": "code",
   "execution_count": null,
   "id": "d639e436-931d-4b14-9463-4197aab035b5",
   "metadata": {},
   "outputs": [],
   "source": []
  },
  {
   "cell_type": "code",
   "execution_count": null,
   "id": "4087f64a-a0a9-4ecf-b570-6ff5655af00f",
   "metadata": {},
   "outputs": [],
   "source": []
  },
  {
   "cell_type": "code",
   "execution_count": null,
   "id": "d323b9e5-02b2-4b6d-8f6c-0f10271673f0",
   "metadata": {},
   "outputs": [],
   "source": []
  },
  {
   "cell_type": "code",
   "execution_count": null,
   "id": "7296b2a6-5d3e-420e-91b0-d4d14f08a1fb",
   "metadata": {},
   "outputs": [],
   "source": []
  },
  {
   "cell_type": "code",
   "execution_count": null,
   "id": "bdb1a2b7-e60f-492e-9aa6-cf1456582820",
   "metadata": {},
   "outputs": [],
   "source": []
  },
  {
   "cell_type": "markdown",
   "id": "2967f281-1164-43df-9678-146877565bc8",
   "metadata": {},
   "source": [
    "## Очистка датасета"
   ]
  },
  {
   "cell_type": "markdown",
   "id": "5034fc71-4fd8-4ebd-8bbf-6457485f4c1a",
   "metadata": {},
   "source": [
    "этих категорий нет в тесте, а в трейне на них приходится всего 3 записи. они явно лишние.\n",
    "\n",
    "уберем статьи раньше минимальной даты в тесте. для начала так, дальше можно будет поиграться."
   ]
  },
  {
   "cell_type": "code",
   "execution_count": 6,
   "id": "a683054c-62c3-4f7e-b179-698648c862f2",
   "metadata": {},
   "outputs": [],
   "source": [
    "def clear_data(inp_df: pd.DataFrame, min_time: pd.Timestamp) -> pd.DataFrame:\n",
    "    \n",
    "    exclude_category = {'5e54e2089a7947f63a801742', '552e430f9a79475dd957f8b3', '5e54e22a9a7947f560081ea2' }\n",
    "    inp_df = inp_df.query('category not in @exclude_category')\n",
    "    print(f'shape after clean category {inp_df.shape}')\n",
    "    \n",
    "    inp_df = inp_df[inp_df.publish_date >= min_time]\n",
    "    print(f'shape after min time {inp_df.shape}')\n",
    "    \n",
    "    \n",
    "    if 'full_reads_percent' in inp_df.columns:\n",
    "        inp_df = inp_df.query('full_reads_percent < 100')\n",
    "        print(f'shape after frp time {inp_df.shape}')\n",
    "                              \n",
    "    \n",
    "    return inp_df"
   ]
  },
  {
   "cell_type": "code",
   "execution_count": 7,
   "id": "a62e0fbf-896e-4a49-9d83-77d614e0d9e9",
   "metadata": {},
   "outputs": [
    {
     "name": "stdout",
     "output_type": "stream",
     "text": [
      "shape after clean category (6997, 11)\n",
      "shape after min time (6989, 11)\n",
      "shape after frp time (6987, 11)\n"
     ]
    }
   ],
   "source": [
    "#min_test_time = df_test['publish_date'].min()\n",
    "#min_test_time = df_test['publish_date'].nsmallest(2).iloc[-1]\n",
    "min_test_time = pd.Timestamp('2022-01-01')\n",
    "\n",
    "df_train = clear_data(df_train, min_test_time)\n",
    "#df_test  = clear_data(df_test,  min_test_time)"
   ]
  },
  {
   "cell_type": "code",
   "execution_count": null,
   "id": "5b68554b-710a-4295-bf63-0e980a29ac48",
   "metadata": {},
   "outputs": [],
   "source": []
  },
  {
   "cell_type": "code",
   "execution_count": null,
   "id": "1608271f-2677-49a1-8a01-e48b0d21e127",
   "metadata": {},
   "outputs": [],
   "source": []
  },
  {
   "cell_type": "raw",
   "id": "9039eb28-11e3-43e1-831e-e3ec01e819d8",
   "metadata": {},
   "source": [
    "exclude_category = {'5e54e2089a7947f63a801742', '552e430f9a79475dd957f8b3', '5e54e22a9a7947f560081ea2' }\n",
    "df_train = df_train.query('category not in @exclude_category')\n",
    "df_train.shape"
   ]
  },
  {
   "cell_type": "raw",
   "id": "2bd5e4fa-673f-4b14-a76e-ea722a58f610",
   "metadata": {},
   "source": [
    "#min_time = pd.Timestamp('2021-05-17')\n",
    "min_time = df_test['publish_date'].min()\n",
    "\n",
    "df_train = df_train[df_train.publish_date > min_time]\n",
    "df_train.shape"
   ]
  },
  {
   "cell_type": "code",
   "execution_count": null,
   "id": "b5870a0e-1da7-46a6-81f2-5f194f91e3d1",
   "metadata": {},
   "outputs": [],
   "source": []
  },
  {
   "cell_type": "code",
   "execution_count": null,
   "id": "4c77405e-d1f0-407f-912c-4a6384d985b8",
   "metadata": {},
   "outputs": [],
   "source": []
  },
  {
   "cell_type": "code",
   "execution_count": null,
   "id": "39221aef-ad99-4b66-9bbf-5dbdf78be1fd",
   "metadata": {},
   "outputs": [],
   "source": []
  },
  {
   "cell_type": "markdown",
   "id": "c8e24525-69a0-440e-8104-11968190153f",
   "metadata": {},
   "source": [
    "## title"
   ]
  },
  {
   "cell_type": "code",
   "execution_count": null,
   "id": "cdcd2325-4015-44d6-89b9-5966b3810cf4",
   "metadata": {},
   "outputs": [],
   "source": []
  },
  {
   "cell_type": "markdown",
   "id": "fccb446c-352d-4871-94db-b85f9840f07a",
   "metadata": {},
   "source": [
    "## publish_date"
   ]
  },
  {
   "cell_type": "code",
   "execution_count": 8,
   "id": "492f5441-4158-4144-b546-863669e594ad",
   "metadata": {},
   "outputs": [],
   "source": [
    "def publish_date_features(inp_df: pd.DataFrame) -> pd.DataFrame:\n",
    "    \n",
    "    inp_df['m_d'] = inp_df['publish_date'].dt.date\n",
    "\n",
    "    inp_df['hour'] = inp_df['publish_date'].dt.hour\n",
    "    inp_df['dow']  = inp_df['publish_date'].dt.dayofweek\n",
    "    #Monday=0, Sunday=6\n",
    "    #inp_df['weekend'] = (inp_df.dow >= 4).astype(int) # 5\n",
    "    #inp_df['holidays']\n",
    "    inp_df['day']    = pd.to_datetime(inp_df['publish_date']).dt.strftime(\"%d\").astype(int)\n",
    "    inp_df['mounth'] = pd.to_datetime(inp_df['publish_date']).dt.strftime(\"%m\").astype(int)\n",
    "    \n",
    "    \n",
    "    return inp_df"
   ]
  },
  {
   "cell_type": "raw",
   "id": "f6a34f7c-c14c-4b64-9207-fdb3601b3bc7",
   "metadata": {},
   "source": [
    "df_train['m_d'] = df_train['publish_date'].dt.date\n",
    "\n",
    "df_train['hour'] = df_train['publish_date'].dt.hour\n",
    "df_train['dow']  = df_train['publish_date'].dt.dayofweek\n",
    "#Monday=0, Sunday=6\n",
    "df_train['weekend'] = (df_train.dow >= 4).astype(int) # 5\n",
    "#df_train['holidays']\n",
    "df_train['day']    = pd.to_datetime(df_train['publish_date']).dt.strftime(\"%d\").astype(int)\n",
    "df_train['mounth'] = pd.to_datetime(df_train['publish_date']).dt.strftime(\"%m\").astype(int)"
   ]
  },
  {
   "cell_type": "raw",
   "id": "d7783bf6-4126-4724-8dda-1336c8c02755",
   "metadata": {},
   "source": [
    "df_test['m_d'] = df_test['publish_date'].dt.date\n",
    "\n",
    "df_test['hour'] = df_test['publish_date'].dt.hour\n",
    "df_test['dow']  = df_test['publish_date'].dt.dayofweek\n",
    "#Monday=0, Sunday=6\n",
    "df_test['weekend'] = (df_test.dow >= 4).astype(int) # 5\n",
    "#df_train['holidays']\n",
    "df_test['day']    = pd.to_datetime(df_test['publish_date']).dt.strftime(\"%d\").astype(int)\n",
    "df_test['mounth'] = pd.to_datetime(df_test['publish_date']).dt.strftime(\"%m\").astype(int)"
   ]
  },
  {
   "cell_type": "code",
   "execution_count": null,
   "id": "9f5d6e93-f9e8-4c9d-b3ad-fb8abad4e3fc",
   "metadata": {},
   "outputs": [],
   "source": []
  },
  {
   "cell_type": "code",
   "execution_count": 9,
   "id": "d7bf1e7c-cd00-4263-b9e6-e3e2c88928dd",
   "metadata": {},
   "outputs": [],
   "source": [
    "df_train = publish_date_features(df_train)\n",
    "df_test  = publish_date_features(df_test)"
   ]
  },
  {
   "cell_type": "code",
   "execution_count": null,
   "id": "42e4694a-019d-4563-b50e-7fd467e617d3",
   "metadata": {},
   "outputs": [],
   "source": []
  },
  {
   "cell_type": "code",
   "execution_count": 10,
   "id": "6632adfd-e286-4a6a-b7a7-dadf6cf65968",
   "metadata": {},
   "outputs": [
    {
     "data": {
      "text/plain": [
       "0 days     6891\n",
       "1 days       93\n",
       "22 days       1\n",
       "5 days        1\n",
       "Name: m_d, dtype: int64"
      ]
     },
     "execution_count": 10,
     "metadata": {},
     "output_type": "execute_result"
    }
   ],
   "source": [
    "df_train.sort_values(by='m_d').m_d.diff().value_counts()"
   ]
  },
  {
   "cell_type": "code",
   "execution_count": null,
   "id": "e146b2b0-0160-47d2-94cf-ed2b32d8da2e",
   "metadata": {},
   "outputs": [],
   "source": []
  },
  {
   "cell_type": "code",
   "execution_count": null,
   "id": "66a5d104-926f-437a-9477-f888a4e00b86",
   "metadata": {},
   "outputs": [],
   "source": []
  },
  {
   "cell_type": "code",
   "execution_count": 11,
   "id": "45214f79-6e72-448d-8049-8187167b6de5",
   "metadata": {},
   "outputs": [],
   "source": [
    "def create_daily_stats(inp_df: pd.DataFrame, max_lags: int = 7) -> pd.DataFrame:\n",
    "    \n",
    "    ret_df = inp_df.sort_values(by='m_d').groupby('m_d')[['m_d', 'views', 'depth', 'full_reads_percent']].agg(['min', 'max', 'mean', 'std']).copy()\n",
    "    new_cols = ['views_min', 'views_max', 'views_mean', 'views_std',\n",
    "                'depth_min', 'depth_max', 'depth_mean', 'depth_std',\n",
    "                'frp_min',   'frp_max',   'frp_mean',   'frp_std',\n",
    "               ]\n",
    "    ret_df.columns = new_cols\n",
    "    ret_df = ret_df.reset_index()\n",
    "    #??????? only std\n",
    "    #ret_df.isnull().sum() > 0\n",
    "    ret_df.fillna(0, inplace = True)\n",
    "    \n",
    "    \n",
    "    for col, lag in  product(new_cols, list(range(max_lags))):\n",
    "        ret_df[f'{col}_lag{lag+1}'] = ret_df[col].shift(lag+1)\n",
    "        #????fillna\n",
    "        #ret_df[f'{col}_lag{lag+1}'].fillna('mean', inplace = True)\n",
    "    \n",
    "    return ret_df"
   ]
  },
  {
   "cell_type": "code",
   "execution_count": 12,
   "id": "9db2e27f-e129-43a4-92bf-087e3049652d",
   "metadata": {},
   "outputs": [],
   "source": [
    "daily_stats = create_daily_stats(df_train)"
   ]
  },
  {
   "cell_type": "code",
   "execution_count": 13,
   "id": "e968bcaa-76db-45b5-881d-d14efe1dd86b",
   "metadata": {},
   "outputs": [],
   "source": [
    "daily_stats.to_csv(os.path.join(DIR_DATA, 'dayly_stats.csv'), index = False)"
   ]
  },
  {
   "cell_type": "code",
   "execution_count": 14,
   "id": "187a5895-5470-4a2d-8d7b-e139b34b3305",
   "metadata": {},
   "outputs": [],
   "source": [
    "#daily_stats"
   ]
  },
  {
   "cell_type": "code",
   "execution_count": null,
   "id": "acdedccd-5ded-4d67-9261-73fb3003c133",
   "metadata": {},
   "outputs": [],
   "source": []
  },
  {
   "cell_type": "code",
   "execution_count": 15,
   "id": "685a44c6-375a-4c5e-a92d-d82ed85dee3c",
   "metadata": {},
   "outputs": [],
   "source": [
    "def add_daily_stats(inp_df:pd.DataFrame) -> pd.DataFrame:\n",
    "    \n",
    "    #ret_df = inp_df.merge(daily_stats, on = 'm_d', validate = 'many_to_one')\n",
    "    ret_df = inp_df.merge(daily_stats, on = 'm_d', how = 'left', validate = 'many_to_one')\n",
    "    \n",
    "    \n",
    "    return ret_df"
   ]
  },
  {
   "cell_type": "code",
   "execution_count": 16,
   "id": "af66509c-3085-4f2b-8605-bd67e8340066",
   "metadata": {},
   "outputs": [
    {
     "data": {
      "text/plain": [
       "((6987, 16), (96, 97))"
      ]
     },
     "execution_count": 16,
     "metadata": {},
     "output_type": "execute_result"
    }
   ],
   "source": [
    "df_train.shape, daily_stats.shape"
   ]
  },
  {
   "cell_type": "code",
   "execution_count": 17,
   "id": "96b7aafa-42ff-4052-8a04-d6e63d1c8c0e",
   "metadata": {},
   "outputs": [],
   "source": [
    "df_train = add_daily_stats(df_train)"
   ]
  },
  {
   "cell_type": "code",
   "execution_count": 18,
   "id": "4c97386e-2c77-4572-a47a-b3319021f480",
   "metadata": {},
   "outputs": [
    {
     "data": {
      "text/plain": [
       "(6987, 112)"
      ]
     },
     "execution_count": 18,
     "metadata": {},
     "output_type": "execute_result"
    }
   ],
   "source": [
    "df_train.shape"
   ]
  },
  {
   "cell_type": "code",
   "execution_count": 19,
   "id": "d10105ba-bd57-44c0-aa5e-401f3f3937df",
   "metadata": {},
   "outputs": [
    {
     "data": {
      "text/plain": [
       "(3000, 13)"
      ]
     },
     "execution_count": 19,
     "metadata": {},
     "output_type": "execute_result"
    }
   ],
   "source": [
    "df_test.shape"
   ]
  },
  {
   "cell_type": "code",
   "execution_count": 20,
   "id": "992e28bc-8e93-4b24-b39e-8afa36ba45f1",
   "metadata": {},
   "outputs": [],
   "source": [
    "df_test = add_daily_stats(df_test)"
   ]
  },
  {
   "cell_type": "code",
   "execution_count": 21,
   "id": "c633df72-aa37-410d-84e6-6546cb73ba81",
   "metadata": {},
   "outputs": [
    {
     "data": {
      "text/plain": [
       "(3000, 109)"
      ]
     },
     "execution_count": 21,
     "metadata": {},
     "output_type": "execute_result"
    }
   ],
   "source": [
    "df_test.shape"
   ]
  },
  {
   "cell_type": "raw",
   "id": "17716994-150d-4f2c-887a-e8a91da589d5",
   "metadata": {},
   "source": [
    "new_cols = ['views_min', 'views_max', 'views_mean', 'views_std',\n",
    "            'depth_min', 'depth_max', 'depth_mean', 'depth_std',\n",
    "            'frp_min',   'frp_max',   'frp_mean',   'frp_std',\n",
    "           ]\n",
    "#df_train[new_cols].isnull().sum()"
   ]
  },
  {
   "cell_type": "code",
   "execution_count": 22,
   "id": "7fe4552f-e958-4b34-9aa6-673425cba3f7",
   "metadata": {},
   "outputs": [
    {
     "data": {
      "text/plain": [
       "views_min     6\n",
       "views_max     6\n",
       "views_mean    6\n",
       "views_std     6\n",
       "depth_min     6\n",
       "depth_max     6\n",
       "depth_mean    6\n",
       "depth_std     6\n",
       "frp_min       6\n",
       "frp_max       6\n",
       "frp_mean      6\n",
       "frp_std       6\n",
       "dtype: int64"
      ]
     },
     "execution_count": 22,
     "metadata": {},
     "output_type": "execute_result"
    }
   ],
   "source": [
    "df_test[['views_min', 'views_max', 'views_mean', 'views_std',\n",
    "            'depth_min', 'depth_max', 'depth_mean', 'depth_std',\n",
    "            'frp_min',   'frp_max',   'frp_mean',   'frp_std']].isnull().sum()"
   ]
  },
  {
   "cell_type": "code",
   "execution_count": null,
   "id": "480d99ee-0174-41a9-abd5-14666d670eb3",
   "metadata": {},
   "outputs": [],
   "source": []
  },
  {
   "cell_type": "code",
   "execution_count": 23,
   "id": "6a9d4472-fd79-4db8-85fa-103bf4c04596",
   "metadata": {},
   "outputs": [],
   "source": [
    "#df_train.drop('publish_date', axis = 1, inplace = True)\n",
    "#df_test.drop('publish_date', axis = 1, inplace = True)"
   ]
  },
  {
   "cell_type": "code",
   "execution_count": null,
   "id": "864c75e8-54f7-40f9-9bec-ac6a74b5d7d1",
   "metadata": {},
   "outputs": [],
   "source": []
  },
  {
   "cell_type": "markdown",
   "id": "0325a77e-b14d-4ba1-b6c3-08918561f8a7",
   "metadata": {},
   "source": [
    "## session"
   ]
  },
  {
   "cell_type": "code",
   "execution_count": null,
   "id": "6bd8a217-23ce-4d79-a726-40f5e51b7fc2",
   "metadata": {},
   "outputs": [],
   "source": []
  },
  {
   "cell_type": "markdown",
   "id": "ec0a4b71-4077-468c-aea7-4d8593da13fc",
   "metadata": {},
   "source": [
    "## authors"
   ]
  },
  {
   "cell_type": "markdown",
   "id": "61ce0b6b-5419-4eca-b080-45bb9fb794b1",
   "metadata": {},
   "source": [
    "авторы считываются как строки, а не как массив строк. исправим."
   ]
  },
  {
   "cell_type": "code",
   "execution_count": 24,
   "id": "e65ff539-48c4-42b4-8d09-599dec297994",
   "metadata": {},
   "outputs": [],
   "source": [
    "df_train['authors']  = df_train.authors.apply(lambda x: literal_eval(x))\n",
    "df_test['authors']   = df_test.authors.apply( lambda x: literal_eval(x))"
   ]
  },
  {
   "cell_type": "code",
   "execution_count": 25,
   "id": "9a9b44ea-2970-4b41-9fb2-2a339aacc8d6",
   "metadata": {},
   "outputs": [],
   "source": [
    "df_train['authors'] = df_train['authors'].apply(lambda x: x if len(x) > 0 else ['without_author'])\n",
    "df_test['authors']  = df_test['authors'].apply( lambda x: x if len(x) > 0 else ['without_author'])"
   ]
  },
  {
   "cell_type": "code",
   "execution_count": null,
   "id": "f5d03fca-bf87-460d-a5fc-655e40540b50",
   "metadata": {},
   "outputs": [],
   "source": []
  },
  {
   "cell_type": "code",
   "execution_count": 26,
   "id": "3bb962bf-e87d-4bef-aee8-751af296081c",
   "metadata": {},
   "outputs": [],
   "source": [
    "all_authors = set()\n",
    "for el in df_train.authors.values:\n",
    "    if len (el) == 0:\n",
    "        continue\n",
    "    if len(el) == 1:\n",
    "        all_authors.add(el[0])\n",
    "        continue\n",
    "        \n",
    "    for author in el:\n",
    "        all_authors.add(author)"
   ]
  },
  {
   "cell_type": "code",
   "execution_count": 27,
   "id": "48970f9e-293d-4279-9e71-e25d575062a5",
   "metadata": {},
   "outputs": [],
   "source": [
    "#for el in df_train.loc[:5, ['document_id', 'authors']].values:\n",
    "#    print(el)"
   ]
  },
  {
   "cell_type": "markdown",
   "id": "81e6ba67-6954-4ff9-8873-46b7984495d9",
   "metadata": {},
   "source": [
    "Все статьи автора (с учетом совместных)"
   ]
  },
  {
   "cell_type": "code",
   "execution_count": 28,
   "id": "778d462f-7324-4e9c-bd56-5713b8fb6fb3",
   "metadata": {},
   "outputs": [
    {
     "name": "stderr",
     "output_type": "stream",
     "text": [
      "100%|██████████████████████████████████████████████████████████████████████████| 6987/6987 [00:00<00:00, 388205.09it/s]\n"
     ]
    }
   ],
   "source": [
    "auth_doc_id = {el: [] for el in all_authors}\n",
    "\n",
    "for el in tqdm(df_train.loc[:, ['document_id', 'authors']].values):\n",
    "    for athr in range(len(el[1])):\n",
    "        auth_doc_id[el[1][athr]].append(el[0])"
   ]
  },
  {
   "cell_type": "code",
   "execution_count": 29,
   "id": "422182ef-029c-4f10-bfd6-be7c7af7354d",
   "metadata": {},
   "outputs": [],
   "source": [
    "with open(os.path.join(DIR_DATA, 'authors_all.pkl'), 'wb') as pkl_file:\n",
    "    pkl.dump(auth_doc_id, pkl_file)"
   ]
  },
  {
   "cell_type": "markdown",
   "id": "39055cc8-db6d-484f-a233-ebaa95eef3b1",
   "metadata": {},
   "source": [
    "Статьи только автора (в одиночку)"
   ]
  },
  {
   "cell_type": "code",
   "execution_count": 30,
   "id": "595a8c1d-bc76-42dd-adb9-0511cd326a05",
   "metadata": {},
   "outputs": [
    {
     "name": "stderr",
     "output_type": "stream",
     "text": [
      "100%|██████████████████████████████████████████████████████████████████████████| 6987/6987 [00:00<00:00, 698967.30it/s]\n"
     ]
    }
   ],
   "source": [
    "auth_doc_id_alone = {el: [] for el in all_authors}\n",
    "\n",
    "for el in tqdm(df_train.loc[:, ['document_id', 'authors']].values):\n",
    "    if len(el[1]) == 1:\n",
    "        auth_doc_id_alone[el[1][0]].append(el[0])"
   ]
  },
  {
   "cell_type": "code",
   "execution_count": 31,
   "id": "9a59ea06-5f22-432d-9810-b1fb64e985be",
   "metadata": {},
   "outputs": [],
   "source": [
    "with open(os.path.join(DIR_DATA, 'authors_alone.pkl'), 'wb') as pkl_file:\n",
    "    pkl.dump(auth_doc_id_alone, pkl_file)"
   ]
  },
  {
   "cell_type": "code",
   "execution_count": null,
   "id": "c91c21ca-173b-43c2-a44b-d8a3522b9226",
   "metadata": {},
   "outputs": [],
   "source": []
  },
  {
   "cell_type": "code",
   "execution_count": null,
   "id": "6f1e1c68-05c1-4d81-81d1-759407dacfed",
   "metadata": {},
   "outputs": [],
   "source": []
  },
  {
   "cell_type": "markdown",
   "id": "809f01b0-998c-4508-bde1-dc6356354d3c",
   "metadata": {},
   "source": [
    "## ctr"
   ]
  },
  {
   "cell_type": "code",
   "execution_count": null,
   "id": "51b89e9d-98f0-4cf3-8663-5e850223ee4a",
   "metadata": {},
   "outputs": [],
   "source": []
  },
  {
   "cell_type": "markdown",
   "id": "a0c41832-2fd2-4fe6-ac60-2fc5dc762d20",
   "metadata": {},
   "source": [
    "## category"
   ]
  },
  {
   "cell_type": "code",
   "execution_count": 32,
   "id": "2019036b-20a9-4d04-8647-3f802be36efa",
   "metadata": {},
   "outputs": [],
   "source": [
    "def create_daily_stats_by_category(inp_df: pd.DataFrame, max_lags: int = 7) -> pd.DataFrame:\n",
    "    \n",
    "    ret_df = inp_df[['publish_date', 'm_d', 'category', 'views', 'depth', 'full_reads_percent']].copy()\n",
    "    new_cols = ['cat_views_min', 'cat_views_max', 'cat_views_mean', 'cat_views_std',\n",
    "                'cat_depth_min', 'cat_depth_max', 'cat_depth_mean', 'cat_depth_std',\n",
    "                'cat_frp_min',   'cat_frp_max',   'cat_frp_mean',   'cat_frp_std',\n",
    "               ]\n",
    "    \n",
    "    ret_df.sort_values(by=['publish_date'], inplace = True)\n",
    "    ret_df = ret_df.groupby(['category', 'm_d'])['views', 'depth', 'full_reads_percent'].agg(('min', 'max', 'mean', 'std'))\n",
    "        \n",
    "    ret_df.columns = new_cols\n",
    "    ret_df = ret_df.reset_index()\n",
    "    #??????? only std\n",
    "    #ret_df.isnull().sum() > 0\n",
    "    ret_df.fillna(0, inplace = True)\n",
    "    \n",
    "    \n",
    "    for col, lag in  product(new_cols, list(range(max_lags))):\n",
    "        ret_df[f'{col}_lag{lag+1}'] = ret_df[col].shift(lag+1)\n",
    "        #????fillna\n",
    "        #ret_df[f'{col}_lag{lag+1}'].fillna('mean', inplace = True)\n",
    "        \n",
    "    return ret_df"
   ]
  },
  {
   "cell_type": "code",
   "execution_count": 33,
   "id": "8b78db28-00cb-4006-91de-950c5f36f4d1",
   "metadata": {},
   "outputs": [
    {
     "name": "stderr",
     "output_type": "stream",
     "text": [
      "C:\\Users\\_v010ch_\\Anaconda3\\lib\\site-packages\\ipykernel_launcher.py:10: FutureWarning: Indexing with multiple keys (implicitly converted to a tuple of keys) will be deprecated, use a list instead.\n",
      "  # Remove the CWD from sys.path while we load stuff.\n"
     ]
    }
   ],
   "source": [
    "daily_stats_category = create_daily_stats_by_category(df_train)"
   ]
  },
  {
   "cell_type": "raw",
   "id": "b310569e-b49b-43f7-843a-e58c00c7656d",
   "metadata": {},
   "source": [
    "daily_stats_category = df_train[['document_id', 'publish_date', 'm_d', 'category', 'views', 'depth', 'full_reads_percent']].copy()\n",
    "daily_stats_category.sort_values(by=['category', 'publish_date'], inplace = True)\n",
    "\n",
    "daily_stats_category = daily_stats_category.groupby(['category', 'm_d'])['views', 'depth', 'full_reads_percent'].agg(('min', 'max', 'mean', 'std'))\n",
    "daily_stats_category.columns = new_cat\n",
    "\n",
    "daily_stats_category.reset_index(inplace = True)"
   ]
  },
  {
   "cell_type": "code",
   "execution_count": 34,
   "id": "5e12ba6b-f0c7-4349-90c9-c3d929872f85",
   "metadata": {},
   "outputs": [],
   "source": [
    "#daily_stats_category.head(10)"
   ]
  },
  {
   "cell_type": "code",
   "execution_count": 35,
   "id": "50d2290b-02fd-44a5-98a6-ed9d556cccd9",
   "metadata": {},
   "outputs": [],
   "source": [
    "#daily_stats_category.groupby('category').agg('size')"
   ]
  },
  {
   "cell_type": "code",
   "execution_count": 36,
   "id": "a4b1e401-a75c-42cb-b3b8-f4fe81ef4c33",
   "metadata": {},
   "outputs": [],
   "source": [
    "daily_stats_category.to_csv(os.path.join(DIR_DATA, 'daily_stats_category.csv'), index = False)"
   ]
  },
  {
   "cell_type": "code",
   "execution_count": null,
   "id": "1390fa17-e41d-4b30-b9f9-31fddab051fd",
   "metadata": {},
   "outputs": [],
   "source": []
  },
  {
   "cell_type": "code",
   "execution_count": null,
   "id": "06faed46-e104-414c-901b-1c84d59f5647",
   "metadata": {},
   "outputs": [],
   "source": []
  },
  {
   "cell_type": "code",
   "execution_count": 37,
   "id": "1c07fee4-9b43-4ccc-b330-e3971e7b107b",
   "metadata": {},
   "outputs": [],
   "source": [
    "def add_daily_stats_category(inp_df:pd.DataFrame) -> pd.DataFrame:\n",
    "    \n",
    "    ret_df = inp_df.merge(daily_stats_category, on = ['category', 'm_d'], how = 'left', validate = 'many_to_one')\n",
    "    \n",
    "    \n",
    "    return ret_df"
   ]
  },
  {
   "cell_type": "code",
   "execution_count": 38,
   "id": "95ada5f6-7a32-4e4d-8e3e-7f6fad02280e",
   "metadata": {},
   "outputs": [
    {
     "data": {
      "text/plain": [
       "((6987, 112), (512, 98))"
      ]
     },
     "execution_count": 38,
     "metadata": {},
     "output_type": "execute_result"
    }
   ],
   "source": [
    "df_train.shape, daily_stats_category.shape"
   ]
  },
  {
   "cell_type": "code",
   "execution_count": 39,
   "id": "5ec602da-539d-4e98-ad3c-77fc089f1db3",
   "metadata": {},
   "outputs": [],
   "source": [
    "df_train = add_daily_stats_category(df_train)"
   ]
  },
  {
   "cell_type": "code",
   "execution_count": 40,
   "id": "e7d23bd5-5d97-4543-974d-6ffbfc2dd001",
   "metadata": {},
   "outputs": [
    {
     "data": {
      "text/plain": [
       "(6987, 208)"
      ]
     },
     "execution_count": 40,
     "metadata": {},
     "output_type": "execute_result"
    }
   ],
   "source": [
    "df_train.shape"
   ]
  },
  {
   "cell_type": "code",
   "execution_count": 41,
   "id": "2458fa47-2c2e-4290-ab48-73d9a54a1ca8",
   "metadata": {},
   "outputs": [],
   "source": [
    "df_test = add_daily_stats_category(df_test)"
   ]
  },
  {
   "cell_type": "code",
   "execution_count": 42,
   "id": "201340b2-5f89-4257-8113-ad91b253da39",
   "metadata": {},
   "outputs": [
    {
     "data": {
      "text/plain": [
       "cat_views_min     33\n",
       "cat_views_max     33\n",
       "cat_views_mean    33\n",
       "cat_views_std     33\n",
       "cat_depth_min     33\n",
       "cat_depth_max     33\n",
       "cat_depth_mean    33\n",
       "cat_depth_std     33\n",
       "cat_frp_min       33\n",
       "cat_frp_max       33\n",
       "cat_frp_mean      33\n",
       "cat_frp_std       33\n",
       "dtype: int64"
      ]
     },
     "execution_count": 42,
     "metadata": {},
     "output_type": "execute_result"
    }
   ],
   "source": [
    "df_test[['cat_views_min', 'cat_views_max', 'cat_views_mean', 'cat_views_std',\n",
    "                'cat_depth_min', 'cat_depth_max', 'cat_depth_mean', 'cat_depth_std',\n",
    "                'cat_frp_min',   'cat_frp_max',   'cat_frp_mean',   'cat_frp_std',]].isnull().sum()"
   ]
  },
  {
   "cell_type": "code",
   "execution_count": null,
   "id": "43456de5-8a71-4d37-8b7d-e26ff085f8e0",
   "metadata": {},
   "outputs": [],
   "source": []
  },
  {
   "cell_type": "code",
   "execution_count": null,
   "id": "80e7bc40-244b-490d-9b97-0b242ab507f9",
   "metadata": {},
   "outputs": [],
   "source": []
  },
  {
   "cell_type": "markdown",
   "id": "136cf873-b7c3-457d-a564-ac30bf93a681",
   "metadata": {},
   "source": [
    "## tags"
   ]
  },
  {
   "cell_type": "code",
   "execution_count": 43,
   "id": "247dda27-0b13-4cd8-bc2e-b155be2e7d25",
   "metadata": {},
   "outputs": [],
   "source": [
    "df_train['tags']  = df_train.tags.apply(lambda x: literal_eval(x))\n",
    "df_test['tags']   = df_test.tags.apply( lambda x: literal_eval(x))"
   ]
  },
  {
   "cell_type": "code",
   "execution_count": null,
   "id": "1669271c-d557-4f24-9c43-480d0dfaa233",
   "metadata": {},
   "outputs": [],
   "source": []
  },
  {
   "cell_type": "code",
   "execution_count": null,
   "id": "9858d9c0-c8bb-4d3a-968e-75b6dd0d9158",
   "metadata": {},
   "outputs": [],
   "source": []
  },
  {
   "cell_type": "markdown",
   "id": "c494b7f2-2869-42e2-b62b-966e11cef671",
   "metadata": {},
   "source": [
    "разделяем категориальные и числовые признаки   \n",
    "числовые нормализуем"
   ]
  },
  {
   "cell_type": "code",
   "execution_count": 44,
   "id": "29d60ad3-b56b-47b9-9c9d-e74733b5e997",
   "metadata": {},
   "outputs": [],
   "source": [
    "#df_train.columns.to_list()"
   ]
  },
  {
   "cell_type": "code",
   "execution_count": 45,
   "id": "438c364e-07e2-4722-bdc1-92805510cce8",
   "metadata": {},
   "outputs": [],
   "source": [
    "cat_cols = ['hour', 'dow', 'day', 'mounth',\n",
    "           ]\n",
    "\n",
    "num_cols = [el for el in df_test.columns.to_list() if el not in cat_cols]\n",
    "num_cols = [el for el in num_cols if el not in ['document_id', 'title', 'publish_date', 'm_d', 'session', 'authors', 'category', 'tags', \n",
    "                                                \n",
    "                                                'views_min', 'views_max', 'views_mean', 'views_std',   # not interested in the current day\n",
    "                                                'depth_min', 'depth_max', 'depth_mean', 'depth_std',   # not interested in the current day\n",
    "                                                'frp_min', 'frp_max', 'frp_mean', 'frp_std',           # not interested in the current day\n",
    "                                                \n",
    "                                                'cat_views_min', 'cat_views_max', 'cat_views_mean', 'cat_views_std',  # not interested in the current day\n",
    "                                                'cat_depth_min', 'cat_depth_max', 'cat_depth_mean', 'cat_depth_std',  # not interested in the current day\n",
    "                                                'cat_frp_min',   'cat_frp_max',   'cat_frp_mean',   'cat_frp_std',    # not interested in the current day\n",
    "                                                \n",
    "                                                'views', 'depth', 'full_reads_percent']]"
   ]
  },
  {
   "cell_type": "code",
   "execution_count": 46,
   "id": "0b34814c-a58e-4f31-b1b7-f335ef9adcb7",
   "metadata": {},
   "outputs": [],
   "source": [
    "#num_cols"
   ]
  },
  {
   "cell_type": "code",
   "execution_count": 47,
   "id": "d3427c04-5f42-496e-a1ea-154c4343da1e",
   "metadata": {},
   "outputs": [],
   "source": [
    "for el in num_cols:\n",
    "    if el not in df_train.columns or el not in df_test.columns:\n",
    "        print(el)\n",
    "        \n",
    "for el in cat_cols:\n",
    "    if el not in df_train.columns or el not in df_test.columns:\n",
    "        print(el)"
   ]
  },
  {
   "cell_type": "markdown",
   "id": "db340078-8e72-4cce-a1e9-7acfae390f0a",
   "metadata": {},
   "source": [
    "## normalize"
   ]
  },
  {
   "cell_type": "code",
   "execution_count": 48,
   "id": "cf416a96-6750-452b-ba55-1120545774c3",
   "metadata": {},
   "outputs": [
    {
     "data": {
      "text/plain": [
       "StandardScaler()"
      ]
     },
     "execution_count": 48,
     "metadata": {},
     "output_type": "execute_result"
    }
   ],
   "source": [
    "#scaler = preprocessing.MinMaxScaler()   #Transform features by scaling each feature to a given range.\n",
    "#scaler = preprocessing.Normalizer()     #Normalize samples individually to unit norm.\n",
    "scaler = preprocessing.StandardScaler()  #Standardize features by removing the mean and scaling to unit variance.\n",
    "\n",
    "scaler.fit(df_train[num_cols])"
   ]
  },
  {
   "cell_type": "code",
   "execution_count": 49,
   "id": "6ca7d45f-5282-4296-a43c-762468aebd20",
   "metadata": {},
   "outputs": [],
   "source": [
    "#df_train[num_cols].head(5)"
   ]
  },
  {
   "cell_type": "code",
   "execution_count": 50,
   "id": "fce58a90-1ab5-46e3-9f14-db6a581f1b4c",
   "metadata": {},
   "outputs": [],
   "source": [
    "#df_test[num_cols].head(5)"
   ]
  },
  {
   "cell_type": "code",
   "execution_count": 51,
   "id": "0b133354-6e9b-4a1c-ae63-72c40a28a0c4",
   "metadata": {},
   "outputs": [],
   "source": [
    "df_train[num_cols] = scaler.transform(df_train[num_cols])\n",
    "df_test[num_cols]  = scaler.transform(df_test[num_cols])"
   ]
  },
  {
   "cell_type": "code",
   "execution_count": 52,
   "id": "9ce89b7a-443f-42d2-b51f-d3f1cee3484b",
   "metadata": {},
   "outputs": [],
   "source": [
    "#df_train[num_cols].head(5)"
   ]
  },
  {
   "cell_type": "code",
   "execution_count": 53,
   "id": "5e6ef5cd-9721-43d5-83ba-4cd4b03ebf78",
   "metadata": {},
   "outputs": [],
   "source": [
    "#df_test[num_cols].head(5)"
   ]
  },
  {
   "cell_type": "code",
   "execution_count": null,
   "id": "cde57a1b-caee-43c3-8106-93f7574ae183",
   "metadata": {},
   "outputs": [],
   "source": []
  },
  {
   "cell_type": "markdown",
   "id": "04766e94-98c6-4255-9a53-bc5aa46d47b1",
   "metadata": {},
   "source": [
    "Добавляем эмбединги"
   ]
  },
  {
   "cell_type": "code",
   "execution_count": 54,
   "id": "b7a79318-af7f-4fa8-bbe5-35ec2fd9aaae",
   "metadata": {},
   "outputs": [],
   "source": [
    "# sberbank-ai/sbert_large_mt_nlu_ru       1024  1.71Gb\n",
    "# DeepPavlov/rubert-base-cased-sentence   768   0.7Gb\n",
    "# DeepPavlov/rubert-base-cased-conversational  768\n",
    "# DeepPavlov/rubert-base-cased            768\n",
    "# sberbank-ai/sbert_large_nlu_ru          1024  1.71Gb\n",
    "\n",
    "MODEL_FOLDER = 'sbert_large_mt_nlu_ru'\n",
    "MAX_LENGTH = 24"
   ]
  },
  {
   "cell_type": "raw",
   "id": "b3f2a3ac-36cc-4d92-be2d-8eecbbcb2afa",
   "metadata": {},
   "source": [
    "def add_ttle_embeding(inp_df: pd.DataFrame) -> pd.DataFrame:\n",
    "    \n",
    "    pass    \n",
    "    "
   ]
  },
  {
   "cell_type": "code",
   "execution_count": 55,
   "id": "bf4a10d3-0920-487a-adbd-8311ee748a93",
   "metadata": {},
   "outputs": [
    {
     "data": {
      "text/plain": [
       "((6987, 1232), (7000, 1025))"
      ]
     },
     "execution_count": 55,
     "metadata": {},
     "output_type": "execute_result"
    }
   ],
   "source": [
    "emb_train = pd.read_csv(os.path.join(DIR_DATA, f'ttl_emb_train_{MODEL_FOLDER}_{MAX_LENGTH}.csv'))\n",
    "#emb_train.drop(['document_id', 'title'], axis = 1 , inplace = True)\n",
    "emb_train.drop(['title'], axis = 1 , inplace = True)\n",
    "\n",
    "df_train = df_train.merge(emb_train, on = 'document_id', validate = 'one_to_one')\n",
    "df_train.shape, emb_train.shape"
   ]
  },
  {
   "cell_type": "code",
   "execution_count": 56,
   "id": "c768dd96-cfc7-4c89-903d-b04046d1e1f2",
   "metadata": {},
   "outputs": [
    {
     "data": {
      "text/plain": [
       "((3000, 1229), (3000, 1025))"
      ]
     },
     "execution_count": 56,
     "metadata": {},
     "output_type": "execute_result"
    }
   ],
   "source": [
    "emb_test = pd.read_csv(os.path.join(DIR_DATA, f'ttl_emb_test_{MODEL_FOLDER}_{MAX_LENGTH}.csv'))\n",
    "#emb_test.drop(['document_id', 'title'], axis = 1 , inplace = True)\n",
    "emb_test.drop(['title'], axis = 1 , inplace = True)\n",
    "\n",
    "df_test = df_test.merge(emb_test, on = 'document_id', validate = 'one_to_one')\n",
    "df_test.shape, emb_test.shape"
   ]
  },
  {
   "cell_type": "code",
   "execution_count": 57,
   "id": "0a3fb1e7-1b33-4f13-bbef-8707b6af2bc5",
   "metadata": {},
   "outputs": [],
   "source": [
    "num_cols = num_cols + list(emb_train.columns)"
   ]
  },
  {
   "cell_type": "code",
   "execution_count": 58,
   "id": "21e69b4c-2957-415b-bc4e-fa5f7f703f55",
   "metadata": {},
   "outputs": [],
   "source": [
    "if 'document_id' in num_cols:\n",
    "    num_cols.remove('document_id')"
   ]
  },
  {
   "cell_type": "code",
   "execution_count": null,
   "id": "9393c3cb-f63e-4c8b-8713-69695581e3ff",
   "metadata": {},
   "outputs": [],
   "source": []
  },
  {
   "cell_type": "markdown",
   "id": "7cc64121-256c-45c2-bae6-45180a44ff3b",
   "metadata": {},
   "source": [
    "## train_test_split"
   ]
  },
  {
   "cell_type": "markdown",
   "id": "c6b949f4-0ed1-42fd-8504-08294255575e",
   "metadata": {},
   "source": [
    "вероятно лучше разделять до нормализации и категориальных энкодеров, что бы значения из валидационной выборки не были в учтены в тесте   \n",
    "однако, на первой итерации устроит и разбиение после всех преобразований"
   ]
  },
  {
   "cell_type": "code",
   "execution_count": 59,
   "id": "b8950773-92bc-4f93-a60f-8f0dd3cd520d",
   "metadata": {},
   "outputs": [
    {
     "data": {
      "text/plain": [
       "((6987, 1232), (5589, 1232), (1398, 1232))"
      ]
     },
     "execution_count": 59,
     "metadata": {},
     "output_type": "execute_result"
    }
   ],
   "source": [
    "x_train, x_val = train_test_split(df_train, stratify = df_train['category'], test_size = 0.2)\n",
    "df_train.shape, x_train.shape, x_val.shape"
   ]
  },
  {
   "cell_type": "code",
   "execution_count": null,
   "id": "9ac27d63-a4ac-4c4d-bb76-61db444d9470",
   "metadata": {},
   "outputs": [],
   "source": []
  },
  {
   "cell_type": "markdown",
   "id": "252d3409-7429-4fdf-9e79-43ba84b0d727",
   "metadata": {},
   "source": [
    "## save"
   ]
  },
  {
   "cell_type": "code",
   "execution_count": 60,
   "id": "119148f6-87af-4047-8a0d-ae74efa8b7ad",
   "metadata": {},
   "outputs": [
    {
     "data": {
      "text/plain": [
       "(3000, 1229)"
      ]
     },
     "execution_count": 60,
     "metadata": {},
     "output_type": "execute_result"
    }
   ],
   "source": [
    "df_test.shape"
   ]
  },
  {
   "cell_type": "code",
   "execution_count": 61,
   "id": "be0dbd1c-5b07-43fe-baf7-e4d7bcfaef7c",
   "metadata": {},
   "outputs": [],
   "source": [
    "x_train.to_csv(os.path.join(DIR_DATA,  'x_train.csv'))\n",
    "x_val.to_csv(os.path.join(DIR_DATA,    'x_val.csv'))\n",
    "df_test.to_csv(os.path.join( DIR_DATA, 'test_upd.csv'))"
   ]
  },
  {
   "cell_type": "code",
   "execution_count": 62,
   "id": "6161b77b-5312-4bae-86b1-96a76da5901f",
   "metadata": {},
   "outputs": [],
   "source": [
    "with open(os.path.join(DIR_DATA, 'num_columns.pkl'), 'wb') as pickle_file:\n",
    "    pkl.dump(num_cols, pickle_file)"
   ]
  },
  {
   "cell_type": "code",
   "execution_count": 63,
   "id": "b63b5549-cdb7-42ea-8909-bed1fd98e795",
   "metadata": {},
   "outputs": [],
   "source": [
    "with open(os.path.join(DIR_DATA, 'cat_columns.pkl'), 'wb') as pickle_file:\n",
    "    pkl.dump(cat_cols, pickle_file)"
   ]
  },
  {
   "cell_type": "code",
   "execution_count": 64,
   "id": "fac1bb39-d9df-49f9-9ef0-4f17228443a9",
   "metadata": {},
   "outputs": [],
   "source": [
    "#df_test.columns"
   ]
  },
  {
   "cell_type": "code",
   "execution_count": null,
   "id": "747baa53-ef7f-4074-918b-7911d78bac0a",
   "metadata": {},
   "outputs": [],
   "source": []
  },
  {
   "cell_type": "code",
   "execution_count": null,
   "id": "74ee0eaa-9dba-41cc-b612-d16298e8e3c7",
   "metadata": {},
   "outputs": [],
   "source": []
  }
 ],
 "metadata": {
  "kernelspec": {
   "display_name": "Python 3",
   "language": "python",
   "name": "python3"
  },
  "language_info": {
   "codemirror_mode": {
    "name": "ipython",
    "version": 3
   },
   "file_extension": ".py",
   "mimetype": "text/x-python",
   "name": "python",
   "nbconvert_exporter": "python",
   "pygments_lexer": "ipython3",
   "version": "3.7.10"
  }
 },
 "nbformat": 4,
 "nbformat_minor": 5
}
