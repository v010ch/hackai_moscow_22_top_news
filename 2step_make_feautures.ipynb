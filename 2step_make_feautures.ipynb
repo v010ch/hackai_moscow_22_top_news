{
 "cells": [
  {
   "cell_type": "code",
   "execution_count": 1,
   "id": "40e726ae-286d-4aba-85b1-13af34c9eca2",
   "metadata": {},
   "outputs": [],
   "source": [
    "import os\n",
    "import pickle as pkl\n",
    "\n",
    "import numpy as np\n",
    "import pandas as pd\n",
    "import category_encoders as ce\n",
    "from sklearn import preprocessing\n",
    "from sklearn.model_selection import train_test_split\n",
    "\n",
    "from ast import literal_eval"
   ]
  },
  {
   "cell_type": "markdown",
   "id": "0daf7006-0f02-48cc-a9be-aec5b3df5b89",
   "metadata": {},
   "source": [
    "## Reproducibility block"
   ]
  },
  {
   "cell_type": "code",
   "execution_count": 2,
   "id": "d715fcc1-cd77-4e37-bf03-7d6c62ac3c0a",
   "metadata": {},
   "outputs": [],
   "source": [
    "# seed the RNG for all devices (both CPU and CUDA)\n",
    "#torch.manual_seed(1984)\n",
    "\n",
    "#Disabling the benchmarking feature causes cuDNN to deterministically select an algorithm, \n",
    "#possibly at the cost of reduced performance.\n",
    "#torch.backends.cudnn.benchmark = False\n",
    "\n",
    "# for custom operators,\n",
    "import random\n",
    "random.seed(5986721)\n",
    "\n",
    "# \n",
    "np.random.seed(62185)\n",
    "\n",
    "#sklearn take seed from a line abowe"
   ]
  },
  {
   "cell_type": "code",
   "execution_count": null,
   "id": "dda75999-7bd7-47f8-b4fd-6aac0562dde5",
   "metadata": {},
   "outputs": [],
   "source": []
  },
  {
   "cell_type": "code",
   "execution_count": 3,
   "id": "10c73d28-8eba-403c-9eb4-6cee5e76a593",
   "metadata": {},
   "outputs": [],
   "source": [
    "DIR_DATA  = os.path.join(os.getcwd(), 'data')"
   ]
  },
  {
   "cell_type": "markdown",
   "id": "dfee7f1b-6bf8-4e1b-8025-877ce98641b4",
   "metadata": {},
   "source": [
    "энкодеры для кодирования категориальных переменных. "
   ]
  },
  {
   "cell_type": "markdown",
   "id": "feb8f47d-1028-4b27-a094-01ef85da8601",
   "metadata": {},
   "source": [
    "но, например, для catboost не требуетмся такого кодирования, так что оригинальный признак так же останется в датасете,   \n",
    "а в модель будут передоваться признаки только через параметр features."
   ]
  },
  {
   "cell_type": "raw",
   "id": "f31874bf-4016-4add-9cf4-eec57e2dc70e",
   "metadata": {},
   "source": [
    "all_encoders = [ce.BackwardDifferenceEncoder(), \n",
    "ce.BaseNEncoder(), \n",
    "ce.BinaryEncoder(),\n",
    "ce.CatBoostEncoder(),\n",
    "ce.CountEncoder(),\n",
    "ce.GLMMEncoder(),\n",
    "ce.HashingEncoder(),\n",
    "ce.HelmertEncoder(),\n",
    "ce.JamesSteinEncoder(),\n",
    "ce.LeaveOneOutEncoder(),\n",
    "ce.MEstimateEncoder(),\n",
    "ce.OneHotEncoder(),\n",
    "ce.OrdinalEncoder(),\n",
    "ce.SumEncoder(),\n",
    "ce.PolynomialEncoder(),\n",
    "ce.TargetEncoder(),\n",
    "ce.WOEEncoder(),\n",
    "#ce.QuantileEncoder(),\n",
    "]"
   ]
  },
  {
   "cell_type": "code",
   "execution_count": null,
   "id": "79bc7a45-d159-4127-8ad7-a5e40e0cc3dc",
   "metadata": {},
   "outputs": [],
   "source": []
  },
  {
   "cell_type": "code",
   "execution_count": 4,
   "id": "324446e1-7bcb-4ad6-accc-6dc5eacb921c",
   "metadata": {},
   "outputs": [],
   "source": [
    "df_train = pd.read_csv(os.path.join(DIR_DATA, 'train.csv'), index_col= 0)\n",
    "df_test  = pd.read_csv(os.path.join(DIR_DATA, 'test.csv'), index_col= 0)"
   ]
  },
  {
   "cell_type": "code",
   "execution_count": 5,
   "id": "bee87a3c-d9dc-48c2-a4ce-c724785c9b43",
   "metadata": {},
   "outputs": [
    {
     "data": {
      "text/plain": [
       "((7000, 10), (3000, 7))"
      ]
     },
     "execution_count": 5,
     "metadata": {},
     "output_type": "execute_result"
    }
   ],
   "source": [
    "df_train.shape, df_test.shape"
   ]
  },
  {
   "cell_type": "code",
   "execution_count": null,
   "id": "d639e436-931d-4b14-9463-4197aab035b5",
   "metadata": {},
   "outputs": [],
   "source": []
  },
  {
   "cell_type": "code",
   "execution_count": 6,
   "id": "7296b2a6-5d3e-420e-91b0-d4d14f08a1fb",
   "metadata": {},
   "outputs": [],
   "source": [
    "df_train['publish_date'] = pd.to_datetime(df_train['publish_date'])\n",
    "df_test['publish_date']  = pd.to_datetime(df_test['publish_date'])"
   ]
  },
  {
   "cell_type": "code",
   "execution_count": null,
   "id": "bdb1a2b7-e60f-492e-9aa6-cf1456582820",
   "metadata": {},
   "outputs": [],
   "source": []
  },
  {
   "cell_type": "markdown",
   "id": "2967f281-1164-43df-9678-146877565bc8",
   "metadata": {},
   "source": [
    "## Очистка датасета"
   ]
  },
  {
   "cell_type": "markdown",
   "id": "5034fc71-4fd8-4ebd-8bbf-6457485f4c1a",
   "metadata": {},
   "source": [
    "этих категорий нет в тесте, а в трейне на них приходится всего 3 записи. они явно лишние."
   ]
  },
  {
   "cell_type": "code",
   "execution_count": 7,
   "id": "1608271f-2677-49a1-8a01-e48b0d21e127",
   "metadata": {},
   "outputs": [],
   "source": [
    "exclude_category = {'5e54e2089a7947f63a801742', '552e430f9a79475dd957f8b3', '5e54e22a9a7947f560081ea2' }"
   ]
  },
  {
   "cell_type": "code",
   "execution_count": 8,
   "id": "6f9bd29c-0768-485f-88c9-428dd3003cec",
   "metadata": {},
   "outputs": [
    {
     "data": {
      "text/plain": [
       "(6997, 10)"
      ]
     },
     "execution_count": 8,
     "metadata": {},
     "output_type": "execute_result"
    }
   ],
   "source": [
    "df_train = df_train.query('category not in @exclude_category')\n",
    "df_train.shape"
   ]
  },
  {
   "cell_type": "markdown",
   "id": "d2ec3c8c-b8c1-4f70-866d-23eef54c2861",
   "metadata": {},
   "source": [
    "уберем статьи раньше минимальной даты в тесте. для начала так, дальше можно будет поиграться."
   ]
  },
  {
   "cell_type": "code",
   "execution_count": 9,
   "id": "45d6f4bd-c7c4-48a7-adf8-53c6c315a4d2",
   "metadata": {},
   "outputs": [],
   "source": [
    "#min_time = pd.Timestamp('2021-05-17')\n",
    "min_time = df_test['publish_date'].min()"
   ]
  },
  {
   "cell_type": "code",
   "execution_count": 10,
   "id": "3a99719c-fa28-447f-b68f-ba54b6c03a13",
   "metadata": {},
   "outputs": [
    {
     "data": {
      "text/plain": [
       "(6991, 10)"
      ]
     },
     "execution_count": 10,
     "metadata": {},
     "output_type": "execute_result"
    }
   ],
   "source": [
    "df_train = df_train[df_train.publish_date > min_time]\n",
    "df_train.shape"
   ]
  },
  {
   "cell_type": "code",
   "execution_count": null,
   "id": "b5870a0e-1da7-46a6-81f2-5f194f91e3d1",
   "metadata": {},
   "outputs": [],
   "source": []
  },
  {
   "cell_type": "code",
   "execution_count": null,
   "id": "4c77405e-d1f0-407f-912c-4a6384d985b8",
   "metadata": {},
   "outputs": [],
   "source": []
  },
  {
   "cell_type": "code",
   "execution_count": null,
   "id": "39221aef-ad99-4b66-9bbf-5dbdf78be1fd",
   "metadata": {},
   "outputs": [],
   "source": []
  },
  {
   "cell_type": "markdown",
   "id": "c8e24525-69a0-440e-8104-11968190153f",
   "metadata": {},
   "source": [
    "## title"
   ]
  },
  {
   "cell_type": "code",
   "execution_count": null,
   "id": "cdcd2325-4015-44d6-89b9-5966b3810cf4",
   "metadata": {},
   "outputs": [],
   "source": []
  },
  {
   "cell_type": "markdown",
   "id": "fccb446c-352d-4871-94db-b85f9840f07a",
   "metadata": {},
   "source": [
    "## publish_date"
   ]
  },
  {
   "cell_type": "code",
   "execution_count": 11,
   "id": "109a94f6-d8cf-4df7-9094-b3edcb919823",
   "metadata": {},
   "outputs": [],
   "source": [
    "df_train['hour'] = df_train['publish_date'].dt.hour\n",
    "df_train['dow']  = df_train['publish_date'].dt.dayofweek\n",
    "#Monday=0, Sunday=6\n",
    "df_train['weekend'] = (df_train.dow >= 4).astype(int) # 5\n",
    "#df_train['holidays']\n",
    "df_train['day']    = pd.to_datetime(df_train['publish_date']).dt.strftime(\"%d\").astype(int)\n",
    "df_train['mounth'] = pd.to_datetime(df_train['publish_date']).dt.strftime(\"%m\").astype(int)"
   ]
  },
  {
   "cell_type": "code",
   "execution_count": 12,
   "id": "b90bf240-290d-4024-89bc-bb81a096b785",
   "metadata": {},
   "outputs": [],
   "source": [
    "df_test['hour'] = df_test['publish_date'].dt.hour\n",
    "df_test['dow']  = df_test['publish_date'].dt.dayofweek\n",
    "#Monday=0, Sunday=6\n",
    "df_test['weekend'] = (df_test.dow >= 4).astype(int) # 5\n",
    "#df_train['holidays']\n",
    "df_test['day']    = pd.to_datetime(df_test['publish_date']).dt.strftime(\"%d\").astype(int)\n",
    "df_test['mounth'] = pd.to_datetime(df_test['publish_date']).dt.strftime(\"%m\").astype(int)"
   ]
  },
  {
   "cell_type": "code",
   "execution_count": null,
   "id": "d7bf1e7c-cd00-4263-b9e6-e3e2c88928dd",
   "metadata": {},
   "outputs": [],
   "source": []
  },
  {
   "cell_type": "code",
   "execution_count": 13,
   "id": "6a9d4472-fd79-4db8-85fa-103bf4c04596",
   "metadata": {},
   "outputs": [],
   "source": [
    "df_train.drop('publish_date', axis = 1, inplace = True)\n",
    "df_test.drop('publish_date', axis = 1, inplace = True)"
   ]
  },
  {
   "cell_type": "code",
   "execution_count": null,
   "id": "864c75e8-54f7-40f9-9bec-ac6a74b5d7d1",
   "metadata": {},
   "outputs": [],
   "source": []
  },
  {
   "cell_type": "markdown",
   "id": "0325a77e-b14d-4ba1-b6c3-08918561f8a7",
   "metadata": {},
   "source": [
    "## session"
   ]
  },
  {
   "cell_type": "code",
   "execution_count": null,
   "id": "6bd8a217-23ce-4d79-a726-40f5e51b7fc2",
   "metadata": {},
   "outputs": [],
   "source": []
  },
  {
   "cell_type": "markdown",
   "id": "ec0a4b71-4077-468c-aea7-4d8593da13fc",
   "metadata": {},
   "source": [
    "## authors"
   ]
  },
  {
   "cell_type": "markdown",
   "id": "61ce0b6b-5419-4eca-b080-45bb9fb794b1",
   "metadata": {},
   "source": [
    "авторы считываются как строки, а не как массив строк. исправим."
   ]
  },
  {
   "cell_type": "code",
   "execution_count": 14,
   "id": "e65ff539-48c4-42b4-8d09-599dec297994",
   "metadata": {},
   "outputs": [],
   "source": [
    "df_train['authors']  = df_train.authors.apply(lambda x: literal_eval(x))\n",
    "df_test['authors']   = df_test.authors.apply( lambda x: literal_eval(x))"
   ]
  },
  {
   "cell_type": "code",
   "execution_count": null,
   "id": "3bb962bf-e87d-4bef-aee8-751af296081c",
   "metadata": {},
   "outputs": [],
   "source": []
  },
  {
   "cell_type": "code",
   "execution_count": null,
   "id": "778d462f-7324-4e9c-bd56-5713b8fb6fb3",
   "metadata": {},
   "outputs": [],
   "source": []
  },
  {
   "cell_type": "code",
   "execution_count": null,
   "id": "3bdb214e-7509-450d-b83c-1914bb536ca1",
   "metadata": {},
   "outputs": [],
   "source": []
  },
  {
   "cell_type": "markdown",
   "id": "809f01b0-998c-4508-bde1-dc6356354d3c",
   "metadata": {},
   "source": [
    "## ctr"
   ]
  },
  {
   "cell_type": "code",
   "execution_count": null,
   "id": "51b89e9d-98f0-4cf3-8663-5e850223ee4a",
   "metadata": {},
   "outputs": [],
   "source": []
  },
  {
   "cell_type": "markdown",
   "id": "a0c41832-2fd2-4fe6-ac60-2fc5dc762d20",
   "metadata": {},
   "source": [
    "## category"
   ]
  },
  {
   "cell_type": "code",
   "execution_count": null,
   "id": "6e3cd360-b93b-463e-bb84-1bdffe67b220",
   "metadata": {},
   "outputs": [],
   "source": [
    "\n"
   ]
  },
  {
   "cell_type": "markdown",
   "id": "136cf873-b7c3-457d-a564-ac30bf93a681",
   "metadata": {},
   "source": [
    "## tags"
   ]
  },
  {
   "cell_type": "code",
   "execution_count": 15,
   "id": "247dda27-0b13-4cd8-bc2e-b155be2e7d25",
   "metadata": {},
   "outputs": [],
   "source": [
    "df_train['tags']  = df_train.tags.apply(lambda x: literal_eval(x))\n",
    "df_test['tags']   = df_test.tags.apply( lambda x: literal_eval(x))"
   ]
  },
  {
   "cell_type": "code",
   "execution_count": null,
   "id": "1669271c-d557-4f24-9c43-480d0dfaa233",
   "metadata": {},
   "outputs": [],
   "source": []
  },
  {
   "cell_type": "code",
   "execution_count": null,
   "id": "9858d9c0-c8bb-4d3a-968e-75b6dd0d9158",
   "metadata": {},
   "outputs": [],
   "source": []
  },
  {
   "cell_type": "markdown",
   "id": "c494b7f2-2869-42e2-b62b-966e11cef671",
   "metadata": {},
   "source": [
    "разделяем категориальные и числовые признаки   \n",
    "числовые нормализуем"
   ]
  },
  {
   "cell_type": "code",
   "execution_count": 16,
   "id": "29d60ad3-b56b-47b9-9c9d-e74733b5e997",
   "metadata": {},
   "outputs": [
    {
     "data": {
      "text/plain": [
       "Index(['title', 'session', 'authors', 'ctr', 'category', 'tags', 'views',\n",
       "       'depth', 'full_reads_percent', 'hour', 'dow', 'weekend', 'day',\n",
       "       'mounth'],\n",
       "      dtype='object')"
      ]
     },
     "execution_count": 16,
     "metadata": {},
     "output_type": "execute_result"
    }
   ],
   "source": [
    "df_train.columns"
   ]
  },
  {
   "cell_type": "code",
   "execution_count": 17,
   "id": "438c364e-07e2-4722-bdc1-92805510cce8",
   "metadata": {},
   "outputs": [],
   "source": [
    "num_cols = ['ctr']\n",
    "cat_cols = ['hour', 'dow', 'weekend', 'day', 'mounth']"
   ]
  },
  {
   "cell_type": "markdown",
   "id": "db340078-8e72-4cce-a1e9-7acfae390f0a",
   "metadata": {},
   "source": [
    "## normalize"
   ]
  },
  {
   "cell_type": "code",
   "execution_count": 18,
   "id": "cf416a96-6750-452b-ba55-1120545774c3",
   "metadata": {},
   "outputs": [
    {
     "data": {
      "text/plain": [
       "StandardScaler()"
      ]
     },
     "execution_count": 18,
     "metadata": {},
     "output_type": "execute_result"
    }
   ],
   "source": [
    "#scaler = preprocessing.MinMaxScaler()   #Transform features by scaling each feature to a given range.\n",
    "#scaler = preprocessing.Normalizer()     #Normalize samples individually to unit norm.\n",
    "scaler = preprocessing.StandardScaler()  #Standardize features by removing the mean and scaling to unit variance.\n",
    "\n",
    "scaler.fit(df_train[num_cols])"
   ]
  },
  {
   "cell_type": "code",
   "execution_count": 19,
   "id": "6ca7d45f-5282-4296-a43c-762468aebd20",
   "metadata": {},
   "outputs": [],
   "source": [
    "#df_train[num_cols].head(5)"
   ]
  },
  {
   "cell_type": "code",
   "execution_count": 20,
   "id": "fce58a90-1ab5-46e3-9f14-db6a581f1b4c",
   "metadata": {},
   "outputs": [],
   "source": [
    "#df_test[num_cols].head(5)"
   ]
  },
  {
   "cell_type": "code",
   "execution_count": 21,
   "id": "0b133354-6e9b-4a1c-ae63-72c40a28a0c4",
   "metadata": {},
   "outputs": [],
   "source": [
    "df_train[num_cols] = scaler.transform(df_train[num_cols])\n",
    "df_test[num_cols]  = scaler.transform(df_test[num_cols])"
   ]
  },
  {
   "cell_type": "code",
   "execution_count": 22,
   "id": "9ce89b7a-443f-42d2-b51f-d3f1cee3484b",
   "metadata": {},
   "outputs": [],
   "source": [
    "#df_train[num_cols].head(5)"
   ]
  },
  {
   "cell_type": "code",
   "execution_count": 23,
   "id": "5e6ef5cd-9721-43d5-83ba-4cd4b03ebf78",
   "metadata": {},
   "outputs": [],
   "source": [
    "#df_test[num_cols].head(5)"
   ]
  },
  {
   "cell_type": "code",
   "execution_count": null,
   "id": "631ff2a7-ca8d-49f0-b1c2-706cb01b39e9",
   "metadata": {},
   "outputs": [],
   "source": []
  },
  {
   "cell_type": "code",
   "execution_count": null,
   "id": "626f9e93-ec1a-4c2d-9d9b-5cf9977aec05",
   "metadata": {},
   "outputs": [],
   "source": []
  },
  {
   "cell_type": "markdown",
   "id": "7cc64121-256c-45c2-bae6-45180a44ff3b",
   "metadata": {},
   "source": [
    "## train_test_split"
   ]
  },
  {
   "cell_type": "markdown",
   "id": "c6b949f4-0ed1-42fd-8504-08294255575e",
   "metadata": {},
   "source": [
    "вероятно лучше разделять до нормализации и категориальных энкодеров, что бы значения из валидационной выборки не были в учтены в тесте   \n",
    "однако, на первой итерации устроит и разбиение после всех преобразований"
   ]
  },
  {
   "cell_type": "code",
   "execution_count": 24,
   "id": "b8950773-92bc-4f93-a60f-8f0dd3cd520d",
   "metadata": {},
   "outputs": [
    {
     "data": {
      "text/plain": [
       "((6991, 14), (5592, 14), (1399, 14))"
      ]
     },
     "execution_count": 24,
     "metadata": {},
     "output_type": "execute_result"
    }
   ],
   "source": [
    "x_train, x_val = train_test_split(df_train, test_size = 0.2)\n",
    "df_train.shape, x_train.shape, x_val.shape"
   ]
  },
  {
   "cell_type": "code",
   "execution_count": null,
   "id": "9ac27d63-a4ac-4c4d-bb76-61db444d9470",
   "metadata": {},
   "outputs": [],
   "source": []
  },
  {
   "cell_type": "markdown",
   "id": "252d3409-7429-4fdf-9e79-43ba84b0d727",
   "metadata": {},
   "source": [
    "## save"
   ]
  },
  {
   "cell_type": "code",
   "execution_count": null,
   "id": "119148f6-87af-4047-8a0d-ae74efa8b7ad",
   "metadata": {},
   "outputs": [],
   "source": []
  },
  {
   "cell_type": "code",
   "execution_count": 25,
   "id": "be0dbd1c-5b07-43fe-baf7-e4d7bcfaef7c",
   "metadata": {},
   "outputs": [],
   "source": [
    "x_train.to_csv(os.path.join(DIR_DATA, 'x_train.csv'))\n",
    "x_val.to_csv(os.path.join(DIR_DATA, 'x_val.csv'))\n",
    "df_test.to_csv(os.path.join( DIR_DATA, 'test_upd.csv'))"
   ]
  },
  {
   "cell_type": "code",
   "execution_count": 26,
   "id": "6161b77b-5312-4bae-86b1-96a76da5901f",
   "metadata": {},
   "outputs": [],
   "source": [
    "with open(os.path.join(DIR_DATA, 'num_columns.pkl'), 'wb') as pickle_file:\n",
    "    pkl.dump(num_cols, pickle_file)"
   ]
  },
  {
   "cell_type": "code",
   "execution_count": 27,
   "id": "b63b5549-cdb7-42ea-8909-bed1fd98e795",
   "metadata": {},
   "outputs": [],
   "source": [
    "with open(os.path.join(DIR_DATA, 'cat_columns.pkl'), 'wb') as pickle_file:\n",
    "    pkl.dump(cat_cols, pickle_file)"
   ]
  },
  {
   "cell_type": "code",
   "execution_count": 28,
   "id": "fac1bb39-d9df-49f9-9ef0-4f17228443a9",
   "metadata": {},
   "outputs": [
    {
     "data": {
      "text/plain": [
       "Index(['title', 'session', 'authors', 'ctr', 'category', 'tags', 'hour', 'dow',\n",
       "       'weekend', 'day', 'mounth'],\n",
       "      dtype='object')"
      ]
     },
     "execution_count": 28,
     "metadata": {},
     "output_type": "execute_result"
    }
   ],
   "source": [
    "df_test.columns"
   ]
  },
  {
   "cell_type": "code",
   "execution_count": null,
   "id": "747baa53-ef7f-4074-918b-7911d78bac0a",
   "metadata": {},
   "outputs": [],
   "source": []
  },
  {
   "cell_type": "code",
   "execution_count": null,
   "id": "64a8f941-6ce5-4095-8b7d-8d5495f0d411",
   "metadata": {},
   "outputs": [],
   "source": []
  },
  {
   "cell_type": "code",
   "execution_count": null,
   "id": "9f55842a-f2d0-4960-949a-d0caaa96c252",
   "metadata": {},
   "outputs": [],
   "source": []
  },
  {
   "cell_type": "code",
   "execution_count": null,
   "id": "d53783d9-b8a7-467c-8e3c-ea1bff8aab1b",
   "metadata": {},
   "outputs": [],
   "source": []
  },
  {
   "cell_type": "code",
   "execution_count": null,
   "id": "74ee0eaa-9dba-41cc-b612-d16298e8e3c7",
   "metadata": {},
   "outputs": [],
   "source": []
  }
 ],
 "metadata": {
  "kernelspec": {
   "display_name": "Python 3",
   "language": "python",
   "name": "python3"
  },
  "language_info": {
   "codemirror_mode": {
    "name": "ipython",
    "version": 3
   },
   "file_extension": ".py",
   "mimetype": "text/x-python",
   "name": "python",
   "nbconvert_exporter": "python",
   "pygments_lexer": "ipython3",
   "version": "3.7.10"
  }
 },
 "nbformat": 4,
 "nbformat_minor": 5
}
