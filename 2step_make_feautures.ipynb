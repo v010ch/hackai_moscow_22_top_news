{
 "cells": [
  {
   "cell_type": "code",
   "execution_count": 1,
   "id": "40e726ae-286d-4aba-85b1-13af34c9eca2",
   "metadata": {},
   "outputs": [],
   "source": [
    "import os\n",
    "import pickle as pkl\n",
    "\n",
    "import numpy as np\n",
    "import pandas as pd\n",
    "from itertools import product\n",
    "\n",
    "import category_encoders as ce\n",
    "from sklearn import preprocessing\n",
    "#from sklearn.model_selection import train_test_split\n",
    "\n",
    "from ast import literal_eval\n",
    "\n",
    "from tqdm import tqdm\n",
    "tqdm.pandas()"
   ]
  },
  {
   "cell_type": "markdown",
   "id": "0daf7006-0f02-48cc-a9be-aec5b3df5b89",
   "metadata": {},
   "source": [
    "## Reproducibility block"
   ]
  },
  {
   "cell_type": "code",
   "execution_count": 2,
   "id": "d715fcc1-cd77-4e37-bf03-7d6c62ac3c0a",
   "metadata": {},
   "outputs": [],
   "source": [
    "# seed the RNG for all devices (both CPU and CUDA)\n",
    "#torch.manual_seed(1984)\n",
    "\n",
    "#Disabling the benchmarking feature causes cuDNN to deterministically select an algorithm, \n",
    "#possibly at the cost of reduced performance.\n",
    "#torch.backends.cudnn.benchmark = False\n",
    "\n",
    "# for custom operators,\n",
    "import random\n",
    "random.seed(5986721)\n",
    "\n",
    "# \n",
    "np.random.seed(62185)\n",
    "\n",
    "#sklearn take seed from a line abowe"
   ]
  },
  {
   "cell_type": "code",
   "execution_count": null,
   "id": "dda75999-7bd7-47f8-b4fd-6aac0562dde5",
   "metadata": {},
   "outputs": [],
   "source": []
  },
  {
   "cell_type": "code",
   "execution_count": 3,
   "id": "10c73d28-8eba-403c-9eb4-6cee5e76a593",
   "metadata": {},
   "outputs": [],
   "source": [
    "DIR_DATA  = os.path.join(os.getcwd(), 'data')"
   ]
  },
  {
   "cell_type": "code",
   "execution_count": 4,
   "id": "4f17b407-3c2a-4044-8e71-f3819e0068c7",
   "metadata": {},
   "outputs": [],
   "source": [
    "# ctr для специальных статей по украине\n",
    "CTR_UKR = 6.096"
   ]
  },
  {
   "cell_type": "markdown",
   "id": "dfee7f1b-6bf8-4e1b-8025-877ce98641b4",
   "metadata": {},
   "source": [
    "энкодеры для кодирования категориальных переменных. "
   ]
  },
  {
   "cell_type": "markdown",
   "id": "feb8f47d-1028-4b27-a094-01ef85da8601",
   "metadata": {},
   "source": [
    "но, например, для catboost не требуется такого кодирования, так что оригинальный признак так же останется в датасете,   \n",
    "а в модель будут передоваться признаки только через параметр features."
   ]
  },
  {
   "cell_type": "raw",
   "id": "f31874bf-4016-4add-9cf4-eec57e2dc70e",
   "metadata": {},
   "source": [
    "all_encoders = [ce.BackwardDifferenceEncoder(), \n",
    "ce.BaseNEncoder(), \n",
    "ce.BinaryEncoder(),\n",
    "ce.CatBoostEncoder(),\n",
    "ce.CountEncoder(),\n",
    "ce.GLMMEncoder(),\n",
    "ce.HashingEncoder(),\n",
    "ce.HelmertEncoder(),\n",
    "ce.JamesSteinEncoder(),\n",
    "ce.LeaveOneOutEncoder(),\n",
    "ce.MEstimateEncoder(),\n",
    "ce.OneHotEncoder(),\n",
    "ce.OrdinalEncoder(),\n",
    "ce.SumEncoder(),\n",
    "ce.PolynomialEncoder(),\n",
    "ce.TargetEncoder(),\n",
    "ce.WOEEncoder(),\n",
    "#ce.QuantileEncoder(),\n",
    "]"
   ]
  },
  {
   "cell_type": "code",
   "execution_count": null,
   "id": "79bc7a45-d159-4127-8ad7-a5e40e0cc3dc",
   "metadata": {},
   "outputs": [],
   "source": []
  },
  {
   "cell_type": "code",
   "execution_count": 5,
   "id": "324446e1-7bcb-4ad6-accc-6dc5eacb921c",
   "metadata": {},
   "outputs": [],
   "source": [
    "df_train = pd.read_csv(os.path.join(DIR_DATA, 'train_extended.csv'))#, index_col= 0)\n",
    "df_test  = pd.read_csv(os.path.join(DIR_DATA, 'test_extended.csv'))#, index_col= 0)\n",
    "\n",
    "df_train['publish_date'] = pd.to_datetime(df_train['publish_date'])\n",
    "df_test['publish_date']  = pd.to_datetime(df_test['publish_date'])"
   ]
  },
  {
   "cell_type": "code",
   "execution_count": 6,
   "id": "bee87a3c-d9dc-48c2-a4ce-c724785c9b43",
   "metadata": {},
   "outputs": [
    {
     "data": {
      "text/plain": [
       "((7000, 17), (3000, 14))"
      ]
     },
     "execution_count": 6,
     "metadata": {},
     "output_type": "execute_result"
    }
   ],
   "source": [
    "df_train.shape, df_test.shape"
   ]
  },
  {
   "cell_type": "code",
   "execution_count": null,
   "id": "d639e436-931d-4b14-9463-4197aab035b5",
   "metadata": {},
   "outputs": [],
   "source": []
  },
  {
   "cell_type": "markdown",
   "id": "a4dce281-329d-4605-a690-0b184a9bb3d7",
   "metadata": {},
   "source": [
    "Имена признаков для удобства перебора будут представлены словарем   \n",
    "Формат:   \n",
    "{\n",
    "исходный признак/идея: {   \n",
    "только числовые признаки: [ ]   \n",
    "только категориальные признаки: [ ]   \n",
    "признаки, которые могу быть как числовыми так и категориальными: [ ]   \n",
    "}}"
   ]
  },
  {
   "cell_type": "code",
   "execution_count": 7,
   "id": "d323b9e5-02b2-4b6d-8f6c-0f10271673f0",
   "metadata": {},
   "outputs": [],
   "source": [
    "clmns = {'document_id':{'num':  ['nimgs','text_len', ],   \n",
    "                        'cat':  [],\n",
    "                        'both': [],\n",
    "                        },\n",
    "        'title':         {'num':  [],   \n",
    "                          'cat':  [],\n",
    "                          'both': [],\n",
    "                         }, \n",
    "        'publish_date': {'num':  [],   \n",
    "                          'cat':  [],\n",
    "                          'both': [],\n",
    "                         },\n",
    "         'authors': {'num':  [],   \n",
    "                     'cat':  [],\n",
    "                     'both': [],\n",
    "                    },\n",
    "         'ctr': {'num':  [],   \n",
    "                 'cat':  [],\n",
    "                 'both': [],\n",
    "                },\n",
    "         'category': {'num':  [],   \n",
    "                      'cat':  [],\n",
    "                      'both': [],\n",
    "                     },\n",
    "         'title': {'num':  [],   \n",
    "                   'cat':  ['two_articles'],\n",
    "                   'both': [],\n",
    "                },\n",
    "         'poly':{'num':  [],   \n",
    "                'cat':  [],\n",
    "                'both': [],\n",
    "                },\n",
    "        }"
   ]
  },
  {
   "cell_type": "code",
   "execution_count": 8,
   "id": "7296b2a6-5d3e-420e-91b0-d4d14f08a1fb",
   "metadata": {},
   "outputs": [
    {
     "name": "stdout",
     "output_type": "stream",
     "text": [
      "['document_id' 'title' 'publish_date' 'session' 'authors' 'ctr' 'category'\n",
      " 'tags' 'views' 'depth' 'full_reads_percent' 'true_category' 'true_title'\n",
      " 'nimgs' 'overview' 'text_len' 'two_articles']\n"
     ]
    }
   ],
   "source": [
    "print(df_train.columns.values)"
   ]
  },
  {
   "cell_type": "code",
   "execution_count": null,
   "id": "bdb1a2b7-e60f-492e-9aa6-cf1456582820",
   "metadata": {},
   "outputs": [],
   "source": []
  },
  {
   "cell_type": "markdown",
   "id": "2967f281-1164-43df-9678-146877565bc8",
   "metadata": {},
   "source": [
    "## Очистка датасета"
   ]
  },
  {
   "cell_type": "markdown",
   "id": "5034fc71-4fd8-4ebd-8bbf-6457485f4c1a",
   "metadata": {},
   "source": [
    "этих категорий нет в тесте, а в трейне на них приходится всего 3 записи. они явно лишние.\n",
    "\n",
    "уберем статьи раньше минимальной даты в тесте. для начала так, дальше можно будет поиграться."
   ]
  },
  {
   "cell_type": "code",
   "execution_count": 9,
   "id": "a683054c-62c3-4f7e-b179-698648c862f2",
   "metadata": {},
   "outputs": [],
   "source": [
    "def clear_data(inp_df: pd.DataFrame, min_time: pd.Timestamp) -> pd.DataFrame:\n",
    "    \n",
    "    exclude_category = {'5e54e2089a7947f63a801742', '552e430f9a79475dd957f8b3', '5e54e22a9a7947f560081ea2' }\n",
    "    inp_df = inp_df.query('category not in @exclude_category')\n",
    "    print(f'shape after clean category {inp_df.shape}')\n",
    "    \n",
    "    inp_df = inp_df[inp_df.publish_date >= min_time]\n",
    "    print(f'shape after min time {inp_df.shape}')\n",
    "    \n",
    "    inp_df = inp_df.query('ctr != 6.096')\n",
    "    print(f'shape after ctr {inp_df.shape}')\n",
    "    \n",
    "    if 'full_reads_percent' in inp_df.columns:\n",
    "        inp_df = inp_df.query('full_reads_percent < 100')\n",
    "        print(f'shape after frp time {inp_df.shape}')\n",
    "                              \n",
    "\n",
    "    #Q1_v = inp_df['views'].quantile(0.25)\n",
    "    #Q3_v = inp_df['views'].quantile(0.75)\n",
    "    #IQR_v = Q3_v - Q1_v\n",
    "    #1_d = inp_df['depth'].quantile(0.25)\n",
    "    #Q3_d = inp_df['depth'].quantile(0.75)\n",
    "    #IQR_d = Q3_d - Q1_d\n",
    "    #1_f = inp_df['full_reads_percent'].quantile(0.25)\n",
    "    #Q3_f = inp_df['full_reads_percent'].quantile(0.75)\n",
    "    #IQR_f = Q3_f - Q1_f\n",
    "    \n",
    "    #inp_df = inp_df.query('views <= (@Q3_v + 1.75 * @IQR_v)')\n",
    "    #inp_df = inp_df.query('depth <= (@Q3_d + 1.75 * @IQR_d)')\n",
    "    #np_df = inp_df.query('full_reads_percent <= (@Q3_f + 1.75 * @IQR_f)')\n",
    "    \n",
    "    #inp_df = inp_df.query('(@Q1_v - 1.5 * @IQR_v) <= views <= (@Q3_v + 1.5 * @IQR_v)')\n",
    "    #inp_df = inp_df.query('(@Q1_d - 1.75 * @IQR_d) <= depth <= (@Q3_d + 1.75 * @IQR_d)')\n",
    "    #np_df = inp_df.query('(@Q1_f - 1.75 * @IQR_f) <= full_reads_percent <= (@Q3_f + 1.75 * @IQR_f)')\n",
    "    \n",
    "    #inp_df = inp_df.query('depth < 1.38')\n",
    "    #inp_df = inp_df.query('views < 128000')\n",
    "    \n",
    "    #print(f'shape after irq {inp_df.shape}')\n",
    "    \n",
    "    return inp_df"
   ]
  },
  {
   "cell_type": "code",
   "execution_count": 10,
   "id": "a62e0fbf-896e-4a49-9d83-77d614e0d9e9",
   "metadata": {},
   "outputs": [
    {
     "name": "stdout",
     "output_type": "stream",
     "text": [
      "shape after clean category (6997, 17)\n",
      "shape after min time (6989, 17)\n",
      "shape after ctr (6983, 17)\n",
      "shape after frp time (6981, 17)\n"
     ]
    }
   ],
   "source": [
    "#min_test_time = df_test['publish_date'].min()\n",
    "#min_test_time = df_test['publish_date'].nsmallest(2).iloc[-1]\n",
    "min_test_time = pd.Timestamp('2022-01-01')\n",
    "\n",
    "df_train = clear_data(df_train, min_test_time)\n",
    "#df_test  = clear_data(df_test,  min_test_time)"
   ]
  },
  {
   "cell_type": "code",
   "execution_count": null,
   "id": "5b68554b-710a-4295-bf63-0e980a29ac48",
   "metadata": {},
   "outputs": [],
   "source": []
  },
  {
   "cell_type": "code",
   "execution_count": null,
   "id": "1608271f-2677-49a1-8a01-e48b0d21e127",
   "metadata": {},
   "outputs": [],
   "source": []
  },
  {
   "cell_type": "markdown",
   "id": "c8e24525-69a0-440e-8104-11968190153f",
   "metadata": {},
   "source": [
    "## title"
   ]
  },
  {
   "cell_type": "code",
   "execution_count": 11,
   "id": "2b29e57b-b7ca-4fb1-870f-84e55a0147f1",
   "metadata": {},
   "outputs": [],
   "source": [
    "def add_title_features(inp_df):\n",
    "    \n",
    "    # Прямая трансляция, Фоторепортаж, Фотогалерея, Видео, телеканале РБК, Инфографика endswith\n",
    "    \n",
    "    inp_df['ph_report']  = inp_df.true_title.apply(lambda x: 1 if x.endswith('Фоторепортаж') else 0)\n",
    "    inp_df['ph_gallery'] = inp_df.true_title.apply(lambda x: 1 if x.endswith('Фотогалерея') else 0)\n",
    "    inp_df['tv_prog'] = inp_df.true_title.apply(lambda x: 1 if x.endswith('телеканале РБК') else 0)\n",
    "    inp_df['online'] = inp_df.true_title.apply(lambda x: 1 if x.endswith('Прямая трансляция') else 0)\n",
    "    inp_df['video']  = inp_df.true_title.apply(lambda x: 1 if x.endswith('Видео') else 0)\n",
    "    inp_df['infogr'] = inp_df.true_title.apply(lambda x: 1 if x.endswith('Инфографика') else 0)\n",
    "    \n",
    "    if 'video' not in clmns['title']['both']:\n",
    "        clmns['title']['both'].extend(['ph_report', 'ph_gallery', 'tv_prog', 'online', 'video', 'infogr'])\n",
    "        \n",
    "    return inp_df"
   ]
  },
  {
   "cell_type": "code",
   "execution_count": 12,
   "id": "17421333-8c5c-485b-a2a0-520ff87c04d6",
   "metadata": {},
   "outputs": [],
   "source": [
    "df_train = add_title_features(df_train)\n",
    "df_test = add_title_features(df_test)"
   ]
  },
  {
   "cell_type": "code",
   "execution_count": 13,
   "id": "b3295307-8b66-4ed6-ac80-b92b824e1875",
   "metadata": {},
   "outputs": [
    {
     "data": {
      "text/plain": [
       "(20, 12, 11, 1, 44, 31)"
      ]
     },
     "execution_count": 13,
     "metadata": {},
     "output_type": "execute_result"
    }
   ],
   "source": [
    "df_train.ph_report.sum(), df_train.ph_gallery.sum(), df_train.tv_prog.sum(), df_train.online.sum(), df_train.video.sum(), df_train.infogr.sum()"
   ]
  },
  {
   "cell_type": "code",
   "execution_count": 14,
   "id": "bd7d11b4-8d2b-4ddc-8517-d6a834b98754",
   "metadata": {},
   "outputs": [
    {
     "data": {
      "text/plain": [
       "(13, 4, 2, 1, 16, 14)"
      ]
     },
     "execution_count": 14,
     "metadata": {},
     "output_type": "execute_result"
    }
   ],
   "source": [
    "df_test.ph_report.sum(), df_test.ph_gallery.sum(), df_test.tv_prog.sum(), df_test.online.sum(), df_test.video.sum(), df_test.infogr.sum()"
   ]
  },
  {
   "cell_type": "code",
   "execution_count": null,
   "id": "129986c5-c137-4769-8cb5-c59c4773141e",
   "metadata": {},
   "outputs": [],
   "source": []
  },
  {
   "cell_type": "markdown",
   "id": "44194072-b43d-4aa1-9636-f2d367c58dfd",
   "metadata": {},
   "source": [
    "# publish date"
   ]
  },
  {
   "cell_type": "code",
   "execution_count": 15,
   "id": "cdcd2325-4015-44d6-89b9-5966b3810cf4",
   "metadata": {},
   "outputs": [],
   "source": [
    "holidays = {pd.Timestamp('2022-01-01').date(), pd.Timestamp('2022-01-02').date(), pd.Timestamp('2022-01-03').date(),\n",
    "            pd.Timestamp('2022-01-04').date(), pd.Timestamp('2022-01-05').date(), pd.Timestamp('2022-01-06').date(),  #NY\n",
    "            pd.Timestamp('2022-01-07').date(), pd.Timestamp('2022-01-08').date(), pd.Timestamp('2022-01-08').date(),\n",
    "            pd.Timestamp('2022-02-23').date(), # 23 feb\n",
    "            pd.Timestamp('2022-03-06').date(), pd.Timestamp('2022-03-07').date(), pd.Timestamp('2022-03-08').date(), # 8 march\n",
    "            pd.Timestamp('2022-05-02').date(), pd.Timestamp('2022-05-03').date(), # 1st may\n",
    "            pd.Timestamp('2022-05-09').date(), pd.Timestamp('2022-05-10').date(),# 9 may\n",
    "            pd.Timestamp('2022-06-12').date(), pd.Timestamp('2022-06-13').date(), # day of the russia\n",
    "            pd.Timestamp('2022-11-04').date()\n",
    "           }\n",
    "\n",
    "day_before_holiday = {pd.Timestamp('2021-12-31').date(), pd.Timestamp('2022-02-22').date(), pd.Timestamp('2022-03-05').date(),\n",
    "                      pd.Timestamp('2022-02-23').date(),\n",
    "                      pd.Timestamp('2022-04-29').date(), pd.Timestamp('2022-05-04').date(), \n",
    "                      pd.Timestamp('2022-05-05').date(), pd.Timestamp('2022-05-06').date(),\n",
    "                      pd.Timestamp('2022-11-03').date(),\n",
    "                      #pd.Timestamp('2022-12-03').date(),\n",
    "                      #pd.Timestamp('2022-11-03').date(),\n",
    "                     }\n",
    "day_after_holiday = {pd.Timestamp('2022-01-10').date(), pd.Timestamp('2022-02-24').date(), pd.Timestamp('2022-03-09').date(), \n",
    "                     pd.Timestamp('2022-06-14').date(), pd.Timestamp('2022-05-11').date(),\n",
    "                    }"
   ]
  },
  {
   "cell_type": "code",
   "execution_count": 16,
   "id": "87caf595-84c5-4a9a-9958-34fead719a83",
   "metadata": {},
   "outputs": [],
   "source": [
    "border = pd.Timestamp('2022-04-08').date()"
   ]
  },
  {
   "cell_type": "code",
   "execution_count": 17,
   "id": "492f5441-4158-4144-b546-863669e594ad",
   "metadata": {},
   "outputs": [],
   "source": [
    "def publish_date_features(inp_df: pd.DataFrame) -> pd.DataFrame:\n",
    "    \n",
    "    inp_df['m_d'] = inp_df['publish_date'].dt.date\n",
    "\n",
    "    inp_df['hour'] = inp_df['publish_date'].dt.hour\n",
    "    inp_df['dow']  = inp_df['publish_date'].dt.dayofweek\n",
    "    #Monday=0, Sunday=6\n",
    "    #inp_df['weekend'] = (inp_df.dow >= 4).astype(int) # 5\n",
    "    #inp_df['holidays']\n",
    "    inp_df['day']    = pd.to_datetime(inp_df['publish_date']).dt.strftime(\"%d\").astype(int)\n",
    "    inp_df['mounth'] = pd.to_datetime(inp_df['publish_date']).dt.strftime(\"%m\").astype(int)\n",
    "    \n",
    "    \n",
    "    inp_df['holiday'] = inp_df.m_d.apply(lambda x: 1 if x in holidays else 0)\n",
    "    inp_df['day_before_holiday'] = inp_df.m_d.apply(lambda x: 1 if x in day_before_holiday else 0)\n",
    "    inp_df['day_after_holiday'] = inp_df.m_d.apply(lambda x: 1 if x in day_after_holiday else 0)\n",
    "    \n",
    "    inp_df['distrib_brdr'] = inp_df.m_d.apply(lambda x: 1 if x < border else 0)\n",
    "    \n",
    "    if 'hour' not in clmns['publish_date']['both']:\n",
    "        clmns['publish_date']['both'].extend(['hour', 'dow', 'day', 'mounth'])#, 'distrib_brdr'])\n",
    "        \n",
    "    #if 'holiday' not in clmns['publish_date']['cat']:\n",
    "    #    clmns['publish_date']['cat'].extend(['holiday', 'day_before_holiday', 'day_after_holiday',]) \n",
    "    \n",
    "    if 'holiday' not in clmns['publish_date']['both']:\n",
    "        clmns['publish_date']['both'].extend(['holiday', 'day_before_holiday', 'day_after_holiday', 'distrib_brdr']) \n",
    "    \n",
    "    return inp_df"
   ]
  },
  {
   "cell_type": "code",
   "execution_count": 18,
   "id": "72ccf6f7-36b0-486c-abae-ef1ccf57d58b",
   "metadata": {},
   "outputs": [
    {
     "name": "stdout",
     "output_type": "stream",
     "text": [
      "before  (6981, 23) (3000, 20)\n",
      "after   (6981, 32) (3000, 29)\n"
     ]
    }
   ],
   "source": [
    "print('before ', df_train.shape, df_test.shape)\n",
    "df_train = publish_date_features(df_train)\n",
    "df_test  = publish_date_features(df_test)\n",
    "print('after  ', df_train.shape, df_test.shape)"
   ]
  },
  {
   "cell_type": "code",
   "execution_count": 19,
   "id": "1adc733f-d392-4e10-807d-c36ec079d2f7",
   "metadata": {},
   "outputs": [
    {
     "name": "stdout",
     "output_type": "stream",
     "text": [
      "223 402 78\n",
      "80 142 29\n"
     ]
    }
   ],
   "source": [
    "print(sum(df_train.holiday), sum(df_train.day_before_holiday), sum(df_train.day_after_holiday), )\n",
    "print(sum(df_test.holiday), sum(df_test.day_before_holiday), sum(df_test.day_after_holiday), )"
   ]
  },
  {
   "cell_type": "code",
   "execution_count": null,
   "id": "42e4694a-019d-4563-b50e-7fd467e617d3",
   "metadata": {},
   "outputs": [],
   "source": []
  },
  {
   "cell_type": "markdown",
   "id": "f2698b48-ee38-4466-8a1d-f7a02527acdf",
   "metadata": {},
   "source": [
    "Рассчитаем дневные статистики + лаги за 7 дней"
   ]
  },
  {
   "cell_type": "code",
   "execution_count": 20,
   "id": "6632adfd-e286-4a6a-b7a7-dadf6cf65968",
   "metadata": {},
   "outputs": [
    {
     "data": {
      "text/plain": [
       "0 days     6885\n",
       "1 days       93\n",
       "22 days       1\n",
       "5 days        1\n",
       "Name: m_d, dtype: int64"
      ]
     },
     "execution_count": 20,
     "metadata": {},
     "output_type": "execute_result"
    }
   ],
   "source": [
    "df_train.sort_values(by='m_d').m_d.diff().value_counts()"
   ]
  },
  {
   "cell_type": "code",
   "execution_count": 21,
   "id": "45214f79-6e72-448d-8049-8187167b6de5",
   "metadata": {},
   "outputs": [],
   "source": [
    "def create_daily_stats(inp_df: pd.DataFrame, max_lags: int = 7) -> pd.DataFrame:\n",
    "    \n",
    "    ret_df = inp_df.sort_values(by='m_d').groupby('m_d')[['m_d', 'views', 'depth', 'full_reads_percent']].agg(['min', 'max', 'mean', 'std']).copy()\n",
    "    new_cols = ['views_min', 'views_max', 'views_mean', 'views_std',\n",
    "                'depth_min', 'depth_max', 'depth_mean', 'depth_std',\n",
    "                'frp_min',   'frp_max',   'frp_mean',   'frp_std',\n",
    "               ]\n",
    "    ret_df.columns = new_cols\n",
    "    ret_df = ret_df.reset_index()\n",
    "    #??????? only std\n",
    "    #ret_df.isnull().sum() > 0\n",
    "    ret_df.fillna(0, inplace = True)\n",
    "    \n",
    "    \n",
    "    for col, lag in  product(new_cols, list(range(max_lags))):\n",
    "        ret_df[f'{col}_lag{lag+1}'] = ret_df[col].shift(lag+1)\n",
    "        #????fillna\n",
    "        #ret_df[f'{col}_lag{lag+1}'].fillna('mean', inplace = True)\n",
    "    \n",
    "    return ret_df"
   ]
  },
  {
   "cell_type": "code",
   "execution_count": 22,
   "id": "e968bcaa-76db-45b5-881d-d14efe1dd86b",
   "metadata": {},
   "outputs": [],
   "source": [
    "daily_stats = create_daily_stats(df_train)\n",
    "daily_stats.to_csv(os.path.join(DIR_DATA, 'dayly_stats.csv'), index = False)"
   ]
  },
  {
   "cell_type": "code",
   "execution_count": null,
   "id": "187a5895-5470-4a2d-8d7b-e139b34b3305",
   "metadata": {},
   "outputs": [],
   "source": []
  },
  {
   "cell_type": "markdown",
   "id": "4c6d124c-1e44-436f-a4fe-3e3d0bab0263",
   "metadata": {},
   "source": [
    "Добавим их к датасетам"
   ]
  },
  {
   "cell_type": "code",
   "execution_count": 23,
   "id": "685a44c6-375a-4c5e-a92d-d82ed85dee3c",
   "metadata": {},
   "outputs": [],
   "source": [
    "def add_daily_stats(inp_df:pd.DataFrame) -> pd.DataFrame:\n",
    "    \n",
    "    #ret_df = inp_df.merge(daily_stats, on = 'm_d', validate = 'many_to_one')\n",
    "    ret_df = inp_df.merge(daily_stats, on = 'm_d', how = 'left', validate = 'many_to_one')\n",
    "    \n",
    "    if 'views_min' not in clmns['publish_date']['num']:\n",
    "        clmns['publish_date']['num'].extend(daily_stats.columns[1:])\n",
    "    \n",
    "    return ret_df"
   ]
  },
  {
   "cell_type": "code",
   "execution_count": 24,
   "id": "af66509c-3085-4f2b-8605-bd67e8340066",
   "metadata": {},
   "outputs": [
    {
     "name": "stdout",
     "output_type": "stream",
     "text": [
      "before  (6981, 32) (3000, 29) add  (96, 97)\n",
      "after   (6981, 128) (3000, 125)\n"
     ]
    }
   ],
   "source": [
    "print('before ', df_train.shape, df_test.shape, 'add ', daily_stats.shape)\n",
    "df_train = add_daily_stats(df_train)\n",
    "df_test  = add_daily_stats(df_test)\n",
    "print('after  ', df_train.shape, df_test.shape)"
   ]
  },
  {
   "cell_type": "markdown",
   "id": "bcfc1bd5-7df3-419e-bc5a-fc4d008b853f",
   "metadata": {},
   "source": [
    "Проверим на пропуски в тесте"
   ]
  },
  {
   "cell_type": "code",
   "execution_count": 25,
   "id": "7fe4552f-e958-4b34-9aa6-673425cba3f7",
   "metadata": {},
   "outputs": [
    {
     "data": {
      "text/plain": [
       "views_min     6\n",
       "views_max     6\n",
       "views_mean    6\n",
       "views_std     6\n",
       "depth_min     6\n",
       "depth_max     6\n",
       "depth_mean    6\n",
       "depth_std     6\n",
       "frp_min       6\n",
       "frp_max       6\n",
       "frp_mean      6\n",
       "frp_std       6\n",
       "dtype: int64"
      ]
     },
     "execution_count": 25,
     "metadata": {},
     "output_type": "execute_result"
    }
   ],
   "source": [
    "df_test[['views_min', 'views_max', 'views_mean', 'views_std',\n",
    "            'depth_min', 'depth_max', 'depth_mean', 'depth_std',\n",
    "            'frp_min',   'frp_max',   'frp_mean',   'frp_std']].isnull().sum()"
   ]
  },
  {
   "cell_type": "markdown",
   "id": "ff4d73fa-1fb8-4de9-a52f-5c0c97d7b77c",
   "metadata": {},
   "source": [
    "да, на начальныз лагах есть пропуски.    \n",
    "заменять будем уже при подборе и построении моделей   "
   ]
  },
  {
   "cell_type": "code",
   "execution_count": null,
   "id": "864c75e8-54f7-40f9-9bec-ac6a74b5d7d1",
   "metadata": {},
   "outputs": [],
   "source": []
  },
  {
   "cell_type": "code",
   "execution_count": null,
   "id": "4e7f29aa-7897-4934-a7d2-67d7d18cbf16",
   "metadata": {},
   "outputs": [],
   "source": []
  },
  {
   "cell_type": "code",
   "execution_count": null,
   "id": "3b7e3585-03f6-43e8-a1fd-1ee97b86d4d6",
   "metadata": {},
   "outputs": [],
   "source": []
  },
  {
   "cell_type": "markdown",
   "id": "0325a77e-b14d-4ba1-b6c3-08918561f8a7",
   "metadata": {},
   "source": [
    "## session"
   ]
  },
  {
   "cell_type": "code",
   "execution_count": null,
   "id": "6bd8a217-23ce-4d79-a726-40f5e51b7fc2",
   "metadata": {},
   "outputs": [],
   "source": []
  },
  {
   "cell_type": "markdown",
   "id": "ec0a4b71-4077-468c-aea7-4d8593da13fc",
   "metadata": {},
   "source": [
    "## authors"
   ]
  },
  {
   "cell_type": "markdown",
   "id": "61ce0b6b-5419-4eca-b080-45bb9fb794b1",
   "metadata": {},
   "source": [
    "Авторы считываются как строки, а не как массив строк. исправим."
   ]
  },
  {
   "cell_type": "code",
   "execution_count": 26,
   "id": "b2fdf9eb-9f19-4aac-9896-af18c7a3e6b6",
   "metadata": {},
   "outputs": [],
   "source": [
    "def prep_authors(inp_df): \n",
    "\n",
    "    \n",
    "    inp_df[\"authors_int\"] = inp_df.authors.astype('category')\n",
    "    inp_df[\"authors_int\"] = inp_df.authors_int.cat.codes\n",
    "    inp_df[\"authors_int\"] = inp_df.authors_int.astype('int')\n",
    "    \n",
    "    \n",
    "    inp_df['authors'] = inp_df.authors.apply(lambda x: literal_eval(x))\n",
    "    inp_df['authors'] = inp_df.authors.apply(lambda x: x if len(x) > 0 else ['without_author'])\n",
    "    \n",
    "    inp_df['Nauthors'] = inp_df.authors.apply(lambda x: len(x))\n",
    "    \n",
    "    if 'authors_int' not in clmns['authors']['num']:\n",
    "        clmns['authors']['num'].extend(['authors_int'])\n",
    "    \n",
    "    if 'Nauthors' not in clmns['authors']['num']:\n",
    "        clmns['authors']['num'].extend(['Nauthors'])\n",
    "    \n",
    "    return inp_df"
   ]
  },
  {
   "cell_type": "raw",
   "id": "c565aa3e-e022-49be-a40e-96c5d5f77a9b",
   "metadata": {},
   "source": [
    "df_train['authors']  = df_train.authors.apply(lambda x: literal_eval(x))\n",
    "df_test['authors']   = df_test.authors.apply( lambda x: literal_eval(x))\n",
    "\n",
    "# пустое поле автора заменим на значение, что автор не указан\n",
    "df_train['authors'] = df_train['authors'].apply(lambda x: x if len(x) > 0 else ['without_author'])\n",
    "df_test['authors']  = df_test['authors'].apply( lambda x: x if len(x) > 0 else ['without_author'])"
   ]
  },
  {
   "cell_type": "raw",
   "id": "4f4e18af-cc58-4daa-bce6-50f7446465d2",
   "metadata": {},
   "source": [
    "df_train['Nauthors'] = df_train.authors.apply(lambda x: len(x))\n",
    "df_test['Nauthors']  = df_test.authors.apply(lambda x: len(x))"
   ]
  },
  {
   "cell_type": "raw",
   "id": "0542f9c5-2ea9-458a-942b-6477c43f7e89",
   "metadata": {},
   "source": [
    "clmns['authors']['num'].extend(['Nauthors'])"
   ]
  },
  {
   "cell_type": "code",
   "execution_count": 27,
   "id": "c97eefe4-fccc-4da3-9d07-1b93cb79c525",
   "metadata": {},
   "outputs": [
    {
     "name": "stdout",
     "output_type": "stream",
     "text": [
      "before  (6981, 128) (3000, 125)\n",
      "after   (6981, 130) (3000, 127)\n"
     ]
    }
   ],
   "source": [
    "print('before ', df_train.shape, df_test.shape)\n",
    "df_train = prep_authors(df_train)\n",
    "df_test  = prep_authors(df_test)\n",
    "print('after  ', df_train.shape, df_test.shape)"
   ]
  },
  {
   "cell_type": "code",
   "execution_count": null,
   "id": "789a9005-15b6-4cce-9570-b9d218ebbd01",
   "metadata": {},
   "outputs": [],
   "source": []
  },
  {
   "cell_type": "markdown",
   "id": "d20ec8dc-f694-4ff0-91a5-f801224a0d07",
   "metadata": {},
   "source": [
    "выделяем всех авторов в трейне"
   ]
  },
  {
   "cell_type": "code",
   "execution_count": 28,
   "id": "3bb962bf-e87d-4bef-aee8-751af296081c",
   "metadata": {},
   "outputs": [],
   "source": [
    "all_authors = set()\n",
    "for el in df_train.authors.values:\n",
    "    if len (el) == 0:\n",
    "        continue\n",
    "    if len(el) == 1:\n",
    "        all_authors.add(el[0])\n",
    "        continue\n",
    "        \n",
    "    for author in el:\n",
    "        all_authors.add(author)"
   ]
  },
  {
   "cell_type": "markdown",
   "id": "647368f4-e838-438d-9157-fe75cdeeb2e6",
   "metadata": {},
   "source": [
    "проверяем на наличия авторов из теста"
   ]
  },
  {
   "cell_type": "code",
   "execution_count": 29,
   "id": "48970f9e-293d-4279-9e71-e25d575062a5",
   "metadata": {},
   "outputs": [
    {
     "name": "stdout",
     "output_type": "stream",
     "text": [
      "5a2511349a794727e3fa3d20\n",
      "57f766ae9a79479bfcfa0133\n"
     ]
    }
   ],
   "source": [
    "test_authors = set()\n",
    "for el in df_test.authors.values:\n",
    "    if len (el) == 0:\n",
    "        continue\n",
    "    if len(el) == 1:\n",
    "        test_authors.add(el[0])\n",
    "        continue\n",
    "        \n",
    "    for author in el:\n",
    "        test_authors.add(author)\n",
    "\n",
    "for el in test_authors:\n",
    "    if el not in all_authors:\n",
    "        print(el)"
   ]
  },
  {
   "cell_type": "markdown",
   "id": "148997dd-8034-47d0-ae51-fb935d9559ea",
   "metadata": {},
   "source": [
    "2х авторов нет в трейне.   \n",
    "предположительно заменим их статистики средними."
   ]
  },
  {
   "cell_type": "code",
   "execution_count": null,
   "id": "2fb8c209-663d-4bac-ae01-3b4349522b01",
   "metadata": {},
   "outputs": [],
   "source": []
  },
  {
   "cell_type": "markdown",
   "id": "81e6ba67-6954-4ff9-8873-46b7984495d9",
   "metadata": {},
   "source": [
    "Все статьи автора (с учетом совместных)"
   ]
  },
  {
   "cell_type": "code",
   "execution_count": 30,
   "id": "778d462f-7324-4e9c-bd56-5713b8fb6fb3",
   "metadata": {},
   "outputs": [
    {
     "name": "stderr",
     "output_type": "stream",
     "text": [
      "100%|██████████████████████████████████████████████████████████████████████████| 6981/6981 [00:00<00:00, 744992.40it/s]\n"
     ]
    }
   ],
   "source": [
    "auth_doc_id = {el: [] for el in all_authors}\n",
    "\n",
    "for el in tqdm(df_train.loc[:, ['document_id', 'authors']].values):\n",
    "    for athr in range(len(el[1])):\n",
    "        auth_doc_id[el[1][athr]].append(el[0])\n",
    "        \n",
    "with open(os.path.join(DIR_DATA, 'authors_all.pkl'), 'wb') as pkl_file:\n",
    "    pkl.dump(auth_doc_id, pkl_file)"
   ]
  },
  {
   "cell_type": "markdown",
   "id": "39055cc8-db6d-484f-a233-ebaa95eef3b1",
   "metadata": {},
   "source": [
    "Статьи только автора (в одиночку)(пока не применяется)"
   ]
  },
  {
   "cell_type": "code",
   "execution_count": 31,
   "id": "595a8c1d-bc76-42dd-adb9-0511cd326a05",
   "metadata": {},
   "outputs": [
    {
     "name": "stderr",
     "output_type": "stream",
     "text": [
      "100%|█████████████████████████████████████████████████████████████████████████| 6981/6981 [00:00<00:00, 1167202.27it/s]\n"
     ]
    }
   ],
   "source": [
    "auth_doc_id_alone = {el: [] for el in all_authors}\n",
    "\n",
    "for el in tqdm(df_train.loc[:, ['document_id', 'authors']].values):\n",
    "    if len(el[1]) == 1:\n",
    "        auth_doc_id_alone[el[1][0]].append(el[0])\n",
    "        \n",
    "with open(os.path.join(DIR_DATA, 'authors_alone.pkl'), 'wb') as pkl_file:\n",
    "    pkl.dump(auth_doc_id_alone, pkl_file)"
   ]
  },
  {
   "cell_type": "code",
   "execution_count": null,
   "id": "9a59ea06-5f22-432d-9810-b1fb64e985be",
   "metadata": {},
   "outputs": [],
   "source": []
  },
  {
   "cell_type": "markdown",
   "id": "49ee5791-cd95-4470-be98-c5916d08583a",
   "metadata": {},
   "source": [
    "Соберем статистику по авторам (с учетом совместных)"
   ]
  },
  {
   "cell_type": "code",
   "execution_count": 32,
   "id": "c91c21ca-173b-43c2-a44b-d8a3522b9226",
   "metadata": {},
   "outputs": [],
   "source": [
    "author_columns = ['author', 'author_size', 'v_auth_min', 'v_auth_max', 'v_auth_mean', 'v_auth_std', 'd_auth_min',\n",
    "                  'd_auth_max', 'd_auth_mean', 'd_auth_std', 'f_auth_min', 'f_auth_max', 'f_auth_mean', 'f_auth_std',\n",
    "                 ]\n",
    "\n",
    "author_group_columns = ['author_size', \n",
    "                        'v_auth_min', 'v_auth_max', 'v_auth_mean', 'v_auth_std',\n",
    "                        'author_size2',\n",
    "                        'd_auth_min', 'd_auth_max', 'd_auth_mean', 'd_auth_std',\n",
    "                        'author_size3',\n",
    "                        'f_auth_min', 'f_auth_max', 'f_auth_mean', 'f_auth_std',\n",
    "                   ]"
   ]
  },
  {
   "cell_type": "code",
   "execution_count": 33,
   "id": "3ec44696-4efa-4974-83cf-68e4182c2f0d",
   "metadata": {},
   "outputs": [
    {
     "name": "stderr",
     "output_type": "stream",
     "text": [
      "100%|████████████████████████████████████████████████████████████████████████████████| 101/101 [00:01<00:00, 72.60it/s]\n",
      "C:\\Users\\_v010ch_\\Anaconda3\\lib\\site-packages\\ipykernel_launcher.py:24: FutureWarning: Dropping of nuisance columns in DataFrame reductions (with 'numeric_only=None') is deprecated; in a future version this will raise TypeError.  Select only valid columns before calling the reduction.\n"
     ]
    }
   ],
   "source": [
    "df_author = pd.DataFrame(columns = author_columns)\n",
    "df_author.author = list(all_authors)\n",
    "\n",
    "for el in tqdm(all_authors):\n",
    "    # определяем статьи текущего автора\n",
    "    df_train['cur_author'] = df_train.authors.apply(lambda x: 1 if el in x else 0)\n",
    "    \n",
    "    # собираем статистики текущего автора\n",
    "    tmp = df_train.groupby('cur_author')[['views', 'depth', 'full_reads_percent']].agg(['size', 'min', 'max', 'mean', 'std'])\n",
    "    tmp.columns = author_group_columns\n",
    "    tmp.reset_index(inplace = True)\n",
    "    tmp.drop(['author_size2', 'author_size3'], axis = 1, inplace = True)\n",
    "    \n",
    "    # сохраняем полученные статистики в DataFrame\n",
    "    df_author.loc[df_author.query('author == @el').index, author_columns[1:]] = tmp.query('cur_author == 1')[tmp.columns[1:]].values[0]\n",
    "    \n",
    "    \n",
    "    \n",
    "# для 2х неизвестных авторов из теста добавим их средними\n",
    "# правильнее бы добавить в функцию добавления статистки, а не в сам DataFrame\n",
    "# однако на данном этапе такой вариант нас более чем устроит\n",
    "#'5a2511349a794727e3fa3d20'\n",
    "#'57f766ae9a79479bfcfa0133'\n",
    "df_author.loc['mean'] = df_author.mean()\n",
    "df_author.loc['mean2'] = df_author.loc['mean']\n",
    "\n",
    "df_author.loc['mean', ['author']] = '5a2511349a794727e3fa3d20'\n",
    "df_author.loc['mean2', ['author']] = '57f766ae9a79479bfcfa0133'"
   ]
  },
  {
   "cell_type": "code",
   "execution_count": 34,
   "id": "e74147b6-e70a-47ea-8e67-af368a051d3d",
   "metadata": {},
   "outputs": [],
   "source": [
    "df_author.to_csv(os.path.join(DIR_DATA, 'author_together.csv'), index = False)"
   ]
  },
  {
   "cell_type": "code",
   "execution_count": 35,
   "id": "f42ca482-5d48-4f62-b930-e5d4ece3244b",
   "metadata": {},
   "outputs": [],
   "source": [
    "#df_author.tail()"
   ]
  },
  {
   "cell_type": "code",
   "execution_count": null,
   "id": "846bbc4c-13ae-4176-861b-c6bca5ad474d",
   "metadata": {},
   "outputs": [],
   "source": []
  },
  {
   "cell_type": "markdown",
   "id": "fdc2daaf-c52d-4cb3-a1fa-6779a8838797",
   "metadata": {},
   "source": [
    "Добавляем статистики по авторам в датасеты"
   ]
  },
  {
   "cell_type": "code",
   "execution_count": 36,
   "id": "a9ae93ca-7769-46e1-b46b-185d907f5f96",
   "metadata": {},
   "outputs": [],
   "source": [
    "def add_author_statistics(inp_df):\n",
    "    \n",
    "    if len(inp_df[0]) == 0:  # заменяли на without_author так что не может быть\n",
    "        print(inp_Df)\n",
    "    elif len(inp_df[0]) == 1:\n",
    "        return df_author.loc[df_author.author == inp_df[0][0], \n",
    "                              author_columns[2:]\n",
    "                            ].values[0]\n",
    "    else:\n",
    "        ret_np  = np.zeros(shape = (len(author_columns[2:]),) )\n",
    "        divisor = len(inp_df[0])\n",
    "        \n",
    "        # если авторо больше одного будем выбират средние/мин/макс наченяи среди них\n",
    "        for el in inp_df[0]:\n",
    "            if el in df_author.author.values:\n",
    "                tmp = df_author[df_author.author == el]\n",
    "                ret_np = [ret_np[0]  + tmp.v_auth_min.values[0],\n",
    "                          ret_np[1]  + tmp.v_auth_max.values[0],\n",
    "                          ret_np[2]  + tmp.v_auth_mean.values[0],\n",
    "                          ret_np[3]  + tmp.v_auth_std.values[0],\n",
    "                          ret_np[4]  + tmp.d_auth_min.values[0],\n",
    "                          ret_np[5]  + tmp.d_auth_max.values[0],\n",
    "                          ret_np[6]  + tmp.d_auth_mean.values[0],\n",
    "                          ret_np[7]  + tmp.d_auth_std.values[0],\n",
    "                          ret_np[8]  + tmp.f_auth_min.values[0],\n",
    "                          ret_np[9]  + tmp.f_auth_max.values[0],\n",
    "                          ret_np[10] + tmp.f_auth_mean.values[0],\n",
    "                          ret_np[11] + tmp.f_auth_std.values[0]\n",
    "                         ]\n",
    "            else: # aouthor in test out from train\n",
    "                ret_np = [ret_np[0]  + 0,\n",
    "                          ret_np[1]  + 0,\n",
    "                          ret_np[2]  + 0,\n",
    "                          ret_np[3]  + 0,\n",
    "                          ret_np[4]  + 0,\n",
    "                          ret_np[5]  + 0,\n",
    "                          ret_np[6]  + 0,\n",
    "                          ret_np[7]  + 0,\n",
    "                          ret_np[8]  + 0,\n",
    "                          ret_np[9]  + 0,\n",
    "                          ret_np[10] + 0,\n",
    "                          ret_np[11] + 0\n",
    "                         ]\n",
    "                \n",
    "        #№ пока только среднее\n",
    "        ret_np = [ret_np[0]  / divisor,   # v_auth_min OR MIN\n",
    "                  ret_np[1]  / divisor,   # v_auth_max OR MAX\n",
    "                  ret_np[2]  / divisor,   # v_auth_mean\n",
    "                  ret_np[3]  / divisor,   # v_auth_std\n",
    "                  ret_np[4]  / divisor,   # d_auth_min OR MIN\n",
    "                  ret_np[5]  / divisor,   # d_auth_max OR MAX\n",
    "                  ret_np[6]  / divisor,   # d_auth_mean\n",
    "                  ret_np[7]  / divisor,   # d_auth_std\n",
    "                  ret_np[8]  / divisor,   # f_auth_min OR MIN\n",
    "                  ret_np[9]  / divisor,   # f_auth_max OR MAX\n",
    "                  ret_np[10] / divisor,   # f_auth_mean\n",
    "                  ret_np[11] / divisor,   # f_auth_std\n",
    "                 ]\n",
    "        \n",
    "    return ret_np"
   ]
  },
  {
   "cell_type": "code",
   "execution_count": 37,
   "id": "00ecb3de-cfec-487f-893f-6bdf66584ff5",
   "metadata": {},
   "outputs": [
    {
     "name": "stdout",
     "output_type": "stream",
     "text": [
      "before (6981, 131) (3000, 127)\n"
     ]
    },
    {
     "name": "stderr",
     "output_type": "stream",
     "text": [
      "100%|████████████████████████████████████████████████████████████████████████████| 6981/6981 [00:05<00:00, 1291.31it/s]\n",
      "100%|████████████████████████████████████████████████████████████████████████████| 3000/3000 [00:02<00:00, 1294.21it/s]"
     ]
    },
    {
     "name": "stdout",
     "output_type": "stream",
     "text": [
      "after (6981, 131) (3000, 127)\n"
     ]
    },
    {
     "name": "stderr",
     "output_type": "stream",
     "text": [
      "\n"
     ]
    }
   ],
   "source": [
    "# кроме полей author / author_size\n",
    "\n",
    "print('before', df_train.shape, df_test.shape)\n",
    "author_stats_train = df_train[['authors']].progress_apply(add_author_statistics, axis = 1)\n",
    "author_stats_test  = df_test[ ['authors']].progress_apply(add_author_statistics, axis = 1)\n",
    "\n",
    "#df_train = pd.concat([df_train, pd.DataFrame(author_stats_train.to_list(), columns = author_columns[2:])], axis = 1)\n",
    "#df_test  = pd.concat([df_test , pd.DataFrame(author_stats_test.to_list(),  columns = author_columns[2:])], axis = 1)\n",
    "print('after', df_train.shape, df_test.shape)"
   ]
  },
  {
   "cell_type": "code",
   "execution_count": 38,
   "id": "ecf122a4-7283-4af2-a493-4756fb928506",
   "metadata": {},
   "outputs": [],
   "source": [
    "#clmns['authors']['num'].extend(author_columns[2:])"
   ]
  },
  {
   "cell_type": "code",
   "execution_count": null,
   "id": "54767dc3-75e3-491d-830c-60be27ce12f2",
   "metadata": {},
   "outputs": [],
   "source": []
  },
  {
   "cell_type": "code",
   "execution_count": null,
   "id": "d6677e5e-0c12-4689-9d04-e5c777926fce",
   "metadata": {},
   "outputs": [],
   "source": []
  },
  {
   "cell_type": "code",
   "execution_count": null,
   "id": "6733ce2d-21d6-4d37-8b54-e2ed3c9cf128",
   "metadata": {},
   "outputs": [],
   "source": []
  },
  {
   "cell_type": "markdown",
   "id": "809f01b0-998c-4508-bde1-dc6356354d3c",
   "metadata": {},
   "source": [
    "## ctr"
   ]
  },
  {
   "cell_type": "code",
   "execution_count": 39,
   "id": "51b89e9d-98f0-4cf3-8663-5e850223ee4a",
   "metadata": {},
   "outputs": [],
   "source": [
    "def add_ctr_features(inp_df):\n",
    "    \n",
    "    inp_df['spec_event_1'] = inp_df.ctr.apply(lambda x: 1 if x == 6.096 else 0)\n",
    "    \n",
    "    if 'spec_event_1' not in clmns['ctr']['both']:\n",
    "        clmns['ctr']['both'].extend(['spec_event_1']) \n",
    "                                       \n",
    "    return inp_df"
   ]
  },
  {
   "cell_type": "code",
   "execution_count": 40,
   "id": "bcd5cdbd-638c-45f8-8c59-f9ba93381c0a",
   "metadata": {},
   "outputs": [],
   "source": [
    "#print('before ', df_train.shape, df_test.shape)\n",
    "#df_train = add_ctr_features(df_train)\n",
    "#df_test  = add_ctr_features(df_test)\n",
    "#print('after  ', df_train.shape, df_test.shape)"
   ]
  },
  {
   "cell_type": "code",
   "execution_count": 41,
   "id": "a7edd4b1-2336-449b-b2dd-aee150bee984",
   "metadata": {},
   "outputs": [],
   "source": [
    "df_test['spec'] = df_test.ctr.apply(lambda x: 1 if x == CTR_UKR else 0)"
   ]
  },
  {
   "cell_type": "code",
   "execution_count": null,
   "id": "e4853c67-38ab-4bed-a8fa-87d33166e83f",
   "metadata": {},
   "outputs": [],
   "source": []
  },
  {
   "cell_type": "code",
   "execution_count": null,
   "id": "93c33865-01da-419d-b600-bc88d035d42e",
   "metadata": {},
   "outputs": [],
   "source": []
  },
  {
   "cell_type": "code",
   "execution_count": 42,
   "id": "ec713e2b-fb78-4348-9e07-ce3b1ec0dc32",
   "metadata": {},
   "outputs": [],
   "source": [
    "if 'ctr' not in clmns['ctr']['num']:\n",
    "    clmns['ctr']['num'].extend(['ctr']) "
   ]
  },
  {
   "cell_type": "code",
   "execution_count": null,
   "id": "3658af95-84e7-483a-8331-97285c391007",
   "metadata": {},
   "outputs": [],
   "source": []
  },
  {
   "cell_type": "markdown",
   "id": "a0c41832-2fd2-4fe6-ac60-2fc5dc762d20",
   "metadata": {},
   "source": [
    "## category"
   ]
  },
  {
   "cell_type": "markdown",
   "id": "f625d452-8cd5-4410-af35-17b5ab0cec8e",
   "metadata": {},
   "source": [
    "Собираем статистики по категориям"
   ]
  },
  {
   "cell_type": "code",
   "execution_count": 43,
   "id": "2019036b-20a9-4d04-8647-3f802be36efa",
   "metadata": {},
   "outputs": [],
   "source": [
    "def create_daily_stats_by_category(inp_df: pd.DataFrame, max_lags: int = 7) -> pd.DataFrame:\n",
    "    \n",
    "    ret_df = inp_df[['publish_date', 'm_d', 'category', 'views', 'depth', 'full_reads_percent']].copy()\n",
    "    new_cols = ['cat_views_min', 'cat_views_max', 'cat_views_mean', 'cat_views_std',\n",
    "                'cat_depth_min', 'cat_depth_max', 'cat_depth_mean', 'cat_depth_std',\n",
    "                'cat_frp_min',   'cat_frp_max',   'cat_frp_mean',   'cat_frp_std',\n",
    "               ]\n",
    "    \n",
    "    ret_df.sort_values(by=['publish_date'], inplace = True)\n",
    "    ret_df = ret_df.groupby(['category', 'm_d'])['views', 'depth', 'full_reads_percent'].agg(('min', 'max', 'mean', 'std'))\n",
    "        \n",
    "    ret_df.columns = new_cols\n",
    "    ret_df = ret_df.reset_index()\n",
    "    #??????? only std\n",
    "    #ret_df.isnull().sum() > 0\n",
    "    ret_df.fillna(0, inplace = True)\n",
    "    \n",
    "    \n",
    "    for col, lag in  product(new_cols, list(range(max_lags))):\n",
    "        ret_df[f'{col}_lag{lag+1}'] = ret_df[col].shift(lag+1)\n",
    "        #????fillna\n",
    "        #ret_df[f'{col}_lag{lag+1}'].fillna('mean', inplace = True)\n",
    "        \n",
    "    return ret_df"
   ]
  },
  {
   "cell_type": "code",
   "execution_count": 44,
   "id": "8b78db28-00cb-4006-91de-950c5f36f4d1",
   "metadata": {},
   "outputs": [
    {
     "name": "stderr",
     "output_type": "stream",
     "text": [
      "C:\\Users\\_v010ch_\\Anaconda3\\lib\\site-packages\\ipykernel_launcher.py:10: FutureWarning: Indexing with multiple keys (implicitly converted to a tuple of keys) will be deprecated, use a list instead.\n",
      "  # Remove the CWD from sys.path while we load stuff.\n"
     ]
    }
   ],
   "source": [
    "daily_stats_category = create_daily_stats_by_category(df_train)\n",
    "daily_stats_category.to_csv(os.path.join(DIR_DATA, 'daily_stats_category.csv'), index = False)"
   ]
  },
  {
   "cell_type": "code",
   "execution_count": null,
   "id": "06faed46-e104-414c-901b-1c84d59f5647",
   "metadata": {},
   "outputs": [],
   "source": []
  },
  {
   "cell_type": "markdown",
   "id": "c97a7418-e6a6-4fee-aa95-9902562220cf",
   "metadata": {},
   "source": [
    "Добавляем статистики по категориям в датасеты"
   ]
  },
  {
   "cell_type": "code",
   "execution_count": 45,
   "id": "1c07fee4-9b43-4ccc-b330-e3971e7b107b",
   "metadata": {},
   "outputs": [],
   "source": [
    "def add_daily_stats_category(inp_df:pd.DataFrame) -> pd.DataFrame:\n",
    "    \n",
    "    ret_df = inp_df.merge(daily_stats_category, on = ['category', 'm_d'], how = 'left', validate = 'many_to_one')\n",
    "    \n",
    "    if daily_stats_category.columns[3] not in clmns['category']['num']:\n",
    "        clmns['category']['num'].extend(daily_stats_category.columns[2:])\n",
    "    \n",
    "    return ret_df"
   ]
  },
  {
   "cell_type": "code",
   "execution_count": 46,
   "id": "95ada5f6-7a32-4e4d-8e3e-7f6fad02280e",
   "metadata": {},
   "outputs": [
    {
     "name": "stdout",
     "output_type": "stream",
     "text": [
      "before  (6981, 131) (3000, 128) add  (512, 98)\n",
      "after   (6981, 227) (3000, 224)\n"
     ]
    }
   ],
   "source": [
    "print('before ', df_train.shape, df_test.shape, 'add ', daily_stats_category.shape)\n",
    "df_train = add_daily_stats_category(df_train)\n",
    "df_test = add_daily_stats_category(df_test)\n",
    "print('after  ', df_train.shape, df_test.shape, )"
   ]
  },
  {
   "cell_type": "code",
   "execution_count": 47,
   "id": "84fa71e7-c530-4da4-935c-c6b6d8af6a35",
   "metadata": {},
   "outputs": [],
   "source": [
    "#clmns['category']['num'].extend(daily_stats_category.columns[2:])"
   ]
  },
  {
   "cell_type": "markdown",
   "id": "7ba08916-2ce6-462e-b442-2c6c6bcf10b2",
   "metadata": {},
   "source": [
    "Проверяем, что все данные есть в тесте"
   ]
  },
  {
   "cell_type": "code",
   "execution_count": 48,
   "id": "201340b2-5f89-4257-8113-ad91b253da39",
   "metadata": {},
   "outputs": [
    {
     "data": {
      "text/plain": [
       "cat_views_min        33\n",
       "cat_views_max        33\n",
       "cat_views_mean       33\n",
       "cat_views_std        33\n",
       "cat_depth_min        33\n",
       "                   ... \n",
       "cat_frp_std_lag3     73\n",
       "cat_frp_std_lag4     99\n",
       "cat_frp_std_lag5    122\n",
       "cat_frp_std_lag6    133\n",
       "cat_frp_std_lag7    144\n",
       "Length: 96, dtype: int64"
      ]
     },
     "execution_count": 48,
     "metadata": {},
     "output_type": "execute_result"
    }
   ],
   "source": [
    "#df_test[['cat_views_min', 'cat_views_max', 'cat_views_mean', 'cat_views_std',\n",
    "#                'cat_depth_min', 'cat_depth_max', 'cat_depth_mean', 'cat_depth_std',\n",
    "#               'cat_frp_min',   'cat_frp_max',   'cat_frp_mean',   'cat_frp_std',]].isnull().sum()\n",
    "df_test[daily_stats_category.columns[2:]].isnull().sum()"
   ]
  },
  {
   "cell_type": "markdown",
   "id": "c61fc93e-d6a5-4b7d-8a20-9ae511ae78a9",
   "metadata": {},
   "source": [
    "Значения в признаках с лагами могут отсутствовать"
   ]
  },
  {
   "cell_type": "code",
   "execution_count": null,
   "id": "80e7bc40-244b-490d-9b97-0b242ab507f9",
   "metadata": {},
   "outputs": [],
   "source": []
  },
  {
   "cell_type": "code",
   "execution_count": 49,
   "id": "8188e5c0-551f-48e2-bbdd-df408909a427",
   "metadata": {},
   "outputs": [],
   "source": [
    "def prep_category(inp_df):\n",
    "    \n",
    "    inp_df[\"category_int\"] = inp_df.category.astype('category')\n",
    "    inp_df[\"category_int\"] = inp_df.category_int.cat.codes\n",
    "    inp_df[\"category_int\"] = inp_df.category_int.astype('int')\n",
    "    \n",
    "    if 'category_int' not in clmns['category']['num']:\n",
    "        clmns['category']['num'].extend(['category_int'])\n",
    "    \n",
    "    \n",
    "    if 'category' not in clmns['category']['cat']:\n",
    "        clmns['category']['cat'].extend(['category'])\n",
    "    \n",
    "    return inp_df"
   ]
  },
  {
   "cell_type": "code",
   "execution_count": 50,
   "id": "ceb51afd-6afa-4a3f-a9bb-0c879dcf0bc2",
   "metadata": {},
   "outputs": [
    {
     "name": "stdout",
     "output_type": "stream",
     "text": [
      "before  (6981, 227) (3000, 224) add  (512, 98)\n",
      "after   (6981, 228) (3000, 225)\n"
     ]
    }
   ],
   "source": [
    "print('before ', df_train.shape, df_test.shape, 'add ', daily_stats_category.shape)\n",
    "df_train = prep_category(df_train)\n",
    "df_test = prep_category(df_test)\n",
    "print('after  ', df_train.shape, df_test.shape, )"
   ]
  },
  {
   "cell_type": "code",
   "execution_count": null,
   "id": "367da552-2621-4d7d-b158-7d338c49b13c",
   "metadata": {},
   "outputs": [],
   "source": []
  },
  {
   "cell_type": "markdown",
   "id": "136cf873-b7c3-457d-a564-ac30bf93a681",
   "metadata": {},
   "source": [
    "## tags"
   ]
  },
  {
   "cell_type": "code",
   "execution_count": 51,
   "id": "247dda27-0b13-4cd8-bc2e-b155be2e7d25",
   "metadata": {},
   "outputs": [],
   "source": [
    "df_train['tags']  = df_train.tags.apply(lambda x: literal_eval(x))\n",
    "df_test['tags']   = df_test.tags.apply( lambda x: literal_eval(x))"
   ]
  },
  {
   "cell_type": "code",
   "execution_count": null,
   "id": "1669271c-d557-4f24-9c43-480d0dfaa233",
   "metadata": {},
   "outputs": [],
   "source": []
  },
  {
   "cell_type": "code",
   "execution_count": null,
   "id": "c520ad8a-370b-4fde-ab14-4dc28bd027e7",
   "metadata": {},
   "outputs": [],
   "source": []
  },
  {
   "cell_type": "markdown",
   "id": "01727832-2dcf-48bb-b4b4-cda9de5ecc45",
   "metadata": {},
   "source": [
    "## Предобработка признаков в датасетах"
   ]
  },
  {
   "cell_type": "markdown",
   "id": "c494b7f2-2869-42e2-b62b-966e11cef671",
   "metadata": {},
   "source": [
    "выделяем числовые признаки для нормализации"
   ]
  },
  {
   "cell_type": "raw",
   "id": "f449ddc3-f008-42e3-825e-9cfc28afdc7b",
   "metadata": {},
   "source": [
    "# исключаем из нормализации категориальные признаки\n",
    "# признаки, которые могут быть как категориальными, так и числовыми\n",
    "# так же нормализуем, т.к. после нормализации их 'количество категорий' не меняется\n",
    "cat_cols = []\n",
    "for el in clmns.keys():\n",
    "    cat_cols.extend(clmns[el]['cat'])\n",
    "\n",
    "\n",
    "num_cols = [el for el in df_test.columns.to_list() if el not in cat_cols]\n",
    "num_cols = [el for el in num_cols if el not in ['document_id', 'title', 'publish_date', 'm_d', 'session', 'authors', 'category', 'tags', \n",
    "                                                \n",
    "                                                'true_category', 'true_title', 'overview', \n",
    "                                                \n",
    "                                                'views_min', 'views_max', 'views_mean', 'views_std',   # not interested in the current day\n",
    "                                                'depth_min', 'depth_max', 'depth_mean', 'depth_std',   # not interested in the current day\n",
    "                                                'frp_min', 'frp_max', 'frp_mean', 'frp_std',           # not interested in the current day\n",
    "                                                \n",
    "                                                'cat_views_min', 'cat_views_max', 'cat_views_mean', 'cat_views_std',  # not interested in the current day\n",
    "                                                'cat_depth_min', 'cat_depth_max', 'cat_depth_mean', 'cat_depth_std',  # not interested in the current day\n",
    "                                                'cat_frp_min',   'cat_frp_max',   'cat_frp_mean',   'cat_frp_std',    # not interested in the current day\n",
    "                                                \n",
    "                                                'views', 'depth', 'full_reads_percent']]"
   ]
  },
  {
   "cell_type": "raw",
   "id": "07ceb783-de1d-452b-867e-5394b13cdb6a",
   "metadata": {},
   "source": [
    "for el in num_cols:\n",
    "    if el not in df_train.columns or el not in df_test.columns:\n",
    "        print(el)\n",
    "        \n",
    "for el in cat_cols:\n",
    "    if el not in df_train.columns or el not in df_test.columns:\n",
    "        print(el)"
   ]
  },
  {
   "cell_type": "code",
   "execution_count": 52,
   "id": "4764ee43-5a01-4043-bc3c-88ccd0557aad",
   "metadata": {},
   "outputs": [
    {
     "name": "stdout",
     "output_type": "stream",
     "text": [
      "['ph_report', 'ph_gallery', 'tv_prog', 'online', 'video', 'infogr']\n",
      "['hour', 'dow', 'day', 'mounth', 'holiday', 'day_before_holiday', 'day_after_holiday', 'distrib_brdr']\n"
     ]
    }
   ],
   "source": [
    "cat_cols = []\n",
    "num_cols = []\n",
    "\n",
    "for el in clmns.keys():\n",
    "    cat_cols.extend(clmns[el]['cat'])\n",
    "    num_cols.extend(clmns[el]['num'])\n",
    "    if len(clmns[el]['both']) != 0:\n",
    "        print(clmns[el]['both'])"
   ]
  },
  {
   "cell_type": "code",
   "execution_count": 53,
   "id": "5c4279be-9335-43a6-bfc0-a717bb128bf0",
   "metadata": {},
   "outputs": [],
   "source": [
    "num_cols.extend(['hour', 'mounth', 'dow', ])\n",
    "cat_cols.extend([ 'ph_report', 'ph_gallery', 'tv_prog', 'online', 'video', 'infogr',\n",
    "                  'holiday', 'day_before_holiday', 'day_after_holiday', 'distrib_brdr',\n",
    "                  #'spec_event_1'\n",
    "                ])"
   ]
  },
  {
   "cell_type": "code",
   "execution_count": null,
   "id": "2c025ec2-f938-4f76-ac33-65390874e458",
   "metadata": {},
   "outputs": [],
   "source": []
  },
  {
   "cell_type": "code",
   "execution_count": null,
   "id": "9baab023-5c82-4d36-b8d5-bc62ff386e7c",
   "metadata": {},
   "outputs": [],
   "source": []
  },
  {
   "cell_type": "markdown",
   "id": "68737346-5571-4e3c-a232-774fd5fd5134",
   "metadata": {},
   "source": [
    "# Полипризнаки"
   ]
  },
  {
   "cell_type": "code",
   "execution_count": 54,
   "id": "ce3032b7-c6c9-4633-9178-6ad8e4309778",
   "metadata": {},
   "outputs": [
    {
     "data": {
      "text/plain": [
       "9"
      ]
     },
     "execution_count": 54,
     "metadata": {},
     "output_type": "execute_result"
    }
   ],
   "source": [
    "poly_cols = ['Nauthors', 'ctr', 'text_len', 'hour', 'day', 'mounth', 'dow', 'nimgs', 'category_int']\n",
    "len(poly_cols)"
   ]
  },
  {
   "cell_type": "code",
   "execution_count": 55,
   "id": "82e1fcd9-66b5-4f83-92fa-e4873b3acfdc",
   "metadata": {},
   "outputs": [
    {
     "data": {
      "text/plain": [
       "PolynomialFeatures(include_bias=False)"
      ]
     },
     "execution_count": 55,
     "metadata": {},
     "output_type": "execute_result"
    }
   ],
   "source": [
    "poly2 = preprocessing.PolynomialFeatures(degree = 2, include_bias = False)\n",
    "poly2.fit(df_train[poly_cols])"
   ]
  },
  {
   "cell_type": "code",
   "execution_count": 56,
   "id": "35442111-8b1c-455b-86ed-4ac93b6110ff",
   "metadata": {},
   "outputs": [
    {
     "data": {
      "text/plain": [
       "PolynomialFeatures(degree=3, include_bias=False)"
      ]
     },
     "execution_count": 56,
     "metadata": {},
     "output_type": "execute_result"
    }
   ],
   "source": [
    "poly3 = preprocessing.PolynomialFeatures(degree = 3, include_bias = False)\n",
    "poly3.fit(df_train[poly_cols])"
   ]
  },
  {
   "cell_type": "code",
   "execution_count": null,
   "id": "b67545a3-42e9-4adb-9cfd-4e318746321b",
   "metadata": {},
   "outputs": [],
   "source": []
  },
  {
   "cell_type": "code",
   "execution_count": 59,
   "id": "d1624bc4-0134-4110-b768-07840560db6a",
   "metadata": {},
   "outputs": [],
   "source": [
    "def addd_poly(inp_df, inp_poly):\n",
    "    \n",
    "    inp_cols = inp_df.columns\n",
    "    \n",
    "    tmp = inp_poly.transform(inp_df[poly_cols])\n",
    "    tmp = pd.DataFrame(tmp, columns = inp_poly.get_feature_names(poly_cols))\n",
    "    \n",
    "    inp_df = pd.concat([inp_df, \n",
    "                        tmp.iloc[:, len(poly_cols):]\n",
    "                       ], ignore_index = True, axis = 1)\n",
    "    new_cols = list(inp_cols) + list(inp_poly.get_feature_names(poly_cols)[len(poly_cols):])\n",
    "    \n",
    "    inp_df.columns = new_cols\n",
    "         \n",
    "    if inp_poly.get_feature_names(poly_cols)[-1] not in clmns['poly']['num']:\n",
    "        clmns['poly']['num'].extend(inp_poly.get_feature_names(poly_cols)[len(poly_cols):])\n",
    "        \n",
    "        \n",
    "    return inp_df"
   ]
  },
  {
   "cell_type": "code",
   "execution_count": 60,
   "id": "9b662935-bad2-4fad-9bb1-770d9e679658",
   "metadata": {},
   "outputs": [
    {
     "name": "stdout",
     "output_type": "stream",
     "text": [
      "before  (6981, 228) (3000, 225)\n",
      "after   (6981, 273) (3000, 270)\n"
     ]
    }
   ],
   "source": [
    "print('before ', df_train.shape, df_test.shape)\n",
    "df_train = addd_poly(df_train, poly2) #poly3\n",
    "df_test  = addd_poly(df_test,  poly2) #poly3\n",
    "print('after  ', df_train.shape, df_test.shape)"
   ]
  },
  {
   "cell_type": "code",
   "execution_count": null,
   "id": "befaee49-fb26-4ae2-848a-af1a9b37eac9",
   "metadata": {},
   "outputs": [],
   "source": []
  },
  {
   "cell_type": "code",
   "execution_count": 61,
   "id": "303adff7-f061-427e-b748-0042c5d22b07",
   "metadata": {},
   "outputs": [],
   "source": [
    "num_cols.extend(clmns['poly']['num'])"
   ]
  },
  {
   "cell_type": "code",
   "execution_count": null,
   "id": "ce2fd2a2-eb90-4cac-9f26-60f7ed373259",
   "metadata": {},
   "outputs": [],
   "source": []
  },
  {
   "cell_type": "code",
   "execution_count": 62,
   "id": "9bd615ea-f203-4a6f-a81c-46cd2abac416",
   "metadata": {},
   "outputs": [],
   "source": [
    "df_train.to_csv(os.path.join( DIR_DATA, 'train_upd_no_norm.csv'), index = False)\n",
    "df_test.to_csv(os.path.join( DIR_DATA,  'test_upd_no_norm.csv'), index = False)"
   ]
  },
  {
   "cell_type": "code",
   "execution_count": null,
   "id": "75fc8c96-c08b-4485-bbe6-d5b888bec460",
   "metadata": {},
   "outputs": [],
   "source": []
  },
  {
   "cell_type": "markdown",
   "id": "db340078-8e72-4cce-a1e9-7acfae390f0a",
   "metadata": {},
   "source": [
    "нормализуем"
   ]
  },
  {
   "cell_type": "code",
   "execution_count": 63,
   "id": "cf416a96-6750-452b-ba55-1120545774c3",
   "metadata": {},
   "outputs": [],
   "source": [
    "#scaler = preprocessing.MinMaxScaler()   #Transform features by scaling each feature to a given range.\n",
    "#scaler = preprocessing.Normalizer()     #Normalize samples individually to unit norm.\n",
    "scaler = preprocessing.StandardScaler()  #Standardize features by removing the mean and scaling to unit variance.\n",
    "\n",
    "scaler.fit(df_train[num_cols])\n",
    "\n",
    "df_train[num_cols] = scaler.transform(df_train[num_cols])\n",
    "df_test[num_cols]  = scaler.transform(df_test[num_cols])"
   ]
  },
  {
   "cell_type": "code",
   "execution_count": null,
   "id": "cde57a1b-caee-43c3-8106-93f7574ae183",
   "metadata": {},
   "outputs": [],
   "source": []
  },
  {
   "cell_type": "code",
   "execution_count": 64,
   "id": "39ffdd7b-0473-40a1-9313-efe948ef8de8",
   "metadata": {},
   "outputs": [],
   "source": [
    "# определяем CTR_UKR спецстатей по украине после нормализации\n",
    "#for el in doc_id_ukr:\n",
    "#    print(df_test[df_test.document_id == el].ctr.values)"
   ]
  },
  {
   "cell_type": "code",
   "execution_count": null,
   "id": "dfdddfe3-d27a-412e-b896-ff1a887ef04a",
   "metadata": {},
   "outputs": [],
   "source": []
  },
  {
   "cell_type": "markdown",
   "id": "04766e94-98c6-4255-9a53-bc5aa46d47b1",
   "metadata": {},
   "source": [
    "Добавляем эмбединги"
   ]
  },
  {
   "cell_type": "code",
   "execution_count": 65,
   "id": "b7a79318-af7f-4fa8-bbe5-35ec2fd9aaae",
   "metadata": {},
   "outputs": [],
   "source": [
    "# sberbank-ai/sbert_large_mt_nlu_ru       1024  1.71Gb\n",
    "# DeepPavlov/rubert-base-cased-sentence   768   0.7Gb\n",
    "# DeepPavlov/rubert-base-cased-conversational  768\n",
    "# DeepPavlov/rubert-base-cased            768\n",
    "# sberbank-ai/sbert_large_nlu_ru          1024  1.71Gb\n",
    "\n",
    "#MODEL_FOLDER = 'rubert-base-cased-sentence'\n",
    "MODEL_FOLDER = 'sbert_large_mt_nlu_ru'\n",
    "MAX_LENGTH = 24\n",
    "PCA_COMPONENTS = 64"
   ]
  },
  {
   "cell_type": "raw",
   "id": "b3f2a3ac-36cc-4d92-be2d-8eecbbcb2afa",
   "metadata": {},
   "source": [
    "def add_ttle_embeding(inp_df: pd.DataFrame) -> pd.DataFrame:\n",
    "    \n",
    "    pass    \n",
    "    "
   ]
  },
  {
   "cell_type": "code",
   "execution_count": 66,
   "id": "bf4a10d3-0920-487a-adbd-8311ee748a93",
   "metadata": {},
   "outputs": [
    {
     "data": {
      "text/plain": [
       "((6981, 337), (7000, 65))"
      ]
     },
     "execution_count": 66,
     "metadata": {},
     "output_type": "execute_result"
    }
   ],
   "source": [
    "emb_train = pd.read_csv(os.path.join(DIR_DATA, f'ttl_cln_emb_train_{MODEL_FOLDER}_{MAX_LENGTH}_pca{PCA_COMPONENTS}.csv'))\n",
    "#emb_train.drop(['document_id', 'title'], axis = 1 , inplace = True)\n",
    "emb_train.drop(['true_title'], axis = 1 , inplace = True)\n",
    "\n",
    "df_train = df_train.merge(emb_train, on = 'document_id', validate = 'one_to_one')\n",
    "df_train.shape, emb_train.shape"
   ]
  },
  {
   "cell_type": "code",
   "execution_count": 67,
   "id": "c768dd96-cfc7-4c89-903d-b04046d1e1f2",
   "metadata": {},
   "outputs": [
    {
     "data": {
      "text/plain": [
       "((3000, 334), (3000, 65))"
      ]
     },
     "execution_count": 67,
     "metadata": {},
     "output_type": "execute_result"
    }
   ],
   "source": [
    "emb_test = pd.read_csv(os.path.join(DIR_DATA, f'ttl_cln_emb_test_{MODEL_FOLDER}_{MAX_LENGTH}_pca{PCA_COMPONENTS}.csv'))\n",
    "#emb_test.drop(['document_id', 'title'], axis = 1 , inplace = True)\n",
    "emb_test.drop(['true_title'], axis = 1 , inplace = True)\n",
    "\n",
    "df_test = df_test.merge(emb_test, on = 'document_id', validate = 'one_to_one')\n",
    "df_test.shape, emb_test.shape"
   ]
  },
  {
   "cell_type": "code",
   "execution_count": 68,
   "id": "0a3fb1e7-1b33-4f13-bbef-8707b6af2bc5",
   "metadata": {},
   "outputs": [],
   "source": [
    "num_cols = num_cols + list(emb_train.columns)"
   ]
  },
  {
   "cell_type": "code",
   "execution_count": 69,
   "id": "21e69b4c-2957-415b-bc4e-fa5f7f703f55",
   "metadata": {},
   "outputs": [],
   "source": [
    "if 'document_id' in num_cols:\n",
    "    num_cols.remove('document_id')"
   ]
  },
  {
   "cell_type": "code",
   "execution_count": 70,
   "id": "26adfc18-7c1a-485c-a2da-f2e71eb4a264",
   "metadata": {},
   "outputs": [],
   "source": [
    "clmns['title']['num'].extend(emb_train.columns[1:])"
   ]
  },
  {
   "cell_type": "code",
   "execution_count": null,
   "id": "9393c3cb-f63e-4c8b-8713-69695581e3ff",
   "metadata": {},
   "outputs": [],
   "source": []
  },
  {
   "cell_type": "code",
   "execution_count": null,
   "id": "9ac27d63-a4ac-4c4d-bb76-61db444d9470",
   "metadata": {},
   "outputs": [],
   "source": []
  },
  {
   "cell_type": "markdown",
   "id": "252d3409-7429-4fdf-9e79-43ba84b0d727",
   "metadata": {},
   "source": [
    "## save"
   ]
  },
  {
   "cell_type": "code",
   "execution_count": 71,
   "id": "119148f6-87af-4047-8a0d-ae74efa8b7ad",
   "metadata": {},
   "outputs": [
    {
     "data": {
      "text/plain": [
       "((3000, 334), (3000, 334))"
      ]
     },
     "execution_count": 71,
     "metadata": {},
     "output_type": "execute_result"
    }
   ],
   "source": [
    "df_test.shape, df_test.shape"
   ]
  },
  {
   "cell_type": "code",
   "execution_count": null,
   "id": "be0dbd1c-5b07-43fe-baf7-e4d7bcfaef7c",
   "metadata": {},
   "outputs": [],
   "source": [
    "df_train.to_csv(os.path.join( DIR_DATA, 'train_upd.csv'))\n",
    "df_test.to_csv(os.path.join( DIR_DATA,  'test_upd.csv'))"
   ]
  },
  {
   "cell_type": "code",
   "execution_count": null,
   "id": "db13180c-5188-4dfa-bbaa-a42ed582e61f",
   "metadata": {},
   "outputs": [],
   "source": [
    "with open(os.path.join(DIR_DATA, 'clmns.pkl'), 'wb') as pickle_file:\n",
    "    pkl.dump(clmns, pickle_file)"
   ]
  },
  {
   "cell_type": "code",
   "execution_count": null,
   "id": "fac1bb39-d9df-49f9-9ef0-4f17228443a9",
   "metadata": {},
   "outputs": [],
   "source": []
  },
  {
   "cell_type": "code",
   "execution_count": null,
   "id": "a8439a85-2a07-4fbb-a532-ccc88c094303",
   "metadata": {},
   "outputs": [],
   "source": []
  },
  {
   "cell_type": "code",
   "execution_count": null,
   "id": "5320bc25-347c-49a7-88b9-2419a8d5de80",
   "metadata": {},
   "outputs": [],
   "source": []
  },
  {
   "cell_type": "code",
   "execution_count": 68,
   "id": "747baa53-ef7f-4074-918b-7911d78bac0a",
   "metadata": {},
   "outputs": [],
   "source": [
    "#clmns"
   ]
  },
  {
   "cell_type": "code",
   "execution_count": 69,
   "id": "74ee0eaa-9dba-41cc-b612-d16298e8e3c7",
   "metadata": {},
   "outputs": [
    {
     "data": {
      "text/plain": [
       "['two_articles',\n",
       " 'category',\n",
       " 'ph_report',\n",
       " 'ph_gallery',\n",
       " 'tv_prog',\n",
       " 'online',\n",
       " 'video',\n",
       " 'infogr',\n",
       " 'holiday',\n",
       " 'day_before_holiday',\n",
       " 'day_after_holiday',\n",
       " 'distrib_brdr']"
      ]
     },
     "execution_count": 69,
     "metadata": {},
     "output_type": "execute_result"
    }
   ],
   "source": [
    "cat_cols"
   ]
  },
  {
   "cell_type": "code",
   "execution_count": 70,
   "id": "4318445d-a44c-42e8-b13b-81c0572b352b",
   "metadata": {},
   "outputs": [
    {
     "name": "stdout",
     "output_type": "stream",
     "text": [
      "['nimgs', 'text_len', 'views_min', 'views_max', 'views_mean', 'views_std', 'depth_min', 'depth_max', 'depth_mean', 'depth_std', 'frp_min', 'frp_max', 'frp_mean', 'frp_std', 'views_min_lag1', 'views_min_lag2', 'views_min_lag3', 'views_min_lag4', 'views_min_lag5', 'views_min_lag6', 'views_min_lag7', 'views_max_lag1', 'views_max_lag2', 'views_max_lag3', 'views_max_lag4', 'views_max_lag5', 'views_max_lag6', 'views_max_lag7', 'views_mean_lag1', 'views_mean_lag2', 'views_mean_lag3', 'views_mean_lag4', 'views_mean_lag5', 'views_mean_lag6', 'views_mean_lag7', 'views_std_lag1', 'views_std_lag2', 'views_std_lag3', 'views_std_lag4', 'views_std_lag5', 'views_std_lag6', 'views_std_lag7', 'depth_min_lag1', 'depth_min_lag2', 'depth_min_lag3', 'depth_min_lag4', 'depth_min_lag5', 'depth_min_lag6', 'depth_min_lag7', 'depth_max_lag1', 'depth_max_lag2', 'depth_max_lag3', 'depth_max_lag4', 'depth_max_lag5', 'depth_max_lag6', 'depth_max_lag7', 'depth_mean_lag1', 'depth_mean_lag2', 'depth_mean_lag3', 'depth_mean_lag4', 'depth_mean_lag5', 'depth_mean_lag6', 'depth_mean_lag7', 'depth_std_lag1', 'depth_std_lag2', 'depth_std_lag3', 'depth_std_lag4', 'depth_std_lag5', 'depth_std_lag6', 'depth_std_lag7', 'frp_min_lag1', 'frp_min_lag2', 'frp_min_lag3', 'frp_min_lag4', 'frp_min_lag5', 'frp_min_lag6', 'frp_min_lag7', 'frp_max_lag1', 'frp_max_lag2', 'frp_max_lag3', 'frp_max_lag4', 'frp_max_lag5', 'frp_max_lag6', 'frp_max_lag7', 'frp_mean_lag1', 'frp_mean_lag2', 'frp_mean_lag3', 'frp_mean_lag4', 'frp_mean_lag5', 'frp_mean_lag6', 'frp_mean_lag7', 'frp_std_lag1', 'frp_std_lag2', 'frp_std_lag3', 'frp_std_lag4', 'frp_std_lag5', 'frp_std_lag6', 'frp_std_lag7', 'authors_int', 'Nauthors', 'ctr', 'cat_views_min', 'cat_views_max', 'cat_views_mean', 'cat_views_std', 'cat_depth_min', 'cat_depth_max', 'cat_depth_mean', 'cat_depth_std', 'cat_frp_min', 'cat_frp_max', 'cat_frp_mean', 'cat_frp_std', 'cat_views_min_lag1', 'cat_views_min_lag2', 'cat_views_min_lag3', 'cat_views_min_lag4', 'cat_views_min_lag5', 'cat_views_min_lag6', 'cat_views_min_lag7', 'cat_views_max_lag1', 'cat_views_max_lag2', 'cat_views_max_lag3', 'cat_views_max_lag4', 'cat_views_max_lag5', 'cat_views_max_lag6', 'cat_views_max_lag7', 'cat_views_mean_lag1', 'cat_views_mean_lag2', 'cat_views_mean_lag3', 'cat_views_mean_lag4', 'cat_views_mean_lag5', 'cat_views_mean_lag6', 'cat_views_mean_lag7', 'cat_views_std_lag1', 'cat_views_std_lag2', 'cat_views_std_lag3', 'cat_views_std_lag4', 'cat_views_std_lag5', 'cat_views_std_lag6', 'cat_views_std_lag7', 'cat_depth_min_lag1', 'cat_depth_min_lag2', 'cat_depth_min_lag3', 'cat_depth_min_lag4', 'cat_depth_min_lag5', 'cat_depth_min_lag6', 'cat_depth_min_lag7', 'cat_depth_max_lag1', 'cat_depth_max_lag2', 'cat_depth_max_lag3', 'cat_depth_max_lag4', 'cat_depth_max_lag5', 'cat_depth_max_lag6', 'cat_depth_max_lag7', 'cat_depth_mean_lag1', 'cat_depth_mean_lag2', 'cat_depth_mean_lag3', 'cat_depth_mean_lag4', 'cat_depth_mean_lag5', 'cat_depth_mean_lag6', 'cat_depth_mean_lag7', 'cat_depth_std_lag1', 'cat_depth_std_lag2', 'cat_depth_std_lag3', 'cat_depth_std_lag4', 'cat_depth_std_lag5', 'cat_depth_std_lag6', 'cat_depth_std_lag7', 'cat_frp_min_lag1', 'cat_frp_min_lag2', 'cat_frp_min_lag3', 'cat_frp_min_lag4', 'cat_frp_min_lag5', 'cat_frp_min_lag6', 'cat_frp_min_lag7', 'cat_frp_max_lag1', 'cat_frp_max_lag2', 'cat_frp_max_lag3', 'cat_frp_max_lag4', 'cat_frp_max_lag5', 'cat_frp_max_lag6', 'cat_frp_max_lag7', 'cat_frp_mean_lag1', 'cat_frp_mean_lag2', 'cat_frp_mean_lag3', 'cat_frp_mean_lag4', 'cat_frp_mean_lag5', 'cat_frp_mean_lag6', 'cat_frp_mean_lag7', 'cat_frp_std_lag1', 'cat_frp_std_lag2', 'cat_frp_std_lag3', 'cat_frp_std_lag4', 'cat_frp_std_lag5', 'cat_frp_std_lag6', 'cat_frp_std_lag7', 'category_int', 'hour', 'mounth', 'dow', 'tt_emb0', 'tt_emb1', 'tt_emb2', 'tt_emb3', 'tt_emb4', 'tt_emb5', 'tt_emb6', 'tt_emb7', 'tt_emb8', 'tt_emb9', 'tt_emb10', 'tt_emb11', 'tt_emb12', 'tt_emb13', 'tt_emb14', 'tt_emb15', 'tt_emb16', 'tt_emb17', 'tt_emb18', 'tt_emb19', 'tt_emb20', 'tt_emb21', 'tt_emb22', 'tt_emb23', 'tt_emb24', 'tt_emb25', 'tt_emb26', 'tt_emb27', 'tt_emb28', 'tt_emb29', 'tt_emb30', 'tt_emb31', 'tt_emb32', 'tt_emb33', 'tt_emb34', 'tt_emb35', 'tt_emb36', 'tt_emb37', 'tt_emb38', 'tt_emb39', 'tt_emb40', 'tt_emb41', 'tt_emb42', 'tt_emb43', 'tt_emb44', 'tt_emb45', 'tt_emb46', 'tt_emb47', 'tt_emb48', 'tt_emb49', 'tt_emb50', 'tt_emb51', 'tt_emb52', 'tt_emb53', 'tt_emb54', 'tt_emb55', 'tt_emb56', 'tt_emb57', 'tt_emb58', 'tt_emb59', 'tt_emb60', 'tt_emb61', 'tt_emb62', 'tt_emb63']\n"
     ]
    }
   ],
   "source": [
    "print(num_cols)"
   ]
  },
  {
   "cell_type": "code",
   "execution_count": null,
   "id": "9abce378-b83d-431f-a6af-445c83033e3f",
   "metadata": {},
   "outputs": [],
   "source": []
  }
 ],
 "metadata": {
  "kernelspec": {
   "display_name": "Python 3",
   "language": "python",
   "name": "python3"
  },
  "language_info": {
   "codemirror_mode": {
    "name": "ipython",
    "version": 3
   },
   "file_extension": ".py",
   "mimetype": "text/x-python",
   "name": "python",
   "nbconvert_exporter": "python",
   "pygments_lexer": "ipython3",
   "version": "3.7.10"
  }
 },
 "nbformat": 4,
 "nbformat_minor": 5
}
