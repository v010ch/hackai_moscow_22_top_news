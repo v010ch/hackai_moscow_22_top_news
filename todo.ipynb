{
 "cells": [
  {
   "cell_type": "code",
   "execution_count": null,
   "id": "d1832521-14be-4eef-968c-b53a245d7b1a",
   "metadata": {},
   "outputs": [],
   "source": []
  },
  {
   "cell_type": "code",
   "execution_count": null,
   "id": "0d9093cd-264c-4240-a3d7-7b74aa7e34be",
   "metadata": {},
   "outputs": [],
   "source": []
  },
  {
   "cell_type": "markdown",
   "id": "e668c257-c4ed-46d3-889a-d9fce51bc7bf",
   "metadata": {},
   "source": [
    "- [ ] !!!! own models for each category\n",
    "- [x] [done 28/06] отдельная модель для каждого требуемого значения (3) \n",
    "- [x] [done 28/06] catboost / xgboost / lightgbm \n",
    "- [ ] ?torch.nn\n",
    "- [ ] sklearn linear models\n",
    "- [ ] ensemble\n",
    "- [ ] кластеризовтаь темы / авторов по темам / отдельная модель для каждого кластера\n",
    "- [x] [done 12/07] parse rbk for find titles-authors-tags and get more data for training. ??????depth/frp????\n",
    "- [x] [done 04/07] lag by days/ last 7/30 (by category?)\n",
    "- [ ] tags to embeding/token\n",
    "- [ ] add depth (predicted) as a feuture to fpr\n",
    "- [ ] ttl embedings to pca\n",
    "\n",
    "\n",
    "<br><br/>\n",
    "    \n",
    "- [x] [end done 13/07] dow, hour, weekday, holiday\n",
    "- [ ] clear titles\n",
    "- [ ] authors encode\n",
    "- [ ] category encodes\n",
    "- [x] [done 29/06] title as a vector (NLP) \n",
    "- [x] [done 13/07] article length\n",
    "- [x] [07/07]number of authors\n",
    "- [x] [07/07]authors statistics\n",
    "- [ ] ??number of tags\n",
    "- [ ] find a better random seeds\n",
    "- [x] [done 28/06] make own metrics calculation for 'views', 'depth', 'full_read' on train/val\n",
    "- [ ] perhaps for each target should be own features: like view/weekend. but weekend almost has no impac ton other targets\n",
    "- [ ] get model scores from cv, not from split train/test"
   ]
  },
  {
   "cell_type": "code",
   "execution_count": null,
   "id": "48d2e6ff-713c-476c-934e-57cff47f74dd",
   "metadata": {},
   "outputs": [],
   "source": []
  },
  {
   "cell_type": "code",
   "execution_count": null,
   "id": "e1c5487a-deb7-42c5-a019-213f0516bced",
   "metadata": {},
   "outputs": [],
   "source": []
  }
 ],
 "metadata": {
  "kernelspec": {
   "display_name": "Python 3",
   "language": "python",
   "name": "python3"
  },
  "language_info": {
   "codemirror_mode": {
    "name": "ipython",
    "version": 3
   },
   "file_extension": ".py",
   "mimetype": "text/x-python",
   "name": "python",
   "nbconvert_exporter": "python",
   "pygments_lexer": "ipython3",
   "version": "3.7.10"
  }
 },
 "nbformat": 4,
 "nbformat_minor": 5
}
