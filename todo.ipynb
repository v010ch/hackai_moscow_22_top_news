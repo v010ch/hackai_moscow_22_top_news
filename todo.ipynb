{
 "cells": [
  {
   "cell_type": "code",
   "execution_count": null,
   "id": "d1832521-14be-4eef-968c-b53a245d7b1a",
   "metadata": {},
   "outputs": [],
   "source": []
  },
  {
   "cell_type": "code",
   "execution_count": null,
   "id": "0d9093cd-264c-4240-a3d7-7b74aa7e34be",
   "metadata": {},
   "outputs": [],
   "source": []
  },
  {
   "cell_type": "markdown",
   "id": "e668c257-c4ed-46d3-889a-d9fce51bc7bf",
   "metadata": {},
   "source": [
    "\n",
    "\n",
    "- [ ] отдельная модель для каждого требуемого значения (3)\n",
    "- [ ] catboost / xgboost / lightgbm\n",
    "- [ ] ?torch.nn\n",
    "- [ ] sklearn linear models\n",
    "- [ ] ensemble\n",
    "- [ ] кластеризовтаь темы / авторов по темам / отдельная модель для каждого кластера\n",
    "- [ ] \n",
    "- [ ] \n",
    "- [ ] \n",
    "\n",
    "\n",
    "    <br/><br/>\n",
    "    \n",
    "- [ ] dow, hour, weekday, holiday\n",
    "- [ ] authors encode\n",
    "- [ ] category encodes\n",
    "- [ ] title as a vector (NLP)\n",
    "- [ ] find a better random seeds\n",
    "- [ ] make own metrics calculation for 'views', 'depth', 'full_read' on train/val\n",
    "- [ ] perhaps for each target should be own features: like view/weekend. but weekend almost has no impac ton other targets"
   ]
  },
  {
   "cell_type": "code",
   "execution_count": null,
   "id": "48d2e6ff-713c-476c-934e-57cff47f74dd",
   "metadata": {},
   "outputs": [],
   "source": []
  },
  {
   "cell_type": "code",
   "execution_count": null,
   "id": "e1c5487a-deb7-42c5-a019-213f0516bced",
   "metadata": {},
   "outputs": [],
   "source": []
  }
 ],
 "metadata": {
  "kernelspec": {
   "display_name": "Python 3",
   "language": "python",
   "name": "python3"
  },
  "language_info": {
   "codemirror_mode": {
    "name": "ipython",
    "version": 3
   },
   "file_extension": ".py",
   "mimetype": "text/x-python",
   "name": "python",
   "nbconvert_exporter": "python",
   "pygments_lexer": "ipython3",
   "version": "3.7.10"
  }
 },
 "nbformat": 4,
 "nbformat_minor": 5
}
