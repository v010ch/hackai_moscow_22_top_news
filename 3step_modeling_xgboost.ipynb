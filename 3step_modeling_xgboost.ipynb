{
 "cells": [
  {
   "cell_type": "code",
   "execution_count": null,
   "id": "6f62ec01-36f8-4ffe-b187-0616094602d5",
   "metadata": {},
   "outputs": [],
   "source": [
    "%load_ext watermark"
   ]
  },
  {
   "cell_type": "code",
   "execution_count": null,
   "id": "5de1fd22-d80f-4ff2-ba53-1f42e4c3f723",
   "metadata": {},
   "outputs": [],
   "source": [
    "%watermark"
   ]
  },
  {
   "cell_type": "code",
   "execution_count": null,
   "id": "d2bed795-0452-4024-a049-ae55e3d16b74",
   "metadata": {},
   "outputs": [],
   "source": [
    "import os\n",
    "import pickle as pkl\n",
    "\n",
    "import numpy as np\n",
    "import pandas as pd\n",
    "\n",
    "from xgboost import XGBRegressor\n",
    "import xgboost as xgb\n",
    "from sklearn.metrics import r2_score\n",
    "from sklearn import preprocessing"
   ]
  },
  {
   "cell_type": "code",
   "execution_count": null,
   "id": "21f6a58a-b019-4436-83ec-428714473139",
   "metadata": {},
   "outputs": [],
   "source": [
    "from xgboost import __version__ as xgb_version\n",
    "from sklearn import __version__ as sklearn_version\n",
    "\n",
    "print(f'xgb_version: {xgb_version}')\n",
    "print(f'sklearn_version: {sklearn_version}')"
   ]
  },
  {
   "cell_type": "code",
   "execution_count": null,
   "id": "f9e86c55-ff3a-41c1-b185-e3d669557154",
   "metadata": {},
   "outputs": [],
   "source": [
    "%watermark --iversions"
   ]
  },
  {
   "cell_type": "code",
   "execution_count": null,
   "id": "91de9bd6-4a0a-4f40-af4e-0464de0b983c",
   "metadata": {},
   "outputs": [],
   "source": []
  },
  {
   "cell_type": "markdown",
   "id": "3f3d5ca4-753b-47f1-801f-02be08c0bc3c",
   "metadata": {},
   "source": [
    "## Reproducibility block"
   ]
  },
  {
   "cell_type": "code",
   "execution_count": null,
   "id": "8d133278-9bc6-4c5d-b029-bd0c31d6adf1",
   "metadata": {},
   "outputs": [],
   "source": [
    "# seed the RNG for all devices (both CPU and CUDA)\n",
    "#torch.manual_seed(1984)\n",
    "\n",
    "#Disabling the benchmarking feature causes cuDNN to deterministically select an algorithm, \n",
    "#possibly at the cost of reduced performance.\n",
    "#torch.backends.cudnn.benchmark = False\n",
    "\n",
    "# for custom operators,\n",
    "import random\n",
    "random.seed(5986721)\n",
    "\n",
    "# \n",
    "np.random.seed(62185)\n",
    "\n",
    "#sklearn take seed from a line abowe\n",
    "\n",
    "CB_RANDOMSEED = 309487\n",
    "XGB_RANDOMSEED = 56"
   ]
  },
  {
   "cell_type": "code",
   "execution_count": null,
   "id": "9f38ebd5-a020-47eb-b1f4-9ea987afb524",
   "metadata": {},
   "outputs": [],
   "source": []
  },
  {
   "cell_type": "code",
   "execution_count": null,
   "id": "019813d1-62ae-4b4d-a2f6-c0d74c146413",
   "metadata": {},
   "outputs": [],
   "source": [
    "DIR_DATA   = os.path.join(os.getcwd(), 'data')\n",
    "DIR_MODELS = os.path.join(os.getcwd(), 'models')\n",
    "DIR_SUBM   = os.path.join(os.getcwd(), 'subm')\n",
    "DIR_SUBM_PART = os.path.join(os.getcwd(), 'subm', 'partial')"
   ]
  },
  {
   "cell_type": "code",
   "execution_count": null,
   "id": "0d608686-6d8e-49ad-906b-b20933e0ec2a",
   "metadata": {},
   "outputs": [],
   "source": []
  },
  {
   "cell_type": "markdown",
   "id": "ae3e27a3-16bb-456d-b7a1-7975d5f85ea5",
   "metadata": {},
   "source": [
    "## Load data"
   ]
  },
  {
   "cell_type": "code",
   "execution_count": null,
   "id": "ee296ac9-baf6-4bcb-89ce-5fe99408403d",
   "metadata": {},
   "outputs": [],
   "source": [
    "df_train  = pd.read_csv(os.path.join(DIR_DATA, 'train_upd.csv'), index_col= 0)\n",
    "x_train  = pd.read_csv(os.path.join(DIR_DATA, 'x_train.csv'), index_col= 0)\n",
    "x_val    = pd.read_csv(os.path.join(DIR_DATA, 'x_val.csv'), index_col= 0)\n",
    "df_test  = pd.read_csv(os.path.join(DIR_DATA, 'test_upd.csv'), index_col= 0)\n",
    "\n",
    "with open(os.path.join(DIR_DATA, 'cat_columns.pkl'), 'rb') as pickle_file:\n",
    "    cat_cols = pkl.load(pickle_file)\n",
    "    \n",
    "with open(os.path.join(DIR_DATA, 'num_columns.pkl'), 'rb') as pickle_file:\n",
    "    num_cols = pkl.load(pickle_file)\n",
    "    \n",
    "with open(os.path.join(DIR_DATA, 'clmns.pkl'), 'rb') as pickle_file:\n",
    "    clmns = pkl.load(pickle_file)\n"
   ]
  },
  {
   "cell_type": "code",
   "execution_count": null,
   "id": "b00427ec-ac4f-4da3-8dfb-94871e63072d",
   "metadata": {},
   "outputs": [],
   "source": [
    "x_train.shape, x_val.shape, df_test.shape, len(cat_cols), len(num_cols)"
   ]
  },
  {
   "cell_type": "markdown",
   "id": "d4b599d2-168d-4cc1-a4ea-fc34d707a0ce",
   "metadata": {},
   "source": [
    "отделяем метки от данных"
   ]
  },
  {
   "cell_type": "code",
   "execution_count": null,
   "id": "40de44ef-8722-48fc-84f7-c78ce45471fc",
   "metadata": {},
   "outputs": [],
   "source": [
    "y_train = x_train[['views', 'depth', 'full_reads_percent']]\n",
    "y_val   = x_val[['views', 'depth', 'full_reads_percent']]\n",
    "\n",
    "x_train.drop(['views', 'depth', 'full_reads_percent'], axis = 1, inplace = True)\n",
    "x_val.drop(  ['views', 'depth', 'full_reads_percent'], axis = 1, inplace = True)\n",
    "\n",
    "x_train.shape, x_val.shape, y_train.shape, y_val.shape"
   ]
  },
  {
   "cell_type": "code",
   "execution_count": null,
   "id": "c416f029-f4cc-46cf-aa20-c30e664b1cdb",
   "metadata": {},
   "outputs": [],
   "source": [
    "#cat_cols + num_cols"
   ]
  },
  {
   "cell_type": "code",
   "execution_count": null,
   "id": "6b954c51-f101-466c-8f3c-6c1ffa7b7d52",
   "metadata": {},
   "outputs": [],
   "source": [
    "cat_cols = []\n",
    "num_cols = []\n",
    "\n",
    "for el in clmns.keys():\n",
    "    cat_cols.extend(clmns[el]['cat'])\n",
    "    num_cols.extend(clmns[el]['num'])\n",
    "    if len(clmns[el]['both']) != 0:\n",
    "        print(clmns[el]['both'])"
   ]
  },
  {
   "cell_type": "code",
   "execution_count": null,
   "id": "10dbe2fb-c7b0-4a65-8c80-5c99c62664a9",
   "metadata": {},
   "outputs": [],
   "source": [
    "num_cols.extend(['hour', 'mounth', 'dow'])\n",
    "#cat_cols.extend(['dow'])"
   ]
  },
  {
   "cell_type": "code",
   "execution_count": null,
   "id": "a498176c-ff85-4d43-815f-c5a9408da1c1",
   "metadata": {},
   "outputs": [],
   "source": []
  },
  {
   "cell_type": "code",
   "execution_count": null,
   "id": "f582c45f-f817-4e29-914d-d721d21c118c",
   "metadata": {},
   "outputs": [],
   "source": [
    "def plot_importance(inp_model, imp_number = 30, imp_type = 'weight'):\n",
    "    feature_important = inp_model.get_booster().get_score(importance_type=imp_type)\n",
    "    keys = list(feature_important.keys())\n",
    "    values = list(feature_important.values())\n",
    "\n",
    "    data = pd.DataFrame(data=values, index=keys, columns=[\"score\"]).sort_values(by = \"score\", ascending=False)\n",
    "    data.nlargest(imp_number, columns=\"score\").plot(kind='barh', figsize = (30,16)) ## plot top 40 features"
   ]
  },
  {
   "cell_type": "code",
   "execution_count": null,
   "id": "a032c494-1a60-4cda-af73-9172eb490dc1",
   "metadata": {},
   "outputs": [],
   "source": []
  },
  {
   "cell_type": "code",
   "execution_count": null,
   "id": "49ddd6f4-1a5e-4845-acb6-3a10d444fee8",
   "metadata": {},
   "outputs": [],
   "source": []
  },
  {
   "cell_type": "code",
   "execution_count": null,
   "id": "fc3f802d-f658-4e96-83d7-b5393224ba9b",
   "metadata": {},
   "outputs": [],
   "source": [
    "cv_ntrees = 100"
   ]
  },
  {
   "cell_type": "markdown",
   "id": "480af973-b82d-443c-bd9c-278fe34b9bf6",
   "metadata": {},
   "source": [
    "## views"
   ]
  },
  {
   "cell_type": "code",
   "execution_count": null,
   "id": "2dea033c-3d61-4a03-9f5d-d02fff176286",
   "metadata": {},
   "outputs": [],
   "source": [
    "#xgb.set_config(verbosity=0)"
   ]
  },
  {
   "cell_type": "code",
   "execution_count": null,
   "id": "001e4340-2661-43f2-9584-efe65711ec3e",
   "metadata": {},
   "outputs": [],
   "source": [
    "cb_params_views = {\n",
    "    'booster': 'gbtree',\n",
    "    'objective': 'reg:squarederror',\n",
    "    #'learning_rate': 0.05,\n",
    "    'eta': 0.3,\n",
    "    'max_depth': 15, \n",
    "    #'num_boost_round': 10000, \n",
    "    #'early_stopping_rounds': 100,\n",
    "}\n",
    "dtrain = xgb.DMatrix(df_train[num_cols], label=df_train[['views']])"
   ]
  },
  {
   "cell_type": "code",
   "execution_count": null,
   "id": "7e55ed3c-3f82-4e15-8adc-429230ac9bc6",
   "metadata": {},
   "outputs": [],
   "source": [
    "%%time\n",
    "score = xgb.cv(cb_params_views, dtrain, cv_ntrees, nfold=5, #early_stopping_rounds=1000,\n",
    "       metrics={'rmse'},\n",
    "       #callbacks=[xgb.callback.EvaluationMonitor(show_stdv=True)]\n",
    "      )"
   ]
  },
  {
   "cell_type": "code",
   "execution_count": null,
   "id": "4860cfd3-6fc4-411d-bb7b-5600a42fe002",
   "metadata": {},
   "outputs": [],
   "source": [
    "score.tail(5)"
   ]
  },
  {
   "cell_type": "code",
   "execution_count": null,
   "id": "78cc2bf8-8108-46c9-813d-538f0a2e9fa3",
   "metadata": {},
   "outputs": [],
   "source": [
    "score[score['train-rmse-mean'] == score['train-rmse-mean'].min()][:1]"
   ]
  },
  {
   "cell_type": "code",
   "execution_count": null,
   "id": "da7e4647-84bf-4d9f-bc6e-af392d68d1ea",
   "metadata": {},
   "outputs": [],
   "source": [
    "score[score['test-rmse-mean'] == score['test-rmse-mean'].min()][:1]"
   ]
  },
  {
   "cell_type": "code",
   "execution_count": null,
   "id": "a58f1649-25c8-4e86-ba9d-09dd05811beb",
   "metadata": {},
   "outputs": [],
   "source": []
  },
  {
   "cell_type": "code",
   "execution_count": null,
   "id": "a9f6c81b-18da-4ed9-9dbb-9c230521593c",
   "metadata": {},
   "outputs": [],
   "source": [
    "xgb_model_views = XGBRegressor(n_estimators=1000, \n",
    "                               max_depth=7, \n",
    "                               eta=0.1, \n",
    "                               #subsample=0.7, \n",
    "                               colsample_bytree=0.8,\n",
    "                               n_jobs = -1,\n",
    "                               random_state = XGB_RANDOMSEED,\n",
    "                              )\n",
    "\n",
    "xgb_model_views.fit(x_train[num_cols], y_train['views'], \n",
    "                    early_stopping_rounds=5,\n",
    "                    eval_set=[(x_val[num_cols], y_val['views'])], \n",
    "                    verbose=False\n",
    "                   )"
   ]
  },
  {
   "cell_type": "code",
   "execution_count": null,
   "id": "1726f35d-8bfb-4aec-a010-a89292428983",
   "metadata": {},
   "outputs": [],
   "source": []
  },
  {
   "cell_type": "code",
   "execution_count": null,
   "id": "953aa93b-981c-4e19-b5fc-38f1ff1f6138",
   "metadata": {},
   "outputs": [],
   "source": [
    "# Get predictions and metrics\n",
    "preds_train_views = xgb_model_views.predict(x_train[num_cols])\n",
    "preds_val_views   = xgb_model_views.predict(x_val[num_cols])\n",
    "\n",
    "train_score_views = r2_score(y_train[\"views\"], preds_train_views)\n",
    "val_score_views   = r2_score(y_val[\"views\"],   preds_val_views)\n",
    "\n",
    "train_score_views, val_score_views"
   ]
  },
  {
   "cell_type": "raw",
   "id": "e05131a1-f4de-4255-a758-3d7bfe8619f8",
   "metadata": {},
   "source": [
    "(0.7755792099701974, 0.8464698702781239) baseline"
   ]
  },
  {
   "cell_type": "code",
   "execution_count": null,
   "id": "12ae502e-4ce4-4f6e-947f-4f6f5942584a",
   "metadata": {},
   "outputs": [],
   "source": []
  },
  {
   "cell_type": "code",
   "execution_count": null,
   "id": "e02908f3-0201-4b54-b271-52e0d84dbdd5",
   "metadata": {},
   "outputs": [],
   "source": [
    "plot_importance(xgb_model_views, 30, 'weight')"
   ]
  },
  {
   "cell_type": "code",
   "execution_count": null,
   "id": "d671fea7-9f2b-4271-bcf4-620d79f04b5c",
   "metadata": {},
   "outputs": [],
   "source": []
  },
  {
   "cell_type": "markdown",
   "id": "a3cac29b-566d-4c8b-9cf7-9ef84a7261d2",
   "metadata": {},
   "source": [
    "## depth"
   ]
  },
  {
   "cell_type": "code",
   "execution_count": null,
   "id": "757a6653-9f5f-4388-8f70-12174fe2c6d7",
   "metadata": {},
   "outputs": [],
   "source": []
  },
  {
   "cell_type": "code",
   "execution_count": null,
   "id": "a1b94baa-d75d-4f2f-a1b8-a347ed3d9dcc",
   "metadata": {},
   "outputs": [],
   "source": [
    "cb_params_depth = {\n",
    "    'booster': 'gbtree',\n",
    "    'objective': 'reg:squarederror',\n",
    "    #'n_estimators': 1000, \n",
    "    #'learning_rate': 0.05,\n",
    "    'eta': 0.3,\n",
    "    'max_depth': 15, \n",
    " #   'num_boost_round': 10000, \n",
    " #   'early_stopping_rounds': 100,\n",
    "}\n",
    "dtrain = xgb.DMatrix(df_train[num_cols], label=df_train[['depth']])"
   ]
  },
  {
   "cell_type": "code",
   "execution_count": null,
   "id": "fcdfa4c2-7ce7-4750-be0f-a7d7a719c21b",
   "metadata": {},
   "outputs": [],
   "source": [
    "%%time\n",
    "score = xgb.cv(cb_params_depth, dtrain, cv_ntrees, nfold=5, #early_stopping_rounds=1000,\n",
    "       metrics={'rmse'},\n",
    "       #callbacks=[xgb.callback.EvaluationMonitor(show_stdv=True)]\n",
    "      )\n",
    "score.tail()"
   ]
  },
  {
   "cell_type": "code",
   "execution_count": null,
   "id": "3a811cb9-9d97-4947-b1aa-35b0c65f14f4",
   "metadata": {},
   "outputs": [],
   "source": [
    "score[score['train-rmse-mean'] == score['train-rmse-mean'].min()][:1]"
   ]
  },
  {
   "cell_type": "code",
   "execution_count": null,
   "id": "a6efaf2c-ac67-42af-b60c-82000f9ae987",
   "metadata": {},
   "outputs": [],
   "source": [
    "score[score['test-rmse-mean'] == score['test-rmse-mean'].min()][:1]"
   ]
  },
  {
   "cell_type": "code",
   "execution_count": null,
   "id": "89941c55-762f-469c-93c8-7aa5be24a017",
   "metadata": {},
   "outputs": [],
   "source": []
  },
  {
   "cell_type": "code",
   "execution_count": null,
   "id": "e9948b36-a6f3-4bec-bbb2-402d5186ef4e",
   "metadata": {},
   "outputs": [],
   "source": [
    "xgb_model_depth = XGBRegressor(n_estimators=1000, \n",
    "                               max_depth=7, \n",
    "                               eta=0.1, \n",
    "                               #subsample=0.7, \n",
    "                               colsample_bytree=0.8,\n",
    "                               n_jobs = -1,\n",
    "                               random_state = XGB_RANDOMSEED,\n",
    "                              )\n",
    "\n",
    "xgb_model_depth.fit(x_train[num_cols], y_train['depth'], \n",
    "                    early_stopping_rounds=5,\n",
    "                    eval_set=[(x_val[num_cols], y_val['depth'])], \n",
    "                    verbose=False\n",
    "                   )"
   ]
  },
  {
   "cell_type": "code",
   "execution_count": null,
   "id": "2596cde2-acc0-4f27-8ab9-6658e7cba842",
   "metadata": {},
   "outputs": [],
   "source": [
    "# Get predictions and metrics\n",
    "preds_train_depth = xgb_model_depth.predict(x_train[num_cols])\n",
    "preds_val_depth   = xgb_model_depth.predict(x_val[num_cols])\n",
    "\n",
    "train_score_depth = r2_score(y_train[\"depth\"], preds_train_depth)\n",
    "val_score_depth   = r2_score(y_val[\"depth\"],   preds_val_depth)\n",
    "\n",
    "train_score_depth, val_score_depth"
   ]
  },
  {
   "cell_type": "raw",
   "id": "85ce844a-18b9-42f3-8aa0-b906d5451a04",
   "metadata": {},
   "source": [
    "(0.9507037589614913, 0.7433207812829997) emb + lags"
   ]
  },
  {
   "cell_type": "code",
   "execution_count": null,
   "id": "b2432121-4cdd-485b-8fde-eff5859e9cb5",
   "metadata": {},
   "outputs": [],
   "source": []
  },
  {
   "cell_type": "code",
   "execution_count": null,
   "id": "9eaa8af8-177d-47ba-8a98-c1fc83fab801",
   "metadata": {},
   "outputs": [],
   "source": [
    "plot_importance(xgb_model_depth, 30, 'weight')"
   ]
  },
  {
   "cell_type": "code",
   "execution_count": null,
   "id": "b1f38246-6f92-482d-92f3-281f0f5570d2",
   "metadata": {},
   "outputs": [],
   "source": []
  },
  {
   "cell_type": "markdown",
   "id": "fafdf6ea-9687-472f-ab6e-86125f5dc7eb",
   "metadata": {},
   "source": [
    "## full_reads_percent"
   ]
  },
  {
   "cell_type": "code",
   "execution_count": null,
   "id": "e4209a63-4bb3-4393-8f75-f74cb929688c",
   "metadata": {},
   "outputs": [],
   "source": []
  },
  {
   "cell_type": "code",
   "execution_count": null,
   "id": "9bde8190-0193-4dad-8a39-c47e77bb6ec9",
   "metadata": {},
   "outputs": [],
   "source": [
    "cb_params_fpr = {\n",
    "    'booster': 'gbtree',\n",
    "    'objective': 'reg:squarederror',\n",
    "    #'n_estimators': 1000, \n",
    "    #'learning_rate': 0.05,\n",
    "    'eta': 0.3,\n",
    "    'max_depth': 15, \n",
    " #   'num_boost_round': 10000, \n",
    " #   'early_stopping_rounds': 100,\n",
    "}\n",
    "dtrain = xgb.DMatrix(df_train[num_cols], label=df_train[['full_reads_percent']])"
   ]
  },
  {
   "cell_type": "code",
   "execution_count": null,
   "id": "74e468f2-383a-4011-8426-a7f269b448c8",
   "metadata": {},
   "outputs": [],
   "source": [
    "%%time\n",
    "score = xgb.cv(cb_params_fpr, dtrain, cv_ntrees, nfold=5, #early_stopping_rounds=1000,\n",
    "       metrics={'rmse'},\n",
    "       #callbacks=[xgb.callback.EvaluationMonitor(show_stdv=True)]\n",
    "      )\n",
    "score.tail()"
   ]
  },
  {
   "cell_type": "code",
   "execution_count": null,
   "id": "6cefff62-75e5-4326-9650-bebc4b800df9",
   "metadata": {},
   "outputs": [],
   "source": [
    "score[score['train-rmse-mean'] == score['train-rmse-mean'].min()][:1]"
   ]
  },
  {
   "cell_type": "code",
   "execution_count": null,
   "id": "b1a1879d-aa76-4271-a74f-f59cc3e50d2d",
   "metadata": {},
   "outputs": [],
   "source": [
    "score[score['test-rmse-mean'] == score['test-rmse-mean'].min()][:1]"
   ]
  },
  {
   "cell_type": "code",
   "execution_count": null,
   "id": "20191a26-ad96-4423-8a61-12a41100d153",
   "metadata": {},
   "outputs": [],
   "source": []
  },
  {
   "cell_type": "code",
   "execution_count": null,
   "id": "a6c26cf4-7ba3-486b-ba44-feb728d8feeb",
   "metadata": {},
   "outputs": [],
   "source": [
    "#pd.DataFrame(preds_train_depth, columns = ['depth_pred'])\n",
    "pred_scaler = preprocessing.StandardScaler()\n",
    "tmp = pred_scaler.fit_transform(preds_train_depth.reshape(-1, 1))\n",
    "pred_depth_train = pd.DataFrame(tmp, columns = ['depth_pred'])\n",
    "\n",
    "pred_depth_val   = pd.DataFrame(pred_scaler.transform(preds_val_depth.reshape(-1, 1)), columns = ['depth_pred'])\n"
   ]
  },
  {
   "cell_type": "raw",
   "id": "51baff20-3077-410e-8c49-9905edbb5fbd",
   "metadata": {},
   "source": [
    "print('before ', x_train.shape, x_val.shape, preds_train_depth.shape, preds_val_depth.shape)\n",
    "x_train = pd.concat([x_train, pred_depth_train], axis = 1)\n",
    "x_val   = pd.concat([x_val,   pred_depth_val],   axis = 1)\n",
    "print('after  ', x_train.shape, x_val.shape)"
   ]
  },
  {
   "cell_type": "code",
   "execution_count": null,
   "id": "7745c438-06e9-477e-ac52-37017039f9c4",
   "metadata": {},
   "outputs": [],
   "source": [
    "xgb_model_frp = XGBRegressor(n_estimators=1000, \n",
    "                             max_depth=7, \n",
    "                             eta=0.1, \n",
    "                             #subsample=0.7, \n",
    "                             colsample_bytree=0.8,\n",
    "                             n_jobs = -1,\n",
    "                             random_state = XGB_RANDOMSEED,\n",
    "                             )\n",
    "\n",
    "xgb_model_frp.fit(x_train[num_cols], \n",
    "                  y_train['full_reads_percent'], \n",
    "                  early_stopping_rounds=5,\n",
    "                  eval_set=[(x_val[num_cols], \n",
    "                             y_val['full_reads_percent'])\n",
    "                           ], \n",
    "                  verbose=False\n",
    "                 )"
   ]
  },
  {
   "cell_type": "code",
   "execution_count": null,
   "id": "ce2f5cf1-5605-4e75-99dd-8c23248ff512",
   "metadata": {},
   "outputs": [],
   "source": [
    "# Get predictions and metrics\n",
    "preds_train_frp = xgb_model_frp.predict(x_train[num_cols])\n",
    "preds_val_frp   = xgb_model_frp.predict(x_val[num_cols])\n",
    "\n",
    "train_score_frp = r2_score(y_train[\"full_reads_percent\"], preds_train_frp)\n",
    "val_score_frp   = r2_score(y_val[\"full_reads_percent\"],   preds_val_frp)\n",
    "\n",
    "train_score_frp, val_score_frp"
   ]
  },
  {
   "cell_type": "raw",
   "id": "61e50487-b421-4d1e-9c0d-597acfd36af2",
   "metadata": {},
   "source": [
    "(0.8743266355474598, 0.37379638051659225) emb + lags + nauth + all_norm"
   ]
  },
  {
   "cell_type": "code",
   "execution_count": null,
   "id": "c6b000b9-9f71-4f8d-bb73-d58b91330eca",
   "metadata": {},
   "outputs": [],
   "source": []
  },
  {
   "cell_type": "code",
   "execution_count": null,
   "id": "68703860-9cfa-4ca7-ba89-861fb74cd5e8",
   "metadata": {},
   "outputs": [],
   "source": [
    "plot_importance(xgb_model_frp, 30, 'weight')"
   ]
  },
  {
   "cell_type": "code",
   "execution_count": null,
   "id": "0b8a1479-995f-4b14-b801-39bf875b652d",
   "metadata": {},
   "outputs": [],
   "source": []
  },
  {
   "cell_type": "code",
   "execution_count": null,
   "id": "304d2314-a21f-4bb0-bd61-9fa94711f9f1",
   "metadata": {},
   "outputs": [],
   "source": [
    "score_train = 0.4 * train_score_views + 0.3 * train_score_depth + 0.3 * train_score_frp\n",
    "score_val   = 0.4 * val_score_views   + 0.3 * val_score_depth   + 0.3 * val_score_frp\n",
    "\n",
    "score_train, score_val"
   ]
  },
  {
   "cell_type": "raw",
   "id": "a8d9b50b-3572-48b3-9329-4588131b5d28",
   "metadata": {},
   "source": [
    "(0.46553643466563366, 0.48177658679349394)"
   ]
  },
  {
   "cell_type": "code",
   "execution_count": null,
   "id": "d8ee7de1-db14-4cbc-a221-cd028b745476",
   "metadata": {},
   "outputs": [],
   "source": []
  },
  {
   "cell_type": "code",
   "execution_count": null,
   "id": "ed3a658c-84f9-46de-aaf1-7dc245cd685f",
   "metadata": {},
   "outputs": [],
   "source": [
    "NTRY = 7"
   ]
  },
  {
   "cell_type": "markdown",
   "id": "81b7d454-37b6-45ee-94fb-99af0fe23ae5",
   "metadata": {},
   "source": [
    "## save models"
   ]
  },
  {
   "cell_type": "code",
   "execution_count": null,
   "id": "75aa11de-71cb-47a7-9e22-2857f7f7e643",
   "metadata": {},
   "outputs": [],
   "source": [
    "xgb_model_views.save_model(os.path.join(DIR_MODELS, f'{NTRY}_xgb_views.json'), \n",
    "                          )\n",
    "\n",
    "xgb_model_depth.save_model(os.path.join(DIR_MODELS, f'{NTRY}_xgb_depth.json'), \n",
    "                          )\n",
    "\n",
    "xgb_model_frp.save_model(os.path.join(DIR_MODELS, f'{NTRY}_xgb_frp.json'), \n",
    "                        )"
   ]
  },
  {
   "cell_type": "code",
   "execution_count": null,
   "id": "102c6530-8a1b-4c1c-a1d3-e9d95e350220",
   "metadata": {},
   "outputs": [],
   "source": []
  },
  {
   "cell_type": "markdown",
   "id": "ac604b78-2718-408d-8d19-5b202d3f5a19",
   "metadata": {},
   "source": [
    "## make predict"
   ]
  },
  {
   "cell_type": "code",
   "execution_count": null,
   "id": "df8e4305-28ed-444f-8325-e6460f7d2271",
   "metadata": {},
   "outputs": [],
   "source": [
    "pred_views = xgb_model_views.predict(df_test[num_cols])\n",
    "pred_depth = xgb_model_depth.predict(df_test[num_cols])\n",
    "pred_frp   = xgb_model_frp.predict(  df_test[num_cols])"
   ]
  },
  {
   "cell_type": "code",
   "execution_count": null,
   "id": "f422300e-24cf-435a-af11-a450f4f10393",
   "metadata": {},
   "outputs": [],
   "source": [
    "subm = pd.DataFrame()\n",
    "subm['document_id'] = df_test.document_id\n",
    "\n",
    "subm['views'] = pred_views\n",
    "subm['depth'] = pred_depth\n",
    "subm['full_reads_percent'] = pred_frp"
   ]
  },
  {
   "cell_type": "code",
   "execution_count": null,
   "id": "37fa65e1-c702-4764-8f84-eb93b80c73f8",
   "metadata": {},
   "outputs": [],
   "source": [
    "subm.head()"
   ]
  },
  {
   "cell_type": "code",
   "execution_count": null,
   "id": "00d26c97-fb11-49b4-940e-ea797b27d29d",
   "metadata": {},
   "outputs": [],
   "source": [
    "subm.to_csv(os.path.join(DIR_SUBM, f'{NTRY}_xgb_lags_emb.csv'), index = False)"
   ]
  },
  {
   "cell_type": "code",
   "execution_count": null,
   "id": "381434ea-0954-4ac1-8278-348a674c1a9c",
   "metadata": {},
   "outputs": [],
   "source": []
  }
 ],
 "metadata": {
  "kernelspec": {
   "display_name": "Python 3",
   "language": "python",
   "name": "python3"
  },
  "language_info": {
   "codemirror_mode": {
    "name": "ipython",
    "version": 3
   },
   "file_extension": ".py",
   "mimetype": "text/x-python",
   "name": "python",
   "nbconvert_exporter": "python",
   "pygments_lexer": "ipython3",
   "version": "3.7.10"
  }
 },
 "nbformat": 4,
 "nbformat_minor": 5
}
