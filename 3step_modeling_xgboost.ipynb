{
 "cells": [
  {
   "cell_type": "code",
   "execution_count": 1,
   "id": "6f62ec01-36f8-4ffe-b187-0616094602d5",
   "metadata": {},
   "outputs": [],
   "source": [
    "%load_ext watermark"
   ]
  },
  {
   "cell_type": "code",
   "execution_count": 2,
   "id": "5de1fd22-d80f-4ff2-ba53-1f42e4c3f723",
   "metadata": {},
   "outputs": [
    {
     "name": "stdout",
     "output_type": "stream",
     "text": [
      "Last updated: 2022-07-20T14:03:06.552230+03:00\n",
      "\n",
      "Python implementation: CPython\n",
      "Python version       : 3.7.10\n",
      "IPython version      : 7.22.0\n",
      "\n",
      "Compiler    : MSC v.1916 64 bit (AMD64)\n",
      "OS          : Windows\n",
      "Release     : 10\n",
      "Machine     : AMD64\n",
      "Processor   : Intel64 Family 6 Model 158 Stepping 9, GenuineIntel\n",
      "CPU cores   : 8\n",
      "Architecture: 64bit\n",
      "\n"
     ]
    }
   ],
   "source": [
    "%watermark"
   ]
  },
  {
   "cell_type": "code",
   "execution_count": 3,
   "id": "d2bed795-0452-4024-a049-ae55e3d16b74",
   "metadata": {},
   "outputs": [],
   "source": [
    "import os\n",
    "import pickle as pkl\n",
    "\n",
    "import numpy as np\n",
    "import pandas as pd\n",
    "\n",
    "from xgboost import XGBRegressor\n",
    "import xgboost as xgb\n",
    "from sklearn.metrics import r2_score\n",
    "from sklearn import preprocessing\n",
    "\n",
    "from typing import Tuple"
   ]
  },
  {
   "cell_type": "code",
   "execution_count": 4,
   "id": "21f6a58a-b019-4436-83ec-428714473139",
   "metadata": {},
   "outputs": [
    {
     "name": "stdout",
     "output_type": "stream",
     "text": [
      "xgb_version: 1.6.1\n",
      "sklearn_version: 0.24.2\n"
     ]
    }
   ],
   "source": [
    "from xgboost import __version__ as xgb_version\n",
    "from sklearn import __version__ as sklearn_version\n",
    "\n",
    "print(f'xgb_version: {xgb_version}')\n",
    "print(f'sklearn_version: {sklearn_version}')"
   ]
  },
  {
   "cell_type": "code",
   "execution_count": 5,
   "id": "f9e86c55-ff3a-41c1-b185-e3d669557154",
   "metadata": {},
   "outputs": [
    {
     "name": "stdout",
     "output_type": "stream",
     "text": [
      "numpy  : 1.20.3\n",
      "pandas : 0.25.3\n",
      "sklearn: 0.24.2\n",
      "xgboost: 1.6.1\n",
      "\n"
     ]
    }
   ],
   "source": [
    "%watermark --iversions"
   ]
  },
  {
   "cell_type": "code",
   "execution_count": null,
   "id": "91de9bd6-4a0a-4f40-af4e-0464de0b983c",
   "metadata": {},
   "outputs": [],
   "source": []
  },
  {
   "cell_type": "markdown",
   "id": "3f3d5ca4-753b-47f1-801f-02be08c0bc3c",
   "metadata": {},
   "source": [
    "## Reproducibility block"
   ]
  },
  {
   "cell_type": "code",
   "execution_count": 6,
   "id": "8d133278-9bc6-4c5d-b029-bd0c31d6adf1",
   "metadata": {},
   "outputs": [],
   "source": [
    "# seed the RNG for all devices (both CPU and CUDA)\n",
    "#torch.manual_seed(1984)\n",
    "\n",
    "#Disabling the benchmarking feature causes cuDNN to deterministically select an algorithm, \n",
    "#possibly at the cost of reduced performance.\n",
    "#torch.backends.cudnn.benchmark = False\n",
    "\n",
    "# for custom operators,\n",
    "import random\n",
    "random.seed(5986721)\n",
    "\n",
    "# \n",
    "np.random.seed(62185)\n",
    "\n",
    "#sklearn take seed from a line abowe\n",
    "\n",
    "CB_RANDOMSEED = 309487\n",
    "XGB_RANDOMSEED = 56"
   ]
  },
  {
   "cell_type": "code",
   "execution_count": null,
   "id": "9f38ebd5-a020-47eb-b1f4-9ea987afb524",
   "metadata": {},
   "outputs": [],
   "source": []
  },
  {
   "cell_type": "code",
   "execution_count": 7,
   "id": "019813d1-62ae-4b4d-a2f6-c0d74c146413",
   "metadata": {},
   "outputs": [],
   "source": [
    "DIR_DATA   = os.path.join(os.getcwd(), 'data')\n",
    "DIR_MODELS = os.path.join(os.getcwd(), 'models')\n",
    "DIR_SUBM   = os.path.join(os.getcwd(), 'subm')\n",
    "DIR_SUBM_PART = os.path.join(os.getcwd(), 'subm', 'partial')"
   ]
  },
  {
   "cell_type": "code",
   "execution_count": null,
   "id": "0d608686-6d8e-49ad-906b-b20933e0ec2a",
   "metadata": {},
   "outputs": [],
   "source": []
  },
  {
   "cell_type": "code",
   "execution_count": 8,
   "id": "0a2f13fc-081d-4ade-9456-a46b2c1d6bfb",
   "metadata": {},
   "outputs": [],
   "source": [
    "NTRY = 24\n",
    "NAME = f'{NTRY}_xgb_pca64_sber_bord_nose_iter_poly'"
   ]
  },
  {
   "cell_type": "code",
   "execution_count": 9,
   "id": "24f04c59-f963-445d-8180-733c85a6c094",
   "metadata": {},
   "outputs": [],
   "source": [
    "VIEWS_UKR = 2554204\n",
    "DEPTH_UKR = 1.799\n",
    "FPR_UKR = 4.978"
   ]
  },
  {
   "cell_type": "code",
   "execution_count": null,
   "id": "9a2d3bfa-c36c-4a2a-b849-d5b6f8f81722",
   "metadata": {},
   "outputs": [],
   "source": []
  },
  {
   "cell_type": "markdown",
   "id": "ae3e27a3-16bb-456d-b7a1-7975d5f85ea5",
   "metadata": {},
   "source": [
    "## Load data"
   ]
  },
  {
   "cell_type": "code",
   "execution_count": 10,
   "id": "ee296ac9-baf6-4bcb-89ce-5fe99408403d",
   "metadata": {},
   "outputs": [],
   "source": [
    "df_train  = pd.read_csv(os.path.join(DIR_DATA, 'train_upd.csv'))#, index_col= 0)\n",
    "df_test  = pd.read_csv(os.path.join(DIR_DATA, 'test_upd.csv'))#, index_col= 0)\n",
    "    \n",
    "with open(os.path.join(DIR_DATA, 'clmns.pkl'), 'rb') as pickle_file:\n",
    "    clmns = pkl.load(pickle_file)\n"
   ]
  },
  {
   "cell_type": "code",
   "execution_count": 11,
   "id": "b00427ec-ac4f-4da3-8dfb-94871e63072d",
   "metadata": {},
   "outputs": [
    {
     "data": {
      "text/plain": [
       "((6981, 338), (3000, 335))"
      ]
     },
     "execution_count": 11,
     "metadata": {},
     "output_type": "execute_result"
    }
   ],
   "source": [
    "df_train.shape, df_test.shape, "
   ]
  },
  {
   "cell_type": "code",
   "execution_count": 12,
   "id": "6b954c51-f101-466c-8f3c-6c1ffa7b7d52",
   "metadata": {},
   "outputs": [
    {
     "name": "stdout",
     "output_type": "stream",
     "text": [
      "['ph_report', 'ph_gallery', 'tv_prog', 'online', 'video', 'infogr']\n",
      "['hour', 'dow', 'day', 'mounth', 'holiday', 'day_before_holiday', 'day_after_holiday', 'distrib_brdr']\n"
     ]
    }
   ],
   "source": [
    "cat_cols = []\n",
    "num_cols = []\n",
    "\n",
    "for el in clmns.keys():\n",
    "    cat_cols.extend(clmns[el]['cat'])\n",
    "    num_cols.extend(clmns[el]['num'])\n",
    "    if len(clmns[el]['both']) != 0:\n",
    "        print(clmns[el]['both'])"
   ]
  },
  {
   "cell_type": "code",
   "execution_count": 13,
   "id": "10dbe2fb-c7b0-4a65-8c80-5c99c62664a9",
   "metadata": {},
   "outputs": [],
   "source": [
    "num_cols.extend(['hour', 'mounth', 'dow',\n",
    "                'ph_report', 'ph_gallery', 'tv_prog', 'online', 'video', 'infogr',\n",
    "                 'holiday', 'day_before_holiday', 'day_after_holiday', 'distrib_brdr',\n",
    "                 'two_articles',\n",
    "                 #'spec_event_1',\n",
    "                ])\n",
    "#cat_cols.extend(['dow'])"
   ]
  },
  {
   "cell_type": "code",
   "execution_count": null,
   "id": "a498176c-ff85-4d43-815f-c5a9408da1c1",
   "metadata": {},
   "outputs": [],
   "source": []
  },
  {
   "cell_type": "code",
   "execution_count": 14,
   "id": "f582c45f-f817-4e29-914d-d721d21c118c",
   "metadata": {},
   "outputs": [],
   "source": [
    "def plot_importance(inp_model, imp_number = 30, imp_type = 'weight'):\n",
    "    feature_important = inp_model.get_booster().get_score(importance_type=imp_type)\n",
    "    keys = list(feature_important.keys())\n",
    "    values = list(feature_important.values())\n",
    "\n",
    "    data = pd.DataFrame(data=values, index=keys, columns=[\"score\"]).sort_values(by = \"score\", ascending=False)\n",
    "    data.nlargest(imp_number, columns=\"score\").plot(kind='barh', figsize = (30,16)) ## plot top 40 features"
   ]
  },
  {
   "cell_type": "code",
   "execution_count": null,
   "id": "a032c494-1a60-4cda-af73-9172eb490dc1",
   "metadata": {},
   "outputs": [],
   "source": []
  },
  {
   "cell_type": "code",
   "execution_count": null,
   "id": "49ddd6f4-1a5e-4845-acb6-3a10d444fee8",
   "metadata": {},
   "outputs": [],
   "source": []
  },
  {
   "cell_type": "code",
   "execution_count": null,
   "id": "fc3f802d-f658-4e96-83d7-b5393224ba9b",
   "metadata": {},
   "outputs": [],
   "source": []
  },
  {
   "cell_type": "code",
   "execution_count": 15,
   "id": "ceac5b63-64cc-49cc-8726-e4779ba7ca2f",
   "metadata": {},
   "outputs": [],
   "source": [
    "#def r2(predt: np.ndarray, dtrain: xgb.DMatrix) -> Tuple[str, float]:\n",
    "def r2(y_pred: np.ndarray, y_true: xgb.DMatrix) -> Tuple[str, float]:\n",
    "    \n",
    "    return 'r2', r2_score(y_true.get_label(), y_pred)"
   ]
  },
  {
   "cell_type": "markdown",
   "id": "480af973-b82d-443c-bd9c-278fe34b9bf6",
   "metadata": {},
   "source": [
    "## views"
   ]
  },
  {
   "cell_type": "code",
   "execution_count": 16,
   "id": "2dea033c-3d61-4a03-9f5d-d02fff176286",
   "metadata": {},
   "outputs": [],
   "source": [
    "#xgb.set_config(verbosity=0)\n",
    "#xgb_spec = ['day', 'mounth', 'authors_int', 'category_int']"
   ]
  },
  {
   "cell_type": "code",
   "execution_count": 17,
   "id": "001e4340-2661-43f2-9584-efe65711ec3e",
   "metadata": {},
   "outputs": [],
   "source": [
    "cv_ntrees = 500\n",
    "\n",
    "xgb_params_views = {\n",
    "    'booster': 'gbtree',\n",
    "    'objective': 'reg:squarederror',\n",
    "    #'learning_rate': 0.05,\n",
    "    #'eta': 0.3,\n",
    "    #'max_depth': 15, \n",
    "    #'num_boost_round': 10000, \n",
    "    #'early_stopping_rounds': 100,\n",
    "}\n",
    "dtrain_v = xgb.DMatrix(df_train[num_cols], label=df_train[['views']])\n",
    "#dtrain = xgb.DMatrix(df_train[xgb_spec], label=df_train[['views']])"
   ]
  },
  {
   "cell_type": "code",
   "execution_count": 18,
   "id": "7e55ed3c-3f82-4e15-8adc-429230ac9bc6",
   "metadata": {},
   "outputs": [
    {
     "name": "stdout",
     "output_type": "stream",
     "text": [
      "Wall time: 2min 8s\n"
     ]
    }
   ],
   "source": [
    "%%time\n",
    "scores_v = xgb.cv(xgb_params_views, dtrain_v, cv_ntrees, nfold=5, #early_stopping_rounds=1000,\n",
    "        metrics={'rmse'},\n",
    "        custom_metric = r2,\n",
    "       #callbacks=[xgb.callback.EvaluationMonitor(show_stdv=True)]\n",
    "      )\n",
    "#scores_v.tail(5)"
   ]
  },
  {
   "cell_type": "code",
   "execution_count": 19,
   "id": "78cc2bf8-8108-46c9-813d-538f0a2e9fa3",
   "metadata": {},
   "outputs": [],
   "source": [
    "#if scores_v['test-rmse-mean'].argmin() != scores_v['test-r2-mean'].argmax():\n",
    "#    raise ValueError('wtf?', scores_v['test-rmse-mean'].argmin(), scores_v['test-r2-mean'].argmax())"
   ]
  },
  {
   "cell_type": "code",
   "execution_count": 45,
   "id": "7a0d58ad-2047-49ec-a1a1-0fd25611888f",
   "metadata": {},
   "outputs": [
    {
     "data": {
      "text/html": [
       "<div>\n",
       "<style scoped>\n",
       "    .dataframe tbody tr th:only-of-type {\n",
       "        vertical-align: middle;\n",
       "    }\n",
       "\n",
       "    .dataframe tbody tr th {\n",
       "        vertical-align: top;\n",
       "    }\n",
       "\n",
       "    .dataframe thead th {\n",
       "        text-align: right;\n",
       "    }\n",
       "</style>\n",
       "<table border=\"1\" class=\"dataframe\">\n",
       "  <thead>\n",
       "    <tr style=\"text-align: right;\">\n",
       "      <th></th>\n",
       "      <th>train-rmse-mean</th>\n",
       "      <th>train-rmse-std</th>\n",
       "      <th>test-rmse-mean</th>\n",
       "      <th>test-rmse-std</th>\n",
       "      <th>train-r2-mean</th>\n",
       "      <th>train-r2-std</th>\n",
       "      <th>test-r2-mean</th>\n",
       "      <th>test-r2-std</th>\n",
       "    </tr>\n",
       "  </thead>\n",
       "  <tbody>\n",
       "    <tr>\n",
       "      <th>4</th>\n",
       "      <td>28364.803892</td>\n",
       "      <td>2443.120953</td>\n",
       "      <td>44615.079651</td>\n",
       "      <td>13079.682544</td>\n",
       "      <td>0.7792</td>\n",
       "      <td>0.007696</td>\n",
       "      <td>0.418402</td>\n",
       "      <td>0.133857</td>\n",
       "    </tr>\n",
       "  </tbody>\n",
       "</table>\n",
       "</div>"
      ],
      "text/plain": [
       "   train-rmse-mean  train-rmse-std  test-rmse-mean  test-rmse-std  \\\n",
       "4     28364.803892     2443.120953    44615.079651   13079.682544   \n",
       "\n",
       "   train-r2-mean  train-r2-std  test-r2-mean  test-r2-std  \n",
       "4         0.7792      0.007696      0.418402     0.133857  "
      ]
     },
     "execution_count": 45,
     "metadata": {},
     "output_type": "execute_result"
    }
   ],
   "source": [
    "scores_v[scores_v['test-rmse-mean'] == scores_v['test-rmse-mean'].min()][:1]"
   ]
  },
  {
   "cell_type": "raw",
   "id": "ebd50f2c-6d00-4904-9e38-17d7fa8ade76",
   "metadata": {},
   "source": [
    "18\t13632.72718\t559.933897\t43588.009905\t12205.524327\t0.948294\t0.006664\t0.450216\t0.066209"
   ]
  },
  {
   "cell_type": "code",
   "execution_count": 21,
   "id": "0621a464-9711-4907-9600-d92071f7ca9b",
   "metadata": {},
   "outputs": [],
   "source": [
    "views_iter = scores_v['test-rmse-mean'].argmin()"
   ]
  },
  {
   "cell_type": "code",
   "execution_count": 22,
   "id": "a9f6c81b-18da-4ed9-9dbb-9c230521593c",
   "metadata": {},
   "outputs": [
    {
     "data": {
      "text/plain": [
       "XGBRegressor(base_score=0.5, booster='gbtree', callbacks=None,\n",
       "             colsample_bylevel=1, colsample_bynode=1, colsample_bytree=1,\n",
       "             early_stopping_rounds=None, enable_categorical=False,\n",
       "             eval_metric=None, gamma=0, gpu_id=-1, grow_policy='depthwise',\n",
       "             importance_type=None, interaction_constraints='',\n",
       "             learning_rate=0.300000012, max_bin=256, max_cat_to_onehot=4,\n",
       "             max_delta_step=0, max_depth=6, max_leaves=0, min_child_weight=1,\n",
       "             missing=nan, monotone_constraints='()', n_estimators=4, n_jobs=-1,\n",
       "             num_parallel_tree=1, predictor='auto', random_state=56,\n",
       "             reg_alpha=0, reg_lambda=1, ...)"
      ]
     },
     "execution_count": 22,
     "metadata": {},
     "output_type": "execute_result"
    }
   ],
   "source": [
    "xgb_model_views = XGBRegressor(n_estimators=views_iter, \n",
    "                               #max_depth=7, \n",
    "                               #eta=0.1, \n",
    "                               #subsample=0.7, \n",
    "                               #colsample_bytree=0.8,\n",
    "                               n_jobs = -1,\n",
    "                               random_state = XGB_RANDOMSEED,\n",
    "                              )\n",
    "\n",
    "xgb_model_views.fit(df_train[num_cols], df_train['views'], \n",
    "                    verbose=False\n",
    "                   )"
   ]
  },
  {
   "cell_type": "code",
   "execution_count": null,
   "id": "1726f35d-8bfb-4aec-a010-a89292428983",
   "metadata": {},
   "outputs": [],
   "source": []
  },
  {
   "cell_type": "code",
   "execution_count": 23,
   "id": "e02908f3-0201-4b54-b271-52e0d84dbdd5",
   "metadata": {},
   "outputs": [
    {
     "data": {
      "image/png": "[encoded data removed]",
      "text/plain": [
       "<Figure size 2160x1152 with 1 Axes>"
      ]
     },
     "metadata": {
      "needs_background": "light"
     },
     "output_type": "display_data"
    }
   ],
   "source": [
    "plot_importance(xgb_model_views, 30, 'weight')"
   ]
  },
  {
   "cell_type": "code",
   "execution_count": null,
   "id": "d671fea7-9f2b-4271-bcf4-620d79f04b5c",
   "metadata": {},
   "outputs": [],
   "source": []
  },
  {
   "cell_type": "markdown",
   "id": "a3cac29b-566d-4c8b-9cf7-9ef84a7261d2",
   "metadata": {},
   "source": [
    "## depth"
   ]
  },
  {
   "cell_type": "code",
   "execution_count": 24,
   "id": "a1b94baa-d75d-4f2f-a1b8-a347ed3d9dcc",
   "metadata": {},
   "outputs": [],
   "source": [
    "xgb_params_depth = {\n",
    "    'booster': 'gbtree',\n",
    "    'objective': 'reg:squarederror',\n",
    "    #'n_estimators': 1000, \n",
    "    #'learning_rate': 0.05,\n",
    "    #'eta': 0.3,\n",
    "    #'max_depth': 15, \n",
    " #   'num_boost_round': 10000, \n",
    " #   'early_stopping_rounds': 100,\n",
    "}\n",
    "dtrain_d = xgb.DMatrix(df_train[num_cols], label=df_train[['depth']])"
   ]
  },
  {
   "cell_type": "code",
   "execution_count": 25,
   "id": "fcdfa4c2-7ce7-4750-be0f-a7d7a719c21b",
   "metadata": {},
   "outputs": [
    {
     "name": "stdout",
     "output_type": "stream",
     "text": [
      "Wall time: 1min 29s\n"
     ]
    }
   ],
   "source": [
    "%%time\n",
    "scores_d = xgb.cv(xgb_params_depth, dtrain_d, cv_ntrees, nfold=5, #early_stopping_rounds=1000,\n",
    "        metrics={'rmse'},\n",
    "        custom_metric = r2,\n",
    "       #callbacks=[xgb.callback.EvaluationMonitor(show_stdv=True)]\n",
    "      )\n",
    "#scores_d.tail()"
   ]
  },
  {
   "cell_type": "code",
   "execution_count": 26,
   "id": "3a811cb9-9d97-4947-b1aa-35b0c65f14f4",
   "metadata": {},
   "outputs": [],
   "source": [
    "#if scores_d['test-rmse-mean'].argmin() != scores_d['test-r2-mean'].argmax():\n",
    "#    raise ValueError('wtf?', scores_d['test-rmse-mean'].argmin(), scores_d['test-r2-mean'].argmax())"
   ]
  },
  {
   "cell_type": "code",
   "execution_count": 27,
   "id": "a6efaf2c-ac67-42af-b60c-82000f9ae987",
   "metadata": {},
   "outputs": [
    {
     "data": {
      "text/html": [
       "<div>\n",
       "<style scoped>\n",
       "    .dataframe tbody tr th:only-of-type {\n",
       "        vertical-align: middle;\n",
       "    }\n",
       "\n",
       "    .dataframe tbody tr th {\n",
       "        vertical-align: top;\n",
       "    }\n",
       "\n",
       "    .dataframe thead th {\n",
       "        text-align: right;\n",
       "    }\n",
       "</style>\n",
       "<table border=\"1\" class=\"dataframe\">\n",
       "  <thead>\n",
       "    <tr style=\"text-align: right;\">\n",
       "      <th></th>\n",
       "      <th>train-rmse-mean</th>\n",
       "      <th>train-rmse-std</th>\n",
       "      <th>test-rmse-mean</th>\n",
       "      <th>test-rmse-std</th>\n",
       "      <th>train-r2-mean</th>\n",
       "      <th>train-r2-std</th>\n",
       "      <th>test-r2-mean</th>\n",
       "      <th>test-r2-std</th>\n",
       "    </tr>\n",
       "  </thead>\n",
       "  <tbody>\n",
       "    <tr>\n",
       "      <th>26</th>\n",
       "      <td>0.014362</td>\n",
       "      <td>0.000431</td>\n",
       "      <td>0.026243</td>\n",
       "      <td>0.000986</td>\n",
       "      <td>0.945965</td>\n",
       "      <td>0.002545</td>\n",
       "      <td>0.818893</td>\n",
       "      <td>0.012305</td>\n",
       "    </tr>\n",
       "  </tbody>\n",
       "</table>\n",
       "</div>"
      ],
      "text/plain": [
       "    train-rmse-mean  train-rmse-std  test-rmse-mean  test-rmse-std  \\\n",
       "26         0.014362        0.000431        0.026243       0.000986   \n",
       "\n",
       "    train-r2-mean  train-r2-std  test-r2-mean  test-r2-std  \n",
       "26       0.945965      0.002545      0.818893     0.012305  "
      ]
     },
     "execution_count": 27,
     "metadata": {},
     "output_type": "execute_result"
    }
   ],
   "source": [
    "scores_d[scores_d['test-rmse-mean'] == scores_d['test-rmse-mean'].min()][:1]"
   ]
  },
  {
   "cell_type": "raw",
   "id": "29ea3458-7585-4c51-bd6f-5fd9182f1aa1",
   "metadata": {},
   "source": [
    "36\t0.000655\t0.00005\t    0.023424\t0.000554\t0.999856\t0.000023\t0.81588\t    0.011583\n",
    "23\t0.001309\t0.000082\t0.023411\t0.000574\t0.999424\t0.000074\t0.816096\t0.011584"
   ]
  },
  {
   "cell_type": "code",
   "execution_count": 28,
   "id": "fd8fedb7-26b0-4e0a-84e7-db6211eb1f0d",
   "metadata": {},
   "outputs": [],
   "source": [
    "depth_iter = scores_d['test-rmse-mean'].argmin()"
   ]
  },
  {
   "cell_type": "code",
   "execution_count": 29,
   "id": "e9948b36-a6f3-4bec-bbb2-402d5186ef4e",
   "metadata": {},
   "outputs": [
    {
     "data": {
      "text/plain": [
       "XGBRegressor(base_score=0.5, booster='gbtree', callbacks=None,\n",
       "             colsample_bylevel=1, colsample_bynode=1, colsample_bytree=1,\n",
       "             early_stopping_rounds=None, enable_categorical=False,\n",
       "             eval_metric=None, gamma=0, gpu_id=-1, grow_policy='depthwise',\n",
       "             importance_type=None, interaction_constraints='',\n",
       "             learning_rate=0.300000012, max_bin=256, max_cat_to_onehot=4,\n",
       "             max_delta_step=0, max_depth=6, max_leaves=0, min_child_weight=1,\n",
       "             missing=nan, monotone_constraints='()', n_estimators=26, n_jobs=-1,\n",
       "             num_parallel_tree=1, predictor='auto', random_state=56,\n",
       "             reg_alpha=0, reg_lambda=1, ...)"
      ]
     },
     "execution_count": 29,
     "metadata": {},
     "output_type": "execute_result"
    }
   ],
   "source": [
    "xgb_model_depth = XGBRegressor(n_estimators=depth_iter, \n",
    "                               #max_depth=7, \n",
    "                               #eta=0.1, \n",
    "                               #subsample=0.7, \n",
    "                               #colsample_bytree=0.8,\n",
    "                               n_jobs = -1,\n",
    "                               random_state = XGB_RANDOMSEED,\n",
    "                              )\n",
    "\n",
    "xgb_model_depth.fit(df_train[num_cols], df_train['depth'], \n",
    "                    verbose=False\n",
    "                   )"
   ]
  },
  {
   "cell_type": "code",
   "execution_count": 30,
   "id": "9eaa8af8-177d-47ba-8a98-c1fc83fab801",
   "metadata": {},
   "outputs": [
    {
     "data": {
      "image/png": "[encoded data removed]",
      "text/plain": [
       "<Figure size 2160x1152 with 1 Axes>"
      ]
     },
     "metadata": {
      "needs_background": "light"
     },
     "output_type": "display_data"
    }
   ],
   "source": [
    "plot_importance(xgb_model_depth, 30, 'weight')"
   ]
  },
  {
   "cell_type": "code",
   "execution_count": null,
   "id": "b1f38246-6f92-482d-92f3-281f0f5570d2",
   "metadata": {},
   "outputs": [],
   "source": []
  },
  {
   "cell_type": "markdown",
   "id": "fafdf6ea-9687-472f-ab6e-86125f5dc7eb",
   "metadata": {},
   "source": [
    "## full_reads_percent"
   ]
  },
  {
   "cell_type": "code",
   "execution_count": null,
   "id": "e4209a63-4bb3-4393-8f75-f74cb929688c",
   "metadata": {},
   "outputs": [],
   "source": []
  },
  {
   "cell_type": "code",
   "execution_count": 31,
   "id": "9bde8190-0193-4dad-8a39-c47e77bb6ec9",
   "metadata": {},
   "outputs": [],
   "source": [
    "xgb_params_fpr = {\n",
    "    'booster': 'gbtree',\n",
    "    'objective': 'reg:squarederror',\n",
    "    #'n_estimators': 1000, \n",
    "    #'learning_rate': 0.05,\n",
    "    #'eta': 0.3,\n",
    "    #'max_depth': 15, \n",
    " #   'num_boost_round': 10000, \n",
    " #   'early_stopping_rounds': 100,\n",
    "}\n",
    "dtrain_f = xgb.DMatrix(df_train[num_cols], label=df_train[['full_reads_percent']])"
   ]
  },
  {
   "cell_type": "code",
   "execution_count": 32,
   "id": "74e468f2-383a-4011-8426-a7f269b448c8",
   "metadata": {},
   "outputs": [
    {
     "name": "stdout",
     "output_type": "stream",
     "text": [
      "Wall time: 2min 11s\n"
     ]
    }
   ],
   "source": [
    "%%time\n",
    "scores_f = xgb.cv(xgb_params_fpr, dtrain_f, cv_ntrees, nfold=5, #early_stopping_rounds=1000,\n",
    "        metrics={'rmse'},\n",
    "        custom_metric = r2,\n",
    "       #callbacks=[xgb.callback.EvaluationMonitor(show_stdv=True)]\n",
    "      )\n",
    "#scores_f.tail()"
   ]
  },
  {
   "cell_type": "code",
   "execution_count": 33,
   "id": "6cefff62-75e5-4326-9650-bebc4b800df9",
   "metadata": {},
   "outputs": [],
   "source": [
    "#if scores_f['test-rmse-mean'].argmin() != scores_f['test-r2-mean'].argmax():\n",
    "#    raise ValueError('wtf?', scores_f['test-rmse-mean'].argmin(), scores_f['test-r2-mean'].argmax())"
   ]
  },
  {
   "cell_type": "code",
   "execution_count": 34,
   "id": "b1a1879d-aa76-4271-a74f-f59cc3e50d2d",
   "metadata": {},
   "outputs": [
    {
     "data": {
      "text/html": [
       "<div>\n",
       "<style scoped>\n",
       "    .dataframe tbody tr th:only-of-type {\n",
       "        vertical-align: middle;\n",
       "    }\n",
       "\n",
       "    .dataframe tbody tr th {\n",
       "        vertical-align: top;\n",
       "    }\n",
       "\n",
       "    .dataframe thead th {\n",
       "        text-align: right;\n",
       "    }\n",
       "</style>\n",
       "<table border=\"1\" class=\"dataframe\">\n",
       "  <thead>\n",
       "    <tr style=\"text-align: right;\">\n",
       "      <th></th>\n",
       "      <th>train-rmse-mean</th>\n",
       "      <th>train-rmse-std</th>\n",
       "      <th>test-rmse-mean</th>\n",
       "      <th>test-rmse-std</th>\n",
       "      <th>train-r2-mean</th>\n",
       "      <th>train-r2-std</th>\n",
       "      <th>test-r2-mean</th>\n",
       "      <th>test-r2-std</th>\n",
       "    </tr>\n",
       "  </thead>\n",
       "  <tbody>\n",
       "    <tr>\n",
       "      <th>14</th>\n",
       "      <td>4.764348</td>\n",
       "      <td>0.027847</td>\n",
       "      <td>6.882004</td>\n",
       "      <td>0.069276</td>\n",
       "      <td>0.779366</td>\n",
       "      <td>0.002174</td>\n",
       "      <td>0.53897</td>\n",
       "      <td>0.015132</td>\n",
       "    </tr>\n",
       "  </tbody>\n",
       "</table>\n",
       "</div>"
      ],
      "text/plain": [
       "    train-rmse-mean  train-rmse-std  test-rmse-mean  test-rmse-std  \\\n",
       "14         4.764348        0.027847        6.882004       0.069276   \n",
       "\n",
       "    train-r2-mean  train-r2-std  test-r2-mean  test-r2-std  \n",
       "14       0.779366      0.002174       0.53897     0.015132  "
      ]
     },
     "execution_count": 34,
     "metadata": {},
     "output_type": "execute_result"
    }
   ],
   "source": [
    "scores_f[scores_f['test-rmse-mean'] == scores_f['test-rmse-mean'].min()][:1]"
   ]
  },
  {
   "cell_type": "raw",
   "id": "a7979adf-f9d3-4ddd-9b58-89460d5cbdea",
   "metadata": {},
   "source": [
    "15\t4.712886\t0.041195\t6.837132\t0.046951\t0.784065\t0.005105\t0.544971\t0.013879"
   ]
  },
  {
   "cell_type": "code",
   "execution_count": 35,
   "id": "fbb96c40-bd67-423c-817c-e726817ff42a",
   "metadata": {},
   "outputs": [],
   "source": [
    "frp_iter = scores_f['test-rmse-mean'].argmin()"
   ]
  },
  {
   "cell_type": "code",
   "execution_count": 36,
   "id": "7745c438-06e9-477e-ac52-37017039f9c4",
   "metadata": {},
   "outputs": [
    {
     "data": {
      "text/plain": [
       "XGBRegressor(base_score=0.5, booster='gbtree', callbacks=None,\n",
       "             colsample_bylevel=1, colsample_bynode=1, colsample_bytree=1,\n",
       "             early_stopping_rounds=None, enable_categorical=False,\n",
       "             eval_metric=None, gamma=0, gpu_id=-1, grow_policy='depthwise',\n",
       "             importance_type=None, interaction_constraints='',\n",
       "             learning_rate=0.300000012, max_bin=256, max_cat_to_onehot=4,\n",
       "             max_delta_step=0, max_depth=6, max_leaves=0, min_child_weight=1,\n",
       "             missing=nan, monotone_constraints='()', n_estimators=14, n_jobs=-1,\n",
       "             num_parallel_tree=1, predictor='auto', random_state=56,\n",
       "             reg_alpha=0, reg_lambda=1, ...)"
      ]
     },
     "execution_count": 36,
     "metadata": {},
     "output_type": "execute_result"
    }
   ],
   "source": [
    "xgb_model_frp = XGBRegressor(n_estimators=frp_iter,\n",
    "                             #max_depth=7, \n",
    "                             #eta=0.1, \n",
    "                             #subsample=0.7, \n",
    "                             #colsample_bytree=0.8,\n",
    "                             n_jobs = -1,\n",
    "                             random_state = XGB_RANDOMSEED,\n",
    "                             )\n",
    "\n",
    "xgb_model_frp.fit(df_train[num_cols], df_train['full_reads_percent'],\n",
    "                  verbose=False\n",
    "                 )"
   ]
  },
  {
   "cell_type": "code",
   "execution_count": 37,
   "id": "68703860-9cfa-4ca7-ba89-861fb74cd5e8",
   "metadata": {},
   "outputs": [
    {
     "data": {
      "image/png": "[encoded data removed]",
      "text/plain": [
       "<Figure size 2160x1152 with 1 Axes>"
      ]
     },
     "metadata": {
      "needs_background": "light"
     },
     "output_type": "display_data"
    }
   ],
   "source": [
    "plot_importance(xgb_model_frp, 30, 'weight')"
   ]
  },
  {
   "cell_type": "code",
   "execution_count": null,
   "id": "0b8a1479-995f-4b14-b801-39bf875b652d",
   "metadata": {},
   "outputs": [],
   "source": []
  },
  {
   "cell_type": "markdown",
   "id": "6e1cf0e9-8033-48de-915e-fc47e65aea57",
   "metadata": {},
   "source": [
    "# Сохраняем предсказания для ансамблей / стекинга"
   ]
  },
  {
   "cell_type": "raw",
   "id": "44e31570-28ec-45eb-a5cf-afba46d24543",
   "metadata": {},
   "source": [
    "x_train_pred = x_train[['document_id']]\n",
    "x_val_pred   = x_val[['document_id']]\n",
    "\n",
    "print('before ', x_train_pred.shape, preds_train_views.shape, preds_train_depth.shape, preds_train_frp.shape)\n",
    "print('before ', x_val_pred.shape,   preds_val_views.shape,   preds_val_depth.shape,   preds_val_frp.shape)\n",
    "\n",
    "# https://github.com/pandas-dev/pandas/issues/25349\n",
    "x_train_pred = pd.concat([x_train_pred.reset_index(drop=True), \n",
    "                          pd.DataFrame(preds_train_views).reset_index(drop = True), \n",
    "                          pd.DataFrame(preds_train_depth).reset_index(drop = True), \n",
    "                          pd.DataFrame(preds_train_frp).reset_index(drop = True)\n",
    "                         ], ignore_index = True, axis = 1)\n",
    "x_val_pred   = pd.concat([x_val_pred.reset_index(drop=True),   \n",
    "                          pd.DataFrame(preds_val_views).reset_index(drop = True), \n",
    "                          pd.DataFrame(preds_val_depth).reset_index(drop = True), \n",
    "                          pd.DataFrame(preds_val_frp).reset_index(drop = True)\n",
    "                         ], ignore_index = True, axis = 1)\n",
    "\n",
    "x_train_pred.columns = ['document_id', 'views_pred_xgb', 'depth_pred_xgb', 'frp_pred_xgb']\n",
    "x_val_pred.columns   = ['document_id', 'views_pred_xgb', 'depth_pred_xgb', 'frp_pred_xgb']\n",
    "\n",
    "print('after ', x_train_pred.shape)\n",
    "print('after ', x_val_pred.shape)\n",
    "\n",
    "x_train_pred.to_csv(os.path.join(DIR_SUBM_PART, f'{NAME}_train_part.csv'), index = False)\n",
    "x_val_pred.to_csv(os.path.join(DIR_SUBM_PART, f'{NAME}_val_part.csv'), index = False)"
   ]
  },
  {
   "cell_type": "code",
   "execution_count": null,
   "id": "819a6a57-f3e0-4466-ba48-951e60204806",
   "metadata": {},
   "outputs": [],
   "source": []
  },
  {
   "cell_type": "code",
   "execution_count": null,
   "id": "ed3a658c-84f9-46de-aaf1-7dc245cd685f",
   "metadata": {},
   "outputs": [],
   "source": []
  },
  {
   "cell_type": "markdown",
   "id": "81b7d454-37b6-45ee-94fb-99af0fe23ae5",
   "metadata": {},
   "source": [
    "## save models"
   ]
  },
  {
   "cell_type": "code",
   "execution_count": 38,
   "id": "75aa11de-71cb-47a7-9e22-2857f7f7e643",
   "metadata": {},
   "outputs": [
    {
     "name": "stderr",
     "output_type": "stream",
     "text": [
      "C:\\Users\\_v010ch_\\Anaconda3\\lib\\site-packages\\xgboost\\sklearn.py:722: UserWarning: n_estimators is not saved in Scikit-Learn meta.\n",
      "  warnings.warn(str(k) + ' is not saved in Scikit-Learn meta.', UserWarning)\n"
     ]
    }
   ],
   "source": [
    "xgb_model_views.save_model(os.path.join(DIR_MODELS, f'{NAME}_v.json'), \n",
    "                          )\n",
    "\n",
    "xgb_model_depth.save_model(os.path.join(DIR_MODELS, f'{NAME}_d.json'), \n",
    "                          )\n",
    "\n",
    "xgb_model_frp.save_model(os.path.join(DIR_MODELS, f'{NAME}_f.json'), \n",
    "                        )"
   ]
  },
  {
   "cell_type": "code",
   "execution_count": null,
   "id": "102c6530-8a1b-4c1c-a1d3-e9d95e350220",
   "metadata": {},
   "outputs": [],
   "source": []
  },
  {
   "cell_type": "markdown",
   "id": "ac604b78-2718-408d-8d19-5b202d3f5a19",
   "metadata": {},
   "source": [
    "## make predict"
   ]
  },
  {
   "cell_type": "code",
   "execution_count": 39,
   "id": "df8e4305-28ed-444f-8325-e6460f7d2271",
   "metadata": {},
   "outputs": [],
   "source": [
    "pred_views = xgb_model_views.predict(df_test[num_cols])\n",
    "pred_depth = xgb_model_depth.predict(df_test[num_cols])\n",
    "pred_frp   = xgb_model_frp.predict(  df_test[num_cols])"
   ]
  },
  {
   "cell_type": "code",
   "execution_count": 40,
   "id": "f422300e-24cf-435a-af11-a450f4f10393",
   "metadata": {},
   "outputs": [],
   "source": [
    "subm = pd.DataFrame()\n",
    "subm['document_id'] = df_test.document_id\n",
    "\n",
    "subm['views'] = pred_views\n",
    "subm['depth'] = pred_depth\n",
    "subm['full_reads_percent'] = pred_frp"
   ]
  },
  {
   "cell_type": "code",
   "execution_count": 41,
   "id": "4835a39d-faef-405a-b34b-94e53fe6bc35",
   "metadata": {},
   "outputs": [
    {
     "data": {
      "text/html": [
       "<div>\n",
       "<style scoped>\n",
       "    .dataframe tbody tr th:only-of-type {\n",
       "        vertical-align: middle;\n",
       "    }\n",
       "\n",
       "    .dataframe tbody tr th {\n",
       "        vertical-align: top;\n",
       "    }\n",
       "\n",
       "    .dataframe thead th {\n",
       "        text-align: right;\n",
       "    }\n",
       "</style>\n",
       "<table border=\"1\" class=\"dataframe\">\n",
       "  <thead>\n",
       "    <tr style=\"text-align: right;\">\n",
       "      <th></th>\n",
       "      <th>views</th>\n",
       "      <th>depth</th>\n",
       "      <th>full_reads_percent</th>\n",
       "    </tr>\n",
       "  </thead>\n",
       "  <tbody>\n",
       "    <tr>\n",
       "      <th>945</th>\n",
       "      <td>247659.56250</td>\n",
       "      <td>1.078233</td>\n",
       "      <td>18.392578</td>\n",
       "    </tr>\n",
       "    <tr>\n",
       "      <th>1440</th>\n",
       "      <td>278983.46875</td>\n",
       "      <td>1.186828</td>\n",
       "      <td>23.448999</td>\n",
       "    </tr>\n",
       "    <tr>\n",
       "      <th>2645</th>\n",
       "      <td>278983.46875</td>\n",
       "      <td>1.202951</td>\n",
       "      <td>24.285975</td>\n",
       "    </tr>\n",
       "  </tbody>\n",
       "</table>\n",
       "</div>"
      ],
      "text/plain": [
       "             views     depth  full_reads_percent\n",
       "945   247659.56250  1.078233           18.392578\n",
       "1440  278983.46875  1.186828           23.448999\n",
       "2645  278983.46875  1.202951           24.285975"
      ]
     },
     "execution_count": 41,
     "metadata": {},
     "output_type": "execute_result"
    }
   ],
   "source": [
    "doc_id_ukr = df_test[df_test.spec == 1].document_id.values\n",
    "subm.query('document_id in @doc_id_ukr')[['views', 'depth', 'full_reads_percent']]"
   ]
  },
  {
   "cell_type": "code",
   "execution_count": 42,
   "id": "2f64875d-af90-4a1e-a3cb-460beac6b956",
   "metadata": {},
   "outputs": [
    {
     "data": {
      "text/html": [
       "<div>\n",
       "<style scoped>\n",
       "    .dataframe tbody tr th:only-of-type {\n",
       "        vertical-align: middle;\n",
       "    }\n",
       "\n",
       "    .dataframe tbody tr th {\n",
       "        vertical-align: top;\n",
       "    }\n",
       "\n",
       "    .dataframe thead th {\n",
       "        text-align: right;\n",
       "    }\n",
       "</style>\n",
       "<table border=\"1\" class=\"dataframe\">\n",
       "  <thead>\n",
       "    <tr style=\"text-align: right;\">\n",
       "      <th></th>\n",
       "      <th>views</th>\n",
       "      <th>depth</th>\n",
       "      <th>full_reads_percent</th>\n",
       "    </tr>\n",
       "  </thead>\n",
       "  <tbody>\n",
       "    <tr>\n",
       "      <th>945</th>\n",
       "      <td>2554204.0</td>\n",
       "      <td>1.799</td>\n",
       "      <td>4.978</td>\n",
       "    </tr>\n",
       "    <tr>\n",
       "      <th>1440</th>\n",
       "      <td>2554204.0</td>\n",
       "      <td>1.799</td>\n",
       "      <td>4.978</td>\n",
       "    </tr>\n",
       "    <tr>\n",
       "      <th>2645</th>\n",
       "      <td>2554204.0</td>\n",
       "      <td>1.799</td>\n",
       "      <td>4.978</td>\n",
       "    </tr>\n",
       "  </tbody>\n",
       "</table>\n",
       "</div>"
      ],
      "text/plain": [
       "          views  depth  full_reads_percent\n",
       "945   2554204.0  1.799               4.978\n",
       "1440  2554204.0  1.799               4.978\n",
       "2645  2554204.0  1.799               4.978"
      ]
     },
     "execution_count": 42,
     "metadata": {},
     "output_type": "execute_result"
    }
   ],
   "source": [
    "# присваиваем статичные данные\n",
    "subm.loc[subm.query('document_id in @doc_id_ukr').index, 'views'] = VIEWS_UKR\n",
    "subm.loc[subm.query('document_id in @doc_id_ukr').index, 'depth'] = DEPTH_UKR\n",
    "subm.loc[subm.query('document_id in @doc_id_ukr').index, 'full_reads_percent'] = FPR_UKR\n",
    "\n",
    "subm.query('document_id in @doc_id_ukr')[['views', 'depth', 'full_reads_percent']]"
   ]
  },
  {
   "cell_type": "code",
   "execution_count": 43,
   "id": "37fa65e1-c702-4764-8f84-eb93b80c73f8",
   "metadata": {},
   "outputs": [
    {
     "data": {
      "text/html": [
       "<div>\n",
       "<style scoped>\n",
       "    .dataframe tbody tr th:only-of-type {\n",
       "        vertical-align: middle;\n",
       "    }\n",
       "\n",
       "    .dataframe tbody tr th {\n",
       "        vertical-align: top;\n",
       "    }\n",
       "\n",
       "    .dataframe thead th {\n",
       "        text-align: right;\n",
       "    }\n",
       "</style>\n",
       "<table border=\"1\" class=\"dataframe\">\n",
       "  <thead>\n",
       "    <tr style=\"text-align: right;\">\n",
       "      <th></th>\n",
       "      <th>document_id</th>\n",
       "      <th>views</th>\n",
       "      <th>depth</th>\n",
       "      <th>full_reads_percent</th>\n",
       "    </tr>\n",
       "  </thead>\n",
       "  <tbody>\n",
       "    <tr>\n",
       "      <th>0</th>\n",
       "      <td>61f9569a9a794794245a82abJ0AvX96vTAaQCiWVbzoMdw</td>\n",
       "      <td>13763.859375</td>\n",
       "      <td>1.215293</td>\n",
       "      <td>46.098042</td>\n",
       "    </tr>\n",
       "    <tr>\n",
       "      <th>1</th>\n",
       "      <td>628c22b89a79470e553f594bQS5CqzXYRnmDdR2LaSreEw</td>\n",
       "      <td>5678.618652</td>\n",
       "      <td>1.058466</td>\n",
       "      <td>30.362242</td>\n",
       "    </tr>\n",
       "    <tr>\n",
       "      <th>2</th>\n",
       "      <td>627cb3249a7947ebdd752865XVsoyrUOT8OJJg2_finJhw</td>\n",
       "      <td>5678.618652</td>\n",
       "      <td>1.058632</td>\n",
       "      <td>29.606705</td>\n",
       "    </tr>\n",
       "    <tr>\n",
       "      <th>3</th>\n",
       "      <td>628618629a7947d4927eb812upfii3whSSuMXCqcqF8VbQ</td>\n",
       "      <td>4640.497070</td>\n",
       "      <td>1.063758</td>\n",
       "      <td>36.252895</td>\n",
       "    </tr>\n",
       "    <tr>\n",
       "      <th>4</th>\n",
       "      <td>620e76109a7947235623695b5hzCiIHdSYKQIr8WAM18bw</td>\n",
       "      <td>77788.218750</td>\n",
       "      <td>1.119486</td>\n",
       "      <td>28.490204</td>\n",
       "    </tr>\n",
       "  </tbody>\n",
       "</table>\n",
       "</div>"
      ],
      "text/plain": [
       "                                      document_id         views     depth  \\\n",
       "0  61f9569a9a794794245a82abJ0AvX96vTAaQCiWVbzoMdw  13763.859375  1.215293   \n",
       "1  628c22b89a79470e553f594bQS5CqzXYRnmDdR2LaSreEw   5678.618652  1.058466   \n",
       "2  627cb3249a7947ebdd752865XVsoyrUOT8OJJg2_finJhw   5678.618652  1.058632   \n",
       "3  628618629a7947d4927eb812upfii3whSSuMXCqcqF8VbQ   4640.497070  1.063758   \n",
       "4  620e76109a7947235623695b5hzCiIHdSYKQIr8WAM18bw  77788.218750  1.119486   \n",
       "\n",
       "   full_reads_percent  \n",
       "0           46.098042  \n",
       "1           30.362242  \n",
       "2           29.606705  \n",
       "3           36.252895  \n",
       "4           28.490204  "
      ]
     },
     "execution_count": 43,
     "metadata": {},
     "output_type": "execute_result"
    }
   ],
   "source": [
    "subm.head()"
   ]
  },
  {
   "cell_type": "code",
   "execution_count": 44,
   "id": "00d26c97-fb11-49b4-940e-ea797b27d29d",
   "metadata": {},
   "outputs": [],
   "source": [
    "subm.to_csv(os.path.join(DIR_SUBM, f'{NAME}.csv'), index = False)"
   ]
  },
  {
   "cell_type": "code",
   "execution_count": null,
   "id": "381434ea-0954-4ac1-8278-348a674c1a9c",
   "metadata": {},
   "outputs": [],
   "source": []
  }
 ],
 "metadata": {
  "kernelspec": {
   "display_name": "Python 3",
   "language": "python",
   "name": "python3"
  },
  "language_info": {
   "codemirror_mode": {
    "name": "ipython",
    "version": 3
   },
   "file_extension": ".py",
   "mimetype": "text/x-python",
   "name": "python",
   "nbconvert_exporter": "python",
   "pygments_lexer": "ipython3",
   "version": "3.7.10"
  }
 },
 "nbformat": 4,
 "nbformat_minor": 5
}
