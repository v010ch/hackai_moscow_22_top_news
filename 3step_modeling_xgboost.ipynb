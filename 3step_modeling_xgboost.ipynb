{
 "cells": [
  {
   "cell_type": "code",
   "execution_count": 1,
   "id": "6f62ec01-36f8-4ffe-b187-0616094602d5",
   "metadata": {},
   "outputs": [],
   "source": [
    "%load_ext watermark"
   ]
  },
  {
   "cell_type": "code",
   "execution_count": 2,
   "id": "5de1fd22-d80f-4ff2-ba53-1f42e4c3f723",
   "metadata": {},
   "outputs": [
    {
     "name": "stdout",
     "output_type": "stream",
     "text": [
      "Last updated: 2022-07-22T05:51:09.190322+03:00\n",
      "\n",
      "Python implementation: CPython\n",
      "Python version       : 3.7.10\n",
      "IPython version      : 7.22.0\n",
      "\n",
      "Compiler    : MSC v.1916 64 bit (AMD64)\n",
      "OS          : Windows\n",
      "Release     : 10\n",
      "Machine     : AMD64\n",
      "Processor   : Intel64 Family 6 Model 158 Stepping 9, GenuineIntel\n",
      "CPU cores   : 8\n",
      "Architecture: 64bit\n",
      "\n"
     ]
    }
   ],
   "source": [
    "%watermark"
   ]
  },
  {
   "cell_type": "code",
   "execution_count": 3,
   "id": "84995dd6-eec2-4c7e-9eb5-f082d8935cec",
   "metadata": {},
   "outputs": [],
   "source": [
    "import time\n",
    "notebookstart= time.time()"
   ]
  },
  {
   "cell_type": "code",
   "execution_count": 4,
   "id": "d2bed795-0452-4024-a049-ae55e3d16b74",
   "metadata": {},
   "outputs": [],
   "source": [
    "import os\n",
    "import pickle as pkl\n",
    "\n",
    "import numpy as np\n",
    "import pandas as pd\n",
    "\n",
    "from xgboost import XGBRegressor\n",
    "import xgboost as xgb\n",
    "from sklearn.metrics import r2_score\n",
    "from sklearn import preprocessing\n",
    "\n",
    "from typing import Tuple"
   ]
  },
  {
   "cell_type": "code",
   "execution_count": 5,
   "id": "21f6a58a-b019-4436-83ec-428714473139",
   "metadata": {},
   "outputs": [
    {
     "name": "stdout",
     "output_type": "stream",
     "text": [
      "xgb_version: 1.6.1\n",
      "sklearn_version: 0.24.2\n"
     ]
    }
   ],
   "source": [
    "from xgboost import __version__ as xgb_version\n",
    "from sklearn import __version__ as sklearn_version\n",
    "\n",
    "print(f'xgb_version: {xgb_version}')\n",
    "print(f'sklearn_version: {sklearn_version}')"
   ]
  },
  {
   "cell_type": "code",
   "execution_count": 6,
   "id": "f9e86c55-ff3a-41c1-b185-e3d669557154",
   "metadata": {},
   "outputs": [
    {
     "name": "stdout",
     "output_type": "stream",
     "text": [
      "numpy  : 1.20.3\n",
      "sklearn: 0.24.2\n",
      "xgboost: 1.6.1\n",
      "pandas : 0.25.3\n",
      "\n"
     ]
    }
   ],
   "source": [
    "%watermark --iversions"
   ]
  },
  {
   "cell_type": "code",
   "execution_count": null,
   "id": "91de9bd6-4a0a-4f40-af4e-0464de0b983c",
   "metadata": {},
   "outputs": [],
   "source": []
  },
  {
   "cell_type": "markdown",
   "id": "3f3d5ca4-753b-47f1-801f-02be08c0bc3c",
   "metadata": {},
   "source": [
    "## Reproducibility block"
   ]
  },
  {
   "cell_type": "code",
   "execution_count": 7,
   "id": "8d133278-9bc6-4c5d-b029-bd0c31d6adf1",
   "metadata": {},
   "outputs": [],
   "source": [
    "# seed the RNG for all devices (both CPU and CUDA)\n",
    "#torch.manual_seed(1984)\n",
    "\n",
    "#Disabling the benchmarking feature causes cuDNN to deterministically select an algorithm, \n",
    "#possibly at the cost of reduced performance.\n",
    "#torch.backends.cudnn.benchmark = False\n",
    "\n",
    "# for custom operators,\n",
    "import random\n",
    "random.seed(5986721)\n",
    "\n",
    "# \n",
    "np.random.seed(62185)\n",
    "\n",
    "#sklearn take seed from a line abowe\n",
    "\n",
    "CB_RANDOMSEED  = 309487\n",
    "XGB_RANDOMSEED = 56\n",
    "LGB_RANDOMSEED = 874256"
   ]
  },
  {
   "cell_type": "code",
   "execution_count": null,
   "id": "9f38ebd5-a020-47eb-b1f4-9ea987afb524",
   "metadata": {},
   "outputs": [],
   "source": []
  },
  {
   "cell_type": "code",
   "execution_count": 8,
   "id": "019813d1-62ae-4b4d-a2f6-c0d74c146413",
   "metadata": {},
   "outputs": [],
   "source": [
    "DIR_DATA   = os.path.join(os.getcwd(), 'data')\n",
    "DIR_MODELS = os.path.join(os.getcwd(), 'models')\n",
    "DIR_SUBM   = os.path.join(os.getcwd(), 'subm')\n",
    "DIR_SUBM_PART = os.path.join(os.getcwd(), 'subm', 'partial')"
   ]
  },
  {
   "cell_type": "code",
   "execution_count": null,
   "id": "0d608686-6d8e-49ad-906b-b20933e0ec2a",
   "metadata": {},
   "outputs": [],
   "source": []
  },
  {
   "cell_type": "code",
   "execution_count": 9,
   "id": "0a2f13fc-081d-4ade-9456-a46b2c1d6bfb",
   "metadata": {},
   "outputs": [],
   "source": [
    "NTRY = 32\n",
    "NAME = f'{NTRY}_xgb_pca64_sber_bord_nose_iter_2mod'"
   ]
  },
  {
   "cell_type": "code",
   "execution_count": 10,
   "id": "24f04c59-f963-445d-8180-733c85a6c094",
   "metadata": {},
   "outputs": [],
   "source": [
    "VIEWS_UKR = 2554204\n",
    "DEPTH_UKR = 1.799\n",
    "FPR_UKR = 4.978"
   ]
  },
  {
   "cell_type": "code",
   "execution_count": null,
   "id": "9a2d3bfa-c36c-4a2a-b849-d5b6f8f81722",
   "metadata": {},
   "outputs": [],
   "source": []
  },
  {
   "cell_type": "markdown",
   "id": "ae3e27a3-16bb-456d-b7a1-7975d5f85ea5",
   "metadata": {},
   "source": [
    "## Load data"
   ]
  },
  {
   "cell_type": "code",
   "execution_count": 11,
   "id": "ee296ac9-baf6-4bcb-89ce-5fe99408403d",
   "metadata": {},
   "outputs": [],
   "source": [
    "df_train  = pd.read_csv(os.path.join(DIR_DATA, 'train_upd.csv'))#, index_col= 0)\n",
    "df_test  = pd.read_csv(os.path.join(DIR_DATA, 'test_upd.csv'))#, index_col= 0)\n",
    "    \n",
    "with open(os.path.join(DIR_DATA, 'clmns.pkl'), 'rb') as pickle_file:\n",
    "    clmns = pkl.load(pickle_file)\n"
   ]
  },
  {
   "cell_type": "code",
   "execution_count": 12,
   "id": "b00427ec-ac4f-4da3-8dfb-94871e63072d",
   "metadata": {},
   "outputs": [
    {
     "data": {
      "text/plain": [
       "((6981, 571), (3000, 569))"
      ]
     },
     "execution_count": 12,
     "metadata": {},
     "output_type": "execute_result"
    }
   ],
   "source": [
    "df_train.shape, df_test.shape, "
   ]
  },
  {
   "cell_type": "code",
   "execution_count": 13,
   "id": "6b954c51-f101-466c-8f3c-6c1ffa7b7d52",
   "metadata": {},
   "outputs": [
    {
     "name": "stdout",
     "output_type": "stream",
     "text": [
      "['ph_report', 'ph_gallery', 'tv_prog', 'online', 'video', 'infogr', 'interview']\n",
      "['hour', 'dow', 'day', 'mounth', 'hour_peak', 'holiday', 'day_before_holiday', 'day_after_holiday', 'distrib_brdr']\n"
     ]
    }
   ],
   "source": [
    "cat_cols = []\n",
    "num_cols = []\n",
    "\n",
    "for el in clmns.keys():\n",
    "    cat_cols.extend(clmns[el]['cat'])\n",
    "    num_cols.extend(clmns[el]['num'])\n",
    "    if len(clmns[el]['both']) != 0:\n",
    "        print(clmns[el]['both'])"
   ]
  },
  {
   "cell_type": "code",
   "execution_count": 14,
   "id": "10dbe2fb-c7b0-4a65-8c80-5c99c62664a9",
   "metadata": {},
   "outputs": [],
   "source": [
    "num_cols.extend(['hour', 'mounth', 'dow',\n",
    "                'ph_report', 'ph_gallery', 'tv_prog', 'online', 'video', 'infogr',\n",
    "                 'holiday', 'day_before_holiday', 'day_after_holiday', #'distrib_brdr',\n",
    "                 'two_articles',\n",
    "                 #'spec_event_1',\n",
    "                ])\n",
    "#cat_cols.extend(['dow'])"
   ]
  },
  {
   "cell_type": "code",
   "execution_count": null,
   "id": "a498176c-ff85-4d43-815f-c5a9408da1c1",
   "metadata": {},
   "outputs": [],
   "source": []
  },
  {
   "cell_type": "code",
   "execution_count": 15,
   "id": "f582c45f-f817-4e29-914d-d721d21c118c",
   "metadata": {},
   "outputs": [],
   "source": [
    "def plot_importance(inp_model, imp_number = 30, imp_type = 'weight'):\n",
    "    feature_important = inp_model.get_booster().get_score(importance_type=imp_type)\n",
    "    keys = list(feature_important.keys())\n",
    "    values = list(feature_important.values())\n",
    "\n",
    "    data = pd.DataFrame(data=values, index=keys, columns=[\"score\"]).sort_values(by = \"score\", ascending=False)\n",
    "    data.nlargest(imp_number, columns=\"score\").plot(kind='barh', figsize = (30,16)) ## plot top 40 features"
   ]
  },
  {
   "cell_type": "code",
   "execution_count": null,
   "id": "a032c494-1a60-4cda-af73-9172eb490dc1",
   "metadata": {},
   "outputs": [],
   "source": []
  },
  {
   "cell_type": "code",
   "execution_count": null,
   "id": "49ddd6f4-1a5e-4845-acb6-3a10d444fee8",
   "metadata": {},
   "outputs": [],
   "source": []
  },
  {
   "cell_type": "code",
   "execution_count": null,
   "id": "fc3f802d-f658-4e96-83d7-b5393224ba9b",
   "metadata": {},
   "outputs": [],
   "source": []
  },
  {
   "cell_type": "code",
   "execution_count": 16,
   "id": "ceac5b63-64cc-49cc-8726-e4779ba7ca2f",
   "metadata": {},
   "outputs": [],
   "source": [
    "#def r2(predt: np.ndarray, dtrain: xgb.DMatrix) -> Tuple[str, float]:\n",
    "def r2(y_pred: np.ndarray, y_true: xgb.DMatrix) -> Tuple[str, float]:\n",
    "    \n",
    "    return 'r2', r2_score(y_true.get_label(), y_pred)"
   ]
  },
  {
   "cell_type": "markdown",
   "id": "480af973-b82d-443c-bd9c-278fe34b9bf6",
   "metadata": {},
   "source": [
    "## views"
   ]
  },
  {
   "cell_type": "code",
   "execution_count": 17,
   "id": "2dea033c-3d61-4a03-9f5d-d02fff176286",
   "metadata": {},
   "outputs": [],
   "source": [
    "#xgb.set_config(verbosity=0)\n",
    "#xgb_spec = ['day', 'mounth', 'authors_int', 'category_int']"
   ]
  },
  {
   "cell_type": "code",
   "execution_count": 18,
   "id": "001e4340-2661-43f2-9584-efe65711ec3e",
   "metadata": {},
   "outputs": [],
   "source": [
    "cv_ntrees = 500\n",
    "\n",
    "xgb_params_views = {\n",
    "    'booster': 'gbtree',\n",
    "    'objective': 'reg:squarederror',\n",
    "    #'learning_rate': 0.05,\n",
    "    #'eta': 0.3,\n",
    "    #'max_depth': 15, \n",
    "    #'num_boost_round': 10000, \n",
    "    #'early_stopping_rounds': 100,\n",
    "}\n",
    "#dtrain_v = xgb.DMatrix(df_train[num_cols], label=df_train[['views']])\n",
    "#dtrain = xgb.DMatrix(df_train[xgb_spec], label=df_train[['views']])"
   ]
  },
  {
   "cell_type": "code",
   "execution_count": 19,
   "id": "7e1d8ecc-a9dc-4ecf-8126-bb4a3a6ab5a4",
   "metadata": {},
   "outputs": [],
   "source": [
    "def get_model(inp_df, inp_params, target):\n",
    "    \n",
    "    dtrain = xgb.DMatrix(inp_df[num_cols], label = inp_df[[target]])\n",
    "    \n",
    "    scores = xgb.cv(inp_params, dtrain, cv_ntrees, nfold=5, #early_stopping_rounds=1000,\n",
    "        metrics={'rmse'},\n",
    "        custom_metric = r2,\n",
    "       #callbacks=[xgb.callback.EvaluationMonitor(show_stdv=True)]\n",
    "      )\n",
    "    \n",
    "    print(scores[scores['test-rmse-mean'] == scores['test-rmse-mean'].min()][:1].to_string())\n",
    "    niters = scores['test-rmse-mean'].argmin()\n",
    "    \n",
    "    model = XGBRegressor(n_estimators=niters, \n",
    "                               #max_depth=7, \n",
    "                               #eta=0.1, \n",
    "                               #subsample=0.7, \n",
    "                               #colsample_bytree=0.8,\n",
    "                               n_jobs = -1,\n",
    "                               random_state = XGB_RANDOMSEED,\n",
    "                              )\n",
    "\n",
    "    model.fit(inp_df[num_cols], inp_df[target], \n",
    "                    verbose=False\n",
    "                   )\n",
    "    \n",
    "    return model"
   ]
  },
  {
   "cell_type": "code",
   "execution_count": null,
   "id": "07795fc4-3ef5-43a8-af09-34f0292d374c",
   "metadata": {},
   "outputs": [],
   "source": []
  },
  {
   "cell_type": "code",
   "execution_count": null,
   "id": "7f9ca08e-97ad-46c9-9bf0-2b85209426e4",
   "metadata": {},
   "outputs": [],
   "source": []
  },
  {
   "cell_type": "raw",
   "id": "2bec5f7a-a022-4027-9313-aa32b540dbed",
   "metadata": {},
   "source": [
    "%%time\n",
    "scores_v = xgb.cv(xgb_params_views, dtrain_v, cv_ntrees, nfold=5, #early_stopping_rounds=1000,\n",
    "        metrics={'rmse'},\n",
    "        custom_metric = r2,\n",
    "       #callbacks=[xgb.callback.EvaluationMonitor(show_stdv=True)]\n",
    "      )\n",
    "#scores_v.tail(5)"
   ]
  },
  {
   "cell_type": "code",
   "execution_count": 20,
   "id": "78cc2bf8-8108-46c9-813d-538f0a2e9fa3",
   "metadata": {},
   "outputs": [],
   "source": [
    "#if scores_v['test-rmse-mean'].argmin() != scores_v['test-r2-mean'].argmax():\n",
    "#    raise ValueError('wtf?', scores_v['test-rmse-mean'].argmin(), scores_v['test-r2-mean'].argmax())"
   ]
  },
  {
   "cell_type": "raw",
   "id": "767c9c9c-85c3-49cc-9da6-ee46f973e725",
   "metadata": {},
   "source": [
    "scores_v[scores_v['test-rmse-mean'] == scores_v['test-rmse-mean'].min()][:1]"
   ]
  },
  {
   "cell_type": "raw",
   "id": "ebd50f2c-6d00-4904-9e38-17d7fa8ade76",
   "metadata": {},
   "source": [
    "18\t13632.72718\t559.933897\t43588.009905\t12205.524327\t0.948294\t0.006664\t0.450216\t0.066209"
   ]
  },
  {
   "cell_type": "raw",
   "id": "c34459ff-3727-42b7-b1fa-f571623aa733",
   "metadata": {},
   "source": [
    "views_iter = scores_v['test-rmse-mean'].argmin()"
   ]
  },
  {
   "cell_type": "raw",
   "id": "4ffcdfa7-d617-4034-870e-93e664b70861",
   "metadata": {},
   "source": [
    "xgb_model_views = XGBRegressor(n_estimators=views_iter, \n",
    "                               #max_depth=7, \n",
    "                               #eta=0.1, \n",
    "                               #subsample=0.7, \n",
    "                               #colsample_bytree=0.8,\n",
    "                               n_jobs = -1,\n",
    "                               random_state = XGB_RANDOMSEED,\n",
    "                              )\n",
    "\n",
    "xgb_model_views.fit(df_train[num_cols], df_train['views'], \n",
    "                    verbose=False\n",
    "                   )"
   ]
  },
  {
   "cell_type": "code",
   "execution_count": 21,
   "id": "1726f35d-8bfb-4aec-a010-a89292428983",
   "metadata": {},
   "outputs": [
    {
     "name": "stdout",
     "output_type": "stream",
     "text": [
      "   train-rmse-mean  train-rmse-std  test-rmse-mean  test-rmse-std  train-r2-mean  train-r2-std  test-r2-mean  test-r2-std\n",
      "9     25820.483955     1578.335306    65149.972564   17986.270784       0.904714      0.006539      0.360492     0.128162\n",
      "Wall time: 1min 31s\n"
     ]
    }
   ],
   "source": [
    "%%time\n",
    "model_views_start = get_model(df_train[df_train.distrib_brdr == 1], xgb_params_views, 'views')"
   ]
  },
  {
   "cell_type": "raw",
   "id": "1d2cb870-dfd2-4366-aa0d-4f5cceaf2903",
   "metadata": {},
   "source": [
    "11     22384.024923      903.611058    61200.728146     19997.9598       0.928265      0.004713       0.45129     0.093598"
   ]
  },
  {
   "cell_type": "code",
   "execution_count": 22,
   "id": "e02908f3-0201-4b54-b271-52e0d84dbdd5",
   "metadata": {},
   "outputs": [
    {
     "data": {
      "image/png": "[encoded data removed]",
      "text/plain": [
       "<Figure size 2160x1152 with 1 Axes>"
      ]
     },
     "metadata": {
      "needs_background": "light"
     },
     "output_type": "display_data"
    }
   ],
   "source": [
    "plot_importance(model_views_start, 30, 'weight')"
   ]
  },
  {
   "cell_type": "code",
   "execution_count": null,
   "id": "d671fea7-9f2b-4271-bcf4-620d79f04b5c",
   "metadata": {},
   "outputs": [],
   "source": []
  },
  {
   "cell_type": "code",
   "execution_count": 23,
   "id": "9b2bd5cf-baf6-4d6e-bba2-efdb0ecc64f3",
   "metadata": {},
   "outputs": [
    {
     "name": "stdout",
     "output_type": "stream",
     "text": [
      "    train-rmse-mean  train-rmse-std  test-rmse-mean  test-rmse-std  train-r2-mean  train-r2-std  test-r2-mean  test-r2-std\n",
      "29      2669.149669      181.763876     10179.35273     976.284459       0.967556      0.004716      0.526867     0.040686\n",
      "Wall time: 1min 40s\n"
     ]
    }
   ],
   "source": [
    "%%time\n",
    "model_views_end = get_model(df_train[df_train.distrib_brdr == 0], xgb_params_views, 'views')"
   ]
  },
  {
   "cell_type": "raw",
   "id": "7efcdfc5-890a-4bfc-882b-2b0612f933cb",
   "metadata": {},
   "source": [
    "24      2819.551404      172.393659     9400.983694     715.835259       0.963838      0.004991      0.596266     0.012526"
   ]
  },
  {
   "cell_type": "code",
   "execution_count": 24,
   "id": "e4ce8354-7a72-4534-af3b-f016e4f21577",
   "metadata": {},
   "outputs": [
    {
     "data": {
      "image/png": "[encoded data removed]",
      "text/plain": [
       "<Figure size 2160x1152 with 1 Axes>"
      ]
     },
     "metadata": {
      "needs_background": "light"
     },
     "output_type": "display_data"
    }
   ],
   "source": [
    "plot_importance(model_views_end, 30, 'weight')"
   ]
  },
  {
   "cell_type": "code",
   "execution_count": null,
   "id": "41d776a9-fb62-4aa8-986b-5df6ac4e5436",
   "metadata": {},
   "outputs": [],
   "source": []
  },
  {
   "cell_type": "markdown",
   "id": "a3cac29b-566d-4c8b-9cf7-9ef84a7261d2",
   "metadata": {},
   "source": [
    "## depth"
   ]
  },
  {
   "cell_type": "code",
   "execution_count": 25,
   "id": "a1b94baa-d75d-4f2f-a1b8-a347ed3d9dcc",
   "metadata": {},
   "outputs": [],
   "source": [
    "xgb_params_depth = {\n",
    "    'booster': 'gbtree',\n",
    "    'objective': 'reg:squarederror',\n",
    "    #'n_estimators': 1000, \n",
    "    #'learning_rate': 0.05,\n",
    "    #'eta': 0.3,\n",
    "    #'max_depth': 15, \n",
    " #   'num_boost_round': 10000, \n",
    " #   'early_stopping_rounds': 100,\n",
    "}\n",
    "#dtrain_d = xgb.DMatrix(df_train[num_cols], label=df_train[['depth']])"
   ]
  },
  {
   "cell_type": "raw",
   "id": "44974578-6f4f-4602-ac71-3c376f82049c",
   "metadata": {},
   "source": [
    "%%time\n",
    "scores_d = xgb.cv(xgb_params_depth, dtrain_d, cv_ntrees, nfold=5, #early_stopping_rounds=1000,\n",
    "        metrics={'rmse'},\n",
    "        custom_metric = r2,\n",
    "       #callbacks=[xgb.callback.EvaluationMonitor(show_stdv=True)]\n",
    "      )\n",
    "#scores_d.tail()"
   ]
  },
  {
   "cell_type": "code",
   "execution_count": 26,
   "id": "3a811cb9-9d97-4947-b1aa-35b0c65f14f4",
   "metadata": {},
   "outputs": [],
   "source": [
    "#if scores_d['test-rmse-mean'].argmin() != scores_d['test-r2-mean'].argmax():\n",
    "#    raise ValueError('wtf?', scores_d['test-rmse-mean'].argmin(), scores_d['test-r2-mean'].argmax())"
   ]
  },
  {
   "cell_type": "raw",
   "id": "ebdf7644-4109-4f57-a0d0-56aa64dc55bd",
   "metadata": {},
   "source": [
    "scores_d[scores_d['test-rmse-mean'] == scores_d['test-rmse-mean'].min()][:1]"
   ]
  },
  {
   "cell_type": "raw",
   "id": "29ea3458-7585-4c51-bd6f-5fd9182f1aa1",
   "metadata": {},
   "source": [
    "36\t0.000655\t0.00005\t    0.023424\t0.000554\t0.999856\t0.000023\t0.81588\t    0.011583\n",
    "23\t0.001309\t0.000082\t0.023411\t0.000574\t0.999424\t0.000074\t0.816096\t0.011584"
   ]
  },
  {
   "cell_type": "raw",
   "id": "84c65d1e-67d0-4b57-98b9-442b3a8ef5c1",
   "metadata": {},
   "source": [
    "depth_iter = scores_d['test-rmse-mean'].argmin()"
   ]
  },
  {
   "cell_type": "raw",
   "id": "cf80d882-d6e6-457e-afcb-b45f3bbff0c6",
   "metadata": {},
   "source": [
    "xgb_model_depth = XGBRegressor(n_estimators=depth_iter, \n",
    "                               #max_depth=7, \n",
    "                               #eta=0.1, \n",
    "                               #subsample=0.7, \n",
    "                               #colsample_bytree=0.8,\n",
    "                               n_jobs = -1,\n",
    "                               random_state = XGB_RANDOMSEED,\n",
    "                              )\n",
    "\n",
    "xgb_model_depth.fit(df_train[num_cols], df_train['depth'], \n",
    "                    verbose=False\n",
    "                   )"
   ]
  },
  {
   "cell_type": "code",
   "execution_count": 27,
   "id": "643d5206-c848-4efe-80c9-c29c53d01dd6",
   "metadata": {},
   "outputs": [
    {
     "name": "stdout",
     "output_type": "stream",
     "text": [
      "    train-rmse-mean  train-rmse-std  test-rmse-mean  test-rmse-std  train-r2-mean  train-r2-std  test-r2-mean  test-r2-std\n",
      "17         0.019964        0.000278        0.036478       0.003494       0.853639      0.009965      0.481458     0.111223\n",
      "Wall time: 1min 4s\n"
     ]
    }
   ],
   "source": [
    "%%time\n",
    "model_depth_start = get_model(df_train[df_train.distrib_brdr == 1], xgb_params_depth, 'depth')"
   ]
  },
  {
   "cell_type": "raw",
   "id": "52c613ad-29e4-428d-b814-362aa4d557e0",
   "metadata": {},
   "source": [
    "18         0.019287        0.000396        0.035885       0.003551       0.863268      0.011823      0.501045      0.09238"
   ]
  },
  {
   "cell_type": "code",
   "execution_count": 28,
   "id": "9eaa8af8-177d-47ba-8a98-c1fc83fab801",
   "metadata": {},
   "outputs": [
    {
     "data": {
      "image/png": "[encoded data removed]",
      "text/plain": [
       "<Figure size 2160x1152 with 1 Axes>"
      ]
     },
     "metadata": {
      "needs_background": "light"
     },
     "output_type": "display_data"
    }
   ],
   "source": [
    "plot_importance(model_depth_start, 30, 'weight')"
   ]
  },
  {
   "cell_type": "code",
   "execution_count": null,
   "id": "b1f38246-6f92-482d-92f3-281f0f5570d2",
   "metadata": {},
   "outputs": [],
   "source": []
  },
  {
   "cell_type": "code",
   "execution_count": 29,
   "id": "0a44ec45-4bd6-4271-9567-48fee74f5ea8",
   "metadata": {},
   "outputs": [
    {
     "name": "stdout",
     "output_type": "stream",
     "text": [
      "    train-rmse-mean  train-rmse-std  test-rmse-mean  test-rmse-std  train-r2-mean  train-r2-std  test-r2-mean  test-r2-std\n",
      "20         0.009772        0.000509        0.015938       0.001936       0.795403      0.011458      0.448899     0.032574\n",
      "Wall time: 1min 5s\n"
     ]
    }
   ],
   "source": [
    "%%time\n",
    "model_depth_end = get_model(df_train[df_train.distrib_brdr == 0], xgb_params_depth, 'depth')"
   ]
  },
  {
   "cell_type": "raw",
   "id": "525b2c24-182a-4bee-a52a-f1ec2ac3e308",
   "metadata": {},
   "source": [
    "21         0.009228        0.000468        0.015788       0.002203       0.817579      0.009464      0.460251     0.049625"
   ]
  },
  {
   "cell_type": "code",
   "execution_count": 30,
   "id": "9d8b5867-3894-47a0-bb6b-256a2607e803",
   "metadata": {},
   "outputs": [
    {
     "data": {
      "image/png": "[encoded data removed]",
      "text/plain": [
       "<Figure size 2160x1152 with 1 Axes>"
      ]
     },
     "metadata": {
      "needs_background": "light"
     },
     "output_type": "display_data"
    }
   ],
   "source": [
    "plot_importance(model_depth_end, 30, 'weight')"
   ]
  },
  {
   "cell_type": "code",
   "execution_count": null,
   "id": "69a135a1-0c91-42d7-828d-a8d223322de9",
   "metadata": {},
   "outputs": [],
   "source": []
  },
  {
   "cell_type": "markdown",
   "id": "fafdf6ea-9687-472f-ab6e-86125f5dc7eb",
   "metadata": {},
   "source": [
    "## full_reads_percent"
   ]
  },
  {
   "cell_type": "code",
   "execution_count": null,
   "id": "e4209a63-4bb3-4393-8f75-f74cb929688c",
   "metadata": {},
   "outputs": [],
   "source": []
  },
  {
   "cell_type": "code",
   "execution_count": 52,
   "id": "9bde8190-0193-4dad-8a39-c47e77bb6ec9",
   "metadata": {},
   "outputs": [],
   "source": [
    "xgb_params_frp = {\n",
    "    'booster': 'gbtree',\n",
    "    'objective': 'reg:squarederror',\n",
    "    #'n_estimators': 1000, \n",
    "    #'learning_rate': 0.05,\n",
    "    #'eta': 0.3,\n",
    "    #'max_depth': 15, \n",
    " #   'num_boost_round': 10000, \n",
    " #   'early_stopping_rounds': 100,\n",
    "}\n",
    "#dtrain_f = xgb.DMatrix(df_train[num_cols], label=df_train[['full_reads_percent']])"
   ]
  },
  {
   "cell_type": "raw",
   "id": "01ca836e-c8b3-4941-813c-b9829d4dfed3",
   "metadata": {},
   "source": [
    "%%time\n",
    "scores_f = xgb.cv(xgb_params_fpr, dtrain_f, cv_ntrees, nfold=5, #early_stopping_rounds=1000,\n",
    "        metrics={'rmse'},\n",
    "        custom_metric = r2,\n",
    "       #callbacks=[xgb.callback.EvaluationMonitor(show_stdv=True)]\n",
    "      )\n",
    "#scores_f.tail()"
   ]
  },
  {
   "cell_type": "code",
   "execution_count": 32,
   "id": "6cefff62-75e5-4326-9650-bebc4b800df9",
   "metadata": {},
   "outputs": [],
   "source": [
    "#if scores_f['test-rmse-mean'].argmin() != scores_f['test-r2-mean'].argmax():\n",
    "#    raise ValueError('wtf?', scores_f['test-rmse-mean'].argmin(), scores_f['test-r2-mean'].argmax())"
   ]
  },
  {
   "cell_type": "raw",
   "id": "36eb296e-1a9e-49e0-80ea-c5b3fdbf64f4",
   "metadata": {},
   "source": [
    "scores_f[scores_f['test-rmse-mean'] == scores_f['test-rmse-mean'].min()][:1]"
   ]
  },
  {
   "cell_type": "raw",
   "id": "a7979adf-f9d3-4ddd-9b58-89460d5cbdea",
   "metadata": {},
   "source": [
    "15\t4.712886\t0.041195\t6.837132\t0.046951\t0.784065\t0.005105\t0.544971\t0.013879"
   ]
  },
  {
   "cell_type": "raw",
   "id": "a6d96364-ca3f-4dc1-8932-d9fabae223a7",
   "metadata": {},
   "source": [
    "frp_iter = scores_f['test-rmse-mean'].argmin()"
   ]
  },
  {
   "cell_type": "raw",
   "id": "aaf8839f-16c5-40a4-8a5f-c6cdaa3618c0",
   "metadata": {},
   "source": [
    "xgb_model_frp = XGBRegressor(n_estimators=frp_iter,\n",
    "                             #max_depth=7, \n",
    "                             #eta=0.1, \n",
    "                             #subsample=0.7, \n",
    "                             #colsample_bytree=0.8,\n",
    "                             n_jobs = -1,\n",
    "                             random_state = XGB_RANDOMSEED,\n",
    "                             )\n",
    "\n",
    "xgb_model_frp.fit(df_train[num_cols], df_train['full_reads_percent'],\n",
    "                  verbose=False\n",
    "                 )"
   ]
  },
  {
   "cell_type": "code",
   "execution_count": 33,
   "id": "d1566925-f708-4ea9-9ce3-22aa2f85fecc",
   "metadata": {},
   "outputs": [
    {
     "name": "stdout",
     "output_type": "stream",
     "text": [
      "    train-rmse-mean  train-rmse-std  test-rmse-mean  test-rmse-std  train-r2-mean  train-r2-std  test-r2-mean  test-r2-std\n",
      "16         3.793018        0.120115        7.508806        0.10407       0.870213      0.008126      0.490826     0.027774\n",
      "Wall time: 1min 25s\n"
     ]
    }
   ],
   "source": [
    "%%time\n",
    "model_frp_start = get_model(df_train[df_train.distrib_brdr == 1], xgb_params_frp, 'full_reads_percent')"
   ]
  },
  {
   "cell_type": "raw",
   "id": "c5e87e22-ec9c-47a6-9144-517ad583a5bb",
   "metadata": {},
   "source": [
    "13         4.108283          0.1468        7.304048       0.081449       0.847669      0.011282      0.518463     0.020976"
   ]
  },
  {
   "cell_type": "code",
   "execution_count": 34,
   "id": "68703860-9cfa-4ca7-ba89-861fb74cd5e8",
   "metadata": {},
   "outputs": [
    {
     "data": {
      "image/png": "[encoded data removed]",
      "text/plain": [
       "<Figure size 2160x1152 with 1 Axes>"
      ]
     },
     "metadata": {
      "needs_background": "light"
     },
     "output_type": "display_data"
    }
   ],
   "source": [
    "plot_importance(model_frp_start, 30, 'weight')"
   ]
  },
  {
   "cell_type": "code",
   "execution_count": null,
   "id": "0b8a1479-995f-4b14-b801-39bf875b652d",
   "metadata": {},
   "outputs": [],
   "source": []
  },
  {
   "cell_type": "code",
   "execution_count": 35,
   "id": "335102c5-846f-4474-86f8-06488038f48b",
   "metadata": {},
   "outputs": [
    {
     "name": "stdout",
     "output_type": "stream",
     "text": [
      "    train-rmse-mean  train-rmse-std  test-rmse-mean  test-rmse-std  train-r2-mean  train-r2-std  test-r2-mean  test-r2-std\n",
      "19          3.31541        0.044339        6.938423       0.179245       0.882477      0.002308       0.48457     0.020766\n",
      "Wall time: 1min 42s\n"
     ]
    }
   ],
   "source": [
    "%%time\n",
    "model_frp_end = get_model(df_train[df_train.distrib_brdr == 0], xgb_params_frp, 'full_reads_percent')"
   ]
  },
  {
   "cell_type": "raw",
   "id": "c125968d-ffdd-4c64-9244-78c673112bc7",
   "metadata": {},
   "source": [
    "13          3.88763        0.069976        6.835213       0.144784       0.838307      0.007139       0.49987     0.014559"
   ]
  },
  {
   "cell_type": "code",
   "execution_count": 36,
   "id": "2b18fef5-35fe-48c0-9826-87608e1931f9",
   "metadata": {},
   "outputs": [
    {
     "data": {
      "image/png": "[encoded data removed]",
      "text/plain": [
       "<Figure size 2160x1152 with 1 Axes>"
      ]
     },
     "metadata": {
      "needs_background": "light"
     },
     "output_type": "display_data"
    }
   ],
   "source": [
    "plot_importance(model_frp_end, 30, 'weight')"
   ]
  },
  {
   "cell_type": "code",
   "execution_count": null,
   "id": "255228a6-7f13-4adf-b9aa-577fe86abfa3",
   "metadata": {},
   "outputs": [],
   "source": []
  },
  {
   "cell_type": "markdown",
   "id": "6e1cf0e9-8033-48de-915e-fc47e65aea57",
   "metadata": {},
   "source": [
    "# Сохраняем предсказания для ансамблей / стекинга"
   ]
  },
  {
   "cell_type": "code",
   "execution_count": null,
   "id": "0645eaca-cf11-44a0-84b3-2f4ca6f8b72f",
   "metadata": {},
   "outputs": [],
   "source": []
  },
  {
   "cell_type": "code",
   "execution_count": 37,
   "id": "ee7c6980-cbcd-4d5f-8558-aa716a97b5ea",
   "metadata": {},
   "outputs": [],
   "source": [
    "pred_train = pd.DataFrame()\n",
    "pred_train[['document_id', 'distrib_brdr']] = df_train[['document_id', 'distrib_brdr']]\n",
    "pred_train = pred_train.reindex(['document_id', 'distrib_brdr', 'views', 'depth', 'full_reads_percent'], axis = 1)"
   ]
  },
  {
   "cell_type": "code",
   "execution_count": 38,
   "id": "30e347fa-cc3d-45d6-9770-9a3c0a5eebaf",
   "metadata": {},
   "outputs": [
    {
     "name": "stdout",
     "output_type": "stream",
     "text": [
      "0  Nan in views\n"
     ]
    }
   ],
   "source": [
    "pred_train.loc[pred_train.query('distrib_brdr == 1').index, 'views'] = model_views_start.predict(df_train[df_train.distrib_brdr == 1][num_cols])\n",
    "pred_train.loc[pred_train.query('distrib_brdr == 0').index, 'views'] = model_views_end.predict(df_train[df_train.distrib_brdr == 0][num_cols])\n",
    "print(sum(pred_train.views.isna()), ' Nan in views')"
   ]
  },
  {
   "cell_type": "code",
   "execution_count": 39,
   "id": "819a6a57-f3e0-4466-ba48-951e60204806",
   "metadata": {},
   "outputs": [
    {
     "name": "stdout",
     "output_type": "stream",
     "text": [
      "0  Nan in depth\n"
     ]
    }
   ],
   "source": [
    "pred_train.loc[pred_train.query('distrib_brdr == 1').index, 'depth'] = model_depth_start.predict(df_train[df_train.distrib_brdr == 1][num_cols])\n",
    "pred_train.loc[pred_train.query('distrib_brdr == 0').index, 'depth'] = model_depth_end.predict(df_train[df_train.distrib_brdr == 0][num_cols])\n",
    "print(sum(pred_train.depth.isna()), ' Nan in depth')"
   ]
  },
  {
   "cell_type": "code",
   "execution_count": 40,
   "id": "1c3cd9cc-7c72-4ee5-8ebb-70b4a0246c96",
   "metadata": {},
   "outputs": [
    {
     "name": "stdout",
     "output_type": "stream",
     "text": [
      "0  Nan in full_reads_percent\n"
     ]
    }
   ],
   "source": [
    "pred_train.loc[pred_train.query('distrib_brdr == 1').index, 'full_reads_percent'] = model_frp_start.predict(df_train[df_train.distrib_brdr == 1][num_cols])\n",
    "pred_train.loc[pred_train.query('distrib_brdr == 0').index, 'full_reads_percent'] = model_frp_end.predict(df_train[df_train.distrib_brdr == 0][num_cols])\n",
    "print(sum(pred_train.full_reads_percent.isna()), ' Nan in full_reads_percent')"
   ]
  },
  {
   "cell_type": "code",
   "execution_count": 41,
   "id": "9673fba7-f630-469f-91ed-4d9c43be1152",
   "metadata": {},
   "outputs": [],
   "source": [
    "pred_train.drop(['distrib_brdr'], axis =1, inplace = True)\n",
    "pred_train.to_csv(os.path.join(DIR_SUBM_PART, f'{NAME}_train_part.csv'), index = False)"
   ]
  },
  {
   "cell_type": "code",
   "execution_count": null,
   "id": "ac37bbfb-6b42-43b3-903e-d6e8d271bb3c",
   "metadata": {},
   "outputs": [],
   "source": []
  },
  {
   "cell_type": "code",
   "execution_count": null,
   "id": "ed3a658c-84f9-46de-aaf1-7dc245cd685f",
   "metadata": {},
   "outputs": [],
   "source": []
  },
  {
   "cell_type": "markdown",
   "id": "81b7d454-37b6-45ee-94fb-99af0fe23ae5",
   "metadata": {},
   "source": [
    "## save models"
   ]
  },
  {
   "cell_type": "code",
   "execution_count": 42,
   "id": "75aa11de-71cb-47a7-9e22-2857f7f7e643",
   "metadata": {},
   "outputs": [
    {
     "name": "stderr",
     "output_type": "stream",
     "text": [
      "C:\\Users\\_v010ch_\\Anaconda3\\lib\\site-packages\\xgboost\\sklearn.py:722: UserWarning: n_estimators is not saved in Scikit-Learn meta.\n",
      "  warnings.warn(str(k) + ' is not saved in Scikit-Learn meta.', UserWarning)\n"
     ]
    }
   ],
   "source": [
    "model_views_start.save_model(os.path.join(DIR_MODELS, f'{NAME}_v_start.json'), \n",
    "                          )\n",
    "model_views_end.save_model(os.path.join(DIR_MODELS, f'{NAME}_v_end.json'), \n",
    "                          )\n",
    "\n",
    "model_depth_start.save_model(os.path.join(DIR_MODELS, f'{NAME}_d_start.json'), \n",
    "                          )\n",
    "model_depth_end.save_model(os.path.join(DIR_MODELS, f'{NAME}_d_end.json'), \n",
    "                          )\n",
    "\n",
    "model_frp_start.save_model(os.path.join(DIR_MODELS, f'{NAME}_f_start.json'), \n",
    "                        )\n",
    "model_frp_end.save_model(os.path.join(DIR_MODELS, f'{NAME}_f_end.json'), \n",
    "                        )"
   ]
  },
  {
   "cell_type": "code",
   "execution_count": null,
   "id": "102c6530-8a1b-4c1c-a1d3-e9d95e350220",
   "metadata": {},
   "outputs": [],
   "source": []
  },
  {
   "cell_type": "markdown",
   "id": "ac604b78-2718-408d-8d19-5b202d3f5a19",
   "metadata": {},
   "source": [
    "## make predict"
   ]
  },
  {
   "cell_type": "raw",
   "id": "96540a59-3da9-4fe2-9e87-cb060423a579",
   "metadata": {},
   "source": [
    "pred_views = xgb_model_views.predict(df_test[num_cols])\n",
    "pred_depth = xgb_model_depth.predict(df_test[num_cols])\n",
    "pred_frp   = xgb_model_frp.predict(  df_test[num_cols])"
   ]
  },
  {
   "cell_type": "raw",
   "id": "00b9b778-d470-4e28-94a4-256e9c083e9f",
   "metadata": {},
   "source": [
    "subm = pd.DataFrame()\n",
    "subm['document_id'] = df_test.document_id\n",
    "\n",
    "subm['views'] = pred_views\n",
    "subm['depth'] = pred_depth\n",
    "subm['full_reads_percent'] = pred_frp"
   ]
  },
  {
   "cell_type": "code",
   "execution_count": 43,
   "id": "0db4226d-ad0f-4fc0-bbd8-9bbac6778969",
   "metadata": {},
   "outputs": [],
   "source": [
    "subm = pd.DataFrame()\n",
    "subm[['document_id', 'distrib_brdr']] = df_test[['document_id', 'distrib_brdr']]\n",
    "subm = subm.reindex(['document_id', 'distrib_brdr', 'views', 'depth', 'full_reads_percent'], axis = 1)"
   ]
  },
  {
   "cell_type": "code",
   "execution_count": 44,
   "id": "85844876-d9d4-4ace-bbf7-77fbd5fefc58",
   "metadata": {},
   "outputs": [
    {
     "name": "stdout",
     "output_type": "stream",
     "text": [
      "0  Nan in views\n"
     ]
    }
   ],
   "source": [
    "subm.loc[subm.query('distrib_brdr == 1').index, 'views'] = model_views_start.predict(df_test[df_test.distrib_brdr == 1][num_cols])\n",
    "subm.loc[subm.query('distrib_brdr == 0').index, 'views'] = model_views_end.predict(df_test[df_test.distrib_brdr == 0][num_cols])\n",
    "print(sum(subm.views.isna()), ' Nan in views')"
   ]
  },
  {
   "cell_type": "code",
   "execution_count": 45,
   "id": "de388a9e-b016-4316-a902-5eefef076051",
   "metadata": {},
   "outputs": [
    {
     "name": "stdout",
     "output_type": "stream",
     "text": [
      "0  Nan in depth\n"
     ]
    }
   ],
   "source": [
    "subm.loc[subm.query('distrib_brdr == 1').index, 'depth'] = model_depth_start.predict(df_test[df_test.distrib_brdr == 1][num_cols])\n",
    "subm.loc[subm.query('distrib_brdr == 0').index, 'depth'] = model_depth_end.predict(df_test[df_test.distrib_brdr == 0][num_cols])\n",
    "print(sum(subm.depth.isna()), ' Nan in depth')"
   ]
  },
  {
   "cell_type": "code",
   "execution_count": 46,
   "id": "de5d8fff-035e-402c-8b94-7a3f4d9fbf32",
   "metadata": {},
   "outputs": [
    {
     "name": "stdout",
     "output_type": "stream",
     "text": [
      "0  Nan in full_reads_percent\n"
     ]
    }
   ],
   "source": [
    "subm.loc[subm.query('distrib_brdr == 1').index, 'full_reads_percent'] = model_frp_start.predict(df_test[df_test.distrib_brdr == 1][num_cols])\n",
    "subm.loc[subm.query('distrib_brdr == 0').index, 'full_reads_percent'] = model_frp_end.predict(df_test[df_test.distrib_brdr == 0][num_cols])\n",
    "print(sum(subm.full_reads_percent.isna()), ' Nan in full_reads_percent')"
   ]
  },
  {
   "cell_type": "code",
   "execution_count": null,
   "id": "836e3493-39e7-4014-90ff-568e518a1fe5",
   "metadata": {},
   "outputs": [],
   "source": []
  },
  {
   "cell_type": "code",
   "execution_count": 47,
   "id": "4835a39d-faef-405a-b34b-94e53fe6bc35",
   "metadata": {},
   "outputs": [
    {
     "data": {
      "text/html": [
       "<div>\n",
       "<style scoped>\n",
       "    .dataframe tbody tr th:only-of-type {\n",
       "        vertical-align: middle;\n",
       "    }\n",
       "\n",
       "    .dataframe tbody tr th {\n",
       "        vertical-align: top;\n",
       "    }\n",
       "\n",
       "    .dataframe thead th {\n",
       "        text-align: right;\n",
       "    }\n",
       "</style>\n",
       "<table border=\"1\" class=\"dataframe\">\n",
       "  <thead>\n",
       "    <tr style=\"text-align: right;\">\n",
       "      <th></th>\n",
       "      <th>views</th>\n",
       "      <th>depth</th>\n",
       "      <th>full_reads_percent</th>\n",
       "    </tr>\n",
       "  </thead>\n",
       "  <tbody>\n",
       "    <tr>\n",
       "      <th>945</th>\n",
       "      <td>167601.078125</td>\n",
       "      <td>1.158460</td>\n",
       "      <td>23.587423</td>\n",
       "    </tr>\n",
       "    <tr>\n",
       "      <th>1440</th>\n",
       "      <td>94942.687500</td>\n",
       "      <td>1.181687</td>\n",
       "      <td>24.792372</td>\n",
       "    </tr>\n",
       "    <tr>\n",
       "      <th>2645</th>\n",
       "      <td>197067.921875</td>\n",
       "      <td>1.176131</td>\n",
       "      <td>28.034546</td>\n",
       "    </tr>\n",
       "  </tbody>\n",
       "</table>\n",
       "</div>"
      ],
      "text/plain": [
       "              views     depth  full_reads_percent\n",
       "945   167601.078125  1.158460           23.587423\n",
       "1440   94942.687500  1.181687           24.792372\n",
       "2645  197067.921875  1.176131           28.034546"
      ]
     },
     "execution_count": 47,
     "metadata": {},
     "output_type": "execute_result"
    }
   ],
   "source": [
    "doc_id_ukr = df_test[df_test.spec == 1].document_id.values\n",
    "subm.query('document_id in @doc_id_ukr')[['views', 'depth', 'full_reads_percent']]"
   ]
  },
  {
   "cell_type": "code",
   "execution_count": 48,
   "id": "2f64875d-af90-4a1e-a3cb-460beac6b956",
   "metadata": {},
   "outputs": [
    {
     "data": {
      "text/html": [
       "<div>\n",
       "<style scoped>\n",
       "    .dataframe tbody tr th:only-of-type {\n",
       "        vertical-align: middle;\n",
       "    }\n",
       "\n",
       "    .dataframe tbody tr th {\n",
       "        vertical-align: top;\n",
       "    }\n",
       "\n",
       "    .dataframe thead th {\n",
       "        text-align: right;\n",
       "    }\n",
       "</style>\n",
       "<table border=\"1\" class=\"dataframe\">\n",
       "  <thead>\n",
       "    <tr style=\"text-align: right;\">\n",
       "      <th></th>\n",
       "      <th>views</th>\n",
       "      <th>depth</th>\n",
       "      <th>full_reads_percent</th>\n",
       "    </tr>\n",
       "  </thead>\n",
       "  <tbody>\n",
       "    <tr>\n",
       "      <th>945</th>\n",
       "      <td>2554204.0</td>\n",
       "      <td>1.799</td>\n",
       "      <td>4.978</td>\n",
       "    </tr>\n",
       "    <tr>\n",
       "      <th>1440</th>\n",
       "      <td>2554204.0</td>\n",
       "      <td>1.799</td>\n",
       "      <td>4.978</td>\n",
       "    </tr>\n",
       "    <tr>\n",
       "      <th>2645</th>\n",
       "      <td>2554204.0</td>\n",
       "      <td>1.799</td>\n",
       "      <td>4.978</td>\n",
       "    </tr>\n",
       "  </tbody>\n",
       "</table>\n",
       "</div>"
      ],
      "text/plain": [
       "          views  depth  full_reads_percent\n",
       "945   2554204.0  1.799               4.978\n",
       "1440  2554204.0  1.799               4.978\n",
       "2645  2554204.0  1.799               4.978"
      ]
     },
     "execution_count": 48,
     "metadata": {},
     "output_type": "execute_result"
    }
   ],
   "source": [
    "# присваиваем статичные данные\n",
    "subm.loc[subm.query('document_id in @doc_id_ukr').index, 'views'] = VIEWS_UKR\n",
    "subm.loc[subm.query('document_id in @doc_id_ukr').index, 'depth'] = DEPTH_UKR\n",
    "subm.loc[subm.query('document_id in @doc_id_ukr').index, 'full_reads_percent'] = FPR_UKR\n",
    "\n",
    "subm.query('document_id in @doc_id_ukr')[['views', 'depth', 'full_reads_percent']]"
   ]
  },
  {
   "cell_type": "code",
   "execution_count": 49,
   "id": "37fa65e1-c702-4764-8f84-eb93b80c73f8",
   "metadata": {},
   "outputs": [
    {
     "data": {
      "text/html": [
       "<div>\n",
       "<style scoped>\n",
       "    .dataframe tbody tr th:only-of-type {\n",
       "        vertical-align: middle;\n",
       "    }\n",
       "\n",
       "    .dataframe tbody tr th {\n",
       "        vertical-align: top;\n",
       "    }\n",
       "\n",
       "    .dataframe thead th {\n",
       "        text-align: right;\n",
       "    }\n",
       "</style>\n",
       "<table border=\"1\" class=\"dataframe\">\n",
       "  <thead>\n",
       "    <tr style=\"text-align: right;\">\n",
       "      <th></th>\n",
       "      <th>document_id</th>\n",
       "      <th>distrib_brdr</th>\n",
       "      <th>views</th>\n",
       "      <th>depth</th>\n",
       "      <th>full_reads_percent</th>\n",
       "    </tr>\n",
       "  </thead>\n",
       "  <tbody>\n",
       "    <tr>\n",
       "      <th>0</th>\n",
       "      <td>61f9569a9a794794245a82abJ0AvX96vTAaQCiWVbzoMdw</td>\n",
       "      <td>1</td>\n",
       "      <td>16403.242188</td>\n",
       "      <td>1.193659</td>\n",
       "      <td>44.440659</td>\n",
       "    </tr>\n",
       "    <tr>\n",
       "      <th>1</th>\n",
       "      <td>628c22b89a79470e553f594bQS5CqzXYRnmDdR2LaSreEw</td>\n",
       "      <td>0</td>\n",
       "      <td>4924.445801</td>\n",
       "      <td>1.057467</td>\n",
       "      <td>33.509327</td>\n",
       "    </tr>\n",
       "    <tr>\n",
       "      <th>2</th>\n",
       "      <td>627cb3249a7947ebdd752865XVsoyrUOT8OJJg2_finJhw</td>\n",
       "      <td>0</td>\n",
       "      <td>11193.769531</td>\n",
       "      <td>1.063260</td>\n",
       "      <td>31.093771</td>\n",
       "    </tr>\n",
       "    <tr>\n",
       "      <th>3</th>\n",
       "      <td>628618629a7947d4927eb812upfii3whSSuMXCqcqF8VbQ</td>\n",
       "      <td>0</td>\n",
       "      <td>6919.605957</td>\n",
       "      <td>1.064121</td>\n",
       "      <td>35.541668</td>\n",
       "    </tr>\n",
       "    <tr>\n",
       "      <th>4</th>\n",
       "      <td>620e76109a7947235623695b5hzCiIHdSYKQIr8WAM18bw</td>\n",
       "      <td>1</td>\n",
       "      <td>139940.828125</td>\n",
       "      <td>1.128677</td>\n",
       "      <td>28.509926</td>\n",
       "    </tr>\n",
       "  </tbody>\n",
       "</table>\n",
       "</div>"
      ],
      "text/plain": [
       "                                      document_id  distrib_brdr  \\\n",
       "0  61f9569a9a794794245a82abJ0AvX96vTAaQCiWVbzoMdw             1   \n",
       "1  628c22b89a79470e553f594bQS5CqzXYRnmDdR2LaSreEw             0   \n",
       "2  627cb3249a7947ebdd752865XVsoyrUOT8OJJg2_finJhw             0   \n",
       "3  628618629a7947d4927eb812upfii3whSSuMXCqcqF8VbQ             0   \n",
       "4  620e76109a7947235623695b5hzCiIHdSYKQIr8WAM18bw             1   \n",
       "\n",
       "           views     depth  full_reads_percent  \n",
       "0   16403.242188  1.193659           44.440659  \n",
       "1    4924.445801  1.057467           33.509327  \n",
       "2   11193.769531  1.063260           31.093771  \n",
       "3    6919.605957  1.064121           35.541668  \n",
       "4  139940.828125  1.128677           28.509926  "
      ]
     },
     "execution_count": 49,
     "metadata": {},
     "output_type": "execute_result"
    }
   ],
   "source": [
    "subm.head()"
   ]
  },
  {
   "cell_type": "code",
   "execution_count": 50,
   "id": "00d26c97-fb11-49b4-940e-ea797b27d29d",
   "metadata": {},
   "outputs": [],
   "source": [
    "subm.drop(['distrib_brdr'], inplace = True, axis = 1)\n",
    "subm.to_csv(os.path.join(DIR_SUBM, f'{NAME}.csv'), index = False)"
   ]
  },
  {
   "cell_type": "code",
   "execution_count": null,
   "id": "381434ea-0954-4ac1-8278-348a674c1a9c",
   "metadata": {},
   "outputs": [],
   "source": []
  },
  {
   "cell_type": "code",
   "execution_count": 51,
   "id": "c03a68eb-789b-4df3-9e10-d361499f94ca",
   "metadata": {},
   "outputs": [
    {
     "name": "stdout",
     "output_type": "stream",
     "text": [
      "Notebook Runtime: 8.67 Minutes\n"
     ]
    }
   ],
   "source": [
    "print(\"Notebook Runtime: %0.2f Minutes\"%((time.time() - notebookstart)/60))"
   ]
  },
  {
   "cell_type": "code",
   "execution_count": null,
   "id": "160ad792-1531-427e-bc05-b18e152a4a7f",
   "metadata": {},
   "outputs": [],
   "source": []
  }
 ],
 "metadata": {
  "kernelspec": {
   "display_name": "Python 3",
   "language": "python",
   "name": "python3"
  },
  "language_info": {
   "codemirror_mode": {
    "name": "ipython",
    "version": 3
   },
   "file_extension": ".py",
   "mimetype": "text/x-python",
   "name": "python",
   "nbconvert_exporter": "python",
   "pygments_lexer": "ipython3",
   "version": "3.7.10"
  }
 },
 "nbformat": 4,
 "nbformat_minor": 5
}
