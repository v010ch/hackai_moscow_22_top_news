{
 "cells": [
  {
   "cell_type": "code",
   "execution_count": null,
   "id": "c6db2e07-16cd-4489-b724-d9de866516c9",
   "metadata": {},
   "outputs": [],
   "source": [
    "%load_ext watermark"
   ]
  },
  {
   "cell_type": "code",
   "execution_count": null,
   "id": "73dfb477-594e-4d69-b860-80215f2366ed",
   "metadata": {},
   "outputs": [],
   "source": [
    "%watermark"
   ]
  },
  {
   "cell_type": "code",
   "execution_count": 1,
   "id": "3797276f-b076-4daa-9665-27446cb47d7b",
   "metadata": {},
   "outputs": [],
   "source": [
    "import time\n",
    "notebookstart= time.time()"
   ]
  },
  {
   "cell_type": "code",
   "execution_count": 2,
   "id": "c050c78d-effd-4f46-8ddb-8ac543a21b92",
   "metadata": {},
   "outputs": [],
   "source": [
    "import os\n",
    "#import pickle as pkl\n",
    "\n",
    "import numpy as np\n",
    "import pandas as pd\n",
    "import seaborn as sns\n",
    "import matplotlib.pyplot as plt"
   ]
  },
  {
   "cell_type": "code",
   "execution_count": 3,
   "id": "d3e3ce32-d981-404f-a76a-f00faf59e421",
   "metadata": {},
   "outputs": [],
   "source": [
    "from xgboost import XGBRegressor\n",
    "import xgboost as xgb\n",
    "\n",
    "from sklearn import preprocessing\n",
    "from sklearn.metrics import r2_score\n",
    "from typing import Tuple"
   ]
  },
  {
   "cell_type": "code",
   "execution_count": null,
   "id": "076a0ef0-52b0-42a0-bfd2-67d76c126cc8",
   "metadata": {},
   "outputs": [],
   "source": [
    "%watermark --iversions"
   ]
  },
  {
   "cell_type": "code",
   "execution_count": null,
   "id": "ea3849cf-fc01-4dbc-858e-c2d52ce82b17",
   "metadata": {},
   "outputs": [],
   "source": []
  },
  {
   "cell_type": "code",
   "execution_count": null,
   "id": "6e0ed35b-3eeb-4fb7-b776-7caa2fcd9c06",
   "metadata": {},
   "outputs": [],
   "source": []
  },
  {
   "cell_type": "markdown",
   "id": "d91537a2-d994-4b03-92e6-96dd5b293dbf",
   "metadata": {},
   "source": [
    "## Выствляем переменные"
   ]
  },
  {
   "cell_type": "code",
   "execution_count": 4,
   "id": "6fd6329b-25eb-4363-9eb3-8fbbfe6b82d5",
   "metadata": {},
   "outputs": [],
   "source": [
    "DIR_DATA   = os.path.join(os.getcwd(), 'data')\n",
    "DIR_MODELS = os.path.join(os.getcwd(), 'models')\n",
    "DIR_SUBM   = os.path.join(os.getcwd(), 'subm')\n",
    "DIR_SUBM_PART = os.path.join(os.getcwd(), 'subm', 'partial')"
   ]
  },
  {
   "cell_type": "code",
   "execution_count": 5,
   "id": "055538fa-ee22-42a5-842b-b50b50522855",
   "metadata": {},
   "outputs": [],
   "source": [
    "# номер попытки и название файлов сабмитов\n",
    "NTRY = 28\n",
    "NAME_ENS = f'{NTRY}_ens_pca64_sber_nose_iter_2mod'\n",
    "NAME_CB  = f'{NTRY}_cb_pca64_sber_bord_nose_iter_2mod'\n",
    "NAME_XGB = f'{NTRY}_xgb_pca64_sber_bord_nose_iter_2mod'\n",
    "NAME_LGB = f'{NTRY}_lgb_pca64_sber_bord_nose_iter_2mod'\n",
    "\n",
    "NAME_MN = f'{NTRY}_mn_pca64_sber_nose_iter_2mod'\n",
    "#xgb_pca64_sber_lags_parse_bord_nose_val_part"
   ]
  },
  {
   "cell_type": "code",
   "execution_count": 6,
   "id": "0d19fcba-8e9f-4f38-a70b-96e4aed02f44",
   "metadata": {},
   "outputs": [],
   "source": [
    "# константы по Украине для замены в сабмитах \n",
    "VIEWS_UKR = 2554204\n",
    "DEPTH_UKR = 1.799\n",
    "FPR_UKR = 4.978"
   ]
  },
  {
   "cell_type": "code",
   "execution_count": null,
   "id": "398acd36-bdec-4f78-b8be-ad762622aa3d",
   "metadata": {},
   "outputs": [],
   "source": []
  },
  {
   "cell_type": "markdown",
   "id": "7fe049bd-ddc9-49b2-9050-bb312b72e110",
   "metadata": {},
   "source": [
    "## Блок для воспроизводимости результатов"
   ]
  },
  {
   "cell_type": "code",
   "execution_count": 7,
   "id": "2b9cb642-250e-4ade-9dae-bf8a95a1fed0",
   "metadata": {},
   "outputs": [],
   "source": [
    "# seed the RNG for all devices (both CPU and CUDA)\n",
    "#torch.manual_seed(1984)\n",
    "\n",
    "#Disabling the benchmarking feature causes cuDNN to deterministically select an algorithm, \n",
    "#possibly at the cost of reduced performance.\n",
    "#torch.backends.cudnn.benchmark = False\n",
    "\n",
    "# for custom operators,\n",
    "import random\n",
    "random.seed(5986721)\n",
    "\n",
    "# \n",
    "np.random.seed(62185)\n",
    "\n",
    "#sklearn take seed from a line abowe\n",
    "\n",
    "CB_RANDOMSEED = 309487\n",
    "XGB_RANDOMSEED = 56"
   ]
  },
  {
   "cell_type": "code",
   "execution_count": null,
   "id": "3e2eef79-9baa-4c1a-bed9-87271695b29f",
   "metadata": {},
   "outputs": [],
   "source": []
  },
  {
   "cell_type": "code",
   "execution_count": null,
   "id": "b137e507-b26b-45af-84f8-4a583057c23b",
   "metadata": {},
   "outputs": [],
   "source": []
  },
  {
   "cell_type": "markdown",
   "id": "57174ff3-dadf-480f-817b-ef4a0949708b",
   "metadata": {},
   "source": [
    "# Конкатенация"
   ]
  },
  {
   "cell_type": "raw",
   "id": "12e44193-5d28-450c-81b0-9479c89c120d",
   "metadata": {},
   "source": [
    "#subm_views = pd.read_csv(os.path.join(DIR_SUBM, f'1_xgb_baseline_test.csv'),  usecols=['document_id', 'views'])\n",
    "subm_views = pd.read_csv(os.path.join(DIR_SUBM, f'{NTRY}_lgb_pca64_sber_bord_nose_iter_poly.csv'),  usecols=['document_id', 'views'])\n",
    "subm_depth = pd.read_csv(os.path.join(DIR_SUBM, f'{NTRY}_lgb_pca64_sber_bord_nose_iter_poly.csv'), usecols=['document_id', 'depth'])\n",
    "subm_frp   = pd.read_csv(os.path.join(DIR_SUBM, f'{NTRY}_lgb_pca64_sber_bord_nose_iter_poly.csv'), usecols=['document_id', 'full_reads_percent'])\n",
    "\n",
    "#ubm_depth = pd.read_csv(os.path.join(DIR_SUBM, f'{NTRY}_lgb_pca64_sber_lags_parse_bord_nose_irq.csv'), usecols=['document_id', 'depth'])\n",
    "#ubm_frp   = pd.read_csv(os.path.join(DIR_SUBM, f'14_lgb_pca64_sber_lags_parse_bord_nose.csv'),   usecols=['document_id', 'full_reads_percent'])\n",
    "\n",
    "print(subm_views.shape, subm_depth.shape, subm_frp.shape)"
   ]
  },
  {
   "cell_type": "raw",
   "id": "88e13de1-a74d-4081-b18e-d5cd5f18600e",
   "metadata": {},
   "source": [
    "subm = subm_views.merge(subm_depth, on='document_id', validate='one_to_one')\n",
    "#subm = subm.merge(subm_depth, on='document_id', validate='one_to_one')\n",
    "subm = subm.merge(subm_frp, on='document_id', validate='one_to_one')"
   ]
  },
  {
   "cell_type": "raw",
   "id": "5e295dc8-5192-44af-8218-550e7ce99912",
   "metadata": {},
   "source": [
    "subm.to_csv(os.path.join(DIR_SUBM, f'{NTRY}_concatenate.csv'), index = False)"
   ]
  },
  {
   "cell_type": "code",
   "execution_count": null,
   "id": "d90c3fd9-bfbc-41f3-b480-65e1f1106dad",
   "metadata": {},
   "outputs": [],
   "source": []
  },
  {
   "cell_type": "markdown",
   "id": "1d9e2f1d-d0c1-4aeb-ab2f-4903598ca6a7",
   "metadata": {},
   "source": [
    "# Среднее"
   ]
  },
  {
   "cell_type": "code",
   "execution_count": 8,
   "id": "8d95cce8-d354-464b-9e3d-eb7894e7730f",
   "metadata": {},
   "outputs": [],
   "source": [
    "test      = pd.read_csv(os.path.join(DIR_DATA, 'test_upd.csv'),  usecols = ['document_id', 'distrib_brdr', 'spec',])\n",
    "cb_test   = pd.read_csv(os.path.join(DIR_SUBM, f'{NAME_CB}.csv'))\n",
    "xgb_test  = pd.read_csv(os.path.join(DIR_SUBM, f'{NAME_XGB}.csv'))\n",
    "lgb_test  = pd.read_csv(os.path.join(DIR_SUBM, f'{NAME_LGB}.csv'))"
   ]
  },
  {
   "cell_type": "code",
   "execution_count": 9,
   "id": "4d940f6f-bca0-4cd4-89f7-04656d81ffbd",
   "metadata": {},
   "outputs": [
    {
     "name": "stdout",
     "output_type": "stream",
     "text": [
      "before  (3000, 3) (3000, 4) (3000, 4) (3000, 4)\n",
      "after  (3000, 12)\n"
     ]
    }
   ],
   "source": [
    "print('before ', test.shape, cb_test.shape, lgb_test.shape, xgb_test.shape)\n",
    "test = pd.concat([test.reset_index(drop = True),\n",
    "                   cb_test.reset_index(drop = True),\n",
    "                   xgb_test.reset_index(drop = True),\n",
    "                   lgb_test.reset_index(drop = True),\n",
    "                  ], ignore_index = True, axis = 1)\n",
    "test_cols = ['document_id', 'distrib_brdr', 'spec',\n",
    "         'document_id_cb', 'views_pred_cb', 'depth_pred_cb', 'frp_pred_cb',\n",
    "         'document_id_xgb', 'views_pred_xgb', 'depth_pred_xgb', 'frp_pred_xgb',\n",
    "         'document_id_lgb', 'views_pred_lgb', 'depth_pred_lgb', 'frp_pred_lgb',\n",
    "        ]\n",
    "test.columns  = test_cols\n",
    "\n",
    "\n",
    "if sum(test.document_id == test.document_id_xgb) != test.shape[0] or \\\n",
    "   sum(test.document_id == test.document_id_lgb) != test.shape[0]:\n",
    "    print('wtf test')    \n",
    "    \n",
    "test.drop(['document_id_cb', 'document_id_xgb', 'document_id_lgb'], axis = 1, inplace = True)\n",
    "print('after ', test.shape)"
   ]
  },
  {
   "cell_type": "code",
   "execution_count": 10,
   "id": "bde32777-7d1c-4244-a5e5-60598a0bda33",
   "metadata": {},
   "outputs": [
    {
     "data": {
      "text/plain": [
       "Index(['document_id', 'distrib_brdr', 'spec', 'views_pred_cb', 'depth_pred_cb',\n",
       "       'frp_pred_cb', 'views_pred_xgb', 'depth_pred_xgb', 'frp_pred_xgb',\n",
       "       'views_pred_lgb', 'depth_pred_lgb', 'frp_pred_lgb'],\n",
       "      dtype='object')"
      ]
     },
     "execution_count": 10,
     "metadata": {},
     "output_type": "execute_result"
    }
   ],
   "source": [
    "test.columns"
   ]
  },
  {
   "cell_type": "code",
   "execution_count": 1,
   "id": "14ef9a00-3d6a-411c-8083-bff3614d3695",
   "metadata": {},
   "outputs": [
    {
     "ename": "NameError",
     "evalue": "name 'pd' is not defined",
     "output_type": "error",
     "traceback": [
      "\u001b[1;31m---------------------------------------------------------------------------\u001b[0m",
      "\u001b[1;31mNameError\u001b[0m                                 Traceback (most recent call last)",
      "Input \u001b[1;32mIn [1]\u001b[0m, in \u001b[0;36m<cell line: 1>\u001b[1;34m()\u001b[0m\n\u001b[1;32m----> 1\u001b[0m \u001b[38;5;28;01mdef\u001b[39;00m \u001b[38;5;21mget_views_mean\u001b[39m(inp_row: \u001b[43mpd\u001b[49m\u001b[38;5;241m.\u001b[39mDataFrame) \u001b[38;5;241m-\u001b[39m\u001b[38;5;241m>\u001b[39m \u001b[38;5;28mfloat\u001b[39m:\n\u001b[0;32m      2\u001b[0m     \u001b[38;5;124;03m\"\"\"\u001b[39;00m\n\u001b[0;32m      3\u001b[0m \u001b[38;5;124;03m    Подисчет среднего views по строке датафрейма (по тсабмитам от трех моделей)\u001b[39;00m\n\u001b[0;32m      4\u001b[0m \u001b[38;5;124;03m    args:\u001b[39;00m\n\u001b[0;32m      5\u001b[0m \u001b[38;5;124;03m        inp_row - строка датафрейма по которой считается среднее\u001b[39;00m\n\u001b[0;32m      6\u001b[0m \u001b[38;5;124;03m    \"\"\"\u001b[39;00m\n\u001b[0;32m      7\u001b[0m     \u001b[38;5;66;03m#print(inp_row[3], inp_row[6], inp_row[9]) \u001b[39;00m\n",
      "\u001b[1;31mNameError\u001b[0m: name 'pd' is not defined"
     ]
    }
   ],
   "source": [
    "def get_views_mean(inp_row: pd.DataFrame) -> float:\n",
    "    \"\"\"\n",
    "    Подсчет среднего views по строке датафрейма (по сабмитам от трех моделей)\n",
    "    args:\n",
    "        inp_row - строка датафрейма по которой считается среднее\n",
    "    \"\"\"\n",
    "    \n",
    "    #print(inp_row[3], inp_row[6], inp_row[9]) \n",
    "    val = np.mean([inp_row[3], inp_row[6], inp_row[9]])\n",
    "    \n",
    "    return val\n",
    "\n",
    "\n",
    "def get_depth_mean(inp_row: pd.DataFrame) -> float:\n",
    "    \"\"\"\n",
    "    Подсчет среднего depth по строке датафрейма (по сабмитам от трех моделей)\n",
    "    args:\n",
    "        inp_row - строка датафрейма по которой считается среднее\n",
    "    \"\"\"\n",
    "    #print(inp_row[4], inp_row[7], inp_row[10])\n",
    "    val = np.mean([inp_row[4], inp_row[7], inp_row[10]])\n",
    "    \n",
    "    return val\n",
    "\n",
    "\n",
    "\n",
    "def get_frp_mean(inp_row: pd.DataFrame) -> float:\n",
    "    \"\"\"\n",
    "    Подсчет среднего frp по строке датафрейма (по сабмитам от трех моделей)\n",
    "    args:\n",
    "        inp_row - строка датафрейма по которой считается среднее\n",
    "    \"\"\"\n",
    "    #print(inp_row[5], inp_row[8], inp_row[11])\n",
    "    val = np.mean([inp_row[5], inp_row[8], inp_row[11]])\n",
    "    \n",
    "    return val"
   ]
  },
  {
   "cell_type": "code",
   "execution_count": 12,
   "id": "c2ec5943-104b-4858-8657-ee02a455a65f",
   "metadata": {},
   "outputs": [],
   "source": [
    "subm_mn = pd.DataFrame()\n",
    "subm_mn[['document_id']] = test[['document_id']]\n",
    "#subm = subm.reindex(['document_id', 'distrib_brdr', 'views', 'depth', 'full_reads_percent'], axis = 1)"
   ]
  },
  {
   "cell_type": "code",
   "execution_count": 13,
   "id": "5329945b-5bed-4ba7-841b-c92be6860484",
   "metadata": {},
   "outputs": [],
   "source": [
    "subm_mn['views'] = test.apply(get_views_mean, axis = 1)\n",
    "subm_mn['depth'] = test.apply(get_depth_mean, axis = 1)\n",
    "subm_mn['full_reads_percent'] = test.apply(get_frp_mean, axis = 1)"
   ]
  },
  {
   "cell_type": "code",
   "execution_count": 14,
   "id": "6384cce7-6459-4692-8c81-17156dda2789",
   "metadata": {},
   "outputs": [],
   "source": [
    "#test.iloc[:5, :].apply(get_views_mean, axis = 1)\n",
    "#test.iloc[:5, :].apply(get_depth_mean, axis = 1)\n",
    "#test.iloc[:5, :].apply(get_frp_mean, axis = 1)"
   ]
  },
  {
   "cell_type": "code",
   "execution_count": 15,
   "id": "cd641feb-26bc-4a60-b18a-bc8ff0b517e4",
   "metadata": {},
   "outputs": [
    {
     "data": {
      "text/html": [
       "<div>\n",
       "<style scoped>\n",
       "    .dataframe tbody tr th:only-of-type {\n",
       "        vertical-align: middle;\n",
       "    }\n",
       "\n",
       "    .dataframe tbody tr th {\n",
       "        vertical-align: top;\n",
       "    }\n",
       "\n",
       "    .dataframe thead th {\n",
       "        text-align: right;\n",
       "    }\n",
       "</style>\n",
       "<table border=\"1\" class=\"dataframe\">\n",
       "  <thead>\n",
       "    <tr style=\"text-align: right;\">\n",
       "      <th></th>\n",
       "      <th>views</th>\n",
       "      <th>depth</th>\n",
       "      <th>full_reads_percent</th>\n",
       "    </tr>\n",
       "  </thead>\n",
       "  <tbody>\n",
       "    <tr>\n",
       "      <th>945</th>\n",
       "      <td>2554204.0</td>\n",
       "      <td>1.799</td>\n",
       "      <td>4.978</td>\n",
       "    </tr>\n",
       "    <tr>\n",
       "      <th>1440</th>\n",
       "      <td>2554204.0</td>\n",
       "      <td>1.799</td>\n",
       "      <td>4.978</td>\n",
       "    </tr>\n",
       "    <tr>\n",
       "      <th>2645</th>\n",
       "      <td>2554204.0</td>\n",
       "      <td>1.799</td>\n",
       "      <td>4.978</td>\n",
       "    </tr>\n",
       "  </tbody>\n",
       "</table>\n",
       "</div>"
      ],
      "text/plain": [
       "          views  depth  full_reads_percent\n",
       "945   2554204.0  1.799               4.978\n",
       "1440  2554204.0  1.799               4.978\n",
       "2645  2554204.0  1.799               4.978"
      ]
     },
     "execution_count": 15,
     "metadata": {},
     "output_type": "execute_result"
    }
   ],
   "source": [
    "doc_id_ukr = test[test.spec == 1].document_id.values\n",
    "subm_mn.query('document_id in @doc_id_ukr')[['views', 'depth', 'full_reads_percent']]"
   ]
  },
  {
   "cell_type": "code",
   "execution_count": 16,
   "id": "fdcd1adb-1b7a-4636-a64d-9bbc23c6a682",
   "metadata": {},
   "outputs": [
    {
     "data": {
      "text/html": [
       "<div>\n",
       "<style scoped>\n",
       "    .dataframe tbody tr th:only-of-type {\n",
       "        vertical-align: middle;\n",
       "    }\n",
       "\n",
       "    .dataframe tbody tr th {\n",
       "        vertical-align: top;\n",
       "    }\n",
       "\n",
       "    .dataframe thead th {\n",
       "        text-align: right;\n",
       "    }\n",
       "</style>\n",
       "<table border=\"1\" class=\"dataframe\">\n",
       "  <thead>\n",
       "    <tr style=\"text-align: right;\">\n",
       "      <th></th>\n",
       "      <th>document_id</th>\n",
       "      <th>views</th>\n",
       "      <th>depth</th>\n",
       "      <th>full_reads_percent</th>\n",
       "    </tr>\n",
       "  </thead>\n",
       "  <tbody>\n",
       "    <tr>\n",
       "      <th>0</th>\n",
       "      <td>61f9569a9a794794245a82abJ0AvX96vTAaQCiWVbzoMdw</td>\n",
       "      <td>13532.855258</td>\n",
       "      <td>1.200854</td>\n",
       "      <td>44.886949</td>\n",
       "    </tr>\n",
       "    <tr>\n",
       "      <th>1</th>\n",
       "      <td>628c22b89a79470e553f594bQS5CqzXYRnmDdR2LaSreEw</td>\n",
       "      <td>6425.980042</td>\n",
       "      <td>1.057802</td>\n",
       "      <td>31.247572</td>\n",
       "    </tr>\n",
       "    <tr>\n",
       "      <th>2</th>\n",
       "      <td>627cb3249a7947ebdd752865XVsoyrUOT8OJJg2_finJhw</td>\n",
       "      <td>10614.593583</td>\n",
       "      <td>1.058591</td>\n",
       "      <td>27.909766</td>\n",
       "    </tr>\n",
       "    <tr>\n",
       "      <th>3</th>\n",
       "      <td>628618629a7947d4927eb812upfii3whSSuMXCqcqF8VbQ</td>\n",
       "      <td>5895.831880</td>\n",
       "      <td>1.062631</td>\n",
       "      <td>37.808161</td>\n",
       "    </tr>\n",
       "    <tr>\n",
       "      <th>4</th>\n",
       "      <td>620e76109a7947235623695b5hzCiIHdSYKQIr8WAM18bw</td>\n",
       "      <td>99394.128480</td>\n",
       "      <td>1.141441</td>\n",
       "      <td>27.886648</td>\n",
       "    </tr>\n",
       "  </tbody>\n",
       "</table>\n",
       "</div>"
      ],
      "text/plain": [
       "                                      document_id         views     depth  \\\n",
       "0  61f9569a9a794794245a82abJ0AvX96vTAaQCiWVbzoMdw  13532.855258  1.200854   \n",
       "1  628c22b89a79470e553f594bQS5CqzXYRnmDdR2LaSreEw   6425.980042  1.057802   \n",
       "2  627cb3249a7947ebdd752865XVsoyrUOT8OJJg2_finJhw  10614.593583  1.058591   \n",
       "3  628618629a7947d4927eb812upfii3whSSuMXCqcqF8VbQ   5895.831880  1.062631   \n",
       "4  620e76109a7947235623695b5hzCiIHdSYKQIr8WAM18bw  99394.128480  1.141441   \n",
       "\n",
       "   full_reads_percent  \n",
       "0           44.886949  \n",
       "1           31.247572  \n",
       "2           27.909766  \n",
       "3           37.808161  \n",
       "4           27.886648  "
      ]
     },
     "execution_count": 16,
     "metadata": {},
     "output_type": "execute_result"
    }
   ],
   "source": [
    "subm_mn.head()"
   ]
  },
  {
   "cell_type": "code",
   "execution_count": 18,
   "id": "72eebacb-0d88-4332-b3ce-f31cbf6a983b",
   "metadata": {},
   "outputs": [],
   "source": [
    "#subm.drop(['distrib_brdr'], inplace = True, axis = 1)\n",
    "subm_mn.to_csv(os.path.join(DIR_SUBM, f'{NAME_MN}.csv'), index = False)"
   ]
  },
  {
   "cell_type": "code",
   "execution_count": null,
   "id": "9e47d6fc-0408-4c47-9c02-0ce5af4a69fd",
   "metadata": {},
   "outputs": [],
   "source": []
  },
  {
   "cell_type": "code",
   "execution_count": null,
   "id": "aa847cf5-855a-4ad2-9810-5626f4bbf805",
   "metadata": {},
   "outputs": [],
   "source": []
  },
  {
   "cell_type": "code",
   "execution_count": null,
   "id": "959416b5-23cc-4f29-b049-56adc351e40a",
   "metadata": {},
   "outputs": [],
   "source": []
  },
  {
   "cell_type": "code",
   "execution_count": null,
   "id": "221ecb27-8221-4ee5-8821-9863019e88af",
   "metadata": {},
   "outputs": [],
   "source": []
  },
  {
   "cell_type": "markdown",
   "id": "0e0114e4-74dc-4bc0-b3bb-6777e96b8e34",
   "metadata": {},
   "source": [
    "# Ансамбли"
   ]
  },
  {
   "cell_type": "code",
   "execution_count": 8,
   "id": "621e5145-8233-4962-8772-99caef893661",
   "metadata": {},
   "outputs": [],
   "source": [
    "def plot_importance(inp_model, imp_number: Optional[int] = 30, imp_type: Optional[str] = 'weight') -> None:\n",
    "    \"\"\"\n",
    "    Функция построения и отображения важности признаков в модели\n",
    "    args:\n",
    "        inp_model - модель из которой берется важности признаков\n",
    "        inp_number - количество признаков для отображения (опционально, 30)\n",
    "        imp_type - тип по которому определяется важность признака (опционально, 'weight')\n",
    "    \"\"\"\n",
    "    feature_important = inp_model.get_booster().get_score(importance_type = imp_type)\n",
    "    keys = list(feature_important.keys())\n",
    "    values = list(feature_important.values())\n",
    "\n",
    "    data = pd.DataFrame(data = values, index = keys, columns = [\"score\"]).sort_values(by = \"score\", ascending = False)\n",
    "    data.nlargest(imp_number, columns = \"score\").plot(kind = 'barh', figsize = (30,16))\n",
    "    "
   ]
  },
  {
   "cell_type": "code",
   "execution_count": 9,
   "id": "035b8032-596c-4ac1-8dd8-9cc6f8f6f105",
   "metadata": {},
   "outputs": [],
   "source": [
    "train = pd.read_csv(os.path.join(DIR_DATA, 'train_upd.csv'), usecols = ['document_id', 'views', 'depth', 'full_reads_percent', 'distrib_brdr', ])\n",
    "test  = pd.read_csv(os.path.join(DIR_DATA, 'test_upd.csv'),  usecols = ['document_id', 'distrib_brdr', 'spec',])\n",
    "\n",
    "cb_train = pd.read_csv(os.path.join(DIR_SUBM_PART, f'{NAME_CB}_train_part.csv'))\n",
    "cb_test  = pd.read_csv(os.path.join(DIR_SUBM, f'{NAME_CB}.csv'))\n",
    "\n",
    "xgb_train = pd.read_csv(os.path.join(DIR_SUBM_PART, f'{NAME_XGB}_train_part.csv'))\n",
    "xgb_test  = pd.read_csv(os.path.join(DIR_SUBM, f'{NAME_XGB}.csv'))\n",
    "\n",
    "lgb_train = pd.read_csv(os.path.join(DIR_SUBM_PART, f'{NAME_LGB}_train_part.csv'))\n",
    "lgb_test  = pd.read_csv(os.path.join(DIR_SUBM, f'{NAME_LGB}.csv'))"
   ]
  },
  {
   "cell_type": "code",
   "execution_count": 10,
   "id": "8b618378-44a4-45c1-b1cc-1948b778cda7",
   "metadata": {},
   "outputs": [
    {
     "data": {
      "text/html": [
       "<div>\n",
       "<style scoped>\n",
       "    .dataframe tbody tr th:only-of-type {\n",
       "        vertical-align: middle;\n",
       "    }\n",
       "\n",
       "    .dataframe tbody tr th {\n",
       "        vertical-align: top;\n",
       "    }\n",
       "\n",
       "    .dataframe thead th {\n",
       "        text-align: right;\n",
       "    }\n",
       "</style>\n",
       "<table border=\"1\" class=\"dataframe\">\n",
       "  <thead>\n",
       "    <tr style=\"text-align: right;\">\n",
       "      <th></th>\n",
       "      <th>document_id</th>\n",
       "      <th>distrib_brdr</th>\n",
       "      <th>spec</th>\n",
       "    </tr>\n",
       "  </thead>\n",
       "  <tbody>\n",
       "    <tr>\n",
       "      <th>0</th>\n",
       "      <td>61f9569a9a794794245a82abJ0AvX96vTAaQCiWVbzoMdw</td>\n",
       "      <td>1</td>\n",
       "      <td>0</td>\n",
       "    </tr>\n",
       "    <tr>\n",
       "      <th>1</th>\n",
       "      <td>628c22b89a79470e553f594bQS5CqzXYRnmDdR2LaSreEw</td>\n",
       "      <td>0</td>\n",
       "      <td>0</td>\n",
       "    </tr>\n",
       "    <tr>\n",
       "      <th>2</th>\n",
       "      <td>627cb3249a7947ebdd752865XVsoyrUOT8OJJg2_finJhw</td>\n",
       "      <td>0</td>\n",
       "      <td>0</td>\n",
       "    </tr>\n",
       "    <tr>\n",
       "      <th>3</th>\n",
       "      <td>628618629a7947d4927eb812upfii3whSSuMXCqcqF8VbQ</td>\n",
       "      <td>0</td>\n",
       "      <td>0</td>\n",
       "    </tr>\n",
       "    <tr>\n",
       "      <th>4</th>\n",
       "      <td>620e76109a7947235623695b5hzCiIHdSYKQIr8WAM18bw</td>\n",
       "      <td>1</td>\n",
       "      <td>0</td>\n",
       "    </tr>\n",
       "  </tbody>\n",
       "</table>\n",
       "</div>"
      ],
      "text/plain": [
       "                                      document_id  distrib_brdr  spec\n",
       "0  61f9569a9a794794245a82abJ0AvX96vTAaQCiWVbzoMdw             1     0\n",
       "1  628c22b89a79470e553f594bQS5CqzXYRnmDdR2LaSreEw             0     0\n",
       "2  627cb3249a7947ebdd752865XVsoyrUOT8OJJg2_finJhw             0     0\n",
       "3  628618629a7947d4927eb812upfii3whSSuMXCqcqF8VbQ             0     0\n",
       "4  620e76109a7947235623695b5hzCiIHdSYKQIr8WAM18bw             1     0"
      ]
     },
     "execution_count": 10,
     "metadata": {},
     "output_type": "execute_result"
    }
   ],
   "source": [
    "test.head()"
   ]
  },
  {
   "cell_type": "code",
   "execution_count": 11,
   "id": "87605a25-ec46-49a0-995e-21cdf7e6c34f",
   "metadata": {},
   "outputs": [],
   "source": [
    "#train.head(3)\n",
    "#test.head(3)"
   ]
  },
  {
   "cell_type": "code",
   "execution_count": 12,
   "id": "518b2b3e-da91-4daa-add7-fdcf2734ad4c",
   "metadata": {},
   "outputs": [
    {
     "name": "stdout",
     "output_type": "stream",
     "text": [
      "before  (6981, 5) (6981, 4) (6981, 4) (6981, 4)\n",
      "before  (3000, 3) (3000, 4) (3000, 4) (3000, 4)\n",
      "after  (6981, 14)\n",
      "after  (3000, 12)\n"
     ]
    }
   ],
   "source": [
    "print('before ', train.shape, cb_train.shape, lgb_train.shape, xgb_train.shape)\n",
    "print('before ', test.shape, cb_test.shape, lgb_test.shape, xgb_test.shape)\n",
    "train = pd.concat([train.reset_index(drop = True),\n",
    "                   cb_train.reset_index(drop = True),\n",
    "                   xgb_train.reset_index(drop = True),\n",
    "                   lgb_train.reset_index(drop = True),\n",
    "                  ], ignore_index = True, axis = 1)\n",
    "\n",
    "test = pd.concat([test.reset_index(drop = True),\n",
    "                   cb_test.reset_index(drop = True),\n",
    "                   xgb_test.reset_index(drop = True),\n",
    "                   lgb_test.reset_index(drop = True),\n",
    "                  ], ignore_index = True, axis = 1)\n",
    "\n",
    "train_cols = ['document_id', 'views', 'depth', 'full_reads_percent', 'distrib_brdr',\n",
    "         'document_id_cb', 'views_pred_cb', 'depth_pred_cb', 'frp_pred_cb',\n",
    "         'document_id_xgb', 'views_pred_xgb', 'depth_pred_xgb', 'frp_pred_xgb',\n",
    "         'document_id_lgb', 'views_pred_lgb', 'depth_pred_lgb', 'frp_pred_lgb',\n",
    "        ]\n",
    "test_cols = ['document_id', 'distrib_brdr', 'spec',\n",
    "         'document_id_cb', 'views_pred_cb', 'depth_pred_cb', 'frp_pred_cb',\n",
    "         'document_id_xgb', 'views_pred_xgb', 'depth_pred_xgb', 'frp_pred_xgb',\n",
    "         'document_id_lgb', 'views_pred_lgb', 'depth_pred_lgb', 'frp_pred_lgb',\n",
    "        ]\n",
    "train.columns = train_cols\n",
    "test.columns  = test_cols\n",
    "\n",
    "\n",
    "if sum(train.document_id == train.document_id_xgb) != train.shape[0] or \\\n",
    "   sum(train.document_id == train.document_id_lgb) != train.shape[0]:\n",
    "    print('wtf train')\n",
    "    \n",
    "if sum(test.document_id == test.document_id_xgb) != test.shape[0] or \\\n",
    "   sum(test.document_id == test.document_id_lgb) != test.shape[0]:\n",
    "    print('wtf test')    \n",
    "    \n",
    "train.drop(['document_id_cb', 'document_id_xgb', 'document_id_lgb'], axis = 1, inplace = True)\n",
    "test.drop(['document_id_cb', 'document_id_xgb', 'document_id_lgb'], axis = 1, inplace = True)\n",
    "   \n",
    "print('after ', train.shape)\n",
    "print('after ', test.shape)"
   ]
  },
  {
   "cell_type": "code",
   "execution_count": 13,
   "id": "183ef833-5f23-4eb3-9a58-4e245e49aa50",
   "metadata": {},
   "outputs": [
    {
     "data": {
      "text/plain": [
       "Index(['document_id', 'distrib_brdr', 'spec', 'views_pred_cb', 'depth_pred_cb',\n",
       "       'frp_pred_cb', 'views_pred_xgb', 'depth_pred_xgb', 'frp_pred_xgb',\n",
       "       'views_pred_lgb', 'depth_pred_lgb', 'frp_pred_lgb'],\n",
       "      dtype='object')"
      ]
     },
     "execution_count": 13,
     "metadata": {},
     "output_type": "execute_result"
    }
   ],
   "source": [
    "#train.columns[5:]\n",
    "test.columns"
   ]
  },
  {
   "cell_type": "code",
   "execution_count": 14,
   "id": "bfd03d4a-db67-4569-b428-84206e290f60",
   "metadata": {},
   "outputs": [
    {
     "data": {
      "text/html": [
       "<div>\n",
       "<style scoped>\n",
       "    .dataframe tbody tr th:only-of-type {\n",
       "        vertical-align: middle;\n",
       "    }\n",
       "\n",
       "    .dataframe tbody tr th {\n",
       "        vertical-align: top;\n",
       "    }\n",
       "\n",
       "    .dataframe thead th {\n",
       "        text-align: right;\n",
       "    }\n",
       "</style>\n",
       "<table border=\"1\" class=\"dataframe\">\n",
       "  <thead>\n",
       "    <tr style=\"text-align: right;\">\n",
       "      <th></th>\n",
       "      <th>document_id</th>\n",
       "      <th>distrib_brdr</th>\n",
       "      <th>spec</th>\n",
       "      <th>views_pred_cb</th>\n",
       "      <th>depth_pred_cb</th>\n",
       "      <th>frp_pred_cb</th>\n",
       "      <th>views_pred_xgb</th>\n",
       "      <th>depth_pred_xgb</th>\n",
       "      <th>frp_pred_xgb</th>\n",
       "      <th>views_pred_lgb</th>\n",
       "      <th>depth_pred_lgb</th>\n",
       "      <th>frp_pred_lgb</th>\n",
       "    </tr>\n",
       "  </thead>\n",
       "  <tbody>\n",
       "    <tr>\n",
       "      <th>0</th>\n",
       "      <td>61f9569a9a794794245a82abJ0AvX96vTAaQCiWVbzoMdw</td>\n",
       "      <td>1</td>\n",
       "      <td>0</td>\n",
       "      <td>14373.004863</td>\n",
       "      <td>1.204846</td>\n",
       "      <td>43.721250</td>\n",
       "      <td>15157.972656</td>\n",
       "      <td>1.190166</td>\n",
       "      <td>47.311020</td>\n",
       "      <td>11067.588253</td>\n",
       "      <td>1.207550</td>\n",
       "      <td>43.628577</td>\n",
       "    </tr>\n",
       "    <tr>\n",
       "      <th>1</th>\n",
       "      <td>628c22b89a79470e553f594bQS5CqzXYRnmDdR2LaSreEw</td>\n",
       "      <td>0</td>\n",
       "      <td>0</td>\n",
       "      <td>5978.932869</td>\n",
       "      <td>1.058283</td>\n",
       "      <td>33.748877</td>\n",
       "      <td>6112.205078</td>\n",
       "      <td>1.055791</td>\n",
       "      <td>29.454018</td>\n",
       "      <td>7186.802178</td>\n",
       "      <td>1.059333</td>\n",
       "      <td>30.539822</td>\n",
       "    </tr>\n",
       "    <tr>\n",
       "      <th>2</th>\n",
       "      <td>627cb3249a7947ebdd752865XVsoyrUOT8OJJg2_finJhw</td>\n",
       "      <td>0</td>\n",
       "      <td>0</td>\n",
       "      <td>8824.021815</td>\n",
       "      <td>1.057760</td>\n",
       "      <td>27.853561</td>\n",
       "      <td>11578.751953</td>\n",
       "      <td>1.060226</td>\n",
       "      <td>26.978979</td>\n",
       "      <td>11441.006980</td>\n",
       "      <td>1.057789</td>\n",
       "      <td>28.896757</td>\n",
       "    </tr>\n",
       "    <tr>\n",
       "      <th>3</th>\n",
       "      <td>628618629a7947d4927eb812upfii3whSSuMXCqcqF8VbQ</td>\n",
       "      <td>0</td>\n",
       "      <td>0</td>\n",
       "      <td>7391.985447</td>\n",
       "      <td>1.063639</td>\n",
       "      <td>35.863349</td>\n",
       "      <td>5158.374512</td>\n",
       "      <td>1.063956</td>\n",
       "      <td>38.677151</td>\n",
       "      <td>5137.135680</td>\n",
       "      <td>1.060298</td>\n",
       "      <td>38.883983</td>\n",
       "    </tr>\n",
       "    <tr>\n",
       "      <th>4</th>\n",
       "      <td>620e76109a7947235623695b5hzCiIHdSYKQIr8WAM18bw</td>\n",
       "      <td>1</td>\n",
       "      <td>0</td>\n",
       "      <td>117443.086763</td>\n",
       "      <td>1.143752</td>\n",
       "      <td>27.600877</td>\n",
       "      <td>99294.867188</td>\n",
       "      <td>1.134205</td>\n",
       "      <td>26.597013</td>\n",
       "      <td>81444.431489</td>\n",
       "      <td>1.146364</td>\n",
       "      <td>29.462053</td>\n",
       "    </tr>\n",
       "  </tbody>\n",
       "</table>\n",
       "</div>"
      ],
      "text/plain": [
       "                                      document_id  distrib_brdr  spec  \\\n",
       "0  61f9569a9a794794245a82abJ0AvX96vTAaQCiWVbzoMdw             1     0   \n",
       "1  628c22b89a79470e553f594bQS5CqzXYRnmDdR2LaSreEw             0     0   \n",
       "2  627cb3249a7947ebdd752865XVsoyrUOT8OJJg2_finJhw             0     0   \n",
       "3  628618629a7947d4927eb812upfii3whSSuMXCqcqF8VbQ             0     0   \n",
       "4  620e76109a7947235623695b5hzCiIHdSYKQIr8WAM18bw             1     0   \n",
       "\n",
       "   views_pred_cb  depth_pred_cb  frp_pred_cb  views_pred_xgb  depth_pred_xgb  \\\n",
       "0   14373.004863       1.204846    43.721250    15157.972656        1.190166   \n",
       "1    5978.932869       1.058283    33.748877     6112.205078        1.055791   \n",
       "2    8824.021815       1.057760    27.853561    11578.751953        1.060226   \n",
       "3    7391.985447       1.063639    35.863349     5158.374512        1.063956   \n",
       "4  117443.086763       1.143752    27.600877    99294.867188        1.134205   \n",
       "\n",
       "   frp_pred_xgb  views_pred_lgb  depth_pred_lgb  frp_pred_lgb  \n",
       "0     47.311020    11067.588253        1.207550     43.628577  \n",
       "1     29.454018     7186.802178        1.059333     30.539822  \n",
       "2     26.978979    11441.006980        1.057789     28.896757  \n",
       "3     38.677151     5137.135680        1.060298     38.883983  \n",
       "4     26.597013    81444.431489        1.146364     29.462053  "
      ]
     },
     "execution_count": 14,
     "metadata": {},
     "output_type": "execute_result"
    }
   ],
   "source": [
    "test.head(5)"
   ]
  },
  {
   "cell_type": "markdown",
   "id": "759e7e85-99e7-4359-ba8a-a91895370cd7",
   "metadata": {},
   "source": [
    "# нормализуем"
   ]
  },
  {
   "cell_type": "code",
   "execution_count": 15,
   "id": "e89f82d4-f69a-48a0-b07f-578a364ea54f",
   "metadata": {},
   "outputs": [
    {
     "name": "stdout",
     "output_type": "stream",
     "text": [
      "Index(['views_pred_cb', 'depth_pred_cb', 'frp_pred_cb', 'views_pred_xgb',\n",
      "       'depth_pred_xgb', 'frp_pred_xgb', 'views_pred_lgb', 'depth_pred_lgb',\n",
      "       'frp_pred_lgb'],\n",
      "      dtype='object')\n"
     ]
    }
   ],
   "source": [
    "train_cols = train.columns[5:]\n",
    "print(train_cols)"
   ]
  },
  {
   "cell_type": "code",
   "execution_count": 16,
   "id": "384a2537-5bd2-4b30-bc91-fb140e6115b9",
   "metadata": {},
   "outputs": [],
   "source": [
    "scaler_start = preprocessing.StandardScaler()  #Standardize features by removing the mean and scaling to unit variance.\n",
    "scaler_end = preprocessing.StandardScaler()  #Standardize features by removing the mean and scaling to unit variance.\n",
    "\n",
    "scaler_start.fit(train[train.distrib_brdr == 1][train_cols])\n",
    "scaler_end.fit(train[train.distrib_brdr == 0][train_cols])\n",
    "\n",
    "train.loc[train.query('distrib_brdr == 1').index, train_cols] = scaler_start.transform(train[train.distrib_brdr == 1][train_cols])\n",
    "test.loc[test.query('distrib_brdr == 1').index, train_cols]  = scaler_start.transform(test[test.distrib_brdr == 1][train_cols])\n",
    "\n",
    "train.loc[train.query('distrib_brdr == 0').index, train_cols] = scaler_end.transform(train[train.distrib_brdr == 0][train_cols])\n",
    "test.loc[test.query('distrib_brdr == 0').index, train_cols]  = scaler_end.transform(test[test.distrib_brdr == 0][train_cols])"
   ]
  },
  {
   "cell_type": "code",
   "execution_count": 17,
   "id": "a59de09f-483a-4d5a-abb4-587373af3e70",
   "metadata": {},
   "outputs": [],
   "source": [
    "#!!!!!!!!! нормализовать предикты\n",
    "#!!!!!!!!! сделать предикты"
   ]
  },
  {
   "cell_type": "code",
   "execution_count": null,
   "id": "96a53193-e05e-4196-9a70-65b1d082d99a",
   "metadata": {},
   "outputs": [],
   "source": []
  },
  {
   "cell_type": "code",
   "execution_count": null,
   "id": "5874fe0c-9b48-4e9d-aac1-58f77aecd311",
   "metadata": {},
   "outputs": [],
   "source": []
  },
  {
   "cell_type": "code",
   "execution_count": 18,
   "id": "5a63c15c-abbf-419f-bcf1-c1b2dc4fb685",
   "metadata": {},
   "outputs": [],
   "source": [
    "def r2(y_pred: np.ndarray, y_true: xgb.DMatrix) -> Tuple[str, float]:\n",
    "    \"\"\"\n",
    "    Функция для расчета дополнительной метрики R2 в cv.\n",
    "    \n",
    "    args:\n",
    "        y_pred - предсказанные значения\n",
    "        y_true - целевые значения\n",
    "    return:\n",
    "        Tuple\n",
    "            str - имя метрики для отображения в cv scores\n",
    "            float - значение метрики\n",
    "    \"\"\"\n",
    "    \n",
    "    return 'r2', r2_score(y_true.get_label(), y_pred)"
   ]
  },
  {
   "cell_type": "markdown",
   "id": "1d70e216-01ae-4ee3-a706-06f3bb9656a0",
   "metadata": {},
   "source": [
    "# views"
   ]
  },
  {
   "cell_type": "code",
   "execution_count": 19,
   "id": "1471e0fc-f587-448d-9053-dc688701a444",
   "metadata": {},
   "outputs": [],
   "source": [
    "cv_ntrees = 100\n",
    "\n",
    "xgb_params_views = {\n",
    "    'booster': 'gbtree',\n",
    "    'objective': 'reg:squarederror',\n",
    "    #'learning_rate': 0.05,\n",
    "    'eta': 0.3,\n",
    "    'max_depth': 4, \n",
    "    #'lambda': 10,\n",
    "    #'num_boost_round': 10000, \n",
    "    #'early_stopping_rounds': 100,\n",
    "}\n",
    "#dtrain = xgb.DMatrix(train[train.columns[4:]], label=train[['views']])\n",
    "#dval   = xgb.DMatrix(val[train.columns[4:]], label=val[['views']])"
   ]
  },
  {
   "cell_type": "code",
   "execution_count": 20,
   "id": "90814b86-13df-44dc-af1f-59fafa14b074",
   "metadata": {},
   "outputs": [],
   "source": [
    "def get_model(inp_df: pd.DataFrame, inp_params: Dict, target: str):\n",
    "    \"\"\"\n",
    "    Обучение модели с выбором оптимального количества итераци по cv на 5 фолдов\n",
    "    по метрике rmse-mean на валидационных фолдах\n",
    "    args:\n",
    "        inp_df - датасет для обучения\n",
    "        inp_params - параметры модели\n",
    "        target - имя колонки целевого значения\n",
    "    return:\n",
    "        обученная модель XGBRegressor\n",
    "    \"\"\"\n",
    "    \n",
    "    dtrain = xgb.DMatrix(inp_df[num_cols], label = inp_df[[target]])\n",
    "    \n",
    "    scores = xgb.cv(inp_params, dtrain, cv_ntrees, nfold=5, #early_stopping_rounds=1000,\n",
    "        metrics={'rmse'},\n",
    "        custom_metric = r2,\n",
    "       #callbacks=[xgb.callback.EvaluationMonitor(show_stdv=True)]\n",
    "      )\n",
    "    \n",
    "    print(scores[scores['test-rmse-mean'] == scores['test-rmse-mean'].min()][:1].to_string())\n",
    "    niters = scores['test-rmse-mean'].argmin()\n",
    "    \n",
    "    model = XGBRegressor(n_estimators=niters, \n",
    "                               #max_depth=7, \n",
    "                               #eta=0.1, \n",
    "                               #subsample=0.7, \n",
    "                               #colsample_bytree=0.8,\n",
    "                               n_jobs = -1,\n",
    "                               random_state = XGB_RANDOMSEED,\n",
    "                              )\n",
    "\n",
    "    model.fit(inp_df[num_cols], inp_df[target], \n",
    "                    verbose=False\n",
    "                   )\n",
    "    \n",
    "    return model"
   ]
  },
  {
   "cell_type": "code",
   "execution_count": null,
   "id": "8c71e7c6-b7fa-4a34-adac-63ec481975d9",
   "metadata": {},
   "outputs": [],
   "source": []
  },
  {
   "cell_type": "code",
   "execution_count": 21,
   "id": "54d32f1f-0847-4601-b284-035ecffe1078",
   "metadata": {},
   "outputs": [
    {
     "name": "stdout",
     "output_type": "stream",
     "text": [
      "    train-rmse-mean  train-rmse-std  test-rmse-mean  test-rmse-std  train-r2-mean  train-r2-std  test-r2-mean  test-r2-std\n",
      "75      2900.732836       48.363055    17370.268733   20762.182095       0.998787      0.000155      0.942307     0.095894\n",
      "Wall time: 2.28 s\n"
     ]
    }
   ],
   "source": [
    "%%time\n",
    "model_views_start = get_model(train[train.distrib_brdr == 1], xgb_params_views, 'views')"
   ]
  },
  {
   "cell_type": "code",
   "execution_count": 22,
   "id": "fcde37b8-8e8f-41ea-bbbd-8687bacbcc81",
   "metadata": {},
   "outputs": [
    {
     "data": {
      "image/png": "[encoded data removed]",
      "text/plain": [
       "<Figure size 2160x1152 with 1 Axes>"
      ]
     },
     "metadata": {
      "needs_background": "light"
     },
     "output_type": "display_data"
    }
   ],
   "source": [
    "plot_importance(model_views_start, 8, 'weight')"
   ]
  },
  {
   "cell_type": "code",
   "execution_count": null,
   "id": "fdd8e70a-4cb4-4d28-a937-6ea65d6ff5c7",
   "metadata": {},
   "outputs": [],
   "source": []
  },
  {
   "cell_type": "code",
   "execution_count": 23,
   "id": "6249b02b-dd93-4544-813f-a8bb9caa48fe",
   "metadata": {},
   "outputs": [
    {
     "name": "stdout",
     "output_type": "stream",
     "text": [
      "    train-rmse-mean  train-rmse-std  test-rmse-mean  test-rmse-std  train-r2-mean  train-r2-std  test-r2-mean  test-r2-std\n",
      "22      2268.699086       29.683326     2986.957637     424.832847       0.976709      0.000448      0.959297     0.006397\n",
      "Wall time: 2.25 s\n"
     ]
    }
   ],
   "source": [
    "%%time\n",
    "model_views_end = get_model(train[train.distrib_brdr == 0], xgb_params_views, 'views')"
   ]
  },
  {
   "cell_type": "code",
   "execution_count": 24,
   "id": "1279c9e3-8e5f-4ae7-8bad-ed96639de35e",
   "metadata": {},
   "outputs": [
    {
     "data": {
      "image/png": "[encoded data removed]",
      "text/plain": [
       "<Figure size 2160x1152 with 1 Axes>"
      ]
     },
     "metadata": {
      "needs_background": "light"
     },
     "output_type": "display_data"
    }
   ],
   "source": [
    "plot_importance(model_views_end, 8, 'weight')"
   ]
  },
  {
   "cell_type": "code",
   "execution_count": null,
   "id": "a8e4dcc1-efcb-4f31-aac5-89c095ee655e",
   "metadata": {},
   "outputs": [],
   "source": []
  },
  {
   "cell_type": "code",
   "execution_count": null,
   "id": "bbf569a4-50c2-4cc9-bf79-cb91b2c9fea8",
   "metadata": {},
   "outputs": [],
   "source": []
  },
  {
   "cell_type": "markdown",
   "id": "1fffaf3e-b7f3-4fee-b0b5-988048177ea9",
   "metadata": {},
   "source": [
    "# depth"
   ]
  },
  {
   "cell_type": "code",
   "execution_count": 25,
   "id": "88acfed0-056c-4409-804d-685f57860290",
   "metadata": {},
   "outputs": [],
   "source": [
    "#cv_ntrees = 100\n",
    "\n",
    "xgb_params_depth = {\n",
    "    'booster': 'gbtree',\n",
    "    'objective': 'reg:squarederror',\n",
    "    #'learning_rate': 0.05,\n",
    "    'eta': 0.3,\n",
    "    'max_depth': 4, \n",
    "    #'num_boost_round': 10000, \n",
    "    #'early_stopping_rounds': 100,\n",
    "}\n",
    "#dtrain = xgb.DMatrix(train[train.columns[4:]], label=train[['depth']])"
   ]
  },
  {
   "cell_type": "code",
   "execution_count": 26,
   "id": "63719785-3821-44c2-8278-e6826a0e6206",
   "metadata": {},
   "outputs": [
    {
     "name": "stdout",
     "output_type": "stream",
     "text": [
      "    train-rmse-mean  train-rmse-std  test-rmse-mean  test-rmse-std  train-r2-mean  train-r2-std  test-r2-mean  test-r2-std\n",
      "51          0.00494        0.000075        0.007554       0.001208       0.991034      0.000703      0.978326     0.003114\n",
      "Wall time: 2.08 s\n"
     ]
    }
   ],
   "source": [
    "%%time\n",
    "model_depth_start = get_model(train[train.distrib_brdr == 1], xgb_params_depth, 'depth')"
   ]
  },
  {
   "cell_type": "code",
   "execution_count": 27,
   "id": "b843f6dd-06b8-477a-add6-69f8f9a4f5f0",
   "metadata": {},
   "outputs": [
    {
     "data": {
      "image/png": "[encoded data removed]",
      "text/plain": [
       "<Figure size 2160x1152 with 1 Axes>"
      ]
     },
     "metadata": {
      "needs_background": "light"
     },
     "output_type": "display_data"
    }
   ],
   "source": [
    "plot_importance(model_depth_start, 8, 'weight')"
   ]
  },
  {
   "cell_type": "code",
   "execution_count": null,
   "id": "b7db78bf-a99e-432e-bafd-f08eb9fbe309",
   "metadata": {},
   "outputs": [],
   "source": []
  },
  {
   "cell_type": "code",
   "execution_count": 28,
   "id": "f14509fc-5435-4226-b067-70a3920d7829",
   "metadata": {},
   "outputs": [
    {
     "name": "stdout",
     "output_type": "stream",
     "text": [
      "    train-rmse-mean  train-rmse-std  test-rmse-mean  test-rmse-std  train-r2-mean  train-r2-std  test-r2-mean  test-r2-std\n",
      "66         0.002137        0.000017        0.004746       0.002571       0.990189       0.00052      0.947938     0.044401\n",
      "Wall time: 2.37 s\n"
     ]
    }
   ],
   "source": [
    "%%time\n",
    "model_depth_end = get_model(train[train.distrib_brdr == 0], xgb_params_depth, 'depth')"
   ]
  },
  {
   "cell_type": "code",
   "execution_count": 29,
   "id": "351d57cc-3d3f-4640-8ef6-e40de6e1fa70",
   "metadata": {},
   "outputs": [
    {
     "data": {
      "image/png": "[encoded data removed]",
      "text/plain": [
       "<Figure size 2160x1152 with 1 Axes>"
      ]
     },
     "metadata": {
      "needs_background": "light"
     },
     "output_type": "display_data"
    }
   ],
   "source": [
    "plot_importance(model_depth_end, 8, 'weight')"
   ]
  },
  {
   "cell_type": "code",
   "execution_count": null,
   "id": "81149892-d46b-4a84-9518-86cafa340504",
   "metadata": {},
   "outputs": [],
   "source": []
  },
  {
   "cell_type": "markdown",
   "id": "9a08a201-3a65-4f26-9273-064b30d652fc",
   "metadata": {},
   "source": [
    "# full_reads_percent"
   ]
  },
  {
   "cell_type": "code",
   "execution_count": 30,
   "id": "143ba79a-42b4-493b-83b7-23113155682c",
   "metadata": {},
   "outputs": [],
   "source": [
    "#cv_ntrees = 100\n",
    "\n",
    "xgb_params_frp = {\n",
    "    'booster': 'gbtree',\n",
    "    'objective': 'reg:squarederror',\n",
    "    #'learning_rate': 0.05,\n",
    "    'eta': 0.3,\n",
    "    'max_depth': 4, \n",
    "    #'num_boost_round': 10000, \n",
    "    #'early_stopping_rounds': 100,\n",
    "}\n",
    "#dtrain = xgb.DMatrix(train[train.columns[4:]], label=train[['full_reads_percent']])"
   ]
  },
  {
   "cell_type": "code",
   "execution_count": 31,
   "id": "a15e42c3-085d-49a4-b715-aa128655b26a",
   "metadata": {},
   "outputs": [
    {
     "name": "stdout",
     "output_type": "stream",
     "text": [
      "    train-rmse-mean  train-rmse-std  test-rmse-mean  test-rmse-std  train-r2-mean  train-r2-std  test-r2-mean  test-r2-std\n",
      "39         1.154751        0.007179        1.556266       0.030244       0.987982      0.000187      0.978145     0.000949\n",
      "Wall time: 2.07 s\n"
     ]
    }
   ],
   "source": [
    "%%time\n",
    "model_frp_start = get_model(train[train.distrib_brdr == 1], xgb_params_frp, 'full_reads_percent')"
   ]
  },
  {
   "cell_type": "code",
   "execution_count": 32,
   "id": "02bfa084-4513-4474-af29-d2a5a531b302",
   "metadata": {},
   "outputs": [
    {
     "data": {
      "image/png": "[encoded data removed]",
      "text/plain": [
       "<Figure size 2160x1152 with 1 Axes>"
      ]
     },
     "metadata": {
      "needs_background": "light"
     },
     "output_type": "display_data"
    }
   ],
   "source": [
    "plot_importance(model_frp_start, 8, 'weight')"
   ]
  },
  {
   "cell_type": "code",
   "execution_count": null,
   "id": "955ce5f3-edc6-4698-9963-fd1baa63c2e2",
   "metadata": {},
   "outputs": [],
   "source": []
  },
  {
   "cell_type": "code",
   "execution_count": 33,
   "id": "23a1fb9f-3fe9-4d58-8815-9ee4973b7167",
   "metadata": {},
   "outputs": [
    {
     "name": "stdout",
     "output_type": "stream",
     "text": [
      "    train-rmse-mean  train-rmse-std  test-rmse-mean  test-rmse-std  train-r2-mean  train-r2-std  test-r2-mean  test-r2-std\n",
      "32         1.620557        0.012362        2.014469       0.024523       0.971915      0.000664      0.956496     0.002412\n",
      "Wall time: 2.3 s\n"
     ]
    }
   ],
   "source": [
    "%%time\n",
    "model_frp_end = get_model(train[train.distrib_brdr == 0], xgb_params_frp, 'full_reads_percent')"
   ]
  },
  {
   "cell_type": "code",
   "execution_count": 34,
   "id": "d3dfa835-78f4-4276-931e-730f6814b1d0",
   "metadata": {},
   "outputs": [
    {
     "data": {
      "image/png": "[encoded data removed]",
      "text/plain": [
       "<Figure size 2160x1152 with 1 Axes>"
      ]
     },
     "metadata": {
      "needs_background": "light"
     },
     "output_type": "display_data"
    }
   ],
   "source": [
    "plot_importance(model_frp_end, 8, 'weight')"
   ]
  },
  {
   "cell_type": "code",
   "execution_count": null,
   "id": "4ddc19da-3b42-41d2-86bd-72cff13dae53",
   "metadata": {},
   "outputs": [],
   "source": []
  },
  {
   "cell_type": "code",
   "execution_count": null,
   "id": "6d694daa-56db-4858-a8d4-da538d7a4aad",
   "metadata": {},
   "outputs": [],
   "source": []
  },
  {
   "cell_type": "code",
   "execution_count": null,
   "id": "5aedd82e-ea00-48d9-b2fa-5df8b8fe0d49",
   "metadata": {},
   "outputs": [],
   "source": []
  },
  {
   "cell_type": "markdown",
   "id": "90502d47-c618-4d6a-ba56-ab870e83addf",
   "metadata": {},
   "source": [
    "# Сохраняем финальные модели"
   ]
  },
  {
   "cell_type": "code",
   "execution_count": 35,
   "id": "27a06cd2-d352-4e0b-b186-b6b9b20c5754",
   "metadata": {},
   "outputs": [
    {
     "name": "stderr",
     "output_type": "stream",
     "text": [
      "C:\\Users\\_v010ch_\\Anaconda3\\lib\\site-packages\\xgboost\\sklearn.py:722: UserWarning: n_estimators is not saved in Scikit-Learn meta.\n",
      "  warnings.warn(str(k) + ' is not saved in Scikit-Learn meta.', UserWarning)\n"
     ]
    }
   ],
   "source": [
    "model_views_start.save_model(os.path.join(DIR_MODELS, f'{NAME_ENS}_v_start.json'), \n",
    "                          )\n",
    "model_views_end.save_model(os.path.join(DIR_MODELS, f'{NAME_ENS}_v_end.json'), \n",
    "                          )\n",
    "\n",
    "model_depth_start.save_model(os.path.join(DIR_MODELS, f'{NAME_ENS}_d_start.json'), \n",
    "                          )\n",
    "model_depth_end.save_model(os.path.join(DIR_MODELS, f'{NAME_ENS}_d_end.json'), \n",
    "                          )\n",
    "\n",
    "model_frp_start.save_model(os.path.join(DIR_MODELS, f'{NAME_ENS}_f_start.json'), \n",
    "                        )\n",
    "model_frp_end.save_model(os.path.join(DIR_MODELS, f'{NAME_ENS}_f_end.json'), \n",
    "                        )"
   ]
  },
  {
   "cell_type": "code",
   "execution_count": null,
   "id": "a1e02aae-cb77-4fba-a8ca-f2675a97ab47",
   "metadata": {},
   "outputs": [],
   "source": []
  },
  {
   "cell_type": "code",
   "execution_count": null,
   "id": "24bcf77f-76c5-4e03-aa2b-ac5ef0989d56",
   "metadata": {},
   "outputs": [],
   "source": []
  },
  {
   "cell_type": "markdown",
   "id": "32961c17-cf8b-430d-90e5-39896e19ba84",
   "metadata": {},
   "source": [
    "# Делаем предсказание"
   ]
  },
  {
   "cell_type": "code",
   "execution_count": null,
   "id": "c9544126-7391-4dca-b2ea-e7c8fe0cd60d",
   "metadata": {},
   "outputs": [],
   "source": []
  },
  {
   "cell_type": "code",
   "execution_count": 36,
   "id": "bc24c7b0-231a-41a8-9d07-b463a98e4911",
   "metadata": {},
   "outputs": [],
   "source": [
    "subm = pd.DataFrame()\n",
    "subm[['document_id', 'distrib_brdr']] = test[['document_id', 'distrib_brdr']]\n",
    "subm = subm.reindex(['document_id', 'distrib_brdr', 'views', 'depth', 'full_reads_percent'], axis = 1)"
   ]
  },
  {
   "cell_type": "code",
   "execution_count": 37,
   "id": "746ca656-4a51-41cd-929f-80aa396081a2",
   "metadata": {},
   "outputs": [
    {
     "name": "stdout",
     "output_type": "stream",
     "text": [
      "0  Nan in views\n"
     ]
    }
   ],
   "source": [
    "subm.loc[subm.query('distrib_brdr == 1').index, 'views'] = model_views_start.predict(test[test.distrib_brdr == 1][train_cols])\n",
    "subm.loc[subm.query('distrib_brdr == 0').index, 'views'] = model_views_end.predict(test[test.distrib_brdr == 0][train_cols])\n",
    "print(sum(subm.views.isna()), ' Nan in views')"
   ]
  },
  {
   "cell_type": "code",
   "execution_count": 38,
   "id": "18e36004-486a-4e8f-807f-39e2164df9c4",
   "metadata": {},
   "outputs": [
    {
     "name": "stdout",
     "output_type": "stream",
     "text": [
      "0  Nan in depth\n"
     ]
    }
   ],
   "source": [
    "subm.loc[subm.query('distrib_brdr == 1').index, 'depth'] = model_depth_start.predict(test[test.distrib_brdr == 1][train_cols])\n",
    "subm.loc[subm.query('distrib_brdr == 0').index, 'depth'] = model_depth_end.predict(test[test.distrib_brdr == 0][train_cols])\n",
    "print(sum(subm.depth.isna()), ' Nan in depth')"
   ]
  },
  {
   "cell_type": "code",
   "execution_count": 39,
   "id": "09cad5df-4a83-44dc-b40c-c0386a44b6cf",
   "metadata": {},
   "outputs": [
    {
     "name": "stdout",
     "output_type": "stream",
     "text": [
      "0  Nan in full_reads_percent\n"
     ]
    }
   ],
   "source": [
    "subm.loc[subm.query('distrib_brdr == 1').index, 'full_reads_percent'] = model_frp_start.predict(test[test.distrib_brdr == 1][train_cols])\n",
    "subm.loc[subm.query('distrib_brdr == 0').index, 'full_reads_percent'] = model_frp_end.predict(test[test.distrib_brdr == 0][train_cols])\n",
    "print(sum(subm.full_reads_percent.isna()), ' Nan in full_reads_percent')"
   ]
  },
  {
   "cell_type": "code",
   "execution_count": null,
   "id": "38e3d55e-a857-4cb8-a252-ea0be224e8e7",
   "metadata": {},
   "outputs": [],
   "source": []
  },
  {
   "cell_type": "code",
   "execution_count": 40,
   "id": "b2ce9bd9-5f32-4a65-bbc4-f814cba85682",
   "metadata": {},
   "outputs": [
    {
     "data": {
      "text/html": [
       "<div>\n",
       "<style scoped>\n",
       "    .dataframe tbody tr th:only-of-type {\n",
       "        vertical-align: middle;\n",
       "    }\n",
       "\n",
       "    .dataframe tbody tr th {\n",
       "        vertical-align: top;\n",
       "    }\n",
       "\n",
       "    .dataframe thead th {\n",
       "        text-align: right;\n",
       "    }\n",
       "</style>\n",
       "<table border=\"1\" class=\"dataframe\">\n",
       "  <thead>\n",
       "    <tr style=\"text-align: right;\">\n",
       "      <th></th>\n",
       "      <th>views</th>\n",
       "      <th>depth</th>\n",
       "      <th>full_reads_percent</th>\n",
       "    </tr>\n",
       "  </thead>\n",
       "  <tbody>\n",
       "    <tr>\n",
       "      <th>945</th>\n",
       "      <td>2392522.75</td>\n",
       "      <td>1.64968</td>\n",
       "      <td>9.86407</td>\n",
       "    </tr>\n",
       "    <tr>\n",
       "      <th>1440</th>\n",
       "      <td>2392522.75</td>\n",
       "      <td>1.64968</td>\n",
       "      <td>9.86407</td>\n",
       "    </tr>\n",
       "    <tr>\n",
       "      <th>2645</th>\n",
       "      <td>2392522.75</td>\n",
       "      <td>1.64968</td>\n",
       "      <td>9.86407</td>\n",
       "    </tr>\n",
       "  </tbody>\n",
       "</table>\n",
       "</div>"
      ],
      "text/plain": [
       "           views    depth  full_reads_percent\n",
       "945   2392522.75  1.64968             9.86407\n",
       "1440  2392522.75  1.64968             9.86407\n",
       "2645  2392522.75  1.64968             9.86407"
      ]
     },
     "execution_count": 40,
     "metadata": {},
     "output_type": "execute_result"
    }
   ],
   "source": [
    "doc_id_ukr = test[test.spec == 1].document_id.values\n",
    "subm.query('document_id in @doc_id_ukr')[['views', 'depth', 'full_reads_percent']]"
   ]
  },
  {
   "cell_type": "code",
   "execution_count": 41,
   "id": "4e8a939f-657d-498f-87f2-328332c186cd",
   "metadata": {},
   "outputs": [
    {
     "data": {
      "text/html": [
       "<div>\n",
       "<style scoped>\n",
       "    .dataframe tbody tr th:only-of-type {\n",
       "        vertical-align: middle;\n",
       "    }\n",
       "\n",
       "    .dataframe tbody tr th {\n",
       "        vertical-align: top;\n",
       "    }\n",
       "\n",
       "    .dataframe thead th {\n",
       "        text-align: right;\n",
       "    }\n",
       "</style>\n",
       "<table border=\"1\" class=\"dataframe\">\n",
       "  <thead>\n",
       "    <tr style=\"text-align: right;\">\n",
       "      <th></th>\n",
       "      <th>views</th>\n",
       "      <th>depth</th>\n",
       "      <th>full_reads_percent</th>\n",
       "    </tr>\n",
       "  </thead>\n",
       "  <tbody>\n",
       "    <tr>\n",
       "      <th>945</th>\n",
       "      <td>2554204.0</td>\n",
       "      <td>1.799</td>\n",
       "      <td>4.978</td>\n",
       "    </tr>\n",
       "    <tr>\n",
       "      <th>1440</th>\n",
       "      <td>2554204.0</td>\n",
       "      <td>1.799</td>\n",
       "      <td>4.978</td>\n",
       "    </tr>\n",
       "    <tr>\n",
       "      <th>2645</th>\n",
       "      <td>2554204.0</td>\n",
       "      <td>1.799</td>\n",
       "      <td>4.978</td>\n",
       "    </tr>\n",
       "  </tbody>\n",
       "</table>\n",
       "</div>"
      ],
      "text/plain": [
       "          views  depth  full_reads_percent\n",
       "945   2554204.0  1.799               4.978\n",
       "1440  2554204.0  1.799               4.978\n",
       "2645  2554204.0  1.799               4.978"
      ]
     },
     "execution_count": 41,
     "metadata": {},
     "output_type": "execute_result"
    }
   ],
   "source": [
    "# присваиваем статичные данные\n",
    "subm.loc[subm.query('document_id in @doc_id_ukr').index, 'views'] = VIEWS_UKR\n",
    "subm.loc[subm.query('document_id in @doc_id_ukr').index, 'depth'] = DEPTH_UKR\n",
    "subm.loc[subm.query('document_id in @doc_id_ukr').index, 'full_reads_percent'] = FPR_UKR\n",
    "\n",
    "subm.query('document_id in @doc_id_ukr')[['views', 'depth', 'full_reads_percent']]"
   ]
  },
  {
   "cell_type": "code",
   "execution_count": 42,
   "id": "95a7b307-ecb5-4b56-912e-a411c2dc6f07",
   "metadata": {},
   "outputs": [
    {
     "data": {
      "text/html": [
       "<div>\n",
       "<style scoped>\n",
       "    .dataframe tbody tr th:only-of-type {\n",
       "        vertical-align: middle;\n",
       "    }\n",
       "\n",
       "    .dataframe tbody tr th {\n",
       "        vertical-align: top;\n",
       "    }\n",
       "\n",
       "    .dataframe thead th {\n",
       "        text-align: right;\n",
       "    }\n",
       "</style>\n",
       "<table border=\"1\" class=\"dataframe\">\n",
       "  <thead>\n",
       "    <tr style=\"text-align: right;\">\n",
       "      <th></th>\n",
       "      <th>document_id</th>\n",
       "      <th>distrib_brdr</th>\n",
       "      <th>views</th>\n",
       "      <th>depth</th>\n",
       "      <th>full_reads_percent</th>\n",
       "    </tr>\n",
       "  </thead>\n",
       "  <tbody>\n",
       "    <tr>\n",
       "      <th>0</th>\n",
       "      <td>61f9569a9a794794245a82abJ0AvX96vTAaQCiWVbzoMdw</td>\n",
       "      <td>1</td>\n",
       "      <td>10657.481445</td>\n",
       "      <td>1.213818</td>\n",
       "      <td>42.762196</td>\n",
       "    </tr>\n",
       "    <tr>\n",
       "      <th>1</th>\n",
       "      <td>628c22b89a79470e553f594bQS5CqzXYRnmDdR2LaSreEw</td>\n",
       "      <td>0</td>\n",
       "      <td>5636.290039</td>\n",
       "      <td>1.059606</td>\n",
       "      <td>36.314007</td>\n",
       "    </tr>\n",
       "    <tr>\n",
       "      <th>2</th>\n",
       "      <td>627cb3249a7947ebdd752865XVsoyrUOT8OJJg2_finJhw</td>\n",
       "      <td>0</td>\n",
       "      <td>7838.027832</td>\n",
       "      <td>1.057433</td>\n",
       "      <td>26.934601</td>\n",
       "    </tr>\n",
       "    <tr>\n",
       "      <th>3</th>\n",
       "      <td>628618629a7947d4927eb812upfii3whSSuMXCqcqF8VbQ</td>\n",
       "      <td>0</td>\n",
       "      <td>7090.810547</td>\n",
       "      <td>1.063450</td>\n",
       "      <td>32.700157</td>\n",
       "    </tr>\n",
       "    <tr>\n",
       "      <th>4</th>\n",
       "      <td>620e76109a7947235623695b5hzCiIHdSYKQIr8WAM18bw</td>\n",
       "      <td>1</td>\n",
       "      <td>103959.609375</td>\n",
       "      <td>1.149572</td>\n",
       "      <td>26.469128</td>\n",
       "    </tr>\n",
       "  </tbody>\n",
       "</table>\n",
       "</div>"
      ],
      "text/plain": [
       "                                      document_id  distrib_brdr  \\\n",
       "0  61f9569a9a794794245a82abJ0AvX96vTAaQCiWVbzoMdw             1   \n",
       "1  628c22b89a79470e553f594bQS5CqzXYRnmDdR2LaSreEw             0   \n",
       "2  627cb3249a7947ebdd752865XVsoyrUOT8OJJg2_finJhw             0   \n",
       "3  628618629a7947d4927eb812upfii3whSSuMXCqcqF8VbQ             0   \n",
       "4  620e76109a7947235623695b5hzCiIHdSYKQIr8WAM18bw             1   \n",
       "\n",
       "           views     depth  full_reads_percent  \n",
       "0   10657.481445  1.213818           42.762196  \n",
       "1    5636.290039  1.059606           36.314007  \n",
       "2    7838.027832  1.057433           26.934601  \n",
       "3    7090.810547  1.063450           32.700157  \n",
       "4  103959.609375  1.149572           26.469128  "
      ]
     },
     "execution_count": 42,
     "metadata": {},
     "output_type": "execute_result"
    }
   ],
   "source": [
    "subm.head()"
   ]
  },
  {
   "cell_type": "code",
   "execution_count": 43,
   "id": "9056a5d1-0cb0-4091-859b-a2dca3bea1d2",
   "metadata": {},
   "outputs": [],
   "source": [
    "subm.drop(['distrib_brdr'], inplace = True, axis = 1)\n",
    "subm.to_csv(os.path.join(DIR_SUBM, f'{NAME_ENS}.csv'), index = False)"
   ]
  },
  {
   "cell_type": "code",
   "execution_count": 45,
   "id": "b98e0b77-c997-4957-bd78-77ac4d7bc3fb",
   "metadata": {},
   "outputs": [
    {
     "data": {
      "text/html": [
       "<div>\n",
       "<style scoped>\n",
       "    .dataframe tbody tr th:only-of-type {\n",
       "        vertical-align: middle;\n",
       "    }\n",
       "\n",
       "    .dataframe tbody tr th {\n",
       "        vertical-align: top;\n",
       "    }\n",
       "\n",
       "    .dataframe thead th {\n",
       "        text-align: right;\n",
       "    }\n",
       "</style>\n",
       "<table border=\"1\" class=\"dataframe\">\n",
       "  <thead>\n",
       "    <tr style=\"text-align: right;\">\n",
       "      <th></th>\n",
       "      <th>document_id</th>\n",
       "      <th>views</th>\n",
       "      <th>depth</th>\n",
       "      <th>full_reads_percent</th>\n",
       "    </tr>\n",
       "  </thead>\n",
       "  <tbody>\n",
       "    <tr>\n",
       "      <th>0</th>\n",
       "      <td>61f9569a9a794794245a82abJ0AvX96vTAaQCiWVbzoMdw</td>\n",
       "      <td>10657.481445</td>\n",
       "      <td>1.213818</td>\n",
       "      <td>42.762196</td>\n",
       "    </tr>\n",
       "    <tr>\n",
       "      <th>1</th>\n",
       "      <td>628c22b89a79470e553f594bQS5CqzXYRnmDdR2LaSreEw</td>\n",
       "      <td>5636.290039</td>\n",
       "      <td>1.059606</td>\n",
       "      <td>36.314007</td>\n",
       "    </tr>\n",
       "    <tr>\n",
       "      <th>2</th>\n",
       "      <td>627cb3249a7947ebdd752865XVsoyrUOT8OJJg2_finJhw</td>\n",
       "      <td>7838.027832</td>\n",
       "      <td>1.057433</td>\n",
       "      <td>26.934601</td>\n",
       "    </tr>\n",
       "    <tr>\n",
       "      <th>3</th>\n",
       "      <td>628618629a7947d4927eb812upfii3whSSuMXCqcqF8VbQ</td>\n",
       "      <td>7090.810547</td>\n",
       "      <td>1.063450</td>\n",
       "      <td>32.700157</td>\n",
       "    </tr>\n",
       "    <tr>\n",
       "      <th>4</th>\n",
       "      <td>620e76109a7947235623695b5hzCiIHdSYKQIr8WAM18bw</td>\n",
       "      <td>103959.609375</td>\n",
       "      <td>1.149572</td>\n",
       "      <td>26.469128</td>\n",
       "    </tr>\n",
       "  </tbody>\n",
       "</table>\n",
       "</div>"
      ],
      "text/plain": [
       "                                      document_id          views     depth  \\\n",
       "0  61f9569a9a794794245a82abJ0AvX96vTAaQCiWVbzoMdw   10657.481445  1.213818   \n",
       "1  628c22b89a79470e553f594bQS5CqzXYRnmDdR2LaSreEw    5636.290039  1.059606   \n",
       "2  627cb3249a7947ebdd752865XVsoyrUOT8OJJg2_finJhw    7838.027832  1.057433   \n",
       "3  628618629a7947d4927eb812upfii3whSSuMXCqcqF8VbQ    7090.810547  1.063450   \n",
       "4  620e76109a7947235623695b5hzCiIHdSYKQIr8WAM18bw  103959.609375  1.149572   \n",
       "\n",
       "   full_reads_percent  \n",
       "0           42.762196  \n",
       "1           36.314007  \n",
       "2           26.934601  \n",
       "3           32.700157  \n",
       "4           26.469128  "
      ]
     },
     "execution_count": 45,
     "metadata": {},
     "output_type": "execute_result"
    }
   ],
   "source": [
    "subm.head()"
   ]
  },
  {
   "cell_type": "code",
   "execution_count": 44,
   "id": "74494e1a-f05d-4d4e-9cb0-1bc8899f992b",
   "metadata": {},
   "outputs": [
    {
     "name": "stdout",
     "output_type": "stream",
     "text": [
      "Notebook Runtime: 0.38 Minutes\n"
     ]
    }
   ],
   "source": [
    "print(\"Notebook Runtime: %0.2f Minutes\"%((time.time() - notebookstart)/60))"
   ]
  },
  {
   "cell_type": "code",
   "execution_count": null,
   "id": "b9f803e3-a783-4f72-b024-d825b48d044b",
   "metadata": {},
   "outputs": [],
   "source": []
  },
  {
   "cell_type": "code",
   "execution_count": null,
   "id": "8ae45c01-2bb9-4d98-9527-15979dd0a0f2",
   "metadata": {},
   "outputs": [],
   "source": []
  },
  {
   "cell_type": "code",
   "execution_count": null,
   "id": "4182522a-aa46-4f7c-a753-cad1bedd8bc1",
   "metadata": {},
   "outputs": [],
   "source": []
  },
  {
   "cell_type": "code",
   "execution_count": null,
   "id": "a767f296-b583-41e5-8a1b-c27dccab1e2f",
   "metadata": {},
   "outputs": [],
   "source": []
  },
  {
   "cell_type": "code",
   "execution_count": null,
   "id": "aa93120f-5d11-4a8c-aafc-a900e8830d59",
   "metadata": {},
   "outputs": [],
   "source": []
  },
  {
   "cell_type": "code",
   "execution_count": null,
   "id": "5cf6d496-5a56-4e10-9c31-0937accaa56b",
   "metadata": {},
   "outputs": [],
   "source": []
  },
  {
   "cell_type": "code",
   "execution_count": null,
   "id": "cff23352-f082-4da5-a6da-50af0a4bf1d2",
   "metadata": {},
   "outputs": [],
   "source": []
  },
  {
   "cell_type": "raw",
   "id": "265d00eb-26c2-4ddb-a3df-cacb1f3ad001",
   "metadata": {},
   "source": [
    "def plot_corrc(inp_df, inp_cols, targ_cols = ['views', 'depth', 'full_reads_percent']):\n",
    "    f, ax = plt.subplots(1, 2, figsize=(24, 8))\n",
    "    sns.heatmap(inp_df[inp_cols + targ_cols].corr(), \n",
    "    #sns.heatmap(inp_df.query('c2 == 0')[inp_cols + targ_cols].corr(), \n",
    "                annot = True, cmap= 'coolwarm', linewidths=3, linecolor='black', ax = ax[0])\n",
    "    sns.heatmap(inp_df[inp_cols + targ_cols].corr(method = 'spearman'), \n",
    "    #sns.heatmap(inp_df.query('c2 == 1')[inp_cols + targ_cols].corr(), \n",
    "                annot = True, cmap= 'coolwarm', linewidths=3, linecolor='black', ax = ax[1])\n",
    "#    sns.heatmap(inp_df.query('c2 == 0')[inp_cols + targ_cols].corr(method = 'spearman'), \n",
    "#                annot = True, cmap= 'coolwarm', linewidths=3, linecolor='black', ax = ax[1, 0])\n",
    "#    sns.heatmap(inp_df.query('c2 == 1')[inp_cols + targ_cols].corr(method = 'spearman'), \n",
    "#                annot = True, cmap= 'coolwarm', linewidths=3, linecolor='black', ax = ax[1, 1])\n",
    "    \n",
    "    sns.pairplot(inp_df[inp_cols + targ_cols], height = 16,) #hue = 'c2')"
   ]
  },
  {
   "cell_type": "code",
   "execution_count": 11,
   "id": "59f95b46-277c-4594-af3d-598dd2e7e83e",
   "metadata": {},
   "outputs": [],
   "source": [
    "#plot_corrc(train, ['views'], ['views_pred_cb'])\n",
    "#plot_corrc(train, ['views'], ['views_pred_xgb'])\n",
    "#plot_corrc(train, ['views'], ['views_pred_lgb'])"
   ]
  },
  {
   "cell_type": "code",
   "execution_count": null,
   "id": "97f641c6-6db2-472c-903a-83c343c1c0bf",
   "metadata": {},
   "outputs": [],
   "source": [
    "#plot_corrc(train, ['depth'], ['depth_pred_cb'])\n",
    "#plot_corrc(train, ['depth'], ['depth_pred_xgb'])\n",
    "#plot_corrc(train, ['depth'], ['depth_pred_lgb'])"
   ]
  },
  {
   "cell_type": "code",
   "execution_count": null,
   "id": "480dd361-2f2b-4b0f-b66b-c1ad58452ae3",
   "metadata": {},
   "outputs": [],
   "source": []
  }
 ],
 "metadata": {
  "kernelspec": {
   "display_name": "Python 3 (ipykernel)",
   "language": "python",
   "name": "python3"
  },
  "language_info": {
   "codemirror_mode": {
    "name": "ipython",
    "version": 3
   },
   "file_extension": ".py",
   "mimetype": "text/x-python",
   "name": "python",
   "nbconvert_exporter": "python",
   "pygments_lexer": "ipython3",
   "version": "3.9.12"
  }
 },
 "nbformat": 4,
 "nbformat_minor": 5
}
