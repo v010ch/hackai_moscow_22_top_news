{
 "cells": [
  {
   "cell_type": "code",
   "execution_count": null,
   "id": "c6db2e07-16cd-4489-b724-d9de866516c9",
   "metadata": {},
   "outputs": [],
   "source": []
  },
  {
   "cell_type": "code",
   "execution_count": null,
   "id": "c050c78d-effd-4f46-8ddb-8ac543a21b92",
   "metadata": {},
   "outputs": [],
   "source": [
    "import os\n",
    "#import pickle as pkl\n",
    "\n",
    "#import numpy as np\n",
    "import pandas as pd"
   ]
  },
  {
   "cell_type": "code",
   "execution_count": null,
   "id": "157d8b05-7a49-4a0a-9901-d334d3272e5b",
   "metadata": {},
   "outputs": [],
   "source": []
  },
  {
   "cell_type": "code",
   "execution_count": null,
   "id": "6fd6329b-25eb-4363-9eb3-8fbbfe6b82d5",
   "metadata": {},
   "outputs": [],
   "source": [
    "DIR_SUBM   = os.path.join(os.getcwd(), 'subm')"
   ]
  },
  {
   "cell_type": "code",
   "execution_count": null,
   "id": "e35e4dac-265a-4702-b547-835e4a24157c",
   "metadata": {},
   "outputs": [],
   "source": [
    "subm_views = pd.read_csv(os.path.join(DIR_SUBM, '1_xgb_baseline_test.csv'),     usecols=['document_id', 'views'])\n",
    "subm_depth = pd.read_csv(os.path.join(DIR_SUBM, '7_xgb_lags_emb.csv'),          usecols=['document_id', 'depth'])\n",
    "subm_frp   = pd.read_csv(os.path.join(DIR_SUBM, '7_xgb_lags_emb.csv'), usecols=['document_id', 'full_reads_percent'])\n",
    "print(subm_views.shape, subm_depth.shape, subm_frp.shape)"
   ]
  },
  {
   "cell_type": "code",
   "execution_count": null,
   "id": "82656e2d-b9c7-44f7-b685-d67891365130",
   "metadata": {},
   "outputs": [],
   "source": [
    "subm = subm_views.merge(subm_depth, on='document_id', validate='one_to_one')\n",
    "#subm = subm.merge(subm_depth, on='document_id', validate='one_to_one')\n",
    "subm = subm.merge(subm_frp, on='document_id', validate='one_to_one')"
   ]
  },
  {
   "cell_type": "code",
   "execution_count": null,
   "id": "a00b3ee8-ade0-428b-9b5b-f99beb57c30b",
   "metadata": {},
   "outputs": [],
   "source": []
  },
  {
   "cell_type": "code",
   "execution_count": null,
   "id": "d2ffbd85-9a2a-4182-a412-8443807628d3",
   "metadata": {},
   "outputs": [],
   "source": [
    "NTYPE = 7"
   ]
  },
  {
   "cell_type": "code",
   "execution_count": null,
   "id": "35360b39-d4ce-4548-a778-55f9d712eaa1",
   "metadata": {},
   "outputs": [],
   "source": [
    "subm.to_csv(os.path.join(DIR_SUBM, f'{NTYPE}_concatenate.csv'), index = False)"
   ]
  },
  {
   "cell_type": "code",
   "execution_count": null,
   "id": "d90c3fd9-bfbc-41f3-b480-65e1f1106dad",
   "metadata": {},
   "outputs": [],
   "source": []
  }
 ],
 "metadata": {
  "kernelspec": {
   "display_name": "Python 3",
   "language": "python",
   "name": "python3"
  },
  "language_info": {
   "codemirror_mode": {
    "name": "ipython",
    "version": 3
   },
   "file_extension": ".py",
   "mimetype": "text/x-python",
   "name": "python",
   "nbconvert_exporter": "python",
   "pygments_lexer": "ipython3",
   "version": "3.7.10"
  }
 },
 "nbformat": 4,
 "nbformat_minor": 5
}
