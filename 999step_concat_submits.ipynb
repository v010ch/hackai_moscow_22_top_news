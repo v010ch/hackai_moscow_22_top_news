{
 "cells": [
  {
   "cell_type": "code",
   "execution_count": null,
   "id": "c6db2e07-16cd-4489-b724-d9de866516c9",
   "metadata": {},
   "outputs": [],
   "source": []
  },
  {
   "cell_type": "code",
   "execution_count": 10,
   "id": "c050c78d-effd-4f46-8ddb-8ac543a21b92",
   "metadata": {},
   "outputs": [],
   "source": [
    "import os\n",
    "#import pickle as pkl\n",
    "\n",
    "#import numpy as np\n",
    "import pandas as pd"
   ]
  },
  {
   "cell_type": "code",
   "execution_count": null,
   "id": "157d8b05-7a49-4a0a-9901-d334d3272e5b",
   "metadata": {},
   "outputs": [],
   "source": []
  },
  {
   "cell_type": "code",
   "execution_count": 11,
   "id": "6fd6329b-25eb-4363-9eb3-8fbbfe6b82d5",
   "metadata": {},
   "outputs": [],
   "source": [
    "DIR_SUBM   = os.path.join(os.getcwd(), 'subm')"
   ]
  },
  {
   "cell_type": "code",
   "execution_count": 12,
   "id": "e35e4dac-265a-4702-b547-835e4a24157c",
   "metadata": {},
   "outputs": [],
   "source": [
    "subm_views = pd.read_csv(os.path.join(DIR_SUBM, '1_xgb_baseline_test.csv'),     usecols=['document_id', 'views'])\n",
    "subm_depth = pd.read_csv(os.path.join(DIR_SUBM, '3_lgb_ttl_emb_depth_frp.csv'), usecols=['document_id', 'depth'])\n",
    "subm_frp   = pd.read_csv(os.path.join(DIR_SUBM, '3_lgb_ttl_emb_depth_frp.csv'), usecols=['document_id', 'full_reads_percent'])"
   ]
  },
  {
   "cell_type": "code",
   "execution_count": 16,
   "id": "82656e2d-b9c7-44f7-b685-d67891365130",
   "metadata": {},
   "outputs": [],
   "source": [
    "subm = subm_views.merge(subm_depth, on='document_id', validate='one_to_one')\n",
    "#subm = subm.merge(subm_depth, on='document_id', validate='one_to_one')\n",
    "subm = subm.merge(subm_frp, on='document_id', validate='one_to_one')"
   ]
  },
  {
   "cell_type": "code",
   "execution_count": 17,
   "id": "a00b3ee8-ade0-428b-9b5b-f99beb57c30b",
   "metadata": {},
   "outputs": [
    {
     "data": {
      "text/html": [
       "<div>\n",
       "<style scoped>\n",
       "    .dataframe tbody tr th:only-of-type {\n",
       "        vertical-align: middle;\n",
       "    }\n",
       "\n",
       "    .dataframe tbody tr th {\n",
       "        vertical-align: top;\n",
       "    }\n",
       "\n",
       "    .dataframe thead th {\n",
       "        text-align: right;\n",
       "    }\n",
       "</style>\n",
       "<table border=\"1\" class=\"dataframe\">\n",
       "  <thead>\n",
       "    <tr style=\"text-align: right;\">\n",
       "      <th></th>\n",
       "      <th>document_id</th>\n",
       "      <th>views</th>\n",
       "      <th>depth</th>\n",
       "      <th>full_reads_percent</th>\n",
       "    </tr>\n",
       "  </thead>\n",
       "  <tbody>\n",
       "    <tr>\n",
       "      <th>0</th>\n",
       "      <td>61f9569a9a794794245a82abJ0AvX96vTAaQCiWVbzoMdw</td>\n",
       "      <td>12979.607</td>\n",
       "      <td>1.162884</td>\n",
       "      <td>41.849092</td>\n",
       "    </tr>\n",
       "    <tr>\n",
       "      <th>1</th>\n",
       "      <td>628c22b89a79470e553f594bQS5CqzXYRnmDdR2LaSreEw</td>\n",
       "      <td>16094.666</td>\n",
       "      <td>1.050658</td>\n",
       "      <td>34.876173</td>\n",
       "    </tr>\n",
       "    <tr>\n",
       "      <th>2</th>\n",
       "      <td>627cb3249a7947ebdd752865XVsoyrUOT8OJJg2_finJhw</td>\n",
       "      <td>15869.438</td>\n",
       "      <td>1.061083</td>\n",
       "      <td>29.770480</td>\n",
       "    </tr>\n",
       "    <tr>\n",
       "      <th>3</th>\n",
       "      <td>628618629a7947d4927eb812upfii3whSSuMXCqcqF8VbQ</td>\n",
       "      <td>12979.607</td>\n",
       "      <td>1.079164</td>\n",
       "      <td>37.248951</td>\n",
       "    </tr>\n",
       "    <tr>\n",
       "      <th>4</th>\n",
       "      <td>620e76109a7947235623695b5hzCiIHdSYKQIr8WAM18bw</td>\n",
       "      <td>92693.090</td>\n",
       "      <td>1.197063</td>\n",
       "      <td>30.528346</td>\n",
       "    </tr>\n",
       "    <tr>\n",
       "      <th>...</th>\n",
       "      <td>...</td>\n",
       "      <td>...</td>\n",
       "      <td>...</td>\n",
       "      <td>...</td>\n",
       "    </tr>\n",
       "    <tr>\n",
       "      <th>2995</th>\n",
       "      <td>623ba6bc9a79470214cb9418x4OZQ1IjTb27nPAgv5wAZg</td>\n",
       "      <td>16735.950</td>\n",
       "      <td>1.130764</td>\n",
       "      <td>30.248436</td>\n",
       "    </tr>\n",
       "    <tr>\n",
       "      <th>2996</th>\n",
       "      <td>624fda1f9a79471a9bd102eetuRTrLPGSZyNbc9_YcBAeQ</td>\n",
       "      <td>42088.550</td>\n",
       "      <td>1.113462</td>\n",
       "      <td>32.456153</td>\n",
       "    </tr>\n",
       "    <tr>\n",
       "      <th>2997</th>\n",
       "      <td>6257a6a99a79477eea75b86dtBr3UG9ORW-gOybkVKX6ww</td>\n",
       "      <td>12979.607</td>\n",
       "      <td>1.063972</td>\n",
       "      <td>39.389542</td>\n",
       "    </tr>\n",
       "    <tr>\n",
       "      <th>2998</th>\n",
       "      <td>624866d59a7947421716ab46WsGDKyGjTJGRh14eR7UVvw</td>\n",
       "      <td>12979.607</td>\n",
       "      <td>1.158419</td>\n",
       "      <td>40.702991</td>\n",
       "    </tr>\n",
       "    <tr>\n",
       "      <th>2999</th>\n",
       "      <td>6236f9129a79477b0ef18ae0ewByZQ1FQBK2dpXyY77rYw</td>\n",
       "      <td>12979.607</td>\n",
       "      <td>1.164162</td>\n",
       "      <td>43.268919</td>\n",
       "    </tr>\n",
       "  </tbody>\n",
       "</table>\n",
       "<p>3000 rows × 4 columns</p>\n",
       "</div>"
      ],
      "text/plain": [
       "                                         document_id      views     depth  \\\n",
       "0     61f9569a9a794794245a82abJ0AvX96vTAaQCiWVbzoMdw  12979.607  1.162884   \n",
       "1     628c22b89a79470e553f594bQS5CqzXYRnmDdR2LaSreEw  16094.666  1.050658   \n",
       "2     627cb3249a7947ebdd752865XVsoyrUOT8OJJg2_finJhw  15869.438  1.061083   \n",
       "3     628618629a7947d4927eb812upfii3whSSuMXCqcqF8VbQ  12979.607  1.079164   \n",
       "4     620e76109a7947235623695b5hzCiIHdSYKQIr8WAM18bw  92693.090  1.197063   \n",
       "...                                              ...        ...       ...   \n",
       "2995  623ba6bc9a79470214cb9418x4OZQ1IjTb27nPAgv5wAZg  16735.950  1.130764   \n",
       "2996  624fda1f9a79471a9bd102eetuRTrLPGSZyNbc9_YcBAeQ  42088.550  1.113462   \n",
       "2997  6257a6a99a79477eea75b86dtBr3UG9ORW-gOybkVKX6ww  12979.607  1.063972   \n",
       "2998  624866d59a7947421716ab46WsGDKyGjTJGRh14eR7UVvw  12979.607  1.158419   \n",
       "2999  6236f9129a79477b0ef18ae0ewByZQ1FQBK2dpXyY77rYw  12979.607  1.164162   \n",
       "\n",
       "      full_reads_percent  \n",
       "0              41.849092  \n",
       "1              34.876173  \n",
       "2              29.770480  \n",
       "3              37.248951  \n",
       "4              30.528346  \n",
       "...                  ...  \n",
       "2995           30.248436  \n",
       "2996           32.456153  \n",
       "2997           39.389542  \n",
       "2998           40.702991  \n",
       "2999           43.268919  \n",
       "\n",
       "[3000 rows x 4 columns]"
      ]
     },
     "execution_count": 17,
     "metadata": {},
     "output_type": "execute_result"
    }
   ],
   "source": [
    "subm"
   ]
  },
  {
   "cell_type": "code",
   "execution_count": null,
   "id": "d2ffbd85-9a2a-4182-a412-8443807628d3",
   "metadata": {},
   "outputs": [],
   "source": []
  },
  {
   "cell_type": "code",
   "execution_count": 19,
   "id": "35360b39-d4ce-4548-a778-55f9d712eaa1",
   "metadata": {},
   "outputs": [],
   "source": [
    "subm.to_csv(os.path.join(DIR_SUBM, '3__concatenate.csv'), index = False)"
   ]
  },
  {
   "cell_type": "code",
   "execution_count": null,
   "id": "d90c3fd9-bfbc-41f3-b480-65e1f1106dad",
   "metadata": {},
   "outputs": [],
   "source": []
  }
 ],
 "metadata": {
  "kernelspec": {
   "display_name": "Python 3",
   "language": "python",
   "name": "python3"
  },
  "language_info": {
   "codemirror_mode": {
    "name": "ipython",
    "version": 3
   },
   "file_extension": ".py",
   "mimetype": "text/x-python",
   "name": "python",
   "nbconvert_exporter": "python",
   "pygments_lexer": "ipython3",
   "version": "3.7.10"
  }
 },
 "nbformat": 4,
 "nbformat_minor": 5
}
