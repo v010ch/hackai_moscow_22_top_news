{
 "cells": [
  {
   "cell_type": "code",
   "execution_count": null,
   "id": "c6db2e07-16cd-4489-b724-d9de866516c9",
   "metadata": {},
   "outputs": [],
   "source": []
  },
  {
   "cell_type": "code",
   "execution_count": 1,
   "id": "c050c78d-effd-4f46-8ddb-8ac543a21b92",
   "metadata": {},
   "outputs": [],
   "source": [
    "import os\n",
    "#import pickle as pkl\n",
    "\n",
    "import numpy as np\n",
    "import pandas as pd\n",
    "import seaborn as sns\n",
    "import matplotlib.pyplot as plt"
   ]
  },
  {
   "cell_type": "code",
   "execution_count": 2,
   "id": "d3e3ce32-d981-404f-a76a-f00faf59e421",
   "metadata": {},
   "outputs": [],
   "source": [
    "from xgboost import XGBRegressor\n",
    "import xgboost as xgb\n",
    "\n",
    "from sklearn import preprocessing\n",
    "from sklearn.metrics import r2_score\n",
    "from typing import Tuple"
   ]
  },
  {
   "cell_type": "code",
   "execution_count": null,
   "id": "157d8b05-7a49-4a0a-9901-d334d3272e5b",
   "metadata": {},
   "outputs": [],
   "source": []
  },
  {
   "cell_type": "code",
   "execution_count": 3,
   "id": "6fd6329b-25eb-4363-9eb3-8fbbfe6b82d5",
   "metadata": {},
   "outputs": [],
   "source": [
    "DIR_DATA   = os.path.join(os.getcwd(), 'data')\n",
    "DIR_MODELS = os.path.join(os.getcwd(), 'models')\n",
    "DIR_SUBM   = os.path.join(os.getcwd(), 'subm')\n",
    "DIR_SUBM_PART = os.path.join(os.getcwd(), 'subm', 'partial')"
   ]
  },
  {
   "cell_type": "code",
   "execution_count": 4,
   "id": "055538fa-ee22-42a5-842b-b50b50522855",
   "metadata": {},
   "outputs": [],
   "source": [
    "NTRY = 24\n",
    "#NAME = f'{NTRY}_cb_pca64_sber_lags_parse_bord_nose'\n",
    "#NAME_CB  = f'{NTRY}_cb_pca64_sber_lags_parse_bord_nose_cat'\n",
    "#NAME_XGB = f'{NTRY}_xgb_pca64_sber_lags_parse_bord_nose_cat'\n",
    "#NAME_LGB = f'{NTRY}_lgb_pca64_sber_lags_parse_bord_nose_cat'\n",
    "#xgb_pca64_sber_lags_parse_bord_nose_val_part"
   ]
  },
  {
   "cell_type": "code",
   "execution_count": 5,
   "id": "2b9cb642-250e-4ade-9dae-bf8a95a1fed0",
   "metadata": {},
   "outputs": [],
   "source": [
    "# seed the RNG for all devices (both CPU and CUDA)\n",
    "#torch.manual_seed(1984)\n",
    "\n",
    "#Disabling the benchmarking feature causes cuDNN to deterministically select an algorithm, \n",
    "#possibly at the cost of reduced performance.\n",
    "#torch.backends.cudnn.benchmark = False\n",
    "\n",
    "# for custom operators,\n",
    "import random\n",
    "random.seed(5986721)\n",
    "\n",
    "# \n",
    "np.random.seed(62185)\n",
    "\n",
    "#sklearn take seed from a line abowe\n",
    "\n",
    "CB_RANDOMSEED = 309487\n",
    "XGB_RANDOMSEED = 56"
   ]
  },
  {
   "cell_type": "code",
   "execution_count": null,
   "id": "3e2eef79-9baa-4c1a-bed9-87271695b29f",
   "metadata": {},
   "outputs": [],
   "source": []
  },
  {
   "cell_type": "code",
   "execution_count": null,
   "id": "b137e507-b26b-45af-84f8-4a583057c23b",
   "metadata": {},
   "outputs": [],
   "source": []
  },
  {
   "cell_type": "markdown",
   "id": "57174ff3-dadf-480f-817b-ef4a0949708b",
   "metadata": {},
   "source": [
    "# Конкатенация"
   ]
  },
  {
   "cell_type": "code",
   "execution_count": 6,
   "id": "e35e4dac-265a-4702-b547-835e4a24157c",
   "metadata": {},
   "outputs": [
    {
     "name": "stdout",
     "output_type": "stream",
     "text": [
      "(3000, 2) (3000, 2) (3000, 2)\n"
     ]
    }
   ],
   "source": [
    "#subm_views = pd.read_csv(os.path.join(DIR_SUBM, f'1_xgb_baseline_test.csv'),  usecols=['document_id', 'views'])\n",
    "subm_views = pd.read_csv(os.path.join(DIR_SUBM, f'{NTRY}_lgb_pca64_sber_bord_nose_iter_poly.csv'),  usecols=['document_id', 'views'])\n",
    "subm_depth = pd.read_csv(os.path.join(DIR_SUBM, f'{NTRY}_lgb_pca64_sber_bord_nose_iter_poly.csv'), usecols=['document_id', 'depth'])\n",
    "subm_frp   = pd.read_csv(os.path.join(DIR_SUBM, f'{NTRY}_lgb_pca64_sber_bord_nose_iter_poly.csv'), usecols=['document_id', 'full_reads_percent'])\n",
    "\n",
    "#ubm_depth = pd.read_csv(os.path.join(DIR_SUBM, f'{NTRY}_lgb_pca64_sber_lags_parse_bord_nose_irq.csv'), usecols=['document_id', 'depth'])\n",
    "#ubm_frp   = pd.read_csv(os.path.join(DIR_SUBM, f'14_lgb_pca64_sber_lags_parse_bord_nose.csv'),   usecols=['document_id', 'full_reads_percent'])\n",
    "\n",
    "print(subm_views.shape, subm_depth.shape, subm_frp.shape)"
   ]
  },
  {
   "cell_type": "code",
   "execution_count": 7,
   "id": "82656e2d-b9c7-44f7-b685-d67891365130",
   "metadata": {},
   "outputs": [],
   "source": [
    "subm = subm_views.merge(subm_depth, on='document_id', validate='one_to_one')\n",
    "#subm = subm.merge(subm_depth, on='document_id', validate='one_to_one')\n",
    "subm = subm.merge(subm_frp, on='document_id', validate='one_to_one')"
   ]
  },
  {
   "cell_type": "code",
   "execution_count": 8,
   "id": "35360b39-d4ce-4548-a778-55f9d712eaa1",
   "metadata": {},
   "outputs": [],
   "source": [
    "subm.to_csv(os.path.join(DIR_SUBM, f'{NTRY}_concatenate.csv'), index = False)"
   ]
  },
  {
   "cell_type": "code",
   "execution_count": null,
   "id": "d90c3fd9-bfbc-41f3-b480-65e1f1106dad",
   "metadata": {},
   "outputs": [],
   "source": []
  },
  {
   "cell_type": "code",
   "execution_count": null,
   "id": "221ecb27-8221-4ee5-8821-9863019e88af",
   "metadata": {},
   "outputs": [],
   "source": []
  },
  {
   "cell_type": "markdown",
   "id": "0e0114e4-74dc-4bc0-b3bb-6777e96b8e34",
   "metadata": {},
   "source": [
    "# Ансамбли"
   ]
  },
  {
   "cell_type": "code",
   "execution_count": 48,
   "id": "621e5145-8233-4962-8772-99caef893661",
   "metadata": {},
   "outputs": [],
   "source": [
    "def plot_importance(inp_model, imp_number = 30, imp_type = 'weight'):\n",
    "    feature_important = inp_model.get_booster().get_score(importance_type=imp_type)\n",
    "    keys = list(feature_important.keys())\n",
    "    values = list(feature_important.values())\n",
    "\n",
    "    data = pd.DataFrame(data=values, index=keys, columns=[\"score\"]).sort_values(by = \"score\", ascending=False)\n",
    "    data.nlargest(imp_number, columns=\"score\").plot(kind='barh', figsize = (30,16)) ## plot top 40 features"
   ]
  },
  {
   "cell_type": "code",
   "execution_count": 8,
   "id": "035b8032-596c-4ac1-8dd8-9cc6f8f6f105",
   "metadata": {},
   "outputs": [],
   "source": [
    "train  = pd.read_csv(os.path.join(DIR_DATA, 'x_train.csv'), usecols = ['document_id', 'views', 'depth', 'full_reads_percent'])\n",
    "val  = pd.read_csv(os.path.join(DIR_DATA, 'x_val.csv'), usecols = ['document_id', 'views', 'depth', 'full_reads_percent'])\n",
    "\n",
    "cb_train = pd.read_csv(os.path.join(DIR_SUBM_PART, f'{NAME_CB}_train_part.csv'))\n",
    "cb_val = pd.read_csv(os.path.join(DIR_SUBM_PART, f'{NAME_CB}_val_part.csv'))\n",
    "\n",
    "xgb_train = pd.read_csv(os.path.join(DIR_SUBM_PART, f'{NAME_XGB}_train_part.csv'))\n",
    "xgb_val = pd.read_csv(os.path.join(DIR_SUBM_PART, f'{NAME_XGB}_val_part.csv'))\n",
    "\n",
    "lgb_train = pd.read_csv(os.path.join(DIR_SUBM_PART, f'{NAME_LGB}_train_part.csv'))\n",
    "lgb_val = pd.read_csv(os.path.join(DIR_SUBM_PART, f'{NAME_LGB}_val_part.csv'))"
   ]
  },
  {
   "cell_type": "code",
   "execution_count": 9,
   "id": "518b2b3e-da91-4daa-add7-fdcf2734ad4c",
   "metadata": {},
   "outputs": [
    {
     "name": "stdout",
     "output_type": "stream",
     "text": [
      "before  (5584, 4) (5584, 4) (5584, 4)\n",
      "before  (1397, 4) (1397, 4) (1397, 4)\n",
      "after  (5584, 13)\n",
      "after  (1397, 13)\n"
     ]
    }
   ],
   "source": [
    "print('before ', cb_train.shape, lgb_train.shape, xgb_train.shape)\n",
    "print('before ', cb_val.shape, lgb_val.shape, xgb_val.shape)\n",
    "train = pd.concat([train.reset_index(drop = True),\n",
    "                   cb_train.reset_index(drop = True),\n",
    "                   xgb_train.reset_index(drop = True),\n",
    "                   lgb_train.reset_index(drop = True),\n",
    "                  ], ignore_index = True, axis = 1)\n",
    "\n",
    "val = pd.concat([val.reset_index(drop = True),\n",
    "                 cb_val.reset_index(drop = True),\n",
    "                 xgb_val.reset_index(drop = True),\n",
    "                 lgb_val.reset_index(drop = True),\n",
    "                ], ignore_index = True, axis = 1)\n",
    "\n",
    "cols = ['document_id', 'views', 'depth', 'full_reads_percent',\n",
    "         'document_id_cb', 'views_pred_cb', 'depth_pred_cb', 'frp_pred_cb',\n",
    "         'document_id_xgb', 'views_pred_xgb', 'depth_pred_xgb', 'frp_pred_xgb',\n",
    "         'document_id_lgb', 'views_pred_lgb', 'depth_pred_lgb', 'frp_pred_lgb',\n",
    "        ]\n",
    "train.columns = cols\n",
    "val.columns = cols\n",
    "\n",
    "if sum(train.document_id == train.document_id_xgb) != train.shape[0] or \\\n",
    "   sum(train.document_id == train.document_id_lgb) != train.shape[0]:\n",
    "    print('wtf train')\n",
    "    \n",
    "if sum(val.document_id == val.document_id_xgb) != val.shape[0] or \\\n",
    "   sum(val.document_id == val.document_id_lgb) != val.shape[0]:\n",
    "    print('wtf val')\n",
    "\n",
    "train.drop(['document_id_cb', 'document_id_xgb', 'document_id_lgb'], axis = 1, inplace = True)\n",
    "val.drop(['document_id_cb', 'document_id_xgb', 'document_id_lgb'], axis = 1, inplace = True)\n",
    "    \n",
    "    \n",
    "print('after ', train.shape)\n",
    "print('after ', val.shape)"
   ]
  },
  {
   "cell_type": "code",
   "execution_count": 11,
   "id": "183ef833-5f23-4eb3-9a58-4e245e49aa50",
   "metadata": {},
   "outputs": [
    {
     "data": {
      "text/plain": [
       "Index(['views_pred_cb', 'depth_pred_cb', 'frp_pred_cb', 'views_pred_xgb',\n",
       "       'depth_pred_xgb', 'frp_pred_xgb', 'views_pred_lgb', 'depth_pred_lgb',\n",
       "       'frp_pred_lgb'],\n",
       "      dtype='object')"
      ]
     },
     "execution_count": 11,
     "metadata": {},
     "output_type": "execute_result"
    }
   ],
   "source": [
    "val.columns[4:]"
   ]
  },
  {
   "cell_type": "code",
   "execution_count": null,
   "id": "bfd03d4a-db67-4569-b428-84206e290f60",
   "metadata": {},
   "outputs": [],
   "source": []
  },
  {
   "cell_type": "markdown",
   "id": "759e7e85-99e7-4359-ba8a-a91895370cd7",
   "metadata": {},
   "source": [
    "# нормализуем"
   ]
  },
  {
   "cell_type": "code",
   "execution_count": 56,
   "id": "384a2537-5bd2-4b30-bc91-fb140e6115b9",
   "metadata": {},
   "outputs": [],
   "source": [
    "scaler = preprocessing.StandardScaler()  #Standardize features by removing the mean and scaling to unit variance.\n",
    "\n",
    "scaler.fit(train[train.columns[4:]])\n",
    "\n",
    "train[train.columns[4:]] = scaler.transform(train[train.columns[4:]])\n",
    "val[train.columns[4:]]  = scaler.transform(val[train.columns[4:]])"
   ]
  },
  {
   "cell_type": "code",
   "execution_count": 74,
   "id": "a59de09f-483a-4d5a-abb4-587373af3e70",
   "metadata": {},
   "outputs": [],
   "source": [
    "#!!!!!!!!! нормализовать предикты\n",
    "#!!!!!!!!! сделать предикты"
   ]
  },
  {
   "cell_type": "code",
   "execution_count": null,
   "id": "96a53193-e05e-4196-9a70-65b1d082d99a",
   "metadata": {},
   "outputs": [],
   "source": []
  },
  {
   "cell_type": "code",
   "execution_count": null,
   "id": "5874fe0c-9b48-4e9d-aac1-58f77aecd311",
   "metadata": {},
   "outputs": [],
   "source": []
  },
  {
   "cell_type": "code",
   "execution_count": 57,
   "id": "5a63c15c-abbf-419f-bcf1-c1b2dc4fb685",
   "metadata": {},
   "outputs": [],
   "source": [
    "#def r2(predt: np.ndarray, dtrain: xgb.DMatrix) -> Tuple[str, float]:\n",
    "def r2(y_pred: np.ndarray, y_true: xgb.DMatrix) -> Tuple[str, float]:\n",
    "    \n",
    "    #preds = np.array(y_pred[0])\n",
    "    #print(type(y_true))\n",
    "    #print(type(y_pred)) # np.array\n",
    "    \n",
    "    return 'r2', r2_score(y_true.get_label(), y_pred)"
   ]
  },
  {
   "cell_type": "markdown",
   "id": "1d70e216-01ae-4ee3-a706-06f3bb9656a0",
   "metadata": {},
   "source": [
    "# views"
   ]
  },
  {
   "cell_type": "code",
   "execution_count": 58,
   "id": "1471e0fc-f587-448d-9053-dc688701a444",
   "metadata": {},
   "outputs": [],
   "source": [
    "cv_ntrees = 100\n",
    "\n",
    "xgb_params_views = {\n",
    "    'booster': 'gbtree',\n",
    "    'objective': 'reg:squarederror',\n",
    "    #'learning_rate': 0.05,\n",
    "    'eta': 0.3,\n",
    "    'max_depth': 15, \n",
    "    #'num_boost_round': 10000, \n",
    "    #'early_stopping_rounds': 100,\n",
    "}\n",
    "dtrain = xgb.DMatrix(train[train.columns[4:]], label=train[['views']])\n",
    "dval   = xgb.DMatrix(val[train.columns[4:]], label=val[['views']])"
   ]
  },
  {
   "cell_type": "code",
   "execution_count": 59,
   "id": "20dcd7c7-3692-4ef0-b0d8-0a2b81d91fc2",
   "metadata": {},
   "outputs": [
    {
     "name": "stdout",
     "output_type": "stream",
     "text": [
      "Wall time: 6.67 s\n"
     ]
    },
    {
     "data": {
      "text/html": [
       "<div>\n",
       "<style scoped>\n",
       "    .dataframe tbody tr th:only-of-type {\n",
       "        vertical-align: middle;\n",
       "    }\n",
       "\n",
       "    .dataframe tbody tr th {\n",
       "        vertical-align: top;\n",
       "    }\n",
       "\n",
       "    .dataframe thead th {\n",
       "        text-align: right;\n",
       "    }\n",
       "</style>\n",
       "<table border=\"1\" class=\"dataframe\">\n",
       "  <thead>\n",
       "    <tr style=\"text-align: right;\">\n",
       "      <th></th>\n",
       "      <th>train-rmse-mean</th>\n",
       "      <th>train-rmse-std</th>\n",
       "      <th>test-rmse-mean</th>\n",
       "      <th>test-rmse-std</th>\n",
       "      <th>train-r2-mean</th>\n",
       "      <th>train-r2-std</th>\n",
       "      <th>test-r2-mean</th>\n",
       "      <th>test-r2-std</th>\n",
       "    </tr>\n",
       "  </thead>\n",
       "  <tbody>\n",
       "    <tr>\n",
       "      <th>95</th>\n",
       "      <td>2077.195388</td>\n",
       "      <td>1380.273386</td>\n",
       "      <td>24738.364685</td>\n",
       "      <td>11765.746847</td>\n",
       "      <td>0.998486</td>\n",
       "      <td>0.001187</td>\n",
       "      <td>0.835639</td>\n",
       "      <td>0.069107</td>\n",
       "    </tr>\n",
       "    <tr>\n",
       "      <th>96</th>\n",
       "      <td>2077.043059</td>\n",
       "      <td>1380.425077</td>\n",
       "      <td>24738.403552</td>\n",
       "      <td>11765.698982</td>\n",
       "      <td>0.998487</td>\n",
       "      <td>0.001188</td>\n",
       "      <td>0.835639</td>\n",
       "      <td>0.069107</td>\n",
       "    </tr>\n",
       "    <tr>\n",
       "      <th>97</th>\n",
       "      <td>2076.946484</td>\n",
       "      <td>1380.507568</td>\n",
       "      <td>24738.362038</td>\n",
       "      <td>11765.570842</td>\n",
       "      <td>0.998487</td>\n",
       "      <td>0.001188</td>\n",
       "      <td>0.835639</td>\n",
       "      <td>0.069105</td>\n",
       "    </tr>\n",
       "    <tr>\n",
       "      <th>98</th>\n",
       "      <td>2076.855171</td>\n",
       "      <td>1380.585848</td>\n",
       "      <td>24738.347709</td>\n",
       "      <td>11765.576983</td>\n",
       "      <td>0.998487</td>\n",
       "      <td>0.001188</td>\n",
       "      <td>0.835639</td>\n",
       "      <td>0.069106</td>\n",
       "    </tr>\n",
       "    <tr>\n",
       "      <th>99</th>\n",
       "      <td>2076.743271</td>\n",
       "      <td>1380.698771</td>\n",
       "      <td>24738.387090</td>\n",
       "      <td>11765.560832</td>\n",
       "      <td>0.998487</td>\n",
       "      <td>0.001188</td>\n",
       "      <td>0.835638</td>\n",
       "      <td>0.069106</td>\n",
       "    </tr>\n",
       "  </tbody>\n",
       "</table>\n",
       "</div>"
      ],
      "text/plain": [
       "    train-rmse-mean  train-rmse-std  test-rmse-mean  test-rmse-std  \\\n",
       "95      2077.195388     1380.273386    24738.364685   11765.746847   \n",
       "96      2077.043059     1380.425077    24738.403552   11765.698982   \n",
       "97      2076.946484     1380.507568    24738.362038   11765.570842   \n",
       "98      2076.855171     1380.585848    24738.347709   11765.576983   \n",
       "99      2076.743271     1380.698771    24738.387090   11765.560832   \n",
       "\n",
       "    train-r2-mean  train-r2-std  test-r2-mean  test-r2-std  \n",
       "95       0.998486      0.001187      0.835639     0.069107  \n",
       "96       0.998487      0.001188      0.835639     0.069107  \n",
       "97       0.998487      0.001188      0.835639     0.069105  \n",
       "98       0.998487      0.001188      0.835639     0.069106  \n",
       "99       0.998487      0.001188      0.835638     0.069106  "
      ]
     },
     "execution_count": 59,
     "metadata": {},
     "output_type": "execute_result"
    }
   ],
   "source": [
    "%%time\n",
    "score = xgb.cv(xgb_params_views, dtrain, cv_ntrees, nfold=5, #early_stopping_rounds=1000,\n",
    "        metrics={'rmse'},\n",
    "        custom_metric = r2,\n",
    "       #callbacks=[xgb.callback.EvaluationMonitor(show_stdv=True)]\n",
    "      )\n",
    "score.tail()"
   ]
  },
  {
   "cell_type": "code",
   "execution_count": 60,
   "id": "f485f2c8-7bed-41c9-846f-a4bbed754b82",
   "metadata": {},
   "outputs": [
    {
     "data": {
      "text/html": [
       "<div>\n",
       "<style scoped>\n",
       "    .dataframe tbody tr th:only-of-type {\n",
       "        vertical-align: middle;\n",
       "    }\n",
       "\n",
       "    .dataframe tbody tr th {\n",
       "        vertical-align: top;\n",
       "    }\n",
       "\n",
       "    .dataframe thead th {\n",
       "        text-align: right;\n",
       "    }\n",
       "</style>\n",
       "<table border=\"1\" class=\"dataframe\">\n",
       "  <thead>\n",
       "    <tr style=\"text-align: right;\">\n",
       "      <th></th>\n",
       "      <th>train-rmse-mean</th>\n",
       "      <th>train-rmse-std</th>\n",
       "      <th>test-rmse-mean</th>\n",
       "      <th>test-rmse-std</th>\n",
       "      <th>train-r2-mean</th>\n",
       "      <th>train-r2-std</th>\n",
       "      <th>test-r2-mean</th>\n",
       "      <th>test-r2-std</th>\n",
       "    </tr>\n",
       "  </thead>\n",
       "  <tbody>\n",
       "    <tr>\n",
       "      <th>96</th>\n",
       "      <td>2077.043059</td>\n",
       "      <td>1380.425077</td>\n",
       "      <td>24738.403552</td>\n",
       "      <td>11765.698982</td>\n",
       "      <td>0.998487</td>\n",
       "      <td>0.001188</td>\n",
       "      <td>0.835639</td>\n",
       "      <td>0.069107</td>\n",
       "    </tr>\n",
       "  </tbody>\n",
       "</table>\n",
       "</div>"
      ],
      "text/plain": [
       "    train-rmse-mean  train-rmse-std  test-rmse-mean  test-rmse-std  \\\n",
       "96      2077.043059     1380.425077    24738.403552   11765.698982   \n",
       "\n",
       "    train-r2-mean  train-r2-std  test-r2-mean  test-r2-std  \n",
       "96       0.998487      0.001188      0.835639     0.069107  "
      ]
     },
     "execution_count": 60,
     "metadata": {},
     "output_type": "execute_result"
    }
   ],
   "source": [
    "score[score['train-r2-mean'] == score['train-r2-mean'].max()][:1]"
   ]
  },
  {
   "cell_type": "code",
   "execution_count": 61,
   "id": "03d1d23b-249a-418a-b331-f4885767f870",
   "metadata": {},
   "outputs": [
    {
     "data": {
      "text/html": [
       "<div>\n",
       "<style scoped>\n",
       "    .dataframe tbody tr th:only-of-type {\n",
       "        vertical-align: middle;\n",
       "    }\n",
       "\n",
       "    .dataframe tbody tr th {\n",
       "        vertical-align: top;\n",
       "    }\n",
       "\n",
       "    .dataframe thead th {\n",
       "        text-align: right;\n",
       "    }\n",
       "</style>\n",
       "<table border=\"1\" class=\"dataframe\">\n",
       "  <thead>\n",
       "    <tr style=\"text-align: right;\">\n",
       "      <th></th>\n",
       "      <th>train-rmse-mean</th>\n",
       "      <th>train-rmse-std</th>\n",
       "      <th>test-rmse-mean</th>\n",
       "      <th>test-rmse-std</th>\n",
       "      <th>train-r2-mean</th>\n",
       "      <th>train-r2-std</th>\n",
       "      <th>test-r2-mean</th>\n",
       "      <th>test-r2-std</th>\n",
       "    </tr>\n",
       "  </thead>\n",
       "  <tbody>\n",
       "    <tr>\n",
       "      <th>42</th>\n",
       "      <td>2233.157014</td>\n",
       "      <td>1245.821638</td>\n",
       "      <td>24735.849811</td>\n",
       "      <td>11774.430066</td>\n",
       "      <td>0.998404</td>\n",
       "      <td>0.001183</td>\n",
       "      <td>0.835706</td>\n",
       "      <td>0.069172</td>\n",
       "    </tr>\n",
       "  </tbody>\n",
       "</table>\n",
       "</div>"
      ],
      "text/plain": [
       "    train-rmse-mean  train-rmse-std  test-rmse-mean  test-rmse-std  \\\n",
       "42      2233.157014     1245.821638    24735.849811   11774.430066   \n",
       "\n",
       "    train-r2-mean  train-r2-std  test-r2-mean  test-r2-std  \n",
       "42       0.998404      0.001183      0.835706     0.069172  "
      ]
     },
     "execution_count": 61,
     "metadata": {},
     "output_type": "execute_result"
    }
   ],
   "source": [
    "score[score['test-r2-mean'] == score['test-r2-mean'].max()][:1]"
   ]
  },
  {
   "cell_type": "markdown",
   "id": "5fa29930-1430-4966-9c28-df02e59a4f23",
   "metadata": {},
   "source": [
    "# сейчас учу только на тесте"
   ]
  },
  {
   "cell_type": "code",
   "execution_count": 62,
   "id": "852a3d79-a3a7-4888-93b2-5495963240a7",
   "metadata": {},
   "outputs": [
    {
     "name": "stderr",
     "output_type": "stream",
     "text": [
      "C:\\Users\\_v010ch_\\Anaconda3\\lib\\site-packages\\xgboost\\sklearn.py:797: UserWarning: `early_stopping_rounds` in `fit` method is deprecated for better compatibility with scikit-learn, use `early_stopping_rounds` in constructor or`set_params` instead.\n",
      "  UserWarning,\n"
     ]
    },
    {
     "data": {
      "text/plain": [
       "(0.8343937228394471, 0.31107061472247877)"
      ]
     },
     "execution_count": 62,
     "metadata": {},
     "output_type": "execute_result"
    }
   ],
   "source": [
    "xgb_model_views = XGBRegressor(n_estimators=45, \n",
    "                               max_depth=15, \n",
    "                               eta=0.3, \n",
    "                               #subsample=0.7, \n",
    "                               #colsample_bytree=0.8,\n",
    "                               n_jobs = -1,\n",
    "                               random_state = XGB_RANDOMSEED,\n",
    "                              )\n",
    "\n",
    "xgb_model_views.fit(train[train.columns[4:]], train[['views']],\n",
    "                    early_stopping_rounds=5,\n",
    "                    eval_set=[(val[val.columns[4:]], val[['views']])], \n",
    "                    verbose=False\n",
    "                   )\n",
    "\n",
    "# Get predictions and metrics\n",
    "preds_train_views = xgb_model_views.predict(train[train.columns[4:]])\n",
    "preds_val_views   = xgb_model_views.predict(val[train.columns[4:]])\n",
    "\n",
    "train_score_views = r2_score(train[\"views\"], preds_train_views)\n",
    "val_score_views   = r2_score(val[\"views\"],   preds_val_views)\n",
    "\n",
    "train_score_views, val_score_views"
   ]
  },
  {
   "cell_type": "code",
   "execution_count": 63,
   "id": "2be36485-4382-4162-b906-19fb208cd59d",
   "metadata": {},
   "outputs": [
    {
     "data": {
      "image/png": "[encoded data removed]",
      "text/plain": [
       "<Figure size 2160x1152 with 1 Axes>"
      ]
     },
     "metadata": {
      "needs_background": "light"
     },
     "output_type": "display_data"
    }
   ],
   "source": [
    "plot_importance(xgb_model_views, 30, 'weight')"
   ]
  },
  {
   "cell_type": "code",
   "execution_count": null,
   "id": "bbf569a4-50c2-4cc9-bf79-cb91b2c9fea8",
   "metadata": {},
   "outputs": [],
   "source": []
  },
  {
   "cell_type": "markdown",
   "id": "1fffaf3e-b7f3-4fee-b0b5-988048177ea9",
   "metadata": {},
   "source": [
    "# depth"
   ]
  },
  {
   "cell_type": "code",
   "execution_count": 64,
   "id": "88acfed0-056c-4409-804d-685f57860290",
   "metadata": {},
   "outputs": [],
   "source": [
    "#cv_ntrees = 100\n",
    "\n",
    "xgb_params_depth = {\n",
    "    'booster': 'gbtree',\n",
    "    'objective': 'reg:squarederror',\n",
    "    #'learning_rate': 0.05,\n",
    "    'eta': 0.3,\n",
    "    'max_depth': 15, \n",
    "    #'num_boost_round': 10000, \n",
    "    #'early_stopping_rounds': 100,\n",
    "}\n",
    "dtrain = xgb.DMatrix(train[train.columns[4:]], label=train[['depth']])"
   ]
  },
  {
   "cell_type": "code",
   "execution_count": 65,
   "id": "ed7ea0cb-c011-4c89-8c68-09c2bda46299",
   "metadata": {},
   "outputs": [
    {
     "name": "stdout",
     "output_type": "stream",
     "text": [
      "Wall time: 3.55 s\n"
     ]
    },
    {
     "data": {
      "text/html": [
       "<div>\n",
       "<style scoped>\n",
       "    .dataframe tbody tr th:only-of-type {\n",
       "        vertical-align: middle;\n",
       "    }\n",
       "\n",
       "    .dataframe tbody tr th {\n",
       "        vertical-align: top;\n",
       "    }\n",
       "\n",
       "    .dataframe thead th {\n",
       "        text-align: right;\n",
       "    }\n",
       "</style>\n",
       "<table border=\"1\" class=\"dataframe\">\n",
       "  <thead>\n",
       "    <tr style=\"text-align: right;\">\n",
       "      <th></th>\n",
       "      <th>train-rmse-mean</th>\n",
       "      <th>train-rmse-std</th>\n",
       "      <th>test-rmse-mean</th>\n",
       "      <th>test-rmse-std</th>\n",
       "      <th>train-r2-mean</th>\n",
       "      <th>train-r2-std</th>\n",
       "      <th>test-r2-mean</th>\n",
       "      <th>test-r2-std</th>\n",
       "    </tr>\n",
       "  </thead>\n",
       "  <tbody>\n",
       "    <tr>\n",
       "      <th>95</th>\n",
       "      <td>0.001162</td>\n",
       "      <td>0.000065</td>\n",
       "      <td>0.01268</td>\n",
       "      <td>0.00045</td>\n",
       "      <td>0.999652</td>\n",
       "      <td>0.000037</td>\n",
       "      <td>0.95834</td>\n",
       "      <td>0.00438</td>\n",
       "    </tr>\n",
       "    <tr>\n",
       "      <th>96</th>\n",
       "      <td>0.001162</td>\n",
       "      <td>0.000065</td>\n",
       "      <td>0.01268</td>\n",
       "      <td>0.00045</td>\n",
       "      <td>0.999652</td>\n",
       "      <td>0.000037</td>\n",
       "      <td>0.95834</td>\n",
       "      <td>0.00438</td>\n",
       "    </tr>\n",
       "    <tr>\n",
       "      <th>97</th>\n",
       "      <td>0.001162</td>\n",
       "      <td>0.000065</td>\n",
       "      <td>0.01268</td>\n",
       "      <td>0.00045</td>\n",
       "      <td>0.999652</td>\n",
       "      <td>0.000037</td>\n",
       "      <td>0.95834</td>\n",
       "      <td>0.00438</td>\n",
       "    </tr>\n",
       "    <tr>\n",
       "      <th>98</th>\n",
       "      <td>0.001162</td>\n",
       "      <td>0.000065</td>\n",
       "      <td>0.01268</td>\n",
       "      <td>0.00045</td>\n",
       "      <td>0.999652</td>\n",
       "      <td>0.000037</td>\n",
       "      <td>0.95834</td>\n",
       "      <td>0.00438</td>\n",
       "    </tr>\n",
       "    <tr>\n",
       "      <th>99</th>\n",
       "      <td>0.001162</td>\n",
       "      <td>0.000065</td>\n",
       "      <td>0.01268</td>\n",
       "      <td>0.00045</td>\n",
       "      <td>0.999652</td>\n",
       "      <td>0.000037</td>\n",
       "      <td>0.95834</td>\n",
       "      <td>0.00438</td>\n",
       "    </tr>\n",
       "  </tbody>\n",
       "</table>\n",
       "</div>"
      ],
      "text/plain": [
       "    train-rmse-mean  train-rmse-std  test-rmse-mean  test-rmse-std  \\\n",
       "95         0.001162        0.000065         0.01268        0.00045   \n",
       "96         0.001162        0.000065         0.01268        0.00045   \n",
       "97         0.001162        0.000065         0.01268        0.00045   \n",
       "98         0.001162        0.000065         0.01268        0.00045   \n",
       "99         0.001162        0.000065         0.01268        0.00045   \n",
       "\n",
       "    train-r2-mean  train-r2-std  test-r2-mean  test-r2-std  \n",
       "95       0.999652      0.000037       0.95834      0.00438  \n",
       "96       0.999652      0.000037       0.95834      0.00438  \n",
       "97       0.999652      0.000037       0.95834      0.00438  \n",
       "98       0.999652      0.000037       0.95834      0.00438  \n",
       "99       0.999652      0.000037       0.95834      0.00438  "
      ]
     },
     "execution_count": 65,
     "metadata": {},
     "output_type": "execute_result"
    }
   ],
   "source": [
    "%%time\n",
    "score = xgb.cv(xgb_params_depth, dtrain, cv_ntrees, nfold=5, #early_stopping_rounds=1000,\n",
    "        metrics={'rmse'},\n",
    "        custom_metric = r2,\n",
    "       #callbacks=[xgb.callback.EvaluationMonitor(show_stdv=True)]\n",
    "      )\n",
    "score.tail()"
   ]
  },
  {
   "cell_type": "code",
   "execution_count": 66,
   "id": "568268c1-e14f-47a0-aac8-adc9032bd930",
   "metadata": {},
   "outputs": [
    {
     "data": {
      "text/html": [
       "<div>\n",
       "<style scoped>\n",
       "    .dataframe tbody tr th:only-of-type {\n",
       "        vertical-align: middle;\n",
       "    }\n",
       "\n",
       "    .dataframe tbody tr th {\n",
       "        vertical-align: top;\n",
       "    }\n",
       "\n",
       "    .dataframe thead th {\n",
       "        text-align: right;\n",
       "    }\n",
       "</style>\n",
       "<table border=\"1\" class=\"dataframe\">\n",
       "  <thead>\n",
       "    <tr style=\"text-align: right;\">\n",
       "      <th></th>\n",
       "      <th>train-rmse-mean</th>\n",
       "      <th>train-rmse-std</th>\n",
       "      <th>test-rmse-mean</th>\n",
       "      <th>test-rmse-std</th>\n",
       "      <th>train-r2-mean</th>\n",
       "      <th>train-r2-std</th>\n",
       "      <th>test-r2-mean</th>\n",
       "      <th>test-r2-std</th>\n",
       "    </tr>\n",
       "  </thead>\n",
       "  <tbody>\n",
       "    <tr>\n",
       "      <th>43</th>\n",
       "      <td>0.001162</td>\n",
       "      <td>0.000065</td>\n",
       "      <td>0.012681</td>\n",
       "      <td>0.00045</td>\n",
       "      <td>0.999652</td>\n",
       "      <td>0.000037</td>\n",
       "      <td>0.958339</td>\n",
       "      <td>0.00438</td>\n",
       "    </tr>\n",
       "  </tbody>\n",
       "</table>\n",
       "</div>"
      ],
      "text/plain": [
       "    train-rmse-mean  train-rmse-std  test-rmse-mean  test-rmse-std  \\\n",
       "43         0.001162        0.000065        0.012681        0.00045   \n",
       "\n",
       "    train-r2-mean  train-r2-std  test-r2-mean  test-r2-std  \n",
       "43       0.999652      0.000037      0.958339      0.00438  "
      ]
     },
     "execution_count": 66,
     "metadata": {},
     "output_type": "execute_result"
    }
   ],
   "source": [
    "score[score['train-r2-mean'] == score['train-r2-mean'].max()][:1]"
   ]
  },
  {
   "cell_type": "code",
   "execution_count": 67,
   "id": "5c7ee168-75ed-465c-856d-45a1c46bea97",
   "metadata": {},
   "outputs": [
    {
     "data": {
      "text/html": [
       "<div>\n",
       "<style scoped>\n",
       "    .dataframe tbody tr th:only-of-type {\n",
       "        vertical-align: middle;\n",
       "    }\n",
       "\n",
       "    .dataframe tbody tr th {\n",
       "        vertical-align: top;\n",
       "    }\n",
       "\n",
       "    .dataframe thead th {\n",
       "        text-align: right;\n",
       "    }\n",
       "</style>\n",
       "<table border=\"1\" class=\"dataframe\">\n",
       "  <thead>\n",
       "    <tr style=\"text-align: right;\">\n",
       "      <th></th>\n",
       "      <th>train-rmse-mean</th>\n",
       "      <th>train-rmse-std</th>\n",
       "      <th>test-rmse-mean</th>\n",
       "      <th>test-rmse-std</th>\n",
       "      <th>train-r2-mean</th>\n",
       "      <th>train-r2-std</th>\n",
       "      <th>test-r2-mean</th>\n",
       "      <th>test-r2-std</th>\n",
       "    </tr>\n",
       "  </thead>\n",
       "  <tbody>\n",
       "    <tr>\n",
       "      <th>24</th>\n",
       "      <td>0.002295</td>\n",
       "      <td>0.000154</td>\n",
       "      <td>0.012651</td>\n",
       "      <td>0.00045</td>\n",
       "      <td>0.998639</td>\n",
       "      <td>0.000184</td>\n",
       "      <td>0.958535</td>\n",
       "      <td>0.00437</td>\n",
       "    </tr>\n",
       "  </tbody>\n",
       "</table>\n",
       "</div>"
      ],
      "text/plain": [
       "    train-rmse-mean  train-rmse-std  test-rmse-mean  test-rmse-std  \\\n",
       "24         0.002295        0.000154        0.012651        0.00045   \n",
       "\n",
       "    train-r2-mean  train-r2-std  test-r2-mean  test-r2-std  \n",
       "24       0.998639      0.000184      0.958535      0.00437  "
      ]
     },
     "execution_count": 67,
     "metadata": {},
     "output_type": "execute_result"
    }
   ],
   "source": [
    "score[score['test-r2-mean'] == score['test-r2-mean'].max()][:1]"
   ]
  },
  {
   "cell_type": "code",
   "execution_count": null,
   "id": "a4b88d11-e0b8-4c1d-9876-a59504bdd3f0",
   "metadata": {},
   "outputs": [],
   "source": []
  },
  {
   "cell_type": "code",
   "execution_count": 68,
   "id": "2929ee18-ce94-4a13-88b4-07f2a109b9a4",
   "metadata": {},
   "outputs": [
    {
     "name": "stderr",
     "output_type": "stream",
     "text": [
      "C:\\Users\\_v010ch_\\Anaconda3\\lib\\site-packages\\xgboost\\sklearn.py:797: UserWarning: `early_stopping_rounds` in `fit` method is deprecated for better compatibility with scikit-learn, use `early_stopping_rounds` in constructor or`set_params` instead.\n",
      "  UserWarning,\n"
     ]
    },
    {
     "data": {
      "text/plain": [
       "(0.9919740199746253, 0.771698906687095)"
      ]
     },
     "execution_count": 68,
     "metadata": {},
     "output_type": "execute_result"
    }
   ],
   "source": [
    "xgb_model_depth = XGBRegressor(n_estimators=45, \n",
    "                               max_depth=15, \n",
    "                               eta=0.3, \n",
    "                               #subsample=0.7, \n",
    "                               #colsample_bytree=0.8,\n",
    "                               n_jobs = -1,\n",
    "                               random_state = XGB_RANDOMSEED,\n",
    "                              )\n",
    "\n",
    "xgb_model_depth.fit(train[train.columns[4:]], train[['depth']],\n",
    "                    early_stopping_rounds=5,\n",
    "                    eval_set=[(val[val.columns[4:]], val[['depth']])], \n",
    "                    verbose=False\n",
    "                   )\n",
    "\n",
    "# Get predictions and metrics\n",
    "preds_train_depth = xgb_model_depth.predict(train[train.columns[4:]])\n",
    "preds_val_depth   = xgb_model_depth.predict(val[train.columns[4:]])\n",
    "\n",
    "train_score_depth = r2_score(train[\"depth\"], preds_train_depth)\n",
    "val_score_depth   = r2_score(val[\"depth\"],   preds_val_depth)\n",
    "\n",
    "train_score_depth, val_score_depth"
   ]
  },
  {
   "cell_type": "code",
   "execution_count": null,
   "id": "ab50ee07-5175-4f0f-9e32-91c2561cae0e",
   "metadata": {},
   "outputs": [],
   "source": []
  },
  {
   "cell_type": "code",
   "execution_count": null,
   "id": "63719785-3821-44c2-8278-e6826a0e6206",
   "metadata": {},
   "outputs": [],
   "source": []
  },
  {
   "cell_type": "markdown",
   "id": "9a08a201-3a65-4f26-9273-064b30d652fc",
   "metadata": {},
   "source": [
    "# full_reads_percent"
   ]
  },
  {
   "cell_type": "code",
   "execution_count": 69,
   "id": "143ba79a-42b4-493b-83b7-23113155682c",
   "metadata": {},
   "outputs": [],
   "source": [
    "#cv_ntrees = 100\n",
    "\n",
    "xgb_params_frp = {\n",
    "    'booster': 'gbtree',\n",
    "    'objective': 'reg:squarederror',\n",
    "    #'learning_rate': 0.05,\n",
    "    'eta': 0.3,\n",
    "    'max_depth': 15, \n",
    "    #'num_boost_round': 10000, \n",
    "    #'early_stopping_rounds': 100,\n",
    "}\n",
    "dtrain = xgb.DMatrix(train[train.columns[4:]], label=train[['full_reads_percent']])"
   ]
  },
  {
   "cell_type": "code",
   "execution_count": 70,
   "id": "ca2798ac-5033-41c8-88eb-56dd1bc6fa52",
   "metadata": {},
   "outputs": [
    {
     "name": "stdout",
     "output_type": "stream",
     "text": [
      "Wall time: 6.48 s\n"
     ]
    },
    {
     "data": {
      "text/html": [
       "<div>\n",
       "<style scoped>\n",
       "    .dataframe tbody tr th:only-of-type {\n",
       "        vertical-align: middle;\n",
       "    }\n",
       "\n",
       "    .dataframe tbody tr th {\n",
       "        vertical-align: top;\n",
       "    }\n",
       "\n",
       "    .dataframe thead th {\n",
       "        text-align: right;\n",
       "    }\n",
       "</style>\n",
       "<table border=\"1\" class=\"dataframe\">\n",
       "  <thead>\n",
       "    <tr style=\"text-align: right;\">\n",
       "      <th></th>\n",
       "      <th>train-rmse-mean</th>\n",
       "      <th>train-rmse-std</th>\n",
       "      <th>test-rmse-mean</th>\n",
       "      <th>test-rmse-std</th>\n",
       "      <th>train-r2-mean</th>\n",
       "      <th>train-r2-std</th>\n",
       "      <th>test-r2-mean</th>\n",
       "      <th>test-r2-std</th>\n",
       "    </tr>\n",
       "  </thead>\n",
       "  <tbody>\n",
       "    <tr>\n",
       "      <th>95</th>\n",
       "      <td>0.075258</td>\n",
       "      <td>0.017332</td>\n",
       "      <td>3.345804</td>\n",
       "      <td>0.076834</td>\n",
       "      <td>0.999942</td>\n",
       "      <td>0.000025</td>\n",
       "      <td>0.890576</td>\n",
       "      <td>0.006483</td>\n",
       "    </tr>\n",
       "    <tr>\n",
       "      <th>96</th>\n",
       "      <td>0.075098</td>\n",
       "      <td>0.017347</td>\n",
       "      <td>3.345816</td>\n",
       "      <td>0.076859</td>\n",
       "      <td>0.999942</td>\n",
       "      <td>0.000025</td>\n",
       "      <td>0.890575</td>\n",
       "      <td>0.006484</td>\n",
       "    </tr>\n",
       "    <tr>\n",
       "      <th>97</th>\n",
       "      <td>0.074946</td>\n",
       "      <td>0.017306</td>\n",
       "      <td>3.345889</td>\n",
       "      <td>0.076879</td>\n",
       "      <td>0.999942</td>\n",
       "      <td>0.000025</td>\n",
       "      <td>0.890570</td>\n",
       "      <td>0.006485</td>\n",
       "    </tr>\n",
       "    <tr>\n",
       "      <th>98</th>\n",
       "      <td>0.074835</td>\n",
       "      <td>0.017332</td>\n",
       "      <td>3.345892</td>\n",
       "      <td>0.076847</td>\n",
       "      <td>0.999942</td>\n",
       "      <td>0.000025</td>\n",
       "      <td>0.890570</td>\n",
       "      <td>0.006483</td>\n",
       "    </tr>\n",
       "    <tr>\n",
       "      <th>99</th>\n",
       "      <td>0.074718</td>\n",
       "      <td>0.017345</td>\n",
       "      <td>3.345885</td>\n",
       "      <td>0.076851</td>\n",
       "      <td>0.999943</td>\n",
       "      <td>0.000024</td>\n",
       "      <td>0.890570</td>\n",
       "      <td>0.006483</td>\n",
       "    </tr>\n",
       "  </tbody>\n",
       "</table>\n",
       "</div>"
      ],
      "text/plain": [
       "    train-rmse-mean  train-rmse-std  test-rmse-mean  test-rmse-std  \\\n",
       "95         0.075258        0.017332        3.345804       0.076834   \n",
       "96         0.075098        0.017347        3.345816       0.076859   \n",
       "97         0.074946        0.017306        3.345889       0.076879   \n",
       "98         0.074835        0.017332        3.345892       0.076847   \n",
       "99         0.074718        0.017345        3.345885       0.076851   \n",
       "\n",
       "    train-r2-mean  train-r2-std  test-r2-mean  test-r2-std  \n",
       "95       0.999942      0.000025      0.890576     0.006483  \n",
       "96       0.999942      0.000025      0.890575     0.006484  \n",
       "97       0.999942      0.000025      0.890570     0.006485  \n",
       "98       0.999942      0.000025      0.890570     0.006483  \n",
       "99       0.999943      0.000024      0.890570     0.006483  "
      ]
     },
     "execution_count": 70,
     "metadata": {},
     "output_type": "execute_result"
    }
   ],
   "source": [
    "%%time\n",
    "score = xgb.cv(xgb_params_frp, dtrain, cv_ntrees, nfold=5, #early_stopping_rounds=1000,\n",
    "        metrics={'rmse'},\n",
    "        custom_metric = r2,\n",
    "       #callbacks=[xgb.callback.EvaluationMonitor(show_stdv=True)]\n",
    "      )\n",
    "score.tail()"
   ]
  },
  {
   "cell_type": "code",
   "execution_count": 71,
   "id": "943e4b87-2851-4b55-9715-05a7904d6599",
   "metadata": {},
   "outputs": [
    {
     "data": {
      "text/html": [
       "<div>\n",
       "<style scoped>\n",
       "    .dataframe tbody tr th:only-of-type {\n",
       "        vertical-align: middle;\n",
       "    }\n",
       "\n",
       "    .dataframe tbody tr th {\n",
       "        vertical-align: top;\n",
       "    }\n",
       "\n",
       "    .dataframe thead th {\n",
       "        text-align: right;\n",
       "    }\n",
       "</style>\n",
       "<table border=\"1\" class=\"dataframe\">\n",
       "  <thead>\n",
       "    <tr style=\"text-align: right;\">\n",
       "      <th></th>\n",
       "      <th>train-rmse-mean</th>\n",
       "      <th>train-rmse-std</th>\n",
       "      <th>test-rmse-mean</th>\n",
       "      <th>test-rmse-std</th>\n",
       "      <th>train-r2-mean</th>\n",
       "      <th>train-r2-std</th>\n",
       "      <th>test-r2-mean</th>\n",
       "      <th>test-r2-std</th>\n",
       "    </tr>\n",
       "  </thead>\n",
       "  <tbody>\n",
       "    <tr>\n",
       "      <th>99</th>\n",
       "      <td>0.074718</td>\n",
       "      <td>0.017345</td>\n",
       "      <td>3.345885</td>\n",
       "      <td>0.076851</td>\n",
       "      <td>0.999943</td>\n",
       "      <td>0.000024</td>\n",
       "      <td>0.89057</td>\n",
       "      <td>0.006483</td>\n",
       "    </tr>\n",
       "  </tbody>\n",
       "</table>\n",
       "</div>"
      ],
      "text/plain": [
       "    train-rmse-mean  train-rmse-std  test-rmse-mean  test-rmse-std  \\\n",
       "99         0.074718        0.017345        3.345885       0.076851   \n",
       "\n",
       "    train-r2-mean  train-r2-std  test-r2-mean  test-r2-std  \n",
       "99       0.999943      0.000024       0.89057     0.006483  "
      ]
     },
     "execution_count": 71,
     "metadata": {},
     "output_type": "execute_result"
    }
   ],
   "source": [
    "score[score['train-r2-mean'] == score['train-r2-mean'].max()][:1]"
   ]
  },
  {
   "cell_type": "code",
   "execution_count": 72,
   "id": "f8808cb8-8894-4896-9e2a-f43278413084",
   "metadata": {},
   "outputs": [
    {
     "data": {
      "text/html": [
       "<div>\n",
       "<style scoped>\n",
       "    .dataframe tbody tr th:only-of-type {\n",
       "        vertical-align: middle;\n",
       "    }\n",
       "\n",
       "    .dataframe tbody tr th {\n",
       "        vertical-align: top;\n",
       "    }\n",
       "\n",
       "    .dataframe thead th {\n",
       "        text-align: right;\n",
       "    }\n",
       "</style>\n",
       "<table border=\"1\" class=\"dataframe\">\n",
       "  <thead>\n",
       "    <tr style=\"text-align: right;\">\n",
       "      <th></th>\n",
       "      <th>train-rmse-mean</th>\n",
       "      <th>train-rmse-std</th>\n",
       "      <th>test-rmse-mean</th>\n",
       "      <th>test-rmse-std</th>\n",
       "      <th>train-r2-mean</th>\n",
       "      <th>train-r2-std</th>\n",
       "      <th>test-r2-mean</th>\n",
       "      <th>test-r2-std</th>\n",
       "    </tr>\n",
       "  </thead>\n",
       "  <tbody>\n",
       "    <tr>\n",
       "      <th>15</th>\n",
       "      <td>0.794656</td>\n",
       "      <td>0.037354</td>\n",
       "      <td>3.331409</td>\n",
       "      <td>0.080676</td>\n",
       "      <td>0.993823</td>\n",
       "      <td>0.000619</td>\n",
       "      <td>0.891516</td>\n",
       "      <td>0.006504</td>\n",
       "    </tr>\n",
       "  </tbody>\n",
       "</table>\n",
       "</div>"
      ],
      "text/plain": [
       "    train-rmse-mean  train-rmse-std  test-rmse-mean  test-rmse-std  \\\n",
       "15         0.794656        0.037354        3.331409       0.080676   \n",
       "\n",
       "    train-r2-mean  train-r2-std  test-r2-mean  test-r2-std  \n",
       "15       0.993823      0.000619      0.891516     0.006504  "
      ]
     },
     "execution_count": 72,
     "metadata": {},
     "output_type": "execute_result"
    }
   ],
   "source": [
    "score[score['test-r2-mean'] == score['test-r2-mean'].max()][:1]"
   ]
  },
  {
   "cell_type": "code",
   "execution_count": null,
   "id": "32e97b21-9940-4d5e-8137-86e55d1cf99c",
   "metadata": {},
   "outputs": [],
   "source": []
  },
  {
   "cell_type": "code",
   "execution_count": 73,
   "id": "43b760cc-2760-4453-af39-90f0326f9a6b",
   "metadata": {},
   "outputs": [
    {
     "name": "stderr",
     "output_type": "stream",
     "text": [
      "C:\\Users\\_v010ch_\\Anaconda3\\lib\\site-packages\\xgboost\\sklearn.py:797: UserWarning: `early_stopping_rounds` in `fit` method is deprecated for better compatibility with scikit-learn, use `early_stopping_rounds` in constructor or`set_params` instead.\n",
      "  UserWarning,\n"
     ]
    },
    {
     "data": {
      "text/plain": [
       "(0.9858559958099626, 0.42855295708911034)"
      ]
     },
     "execution_count": 73,
     "metadata": {},
     "output_type": "execute_result"
    }
   ],
   "source": [
    "xgb_model_frp = XGBRegressor(n_estimators=45, \n",
    "                               max_depth=15, \n",
    "                               eta=0.3, \n",
    "                               #subsample=0.7, \n",
    "                               #colsample_bytree=0.8,\n",
    "                               n_jobs = -1,\n",
    "                               random_state = XGB_RANDOMSEED,\n",
    "                              )\n",
    "\n",
    "xgb_model_frp.fit(train[train.columns[4:]], train[['full_reads_percent']],\n",
    "                    early_stopping_rounds=5,\n",
    "                    eval_set=[(val[val.columns[4:]], val[['full_reads_percent']])], \n",
    "                    verbose=False\n",
    "                   )\n",
    "\n",
    "# Get predictions and metrics\n",
    "preds_train_frp = xgb_model_frp.predict(train[train.columns[4:]])\n",
    "preds_val_frp   = xgb_model_frp.predict(val[train.columns[4:]])\n",
    "\n",
    "train_score_frp = r2_score(train[\"full_reads_percent\"], preds_train_frp)\n",
    "val_score_frp   = r2_score(val[\"full_reads_percent\"],   preds_val_frp)\n",
    "\n",
    "train_score_frp, val_score_frp"
   ]
  },
  {
   "cell_type": "code",
   "execution_count": null,
   "id": "64041ef0-f62c-465a-8655-f50e6546b40c",
   "metadata": {},
   "outputs": [],
   "source": []
  },
  {
   "cell_type": "code",
   "execution_count": null,
   "id": "5997be38-cc31-4de4-aaa5-36dd8d51783e",
   "metadata": {},
   "outputs": [],
   "source": []
  },
  {
   "cell_type": "code",
   "execution_count": null,
   "id": "955ce5f3-edc6-4698-9963-fd1baa63c2e2",
   "metadata": {},
   "outputs": [],
   "source": []
  },
  {
   "cell_type": "code",
   "execution_count": null,
   "id": "23a1fb9f-3fe9-4d58-8815-9ee4973b7167",
   "metadata": {},
   "outputs": [],
   "source": []
  },
  {
   "cell_type": "code",
   "execution_count": null,
   "id": "d3dfa835-78f4-4276-931e-730f6814b1d0",
   "metadata": {},
   "outputs": [],
   "source": []
  },
  {
   "cell_type": "code",
   "execution_count": 10,
   "id": "16d24fa6-305f-4464-b94f-78dc1b8165e7",
   "metadata": {},
   "outputs": [],
   "source": [
    "def plot_corrc(inp_df, inp_cols, targ_cols = ['views', 'depth', 'full_reads_percent']):\n",
    "    f, ax = plt.subplots(1, 2, figsize=(24, 8))\n",
    "    sns.heatmap(inp_df[inp_cols + targ_cols].corr(), \n",
    "    #sns.heatmap(inp_df.query('c2 == 0')[inp_cols + targ_cols].corr(), \n",
    "                annot = True, cmap= 'coolwarm', linewidths=3, linecolor='black', ax = ax[0])\n",
    "    sns.heatmap(inp_df[inp_cols + targ_cols].corr(method = 'spearman'), \n",
    "    #sns.heatmap(inp_df.query('c2 == 1')[inp_cols + targ_cols].corr(), \n",
    "                annot = True, cmap= 'coolwarm', linewidths=3, linecolor='black', ax = ax[1])\n",
    "#    sns.heatmap(inp_df.query('c2 == 0')[inp_cols + targ_cols].corr(method = 'spearman'), \n",
    "#                annot = True, cmap= 'coolwarm', linewidths=3, linecolor='black', ax = ax[1, 0])\n",
    "#    sns.heatmap(inp_df.query('c2 == 1')[inp_cols + targ_cols].corr(method = 'spearman'), \n",
    "#                annot = True, cmap= 'coolwarm', linewidths=3, linecolor='black', ax = ax[1, 1])\n",
    "    \n",
    "    sns.pairplot(inp_df[inp_cols + targ_cols], height = 16,) #hue = 'c2')"
   ]
  },
  {
   "cell_type": "code",
   "execution_count": 11,
   "id": "59f95b46-277c-4594-af3d-598dd2e7e83e",
   "metadata": {},
   "outputs": [],
   "source": [
    "#plot_corrc(train, ['views'], ['views_pred_cb'])\n",
    "#plot_corrc(train, ['views'], ['views_pred_xgb'])\n",
    "#plot_corrc(train, ['views'], ['views_pred_lgb'])"
   ]
  },
  {
   "cell_type": "code",
   "execution_count": 75,
   "id": "97f641c6-6db2-472c-903a-83c343c1c0bf",
   "metadata": {},
   "outputs": [
    {
     "ename": "NameError",
     "evalue": "name 'plot_corrc' is not defined",
     "output_type": "error",
     "traceback": [
      "\u001b[1;31m---------------------------------------------------------------------------\u001b[0m",
      "\u001b[1;31mNameError\u001b[0m                                 Traceback (most recent call last)",
      "\u001b[1;32m<ipython-input-75-9a4e253ab307>\u001b[0m in \u001b[0;36m<module>\u001b[1;34m\u001b[0m\n\u001b[0;32m      1\u001b[0m \u001b[1;31m#plot_corrc(train, ['depth'], ['depth_pred_cb'])\u001b[0m\u001b[1;33m\u001b[0m\u001b[1;33m\u001b[0m\u001b[1;33m\u001b[0m\u001b[0m\n\u001b[1;32m----> 2\u001b[1;33m \u001b[0mplot_corrc\u001b[0m\u001b[1;33m(\u001b[0m\u001b[0mtrain\u001b[0m\u001b[1;33m,\u001b[0m \u001b[1;33m[\u001b[0m\u001b[1;34m'depth'\u001b[0m\u001b[1;33m]\u001b[0m\u001b[1;33m,\u001b[0m \u001b[1;33m[\u001b[0m\u001b[1;34m'depth_pred_xgb'\u001b[0m\u001b[1;33m]\u001b[0m\u001b[1;33m)\u001b[0m\u001b[1;33m\u001b[0m\u001b[1;33m\u001b[0m\u001b[0m\n\u001b[0m\u001b[0;32m      3\u001b[0m \u001b[1;31m#plot_corrc(train, ['depth'], ['depth_pred_lgb'])\u001b[0m\u001b[1;33m\u001b[0m\u001b[1;33m\u001b[0m\u001b[1;33m\u001b[0m\u001b[0m\n",
      "\u001b[1;31mNameError\u001b[0m: name 'plot_corrc' is not defined"
     ]
    }
   ],
   "source": [
    "#plot_corrc(train, ['depth'], ['depth_pred_cb'])\n",
    "plot_corrc(train, ['depth'], ['depth_pred_xgb'])\n",
    "#plot_corrc(train, ['depth'], ['depth_pred_lgb'])"
   ]
  },
  {
   "cell_type": "code",
   "execution_count": null,
   "id": "480dd361-2f2b-4b0f-b66b-c1ad58452ae3",
   "metadata": {},
   "outputs": [],
   "source": []
  }
 ],
 "metadata": {
  "kernelspec": {
   "display_name": "Python 3",
   "language": "python",
   "name": "python3"
  },
  "language_info": {
   "codemirror_mode": {
    "name": "ipython",
    "version": 3
   },
   "file_extension": ".py",
   "mimetype": "text/x-python",
   "name": "python",
   "nbconvert_exporter": "python",
   "pygments_lexer": "ipython3",
   "version": "3.7.10"
  }
 },
 "nbformat": 4,
 "nbformat_minor": 5
}
