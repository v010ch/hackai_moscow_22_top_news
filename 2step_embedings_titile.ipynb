{
 "cells": [
  {
   "cell_type": "raw",
   "id": "f1c649d6-4c5f-4cb1-9c08-e952917931cd",
   "metadata": {},
   "source": []
  },
  {
   "cell_type": "code",
   "execution_count": null,
   "id": "6e810963-65eb-4b4d-bb7a-a7c0e33d2151",
   "metadata": {},
   "outputs": [],
   "source": [
    "import os\n",
    "import pickle as pkl\n",
    "\n",
    "import numpy as np\n",
    "import pandas as pd\n",
    "\n",
    "import re\n",
    "from tqdm import tqdm\n",
    "from tqdm.auto import tqdm  # for notebooks\n",
    "tqdm.pandas()"
   ]
  },
  {
   "cell_type": "code",
   "execution_count": null,
   "id": "11129389-5cb8-48ad-9fc2-91a9764d02b7",
   "metadata": {},
   "outputs": [],
   "source": [
    "import torch\n",
    "#$from transformers import AutoModelForSequenceClassification\n",
    "#from transformers import BertTokenizerFast\n",
    "#from transformers import AutoTokenizer\n",
    "#from transformers import Trainer, TrainingArguments\n",
    "\n",
    "from transformers import AutoTokenizer, AutoModel"
   ]
  },
  {
   "cell_type": "code",
   "execution_count": null,
   "id": "64cb53ee-4b29-47a3-add2-b0d90dd27bfe",
   "metadata": {},
   "outputs": [],
   "source": []
  },
  {
   "cell_type": "code",
   "execution_count": null,
   "id": "652c4abd-e819-4ff9-add6-7f2b0093f36a",
   "metadata": {},
   "outputs": [],
   "source": [
    "DIR_DATA  = os.path.join(os.getcwd(), 'data')"
   ]
  },
  {
   "cell_type": "code",
   "execution_count": null,
   "id": "643e4489-dd22-4424-91dc-dd64747a84fa",
   "metadata": {},
   "outputs": [],
   "source": [
    "#MUSE, sbert_large_mt_nlu_ru и rubert-base-cased-sentence"
   ]
  },
  {
   "cell_type": "markdown",
   "id": "57dbe8b9-7199-412a-a83d-dc4ca40b1470",
   "metadata": {},
   "source": [
    "## Prepare data"
   ]
  },
  {
   "cell_type": "code",
   "execution_count": null,
   "id": "668e7928-c2a2-4ae7-81dd-5030382018b9",
   "metadata": {},
   "outputs": [],
   "source": [
    "df_train = pd.read_csv(os.path.join(DIR_DATA, 'train_extended.csv'))#, index_col= 0)\n",
    "df_test  = pd.read_csv(os.path.join(DIR_DATA, 'test_extended.csv'))#, index_col= 0)"
   ]
  },
  {
   "cell_type": "code",
   "execution_count": null,
   "id": "fac10c41-28fa-4d1b-bfce-3b89dd0dcffe",
   "metadata": {},
   "outputs": [],
   "source": [
    "# sberbank-ai/sbert_large_mt_nlu_ru       1024  1.71Gb\n",
    "# DeepPavlov/rubert-base-cased-sentence   768   0.7Gb\n",
    "# DeepPavlov/rubert-base-cased-conversational  768\n",
    "# DeepPavlov/rubert-base-cased            768\n",
    "# sberbank-ai/sbert_large_nlu_ru          1024  1.71Gb"
   ]
  },
  {
   "cell_type": "code",
   "execution_count": null,
   "id": "2e47016d-d69f-4f86-a3a4-dae2ffbd0f8b",
   "metadata": {},
   "outputs": [],
   "source": []
  },
  {
   "cell_type": "code",
   "execution_count": null,
   "id": "71e8bb7a-74a6-4b77-86a4-a1e417a8bb4a",
   "metadata": {},
   "outputs": [],
   "source": [
    "# should try and without it\n",
    "clean_text = lambda x:' '.join(re.sub('\\n|\\r|\\t|[^а-я]', ' ', x.lower()).split())"
   ]
  },
  {
   "cell_type": "code",
   "execution_count": null,
   "id": "2f3b8301-9542-4eff-97c6-6630e52932ae",
   "metadata": {},
   "outputs": [],
   "source": [
    "x = clean_text(df_train.title[0])"
   ]
  },
  {
   "cell_type": "code",
   "execution_count": null,
   "id": "24ed9069-5a7b-4138-81bf-cd1fe2bfbf70",
   "metadata": {},
   "outputs": [],
   "source": [
    "x"
   ]
  },
  {
   "cell_type": "code",
   "execution_count": null,
   "id": "a088a3a1-4ec5-43c8-9562-1f1204aec54a",
   "metadata": {},
   "outputs": [],
   "source": [
    "#dir(model)"
   ]
  },
  {
   "cell_type": "markdown",
   "id": "6206673f-b9cf-4a1e-93aa-0608a203621c",
   "metadata": {},
   "source": [
    "## Load model"
   ]
  },
  {
   "cell_type": "code",
   "execution_count": null,
   "id": "1b7e6e5b-4596-4951-8329-d9dd407d6abf",
   "metadata": {},
   "outputs": [],
   "source": [
    "#PRE_TRAINED_MODEL_NAME = 'blanchefort/rubert-base-cased-sentiment-rurewiews'\n",
    "#MODEL_FOLDER = 'ru-blanchefort-rurewiews2'\n",
    "\n",
    "#'DeepPavlov/rubert-base-cased-sentence'\n",
    "#'sberbank-ai/sbert_large_mt_nlu_ru'\n",
    "\n",
    "PRE_TRAINED_MODEL_NAME = 'DeepPavlov/rubert-base-cased-sentence'\n",
    "MODEL_FOLDER = 'rubert-base-cased-sentence'\n",
    "\n",
    "\n",
    "MAX_LENGTH = 24"
   ]
  },
  {
   "cell_type": "code",
   "execution_count": null,
   "id": "c700e26f-0511-4ab0-9af6-921db20a0b2f",
   "metadata": {},
   "outputs": [],
   "source": [
    "tokenizer = AutoTokenizer.from_pretrained(PRE_TRAINED_MODEL_NAME)\n",
    "model = AutoModel.from_pretrained(PRE_TRAINED_MODEL_NAME)\n",
    "\n",
    "\n",
    "#tokenizer = AutoTokenizer.from_pretrained(PRE_TRAINED_MODEL_NAME)\n",
    "\n",
    "#train_tokens = tokenizer(list(train.values), truncation=True, padding=True, max_length=MAX_LENGTH)\n",
    "#test_tokens = tokenizer(list(test.values), truncation=True, padding=True, max_length=MAX_LENGTH)\n",
    "\n",
    "#model = AutoModelForSequenceClassification.from_pretrained(PRE_TRAINED_MODEL_NAME,) "
   ]
  },
  {
   "cell_type": "code",
   "execution_count": null,
   "id": "e4cdd8de-5ab2-4dbd-918f-bdc5672cd2ff",
   "metadata": {},
   "outputs": [],
   "source": [
    "#Mean Pooling - Take attention mask into account for correct averaging\n",
    "def mean_pooling(model_output, attention_mask):\n",
    "    token_embeddings = model_output[0] #First element of model_output contains all token embeddings\n",
    "    input_mask_expanded = attention_mask.unsqueeze(-1).expand(token_embeddings.size()).float()\n",
    "    sum_embeddings = torch.sum(token_embeddings * input_mask_expanded, 1)\n",
    "    sum_mask = torch.clamp(input_mask_expanded.sum(1), min=1e-9)\n",
    "    return sum_embeddings / sum_mask"
   ]
  },
  {
   "cell_type": "code",
   "execution_count": null,
   "id": "c3d07891-e95f-4721-b6c1-68e3dc97b4ea",
   "metadata": {},
   "outputs": [],
   "source": []
  },
  {
   "cell_type": "code",
   "execution_count": null,
   "id": "0f9e8027-3003-4e11-a08c-f78c319bb040",
   "metadata": {},
   "outputs": [],
   "source": [
    "def ttl_to_emb(inp_text):\n",
    "    encoded_input = tokenizer(inp_text, padding=True, truncation=True, max_length=MAX_LENGTH, return_tensors='pt')\n",
    "\n",
    "    #Compute token embeddings\n",
    "    with torch.no_grad():\n",
    "        model_output = model(**encoded_input)\n",
    "\n",
    "    sentence_embeddings = mean_pooling(model_output, encoded_input['attention_mask'])\n",
    "    \n",
    "    return sentence_embeddings[0].cpu().detach().numpy()"
   ]
  },
  {
   "cell_type": "markdown",
   "id": "bb622d2f-479f-483e-8bff-757cc6a0addc",
   "metadata": {},
   "source": [
    "## Make embedings for titles. Train"
   ]
  },
  {
   "cell_type": "code",
   "execution_count": null,
   "id": "a0cb3858-6e22-444c-ac8f-0022c4465c04",
   "metadata": {},
   "outputs": [],
   "source": [
    "df_train = df_train[['document_id', 'title']]"
   ]
  },
  {
   "cell_type": "code",
   "execution_count": null,
   "id": "a018ed84-858e-4fad-b2c6-52faa86aacb5",
   "metadata": {},
   "outputs": [],
   "source": [
    "df_train['ttl_emb'] = df_train.title.progress_apply(lambda x: ttl_to_emb(x))"
   ]
  },
  {
   "cell_type": "code",
   "execution_count": null,
   "id": "30703bb2-1698-4496-ad9f-9f82841582f6",
   "metadata": {},
   "outputs": [],
   "source": [
    "col_names = [f'tt_emb{idx}' for idx in range(df_train.ttl_emb[0].shape[0])]\n",
    "emb_train = pd.DataFrame(df_train.ttl_emb.to_list(), columns = col_names)"
   ]
  },
  {
   "cell_type": "code",
   "execution_count": null,
   "id": "b29c12cb-f8f4-4ee9-b558-a7e17fc37060",
   "metadata": {},
   "outputs": [],
   "source": [
    "df_train = pd.concat([df_train, emb_train], axis=1)"
   ]
  },
  {
   "cell_type": "code",
   "execution_count": null,
   "id": "6bf1b66f-d3a5-4d5e-b05a-c0b5bcefa90a",
   "metadata": {},
   "outputs": [],
   "source": [
    "df_train.drop('ttl_emb', axis = 1, inplace = True)"
   ]
  },
  {
   "cell_type": "code",
   "execution_count": null,
   "id": "894f131a-d51e-4068-9a1d-2ec163960a5d",
   "metadata": {},
   "outputs": [],
   "source": [
    "df_train.head(3)"
   ]
  },
  {
   "cell_type": "code",
   "execution_count": null,
   "id": "e579438f-3ab3-4e11-ad87-3d43c57dab8d",
   "metadata": {},
   "outputs": [],
   "source": [
    "df_train.to_csv(os.path.join(DIR_DATA, f'ttl_emb_train_{MODEL_FOLDER}_{MAX_LENGTH}.csv'), index = False)"
   ]
  },
  {
   "cell_type": "code",
   "execution_count": null,
   "id": "7692b59e-02a9-431e-aaee-e3572b02e0d6",
   "metadata": {},
   "outputs": [],
   "source": []
  },
  {
   "cell_type": "code",
   "execution_count": null,
   "id": "132f3cf5-509f-479b-b1ce-aaa465f387d2",
   "metadata": {},
   "outputs": [],
   "source": []
  },
  {
   "cell_type": "markdown",
   "id": "599c518e-6d80-49f7-a1bd-e0384650670c",
   "metadata": {},
   "source": [
    "## Same with test"
   ]
  },
  {
   "cell_type": "code",
   "execution_count": null,
   "id": "c36712fb-a498-43ed-a783-952037558418",
   "metadata": {},
   "outputs": [],
   "source": [
    "df_test = df_test[['document_id', 'title']]"
   ]
  },
  {
   "cell_type": "code",
   "execution_count": null,
   "id": "e7f1a27b-ba7d-45c8-89ad-ba046e7c024b",
   "metadata": {},
   "outputs": [],
   "source": [
    "df_test['ttl_emb'] = df_test.title.progress_apply(lambda x: ttl_to_emb(x))"
   ]
  },
  {
   "cell_type": "code",
   "execution_count": null,
   "id": "b7c4eb72-e01a-48d7-9697-29c17cbab2b8",
   "metadata": {},
   "outputs": [],
   "source": [
    "col_names = [f'tt_emb{idx}' for idx in range(df_test.ttl_emb[0].shape[0])]\n",
    "emb_test = pd.DataFrame(df_test.ttl_emb.to_list(), columns = col_names)"
   ]
  },
  {
   "cell_type": "code",
   "execution_count": null,
   "id": "8f1e30f1-85a6-49f0-8fed-d066cb75c174",
   "metadata": {},
   "outputs": [],
   "source": [
    "df_test = pd.concat([df_test, emb_test], axis=1)"
   ]
  },
  {
   "cell_type": "code",
   "execution_count": null,
   "id": "822e2ce0-7ab9-42b3-a842-93ca366922e0",
   "metadata": {},
   "outputs": [],
   "source": [
    "df_test.drop('ttl_emb', axis = 1, inplace = True)"
   ]
  },
  {
   "cell_type": "code",
   "execution_count": null,
   "id": "d1ac7e8a-b9e2-40e2-98f0-bd69a31fe718",
   "metadata": {},
   "outputs": [],
   "source": [
    "df_test.shape"
   ]
  },
  {
   "cell_type": "code",
   "execution_count": null,
   "id": "66514498-9f86-40f8-82fb-8b2c4a859178",
   "metadata": {},
   "outputs": [],
   "source": [
    "df_test.to_csv(os.path.join(DIR_DATA, f'ttl_emb_test_{MODEL_FOLDER}_{MAX_LENGTH}.csv'), index = False)"
   ]
  },
  {
   "cell_type": "code",
   "execution_count": null,
   "id": "e0f7ae2f-e088-4250-bb81-f5ae0cee3665",
   "metadata": {},
   "outputs": [],
   "source": []
  },
  {
   "cell_type": "code",
   "execution_count": null,
   "id": "75daa81e-4694-4105-aeb2-5dc1c30decbf",
   "metadata": {},
   "outputs": [],
   "source": []
  }
 ],
 "metadata": {
  "kernelspec": {
   "display_name": "Python 3",
   "language": "python",
   "name": "python3"
  },
  "language_info": {
   "codemirror_mode": {
    "name": "ipython",
    "version": 3
   },
   "file_extension": ".py",
   "mimetype": "text/x-python",
   "name": "python",
   "nbconvert_exporter": "python",
   "pygments_lexer": "ipython3",
   "version": "3.7.10"
  }
 },
 "nbformat": 4,
 "nbformat_minor": 5
}
