{
 "cells": [
  {
   "cell_type": "code",
   "execution_count": 1,
   "id": "96329acc-35c5-4cf6-8b5c-9f4add52afb9",
   "metadata": {},
   "outputs": [],
   "source": [
    "%load_ext watermark"
   ]
  },
  {
   "cell_type": "code",
   "execution_count": 2,
   "id": "e8692c7a-3d02-4c33-b389-946483556874",
   "metadata": {},
   "outputs": [
    {
     "name": "stdout",
     "output_type": "stream",
     "text": [
      "Last updated: 2022-09-11T17:01:49.553650+03:00\n",
      "\n",
      "Python implementation: CPython\n",
      "Python version       : 3.10.4\n",
      "IPython version      : 8.4.0\n",
      "\n",
      "Compiler    : GCC 7.5.0\n",
      "OS          : Linux\n",
      "Release     : 5.15.0-47-generic\n",
      "Machine     : x86_64\n",
      "Processor   : x86_64\n",
      "CPU cores   : 8\n",
      "Architecture: 64bit\n",
      "\n"
     ]
    }
   ],
   "source": [
    "%watermark"
   ]
  },
  {
   "cell_type": "code",
   "execution_count": 3,
   "id": "91621940-df8c-49a6-8776-f053f6a96183",
   "metadata": {},
   "outputs": [],
   "source": [
    "import time\n",
    "notebookstart = time.time()"
   ]
  },
  {
   "cell_type": "code",
   "execution_count": 4,
   "id": "6e810963-65eb-4b4d-bb7a-a7c0e33d2151",
   "metadata": {},
   "outputs": [],
   "source": [
    "import os\n",
    "import pickle as pkl\n",
    "\n",
    "import numpy as np\n",
    "import pandas as pd\n",
    "from sklearn.decomposition import PCA\n",
    "\n",
    "import multiprocessing as mp\n",
    "\n",
    "import re\n",
    "from tqdm import tqdm\n",
    "from tqdm.auto import tqdm\n",
    "tqdm.pandas()"
   ]
  },
  {
   "cell_type": "code",
   "execution_count": 5,
   "id": "f465c5ae-4d5e-4942-b7e8-8894208c0a4d",
   "metadata": {},
   "outputs": [],
   "source": [
    "# os.environ[\"TOKENIZERS_PARALLELISM\"] = 'true'"
   ]
  },
  {
   "cell_type": "code",
   "execution_count": 6,
   "id": "11129389-5cb8-48ad-9fc2-91a9764d02b7",
   "metadata": {},
   "outputs": [],
   "source": [
    "import torch\n",
    "from transformers import AutoTokenizer, AutoModel"
   ]
  },
  {
   "cell_type": "code",
   "execution_count": 7,
   "id": "64cb53ee-4b29-47a3-add2-b0d90dd27bfe",
   "metadata": {},
   "outputs": [],
   "source": [
    "#from functools import partial\n",
    "#from embtitile import embtitile as et"
   ]
  },
  {
   "cell_type": "code",
   "execution_count": 8,
   "id": "25bba1ca-012d-4ef5-997f-88d594ffb4b0",
   "metadata": {},
   "outputs": [],
   "source": [
    "#import ray\n",
    "#ray.init()"
   ]
  },
  {
   "cell_type": "code",
   "execution_count": null,
   "id": "d4ce9c75-a25e-4ec7-9ef6-28fa4c6c5e8a",
   "metadata": {},
   "outputs": [],
   "source": []
  },
  {
   "cell_type": "markdown",
   "id": "b8298844-a87b-4a5b-aaf5-b5a8dc167d57",
   "metadata": {},
   "source": [
    "Переменные"
   ]
  },
  {
   "cell_type": "code",
   "execution_count": 9,
   "id": "652c4abd-e819-4ff9-add6-7f2b0093f36a",
   "metadata": {},
   "outputs": [],
   "source": [
    "DIR_DATA  = os.path.join(os.getcwd(), 'data')"
   ]
  },
  {
   "cell_type": "code",
   "execution_count": null,
   "id": "643e4489-dd22-4424-91dc-dd64747a84fa",
   "metadata": {},
   "outputs": [],
   "source": []
  },
  {
   "cell_type": "markdown",
   "id": "57dbe8b9-7199-412a-a83d-dc4ca40b1470",
   "metadata": {},
   "source": [
    "## Загружаем и подготавливаем данные"
   ]
  },
  {
   "cell_type": "code",
   "execution_count": 10,
   "id": "668e7928-c2a2-4ae7-81dd-5030382018b9",
   "metadata": {},
   "outputs": [],
   "source": [
    "#'_extended' после парсинга данных с РБК и извлечения данных из спарсенных страниц\n",
    "df_train = pd.read_csv(os.path.join(DIR_DATA, 'train_extended.csv'))\n",
    "df_test  = pd.read_csv(os.path.join(DIR_DATA, 'test_extended.csv'))"
   ]
  },
  {
   "cell_type": "code",
   "execution_count": 11,
   "id": "fac10c41-28fa-4d1b-bfce-3b89dd0dcffe",
   "metadata": {},
   "outputs": [],
   "source": [
    "#имя            размерность выходного вектора   вес модели\n",
    "# sberbank-ai/sbert_large_mt_nlu_ru       1024  1.71Gb\n",
    "# DeepPavlov/rubert-base-cased-sentence   768   0.7Gb\n",
    "# DeepPavlov/rubert-base-cased-conversational  768\n",
    "# DeepPavlov/rubert-base-cased            768\n",
    "# sberbank-ai/sbert_large_nlu_ru          1024  1.71Gb"
   ]
  },
  {
   "cell_type": "code",
   "execution_count": null,
   "id": "2e47016d-d69f-4f86-a3a4-dae2ffbd0f8b",
   "metadata": {},
   "outputs": [],
   "source": []
  },
  {
   "cell_type": "markdown",
   "id": "6206673f-b9cf-4a1e-93aa-0608a203621c",
   "metadata": {},
   "source": [
    "## Загружаем модель"
   ]
  },
  {
   "cell_type": "code",
   "execution_count": 12,
   "id": "1b7e6e5b-4596-4951-8329-d9dd407d6abf",
   "metadata": {},
   "outputs": [],
   "source": [
    "#PRE_TRAINED_MODEL_NAME = 'blanchefort/rubert-base-cased-sentiment-rurewiews'\n",
    "#MODEL_FOLDER = 'ru-blanchefort-rurewiews2'\n",
    "\n",
    "#'DeepPavlov/rubert-base-cased-sentence'\n",
    "#'sberbank-ai/sbert_large_mt_nlu_ru'\n",
    "\n",
    "#PRE_TRAINED_MODEL_NAME = 'DeepPavlov/rubert-base-cased-sentence'\n",
    "#MODEL_FOLDER = 'rubert-base-cased-sentence'\n",
    "\n",
    "PRE_TRAINED_MODEL_NAME = 'sberbank-ai/sbert_large_mt_nlu_ru'\n",
    "MODEL_FOLDER = 'sbert_large_mt_nlu_ru'\n",
    "\n",
    "\n",
    "MAX_LENGTH = 24"
   ]
  },
  {
   "cell_type": "code",
   "execution_count": 13,
   "id": "c700e26f-0511-4ab0-9af6-921db20a0b2f",
   "metadata": {},
   "outputs": [],
   "source": [
    "tokenizer = AutoTokenizer.from_pretrained(PRE_TRAINED_MODEL_NAME)\n",
    "model = AutoModel.from_pretrained(PRE_TRAINED_MODEL_NAME)\n",
    "\n",
    "_ = model.cpu()"
   ]
  },
  {
   "cell_type": "code",
   "execution_count": 14,
   "id": "9f4047f3-509b-4248-b8e7-0b8e86bc5ccc",
   "metadata": {},
   "outputs": [],
   "source": [
    "#dir(tokenizer)"
   ]
  },
  {
   "cell_type": "code",
   "execution_count": 15,
   "id": "98e6e55e-4eaf-4a53-a556-9911156b6594",
   "metadata": {},
   "outputs": [],
   "source": [
    "#Mean Pooling - Take attention mask into account for correct averaging\n",
    "def mean_pooling(model_output, attention_mask):\n",
    "    \n",
    "    token_embeddings = model_output[0] #First element of model_output contains all token embeddings\n",
    "    input_mask_expanded = attention_mask.unsqueeze(-1).expand(token_embeddings.size()).float()\n",
    "    sum_embeddings = torch.sum(token_embeddings * input_mask_expanded, 1)\n",
    "    sum_mask = torch.clamp(input_mask_expanded.sum(1), min=1e-9)\n",
    "    \n",
    "    return sum_embeddings / sum_mask"
   ]
  },
  {
   "cell_type": "code",
   "execution_count": 16,
   "id": "03ffbb1b-07e4-4f8d-ab27-aaa2dc0ab5be",
   "metadata": {},
   "outputs": [],
   "source": [
    "def ttl_to_emb(inp_text: str) -> np.ndarray:\n",
    "    \n",
    "    encoded_input = tokenizer(inp_text, padding=True, truncation=True, max_length=MAX_LENGTH, return_tensors='pt')\n",
    "\n",
    "    #Compute token embeddings\n",
    "    with torch.no_grad():\n",
    "        model_output = model(**encoded_input)\n",
    "\n",
    "    sentence_embeddings = mean_pooling(model_output, encoded_input['attention_mask'])\n",
    "    \n",
    "    return sentence_embeddings[0].cpu().detach().numpy()"
   ]
  },
  {
   "cell_type": "code",
   "execution_count": null,
   "id": "7ab542ed-bf42-417e-84e0-f0089aa68ff9",
   "metadata": {},
   "outputs": [],
   "source": []
  },
  {
   "cell_type": "code",
   "execution_count": null,
   "id": "0f7ac932-3aba-4d22-83ed-6047e69128c1",
   "metadata": {},
   "outputs": [],
   "source": []
  },
  {
   "cell_type": "markdown",
   "id": "bb622d2f-479f-483e-8bff-757cc6a0addc",
   "metadata": {},
   "source": [
    "## Делаем эмбеддинга из заголовков. Трейн"
   ]
  },
  {
   "cell_type": "code",
   "execution_count": 17,
   "id": "f7604442-269b-4071-a98d-5f2dcb75a012",
   "metadata": {},
   "outputs": [],
   "source": [
    "df_train = df_train[['document_id', 'true_title']]"
   ]
  },
  {
   "cell_type": "code",
   "execution_count": 18,
   "id": "1af276f5-0e45-4bad-ae02-20775983a475",
   "metadata": {},
   "outputs": [
    {
     "data": {
      "application/vnd.jupyter.widget-view+json": {
       "model_id": "059016248503456d8765940d374d41a6",
       "version_major": 2,
       "version_minor": 0
      },
      "text/plain": [
       "  0%|          | 0/7000 [00:00<?, ?it/s]"
      ]
     },
     "metadata": {},
     "output_type": "display_data"
    }
   ],
   "source": [
    "df_train['ttl_emb'] = df_train.true_title.progress_apply(lambda x: ttl_to_emb(x))"
   ]
  },
  {
   "cell_type": "raw",
   "id": "c37f9aba-e34e-4079-bb3f-342c5802097c",
   "metadata": {},
   "source": [
    "col_names = [f'tt_emb{idx}' for idx in range(df_train.ttl_emb[0].shape[0])]\n",
    "emb_train = pd.DataFrame(df_train.ttl_emb.to_list(), columns = col_names)"
   ]
  },
  {
   "cell_type": "code",
   "execution_count": 19,
   "id": "d10028f8-24a4-49f7-be0a-7c2280d319a3",
   "metadata": {},
   "outputs": [],
   "source": [
    "PCA_COMPONENTS = 64"
   ]
  },
  {
   "cell_type": "code",
   "execution_count": 20,
   "id": "d5f22f5f-6d19-48c1-93f0-5cbb734a39aa",
   "metadata": {},
   "outputs": [
    {
     "name": "stdout",
     "output_type": "stream",
     "text": [
      "CPU times: user 2.72 s, sys: 96 ms, total: 2.82 s\n",
      "Wall time: 1.2 s\n"
     ]
    }
   ],
   "source": [
    "%%time\n",
    "ttl_pca = PCA(n_components = PCA_COMPONENTS)\n",
    "ttl_pca.fit(df_train.ttl_emb.to_list())\n",
    "\n",
    "col_names = [f'tt_emb{idx}' for idx in range(PCA_COMPONENTS)]\n",
    "emb_train = pd.DataFrame(ttl_pca.transform(df_train.ttl_emb.to_list()), columns = col_names)"
   ]
  },
  {
   "cell_type": "code",
   "execution_count": 21,
   "id": "b29c12cb-f8f4-4ee9-b558-a7e17fc37060",
   "metadata": {},
   "outputs": [],
   "source": [
    "df_train = pd.concat([df_train, emb_train], axis=1)"
   ]
  },
  {
   "cell_type": "code",
   "execution_count": 22,
   "id": "6bf1b66f-d3a5-4d5e-b05a-c0b5bcefa90a",
   "metadata": {},
   "outputs": [],
   "source": [
    "df_train.drop('ttl_emb', axis = 1, inplace = True)"
   ]
  },
  {
   "cell_type": "code",
   "execution_count": 23,
   "id": "894f131a-d51e-4068-9a1d-2ec163960a5d",
   "metadata": {},
   "outputs": [
    {
     "data": {
      "text/html": [
       "<div>\n",
       "<style scoped>\n",
       "    .dataframe tbody tr th:only-of-type {\n",
       "        vertical-align: middle;\n",
       "    }\n",
       "\n",
       "    .dataframe tbody tr th {\n",
       "        vertical-align: top;\n",
       "    }\n",
       "\n",
       "    .dataframe thead th {\n",
       "        text-align: right;\n",
       "    }\n",
       "</style>\n",
       "<table border=\"1\" class=\"dataframe\">\n",
       "  <thead>\n",
       "    <tr style=\"text-align: right;\">\n",
       "      <th></th>\n",
       "      <th>document_id</th>\n",
       "      <th>true_title</th>\n",
       "      <th>tt_emb0</th>\n",
       "      <th>tt_emb1</th>\n",
       "      <th>tt_emb2</th>\n",
       "      <th>tt_emb3</th>\n",
       "      <th>tt_emb4</th>\n",
       "      <th>tt_emb5</th>\n",
       "      <th>tt_emb6</th>\n",
       "      <th>tt_emb7</th>\n",
       "      <th>...</th>\n",
       "      <th>tt_emb54</th>\n",
       "      <th>tt_emb55</th>\n",
       "      <th>tt_emb56</th>\n",
       "      <th>tt_emb57</th>\n",
       "      <th>tt_emb58</th>\n",
       "      <th>tt_emb59</th>\n",
       "      <th>tt_emb60</th>\n",
       "      <th>tt_emb61</th>\n",
       "      <th>tt_emb62</th>\n",
       "      <th>tt_emb63</th>\n",
       "    </tr>\n",
       "  </thead>\n",
       "  <tbody>\n",
       "    <tr>\n",
       "      <th>0</th>\n",
       "      <td>624ac09c9a7947db3d80c98eIDE7mtH4RBqGn-8MXfGffQ</td>\n",
       "      <td>Европейский банк развития приостановил доступ ...</td>\n",
       "      <td>-0.199399</td>\n",
       "      <td>-6.211632</td>\n",
       "      <td>-2.930263</td>\n",
       "      <td>-2.131648</td>\n",
       "      <td>-5.542072</td>\n",
       "      <td>1.078428</td>\n",
       "      <td>-0.414764</td>\n",
       "      <td>-1.777834</td>\n",
       "      <td>...</td>\n",
       "      <td>0.235061</td>\n",
       "      <td>-1.248508</td>\n",
       "      <td>0.723421</td>\n",
       "      <td>-0.330917</td>\n",
       "      <td>0.487549</td>\n",
       "      <td>0.895777</td>\n",
       "      <td>-1.563121</td>\n",
       "      <td>-0.574027</td>\n",
       "      <td>0.395415</td>\n",
       "      <td>0.879678</td>\n",
       "    </tr>\n",
       "    <tr>\n",
       "      <th>1</th>\n",
       "      <td>620f6b899a7947701cf489e1KtVJsteHStO5oditt3Uvzw</td>\n",
       "      <td>Кремль назвал регулярным процессом учебные зап...</td>\n",
       "      <td>-0.311326</td>\n",
       "      <td>3.762954</td>\n",
       "      <td>-1.012920</td>\n",
       "      <td>4.694713</td>\n",
       "      <td>1.666154</td>\n",
       "      <td>-3.403344</td>\n",
       "      <td>2.706218</td>\n",
       "      <td>0.113334</td>\n",
       "      <td>...</td>\n",
       "      <td>0.382633</td>\n",
       "      <td>0.862265</td>\n",
       "      <td>0.695950</td>\n",
       "      <td>-0.715260</td>\n",
       "      <td>0.898461</td>\n",
       "      <td>0.371864</td>\n",
       "      <td>0.805597</td>\n",
       "      <td>-0.379342</td>\n",
       "      <td>-1.202755</td>\n",
       "      <td>-0.232504</td>\n",
       "    </tr>\n",
       "    <tr>\n",
       "      <th>2</th>\n",
       "      <td>620730cf9a7947ab96a44e27hk7puWJwSziw0m3sfTkKWA</td>\n",
       "      <td>Госсекретарь Швеции заявила о нежелании вступа...</td>\n",
       "      <td>-6.245545</td>\n",
       "      <td>-0.188360</td>\n",
       "      <td>-3.480820</td>\n",
       "      <td>-4.119542</td>\n",
       "      <td>2.000154</td>\n",
       "      <td>6.295955</td>\n",
       "      <td>1.584439</td>\n",
       "      <td>-0.174699</td>\n",
       "      <td>...</td>\n",
       "      <td>-0.657501</td>\n",
       "      <td>0.854272</td>\n",
       "      <td>-0.417625</td>\n",
       "      <td>0.632270</td>\n",
       "      <td>0.097934</td>\n",
       "      <td>-1.525795</td>\n",
       "      <td>-0.279884</td>\n",
       "      <td>0.053434</td>\n",
       "      <td>-0.012992</td>\n",
       "      <td>0.363561</td>\n",
       "    </tr>\n",
       "  </tbody>\n",
       "</table>\n",
       "<p>3 rows × 66 columns</p>\n",
       "</div>"
      ],
      "text/plain": [
       "                                      document_id  \\\n",
       "0  624ac09c9a7947db3d80c98eIDE7mtH4RBqGn-8MXfGffQ   \n",
       "1  620f6b899a7947701cf489e1KtVJsteHStO5oditt3Uvzw   \n",
       "2  620730cf9a7947ab96a44e27hk7puWJwSziw0m3sfTkKWA   \n",
       "\n",
       "                                          true_title   tt_emb0   tt_emb1  \\\n",
       "0  Европейский банк развития приостановил доступ ... -0.199399 -6.211632   \n",
       "1  Кремль назвал регулярным процессом учебные зап... -0.311326  3.762954   \n",
       "2  Госсекретарь Швеции заявила о нежелании вступа... -6.245545 -0.188360   \n",
       "\n",
       "    tt_emb2   tt_emb3   tt_emb4   tt_emb5   tt_emb6   tt_emb7  ...  tt_emb54  \\\n",
       "0 -2.930263 -2.131648 -5.542072  1.078428 -0.414764 -1.777834  ...  0.235061   \n",
       "1 -1.012920  4.694713  1.666154 -3.403344  2.706218  0.113334  ...  0.382633   \n",
       "2 -3.480820 -4.119542  2.000154  6.295955  1.584439 -0.174699  ... -0.657501   \n",
       "\n",
       "   tt_emb55  tt_emb56  tt_emb57  tt_emb58  tt_emb59  tt_emb60  tt_emb61  \\\n",
       "0 -1.248508  0.723421 -0.330917  0.487549  0.895777 -1.563121 -0.574027   \n",
       "1  0.862265  0.695950 -0.715260  0.898461  0.371864  0.805597 -0.379342   \n",
       "2  0.854272 -0.417625  0.632270  0.097934 -1.525795 -0.279884  0.053434   \n",
       "\n",
       "   tt_emb62  tt_emb63  \n",
       "0  0.395415  0.879678  \n",
       "1 -1.202755 -0.232504  \n",
       "2 -0.012992  0.363561  \n",
       "\n",
       "[3 rows x 66 columns]"
      ]
     },
     "execution_count": 23,
     "metadata": {},
     "output_type": "execute_result"
    }
   ],
   "source": [
    "df_train.head(3)"
   ]
  },
  {
   "cell_type": "markdown",
   "id": "ae9fabc6-2744-4529-a285-3f349d50be6e",
   "metadata": {},
   "source": [
    "Сохраняем только эмбеддинги, без остальных признаков"
   ]
  },
  {
   "cell_type": "code",
   "execution_count": 24,
   "id": "e579438f-3ab3-4e11-ad87-3d43c57dab8d",
   "metadata": {},
   "outputs": [],
   "source": [
    "df_train.to_csv(os.path.join(DIR_DATA, f'ttl_cln_emb_train_{MODEL_FOLDER}_{MAX_LENGTH}_pca{PCA_COMPONENTS}.csv'), index = False)"
   ]
  },
  {
   "cell_type": "code",
   "execution_count": null,
   "id": "7692b59e-02a9-431e-aaee-e3572b02e0d6",
   "metadata": {},
   "outputs": [],
   "source": []
  },
  {
   "cell_type": "code",
   "execution_count": null,
   "id": "132f3cf5-509f-479b-b1ce-aaa465f387d2",
   "metadata": {},
   "outputs": [],
   "source": []
  },
  {
   "cell_type": "markdown",
   "id": "599c518e-6d80-49f7-a1bd-e0384650670c",
   "metadata": {},
   "source": [
    "## Выполняем тоже с тестом"
   ]
  },
  {
   "cell_type": "code",
   "execution_count": 25,
   "id": "c36712fb-a498-43ed-a783-952037558418",
   "metadata": {},
   "outputs": [],
   "source": [
    "df_test = df_test[['document_id', 'true_title']]"
   ]
  },
  {
   "cell_type": "code",
   "execution_count": 26,
   "id": "e7f1a27b-ba7d-45c8-89ad-ba046e7c024b",
   "metadata": {},
   "outputs": [
    {
     "data": {
      "application/vnd.jupyter.widget-view+json": {
       "model_id": "86d38edcbfd144109dea22f046b504e9",
       "version_major": 2,
       "version_minor": 0
      },
      "text/plain": [
       "  0%|          | 0/3000 [00:00<?, ?it/s]"
      ]
     },
     "metadata": {},
     "output_type": "display_data"
    }
   ],
   "source": [
    "df_test['ttl_emb'] = df_test.true_title.progress_apply(lambda x: ttl_to_emb(x))"
   ]
  },
  {
   "cell_type": "markdown",
   "id": "dbb56ec7-b396-4944-a9be-560602a0e0d7",
   "metadata": {},
   "source": [
    "Сокращаем размерность"
   ]
  },
  {
   "cell_type": "code",
   "execution_count": 27,
   "id": "b7c4eb72-e01a-48d7-9697-29c17cbab2b8",
   "metadata": {},
   "outputs": [],
   "source": [
    "#col_names = [f'tt_emb{idx}' for idx in range(df_test.ttl_emb[0].shape[0])]\n",
    "emb_test = pd.DataFrame(ttl_pca.transform(df_test.ttl_emb.to_list()), columns = col_names)\n",
    "#emb_test = pd.DataFrame(df_test.ttl_emb.to_list(), columns = col_names)"
   ]
  },
  {
   "cell_type": "code",
   "execution_count": 28,
   "id": "8f1e30f1-85a6-49f0-8fed-d066cb75c174",
   "metadata": {},
   "outputs": [],
   "source": [
    "df_test = pd.concat([df_test, emb_test], axis=1)"
   ]
  },
  {
   "cell_type": "code",
   "execution_count": 29,
   "id": "822e2ce0-7ab9-42b3-a842-93ca366922e0",
   "metadata": {},
   "outputs": [],
   "source": [
    "df_test.drop('ttl_emb', axis = 1, inplace = True)"
   ]
  },
  {
   "cell_type": "code",
   "execution_count": 30,
   "id": "d1ac7e8a-b9e2-40e2-98f0-bd69a31fe718",
   "metadata": {},
   "outputs": [
    {
     "data": {
      "text/plain": [
       "(3000, 66)"
      ]
     },
     "execution_count": 30,
     "metadata": {},
     "output_type": "execute_result"
    }
   ],
   "source": [
    "df_test.shape"
   ]
  },
  {
   "cell_type": "markdown",
   "id": "86d94726-5045-4d21-a76c-11032e4ba486",
   "metadata": {},
   "source": [
    "Сохраняем только эмбеддинги, без остальных признаков"
   ]
  },
  {
   "cell_type": "code",
   "execution_count": 31,
   "id": "66514498-9f86-40f8-82fb-8b2c4a859178",
   "metadata": {},
   "outputs": [],
   "source": [
    "df_test.to_csv(os.path.join(DIR_DATA, f'ttl_cln_emb_test_{MODEL_FOLDER}_{MAX_LENGTH}_pca{PCA_COMPONENTS}.csv'), index = False)"
   ]
  },
  {
   "cell_type": "code",
   "execution_count": null,
   "id": "e0f7ae2f-e088-4250-bb81-f5ae0cee3665",
   "metadata": {},
   "outputs": [],
   "source": []
  },
  {
   "cell_type": "code",
   "execution_count": 32,
   "id": "5d2863e3-cf41-4843-a6a4-a7783cddb490",
   "metadata": {},
   "outputs": [],
   "source": [
    "#ray.shutdown()"
   ]
  },
  {
   "cell_type": "code",
   "execution_count": 33,
   "id": "75daa81e-4694-4105-aeb2-5dc1c30decbf",
   "metadata": {},
   "outputs": [
    {
     "name": "stdout",
     "output_type": "stream",
     "text": [
      "Notebook Runtime: 25.77 Minutes\n"
     ]
    }
   ],
   "source": [
    "print(\"Notebook Runtime: %0.2f Minutes\"%((time.time() - notebookstart)/60))"
   ]
  },
  {
   "cell_type": "code",
   "execution_count": null,
   "id": "8f52f0b5-f43f-4bd6-856a-e9be15b9e199",
   "metadata": {},
   "outputs": [],
   "source": []
  }
 ],
 "metadata": {
  "kernelspec": {
   "display_name": "topnews22",
   "language": "python",
   "name": "topnews22"
  },
  "language_info": {
   "codemirror_mode": {
    "name": "ipython",
    "version": 3
   },
   "file_extension": ".py",
   "mimetype": "text/x-python",
   "name": "python",
   "nbconvert_exporter": "python",
   "pygments_lexer": "ipython3",
   "version": "3.10.4"
  }
 },
 "nbformat": 4,
 "nbformat_minor": 5
}
