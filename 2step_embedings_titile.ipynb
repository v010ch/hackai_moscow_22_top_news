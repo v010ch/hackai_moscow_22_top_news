{
 "cells": [
  {
   "cell_type": "raw",
   "id": "f1c649d6-4c5f-4cb1-9c08-e952917931cd",
   "metadata": {},
   "source": []
  },
  {
   "cell_type": "code",
   "execution_count": 1,
   "id": "6e810963-65eb-4b4d-bb7a-a7c0e33d2151",
   "metadata": {},
   "outputs": [],
   "source": [
    "import os\n",
    "import pickle as pkl\n",
    "\n",
    "import numpy as np\n",
    "import pandas as pd\n",
    "from sklearn.decomposition import PCA\n",
    "\n",
    "import re\n",
    "from tqdm import tqdm\n",
    "from tqdm.auto import tqdm  # for notebooks\n",
    "tqdm.pandas()"
   ]
  },
  {
   "cell_type": "code",
   "execution_count": 2,
   "id": "11129389-5cb8-48ad-9fc2-91a9764d02b7",
   "metadata": {},
   "outputs": [],
   "source": [
    "import torch\n",
    "\n",
    "from transformers import AutoTokenizer, AutoModel"
   ]
  },
  {
   "cell_type": "code",
   "execution_count": null,
   "id": "64cb53ee-4b29-47a3-add2-b0d90dd27bfe",
   "metadata": {},
   "outputs": [],
   "source": []
  },
  {
   "cell_type": "code",
   "execution_count": 3,
   "id": "652c4abd-e819-4ff9-add6-7f2b0093f36a",
   "metadata": {},
   "outputs": [],
   "source": [
    "DIR_DATA  = os.path.join(os.getcwd(), 'data')"
   ]
  },
  {
   "cell_type": "code",
   "execution_count": null,
   "id": "643e4489-dd22-4424-91dc-dd64747a84fa",
   "metadata": {},
   "outputs": [],
   "source": []
  },
  {
   "cell_type": "markdown",
   "id": "57dbe8b9-7199-412a-a83d-dc4ca40b1470",
   "metadata": {},
   "source": [
    "## Загружаем и подготавливаем данные"
   ]
  },
  {
   "cell_type": "code",
   "execution_count": 5,
   "id": "668e7928-c2a2-4ae7-81dd-5030382018b9",
   "metadata": {},
   "outputs": [],
   "source": [
    "#'_extended' после парсинга данных с РБК и извлечения данных из спарсенных страниц\n",
    "df_train = pd.read_csv(os.path.join(DIR_DATA, 'train_extended.csv'))#, index_col= 0)\n",
    "df_test  = pd.read_csv(os.path.join(DIR_DATA, 'test_extended.csv'))#, index_col= 0)"
   ]
  },
  {
   "cell_type": "code",
   "execution_count": 6,
   "id": "fac10c41-28fa-4d1b-bfce-3b89dd0dcffe",
   "metadata": {},
   "outputs": [],
   "source": [
    "# sberbank-ai/sbert_large_mt_nlu_ru       1024  1.71Gb\n",
    "# DeepPavlov/rubert-base-cased-sentence   768   0.7Gb\n",
    "# DeepPavlov/rubert-base-cased-conversational  768\n",
    "# DeepPavlov/rubert-base-cased            768\n",
    "# sberbank-ai/sbert_large_nlu_ru          1024  1.71Gb"
   ]
  },
  {
   "cell_type": "code",
   "execution_count": null,
   "id": "2e47016d-d69f-4f86-a3a4-dae2ffbd0f8b",
   "metadata": {},
   "outputs": [],
   "source": []
  },
  {
   "cell_type": "code",
   "execution_count": 7,
   "id": "71e8bb7a-74a6-4b77-86a4-a1e417a8bb4a",
   "metadata": {},
   "outputs": [],
   "source": [
    "# should try and without it\n",
    "#clean_text = lambda x:' '.join(re.sub('\\n|\\r|\\t|[^а-я]', ' ', x.lower()).split())"
   ]
  },
  {
   "cell_type": "code",
   "execution_count": 8,
   "id": "2f3b8301-9542-4eff-97c6-6630e52932ae",
   "metadata": {},
   "outputs": [],
   "source": [
    "#x = clean_text(df_train.title[0])"
   ]
  },
  {
   "cell_type": "code",
   "execution_count": 9,
   "id": "24ed9069-5a7b-4138-81bf-cd1fe2bfbf70",
   "metadata": {},
   "outputs": [],
   "source": [
    "#x"
   ]
  },
  {
   "cell_type": "code",
   "execution_count": 10,
   "id": "a088a3a1-4ec5-43c8-9562-1f1204aec54a",
   "metadata": {},
   "outputs": [],
   "source": [
    "#dir(model)"
   ]
  },
  {
   "cell_type": "markdown",
   "id": "6206673f-b9cf-4a1e-93aa-0608a203621c",
   "metadata": {},
   "source": [
    "## Загружаем модель"
   ]
  },
  {
   "cell_type": "code",
   "execution_count": 11,
   "id": "1b7e6e5b-4596-4951-8329-d9dd407d6abf",
   "metadata": {},
   "outputs": [],
   "source": [
    "#PRE_TRAINED_MODEL_NAME = 'blanchefort/rubert-base-cased-sentiment-rurewiews'\n",
    "#MODEL_FOLDER = 'ru-blanchefort-rurewiews2'\n",
    "\n",
    "#'DeepPavlov/rubert-base-cased-sentence'\n",
    "#'sberbank-ai/sbert_large_mt_nlu_ru'\n",
    "\n",
    "#PRE_TRAINED_MODEL_NAME = 'DeepPavlov/rubert-base-cased-sentence'\n",
    "#MODEL_FOLDER = 'rubert-base-cased-sentence'\n",
    "\n",
    "PRE_TRAINED_MODEL_NAME = 'sberbank-ai/sbert_large_mt_nlu_ru'\n",
    "MODEL_FOLDER = 'sbert_large_mt_nlu_ru'\n",
    "\n",
    "\n",
    "MAX_LENGTH = 24"
   ]
  },
  {
   "cell_type": "code",
   "execution_count": 12,
   "id": "c700e26f-0511-4ab0-9af6-921db20a0b2f",
   "metadata": {},
   "outputs": [],
   "source": [
    "tokenizer = AutoTokenizer.from_pretrained(PRE_TRAINED_MODEL_NAME)\n",
    "model = AutoModel.from_pretrained(PRE_TRAINED_MODEL_NAME)"
   ]
  },
  {
   "cell_type": "code",
   "execution_count": 13,
   "id": "e4cdd8de-5ab2-4dbd-918f-bdc5672cd2ff",
   "metadata": {},
   "outputs": [],
   "source": [
    "#Mean Pooling - Take attention mask into account for correct averaging\n",
    "def mean_pooling(model_output, attention_mask):\n",
    "    token_embeddings = model_output[0] #First element of model_output contains all token embeddings\n",
    "    input_mask_expanded = attention_mask.unsqueeze(-1).expand(token_embeddings.size()).float()\n",
    "    sum_embeddings = torch.sum(token_embeddings * input_mask_expanded, 1)\n",
    "    sum_mask = torch.clamp(input_mask_expanded.sum(1), min=1e-9)\n",
    "    return sum_embeddings / sum_mask"
   ]
  },
  {
   "cell_type": "code",
   "execution_count": 14,
   "id": "0f9e8027-3003-4e11-a08c-f78c319bb040",
   "metadata": {},
   "outputs": [],
   "source": [
    "def ttl_to_emb(inp_text):\n",
    "    \n",
    "    # Прямая трансляция, Фоторепортаж, Фотогалерея, Видео, телеканале РБК, Инфографика endswith\n",
    "    #if inp_text.endswith('Фоторепортаж') or \\\n",
    "    #   inp_text.endswith('Фотогалерея') or \\\n",
    "    #  inp_text.endswith('Видео') or \\\n",
    "    #   inp_text.endswith('Инфографика'):\n",
    "    #   inp_text = ' '.join(inp_text.split()[:-1])\n",
    "        \n",
    "    #if inp_text.endswith('Прямая трансляция') or \\\n",
    "    #   inp_text.endswith('телеканале РБК'):\n",
    "    #    inp_text = ' '.join(inp_text.split()[:-2])\n",
    "    \n",
    "    \n",
    "    encoded_input = tokenizer(inp_text, padding=True, truncation=True, max_length=MAX_LENGTH, return_tensors='pt')\n",
    "\n",
    "    #Compute token embeddings\n",
    "    with torch.no_grad():\n",
    "        model_output = model(**encoded_input)\n",
    "\n",
    "    sentence_embeddings = mean_pooling(model_output, encoded_input['attention_mask'])\n",
    "    \n",
    "    return sentence_embeddings[0].cpu().detach().numpy()"
   ]
  },
  {
   "cell_type": "code",
   "execution_count": null,
   "id": "178a685e-b435-4a0e-b5f5-684423f8e26d",
   "metadata": {},
   "outputs": [],
   "source": []
  },
  {
   "cell_type": "markdown",
   "id": "bb622d2f-479f-483e-8bff-757cc6a0addc",
   "metadata": {},
   "source": [
    "## Делаем эмбеддинга из заголовков. Трейн"
   ]
  },
  {
   "cell_type": "code",
   "execution_count": 15,
   "id": "a0cb3858-6e22-444c-ac8f-0022c4465c04",
   "metadata": {},
   "outputs": [],
   "source": [
    "df_train = df_train[['document_id', 'true_title']]"
   ]
  },
  {
   "cell_type": "code",
   "execution_count": 16,
   "id": "a018ed84-858e-4fad-b2c6-52faa86aacb5",
   "metadata": {},
   "outputs": [
    {
     "data": {
      "application/vnd.jupyter.widget-view+json": {
       "model_id": "4bb649168aa84d858e89efb198360745",
       "version_major": 2,
       "version_minor": 0
      },
      "text/plain": [
       "  0%|          | 0/7000 [00:00<?, ?it/s]"
      ]
     },
     "metadata": {},
     "output_type": "display_data"
    }
   ],
   "source": [
    "df_train['ttl_emb'] = df_train.true_title.progress_apply(lambda x: ttl_to_emb(x))"
   ]
  },
  {
   "cell_type": "raw",
   "id": "c37f9aba-e34e-4079-bb3f-342c5802097c",
   "metadata": {},
   "source": [
    "col_names = [f'tt_emb{idx}' for idx in range(df_train.ttl_emb[0].shape[0])]\n",
    "emb_train = pd.DataFrame(df_train.ttl_emb.to_list(), columns = col_names)"
   ]
  },
  {
   "cell_type": "code",
   "execution_count": 17,
   "id": "d10028f8-24a4-49f7-be0a-7c2280d319a3",
   "metadata": {},
   "outputs": [],
   "source": [
    "PCA_COMPONENTS = 64"
   ]
  },
  {
   "cell_type": "code",
   "execution_count": 18,
   "id": "d5f22f5f-6d19-48c1-93f0-5cbb734a39aa",
   "metadata": {},
   "outputs": [
    {
     "name": "stdout",
     "output_type": "stream",
     "text": [
      "Wall time: 495 ms\n"
     ]
    }
   ],
   "source": [
    "%%time\n",
    "ttl_pca = PCA(n_components = PCA_COMPONENTS)\n",
    "ttl_pca.fit(df_train.ttl_emb.to_list())\n",
    "\n",
    "col_names = [f'tt_emb{idx}' for idx in range(PCA_COMPONENTS)]\n",
    "emb_train = pd.DataFrame(ttl_pca.transform(df_train.ttl_emb.to_list()), columns = col_names)"
   ]
  },
  {
   "cell_type": "code",
   "execution_count": 19,
   "id": "b29c12cb-f8f4-4ee9-b558-a7e17fc37060",
   "metadata": {},
   "outputs": [],
   "source": [
    "df_train = pd.concat([df_train, emb_train], axis=1)"
   ]
  },
  {
   "cell_type": "code",
   "execution_count": 20,
   "id": "6bf1b66f-d3a5-4d5e-b05a-c0b5bcefa90a",
   "metadata": {},
   "outputs": [],
   "source": [
    "df_train.drop('ttl_emb', axis = 1, inplace = True)"
   ]
  },
  {
   "cell_type": "code",
   "execution_count": 21,
   "id": "894f131a-d51e-4068-9a1d-2ec163960a5d",
   "metadata": {},
   "outputs": [
    {
     "data": {
      "text/html": [
       "<div>\n",
       "<style scoped>\n",
       "    .dataframe tbody tr th:only-of-type {\n",
       "        vertical-align: middle;\n",
       "    }\n",
       "\n",
       "    .dataframe tbody tr th {\n",
       "        vertical-align: top;\n",
       "    }\n",
       "\n",
       "    .dataframe thead th {\n",
       "        text-align: right;\n",
       "    }\n",
       "</style>\n",
       "<table border=\"1\" class=\"dataframe\">\n",
       "  <thead>\n",
       "    <tr style=\"text-align: right;\">\n",
       "      <th></th>\n",
       "      <th>document_id</th>\n",
       "      <th>true_title</th>\n",
       "      <th>tt_emb0</th>\n",
       "      <th>tt_emb1</th>\n",
       "      <th>tt_emb2</th>\n",
       "      <th>tt_emb3</th>\n",
       "      <th>tt_emb4</th>\n",
       "      <th>tt_emb5</th>\n",
       "      <th>tt_emb6</th>\n",
       "      <th>tt_emb7</th>\n",
       "      <th>...</th>\n",
       "      <th>tt_emb54</th>\n",
       "      <th>tt_emb55</th>\n",
       "      <th>tt_emb56</th>\n",
       "      <th>tt_emb57</th>\n",
       "      <th>tt_emb58</th>\n",
       "      <th>tt_emb59</th>\n",
       "      <th>tt_emb60</th>\n",
       "      <th>tt_emb61</th>\n",
       "      <th>tt_emb62</th>\n",
       "      <th>tt_emb63</th>\n",
       "    </tr>\n",
       "  </thead>\n",
       "  <tbody>\n",
       "    <tr>\n",
       "      <th>0</th>\n",
       "      <td>624ac09c9a7947db3d80c98eIDE7mtH4RBqGn-8MXfGffQ</td>\n",
       "      <td>Европейский банк развития приостановил доступ ...</td>\n",
       "      <td>0.222095</td>\n",
       "      <td>3.948613</td>\n",
       "      <td>0.358465</td>\n",
       "      <td>-0.354955</td>\n",
       "      <td>2.274236</td>\n",
       "      <td>-2.602631</td>\n",
       "      <td>-2.567613</td>\n",
       "      <td>-1.838991</td>\n",
       "      <td>...</td>\n",
       "      <td>0.613429</td>\n",
       "      <td>0.348292</td>\n",
       "      <td>-0.012083</td>\n",
       "      <td>-0.969442</td>\n",
       "      <td>0.105668</td>\n",
       "      <td>-0.262009</td>\n",
       "      <td>-0.897566</td>\n",
       "      <td>0.266145</td>\n",
       "      <td>-0.199444</td>\n",
       "      <td>0.572910</td>\n",
       "    </tr>\n",
       "    <tr>\n",
       "      <th>1</th>\n",
       "      <td>620f6b899a7947701cf489e1KtVJsteHStO5oditt3Uvzw</td>\n",
       "      <td>Кремль назвал регулярным процессом учебные зап...</td>\n",
       "      <td>-2.425622</td>\n",
       "      <td>0.295295</td>\n",
       "      <td>2.114864</td>\n",
       "      <td>3.053465</td>\n",
       "      <td>-1.034546</td>\n",
       "      <td>2.919111</td>\n",
       "      <td>-3.761234</td>\n",
       "      <td>2.150873</td>\n",
       "      <td>...</td>\n",
       "      <td>-0.441842</td>\n",
       "      <td>0.607779</td>\n",
       "      <td>-0.111463</td>\n",
       "      <td>-0.291918</td>\n",
       "      <td>-0.364558</td>\n",
       "      <td>0.036562</td>\n",
       "      <td>1.238123</td>\n",
       "      <td>-0.883507</td>\n",
       "      <td>-0.773571</td>\n",
       "      <td>0.087342</td>\n",
       "    </tr>\n",
       "    <tr>\n",
       "      <th>2</th>\n",
       "      <td>620730cf9a7947ab96a44e27hk7puWJwSziw0m3sfTkKWA</td>\n",
       "      <td>Госсекретарь Швеции заявила о нежелании вступа...</td>\n",
       "      <td>6.348412</td>\n",
       "      <td>0.669580</td>\n",
       "      <td>-3.028338</td>\n",
       "      <td>-1.533043</td>\n",
       "      <td>-1.920280</td>\n",
       "      <td>-1.911492</td>\n",
       "      <td>-1.101375</td>\n",
       "      <td>-0.663394</td>\n",
       "      <td>...</td>\n",
       "      <td>0.411122</td>\n",
       "      <td>0.107282</td>\n",
       "      <td>0.161271</td>\n",
       "      <td>-0.520712</td>\n",
       "      <td>-0.410928</td>\n",
       "      <td>0.058589</td>\n",
       "      <td>0.179516</td>\n",
       "      <td>0.368834</td>\n",
       "      <td>0.507366</td>\n",
       "      <td>0.625234</td>\n",
       "    </tr>\n",
       "  </tbody>\n",
       "</table>\n",
       "<p>3 rows × 66 columns</p>\n",
       "</div>"
      ],
      "text/plain": [
       "                                      document_id  \\\n",
       "0  624ac09c9a7947db3d80c98eIDE7mtH4RBqGn-8MXfGffQ   \n",
       "1  620f6b899a7947701cf489e1KtVJsteHStO5oditt3Uvzw   \n",
       "2  620730cf9a7947ab96a44e27hk7puWJwSziw0m3sfTkKWA   \n",
       "\n",
       "                                          true_title   tt_emb0   tt_emb1  \\\n",
       "0  Европейский банк развития приостановил доступ ...  0.222095  3.948613   \n",
       "1  Кремль назвал регулярным процессом учебные зап... -2.425622  0.295295   \n",
       "2  Госсекретарь Швеции заявила о нежелании вступа...  6.348412  0.669580   \n",
       "\n",
       "    tt_emb2   tt_emb3   tt_emb4   tt_emb5   tt_emb6   tt_emb7  ...  tt_emb54  \\\n",
       "0  0.358465 -0.354955  2.274236 -2.602631 -2.567613 -1.838991  ...  0.613429   \n",
       "1  2.114864  3.053465 -1.034546  2.919111 -3.761234  2.150873  ... -0.441842   \n",
       "2 -3.028338 -1.533043 -1.920280 -1.911492 -1.101375 -0.663394  ...  0.411122   \n",
       "\n",
       "   tt_emb55  tt_emb56  tt_emb57  tt_emb58  tt_emb59  tt_emb60  tt_emb61  \\\n",
       "0  0.348292 -0.012083 -0.969442  0.105668 -0.262009 -0.897566  0.266145   \n",
       "1  0.607779 -0.111463 -0.291918 -0.364558  0.036562  1.238123 -0.883507   \n",
       "2  0.107282  0.161271 -0.520712 -0.410928  0.058589  0.179516  0.368834   \n",
       "\n",
       "   tt_emb62  tt_emb63  \n",
       "0 -0.199444  0.572910  \n",
       "1 -0.773571  0.087342  \n",
       "2  0.507366  0.625234  \n",
       "\n",
       "[3 rows x 66 columns]"
      ]
     },
     "execution_count": 21,
     "metadata": {},
     "output_type": "execute_result"
    }
   ],
   "source": [
    "df_train.head(3)"
   ]
  },
  {
   "cell_type": "markdown",
   "id": "ae9fabc6-2744-4529-a285-3f349d50be6e",
   "metadata": {},
   "source": [
    "Сохраняем только эмбеддинги, без остальных признаков"
   ]
  },
  {
   "cell_type": "code",
   "execution_count": 22,
   "id": "e579438f-3ab3-4e11-ad87-3d43c57dab8d",
   "metadata": {},
   "outputs": [],
   "source": [
    "df_train.to_csv(os.path.join(DIR_DATA, f'ttl_cln_emb_train_{MODEL_FOLDER}_{MAX_LENGTH}_pca{PCA_COMPONENTS}.csv'), index = False)"
   ]
  },
  {
   "cell_type": "code",
   "execution_count": null,
   "id": "7692b59e-02a9-431e-aaee-e3572b02e0d6",
   "metadata": {},
   "outputs": [],
   "source": []
  },
  {
   "cell_type": "code",
   "execution_count": null,
   "id": "132f3cf5-509f-479b-b1ce-aaa465f387d2",
   "metadata": {},
   "outputs": [],
   "source": []
  },
  {
   "cell_type": "markdown",
   "id": "599c518e-6d80-49f7-a1bd-e0384650670c",
   "metadata": {},
   "source": [
    "## Выполняем тоже с тестом"
   ]
  },
  {
   "cell_type": "code",
   "execution_count": 23,
   "id": "c36712fb-a498-43ed-a783-952037558418",
   "metadata": {},
   "outputs": [],
   "source": [
    "df_test = df_test[['document_id', 'true_title']]"
   ]
  },
  {
   "cell_type": "code",
   "execution_count": 24,
   "id": "e7f1a27b-ba7d-45c8-89ad-ba046e7c024b",
   "metadata": {},
   "outputs": [
    {
     "data": {
      "application/vnd.jupyter.widget-view+json": {
       "model_id": "2fac301cdd3d4ce2892e0b588e9182f1",
       "version_major": 2,
       "version_minor": 0
      },
      "text/plain": [
       "  0%|          | 0/3000 [00:00<?, ?it/s]"
      ]
     },
     "metadata": {},
     "output_type": "display_data"
    }
   ],
   "source": [
    "df_test['ttl_emb'] = df_test.true_title.progress_apply(lambda x: ttl_to_emb(x))"
   ]
  },
  {
   "cell_type": "markdown",
   "id": "dbb56ec7-b396-4944-a9be-560602a0e0d7",
   "metadata": {},
   "source": [
    "Сокращаем размерность"
   ]
  },
  {
   "cell_type": "code",
   "execution_count": 25,
   "id": "b7c4eb72-e01a-48d7-9697-29c17cbab2b8",
   "metadata": {},
   "outputs": [],
   "source": [
    "#col_names = [f'tt_emb{idx}' for idx in range(df_test.ttl_emb[0].shape[0])]\n",
    "emb_test = pd.DataFrame(ttl_pca.transform(df_test.ttl_emb.to_list()), columns = col_names)\n",
    "#emb_test = pd.DataFrame(df_test.ttl_emb.to_list(), columns = col_names)"
   ]
  },
  {
   "cell_type": "code",
   "execution_count": 26,
   "id": "8f1e30f1-85a6-49f0-8fed-d066cb75c174",
   "metadata": {},
   "outputs": [],
   "source": [
    "df_test = pd.concat([df_test, emb_test], axis=1)"
   ]
  },
  {
   "cell_type": "code",
   "execution_count": 27,
   "id": "822e2ce0-7ab9-42b3-a842-93ca366922e0",
   "metadata": {},
   "outputs": [],
   "source": [
    "df_test.drop('ttl_emb', axis = 1, inplace = True)"
   ]
  },
  {
   "cell_type": "code",
   "execution_count": 28,
   "id": "d1ac7e8a-b9e2-40e2-98f0-bd69a31fe718",
   "metadata": {},
   "outputs": [
    {
     "data": {
      "text/plain": [
       "(3000, 66)"
      ]
     },
     "execution_count": 28,
     "metadata": {},
     "output_type": "execute_result"
    }
   ],
   "source": [
    "df_test.shape"
   ]
  },
  {
   "cell_type": "markdown",
   "id": "86d94726-5045-4d21-a76c-11032e4ba486",
   "metadata": {},
   "source": [
    "Сохраняем только эмбеддинги, без остальных признаков"
   ]
  },
  {
   "cell_type": "code",
   "execution_count": 29,
   "id": "66514498-9f86-40f8-82fb-8b2c4a859178",
   "metadata": {},
   "outputs": [],
   "source": [
    "df_test.to_csv(os.path.join(DIR_DATA, f'ttl_cln_emb_test_{MODEL_FOLDER}_{MAX_LENGTH}_pca{PCA_COMPONENTS}.csv'), index = False)"
   ]
  },
  {
   "cell_type": "code",
   "execution_count": null,
   "id": "e0f7ae2f-e088-4250-bb81-f5ae0cee3665",
   "metadata": {},
   "outputs": [],
   "source": []
  },
  {
   "cell_type": "code",
   "execution_count": null,
   "id": "75daa81e-4694-4105-aeb2-5dc1c30decbf",
   "metadata": {},
   "outputs": [],
   "source": []
  }
 ],
 "metadata": {
  "kernelspec": {
   "display_name": "Python 3",
   "language": "python",
   "name": "python3"
  },
  "language_info": {
   "codemirror_mode": {
    "name": "ipython",
    "version": 3
   },
   "file_extension": ".py",
   "mimetype": "text/x-python",
   "name": "python",
   "nbconvert_exporter": "python",
   "pygments_lexer": "ipython3",
   "version": "3.7.10"
  }
 },
 "nbformat": 4,
 "nbformat_minor": 5
}
