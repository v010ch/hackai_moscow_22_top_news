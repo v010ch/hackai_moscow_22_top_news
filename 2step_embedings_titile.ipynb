{
 "cells": [
  {
   "cell_type": "raw",
   "id": "f1c649d6-4c5f-4cb1-9c08-e952917931cd",
   "metadata": {},
   "source": []
  },
  {
   "cell_type": "code",
   "execution_count": 1,
   "id": "6e810963-65eb-4b4d-bb7a-a7c0e33d2151",
   "metadata": {},
   "outputs": [],
   "source": [
    "import os\n",
    "import pickle as pkl\n",
    "\n",
    "import numpy as np\n",
    "import pandas as pd\n",
    "\n",
    "import re\n",
    "from tqdm import tqdm\n",
    "from tqdm.auto import tqdm  # for notebooks\n",
    "tqdm.pandas()"
   ]
  },
  {
   "cell_type": "code",
   "execution_count": 2,
   "id": "11129389-5cb8-48ad-9fc2-91a9764d02b7",
   "metadata": {},
   "outputs": [],
   "source": [
    "import torch\n",
    "#$from transformers import AutoModelForSequenceClassification\n",
    "#from transformers import BertTokenizerFast\n",
    "#from transformers import AutoTokenizer\n",
    "#from transformers import Trainer, TrainingArguments\n",
    "\n",
    "from transformers import AutoTokenizer, AutoModel"
   ]
  },
  {
   "cell_type": "code",
   "execution_count": null,
   "id": "64cb53ee-4b29-47a3-add2-b0d90dd27bfe",
   "metadata": {},
   "outputs": [],
   "source": []
  },
  {
   "cell_type": "code",
   "execution_count": 3,
   "id": "652c4abd-e819-4ff9-add6-7f2b0093f36a",
   "metadata": {},
   "outputs": [],
   "source": [
    "DIR_DATA  = os.path.join(os.getcwd(), 'data')"
   ]
  },
  {
   "cell_type": "code",
   "execution_count": 4,
   "id": "643e4489-dd22-4424-91dc-dd64747a84fa",
   "metadata": {},
   "outputs": [],
   "source": [
    "#MUSE, sbert_large_mt_nlu_ru и rubert-base-cased-sentence"
   ]
  },
  {
   "cell_type": "markdown",
   "id": "57dbe8b9-7199-412a-a83d-dc4ca40b1470",
   "metadata": {},
   "source": [
    "## Prepare data"
   ]
  },
  {
   "cell_type": "code",
   "execution_count": 5,
   "id": "668e7928-c2a2-4ae7-81dd-5030382018b9",
   "metadata": {},
   "outputs": [],
   "source": [
    "df_train = pd.read_csv(os.path.join(DIR_DATA, 'train.csv'))#, index_col= 0)\n",
    "df_test  = pd.read_csv(os.path.join(DIR_DATA, 'test.csv'))#, index_col= 0)"
   ]
  },
  {
   "cell_type": "code",
   "execution_count": 6,
   "id": "fac10c41-28fa-4d1b-bfce-3b89dd0dcffe",
   "metadata": {},
   "outputs": [],
   "source": [
    "# sberbank-ai/sbert_large_mt_nlu_ru       1024  1.71Gb\n",
    "# DeepPavlov/rubert-base-cased-sentence   768   0.7Gb\n",
    "# DeepPavlov/rubert-base-cased-conversational  768\n",
    "# DeepPavlov/rubert-base-cased            768\n",
    "# sberbank-ai/sbert_large_nlu_ru          1024  1.71Gb"
   ]
  },
  {
   "cell_type": "code",
   "execution_count": null,
   "id": "2e47016d-d69f-4f86-a3a4-dae2ffbd0f8b",
   "metadata": {},
   "outputs": [],
   "source": []
  },
  {
   "cell_type": "code",
   "execution_count": 7,
   "id": "71e8bb7a-74a6-4b77-86a4-a1e417a8bb4a",
   "metadata": {},
   "outputs": [],
   "source": [
    "# should try and without it\n",
    "clean_text = lambda x:' '.join(re.sub('\\n|\\r|\\t|[^а-я]', ' ', x.lower()).split())"
   ]
  },
  {
   "cell_type": "code",
   "execution_count": 8,
   "id": "2f3b8301-9542-4eff-97c6-6630e52932ae",
   "metadata": {},
   "outputs": [],
   "source": [
    "x = clean_text(df_train.title[0])"
   ]
  },
  {
   "cell_type": "code",
   "execution_count": 9,
   "id": "24ed9069-5a7b-4138-81bf-cd1fe2bfbf70",
   "metadata": {},
   "outputs": [
    {
     "data": {
      "text/plain": [
       "'европейский банк развития приостановил доступ москвы и минска к финансам'"
      ]
     },
     "execution_count": 9,
     "metadata": {},
     "output_type": "execute_result"
    }
   ],
   "source": [
    "x"
   ]
  },
  {
   "cell_type": "code",
   "execution_count": 10,
   "id": "a088a3a1-4ec5-43c8-9562-1f1204aec54a",
   "metadata": {},
   "outputs": [],
   "source": [
    "#dir(model)"
   ]
  },
  {
   "cell_type": "markdown",
   "id": "6206673f-b9cf-4a1e-93aa-0608a203621c",
   "metadata": {},
   "source": [
    "## Load model"
   ]
  },
  {
   "cell_type": "code",
   "execution_count": 11,
   "id": "1b7e6e5b-4596-4951-8329-d9dd407d6abf",
   "metadata": {},
   "outputs": [],
   "source": [
    "#PRE_TRAINED_MODEL_NAME = 'blanchefort/rubert-base-cased-sentiment-rurewiews'\n",
    "#MODEL_FOLDER = 'ru-blanchefort-rurewiews2'\n",
    "\n",
    "#'DeepPavlov/rubert-base-cased-sentence'\n",
    "#'sberbank-ai/sbert_large_mt_nlu_ru'\n",
    "\n",
    "PRE_TRAINED_MODEL_NAME = 'DeepPavlov/rubert-base-cased-sentence'\n",
    "MODEL_FOLDER = 'rubert-base-cased-sentence'\n",
    "\n",
    "\n",
    "MAX_LENGTH = 24"
   ]
  },
  {
   "cell_type": "code",
   "execution_count": 12,
   "id": "c700e26f-0511-4ab0-9af6-921db20a0b2f",
   "metadata": {},
   "outputs": [],
   "source": [
    "tokenizer = AutoTokenizer.from_pretrained(PRE_TRAINED_MODEL_NAME)\n",
    "model = AutoModel.from_pretrained(PRE_TRAINED_MODEL_NAME)\n",
    "\n",
    "\n",
    "#tokenizer = AutoTokenizer.from_pretrained(PRE_TRAINED_MODEL_NAME)\n",
    "\n",
    "#train_tokens = tokenizer(list(train.values), truncation=True, padding=True, max_length=MAX_LENGTH)\n",
    "#test_tokens = tokenizer(list(test.values), truncation=True, padding=True, max_length=MAX_LENGTH)\n",
    "\n",
    "#model = AutoModelForSequenceClassification.from_pretrained(PRE_TRAINED_MODEL_NAME,) "
   ]
  },
  {
   "cell_type": "code",
   "execution_count": 13,
   "id": "e4cdd8de-5ab2-4dbd-918f-bdc5672cd2ff",
   "metadata": {},
   "outputs": [],
   "source": [
    "#Mean Pooling - Take attention mask into account for correct averaging\n",
    "def mean_pooling(model_output, attention_mask):\n",
    "    token_embeddings = model_output[0] #First element of model_output contains all token embeddings\n",
    "    input_mask_expanded = attention_mask.unsqueeze(-1).expand(token_embeddings.size()).float()\n",
    "    sum_embeddings = torch.sum(token_embeddings * input_mask_expanded, 1)\n",
    "    sum_mask = torch.clamp(input_mask_expanded.sum(1), min=1e-9)\n",
    "    return sum_embeddings / sum_mask"
   ]
  },
  {
   "cell_type": "code",
   "execution_count": null,
   "id": "c3d07891-e95f-4721-b6c1-68e3dc97b4ea",
   "metadata": {},
   "outputs": [],
   "source": []
  },
  {
   "cell_type": "code",
   "execution_count": 14,
   "id": "0f9e8027-3003-4e11-a08c-f78c319bb040",
   "metadata": {},
   "outputs": [],
   "source": [
    "def ttl_to_emb(inp_text):\n",
    "    encoded_input = tokenizer(inp_text, padding=True, truncation=True, max_length=MAX_LENGTH, return_tensors='pt')\n",
    "\n",
    "    #Compute token embeddings\n",
    "    with torch.no_grad():\n",
    "        model_output = model(**encoded_input)\n",
    "\n",
    "    sentence_embeddings = mean_pooling(model_output, encoded_input['attention_mask'])\n",
    "    \n",
    "    return sentence_embeddings[0].cpu().detach().numpy()"
   ]
  },
  {
   "cell_type": "markdown",
   "id": "bb622d2f-479f-483e-8bff-757cc6a0addc",
   "metadata": {},
   "source": [
    "## Make embedings for titles. Train"
   ]
  },
  {
   "cell_type": "code",
   "execution_count": 15,
   "id": "a0cb3858-6e22-444c-ac8f-0022c4465c04",
   "metadata": {},
   "outputs": [],
   "source": [
    "df_train = df_train[['document_id', 'title']]"
   ]
  },
  {
   "cell_type": "code",
   "execution_count": 16,
   "id": "a018ed84-858e-4fad-b2c6-52faa86aacb5",
   "metadata": {},
   "outputs": [
    {
     "data": {
      "application/vnd.jupyter.widget-view+json": {
       "model_id": "629344401b1b4d0c8d572095e0c8a8a7",
       "version_major": 2,
       "version_minor": 0
      },
      "text/plain": [
       "  0%|          | 0/7000 [00:00<?, ?it/s]"
      ]
     },
     "metadata": {},
     "output_type": "display_data"
    }
   ],
   "source": [
    "df_train['ttl_emb'] = df_train.title.progress_apply(lambda x: ttl_to_emb(x))"
   ]
  },
  {
   "cell_type": "code",
   "execution_count": 17,
   "id": "30703bb2-1698-4496-ad9f-9f82841582f6",
   "metadata": {},
   "outputs": [],
   "source": [
    "col_names = [f'tt_emb{idx}' for idx in range(df_train.ttl_emb[0].shape[0])]\n",
    "emb_train = pd.DataFrame(df_train.ttl_emb.to_list(), columns = col_names)"
   ]
  },
  {
   "cell_type": "code",
   "execution_count": 18,
   "id": "b29c12cb-f8f4-4ee9-b558-a7e17fc37060",
   "metadata": {},
   "outputs": [],
   "source": [
    "df_train = pd.concat([df_train, emb_train], axis=1)"
   ]
  },
  {
   "cell_type": "code",
   "execution_count": 19,
   "id": "6bf1b66f-d3a5-4d5e-b05a-c0b5bcefa90a",
   "metadata": {},
   "outputs": [],
   "source": [
    "df_train.drop('ttl_emb', axis = 1, inplace = True)"
   ]
  },
  {
   "cell_type": "code",
   "execution_count": 20,
   "id": "894f131a-d51e-4068-9a1d-2ec163960a5d",
   "metadata": {},
   "outputs": [
    {
     "data": {
      "text/html": [
       "<div>\n",
       "<style scoped>\n",
       "    .dataframe tbody tr th:only-of-type {\n",
       "        vertical-align: middle;\n",
       "    }\n",
       "\n",
       "    .dataframe tbody tr th {\n",
       "        vertical-align: top;\n",
       "    }\n",
       "\n",
       "    .dataframe thead th {\n",
       "        text-align: right;\n",
       "    }\n",
       "</style>\n",
       "<table border=\"1\" class=\"dataframe\">\n",
       "  <thead>\n",
       "    <tr style=\"text-align: right;\">\n",
       "      <th></th>\n",
       "      <th>document_id</th>\n",
       "      <th>title</th>\n",
       "      <th>tt_emb0</th>\n",
       "      <th>tt_emb1</th>\n",
       "      <th>tt_emb2</th>\n",
       "      <th>tt_emb3</th>\n",
       "      <th>tt_emb4</th>\n",
       "      <th>tt_emb5</th>\n",
       "      <th>tt_emb6</th>\n",
       "      <th>tt_emb7</th>\n",
       "      <th>...</th>\n",
       "      <th>tt_emb758</th>\n",
       "      <th>tt_emb759</th>\n",
       "      <th>tt_emb760</th>\n",
       "      <th>tt_emb761</th>\n",
       "      <th>tt_emb762</th>\n",
       "      <th>tt_emb763</th>\n",
       "      <th>tt_emb764</th>\n",
       "      <th>tt_emb765</th>\n",
       "      <th>tt_emb766</th>\n",
       "      <th>tt_emb767</th>\n",
       "    </tr>\n",
       "  </thead>\n",
       "  <tbody>\n",
       "    <tr>\n",
       "      <th>0</th>\n",
       "      <td>624ac09c9a7947db3d80c98eIDE7mtH4RBqGn-8MXfGffQ</td>\n",
       "      <td>Европейский банк развития приостановил доступ ...</td>\n",
       "      <td>-0.404295</td>\n",
       "      <td>-1.772449</td>\n",
       "      <td>0.094588</td>\n",
       "      <td>-0.688505</td>\n",
       "      <td>-1.043385</td>\n",
       "      <td>-0.424057</td>\n",
       "      <td>0.631909</td>\n",
       "      <td>1.122434</td>\n",
       "      <td>...</td>\n",
       "      <td>0.751054</td>\n",
       "      <td>0.595936</td>\n",
       "      <td>0.410200</td>\n",
       "      <td>-0.157263</td>\n",
       "      <td>0.757858</td>\n",
       "      <td>-0.095884</td>\n",
       "      <td>-0.728691</td>\n",
       "      <td>0.185698</td>\n",
       "      <td>0.527966</td>\n",
       "      <td>0.595560</td>\n",
       "    </tr>\n",
       "    <tr>\n",
       "      <th>1</th>\n",
       "      <td>620f6b899a7947701cf489e1KtVJsteHStO5oditt3Uvzw</td>\n",
       "      <td>Кремль назвал регулярным процессом учебные зап...</td>\n",
       "      <td>-0.593069</td>\n",
       "      <td>-0.529754</td>\n",
       "      <td>0.263953</td>\n",
       "      <td>-0.006187</td>\n",
       "      <td>-0.625174</td>\n",
       "      <td>-0.263409</td>\n",
       "      <td>0.830882</td>\n",
       "      <td>0.403380</td>\n",
       "      <td>...</td>\n",
       "      <td>-0.057790</td>\n",
       "      <td>0.178096</td>\n",
       "      <td>-0.138680</td>\n",
       "      <td>-0.413683</td>\n",
       "      <td>1.223200</td>\n",
       "      <td>-0.429950</td>\n",
       "      <td>0.373106</td>\n",
       "      <td>0.020850</td>\n",
       "      <td>-0.222954</td>\n",
       "      <td>1.203122</td>\n",
       "    </tr>\n",
       "    <tr>\n",
       "      <th>2</th>\n",
       "      <td>620730cf9a7947ab96a44e27hk7puWJwSziw0m3sfTkKWA</td>\n",
       "      <td>Госсекретарь Швеции заявила о нежелании вступа...</td>\n",
       "      <td>-0.746490</td>\n",
       "      <td>-0.271373</td>\n",
       "      <td>0.194841</td>\n",
       "      <td>-0.851372</td>\n",
       "      <td>-0.989269</td>\n",
       "      <td>-0.706175</td>\n",
       "      <td>0.771621</td>\n",
       "      <td>0.777659</td>\n",
       "      <td>...</td>\n",
       "      <td>0.944552</td>\n",
       "      <td>0.589432</td>\n",
       "      <td>-0.019413</td>\n",
       "      <td>0.013716</td>\n",
       "      <td>1.101381</td>\n",
       "      <td>0.253186</td>\n",
       "      <td>-1.178420</td>\n",
       "      <td>-0.140897</td>\n",
       "      <td>0.737945</td>\n",
       "      <td>0.589023</td>\n",
       "    </tr>\n",
       "  </tbody>\n",
       "</table>\n",
       "<p>3 rows × 770 columns</p>\n",
       "</div>"
      ],
      "text/plain": [
       "                                      document_id  \\\n",
       "0  624ac09c9a7947db3d80c98eIDE7mtH4RBqGn-8MXfGffQ   \n",
       "1  620f6b899a7947701cf489e1KtVJsteHStO5oditt3Uvzw   \n",
       "2  620730cf9a7947ab96a44e27hk7puWJwSziw0m3sfTkKWA   \n",
       "\n",
       "                                               title   tt_emb0   tt_emb1  \\\n",
       "0  Европейский банк развития приостановил доступ ... -0.404295 -1.772449   \n",
       "1  Кремль назвал регулярным процессом учебные зап... -0.593069 -0.529754   \n",
       "2  Госсекретарь Швеции заявила о нежелании вступа... -0.746490 -0.271373   \n",
       "\n",
       "    tt_emb2   tt_emb3   tt_emb4   tt_emb5   tt_emb6   tt_emb7  ...  tt_emb758  \\\n",
       "0  0.094588 -0.688505 -1.043385 -0.424057  0.631909  1.122434  ...   0.751054   \n",
       "1  0.263953 -0.006187 -0.625174 -0.263409  0.830882  0.403380  ...  -0.057790   \n",
       "2  0.194841 -0.851372 -0.989269 -0.706175  0.771621  0.777659  ...   0.944552   \n",
       "\n",
       "   tt_emb759  tt_emb760  tt_emb761  tt_emb762  tt_emb763  tt_emb764  \\\n",
       "0   0.595936   0.410200  -0.157263   0.757858  -0.095884  -0.728691   \n",
       "1   0.178096  -0.138680  -0.413683   1.223200  -0.429950   0.373106   \n",
       "2   0.589432  -0.019413   0.013716   1.101381   0.253186  -1.178420   \n",
       "\n",
       "   tt_emb765  tt_emb766  tt_emb767  \n",
       "0   0.185698   0.527966   0.595560  \n",
       "1   0.020850  -0.222954   1.203122  \n",
       "2  -0.140897   0.737945   0.589023  \n",
       "\n",
       "[3 rows x 770 columns]"
      ]
     },
     "execution_count": 20,
     "metadata": {},
     "output_type": "execute_result"
    }
   ],
   "source": [
    "df_train.head(3)"
   ]
  },
  {
   "cell_type": "code",
   "execution_count": 21,
   "id": "e579438f-3ab3-4e11-ad87-3d43c57dab8d",
   "metadata": {},
   "outputs": [],
   "source": [
    "df_train.to_csv(os.path.join(DIR_DATA, f'ttl_emb_train_{MODEL_FOLDER}_{MAX_LENGTH}.csv'), index = False)"
   ]
  },
  {
   "cell_type": "code",
   "execution_count": null,
   "id": "7692b59e-02a9-431e-aaee-e3572b02e0d6",
   "metadata": {},
   "outputs": [],
   "source": []
  },
  {
   "cell_type": "code",
   "execution_count": null,
   "id": "132f3cf5-509f-479b-b1ce-aaa465f387d2",
   "metadata": {},
   "outputs": [],
   "source": []
  },
  {
   "cell_type": "markdown",
   "id": "599c518e-6d80-49f7-a1bd-e0384650670c",
   "metadata": {},
   "source": [
    "## Same with test"
   ]
  },
  {
   "cell_type": "code",
   "execution_count": 22,
   "id": "c36712fb-a498-43ed-a783-952037558418",
   "metadata": {},
   "outputs": [],
   "source": [
    "df_test = df_test[['document_id', 'title']]"
   ]
  },
  {
   "cell_type": "code",
   "execution_count": 23,
   "id": "e7f1a27b-ba7d-45c8-89ad-ba046e7c024b",
   "metadata": {},
   "outputs": [
    {
     "data": {
      "application/vnd.jupyter.widget-view+json": {
       "model_id": "c3940b49ba7d4e2ea14385093fe4cfb0",
       "version_major": 2,
       "version_minor": 0
      },
      "text/plain": [
       "  0%|          | 0/3000 [00:00<?, ?it/s]"
      ]
     },
     "metadata": {},
     "output_type": "display_data"
    }
   ],
   "source": [
    "df_test['ttl_emb'] = df_test.title.progress_apply(lambda x: ttl_to_emb(x))"
   ]
  },
  {
   "cell_type": "code",
   "execution_count": 24,
   "id": "b7c4eb72-e01a-48d7-9697-29c17cbab2b8",
   "metadata": {},
   "outputs": [],
   "source": [
    "col_names = [f'tt_emb{idx}' for idx in range(df_test.ttl_emb[0].shape[0])]\n",
    "emb_test = pd.DataFrame(df_test.ttl_emb.to_list(), columns = col_names)"
   ]
  },
  {
   "cell_type": "code",
   "execution_count": 25,
   "id": "8f1e30f1-85a6-49f0-8fed-d066cb75c174",
   "metadata": {},
   "outputs": [],
   "source": [
    "df_test = pd.concat([df_test, emb_test], axis=1)"
   ]
  },
  {
   "cell_type": "code",
   "execution_count": 26,
   "id": "822e2ce0-7ab9-42b3-a842-93ca366922e0",
   "metadata": {},
   "outputs": [],
   "source": [
    "df_test.drop('ttl_emb', axis = 1, inplace = True)"
   ]
  },
  {
   "cell_type": "code",
   "execution_count": 27,
   "id": "d1ac7e8a-b9e2-40e2-98f0-bd69a31fe718",
   "metadata": {},
   "outputs": [
    {
     "data": {
      "text/plain": [
       "(3000, 770)"
      ]
     },
     "execution_count": 27,
     "metadata": {},
     "output_type": "execute_result"
    }
   ],
   "source": [
    "df_test.shape"
   ]
  },
  {
   "cell_type": "code",
   "execution_count": 28,
   "id": "66514498-9f86-40f8-82fb-8b2c4a859178",
   "metadata": {},
   "outputs": [],
   "source": [
    "df_test.to_csv(os.path.join(DIR_DATA, f'ttl_emb_test_{MODEL_FOLDER}_{MAX_LENGTH}.csv'), index = False)"
   ]
  },
  {
   "cell_type": "code",
   "execution_count": null,
   "id": "e0f7ae2f-e088-4250-bb81-f5ae0cee3665",
   "metadata": {},
   "outputs": [],
   "source": []
  },
  {
   "cell_type": "code",
   "execution_count": null,
   "id": "75daa81e-4694-4105-aeb2-5dc1c30decbf",
   "metadata": {},
   "outputs": [],
   "source": []
  }
 ],
 "metadata": {
  "kernelspec": {
   "display_name": "Python 3",
   "language": "python",
   "name": "python3"
  },
  "language_info": {
   "codemirror_mode": {
    "name": "ipython",
    "version": 3
   },
   "file_extension": ".py",
   "mimetype": "text/x-python",
   "name": "python",
   "nbconvert_exporter": "python",
   "pygments_lexer": "ipython3",
   "version": "3.7.10"
  }
 },
 "nbformat": 4,
 "nbformat_minor": 5
}
