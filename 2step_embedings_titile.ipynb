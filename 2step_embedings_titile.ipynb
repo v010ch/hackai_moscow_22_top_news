{
 "cells": [
  {
   "cell_type": "raw",
   "id": "f1c649d6-4c5f-4cb1-9c08-e952917931cd",
   "metadata": {},
   "source": []
  },
  {
   "cell_type": "code",
   "execution_count": 1,
   "id": "6e810963-65eb-4b4d-bb7a-a7c0e33d2151",
   "metadata": {},
   "outputs": [
    {
     "name": "stderr",
     "output_type": "stream",
     "text": [
      "C:\\Users\\_v010ch_\\Anaconda3\\envs\\topnews\\lib\\site-packages\\scipy\\__init__.py:146: UserWarning: A NumPy version >=1.16.5 and <1.23.0 is required for this version of SciPy (detected version 1.23.1\n",
      "  warnings.warn(f\"A NumPy version >={np_minversion} and <{np_maxversion}\"\n",
      "C:\\Users\\_v010ch_\\Anaconda3\\envs\\topnews\\lib\\site-packages\\tqdm\\auto.py:22: TqdmWarning: IProgress not found. Please update jupyter and ipywidgets. See https://ipywidgets.readthedocs.io/en/stable/user_install.html\n",
      "  from .autonotebook import tqdm as notebook_tqdm\n"
     ]
    }
   ],
   "source": [
    "import os\n",
    "import pickle as pkl\n",
    "from typing import List, Tuple, Optional\n",
    "\n",
    "import numpy as np\n",
    "import pandas as pd\n",
    "from sklearn.decomposition import PCA\n",
    "\n",
    "import re\n",
    "#from tqdm import tqdm\n",
    "from tqdm.auto import tqdm  # for notebooks\n",
    "tqdm.pandas()"
   ]
  },
  {
   "cell_type": "code",
   "execution_count": 2,
   "id": "11129389-5cb8-48ad-9fc2-91a9764d02b7",
   "metadata": {},
   "outputs": [],
   "source": [
    "import torch\n",
    "\n",
    "from transformers import AutoTokenizer, AutoModel"
   ]
  },
  {
   "cell_type": "code",
   "execution_count": null,
   "id": "64cb53ee-4b29-47a3-add2-b0d90dd27bfe",
   "metadata": {},
   "outputs": [],
   "source": []
  },
  {
   "cell_type": "code",
   "execution_count": 3,
   "id": "652c4abd-e819-4ff9-add6-7f2b0093f36a",
   "metadata": {},
   "outputs": [],
   "source": [
    "DIR_DATA  = os.path.join(os.getcwd(), 'data')"
   ]
  },
  {
   "cell_type": "code",
   "execution_count": null,
   "id": "643e4489-dd22-4424-91dc-dd64747a84fa",
   "metadata": {},
   "outputs": [],
   "source": []
  },
  {
   "cell_type": "markdown",
   "id": "57dbe8b9-7199-412a-a83d-dc4ca40b1470",
   "metadata": {},
   "source": [
    "## Загружаем и подготавливаем данные"
   ]
  },
  {
   "cell_type": "code",
   "execution_count": 4,
   "id": "668e7928-c2a2-4ae7-81dd-5030382018b9",
   "metadata": {},
   "outputs": [],
   "source": [
    "#'_extended' после парсинга данных с РБК и извлечения данных из спарсенных страниц\n",
    "df_train = pd.read_csv(os.path.join(DIR_DATA, 'train_extended.csv'))#, index_col= 0)\n",
    "df_test  = pd.read_csv(os.path.join(DIR_DATA, 'test_extended.csv'))#, index_col= 0)"
   ]
  },
  {
   "cell_type": "code",
   "execution_count": 5,
   "id": "fac10c41-28fa-4d1b-bfce-3b89dd0dcffe",
   "metadata": {},
   "outputs": [],
   "source": [
    "# sberbank-ai/sbert_large_mt_nlu_ru       1024  1.71Gb\n",
    "# DeepPavlov/rubert-base-cased-sentence   768   0.7Gb\n",
    "# DeepPavlov/rubert-base-cased-conversational  768\n",
    "# DeepPavlov/rubert-base-cased            768\n",
    "# sberbank-ai/sbert_large_nlu_ru          1024  1.71Gb"
   ]
  },
  {
   "cell_type": "code",
   "execution_count": null,
   "id": "2e47016d-d69f-4f86-a3a4-dae2ffbd0f8b",
   "metadata": {},
   "outputs": [],
   "source": []
  },
  {
   "cell_type": "markdown",
   "id": "6206673f-b9cf-4a1e-93aa-0608a203621c",
   "metadata": {},
   "source": [
    "## Загружаем модель"
   ]
  },
  {
   "cell_type": "code",
   "execution_count": 6,
   "id": "1b7e6e5b-4596-4951-8329-d9dd407d6abf",
   "metadata": {},
   "outputs": [],
   "source": [
    "#PRE_TRAINED_MODEL_NAME = 'blanchefort/rubert-base-cased-sentiment-rurewiews'\n",
    "#MODEL_FOLDER = 'ru-blanchefort-rurewiews2'\n",
    "\n",
    "#'DeepPavlov/rubert-base-cased-sentence'\n",
    "#'sberbank-ai/sbert_large_mt_nlu_ru'\n",
    "\n",
    "#PRE_TRAINED_MODEL_NAME = 'DeepPavlov/rubert-base-cased-sentence'\n",
    "#MODEL_FOLDER = 'rubert-base-cased-sentence'\n",
    "\n",
    "PRE_TRAINED_MODEL_NAME = 'sberbank-ai/sbert_large_mt_nlu_ru'\n",
    "MODEL_FOLDER = 'sbert_large_mt_nlu_ru'\n",
    "\n",
    "\n",
    "MAX_LENGTH = 24"
   ]
  },
  {
   "cell_type": "code",
   "execution_count": 7,
   "id": "c700e26f-0511-4ab0-9af6-921db20a0b2f",
   "metadata": {},
   "outputs": [],
   "source": [
    "tokenizer = AutoTokenizer.from_pretrained(PRE_TRAINED_MODEL_NAME)\n",
    "model = AutoModel.from_pretrained(PRE_TRAINED_MODEL_NAME)"
   ]
  },
  {
   "cell_type": "code",
   "execution_count": 8,
   "id": "e4cdd8de-5ab2-4dbd-918f-bdc5672cd2ff",
   "metadata": {},
   "outputs": [],
   "source": [
    "#Mean Pooling - Take attention mask into account for correct averaging\n",
    "def mean_pooling(model_output, attention_mask):\n",
    "    \n",
    "    token_embeddings = model_output[0] #First element of model_output contains all token embeddings\n",
    "    input_mask_expanded = attention_mask.unsqueeze(-1).expand(token_embeddings.size()).float()\n",
    "    sum_embeddings = torch.sum(token_embeddings * input_mask_expanded, 1)\n",
    "    sum_mask = torch.clamp(input_mask_expanded.sum(1), min=1e-9)\n",
    "    \n",
    "    return sum_embeddings / sum_mask"
   ]
  },
  {
   "cell_type": "code",
   "execution_count": 9,
   "id": "0f9e8027-3003-4e11-a08c-f78c319bb040",
   "metadata": {},
   "outputs": [],
   "source": [
    "def ttl_to_emb(inp_text: str) -> np.ndarray:\n",
    "    \n",
    "    encoded_input = tokenizer(inp_text, padding=True, truncation=True, max_length=MAX_LENGTH, return_tensors='pt')\n",
    "\n",
    "    #Compute token embeddings\n",
    "    with torch.no_grad():\n",
    "        model_output = model(**encoded_input)\n",
    "\n",
    "    sentence_embeddings = mean_pooling(model_output, encoded_input['attention_mask'])\n",
    "    \n",
    "    return sentence_embeddings[0].cpu().detach().numpy()"
   ]
  },
  {
   "cell_type": "code",
   "execution_count": null,
   "id": "178a685e-b435-4a0e-b5f5-684423f8e26d",
   "metadata": {},
   "outputs": [],
   "source": []
  },
  {
   "cell_type": "markdown",
   "id": "bb622d2f-479f-483e-8bff-757cc6a0addc",
   "metadata": {},
   "source": [
    "## Делаем эмбеддинга из заголовков. Трейн"
   ]
  },
  {
   "cell_type": "code",
   "execution_count": 10,
   "id": "f2082e1a-df85-47d5-add3-bd89de8611cd",
   "metadata": {},
   "outputs": [],
   "source": [
    "def get_ttl_emb(inp_df: pd.DataFrame, inp_PCA: PCA, inp_names: List[str], bTrainPCA: Optional[bool] = False) -> Tuple[pd.DataFrame, PCA]:\n",
    "    \n",
    "    inp_df = inp_df[['document_id', 'true_title']]\n",
    "    inp_df['ttl_emb'] = inp_df.true_title.progress_apply(lambda x: ttl_to_emb(x))\n",
    "    \n",
    "    if bTrainPCA:\n",
    "        print('fitting PCA')\n",
    "        inp_PCA.fit(inp_df.ttl_emb.to_list())\n",
    "    \n",
    "    emb_train = pd.DataFrame(inp_PCA.transform(inp_df.ttl_emb.to_list()), columns = inp_names)\n",
    "    \n",
    "    inp_df = pd.concat([inp_df, emb_train], axis=1)\n",
    "    inp_df.drop('ttl_emb', axis = 1, inplace = True)\n",
    "    \n",
    "    return (inp_df, inp_PCA)"
   ]
  },
  {
   "cell_type": "code",
   "execution_count": 11,
   "id": "690cbcc1-9b1b-480b-b38c-b6937673b3c1",
   "metadata": {},
   "outputs": [],
   "source": [
    "PCA_COMPONENTS = 64\n",
    "ttl_pca = PCA(n_components = PCA_COMPONENTS)\n",
    "col_names = [f'tt_emb{idx}' for idx in range(PCA_COMPONENTS)]"
   ]
  },
  {
   "cell_type": "code",
   "execution_count": 12,
   "id": "7e0ba7f7-590b-4118-9cac-ce69c4476daf",
   "metadata": {},
   "outputs": [
    {
     "name": "stderr",
     "output_type": "stream",
     "text": [
      "100%|██████████████████████████████████████████████████████████████████████████████| 7000/7000 [24:04<00:00,  4.85it/s]\n",
      "C:\\Users\\_v010ch_\\AppData\\Local\\Temp\\ipykernel_12232\\617641471.py:4: SettingWithCopyWarning: \n",
      "A value is trying to be set on a copy of a slice from a DataFrame.\n",
      "Try using .loc[row_indexer,col_indexer] = value instead\n",
      "\n",
      "See the caveats in the documentation: https://pandas.pydata.org/pandas-docs/stable/user_guide/indexing.html#returning-a-view-versus-a-copy\n",
      "  inp_df['ttl_emb'] = inp_df.true_title.progress_apply(lambda x: ttl_to_emb(x))\n"
     ]
    },
    {
     "name": "stdout",
     "output_type": "stream",
     "text": [
      "fitting PCA\n"
     ]
    },
    {
     "name": "stderr",
     "output_type": "stream",
     "text": [
      "100%|██████████████████████████████████████████████████████████████████████████████| 3000/3000 [10:13<00:00,  4.89it/s]"
     ]
    },
    {
     "name": "stdout",
     "output_type": "stream",
     "text": [
      "(7000, 66) (3000, 66)\n"
     ]
    },
    {
     "name": "stderr",
     "output_type": "stream",
     "text": [
      "\n",
      "C:\\Users\\_v010ch_\\AppData\\Local\\Temp\\ipykernel_12232\\617641471.py:4: SettingWithCopyWarning: \n",
      "A value is trying to be set on a copy of a slice from a DataFrame.\n",
      "Try using .loc[row_indexer,col_indexer] = value instead\n",
      "\n",
      "See the caveats in the documentation: https://pandas.pydata.org/pandas-docs/stable/user_guide/indexing.html#returning-a-view-versus-a-copy\n",
      "  inp_df['ttl_emb'] = inp_df.true_title.progress_apply(lambda x: ttl_to_emb(x))\n"
     ]
    }
   ],
   "source": [
    "df_train, ttl_pca = get_ttl_emb(df_train, ttl_pca, col_names, True)\n",
    "df_test, _ = get_ttl_emb(df_test, ttl_pca, col_names)\n",
    "print(df_train.shape, df_test.shape)"
   ]
  },
  {
   "cell_type": "code",
   "execution_count": null,
   "id": "c48e7365-faaa-4ef9-b72d-3a174fe19c88",
   "metadata": {},
   "outputs": [],
   "source": []
  },
  {
   "cell_type": "raw",
   "id": "d9cba679-26ca-4b34-9942-98418ba26ae2",
   "metadata": {},
   "source": [
    "df_train = df_train[['document_id', 'true_title']]"
   ]
  },
  {
   "cell_type": "raw",
   "id": "5b7294ab-fab6-4289-91cc-15f531e1dadb",
   "metadata": {},
   "source": [
    "df_train['ttl_emb'] = df_train.true_title.progress_apply(lambda x: ttl_to_emb(x))"
   ]
  },
  {
   "cell_type": "raw",
   "id": "c37f9aba-e34e-4079-bb3f-342c5802097c",
   "metadata": {},
   "source": [
    "#col_names = [f'tt_emb{idx}' for idx in range(df_train.ttl_emb[0].shape[0])]\n",
    "#emb_train = pd.DataFrame(df_train.ttl_emb.to_list(), columns = col_names)"
   ]
  },
  {
   "cell_type": "raw",
   "id": "288b1210-d5aa-4433-896b-6ba49cb441b7",
   "metadata": {},
   "source": [
    "%%time\n",
    "#ttl_pca = PCA(n_components = PCA_COMPONENTS)\n",
    "ttl_pca.fit(df_train.ttl_emb.to_list())\n",
    "\n",
    "#col_names = [f'tt_emb{idx}' for idx in range(PCA_COMPONENTS)]\n",
    "emb_train = pd.DataFrame(ttl_pca.transform(df_train.ttl_emb.to_list()), columns = col_names)"
   ]
  },
  {
   "cell_type": "raw",
   "id": "ccce3f64-d6a7-4af9-9512-80bf6d2d4421",
   "metadata": {},
   "source": [
    "df_train = pd.concat([df_train, emb_train], axis=1)\n",
    "df_train.drop('ttl_emb', axis = 1, inplace = True)\n",
    "df_train.shape"
   ]
  },
  {
   "cell_type": "code",
   "execution_count": 13,
   "id": "6bf1b66f-d3a5-4d5e-b05a-c0b5bcefa90a",
   "metadata": {},
   "outputs": [
    {
     "data": {
      "text/html": [
       "<div>\n",
       "<style scoped>\n",
       "    .dataframe tbody tr th:only-of-type {\n",
       "        vertical-align: middle;\n",
       "    }\n",
       "\n",
       "    .dataframe tbody tr th {\n",
       "        vertical-align: top;\n",
       "    }\n",
       "\n",
       "    .dataframe thead th {\n",
       "        text-align: right;\n",
       "    }\n",
       "</style>\n",
       "<table border=\"1\" class=\"dataframe\">\n",
       "  <thead>\n",
       "    <tr style=\"text-align: right;\">\n",
       "      <th></th>\n",
       "      <th>document_id</th>\n",
       "      <th>true_title</th>\n",
       "      <th>tt_emb0</th>\n",
       "      <th>tt_emb1</th>\n",
       "      <th>tt_emb2</th>\n",
       "      <th>tt_emb3</th>\n",
       "      <th>tt_emb4</th>\n",
       "      <th>tt_emb5</th>\n",
       "      <th>tt_emb6</th>\n",
       "      <th>tt_emb7</th>\n",
       "      <th>...</th>\n",
       "      <th>tt_emb54</th>\n",
       "      <th>tt_emb55</th>\n",
       "      <th>tt_emb56</th>\n",
       "      <th>tt_emb57</th>\n",
       "      <th>tt_emb58</th>\n",
       "      <th>tt_emb59</th>\n",
       "      <th>tt_emb60</th>\n",
       "      <th>tt_emb61</th>\n",
       "      <th>tt_emb62</th>\n",
       "      <th>tt_emb63</th>\n",
       "    </tr>\n",
       "  </thead>\n",
       "  <tbody>\n",
       "    <tr>\n",
       "      <th>0</th>\n",
       "      <td>624ac09c9a7947db3d80c98eIDE7mtH4RBqGn-8MXfGffQ</td>\n",
       "      <td>Европейский банк развития приостановил доступ ...</td>\n",
       "      <td>-0.199392</td>\n",
       "      <td>-6.211633</td>\n",
       "      <td>-2.930265</td>\n",
       "      <td>-2.131648</td>\n",
       "      <td>-5.542071</td>\n",
       "      <td>1.078423</td>\n",
       "      <td>-0.414759</td>\n",
       "      <td>-1.777834</td>\n",
       "      <td>...</td>\n",
       "      <td>0.225387</td>\n",
       "      <td>-1.217202</td>\n",
       "      <td>0.701870</td>\n",
       "      <td>-0.373144</td>\n",
       "      <td>0.448349</td>\n",
       "      <td>0.942661</td>\n",
       "      <td>-1.501726</td>\n",
       "      <td>-0.472269</td>\n",
       "      <td>0.296259</td>\n",
       "      <td>0.955972</td>\n",
       "    </tr>\n",
       "    <tr>\n",
       "      <th>1</th>\n",
       "      <td>620f6b899a7947701cf489e1KtVJsteHStO5oditt3Uvzw</td>\n",
       "      <td>Кремль назвал регулярным процессом учебные зап...</td>\n",
       "      <td>-0.311328</td>\n",
       "      <td>3.762958</td>\n",
       "      <td>-1.012922</td>\n",
       "      <td>4.694715</td>\n",
       "      <td>1.666159</td>\n",
       "      <td>-3.403345</td>\n",
       "      <td>2.706213</td>\n",
       "      <td>0.113333</td>\n",
       "      <td>...</td>\n",
       "      <td>0.405914</td>\n",
       "      <td>0.860465</td>\n",
       "      <td>0.697311</td>\n",
       "      <td>-0.705877</td>\n",
       "      <td>0.951299</td>\n",
       "      <td>0.415550</td>\n",
       "      <td>0.871835</td>\n",
       "      <td>-0.520840</td>\n",
       "      <td>-1.120788</td>\n",
       "      <td>-0.232487</td>\n",
       "    </tr>\n",
       "    <tr>\n",
       "      <th>2</th>\n",
       "      <td>620730cf9a7947ab96a44e27hk7puWJwSziw0m3sfTkKWA</td>\n",
       "      <td>Госсекретарь Швеции заявила о нежелании вступа...</td>\n",
       "      <td>-6.245548</td>\n",
       "      <td>-0.188366</td>\n",
       "      <td>-3.480821</td>\n",
       "      <td>-4.119540</td>\n",
       "      <td>2.000155</td>\n",
       "      <td>6.295955</td>\n",
       "      <td>1.584439</td>\n",
       "      <td>-0.174699</td>\n",
       "      <td>...</td>\n",
       "      <td>-0.644506</td>\n",
       "      <td>0.842702</td>\n",
       "      <td>-0.398745</td>\n",
       "      <td>0.656338</td>\n",
       "      <td>0.127074</td>\n",
       "      <td>-1.540774</td>\n",
       "      <td>-0.230054</td>\n",
       "      <td>-0.026394</td>\n",
       "      <td>-0.000502</td>\n",
       "      <td>0.371672</td>\n",
       "    </tr>\n",
       "  </tbody>\n",
       "</table>\n",
       "<p>3 rows × 66 columns</p>\n",
       "</div>"
      ],
      "text/plain": [
       "                                      document_id  \\\n",
       "0  624ac09c9a7947db3d80c98eIDE7mtH4RBqGn-8MXfGffQ   \n",
       "1  620f6b899a7947701cf489e1KtVJsteHStO5oditt3Uvzw   \n",
       "2  620730cf9a7947ab96a44e27hk7puWJwSziw0m3sfTkKWA   \n",
       "\n",
       "                                          true_title   tt_emb0   tt_emb1  \\\n",
       "0  Европейский банк развития приостановил доступ ... -0.199392 -6.211633   \n",
       "1  Кремль назвал регулярным процессом учебные зап... -0.311328  3.762958   \n",
       "2  Госсекретарь Швеции заявила о нежелании вступа... -6.245548 -0.188366   \n",
       "\n",
       "    tt_emb2   tt_emb3   tt_emb4   tt_emb5   tt_emb6   tt_emb7  ...  tt_emb54  \\\n",
       "0 -2.930265 -2.131648 -5.542071  1.078423 -0.414759 -1.777834  ...  0.225387   \n",
       "1 -1.012922  4.694715  1.666159 -3.403345  2.706213  0.113333  ...  0.405914   \n",
       "2 -3.480821 -4.119540  2.000155  6.295955  1.584439 -0.174699  ... -0.644506   \n",
       "\n",
       "   tt_emb55  tt_emb56  tt_emb57  tt_emb58  tt_emb59  tt_emb60  tt_emb61  \\\n",
       "0 -1.217202  0.701870 -0.373144  0.448349  0.942661 -1.501726 -0.472269   \n",
       "1  0.860465  0.697311 -0.705877  0.951299  0.415550  0.871835 -0.520840   \n",
       "2  0.842702 -0.398745  0.656338  0.127074 -1.540774 -0.230054 -0.026394   \n",
       "\n",
       "   tt_emb62  tt_emb63  \n",
       "0  0.296259  0.955972  \n",
       "1 -1.120788 -0.232487  \n",
       "2 -0.000502  0.371672  \n",
       "\n",
       "[3 rows x 66 columns]"
      ]
     },
     "execution_count": 13,
     "metadata": {},
     "output_type": "execute_result"
    }
   ],
   "source": [
    "df_train.head(3)"
   ]
  },
  {
   "cell_type": "code",
   "execution_count": null,
   "id": "894f131a-d51e-4068-9a1d-2ec163960a5d",
   "metadata": {},
   "outputs": [],
   "source": []
  },
  {
   "cell_type": "markdown",
   "id": "ae9fabc6-2744-4529-a285-3f349d50be6e",
   "metadata": {},
   "source": [
    "Сохраняем только эмбеддинги, без остальных признаков"
   ]
  },
  {
   "cell_type": "code",
   "execution_count": 14,
   "id": "e579438f-3ab3-4e11-ad87-3d43c57dab8d",
   "metadata": {},
   "outputs": [],
   "source": [
    "df_train.to_csv(os.path.join(DIR_DATA, f'ttl_cln_emb_train_{MODEL_FOLDER}_{MAX_LENGTH}_pca{PCA_COMPONENTS}.csv'), index = False)"
   ]
  },
  {
   "cell_type": "code",
   "execution_count": null,
   "id": "7692b59e-02a9-431e-aaee-e3572b02e0d6",
   "metadata": {},
   "outputs": [],
   "source": []
  },
  {
   "cell_type": "code",
   "execution_count": null,
   "id": "132f3cf5-509f-479b-b1ce-aaa465f387d2",
   "metadata": {},
   "outputs": [],
   "source": []
  },
  {
   "cell_type": "markdown",
   "id": "599c518e-6d80-49f7-a1bd-e0384650670c",
   "metadata": {},
   "source": [
    "## Выполняем тоже с тестом"
   ]
  },
  {
   "cell_type": "raw",
   "id": "901f7386-a5d6-463e-b2aa-449d969461b0",
   "metadata": {},
   "source": [
    "df_test = df_test[['document_id', 'true_title']]"
   ]
  },
  {
   "cell_type": "raw",
   "id": "0ae49794-fa04-44f3-85c5-caf2d1c0f9e7",
   "metadata": {},
   "source": [
    "df_test['ttl_emb'] = df_test.true_title.progress_apply(lambda x: ttl_to_emb(x))"
   ]
  },
  {
   "cell_type": "markdown",
   "id": "dbb56ec7-b396-4944-a9be-560602a0e0d7",
   "metadata": {},
   "source": [
    "Сокращаем размерность"
   ]
  },
  {
   "cell_type": "raw",
   "id": "90528832-1f8c-4d72-83b5-668be38c69ea",
   "metadata": {},
   "source": [
    "#col_names = [f'tt_emb{idx}' for idx in range(df_test.ttl_emb[0].shape[0])]\n",
    "emb_test = pd.DataFrame(ttl_pca.transform(df_test.ttl_emb.to_list()), columns = col_names)\n",
    "#emb_test = pd.DataFrame(df_test.ttl_emb.to_list(), columns = col_names)"
   ]
  },
  {
   "cell_type": "raw",
   "id": "5568eb77-c13c-4811-9ab9-b89373b27bda",
   "metadata": {},
   "source": [
    "df_test = pd.concat([df_test, emb_test], axis=1)\n",
    "df_test.drop('ttl_emb', axis = 1, inplace = True)\n",
    "df_test.shape"
   ]
  },
  {
   "cell_type": "code",
   "execution_count": null,
   "id": "822e2ce0-7ab9-42b3-a842-93ca366922e0",
   "metadata": {},
   "outputs": [],
   "source": []
  },
  {
   "cell_type": "code",
   "execution_count": null,
   "id": "d1ac7e8a-b9e2-40e2-98f0-bd69a31fe718",
   "metadata": {},
   "outputs": [],
   "source": []
  },
  {
   "cell_type": "markdown",
   "id": "86d94726-5045-4d21-a76c-11032e4ba486",
   "metadata": {},
   "source": [
    "Сохраняем только эмбеддинги, без остальных признаков"
   ]
  },
  {
   "cell_type": "code",
   "execution_count": 15,
   "id": "66514498-9f86-40f8-82fb-8b2c4a859178",
   "metadata": {},
   "outputs": [],
   "source": [
    "df_test.to_csv(os.path.join(DIR_DATA, f'ttl_cln_emb_test_{MODEL_FOLDER}_{MAX_LENGTH}_pca{PCA_COMPONENTS}.csv'), index = False)"
   ]
  },
  {
   "cell_type": "code",
   "execution_count": null,
   "id": "e0f7ae2f-e088-4250-bb81-f5ae0cee3665",
   "metadata": {},
   "outputs": [],
   "source": []
  },
  {
   "cell_type": "code",
   "execution_count": null,
   "id": "75daa81e-4694-4105-aeb2-5dc1c30decbf",
   "metadata": {},
   "outputs": [],
   "source": []
  }
 ],
 "metadata": {
  "kernelspec": {
   "display_name": "topnews",
   "language": "python",
   "name": "topnews"
  },
  "language_info": {
   "codemirror_mode": {
    "name": "ipython",
    "version": 3
   },
   "file_extension": ".py",
   "mimetype": "text/x-python",
   "name": "python",
   "nbconvert_exporter": "python",
   "pygments_lexer": "ipython3",
   "version": "3.10.4"
  }
 },
 "nbformat": 4,
 "nbformat_minor": 5
}
