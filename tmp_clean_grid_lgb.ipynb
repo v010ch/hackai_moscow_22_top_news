{
 "cells": [
  {
   "cell_type": "code",
   "execution_count": 1,
   "id": "a0d7d28b-9f12-4e53-a331-7ed6bfa59423",
   "metadata": {},
   "outputs": [],
   "source": [
    "import os"
   ]
  },
  {
   "cell_type": "code",
   "execution_count": null,
   "id": "02622c25-dabd-401c-a8b8-4a0a54754b6b",
   "metadata": {},
   "outputs": [],
   "source": []
  },
  {
   "cell_type": "code",
   "execution_count": 1,
   "id": "a185974f-eb24-4067-86df-4e91742e70c5",
   "metadata": {},
   "outputs": [],
   "source": [
    " # Using readlines()\n",
    "file_in = open('tmp_grid_lgb.txt', 'r')\n",
    "Lines = file_in.readlines()\n",
    " \n",
    "count = 0\n",
    "\n",
    "cleared = []\n",
    "# Strips the newline character\n",
    "for line in Lines:\n",
    "    if line.startswith('[LightGBM] [Warning]') or\\\n",
    "       line.startswith('[LightGBM] [Info]') or\\\n",
    "       line.startswith('You can set'):\n",
    "        continue\n",
    "    else:\n",
    "        cleared.append(line)\n",
    "file_in.close()   \n",
    "\n",
    "\n",
    "# writing to file\n",
    "file_out = open('tmp_grid_lgb2.txt', 'w')\n",
    "file_out.writelines(cleared)\n",
    "file_out.close()"
   ]
  },
  {
   "cell_type": "code",
   "execution_count": null,
   "id": "74d4ece9-35dd-4826-9d85-0bfadaa72506",
   "metadata": {},
   "outputs": [],
   "source": []
  },
  {
   "cell_type": "code",
   "execution_count": 2,
   "id": "dfa56d8f-5fff-4a80-9406-105205a62b1b",
   "metadata": {},
   "outputs": [],
   "source": [
    " # Using readlines()\n",
    "file_in = open('tmp_grid_lgb.txt', 'r')\n",
    "Lines = file_in.readlines()\n",
    " \n",
    "count = 0\n",
    "\n",
    "cleared = []\n",
    "# Strips the newline character\n",
    "for line in Lines:\n",
    "    if line.startswith('nl='):\n",
    "        tmp = float(line.split()[-1])\n",
    "        if tmp < 85000:\n",
    "            cleared.append(line)\n",
    "    else:\n",
    "        continue\n",
    "        \n",
    "file_in.close()   \n",
    "\n",
    "\n",
    "# writing to file\n",
    "file_out = open('tmp_grid_lgb4.txt', 'w')\n",
    "file_out.writelines(cleared)\n",
    "file_out.close()"
   ]
  },
  {
   "cell_type": "code",
   "execution_count": null,
   "id": "f50bbd7c-8f5e-4e61-b61f-a1648707139c",
   "metadata": {},
   "outputs": [],
   "source": []
  }
 ],
 "metadata": {
  "kernelspec": {
   "display_name": "Python 3",
   "language": "python",
   "name": "python3"
  },
  "language_info": {
   "codemirror_mode": {
    "name": "ipython",
    "version": 3
   },
   "file_extension": ".py",
   "mimetype": "text/x-python",
   "name": "python",
   "nbconvert_exporter": "python",
   "pygments_lexer": "ipython3",
   "version": "3.7.10"
  }
 },
 "nbformat": 4,
 "nbformat_minor": 5
}
