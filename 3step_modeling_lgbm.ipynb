{
 "cells": [
  {
   "cell_type": "code",
   "execution_count": 1,
   "id": "6f62ec01-36f8-4ffe-b187-0616094602d5",
   "metadata": {},
   "outputs": [],
   "source": [
    "%load_ext watermark"
   ]
  },
  {
   "cell_type": "code",
   "execution_count": 2,
   "id": "fd631481-f748-4610-94f4-a0d9b5bbe4ed",
   "metadata": {},
   "outputs": [
    {
     "name": "stdout",
     "output_type": "stream",
     "text": [
      "Last updated: 2022-07-19T19:39:33.144811+03:00\n",
      "\n",
      "Python implementation: CPython\n",
      "Python version       : 3.7.10\n",
      "IPython version      : 7.22.0\n",
      "\n",
      "Compiler    : MSC v.1916 64 bit (AMD64)\n",
      "OS          : Windows\n",
      "Release     : 10\n",
      "Machine     : AMD64\n",
      "Processor   : Intel64 Family 6 Model 158 Stepping 9, GenuineIntel\n",
      "CPU cores   : 8\n",
      "Architecture: 64bit\n",
      "\n"
     ]
    }
   ],
   "source": [
    "%watermark"
   ]
  },
  {
   "cell_type": "code",
   "execution_count": 3,
   "id": "2f268c90-86ca-4ea1-8a02-3a6b43c450cf",
   "metadata": {},
   "outputs": [],
   "source": [
    "import os\n",
    "import pickle as pkl\n",
    "#import tqdm\n",
    "\n",
    "import numpy as np\n",
    "import pandas as pd\n",
    "\n",
    "from sklearn.metrics import r2_score\n",
    "from sklearn import preprocessing\n",
    "import lightgbm as lgb\n",
    "\n",
    "from itertools import product\n",
    "from typing import Tuple"
   ]
  },
  {
   "cell_type": "code",
   "execution_count": 4,
   "id": "fadabdfa-6c3b-454d-af66-46cba176fed0",
   "metadata": {},
   "outputs": [],
   "source": [
    "from tqdm.auto import tqdm\n",
    "tqdm.pandas()"
   ]
  },
  {
   "cell_type": "code",
   "execution_count": 5,
   "id": "68c33f68-68f2-4e66-a8c6-4a7ac88eb910",
   "metadata": {},
   "outputs": [
    {
     "name": "stdout",
     "output_type": "stream",
     "text": [
      "sklearn_version: 0.24.2\n"
     ]
    }
   ],
   "source": [
    "#from catboost import __version__ as cb_version\n",
    "from sklearn import __version__ as sklearn_version\n",
    "\n",
    "#print(f'cb_version: {cb_version}')\n",
    "print(f'sklearn_version: {sklearn_version}')"
   ]
  },
  {
   "cell_type": "code",
   "execution_count": 6,
   "id": "21f6a58a-b019-4436-83ec-428714473139",
   "metadata": {},
   "outputs": [
    {
     "name": "stdout",
     "output_type": "stream",
     "text": [
      "sklearn : 0.24.2\n",
      "lightgbm: 3.3.2\n",
      "pandas  : 0.25.3\n",
      "numpy   : 1.20.3\n",
      "\n"
     ]
    }
   ],
   "source": [
    "%watermark --iversions"
   ]
  },
  {
   "cell_type": "code",
   "execution_count": null,
   "id": "8238fc41-4ff8-45af-832d-8ca6512b8995",
   "metadata": {},
   "outputs": [],
   "source": []
  },
  {
   "cell_type": "code",
   "execution_count": null,
   "id": "fabdb0fa-405c-4649-b004-d353666fef7a",
   "metadata": {},
   "outputs": [],
   "source": []
  },
  {
   "cell_type": "markdown",
   "id": "3f3d5ca4-753b-47f1-801f-02be08c0bc3c",
   "metadata": {},
   "source": [
    "## Reproducibility block"
   ]
  },
  {
   "cell_type": "code",
   "execution_count": 7,
   "id": "8d133278-9bc6-4c5d-b029-bd0c31d6adf1",
   "metadata": {},
   "outputs": [],
   "source": [
    "# seed the RNG for all devices (both CPU and CUDA)\n",
    "#torch.manual_seed(1984)\n",
    "\n",
    "#Disabling the benchmarking feature causes cuDNN to deterministically select an algorithm, \n",
    "#possibly at the cost of reduced performance.\n",
    "#torch.backends.cudnn.benchmark = False\n",
    "\n",
    "# for custom operators,\n",
    "import random\n",
    "random.seed(5986721)\n",
    "\n",
    "# \n",
    "np.random.seed(62185)\n",
    "\n",
    "#sklearn take seed from a line abowe\n",
    "\n",
    "CB_RANDOMSEED  = 309487\n",
    "XGB_RANDOMSEED = 56\n",
    "LGB_RANDOMSEED = 874256"
   ]
  },
  {
   "cell_type": "code",
   "execution_count": null,
   "id": "9f38ebd5-a020-47eb-b1f4-9ea987afb524",
   "metadata": {},
   "outputs": [],
   "source": []
  },
  {
   "cell_type": "code",
   "execution_count": 8,
   "id": "019813d1-62ae-4b4d-a2f6-c0d74c146413",
   "metadata": {},
   "outputs": [],
   "source": [
    "DIR_DATA   = os.path.join(os.getcwd(), 'data')\n",
    "DIR_MODELS = os.path.join(os.getcwd(), 'models')\n",
    "DIR_SUBM   = os.path.join(os.getcwd(), 'subm')\n",
    "DIR_SUBM_PART = os.path.join(os.getcwd(), 'subm', 'partial')"
   ]
  },
  {
   "cell_type": "code",
   "execution_count": null,
   "id": "0d608686-6d8e-49ad-906b-b20933e0ec2a",
   "metadata": {},
   "outputs": [],
   "source": []
  },
  {
   "cell_type": "code",
   "execution_count": 9,
   "id": "d312d2c0-780e-4b83-935f-a41e57b976b0",
   "metadata": {},
   "outputs": [],
   "source": [
    "NTRY = 19\n",
    "NAME = f'{NTRY}_lgb_pca64_sber_lags_parse_bord_nose'"
   ]
  },
  {
   "cell_type": "code",
   "execution_count": 10,
   "id": "a00a6046-d680-40b7-8607-62d4c6e6817b",
   "metadata": {},
   "outputs": [],
   "source": [
    "#CTR_UKR = 6.096\n",
    "VIEWS_UKR = 2554204\n",
    "DEPTH_UKR = 1.799\n",
    "FPR_UKR = 4.978"
   ]
  },
  {
   "cell_type": "code",
   "execution_count": null,
   "id": "ec7f8a72-dd35-405d-b85a-0dbe760e3536",
   "metadata": {},
   "outputs": [],
   "source": []
  },
  {
   "cell_type": "markdown",
   "id": "ae3e27a3-16bb-456d-b7a1-7975d5f85ea5",
   "metadata": {},
   "source": [
    "## Load data"
   ]
  },
  {
   "cell_type": "code",
   "execution_count": 11,
   "id": "ee296ac9-baf6-4bcb-89ce-5fe99408403d",
   "metadata": {},
   "outputs": [],
   "source": [
    "df_train = pd.read_csv(os.path.join(DIR_DATA, 'train_upd.csv'))#, index_col= 0)\n",
    "x_train  = pd.read_csv(os.path.join(DIR_DATA, 'x_train.csv'))#, index_col= 0)\n",
    "x_val    = pd.read_csv(os.path.join(DIR_DATA, 'x_val.csv'))#, index_col= 0)\n",
    "df_test  = pd.read_csv(os.path.join(DIR_DATA, 'test_upd.csv'))#, index_col= 0)\n",
    "\n",
    "#with open(os.path.join(DIR_DATA, 'cat_columns.pkl'), 'rb') as pickle_file:\n",
    "#    cat_cols = pkl.load(pickle_file)\n",
    "    \n",
    "#with open(os.path.join(DIR_DATA, 'num_columns.pkl'), 'rb') as pickle_file:\n",
    "#    num_cols = pkl.load(pickle_file)\n",
    "\n",
    "with open(os.path.join(DIR_DATA, 'clmns.pkl'), 'rb') as pickle_file:\n",
    "    clmns = pkl.load(pickle_file)"
   ]
  },
  {
   "cell_type": "code",
   "execution_count": 12,
   "id": "b00427ec-ac4f-4da3-8dfb-94871e63072d",
   "metadata": {},
   "outputs": [
    {
     "data": {
      "text/plain": [
       "((6981, 293), (3000, 290))"
      ]
     },
     "execution_count": 12,
     "metadata": {},
     "output_type": "execute_result"
    }
   ],
   "source": [
    "df_train.shape, df_test.shape, #len(cat_cols), len(num_cols), #x_train.shape, x_val.shape,"
   ]
  },
  {
   "cell_type": "markdown",
   "id": "d4b599d2-168d-4cc1-a4ea-fc34d707a0ce",
   "metadata": {},
   "source": [
    "отделяем метки от данных"
   ]
  },
  {
   "cell_type": "raw",
   "id": "23f30666-d7ac-488a-944e-a8ce58ee5c97",
   "metadata": {},
   "source": [
    "y_train = df_train[['views', 'depth', 'full_reads_percent']]\n",
    "df_train.drop(['views', 'depth', 'full_reads_percent'], axis = 1, inplace = True)\n",
    "\n",
    "df_train.shape, y_train.shape"
   ]
  },
  {
   "cell_type": "code",
   "execution_count": 13,
   "id": "96834c96-980c-44de-b820-c2e78a33de72",
   "metadata": {},
   "outputs": [],
   "source": [
    "y_train = x_train[['views', 'depth', 'full_reads_percent']]\n",
    "x_train.drop(['views', 'depth', 'full_reads_percent'], axis = 1, inplace = True)\n",
    "\n",
    "y_val = x_val[['views', 'depth', 'full_reads_percent']]\n",
    "x_val.drop(['views', 'depth', 'full_reads_percent'], axis = 1, inplace = True)"
   ]
  },
  {
   "cell_type": "code",
   "execution_count": 14,
   "id": "c416f029-f4cc-46cf-aa20-c30e664b1cdb",
   "metadata": {},
   "outputs": [],
   "source": [
    "#cat_cols + num_cols"
   ]
  },
  {
   "cell_type": "code",
   "execution_count": 15,
   "id": "0e66639a-50c9-4c53-a52f-84c7c81bb1b9",
   "metadata": {},
   "outputs": [],
   "source": [
    "#cat_cols = cat_cols + ['category']"
   ]
  },
  {
   "cell_type": "code",
   "execution_count": 16,
   "id": "c5fe55b6-4ad1-4ef0-af26-ad3877729fed",
   "metadata": {},
   "outputs": [],
   "source": [
    "df_train['category'] = df_train['category'].astype('category')\n",
    "x_train['category']  = x_train['category'].astype('category')\n",
    "x_val['category']    = x_val['category'].astype('category')\n",
    "df_test['category']  = df_test['category'].astype('category')"
   ]
  },
  {
   "cell_type": "code",
   "execution_count": 17,
   "id": "240c92a5-78bc-4b98-a5fd-83e68f9a532a",
   "metadata": {},
   "outputs": [],
   "source": [
    "#for el in num_cols:\n",
    "#    print(el)"
   ]
  },
  {
   "cell_type": "code",
   "execution_count": 18,
   "id": "aa41ec68-228a-4c96-baf7-aecba18bc64a",
   "metadata": {},
   "outputs": [
    {
     "name": "stdout",
     "output_type": "stream",
     "text": [
      "['ph_report', 'ph_gallery', 'tv_prog', 'online', 'video', 'infogr']\n",
      "['hour', 'dow', 'day', 'mounth', 'holiday', 'day_before_holiday', 'day_after_holiday', 'distrib_brdr']\n"
     ]
    }
   ],
   "source": [
    "cat_cols = []\n",
    "num_cols = []\n",
    "\n",
    "for el in clmns.keys():\n",
    "    cat_cols.extend(clmns[el]['cat'])\n",
    "    num_cols.extend(clmns[el]['num'])\n",
    "    if len(clmns[el]['both']) != 0:\n",
    "        print(clmns[el]['both'])"
   ]
  },
  {
   "cell_type": "code",
   "execution_count": 19,
   "id": "16bebc15-7468-44d7-a14f-91775e4eb9ba",
   "metadata": {},
   "outputs": [],
   "source": [
    "num_cols.extend(['hour', 'mounth'])\n",
    "cat_cols.extend([ 'dow',\n",
    "                'ph_report', 'ph_gallery', 'tv_prog', 'online', 'video', 'infogr',\n",
    "                 'holiday', 'day_before_holiday', 'day_after_holiday', 'distrib_brdr',\n",
    "                 #'spec_event_1',\n",
    "                ])"
   ]
  },
  {
   "cell_type": "code",
   "execution_count": 20,
   "id": "c5798eff-7b74-4007-b2c2-208b244e459d",
   "metadata": {},
   "outputs": [],
   "source": [
    "def r2(preds: np.ndarray, data: lgb.Dataset) -> Tuple[str, float, bool]:\n",
    "    label = data.get_label()\n",
    "    #weight = data.get_weight()\n",
    "    #p_dash = (1 - label) + (2 * label - 1) * preds\n",
    "    #loss_by_example = - np.log(p_dash)\n",
    "    #loss = np.average(loss_by_example, weights=weight)\n",
    "\n",
    "    # # eval_name, eval_result, is_higher_better\n",
    "    return 'r2', r2_score(preds, label), False"
   ]
  },
  {
   "cell_type": "code",
   "execution_count": null,
   "id": "bee97558-e1ce-4d98-9d5d-bac5de43d124",
   "metadata": {},
   "outputs": [],
   "source": []
  },
  {
   "cell_type": "code",
   "execution_count": null,
   "id": "998b3a84-cec0-44e5-a1db-c17e8112e0f6",
   "metadata": {},
   "outputs": [],
   "source": []
  },
  {
   "cell_type": "code",
   "execution_count": null,
   "id": "50e6995a-9c6c-451b-bfcd-668e1456da6c",
   "metadata": {},
   "outputs": [],
   "source": []
  },
  {
   "cell_type": "raw",
   "id": "2694210a-4b8c-4423-8b22-145ef70edf5a",
   "metadata": {},
   "source": [
    "lgbm_params =  {\n",
    "    'task': 'train',\n",
    "    'boosting_type': 'gbdt',\n",
    "    'objective': 'regression',\n",
    "    'metric': 'rmse',\n",
    "    \"learning_rate\": 0.01,\n",
    "    \"num_leaves\": 180,\n",
    "    \"feature_fraction\": 0.50,\n",
    "    \"bagging_fraction\": 0.50,\n",
    "    'bagging_freq': 4,\n",
    "    \"max_depth\": -1,\n",
    "    \"reg_alpha\": 0.3,\n",
    "    \"reg_lambda\": 0.1,\n",
    "    #\"min_split_gain\":0.2,\n",
    "    \"min_child_weight\":10,\n",
    "    'zero_as_missing':True\n",
    "                }"
   ]
  },
  {
   "cell_type": "code",
   "execution_count": 21,
   "id": "a2eaf911-d7fc-4720-bda2-a9cf5dae0a5b",
   "metadata": {},
   "outputs": [],
   "source": [
    "def train_lgb_cat(inp_df, inp_vals, inp_category, inp_cat_cols, inp_num_cols):\n",
    "\n",
    "    \n",
    "    num_of_leaves_vars    = [4, 8, 16, 32, 64, 128]\n",
    "    max_depth_vars        = [4, 8, 16, 32]#, 64, 128]\n",
    "    min_data_in_leaf_vars = [4, 8, 16, 32]#, 64, 128]\n",
    "    learn_rate_vars       = [0.1, 0.05, 0.01] #1, 0.5, \n",
    "    \n",
    "    min_rmse = 1000000\n",
    "    ret_progress = []\n",
    "    \n",
    "    for nl, lr, md, mdlf in tqdm(product(num_of_leaves_vars, learn_rate_vars, max_depth_vars, min_data_in_leaf_vars), \n",
    "                                total = len(num_of_leaves_vars)*len(learn_rate_vars)*len(max_depth_vars)*len(min_data_in_leaf_vars)\n",
    "                                ):\n",
    "    \n",
    "        params = {\n",
    "            'task': 'train', \n",
    "            'boosting': 'gbdt',\n",
    "            'objective': 'regression',\n",
    "            'num_leaves': nl,\n",
    "            'learning_rate': lr,\n",
    "            'max_depth': md,\n",
    "            'min_data_in_leaf': mdlf,\n",
    "            'metric': {'rmse'},\n",
    "            #'verbose': -1,\n",
    "            'random_seed': LGB_RANDOMSEED,\n",
    "            'force_col_wise': False,\n",
    "            'n_jobs' : -1,\n",
    "            \n",
    "            \n",
    "            #'reg_alpha': 10,   # != 0  Hard L1 regularization\n",
    "            #'reg_lambda': 0,   # != 0  Hard L2 regularization\n",
    "        }\n",
    "\n",
    "\n",
    "        train_ds_views = lgb.Dataset(inp_df[inp_df.category == inp_category][cat_cols + num_cols],\n",
    "                                     #inp_df[cat_cols + num_cols],\n",
    "                                     inp_vals[inp_df.category == inp_category][['views']],\n",
    "                                     #feature_name = [cat_cols + num_cols]\n",
    "                                    )\n",
    "\n",
    "        results = lgb.cv(params, \n",
    "                         train_ds_views, \n",
    "                         num_boost_round = 10000,\n",
    "                         nfold = 5,\n",
    "                         verbose_eval = 500,\n",
    "                         early_stopping_rounds = 100,\n",
    "                         stratified = False,\n",
    "                         #return_cvbooster = True,\n",
    "                        )\n",
    "\n",
    "        optimal_rounds = np.argmin(results['rmse-mean'])\n",
    "        best_cv_score  = min(results['rmse-mean'])\n",
    "\n",
    "        if best_cv_score < min_rmse:\n",
    "            ret_progress.append(f'nl={nl:3d}, lr={lr:3f}, md={md:3d}, mdlf={mdlf:3d}, {optimal_rounds}, {best_cv_score}')\n",
    "        \n",
    "        #print(nl, lr, md, mdlf, optimal_rounds, best_cv_score)\n",
    "        print(f'nl={nl:3d}, lr={lr:3f}, md={md:3d}, mdlf={mdlf:3d}, {optimal_rounds}, {best_cv_score}')  \n",
    "    \n",
    "    return ret_progress"
   ]
  },
  {
   "cell_type": "raw",
   "id": "7801ae62-0f8e-4a86-a308-e22cb555c9cf",
   "metadata": {},
   "source": [
    "'5409f11ce063da9c8b588a12', '5409f11ce063da9c8b588a13', '5409f11ce063da9c8b588a18', '540d5eafcbb20f2524fc0509', '540d5ecacbb20f2524fc050a', '5433e5decbb20f277b20eca9'"
   ]
  },
  {
   "cell_type": "code",
   "execution_count": 22,
   "id": "883b418f-cdeb-45c8-b4b9-50ae5c928b50",
   "metadata": {},
   "outputs": [],
   "source": [
    "#progress = train_lgb_cat(df_train, y_train, '5409f11ce063da9c8b588a12', cat_cols, num_cols)"
   ]
  },
  {
   "cell_type": "code",
   "execution_count": null,
   "id": "158598dd-8ffc-44cc-9413-8a67fd6f03fe",
   "metadata": {},
   "outputs": [],
   "source": []
  },
  {
   "cell_type": "code",
   "execution_count": null,
   "id": "5241ed5a-09a6-40dc-b2b3-db2acfabf7d0",
   "metadata": {},
   "outputs": [],
   "source": []
  },
  {
   "cell_type": "code",
   "execution_count": 23,
   "id": "c4151e9c-e49e-46b6-8fcb-4ac0f872b461",
   "metadata": {},
   "outputs": [],
   "source": [
    "#with open(os.path.join(DIR_DATA, 'progress.pkl'), 'wb') as pickle_file:\n",
    "#    pkl.dump(progress, pickle_file)"
   ]
  },
  {
   "cell_type": "code",
   "execution_count": null,
   "id": "caeeaa45-6311-4670-a509-26fe45802b86",
   "metadata": {},
   "outputs": [],
   "source": []
  },
  {
   "cell_type": "code",
   "execution_count": null,
   "id": "db4d501e-202f-4aca-be2c-9ed8961dd4d9",
   "metadata": {},
   "outputs": [],
   "source": []
  },
  {
   "cell_type": "code",
   "execution_count": 24,
   "id": "33675cdd-a317-46fc-b300-8debe142e3ee",
   "metadata": {},
   "outputs": [],
   "source": [
    "#lgb_train = lgb.Dataset(x_train, y_train)\n",
    "#lgb_eval = lgb.Dataset(x_test, y_test, reference=lgb_train)\n",
    "\n",
    "#views\n",
    "train_ds_views = lgb.Dataset(x_train[cat_cols + num_cols],\n",
    "                             y_train[['views']],\n",
    "                             #feature_name = [cat_cols + num_cols]\n",
    "                            )\n",
    "val_ds_views = lgb.Dataset(x_val[cat_cols + num_cols],\n",
    "                             y_val[['views']],\n",
    "                             #feature_name = [cat_cols + num_cols]\n",
    "                            )\n",
    "\n",
    "train_views_full = lgb.Dataset(df_train[cat_cols + num_cols],\n",
    "                             df_train[['views']],\n",
    "                             #feature_name = [cat_cols + num_cols]\n",
    "                            )\n",
    "#!!!!!!!!!!!!!!!!!!!!!!! #lgb_eval = lgb.Dataset(x_test, y_test, reference=lgb_train)\n",
    "\n",
    "\n",
    "#depth\n",
    "train_ds_depth = lgb.Dataset(x_train[cat_cols + num_cols],\n",
    "                             y_train[['depth']],\n",
    "                             #feature_name = [cat_cols + num_cols]\n",
    "                            )\n",
    "val_ds_depth = lgb.Dataset(x_val[cat_cols + num_cols],\n",
    "                             y_val[['depth']],\n",
    "                             #feature_name = [cat_cols + num_cols]\n",
    "                            )\n",
    "train_depth_full = lgb.Dataset(df_train[cat_cols + num_cols],\n",
    "                             df_train[['depth']],\n",
    "                             #feature_name = [cat_cols + num_cols]\n",
    "                            )\n",
    "\n",
    "\n",
    "#train_ds_frp\n",
    "#val_ds_frp"
   ]
  },
  {
   "cell_type": "code",
   "execution_count": null,
   "id": "2b321b98-4596-4a82-94ff-ae9659ad59e7",
   "metadata": {},
   "outputs": [],
   "source": []
  },
  {
   "cell_type": "code",
   "execution_count": null,
   "id": "a8cc4bfc-78aa-4bc6-a4eb-87be91369b3d",
   "metadata": {},
   "outputs": [],
   "source": []
  },
  {
   "cell_type": "raw",
   "id": "f0ad398d-8bcd-447d-b3e1-7b2ba99aaae9",
   "metadata": {},
   "source": [
    "gbdt, traditional Gradient Boosting Decision Tree, aliases: gbrt\n",
    "rf, Random Forest, aliases: random_forest\n",
    "dart, Dropouts meet Multiple Additive Regression Trees\n",
    "goss, Gradient-based One-Side Sampling"
   ]
  },
  {
   "cell_type": "markdown",
   "id": "5d5c6f84-e036-4d65-af99-fcd6c2782076",
   "metadata": {},
   "source": [
    "## views"
   ]
  },
  {
   "cell_type": "code",
   "execution_count": 25,
   "id": "efd513ef-9d93-4580-9685-577eb57bc5bd",
   "metadata": {},
   "outputs": [],
   "source": [
    "# defining parameters \n",
    "params = {\n",
    "    'task': 'train', \n",
    "    'boosting': 'gbdt',\n",
    "    'objective': 'regression',\n",
    "    'num_leaves': 6,\n",
    "    'learning_rate': 0.05,\n",
    "    #'metric': {'l2','l1'},\n",
    "    'metric': {'rmse'},\n",
    "    'verbose': -1,\n",
    "    \n",
    "    #'reg_alpha': 5,   # != 0  Hard L1 regularization\n",
    "    #'reg_lambda': 10,   # != 0  Hard L2 regularization\n",
    "    \n",
    "    #'lambda_l1': 5, \n",
    "    #'lambda_l2': 5,\n",
    "    \n",
    "    'random_seed': LGB_RANDOMSEED,\n",
    "}"
   ]
  },
  {
   "cell_type": "code",
   "execution_count": 26,
   "id": "ab9a80bf-7571-4293-98fb-d15ccb2a0fb7",
   "metadata": {},
   "outputs": [
    {
     "name": "stderr",
     "output_type": "stream",
     "text": [
      "C:\\Users\\_v010ch_\\Anaconda3\\lib\\site-packages\\lightgbm\\engine.py:577: UserWarning: 'early_stopping_rounds' argument is deprecated and will be removed in a future release of LightGBM. Pass 'early_stopping()' callback via 'callbacks' argument instead.\n",
      "  _log_warning(\"'early_stopping_rounds' argument is deprecated and will be removed in a future release of LightGBM. \"\n",
      "C:\\Users\\_v010ch_\\Anaconda3\\lib\\site-packages\\lightgbm\\engine.py:620: UserWarning: 'verbose_eval' argument is deprecated and will be removed in a future release of LightGBM. Pass 'log_evaluation()' callback via 'callbacks' argument instead.\n",
      "  _log_warning(\"'verbose_eval' argument is deprecated and will be removed in a future release of LightGBM. \"\n"
     ]
    },
    {
     "name": "stdout",
     "output_type": "stream",
     "text": [
      "[500]\tcv_agg's train rmse: 25827.7 + 3323.03\tcv_agg's valid rmse: 40476.4 + 13493.9\n"
     ]
    }
   ],
   "source": [
    "score = lgb.cv(params, \n",
    "                 train_views_full, \n",
    "                 num_boost_round = 10000,\n",
    "                 nfold = 5,\n",
    "                 verbose_eval = 500,\n",
    "                 early_stopping_rounds = 100,\n",
    "                 stratified = False,\n",
    "                 eval_train_metric = r2,\n",
    "                 #feval = r2,\n",
    "                 #return_cvbooster = True,\n",
    "                )\n",
    "#print(np.argmin(score['rmse-mean']), score['rmse-mean'][np.argmin(score['rmse-mean'])], score['rmse-stdv'][np.argmin(score['rmse-mean'])], )"
   ]
  },
  {
   "cell_type": "code",
   "execution_count": 27,
   "id": "a2d3c16e-014d-4209-b8cd-4822801b2b79",
   "metadata": {},
   "outputs": [
    {
     "data": {
      "text/plain": [
       "dict_keys(['train rmse-mean', 'train rmse-stdv', 'valid rmse-mean', 'valid rmse-stdv'])"
      ]
     },
     "execution_count": 27,
     "metadata": {},
     "output_type": "execute_result"
    }
   ],
   "source": [
    "score.keys()"
   ]
  },
  {
   "cell_type": "code",
   "execution_count": 28,
   "id": "f0d6ec21-13af-434a-b9c3-c968066d07b5",
   "metadata": {},
   "outputs": [],
   "source": [
    "#score['valid r2-stdv']"
   ]
  },
  {
   "cell_type": "code",
   "execution_count": 29,
   "id": "6f74be60-c6d9-4d53-aa31-8440bbc7261f",
   "metadata": {},
   "outputs": [],
   "source": [
    "#print(np.argmax(score['valid r2-mean']), score['valid r2-mean'][np.argmax(score['valid r2-mean'])], score['valid r2-stdv'][np.argmax(score['valid r2-mean'])], )"
   ]
  },
  {
   "cell_type": "code",
   "execution_count": 30,
   "id": "11cc2c8a-9f6a-4ea9-ba29-dde4880e49de",
   "metadata": {},
   "outputs": [],
   "source": [
    "#print(np.argmin(score['rmse-mean']), score['rmse-mean'][np.argmin(score['rmse-mean'])], score['rmse-stdv'][np.argmin(score['rmse-mean'])], )"
   ]
  },
  {
   "cell_type": "raw",
   "id": "c6dd166b-33fa-48db-89af-79cb6834c8d7",
   "metadata": {},
   "source": [
    "1661 48897.91696678655 9179.139175918961"
   ]
  },
  {
   "cell_type": "code",
   "execution_count": 31,
   "id": "5df18631-d3cc-4697-af0f-f1cb698339f5",
   "metadata": {},
   "outputs": [
    {
     "name": "stderr",
     "output_type": "stream",
     "text": [
      "C:\\Users\\_v010ch_\\Anaconda3\\lib\\site-packages\\lightgbm\\engine.py:181: UserWarning: 'early_stopping_rounds' argument is deprecated and will be removed in a future release of LightGBM. Pass 'early_stopping()' callback via 'callbacks' argument instead.\n",
      "  _log_warning(\"'early_stopping_rounds' argument is deprecated and will be removed in a future release of LightGBM. \"\n",
      "C:\\Users\\_v010ch_\\Anaconda3\\lib\\site-packages\\lightgbm\\engine.py:239: UserWarning: 'verbose_eval' argument is deprecated and will be removed in a future release of LightGBM. Pass 'log_evaluation()' callback via 'callbacks' argument instead.\n",
      "  _log_warning(\"'verbose_eval' argument is deprecated and will be removed in a future release of LightGBM. \"\n",
      "C:\\Users\\_v010ch_\\Anaconda3\\lib\\site-packages\\lightgbm\\basic.py:1780: UserWarning: Overriding the parameters from Reference Dataset.\n",
      "  _log_warning('Overriding the parameters from Reference Dataset.')\n",
      "C:\\Users\\_v010ch_\\Anaconda3\\lib\\site-packages\\lightgbm\\basic.py:1513: UserWarning: categorical_column in param dict is overridden.\n",
      "  _log_warning(f'{cat_alias} in param dict is overridden.')\n"
     ]
    }
   ],
   "source": [
    "# fitting the model\n",
    "lgb_model_views = lgb.train(params,\n",
    "                            train_set=train_ds_views,\n",
    "                            valid_sets=val_ds_views,\n",
    "                            early_stopping_rounds=30,\n",
    "                            verbose_eval = False,\n",
    "                           )"
   ]
  },
  {
   "cell_type": "code",
   "execution_count": 32,
   "id": "12ae502e-4ce4-4f6e-947f-4f6f5942584a",
   "metadata": {},
   "outputs": [
    {
     "data": {
      "text/plain": [
       "(0.6416954955416185, 0.6286674393825709)"
      ]
     },
     "execution_count": 32,
     "metadata": {},
     "output_type": "execute_result"
    }
   ],
   "source": [
    "# Get predictions and metrics\n",
    "preds_train_views = lgb_model_views.predict(x_train[cat_cols + num_cols])\n",
    "preds_val_views   = lgb_model_views.predict(x_val[cat_cols + num_cols])\n",
    "\n",
    "train_score_views = r2_score(y_train[\"views\"], preds_train_views)\n",
    "val_score_views   = r2_score(y_val[\"views\"],   preds_val_views)\n",
    "\n",
    "train_score_views, val_score_views"
   ]
  },
  {
   "cell_type": "raw",
   "id": "7338d1bc-d189-40c3-83ac-87095107613b",
   "metadata": {},
   "source": [
    "(0.6416954955416185, 0.6286674393825709) 19 emb + pca 64 + lags + nauth + all_norm + parse + auth int + cat int"
   ]
  },
  {
   "cell_type": "code",
   "execution_count": null,
   "id": "60b2252a-1e35-4596-83f0-0b967b9f8060",
   "metadata": {},
   "outputs": [],
   "source": []
  },
  {
   "cell_type": "code",
   "execution_count": 33,
   "id": "1544f94c-6b95-4d66-a156-04349474efa9",
   "metadata": {},
   "outputs": [
    {
     "data": {
      "text/plain": [
       "<AxesSubplot:title={'center':'Feature importance'}, xlabel='Feature importance', ylabel='Features'>"
      ]
     },
     "execution_count": 33,
     "metadata": {},
     "output_type": "execute_result"
    },
    {
     "data": {
      "image/png": "[encoded data removed]",
      "text/plain": [
       "<Figure size 2160x1152 with 1 Axes>"
      ]
     },
     "metadata": {
      "needs_background": "light"
     },
     "output_type": "display_data"
    }
   ],
   "source": [
    "lgb.plot_importance(lgb_model_views, max_num_features = 30, figsize = (30, 16), importance_type = 'gain')\n",
    "#lgb.plot_importance(lgb_model_views, max_num_features = 30, figsize = (30, 16), importance_type = 'split')\n",
    "# importance_type (str, optional (default=\"auto\")) – How the importance is calculated. If “auto”, if booster parameter is LGBMModel, booster.importance_type attribute is used; \n",
    "# “split” otherwise. If “split”, result contains numbers of times the feature is used in a model. If “gain”, result contains total gains of splits which use the feature."
   ]
  },
  {
   "cell_type": "code",
   "execution_count": null,
   "id": "4cf60eae-e668-4462-ae67-8795e1e7b35f",
   "metadata": {},
   "outputs": [],
   "source": []
  },
  {
   "cell_type": "code",
   "execution_count": null,
   "id": "38e735b0-dbfa-4be3-90d9-8c0f567433a9",
   "metadata": {},
   "outputs": [],
   "source": []
  },
  {
   "cell_type": "markdown",
   "id": "a3cac29b-566d-4c8b-9cf7-9ef84a7261d2",
   "metadata": {},
   "source": [
    "## depth"
   ]
  },
  {
   "cell_type": "code",
   "execution_count": 34,
   "id": "c932c611-18f7-4038-9d81-643c631b941a",
   "metadata": {},
   "outputs": [],
   "source": [
    "# defining parameters \n",
    "params = {\n",
    "    'task': 'train', \n",
    "    'boosting': 'gbdt',\n",
    "    'objective': 'regression',\n",
    "    'num_leaves': 10,\n",
    "    #'learning_rate': 0.05,\n",
    "    #'metric': {'l2','l1'},\n",
    "    'metric': {'rmse'},\n",
    "    'verbose': -1,\n",
    "    \n",
    "    #'reg_alpha': 5,   # != 0  Hard L1 regularization\n",
    "    #'reg_lambda': 10,   # != 0  Hard L2 regularization\n",
    "    \n",
    "    #'lambda_l1': 5, \n",
    "    #'lambda_l2': 5,\n",
    "    \n",
    "    'random_seed': LGB_RANDOMSEED,\n",
    "}"
   ]
  },
  {
   "cell_type": "code",
   "execution_count": 35,
   "id": "e9fe9007-d785-4274-ac73-4bc304560fa2",
   "metadata": {},
   "outputs": [
    {
     "name": "stderr",
     "output_type": "stream",
     "text": [
      "C:\\Users\\_v010ch_\\Anaconda3\\lib\\site-packages\\lightgbm\\engine.py:577: UserWarning: 'early_stopping_rounds' argument is deprecated and will be removed in a future release of LightGBM. Pass 'early_stopping()' callback via 'callbacks' argument instead.\n",
      "  _log_warning(\"'early_stopping_rounds' argument is deprecated and will be removed in a future release of LightGBM. \"\n",
      "C:\\Users\\_v010ch_\\Anaconda3\\lib\\site-packages\\lightgbm\\engine.py:620: UserWarning: 'verbose_eval' argument is deprecated and will be removed in a future release of LightGBM. Pass 'log_evaluation()' callback via 'callbacks' argument instead.\n",
      "  _log_warning(\"'verbose_eval' argument is deprecated and will be removed in a future release of LightGBM. \"\n"
     ]
    },
    {
     "name": "stdout",
     "output_type": "stream",
     "text": [
      "381 0.026390055509627065 0.0015930796465844584\n"
     ]
    }
   ],
   "source": [
    "score = lgb.cv(params, \n",
    "                 train_depth_full, \n",
    "                 num_boost_round = 10000,\n",
    "                 nfold = 5,\n",
    "                 verbose_eval = 500,\n",
    "                 early_stopping_rounds = 100,\n",
    "                 stratified = False,\n",
    "                 #return_cvbooster = True,\n",
    "                )\n",
    "print(np.argmin(score['rmse-mean']), score['rmse-mean'][np.argmin(score['rmse-mean'])], score['rmse-stdv'][np.argmin(score['rmse-mean'])], )"
   ]
  },
  {
   "cell_type": "raw",
   "id": "66d03e92-5035-47b7-b732-5feacc2c5638",
   "metadata": {},
   "source": [
    "378 0.02735314197033909 0.0009451007887406206"
   ]
  },
  {
   "cell_type": "code",
   "execution_count": 36,
   "id": "8fb25a11-0690-4d1f-bb0b-4de094b7f7ba",
   "metadata": {},
   "outputs": [
    {
     "name": "stderr",
     "output_type": "stream",
     "text": [
      "C:\\Users\\_v010ch_\\Anaconda3\\lib\\site-packages\\lightgbm\\engine.py:181: UserWarning: 'early_stopping_rounds' argument is deprecated and will be removed in a future release of LightGBM. Pass 'early_stopping()' callback via 'callbacks' argument instead.\n",
      "  _log_warning(\"'early_stopping_rounds' argument is deprecated and will be removed in a future release of LightGBM. \"\n",
      "C:\\Users\\_v010ch_\\Anaconda3\\lib\\site-packages\\lightgbm\\engine.py:239: UserWarning: 'verbose_eval' argument is deprecated and will be removed in a future release of LightGBM. Pass 'log_evaluation()' callback via 'callbacks' argument instead.\n",
      "  _log_warning(\"'verbose_eval' argument is deprecated and will be removed in a future release of LightGBM. \"\n",
      "C:\\Users\\_v010ch_\\Anaconda3\\lib\\site-packages\\lightgbm\\basic.py:1780: UserWarning: Overriding the parameters from Reference Dataset.\n",
      "  _log_warning('Overriding the parameters from Reference Dataset.')\n",
      "C:\\Users\\_v010ch_\\Anaconda3\\lib\\site-packages\\lightgbm\\basic.py:1513: UserWarning: categorical_column in param dict is overridden.\n",
      "  _log_warning(f'{cat_alias} in param dict is overridden.')\n"
     ]
    }
   ],
   "source": [
    "# fitting the model\n",
    "lgb_model_depth = lgb.train(params,\n",
    "                            train_set=train_ds_depth,\n",
    "                            valid_sets=val_ds_depth,\n",
    "                            early_stopping_rounds=30,\n",
    "                            verbose_eval = False,\n",
    "                           )"
   ]
  },
  {
   "cell_type": "code",
   "execution_count": 37,
   "id": "2596cde2-acc0-4f27-8ab9-6658e7cba842",
   "metadata": {},
   "outputs": [
    {
     "data": {
      "text/plain": [
       "(0.8448046891918493, 0.8083896919598925)"
      ]
     },
     "execution_count": 37,
     "metadata": {},
     "output_type": "execute_result"
    }
   ],
   "source": [
    "# Get predictions and metrics\n",
    "preds_train_depth = lgb_model_depth.predict(x_train[cat_cols + num_cols])\n",
    "preds_val_depth   = lgb_model_depth.predict(x_val[cat_cols + num_cols])\n",
    "\n",
    "train_score_depth = r2_score(y_train[\"depth\"], preds_train_depth)\n",
    "val_score_depth   = r2_score(y_val[\"depth\"],   preds_val_depth)\n",
    "\n",
    "train_score_depth, val_score_depth"
   ]
  },
  {
   "cell_type": "raw",
   "id": "42b4b5db-a639-4829-9350-0c78a2bb037b",
   "metadata": {},
   "source": [
    "(0.8448046891918493, 0.8083896919598925) 19 emb + pca 64 + lags + nauth + all_norm + parse + auth int + cat int"
   ]
  },
  {
   "cell_type": "code",
   "execution_count": null,
   "id": "b0434eef-5fa8-44ff-819d-849965628ac1",
   "metadata": {},
   "outputs": [],
   "source": []
  },
  {
   "cell_type": "code",
   "execution_count": 38,
   "id": "06ad8e56-4ad0-493b-aa2c-73ae6d14bcd5",
   "metadata": {},
   "outputs": [
    {
     "data": {
      "text/plain": [
       "<AxesSubplot:title={'center':'Feature importance'}, xlabel='Feature importance', ylabel='Features'>"
      ]
     },
     "execution_count": 38,
     "metadata": {},
     "output_type": "execute_result"
    },
    {
     "data": {
      "image/png": "[encoded data removed]",
      "text/plain": [
       "<Figure size 2160x1152 with 1 Axes>"
      ]
     },
     "metadata": {
      "needs_background": "light"
     },
     "output_type": "display_data"
    }
   ],
   "source": [
    "lgb.plot_importance(lgb_model_depth, max_num_features = 30, figsize = (30, 16), importance_type = 'gain')\n",
    "#lgb.plot_importance(lgb_model_depth, max_num_features = 30, figsize = (30, 16), importance_type = 'split')"
   ]
  },
  {
   "cell_type": "code",
   "execution_count": null,
   "id": "2ece3669-30dc-4a48-8b69-ada1e6f40759",
   "metadata": {},
   "outputs": [],
   "source": []
  },
  {
   "cell_type": "markdown",
   "id": "fafdf6ea-9687-472f-ab6e-86125f5dc7eb",
   "metadata": {},
   "source": [
    "## full_reads_percent"
   ]
  },
  {
   "cell_type": "code",
   "execution_count": 39,
   "id": "2263a608-19c1-4336-9e26-9a13059e48e0",
   "metadata": {},
   "outputs": [],
   "source": [
    "#pd.DataFrame(preds_train_depth, columns = ['depth_pred'])\n",
    "pred_scaler = preprocessing.StandardScaler()\n",
    "tmp = pred_scaler.fit_transform(preds_train_depth.reshape(-1, 1))\n",
    "pred_depth_train = pd.DataFrame(tmp, columns = ['depth_pred'])\n",
    "\n",
    "pred_depth_val   = pd.DataFrame(pred_scaler.transform(preds_val_depth.reshape(-1, 1)), columns = ['depth_pred'])\n"
   ]
  },
  {
   "cell_type": "raw",
   "id": "e7bb1f66-d032-4a6b-938c-1e0fc0cb181f",
   "metadata": {},
   "source": [
    "print('before ', x_train.shape, x_val.shape, preds_train_depth.shape, preds_val_depth.shape)\n",
    "x_train = pd.concat([x_train, pred_depth_train], axis = 1)\n",
    "x_val   = pd.concat([x_val,   pred_depth_val],   axis = 1)\n",
    "print('after  ', x_train.shape, x_val.shape)"
   ]
  },
  {
   "cell_type": "code",
   "execution_count": 40,
   "id": "47351487-bfb4-4e33-9f0e-88337868b6d3",
   "metadata": {},
   "outputs": [],
   "source": [
    "#x_train.drop(['depth_pred'], axis = 1, inplace = True)"
   ]
  },
  {
   "cell_type": "code",
   "execution_count": null,
   "id": "3e90c755-5976-47cb-9424-64fa4bd248e6",
   "metadata": {},
   "outputs": [],
   "source": []
  },
  {
   "cell_type": "code",
   "execution_count": 41,
   "id": "a7c7603e-c5df-48bc-b5e7-652dd6be3292",
   "metadata": {},
   "outputs": [],
   "source": [
    "#full_reads_percent\n",
    "#train_ds_frp = lgb.Dataset(x_train[cat_cols + num_cols + ['depth_pred']],\n",
    "train_ds_frp = lgb.Dataset(x_train[cat_cols + num_cols],\n",
    "                             y_train[['full_reads_percent']],\n",
    "                             #feature_name = [cat_cols + num_cols]\n",
    "                            )\n",
    "#val_ds_frp = lgb.Dataset(x_val[cat_cols + num_cols + ['depth_pred']],\n",
    "val_ds_frp = lgb.Dataset(x_val[cat_cols + num_cols],\n",
    "                             y_val[['full_reads_percent']],\n",
    "                             #feature_name = [cat_cols + num_cols]\n",
    "                            )\n",
    "\n",
    "train_frp_full = lgb.Dataset(df_train[cat_cols + num_cols],\n",
    "                             df_train[['full_reads_percent']],\n",
    "                             #feature_name = [cat_cols + num_cols]\n",
    "                            )"
   ]
  },
  {
   "cell_type": "code",
   "execution_count": 42,
   "id": "4935c0ea-152e-4c73-a770-f2b50e7740d2",
   "metadata": {},
   "outputs": [
    {
     "name": "stderr",
     "output_type": "stream",
     "text": [
      "C:\\Users\\_v010ch_\\Anaconda3\\lib\\site-packages\\lightgbm\\engine.py:577: UserWarning: 'early_stopping_rounds' argument is deprecated and will be removed in a future release of LightGBM. Pass 'early_stopping()' callback via 'callbacks' argument instead.\n",
      "  _log_warning(\"'early_stopping_rounds' argument is deprecated and will be removed in a future release of LightGBM. \"\n",
      "C:\\Users\\_v010ch_\\Anaconda3\\lib\\site-packages\\lightgbm\\engine.py:620: UserWarning: 'verbose_eval' argument is deprecated and will be removed in a future release of LightGBM. Pass 'log_evaluation()' callback via 'callbacks' argument instead.\n",
      "  _log_warning(\"'verbose_eval' argument is deprecated and will be removed in a future release of LightGBM. \"\n"
     ]
    },
    {
     "name": "stdout",
     "output_type": "stream",
     "text": [
      "172 6.560783428758609 0.06940614774987124\n"
     ]
    }
   ],
   "source": [
    "score = lgb.cv(params, \n",
    "                 train_frp_full, \n",
    "                 num_boost_round = 10000,\n",
    "                 nfold = 5,\n",
    "                 verbose_eval = 500,\n",
    "                 early_stopping_rounds = 100,\n",
    "                 stratified = False,\n",
    "                 #return_cvbooster = True,\n",
    "                )\n",
    "print(np.argmin(score['rmse-mean']), score['rmse-mean'][np.argmin(score['rmse-mean'])], score['rmse-stdv'][np.argmin(score['rmse-mean'])], )"
   ]
  },
  {
   "cell_type": "raw",
   "id": "068a9f75-7c26-4091-907c-28d843d5229f",
   "metadata": {},
   "source": [
    "163 7.02038356002961 0.1360496068604094   / 116 / 111"
   ]
  },
  {
   "cell_type": "code",
   "execution_count": 43,
   "id": "20497c9c-07f7-45c7-b5e6-19baccc063cc",
   "metadata": {},
   "outputs": [],
   "source": [
    "# defining parameters \n",
    "params = {\n",
    "    'task': 'train', \n",
    "    'boosting': 'gbdt',\n",
    "    'objective': 'regression',\n",
    "    'num_leaves': 10,\n",
    "    #'learning_rate': 0.05,\n",
    "    #'metric': {'l2','l1'},\n",
    "    'metric': {'rmse'},\n",
    "    'verbose': -1,\n",
    "    \n",
    "    #'reg_alpha': 5,   # != 0  Hard L1 regularization\n",
    "    #'reg_lambda': 10,   # != 0  Hard L2 regularization\n",
    "    \n",
    "    #'lambda_l1': 5, \n",
    "    #'lambda_l2': 5,\n",
    "    \n",
    "    'random_seed': LGB_RANDOMSEED,\n",
    "}"
   ]
  },
  {
   "cell_type": "code",
   "execution_count": 44,
   "id": "23ed5945-6e6b-4971-bbb3-faecc6af098e",
   "metadata": {},
   "outputs": [
    {
     "name": "stderr",
     "output_type": "stream",
     "text": [
      "C:\\Users\\_v010ch_\\Anaconda3\\lib\\site-packages\\lightgbm\\engine.py:181: UserWarning: 'early_stopping_rounds' argument is deprecated and will be removed in a future release of LightGBM. Pass 'early_stopping()' callback via 'callbacks' argument instead.\n",
      "  _log_warning(\"'early_stopping_rounds' argument is deprecated and will be removed in a future release of LightGBM. \"\n",
      "C:\\Users\\_v010ch_\\Anaconda3\\lib\\site-packages\\lightgbm\\engine.py:239: UserWarning: 'verbose_eval' argument is deprecated and will be removed in a future release of LightGBM. Pass 'log_evaluation()' callback via 'callbacks' argument instead.\n",
      "  _log_warning(\"'verbose_eval' argument is deprecated and will be removed in a future release of LightGBM. \"\n",
      "C:\\Users\\_v010ch_\\Anaconda3\\lib\\site-packages\\lightgbm\\basic.py:1780: UserWarning: Overriding the parameters from Reference Dataset.\n",
      "  _log_warning('Overriding the parameters from Reference Dataset.')\n",
      "C:\\Users\\_v010ch_\\Anaconda3\\lib\\site-packages\\lightgbm\\basic.py:1513: UserWarning: categorical_column in param dict is overridden.\n",
      "  _log_warning(f'{cat_alias} in param dict is overridden.')\n"
     ]
    }
   ],
   "source": [
    "# fitting the model\n",
    "lgb_model_frp = lgb.train(params,\n",
    "                            train_set=train_ds_frp,\n",
    "                            valid_sets=val_ds_frp,\n",
    "                            early_stopping_rounds=30,\n",
    "                            verbose_eval = False,\n",
    "                           )"
   ]
  },
  {
   "cell_type": "code",
   "execution_count": 45,
   "id": "ce2f5cf1-5605-4e75-99dd-8c23248ff512",
   "metadata": {},
   "outputs": [
    {
     "data": {
      "text/plain": [
       "(0.6896605835625026, 0.5981722952123387)"
      ]
     },
     "execution_count": 45,
     "metadata": {},
     "output_type": "execute_result"
    }
   ],
   "source": [
    "# Get predictions and metrics\n",
    "#preds_train_frp = lgb_model_frp.predict(x_train[cat_cols + num_cols + ['depth_pred']])\n",
    "#preds_val_frp   = lgb_model_frp.predict(x_val[cat_cols + num_cols + ['depth_pred']])\n",
    "\n",
    "preds_train_frp = lgb_model_frp.predict(x_train[cat_cols + num_cols])\n",
    "preds_val_frp   = lgb_model_frp.predict(x_val[cat_cols + num_cols])\n",
    "\n",
    "\n",
    "train_score_frp = r2_score(y_train[\"full_reads_percent\"], preds_train_frp)\n",
    "val_score_frp   = r2_score(y_val[\"full_reads_percent\"],   preds_val_frp)\n",
    "\n",
    "train_score_frp, val_score_frp"
   ]
  },
  {
   "cell_type": "raw",
   "id": "cec2f6b6-9782-4b5c-838c-66df8bfc72e5",
   "metadata": {},
   "source": [
    "(0.6896605835625026, 0.5981722952123387) 19 emb + pca 64 + lags + nauth + all_norm + parse + auth int + cat int"
   ]
  },
  {
   "cell_type": "code",
   "execution_count": null,
   "id": "c6b000b9-9f71-4f8d-bb73-d58b91330eca",
   "metadata": {},
   "outputs": [],
   "source": []
  },
  {
   "cell_type": "code",
   "execution_count": 46,
   "id": "fe42e456-162f-4acf-bfe2-08232d28c9e5",
   "metadata": {},
   "outputs": [
    {
     "data": {
      "text/plain": [
       "<AxesSubplot:title={'center':'Feature importance'}, xlabel='Feature importance', ylabel='Features'>"
      ]
     },
     "execution_count": 46,
     "metadata": {},
     "output_type": "execute_result"
    },
    {
     "data": {
      "image/png": "[encoded data removed]",
      "text/plain": [
       "<Figure size 2160x1152 with 1 Axes>"
      ]
     },
     "metadata": {
      "needs_background": "light"
     },
     "output_type": "display_data"
    }
   ],
   "source": [
    "lgb.plot_importance(lgb_model_frp, max_num_features = 30, figsize = (30, 16), importance_type = 'gain')\n",
    "#lgb.plot_importance(lgb_model_frp, max_num_features = 30, figsize = (30, 16), importance_type = 'split')"
   ]
  },
  {
   "cell_type": "code",
   "execution_count": null,
   "id": "65199c50-8548-4328-a21f-c08816f7087e",
   "metadata": {},
   "outputs": [],
   "source": []
  },
  {
   "cell_type": "code",
   "execution_count": null,
   "id": "18ebe654-cc1f-4d47-ab76-78c95557b0b1",
   "metadata": {},
   "outputs": [],
   "source": []
  },
  {
   "cell_type": "code",
   "execution_count": 47,
   "id": "304d2314-a21f-4bb0-bd61-9fa94711f9f1",
   "metadata": {},
   "outputs": [
    {
     "data": {
      "text/plain": [
       "(0.717017780042953, 0.6734355719046977)"
      ]
     },
     "execution_count": 47,
     "metadata": {},
     "output_type": "execute_result"
    }
   ],
   "source": [
    "score_train = 0.4 * train_score_views + 0.3 * train_score_depth + 0.3 * train_score_frp\n",
    "score_val  = 0.4 * val_score_views  + 0.3 * val_score_depth  + 0.3 * val_score_frp\n",
    "\n",
    "score_train, score_val"
   ]
  },
  {
   "cell_type": "raw",
   "id": "b4e2f449-432c-42f7-8cce-5cb15323aca0",
   "metadata": {},
   "source": [
    "(0.717017780042953, 0.6734355719046977) 19 emb + pca 64 + lags + nauth + all_norm + parse + auth int + cat int"
   ]
  },
  {
   "cell_type": "code",
   "execution_count": null,
   "id": "34b40cc3-9bde-46a3-bddf-a35a17e260af",
   "metadata": {},
   "outputs": [],
   "source": []
  },
  {
   "cell_type": "markdown",
   "id": "545d6221-43fb-4c01-b8a1-9130b20ac9bb",
   "metadata": {},
   "source": [
    "# Сохраняем предсказания для ансамблей / стекинга"
   ]
  },
  {
   "cell_type": "code",
   "execution_count": 48,
   "id": "5c262960-a94f-4796-8aa4-fae1c10ff720",
   "metadata": {},
   "outputs": [
    {
     "name": "stdout",
     "output_type": "stream",
     "text": [
      "before  (5584, 1) (5584,) (5584,) (5584,)\n",
      "before  (1397, 1) (1397,) (1397,) (1397,)\n",
      "after  (5584, 4)\n",
      "after  (1397, 4)\n"
     ]
    }
   ],
   "source": [
    "x_train_pred = x_train[['document_id']]\n",
    "x_val_pred   = x_val[['document_id']]\n",
    "\n",
    "print('before ', x_train_pred.shape, preds_train_views.shape, preds_train_depth.shape, preds_train_frp.shape)\n",
    "print('before ', x_val_pred.shape,   preds_val_views.shape,   preds_val_depth.shape,   preds_val_frp.shape)\n",
    "\n",
    "# https://github.com/pandas-dev/pandas/issues/25349\n",
    "x_train_pred = pd.concat([x_train_pred.reset_index(drop=True), \n",
    "                          pd.DataFrame(preds_train_views).reset_index(drop = True), \n",
    "                          pd.DataFrame(preds_train_depth).reset_index(drop = True), \n",
    "                          pd.DataFrame(preds_train_frp).reset_index(drop = True)\n",
    "                         ], ignore_index = True, axis = 1)\n",
    "x_val_pred   = pd.concat([x_val_pred.reset_index(drop=True),   \n",
    "                          pd.DataFrame(preds_val_views).reset_index(drop = True), \n",
    "                          pd.DataFrame(preds_val_depth).reset_index(drop = True), \n",
    "                          pd.DataFrame(preds_val_frp).reset_index(drop = True)\n",
    "                         ], ignore_index = True, axis = 1)\n",
    "\n",
    "x_train_pred.columns = ['document_id', 'views_pred_lgb', 'depth_pred_lgb', 'frp_pred_lgb']\n",
    "x_val_pred.columns   = ['document_id', 'views_pred_lgb', 'depth_pred_lgb', 'frp_pred_lgb']\n",
    "\n",
    "print('after ', x_train_pred.shape)\n",
    "print('after ', x_val_pred.shape)\n",
    "\n",
    "x_train_pred.to_csv(os.path.join(DIR_SUBM_PART, f'{NAME}_train_part.csv'), index = False)\n",
    "x_val_pred.to_csv(os.path.join(DIR_SUBM_PART, f'{NAME}_val_part.csv'), index = False)"
   ]
  },
  {
   "cell_type": "code",
   "execution_count": null,
   "id": "10b4e408-70eb-49bc-af77-8a494422cf91",
   "metadata": {},
   "outputs": [],
   "source": []
  },
  {
   "cell_type": "markdown",
   "id": "81b7d454-37b6-45ee-94fb-99af0fe23ae5",
   "metadata": {},
   "source": [
    "## save models"
   ]
  },
  {
   "cell_type": "code",
   "execution_count": 49,
   "id": "74199c2f-8d7c-4006-8ebb-850131cf50e8",
   "metadata": {},
   "outputs": [
    {
     "data": {
      "text/plain": [
       "<lightgbm.basic.Booster at 0x204ca26b308>"
      ]
     },
     "execution_count": 49,
     "metadata": {},
     "output_type": "execute_result"
    }
   ],
   "source": [
    "lgb_model_views.save_model(os.path.join(DIR_MODELS, f'{NAME}_v.txt'), num_iteration = lgb_model_views.best_iteration)\n",
    "lgb_model_depth.save_model(os.path.join(DIR_MODELS, f'{NAME}_d.txt'), num_iteration = lgb_model_depth.best_iteration)\n",
    "lgb_model_frp.save_model(  os.path.join(DIR_MODELS, f'{NAME}_f.txt'),   num_iteration = lgb_model_frp.best_iteration)"
   ]
  },
  {
   "cell_type": "code",
   "execution_count": null,
   "id": "102c6530-8a1b-4c1c-a1d3-e9d95e350220",
   "metadata": {},
   "outputs": [],
   "source": []
  },
  {
   "cell_type": "markdown",
   "id": "ac604b78-2718-408d-8d19-5b202d3f5a19",
   "metadata": {},
   "source": [
    "## make predict"
   ]
  },
  {
   "cell_type": "code",
   "execution_count": 50,
   "id": "df8e4305-28ed-444f-8325-e6460f7d2271",
   "metadata": {},
   "outputs": [],
   "source": [
    "pred_views = lgb_model_views.predict(df_test[cat_cols + num_cols])\n",
    "pred_depth = lgb_model_depth.predict(df_test[cat_cols + num_cols])\n",
    "pred_frp   = lgb_model_frp.predict(  df_test[cat_cols + num_cols])"
   ]
  },
  {
   "cell_type": "code",
   "execution_count": 51,
   "id": "f422300e-24cf-435a-af11-a450f4f10393",
   "metadata": {},
   "outputs": [],
   "source": [
    "subm = pd.DataFrame()\n",
    "subm['document_id'] = df_test.document_id\n",
    "\n",
    "subm['views'] = pred_views\n",
    "subm['depth'] = pred_depth\n",
    "subm['full_reads_percent'] = pred_frp"
   ]
  },
  {
   "cell_type": "code",
   "execution_count": 52,
   "id": "11a6481e-4609-4e65-bcf1-175e554b3c44",
   "metadata": {},
   "outputs": [
    {
     "data": {
      "text/html": [
       "<div>\n",
       "<style scoped>\n",
       "    .dataframe tbody tr th:only-of-type {\n",
       "        vertical-align: middle;\n",
       "    }\n",
       "\n",
       "    .dataframe tbody tr th {\n",
       "        vertical-align: top;\n",
       "    }\n",
       "\n",
       "    .dataframe thead th {\n",
       "        text-align: right;\n",
       "    }\n",
       "</style>\n",
       "<table border=\"1\" class=\"dataframe\">\n",
       "  <thead>\n",
       "    <tr style=\"text-align: right;\">\n",
       "      <th></th>\n",
       "      <th>views</th>\n",
       "      <th>depth</th>\n",
       "      <th>full_reads_percent</th>\n",
       "    </tr>\n",
       "  </thead>\n",
       "  <tbody>\n",
       "    <tr>\n",
       "      <th>945</th>\n",
       "      <td>137127.357965</td>\n",
       "      <td>1.093031</td>\n",
       "      <td>23.250278</td>\n",
       "    </tr>\n",
       "    <tr>\n",
       "      <th>1440</th>\n",
       "      <td>91501.681830</td>\n",
       "      <td>1.146734</td>\n",
       "      <td>25.126669</td>\n",
       "    </tr>\n",
       "    <tr>\n",
       "      <th>2645</th>\n",
       "      <td>95035.822884</td>\n",
       "      <td>1.169712</td>\n",
       "      <td>23.732980</td>\n",
       "    </tr>\n",
       "  </tbody>\n",
       "</table>\n",
       "</div>"
      ],
      "text/plain": [
       "              views     depth  full_reads_percent\n",
       "945   137127.357965  1.093031           23.250278\n",
       "1440   91501.681830  1.146734           25.126669\n",
       "2645   95035.822884  1.169712           23.732980"
      ]
     },
     "execution_count": 52,
     "metadata": {},
     "output_type": "execute_result"
    }
   ],
   "source": [
    "doc_id_ukr = df_test[df_test.spec == 1].document_id.values\n",
    "subm.query('document_id in @doc_id_ukr')[['views', 'depth', 'full_reads_percent']]"
   ]
  },
  {
   "cell_type": "code",
   "execution_count": 53,
   "id": "bf81fd5b-a3c8-4d76-891d-0001bc0b6329",
   "metadata": {},
   "outputs": [
    {
     "data": {
      "text/html": [
       "<div>\n",
       "<style scoped>\n",
       "    .dataframe tbody tr th:only-of-type {\n",
       "        vertical-align: middle;\n",
       "    }\n",
       "\n",
       "    .dataframe tbody tr th {\n",
       "        vertical-align: top;\n",
       "    }\n",
       "\n",
       "    .dataframe thead th {\n",
       "        text-align: right;\n",
       "    }\n",
       "</style>\n",
       "<table border=\"1\" class=\"dataframe\">\n",
       "  <thead>\n",
       "    <tr style=\"text-align: right;\">\n",
       "      <th></th>\n",
       "      <th>views</th>\n",
       "      <th>depth</th>\n",
       "      <th>full_reads_percent</th>\n",
       "    </tr>\n",
       "  </thead>\n",
       "  <tbody>\n",
       "    <tr>\n",
       "      <th>945</th>\n",
       "      <td>2554204.0</td>\n",
       "      <td>1.799</td>\n",
       "      <td>4.978</td>\n",
       "    </tr>\n",
       "    <tr>\n",
       "      <th>1440</th>\n",
       "      <td>2554204.0</td>\n",
       "      <td>1.799</td>\n",
       "      <td>4.978</td>\n",
       "    </tr>\n",
       "    <tr>\n",
       "      <th>2645</th>\n",
       "      <td>2554204.0</td>\n",
       "      <td>1.799</td>\n",
       "      <td>4.978</td>\n",
       "    </tr>\n",
       "  </tbody>\n",
       "</table>\n",
       "</div>"
      ],
      "text/plain": [
       "          views  depth  full_reads_percent\n",
       "945   2554204.0  1.799               4.978\n",
       "1440  2554204.0  1.799               4.978\n",
       "2645  2554204.0  1.799               4.978"
      ]
     },
     "execution_count": 53,
     "metadata": {},
     "output_type": "execute_result"
    }
   ],
   "source": [
    "# присваиваем статичные данные\n",
    "subm.loc[subm.query('document_id in @doc_id_ukr').index, 'views'] = VIEWS_UKR\n",
    "subm.loc[subm.query('document_id in @doc_id_ukr').index, 'depth'] = DEPTH_UKR\n",
    "subm.loc[subm.query('document_id in @doc_id_ukr').index, 'full_reads_percent'] = FPR_UKR\n",
    "\n",
    "subm.query('document_id in @doc_id_ukr')[['views', 'depth', 'full_reads_percent']]"
   ]
  },
  {
   "cell_type": "code",
   "execution_count": 54,
   "id": "37fa65e1-c702-4764-8f84-eb93b80c73f8",
   "metadata": {},
   "outputs": [
    {
     "data": {
      "text/html": [
       "<div>\n",
       "<style scoped>\n",
       "    .dataframe tbody tr th:only-of-type {\n",
       "        vertical-align: middle;\n",
       "    }\n",
       "\n",
       "    .dataframe tbody tr th {\n",
       "        vertical-align: top;\n",
       "    }\n",
       "\n",
       "    .dataframe thead th {\n",
       "        text-align: right;\n",
       "    }\n",
       "</style>\n",
       "<table border=\"1\" class=\"dataframe\">\n",
       "  <thead>\n",
       "    <tr style=\"text-align: right;\">\n",
       "      <th></th>\n",
       "      <th>document_id</th>\n",
       "      <th>views</th>\n",
       "      <th>depth</th>\n",
       "      <th>full_reads_percent</th>\n",
       "    </tr>\n",
       "  </thead>\n",
       "  <tbody>\n",
       "    <tr>\n",
       "      <th>0</th>\n",
       "      <td>61f9569a9a794794245a82abJ0AvX96vTAaQCiWVbzoMdw</td>\n",
       "      <td>19599.636070</td>\n",
       "      <td>1.184598</td>\n",
       "      <td>43.667351</td>\n",
       "    </tr>\n",
       "    <tr>\n",
       "      <th>1</th>\n",
       "      <td>628c22b89a79470e553f594bQS5CqzXYRnmDdR2LaSreEw</td>\n",
       "      <td>7417.168217</td>\n",
       "      <td>1.064856</td>\n",
       "      <td>30.485765</td>\n",
       "    </tr>\n",
       "    <tr>\n",
       "      <th>2</th>\n",
       "      <td>627cb3249a7947ebdd752865XVsoyrUOT8OJJg2_finJhw</td>\n",
       "      <td>8612.347433</td>\n",
       "      <td>1.061698</td>\n",
       "      <td>30.194186</td>\n",
       "    </tr>\n",
       "    <tr>\n",
       "      <th>3</th>\n",
       "      <td>628618629a7947d4927eb812upfii3whSSuMXCqcqF8VbQ</td>\n",
       "      <td>7344.511287</td>\n",
       "      <td>1.064285</td>\n",
       "      <td>35.536650</td>\n",
       "    </tr>\n",
       "    <tr>\n",
       "      <th>4</th>\n",
       "      <td>620e76109a7947235623695b5hzCiIHdSYKQIr8WAM18bw</td>\n",
       "      <td>78911.524446</td>\n",
       "      <td>1.138355</td>\n",
       "      <td>28.651323</td>\n",
       "    </tr>\n",
       "  </tbody>\n",
       "</table>\n",
       "</div>"
      ],
      "text/plain": [
       "                                      document_id         views     depth  \\\n",
       "0  61f9569a9a794794245a82abJ0AvX96vTAaQCiWVbzoMdw  19599.636070  1.184598   \n",
       "1  628c22b89a79470e553f594bQS5CqzXYRnmDdR2LaSreEw   7417.168217  1.064856   \n",
       "2  627cb3249a7947ebdd752865XVsoyrUOT8OJJg2_finJhw   8612.347433  1.061698   \n",
       "3  628618629a7947d4927eb812upfii3whSSuMXCqcqF8VbQ   7344.511287  1.064285   \n",
       "4  620e76109a7947235623695b5hzCiIHdSYKQIr8WAM18bw  78911.524446  1.138355   \n",
       "\n",
       "   full_reads_percent  \n",
       "0           43.667351  \n",
       "1           30.485765  \n",
       "2           30.194186  \n",
       "3           35.536650  \n",
       "4           28.651323  "
      ]
     },
     "execution_count": 54,
     "metadata": {},
     "output_type": "execute_result"
    }
   ],
   "source": [
    "subm.head()"
   ]
  },
  {
   "cell_type": "code",
   "execution_count": 55,
   "id": "00d26c97-fb11-49b4-940e-ea797b27d29d",
   "metadata": {},
   "outputs": [],
   "source": [
    "subm.to_csv(os.path.join(DIR_SUBM, f'{NAME}.csv'), index = False)"
   ]
  },
  {
   "cell_type": "code",
   "execution_count": null,
   "id": "381434ea-0954-4ac1-8278-348a674c1a9c",
   "metadata": {},
   "outputs": [],
   "source": []
  },
  {
   "cell_type": "code",
   "execution_count": null,
   "id": "3adf3ba2-b15d-4b64-a3bd-ed623c9d9f7b",
   "metadata": {},
   "outputs": [],
   "source": []
  }
 ],
 "metadata": {
  "kernelspec": {
   "display_name": "Python 3",
   "language": "python",
   "name": "python3"
  },
  "language_info": {
   "codemirror_mode": {
    "name": "ipython",
    "version": 3
   },
   "file_extension": ".py",
   "mimetype": "text/x-python",
   "name": "python",
   "nbconvert_exporter": "python",
   "pygments_lexer": "ipython3",
   "version": "3.7.10"
  }
 },
 "nbformat": 4,
 "nbformat_minor": 5
}
