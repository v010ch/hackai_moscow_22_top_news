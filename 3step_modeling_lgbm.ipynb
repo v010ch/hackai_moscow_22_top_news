{
 "cells": [
  {
   "cell_type": "code",
   "execution_count": 1,
   "id": "6f62ec01-36f8-4ffe-b187-0616094602d5",
   "metadata": {},
   "outputs": [],
   "source": [
    "%load_ext watermark"
   ]
  },
  {
   "cell_type": "code",
   "execution_count": 2,
   "id": "fd631481-f748-4610-94f4-a0d9b5bbe4ed",
   "metadata": {},
   "outputs": [
    {
     "name": "stdout",
     "output_type": "stream",
     "text": [
      "Last updated: 2022-06-28T16:56:47.710269+03:00\n",
      "\n",
      "Python implementation: CPython\n",
      "Python version       : 3.7.10\n",
      "IPython version      : 7.22.0\n",
      "\n",
      "Compiler    : MSC v.1916 64 bit (AMD64)\n",
      "OS          : Windows\n",
      "Release     : 10\n",
      "Machine     : AMD64\n",
      "Processor   : Intel64 Family 6 Model 158 Stepping 9, GenuineIntel\n",
      "CPU cores   : 8\n",
      "Architecture: 64bit\n",
      "\n"
     ]
    }
   ],
   "source": [
    "%watermark"
   ]
  },
  {
   "cell_type": "code",
   "execution_count": 3,
   "id": "2f268c90-86ca-4ea1-8a02-3a6b43c450cf",
   "metadata": {},
   "outputs": [],
   "source": [
    "import os\n",
    "import pickle as pkl\n",
    "\n",
    "import numpy as np\n",
    "import pandas as pd\n",
    "\n",
    "from sklearn.metrics import r2_score\n",
    "import lightgbm as lgb\n"
   ]
  },
  {
   "cell_type": "code",
   "execution_count": 4,
   "id": "68c33f68-68f2-4e66-a8c6-4a7ac88eb910",
   "metadata": {},
   "outputs": [
    {
     "name": "stdout",
     "output_type": "stream",
     "text": [
      "sklearn_version: 0.24.2\n"
     ]
    }
   ],
   "source": [
    "#from catboost import __version__ as cb_version\n",
    "from sklearn import __version__ as sklearn_version\n",
    "\n",
    "#print(f'cb_version: {cb_version}')\n",
    "print(f'sklearn_version: {sklearn_version}')"
   ]
  },
  {
   "cell_type": "code",
   "execution_count": 5,
   "id": "21f6a58a-b019-4436-83ec-428714473139",
   "metadata": {},
   "outputs": [
    {
     "name": "stdout",
     "output_type": "stream",
     "text": [
      "lightgbm: 3.3.2\n",
      "numpy   : 1.20.3\n",
      "pandas  : 0.25.3\n",
      "\n"
     ]
    }
   ],
   "source": [
    "%watermark --iversions"
   ]
  },
  {
   "cell_type": "code",
   "execution_count": null,
   "id": "8238fc41-4ff8-45af-832d-8ca6512b8995",
   "metadata": {},
   "outputs": [],
   "source": []
  },
  {
   "cell_type": "code",
   "execution_count": null,
   "id": "fabdb0fa-405c-4649-b004-d353666fef7a",
   "metadata": {},
   "outputs": [],
   "source": []
  },
  {
   "cell_type": "markdown",
   "id": "3f3d5ca4-753b-47f1-801f-02be08c0bc3c",
   "metadata": {},
   "source": [
    "## Reproducibility block"
   ]
  },
  {
   "cell_type": "code",
   "execution_count": 6,
   "id": "8d133278-9bc6-4c5d-b029-bd0c31d6adf1",
   "metadata": {},
   "outputs": [],
   "source": [
    "# seed the RNG for all devices (both CPU and CUDA)\n",
    "#torch.manual_seed(1984)\n",
    "\n",
    "#Disabling the benchmarking feature causes cuDNN to deterministically select an algorithm, \n",
    "#possibly at the cost of reduced performance.\n",
    "#torch.backends.cudnn.benchmark = False\n",
    "\n",
    "# for custom operators,\n",
    "import random\n",
    "random.seed(5986721)\n",
    "\n",
    "# \n",
    "np.random.seed(62185)\n",
    "\n",
    "#sklearn take seed from a line abowe\n",
    "\n",
    "CB_RANDOMSEED  = 309487\n",
    "XGB_RANDOMSEED = 56\n",
    "LGB_RANDOMSEED = 874256"
   ]
  },
  {
   "cell_type": "code",
   "execution_count": null,
   "id": "9f38ebd5-a020-47eb-b1f4-9ea987afb524",
   "metadata": {},
   "outputs": [],
   "source": []
  },
  {
   "cell_type": "code",
   "execution_count": 7,
   "id": "019813d1-62ae-4b4d-a2f6-c0d74c146413",
   "metadata": {},
   "outputs": [],
   "source": [
    "DIR_DATA   = os.path.join(os.getcwd(), 'data')\n",
    "DIR_MODELS = os.path.join(os.getcwd(), 'models')\n",
    "DIR_SUBM   = os.path.join(os.getcwd(), 'subm')\n",
    "DIR_SUBM_PART = os.path.join(os.getcwd(), 'subm', 'partial')"
   ]
  },
  {
   "cell_type": "code",
   "execution_count": null,
   "id": "0d608686-6d8e-49ad-906b-b20933e0ec2a",
   "metadata": {},
   "outputs": [],
   "source": []
  },
  {
   "cell_type": "markdown",
   "id": "ae3e27a3-16bb-456d-b7a1-7975d5f85ea5",
   "metadata": {},
   "source": [
    "## Load data"
   ]
  },
  {
   "cell_type": "code",
   "execution_count": 8,
   "id": "ee296ac9-baf6-4bcb-89ce-5fe99408403d",
   "metadata": {},
   "outputs": [],
   "source": [
    "x_train  = pd.read_csv(os.path.join(DIR_DATA, 'x_train.csv'), index_col= 0)\n",
    "x_val    = pd.read_csv(os.path.join(DIR_DATA, 'x_val.csv'), index_col= 0)\n",
    "df_test  = pd.read_csv(os.path.join(DIR_DATA, 'test_upd.csv'), index_col= 0)\n",
    "\n",
    "with open(os.path.join(DIR_DATA, 'cat_columns.pkl'), 'rb') as pickle_file:\n",
    "    cat_cols = pkl.load(pickle_file)\n",
    "    \n",
    "with open(os.path.join(DIR_DATA, 'num_columns.pkl'), 'rb') as pickle_file:\n",
    "    num_cols = pkl.load(pickle_file)"
   ]
  },
  {
   "cell_type": "code",
   "execution_count": 9,
   "id": "b00427ec-ac4f-4da3-8dfb-94871e63072d",
   "metadata": {},
   "outputs": [
    {
     "data": {
      "text/plain": [
       "((5592, 14), (1399, 14), (3000, 11), 5, 1)"
      ]
     },
     "execution_count": 9,
     "metadata": {},
     "output_type": "execute_result"
    }
   ],
   "source": [
    "x_train.shape, x_val.shape, df_test.shape, len(cat_cols), len(num_cols)"
   ]
  },
  {
   "cell_type": "markdown",
   "id": "d4b599d2-168d-4cc1-a4ea-fc34d707a0ce",
   "metadata": {},
   "source": [
    "отделяем метки от данных"
   ]
  },
  {
   "cell_type": "code",
   "execution_count": 10,
   "id": "40de44ef-8722-48fc-84f7-c78ce45471fc",
   "metadata": {},
   "outputs": [
    {
     "data": {
      "text/plain": [
       "((5592, 11), (1399, 11), (5592, 3), (1399, 3))"
      ]
     },
     "execution_count": 10,
     "metadata": {},
     "output_type": "execute_result"
    }
   ],
   "source": [
    "y_train = x_train[['views', 'depth', 'full_reads_percent']]\n",
    "y_val   = x_val[['views', 'depth', 'full_reads_percent']]\n",
    "\n",
    "x_train.drop(['views', 'depth', 'full_reads_percent'], axis = 1, inplace = True)\n",
    "x_val.drop(  ['views', 'depth', 'full_reads_percent'], axis = 1, inplace = True)\n",
    "\n",
    "x_train.shape, x_val.shape, y_train.shape, y_val.shape"
   ]
  },
  {
   "cell_type": "code",
   "execution_count": 11,
   "id": "c416f029-f4cc-46cf-aa20-c30e664b1cdb",
   "metadata": {},
   "outputs": [
    {
     "data": {
      "text/plain": [
       "['hour', 'dow', 'weekend', 'day', 'mounth', 'ctr']"
      ]
     },
     "execution_count": 11,
     "metadata": {},
     "output_type": "execute_result"
    }
   ],
   "source": [
    "cat_cols + num_cols"
   ]
  },
  {
   "cell_type": "code",
   "execution_count": null,
   "id": "0e66639a-50c9-4c53-a52f-84c7c81bb1b9",
   "metadata": {},
   "outputs": [],
   "source": []
  },
  {
   "cell_type": "code",
   "execution_count": null,
   "id": "c5fe55b6-4ad1-4ef0-af26-ad3877729fed",
   "metadata": {},
   "outputs": [],
   "source": []
  },
  {
   "cell_type": "code",
   "execution_count": null,
   "id": "240c92a5-78bc-4b98-a5fd-83e68f9a532a",
   "metadata": {},
   "outputs": [],
   "source": []
  },
  {
   "cell_type": "code",
   "execution_count": null,
   "id": "5241ed5a-09a6-40dc-b2b3-db2acfabf7d0",
   "metadata": {},
   "outputs": [],
   "source": []
  },
  {
   "cell_type": "code",
   "execution_count": 12,
   "id": "33675cdd-a317-46fc-b300-8debe142e3ee",
   "metadata": {},
   "outputs": [],
   "source": [
    "#lgb_train = lgb.Dataset(x_train, y_train)\n",
    "#lgb_eval = lgb.Dataset(x_test, y_test, reference=lgb_train)\n",
    "\n",
    "#views\n",
    "train_ds_views = lgb.Dataset(x_train[cat_cols + num_cols],\n",
    "                             y_train[['views']],\n",
    "                             #feature_name = [cat_cols + num_cols]\n",
    "                            )\n",
    "val_ds_views = lgb.Dataset(x_val[cat_cols + num_cols],\n",
    "                             y_val[['views']],\n",
    "                             #feature_name = [cat_cols + num_cols]\n",
    "                            )\n",
    "\n",
    "\n",
    "#depth\n",
    "train_ds_depth = lgb.Dataset(x_train[cat_cols + num_cols],\n",
    "                             y_train[['depth']],\n",
    "                             #feature_name = [cat_cols + num_cols]\n",
    "                            )\n",
    "val_ds_depth = lgb.Dataset(x_val[cat_cols + num_cols],\n",
    "                             y_val[['depth']],\n",
    "                             #feature_name = [cat_cols + num_cols]\n",
    "                            )\n",
    "\n",
    "\n",
    "#full_reads_percent\n",
    "train_ds_frp = lgb.Dataset(x_train[cat_cols + num_cols],\n",
    "                             y_train[['full_reads_percent']],\n",
    "                             #feature_name = [cat_cols + num_cols]\n",
    "                            )\n",
    "val_ds_frp = lgb.Dataset(x_val[cat_cols + num_cols],\n",
    "                             y_val[['full_reads_percent']],\n",
    "                             #feature_name = [cat_cols + num_cols]\n",
    "                            )\n",
    "#train_ds_frp\n",
    "#val_ds_frp"
   ]
  },
  {
   "cell_type": "code",
   "execution_count": null,
   "id": "2b321b98-4596-4a82-94ff-ae9659ad59e7",
   "metadata": {},
   "outputs": [],
   "source": []
  },
  {
   "cell_type": "code",
   "execution_count": null,
   "id": "a8cc4bfc-78aa-4bc6-a4eb-87be91369b3d",
   "metadata": {},
   "outputs": [],
   "source": []
  },
  {
   "cell_type": "raw",
   "id": "f0ad398d-8bcd-447d-b3e1-7b2ba99aaae9",
   "metadata": {},
   "source": [
    "gbdt, traditional Gradient Boosting Decision Tree, aliases: gbrt\n",
    "rf, Random Forest, aliases: random_forest\n",
    "dart, Dropouts meet Multiple Additive Regression Trees\n",
    "goss, Gradient-based One-Side Sampling"
   ]
  },
  {
   "cell_type": "markdown",
   "id": "5d5c6f84-e036-4d65-af99-fcd6c2782076",
   "metadata": {},
   "source": [
    "## views"
   ]
  },
  {
   "cell_type": "code",
   "execution_count": 13,
   "id": "efd513ef-9d93-4580-9685-577eb57bc5bd",
   "metadata": {},
   "outputs": [],
   "source": [
    "# defining parameters \n",
    "params = {\n",
    "    'task': 'train', \n",
    "    'boosting': 'gbdt',\n",
    "    'objective': 'regression',\n",
    "    'num_leaves': 10,\n",
    "    'learning_rates': 0.05,\n",
    "    'metric': {'l2','l1'},\n",
    "    'verbose': -1,\n",
    "    'random_seed': LGB_RANDOMSEED,\n",
    "}"
   ]
  },
  {
   "cell_type": "code",
   "execution_count": 14,
   "id": "5df18631-d3cc-4697-af0f-f1cb698339f5",
   "metadata": {},
   "outputs": [
    {
     "name": "stdout",
     "output_type": "stream",
     "text": [
      "[LightGBM] [Warning] Unknown parameter: learning_rates\n"
     ]
    },
    {
     "name": "stderr",
     "output_type": "stream",
     "text": [
      "C:\\Users\\_v010ch_\\Anaconda3\\lib\\site-packages\\lightgbm\\engine.py:181: UserWarning: 'early_stopping_rounds' argument is deprecated and will be removed in a future release of LightGBM. Pass 'early_stopping()' callback via 'callbacks' argument instead.\n",
      "  _log_warning(\"'early_stopping_rounds' argument is deprecated and will be removed in a future release of LightGBM. \"\n",
      "C:\\Users\\_v010ch_\\Anaconda3\\lib\\site-packages\\lightgbm\\engine.py:239: UserWarning: 'verbose_eval' argument is deprecated and will be removed in a future release of LightGBM. Pass 'log_evaluation()' callback via 'callbacks' argument instead.\n",
      "  _log_warning(\"'verbose_eval' argument is deprecated and will be removed in a future release of LightGBM. \"\n"
     ]
    }
   ],
   "source": [
    "# fitting the model\n",
    "lgb_model_views = lgb.train(params,\n",
    "                            train_set=train_ds_views,\n",
    "                            valid_sets=val_ds_views,\n",
    "                            early_stopping_rounds=30,\n",
    "                            verbose_eval = False,\n",
    "                           )"
   ]
  },
  {
   "cell_type": "code",
   "execution_count": 15,
   "id": "12ae502e-4ce4-4f6e-947f-4f6f5942584a",
   "metadata": {},
   "outputs": [
    {
     "data": {
      "text/plain": [
       "(0.598891443106734, 0.6282297125590693)"
      ]
     },
     "execution_count": 15,
     "metadata": {},
     "output_type": "execute_result"
    }
   ],
   "source": [
    "# Get predictions and metrics\n",
    "preds_train_views = lgb_model_views.predict(x_train[cat_cols + num_cols])\n",
    "preds_val_views   = lgb_model_views.predict(x_val[cat_cols + num_cols])\n",
    "\n",
    "train_score_views = r2_score(y_train[\"views\"], preds_train_views)\n",
    "val_score_views   = r2_score(y_val[\"views\"],   preds_val_views)\n",
    "\n",
    "train_score_views, val_score_views"
   ]
  },
  {
   "cell_type": "raw",
   "id": "7338d1bc-d189-40c3-83ac-87095107613b",
   "metadata": {},
   "source": [
    "(0.598891443106734, 0.6282297125590693)"
   ]
  },
  {
   "cell_type": "code",
   "execution_count": null,
   "id": "60b2252a-1e35-4596-83f0-0b967b9f8060",
   "metadata": {},
   "outputs": [],
   "source": []
  },
  {
   "cell_type": "code",
   "execution_count": null,
   "id": "38e735b0-dbfa-4be3-90d9-8c0f567433a9",
   "metadata": {},
   "outputs": [],
   "source": []
  },
  {
   "cell_type": "markdown",
   "id": "a3cac29b-566d-4c8b-9cf7-9ef84a7261d2",
   "metadata": {},
   "source": [
    "## depth"
   ]
  },
  {
   "cell_type": "code",
   "execution_count": 16,
   "id": "c932c611-18f7-4038-9d81-643c631b941a",
   "metadata": {},
   "outputs": [],
   "source": [
    "# defining parameters \n",
    "params = {\n",
    "    'task': 'train', \n",
    "    'boosting': 'gbdt',\n",
    "    'objective': 'regression',\n",
    "    'num_leaves': 10,\n",
    "    'learnig_rates': 0.05,\n",
    "    'metric': {'l2','l1'},\n",
    "    'verbose': -1,\n",
    "    'random_seed': LGB_RANDOMSEED,\n",
    "}"
   ]
  },
  {
   "cell_type": "code",
   "execution_count": 17,
   "id": "8fb25a11-0690-4d1f-bb0b-4de094b7f7ba",
   "metadata": {},
   "outputs": [
    {
     "name": "stdout",
     "output_type": "stream",
     "text": [
      "[LightGBM] [Warning] Unknown parameter: learnig_rates\n"
     ]
    },
    {
     "name": "stderr",
     "output_type": "stream",
     "text": [
      "C:\\Users\\_v010ch_\\Anaconda3\\lib\\site-packages\\lightgbm\\engine.py:181: UserWarning: 'early_stopping_rounds' argument is deprecated and will be removed in a future release of LightGBM. Pass 'early_stopping()' callback via 'callbacks' argument instead.\n",
      "  _log_warning(\"'early_stopping_rounds' argument is deprecated and will be removed in a future release of LightGBM. \"\n",
      "C:\\Users\\_v010ch_\\Anaconda3\\lib\\site-packages\\lightgbm\\engine.py:239: UserWarning: 'verbose_eval' argument is deprecated and will be removed in a future release of LightGBM. Pass 'log_evaluation()' callback via 'callbacks' argument instead.\n",
      "  _log_warning(\"'verbose_eval' argument is deprecated and will be removed in a future release of LightGBM. \"\n"
     ]
    }
   ],
   "source": [
    "# fitting the model\n",
    "lgb_model_depth = lgb.train(params,\n",
    "                            train_set=train_ds_depth,\n",
    "                            valid_sets=val_ds_depth,\n",
    "                            early_stopping_rounds=30,\n",
    "                            verbose_eval = False,\n",
    "                           )"
   ]
  },
  {
   "cell_type": "code",
   "execution_count": 18,
   "id": "2596cde2-acc0-4f27-8ab9-6658e7cba842",
   "metadata": {},
   "outputs": [
    {
     "data": {
      "text/plain": [
       "(0.7268344081845861, 0.6434700700442351)"
      ]
     },
     "execution_count": 18,
     "metadata": {},
     "output_type": "execute_result"
    }
   ],
   "source": [
    "# Get predictions and metrics\n",
    "preds_train_depth = lgb_model_depth.predict(x_train[cat_cols + num_cols])\n",
    "preds_val_depth   = lgb_model_depth.predict(x_val[cat_cols + num_cols])\n",
    "\n",
    "train_score_depth = r2_score(y_train[\"depth\"], preds_train_depth)\n",
    "val_score_depth   = r2_score(y_val[\"depth\"],   preds_val_depth)\n",
    "\n",
    "train_score_depth, val_score_depth"
   ]
  },
  {
   "cell_type": "raw",
   "id": "42b4b5db-a639-4829-9350-0c78a2bb037b",
   "metadata": {},
   "source": [
    "(0.7268344081845861, 0.6434700700442351)"
   ]
  },
  {
   "cell_type": "code",
   "execution_count": null,
   "id": "b0434eef-5fa8-44ff-819d-849965628ac1",
   "metadata": {},
   "outputs": [],
   "source": []
  },
  {
   "cell_type": "markdown",
   "id": "fafdf6ea-9687-472f-ab6e-86125f5dc7eb",
   "metadata": {},
   "source": [
    "## full_reads_percent"
   ]
  },
  {
   "cell_type": "code",
   "execution_count": 19,
   "id": "20497c9c-07f7-45c7-b5e6-19baccc063cc",
   "metadata": {},
   "outputs": [],
   "source": [
    "# defining parameters \n",
    "params = {\n",
    "    'task': 'train', \n",
    "    'boosting': 'gbdt',\n",
    "    'objective': 'regression',\n",
    "    'num_leaves': 10,\n",
    "    'learnig_rates': 0.05,\n",
    "    'metric': {'l2','l1'},\n",
    "    'verbose': -1,\n",
    "    'random_seed': LGB_RANDOMSEED,\n",
    "}"
   ]
  },
  {
   "cell_type": "code",
   "execution_count": 20,
   "id": "23ed5945-6e6b-4971-bbb3-faecc6af098e",
   "metadata": {},
   "outputs": [
    {
     "name": "stderr",
     "output_type": "stream",
     "text": [
      "C:\\Users\\_v010ch_\\Anaconda3\\lib\\site-packages\\lightgbm\\engine.py:181: UserWarning: 'early_stopping_rounds' argument is deprecated and will be removed in a future release of LightGBM. Pass 'early_stopping()' callback via 'callbacks' argument instead.\n",
      "  _log_warning(\"'early_stopping_rounds' argument is deprecated and will be removed in a future release of LightGBM. \"\n",
      "C:\\Users\\_v010ch_\\Anaconda3\\lib\\site-packages\\lightgbm\\engine.py:239: UserWarning: 'verbose_eval' argument is deprecated and will be removed in a future release of LightGBM. Pass 'log_evaluation()' callback via 'callbacks' argument instead.\n",
      "  _log_warning(\"'verbose_eval' argument is deprecated and will be removed in a future release of LightGBM. \"\n"
     ]
    },
    {
     "name": "stdout",
     "output_type": "stream",
     "text": [
      "[LightGBM] [Warning] Unknown parameter: learnig_rates\n"
     ]
    }
   ],
   "source": [
    "# fitting the model\n",
    "lgb_model_frp = lgb.train(params,\n",
    "                            train_set=train_ds_frp,\n",
    "                            valid_sets=val_ds_frp,\n",
    "                            early_stopping_rounds=30,\n",
    "                            verbose_eval = False,\n",
    "                           )"
   ]
  },
  {
   "cell_type": "code",
   "execution_count": 21,
   "id": "ce2f5cf1-5605-4e75-99dd-8c23248ff512",
   "metadata": {},
   "outputs": [
    {
     "data": {
      "text/plain": [
       "(0.30008084990246797, 0.2593834027777585)"
      ]
     },
     "execution_count": 21,
     "metadata": {},
     "output_type": "execute_result"
    }
   ],
   "source": [
    "# Get predictions and metrics\n",
    "preds_train_frp = lgb_model_frp.predict(x_train[cat_cols + num_cols])\n",
    "preds_val_frp  = lgb_model_frp.predict(x_val[cat_cols + num_cols])\n",
    "\n",
    "train_score_frp = r2_score(y_train[\"full_reads_percent\"], preds_train_frp)\n",
    "val_score_frp  = r2_score(y_val[\"full_reads_percent\"],   preds_val_frp)\n",
    "\n",
    "train_score_frp, val_score_frp"
   ]
  },
  {
   "cell_type": "raw",
   "id": "cec2f6b6-9782-4b5c-838c-66df8bfc72e5",
   "metadata": {},
   "source": [
    "(0.30008084990246797, 0.2593834027777585)"
   ]
  },
  {
   "cell_type": "code",
   "execution_count": null,
   "id": "c6b000b9-9f71-4f8d-bb73-d58b91330eca",
   "metadata": {},
   "outputs": [],
   "source": []
  },
  {
   "cell_type": "code",
   "execution_count": 22,
   "id": "304d2314-a21f-4bb0-bd61-9fa94711f9f1",
   "metadata": {},
   "outputs": [
    {
     "data": {
      "text/plain": [
       "(0.5476311546688098, 0.5221479268702258)"
      ]
     },
     "execution_count": 22,
     "metadata": {},
     "output_type": "execute_result"
    }
   ],
   "source": [
    "score_train = 0.4 * train_score_views + 0.3 * train_score_depth + 0.3 * train_score_frp\n",
    "score_val  = 0.4 * val_score_views  + 0.3 * val_score_depth  + 0.3 * val_score_frp\n",
    "\n",
    "score_train, score_val"
   ]
  },
  {
   "cell_type": "raw",
   "id": "b4e2f449-432c-42f7-8cce-5cb15323aca0",
   "metadata": {},
   "source": [
    "(0.5476311546688098, 0.5221479268702258)"
   ]
  },
  {
   "cell_type": "code",
   "execution_count": null,
   "id": "8ff54468-e3a7-403c-b6e9-67ad93a5e09e",
   "metadata": {},
   "outputs": [],
   "source": []
  },
  {
   "cell_type": "markdown",
   "id": "81b7d454-37b6-45ee-94fb-99af0fe23ae5",
   "metadata": {},
   "source": [
    "## save models"
   ]
  },
  {
   "cell_type": "code",
   "execution_count": 23,
   "id": "74199c2f-8d7c-4006-8ebb-850131cf50e8",
   "metadata": {},
   "outputs": [
    {
     "data": {
      "text/plain": [
       "<lightgbm.basic.Booster at 0x244064db288>"
      ]
     },
     "execution_count": 23,
     "metadata": {},
     "output_type": "execute_result"
    }
   ],
   "source": [
    "lgb_model_views.save_model(os.path.join(DIR_MODELS, 'lgm_views.txt'), num_iteration = lgb_model_views.best_iteration)\n",
    "lgb_model_depth.save_model(os.path.join(DIR_MODELS, 'lgm_depth.txt'), num_iteration = lgb_model_depth.best_iteration)\n",
    "lgb_model_frp.save_model(  os.path.join(DIR_MODELS, 'lgm_frp.txt'),   num_iteration = lgb_model_frp.best_iteration)"
   ]
  },
  {
   "cell_type": "code",
   "execution_count": null,
   "id": "102c6530-8a1b-4c1c-a1d3-e9d95e350220",
   "metadata": {},
   "outputs": [],
   "source": []
  },
  {
   "cell_type": "markdown",
   "id": "ac604b78-2718-408d-8d19-5b202d3f5a19",
   "metadata": {},
   "source": [
    "## make predict"
   ]
  },
  {
   "cell_type": "code",
   "execution_count": 24,
   "id": "df8e4305-28ed-444f-8325-e6460f7d2271",
   "metadata": {},
   "outputs": [],
   "source": [
    "pred_views = lgb_model_views.predict(df_test[cat_cols + num_cols])\n",
    "pred_depth = lgb_model_depth.predict(df_test[cat_cols + num_cols])\n",
    "pred_frp   = lgb_model_frp.predict(  df_test[cat_cols + num_cols])"
   ]
  },
  {
   "cell_type": "code",
   "execution_count": 25,
   "id": "f422300e-24cf-435a-af11-a450f4f10393",
   "metadata": {},
   "outputs": [],
   "source": [
    "subm = pd.DataFrame()\n",
    "subm['document_id'] = df_test.index\n",
    "\n",
    "subm['views'] = pred_views\n",
    "subm['depth'] = pred_depth\n",
    "subm['full_reads_percent'] = pred_frp"
   ]
  },
  {
   "cell_type": "code",
   "execution_count": 26,
   "id": "37fa65e1-c702-4764-8f84-eb93b80c73f8",
   "metadata": {},
   "outputs": [
    {
     "data": {
      "text/html": [
       "<div>\n",
       "<style scoped>\n",
       "    .dataframe tbody tr th:only-of-type {\n",
       "        vertical-align: middle;\n",
       "    }\n",
       "\n",
       "    .dataframe tbody tr th {\n",
       "        vertical-align: top;\n",
       "    }\n",
       "\n",
       "    .dataframe thead th {\n",
       "        text-align: right;\n",
       "    }\n",
       "</style>\n",
       "<table border=\"1\" class=\"dataframe\">\n",
       "  <thead>\n",
       "    <tr style=\"text-align: right;\">\n",
       "      <th></th>\n",
       "      <th>document_id</th>\n",
       "      <th>views</th>\n",
       "      <th>depth</th>\n",
       "      <th>full_reads_percent</th>\n",
       "    </tr>\n",
       "  </thead>\n",
       "  <tbody>\n",
       "    <tr>\n",
       "      <th>0</th>\n",
       "      <td>61f9569a9a794794245a82abJ0AvX96vTAaQCiWVbzoMdw</td>\n",
       "      <td>15479.489328</td>\n",
       "      <td>1.182404</td>\n",
       "      <td>38.049910</td>\n",
       "    </tr>\n",
       "    <tr>\n",
       "      <th>1</th>\n",
       "      <td>628c22b89a79470e553f594bQS5CqzXYRnmDdR2LaSreEw</td>\n",
       "      <td>3945.230170</td>\n",
       "      <td>1.053702</td>\n",
       "      <td>36.974872</td>\n",
       "    </tr>\n",
       "    <tr>\n",
       "      <th>2</th>\n",
       "      <td>627cb3249a7947ebdd752865XVsoyrUOT8OJJg2_finJhw</td>\n",
       "      <td>9891.737490</td>\n",
       "      <td>1.065854</td>\n",
       "      <td>30.117262</td>\n",
       "    </tr>\n",
       "    <tr>\n",
       "      <th>3</th>\n",
       "      <td>628618629a7947d4927eb812upfii3whSSuMXCqcqF8VbQ</td>\n",
       "      <td>5509.923177</td>\n",
       "      <td>1.066716</td>\n",
       "      <td>37.412211</td>\n",
       "    </tr>\n",
       "    <tr>\n",
       "      <th>4</th>\n",
       "      <td>620e76109a7947235623695b5hzCiIHdSYKQIr8WAM18bw</td>\n",
       "      <td>106939.976618</td>\n",
       "      <td>1.161011</td>\n",
       "      <td>34.296843</td>\n",
       "    </tr>\n",
       "  </tbody>\n",
       "</table>\n",
       "</div>"
      ],
      "text/plain": [
       "                                      document_id          views     depth  \\\n",
       "0  61f9569a9a794794245a82abJ0AvX96vTAaQCiWVbzoMdw   15479.489328  1.182404   \n",
       "1  628c22b89a79470e553f594bQS5CqzXYRnmDdR2LaSreEw    3945.230170  1.053702   \n",
       "2  627cb3249a7947ebdd752865XVsoyrUOT8OJJg2_finJhw    9891.737490  1.065854   \n",
       "3  628618629a7947d4927eb812upfii3whSSuMXCqcqF8VbQ    5509.923177  1.066716   \n",
       "4  620e76109a7947235623695b5hzCiIHdSYKQIr8WAM18bw  106939.976618  1.161011   \n",
       "\n",
       "   full_reads_percent  \n",
       "0           38.049910  \n",
       "1           36.974872  \n",
       "2           30.117262  \n",
       "3           37.412211  \n",
       "4           34.296843  "
      ]
     },
     "execution_count": 26,
     "metadata": {},
     "output_type": "execute_result"
    }
   ],
   "source": [
    "subm.head()"
   ]
  },
  {
   "cell_type": "code",
   "execution_count": 27,
   "id": "00d26c97-fb11-49b4-940e-ea797b27d29d",
   "metadata": {},
   "outputs": [],
   "source": [
    "subm.to_csv(os.path.join(DIR_SUBM, '1_lgb_baseline_test.csv'), index = False)"
   ]
  },
  {
   "cell_type": "code",
   "execution_count": null,
   "id": "381434ea-0954-4ac1-8278-348a674c1a9c",
   "metadata": {},
   "outputs": [],
   "source": []
  }
 ],
 "metadata": {
  "kernelspec": {
   "display_name": "Python 3",
   "language": "python",
   "name": "python3"
  },
  "language_info": {
   "codemirror_mode": {
    "name": "ipython",
    "version": 3
   },
   "file_extension": ".py",
   "mimetype": "text/x-python",
   "name": "python",
   "nbconvert_exporter": "python",
   "pygments_lexer": "ipython3",
   "version": "3.7.10"
  }
 },
 "nbformat": 4,
 "nbformat_minor": 5
}
