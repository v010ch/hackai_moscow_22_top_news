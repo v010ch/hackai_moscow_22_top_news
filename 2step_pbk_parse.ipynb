{
 "cells": [
  {
   "cell_type": "code",
   "execution_count": 8,
   "id": "f254596a-2f20-461e-ac1e-a29f0b9e43d0",
   "metadata": {},
   "outputs": [],
   "source": [
    "import os\n",
    "from typing import Tuple, Optional\n",
    "\n",
    "from selenium import webdriver\n",
    "from scipy import stats as sts\n",
    "import requests as rq\n",
    "from bs4 import BeautifulSoup as bs\n",
    "import re\n",
    "\n",
    "import time\n",
    "from tqdm.auto import tqdm\n",
    "tqdm.pandas()\n",
    "\n",
    "import pandas as pd\n",
    "import numpy as np"
   ]
  },
  {
   "cell_type": "code",
   "execution_count": null,
   "id": "8e4276ab-5a53-44e8-9e4e-9fac9215cfda",
   "metadata": {},
   "outputs": [],
   "source": []
  },
  {
   "cell_type": "code",
   "execution_count": 3,
   "id": "796e71cf-6338-4e43-a48b-d2b06a1d56ac",
   "metadata": {},
   "outputs": [],
   "source": [
    "DIR_DATA = os.path.join(os.getcwd(), 'data')"
   ]
  },
  {
   "cell_type": "code",
   "execution_count": 4,
   "id": "ffd648e6-5e91-496b-9c39-1846fb533804",
   "metadata": {},
   "outputs": [],
   "source": [
    "MIN_DELAY = 2.673 #2.17 #2.673\n",
    "MAX_DELAY = 5.386 #4.8 #7.22 #9.181"
   ]
  },
  {
   "cell_type": "code",
   "execution_count": null,
   "id": "f1d9f86e-d62c-4f78-9df3-412d5067a65c",
   "metadata": {},
   "outputs": [],
   "source": []
  },
  {
   "cell_type": "code",
   "execution_count": 5,
   "id": "1a0ce1d4-0ad9-4d1d-9363-0d22c1f33d5a",
   "metadata": {},
   "outputs": [],
   "source": [
    "#LOAD_NUMBER = 0\n",
    "#LAST_LOAD = time.time()"
   ]
  },
  {
   "cell_type": "code",
   "execution_count": null,
   "id": "b3d078f7-4da2-45ea-9147-5f1da4daa349",
   "metadata": {},
   "outputs": [],
   "source": []
  },
  {
   "cell_type": "code",
   "execution_count": 6,
   "id": "eea9d86d-2efe-44c2-827a-8ef9f4d7a222",
   "metadata": {},
   "outputs": [
    {
     "data": {
      "text/plain": [
       "((7000, 11), (3000, 8))"
      ]
     },
     "execution_count": 6,
     "metadata": {},
     "output_type": "execute_result"
    }
   ],
   "source": [
    "df_train = pd.read_csv(os.path.join(DIR_DATA, 'train.csv'))\n",
    "df_test  = pd.read_csv(os.path.join(DIR_DATA, 'test.csv'))\n",
    "\n",
    "df_train['publish_date'] = pd.to_datetime(df_train['publish_date'])\n",
    "df_test['publish_date']  = pd.to_datetime(df_test['publish_date'])\n",
    "\n",
    "df_train.shape, df_test.shape"
   ]
  },
  {
   "cell_type": "code",
   "execution_count": null,
   "id": "bf98d5d8-ba31-4fc4-ac7c-e362064a014d",
   "metadata": {},
   "outputs": [],
   "source": []
  },
  {
   "cell_type": "code",
   "execution_count": 9,
   "id": "95a60d9c-cff6-4e56-b1d2-8b07ad624482",
   "metadata": {},
   "outputs": [],
   "source": [
    "class UserEmulate:\n",
    "    \n",
    "    def __init__(self, inp_min_delay: int, inp_max_delay: int):\n",
    "        self.load_number = 0\n",
    "        self.last_load  = time.time()\n",
    "        \n",
    "        self.min_delay = inp_min_delay\n",
    "        self.max_delay = inp_max_delay\n",
    "        \n",
    "        \n",
    "        \n",
    "\n",
    "    def resetusage(self, inp_min_delay: Optional[int] = -1, inp_max_delay: Optional[int] = -1) -> None:\n",
    "        self.load_number = 0\n",
    "        self.last_load   = time.time()\n",
    "        \n",
    "        \n",
    "        if inp_min_delay > 0:\n",
    "            self.min_delay = inp_min_delay\n",
    "        \n",
    "        if inp_min_delay > 0:\n",
    "            self.max_delay = inp_max_delay\n",
    "        \n",
    "        return\n",
    "        \n",
    "        \n",
    "        \n",
    "    def pauserealuseremulate(self, numb_load: int, last_time: int) -> None:\n",
    "\n",
    "        if numb_load %7 == 0:\n",
    "            pause_time = sts.norm.rvs(loc=2, scale=3, size=1)[0]\n",
    "        elif numb_load %3 == 0:\n",
    "            pause_time = sts.chi2.rvs(df = 1.7, loc = 0, scale = 1, size=1)[0]\n",
    "        else:\n",
    "            pause_time = sts.gamma.rvs(a = 1, loc = 1, scale = 2, size=1)[0]\n",
    "\n",
    "        if (time.time() - last_time) > pause_time:\n",
    "            return\n",
    "\n",
    "        #if pause_time >= MIN_DELAY and pause_time <= MAX_DELAY:\n",
    "        if pause_time >= self.min_delay and pause_time <= self.mac_delay:\n",
    "            #print(pause_time)\n",
    "            time.sleep(pause_time - abs(time.time() - last_time))\n",
    "            pass\n",
    "        else:\n",
    "            pauserealuseremulate(numb_load, last_time)\n",
    "\n",
    "        return"
   ]
  },
  {
   "cell_type": "code",
   "execution_count": 10,
   "id": "8a396015-6dce-41a7-aa25-c499bd5a94b7",
   "metadata": {},
   "outputs": [],
   "source": [
    "category_decode = {\n",
    "    '5409f11ce063da9c8b588a12':{'name': 'Политика',      # / rbcfreenews\n",
    "                                'link': 'politics',      # слово в ссылкена рбк\n",
    "                                'last_word': 'Политика', # возможное последнее слово в title\n",
    "                                                         # при наличии ошибки\n",
    "                                },\n",
    "    '5433e5decbb20f277b20eca9':{'name': 'Общество',      # / photoreport\n",
    "                                'link': 'society',       # слово в ссылкена рбк\n",
    "                                'last_word': 'Общество', # возможное последнее слово в title\n",
    "                                                         # при наличии ошибки\n",
    "                                },\n",
    "    '540d5eafcbb20f2524fc0509':{'name': 'Бизнес',        # / rbcfreenews\n",
    "                                'link': 'business',      # слово в ссылкена рбк\n",
    "                                'last_word': 'Бизнес',   # возможное последнее слово в title\n",
    "                                                         # при наличии ошибки\n",
    "                                },\n",
    "    '5409f11ce063da9c8b588a13':{'name': 'Экономка',      # / rbcfreenews\n",
    "                                'link': 'economics',     # слово в ссылкена рбк\n",
    "                                'last_word': 'Экономика', # возможное последнее слово в title\n",
    "                                                         # при наличии ошибки\n",
    "                                },\n",
    "    '540d5ecacbb20f2524fc050a':{'name': 'Технологии и медия',# / rbcfreenews\n",
    "                                'link': 'technology_and_media',      # слово в ссылкена рбк\n",
    "                                'last_word': 'медиа',    # возможное последнее слово в title\n",
    "                                                         # при наличии ошибки\n",
    "                                },\n",
    "    '5409f11ce063da9c8b588a18':{'name': 'Финансы',       # / rbcfreenews\n",
    "                                'link': 'finances',      # слово вссылкена рбк\n",
    "                                'last_word': 'Финансы',  # возможное последнее слово в title\n",
    "                                                         # при наличии ошибки\n",
    "                                },   \n",
    "\n",
    "## DELETED????\n",
    "        '5e54e2089a7947f63a801742':{'name': 'Политика',  # / rbcfreenews\n",
    "                                'link': 'politics',      # слово вссылкена рбк\n",
    "                                'last_word': 'Политика', # возможное последнее слово в title\n",
    "                                                         # при наличии ошибки\n",
    "                                },  \n",
    "        '552e430f9a79475dd957f8b3':{'name': 'Деньги',    # / rbcfreenews\n",
    "                                'link': 'money',         # слово вссылкена рбк\n",
    "                                'last_word': 'Деньги',   # возможное последнее слово в title\n",
    "                                                         # при наличии ошибки\n",
    "                                },  \n",
    "        '5e54e22a9a7947f560081ea2':{'name': 'Недвижимость',# / city\n",
    "                                'link': 'realty',          # слово вссылкена рбк\n",
    "                                'last_word': 'Недвижимость',  # возможное последнее слово в title\n",
    "                                                           # при наличии ошибки\n",
    "                                },  \n",
    "}"
   ]
  },
  {
   "cell_type": "raw",
   "id": "ee66e097-cadd-40c8-a59d-f961908560f4",
   "metadata": {},
   "source": [
    "5409f11ce063da9c8b588a12\n",
    "\n",
    "648\n",
    "https://www.rbc.ru/politics/22/03/2022/623a42f49a7947092e9f8a6byyO-cdUwQK2SyNATEJw4Hg\n",
    "https://www.rbc.ru/rbcfreenews/623a42f49a7947092e9f8a6b\n",
    "\n",
    "1511\n",
    "624463cd9a79476ed1dfc869E_KUrdstQmmg6BC2cXKeQw\n",
    "https://www.rbc.ru/politics/30/03/2022/624463cd9a79476ed1dfc869\n",
    "\n",
    "1808\n",
    "620d619f9a7947376b27bfa4Inynzi57Rha5kH_bTmf7rg\n",
    "https://www.rbc.ru/rbcfreenews/620d619f9a7947376b27bfa4\n",
    "    \n",
    "    \n",
    "    \n",
    "    \n",
    "5433e5decbb20f277b20eca9\n",
    "\n",
    "1868\n",
    "623326679a794756b8f2a9689gvGuGVAQdSks_mvJUPH0g\n",
    "https://www.rbc.ru/photoreport/26/03/2022/623326679a794756b8f2a968\n",
    "\n",
    "2270\n",
    "628f46d79a7947a590484e1fCdVz8DVMScWTjWmc-egG6Q\n",
    "https://www.rbc.ru/society/26/05/2022/628f46d79a7947a590484e1f    \n",
    "\n",
    "2320\n",
    "620099d69a794755aba55d7ay3GfLOkyT0udO4mpPvGtpg\n",
    "https://www.rbc.ru/society/07/02/2022/620099d69a794755aba55d7a\n",
    "    \n",
    "176\n",
    "6244c29b9a79478f9a339bca0RwqdNMOSfeAefxAr_8Wwg\n",
    "https://www.rbc.ru/society/31/03/2022/6244c29b9a79478f9a339bca"
   ]
  },
  {
   "cell_type": "code",
   "execution_count": 11,
   "id": "8d43c81a-5f89-46b6-883a-198181da7e68",
   "metadata": {},
   "outputs": [],
   "source": [
    "clean_text = lambda x:' '.join(re.sub('\\n|\\r|\\t|[^а-яА-Яa-zA-Z]', ' ', x).split()) #.lower()"
   ]
  },
  {
   "cell_type": "code",
   "execution_count": 9,
   "id": "8e7add84-7bb9-4a8d-b6de-22d997657936",
   "metadata": {},
   "outputs": [],
   "source": [
    "def get_article_data(inp_df):\n",
    "    \n",
    "    global load_number\n",
    "    global last_load\n",
    "    \n",
    "    #article = ''\n",
    "    \n",
    "    #print(inp_df[1])\n",
    "    #print(inp_df[1].dt.date.day)\n",
    "    date = inp_df[1].strftime('%d/%m/%Y')\n",
    "    category = category_decode[inp_df[2]]['link']\n",
    "    link_hash = inp_df[0][:24]\n",
    "    #print(f'https://www.rbc.ru/{category}/{date}/{link_hash}')\n",
    "    url = f'https://www.rbc.ru/{category}/{date}/{link_hash}'\n",
    "    driver.get(url)\n",
    "    \n",
    "    # эмулируем задержки пользователя\n",
    "    pauserealuseremulate(load_number, last_load)\n",
    "    last_load = time.time()\n",
    "    load_number += 1\n",
    "    \n",
    "    # 404\n",
    "    if len(driver.find_elements_by_class_name('error__title')) != 0:\n",
    "        # общество может быть объеденено с городом\n",
    "        # а политика часто с новостями\n",
    "        if inp_df[2] != '5433e5decbb20f277b20eca9':\n",
    "            category = 'rbcfreenews'\n",
    "            print(f'https://www.rbc.ru/{category}/{link_hash}')\n",
    "            url = f'https://www.rbc.ru/{category}/{link_hash}'\n",
    "        else:\n",
    "            category = 'city'\n",
    "            print(f'https://www.rbc.ru/{category}/{date}/{link_hash}')\n",
    "            url = f'https://www.rbc.ru/{category}/{date}/{link_hash}'\n",
    "            \n",
    "        driver.get(url)\n",
    "        \n",
    "        # эмулируем задержки пользователя\n",
    "        pauserealuseremulate(load_number, last_load)\n",
    "        last_load = time.time()\n",
    "        load_number += 1\n",
    "    \n",
    "        # документ вне категории и rbcfreenews\n",
    "        if len(driver.find_elements_by_class_name('error__title')) != 0:\n",
    "            print(inp_df)\n",
    "            return False\n",
    "            \n",
    "    with open(os.path.join(DIR_DATA, 'pages', f'{inp_df[0]}.html'), 'w',  encoding=\"utf-8\") as f:\n",
    "        f.write(driver.page_source)\n",
    "    \n",
    "    return True"
   ]
  },
  {
   "cell_type": "code",
   "execution_count": 10,
   "id": "b3948cd8-6c45-45f7-bd2e-1a9883ea957f",
   "metadata": {},
   "outputs": [],
   "source": [
    "def check_for_news(inp_df):\n",
    "    \n",
    "    global load_number\n",
    "    global last_load\n",
    "    \n",
    "    #article = ''\n",
    "    \n",
    "    #print(inp_df[1])\n",
    "    #print(inp_df[1].dt.date.day)\n",
    "    date = inp_df[1].strftime('%d/%m/%Y')\n",
    "    category = category_decode[inp_df[2]]['link']\n",
    "    link_hash = inp_df[0][:24]\n",
    "    #print(f'https://www.rbc.ru/{category}/{date}/{link_hash}')\n",
    "    url = f'https://www.rbc.ru/{category}/{date}/{link_hash}'\n",
    "    driver.get(url)\n",
    "    \n",
    "    # эмулируем задержки пользователя\n",
    "    pauserealuseremulate(load_number, last_load)\n",
    "    last_load = time.time()\n",
    "    load_number += 1\n",
    "    \n",
    "    # 404\n",
    "    if len(driver.find_elements_by_class_name('error__title')) != 0:\n",
    "        # общество может быть объеденено с городом\n",
    "        # а политика часто с новостями\n",
    "        if inp_df[2] != '5433e5decbb20f277b20eca9':\n",
    "            category = 'rbcfreenews'\n",
    "            print(f'https://www.rbc.ru/{category}/{link_hash}')\n",
    "            url = f'https://www.rbc.ru/{category}/{link_hash}'\n",
    "        else:\n",
    "            category = 'city'\n",
    "            print(f'https://www.rbc.ru/{category}/{date}/{link_hash}')\n",
    "            url = f'https://www.rbc.ru/{category}/{date}/{link_hash}'\n",
    "            \n",
    "        driver.get(url)\n",
    "        \n",
    "        # эмулируем задержки пользователя\n",
    "        pauserealuseremulate(load_number, last_load)\n",
    "        last_load = time.time()\n",
    "        load_number += 1\n",
    "    \n",
    "        # документ вне категории и rbcfreenews\n",
    "        if len(driver.find_elements_by_class_name('error__title')) != 0:\n",
    "            print(inp_df)\n",
    "            return 'unknown'\n",
    "        else:\n",
    "            return category\n",
    "            \n",
    "    \n",
    "    return category"
   ]
  },
  {
   "cell_type": "raw",
   "id": "7594b168-dec2-4a97-95d5-8ea51afd01c7",
   "metadata": {},
   "source": [
    "load_number = 0\n",
    "last_load = time.time()\n",
    "\n",
    "driver = webdriver.Firefox(executable_path = \"C:\\\\WebDrivers\\\\bin\\\\geckodriver\")\n",
    "tmp = df_train.loc[5000:, ['document_id', 'publish_date', 'category']].progress_apply(get_article_data, axis = 1)"
   ]
  },
  {
   "cell_type": "raw",
   "id": "ced5eac4-d837-49b2-8afc-c09e543e4ef4",
   "metadata": {},
   "source": [
    "load_number = 0\n",
    "last_load = time.time()\n",
    "\n",
    "driver = webdriver.Firefox(executable_path = \"C:\\\\WebDrivers\\\\bin\\\\geckodriver\")\n",
    "tmp = df_test.loc[:, ['document_id', 'publish_date', 'category']].progress_apply(get_article_data, axis = 1)\n",
    "print(sum(tmp))"
   ]
  },
  {
   "cell_type": "raw",
   "id": "01f726c1-ebb8-48b4-bf31-d761a387e140",
   "metadata": {},
   "source": [
    "load_number = 0\n",
    "last_load = time.time()\n",
    "\n",
    "driver = webdriver.Firefox(executable_path = \"C:\\\\WebDrivers\\\\bin\\\\geckodriver\")\n",
    "df_train['link_part'] = df_train.loc[:, ['document_id', 'publish_date', 'category']].progress_apply(check_for_news, axis = 1)\n",
    "\n",
    "df_train.to_csv(os.path.join(DIR_DATA, 'train_link.csv'), index = False)"
   ]
  },
  {
   "cell_type": "code",
   "execution_count": null,
   "id": "f344c457-7067-47d3-a551-69babc0795fb",
   "metadata": {},
   "outputs": [],
   "source": []
  },
  {
   "cell_type": "code",
   "execution_count": null,
   "id": "b7526540-2b8f-4a2b-8303-13f5d371649a",
   "metadata": {},
   "outputs": [],
   "source": []
  },
  {
   "cell_type": "code",
   "execution_count": null,
   "id": "190806a9-6728-4b7d-881c-e15566c571a0",
   "metadata": {},
   "outputs": [],
   "source": []
  },
  {
   "cell_type": "raw",
   "id": "68b4b938-2135-44c2-aae2-95116bc48c53",
   "metadata": {},
   "source": [
    "# обычная статья\n",
    "#tst_page = '624ac09c9a7947db3d80c98e.html'\n",
    "tst_page = '624ac09c9a7947db3d80c98eIDE7mtH4RBqGn-8MXfGffQ.html'\n",
    "\n",
    "# статья с многго фото\n",
    "#623326679a794756b8f2a9689gvGuGVAQdSks_mvJUPH0g\n",
    "#https://www.rbc.ru/photoreport/26/03/2022/623326679a794756b8f2a968\n",
    "#tst_page = '623326679a794756b8f2a9689gvGuGVAQdSks_mvJUPH0g.html'"
   ]
  },
  {
   "cell_type": "raw",
   "id": "9d10aec4-9c0c-44a2-9224-735885cebbe5",
   "metadata": {},
   "source": [
    "pages = [el for el in os.listdir(os.path.join(DIR_DATA, 'pages')) if el.endswith('.html')]\n",
    "doc_id = [el[:-5] for el in pages]\n",
    "\n",
    "rbk_data = pd.DataFrame(columns = ['document_id', 'true_title', 'text_overview', 'text', 'true_category'])\n",
    "rbk_data['document_id'] = doc_id"
   ]
  },
  {
   "cell_type": "code",
   "execution_count": 11,
   "id": "84fdf5a5-cfdc-4f85-8c42-48f76c15fa21",
   "metadata": {},
   "outputs": [],
   "source": [
    "#(page_data.text, features=\"lxml\") # features=\"lxml\" чтобы не было warning"
   ]
  },
  {
   "cell_type": "code",
   "execution_count": 13,
   "id": "11b94923-8889-40fb-9e58-e6e8645857ee",
   "metadata": {},
   "outputs": [],
   "source": [
    "def get_article_info(inp_id: str):\n",
    "    \n",
    "    with open(os.path.join(DIR_DATA, 'pages', f'{inp_id}.html'), 'r', encoding=\"utf-8\") as page:\n",
    "        page_data = page.read()\n",
    "    \n",
    "    soup = bs(page_data, 'html.parser')\n",
    "\n",
    "    # title_info\n",
    "    tmp_group = soup.find_all('div', attrs={'class': 'article__header__info-block'})\n",
    "    #if len(tmp_group) != 1:\n",
    "    if len(tmp_group) == 0:\n",
    "        print(f'{inp_id} something went wrong. header info block {len(tmp_group)}')\n",
    "        #if len(tmp_group) > 1:\n",
    "        #    for el in range(len(tmp_group)):\n",
    "        #        print(tmp_group[el])\n",
    "        #raise\n",
    "    else:\n",
    "        if len(tmp_group) > 1:\n",
    "            two_articles = 1\n",
    "        else:\n",
    "            two_articles = 0\n",
    "        tmp_group = tmp_group[0]\n",
    "\n",
    "\n",
    "    true_category = tmp_group.find_all('a')\n",
    "    if len(true_category) != 1:\n",
    "        print(f'{inp_id} something went wrong. true_category {len(true_category)}')\n",
    "    true_category = true_category[0].text\n",
    "\n",
    "\n",
    "    #new_views = tmp_group.find_all('span', attrs=  {'class': 'article__header__counter js-insert-views-count'})\n",
    "    #if len(new_views) != 1:\n",
    "    #    print(f'something went wrong. new_views {len(new_views)}')\n",
    "    #new_views = new_views[0].text\n",
    "\n",
    "    # article header\n",
    "    tmp_group = soup.find_all('div', attrs={'class': 'article__header__title'})\n",
    "    if len(tmp_group) == 0:\n",
    "        print(f'{inp_id} something went wrong. article header {len(tmp_group)}')\n",
    "        # raise\n",
    "    else:\n",
    "        #if len(tmp_group) > 1:\n",
    "        #    snd_header\n",
    "        tmp_group = tmp_group[0]\n",
    "\n",
    "\n",
    "    #true_title = tmp_group.find_all('div', attrs = {'class': 'article__header__title'})\n",
    "    true_title = tmp_group.find_all('h1', attrs = {'class': 'article__header__title-in js-slide-title'})\n",
    "    if len(true_title) != 1:\n",
    "        true_title = tmp_group.find_all('h1', attrs = {'class': 'article__header__title-in js-slide-title article__header__title-in_relative'})\n",
    "        if len(true_title) != 1:\n",
    "            print(f'{inp_id} something went wrong. true_title {len(true_title)}')            \n",
    "    true_title = text = clean_text(true_title[0].text)\n",
    "\n",
    "\n",
    "    # article text\n",
    "    tmp_group = soup.find_all('div', attrs={'class': 'article__text article__text_free'})\n",
    "    if len(tmp_group) == 0:\n",
    "        print(f'{inp_id} something went wrong. article text {len(tmp_group)}')\n",
    "        # raise\n",
    "    else:\n",
    "        #if len(tmp_group) > 1:\n",
    "           # snd_text = \n",
    "        tmp_group = tmp_group[0]\n",
    "\n",
    "    overview = tmp_group.find_all('div', attrs={'class': 'article__text__overview'})\n",
    "    if len(overview) == 0:\n",
    "        #print(f'{inp_id} something went wrong. overview {len(overview)}')\n",
    "        #print(overview, true_category, true_title)\n",
    "        # rbcfreenews can be without overview\n",
    "        overview = ''\n",
    "    else:\n",
    "        overview = overview[0].span.text\n",
    "\n",
    "    text = tmp_group.find_all('p')\n",
    "    if len(text) == 0:\n",
    "        print(f'{inp_id} something went wrong. text')\n",
    "    text = ' '.join([clean_text(el.text) for el in text])    \n",
    "\n",
    "\n",
    "    # images\n",
    "    tmp_imgs = soup.find_all('div', attrs={'class': 'gallery_vertical__item'})\n",
    "    #f len(tmp_imgs) != 1:\n",
    "    #   print(f'something went wrong. article images {len(tmp_imgs)}')\n",
    "    tmp_imgs = len(tmp_imgs)\n",
    "\n",
    "\n",
    "\n",
    "    #print(true_category, true_title, tmp_imgs, '\\n')\n",
    "    #print(overview, '\\n')\n",
    "    #print(text)\n",
    "    #print(text[0].text)\n",
    "    return (true_category, true_title, tmp_imgs, overview, len(text.split()), two_articles, text) #snd_header, snd_text"
   ]
  },
  {
   "cell_type": "raw",
   "id": "720c2c1e-8772-48fe-89da-b8c01552a64e",
   "metadata": {},
   "source": [
    "Фоторепортаж, Фотогалерея, Главное за день, ЧЭЗ, видео, прямая трансляция"
   ]
  },
  {
   "cell_type": "code",
   "execution_count": 14,
   "id": "c2498b3c-e4cd-4242-bed1-aa5dbe1d0b69",
   "metadata": {},
   "outputs": [
    {
     "data": {
      "text/plain": [
       "array(['Обращение к Путину по Донбассу, борьба Валиевой. ЧЭЗ на телеканале РБК\\n                \\n                                                    \\n\\n    \\n\\n    Общество,\\xa019:05'],\n",
       "      dtype=object)"
      ]
     },
     "execution_count": 14,
     "metadata": {},
     "output_type": "execute_result"
    }
   ],
   "source": [
    "#df_train[df_train.document_id == '626e564d9a79471a3cd5de65ZM028L7kQ1mVIZAB30bTEA'].title.values\n",
    "df_test[df_test.document_id == '620a7cbf9a79471a9c6ace46aMuqupFlTxSsa5P6zHzaEQ'].title.values"
   ]
  },
  {
   "cell_type": "code",
   "execution_count": 15,
   "id": "08592edb-96cd-4798-b754-a67a6ec9ab25",
   "metadata": {},
   "outputs": [
    {
     "data": {
      "text/html": [
       "<div>\n",
       "<style scoped>\n",
       "    .dataframe tbody tr th:only-of-type {\n",
       "        vertical-align: middle;\n",
       "    }\n",
       "\n",
       "    .dataframe tbody tr th {\n",
       "        vertical-align: top;\n",
       "    }\n",
       "\n",
       "    .dataframe thead th {\n",
       "        text-align: right;\n",
       "    }\n",
       "</style>\n",
       "<table border=\"1\" class=\"dataframe\">\n",
       "  <thead>\n",
       "    <tr style=\"text-align: right;\">\n",
       "      <th></th>\n",
       "      <th>document_id</th>\n",
       "      <th>title</th>\n",
       "      <th>publish_date</th>\n",
       "      <th>session</th>\n",
       "      <th>authors</th>\n",
       "      <th>ctr</th>\n",
       "      <th>category</th>\n",
       "      <th>tags</th>\n",
       "      <th>views</th>\n",
       "      <th>depth</th>\n",
       "      <th>full_reads_percent</th>\n",
       "    </tr>\n",
       "  </thead>\n",
       "  <tbody>\n",
       "    <tr>\n",
       "      <th>1485</th>\n",
       "      <td>6210c3939a7947e58a257424iqcwqgm9QXShvP0aU1iVQQ</td>\n",
       "      <td>Путин провел учения сил стратегического сдержи...</td>\n",
       "      <td>2022-02-19 11:13:47</td>\n",
       "      <td>iqcwqgm9QXShvP0aU1iVQQ</td>\n",
       "      <td>[]</td>\n",
       "      <td>7.173</td>\n",
       "      <td>5409f11ce063da9c8b588a12</td>\n",
       "      <td>['58abcf539a7947f18bc079eb', '549d25df9a794775...</td>\n",
       "      <td>10818</td>\n",
       "      <td>1.269</td>\n",
       "      <td>52.561</td>\n",
       "    </tr>\n",
       "  </tbody>\n",
       "</table>\n",
       "</div>"
      ],
      "text/plain": [
       "                                         document_id  \\\n",
       "1485  6210c3939a7947e58a257424iqcwqgm9QXShvP0aU1iVQQ   \n",
       "\n",
       "                                                  title        publish_date  \\\n",
       "1485  Путин провел учения сил стратегического сдержи... 2022-02-19 11:13:47   \n",
       "\n",
       "                     session authors    ctr                  category  \\\n",
       "1485  iqcwqgm9QXShvP0aU1iVQQ      []  7.173  5409f11ce063da9c8b588a12   \n",
       "\n",
       "                                                   tags  views  depth  \\\n",
       "1485  ['58abcf539a7947f18bc079eb', '549d25df9a794775...  10818  1.269   \n",
       "\n",
       "      full_reads_percent  \n",
       "1485              52.561  "
      ]
     },
     "execution_count": 15,
     "metadata": {},
     "output_type": "execute_result"
    }
   ],
   "source": [
    "df_train[df_train.document_id == '6210c3939a7947e58a257424iqcwqgm9QXShvP0aU1iVQQ']"
   ]
  },
  {
   "cell_type": "code",
   "execution_count": 16,
   "id": "dcec06a7-4bff-4e43-8b1a-277866b96114",
   "metadata": {},
   "outputs": [],
   "source": [
    "#620d1f0c9a794724696a95e7igKOAeqwSo6yt6MHdm1JNA something went wrong. text\n",
    "#6210c3939a7947e58a257424iqcwqgm9QXShvP0aU1iVQQ something went wrong. text\n",
    "#6253d6f59a7947a4e4819c4eXWVPJk6OTUOpRafSX6B9lQ something went wrong. text\n",
    "#6278ac619a79475802c0682aE2s6qP24SsCW5dkYJMTCkA something went wrong. text\n",
    "#61f954049a79479310c59dcf10GpiD-VRHCC631Hkl2Y4Q something went wrong. text\n",
    "#61fd4d109a794786c8d4dc59COhaOYZzT8qrDBW6plnsDw something went wrong. text\n",
    "#62487fc99a7947476b4c938bcZ5KFPtbQF6EmK9oG7vWMA something went wrong. text\n",
    "#626459ea9a79477bae9c49313bq0StmMT2uyeuDZmZKmyA something went wrong. text\n",
    "#626e36de9a794710fdef04c1-SCC98EoT7u11HsvVQ7rIQ something went wrong. text\n",
    "#623b031f9a79474a28a2ce99AL-9lSRYR46n0_5tw7Bd0A something went wrong. text\n",
    "#624fdb999a79471adecb2b79t0GMIFtZQv-nadA-xJiaYg something went wrong. text\n",
    "#61fbfa689a79470784c13d75W4OgaC-ySTiD34lTz6Sj9g something went wrong. text\n",
    "#626e564d9a79471a3cd5de65ZM028L7kQ1mVIZAB30bTEA something went wrong. text\n",
    "\n",
    "\n",
    "\n",
    "# 620fef1c9a7947b2de6c18f6rwBF3WoeQbm1jgCkN6cGAQ something went wrong. text\n",
    "# 620e76c79a794723bf70e50bSoTq5ec2Raq3SK7ZVq8WcQ something went wrong. text\n",
    "# 628201039a7947e9fde98653Qc5leGRRTO2feOAlfm5BwA something went wrong. text\n",
    "# 620a7cbf9a79471a9c6ace46aMuqupFlTxSsa5P6zHzaEQ something went wrong. text"
   ]
  },
  {
   "cell_type": "code",
   "execution_count": null,
   "id": "efe3a151-f6de-488f-84d0-3eb3a3750288",
   "metadata": {},
   "outputs": [],
   "source": []
  },
  {
   "cell_type": "code",
   "execution_count": 17,
   "id": "7092c5d6-b619-4202-ae77-d68370d6433b",
   "metadata": {},
   "outputs": [
    {
     "name": "stderr",
     "output_type": "stream",
     "text": [
      " 13%|██████████▎                                                                    | 912/7000 [02:44<17:40,  5.74it/s]"
     ]
    },
    {
     "name": "stdout",
     "output_type": "stream",
     "text": [
      "620d1f0c9a794724696a95e7igKOAeqwSo6yt6MHdm1JNA something went wrong. text\n"
     ]
    },
    {
     "name": "stderr",
     "output_type": "stream",
     "text": [
      " 21%|████████████████▌                                                             | 1488/7000 [04:18<12:06,  7.58it/s]"
     ]
    },
    {
     "name": "stdout",
     "output_type": "stream",
     "text": [
      "6210c3939a7947e58a257424iqcwqgm9QXShvP0aU1iVQQ something went wrong. text\n"
     ]
    },
    {
     "name": "stderr",
     "output_type": "stream",
     "text": [
      " 26%|████████████████████▎                                                         | 1828/7000 [05:20<14:45,  5.84it/s]"
     ]
    },
    {
     "name": "stdout",
     "output_type": "stream",
     "text": [
      "6253d6f59a7947a4e4819c4eXWVPJk6OTUOpRafSX6B9lQ something went wrong. text\n"
     ]
    },
    {
     "name": "stderr",
     "output_type": "stream",
     "text": [
      " 29%|██████████████████████▎                                                       | 2001/7000 [05:51<15:29,  5.38it/s]"
     ]
    },
    {
     "name": "stdout",
     "output_type": "stream",
     "text": [
      "6278ac619a79475802c0682aE2s6qP24SsCW5dkYJMTCkA something went wrong. text\n"
     ]
    },
    {
     "name": "stderr",
     "output_type": "stream",
     "text": [
      " 56%|███████████████████████████████████████████▊                                  | 3933/7000 [10:59<07:02,  7.26it/s]"
     ]
    },
    {
     "name": "stdout",
     "output_type": "stream",
     "text": [
      "61f954049a79479310c59dcf10GpiD-VRHCC631Hkl2Y4Q something went wrong. text\n"
     ]
    },
    {
     "name": "stderr",
     "output_type": "stream",
     "text": [
      " 59%|██████████████████████████████████████████████                                | 4137/7000 [11:30<06:45,  7.07it/s]"
     ]
    },
    {
     "name": "stdout",
     "output_type": "stream",
     "text": [
      "61fd4d109a794786c8d4dc59COhaOYZzT8qrDBW6plnsDw something went wrong. text\n"
     ]
    },
    {
     "name": "stderr",
     "output_type": "stream",
     "text": [
      " 63%|█████████████████████████████████████████████████▎                            | 4422/7000 [12:18<06:33,  6.55it/s]"
     ]
    },
    {
     "name": "stdout",
     "output_type": "stream",
     "text": [
      "62487fc99a7947476b4c938bcZ5KFPtbQF6EmK9oG7vWMA something went wrong. text\n"
     ]
    },
    {
     "name": "stderr",
     "output_type": "stream",
     "text": [
      " 65%|██████████████████████████████████████████████████▊                           | 4565/7000 [12:42<06:45,  6.00it/s]"
     ]
    },
    {
     "name": "stdout",
     "output_type": "stream",
     "text": [
      "626459ea9a79477bae9c49313bq0StmMT2uyeuDZmZKmyA something went wrong. text\n"
     ]
    },
    {
     "name": "stderr",
     "output_type": "stream",
     "text": [
      " 72%|███████████████████████████████████████████████████████▉                      | 5020/7000 [13:54<04:58,  6.62it/s]"
     ]
    },
    {
     "name": "stdout",
     "output_type": "stream",
     "text": [
      "626e36de9a794710fdef04c1-SCC98EoT7u11HsvVQ7rIQ something went wrong. text\n"
     ]
    },
    {
     "name": "stderr",
     "output_type": "stream",
     "text": [
      " 84%|█████████████████████████████████████████████████████████████████▏            | 5848/7000 [16:18<02:58,  6.45it/s]"
     ]
    },
    {
     "name": "stdout",
     "output_type": "stream",
     "text": [
      "623b031f9a79474a28a2ce99AL-9lSRYR46n0_5tw7Bd0A something went wrong. text\n"
     ]
    },
    {
     "name": "stderr",
     "output_type": "stream",
     "text": [
      " 94%|█████████████████████████████████████████████████████████████████████████▏    | 6572/7000 [18:14<01:05,  6.58it/s]"
     ]
    },
    {
     "name": "stdout",
     "output_type": "stream",
     "text": [
      "624fdb999a79471adecb2b79t0GMIFtZQv-nadA-xJiaYg something went wrong. text\n"
     ]
    },
    {
     "name": "stderr",
     "output_type": "stream",
     "text": [
      " 94%|█████████████████████████████████████████████████████████████████████████▌    | 6602/7000 [18:20<01:04,  6.20it/s]"
     ]
    },
    {
     "name": "stdout",
     "output_type": "stream",
     "text": [
      "61fbfa689a79470784c13d75W4OgaC-ySTiD34lTz6Sj9g something went wrong. text\n"
     ]
    },
    {
     "name": "stderr",
     "output_type": "stream",
     "text": [
      " 95%|█████████████████████████████████████████████████████████████████████████▋    | 6616/7000 [18:22<01:00,  6.30it/s]"
     ]
    },
    {
     "name": "stdout",
     "output_type": "stream",
     "text": [
      "626e564d9a79471a3cd5de65ZM028L7kQ1mVIZAB30bTEA something went wrong. text\n"
     ]
    },
    {
     "name": "stderr",
     "output_type": "stream",
     "text": [
      "100%|██████████████████████████████████████████████████████████████████████████████| 7000/7000 [19:35<00:00,  5.96it/s]\n",
      " 11%|█████████                                                                      | 342/3000 [01:15<07:45,  5.71it/s]"
     ]
    },
    {
     "name": "stdout",
     "output_type": "stream",
     "text": [
      "620fef1c9a7947b2de6c18f6rwBF3WoeQbm1jgCkN6cGAQ something went wrong. text\n"
     ]
    },
    {
     "name": "stderr",
     "output_type": "stream",
     "text": [
      " 52%|████████████████████████████████████████▏                                     | 1545/3000 [05:48<03:52,  6.26it/s]"
     ]
    },
    {
     "name": "stdout",
     "output_type": "stream",
     "text": [
      "620e76c79a794723bf70e50bSoTq5ec2Raq3SK7ZVq8WcQ something went wrong. text\n"
     ]
    },
    {
     "name": "stderr",
     "output_type": "stream",
     "text": [
      " 65%|██████████████████████████████████████████████████▉                           | 1957/3000 [07:11<03:34,  4.86it/s]"
     ]
    },
    {
     "name": "stdout",
     "output_type": "stream",
     "text": [
      "628201039a7947e9fde98653Qc5leGRRTO2feOAlfm5BwA something went wrong. text\n"
     ]
    },
    {
     "name": "stderr",
     "output_type": "stream",
     "text": [
      " 98%|████████████████████████████████████████████████████████████████████████████▌ | 2945/3000 [10:38<00:11,  4.77it/s]"
     ]
    },
    {
     "name": "stdout",
     "output_type": "stream",
     "text": [
      "620a7cbf9a79471a9c6ace46aMuqupFlTxSsa5P6zHzaEQ something went wrong. text\n"
     ]
    },
    {
     "name": "stderr",
     "output_type": "stream",
     "text": [
      "100%|██████████████████████████████████████████████████████████████████████████████| 3000/3000 [10:48<00:00,  4.62it/s]\n"
     ]
    }
   ],
   "source": [
    "df_train['tmp'] = df_train.document_id.progress_apply(get_article_info)\n",
    "df_test['tmp'] = df_test.document_id.progress_apply(get_article_info)"
   ]
  },
  {
   "cell_type": "code",
   "execution_count": 18,
   "id": "483c476a-981f-4935-9e4a-e12cb07aefcb",
   "metadata": {},
   "outputs": [],
   "source": [
    "#(true_category, true_title, tmp_imgs, overview, len(text.split()), two_articles, )"
   ]
  },
  {
   "cell_type": "code",
   "execution_count": 19,
   "id": "d9a78754-a1ce-4e6e-a8ff-0f77e8288143",
   "metadata": {},
   "outputs": [],
   "source": [
    "df_train['true_category'] = df_train.tmp.apply(lambda x: x[0])\n",
    "df_train['true_title'] = df_train.tmp.apply(lambda x: x[1])\n",
    "df_train['nimgs'] = df_train.tmp.apply(lambda x: x[2])\n",
    "df_train['overview'] = df_train.tmp.apply(lambda x: x[3])\n",
    "df_train['text_len'] = df_train.tmp.apply(lambda x: x[4])\n",
    "df_train['two_articles'] = df_train.tmp.apply(lambda x: x[5])\n",
    "\n",
    "\n",
    "df_test['true_category'] = df_test.tmp.apply(lambda x: x[0])\n",
    "df_test['true_title'] = df_test.tmp.apply(lambda x: x[1])\n",
    "df_test['nimgs'] = df_test.tmp.apply(lambda x: x[2])\n",
    "df_test['overview'] = df_test.tmp.apply(lambda x: x[3])\n",
    "df_test['text_len'] = df_test.tmp.apply(lambda x: x[4])\n",
    "df_test['two_articles'] = df_test.tmp.apply(lambda x: x[5])\n",
    "\n",
    "\n",
    "df_train.drop(['tmp'], axis = 1, inplace = True)\n",
    "df_test.drop(['tmp'], axis = 1, inplace = True)"
   ]
  },
  {
   "cell_type": "raw",
   "id": "6998e31d-6772-450a-bd71-79f277e40142",
   "metadata": {},
   "source": [
    "def decode_parsing(inp_df: pd.DataFrame) -> pd.DataFrame:\n",
    "    \n",
    "    inp_df['true_category'] = inp_df.tmp.apply(lambda x: x[0])\n",
    "    inp_df['true_title'] = inp_df.tmp.apply(lambda x: x[1])\n",
    "    inp_df['nimgs'] = inp_df.tmp.apply(lambda x: x[2])\n",
    "    inp_df['overview'] = inp_df.tmp.apply(lambda x: x[3])\n",
    "    inp_df['text_len'] = inp_df.tmp.apply(lambda x: x[4])\n",
    "    inp_df['two_articles'] = inp_df.tmp.apply(lambda x: x[5])\n",
    "    \n",
    "    inp_df.drop(['tmp'], axis = 1, inplace = True)\n",
    "    \n",
    "    return inp_df"
   ]
  },
  {
   "cell_type": "code",
   "execution_count": 20,
   "id": "7e53bfe2-4b38-4ad8-82b1-f951d4085724",
   "metadata": {},
   "outputs": [],
   "source": [
    "#df_train.head(5)"
   ]
  },
  {
   "cell_type": "raw",
   "id": "468667f9-6ab9-4ae3-9e24-f574ab574ff1",
   "metadata": {},
   "source": [
    "print('before ', df_train.shape, df_test.shape)\n",
    "df_train = decode_parsing(df_train)\n",
    "df_test = decode_parsing(df_test)\n",
    "print('after  ', df_train.shape, df_test.shape)"
   ]
  },
  {
   "cell_type": "code",
   "execution_count": 21,
   "id": "b20deca7-7727-48bd-a05a-a3390b15cca4",
   "metadata": {},
   "outputs": [],
   "source": [
    "#df_train[(df_train.true_title.apply(lambda x: x.endswith('COVID')))]['true_title'].values\n",
    "#df_train[(df_train.true_title.apply(lambda x: 'телеканале РБК' in x))]['true_title'].values"
   ]
  },
  {
   "cell_type": "code",
   "execution_count": 22,
   "id": "53534ca9-0616-4a96-9216-05163efa43c4",
   "metadata": {},
   "outputs": [],
   "source": [
    "# Прямая трансляция, Фоторепортаж, Фотогалерея, Видео, телеканале РБК, Инфографика endswith"
   ]
  },
  {
   "cell_type": "code",
   "execution_count": 23,
   "id": "5de77433-79f1-4c54-9e89-d93ee9dd5330",
   "metadata": {},
   "outputs": [],
   "source": [
    "#df_train[df_train.text_len == 0].true_title.values"
   ]
  },
  {
   "cell_type": "code",
   "execution_count": null,
   "id": "f508a386-b52c-4146-b5ee-b2d60a6c50a6",
   "metadata": {},
   "outputs": [],
   "source": []
  },
  {
   "cell_type": "code",
   "execution_count": null,
   "id": "ee6e44e1-d6d0-4d45-8f84-b3c0f2c5b4a6",
   "metadata": {},
   "outputs": [],
   "source": []
  },
  {
   "cell_type": "code",
   "execution_count": 24,
   "id": "a52a6b56-e0bf-4b53-aab5-477f068501a7",
   "metadata": {},
   "outputs": [],
   "source": [
    "df_train.to_csv(os.path.join(DIR_DATA, 'train_extended.csv'), index = False)\n",
    "df_test.to_csv(os.path.join(DIR_DATA, 'test_extended.csv'), index = False)"
   ]
  },
  {
   "cell_type": "code",
   "execution_count": null,
   "id": "a6b3ebc4-3586-4ec5-8184-620a96963af6",
   "metadata": {},
   "outputs": [],
   "source": []
  }
 ],
 "metadata": {
  "kernelspec": {
   "display_name": "Python 3 (ipykernel)",
   "language": "python",
   "name": "python3"
  },
  "language_info": {
   "codemirror_mode": {
    "name": "ipython",
    "version": 3
   },
   "file_extension": ".py",
   "mimetype": "text/x-python",
   "name": "python",
   "nbconvert_exporter": "python",
   "pygments_lexer": "ipython3",
   "version": "3.9.12"
  }
 },
 "nbformat": 4,
 "nbformat_minor": 5
}
