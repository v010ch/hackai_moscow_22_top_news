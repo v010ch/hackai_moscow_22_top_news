{
 "cells": [
  {
   "cell_type": "code",
   "execution_count": 1,
   "id": "f254596a-2f20-461e-ac1e-a29f0b9e43d0",
   "metadata": {},
   "outputs": [],
   "source": [
    "%load_ext watermark"
   ]
  },
  {
   "cell_type": "code",
   "execution_count": 2,
   "id": "79ba0e9b-64c2-40e6-8a77-10039a4ae068",
   "metadata": {},
   "outputs": [
    {
     "name": "stdout",
     "output_type": "stream",
     "text": [
      "Last updated: 2022-09-11T15:49:45.258709+03:00\n",
      "\n",
      "Python implementation: CPython\n",
      "Python version       : 3.10.4\n",
      "IPython version      : 8.4.0\n",
      "\n",
      "Compiler    : GCC 7.5.0\n",
      "OS          : Linux\n",
      "Release     : 5.15.0-47-generic\n",
      "Machine     : x86_64\n",
      "Processor   : x86_64\n",
      "CPU cores   : 8\n",
      "Architecture: 64bit\n",
      "\n"
     ]
    }
   ],
   "source": [
    "%watermark"
   ]
  },
  {
   "cell_type": "code",
   "execution_count": null,
   "id": "a0d1c107-04c3-4c2c-8983-fa6406bd9949",
   "metadata": {},
   "outputs": [],
   "source": []
  },
  {
   "cell_type": "code",
   "execution_count": 3,
   "id": "d152e3c5-cdbc-4794-9197-0b15a8531f51",
   "metadata": {},
   "outputs": [],
   "source": [
    "import time\n",
    "notebookstart = time.time()"
   ]
  },
  {
   "cell_type": "code",
   "execution_count": 4,
   "id": "a66604f5-d534-472d-be9c-d54982cba8fd",
   "metadata": {},
   "outputs": [],
   "source": [
    "import os\n",
    "\n",
    "from selenium import webdriver\n",
    "from webdriver_manager.chrome import ChromeDriverManager\n",
    "#from webdriver_manager.firefox import GeckoDriverManager\n",
    "\n",
    "from scipy import stats as sts\n",
    "import requests as rq\n",
    "from bs4 import BeautifulSoup as bs\n",
    "import re\n",
    "\n",
    "#import time\n",
    "from typing import Tuple, Optional, List\n",
    "from tqdm.auto import tqdm\n",
    "tqdm.pandas()\n",
    "\n",
    "import pandas as pd\n",
    "import numpy as np"
   ]
  },
  {
   "cell_type": "code",
   "execution_count": 5,
   "id": "8e4276ab-5a53-44e8-9e4e-9fac9215cfda",
   "metadata": {},
   "outputs": [
    {
     "data": {
      "text/plain": [
       "RayContext(dashboard_url='', python_version='3.10.4', ray_version='1.13.0', ray_commit='e4ce38d001dbbe09cd21c497fedd03d692b2be3e', address_info={'node_ip_address': '192.168.0.200', 'raylet_ip_address': '192.168.0.200', 'redis_address': None, 'object_store_address': '/tmp/ray/session_2022-09-11_15-49-46_072614_128733/sockets/plasma_store', 'raylet_socket_name': '/tmp/ray/session_2022-09-11_15-49-46_072614_128733/sockets/raylet', 'webui_url': '', 'session_dir': '/tmp/ray/session_2022-09-11_15-49-46_072614_128733', 'metrics_export_port': 52823, 'gcs_address': '192.168.0.200:41413', 'address': '192.168.0.200:41413', 'node_id': 'a001a0affc74d382ebd11f1a9c3f4dfb753ef81e2d37d46b4cb20f90'})"
      ]
     },
     "execution_count": 5,
     "metadata": {},
     "output_type": "execute_result"
    }
   ],
   "source": [
    "# ------ если используется multiprocessing должно быть откомментировано\n",
    "import multiprocessing as mp\n",
    "\n",
    "# ------ если используется ray должно быть откомментировано\n",
    "import ray\n",
    "ray.init()"
   ]
  },
  {
   "cell_type": "code",
   "execution_count": null,
   "id": "78f4f6c8-9995-4971-b14f-0d12699bdf46",
   "metadata": {},
   "outputs": [],
   "source": []
  },
  {
   "cell_type": "markdown",
   "id": "4aa1bf23-eed2-43cf-9bf9-b6ed1f9bfebb",
   "metadata": {},
   "source": [
    "Переменные"
   ]
  },
  {
   "cell_type": "code",
   "execution_count": 6,
   "id": "796e71cf-6338-4e43-a48b-d2b06a1d56ac",
   "metadata": {},
   "outputs": [],
   "source": [
    "DIR_DATA = os.path.join(os.getcwd(), 'data')"
   ]
  },
  {
   "cell_type": "code",
   "execution_count": 7,
   "id": "ffd648e6-5e91-496b-9c39-1846fb533804",
   "metadata": {},
   "outputs": [],
   "source": [
    "# минимальная и максимальная задержка при загрузке страниц\n",
    "MIN_DELAY = 2.673 #2.17 #2.673\n",
    "MAX_DELAY = 5.386 #4.8 #7.22 #9.181"
   ]
  },
  {
   "cell_type": "code",
   "execution_count": null,
   "id": "f1d9f86e-d62c-4f78-9df3-412d5067a65c",
   "metadata": {},
   "outputs": [],
   "source": []
  },
  {
   "cell_type": "code",
   "execution_count": 8,
   "id": "1a0ce1d4-0ad9-4d1d-9363-0d22c1f33d5a",
   "metadata": {},
   "outputs": [],
   "source": []
  },
  {
   "cell_type": "markdown",
   "id": "a42ea6e7-213d-43b4-a257-fcc8e5a105cd",
   "metadata": {},
   "source": [
    "# Загрузка данных"
   ]
  },
  {
   "cell_type": "code",
   "execution_count": 9,
   "id": "eea9d86d-2efe-44c2-827a-8ef9f4d7a222",
   "metadata": {},
   "outputs": [
    {
     "data": {
      "text/plain": [
       "((7000, 11), (3000, 8))"
      ]
     },
     "execution_count": 9,
     "metadata": {},
     "output_type": "execute_result"
    }
   ],
   "source": [
    "df_train = pd.read_csv(os.path.join(DIR_DATA, 'train.csv'))\n",
    "df_test  = pd.read_csv(os.path.join(DIR_DATA, 'test.csv'))\n",
    "\n",
    "df_train['publish_date'] = pd.to_datetime(df_train['publish_date'])\n",
    "df_test['publish_date']  = pd.to_datetime(df_test['publish_date'])\n",
    "\n",
    "df_train.shape, df_test.shape"
   ]
  },
  {
   "cell_type": "code",
   "execution_count": null,
   "id": "bf98d5d8-ba31-4fc4-ac7c-e362064a014d",
   "metadata": {},
   "outputs": [],
   "source": []
  },
  {
   "cell_type": "markdown",
   "id": "8f209276-d22b-424e-bd7d-efd88c747b5f",
   "metadata": {},
   "source": [
    "# Сохранение статей с РБК"
   ]
  },
  {
   "cell_type": "code",
   "execution_count": null,
   "id": "0ec81ec4-731f-42bb-b69c-ed70e295b6f8",
   "metadata": {},
   "outputs": [],
   "source": [
    "class UserEmulate:\n",
    "    def __init__(self, inp_min_delay: float, inp_max_delay: float) -> None:\n",
    "        self.min_delay = inp_min_delay\n",
    "        self.max_delay = inp_max_delay\n",
    "        \n",
    "        self.last_time = time.time()\n",
    "        self.numb_load = 0\n",
    "\n",
    "\n",
    "        \n",
    "    def reset(self, inp_min_delay: Optional[float], inp_max_delay: Optional[float]) -> None:\n",
    "        \"\"\"\n",
    "        Сброс парметров и выставление новых мин и макс задержки\n",
    "        args\n",
    "            inp_min_delay - минимальная задержка между загрузками страниц (опционально)\n",
    "            inp_max_delay - максимальная задержка между загрузками страниц (опционально)\n",
    "        \"\"\"\n",
    "        self.last_time = time.time()\n",
    "        self.numb_load = 0\n",
    "        \n",
    "        if isinstance(inp_min_delay, float):\n",
    "            self.min_delay = inp_min_delay\n",
    "            \n",
    "        if isinstance(inp_max_delay, float):\n",
    "            self.max_delay = inp_max_delay\n",
    "       \n",
    "    \n",
    "    \n",
    "    def updatecurrentstate(self):\n",
    "        \"\"\"\n",
    "        Обновление внутреннего состояния класса\n",
    "        \"\"\"\n",
    "        self.last_time = time.time()\n",
    "        self.numb_load += 1\n",
    "        \n",
    "\n",
    "        \n",
    "    def pauserealuseremulate(self) -> None:\n",
    "        \"\"\"\n",
    "        Эмуляция задержки между кликами пользователя.\n",
    "        Каждый седьмой клик из нормального распределения\n",
    "        Каждый третий (при не кратности 7) из хи-квадрат\n",
    "        Остальные из гамма\n",
    "        \"\"\"\n",
    "        if self.numb_load %7 == 0:\n",
    "            pause_time = sts.norm.rvs(loc=2, scale=3, size=1)[0]\n",
    "        elif self.numb_load %3 == 0:\n",
    "            pause_time = sts.chi2.rvs(df = 1.7, loc = 0, scale = 1, size=1)[0]\n",
    "        else:\n",
    "            pause_time = sts.gamma.rvs(a = 1, loc = 1, scale = 2, size=1)[0]\n",
    "\n",
    "        if (time.time() - self.last_time) > pause_time:\n",
    "            self.updatecurrentstate()\n",
    "            return\n",
    "\n",
    "        if pause_time >= self.min_delay and pause_time <= self.max_delay:\n",
    "            #print(pause_time)\n",
    "            time.sleep(pause_time - abs(time.time() - self.last_time))\n",
    "            self.updatecurrentstate()\n",
    "            pass\n",
    "        else:\n",
    "            pauserealuseremulate()\n",
    "\n",
    "        return"
   ]
  },
  {
   "cell_type": "code",
   "execution_count": 31,
   "id": "8a396015-6dce-41a7-aa25-c499bd5a94b7",
   "metadata": {},
   "outputs": [],
   "source": [
    "category_decode = {\n",
    "    '5409f11ce063da9c8b588a12':{'name': 'Политика',      # / rbcfreenews\n",
    "                                'link': 'politics',      # слово в ссылкена рбк\n",
    "                                'last_word': 'Политика', # возможное последнее слово в title\n",
    "                                                         # при наличии ошибки\n",
    "                                },\n",
    "    '5433e5decbb20f277b20eca9':{'name': 'Общество',      # / photoreport\n",
    "                                'link': 'society',       # слово в ссылкена рбк\n",
    "                                'last_word': 'Общество', # возможное последнее слово в title\n",
    "                                                         # при наличии ошибки\n",
    "                                },\n",
    "    '540d5eafcbb20f2524fc0509':{'name': 'Бизнес',        # / rbcfreenews\n",
    "                                'link': 'business',      # слово в ссылкена рбк\n",
    "                                'last_word': 'Бизнес',   # возможное последнее слово в title\n",
    "                                                         # при наличии ошибки\n",
    "                                },\n",
    "    '5409f11ce063da9c8b588a13':{'name': 'Экономка',      # / rbcfreenews\n",
    "                                'link': 'economics',     # слово в ссылкена рбк\n",
    "                                'last_word': 'Экономика', # возможное последнее слово в title\n",
    "                                                         # при наличии ошибки\n",
    "                                },\n",
    "    '540d5ecacbb20f2524fc050a':{'name': 'Технологии и медия',# / rbcfreenews\n",
    "                                'link': 'technology_and_media',      # слово в ссылкена рбк\n",
    "                                'last_word': 'медиа',    # возможное последнее слово в title\n",
    "                                                         # при наличии ошибки\n",
    "                                },\n",
    "    '5409f11ce063da9c8b588a18':{'name': 'Финансы',       # / rbcfreenews\n",
    "                                'link': 'finances',      # слово вссылкена рбк\n",
    "                                'last_word': 'Финансы',  # возможное последнее слово в title\n",
    "                                                         # при наличии ошибки\n",
    "                                },   \n",
    "\n",
    "## DELETED????\n",
    "        '5e54e2089a7947f63a801742':{'name': 'Политика',  # / rbcfreenews\n",
    "                                'link': 'politics',      # слово вссылкена рбк\n",
    "                                'last_word': 'Политика', # возможное последнее слово в title\n",
    "                                                         # при наличии ошибки\n",
    "                                },  \n",
    "        '552e430f9a79475dd957f8b3':{'name': 'Деньги',    # / rbcfreenews\n",
    "                                'link': 'money',         # слово вссылкена рбк\n",
    "                                'last_word': 'Деньги',   # возможное последнее слово в title\n",
    "                                                         # при наличии ошибки\n",
    "                                },  \n",
    "        '5e54e22a9a7947f560081ea2':{'name': 'Недвижимость',# / city\n",
    "                                'link': 'realty',          # слово вссылкена рбк\n",
    "                                'last_word': 'Недвижимость',  # возможное последнее слово в title\n",
    "                                                           # при наличии ошибки\n",
    "                                },  \n",
    "}"
   ]
  },
  {
   "cell_type": "code",
   "execution_count": 32,
   "id": "8d43c81a-5f89-46b6-883a-198181da7e68",
   "metadata": {},
   "outputs": [],
   "source": [
    "# очистка текста\n",
    "clean_text = lambda x:' '.join(re.sub('\\n|\\r|\\t|[^а-яА-Яa-zA-Z]', ' ', x).split()) #.lower()"
   ]
  },
  {
   "cell_type": "code",
   "execution_count": 33,
   "id": "8e7add84-7bb9-4a8d-b6de-22d997657936",
   "metadata": {},
   "outputs": [],
   "source": [
    "def get_article_data(inp_df: pd.DataFrame) -> bool:\n",
    "    \"\"\"Загрузка и сохранение страницы при помощи selenium c \n",
    "    минимальной эмуляцией поведения человека\n",
    "    \n",
    "    args\n",
    "        inp_df - строка для которой необходимо загрузить страницу\n",
    "                 на основе document_id\n",
    "        \n",
    "    return\n",
    "        True  - страница загружена и сохранена\n",
    "        False - проблеммы загрузки страницы (404). страница не сохранена\n",
    "    \"\"\"\n",
    "    \n",
    "    ue = UserEmulate(MIN_DELAY, MAX_DELAY)\n",
    "    \n",
    "    date = inp_df[1].strftime('%d/%m/%Y')\n",
    "    category = category_decode[inp_df[2]]['link']\n",
    "    link_hash = inp_df[0][:24]\n",
    "    #print(f'https://www.rbc.ru/{category}/{date}/{link_hash}')\n",
    "    url = f'https://www.rbc.ru/{category}/{date}/{link_hash}'\n",
    "    driver.get(url)\n",
    "    \n",
    "    # эмулируем задержки пользователя\n",
    "    ue.pauserealuseremulate()\n",
    "    \n",
    "    # 404\n",
    "    if len(driver.find_elements_by_class_name('error__title')) != 0:\n",
    "        # общество может быть объеденено с городом\n",
    "        # а политика часто с новостями\n",
    "        if inp_df[2] != '5433e5decbb20f277b20eca9':\n",
    "            category = 'rbcfreenews'\n",
    "            print(f'https://www.rbc.ru/{category}/{link_hash}')\n",
    "            url = f'https://www.rbc.ru/{category}/{link_hash}'\n",
    "        else:\n",
    "            category = 'city'\n",
    "            print(f'https://www.rbc.ru/{category}/{date}/{link_hash}')\n",
    "            url = f'https://www.rbc.ru/{category}/{date}/{link_hash}'\n",
    "            \n",
    "        driver.get(url)\n",
    "        \n",
    "        # эмулируем задержки пользователя\n",
    "        ue.pauserealuseremulate()\n",
    "    \n",
    "        # документ вне категории и rbcfreenews\n",
    "        if len(driver.find_elements_by_class_name('error__title')) != 0:\n",
    "            print(inp_df)\n",
    "            return False\n",
    "            \n",
    "    with open(os.path.join(DIR_DATA, 'pages', f'{inp_df[0]}.html'), 'w',  encoding=\"utf-8\") as f:\n",
    "        f.write(driver.page_source)\n",
    "    \n",
    "    return True"
   ]
  },
  {
   "cell_type": "code",
   "execution_count": 34,
   "id": "b3948cd8-6c45-45f7-bd2e-1a9883ea957f",
   "metadata": {},
   "outputs": [],
   "source": [
    "#  в финальном варианте не используется\n",
    "def check_for_news(inp_df: pd.DataFrame) -> str:\n",
    "    \"\"\"Проверка есть ли статья по адресу в соответствии с категорией\n",
    "    или только в разделе новости с возвращением определенной категории\n",
    "    \n",
    "    args\n",
    "        inp_df - строка для которой необходимо загрузить страницу\n",
    "                 на основе document_id\n",
    "                 \n",
    "    return\n",
    "        str - установленная категория\n",
    "    \"\"\"\n",
    "    \n",
    "    \n",
    "    ue = UserEmulate(MIN_DELAY, MAX_DELAY)\n",
    "    \n",
    "    date = inp_df[1].strftime('%d/%m/%Y')\n",
    "    category = category_decode[inp_df[2]]['link']\n",
    "    link_hash = inp_df[0][:24]\n",
    "    #print(f'https://www.rbc.ru/{category}/{date}/{link_hash}')\n",
    "    url = f'https://www.rbc.ru/{category}/{date}/{link_hash}'\n",
    "    driver.get(url)\n",
    "    \n",
    "    # эмулируем задержки пользователя\n",
    "    ue.pauserealuseremulate()\n",
    "\n",
    "    # 404\n",
    "    if len(driver.find_elements_by_class_name('error__title')) != 0:\n",
    "        # общество может быть объеденено с городом\n",
    "        # а политика часто с новостями\n",
    "        if inp_df[2] != '5433e5decbb20f277b20eca9':\n",
    "            category = 'rbcfreenews'\n",
    "            print(f'https://www.rbc.ru/{category}/{link_hash}')\n",
    "            url = f'https://www.rbc.ru/{category}/{link_hash}'\n",
    "        else:\n",
    "            category = 'city'\n",
    "            print(f'https://www.rbc.ru/{category}/{date}/{link_hash}')\n",
    "            url = f'https://www.rbc.ru/{category}/{date}/{link_hash}'\n",
    "            \n",
    "        driver.get(url)\n",
    "        \n",
    "        # эмулируем задержки пользователя\n",
    "        ue.pauserealuseremulate()\n",
    "    \n",
    "        # документ вне категории и rbcfreenews\n",
    "        if len(driver.find_elements_by_class_name('error__title')) != 0:\n",
    "            print(inp_df)\n",
    "            return 'unknown'\n",
    "        else:\n",
    "            return category\n",
    "            \n",
    "    \n",
    "    return category"
   ]
  },
  {
   "cell_type": "markdown",
   "id": "c8ac707e-3ea7-4b4b-b6e0-757f3ff00df1",
   "metadata": {},
   "source": [
    "для сохранения статей следует откомментировать и выполнить 2 нижележащих блока"
   ]
  },
  {
   "cell_type": "raw",
   "id": "898f07bd-4d15-442c-a7c5-26e80ae40114",
   "metadata": {},
   "source": [
    "# на ubuntu 22 есть проблеммы с Firefox и wewbdriver, так что добавлен chrome\n",
    "#driver = webdriver.Firefox(executable_path = \"C:\\\\WebDrivers\\\\bin\\\\geckodriver\")\n",
    "#driver = webdriver.Firefox(executable_path = '/usr/local/bin/geckodriver')\n",
    "#driver = webdriver.Firefox(executable_path=GeckoDriverManager().install())\n",
    "\n",
    "driver = webdriver.Chrome(ChromeDriverManager().install())\n",
    "\n",
    "tmp = df_train.loc[:, ['document_id', 'publish_date', 'category']].progress_apply(get_article_data, axis = 1)\n",
    "#tmp = df_train.loc[5000:, ['document_id', 'publish_date', 'category']].progress_apply(get_article_data, axis = 1)"
   ]
  },
  {
   "cell_type": "raw",
   "id": "ced5eac4-d837-49b2-8afc-c09e543e4ef4",
   "metadata": {},
   "source": [
    "# на ubuntu 22 есть проблеммы с Firefox и wewbdriver, так что добавлен chrome\n",
    "#driver = webdriver.Firefox(executable_path = \"C:\\\\WebDrivers\\\\bin\\\\geckodriver\")\n",
    "#driver = webdriver.Firefox(executable_path = '/usr/local/bin/geckodriver')\n",
    "#driver = webdriver.Firefox(executable_path=GeckoDriverManager().install())\n",
    "\n",
    "driver = webdriver.Chrome(ChromeDriverManager().install())\n",
    "tmp = df_test.loc[:, ['document_id', 'publish_date', 'category']].progress_apply(get_article_data, axis = 1)\n",
    "#tmp = df_test.loc[2000:, ['document_id', 'publish_date', 'category']].progress_apply(get_article_data, axis = 1)\n",
    "print(sum(tmp))"
   ]
  },
  {
   "cell_type": "markdown",
   "id": "5b2f8e04-4277-44f0-95e2-a806ac1f9d44",
   "metadata": {},
   "source": [
    "проверка на категорию (не участвует в финальном решении)"
   ]
  },
  {
   "cell_type": "raw",
   "id": "f2c7c421-c1bf-4f47-bbdc-62d07e38e5ac",
   "metadata": {},
   "source": [
    "# на ubuntu 22 есть проблеммы с Firefox и wewbdriver, так что добавлен chrome\n",
    "#driver = webdriver.Firefox(executable_path = \"C:\\\\WebDrivers\\\\bin\\\\geckodriver\")\n",
    "#driver = webdriver.Firefox(executable_path = '/usr/local/bin/geckodriver')\n",
    "#driver = webdriver.Firefox(executable_path=GeckoDriverManager().install())\n",
    "\n",
    "driver = webdriver.Chrome(ChromeDriverManager().install())\n",
    "df_train['link_part'] = df_train.loc[:, ['document_id', 'publish_date', 'category']].progress_apply(check_for_news, axis = 1)\n",
    "\n",
    "df_train.to_csv(os.path.join(DIR_DATA, 'train_link.csv'), index = False)"
   ]
  },
  {
   "cell_type": "code",
   "execution_count": null,
   "id": "f344c457-7067-47d3-a551-69babc0795fb",
   "metadata": {},
   "outputs": [],
   "source": []
  },
  {
   "cell_type": "code",
   "execution_count": null,
   "id": "b7526540-2b8f-4a2b-8303-13f5d371649a",
   "metadata": {},
   "outputs": [],
   "source": []
  },
  {
   "cell_type": "markdown",
   "id": "a8f220bf-108f-4e4a-b1bb-a0f789704240",
   "metadata": {},
   "source": [
    "# Извлекаем признаки из сохраненный статей"
   ]
  },
  {
   "cell_type": "code",
   "execution_count": 12,
   "id": "11b94923-8889-40fb-9e58-e6e8645857ee",
   "metadata": {},
   "outputs": [],
   "source": [
    "def get_article_info(inp_id: str) -> Tuple[str, str, int, str, int, int, str]:\n",
    "    \"\"\"Извлечение признаков из сохраненных статей\n",
    "    \n",
    "    args\n",
    "        inp_id - id статьи (имя под которым она сохранена)\n",
    "    return\n",
    "        tuple\n",
    "           str - категория статьи, полученная со страницы статьи\n",
    "           str - заголовок статьи (без лишних символов как в оригинальном датасете)\n",
    "           int - количество картинок в статье\n",
    "           str - текст обзора статьи\n",
    "           int - длина текста в словах\n",
    "           int - наличие 2х статей на одной странице (скрол)\n",
    "           str - текст статьи\n",
    "    \"\"\"\n",
    "    \n",
    "    with open(os.path.join(DIR_DATA, 'pages', f'{inp_id}.html'), 'r', encoding=\"utf-8\") as page:\n",
    "        page_data = page.read()\n",
    "    \n",
    "    soup = bs(page_data, 'html.parser')\n",
    "\n",
    "    # title_info\n",
    "    tmp_group = soup.find_all('div', attrs={'class': 'article__header__info-block'})\n",
    "    #if len(tmp_group) != 1:\n",
    "    if len(tmp_group) == 0:\n",
    "        print(f'{inp_id} something went wrong. header info block {len(tmp_group)}')\n",
    "    else:\n",
    "        if len(tmp_group) > 1:\n",
    "            two_articles = 1\n",
    "        else:\n",
    "            two_articles = 0\n",
    "        tmp_group = tmp_group[0]\n",
    "\n",
    "\n",
    "    true_category = tmp_group.find_all('a')\n",
    "    if len(true_category) != 1:\n",
    "        print(f'{inp_id} something went wrong. true_category {len(true_category)}')\n",
    "    true_category = true_category[0].text\n",
    "\n",
    "\n",
    "    # article header\n",
    "    tmp_group = soup.find_all('div', attrs={'class': 'article__header__title'})\n",
    "    if len(tmp_group) == 0:\n",
    "        print(f'{inp_id} something went wrong. article header {len(tmp_group)}')\n",
    "    else:\n",
    "        tmp_group = tmp_group[0]\n",
    "\n",
    "\n",
    "    true_title = tmp_group.find_all('h1', attrs = {'class': 'article__header__title-in js-slide-title'})\n",
    "    if len(true_title) != 1:\n",
    "        true_title = tmp_group.find_all('h1', attrs = {'class': 'article__header__title-in js-slide-title article__header__title-in_relative'})\n",
    "        if len(true_title) != 1:\n",
    "            print(f'{inp_id} something went wrong. true_title {len(true_title)}')            \n",
    "    true_title = text = clean_text(true_title[0].text)\n",
    "\n",
    "\n",
    "    # article text\n",
    "    tmp_group = soup.find_all('div', attrs={'class': 'article__text article__text_free'})\n",
    "    if len(tmp_group) == 0:\n",
    "        print(f'{inp_id} something went wrong. article text {len(tmp_group)}')\n",
    "    else:\n",
    "        tmp_group = tmp_group[0]\n",
    "\n",
    "    overview = tmp_group.find_all('div', attrs={'class': 'article__text__overview'})\n",
    "    if len(overview) == 0:\n",
    "        # rbcfreenews can be without overview\n",
    "        overview = ''\n",
    "    else:\n",
    "        overview = overview[0].span.text\n",
    "\n",
    "    text = tmp_group.find_all('p')\n",
    "    if len(text) == 0:\n",
    "        print(f'{inp_id} something went wrong. text')\n",
    "    text = ' '.join([clean_text(el.text) for el in text])    \n",
    "\n",
    "\n",
    "    # images\n",
    "    tmp_imgs = soup.find_all('div', attrs={'class': 'gallery_vertical__item'})\n",
    "    #f len(tmp_imgs) != 1:\n",
    "    #   print(f'something went wrong. article images {len(tmp_imgs)}')\n",
    "    tmp_imgs = len(tmp_imgs)\n",
    "\n",
    "    return (true_category, true_title, tmp_imgs, overview, len(text.split()), two_articles, text) #snd_header, snd_text"
   ]
  },
  {
   "cell_type": "code",
   "execution_count": 19,
   "id": "a2313aad-f0c1-4153-9f2d-98697d1fa8f8",
   "metadata": {},
   "outputs": [],
   "source": [
    "#------ если используется ray, то декоратор должен быть откомменирован\n",
    "#------ при использовании multiprocessing декоратор должен быть закомменитирован\n",
    "@ray.remote\n",
    "def parallelize_get_article_info(inp_df: pd.DataFrame) -> pd.DataFrame:\n",
    "    \"\"\"Подфункция для !параллельного! вычисления признаков на основании страницы статьи\n",
    "    \n",
    "    args\n",
    "        inp_df - часть основного датасета для которого небходимо вычислить\n",
    "                 признаки на основаниистраницы статьи\n",
    "        \n",
    "    return\n",
    "        DataFrame, дополненный признаком на основании страницы статьи\n",
    "    \"\"\"\n",
    "    inp_df['tmp'] = inp_df.document_id.apply(get_article_info)\n",
    "    \n",
    "    return inp_df"
   ]
  },
  {
   "cell_type": "code",
   "execution_count": 14,
   "id": "63774ab0-a104-4b30-a9d1-675fd6cc1afa",
   "metadata": {},
   "outputs": [],
   "source": [
    "def make_article_features_mp(inp_df: pd.DataFrame, use_cpu: int) -> pd.DataFrame:\n",
    "    \"\"\"Функция для вычисления признаков на основании страницы статьи\n",
    "    \n",
    "    args\n",
    "        inp_df  - DataFrame с document_id? который необходимо дополнить признаками \n",
    "                  на основании страницы статьи\n",
    "        use_cpu - количество процессоров для использвания при параллельном вычислении\n",
    "        \n",
    "    return\n",
    "        DataFrame, дополненный признаками на основании страницы статьи\n",
    "    \"\"\"\n",
    "    # последовательно разбиваем dataframe на части\n",
    "    split_dfs = np.array_split(inp_df, use_cpu)\n",
    "\n",
    "    \n",
    "    \n",
    "    # вычисляем параллельно\n",
    "    \n",
    "    # ------ начало блока, если используется multiprocessing\n",
    "    #mppool = mp.Pool(processes = use_cpu)\n",
    "    #pool_results = mppool.map(parallelize_get_article_info, split_dfs)\n",
    "    #ppool.close()\n",
    "    #ppool.join()\n",
    "    # ------ конец блока, если используется multiprocessing\n",
    "\n",
    "    \n",
    "    \n",
    "    # ------ начало блока, если используется ray\n",
    "    pool_results = [0]*use_cpu\n",
    "    for el in range(use_cpu):\n",
    "        pool_results[el] = parallelize_get_article_info.remote(split_dfs[el])\n",
    "    pool_results = ray.get(pool_results)\n",
    "    # ------ конец блока, если используется ray\n",
    "    \n",
    "    # соединяем части результата\n",
    "    parts = pd.concat(pool_results, axis=0)\n",
    "\n",
    "    # выделяем признаки из tuple (можно через to_list)\n",
    "    parts['true_category'] = parts.tmp.apply(lambda x: x[0])\n",
    "    parts['true_title'] = parts.tmp.apply(lambda x: x[1])\n",
    "    parts['nimgs'] = parts.tmp.apply(lambda x: x[2])\n",
    "    parts['overview'] = parts.tmp.apply(lambda x: x[3])\n",
    "    parts['text_len'] = parts.tmp.apply(lambda x: x[4])\n",
    "    parts['two_articles'] = parts.tmp.apply(lambda x: x[5])\n",
    "    \n",
    "    parts.drop(['tmp'], axis = 1, inplace = True)\n",
    "    \n",
    "    #print(parts.shape)\n",
    "    print('done')\n",
    "    \n",
    "    return parts\n"
   ]
  },
  {
   "cell_type": "code",
   "execution_count": null,
   "id": "fd6dc0ed-53eb-4171-82a4-38228ea5d829",
   "metadata": {},
   "outputs": [],
   "source": []
  },
  {
   "cell_type": "code",
   "execution_count": 16,
   "id": "636957ab-3c7e-45c3-a15f-c3b0c4f40994",
   "metadata": {},
   "outputs": [
    {
     "name": "stdout",
     "output_type": "stream",
     "text": [
      "7\n",
      "\u001b[2m\u001b[36m(parallelize_get_article_info pid=500372)\u001b[0m 626e36de9a794710fdef04c1-SCC98EoT7u11HsvVQ7rIQ something went wrong. text\n",
      "\u001b[2m\u001b[36m(parallelize_get_article_info pid=500368)\u001b[0m 61fd4d109a794786c8d4dc59COhaOYZzT8qrDBW6plnsDw something went wrong. text\n",
      "\u001b[2m\u001b[36m(parallelize_get_article_info pid=500373)\u001b[0m 6210c3939a7947e58a257424iqcwqgm9QXShvP0aU1iVQQ something went wrong. text\n",
      "\u001b[2m\u001b[36m(parallelize_get_article_info pid=500368)\u001b[0m 62487fc99a7947476b4c938bcZ5KFPtbQF6EmK9oG7vWMA something went wrong. text\n",
      "\u001b[2m\u001b[36m(parallelize_get_article_info pid=500374)\u001b[0m 624fdb999a79471adecb2b79t0GMIFtZQv-nadA-xJiaYg something went wrong. text\n",
      "\u001b[2m\u001b[36m(parallelize_get_article_info pid=500374)\u001b[0m 61fbfa689a79470784c13d75W4OgaC-ySTiD34lTz6Sj9g something went wrong. text\n",
      "\u001b[2m\u001b[36m(parallelize_get_article_info pid=500374)\u001b[0m 626e564d9a79471a3cd5de65ZM028L7kQ1mVIZAB30bTEA something went wrong. text\n",
      "\u001b[2m\u001b[36m(parallelize_get_article_info pid=500368)\u001b[0m 626459ea9a79477bae9c49313bq0StmMT2uyeuDZmZKmyA something went wrong. text\n",
      "\u001b[2m\u001b[36m(parallelize_get_article_info pid=500372)\u001b[0m 623b031f9a79474a28a2ce99AL-9lSRYR46n0_5tw7Bd0A something went wrong. text\n",
      "\u001b[2m\u001b[36m(parallelize_get_article_info pid=500373)\u001b[0m 6253d6f59a7947a4e4819c4eXWVPJk6OTUOpRafSX6B9lQ something went wrong. text\n",
      "\u001b[2m\u001b[36m(parallelize_get_article_info pid=500367)\u001b[0m 620d1f0c9a794724696a95e7igKOAeqwSo6yt6MHdm1JNA something went wrong. text\n",
      "\u001b[2m\u001b[36m(parallelize_get_article_info pid=500371)\u001b[0m 61f954049a79479310c59dcf10GpiD-VRHCC631Hkl2Y4Q something went wrong. text\n",
      "\u001b[2m\u001b[36m(parallelize_get_article_info pid=500373)\u001b[0m 6278ac619a79475802c0682aE2s6qP24SsCW5dkYJMTCkA something went wrong. text\n",
      "(7000, 17)\n",
      "\u001b[2m\u001b[36m(parallelize_get_article_info pid=500367)\u001b[0m 628201039a7947e9fde98653Qc5leGRRTO2feOAlfm5BwA something went wrong. text\n",
      "\u001b[2m\u001b[36m(parallelize_get_article_info pid=500371)\u001b[0m 620e76c79a794723bf70e50bSoTq5ec2Raq3SK7ZVq8WcQ something went wrong. text\n",
      "\u001b[2m\u001b[36m(parallelize_get_article_info pid=500368)\u001b[0m 620fef1c9a7947b2de6c18f6rwBF3WoeQbm1jgCkN6cGAQ something went wrong. text\n",
      "\u001b[2m\u001b[36m(parallelize_get_article_info pid=500372)\u001b[0m 620a7cbf9a79471a9c6ace46aMuqupFlTxSsa5P6zHzaEQ something went wrong. text\n",
      "(3000, 14)\n",
      "CPU times: user 818 ms, sys: 294 ms, total: 1.11 s\n",
      "Wall time: 3min 26s\n"
     ]
    }
   ],
   "source": [
    "%%time\n",
    "ncpu = os.cpu_count() - 1\n",
    "print('ncpu ', ncpu)\n",
    "\n",
    "print('before ', df_train.shape, df_test.shape)\n",
    "df_train = make_article_features_mp(df_train, ncpu)\n",
    "df_test  = make_article_features_mp(df_test, ncpu)\n",
    "print('after  ', df_train.shape, df_test.shape)"
   ]
  },
  {
   "cell_type": "raw",
   "id": "ef5ae8b5-ad0d-41db-adce-2d70350d07c9",
   "metadata": {},
   "source": [
    "время вычисления. mp & ray примерно равны. секунды варьируются \n",
    "train 08:44\n",
    "train_mp 2:21\n",
    "train_ray 2:16\n",
    "\n",
    "test  04:11\n",
    "test_mp 1:13\n",
    "test_ray 1:05"
   ]
  },
  {
   "cell_type": "code",
   "execution_count": null,
   "id": "7f44d392-9053-4c1e-895d-033aca411190",
   "metadata": {},
   "outputs": [],
   "source": []
  },
  {
   "cell_type": "code",
   "execution_count": null,
   "id": "48a633f7-feb8-4d94-b326-f8812d06d671",
   "metadata": {},
   "outputs": [],
   "source": []
  },
  {
   "cell_type": "code",
   "execution_count": null,
   "id": "ee6e44e1-d6d0-4d45-8f84-b3c0f2c5b4a6",
   "metadata": {},
   "outputs": [],
   "source": []
  },
  {
   "cell_type": "code",
   "execution_count": 18,
   "id": "a52a6b56-e0bf-4b53-aab5-477f068501a7",
   "metadata": {},
   "outputs": [],
   "source": [
    "df_train.to_csv(os.path.join(DIR_DATA, 'train_extended.csv'), index = False)\n",
    "df_test.to_csv(os.path.join(DIR_DATA, 'test_extended.csv'), index = False)"
   ]
  },
  {
   "cell_type": "code",
   "execution_count": null,
   "id": "a6b3ebc4-3586-4ec5-8184-620a96963af6",
   "metadata": {},
   "outputs": [],
   "source": []
  },
  {
   "cell_type": "code",
   "execution_count": null,
   "id": "895691bc-17ff-40a6-817c-f3e8cb7ddfb1",
   "metadata": {},
   "outputs": [],
   "source": [
    "ray.shutdown()"
   ]
  },
  {
   "cell_type": "code",
   "execution_count": null,
   "id": "5d35ea2d-f637-44cd-84a9-445e376e50d4",
   "metadata": {},
   "outputs": [],
   "source": [
    "print(\"Notebook Runtime: %0.2f Minutes\"%((time.time() - notebookstart)/60))"
   ]
  },
  {
   "cell_type": "code",
   "execution_count": null,
   "id": "b200008b-22c5-4dcf-af97-27040446395b",
   "metadata": {},
   "outputs": [],
   "source": []
  }
 ],
 "metadata": {
  "kernelspec": {
   "display_name": "Python 3 (ipykernel)",
   "language": "python",
   "name": "python3"
  },
  "language_info": {
   "codemirror_mode": {
    "name": "ipython",
    "version": 3
   },
   "file_extension": ".py",
   "mimetype": "text/x-python",
   "name": "python",
   "nbconvert_exporter": "python",
   "pygments_lexer": "ipython3",
   "version": "3.9.12"
  }
 },
 "nbformat": 4,
 "nbformat_minor": 5
}
