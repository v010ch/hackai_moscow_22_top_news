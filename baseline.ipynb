{
 "cells": [
  {
   "cell_type": "markdown",
   "metadata": {
    "id": "94nW2454wc8x"
   },
   "source": [
    "## Загрузим нужные библиотеки"
   ]
  },
  {
   "cell_type": "code",
   "execution_count": 3,
   "metadata": {
    "id": "yd1BP24w3ZTO"
   },
   "outputs": [],
   "source": [
    "import os\n",
    "import numpy as np\n",
    "import pandas as pd\n",
    "from sklearn.metrics import r2_score\n",
    "from sklearn.model_selection import train_test_split\n",
    "from sklearn.ensemble import RandomForestRegressor\n",
    "from sklearn.datasets import make_regression"
   ]
  },
  {
   "cell_type": "markdown",
   "metadata": {},
   "source": [
    "### Reproducibility block"
   ]
  },
  {
   "cell_type": "code",
   "execution_count": 4,
   "metadata": {},
   "outputs": [],
   "source": [
    "# seed the RNG for all devices (both CPU and CUDA)\n",
    "#torch.manual_seed(1984)\n",
    "\n",
    "#Disabling the benchmarking feature causes cuDNN to deterministically select an algorithm, \n",
    "#possibly at the cost of reduced performance.\n",
    "#torch.backends.cudnn.benchmark = False\n",
    "\n",
    "# for custom operators,\n",
    "import random\n",
    "random.seed(5986721)\n",
    "\n",
    "# \n",
    "np.random.seed(62185)\n",
    "\n",
    "#sklearn take seed from a line abowe"
   ]
  },
  {
   "cell_type": "markdown",
   "metadata": {
    "id": "9OIyUVsswusW"
   },
   "source": [
    "Выполним загрузу датсета"
   ]
  },
  {
   "cell_type": "code",
   "execution_count": 8,
   "metadata": {},
   "outputs": [],
   "source": [
    "DIR_DATA  = os.path.join(os.getcwd(), 'data')\n",
    "#DIR_TRAIN = os.path.join(DIR_DATA, 'train')\n",
    "#DIR_TEST  = os.path.join(DIR_DATA, 'test')\n",
    "DIR_SUBM  = os.path.join(os.getcwd(), 'subm')"
   ]
  },
  {
   "cell_type": "code",
   "execution_count": null,
   "metadata": {},
   "outputs": [],
   "source": []
  },
  {
   "cell_type": "code",
   "execution_count": 11,
   "metadata": {
    "id": "gwTarAzQj56l"
   },
   "outputs": [],
   "source": [
    "df_train = pd.read_csv(os.path.join(DIR_DATA, 'train.csv'), index_col= 0)\n",
    "df_test = pd.read_csv(os.path.join(DIR_DATA, 'test.csv'), index_col= 0)"
   ]
  },
  {
   "cell_type": "markdown",
   "metadata": {
    "id": "3uyCO6zQzMLy"
   },
   "source": [
    "## Проанализируем датасет"
   ]
  },
  {
   "cell_type": "code",
   "execution_count": 12,
   "metadata": {
    "colab": {
     "base_uri": "https://localhost:8080/"
    },
    "id": "d75CKVf9y9ty",
    "outputId": "5a3219ff-3048-4494-f942-7a5efaea96c4"
   },
   "outputs": [
    {
     "name": "stdout",
     "output_type": "stream",
     "text": [
      "<class 'pandas.core.frame.DataFrame'>\n",
      "Index: 7000 entries, 624ac09c9a7947db3d80c98eIDE7mtH4RBqGn-8MXfGffQ to 627f1c089a794743b070ff73hVvdVmFxS2SlZ2_lECDEow\n",
      "Data columns (total 10 columns):\n",
      " #   Column              Non-Null Count  Dtype  \n",
      "---  ------              --------------  -----  \n",
      " 0   title               7000 non-null   object \n",
      " 1   publish_date        7000 non-null   object \n",
      " 2   session             7000 non-null   object \n",
      " 3   authors             7000 non-null   object \n",
      " 4   ctr                 7000 non-null   float64\n",
      " 5   category            7000 non-null   object \n",
      " 6   tags                7000 non-null   object \n",
      " 7   views               7000 non-null   int64  \n",
      " 8   depth               7000 non-null   float64\n",
      " 9   full_reads_percent  7000 non-null   float64\n",
      "dtypes: float64(3), int64(1), object(6)\n",
      "memory usage: 601.6+ KB\n"
     ]
    }
   ],
   "source": [
    "df_train.info()"
   ]
  },
  {
   "cell_type": "markdown",
   "metadata": {
    "id": "PddMw1pl0ZnL"
   },
   "source": [
    "Заменим категорию и автора на число"
   ]
  },
  {
   "cell_type": "code",
   "execution_count": 13,
   "metadata": {
    "id": "nbqd3DPjj58r"
   },
   "outputs": [],
   "source": [
    "df_train[\"category\"] = df_train[\"category\"].astype('category')\n",
    "df_train[\"category\"] = df_train[\"category\"].cat.codes\n",
    "df_train[\"category\"] = df_train[\"category\"].astype('int')"
   ]
  },
  {
   "cell_type": "code",
   "execution_count": 14,
   "metadata": {
    "id": "8p-t074iydSw"
   },
   "outputs": [],
   "source": [
    "df_train[\"authors\"] = df_train[\"authors\"].astype('category')\n",
    "df_train[\"authors\"] = df_train[\"authors\"].cat.codes\n",
    "df_train[\"authors\"] = df_train[\"authors\"].astype('int')"
   ]
  },
  {
   "cell_type": "code",
   "execution_count": 15,
   "metadata": {
    "id": "DkmtplZ80FSS"
   },
   "outputs": [],
   "source": [
    "df_train['day'] = pd.to_datetime(df_train['publish_date']).dt.strftime(\"%d\").astype(int)\n",
    "df_train['mounth'] = pd.to_datetime(df_train['publish_date']).dt.strftime(\"%m\").astype(int)"
   ]
  },
  {
   "cell_type": "code",
   "execution_count": 17,
   "metadata": {
    "colab": {
     "base_uri": "https://localhost:8080/",
     "height": 464
    },
    "id": "zt8MAx0Cj5_V",
    "outputId": "7bc0d7a5-0ea0-4c38-b2dc-2f24c0828244"
   },
   "outputs": [
    {
     "data": {
      "text/html": [
       "<div>\n",
       "<style scoped>\n",
       "    .dataframe tbody tr th:only-of-type {\n",
       "        vertical-align: middle;\n",
       "    }\n",
       "\n",
       "    .dataframe tbody tr th {\n",
       "        vertical-align: top;\n",
       "    }\n",
       "\n",
       "    .dataframe thead th {\n",
       "        text-align: right;\n",
       "    }\n",
       "</style>\n",
       "<table border=\"1\" class=\"dataframe\">\n",
       "  <thead>\n",
       "    <tr style=\"text-align: right;\">\n",
       "      <th></th>\n",
       "      <th>title</th>\n",
       "      <th>publish_date</th>\n",
       "      <th>session</th>\n",
       "      <th>authors</th>\n",
       "      <th>ctr</th>\n",
       "      <th>category</th>\n",
       "      <th>tags</th>\n",
       "      <th>views</th>\n",
       "      <th>depth</th>\n",
       "      <th>full_reads_percent</th>\n",
       "      <th>day</th>\n",
       "      <th>mounth</th>\n",
       "    </tr>\n",
       "    <tr>\n",
       "      <th>document_id</th>\n",
       "      <th></th>\n",
       "      <th></th>\n",
       "      <th></th>\n",
       "      <th></th>\n",
       "      <th></th>\n",
       "      <th></th>\n",
       "      <th></th>\n",
       "      <th></th>\n",
       "      <th></th>\n",
       "      <th></th>\n",
       "      <th></th>\n",
       "      <th></th>\n",
       "    </tr>\n",
       "  </thead>\n",
       "  <tbody>\n",
       "    <tr>\n",
       "      <th>624ac09c9a7947db3d80c98eIDE7mtH4RBqGn-8MXfGffQ</th>\n",
       "      <td>Европейский банк развития приостановил доступ ...</td>\n",
       "      <td>2022-04-04 10:29:44</td>\n",
       "      <td>IDE7mtH4RBqGn-8MXfGffQ</td>\n",
       "      <td>560</td>\n",
       "      <td>1.580</td>\n",
       "      <td>2</td>\n",
       "      <td>['55928d339a794751dc8303d6', '542d1e28cbb20f86...</td>\n",
       "      <td>20460</td>\n",
       "      <td>1.134</td>\n",
       "      <td>35.850</td>\n",
       "      <td>4</td>\n",
       "      <td>4</td>\n",
       "    </tr>\n",
       "    <tr>\n",
       "      <th>620f6b899a7947701cf489e1KtVJsteHStO5oditt3Uvzw</th>\n",
       "      <td>Кремль назвал регулярным процессом учебные зап...</td>\n",
       "      <td>2022-02-18 10:00:39</td>\n",
       "      <td>KtVJsteHStO5oditt3Uvzw</td>\n",
       "      <td>38</td>\n",
       "      <td>1.853</td>\n",
       "      <td>0</td>\n",
       "      <td>['549d25df9a794775979561d2', '58abcf539a7947f1...</td>\n",
       "      <td>19038</td>\n",
       "      <td>1.142</td>\n",
       "      <td>38.355</td>\n",
       "      <td>18</td>\n",
       "      <td>2</td>\n",
       "    </tr>\n",
       "    <tr>\n",
       "      <th>620730cf9a7947ab96a44e27hk7puWJwSziw0m3sfTkKWA</th>\n",
       "      <td>Госсекретарь Швеции заявила о нежелании вступа...</td>\n",
       "      <td>2022-02-12 04:24:02</td>\n",
       "      <td>hk7puWJwSziw0m3sfTkKWA</td>\n",
       "      <td>560</td>\n",
       "      <td>0.000</td>\n",
       "      <td>0</td>\n",
       "      <td>['5430f451cbb20f73931ecd05', '5409f15de063daa0...</td>\n",
       "      <td>51151</td>\n",
       "      <td>1.185</td>\n",
       "      <td>36.424</td>\n",
       "      <td>12</td>\n",
       "      <td>2</td>\n",
       "    </tr>\n",
       "  </tbody>\n",
       "</table>\n",
       "</div>"
      ],
      "text/plain": [
       "                                                                                            title  \\\n",
       "document_id                                                                                         \n",
       "624ac09c9a7947db3d80c98eIDE7mtH4RBqGn-8MXfGffQ  Европейский банк развития приостановил доступ ...   \n",
       "620f6b899a7947701cf489e1KtVJsteHStO5oditt3Uvzw  Кремль назвал регулярным процессом учебные зап...   \n",
       "620730cf9a7947ab96a44e27hk7puWJwSziw0m3sfTkKWA  Госсекретарь Швеции заявила о нежелании вступа...   \n",
       "\n",
       "                                                       publish_date  \\\n",
       "document_id                                                           \n",
       "624ac09c9a7947db3d80c98eIDE7mtH4RBqGn-8MXfGffQ  2022-04-04 10:29:44   \n",
       "620f6b899a7947701cf489e1KtVJsteHStO5oditt3Uvzw  2022-02-18 10:00:39   \n",
       "620730cf9a7947ab96a44e27hk7puWJwSziw0m3sfTkKWA  2022-02-12 04:24:02   \n",
       "\n",
       "                                                               session  \\\n",
       "document_id                                                              \n",
       "624ac09c9a7947db3d80c98eIDE7mtH4RBqGn-8MXfGffQ  IDE7mtH4RBqGn-8MXfGffQ   \n",
       "620f6b899a7947701cf489e1KtVJsteHStO5oditt3Uvzw  KtVJsteHStO5oditt3Uvzw   \n",
       "620730cf9a7947ab96a44e27hk7puWJwSziw0m3sfTkKWA  hk7puWJwSziw0m3sfTkKWA   \n",
       "\n",
       "                                                authors    ctr  category  \\\n",
       "document_id                                                                \n",
       "624ac09c9a7947db3d80c98eIDE7mtH4RBqGn-8MXfGffQ      560  1.580         2   \n",
       "620f6b899a7947701cf489e1KtVJsteHStO5oditt3Uvzw       38  1.853         0   \n",
       "620730cf9a7947ab96a44e27hk7puWJwSziw0m3sfTkKWA      560  0.000         0   \n",
       "\n",
       "                                                                                             tags  \\\n",
       "document_id                                                                                         \n",
       "624ac09c9a7947db3d80c98eIDE7mtH4RBqGn-8MXfGffQ  ['55928d339a794751dc8303d6', '542d1e28cbb20f86...   \n",
       "620f6b899a7947701cf489e1KtVJsteHStO5oditt3Uvzw  ['549d25df9a794775979561d2', '58abcf539a7947f1...   \n",
       "620730cf9a7947ab96a44e27hk7puWJwSziw0m3sfTkKWA  ['5430f451cbb20f73931ecd05', '5409f15de063daa0...   \n",
       "\n",
       "                                                views  depth  \\\n",
       "document_id                                                    \n",
       "624ac09c9a7947db3d80c98eIDE7mtH4RBqGn-8MXfGffQ  20460  1.134   \n",
       "620f6b899a7947701cf489e1KtVJsteHStO5oditt3Uvzw  19038  1.142   \n",
       "620730cf9a7947ab96a44e27hk7puWJwSziw0m3sfTkKWA  51151  1.185   \n",
       "\n",
       "                                                full_reads_percent  day  \\\n",
       "document_id                                                               \n",
       "624ac09c9a7947db3d80c98eIDE7mtH4RBqGn-8MXfGffQ              35.850    4   \n",
       "620f6b899a7947701cf489e1KtVJsteHStO5oditt3Uvzw              38.355   18   \n",
       "620730cf9a7947ab96a44e27hk7puWJwSziw0m3sfTkKWA              36.424   12   \n",
       "\n",
       "                                                mounth  \n",
       "document_id                                             \n",
       "624ac09c9a7947db3d80c98eIDE7mtH4RBqGn-8MXfGffQ       4  \n",
       "620f6b899a7947701cf489e1KtVJsteHStO5oditt3Uvzw       2  \n",
       "620730cf9a7947ab96a44e27hk7puWJwSziw0m3sfTkKWA       2  "
      ]
     },
     "execution_count": 17,
     "metadata": {},
     "output_type": "execute_result"
    }
   ],
   "source": [
    "df_train.head(3)"
   ]
  },
  {
   "cell_type": "code",
   "execution_count": 18,
   "metadata": {
    "colab": {
     "base_uri": "https://localhost:8080/",
     "height": 736
    },
    "id": "ROaaSpFKj6B7",
    "outputId": "0f52de35-a9e8-4bf5-e170-29dbb64ac67f"
   },
   "outputs": [
    {
     "data": {
      "image/png": "[encoded data removed]",
      "text/plain": [
       "<Figure size 1440x864 with 9 Axes>"
      ]
     },
     "metadata": {
      "needs_background": "light"
     },
     "output_type": "display_data"
    }
   ],
   "source": [
    "features = list(set(df_train.columns) - set(['publish_date']))\n",
    "\n",
    "_ = df_train[features].hist(figsize=(20,12))"
   ]
  },
  {
   "cell_type": "markdown",
   "metadata": {
    "id": "ZMq8B6MB1m4M"
   },
   "source": [
    "Всего 9 категорий статей"
   ]
  },
  {
   "cell_type": "code",
   "execution_count": 19,
   "metadata": {
    "colab": {
     "base_uri": "https://localhost:8080/"
    },
    "id": "oHbrnP6Zj6EP",
    "outputId": "d97ca2a5-5dd8-47b4-ae3d-1982d5e0b5a7"
   },
   "outputs": [
    {
     "data": {
      "text/plain": [
       "0    3988\n",
       "5    1456\n",
       "3     667\n",
       "1     338\n",
       "4     283\n",
       "2     265\n",
       "7       1\n",
       "6       1\n",
       "8       1\n",
       "Name: category, dtype: int64"
      ]
     },
     "execution_count": 19,
     "metadata": {},
     "output_type": "execute_result"
    }
   ],
   "source": [
    "df_train.category.value_counts()"
   ]
  },
  {
   "cell_type": "markdown",
   "metadata": {
    "id": "qwtIb2FZ15TH"
   },
   "source": [
    "## Выделим выборки"
   ]
  },
  {
   "cell_type": "code",
   "execution_count": 20,
   "metadata": {
    "id": "juqrwMlFj6GS"
   },
   "outputs": [],
   "source": [
    "X = df_train.drop([\"views\",\"depth\",\"full_reads_percent\",\"title\",\"publish_date\", \"session\", \"tags\"], axis = 1)\n",
    "y = df_train[[\"views\",\"depth\",\"full_reads_percent\"]]"
   ]
  },
  {
   "cell_type": "code",
   "execution_count": 21,
   "metadata": {
    "colab": {
     "base_uri": "https://localhost:8080/",
     "height": 237
    },
    "id": "H_5wgOc_2NOe",
    "outputId": "de454dda-bbee-4a0d-912d-44fd56d21cae"
   },
   "outputs": [
    {
     "data": {
      "text/html": [
       "<div>\n",
       "<style scoped>\n",
       "    .dataframe tbody tr th:only-of-type {\n",
       "        vertical-align: middle;\n",
       "    }\n",
       "\n",
       "    .dataframe tbody tr th {\n",
       "        vertical-align: top;\n",
       "    }\n",
       "\n",
       "    .dataframe thead th {\n",
       "        text-align: right;\n",
       "    }\n",
       "</style>\n",
       "<table border=\"1\" class=\"dataframe\">\n",
       "  <thead>\n",
       "    <tr style=\"text-align: right;\">\n",
       "      <th></th>\n",
       "      <th>authors</th>\n",
       "      <th>ctr</th>\n",
       "      <th>category</th>\n",
       "      <th>day</th>\n",
       "      <th>mounth</th>\n",
       "    </tr>\n",
       "    <tr>\n",
       "      <th>document_id</th>\n",
       "      <th></th>\n",
       "      <th></th>\n",
       "      <th></th>\n",
       "      <th></th>\n",
       "      <th></th>\n",
       "    </tr>\n",
       "  </thead>\n",
       "  <tbody>\n",
       "    <tr>\n",
       "      <th>624ac09c9a7947db3d80c98eIDE7mtH4RBqGn-8MXfGffQ</th>\n",
       "      <td>560</td>\n",
       "      <td>1.580</td>\n",
       "      <td>2</td>\n",
       "      <td>4</td>\n",
       "      <td>4</td>\n",
       "    </tr>\n",
       "    <tr>\n",
       "      <th>620f6b899a7947701cf489e1KtVJsteHStO5oditt3Uvzw</th>\n",
       "      <td>38</td>\n",
       "      <td>1.853</td>\n",
       "      <td>0</td>\n",
       "      <td>18</td>\n",
       "      <td>2</td>\n",
       "    </tr>\n",
       "    <tr>\n",
       "      <th>620730cf9a7947ab96a44e27hk7puWJwSziw0m3sfTkKWA</th>\n",
       "      <td>560</td>\n",
       "      <td>0.000</td>\n",
       "      <td>0</td>\n",
       "      <td>12</td>\n",
       "      <td>2</td>\n",
       "    </tr>\n",
       "    <tr>\n",
       "      <th>6262a5889a79470b78c9ca307UKY2SSZTjCcjhwBzxw37w</th>\n",
       "      <td>560</td>\n",
       "      <td>0.000</td>\n",
       "      <td>0</td>\n",
       "      <td>22</td>\n",
       "      <td>4</td>\n",
       "    </tr>\n",
       "    <tr>\n",
       "      <th>626678929a79477ca0101568wuMYES90REuV5YhrN75IXg</th>\n",
       "      <td>560</td>\n",
       "      <td>0.000</td>\n",
       "      <td>5</td>\n",
       "      <td>25</td>\n",
       "      <td>4</td>\n",
       "    </tr>\n",
       "  </tbody>\n",
       "</table>\n",
       "</div>"
      ],
      "text/plain": [
       "                                                authors    ctr  category  day  \\\n",
       "document_id                                                                     \n",
       "624ac09c9a7947db3d80c98eIDE7mtH4RBqGn-8MXfGffQ      560  1.580         2    4   \n",
       "620f6b899a7947701cf489e1KtVJsteHStO5oditt3Uvzw       38  1.853         0   18   \n",
       "620730cf9a7947ab96a44e27hk7puWJwSziw0m3sfTkKWA      560  0.000         0   12   \n",
       "6262a5889a79470b78c9ca307UKY2SSZTjCcjhwBzxw37w      560  0.000         0   22   \n",
       "626678929a79477ca0101568wuMYES90REuV5YhrN75IXg      560  0.000         5   25   \n",
       "\n",
       "                                                mounth  \n",
       "document_id                                             \n",
       "624ac09c9a7947db3d80c98eIDE7mtH4RBqGn-8MXfGffQ       4  \n",
       "620f6b899a7947701cf489e1KtVJsteHStO5oditt3Uvzw       2  \n",
       "620730cf9a7947ab96a44e27hk7puWJwSziw0m3sfTkKWA       2  \n",
       "6262a5889a79470b78c9ca307UKY2SSZTjCcjhwBzxw37w       4  \n",
       "626678929a79477ca0101568wuMYES90REuV5YhrN75IXg       4  "
      ]
     },
     "execution_count": 21,
     "metadata": {},
     "output_type": "execute_result"
    }
   ],
   "source": [
    "X.head()"
   ]
  },
  {
   "cell_type": "code",
   "execution_count": 22,
   "metadata": {
    "id": "HZC1QLKs2Gjb"
   },
   "outputs": [],
   "source": [
    "X_train, X_test, y_train, y_test = train_test_split(X, y, test_size=0.3, random_state=42)"
   ]
  },
  {
   "cell_type": "markdown",
   "metadata": {
    "id": "aatiawbb2woH"
   },
   "source": [
    "## Подбор модели"
   ]
  },
  {
   "cell_type": "code",
   "execution_count": 23,
   "metadata": {
    "id": "pZJ3HmJJ2GlS"
   },
   "outputs": [],
   "source": [
    "regr = RandomForestRegressor(random_state=0)"
   ]
  },
  {
   "cell_type": "markdown",
   "metadata": {
    "id": "UjwuR7jL4PhZ"
   },
   "source": [
    "Обучим модель"
   ]
  },
  {
   "cell_type": "code",
   "execution_count": 24,
   "metadata": {
    "colab": {
     "base_uri": "https://localhost:8080/"
    },
    "id": "rb7oNSzT3Nrd",
    "outputId": "8016cacc-0a1c-49d0-d4f4-8c0b9cda3374"
   },
   "outputs": [
    {
     "data": {
      "text/plain": [
       "RandomForestRegressor(random_state=0)"
      ]
     },
     "execution_count": 24,
     "metadata": {},
     "output_type": "execute_result"
    }
   ],
   "source": [
    "regr.fit(X_train, y_train)"
   ]
  },
  {
   "cell_type": "markdown",
   "metadata": {
    "id": "gzQh5CPA4TF1"
   },
   "source": [
    "Предскажем значения"
   ]
  },
  {
   "cell_type": "code",
   "execution_count": 25,
   "metadata": {
    "id": "xwqb5Ed02GnX"
   },
   "outputs": [],
   "source": [
    "pred = regr.predict(X_test)"
   ]
  },
  {
   "cell_type": "markdown",
   "metadata": {
    "id": "V2lh7BHR3iha"
   },
   "source": [
    "## Оценка точности"
   ]
  },
  {
   "cell_type": "code",
   "execution_count": 26,
   "metadata": {
    "id": "DBBI6BO73fWh"
   },
   "outputs": [],
   "source": [
    "score_views = r2_score(y_test[\"views\"], pred[:,0])\n",
    "score_depth = r2_score(y_test[\"depth\"], pred[:,1])\n",
    "score_frp = r2_score(y_test[\"full_reads_percent\"], pred[:,2])"
   ]
  },
  {
   "cell_type": "code",
   "execution_count": 27,
   "metadata": {
    "colab": {
     "base_uri": "https://localhost:8080/"
    },
    "id": "pSyWi8zk4Ge-",
    "outputId": "fa0aa484-0997-4aea-bfa3-33c61c52c4f0"
   },
   "outputs": [
    {
     "data": {
      "text/plain": [
       "0.5497252178188364"
      ]
     },
     "execution_count": 27,
     "metadata": {},
     "output_type": "execute_result"
    }
   ],
   "source": [
    "score = 0.4 * score_views + 0.3 * score_depth + 0.3 * score_frp\n",
    "\n",
    "score"
   ]
  },
  {
   "cell_type": "code",
   "execution_count": null,
   "metadata": {},
   "outputs": [],
   "source": []
  },
  {
   "cell_type": "code",
   "execution_count": null,
   "metadata": {},
   "outputs": [],
   "source": []
  },
  {
   "cell_type": "markdown",
   "metadata": {},
   "source": [
    "Предсказание для теста"
   ]
  },
  {
   "cell_type": "code",
   "execution_count": 29,
   "metadata": {},
   "outputs": [],
   "source": [
    "df_test[\"category\"] = df_test[\"category\"].astype('category')\n",
    "df_test[\"category\"] = df_test[\"category\"].cat.codes\n",
    "df_test[\"category\"] = df_test[\"category\"].astype('int')"
   ]
  },
  {
   "cell_type": "code",
   "execution_count": 30,
   "metadata": {},
   "outputs": [],
   "source": [
    "df_test[\"authors\"] = df_test[\"authors\"].astype('category')\n",
    "df_test[\"authors\"] = df_test[\"authors\"].cat.codes\n",
    "df_test[\"authors\"] = df_test[\"authors\"].astype('int')"
   ]
  },
  {
   "cell_type": "code",
   "execution_count": 31,
   "metadata": {},
   "outputs": [],
   "source": [
    "df_test['day']    = pd.to_datetime(df_test['publish_date']).dt.strftime(\"%d\").astype(int)\n",
    "df_test['mounth'] = pd.to_datetime(df_test['publish_date']).dt.strftime(\"%m\").astype(int)"
   ]
  },
  {
   "cell_type": "code",
   "execution_count": null,
   "metadata": {},
   "outputs": [],
   "source": []
  },
  {
   "cell_type": "code",
   "execution_count": 36,
   "metadata": {},
   "outputs": [],
   "source": [
    "X_pred = df_test.drop([\"title\",\"publish_date\", \"session\", \"tags\"], axis = 1)"
   ]
  },
  {
   "cell_type": "code",
   "execution_count": 40,
   "metadata": {},
   "outputs": [
    {
     "data": {
      "text/html": [
       "<div>\n",
       "<style scoped>\n",
       "    .dataframe tbody tr th:only-of-type {\n",
       "        vertical-align: middle;\n",
       "    }\n",
       "\n",
       "    .dataframe tbody tr th {\n",
       "        vertical-align: top;\n",
       "    }\n",
       "\n",
       "    .dataframe thead th {\n",
       "        text-align: right;\n",
       "    }\n",
       "</style>\n",
       "<table border=\"1\" class=\"dataframe\">\n",
       "  <thead>\n",
       "    <tr style=\"text-align: right;\">\n",
       "      <th></th>\n",
       "      <th>authors</th>\n",
       "      <th>ctr</th>\n",
       "      <th>category</th>\n",
       "      <th>day</th>\n",
       "      <th>mounth</th>\n",
       "    </tr>\n",
       "    <tr>\n",
       "      <th>document_id</th>\n",
       "      <th></th>\n",
       "      <th></th>\n",
       "      <th></th>\n",
       "      <th></th>\n",
       "      <th></th>\n",
       "    </tr>\n",
       "  </thead>\n",
       "  <tbody>\n",
       "    <tr>\n",
       "      <th>61f9569a9a794794245a82abJ0AvX96vTAaQCiWVbzoMdw</th>\n",
       "      <td>325</td>\n",
       "      <td>0.000</td>\n",
       "      <td>0</td>\n",
       "      <td>1</td>\n",
       "      <td>2</td>\n",
       "    </tr>\n",
       "    <tr>\n",
       "      <th>628c22b89a79470e553f594bQS5CqzXYRnmDdR2LaSreEw</th>\n",
       "      <td>325</td>\n",
       "      <td>1.598</td>\n",
       "      <td>0</td>\n",
       "      <td>24</td>\n",
       "      <td>5</td>\n",
       "    </tr>\n",
       "    <tr>\n",
       "      <th>627cb3249a7947ebdd752865XVsoyrUOT8OJJg2_finJhw</th>\n",
       "      <td>325</td>\n",
       "      <td>2.006</td>\n",
       "      <td>0</td>\n",
       "      <td>12</td>\n",
       "      <td>5</td>\n",
       "    </tr>\n",
       "  </tbody>\n",
       "</table>\n",
       "</div>"
      ],
      "text/plain": [
       "                                                authors    ctr  category  day  \\\n",
       "document_id                                                                     \n",
       "61f9569a9a794794245a82abJ0AvX96vTAaQCiWVbzoMdw      325  0.000         0    1   \n",
       "628c22b89a79470e553f594bQS5CqzXYRnmDdR2LaSreEw      325  1.598         0   24   \n",
       "627cb3249a7947ebdd752865XVsoyrUOT8OJJg2_finJhw      325  2.006         0   12   \n",
       "\n",
       "                                                mounth  \n",
       "document_id                                             \n",
       "61f9569a9a794794245a82abJ0AvX96vTAaQCiWVbzoMdw       2  \n",
       "628c22b89a79470e553f594bQS5CqzXYRnmDdR2LaSreEw       5  \n",
       "627cb3249a7947ebdd752865XVsoyrUOT8OJJg2_finJhw       5  "
      ]
     },
     "execution_count": 40,
     "metadata": {},
     "output_type": "execute_result"
    }
   ],
   "source": [
    "X_pred.head(3)"
   ]
  },
  {
   "cell_type": "code",
   "execution_count": null,
   "metadata": {},
   "outputs": [],
   "source": []
  },
  {
   "cell_type": "code",
   "execution_count": 41,
   "metadata": {},
   "outputs": [],
   "source": [
    "pred = regr.predict(X_pred)"
   ]
  },
  {
   "cell_type": "code",
   "execution_count": null,
   "metadata": {},
   "outputs": [],
   "source": []
  },
  {
   "cell_type": "markdown",
   "metadata": {},
   "source": [
    "submission"
   ]
  },
  {
   "cell_type": "code",
   "execution_count": 45,
   "metadata": {},
   "outputs": [
    {
     "data": {
      "text/plain": [
       "(3000, 4)"
      ]
     },
     "execution_count": 45,
     "metadata": {},
     "output_type": "execute_result"
    }
   ],
   "source": [
    "subm = pd.read_csv(os.path.join(DIR_SUBM, 'sample_solution.csv'))\n",
    "subm.shape"
   ]
  },
  {
   "cell_type": "code",
   "execution_count": 46,
   "metadata": {},
   "outputs": [
    {
     "data": {
      "text/html": [
       "<div>\n",
       "<style scoped>\n",
       "    .dataframe tbody tr th:only-of-type {\n",
       "        vertical-align: middle;\n",
       "    }\n",
       "\n",
       "    .dataframe tbody tr th {\n",
       "        vertical-align: top;\n",
       "    }\n",
       "\n",
       "    .dataframe thead th {\n",
       "        text-align: right;\n",
       "    }\n",
       "</style>\n",
       "<table border=\"1\" class=\"dataframe\">\n",
       "  <thead>\n",
       "    <tr style=\"text-align: right;\">\n",
       "      <th></th>\n",
       "      <th>document_id</th>\n",
       "      <th>views</th>\n",
       "      <th>depth</th>\n",
       "      <th>full_reads_percent</th>\n",
       "    </tr>\n",
       "  </thead>\n",
       "  <tbody>\n",
       "    <tr>\n",
       "      <th>0</th>\n",
       "      <td>61f9569a9a794794245a82abJ0AvX96vTAaQCiWVbzoMdw</td>\n",
       "      <td>1</td>\n",
       "      <td>1</td>\n",
       "      <td>1</td>\n",
       "    </tr>\n",
       "    <tr>\n",
       "      <th>1</th>\n",
       "      <td>628c22b89a79470e553f594bQS5CqzXYRnmDdR2LaSreEw</td>\n",
       "      <td>1</td>\n",
       "      <td>1</td>\n",
       "      <td>1</td>\n",
       "    </tr>\n",
       "    <tr>\n",
       "      <th>2</th>\n",
       "      <td>627cb3249a7947ebdd752865XVsoyrUOT8OJJg2_finJhw</td>\n",
       "      <td>1</td>\n",
       "      <td>1</td>\n",
       "      <td>1</td>\n",
       "    </tr>\n",
       "    <tr>\n",
       "      <th>3</th>\n",
       "      <td>628618629a7947d4927eb812upfii3whSSuMXCqcqF8VbQ</td>\n",
       "      <td>1</td>\n",
       "      <td>1</td>\n",
       "      <td>1</td>\n",
       "    </tr>\n",
       "    <tr>\n",
       "      <th>4</th>\n",
       "      <td>620e76109a7947235623695b5hzCiIHdSYKQIr8WAM18bw</td>\n",
       "      <td>1</td>\n",
       "      <td>1</td>\n",
       "      <td>1</td>\n",
       "    </tr>\n",
       "  </tbody>\n",
       "</table>\n",
       "</div>"
      ],
      "text/plain": [
       "                                      document_id  views  depth  \\\n",
       "0  61f9569a9a794794245a82abJ0AvX96vTAaQCiWVbzoMdw      1      1   \n",
       "1  628c22b89a79470e553f594bQS5CqzXYRnmDdR2LaSreEw      1      1   \n",
       "2  627cb3249a7947ebdd752865XVsoyrUOT8OJJg2_finJhw      1      1   \n",
       "3  628618629a7947d4927eb812upfii3whSSuMXCqcqF8VbQ      1      1   \n",
       "4  620e76109a7947235623695b5hzCiIHdSYKQIr8WAM18bw      1      1   \n",
       "\n",
       "   full_reads_percent  \n",
       "0                   1  \n",
       "1                   1  \n",
       "2                   1  \n",
       "3                   1  \n",
       "4                   1  "
      ]
     },
     "execution_count": 46,
     "metadata": {},
     "output_type": "execute_result"
    }
   ],
   "source": [
    "subm.head()"
   ]
  },
  {
   "cell_type": "code",
   "execution_count": 53,
   "metadata": {},
   "outputs": [],
   "source": [
    "subm.document_id = df_test.index\n",
    "subm.views = pred[:,0]\n",
    "subm.depth = pred[:,1]\n",
    "subm.full_reads_percent = pred[:,2]\n",
    "\n",
    "\n",
    "#y_test[\"views\"], pred[:,0]\n",
    "#y_test[\"depth\"], pred[:,1]\n",
    "#y_test[\"full_reads_percent\"], pred[:,2]"
   ]
  },
  {
   "cell_type": "code",
   "execution_count": 54,
   "metadata": {},
   "outputs": [],
   "source": [
    "subm.to_csv(os.path.join(DIR_SUBM, '0_baseline.csv'), index = False)"
   ]
  },
  {
   "cell_type": "code",
   "execution_count": null,
   "metadata": {},
   "outputs": [],
   "source": []
  },
  {
   "cell_type": "code",
   "execution_count": null,
   "metadata": {},
   "outputs": [],
   "source": []
  }
 ],
 "metadata": {
  "colab": {
   "name": "RBK_baseline.ipynb",
   "provenance": [],
   "toc_visible": true
  },
  "kernelspec": {
   "display_name": "Python 3",
   "language": "python",
   "name": "python3"
  },
  "language_info": {
   "codemirror_mode": {
    "name": "ipython",
    "version": 3
   },
   "file_extension": ".py",
   "mimetype": "text/x-python",
   "name": "python",
   "nbconvert_exporter": "python",
   "pygments_lexer": "ipython3",
   "version": "3.7.10"
  }
 },
 "nbformat": 4,
 "nbformat_minor": 4
}
