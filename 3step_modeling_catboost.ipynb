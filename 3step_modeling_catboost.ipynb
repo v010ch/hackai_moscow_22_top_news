{
 "cells": [
  {
   "cell_type": "code",
   "execution_count": 1,
   "id": "6f62ec01-36f8-4ffe-b187-0616094602d5",
   "metadata": {},
   "outputs": [],
   "source": [
    "%load_ext watermark"
   ]
  },
  {
   "cell_type": "code",
   "execution_count": 2,
   "id": "fd631481-f748-4610-94f4-a0d9b5bbe4ed",
   "metadata": {},
   "outputs": [
    {
     "name": "stdout",
     "output_type": "stream",
     "text": [
      "Last updated: 2022-07-04T20:39:54.495831+03:00\n",
      "\n",
      "Python implementation: CPython\n",
      "Python version       : 3.7.10\n",
      "IPython version      : 7.22.0\n",
      "\n",
      "Compiler    : MSC v.1916 64 bit (AMD64)\n",
      "OS          : Windows\n",
      "Release     : 10\n",
      "Machine     : AMD64\n",
      "Processor   : Intel64 Family 6 Model 158 Stepping 9, GenuineIntel\n",
      "CPU cores   : 8\n",
      "Architecture: 64bit\n",
      "\n"
     ]
    }
   ],
   "source": [
    "%watermark"
   ]
  },
  {
   "cell_type": "code",
   "execution_count": 3,
   "id": "2f268c90-86ca-4ea1-8a02-3a6b43c450cf",
   "metadata": {},
   "outputs": [],
   "source": [
    "import os\n",
    "import pickle as pkl\n",
    "\n",
    "import numpy as np\n",
    "import pandas as pd\n",
    "\n",
    "from sklearn.metrics import r2_score\n",
    "from catboost import CatBoostRegressor, Pool\n",
    "\n",
    "import matplotlib.pyplot as plt\n",
    "import seaborn as sns"
   ]
  },
  {
   "cell_type": "code",
   "execution_count": 4,
   "id": "68c33f68-68f2-4e66-a8c6-4a7ac88eb910",
   "metadata": {},
   "outputs": [
    {
     "name": "stdout",
     "output_type": "stream",
     "text": [
      "cb_version: 0.24.3\n",
      "sklearn_version: 0.24.2\n"
     ]
    }
   ],
   "source": [
    "from catboost import __version__ as cb_version\n",
    "from sklearn import __version__ as sklearn_version\n",
    "\n",
    "print(f'cb_version: {cb_version}')\n",
    "print(f'sklearn_version: {sklearn_version}')"
   ]
  },
  {
   "cell_type": "code",
   "execution_count": 5,
   "id": "21f6a58a-b019-4436-83ec-428714473139",
   "metadata": {},
   "outputs": [
    {
     "name": "stdout",
     "output_type": "stream",
     "text": [
      "matplotlib: 3.3.4\n",
      "pandas    : 0.25.3\n",
      "numpy     : 1.20.3\n",
      "seaborn   : 0.11.1\n",
      "\n"
     ]
    }
   ],
   "source": [
    "%watermark --iversions"
   ]
  },
  {
   "cell_type": "code",
   "execution_count": null,
   "id": "8238fc41-4ff8-45af-832d-8ca6512b8995",
   "metadata": {},
   "outputs": [],
   "source": []
  },
  {
   "cell_type": "code",
   "execution_count": null,
   "id": "fabdb0fa-405c-4649-b004-d353666fef7a",
   "metadata": {},
   "outputs": [],
   "source": []
  },
  {
   "cell_type": "markdown",
   "id": "3f3d5ca4-753b-47f1-801f-02be08c0bc3c",
   "metadata": {},
   "source": [
    "## Reproducibility block"
   ]
  },
  {
   "cell_type": "code",
   "execution_count": 6,
   "id": "8d133278-9bc6-4c5d-b029-bd0c31d6adf1",
   "metadata": {},
   "outputs": [],
   "source": [
    "# seed the RNG for all devices (both CPU and CUDA)\n",
    "#torch.manual_seed(1984)\n",
    "\n",
    "#Disabling the benchmarking feature causes cuDNN to deterministically select an algorithm, \n",
    "#possibly at the cost of reduced performance.\n",
    "#torch.backends.cudnn.benchmark = False\n",
    "\n",
    "# for custom operators,\n",
    "import random\n",
    "random.seed(5986721)\n",
    "\n",
    "# \n",
    "np.random.seed(62185)\n",
    "\n",
    "#sklearn take seed from a line abowe\n",
    "\n",
    "CB_RANDOMSEED = 309487"
   ]
  },
  {
   "cell_type": "code",
   "execution_count": null,
   "id": "9f38ebd5-a020-47eb-b1f4-9ea987afb524",
   "metadata": {},
   "outputs": [],
   "source": []
  },
  {
   "cell_type": "code",
   "execution_count": 7,
   "id": "019813d1-62ae-4b4d-a2f6-c0d74c146413",
   "metadata": {},
   "outputs": [],
   "source": [
    "DIR_DATA   = os.path.join(os.getcwd(), 'data')\n",
    "DIR_MODELS = os.path.join(os.getcwd(), 'models')\n",
    "DIR_SUBM   = os.path.join(os.getcwd(), 'subm')\n",
    "DIR_SUBM_PART = os.path.join(os.getcwd(), 'subm', 'partial')"
   ]
  },
  {
   "cell_type": "code",
   "execution_count": null,
   "id": "0d608686-6d8e-49ad-906b-b20933e0ec2a",
   "metadata": {},
   "outputs": [],
   "source": []
  },
  {
   "cell_type": "markdown",
   "id": "ae3e27a3-16bb-456d-b7a1-7975d5f85ea5",
   "metadata": {},
   "source": [
    "## Load data"
   ]
  },
  {
   "cell_type": "code",
   "execution_count": 8,
   "id": "ee296ac9-baf6-4bcb-89ce-5fe99408403d",
   "metadata": {},
   "outputs": [],
   "source": [
    "x_train  = pd.read_csv(os.path.join(DIR_DATA, 'x_train.csv'), index_col= 0)\n",
    "x_val    = pd.read_csv(os.path.join(DIR_DATA, 'x_val.csv'), index_col= 0)\n",
    "df_test  = pd.read_csv(os.path.join(DIR_DATA, 'test_upd.csv'), index_col= 0)\n",
    "\n",
    "with open(os.path.join(DIR_DATA, 'cat_columns.pkl'), 'rb') as pickle_file:\n",
    "    cat_cols = pkl.load(pickle_file)\n",
    "    \n",
    "with open(os.path.join(DIR_DATA, 'num_columns.pkl'), 'rb') as pickle_file:\n",
    "    num_cols = pkl.load(pickle_file)"
   ]
  },
  {
   "cell_type": "code",
   "execution_count": 9,
   "id": "b00427ec-ac4f-4da3-8dfb-94871e63072d",
   "metadata": {},
   "outputs": [
    {
     "data": {
      "text/plain": [
       "((5589, 1232), (1398, 1232), (3000, 1229), 4, 1193)"
      ]
     },
     "execution_count": 9,
     "metadata": {},
     "output_type": "execute_result"
    }
   ],
   "source": [
    "x_train.shape, x_val.shape, df_test.shape, len(cat_cols), len(num_cols)"
   ]
  },
  {
   "cell_type": "code",
   "execution_count": 10,
   "id": "40e960cf-00f2-45b2-986f-436a8024d0de",
   "metadata": {},
   "outputs": [
    {
     "name": "stdout",
     "output_type": "stream",
     "text": [
      "['hour', 'dow', 'day', 'mounth', 'category']\n"
     ]
    }
   ],
   "source": [
    "cat_cols = cat_cols + ['category']\n",
    "print(cat_cols)"
   ]
  },
  {
   "cell_type": "markdown",
   "id": "d4b599d2-168d-4cc1-a4ea-fc34d707a0ce",
   "metadata": {},
   "source": [
    "отделяем метки от данных"
   ]
  },
  {
   "cell_type": "code",
   "execution_count": 11,
   "id": "40de44ef-8722-48fc-84f7-c78ce45471fc",
   "metadata": {},
   "outputs": [
    {
     "data": {
      "text/plain": [
       "((5589, 1229), (1398, 1229), (5589, 3), (1398, 3))"
      ]
     },
     "execution_count": 11,
     "metadata": {},
     "output_type": "execute_result"
    }
   ],
   "source": [
    "y_train = x_train[['views', 'depth', 'full_reads_percent']]\n",
    "y_val   = x_val[['views', 'depth', 'full_reads_percent']]\n",
    "\n",
    "x_train.drop(['views', 'depth', 'full_reads_percent'], axis = 1, inplace = True)\n",
    "x_val.drop(  ['views', 'depth', 'full_reads_percent'], axis = 1, inplace = True)\n",
    "\n",
    "x_train.shape, x_val.shape, y_train.shape, y_val.shape"
   ]
  },
  {
   "cell_type": "code",
   "execution_count": 12,
   "id": "3145e466-8172-424b-85ac-ad97439d9913",
   "metadata": {},
   "outputs": [
    {
     "data": {
      "text/plain": [
       "(5589, 1229)"
      ]
     },
     "execution_count": 12,
     "metadata": {},
     "output_type": "execute_result"
    }
   ],
   "source": [
    "x_train.shape"
   ]
  },
  {
   "cell_type": "code",
   "execution_count": 13,
   "id": "c416f029-f4cc-46cf-aa20-c30e664b1cdb",
   "metadata": {},
   "outputs": [],
   "source": [
    "#cat_cols + num_cols\n"
   ]
  },
  {
   "cell_type": "code",
   "execution_count": 14,
   "id": "4a71aa58-27b4-4087-ba4c-595958c1c5fe",
   "metadata": {},
   "outputs": [],
   "source": [
    "#views\n",
    "train_ds_views = Pool(x_train[cat_cols + num_cols],\n",
    "#train_ds_views = Pool(x_train[cat_cols + ['ctr']],\n",
    "                      y_train[['views']],\n",
    "                      cat_features = cat_cols,\n",
    "                      #feature_names = cat_cols + num_cols\n",
    "                     )\n",
    "\n",
    "val_ds_views   = Pool(x_val[cat_cols + num_cols],\n",
    "#val_ds_views   = Pool(x_val[cat_cols + ['ctr']],\n",
    "                      y_val[['views']],\n",
    "                      cat_features = cat_cols,\n",
    "                      #feature_names = cat_cols + num_cols\n",
    "                     )\n",
    "\n",
    "\n",
    "#depth\n",
    "train_ds_depth = Pool(x_train[cat_cols + num_cols],\n",
    "                      y_train[['depth']],\n",
    "                      cat_features = cat_cols,\n",
    "                      feature_names = cat_cols + num_cols\n",
    "                     )\n",
    "\n",
    "val_ds_depth   = Pool(x_val[cat_cols + num_cols],\n",
    "                      y_val[['depth']],\n",
    "                      cat_features = cat_cols,\n",
    "                      feature_names = cat_cols + num_cols\n",
    "                     )\n",
    "\n",
    "\n",
    "#full_reads_percent\n",
    "train_ds_frp = Pool(x_train[cat_cols + num_cols],\n",
    "                      y_train[['full_reads_percent']],\n",
    "                      cat_features = cat_cols,\n",
    "                      feature_names = cat_cols + num_cols\n",
    "                     )\n",
    "\n",
    "val_ds_frp   = Pool(x_val[cat_cols + num_cols],\n",
    "                      y_val[['full_reads_percent']],\n",
    "                      cat_features = cat_cols,\n",
    "                      feature_names = cat_cols + num_cols\n",
    "                     )"
   ]
  },
  {
   "cell_type": "code",
   "execution_count": null,
   "id": "12ae502e-4ce4-4f6e-947f-4f6f5942584a",
   "metadata": {},
   "outputs": [],
   "source": []
  },
  {
   "cell_type": "code",
   "execution_count": 15,
   "id": "41e5514e-1f39-4fd8-bee0-98c9b705dda5",
   "metadata": {},
   "outputs": [],
   "source": [
    "def plot_feature_importance2(inp_model, inp_pool, imp_number = 30):\n",
    "    \n",
    "    data = pd.DataFrame({'feature_importance': inp_model.get_feature_importance(inp_pool), \n",
    "              'feature_names': inp_pool.get_feature_names()}).sort_values(by=['feature_importance'], \n",
    "                                                       ascending=True)\n",
    "    \n",
    "    data.nlargest(imp_number, columns=\"feature_importance\").plot(kind='barh', figsize = (30,16)) ## plot top 40 features"
   ]
  },
  {
   "cell_type": "code",
   "execution_count": 16,
   "id": "55711d60-6520-4f9c-af95-e2c0624d270c",
   "metadata": {},
   "outputs": [],
   "source": [
    "def plot_feature_importance(importance,names,model_type, imp_number = 30):\n",
    "    \n",
    "    #Create arrays from feature importance and feature names\n",
    "    feature_importance = np.array(importance)\n",
    "    feature_names = np.array(names)\n",
    "    \n",
    "    #Create a DataFrame using a Dictionary\n",
    "    data={'feature_names':feature_names,'feature_importance':feature_importance}\n",
    "    fi_df = pd.DataFrame(data)\n",
    "    \n",
    "    #Sort the DataFrame in order decreasing feature importance\n",
    "    fi_df.sort_values(by=['feature_importance'], ascending=False,inplace=True)\n",
    "    \n",
    "    #Define size of bar plot\n",
    "    plt.figure(figsize=(10,8))\n",
    "    #Plot Searborn bar chart\n",
    "    sns.barplot(x=fi_df['feature_importance'][:imp_number], y=fi_df['feature_names'][:imp_number])\n",
    "    #Add chart labels\n",
    "    plt.title(model_type + 'FEATURE IMPORTANCE')\n",
    "    plt.xlabel('FEATURE IMPORTANCE')\n",
    "    plt.ylabel('FEATURE NAMES')"
   ]
  },
  {
   "cell_type": "code",
   "execution_count": null,
   "id": "4c0f79ca-2997-443a-ab51-de4e53217939",
   "metadata": {},
   "outputs": [],
   "source": []
  },
  {
   "cell_type": "markdown",
   "id": "668fd48f-3112-40a7-a453-d4f159ef4877",
   "metadata": {},
   "source": [
    "## views"
   ]
  },
  {
   "cell_type": "code",
   "execution_count": 17,
   "id": "37fb9d99-b182-4aae-85ba-24ff91dfbe33",
   "metadata": {},
   "outputs": [
    {
     "name": "stdout",
     "output_type": "stream",
     "text": [
      "0:\tlearn: 101577.2373104\ttest: 51248.0564346\tbest: 51248.0564346 (0)\ttotal: 222ms\tremaining: 4.22s\n",
      "1:\tlearn: 98412.4472157\ttest: 50111.6609937\tbest: 50111.6609937 (1)\ttotal: 275ms\tremaining: 2.47s\n",
      "2:\tlearn: 96229.9889550\ttest: 49366.9953931\tbest: 49366.9953931 (2)\ttotal: 326ms\tremaining: 1.85s\n",
      "3:\tlearn: 91706.8384341\ttest: 48331.3600390\tbest: 48331.3600390 (3)\ttotal: 375ms\tremaining: 1.5s\n",
      "4:\tlearn: 89803.0480041\ttest: 47247.4409238\tbest: 47247.4409238 (4)\ttotal: 428ms\tremaining: 1.28s\n",
      "5:\tlearn: 87661.7874914\ttest: 46117.5041501\tbest: 46117.5041501 (5)\ttotal: 486ms\tremaining: 1.13s\n",
      "6:\tlearn: 87084.6968559\ttest: 45505.4986313\tbest: 45505.4986313 (6)\ttotal: 548ms\tremaining: 1.02s\n",
      "7:\tlearn: 84748.1958961\ttest: 45362.9678892\tbest: 45362.9678892 (7)\ttotal: 596ms\tremaining: 894ms\n",
      "8:\tlearn: 84048.3400818\ttest: 44841.6707121\tbest: 44841.6707121 (8)\ttotal: 648ms\tremaining: 792ms\n",
      "9:\tlearn: 81824.4304339\ttest: 44502.4414681\tbest: 44502.4414681 (9)\ttotal: 700ms\tremaining: 700ms\n",
      "10:\tlearn: 79734.9815438\ttest: 44215.9625754\tbest: 44215.9625754 (10)\ttotal: 750ms\tremaining: 614ms\n",
      "11:\tlearn: 77818.9997172\ttest: 43776.2696193\tbest: 43776.2696193 (11)\ttotal: 801ms\tremaining: 534ms\n",
      "12:\tlearn: 76549.3572333\ttest: 43074.3000507\tbest: 43074.3000507 (12)\ttotal: 851ms\tremaining: 458ms\n",
      "13:\tlearn: 75954.5344159\ttest: 42810.7169920\tbest: 42810.7169920 (13)\ttotal: 904ms\tremaining: 387ms\n",
      "14:\tlearn: 74250.2969551\ttest: 42740.5431568\tbest: 42740.5431568 (14)\ttotal: 955ms\tremaining: 318ms\n",
      "15:\tlearn: 73556.2446978\ttest: 42549.6678929\tbest: 42549.6678929 (15)\ttotal: 1s\tremaining: 251ms\n",
      "16:\tlearn: 71994.7892731\ttest: 42252.5261838\tbest: 42252.5261838 (16)\ttotal: 1.06s\tremaining: 186ms\n",
      "17:\tlearn: 70566.7543707\ttest: 42263.7178328\tbest: 42252.5261838 (16)\ttotal: 1.11s\tremaining: 123ms\n",
      "18:\tlearn: 69666.7148172\ttest: 42156.7480178\tbest: 42156.7480178 (18)\ttotal: 1.17s\tremaining: 61.6ms\n",
      "19:\tlearn: 69213.0745804\ttest: 42151.0223983\tbest: 42151.0223983 (19)\ttotal: 1.27s\tremaining: 0us\n",
      "\n",
      "bestTest = 42151.0224\n",
      "bestIteration = 19\n",
      "\n"
     ]
    },
    {
     "data": {
      "text/plain": [
       "<catboost.core.CatBoostRegressor at 0x19c6dde0d88>"
      ]
     },
     "execution_count": 17,
     "metadata": {},
     "output_type": "execute_result"
    }
   ],
   "source": [
    "cb_model_views = CatBoostRegressor(iterations=20,\n",
    "                                 learning_rate=0.1,\n",
    "                                 depth=4,\n",
    "                                 random_seed = CB_RANDOMSEED,\n",
    "                   #n_estimators=100,\n",
    "                                  )\n",
    "# Fit model\n",
    "cb_model_views.fit(train_ds_views,\n",
    "        #train_data, train_labels,\n",
    "                   eval_set=val_ds_views, \n",
    "                   #plot = True,\n",
    "                  )"
   ]
  },
  {
   "cell_type": "code",
   "execution_count": 18,
   "id": "b0c470be-2a85-4ddc-8523-19194d636b32",
   "metadata": {},
   "outputs": [
    {
     "data": {
      "text/plain": [
       "(0.5540945603335543, 0.33130127098182605)"
      ]
     },
     "execution_count": 18,
     "metadata": {},
     "output_type": "execute_result"
    }
   ],
   "source": [
    "# Get predictions and metrics\n",
    "preds_train_views = cb_model_views.predict(x_train[cat_cols + num_cols])\n",
    "preds_val_views   = cb_model_views.predict(val_ds_views)\n",
    "\n",
    "train_score_views = r2_score(y_train[\"views\"], preds_train_views)\n",
    "val_score_views   = r2_score(y_val[\"views\"],   preds_val_views)\n",
    "\n",
    "train_score_views, val_score_views"
   ]
  },
  {
   "cell_type": "raw",
   "id": "fbcef74b-d54b-4a08-ab5d-c4838a2ccb05",
   "metadata": {},
   "source": [
    "(0.5100195781796532, 0.5065575808145328) baseline"
   ]
  },
  {
   "cell_type": "code",
   "execution_count": null,
   "id": "40a5942c-9dbe-4dc8-952c-1a6af1618318",
   "metadata": {},
   "outputs": [],
   "source": []
  },
  {
   "cell_type": "code",
   "execution_count": 19,
   "id": "706be592-2cd3-4db9-9e9d-7b71af1277c0",
   "metadata": {},
   "outputs": [
    {
     "data": {
      "image/png": "[encoded data removed]",
      "text/plain": [
       "<Figure size 720x576 with 1 Axes>"
      ]
     },
     "metadata": {
      "needs_background": "light"
     },
     "output_type": "display_data"
    }
   ],
   "source": [
    "#plot_feature_importance(cb_model_views, train_ds_views, 30)\n",
    "plot_feature_importance(cb_model_views.get_feature_importance(), train_ds_views.get_feature_names(), 'CATBOOST')"
   ]
  },
  {
   "cell_type": "code",
   "execution_count": null,
   "id": "57d15d8a-e96a-436f-9908-bb3efc30c1f7",
   "metadata": {},
   "outputs": [],
   "source": []
  },
  {
   "cell_type": "markdown",
   "id": "a3cac29b-566d-4c8b-9cf7-9ef84a7261d2",
   "metadata": {},
   "source": [
    "## depth"
   ]
  },
  {
   "cell_type": "code",
   "execution_count": 20,
   "id": "e9948b36-a6f3-4bec-bbb2-402d5186ef4e",
   "metadata": {},
   "outputs": [
    {
     "name": "stdout",
     "output_type": "stream",
     "text": [
      "0:\tlearn: 0.0646009\ttest: 0.0583989\tbest: 0.0583989 (0)\ttotal: 3.35s\tremaining: 5m 31s\n",
      "1:\tlearn: 0.0630146\ttest: 0.0567958\tbest: 0.0567958 (1)\ttotal: 6.55s\tremaining: 5m 20s\n",
      "2:\tlearn: 0.0614599\ttest: 0.0552927\tbest: 0.0552927 (2)\ttotal: 9.88s\tremaining: 5m 19s\n",
      "3:\tlearn: 0.0600313\ttest: 0.0540194\tbest: 0.0540194 (3)\ttotal: 12.9s\tremaining: 5m 10s\n",
      "4:\tlearn: 0.0585662\ttest: 0.0526665\tbest: 0.0526665 (4)\ttotal: 16.4s\tremaining: 5m 12s\n",
      "5:\tlearn: 0.0572381\ttest: 0.0513844\tbest: 0.0513844 (5)\ttotal: 19.9s\tremaining: 5m 11s\n",
      "6:\tlearn: 0.0558646\ttest: 0.0501626\tbest: 0.0501626 (6)\ttotal: 22.9s\tremaining: 5m 4s\n",
      "7:\tlearn: 0.0546010\ttest: 0.0489445\tbest: 0.0489445 (7)\ttotal: 25.9s\tremaining: 4m 58s\n",
      "8:\tlearn: 0.0534925\ttest: 0.0479107\tbest: 0.0479107 (8)\ttotal: 29s\tremaining: 4m 52s\n",
      "9:\tlearn: 0.0524061\ttest: 0.0469445\tbest: 0.0469445 (9)\ttotal: 31.9s\tremaining: 4m 47s\n",
      "10:\tlearn: 0.0513083\ttest: 0.0460171\tbest: 0.0460171 (10)\ttotal: 35.1s\tremaining: 4m 44s\n",
      "11:\tlearn: 0.0503817\ttest: 0.0451388\tbest: 0.0451388 (11)\ttotal: 38.3s\tremaining: 4m 41s\n",
      "12:\tlearn: 0.0493758\ttest: 0.0444020\tbest: 0.0444020 (12)\ttotal: 41.4s\tremaining: 4m 36s\n",
      "13:\tlearn: 0.0484816\ttest: 0.0436320\tbest: 0.0436320 (13)\ttotal: 44.6s\tremaining: 4m 33s\n",
      "14:\tlearn: 0.0476296\ttest: 0.0428798\tbest: 0.0428798 (14)\ttotal: 47.6s\tremaining: 4m 29s\n",
      "15:\tlearn: 0.0467197\ttest: 0.0421619\tbest: 0.0421619 (15)\ttotal: 50.8s\tremaining: 4m 26s\n",
      "16:\tlearn: 0.0459027\ttest: 0.0415086\tbest: 0.0415086 (16)\ttotal: 53.8s\tremaining: 4m 22s\n",
      "17:\tlearn: 0.0451439\ttest: 0.0409369\tbest: 0.0409369 (17)\ttotal: 56.8s\tremaining: 4m 18s\n",
      "18:\tlearn: 0.0443670\ttest: 0.0404044\tbest: 0.0404044 (18)\ttotal: 1m\tremaining: 4m 16s\n",
      "19:\tlearn: 0.0436766\ttest: 0.0398522\tbest: 0.0398522 (19)\ttotal: 1m 3s\tremaining: 4m 13s\n",
      "20:\tlearn: 0.0430272\ttest: 0.0393963\tbest: 0.0393963 (20)\ttotal: 1m 6s\tremaining: 4m 11s\n",
      "21:\tlearn: 0.0423756\ttest: 0.0389050\tbest: 0.0389050 (21)\ttotal: 1m 9s\tremaining: 4m 7s\n",
      "22:\tlearn: 0.0417773\ttest: 0.0385198\tbest: 0.0385198 (22)\ttotal: 1m 13s\tremaining: 4m 4s\n",
      "23:\tlearn: 0.0411691\ttest: 0.0380959\tbest: 0.0380959 (23)\ttotal: 1m 16s\tremaining: 4m 1s\n",
      "24:\tlearn: 0.0406303\ttest: 0.0377206\tbest: 0.0377206 (24)\ttotal: 1m 19s\tremaining: 3m 57s\n",
      "25:\tlearn: 0.0401009\ttest: 0.0374155\tbest: 0.0374155 (25)\ttotal: 1m 22s\tremaining: 3m 54s\n",
      "26:\tlearn: 0.0396063\ttest: 0.0370791\tbest: 0.0370791 (26)\ttotal: 1m 25s\tremaining: 3m 51s\n",
      "27:\tlearn: 0.0391187\ttest: 0.0367727\tbest: 0.0367727 (27)\ttotal: 1m 28s\tremaining: 3m 48s\n",
      "28:\tlearn: 0.0386651\ttest: 0.0365488\tbest: 0.0365488 (28)\ttotal: 1m 31s\tremaining: 3m 45s\n",
      "29:\tlearn: 0.0382790\ttest: 0.0361845\tbest: 0.0361845 (29)\ttotal: 1m 35s\tremaining: 3m 42s\n",
      "30:\tlearn: 0.0378681\ttest: 0.0359020\tbest: 0.0359020 (30)\ttotal: 1m 38s\tremaining: 3m 39s\n",
      "31:\tlearn: 0.0374911\ttest: 0.0357086\tbest: 0.0357086 (31)\ttotal: 1m 41s\tremaining: 3m 35s\n",
      "32:\tlearn: 0.0370809\ttest: 0.0354232\tbest: 0.0354232 (32)\ttotal: 1m 44s\tremaining: 3m 32s\n",
      "33:\tlearn: 0.0366421\ttest: 0.0352100\tbest: 0.0352100 (33)\ttotal: 1m 48s\tremaining: 3m 30s\n",
      "34:\tlearn: 0.0362475\ttest: 0.0349615\tbest: 0.0349615 (34)\ttotal: 1m 52s\tremaining: 3m 28s\n",
      "35:\tlearn: 0.0359276\ttest: 0.0347964\tbest: 0.0347964 (35)\ttotal: 1m 55s\tremaining: 3m 25s\n",
      "36:\tlearn: 0.0355527\ttest: 0.0346344\tbest: 0.0346344 (36)\ttotal: 1m 58s\tremaining: 3m 21s\n",
      "37:\tlearn: 0.0351773\ttest: 0.0344876\tbest: 0.0344876 (37)\ttotal: 2m 1s\tremaining: 3m 18s\n",
      "38:\tlearn: 0.0348317\ttest: 0.0342668\tbest: 0.0342668 (38)\ttotal: 2m 5s\tremaining: 3m 15s\n",
      "39:\tlearn: 0.0345333\ttest: 0.0341328\tbest: 0.0341328 (39)\ttotal: 2m 8s\tremaining: 3m 12s\n",
      "40:\tlearn: 0.0341976\ttest: 0.0340068\tbest: 0.0340068 (40)\ttotal: 2m 11s\tremaining: 3m 9s\n",
      "41:\tlearn: 0.0339499\ttest: 0.0338719\tbest: 0.0338719 (41)\ttotal: 2m 14s\tremaining: 3m 5s\n",
      "42:\tlearn: 0.0336095\ttest: 0.0337590\tbest: 0.0337590 (42)\ttotal: 2m 17s\tremaining: 3m 2s\n",
      "43:\tlearn: 0.0333328\ttest: 0.0335811\tbest: 0.0335811 (43)\ttotal: 2m 21s\tremaining: 2m 59s\n",
      "44:\tlearn: 0.0330221\ttest: 0.0334848\tbest: 0.0334848 (44)\ttotal: 2m 24s\tremaining: 2m 56s\n",
      "45:\tlearn: 0.0327499\ttest: 0.0333954\tbest: 0.0333954 (45)\ttotal: 2m 27s\tremaining: 2m 53s\n",
      "46:\tlearn: 0.0325126\ttest: 0.0333211\tbest: 0.0333211 (46)\ttotal: 2m 31s\tremaining: 2m 50s\n",
      "47:\tlearn: 0.0322529\ttest: 0.0332556\tbest: 0.0332556 (47)\ttotal: 2m 34s\tremaining: 2m 47s\n",
      "48:\tlearn: 0.0320263\ttest: 0.0331764\tbest: 0.0331764 (48)\ttotal: 2m 38s\tremaining: 2m 44s\n",
      "49:\tlearn: 0.0318011\ttest: 0.0330715\tbest: 0.0330715 (49)\ttotal: 2m 41s\tremaining: 2m 41s\n",
      "50:\tlearn: 0.0315994\ttest: 0.0329742\tbest: 0.0329742 (50)\ttotal: 2m 44s\tremaining: 2m 37s\n",
      "51:\tlearn: 0.0313642\ttest: 0.0329045\tbest: 0.0329045 (51)\ttotal: 2m 47s\tremaining: 2m 34s\n",
      "52:\tlearn: 0.0311338\ttest: 0.0328456\tbest: 0.0328456 (52)\ttotal: 2m 50s\tremaining: 2m 31s\n",
      "53:\tlearn: 0.0309376\ttest: 0.0327845\tbest: 0.0327845 (53)\ttotal: 2m 53s\tremaining: 2m 27s\n",
      "54:\tlearn: 0.0307450\ttest: 0.0326809\tbest: 0.0326809 (54)\ttotal: 2m 56s\tremaining: 2m 24s\n",
      "55:\tlearn: 0.0305348\ttest: 0.0326333\tbest: 0.0326333 (55)\ttotal: 2m 59s\tremaining: 2m 21s\n",
      "56:\tlearn: 0.0303230\ttest: 0.0325804\tbest: 0.0325804 (56)\ttotal: 3m 2s\tremaining: 2m 17s\n",
      "57:\tlearn: 0.0301225\ttest: 0.0324927\tbest: 0.0324927 (57)\ttotal: 3m 6s\tremaining: 2m 14s\n",
      "58:\tlearn: 0.0299407\ttest: 0.0324528\tbest: 0.0324528 (58)\ttotal: 3m 9s\tremaining: 2m 11s\n",
      "59:\tlearn: 0.0297539\ttest: 0.0324015\tbest: 0.0324015 (59)\ttotal: 3m 12s\tremaining: 2m 8s\n",
      "60:\tlearn: 0.0296019\ttest: 0.0323514\tbest: 0.0323514 (60)\ttotal: 3m 15s\tremaining: 2m 5s\n",
      "61:\tlearn: 0.0294482\ttest: 0.0323395\tbest: 0.0323395 (61)\ttotal: 3m 19s\tremaining: 2m 2s\n",
      "62:\tlearn: 0.0293087\ttest: 0.0322773\tbest: 0.0322773 (62)\ttotal: 3m 22s\tremaining: 1m 58s\n",
      "63:\tlearn: 0.0291211\ttest: 0.0322054\tbest: 0.0322054 (63)\ttotal: 3m 25s\tremaining: 1m 55s\n",
      "64:\tlearn: 0.0289751\ttest: 0.0321411\tbest: 0.0321411 (64)\ttotal: 3m 28s\tremaining: 1m 52s\n",
      "65:\tlearn: 0.0288373\ttest: 0.0321222\tbest: 0.0321222 (65)\ttotal: 3m 31s\tremaining: 1m 49s\n",
      "66:\tlearn: 0.0287081\ttest: 0.0321018\tbest: 0.0321018 (66)\ttotal: 3m 35s\tremaining: 1m 45s\n",
      "67:\tlearn: 0.0285851\ttest: 0.0320766\tbest: 0.0320766 (67)\ttotal: 3m 38s\tremaining: 1m 42s\n",
      "68:\tlearn: 0.0284569\ttest: 0.0320384\tbest: 0.0320384 (68)\ttotal: 3m 41s\tremaining: 1m 39s\n",
      "69:\tlearn: 0.0283442\ttest: 0.0320146\tbest: 0.0320146 (69)\ttotal: 3m 44s\tremaining: 1m 36s\n",
      "70:\tlearn: 0.0282304\ttest: 0.0319963\tbest: 0.0319963 (70)\ttotal: 3m 47s\tremaining: 1m 32s\n",
      "71:\tlearn: 0.0281141\ttest: 0.0319572\tbest: 0.0319572 (71)\ttotal: 3m 50s\tremaining: 1m 29s\n",
      "72:\tlearn: 0.0279930\ttest: 0.0319325\tbest: 0.0319325 (72)\ttotal: 3m 53s\tremaining: 1m 26s\n",
      "73:\tlearn: 0.0278690\ttest: 0.0319203\tbest: 0.0319203 (73)\ttotal: 3m 56s\tremaining: 1m 23s\n",
      "74:\tlearn: 0.0277941\ttest: 0.0318965\tbest: 0.0318965 (74)\ttotal: 3m 59s\tremaining: 1m 19s\n",
      "75:\tlearn: 0.0276620\ttest: 0.0318755\tbest: 0.0318755 (75)\ttotal: 4m 3s\tremaining: 1m 16s\n",
      "76:\tlearn: 0.0275266\ttest: 0.0318246\tbest: 0.0318246 (76)\ttotal: 4m 6s\tremaining: 1m 13s\n",
      "77:\tlearn: 0.0274683\ttest: 0.0318274\tbest: 0.0318246 (76)\ttotal: 4m 9s\tremaining: 1m 10s\n",
      "78:\tlearn: 0.0272934\ttest: 0.0318080\tbest: 0.0318080 (78)\ttotal: 4m 12s\tremaining: 1m 7s\n",
      "79:\tlearn: 0.0272310\ttest: 0.0318002\tbest: 0.0318002 (79)\ttotal: 4m 15s\tremaining: 1m 3s\n",
      "80:\tlearn: 0.0271288\ttest: 0.0317666\tbest: 0.0317666 (80)\ttotal: 4m 18s\tremaining: 1m\n",
      "81:\tlearn: 0.0270170\ttest: 0.0317322\tbest: 0.0317322 (81)\ttotal: 4m 21s\tremaining: 57.4s\n",
      "82:\tlearn: 0.0269083\ttest: 0.0316956\tbest: 0.0316956 (82)\ttotal: 4m 24s\tremaining: 54.1s\n",
      "83:\tlearn: 0.0267800\ttest: 0.0316584\tbest: 0.0316584 (83)\ttotal: 4m 27s\tremaining: 50.9s\n",
      "84:\tlearn: 0.0266908\ttest: 0.0316236\tbest: 0.0316236 (84)\ttotal: 4m 30s\tremaining: 47.7s\n",
      "85:\tlearn: 0.0266361\ttest: 0.0316094\tbest: 0.0316094 (85)\ttotal: 4m 33s\tremaining: 44.5s\n",
      "86:\tlearn: 0.0264925\ttest: 0.0315511\tbest: 0.0315511 (86)\ttotal: 4m 36s\tremaining: 41.3s\n",
      "87:\tlearn: 0.0264064\ttest: 0.0315439\tbest: 0.0315439 (87)\ttotal: 4m 39s\tremaining: 38.1s\n",
      "88:\tlearn: 0.0263412\ttest: 0.0315300\tbest: 0.0315300 (88)\ttotal: 4m 42s\tremaining: 34.9s\n",
      "89:\tlearn: 0.0263074\ttest: 0.0315238\tbest: 0.0315238 (89)\ttotal: 4m 45s\tremaining: 31.7s\n",
      "90:\tlearn: 0.0262564\ttest: 0.0315187\tbest: 0.0315187 (90)\ttotal: 4m 48s\tremaining: 28.5s\n",
      "91:\tlearn: 0.0261828\ttest: 0.0315024\tbest: 0.0315024 (91)\ttotal: 4m 51s\tremaining: 25.3s\n",
      "92:\tlearn: 0.0260817\ttest: 0.0314648\tbest: 0.0314648 (92)\ttotal: 4m 54s\tremaining: 22.2s\n",
      "93:\tlearn: 0.0259410\ttest: 0.0314266\tbest: 0.0314266 (93)\ttotal: 4m 57s\tremaining: 19s\n",
      "94:\tlearn: 0.0258634\ttest: 0.0314119\tbest: 0.0314119 (94)\ttotal: 5m\tremaining: 15.8s\n",
      "95:\tlearn: 0.0257480\ttest: 0.0313621\tbest: 0.0313621 (95)\ttotal: 5m 3s\tremaining: 12.7s\n",
      "96:\tlearn: 0.0256636\ttest: 0.0313576\tbest: 0.0313576 (96)\ttotal: 5m 6s\tremaining: 9.49s\n",
      "97:\tlearn: 0.0255808\ttest: 0.0313398\tbest: 0.0313398 (97)\ttotal: 5m 10s\tremaining: 6.33s\n",
      "98:\tlearn: 0.0255037\ttest: 0.0313302\tbest: 0.0313302 (98)\ttotal: 5m 14s\tremaining: 3.17s\n",
      "99:\tlearn: 0.0254122\ttest: 0.0312960\tbest: 0.0312960 (99)\ttotal: 5m 17s\tremaining: 0us\n",
      "\n",
      "bestTest = 0.03129603099\n",
      "bestIteration = 99\n",
      "\n"
     ]
    },
    {
     "data": {
      "text/plain": [
       "<catboost.core.CatBoostRegressor at 0x19c5cdeaac8>"
      ]
     },
     "execution_count": 20,
     "metadata": {},
     "output_type": "execute_result"
    }
   ],
   "source": [
    "cb_model_depth = CatBoostRegressor(#iterations=1000,\n",
    "                                 learning_rate=0.05,\n",
    "                                 depth=10,\n",
    "                                 random_seed = CB_RANDOMSEED,\n",
    "                   n_estimators=100,\n",
    "                                  )\n",
    "# Fit model\n",
    "cb_model_depth.fit(train_ds_depth,\n",
    "                   eval_set=val_ds_depth, \n",
    "                   #plot = True,\n",
    "                  )"
   ]
  },
  {
   "cell_type": "code",
   "execution_count": 21,
   "id": "2596cde2-acc0-4f27-8ab9-6658e7cba842",
   "metadata": {},
   "outputs": [
    {
     "data": {
      "text/plain": [
       "(0.8528653999306899, 0.7262589281971181)"
      ]
     },
     "execution_count": 21,
     "metadata": {},
     "output_type": "execute_result"
    }
   ],
   "source": [
    "# Get predictions and metrics\n",
    "preds_train_depth = cb_model_depth.predict(x_train[cat_cols + num_cols])\n",
    "preds_val_depth   = cb_model_depth.predict(val_ds_depth)\n",
    "\n",
    "train_score_depth = r2_score(y_train[\"depth\"], preds_train_depth)\n",
    "val_score_depth   = r2_score(y_val[\"depth\"],   preds_val_depth)\n",
    "\n",
    "train_score_depth, val_score_depth"
   ]
  },
  {
   "cell_type": "raw",
   "id": "42b4b5db-a639-4829-9350-0c78a2bb037b",
   "metadata": {},
   "source": [
    "(0.8528653999306899, 0.7262589281971181) emb + lags"
   ]
  },
  {
   "cell_type": "code",
   "execution_count": null,
   "id": "bf7b2ffd-0f51-492c-ad5c-cd0e859050d8",
   "metadata": {},
   "outputs": [],
   "source": []
  },
  {
   "cell_type": "code",
   "execution_count": 22,
   "id": "a37608db-f13d-45fc-9f3f-dd430a6f0839",
   "metadata": {},
   "outputs": [
    {
     "data": {
      "image/png": "[encoded data removed]",
      "text/plain": [
       "<Figure size 720x576 with 1 Axes>"
      ]
     },
     "metadata": {
      "needs_background": "light"
     },
     "output_type": "display_data"
    }
   ],
   "source": [
    "#plot_feature_importance(cb_model_views, train_ds_views, 30)\n",
    "plot_feature_importance(cb_model_depth.get_feature_importance(), train_ds_depth.get_feature_names(), 'CATBOOST')"
   ]
  },
  {
   "cell_type": "code",
   "execution_count": null,
   "id": "5eaabd43-32cd-42df-9c8f-a88c7c8cfe3c",
   "metadata": {},
   "outputs": [],
   "source": []
  },
  {
   "cell_type": "markdown",
   "id": "fafdf6ea-9687-472f-ab6e-86125f5dc7eb",
   "metadata": {},
   "source": [
    "## full_reads_percent"
   ]
  },
  {
   "cell_type": "code",
   "execution_count": 23,
   "id": "7745c438-06e9-477e-ac52-37017039f9c4",
   "metadata": {},
   "outputs": [
    {
     "name": "stdout",
     "output_type": "stream",
     "text": [
      "0:\tlearn: 10.0481067\ttest: 10.1402608\tbest: 10.1402608 (0)\ttotal: 3.26s\tremaining: 5m 23s\n",
      "1:\tlearn: 9.9254738\ttest: 10.0404483\tbest: 10.0404483 (1)\ttotal: 6.38s\tremaining: 5m 12s\n",
      "2:\tlearn: 9.8181263\ttest: 9.9508463\tbest: 9.9508463 (2)\ttotal: 9.48s\tremaining: 5m 6s\n",
      "3:\tlearn: 9.7165217\ttest: 9.8594756\tbest: 9.8594756 (3)\ttotal: 12.9s\tremaining: 5m 9s\n",
      "4:\tlearn: 9.6121735\ttest: 9.7729190\tbest: 9.7729190 (4)\ttotal: 16.3s\tremaining: 5m 10s\n",
      "5:\tlearn: 9.5244095\ttest: 9.7006915\tbest: 9.7006915 (5)\ttotal: 19.6s\tremaining: 5m 7s\n",
      "6:\tlearn: 9.4310562\ttest: 9.6366480\tbest: 9.6366480 (6)\ttotal: 22.9s\tremaining: 5m 4s\n",
      "7:\tlearn: 9.3421128\ttest: 9.5704519\tbest: 9.5704519 (7)\ttotal: 26.3s\tremaining: 5m 2s\n",
      "8:\tlearn: 9.2598212\ttest: 9.5100742\tbest: 9.5100742 (8)\ttotal: 30.3s\tremaining: 5m 6s\n",
      "9:\tlearn: 9.1786191\ttest: 9.4565214\tbest: 9.4565214 (9)\ttotal: 34.1s\tremaining: 5m 6s\n",
      "10:\tlearn: 9.0965591\ttest: 9.4006810\tbest: 9.4006810 (10)\ttotal: 37.5s\tremaining: 5m 3s\n",
      "11:\tlearn: 9.0162247\ttest: 9.3590341\tbest: 9.3590341 (11)\ttotal: 40.7s\tremaining: 4m 58s\n",
      "12:\tlearn: 8.9395090\ttest: 9.3135752\tbest: 9.3135752 (12)\ttotal: 44s\tremaining: 4m 54s\n",
      "13:\tlearn: 8.8678249\ttest: 9.2777098\tbest: 9.2777098 (13)\ttotal: 47.4s\tremaining: 4m 51s\n",
      "14:\tlearn: 8.8013037\ttest: 9.2295217\tbest: 9.2295217 (14)\ttotal: 51s\tremaining: 4m 49s\n",
      "15:\tlearn: 8.7319695\ttest: 9.1841573\tbest: 9.1841573 (15)\ttotal: 54.6s\tremaining: 4m 46s\n",
      "16:\tlearn: 8.6616951\ttest: 9.1388588\tbest: 9.1388588 (16)\ttotal: 57.9s\tremaining: 4m 42s\n",
      "17:\tlearn: 8.5958660\ttest: 9.1089202\tbest: 9.1089202 (17)\ttotal: 1m 1s\tremaining: 4m 39s\n",
      "18:\tlearn: 8.5302871\ttest: 9.0793215\tbest: 9.0793215 (18)\ttotal: 1m 5s\tremaining: 4m 38s\n",
      "19:\tlearn: 8.4655186\ttest: 9.0529851\tbest: 9.0529851 (19)\ttotal: 1m 8s\tremaining: 4m 34s\n",
      "20:\tlearn: 8.4121427\ttest: 9.0266743\tbest: 9.0266743 (20)\ttotal: 1m 12s\tremaining: 4m 30s\n",
      "21:\tlearn: 8.3628220\ttest: 8.9905223\tbest: 8.9905223 (21)\ttotal: 1m 15s\tremaining: 4m 26s\n",
      "22:\tlearn: 8.3036945\ttest: 8.9646811\tbest: 8.9646811 (22)\ttotal: 1m 18s\tremaining: 4m 22s\n",
      "23:\tlearn: 8.2569975\ttest: 8.9389940\tbest: 8.9389940 (23)\ttotal: 1m 21s\tremaining: 4m 19s\n",
      "24:\tlearn: 8.2028964\ttest: 8.9217360\tbest: 8.9217360 (24)\ttotal: 1m 25s\tremaining: 4m 15s\n",
      "25:\tlearn: 8.1529673\ttest: 8.8979667\tbest: 8.8979667 (25)\ttotal: 1m 28s\tremaining: 4m 12s\n",
      "26:\tlearn: 8.0994078\ttest: 8.8814250\tbest: 8.8814250 (26)\ttotal: 1m 32s\tremaining: 4m 10s\n",
      "27:\tlearn: 8.0500086\ttest: 8.8584588\tbest: 8.8584588 (27)\ttotal: 1m 36s\tremaining: 4m 8s\n",
      "28:\tlearn: 7.9931591\ttest: 8.8363767\tbest: 8.8363767 (28)\ttotal: 1m 40s\tremaining: 4m 5s\n",
      "29:\tlearn: 7.9442242\ttest: 8.8109626\tbest: 8.8109626 (29)\ttotal: 1m 43s\tremaining: 4m 2s\n",
      "30:\tlearn: 7.9004166\ttest: 8.7949592\tbest: 8.7949592 (30)\ttotal: 1m 47s\tremaining: 3m 58s\n",
      "31:\tlearn: 7.8473502\ttest: 8.7812242\tbest: 8.7812242 (31)\ttotal: 1m 51s\tremaining: 3m 56s\n",
      "32:\tlearn: 7.8032385\ttest: 8.7617237\tbest: 8.7617237 (32)\ttotal: 1m 55s\tremaining: 3m 53s\n",
      "33:\tlearn: 7.7631044\ttest: 8.7461810\tbest: 8.7461810 (33)\ttotal: 1m 58s\tremaining: 3m 49s\n",
      "34:\tlearn: 7.7135483\ttest: 8.7291060\tbest: 8.7291060 (34)\ttotal: 2m 1s\tremaining: 3m 46s\n",
      "35:\tlearn: 7.6772524\ttest: 8.7204553\tbest: 8.7204553 (35)\ttotal: 2m 5s\tremaining: 3m 42s\n",
      "36:\tlearn: 7.6422008\ttest: 8.7110066\tbest: 8.7110066 (36)\ttotal: 2m 8s\tremaining: 3m 38s\n",
      "37:\tlearn: 7.6003457\ttest: 8.6929198\tbest: 8.6929198 (37)\ttotal: 2m 11s\tremaining: 3m 34s\n",
      "38:\tlearn: 7.5623256\ttest: 8.6728645\tbest: 8.6728645 (38)\ttotal: 2m 14s\tremaining: 3m 30s\n",
      "39:\tlearn: 7.5161812\ttest: 8.6555839\tbest: 8.6555839 (39)\ttotal: 2m 18s\tremaining: 3m 27s\n",
      "40:\tlearn: 7.4763088\ttest: 8.6487024\tbest: 8.6487024 (40)\ttotal: 2m 21s\tremaining: 3m 23s\n",
      "41:\tlearn: 7.4378313\ttest: 8.6382520\tbest: 8.6382520 (41)\ttotal: 2m 24s\tremaining: 3m 19s\n",
      "42:\tlearn: 7.4065077\ttest: 8.6257046\tbest: 8.6257046 (42)\ttotal: 2m 27s\tremaining: 3m 15s\n",
      "43:\tlearn: 7.3689346\ttest: 8.6133582\tbest: 8.6133582 (43)\ttotal: 2m 30s\tremaining: 3m 12s\n",
      "44:\tlearn: 7.3289281\ttest: 8.6033795\tbest: 8.6033795 (44)\ttotal: 2m 34s\tremaining: 3m 9s\n",
      "45:\tlearn: 7.2988293\ttest: 8.5928790\tbest: 8.5928790 (45)\ttotal: 2m 38s\tremaining: 3m 5s\n",
      "46:\tlearn: 7.2660441\ttest: 8.5820072\tbest: 8.5820072 (46)\ttotal: 2m 41s\tremaining: 3m 2s\n",
      "47:\tlearn: 7.2312509\ttest: 8.5715376\tbest: 8.5715376 (47)\ttotal: 2m 44s\tremaining: 2m 58s\n",
      "48:\tlearn: 7.2003270\ttest: 8.5625988\tbest: 8.5625988 (48)\ttotal: 2m 47s\tremaining: 2m 54s\n",
      "49:\tlearn: 7.1634615\ttest: 8.5578840\tbest: 8.5578840 (49)\ttotal: 2m 50s\tremaining: 2m 50s\n",
      "50:\tlearn: 7.1285749\ttest: 8.5524533\tbest: 8.5524533 (50)\ttotal: 2m 54s\tremaining: 2m 47s\n",
      "51:\tlearn: 7.0870930\ttest: 8.5431557\tbest: 8.5431557 (51)\ttotal: 2m 57s\tremaining: 2m 43s\n",
      "52:\tlearn: 7.0530096\ttest: 8.5316361\tbest: 8.5316361 (52)\ttotal: 3m\tremaining: 2m 40s\n",
      "53:\tlearn: 7.0281915\ttest: 8.5242661\tbest: 8.5242661 (53)\ttotal: 3m 4s\tremaining: 2m 37s\n",
      "54:\tlearn: 6.9938171\ttest: 8.5190183\tbest: 8.5190183 (54)\ttotal: 3m 7s\tremaining: 2m 33s\n",
      "55:\tlearn: 6.9677881\ttest: 8.5094910\tbest: 8.5094910 (55)\ttotal: 3m 10s\tremaining: 2m 29s\n",
      "56:\tlearn: 6.9363742\ttest: 8.4996626\tbest: 8.4996626 (56)\ttotal: 3m 14s\tremaining: 2m 26s\n",
      "57:\tlearn: 6.9103066\ttest: 8.4901474\tbest: 8.4901474 (57)\ttotal: 3m 17s\tremaining: 2m 22s\n",
      "58:\tlearn: 6.8814902\ttest: 8.4850063\tbest: 8.4850063 (58)\ttotal: 3m 20s\tremaining: 2m 19s\n",
      "59:\tlearn: 6.8543980\ttest: 8.4774009\tbest: 8.4774009 (59)\ttotal: 3m 24s\tremaining: 2m 16s\n",
      "60:\tlearn: 6.8287339\ttest: 8.4720945\tbest: 8.4720945 (60)\ttotal: 3m 27s\tremaining: 2m 12s\n",
      "61:\tlearn: 6.7936643\ttest: 8.4680458\tbest: 8.4680458 (61)\ttotal: 3m 30s\tremaining: 2m 8s\n",
      "62:\tlearn: 6.7618893\ttest: 8.4635658\tbest: 8.4635658 (62)\ttotal: 3m 33s\tremaining: 2m 5s\n",
      "63:\tlearn: 6.7415695\ttest: 8.4599720\tbest: 8.4599720 (63)\ttotal: 3m 36s\tremaining: 2m 1s\n",
      "64:\tlearn: 6.7173255\ttest: 8.4531722\tbest: 8.4531722 (64)\ttotal: 3m 39s\tremaining: 1m 58s\n",
      "65:\tlearn: 6.6913687\ttest: 8.4441992\tbest: 8.4441992 (65)\ttotal: 3m 43s\tremaining: 1m 54s\n",
      "66:\tlearn: 6.6545911\ttest: 8.4326526\tbest: 8.4326526 (66)\ttotal: 3m 46s\tremaining: 1m 51s\n",
      "67:\tlearn: 6.6317448\ttest: 8.4248814\tbest: 8.4248814 (67)\ttotal: 3m 49s\tremaining: 1m 48s\n",
      "68:\tlearn: 6.6094094\ttest: 8.4181187\tbest: 8.4181187 (68)\ttotal: 3m 52s\tremaining: 1m 44s\n",
      "69:\tlearn: 6.5848460\ttest: 8.4091864\tbest: 8.4091864 (69)\ttotal: 3m 55s\tremaining: 1m 41s\n",
      "70:\tlearn: 6.5606248\ttest: 8.4073582\tbest: 8.4073582 (70)\ttotal: 3m 58s\tremaining: 1m 37s\n",
      "71:\tlearn: 6.5329310\ttest: 8.4014980\tbest: 8.4014980 (71)\ttotal: 4m 2s\tremaining: 1m 34s\n",
      "72:\tlearn: 6.5147732\ttest: 8.3982166\tbest: 8.3982166 (72)\ttotal: 4m 5s\tremaining: 1m 30s\n",
      "73:\tlearn: 6.4884412\ttest: 8.3933025\tbest: 8.3933025 (73)\ttotal: 4m 8s\tremaining: 1m 27s\n",
      "74:\tlearn: 6.4591058\ttest: 8.3877608\tbest: 8.3877608 (74)\ttotal: 4m 11s\tremaining: 1m 23s\n",
      "75:\tlearn: 6.4308835\ttest: 8.3829795\tbest: 8.3829795 (75)\ttotal: 4m 15s\tremaining: 1m 20s\n",
      "76:\tlearn: 6.4048291\ttest: 8.3779392\tbest: 8.3779392 (76)\ttotal: 4m 18s\tremaining: 1m 17s\n",
      "77:\tlearn: 6.3763767\ttest: 8.3728530\tbest: 8.3728530 (77)\ttotal: 4m 21s\tremaining: 1m 13s\n",
      "78:\tlearn: 6.3541972\ttest: 8.3681971\tbest: 8.3681971 (78)\ttotal: 4m 24s\tremaining: 1m 10s\n",
      "79:\tlearn: 6.3304983\ttest: 8.3648398\tbest: 8.3648398 (79)\ttotal: 4m 27s\tremaining: 1m 6s\n",
      "80:\tlearn: 6.3062522\ttest: 8.3627247\tbest: 8.3627247 (80)\ttotal: 4m 30s\tremaining: 1m 3s\n",
      "81:\tlearn: 6.2892899\ttest: 8.3598729\tbest: 8.3598729 (81)\ttotal: 4m 34s\tremaining: 1m\n",
      "82:\tlearn: 6.2666190\ttest: 8.3547249\tbest: 8.3547249 (82)\ttotal: 4m 37s\tremaining: 56.8s\n",
      "83:\tlearn: 6.2438021\ttest: 8.3520390\tbest: 8.3520390 (83)\ttotal: 4m 40s\tremaining: 53.4s\n",
      "84:\tlearn: 6.2282317\ttest: 8.3506208\tbest: 8.3506208 (84)\ttotal: 4m 43s\tremaining: 50.1s\n",
      "85:\tlearn: 6.1984962\ttest: 8.3454691\tbest: 8.3454691 (85)\ttotal: 4m 47s\tremaining: 46.7s\n",
      "86:\tlearn: 6.1796741\ttest: 8.3403935\tbest: 8.3403935 (86)\ttotal: 4m 50s\tremaining: 43.3s\n",
      "87:\tlearn: 6.1611534\ttest: 8.3387394\tbest: 8.3387394 (87)\ttotal: 4m 53s\tremaining: 40s\n",
      "88:\tlearn: 6.1389736\ttest: 8.3363172\tbest: 8.3363172 (88)\ttotal: 4m 56s\tremaining: 36.6s\n",
      "89:\tlearn: 6.1163416\ttest: 8.3335593\tbest: 8.3335593 (89)\ttotal: 4m 59s\tremaining: 33.3s\n",
      "90:\tlearn: 6.0965509\ttest: 8.3302322\tbest: 8.3302322 (90)\ttotal: 5m 2s\tremaining: 29.9s\n",
      "91:\tlearn: 6.0774815\ttest: 8.3274630\tbest: 8.3274630 (91)\ttotal: 5m 6s\tremaining: 26.6s\n",
      "92:\tlearn: 6.0594670\ttest: 8.3220266\tbest: 8.3220266 (92)\ttotal: 5m 9s\tremaining: 23.3s\n",
      "93:\tlearn: 6.0323753\ttest: 8.3159594\tbest: 8.3159594 (93)\ttotal: 5m 13s\tremaining: 20s\n",
      "94:\tlearn: 6.0082832\ttest: 8.3127916\tbest: 8.3127916 (94)\ttotal: 5m 16s\tremaining: 16.6s\n",
      "95:\tlearn: 5.9865965\ttest: 8.3103788\tbest: 8.3103788 (95)\ttotal: 5m 19s\tremaining: 13.3s\n",
      "96:\tlearn: 5.9618639\ttest: 8.3077213\tbest: 8.3077213 (96)\ttotal: 5m 22s\tremaining: 9.98s\n",
      "97:\tlearn: 5.9455786\ttest: 8.3032417\tbest: 8.3032417 (97)\ttotal: 5m 25s\tremaining: 6.65s\n",
      "98:\tlearn: 5.9174463\ttest: 8.2985743\tbest: 8.2985743 (98)\ttotal: 5m 28s\tremaining: 3.32s\n",
      "99:\tlearn: 5.8969734\ttest: 8.2970755\tbest: 8.2970755 (99)\ttotal: 5m 32s\tremaining: 0us\n",
      "\n",
      "bestTest = 8.297075491\n",
      "bestIteration = 99\n",
      "\n"
     ]
    },
    {
     "data": {
      "text/plain": [
       "<catboost.core.CatBoostRegressor at 0x19c6e944c88>"
      ]
     },
     "execution_count": 23,
     "metadata": {},
     "output_type": "execute_result"
    }
   ],
   "source": [
    "cb_model_frp = CatBoostRegressor(#iterations=1000,\n",
    "                                 learning_rate=0.05,\n",
    "                                 depth=10,\n",
    "                                 random_seed = CB_RANDOMSEED,\n",
    "                   n_estimators=100,\n",
    "                                 #n_estimators=100,\n",
    "    #num_trees=None,\n",
    "                                )\n",
    "# Fit model\n",
    "cb_model_frp.fit(train_ds_frp,\n",
    "                   eval_set=val_ds_frp, \n",
    "                   #plot = True,\n",
    "                  )"
   ]
  },
  {
   "cell_type": "code",
   "execution_count": 24,
   "id": "ce2f5cf1-5605-4e75-99dd-8c23248ff512",
   "metadata": {},
   "outputs": [
    {
     "data": {
      "text/plain": [
       "(0.6631276724054295, 0.34064497648434666)"
      ]
     },
     "execution_count": 24,
     "metadata": {},
     "output_type": "execute_result"
    }
   ],
   "source": [
    "# Get predictions and metrics\n",
    "preds_train_frp = cb_model_frp.predict(x_train[cat_cols + num_cols])\n",
    "preds_val_frp   = cb_model_frp.predict(val_ds_frp)\n",
    "\n",
    "train_score_frp = r2_score(y_train[\"full_reads_percent\"], preds_train_frp)\n",
    "val_score_frp   = r2_score(y_val[\"full_reads_percent\"],   preds_val_frp)\n",
    "\n",
    "train_score_frp, val_score_frp"
   ]
  },
  {
   "cell_type": "raw",
   "id": "cec2f6b6-9782-4b5c-838c-66df8bfc72e5",
   "metadata": {},
   "source": [
    "(0.6631276724054295, 0.34064497648434666) emb + lags"
   ]
  },
  {
   "cell_type": "code",
   "execution_count": null,
   "id": "c6b000b9-9f71-4f8d-bb73-d58b91330eca",
   "metadata": {},
   "outputs": [],
   "source": []
  },
  {
   "cell_type": "code",
   "execution_count": 25,
   "id": "0921f52a-f376-4e01-bf22-958db46977c7",
   "metadata": {},
   "outputs": [
    {
     "data": {
      "image/png": "[encoded data removed]",
      "text/plain": [
       "<Figure size 720x576 with 1 Axes>"
      ]
     },
     "metadata": {
      "needs_background": "light"
     },
     "output_type": "display_data"
    }
   ],
   "source": [
    "#plot_feature_importance(cb_model_views, train_ds_views, 30)\n",
    "plot_feature_importance(cb_model_frp.get_feature_importance(), train_ds_frp.get_feature_names(), 'CATBOOST')"
   ]
  },
  {
   "cell_type": "code",
   "execution_count": null,
   "id": "be50fe97-02cb-48bb-beb5-c100041aa1f0",
   "metadata": {},
   "outputs": [],
   "source": []
  },
  {
   "cell_type": "code",
   "execution_count": 26,
   "id": "304d2314-a21f-4bb0-bd61-9fa94711f9f1",
   "metadata": {},
   "outputs": [
    {
     "data": {
      "text/plain": [
       "(0.6764357458342576, 0.45259167979716985)"
      ]
     },
     "execution_count": 26,
     "metadata": {},
     "output_type": "execute_result"
    }
   ],
   "source": [
    "score_train = 0.4 * train_score_views + 0.3 * train_score_depth + 0.3 * train_score_frp\n",
    "score_val  = 0.4 * val_score_views  + 0.3 * val_score_depth  + 0.3 * val_score_frp\n",
    "\n",
    "score_train, score_val"
   ]
  },
  {
   "cell_type": "raw",
   "id": "b4e2f449-432c-42f7-8cce-5cb15323aca0",
   "metadata": {},
   "source": [
    "(0.46673042900461154, 0.43034861641062294)"
   ]
  },
  {
   "cell_type": "code",
   "execution_count": null,
   "id": "8ff54468-e3a7-403c-b6e9-67ad93a5e09e",
   "metadata": {},
   "outputs": [],
   "source": []
  },
  {
   "cell_type": "code",
   "execution_count": 27,
   "id": "381dce61-ab9a-45f9-934a-3cb80c94d115",
   "metadata": {},
   "outputs": [],
   "source": [
    "NTRY = 5"
   ]
  },
  {
   "cell_type": "markdown",
   "id": "81b7d454-37b6-45ee-94fb-99af0fe23ae5",
   "metadata": {},
   "source": [
    "## save models"
   ]
  },
  {
   "cell_type": "code",
   "execution_count": null,
   "id": "aa4adde3-b017-4cea-9ae8-fc7cea77bab1",
   "metadata": {},
   "outputs": [],
   "source": []
  },
  {
   "cell_type": "code",
   "execution_count": 28,
   "id": "75aa11de-71cb-47a7-9e22-2857f7f7e643",
   "metadata": {},
   "outputs": [],
   "source": [
    "cb_model_views.save_model(os.path.join(DIR_MODELS, f'{NTRY}_cb_views.cbm'), \n",
    "                           format=\"cbm\",\n",
    "                           export_parameters=None,\n",
    "                           pool=None\n",
    "                         )\n",
    "\n",
    "cb_model_depth.save_model(os.path.join(DIR_MODELS, f'{NTRY}_cb_depth.cbm'), \n",
    "                           format=\"cbm\",\n",
    "                           export_parameters=None,\n",
    "                           pool=None\n",
    "                         )\n",
    "\n",
    "cb_model_frp.save_model(os.path.join(DIR_MODELS, f'{NTRY}_cb_frp.cbm'), \n",
    "                           format=\"cbm\",\n",
    "                           export_parameters=None,\n",
    "                           pool=None\n",
    "                         )"
   ]
  },
  {
   "cell_type": "code",
   "execution_count": null,
   "id": "102c6530-8a1b-4c1c-a1d3-e9d95e350220",
   "metadata": {},
   "outputs": [],
   "source": []
  },
  {
   "cell_type": "markdown",
   "id": "ac604b78-2718-408d-8d19-5b202d3f5a19",
   "metadata": {},
   "source": [
    "## make predict"
   ]
  },
  {
   "cell_type": "code",
   "execution_count": 29,
   "id": "df8e4305-28ed-444f-8325-e6460f7d2271",
   "metadata": {},
   "outputs": [],
   "source": [
    "pred_views = cb_model_views.predict(df_test[cat_cols + num_cols])\n",
    "pred_depth = cb_model_depth.predict(df_test[cat_cols + num_cols])\n",
    "pred_frp   = cb_model_frp.predict(  df_test[cat_cols + num_cols])"
   ]
  },
  {
   "cell_type": "code",
   "execution_count": 30,
   "id": "f422300e-24cf-435a-af11-a450f4f10393",
   "metadata": {},
   "outputs": [],
   "source": [
    "subm = pd.DataFrame()\n",
    "subm['document_id'] = df_test.index\n",
    "\n",
    "subm['views'] = pred_views\n",
    "subm['depth'] = pred_depth\n",
    "subm['full_reads_percent'] = pred_frp"
   ]
  },
  {
   "cell_type": "code",
   "execution_count": 31,
   "id": "37fa65e1-c702-4764-8f84-eb93b80c73f8",
   "metadata": {},
   "outputs": [
    {
     "data": {
      "text/html": [
       "<div>\n",
       "<style scoped>\n",
       "    .dataframe tbody tr th:only-of-type {\n",
       "        vertical-align: middle;\n",
       "    }\n",
       "\n",
       "    .dataframe tbody tr th {\n",
       "        vertical-align: top;\n",
       "    }\n",
       "\n",
       "    .dataframe thead th {\n",
       "        text-align: right;\n",
       "    }\n",
       "</style>\n",
       "<table border=\"1\" class=\"dataframe\">\n",
       "  <thead>\n",
       "    <tr style=\"text-align: right;\">\n",
       "      <th></th>\n",
       "      <th>document_id</th>\n",
       "      <th>views</th>\n",
       "      <th>depth</th>\n",
       "      <th>full_reads_percent</th>\n",
       "    </tr>\n",
       "  </thead>\n",
       "  <tbody>\n",
       "    <tr>\n",
       "      <th>0</th>\n",
       "      <td>0</td>\n",
       "      <td>21250.214853</td>\n",
       "      <td>1.166102</td>\n",
       "      <td>36.719013</td>\n",
       "    </tr>\n",
       "    <tr>\n",
       "      <th>1</th>\n",
       "      <td>1</td>\n",
       "      <td>15294.680917</td>\n",
       "      <td>1.053989</td>\n",
       "      <td>30.404943</td>\n",
       "    </tr>\n",
       "    <tr>\n",
       "      <th>2</th>\n",
       "      <td>2</td>\n",
       "      <td>58432.564140</td>\n",
       "      <td>1.060764</td>\n",
       "      <td>29.163220</td>\n",
       "    </tr>\n",
       "    <tr>\n",
       "      <th>3</th>\n",
       "      <td>3</td>\n",
       "      <td>13884.303112</td>\n",
       "      <td>1.064296</td>\n",
       "      <td>35.927047</td>\n",
       "    </tr>\n",
       "    <tr>\n",
       "      <th>4</th>\n",
       "      <td>4</td>\n",
       "      <td>118997.748920</td>\n",
       "      <td>1.149199</td>\n",
       "      <td>30.465089</td>\n",
       "    </tr>\n",
       "  </tbody>\n",
       "</table>\n",
       "</div>"
      ],
      "text/plain": [
       "   document_id          views     depth  full_reads_percent\n",
       "0            0   21250.214853  1.166102           36.719013\n",
       "1            1   15294.680917  1.053989           30.404943\n",
       "2            2   58432.564140  1.060764           29.163220\n",
       "3            3   13884.303112  1.064296           35.927047\n",
       "4            4  118997.748920  1.149199           30.465089"
      ]
     },
     "execution_count": 31,
     "metadata": {},
     "output_type": "execute_result"
    }
   ],
   "source": [
    "subm.head()"
   ]
  },
  {
   "cell_type": "code",
   "execution_count": 32,
   "id": "00d26c97-fb11-49b4-940e-ea797b27d29d",
   "metadata": {},
   "outputs": [],
   "source": [
    "subm.to_csv(os.path.join(DIR_SUBM, f'{NTRY}_cb_ttls_emd_lags.csv'), index = False)"
   ]
  },
  {
   "cell_type": "code",
   "execution_count": null,
   "id": "381434ea-0954-4ac1-8278-348a674c1a9c",
   "metadata": {},
   "outputs": [],
   "source": []
  }
 ],
 "metadata": {
  "kernelspec": {
   "display_name": "Python 3",
   "language": "python",
   "name": "python3"
  },
  "language_info": {
   "codemirror_mode": {
    "name": "ipython",
    "version": 3
   },
   "file_extension": ".py",
   "mimetype": "text/x-python",
   "name": "python",
   "nbconvert_exporter": "python",
   "pygments_lexer": "ipython3",
   "version": "3.7.10"
  }
 },
 "nbformat": 4,
 "nbformat_minor": 5
}
