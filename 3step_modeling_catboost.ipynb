{
 "cells": [
  {
   "cell_type": "code",
   "execution_count": 1,
   "id": "6f62ec01-36f8-4ffe-b187-0616094602d5",
   "metadata": {},
   "outputs": [],
   "source": [
    "%load_ext watermark"
   ]
  },
  {
   "cell_type": "code",
   "execution_count": 2,
   "id": "fd631481-f748-4610-94f4-a0d9b5bbe4ed",
   "metadata": {},
   "outputs": [
    {
     "name": "stdout",
     "output_type": "stream",
     "text": [
      "Last updated: 2022-07-18T19:28:57.815770+03:00\n",
      "\n",
      "Python implementation: CPython\n",
      "Python version       : 3.7.10\n",
      "IPython version      : 7.22.0\n",
      "\n",
      "Compiler    : MSC v.1916 64 bit (AMD64)\n",
      "OS          : Windows\n",
      "Release     : 10\n",
      "Machine     : AMD64\n",
      "Processor   : Intel64 Family 6 Model 158 Stepping 9, GenuineIntel\n",
      "CPU cores   : 8\n",
      "Architecture: 64bit\n",
      "\n"
     ]
    }
   ],
   "source": [
    "%watermark"
   ]
  },
  {
   "cell_type": "code",
   "execution_count": 3,
   "id": "2f268c90-86ca-4ea1-8a02-3a6b43c450cf",
   "metadata": {},
   "outputs": [],
   "source": [
    "import os\n",
    "import pickle as pkl\n",
    "\n",
    "import numpy as np\n",
    "import pandas as pd\n",
    "\n",
    "from sklearn.metrics import r2_score\n",
    "from sklearn import preprocessing\n",
    "from catboost import CatBoostRegressor, Pool\n",
    "\n",
    "import matplotlib.pyplot as plt\n",
    "import seaborn as sns"
   ]
  },
  {
   "cell_type": "code",
   "execution_count": 4,
   "id": "68c33f68-68f2-4e66-a8c6-4a7ac88eb910",
   "metadata": {},
   "outputs": [
    {
     "name": "stdout",
     "output_type": "stream",
     "text": [
      "cb_version: 0.24.3\n",
      "sklearn_version: 0.24.2\n"
     ]
    }
   ],
   "source": [
    "from catboost import __version__ as cb_version\n",
    "from sklearn import __version__ as sklearn_version\n",
    "\n",
    "print(f'cb_version: {cb_version}')\n",
    "print(f'sklearn_version: {sklearn_version}')"
   ]
  },
  {
   "cell_type": "code",
   "execution_count": 5,
   "id": "21f6a58a-b019-4436-83ec-428714473139",
   "metadata": {},
   "outputs": [
    {
     "name": "stdout",
     "output_type": "stream",
     "text": [
      "matplotlib: 3.3.4\n",
      "numpy     : 1.20.3\n",
      "pandas    : 0.25.3\n",
      "sklearn   : 0.24.2\n",
      "seaborn   : 0.11.1\n",
      "\n"
     ]
    }
   ],
   "source": [
    "%watermark --iversions"
   ]
  },
  {
   "cell_type": "code",
   "execution_count": null,
   "id": "8238fc41-4ff8-45af-832d-8ca6512b8995",
   "metadata": {},
   "outputs": [],
   "source": []
  },
  {
   "cell_type": "code",
   "execution_count": null,
   "id": "fabdb0fa-405c-4649-b004-d353666fef7a",
   "metadata": {},
   "outputs": [],
   "source": []
  },
  {
   "cell_type": "markdown",
   "id": "3f3d5ca4-753b-47f1-801f-02be08c0bc3c",
   "metadata": {},
   "source": [
    "## Reproducibility block"
   ]
  },
  {
   "cell_type": "code",
   "execution_count": 6,
   "id": "8d133278-9bc6-4c5d-b029-bd0c31d6adf1",
   "metadata": {},
   "outputs": [],
   "source": [
    "# seed the RNG for all devices (both CPU and CUDA)\n",
    "#torch.manual_seed(1984)\n",
    "\n",
    "#Disabling the benchmarking feature causes cuDNN to deterministically select an algorithm, \n",
    "#possibly at the cost of reduced performance.\n",
    "#torch.backends.cudnn.benchmark = False\n",
    "\n",
    "# for custom operators,\n",
    "import random\n",
    "random.seed(5986721)\n",
    "\n",
    "# \n",
    "np.random.seed(62185)\n",
    "\n",
    "#sklearn take seed from a line abowe\n",
    "\n",
    "CB_RANDOMSEED = 309487"
   ]
  },
  {
   "cell_type": "code",
   "execution_count": null,
   "id": "9f38ebd5-a020-47eb-b1f4-9ea987afb524",
   "metadata": {},
   "outputs": [],
   "source": []
  },
  {
   "cell_type": "code",
   "execution_count": 7,
   "id": "019813d1-62ae-4b4d-a2f6-c0d74c146413",
   "metadata": {},
   "outputs": [],
   "source": [
    "DIR_DATA   = os.path.join(os.getcwd(), 'data')\n",
    "DIR_MODELS = os.path.join(os.getcwd(), 'models')\n",
    "DIR_SUBM   = os.path.join(os.getcwd(), 'subm')\n",
    "DIR_SUBM_PART = os.path.join(os.getcwd(), 'subm', 'partial')"
   ]
  },
  {
   "cell_type": "code",
   "execution_count": null,
   "id": "0d608686-6d8e-49ad-906b-b20933e0ec2a",
   "metadata": {},
   "outputs": [],
   "source": []
  },
  {
   "cell_type": "code",
   "execution_count": 8,
   "id": "00dcf830-653c-43e2-93a8-a48c90a3a78e",
   "metadata": {},
   "outputs": [],
   "source": [
    "NTRY = 14\n",
    "NAME = f'{NTRY}_cb_pca64_sber_lags_parse_bord_nose'"
   ]
  },
  {
   "cell_type": "code",
   "execution_count": 41,
   "id": "405a66ac-9262-4fce-8189-ee569f79eedf",
   "metadata": {},
   "outputs": [],
   "source": [
    "CTR_UKR = 6.096\n",
    "\n",
    "VIEWS_UKR = 2554204\n",
    "DEPTH_UKR = 1.799\n",
    "FPR_UKR = 4.978"
   ]
  },
  {
   "cell_type": "code",
   "execution_count": null,
   "id": "6aee7533-343d-4346-a598-41e96250d2dc",
   "metadata": {},
   "outputs": [],
   "source": []
  },
  {
   "cell_type": "markdown",
   "id": "ae3e27a3-16bb-456d-b7a1-7975d5f85ea5",
   "metadata": {},
   "source": [
    "## Load data"
   ]
  },
  {
   "cell_type": "code",
   "execution_count": 9,
   "id": "ee296ac9-baf6-4bcb-89ce-5fe99408403d",
   "metadata": {},
   "outputs": [],
   "source": [
    "df_train  = pd.read_csv(os.path.join(DIR_DATA, 'train_upd.csv'), index_col= 0)\n",
    "x_train  = pd.read_csv(os.path.join(DIR_DATA, 'x_train.csv'), index_col= 0)\n",
    "x_val    = pd.read_csv(os.path.join(DIR_DATA, 'x_val.csv'), index_col= 0)\n",
    "df_test  = pd.read_csv(os.path.join(DIR_DATA, 'test_upd.csv'), index_col= 0)\n",
    "\n",
    "with open(os.path.join(DIR_DATA, 'cat_columns.pkl'), 'rb') as pickle_file:\n",
    "    cat_cols = pkl.load(pickle_file)\n",
    "    \n",
    "with open(os.path.join(DIR_DATA, 'num_columns.pkl'), 'rb') as pickle_file:\n",
    "    num_cols = pkl.load(pickle_file)\n",
    "    \n",
    "with open(os.path.join(DIR_DATA, 'clmns.pkl'), 'rb') as pickle_file:\n",
    "    clmns = pkl.load(pickle_file)\n"
   ]
  },
  {
   "cell_type": "code",
   "execution_count": 10,
   "id": "b00427ec-ac4f-4da3-8dfb-94871e63072d",
   "metadata": {},
   "outputs": [
    {
     "data": {
      "text/plain": [
       "((5584, 290), (1397, 290), (3000, 286), 11, 262)"
      ]
     },
     "execution_count": 10,
     "metadata": {},
     "output_type": "execute_result"
    }
   ],
   "source": [
    "x_train.shape, x_val.shape, df_test.shape, len(cat_cols), len(num_cols)"
   ]
  },
  {
   "cell_type": "code",
   "execution_count": 11,
   "id": "40e960cf-00f2-45b2-986f-436a8024d0de",
   "metadata": {},
   "outputs": [
    {
     "name": "stdout",
     "output_type": "stream",
     "text": [
      "['two_articles', 'ph_report', 'ph_gallery', 'tv_prog', 'online', 'video', 'infogr', 'holiday', 'day_before_holiday', 'day_after_holiday', 'distrib_brdr', 'category']\n"
     ]
    }
   ],
   "source": [
    "cat_cols = cat_cols + ['category']\n",
    "print(cat_cols)"
   ]
  },
  {
   "cell_type": "markdown",
   "id": "d4b599d2-168d-4cc1-a4ea-fc34d707a0ce",
   "metadata": {},
   "source": [
    "отделяем метки от данных"
   ]
  },
  {
   "cell_type": "code",
   "execution_count": 12,
   "id": "40de44ef-8722-48fc-84f7-c78ce45471fc",
   "metadata": {},
   "outputs": [
    {
     "data": {
      "text/plain": [
       "((5584, 287), (1397, 287), (5584, 3), (1397, 3))"
      ]
     },
     "execution_count": 12,
     "metadata": {},
     "output_type": "execute_result"
    }
   ],
   "source": [
    "y_train = x_train[['views', 'depth', 'full_reads_percent']]\n",
    "y_val   = x_val[['views', 'depth', 'full_reads_percent']]\n",
    "\n",
    "x_train.drop(['views', 'depth', 'full_reads_percent'], axis = 1, inplace = True)\n",
    "x_val.drop(  ['views', 'depth', 'full_reads_percent'], axis = 1, inplace = True)\n",
    "\n",
    "x_train.shape, x_val.shape, y_train.shape, y_val.shape"
   ]
  },
  {
   "cell_type": "code",
   "execution_count": 13,
   "id": "3145e466-8172-424b-85ac-ad97439d9913",
   "metadata": {},
   "outputs": [
    {
     "data": {
      "text/plain": [
       "(5584, 287)"
      ]
     },
     "execution_count": 13,
     "metadata": {},
     "output_type": "execute_result"
    }
   ],
   "source": [
    "x_train.shape"
   ]
  },
  {
   "cell_type": "code",
   "execution_count": 14,
   "id": "c416f029-f4cc-46cf-aa20-c30e664b1cdb",
   "metadata": {},
   "outputs": [
    {
     "name": "stdout",
     "output_type": "stream",
     "text": [
      "['ph_report', 'ph_gallery', 'tv_prog', 'online', 'video', 'infogr']\n",
      "['hour', 'dow', 'day', 'mounth', 'holiday', 'day_before_holiday', 'day_after_holiday', 'distrib_brdr']\n"
     ]
    }
   ],
   "source": [
    "cat_cols = []\n",
    "num_cols = []\n",
    "\n",
    "for el in clmns.keys():\n",
    "    cat_cols.extend(clmns[el]['cat'])\n",
    "    num_cols.extend(clmns[el]['num'])\n",
    "    if len(clmns[el]['both']) != 0:\n",
    "        print(clmns[el]['both'])"
   ]
  },
  {
   "cell_type": "code",
   "execution_count": 15,
   "id": "972bb343-2bb3-4c31-b99f-f9c8331f8b87",
   "metadata": {},
   "outputs": [],
   "source": [
    "num_cols.extend(['hour', 'mounth'])\n",
    "cat_cols.extend(['dow', \n",
    "                 'ph_report', 'ph_gallery', 'tv_prog', 'online', 'video', 'infogr',\n",
    "                 'holiday', 'day_before_holiday', 'day_after_holiday', 'distrib_brdr',\n",
    "                 #'spec_event_1',\n",
    "                ])"
   ]
  },
  {
   "cell_type": "code",
   "execution_count": null,
   "id": "a0c5cb73-e2fa-48fc-8583-d52508106490",
   "metadata": {},
   "outputs": [],
   "source": []
  },
  {
   "cell_type": "code",
   "execution_count": 16,
   "id": "eec9699d-6702-4a88-9b87-c374c89a9b17",
   "metadata": {},
   "outputs": [],
   "source": [
    "for el in cat_cols:\n",
    "    df_train[el] = df_train[el].astype(str)\n",
    "    x_train[el] = x_train[el].astype(str)\n",
    "    x_val[el]   = x_val[el].astype(str)\n",
    "    df_test[el] = df_test[el].astype(str)"
   ]
  },
  {
   "cell_type": "code",
   "execution_count": null,
   "id": "b77dc32c-95e3-4722-ab02-c8c700dd78df",
   "metadata": {},
   "outputs": [],
   "source": []
  },
  {
   "cell_type": "code",
   "execution_count": 17,
   "id": "da5f4f8d-2ce3-42fc-b01c-9538a7867504",
   "metadata": {},
   "outputs": [],
   "source": [
    "#views\n",
    "train_ds_views = Pool(x_train[cat_cols + num_cols],\n",
    "#train_ds_views = Pool(x_train[cat_cols + ['ctr']],\n",
    "                      y_train[['views']],\n",
    "                      cat_features = cat_cols,\n",
    "                      #feature_names = cat_cols + num_cols\n",
    "                     )\n",
    "\n",
    "val_ds_views   = Pool(x_val[cat_cols + num_cols],\n",
    "#val_ds_views   = Pool(x_val[cat_cols + ['ctr']],\n",
    "                      y_val[['views']],\n",
    "                      cat_features = cat_cols,\n",
    "                      #feature_names = cat_cols + num_cols\n",
    "                     )\n",
    "train_views_full = Pool(df_train[cat_cols + num_cols],\n",
    "#train_ds_views = Pool(x_train[cat_cols + ['ctr']],\n",
    "                      df_train[['views']],\n",
    "                      cat_features = cat_cols,\n",
    "                      #feature_names = cat_cols + num_cols\n",
    "                     )\n",
    "\n",
    "\n",
    "\n",
    "#depth\n",
    "train_ds_depth = Pool(x_train[cat_cols + num_cols],\n",
    "                      y_train[['depth']],\n",
    "                      cat_features = cat_cols,\n",
    "                      feature_names = cat_cols + num_cols\n",
    "                     )\n",
    "\n",
    "val_ds_depth   = Pool(x_val[cat_cols + num_cols],\n",
    "                      y_val[['depth']],\n",
    "                      cat_features = cat_cols,\n",
    "                      feature_names = cat_cols + num_cols\n",
    "                     )\n",
    "train_depth_full = Pool(df_train[cat_cols + num_cols],\n",
    "#train_ds_views = Pool(x_train[cat_cols + ['ctr']],\n",
    "                      df_train[['depth']],\n",
    "                      cat_features = cat_cols,\n",
    "                      #feature_names = cat_cols + num_cols\n",
    "                     )\n",
    "\n",
    "\n",
    "#full_reads_percent\n",
    "#у frp корреляция с depth. так что добавим признак deprh_pred и соберем датасет уже после предсказания depth"
   ]
  },
  {
   "cell_type": "code",
   "execution_count": null,
   "id": "12ae502e-4ce4-4f6e-947f-4f6f5942584a",
   "metadata": {},
   "outputs": [],
   "source": []
  },
  {
   "cell_type": "code",
   "execution_count": 18,
   "id": "41e5514e-1f39-4fd8-bee0-98c9b705dda5",
   "metadata": {},
   "outputs": [],
   "source": [
    "def plot_feature_importance2(inp_model, inp_pool, imp_number = 30):\n",
    "    \n",
    "    data = pd.DataFrame({'feature_importance': inp_model.get_feature_importance(inp_pool), \n",
    "              'feature_names': inp_pool.get_feature_names()}).sort_values(by=['feature_importance'], \n",
    "                                                       ascending=True)\n",
    "    \n",
    "    data.nlargest(imp_number, columns=\"feature_importance\").plot(kind='barh', figsize = (30,16)) ## plot top 40 features"
   ]
  },
  {
   "cell_type": "code",
   "execution_count": 19,
   "id": "55711d60-6520-4f9c-af95-e2c0624d270c",
   "metadata": {},
   "outputs": [],
   "source": [
    "def plot_feature_importance(importance,names,model_type, imp_number = 30):\n",
    "    \n",
    "    #Create arrays from feature importance and feature names\n",
    "    feature_importance = np.array(importance)\n",
    "    feature_names = np.array(names)\n",
    "    \n",
    "    #Create a DataFrame using a Dictionary\n",
    "    data={'feature_names':feature_names,'feature_importance':feature_importance}\n",
    "    fi_df = pd.DataFrame(data)\n",
    "    \n",
    "    #Sort the DataFrame in order decreasing feature importance\n",
    "    fi_df.sort_values(by=['feature_importance'], ascending=False,inplace=True)\n",
    "    \n",
    "    #Define size of bar plot\n",
    "    plt.figure(figsize=(10,8))\n",
    "    #Plot Searborn bar chart\n",
    "    sns.barplot(x=fi_df['feature_importance'][:imp_number], y=fi_df['feature_names'][:imp_number])\n",
    "    #Add chart labels\n",
    "    plt.title(model_type + 'FEATURE IMPORTANCE')\n",
    "    plt.xlabel('FEATURE IMPORTANCE')\n",
    "    plt.ylabel('FEATURE NAMES')"
   ]
  },
  {
   "cell_type": "code",
   "execution_count": null,
   "id": "4c0f79ca-2997-443a-ab51-de4e53217939",
   "metadata": {},
   "outputs": [],
   "source": []
  },
  {
   "cell_type": "markdown",
   "id": "668fd48f-3112-40a7-a453-d4f159ef4877",
   "metadata": {},
   "source": [
    "## views"
   ]
  },
  {
   "cell_type": "code",
   "execution_count": null,
   "id": "2489ac5a-4d21-4544-be84-ac5f7ba86c57",
   "metadata": {},
   "outputs": [],
   "source": []
  },
  {
   "cell_type": "raw",
   "id": "8a1170e4-1670-4f73-bcde-0a8c76b102f6",
   "metadata": {},
   "source": [
    "scores_views = cv(train_views_full,\n",
    "            cb_params_views,\n",
    "            fold_count=5,\n",
    "            random_seed = CB_RANDOMSEED, \n",
    "            #plot=\"True\"\n",
    "                 )"
   ]
  },
  {
   "cell_type": "code",
   "execution_count": null,
   "id": "8cf4bc60-8ca3-461a-865f-7c312e83e6ba",
   "metadata": {},
   "outputs": [],
   "source": []
  },
  {
   "cell_type": "code",
   "execution_count": 20,
   "id": "37fb9d99-b182-4aae-85ba-24ff91dfbe33",
   "metadata": {},
   "outputs": [
    {
     "name": "stdout",
     "output_type": "stream",
     "text": [
      "0:\tlearn: 61075.2422808\ttest: 53307.2904851\tbest: 53307.2904851 (0)\ttotal: 637ms\tremaining: 1m 3s\n",
      "1:\tlearn: 60134.9664951\ttest: 52740.4723809\tbest: 52740.4723809 (1)\ttotal: 1.16s\tremaining: 56.8s\n",
      "2:\tlearn: 59319.5665944\ttest: 52211.3450444\tbest: 52211.3450444 (2)\ttotal: 1.66s\tremaining: 53.6s\n",
      "3:\tlearn: 58517.8914906\ttest: 51827.9640138\tbest: 51827.9640138 (3)\ttotal: 2.16s\tremaining: 51.8s\n",
      "4:\tlearn: 57779.6437182\ttest: 51432.1369586\tbest: 51432.1369586 (4)\ttotal: 2.69s\tremaining: 51.2s\n",
      "5:\tlearn: 57105.5894397\ttest: 51082.5065967\tbest: 51082.5065967 (5)\ttotal: 3.19s\tremaining: 49.9s\n",
      "6:\tlearn: 56402.3478396\ttest: 50733.4836198\tbest: 50733.4836198 (6)\ttotal: 3.7s\tremaining: 49.2s\n",
      "7:\tlearn: 55721.2036482\ttest: 50357.6025864\tbest: 50357.6025864 (7)\ttotal: 4.27s\tremaining: 49.1s\n",
      "8:\tlearn: 55104.4299928\ttest: 50056.2897311\tbest: 50056.2897311 (8)\ttotal: 4.8s\tremaining: 48.6s\n",
      "9:\tlearn: 54420.2352263\ttest: 49720.3460402\tbest: 49720.3460402 (9)\ttotal: 5.33s\tremaining: 48s\n",
      "10:\tlearn: 53790.6311002\ttest: 49292.1156145\tbest: 49292.1156145 (10)\ttotal: 5.86s\tremaining: 47.4s\n",
      "11:\tlearn: 53232.4653794\ttest: 49019.5882706\tbest: 49019.5882706 (11)\ttotal: 6.39s\tremaining: 46.9s\n",
      "12:\tlearn: 52697.6687301\ttest: 48737.3268979\tbest: 48737.3268979 (12)\ttotal: 6.88s\tremaining: 46.1s\n",
      "13:\tlearn: 52199.2774107\ttest: 48552.5068314\tbest: 48552.5068314 (13)\ttotal: 7.5s\tremaining: 46s\n",
      "14:\tlearn: 51778.0585087\ttest: 48325.8044856\tbest: 48325.8044856 (14)\ttotal: 8s\tremaining: 45.4s\n",
      "15:\tlearn: 51279.7705674\ttest: 48168.1094916\tbest: 48168.1094916 (15)\ttotal: 8.51s\tremaining: 44.7s\n",
      "16:\tlearn: 50830.6260932\ttest: 47955.8273198\tbest: 47955.8273198 (16)\ttotal: 9.03s\tremaining: 44.1s\n",
      "17:\tlearn: 50377.3831941\ttest: 47862.5305464\tbest: 47862.5305464 (17)\ttotal: 9.53s\tremaining: 43.4s\n",
      "18:\tlearn: 49939.7423307\ttest: 47628.9255277\tbest: 47628.9255277 (18)\ttotal: 10.1s\tremaining: 42.9s\n",
      "19:\tlearn: 49429.9721736\ttest: 47479.5618744\tbest: 47479.5618744 (19)\ttotal: 10.6s\tremaining: 42.4s\n",
      "20:\tlearn: 49010.5918599\ttest: 47386.3139730\tbest: 47386.3139730 (20)\ttotal: 11.1s\tremaining: 41.8s\n",
      "21:\tlearn: 48538.0251189\ttest: 47079.4401134\tbest: 47079.4401134 (21)\ttotal: 11.6s\tremaining: 41.3s\n",
      "22:\tlearn: 48177.8614607\ttest: 46995.4494621\tbest: 46995.4494621 (22)\ttotal: 12.1s\tremaining: 40.7s\n",
      "23:\tlearn: 47760.7945776\ttest: 46806.4962540\tbest: 46806.4962540 (23)\ttotal: 12.7s\tremaining: 40.1s\n",
      "24:\tlearn: 47394.7447090\ttest: 46775.1087167\tbest: 46775.1087167 (24)\ttotal: 13.2s\tremaining: 39.5s\n",
      "25:\tlearn: 46960.1120712\ttest: 46646.4222872\tbest: 46646.4222872 (25)\ttotal: 13.7s\tremaining: 38.9s\n",
      "26:\tlearn: 46564.5389935\ttest: 46424.0720634\tbest: 46424.0720634 (26)\ttotal: 14.2s\tremaining: 38.3s\n",
      "27:\tlearn: 46159.8875097\ttest: 46270.1527517\tbest: 46270.1527517 (27)\ttotal: 14.7s\tremaining: 37.8s\n",
      "28:\tlearn: 45792.5853106\ttest: 46177.1406789\tbest: 46177.1406789 (28)\ttotal: 15.2s\tremaining: 37.2s\n",
      "29:\tlearn: 45436.3981552\ttest: 46089.3105798\tbest: 46089.3105798 (29)\ttotal: 15.7s\tremaining: 36.7s\n",
      "30:\tlearn: 45144.7631337\ttest: 46066.2123848\tbest: 46066.2123848 (30)\ttotal: 16.3s\tremaining: 36.2s\n",
      "31:\tlearn: 44871.9521930\ttest: 46007.8641433\tbest: 46007.8641433 (31)\ttotal: 16.9s\tremaining: 35.8s\n",
      "32:\tlearn: 44584.2497393\ttest: 45957.3574168\tbest: 45957.3574168 (32)\ttotal: 17.4s\tremaining: 35.3s\n",
      "33:\tlearn: 44305.6880397\ttest: 45826.7999301\tbest: 45826.7999301 (33)\ttotal: 18s\tremaining: 35s\n",
      "34:\tlearn: 44032.3286575\ttest: 45789.9455533\tbest: 45789.9455533 (34)\ttotal: 18.5s\tremaining: 34.4s\n",
      "35:\tlearn: 43719.3494782\ttest: 45713.5794239\tbest: 45713.5794239 (35)\ttotal: 19s\tremaining: 33.8s\n",
      "36:\tlearn: 43437.3779563\ttest: 45657.6707430\tbest: 45657.6707430 (36)\ttotal: 19.5s\tremaining: 33.3s\n",
      "37:\tlearn: 43096.9323366\ttest: 45553.2021751\tbest: 45553.2021751 (37)\ttotal: 20.1s\tremaining: 32.8s\n",
      "38:\tlearn: 42850.8361925\ttest: 45477.9303315\tbest: 45477.9303315 (38)\ttotal: 20.6s\tremaining: 32.2s\n",
      "39:\tlearn: 42606.1314557\ttest: 45454.7442036\tbest: 45454.7442036 (39)\ttotal: 21.2s\tremaining: 31.7s\n",
      "40:\tlearn: 42349.5972028\ttest: 45352.1694039\tbest: 45352.1694039 (40)\ttotal: 21.7s\tremaining: 31.2s\n",
      "41:\tlearn: 42102.0026642\ttest: 45310.8595293\tbest: 45310.8595293 (41)\ttotal: 22.2s\tremaining: 30.6s\n",
      "42:\tlearn: 41938.1312231\ttest: 45306.0571274\tbest: 45306.0571274 (42)\ttotal: 22.7s\tremaining: 30.1s\n",
      "43:\tlearn: 41676.8650913\ttest: 45269.7518991\tbest: 45269.7518991 (43)\ttotal: 23.2s\tremaining: 29.5s\n",
      "44:\tlearn: 41322.3651576\ttest: 45205.0063741\tbest: 45205.0063741 (44)\ttotal: 23.7s\tremaining: 29s\n",
      "45:\tlearn: 41048.2254693\ttest: 45178.4078926\tbest: 45178.4078926 (45)\ttotal: 24.2s\tremaining: 28.4s\n",
      "46:\tlearn: 40837.3454193\ttest: 45125.3655751\tbest: 45125.3655751 (46)\ttotal: 24.7s\tremaining: 27.9s\n",
      "47:\tlearn: 40590.2020863\ttest: 45146.4512840\tbest: 45125.3655751 (46)\ttotal: 25.2s\tremaining: 27.3s\n",
      "48:\tlearn: 40431.0030519\ttest: 45137.8168369\tbest: 45125.3655751 (46)\ttotal: 25.8s\tremaining: 26.8s\n",
      "49:\tlearn: 40280.9540621\ttest: 45128.6370404\tbest: 45125.3655751 (46)\ttotal: 26.3s\tremaining: 26.3s\n",
      "50:\tlearn: 40081.3076023\ttest: 45109.1164582\tbest: 45109.1164582 (50)\ttotal: 26.8s\tremaining: 25.7s\n",
      "51:\tlearn: 39862.2584810\ttest: 45078.1893265\tbest: 45078.1893265 (51)\ttotal: 27.3s\tremaining: 25.2s\n",
      "52:\tlearn: 39714.6081287\ttest: 45078.8317593\tbest: 45078.1893265 (51)\ttotal: 27.8s\tremaining: 24.7s\n",
      "53:\tlearn: 39521.0328786\ttest: 45075.2457284\tbest: 45075.2457284 (53)\ttotal: 28.4s\tremaining: 24.2s\n",
      "54:\tlearn: 39319.7918359\ttest: 45066.1566856\tbest: 45066.1566856 (54)\ttotal: 28.9s\tremaining: 23.7s\n",
      "55:\tlearn: 39185.4788895\ttest: 45035.1288840\tbest: 45035.1288840 (55)\ttotal: 29.4s\tremaining: 23.1s\n",
      "56:\tlearn: 39057.5896774\ttest: 45028.3287692\tbest: 45028.3287692 (56)\ttotal: 29.9s\tremaining: 22.6s\n",
      "57:\tlearn: 38841.6332133\ttest: 45009.3570793\tbest: 45009.3570793 (57)\ttotal: 30.5s\tremaining: 22.1s\n",
      "58:\tlearn: 38606.7690383\ttest: 44931.0612637\tbest: 44931.0612637 (58)\ttotal: 31s\tremaining: 21.5s\n",
      "59:\tlearn: 38494.3291873\ttest: 44941.6091283\tbest: 44931.0612637 (58)\ttotal: 31.5s\tremaining: 21s\n",
      "60:\tlearn: 38342.1583365\ttest: 44912.5735653\tbest: 44912.5735653 (60)\ttotal: 32s\tremaining: 20.4s\n",
      "61:\tlearn: 38191.5557996\ttest: 44905.4678630\tbest: 44905.4678630 (61)\ttotal: 32.5s\tremaining: 19.9s\n",
      "62:\tlearn: 38056.8973738\ttest: 44909.2065383\tbest: 44905.4678630 (61)\ttotal: 33s\tremaining: 19.4s\n",
      "63:\tlearn: 37887.7594346\ttest: 44890.6809639\tbest: 44890.6809639 (63)\ttotal: 33.5s\tremaining: 18.9s\n",
      "64:\tlearn: 37707.3473762\ttest: 44855.0016178\tbest: 44855.0016178 (64)\ttotal: 34.1s\tremaining: 18.4s\n",
      "65:\tlearn: 37597.7555535\ttest: 44842.6698136\tbest: 44842.6698136 (65)\ttotal: 34.7s\tremaining: 17.9s\n",
      "66:\tlearn: 37483.1040133\ttest: 44808.9468917\tbest: 44808.9468917 (66)\ttotal: 35.2s\tremaining: 17.3s\n",
      "67:\tlearn: 37205.2475944\ttest: 44734.7098863\tbest: 44734.7098863 (67)\ttotal: 35.7s\tremaining: 16.8s\n",
      "68:\tlearn: 36931.3022958\ttest: 44649.3293173\tbest: 44649.3293173 (68)\ttotal: 36.3s\tremaining: 16.3s\n",
      "69:\tlearn: 36693.1250633\ttest: 44568.1485182\tbest: 44568.1485182 (69)\ttotal: 36.9s\tremaining: 15.8s\n",
      "70:\tlearn: 36561.3578172\ttest: 44579.6291326\tbest: 44568.1485182 (69)\ttotal: 37.5s\tremaining: 15.3s\n",
      "71:\tlearn: 36433.0894915\ttest: 44544.2967812\tbest: 44544.2967812 (71)\ttotal: 38s\tremaining: 14.8s\n",
      "72:\tlearn: 36299.7273271\ttest: 44524.3869684\tbest: 44524.3869684 (72)\ttotal: 38.6s\tremaining: 14.3s\n",
      "73:\tlearn: 36170.4197904\ttest: 44533.2012306\tbest: 44524.3869684 (72)\ttotal: 39.2s\tremaining: 13.8s\n",
      "74:\tlearn: 36052.9971975\ttest: 44520.9925315\tbest: 44520.9925315 (74)\ttotal: 39.8s\tremaining: 13.3s\n",
      "75:\tlearn: 35920.4022946\ttest: 44528.3559611\tbest: 44520.9925315 (74)\ttotal: 40.4s\tremaining: 12.8s\n",
      "76:\tlearn: 35700.2084674\ttest: 44488.0381897\tbest: 44488.0381897 (76)\ttotal: 41s\tremaining: 12.2s\n",
      "77:\tlearn: 35619.7853734\ttest: 44484.7055847\tbest: 44484.7055847 (77)\ttotal: 41.6s\tremaining: 11.7s\n",
      "78:\tlearn: 35371.2896219\ttest: 44426.5424959\tbest: 44426.5424959 (78)\ttotal: 42.1s\tremaining: 11.2s\n",
      "79:\tlearn: 35255.1887546\ttest: 44417.4120903\tbest: 44417.4120903 (79)\ttotal: 42.7s\tremaining: 10.7s\n",
      "80:\tlearn: 35183.5810299\ttest: 44415.2515871\tbest: 44415.2515871 (80)\ttotal: 43.4s\tremaining: 10.2s\n",
      "81:\tlearn: 35053.9525128\ttest: 44431.6596136\tbest: 44415.2515871 (80)\ttotal: 44s\tremaining: 9.65s\n",
      "82:\tlearn: 34851.2243821\ttest: 44411.5651830\tbest: 44411.5651830 (82)\ttotal: 44.5s\tremaining: 9.12s\n",
      "83:\tlearn: 34731.7995195\ttest: 44409.1656330\tbest: 44409.1656330 (83)\ttotal: 45.1s\tremaining: 8.59s\n",
      "84:\tlearn: 34574.5147727\ttest: 44382.6155436\tbest: 44382.6155436 (84)\ttotal: 45.7s\tremaining: 8.07s\n",
      "85:\tlearn: 34436.6569654\ttest: 44362.6006557\tbest: 44362.6006557 (85)\ttotal: 46.3s\tremaining: 7.54s\n",
      "86:\tlearn: 34313.6432825\ttest: 44351.9631347\tbest: 44351.9631347 (86)\ttotal: 46.9s\tremaining: 7.01s\n",
      "87:\tlearn: 34122.3577166\ttest: 44314.3859903\tbest: 44314.3859903 (87)\ttotal: 47.5s\tremaining: 6.47s\n",
      "88:\tlearn: 33967.7309623\ttest: 44266.2383443\tbest: 44266.2383443 (88)\ttotal: 48s\tremaining: 5.93s\n",
      "89:\tlearn: 33874.6164715\ttest: 44255.2291244\tbest: 44255.2291244 (89)\ttotal: 48.6s\tremaining: 5.4s\n",
      "90:\tlearn: 33721.8241069\ttest: 44247.5873235\tbest: 44247.5873235 (90)\ttotal: 49.1s\tremaining: 4.86s\n",
      "91:\tlearn: 33529.7523842\ttest: 44213.4136054\tbest: 44213.4136054 (91)\ttotal: 49.7s\tremaining: 4.32s\n",
      "92:\tlearn: 33380.6881614\ttest: 44211.3677666\tbest: 44211.3677666 (92)\ttotal: 50.3s\tremaining: 3.79s\n",
      "93:\tlearn: 33335.5592071\ttest: 44206.5802948\tbest: 44206.5802948 (93)\ttotal: 50.9s\tremaining: 3.25s\n",
      "94:\tlearn: 33231.9685825\ttest: 44200.4482470\tbest: 44200.4482470 (94)\ttotal: 51.5s\tremaining: 2.71s\n",
      "95:\tlearn: 33118.4835005\ttest: 44203.1371905\tbest: 44200.4482470 (94)\ttotal: 52s\tremaining: 2.17s\n",
      "96:\tlearn: 33055.3703060\ttest: 44195.3109178\tbest: 44195.3109178 (96)\ttotal: 52.6s\tremaining: 1.63s\n",
      "97:\tlearn: 32861.3635244\ttest: 44188.6204295\tbest: 44188.6204295 (97)\ttotal: 53.1s\tremaining: 1.08s\n",
      "98:\tlearn: 32819.5557672\ttest: 44177.4675045\tbest: 44177.4675045 (98)\ttotal: 53.8s\tremaining: 543ms\n",
      "99:\tlearn: 32741.3681832\ttest: 44179.1811407\tbest: 44177.4675045 (98)\ttotal: 53.9s\tremaining: 0us\n",
      "\n",
      "bestTest = 44177.4675\n",
      "bestIteration = 98\n",
      "\n",
      "Shrink model to first 99 iterations.\n"
     ]
    },
    {
     "data": {
      "text/plain": [
       "<catboost.core.CatBoostRegressor at 0x26d8babaf88>"
      ]
     },
     "execution_count": 20,
     "metadata": {},
     "output_type": "execute_result"
    }
   ],
   "source": [
    "cb_model_views = CatBoostRegressor(#iterations=20,\n",
    "                                 learning_rate=0.05,\n",
    "                                 depth=10,\n",
    "                                 random_seed = CB_RANDOMSEED,\n",
    "                   n_estimators=100,\n",
    "                                  )\n",
    "# Fit model\n",
    "cb_model_views.fit(train_ds_views,\n",
    "        #train_data, train_labels,\n",
    "                   eval_set=val_ds_views, \n",
    "                   #plot = True,\n",
    "                  )"
   ]
  },
  {
   "cell_type": "code",
   "execution_count": 21,
   "id": "b0c470be-2a85-4ddc-8523-19194d636b32",
   "metadata": {},
   "outputs": [
    {
     "data": {
      "text/plain": [
       "(0.7200514797487474, 0.32836560381112945)"
      ]
     },
     "execution_count": 21,
     "metadata": {},
     "output_type": "execute_result"
    }
   ],
   "source": [
    "# Get predictions and metrics\n",
    "preds_train_views = cb_model_views.predict(x_train[cat_cols + num_cols])\n",
    "preds_val_views   = cb_model_views.predict(val_ds_views)\n",
    "\n",
    "train_score_views = r2_score(y_train[\"views\"], preds_train_views)\n",
    "val_score_views   = r2_score(y_val[\"views\"],   preds_val_views)\n",
    "\n",
    "train_score_views, val_score_views"
   ]
  },
  {
   "cell_type": "raw",
   "id": "fbcef74b-d54b-4a08-ab5d-c4838a2ccb05",
   "metadata": {},
   "source": [
    "(0.5100195781796532, 0.5065575808145328) baseline"
   ]
  },
  {
   "cell_type": "code",
   "execution_count": null,
   "id": "40a5942c-9dbe-4dc8-952c-1a6af1618318",
   "metadata": {},
   "outputs": [],
   "source": []
  },
  {
   "cell_type": "code",
   "execution_count": 22,
   "id": "706be592-2cd3-4db9-9e9d-7b71af1277c0",
   "metadata": {},
   "outputs": [
    {
     "data": {
      "image/png": "[encoded data removed]",
      "text/plain": [
       "<Figure size 720x576 with 1 Axes>"
      ]
     },
     "metadata": {
      "needs_background": "light"
     },
     "output_type": "display_data"
    }
   ],
   "source": [
    "#plot_feature_importance(cb_model_views, train_ds_views, 30)\n",
    "plot_feature_importance(cb_model_views.get_feature_importance(), train_ds_views.get_feature_names(), 'CATBOOST')"
   ]
  },
  {
   "cell_type": "code",
   "execution_count": null,
   "id": "57d15d8a-e96a-436f-9908-bb3efc30c1f7",
   "metadata": {},
   "outputs": [],
   "source": []
  },
  {
   "cell_type": "markdown",
   "id": "a3cac29b-566d-4c8b-9cf7-9ef84a7261d2",
   "metadata": {},
   "source": [
    "## depth"
   ]
  },
  {
   "cell_type": "code",
   "execution_count": 23,
   "id": "e9948b36-a6f3-4bec-bbb2-402d5186ef4e",
   "metadata": {},
   "outputs": [
    {
     "name": "stdout",
     "output_type": "stream",
     "text": [
      "0:\tlearn: 0.0603010\ttest: 0.0574305\tbest: 0.0574305 (0)\ttotal: 537ms\tremaining: 53.1s\n",
      "1:\tlearn: 0.0583754\ttest: 0.0556377\tbest: 0.0556377 (1)\ttotal: 1.12s\tremaining: 55s\n",
      "2:\tlearn: 0.0563921\ttest: 0.0536603\tbest: 0.0536603 (2)\ttotal: 1.67s\tremaining: 54.1s\n",
      "3:\tlearn: 0.0545400\ttest: 0.0519702\tbest: 0.0519702 (3)\ttotal: 2.24s\tremaining: 53.7s\n",
      "4:\tlearn: 0.0529139\ttest: 0.0504098\tbest: 0.0504098 (4)\ttotal: 2.86s\tremaining: 54.3s\n",
      "5:\tlearn: 0.0513072\ttest: 0.0488451\tbest: 0.0488451 (5)\ttotal: 3.42s\tremaining: 53.6s\n",
      "6:\tlearn: 0.0498265\ttest: 0.0475095\tbest: 0.0475095 (6)\ttotal: 3.99s\tremaining: 53s\n",
      "7:\tlearn: 0.0484773\ttest: 0.0461885\tbest: 0.0461885 (7)\ttotal: 4.61s\tremaining: 53s\n",
      "8:\tlearn: 0.0471000\ttest: 0.0449116\tbest: 0.0449116 (8)\ttotal: 5.19s\tremaining: 52.4s\n",
      "9:\tlearn: 0.0458285\ttest: 0.0437789\tbest: 0.0437789 (9)\ttotal: 5.76s\tremaining: 51.9s\n",
      "10:\tlearn: 0.0446075\ttest: 0.0426330\tbest: 0.0426330 (10)\ttotal: 6.33s\tremaining: 51.2s\n",
      "11:\tlearn: 0.0435406\ttest: 0.0417520\tbest: 0.0417520 (11)\ttotal: 6.87s\tremaining: 50.4s\n",
      "12:\tlearn: 0.0425302\ttest: 0.0408982\tbest: 0.0408982 (12)\ttotal: 7.42s\tremaining: 49.6s\n",
      "13:\tlearn: 0.0415749\ttest: 0.0400630\tbest: 0.0400630 (13)\ttotal: 7.95s\tremaining: 48.8s\n",
      "14:\tlearn: 0.0406106\ttest: 0.0392419\tbest: 0.0392419 (14)\ttotal: 8.5s\tremaining: 48.2s\n",
      "15:\tlearn: 0.0397713\ttest: 0.0385058\tbest: 0.0385058 (15)\ttotal: 9.18s\tremaining: 48.2s\n",
      "16:\tlearn: 0.0389463\ttest: 0.0378086\tbest: 0.0378086 (16)\ttotal: 9.72s\tremaining: 47.4s\n",
      "17:\tlearn: 0.0380818\ttest: 0.0370172\tbest: 0.0370172 (17)\ttotal: 10.3s\tremaining: 46.7s\n",
      "18:\tlearn: 0.0372896\ttest: 0.0363825\tbest: 0.0363825 (18)\ttotal: 10.8s\tremaining: 46s\n",
      "19:\tlearn: 0.0365543\ttest: 0.0358014\tbest: 0.0358014 (19)\ttotal: 11.3s\tremaining: 45.4s\n",
      "20:\tlearn: 0.0358022\ttest: 0.0350990\tbest: 0.0350990 (20)\ttotal: 11.9s\tremaining: 44.7s\n",
      "21:\tlearn: 0.0351722\ttest: 0.0345466\tbest: 0.0345466 (21)\ttotal: 12.5s\tremaining: 44.2s\n",
      "22:\tlearn: 0.0345312\ttest: 0.0339974\tbest: 0.0339974 (22)\ttotal: 13s\tremaining: 43.5s\n",
      "23:\tlearn: 0.0339131\ttest: 0.0334446\tbest: 0.0334446 (23)\ttotal: 13.5s\tremaining: 42.7s\n",
      "24:\tlearn: 0.0333606\ttest: 0.0329695\tbest: 0.0329695 (24)\ttotal: 14s\tremaining: 42s\n",
      "25:\tlearn: 0.0328653\ttest: 0.0325659\tbest: 0.0325659 (25)\ttotal: 14.5s\tremaining: 41.3s\n",
      "26:\tlearn: 0.0324138\ttest: 0.0321873\tbest: 0.0321873 (26)\ttotal: 15.1s\tremaining: 40.7s\n",
      "27:\tlearn: 0.0319357\ttest: 0.0318134\tbest: 0.0318134 (27)\ttotal: 15.6s\tremaining: 40.1s\n",
      "28:\tlearn: 0.0315288\ttest: 0.0315237\tbest: 0.0315237 (28)\ttotal: 16.1s\tremaining: 39.4s\n",
      "29:\tlearn: 0.0311316\ttest: 0.0312096\tbest: 0.0312096 (29)\ttotal: 16.6s\tremaining: 38.8s\n",
      "30:\tlearn: 0.0307351\ttest: 0.0308623\tbest: 0.0308623 (30)\ttotal: 17.2s\tremaining: 38.3s\n",
      "31:\tlearn: 0.0303873\ttest: 0.0305721\tbest: 0.0305721 (31)\ttotal: 17.7s\tremaining: 37.7s\n",
      "32:\tlearn: 0.0300300\ttest: 0.0303169\tbest: 0.0303169 (32)\ttotal: 18.3s\tremaining: 37.1s\n",
      "33:\tlearn: 0.0297156\ttest: 0.0300450\tbest: 0.0300450 (33)\ttotal: 18.8s\tremaining: 36.4s\n",
      "34:\tlearn: 0.0293900\ttest: 0.0298116\tbest: 0.0298116 (34)\ttotal: 19.3s\tremaining: 35.8s\n",
      "35:\tlearn: 0.0290997\ttest: 0.0296317\tbest: 0.0296317 (35)\ttotal: 19.8s\tremaining: 35.1s\n",
      "36:\tlearn: 0.0288346\ttest: 0.0294698\tbest: 0.0294698 (36)\ttotal: 20.3s\tremaining: 34.5s\n",
      "37:\tlearn: 0.0285803\ttest: 0.0292761\tbest: 0.0292761 (37)\ttotal: 20.8s\tremaining: 33.9s\n",
      "38:\tlearn: 0.0283513\ttest: 0.0291312\tbest: 0.0291312 (38)\ttotal: 21.3s\tremaining: 33.3s\n",
      "39:\tlearn: 0.0281264\ttest: 0.0289887\tbest: 0.0289887 (39)\ttotal: 21.8s\tremaining: 32.8s\n",
      "40:\tlearn: 0.0279273\ttest: 0.0288449\tbest: 0.0288449 (40)\ttotal: 22.3s\tremaining: 32.1s\n",
      "41:\tlearn: 0.0277336\ttest: 0.0287023\tbest: 0.0287023 (41)\ttotal: 22.8s\tremaining: 31.5s\n",
      "42:\tlearn: 0.0275218\ttest: 0.0286000\tbest: 0.0286000 (42)\ttotal: 23.4s\tremaining: 31s\n",
      "43:\tlearn: 0.0272993\ttest: 0.0284914\tbest: 0.0284914 (43)\ttotal: 23.9s\tremaining: 30.5s\n",
      "44:\tlearn: 0.0270868\ttest: 0.0283977\tbest: 0.0283977 (44)\ttotal: 24.5s\tremaining: 29.9s\n",
      "45:\tlearn: 0.0269063\ttest: 0.0283062\tbest: 0.0283062 (45)\ttotal: 25s\tremaining: 29.4s\n",
      "46:\tlearn: 0.0267093\ttest: 0.0281949\tbest: 0.0281949 (46)\ttotal: 25.6s\tremaining: 28.8s\n",
      "47:\tlearn: 0.0265173\ttest: 0.0281344\tbest: 0.0281344 (47)\ttotal: 26.1s\tremaining: 28.3s\n",
      "48:\tlearn: 0.0263489\ttest: 0.0280695\tbest: 0.0280695 (48)\ttotal: 26.6s\tremaining: 27.7s\n",
      "49:\tlearn: 0.0262108\ttest: 0.0280018\tbest: 0.0280018 (49)\ttotal: 27.2s\tremaining: 27.2s\n",
      "50:\tlearn: 0.0260665\ttest: 0.0279333\tbest: 0.0279333 (50)\ttotal: 27.8s\tremaining: 26.7s\n",
      "51:\tlearn: 0.0259302\ttest: 0.0278439\tbest: 0.0278439 (51)\ttotal: 28.3s\tremaining: 26.1s\n",
      "52:\tlearn: 0.0257836\ttest: 0.0278066\tbest: 0.0278066 (52)\ttotal: 28.9s\tremaining: 25.7s\n",
      "53:\tlearn: 0.0256307\ttest: 0.0277399\tbest: 0.0277399 (53)\ttotal: 29.5s\tremaining: 25.1s\n",
      "54:\tlearn: 0.0255039\ttest: 0.0276964\tbest: 0.0276964 (54)\ttotal: 30s\tremaining: 24.6s\n",
      "55:\tlearn: 0.0253839\ttest: 0.0276031\tbest: 0.0276031 (55)\ttotal: 30.7s\tremaining: 24.1s\n",
      "56:\tlearn: 0.0252522\ttest: 0.0275677\tbest: 0.0275677 (56)\ttotal: 31.2s\tremaining: 23.5s\n",
      "57:\tlearn: 0.0251551\ttest: 0.0275147\tbest: 0.0275147 (57)\ttotal: 31.7s\tremaining: 23s\n",
      "58:\tlearn: 0.0250659\ttest: 0.0274616\tbest: 0.0274616 (58)\ttotal: 32.2s\tremaining: 22.4s\n",
      "59:\tlearn: 0.0249607\ttest: 0.0274110\tbest: 0.0274110 (59)\ttotal: 32.7s\tremaining: 21.8s\n",
      "60:\tlearn: 0.0248841\ttest: 0.0273915\tbest: 0.0273915 (60)\ttotal: 33.2s\tremaining: 21.3s\n",
      "61:\tlearn: 0.0247837\ttest: 0.0273562\tbest: 0.0273562 (61)\ttotal: 33.8s\tremaining: 20.7s\n",
      "62:\tlearn: 0.0246783\ttest: 0.0273381\tbest: 0.0273381 (62)\ttotal: 34.3s\tremaining: 20.1s\n",
      "63:\tlearn: 0.0245703\ttest: 0.0273185\tbest: 0.0273185 (63)\ttotal: 35s\tremaining: 19.7s\n",
      "64:\tlearn: 0.0244920\ttest: 0.0272736\tbest: 0.0272736 (64)\ttotal: 35.5s\tremaining: 19.1s\n",
      "65:\tlearn: 0.0243812\ttest: 0.0272443\tbest: 0.0272443 (65)\ttotal: 36s\tremaining: 18.6s\n",
      "66:\tlearn: 0.0242776\ttest: 0.0272119\tbest: 0.0272119 (66)\ttotal: 36.5s\tremaining: 18s\n",
      "67:\tlearn: 0.0241733\ttest: 0.0271725\tbest: 0.0271725 (67)\ttotal: 37s\tremaining: 17.4s\n",
      "68:\tlearn: 0.0240764\ttest: 0.0271341\tbest: 0.0271341 (68)\ttotal: 37.5s\tremaining: 16.9s\n",
      "69:\tlearn: 0.0239946\ttest: 0.0271030\tbest: 0.0271030 (69)\ttotal: 38s\tremaining: 16.3s\n",
      "70:\tlearn: 0.0239026\ttest: 0.0270926\tbest: 0.0270926 (70)\ttotal: 38.5s\tremaining: 15.7s\n",
      "71:\tlearn: 0.0238162\ttest: 0.0270688\tbest: 0.0270688 (71)\ttotal: 39s\tremaining: 15.2s\n",
      "72:\tlearn: 0.0237199\ttest: 0.0270570\tbest: 0.0270570 (72)\ttotal: 39.6s\tremaining: 14.6s\n",
      "73:\tlearn: 0.0236385\ttest: 0.0270417\tbest: 0.0270417 (73)\ttotal: 40.1s\tremaining: 14.1s\n",
      "74:\tlearn: 0.0235586\ttest: 0.0270222\tbest: 0.0270222 (74)\ttotal: 40.6s\tremaining: 13.5s\n",
      "75:\tlearn: 0.0234760\ttest: 0.0269964\tbest: 0.0269964 (75)\ttotal: 41.1s\tremaining: 13s\n",
      "76:\tlearn: 0.0233643\ttest: 0.0269629\tbest: 0.0269629 (76)\ttotal: 41.6s\tremaining: 12.4s\n",
      "77:\tlearn: 0.0233155\ttest: 0.0269359\tbest: 0.0269359 (77)\ttotal: 41.7s\tremaining: 11.8s\n",
      "78:\tlearn: 0.0232504\ttest: 0.0269323\tbest: 0.0269323 (78)\ttotal: 42.2s\tremaining: 11.2s\n",
      "79:\tlearn: 0.0231801\ttest: 0.0268807\tbest: 0.0268807 (79)\ttotal: 42.7s\tremaining: 10.7s\n",
      "80:\tlearn: 0.0231075\ttest: 0.0268524\tbest: 0.0268524 (80)\ttotal: 43.2s\tremaining: 10.1s\n",
      "81:\tlearn: 0.0230097\ttest: 0.0268432\tbest: 0.0268432 (81)\ttotal: 43.8s\tremaining: 9.62s\n",
      "82:\tlearn: 0.0229247\ttest: 0.0268448\tbest: 0.0268432 (81)\ttotal: 44.4s\tremaining: 9.08s\n",
      "83:\tlearn: 0.0228503\ttest: 0.0268362\tbest: 0.0268362 (83)\ttotal: 44.9s\tremaining: 8.55s\n",
      "84:\tlearn: 0.0227400\ttest: 0.0268342\tbest: 0.0268342 (84)\ttotal: 45.4s\tremaining: 8.02s\n",
      "85:\tlearn: 0.0226898\ttest: 0.0268364\tbest: 0.0268342 (84)\ttotal: 46s\tremaining: 7.49s\n",
      "86:\tlearn: 0.0226276\ttest: 0.0268217\tbest: 0.0268217 (86)\ttotal: 46.6s\tremaining: 6.96s\n",
      "87:\tlearn: 0.0225481\ttest: 0.0268207\tbest: 0.0268207 (87)\ttotal: 47.1s\tremaining: 6.43s\n",
      "88:\tlearn: 0.0224343\ttest: 0.0267839\tbest: 0.0267839 (88)\ttotal: 47.7s\tremaining: 5.89s\n",
      "89:\tlearn: 0.0223788\ttest: 0.0267464\tbest: 0.0267464 (89)\ttotal: 47.9s\tremaining: 5.33s\n",
      "90:\tlearn: 0.0223080\ttest: 0.0267301\tbest: 0.0267301 (90)\ttotal: 48.5s\tremaining: 4.79s\n",
      "91:\tlearn: 0.0222079\ttest: 0.0267249\tbest: 0.0267249 (91)\ttotal: 49s\tremaining: 4.26s\n",
      "92:\tlearn: 0.0221245\ttest: 0.0267038\tbest: 0.0267038 (92)\ttotal: 49.6s\tremaining: 3.73s\n",
      "93:\tlearn: 0.0220295\ttest: 0.0266973\tbest: 0.0266973 (93)\ttotal: 50.2s\tremaining: 3.2s\n",
      "94:\tlearn: 0.0219324\ttest: 0.0266919\tbest: 0.0266919 (94)\ttotal: 50.7s\tremaining: 2.67s\n",
      "95:\tlearn: 0.0218949\ttest: 0.0266765\tbest: 0.0266765 (95)\ttotal: 51.2s\tremaining: 2.13s\n",
      "96:\tlearn: 0.0218249\ttest: 0.0266530\tbest: 0.0266530 (96)\ttotal: 51.8s\tremaining: 1.6s\n",
      "97:\tlearn: 0.0217642\ttest: 0.0266380\tbest: 0.0266380 (97)\ttotal: 52.4s\tremaining: 1.07s\n",
      "98:\tlearn: 0.0217089\ttest: 0.0266332\tbest: 0.0266332 (98)\ttotal: 52.9s\tremaining: 535ms\n",
      "99:\tlearn: 0.0216428\ttest: 0.0266119\tbest: 0.0266119 (99)\ttotal: 53.4s\tremaining: 0us\n",
      "\n",
      "bestTest = 0.0266118922\n",
      "bestIteration = 99\n",
      "\n"
     ]
    },
    {
     "data": {
      "text/plain": [
       "<catboost.core.CatBoostRegressor at 0x26d8d0afc08>"
      ]
     },
     "execution_count": 23,
     "metadata": {},
     "output_type": "execute_result"
    }
   ],
   "source": [
    "cb_model_depth = CatBoostRegressor(#iterations=1000,\n",
    "                                 learning_rate=0.05,\n",
    "                                 depth=10,\n",
    "                                 random_seed = CB_RANDOMSEED,\n",
    "                   n_estimators=100,\n",
    "                                  )\n",
    "# Fit model\n",
    "cb_model_depth.fit(train_ds_depth,\n",
    "                   eval_set=val_ds_depth, \n",
    "                   #plot = True,\n",
    "                  )"
   ]
  },
  {
   "cell_type": "code",
   "execution_count": 24,
   "id": "2596cde2-acc0-4f27-8ab9-6658e7cba842",
   "metadata": {},
   "outputs": [
    {
     "data": {
      "text/plain": [
       "(0.8796123117665077, 0.7989995324548504)"
      ]
     },
     "execution_count": 24,
     "metadata": {},
     "output_type": "execute_result"
    }
   ],
   "source": [
    "# Get predictions and metrics\n",
    "preds_train_depth = cb_model_depth.predict(x_train[cat_cols + num_cols])\n",
    "preds_val_depth   = cb_model_depth.predict(val_ds_depth)\n",
    "\n",
    "train_score_depth = r2_score(y_train[\"depth\"], preds_train_depth)\n",
    "val_score_depth   = r2_score(y_val[\"depth\"],   preds_val_depth)\n",
    "\n",
    "train_score_depth, val_score_depth"
   ]
  },
  {
   "cell_type": "raw",
   "id": "42b4b5db-a639-4829-9350-0c78a2bb037b",
   "metadata": {},
   "source": [
    "(0.878413173781118, 0.7974803565676941) emb + pca 64 + lags + nauth + all_norm + parse"
   ]
  },
  {
   "cell_type": "code",
   "execution_count": 25,
   "id": "bf7b2ffd-0f51-492c-ad5c-cd0e859050d8",
   "metadata": {},
   "outputs": [
    {
     "data": {
      "text/plain": [
       "(5584, 287)"
      ]
     },
     "execution_count": 25,
     "metadata": {},
     "output_type": "execute_result"
    }
   ],
   "source": [
    "x_train.shape"
   ]
  },
  {
   "cell_type": "code",
   "execution_count": 26,
   "id": "a37608db-f13d-45fc-9f3f-dd430a6f0839",
   "metadata": {},
   "outputs": [
    {
     "data": {
      "image/png": "[encoded data removed]",
      "text/plain": [
       "<Figure size 720x576 with 1 Axes>"
      ]
     },
     "metadata": {
      "needs_background": "light"
     },
     "output_type": "display_data"
    }
   ],
   "source": [
    "#plot_feature_importance(cb_model_views, train_ds_views, 30)\n",
    "plot_feature_importance(cb_model_depth.get_feature_importance(), train_ds_depth.get_feature_names(), 'CATBOOST')"
   ]
  },
  {
   "cell_type": "code",
   "execution_count": null,
   "id": "5eaabd43-32cd-42df-9c8f-a88c7c8cfe3c",
   "metadata": {},
   "outputs": [],
   "source": []
  },
  {
   "cell_type": "markdown",
   "id": "fafdf6ea-9687-472f-ab6e-86125f5dc7eb",
   "metadata": {},
   "source": [
    "## full_reads_percent"
   ]
  },
  {
   "cell_type": "code",
   "execution_count": 27,
   "id": "fab012d5-56fd-4c3e-9b9d-41e1b76832e8",
   "metadata": {},
   "outputs": [],
   "source": [
    "#pd.DataFrame(preds_train_depth, columns = ['depth_pred'])\n",
    "pred_scaler = preprocessing.StandardScaler()\n",
    "tmp = pred_scaler.fit_transform(preds_train_depth.reshape(-1, 1))\n",
    "pred_depth_train = pd.DataFrame(tmp, columns = ['depth_pred'])\n",
    "\n",
    "pred_depth_val   = pd.DataFrame(pred_scaler.transform(preds_val_depth.reshape(-1, 1)), columns = ['depth_pred'])"
   ]
  },
  {
   "cell_type": "code",
   "execution_count": null,
   "id": "ba1c8f1b-db34-4dbb-9ee2-6fe507ce7319",
   "metadata": {},
   "outputs": [],
   "source": []
  },
  {
   "cell_type": "raw",
   "id": "2dc89efd-2cf0-4de5-bff0-511e6e767943",
   "metadata": {},
   "source": [
    "print('before ', x_train.shape, x_val.shape, preds_train_depth.shape, preds_val_depth.shape)\n",
    "x_train = pd.concat([x_train, pred_depth_train], axis = 1)\n",
    "x_val   = pd.concat([x_val,   pred_depth_val],   axis = 1)\n",
    "print('after  ', x_train.shape, x_val.shape)"
   ]
  },
  {
   "cell_type": "code",
   "execution_count": null,
   "id": "38454f44-8a38-4ba8-9c7d-123819f11a42",
   "metadata": {},
   "outputs": [],
   "source": []
  },
  {
   "cell_type": "code",
   "execution_count": 28,
   "id": "e9595c2e-a58a-4099-9c9c-3abc1e141a20",
   "metadata": {},
   "outputs": [],
   "source": [
    "#train_ds_frp = Pool(x_train[cat_cols + num_cols + ['depth_pred']],\n",
    "train_ds_frp = Pool(x_train[cat_cols + num_cols],\n",
    "                      y_train[['full_reads_percent']],\n",
    "                      cat_features = cat_cols,\n",
    "                      feature_names = cat_cols + num_cols,\n",
    "                     )\n",
    "\n",
    "#val_ds_frp   = Pool(x_val[cat_cols + num_cols + ['depth_pred']],\n",
    "val_ds_frp   = Pool(x_val[cat_cols + num_cols],\n",
    "                      y_val[['full_reads_percent']],\n",
    "                      cat_features = cat_cols,\n",
    "                      feature_names = cat_cols + num_cols,\n",
    "                     )"
   ]
  },
  {
   "cell_type": "code",
   "execution_count": 29,
   "id": "7745c438-06e9-477e-ac52-37017039f9c4",
   "metadata": {},
   "outputs": [
    {
     "name": "stdout",
     "output_type": "stream",
     "text": [
      "0:\tlearn: 9.9261275\ttest: 10.0263568\tbest: 10.0263568 (0)\ttotal: 514ms\tremaining: 50.9s\n",
      "1:\tlearn: 9.7459131\ttest: 9.8613275\tbest: 9.8613275 (1)\ttotal: 1.26s\tremaining: 1m 1s\n",
      "2:\tlearn: 9.5802330\ttest: 9.7003161\tbest: 9.7003161 (2)\ttotal: 1.92s\tremaining: 1m 1s\n",
      "3:\tlearn: 9.4238530\ttest: 9.5554984\tbest: 9.5554984 (3)\ttotal: 2.56s\tremaining: 1m 1s\n",
      "4:\tlearn: 9.2877118\ttest: 9.4332581\tbest: 9.4332581 (4)\ttotal: 3.16s\tremaining: 1m\n",
      "5:\tlearn: 9.1607976\ttest: 9.3178337\tbest: 9.3178337 (5)\ttotal: 3.77s\tremaining: 59.1s\n",
      "6:\tlearn: 9.0395776\ttest: 9.2063354\tbest: 9.2063354 (6)\ttotal: 4.37s\tremaining: 58.1s\n",
      "7:\tlearn: 8.9307640\ttest: 9.1076540\tbest: 9.1076540 (7)\ttotal: 4.99s\tremaining: 57.4s\n",
      "8:\tlearn: 8.8164038\ttest: 9.0008728\tbest: 9.0008728 (8)\ttotal: 5.5s\tremaining: 55.6s\n",
      "9:\tlearn: 8.7174725\ttest: 8.9205453\tbest: 8.9205453 (9)\ttotal: 6.07s\tremaining: 54.6s\n",
      "10:\tlearn: 8.6115360\ttest: 8.8196864\tbest: 8.8196864 (10)\ttotal: 6.59s\tremaining: 53.3s\n",
      "11:\tlearn: 8.5222835\ttest: 8.7447157\tbest: 8.7447157 (11)\ttotal: 7.1s\tremaining: 52.1s\n",
      "12:\tlearn: 8.4376097\ttest: 8.6729388\tbest: 8.6729388 (12)\ttotal: 7.62s\tremaining: 51s\n",
      "13:\tlearn: 8.3448122\ttest: 8.5772055\tbest: 8.5772055 (13)\ttotal: 7.65s\tremaining: 47s\n",
      "14:\tlearn: 8.2644696\ttest: 8.5069083\tbest: 8.5069083 (14)\ttotal: 8.14s\tremaining: 46.1s\n",
      "15:\tlearn: 8.1820995\ttest: 8.4296064\tbest: 8.4296064 (15)\ttotal: 8.73s\tremaining: 45.8s\n",
      "16:\tlearn: 8.1043654\ttest: 8.3668022\tbest: 8.3668022 (16)\ttotal: 9.26s\tremaining: 45.2s\n",
      "17:\tlearn: 8.0334220\ttest: 8.3018684\tbest: 8.3018684 (17)\ttotal: 9.78s\tremaining: 44.6s\n",
      "18:\tlearn: 7.9642742\ttest: 8.2510185\tbest: 8.2510185 (18)\ttotal: 10.3s\tremaining: 44s\n",
      "19:\tlearn: 7.9076140\ttest: 8.2027763\tbest: 8.2027763 (19)\ttotal: 10.9s\tremaining: 43.6s\n",
      "20:\tlearn: 7.8355400\ttest: 8.1590943\tbest: 8.1590943 (20)\ttotal: 11.4s\tremaining: 43.1s\n",
      "21:\tlearn: 7.7806990\ttest: 8.1154640\tbest: 8.1154640 (21)\ttotal: 12s\tremaining: 42.5s\n",
      "22:\tlearn: 7.7242754\ttest: 8.0778852\tbest: 8.0778852 (22)\ttotal: 12.5s\tremaining: 42s\n",
      "23:\tlearn: 7.6696627\ttest: 8.0313304\tbest: 8.0313304 (23)\ttotal: 13.1s\tremaining: 41.4s\n",
      "24:\tlearn: 7.6199658\ttest: 8.0003135\tbest: 8.0003135 (24)\ttotal: 13.6s\tremaining: 40.9s\n",
      "25:\tlearn: 7.5696629\ttest: 7.9635273\tbest: 7.9635273 (25)\ttotal: 14.2s\tremaining: 40.3s\n",
      "26:\tlearn: 7.5229048\ttest: 7.9294131\tbest: 7.9294131 (26)\ttotal: 14.7s\tremaining: 39.7s\n",
      "27:\tlearn: 7.4750798\ttest: 7.8942245\tbest: 7.8942245 (27)\ttotal: 15.2s\tremaining: 39.2s\n",
      "28:\tlearn: 7.4296685\ttest: 7.8664651\tbest: 7.8664651 (28)\ttotal: 15.8s\tremaining: 38.6s\n",
      "29:\tlearn: 7.3881531\ttest: 7.8363782\tbest: 7.8363782 (29)\ttotal: 16.3s\tremaining: 38s\n",
      "30:\tlearn: 7.3533602\ttest: 7.8085753\tbest: 7.8085753 (30)\ttotal: 16.8s\tremaining: 37.5s\n",
      "31:\tlearn: 7.3180834\ttest: 7.7765433\tbest: 7.7765433 (31)\ttotal: 17.4s\tremaining: 36.9s\n",
      "32:\tlearn: 7.2794084\ttest: 7.7519052\tbest: 7.7519052 (32)\ttotal: 17.9s\tremaining: 36.3s\n",
      "33:\tlearn: 7.2468424\ttest: 7.7235973\tbest: 7.7235973 (33)\ttotal: 18.5s\tremaining: 35.8s\n",
      "34:\tlearn: 7.2183992\ttest: 7.7048308\tbest: 7.7048308 (34)\ttotal: 19s\tremaining: 35.3s\n",
      "35:\tlearn: 7.1765532\ttest: 7.6865759\tbest: 7.6865759 (35)\ttotal: 19.5s\tremaining: 34.7s\n",
      "36:\tlearn: 7.1458571\ttest: 7.6699032\tbest: 7.6699032 (36)\ttotal: 20s\tremaining: 34.1s\n",
      "37:\tlearn: 7.1129215\ttest: 7.6539240\tbest: 7.6539240 (37)\ttotal: 20.5s\tremaining: 33.5s\n",
      "38:\tlearn: 7.0841997\ttest: 7.6344547\tbest: 7.6344547 (38)\ttotal: 21.1s\tremaining: 33s\n",
      "39:\tlearn: 7.0589246\ttest: 7.6116836\tbest: 7.6116836 (39)\ttotal: 21.6s\tremaining: 32.4s\n",
      "40:\tlearn: 7.0275990\ttest: 7.5987915\tbest: 7.5987915 (40)\ttotal: 22.2s\tremaining: 32s\n",
      "41:\tlearn: 7.0024231\ttest: 7.5851611\tbest: 7.5851611 (41)\ttotal: 22.8s\tremaining: 31.5s\n",
      "42:\tlearn: 6.9734502\ttest: 7.5704353\tbest: 7.5704353 (42)\ttotal: 23.4s\tremaining: 31s\n",
      "43:\tlearn: 6.9505786\ttest: 7.5565271\tbest: 7.5565271 (43)\ttotal: 23.9s\tremaining: 30.4s\n",
      "44:\tlearn: 6.9273228\ttest: 7.5404754\tbest: 7.5404754 (44)\ttotal: 24.4s\tremaining: 29.8s\n",
      "45:\tlearn: 6.9018812\ttest: 7.5265610\tbest: 7.5265610 (45)\ttotal: 24.9s\tremaining: 29.3s\n",
      "46:\tlearn: 6.8827388\ttest: 7.5080309\tbest: 7.5080309 (46)\ttotal: 25.4s\tremaining: 28.7s\n",
      "47:\tlearn: 6.8608909\ttest: 7.4977991\tbest: 7.4977991 (47)\ttotal: 26s\tremaining: 28.1s\n",
      "48:\tlearn: 6.8434214\ttest: 7.4839107\tbest: 7.4839107 (48)\ttotal: 26.7s\tremaining: 27.8s\n",
      "49:\tlearn: 6.8213316\ttest: 7.4718187\tbest: 7.4718187 (49)\ttotal: 27.4s\tremaining: 27.4s\n",
      "50:\tlearn: 6.7981545\ttest: 7.4621280\tbest: 7.4621280 (50)\ttotal: 28.1s\tremaining: 27s\n",
      "51:\tlearn: 6.7775826\ttest: 7.4490461\tbest: 7.4490461 (51)\ttotal: 28.8s\tremaining: 26.5s\n",
      "52:\tlearn: 6.7576032\ttest: 7.4372421\tbest: 7.4372421 (52)\ttotal: 29.4s\tremaining: 26s\n",
      "53:\tlearn: 6.7399427\ttest: 7.4278026\tbest: 7.4278026 (53)\ttotal: 30s\tremaining: 25.5s\n",
      "54:\tlearn: 6.7257976\ttest: 7.4187494\tbest: 7.4187494 (54)\ttotal: 30.6s\tremaining: 25s\n",
      "55:\tlearn: 6.7055578\ttest: 7.4098320\tbest: 7.4098320 (55)\ttotal: 31.2s\tremaining: 24.5s\n",
      "56:\tlearn: 6.6874753\ttest: 7.3966459\tbest: 7.3966459 (56)\ttotal: 31.8s\tremaining: 24s\n",
      "57:\tlearn: 6.6705598\ttest: 7.3910723\tbest: 7.3910723 (57)\ttotal: 32.5s\tremaining: 23.5s\n",
      "58:\tlearn: 6.6452669\ttest: 7.3813682\tbest: 7.3813682 (58)\ttotal: 33.1s\tremaining: 23s\n",
      "59:\tlearn: 6.6278627\ttest: 7.3692473\tbest: 7.3692473 (59)\ttotal: 33.7s\tremaining: 22.5s\n",
      "60:\tlearn: 6.6118884\ttest: 7.3616841\tbest: 7.3616841 (60)\ttotal: 34.3s\tremaining: 21.9s\n",
      "61:\tlearn: 6.5952343\ttest: 7.3604988\tbest: 7.3604988 (61)\ttotal: 34.8s\tremaining: 21.3s\n",
      "62:\tlearn: 6.5785486\ttest: 7.3560378\tbest: 7.3560378 (62)\ttotal: 35.3s\tremaining: 20.7s\n",
      "63:\tlearn: 6.5646296\ttest: 7.3499256\tbest: 7.3499256 (63)\ttotal: 35.9s\tremaining: 20.2s\n",
      "64:\tlearn: 6.5338076\ttest: 7.3439851\tbest: 7.3439851 (64)\ttotal: 36.5s\tremaining: 19.7s\n",
      "65:\tlearn: 6.5100551\ttest: 7.3381368\tbest: 7.3381368 (65)\ttotal: 37s\tremaining: 19.1s\n",
      "66:\tlearn: 6.4887149\ttest: 7.3292674\tbest: 7.3292674 (66)\ttotal: 37.6s\tremaining: 18.5s\n",
      "67:\tlearn: 6.4737389\ttest: 7.3238171\tbest: 7.3238171 (67)\ttotal: 38.2s\tremaining: 18s\n",
      "68:\tlearn: 6.4550470\ttest: 7.3166587\tbest: 7.3166587 (68)\ttotal: 38.8s\tremaining: 17.4s\n",
      "69:\tlearn: 6.4399852\ttest: 7.3127584\tbest: 7.3127584 (69)\ttotal: 39.4s\tremaining: 16.9s\n",
      "70:\tlearn: 6.4250180\ttest: 7.3008358\tbest: 7.3008358 (70)\ttotal: 40s\tremaining: 16.3s\n",
      "71:\tlearn: 6.4017465\ttest: 7.2930882\tbest: 7.2930882 (71)\ttotal: 40.6s\tremaining: 15.8s\n",
      "72:\tlearn: 6.3784340\ttest: 7.2945193\tbest: 7.2930882 (71)\ttotal: 41.3s\tremaining: 15.3s\n",
      "73:\tlearn: 6.3643423\ttest: 7.2845489\tbest: 7.2845489 (73)\ttotal: 42.1s\tremaining: 14.8s\n",
      "74:\tlearn: 6.3536915\ttest: 7.2820735\tbest: 7.2820735 (74)\ttotal: 42.9s\tremaining: 14.3s\n",
      "75:\tlearn: 6.3414501\ttest: 7.2746725\tbest: 7.2746725 (75)\ttotal: 43.5s\tremaining: 13.7s\n",
      "76:\tlearn: 6.3218148\ttest: 7.2710755\tbest: 7.2710755 (76)\ttotal: 44.1s\tremaining: 13.2s\n",
      "77:\tlearn: 6.3131367\ttest: 7.2664028\tbest: 7.2664028 (77)\ttotal: 44.7s\tremaining: 12.6s\n",
      "78:\tlearn: 6.3019933\ttest: 7.2610593\tbest: 7.2610593 (78)\ttotal: 45.4s\tremaining: 12.1s\n",
      "79:\tlearn: 6.2823145\ttest: 7.2603486\tbest: 7.2603486 (79)\ttotal: 46.1s\tremaining: 11.5s\n",
      "80:\tlearn: 6.2690702\ttest: 7.2564207\tbest: 7.2564207 (80)\ttotal: 46.8s\tremaining: 11s\n",
      "81:\tlearn: 6.2570785\ttest: 7.2497485\tbest: 7.2497485 (81)\ttotal: 47.5s\tremaining: 10.4s\n",
      "82:\tlearn: 6.2405967\ttest: 7.2463415\tbest: 7.2463415 (82)\ttotal: 48.1s\tremaining: 9.85s\n",
      "83:\tlearn: 6.2246138\ttest: 7.2489631\tbest: 7.2463415 (82)\ttotal: 48.9s\tremaining: 9.31s\n",
      "84:\tlearn: 6.2076647\ttest: 7.2419251\tbest: 7.2419251 (84)\ttotal: 49.5s\tremaining: 8.74s\n",
      "85:\tlearn: 6.1945355\ttest: 7.2412662\tbest: 7.2412662 (85)\ttotal: 50.3s\tremaining: 8.18s\n",
      "86:\tlearn: 6.1832188\ttest: 7.2344308\tbest: 7.2344308 (86)\ttotal: 50.9s\tremaining: 7.6s\n",
      "87:\tlearn: 6.1664112\ttest: 7.2320599\tbest: 7.2320599 (87)\ttotal: 51.6s\tremaining: 7.03s\n",
      "88:\tlearn: 6.1470132\ttest: 7.2262474\tbest: 7.2262474 (88)\ttotal: 52.2s\tremaining: 6.45s\n",
      "89:\tlearn: 6.1306271\ttest: 7.2223961\tbest: 7.2223961 (89)\ttotal: 52.8s\tremaining: 5.87s\n",
      "90:\tlearn: 6.1067381\ttest: 7.2165406\tbest: 7.2165406 (90)\ttotal: 53.3s\tremaining: 5.28s\n",
      "91:\tlearn: 6.0865503\ttest: 7.2152411\tbest: 7.2152411 (91)\ttotal: 53.9s\tremaining: 4.69s\n",
      "92:\tlearn: 6.0736653\ttest: 7.2106363\tbest: 7.2106363 (92)\ttotal: 54.4s\tremaining: 4.1s\n",
      "93:\tlearn: 6.0628721\ttest: 7.2107399\tbest: 7.2106363 (92)\ttotal: 55s\tremaining: 3.51s\n",
      "94:\tlearn: 6.0481080\ttest: 7.2047327\tbest: 7.2047327 (94)\ttotal: 55.5s\tremaining: 2.92s\n",
      "95:\tlearn: 6.0291446\ttest: 7.2028535\tbest: 7.2028535 (95)\ttotal: 56.3s\tremaining: 2.34s\n",
      "96:\tlearn: 6.0178161\ttest: 7.2024478\tbest: 7.2024478 (96)\ttotal: 56.8s\tremaining: 1.76s\n",
      "97:\tlearn: 5.9953540\ttest: 7.2041123\tbest: 7.2024478 (96)\ttotal: 57.3s\tremaining: 1.17s\n",
      "98:\tlearn: 5.9790145\ttest: 7.2017351\tbest: 7.2017351 (98)\ttotal: 57.9s\tremaining: 585ms\n",
      "99:\tlearn: 5.9668122\ttest: 7.1998291\tbest: 7.1998291 (99)\ttotal: 58.4s\tremaining: 0us\n",
      "\n",
      "bestTest = 7.199829073\n",
      "bestIteration = 99\n",
      "\n"
     ]
    },
    {
     "data": {
      "text/plain": [
       "<catboost.core.CatBoostRegressor at 0x26d946521c8>"
      ]
     },
     "execution_count": 29,
     "metadata": {},
     "output_type": "execute_result"
    }
   ],
   "source": [
    "cb_model_frp = CatBoostRegressor(#iterations=1000,\n",
    "                                 learning_rate=0.05,\n",
    "                                 depth=10,\n",
    "                                 random_seed = CB_RANDOMSEED,\n",
    "                   n_estimators=100,\n",
    "                                 #n_estimators=100,\n",
    "    #num_trees=None,\n",
    "                                )\n",
    "# Fit model\n",
    "cb_model_frp.fit(train_ds_frp,\n",
    "                   eval_set=val_ds_frp, \n",
    "                   #plot = True,\n",
    "                  )"
   ]
  },
  {
   "cell_type": "code",
   "execution_count": 30,
   "id": "ce2f5cf1-5605-4e75-99dd-8c23248ff512",
   "metadata": {},
   "outputs": [
    {
     "data": {
      "text/plain": [
       "(0.6526787438420959, 0.5029928330363905)"
      ]
     },
     "execution_count": 30,
     "metadata": {},
     "output_type": "execute_result"
    }
   ],
   "source": [
    "# Get predictions and metrics\n",
    "preds_train_frp = cb_model_frp.predict(x_train[cat_cols + num_cols])\n",
    "preds_val_frp   = cb_model_frp.predict(val_ds_frp)\n",
    "\n",
    "train_score_frp = r2_score(y_train[\"full_reads_percent\"], preds_train_frp)\n",
    "val_score_frp   = r2_score(y_val[\"full_reads_percent\"],   preds_val_frp)\n",
    "\n",
    "train_score_frp, val_score_frp"
   ]
  },
  {
   "cell_type": "raw",
   "id": "cec2f6b6-9782-4b5c-838c-66df8bfc72e5",
   "metadata": {},
   "source": [
    "(0.6576181247309321, 0.5170616937900752) emb + pca 64 + lags + nauth + all_norm + parse"
   ]
  },
  {
   "cell_type": "code",
   "execution_count": null,
   "id": "c6b000b9-9f71-4f8d-bb73-d58b91330eca",
   "metadata": {},
   "outputs": [],
   "source": []
  },
  {
   "cell_type": "code",
   "execution_count": 31,
   "id": "0921f52a-f376-4e01-bf22-958db46977c7",
   "metadata": {},
   "outputs": [
    {
     "data": {
      "image/png": "[encoded data removed]",
      "text/plain": [
       "<Figure size 720x576 with 1 Axes>"
      ]
     },
     "metadata": {
      "needs_background": "light"
     },
     "output_type": "display_data"
    }
   ],
   "source": [
    "#plot_feature_importance(cb_model_views, train_ds_views, 30)\n",
    "plot_feature_importance(cb_model_frp.get_feature_importance(), train_ds_frp.get_feature_names(), 'CATBOOST')"
   ]
  },
  {
   "cell_type": "code",
   "execution_count": null,
   "id": "be50fe97-02cb-48bb-beb5-c100041aa1f0",
   "metadata": {},
   "outputs": [],
   "source": []
  },
  {
   "cell_type": "code",
   "execution_count": 32,
   "id": "304d2314-a21f-4bb0-bd61-9fa94711f9f1",
   "metadata": {},
   "outputs": [
    {
     "data": {
      "text/plain": [
       "(0.74770790858208, 0.521943951171824)"
      ]
     },
     "execution_count": 32,
     "metadata": {},
     "output_type": "execute_result"
    }
   ],
   "source": [
    "score_train = 0.4 * train_score_views + 0.3 * train_score_depth + 0.3 * train_score_frp\n",
    "score_val  = 0.4 * val_score_views  + 0.3 * val_score_depth  + 0.3 * val_score_frp\n",
    "\n",
    "score_train, score_val"
   ]
  },
  {
   "cell_type": "raw",
   "id": "b4e2f449-432c-42f7-8cce-5cb15323aca0",
   "metadata": {},
   "source": [
    "(0.7416662995099548, 0.491582766764076))  emb + pca 64 + lags + nauth + all_norm + parse"
   ]
  },
  {
   "cell_type": "code",
   "execution_count": null,
   "id": "8ff54468-e3a7-403c-b6e9-67ad93a5e09e",
   "metadata": {},
   "outputs": [],
   "source": []
  },
  {
   "cell_type": "code",
   "execution_count": null,
   "id": "23391983-198d-4fea-8c34-7915e8ea2819",
   "metadata": {},
   "outputs": [],
   "source": []
  },
  {
   "cell_type": "markdown",
   "id": "551ccadd-2762-4df3-8719-2b04118093ce",
   "metadata": {},
   "source": [
    "## Сохраняем предсказания для ансамблей / стекинга"
   ]
  },
  {
   "cell_type": "code",
   "execution_count": 33,
   "id": "0b41920c-0d99-4000-815e-0536d87f81b6",
   "metadata": {},
   "outputs": [
    {
     "name": "stdout",
     "output_type": "stream",
     "text": [
      "before  (5584, 1) (5584,) (5584,) (5584,)\n",
      "before  (1397, 1) (1397,) (1397,) (1397,)\n",
      "after  (5584, 4)\n",
      "after  (1397, 4)\n"
     ]
    }
   ],
   "source": [
    "x_train_pred = x_train[['document_id']]\n",
    "x_val_pred   = x_val[['document_id']]\n",
    "\n",
    "print('before ', x_train_pred.shape, preds_train_views.shape, preds_train_depth.shape, preds_train_frp.shape)\n",
    "print('before ', x_val_pred.shape,   preds_val_views.shape,   preds_val_depth.shape,   preds_val_frp.shape)\n",
    "\n",
    "# https://github.com/pandas-dev/pandas/issues/25349\n",
    "x_train_pred = pd.concat([x_train_pred.reset_index(drop=True), \n",
    "                          pd.DataFrame(preds_train_views).reset_index(drop = True), \n",
    "                          pd.DataFrame(preds_train_depth).reset_index(drop = True), \n",
    "                          pd.DataFrame(preds_train_frp).reset_index(drop = True)\n",
    "                         ], ignore_index = True, axis = 1)\n",
    "x_val_pred   = pd.concat([x_val_pred.reset_index(drop=True),   \n",
    "                          pd.DataFrame(preds_val_views).reset_index(drop = True), \n",
    "                          pd.DataFrame(preds_val_depth).reset_index(drop = True), \n",
    "                          pd.DataFrame(preds_val_frp).reset_index(drop = True)\n",
    "                         ], ignore_index = True, axis = 1)\n",
    "\n",
    "x_train_pred.columns = ['document_id', 'views_pred_cb', 'depth_pred_cb', 'frp_pred_cb']\n",
    "x_val_pred.columns   = ['document_id', 'views_pred_cb', 'depth_pred_cb', 'frp_pred_cb']\n",
    "\n",
    "print('after ', x_train_pred.shape)\n",
    "print('after ', x_val_pred.shape)\n",
    "\n",
    "x_train_pred.to_csv(os.path.join(DIR_SUBM_PART, f'{NAME}_train_part.csv'), index = False)\n",
    "x_val_pred.to_csv(os.path.join(DIR_SUBM_PART, f'{NAME}_val_part.csv'), index = False)"
   ]
  },
  {
   "cell_type": "code",
   "execution_count": null,
   "id": "381dce61-ab9a-45f9-934a-3cb80c94d115",
   "metadata": {},
   "outputs": [],
   "source": []
  },
  {
   "cell_type": "code",
   "execution_count": null,
   "id": "066f6b7b-c8f0-46d7-9cd2-ae5944cc7b27",
   "metadata": {},
   "outputs": [],
   "source": []
  },
  {
   "cell_type": "code",
   "execution_count": null,
   "id": "c3d0c887-53ce-4db0-99a9-4732421f2173",
   "metadata": {},
   "outputs": [],
   "source": []
  },
  {
   "cell_type": "markdown",
   "id": "81b7d454-37b6-45ee-94fb-99af0fe23ae5",
   "metadata": {},
   "source": [
    "## save models"
   ]
  },
  {
   "cell_type": "code",
   "execution_count": null,
   "id": "aa4adde3-b017-4cea-9ae8-fc7cea77bab1",
   "metadata": {},
   "outputs": [],
   "source": []
  },
  {
   "cell_type": "code",
   "execution_count": 34,
   "id": "75aa11de-71cb-47a7-9e22-2857f7f7e643",
   "metadata": {},
   "outputs": [],
   "source": [
    "#cb_model_views.save_model(os.path.join(DIR_MODELS, f'{NTRY}_pca64_cb_views.cbm'), \n",
    "cb_model_views.save_model(os.path.join(DIR_MODELS, f'{NAME}_v.cbm'), \n",
    "                           format=\"cbm\",\n",
    "                           export_parameters=None,\n",
    "                           pool=None\n",
    "                         )\n",
    "\n",
    "cb_model_depth.save_model(os.path.join(DIR_MODELS, f'{NAME}_d.cbm'), \n",
    "                           format=\"cbm\",\n",
    "                           export_parameters=None,\n",
    "                           pool=None\n",
    "                         )\n",
    "\n",
    "cb_model_frp.save_model(os.path.join(DIR_MODELS, f'{NAME}_f.cbm'), \n",
    "                           format=\"cbm\",\n",
    "                           export_parameters=None,\n",
    "                           pool=None\n",
    "                         )"
   ]
  },
  {
   "cell_type": "code",
   "execution_count": null,
   "id": "102c6530-8a1b-4c1c-a1d3-e9d95e350220",
   "metadata": {},
   "outputs": [],
   "source": []
  },
  {
   "cell_type": "markdown",
   "id": "ac604b78-2718-408d-8d19-5b202d3f5a19",
   "metadata": {},
   "source": [
    "## make predict"
   ]
  },
  {
   "cell_type": "code",
   "execution_count": 35,
   "id": "df8e4305-28ed-444f-8325-e6460f7d2271",
   "metadata": {},
   "outputs": [],
   "source": [
    "pred_views = cb_model_views.predict(df_test[cat_cols + num_cols])\n",
    "pred_depth = cb_model_depth.predict(df_test[cat_cols + num_cols])\n",
    "pred_frp   = cb_model_frp.predict(  df_test[cat_cols + num_cols])"
   ]
  },
  {
   "cell_type": "code",
   "execution_count": 51,
   "id": "f422300e-24cf-435a-af11-a450f4f10393",
   "metadata": {},
   "outputs": [],
   "source": [
    "subm = pd.DataFrame()\n",
    "subm['document_id'] = df_test.document_id\n",
    "\n",
    "subm['views'] = pred_views\n",
    "subm['depth'] = pred_depth\n",
    "subm['full_reads_percent'] = pred_frp"
   ]
  },
  {
   "cell_type": "code",
   "execution_count": 75,
   "id": "0b45eb99-3913-44a7-b4e6-f0c49e38e890",
   "metadata": {},
   "outputs": [
    {
     "data": {
      "text/html": [
       "<div>\n",
       "<style scoped>\n",
       "    .dataframe tbody tr th:only-of-type {\n",
       "        vertical-align: middle;\n",
       "    }\n",
       "\n",
       "    .dataframe tbody tr th {\n",
       "        vertical-align: top;\n",
       "    }\n",
       "\n",
       "    .dataframe thead th {\n",
       "        text-align: right;\n",
       "    }\n",
       "</style>\n",
       "<table border=\"1\" class=\"dataframe\">\n",
       "  <thead>\n",
       "    <tr style=\"text-align: right;\">\n",
       "      <th></th>\n",
       "      <th>views</th>\n",
       "      <th>depth</th>\n",
       "      <th>full_reads_percent</th>\n",
       "    </tr>\n",
       "  </thead>\n",
       "  <tbody>\n",
       "    <tr>\n",
       "      <th>945</th>\n",
       "      <td>2554204.0</td>\n",
       "      <td>1.799</td>\n",
       "      <td>4.978</td>\n",
       "    </tr>\n",
       "    <tr>\n",
       "      <th>1440</th>\n",
       "      <td>2554204.0</td>\n",
       "      <td>1.799</td>\n",
       "      <td>4.978</td>\n",
       "    </tr>\n",
       "    <tr>\n",
       "      <th>2645</th>\n",
       "      <td>2554204.0</td>\n",
       "      <td>1.799</td>\n",
       "      <td>4.978</td>\n",
       "    </tr>\n",
       "  </tbody>\n",
       "</table>\n",
       "</div>"
      ],
      "text/plain": [
       "          views  depth  full_reads_percent\n",
       "945   2554204.0  1.799               4.978\n",
       "1440  2554204.0  1.799               4.978\n",
       "2645  2554204.0  1.799               4.978"
      ]
     },
     "execution_count": 75,
     "metadata": {},
     "output_type": "execute_result"
    }
   ],
   "source": [
    "doc_id_ukr = df_test[df_test.ctr == CTR_UKR].document_id.values\n",
    "subm.query('document_id in @doc_id_ukr')[['views', 'depth', 'full_reads_percent']]"
   ]
  },
  {
   "cell_type": "code",
   "execution_count": 69,
   "id": "43db487b-0209-4e2b-8ee0-1f33b2727552",
   "metadata": {},
   "outputs": [],
   "source": [
    "# присваиваем статичные данные\n",
    "subm.loc[subm.query('document_id in @doc_id_ukr').index, 'views'] = VIEWS_UKR\n",
    "subm.loc[subm.query('document_id in @doc_id_ukr').index, 'depth'] = DEPTH_UKR\n",
    "subm.loc[subm.query('document_id in @doc_id_ukr').index, 'full_reads_percent'] = FPR_UKR\n",
    "\n",
    "subm.query('document_id in @doc_id_ukr')[['views', 'depth', 'full_reads_percent']]"
   ]
  },
  {
   "cell_type": "code",
   "execution_count": null,
   "id": "09b08a77-113c-45bb-ac28-55fef5f523b0",
   "metadata": {},
   "outputs": [],
   "source": []
  },
  {
   "cell_type": "code",
   "execution_count": 71,
   "id": "37fa65e1-c702-4764-8f84-eb93b80c73f8",
   "metadata": {},
   "outputs": [
    {
     "data": {
      "text/html": [
       "<div>\n",
       "<style scoped>\n",
       "    .dataframe tbody tr th:only-of-type {\n",
       "        vertical-align: middle;\n",
       "    }\n",
       "\n",
       "    .dataframe tbody tr th {\n",
       "        vertical-align: top;\n",
       "    }\n",
       "\n",
       "    .dataframe thead th {\n",
       "        text-align: right;\n",
       "    }\n",
       "</style>\n",
       "<table border=\"1\" class=\"dataframe\">\n",
       "  <thead>\n",
       "    <tr style=\"text-align: right;\">\n",
       "      <th></th>\n",
       "      <th>document_id</th>\n",
       "      <th>views</th>\n",
       "      <th>depth</th>\n",
       "      <th>full_reads_percent</th>\n",
       "    </tr>\n",
       "  </thead>\n",
       "  <tbody>\n",
       "    <tr>\n",
       "      <th>0</th>\n",
       "      <td>61f9569a9a794794245a82abJ0AvX96vTAaQCiWVbzoMdw</td>\n",
       "      <td>22583.899288</td>\n",
       "      <td>1.206031</td>\n",
       "      <td>47.080588</td>\n",
       "    </tr>\n",
       "    <tr>\n",
       "      <th>1</th>\n",
       "      <td>628c22b89a79470e553f594bQS5CqzXYRnmDdR2LaSreEw</td>\n",
       "      <td>10433.482871</td>\n",
       "      <td>1.063303</td>\n",
       "      <td>29.900982</td>\n",
       "    </tr>\n",
       "    <tr>\n",
       "      <th>2</th>\n",
       "      <td>627cb3249a7947ebdd752865XVsoyrUOT8OJJg2_finJhw</td>\n",
       "      <td>16805.473847</td>\n",
       "      <td>1.060795</td>\n",
       "      <td>29.040686</td>\n",
       "    </tr>\n",
       "    <tr>\n",
       "      <th>3</th>\n",
       "      <td>628618629a7947d4927eb812upfii3whSSuMXCqcqF8VbQ</td>\n",
       "      <td>11459.904922</td>\n",
       "      <td>1.062512</td>\n",
       "      <td>35.775333</td>\n",
       "    </tr>\n",
       "    <tr>\n",
       "      <th>4</th>\n",
       "      <td>620e76109a7947235623695b5hzCiIHdSYKQIr8WAM18bw</td>\n",
       "      <td>29300.316828</td>\n",
       "      <td>1.137263</td>\n",
       "      <td>31.940685</td>\n",
       "    </tr>\n",
       "  </tbody>\n",
       "</table>\n",
       "</div>"
      ],
      "text/plain": [
       "                                      document_id         views     depth  \\\n",
       "0  61f9569a9a794794245a82abJ0AvX96vTAaQCiWVbzoMdw  22583.899288  1.206031   \n",
       "1  628c22b89a79470e553f594bQS5CqzXYRnmDdR2LaSreEw  10433.482871  1.063303   \n",
       "2  627cb3249a7947ebdd752865XVsoyrUOT8OJJg2_finJhw  16805.473847  1.060795   \n",
       "3  628618629a7947d4927eb812upfii3whSSuMXCqcqF8VbQ  11459.904922  1.062512   \n",
       "4  620e76109a7947235623695b5hzCiIHdSYKQIr8WAM18bw  29300.316828  1.137263   \n",
       "\n",
       "   full_reads_percent  \n",
       "0           47.080588  \n",
       "1           29.900982  \n",
       "2           29.040686  \n",
       "3           35.775333  \n",
       "4           31.940685  "
      ]
     },
     "execution_count": 71,
     "metadata": {},
     "output_type": "execute_result"
    }
   ],
   "source": [
    "subm.head()"
   ]
  },
  {
   "cell_type": "code",
   "execution_count": 72,
   "id": "00d26c97-fb11-49b4-940e-ea797b27d29d",
   "metadata": {},
   "outputs": [],
   "source": [
    "subm.to_csv(os.path.join(DIR_SUBM, f'{NAME}.csv'), index = False)"
   ]
  },
  {
   "cell_type": "code",
   "execution_count": 73,
   "id": "381434ea-0954-4ac1-8278-348a674c1a9c",
   "metadata": {},
   "outputs": [
    {
     "data": {
      "text/plain": [
       "Index(['document_id', 'title', 'publish_date', 'session', 'authors', 'ctr',\n",
       "       'category', 'tags', 'views', 'depth',\n",
       "       ...\n",
       "       'tt_emb54', 'tt_emb55', 'tt_emb56', 'tt_emb57', 'tt_emb58', 'tt_emb59',\n",
       "       'tt_emb60', 'tt_emb61', 'tt_emb62', 'tt_emb63'],\n",
       "      dtype='object', length=290)"
      ]
     },
     "execution_count": 73,
     "metadata": {},
     "output_type": "execute_result"
    }
   ],
   "source": [
    "df_train.columns"
   ]
  },
  {
   "cell_type": "code",
   "execution_count": null,
   "id": "de448a8b-31ef-460b-8358-db43867defd2",
   "metadata": {},
   "outputs": [],
   "source": []
  },
  {
   "cell_type": "code",
   "execution_count": null,
   "id": "143c5efd-8bf2-46a1-9b3e-03941979497d",
   "metadata": {},
   "outputs": [],
   "source": []
  }
 ],
 "metadata": {
  "kernelspec": {
   "display_name": "Python 3",
   "language": "python",
   "name": "python3"
  },
  "language_info": {
   "codemirror_mode": {
    "name": "ipython",
    "version": 3
   },
   "file_extension": ".py",
   "mimetype": "text/x-python",
   "name": "python",
   "nbconvert_exporter": "python",
   "pygments_lexer": "ipython3",
   "version": "3.7.10"
  }
 },
 "nbformat": 4,
 "nbformat_minor": 5
}
