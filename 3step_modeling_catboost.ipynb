{
 "cells": [
  {
   "cell_type": "code",
   "execution_count": null,
   "id": "6f62ec01-36f8-4ffe-b187-0616094602d5",
   "metadata": {},
   "outputs": [],
   "source": [
    "%load_ext watermark"
   ]
  },
  {
   "cell_type": "code",
   "execution_count": null,
   "id": "fd631481-f748-4610-94f4-a0d9b5bbe4ed",
   "metadata": {},
   "outputs": [],
   "source": [
    "%watermark"
   ]
  },
  {
   "cell_type": "code",
   "execution_count": null,
   "id": "2f268c90-86ca-4ea1-8a02-3a6b43c450cf",
   "metadata": {},
   "outputs": [],
   "source": [
    "import os\n",
    "import pickle as pkl\n",
    "\n",
    "import numpy as np\n",
    "import pandas as pd\n",
    "\n",
    "from sklearn.metrics import r2_score\n",
    "from catboost import CatBoostRegressor, Pool\n",
    "\n",
    "import matplotlib.pyplot as plt\n",
    "import seaborn as sns"
   ]
  },
  {
   "cell_type": "code",
   "execution_count": null,
   "id": "68c33f68-68f2-4e66-a8c6-4a7ac88eb910",
   "metadata": {},
   "outputs": [],
   "source": [
    "from catboost import __version__ as cb_version\n",
    "from sklearn import __version__ as sklearn_version\n",
    "\n",
    "print(f'cb_version: {cb_version}')\n",
    "print(f'sklearn_version: {sklearn_version}')"
   ]
  },
  {
   "cell_type": "code",
   "execution_count": null,
   "id": "21f6a58a-b019-4436-83ec-428714473139",
   "metadata": {},
   "outputs": [],
   "source": [
    "%watermark --iversions"
   ]
  },
  {
   "cell_type": "code",
   "execution_count": null,
   "id": "8238fc41-4ff8-45af-832d-8ca6512b8995",
   "metadata": {},
   "outputs": [],
   "source": []
  },
  {
   "cell_type": "code",
   "execution_count": null,
   "id": "fabdb0fa-405c-4649-b004-d353666fef7a",
   "metadata": {},
   "outputs": [],
   "source": []
  },
  {
   "cell_type": "markdown",
   "id": "3f3d5ca4-753b-47f1-801f-02be08c0bc3c",
   "metadata": {},
   "source": [
    "## Reproducibility block"
   ]
  },
  {
   "cell_type": "code",
   "execution_count": null,
   "id": "8d133278-9bc6-4c5d-b029-bd0c31d6adf1",
   "metadata": {},
   "outputs": [],
   "source": [
    "# seed the RNG for all devices (both CPU and CUDA)\n",
    "#torch.manual_seed(1984)\n",
    "\n",
    "#Disabling the benchmarking feature causes cuDNN to deterministically select an algorithm, \n",
    "#possibly at the cost of reduced performance.\n",
    "#torch.backends.cudnn.benchmark = False\n",
    "\n",
    "# for custom operators,\n",
    "import random\n",
    "random.seed(5986721)\n",
    "\n",
    "# \n",
    "np.random.seed(62185)\n",
    "\n",
    "#sklearn take seed from a line abowe\n",
    "\n",
    "CB_RANDOMSEED = 309487"
   ]
  },
  {
   "cell_type": "code",
   "execution_count": null,
   "id": "9f38ebd5-a020-47eb-b1f4-9ea987afb524",
   "metadata": {},
   "outputs": [],
   "source": []
  },
  {
   "cell_type": "code",
   "execution_count": null,
   "id": "019813d1-62ae-4b4d-a2f6-c0d74c146413",
   "metadata": {},
   "outputs": [],
   "source": [
    "DIR_DATA   = os.path.join(os.getcwd(), 'data')\n",
    "DIR_MODELS = os.path.join(os.getcwd(), 'models')\n",
    "DIR_SUBM   = os.path.join(os.getcwd(), 'subm')\n",
    "DIR_SUBM_PART = os.path.join(os.getcwd(), 'subm', 'partial')"
   ]
  },
  {
   "cell_type": "code",
   "execution_count": null,
   "id": "0d608686-6d8e-49ad-906b-b20933e0ec2a",
   "metadata": {},
   "outputs": [],
   "source": []
  },
  {
   "cell_type": "markdown",
   "id": "ae3e27a3-16bb-456d-b7a1-7975d5f85ea5",
   "metadata": {},
   "source": [
    "## Load data"
   ]
  },
  {
   "cell_type": "code",
   "execution_count": null,
   "id": "ee296ac9-baf6-4bcb-89ce-5fe99408403d",
   "metadata": {},
   "outputs": [],
   "source": [
    "x_train  = pd.read_csv(os.path.join(DIR_DATA, 'x_train.csv'), index_col= 0)\n",
    "x_val    = pd.read_csv(os.path.join(DIR_DATA, 'x_val.csv'), index_col= 0)\n",
    "df_test  = pd.read_csv(os.path.join(DIR_DATA, 'test_upd.csv'), index_col= 0)\n",
    "\n",
    "with open(os.path.join(DIR_DATA, 'cat_columns.pkl'), 'rb') as pickle_file:\n",
    "    cat_cols = pkl.load(pickle_file)\n",
    "    \n",
    "with open(os.path.join(DIR_DATA, 'num_columns.pkl'), 'rb') as pickle_file:\n",
    "    num_cols = pkl.load(pickle_file)"
   ]
  },
  {
   "cell_type": "code",
   "execution_count": null,
   "id": "b00427ec-ac4f-4da3-8dfb-94871e63072d",
   "metadata": {},
   "outputs": [],
   "source": [
    "x_train.shape, x_val.shape, df_test.shape, len(cat_cols), len(num_cols)"
   ]
  },
  {
   "cell_type": "markdown",
   "id": "d4b599d2-168d-4cc1-a4ea-fc34d707a0ce",
   "metadata": {},
   "source": [
    "отделяем метки от данных"
   ]
  },
  {
   "cell_type": "code",
   "execution_count": null,
   "id": "40de44ef-8722-48fc-84f7-c78ce45471fc",
   "metadata": {},
   "outputs": [],
   "source": [
    "y_train = x_train[['views', 'depth', 'full_reads_percent']]\n",
    "y_val   = x_val[['views', 'depth', 'full_reads_percent']]\n",
    "\n",
    "x_train.drop(['views', 'depth', 'full_reads_percent'], axis = 1, inplace = True)\n",
    "x_val.drop(  ['views', 'depth', 'full_reads_percent'], axis = 1, inplace = True)\n",
    "\n",
    "x_train.shape, x_val.shape, y_train.shape, y_val.shape"
   ]
  },
  {
   "cell_type": "code",
   "execution_count": null,
   "id": "3145e466-8172-424b-85ac-ad97439d9913",
   "metadata": {},
   "outputs": [],
   "source": [
    "x_train.shape"
   ]
  },
  {
   "cell_type": "code",
   "execution_count": null,
   "id": "c416f029-f4cc-46cf-aa20-c30e664b1cdb",
   "metadata": {},
   "outputs": [],
   "source": [
    "#cat_cols + num_cols\n"
   ]
  },
  {
   "cell_type": "code",
   "execution_count": null,
   "id": "4a71aa58-27b4-4087-ba4c-595958c1c5fe",
   "metadata": {},
   "outputs": [],
   "source": [
    "#views\n",
    "#train_ds_views = Pool(x_train[cat_cols + num_cols],\n",
    "train_ds_views = Pool(x_train[cat_cols + ['ctr']],\n",
    "                      y_train[['views']],\n",
    "                      cat_features = cat_cols,\n",
    "                      #feature_names = cat_cols + num_cols\n",
    "                     )\n",
    "\n",
    "#val_ds_views   = Pool(x_val[cat_cols + num_cols],\n",
    "val_ds_views   = Pool(x_val[cat_cols + ['ctr']],\n",
    "                      y_val[['views']],\n",
    "                      cat_features = cat_cols,\n",
    "                      #feature_names = cat_cols + num_cols\n",
    "                     )\n",
    "\n",
    "\n",
    "#depth\n",
    "train_ds_depth = Pool(x_train[cat_cols + num_cols],\n",
    "                      y_train[['depth']],\n",
    "                      cat_features = cat_cols,\n",
    "                      feature_names = cat_cols + num_cols\n",
    "                     )\n",
    "\n",
    "val_ds_depth   = Pool(x_val[cat_cols + num_cols],\n",
    "                      y_val[['depth']],\n",
    "                      cat_features = cat_cols,\n",
    "                      feature_names = cat_cols + num_cols\n",
    "                     )\n",
    "\n",
    "\n",
    "#full_reads_percent\n",
    "train_ds_frp = Pool(x_train[cat_cols + num_cols],\n",
    "                      y_train[['full_reads_percent']],\n",
    "                      cat_features = cat_cols,\n",
    "                      feature_names = cat_cols + num_cols\n",
    "                     )\n",
    "\n",
    "val_ds_frp   = Pool(x_val[cat_cols + num_cols],\n",
    "                      y_val[['full_reads_percent']],\n",
    "                      cat_features = cat_cols,\n",
    "                      feature_names = cat_cols + num_cols\n",
    "                     )"
   ]
  },
  {
   "cell_type": "code",
   "execution_count": null,
   "id": "12ae502e-4ce4-4f6e-947f-4f6f5942584a",
   "metadata": {},
   "outputs": [],
   "source": []
  },
  {
   "cell_type": "code",
   "execution_count": null,
   "id": "41e5514e-1f39-4fd8-bee0-98c9b705dda5",
   "metadata": {},
   "outputs": [],
   "source": [
    "def plot_feature_importance2(inp_model, inp_pool, imp_number = 30):\n",
    "    \n",
    "    data = pd.DataFrame({'feature_importance': inp_model.get_feature_importance(inp_pool), \n",
    "              'feature_names': inp_pool.get_feature_names()}).sort_values(by=['feature_importance'], \n",
    "                                                       ascending=True)\n",
    "    \n",
    "    data.nlargest(imp_number, columns=\"feature_importance\").plot(kind='barh', figsize = (30,16)) ## plot top 40 features"
   ]
  },
  {
   "cell_type": "code",
   "execution_count": null,
   "id": "55711d60-6520-4f9c-af95-e2c0624d270c",
   "metadata": {},
   "outputs": [],
   "source": [
    "def plot_feature_importance(importance,names,model_type, imp_number = 30):\n",
    "    \n",
    "    #Create arrays from feature importance and feature names\n",
    "    feature_importance = np.array(importance)\n",
    "    feature_names = np.array(names)\n",
    "    \n",
    "    #Create a DataFrame using a Dictionary\n",
    "    data={'feature_names':feature_names,'feature_importance':feature_importance}\n",
    "    fi_df = pd.DataFrame(data)\n",
    "    \n",
    "    #Sort the DataFrame in order decreasing feature importance\n",
    "    fi_df.sort_values(by=['feature_importance'], ascending=False,inplace=True)\n",
    "    \n",
    "    #Define size of bar plot\n",
    "    plt.figure(figsize=(10,8))\n",
    "    #Plot Searborn bar chart\n",
    "    sns.barplot(x=fi_df['feature_importance'][:imp_number], y=fi_df['feature_names'][:imp_number])\n",
    "    #Add chart labels\n",
    "    plt.title(model_type + 'FEATURE IMPORTANCE')\n",
    "    plt.xlabel('FEATURE IMPORTANCE')\n",
    "    plt.ylabel('FEATURE NAMES')"
   ]
  },
  {
   "cell_type": "code",
   "execution_count": null,
   "id": "4c0f79ca-2997-443a-ab51-de4e53217939",
   "metadata": {},
   "outputs": [],
   "source": []
  },
  {
   "cell_type": "markdown",
   "id": "668fd48f-3112-40a7-a453-d4f159ef4877",
   "metadata": {},
   "source": [
    "## views"
   ]
  },
  {
   "cell_type": "code",
   "execution_count": null,
   "id": "37fb9d99-b182-4aae-85ba-24ff91dfbe33",
   "metadata": {},
   "outputs": [],
   "source": [
    "cb_model_views = CatBoostRegressor(iterations=20,\n",
    "                                 learning_rate=0.1,\n",
    "                                 depth=4,\n",
    "                                 random_seed = CB_RANDOMSEED,\n",
    "                   #n_estimators=100,\n",
    "                                  )\n",
    "# Fit model\n",
    "cb_model_views.fit(train_ds_views,\n",
    "        #train_data, train_labels,\n",
    "                   eval_set=val_ds_views, \n",
    "                   #plot = True,\n",
    "                  )"
   ]
  },
  {
   "cell_type": "code",
   "execution_count": null,
   "id": "b0c470be-2a85-4ddc-8523-19194d636b32",
   "metadata": {},
   "outputs": [],
   "source": [
    "# Get predictions and metrics\n",
    "preds_train_views = cb_model_views.predict(x_train[cat_cols + num_cols])\n",
    "preds_val_views   = cb_model_views.predict(val_ds_views)\n",
    "\n",
    "train_score_views = r2_score(y_train[\"views\"], preds_train_views)\n",
    "val_score_views   = r2_score(y_val[\"views\"],   preds_val_views)\n",
    "\n",
    "train_score_views, val_score_views"
   ]
  },
  {
   "cell_type": "raw",
   "id": "fbcef74b-d54b-4a08-ab5d-c4838a2ccb05",
   "metadata": {},
   "source": [
    "(0.5100195781796532, 0.5065575808145328)"
   ]
  },
  {
   "cell_type": "code",
   "execution_count": null,
   "id": "40a5942c-9dbe-4dc8-952c-1a6af1618318",
   "metadata": {},
   "outputs": [],
   "source": []
  },
  {
   "cell_type": "code",
   "execution_count": null,
   "id": "706be592-2cd3-4db9-9e9d-7b71af1277c0",
   "metadata": {},
   "outputs": [],
   "source": [
    "#plot_feature_importance(cb_model_views, train_ds_views, 30)\n",
    "plot_feature_importance(cb_model_views.get_feature_importance(), train_ds_views.get_feature_names(), 'CATBOOST')"
   ]
  },
  {
   "cell_type": "code",
   "execution_count": null,
   "id": "57d15d8a-e96a-436f-9908-bb3efc30c1f7",
   "metadata": {},
   "outputs": [],
   "source": []
  },
  {
   "cell_type": "markdown",
   "id": "a3cac29b-566d-4c8b-9cf7-9ef84a7261d2",
   "metadata": {},
   "source": [
    "## depth"
   ]
  },
  {
   "cell_type": "code",
   "execution_count": null,
   "id": "e9948b36-a6f3-4bec-bbb2-402d5186ef4e",
   "metadata": {},
   "outputs": [],
   "source": [
    "cb_model_depth = CatBoostRegressor(#iterations=1000,\n",
    "                                 learning_rate=0.05,\n",
    "                                 depth=10,\n",
    "                                 random_seed = CB_RANDOMSEED,\n",
    "                   n_estimators=100,\n",
    "                                  )\n",
    "# Fit model\n",
    "cb_model_depth.fit(train_ds_depth,\n",
    "                   eval_set=val_ds_depth, \n",
    "                   #plot = True,\n",
    "                  )"
   ]
  },
  {
   "cell_type": "code",
   "execution_count": null,
   "id": "2596cde2-acc0-4f27-8ab9-6658e7cba842",
   "metadata": {},
   "outputs": [],
   "source": [
    "# Get predictions and metrics\n",
    "preds_train_depth = cb_model_depth.predict(x_train[cat_cols + num_cols])\n",
    "preds_val_depth   = cb_model_depth.predict(val_ds_depth)\n",
    "\n",
    "train_score_depth = r2_score(y_train[\"depth\"], preds_train_depth)\n",
    "val_score_depth   = r2_score(y_val[\"depth\"],   preds_val_depth)\n",
    "\n",
    "train_score_depth, val_score_depth"
   ]
  },
  {
   "cell_type": "raw",
   "id": "42b4b5db-a639-4829-9350-0c78a2bb037b",
   "metadata": {},
   "source": [
    "(0.6426108706670193, 0.5285762915493839)"
   ]
  },
  {
   "cell_type": "code",
   "execution_count": null,
   "id": "bf7b2ffd-0f51-492c-ad5c-cd0e859050d8",
   "metadata": {},
   "outputs": [],
   "source": []
  },
  {
   "cell_type": "code",
   "execution_count": null,
   "id": "a37608db-f13d-45fc-9f3f-dd430a6f0839",
   "metadata": {},
   "outputs": [],
   "source": [
    "#plot_feature_importance(cb_model_views, train_ds_views, 30)\n",
    "plot_feature_importance(cb_model_depth.get_feature_importance(), train_ds_depth.get_feature_names(), 'CATBOOST')"
   ]
  },
  {
   "cell_type": "code",
   "execution_count": null,
   "id": "5eaabd43-32cd-42df-9c8f-a88c7c8cfe3c",
   "metadata": {},
   "outputs": [],
   "source": []
  },
  {
   "cell_type": "markdown",
   "id": "fafdf6ea-9687-472f-ab6e-86125f5dc7eb",
   "metadata": {},
   "source": [
    "## full_reads_percent"
   ]
  },
  {
   "cell_type": "code",
   "execution_count": null,
   "id": "7745c438-06e9-477e-ac52-37017039f9c4",
   "metadata": {},
   "outputs": [],
   "source": [
    "cb_model_frp = CatBoostRegressor(#iterations=1000,\n",
    "                                 learning_rate=0.05,\n",
    "                                 depth=10,\n",
    "                                 random_seed = CB_RANDOMSEED,\n",
    "                   n_estimators=100,\n",
    "                                 #n_estimators=100,\n",
    "    #num_trees=None,\n",
    "                                )\n",
    "# Fit model\n",
    "cb_model_frp.fit(train_ds_frp,\n",
    "                   eval_set=val_ds_frp, \n",
    "                   #plot = True,\n",
    "                  )"
   ]
  },
  {
   "cell_type": "code",
   "execution_count": null,
   "id": "ce2f5cf1-5605-4e75-99dd-8c23248ff512",
   "metadata": {},
   "outputs": [],
   "source": [
    "# Get predictions and metrics\n",
    "preds_train_frp = cb_model_frp.predict(x_train[cat_cols + num_cols])\n",
    "preds_val_frp   = cb_model_frp.predict(val_ds_frp)\n",
    "\n",
    "train_score_frp = r2_score(y_train[\"full_reads_percent\"], preds_train_frp)\n",
    "val_score_frp   = r2_score(y_val[\"full_reads_percent\"],   preds_val_frp)\n",
    "\n",
    "train_score_frp, val_score_frp"
   ]
  },
  {
   "cell_type": "raw",
   "id": "cec2f6b6-9782-4b5c-838c-66df8bfc72e5",
   "metadata": {},
   "source": [
    "(0.23313112177548145, 0.2305089887333156)"
   ]
  },
  {
   "cell_type": "code",
   "execution_count": null,
   "id": "c6b000b9-9f71-4f8d-bb73-d58b91330eca",
   "metadata": {},
   "outputs": [],
   "source": []
  },
  {
   "cell_type": "code",
   "execution_count": null,
   "id": "0921f52a-f376-4e01-bf22-958db46977c7",
   "metadata": {},
   "outputs": [],
   "source": [
    "#plot_feature_importance(cb_model_views, train_ds_views, 30)\n",
    "plot_feature_importance(cb_model_frp.get_feature_importance(), train_ds_frp.get_feature_names(), 'CATBOOST')"
   ]
  },
  {
   "cell_type": "code",
   "execution_count": null,
   "id": "be50fe97-02cb-48bb-beb5-c100041aa1f0",
   "metadata": {},
   "outputs": [],
   "source": []
  },
  {
   "cell_type": "code",
   "execution_count": null,
   "id": "304d2314-a21f-4bb0-bd61-9fa94711f9f1",
   "metadata": {},
   "outputs": [],
   "source": [
    "score_train = 0.4 * train_score_views + 0.3 * train_score_depth + 0.3 * train_score_frp\n",
    "score_val  = 0.4 * val_score_views  + 0.3 * val_score_depth  + 0.3 * val_score_frp\n",
    "\n",
    "score_train, score_val"
   ]
  },
  {
   "cell_type": "raw",
   "id": "b4e2f449-432c-42f7-8cce-5cb15323aca0",
   "metadata": {},
   "source": [
    "(0.46673042900461154, 0.43034861641062294)"
   ]
  },
  {
   "cell_type": "code",
   "execution_count": null,
   "id": "8ff54468-e3a7-403c-b6e9-67ad93a5e09e",
   "metadata": {},
   "outputs": [],
   "source": []
  },
  {
   "cell_type": "markdown",
   "id": "81b7d454-37b6-45ee-94fb-99af0fe23ae5",
   "metadata": {},
   "source": [
    "## save models"
   ]
  },
  {
   "cell_type": "code",
   "execution_count": null,
   "id": "75aa11de-71cb-47a7-9e22-2857f7f7e643",
   "metadata": {},
   "outputs": [],
   "source": [
    "cb_model_views.save_model(os.path.join(DIR_MODELS, 'cb_views.cbm'), \n",
    "                           format=\"cbm\",\n",
    "                           export_parameters=None,\n",
    "                           pool=None\n",
    "                         )\n",
    "\n",
    "cb_model_depth.save_model(os.path.join(DIR_MODELS, 'cb_depth.cbm'), \n",
    "                           format=\"cbm\",\n",
    "                           export_parameters=None,\n",
    "                           pool=None\n",
    "                         )\n",
    "\n",
    "cb_model_frp.save_model(os.path.join(DIR_MODELS, 'cb_frp.cbm'), \n",
    "                           format=\"cbm\",\n",
    "                           export_parameters=None,\n",
    "                           pool=None\n",
    "                         )"
   ]
  },
  {
   "cell_type": "code",
   "execution_count": null,
   "id": "102c6530-8a1b-4c1c-a1d3-e9d95e350220",
   "metadata": {},
   "outputs": [],
   "source": []
  },
  {
   "cell_type": "markdown",
   "id": "ac604b78-2718-408d-8d19-5b202d3f5a19",
   "metadata": {},
   "source": [
    "## make predict"
   ]
  },
  {
   "cell_type": "code",
   "execution_count": null,
   "id": "df8e4305-28ed-444f-8325-e6460f7d2271",
   "metadata": {},
   "outputs": [],
   "source": [
    "pred_views = cb_model_views.predict(df_test[cat_cols + num_cols])\n",
    "pred_depth = cb_model_depth.predict(df_test[cat_cols + num_cols])\n",
    "pred_frp   = cb_model_frp.predict(  df_test[cat_cols + num_cols])"
   ]
  },
  {
   "cell_type": "code",
   "execution_count": null,
   "id": "f422300e-24cf-435a-af11-a450f4f10393",
   "metadata": {},
   "outputs": [],
   "source": [
    "subm = pd.DataFrame()\n",
    "subm['document_id'] = df_test.index\n",
    "\n",
    "subm['views'] = pred_views\n",
    "subm['depth'] = pred_depth\n",
    "subm['full_reads_percent'] = pred_frp"
   ]
  },
  {
   "cell_type": "code",
   "execution_count": null,
   "id": "37fa65e1-c702-4764-8f84-eb93b80c73f8",
   "metadata": {},
   "outputs": [],
   "source": [
    "subm.head()"
   ]
  },
  {
   "cell_type": "code",
   "execution_count": null,
   "id": "00d26c97-fb11-49b4-940e-ea797b27d29d",
   "metadata": {},
   "outputs": [],
   "source": [
    "subm.to_csv(os.path.join(DIR_SUBM, '3_cb_ttls_emd_depth.csv'), index = False)"
   ]
  },
  {
   "cell_type": "code",
   "execution_count": null,
   "id": "381434ea-0954-4ac1-8278-348a674c1a9c",
   "metadata": {},
   "outputs": [],
   "source": []
  }
 ],
 "metadata": {
  "kernelspec": {
   "display_name": "Python 3",
   "language": "python",
   "name": "python3"
  },
  "language_info": {
   "codemirror_mode": {
    "name": "ipython",
    "version": 3
   },
   "file_extension": ".py",
   "mimetype": "text/x-python",
   "name": "python",
   "nbconvert_exporter": "python",
   "pygments_lexer": "ipython3",
   "version": "3.7.10"
  }
 },
 "nbformat": 4,
 "nbformat_minor": 5
}
