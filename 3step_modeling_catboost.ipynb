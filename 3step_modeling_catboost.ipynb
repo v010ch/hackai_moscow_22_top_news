{
 "cells": [
  {
   "cell_type": "code",
   "execution_count": 1,
   "id": "6f62ec01-36f8-4ffe-b187-0616094602d5",
   "metadata": {},
   "outputs": [],
   "source": [
    "%load_ext watermark"
   ]
  },
  {
   "cell_type": "code",
   "execution_count": 2,
   "id": "fd631481-f748-4610-94f4-a0d9b5bbe4ed",
   "metadata": {},
   "outputs": [
    {
     "name": "stdout",
     "output_type": "stream",
     "text": [
      "Last updated: 2022-08-17T19:37:01.655179+03:00\n",
      "\n",
      "Python implementation: CPython\n",
      "Python version       : 3.7.13\n",
      "IPython version      : 7.22.0\n",
      "\n",
      "Compiler    : MSC v.1916 64 bit (AMD64)\n",
      "OS          : Windows\n",
      "Release     : 10\n",
      "Machine     : AMD64\n",
      "Processor   : Intel64 Family 6 Model 158 Stepping 9, GenuineIntel\n",
      "CPU cores   : 8\n",
      "Architecture: 64bit\n",
      "\n"
     ]
    }
   ],
   "source": [
    "%watermark"
   ]
  },
  {
   "cell_type": "code",
   "execution_count": 3,
   "id": "97ab64ea-fd5e-484d-93fa-cc19970532fe",
   "metadata": {},
   "outputs": [],
   "source": [
    "import time\n",
    "notebookstart= time.time()"
   ]
  },
  {
   "cell_type": "code",
   "execution_count": 4,
   "id": "2f268c90-86ca-4ea1-8a02-3a6b43c450cf",
   "metadata": {},
   "outputs": [],
   "source": [
    "import os\n",
    "import pickle as pkl\n",
    "\n",
    "import numpy as np\n",
    "import pandas as pd\n",
    "\n",
    "from sklearn.metrics import r2_score\n",
    "from sklearn import preprocessing\n",
    "from catboost import CatBoostRegressor, Pool, cv\n",
    "\n",
    "import matplotlib.pyplot as plt\n",
    "import seaborn as sns"
   ]
  },
  {
   "cell_type": "code",
   "execution_count": 5,
   "id": "68c33f68-68f2-4e66-a8c6-4a7ac88eb910",
   "metadata": {},
   "outputs": [
    {
     "name": "stdout",
     "output_type": "stream",
     "text": [
      "cb_version: 0.24.3\n",
      "sklearn_version: 1.0.2\n"
     ]
    }
   ],
   "source": [
    "from catboost import __version__ as cb_version\n",
    "from sklearn import __version__ as sklearn_version\n",
    "\n",
    "print(f'cb_version: {cb_version}')\n",
    "print(f'sklearn_version: {sklearn_version}')"
   ]
  },
  {
   "cell_type": "code",
   "execution_count": 6,
   "id": "21f6a58a-b019-4436-83ec-428714473139",
   "metadata": {},
   "outputs": [
    {
     "name": "stdout",
     "output_type": "stream",
     "text": [
      "sklearn   : 1.0.2\n",
      "seaborn   : 0.11.2\n",
      "pandas    : 0.25.3\n",
      "numpy     : 1.21.0\n",
      "matplotlib: 3.5.1\n",
      "\n"
     ]
    }
   ],
   "source": [
    "%watermark --iversions"
   ]
  },
  {
   "cell_type": "code",
   "execution_count": null,
   "id": "8238fc41-4ff8-45af-832d-8ca6512b8995",
   "metadata": {},
   "outputs": [],
   "source": []
  },
  {
   "cell_type": "code",
   "execution_count": null,
   "id": "fabdb0fa-405c-4649-b004-d353666fef7a",
   "metadata": {},
   "outputs": [],
   "source": []
  },
  {
   "cell_type": "markdown",
   "id": "3f3d5ca4-753b-47f1-801f-02be08c0bc3c",
   "metadata": {},
   "source": [
    "## Блок для воспроизводимости решений"
   ]
  },
  {
   "cell_type": "code",
   "execution_count": 7,
   "id": "8d133278-9bc6-4c5d-b029-bd0c31d6adf1",
   "metadata": {},
   "outputs": [],
   "source": [
    "# seed the RNG for all devices (both CPU and CUDA)\n",
    "#torch.manual_seed(1984)\n",
    "\n",
    "#Disabling the benchmarking feature causes cuDNN to deterministically select an algorithm, \n",
    "#possibly at the cost of reduced performance.\n",
    "#torch.backends.cudnn.benchmark = False\n",
    "\n",
    "# for custom operators,\n",
    "import random\n",
    "random.seed(5986721)\n",
    "\n",
    "# \n",
    "np.random.seed(62185)\n",
    "\n",
    "#sklearn take seed from a line abowe\n",
    "\n",
    "CB_RANDOMSEED  = 309487\n",
    "XGB_RANDOMSEED = 56\n",
    "LGB_RANDOMSEED = 874256"
   ]
  },
  {
   "cell_type": "code",
   "execution_count": null,
   "id": "9f38ebd5-a020-47eb-b1f4-9ea987afb524",
   "metadata": {},
   "outputs": [],
   "source": []
  },
  {
   "cell_type": "code",
   "execution_count": 8,
   "id": "019813d1-62ae-4b4d-a2f6-c0d74c146413",
   "metadata": {},
   "outputs": [],
   "source": [
    "DIR_DATA   = os.path.join(os.getcwd(), 'data')\n",
    "DIR_MODELS = os.path.join(os.getcwd(), 'models')\n",
    "DIR_SUBM   = os.path.join(os.getcwd(), 'subm')\n",
    "DIR_SUBM_PART = os.path.join(os.getcwd(), 'subm', 'partial')"
   ]
  },
  {
   "cell_type": "code",
   "execution_count": null,
   "id": "0d608686-6d8e-49ad-906b-b20933e0ec2a",
   "metadata": {},
   "outputs": [],
   "source": []
  },
  {
   "cell_type": "code",
   "execution_count": 9,
   "id": "00dcf830-653c-43e2-93a8-a48c90a3a78e",
   "metadata": {},
   "outputs": [],
   "source": [
    "NTRY = 32\n",
    "NAME = f'{NTRY}_cb_pca64_sber_bord_nose_iter_2mod'"
   ]
  },
  {
   "cell_type": "code",
   "execution_count": 10,
   "id": "405a66ac-9262-4fce-8189-ee569f79eedf",
   "metadata": {},
   "outputs": [],
   "source": [
    "VIEWS_UKR = 2554204\n",
    "DEPTH_UKR = 1.799\n",
    "FPR_UKR = 4.978"
   ]
  },
  {
   "cell_type": "code",
   "execution_count": null,
   "id": "6aee7533-343d-4346-a598-41e96250d2dc",
   "metadata": {},
   "outputs": [],
   "source": []
  },
  {
   "cell_type": "markdown",
   "id": "ae3e27a3-16bb-456d-b7a1-7975d5f85ea5",
   "metadata": {},
   "source": [
    "## Загружаем данные"
   ]
  },
  {
   "cell_type": "code",
   "execution_count": 11,
   "id": "ee296ac9-baf6-4bcb-89ce-5fe99408403d",
   "metadata": {},
   "outputs": [],
   "source": [
    "df_train = pd.read_csv(os.path.join(DIR_DATA, 'train_upd.csv'), index_col= 0)\n",
    "df_test  = pd.read_csv(os.path.join(DIR_DATA, 'test_upd.csv'), index_col= 0)\n",
    "\n",
    "with open(os.path.join(DIR_DATA, 'clmns.pkl'), 'rb') as pickle_file:\n",
    "    clmns = pkl.load(pickle_file)\n"
   ]
  },
  {
   "cell_type": "code",
   "execution_count": 12,
   "id": "b00427ec-ac4f-4da3-8dfb-94871e63072d",
   "metadata": {},
   "outputs": [
    {
     "data": {
      "text/plain": [
       "((6981, 570), (3000, 568))"
      ]
     },
     "execution_count": 12,
     "metadata": {},
     "output_type": "execute_result"
    }
   ],
   "source": [
    "df_train.shape, df_test.shape, "
   ]
  },
  {
   "cell_type": "code",
   "execution_count": null,
   "id": "40e960cf-00f2-45b2-986f-436a8024d0de",
   "metadata": {},
   "outputs": [],
   "source": []
  },
  {
   "cell_type": "markdown",
   "id": "cbf14125-92e3-4f0e-aa06-fcf2521fc244",
   "metadata": {},
   "source": [
    "Формируем списки числовых и категориальных переменных.   \n",
    "Полностью категориальные и полностью числовых формируются автоматически.   "
   ]
  },
  {
   "cell_type": "code",
   "execution_count": 13,
   "id": "c416f029-f4cc-46cf-aa20-c30e664b1cdb",
   "metadata": {},
   "outputs": [
    {
     "name": "stdout",
     "output_type": "stream",
     "text": [
      "['ph_report', 'ph_gallery', 'tv_prog', 'online', 'video', 'infogr', 'interview']\n",
      "['hour', 'dow', 'day', 'mounth', 'hour_peak', 'holiday', 'day_before_holiday', 'day_after_holiday', 'distrib_brdr']\n"
     ]
    }
   ],
   "source": [
    "cat_cols = []\n",
    "num_cols = []\n",
    "\n",
    "for el in clmns.keys():\n",
    "    cat_cols.extend(clmns[el]['cat'])\n",
    "    num_cols.extend(clmns[el]['num'])\n",
    "    if len(clmns[el]['both']) != 0:\n",
    "        print(clmns[el]['both'])"
   ]
  },
  {
   "cell_type": "markdown",
   "id": "f4951243-d62f-43b1-9782-dd55d93a876f",
   "metadata": {},
   "source": [
    "Остается распределить признаки, которые могу быть как категориальными, так и числовыми.    \n",
    "Сделаем это."
   ]
  },
  {
   "cell_type": "code",
   "execution_count": 14,
   "id": "972bb343-2bb3-4c31-b99f-f9c8331f8b87",
   "metadata": {},
   "outputs": [],
   "source": [
    "num_cols.extend(['hour', 'mounth'])\n",
    "cat_cols.extend(['dow', \n",
    "                 'ph_report', 'ph_gallery', 'tv_prog', 'online', 'video', 'infogr',\n",
    "                 'holiday', 'day_before_holiday', 'day_after_holiday', #'distrib_brdr',\n",
    "                 #'spec_event_1',\n",
    "                ])"
   ]
  },
  {
   "cell_type": "code",
   "execution_count": 15,
   "id": "eec9699d-6702-4a88-9b87-c374c89a9b17",
   "metadata": {},
   "outputs": [],
   "source": [
    "for el in cat_cols:\n",
    "    df_train[el] = df_train[el].astype(str)\n",
    "    df_test[el] = df_test[el].astype(str)"
   ]
  },
  {
   "cell_type": "code",
   "execution_count": null,
   "id": "b77dc32c-95e3-4722-ab02-c8c700dd78df",
   "metadata": {},
   "outputs": [],
   "source": []
  },
  {
   "cell_type": "markdown",
   "id": "d5410fe7-b198-4fbc-a244-e213dce224c1",
   "metadata": {},
   "source": [
    "Создаем Catboost Pools для обучения с условием разделения на start (данные до 2022-04-08) / end (данные после 2022-04-08)"
   ]
  },
  {
   "cell_type": "code",
   "execution_count": 16,
   "id": "da5f4f8d-2ce3-42fc-b01c-9538a7867504",
   "metadata": {},
   "outputs": [],
   "source": [
    "#views\n",
    "train_views_start = Pool(df_train[df_train.distrib_brdr == 1][cat_cols + num_cols],\n",
    "                         df_train[df_train.distrib_brdr == 1][['views']],\n",
    "                         cat_features = cat_cols,\n",
    "                        )\n",
    "train_views_end = Pool(df_train[df_train.distrib_brdr == 0][cat_cols + num_cols],\n",
    "                       df_train[df_train.distrib_brdr == 0][['views']],\n",
    "                       cat_features = cat_cols,\n",
    "                      )\n",
    "#depth\n",
    "train_depth_start = Pool(df_train[df_train.distrib_brdr == 1][cat_cols + num_cols],\n",
    "                         df_train[df_train.distrib_brdr == 1][['depth']],\n",
    "                         cat_features = cat_cols,\n",
    "                        )\n",
    "train_depth_end = Pool(df_train[df_train.distrib_brdr == 0][cat_cols + num_cols],\n",
    "                       df_train[df_train.distrib_brdr == 0][['depth']],\n",
    "                       cat_features = cat_cols,\n",
    "                      )\n",
    "\n",
    "#frp\n",
    "train_frp_start = Pool(df_train[df_train.distrib_brdr == 1][cat_cols + num_cols],\n",
    "                       df_train[df_train.distrib_brdr == 1][['full_reads_percent']],\n",
    "                       cat_features = cat_cols,\n",
    "                      )\n",
    "train_frp_end = Pool(df_train[df_train.distrib_brdr == 0][cat_cols + num_cols],\n",
    "                     df_train[df_train.distrib_brdr == 0][['full_reads_percent']],\n",
    "                     cat_features = cat_cols,\n",
    "\n",
    "                    )"
   ]
  },
  {
   "cell_type": "code",
   "execution_count": null,
   "id": "12ae502e-4ce4-4f6e-947f-4f6f5942584a",
   "metadata": {},
   "outputs": [],
   "source": []
  },
  {
   "cell_type": "code",
   "execution_count": 17,
   "id": "41e5514e-1f39-4fd8-bee0-98c9b705dda5",
   "metadata": {},
   "outputs": [],
   "source": [
    "def plot_feature_importance2(inp_model, inp_pool, imp_number = 30):\n",
    "    \n",
    "    data = pd.DataFrame({'feature_importance': inp_model.get_feature_importance(inp_pool), \n",
    "              'feature_names': inp_pool.get_feature_names()}).sort_values(by=['feature_importance'], \n",
    "                                                       ascending=True)\n",
    "    \n",
    "    data.nlargest(imp_number, columns=\"feature_importance\").plot(kind='barh', figsize = (30,16)) ## plot top 40 features"
   ]
  },
  {
   "cell_type": "code",
   "execution_count": 18,
   "id": "55711d60-6520-4f9c-af95-e2c0624d270c",
   "metadata": {},
   "outputs": [],
   "source": [
    "def plot_feature_importance(importance,names,model_type, imp_number = 30):\n",
    "    \n",
    "    #Create arrays from feature importance and feature names\n",
    "    feature_importance = np.array(importance)\n",
    "    feature_names = np.array(names)\n",
    "    \n",
    "    #Create a DataFrame using a Dictionary\n",
    "    data={'feature_names':feature_names,'feature_importance':feature_importance}\n",
    "    fi_df = pd.DataFrame(data)\n",
    "    \n",
    "    #Sort the DataFrame in order decreasing feature importance\n",
    "    fi_df.sort_values(by=['feature_importance'], ascending=False,inplace=True)\n",
    "    \n",
    "    #Define size of bar plot\n",
    "    plt.figure(figsize=(10,8))\n",
    "    #Plot Searborn bar chart\n",
    "    sns.barplot(x=fi_df['feature_importance'][:imp_number], y=fi_df['feature_names'][:imp_number])\n",
    "    #Add chart labels\n",
    "    plt.title(model_type + 'FEATURE IMPORTANCE')\n",
    "    plt.xlabel('FEATURE IMPORTANCE')\n",
    "    plt.ylabel('FEATURE NAMES')"
   ]
  },
  {
   "cell_type": "code",
   "execution_count": null,
   "id": "4c0f79ca-2997-443a-ab51-de4e53217939",
   "metadata": {},
   "outputs": [],
   "source": []
  },
  {
   "cell_type": "markdown",
   "id": "668fd48f-3112-40a7-a453-d4f159ef4877",
   "metadata": {},
   "source": [
    "## views"
   ]
  },
  {
   "cell_type": "markdown",
   "id": "ab091ba3-efa5-4638-bf84-7edc140ca79a",
   "metadata": {},
   "source": [
    "Обучаем модели для views с разделением на модели start (данные до 2022-04-08) / end (данные после 2022-04-08) "
   ]
  },
  {
   "cell_type": "code",
   "execution_count": 19,
   "id": "2489ac5a-4d21-4544-be84-ac5f7ba86c57",
   "metadata": {},
   "outputs": [],
   "source": [
    "cb_params_views = {\"iterations\": 2500,\n",
    "                  #\"depth\": 2,\n",
    "                  \"loss_function\": \"RMSE\",\n",
    "                  'eval_metric': 'R2',\n",
    "                  \"verbose\": False\n",
    "                  }"
   ]
  },
  {
   "cell_type": "markdown",
   "id": "f335bcb4-5976-445f-a59d-7a4ffad24d10",
   "metadata": {},
   "source": [
    "Рассчитываем на cv оптимальное количество итераций по средней R2 на валидационных фолдах "
   ]
  },
  {
   "cell_type": "code",
   "execution_count": 20,
   "id": "f5653871-5188-4c82-83b6-2f6c513d421e",
   "metadata": {},
   "outputs": [],
   "source": [
    "def get_model(inp_pool, inp_params):\n",
    "    \n",
    "    \n",
    "    scores = cv(inp_pool,\n",
    "                      inp_params,\n",
    "                      fold_count=5,\n",
    "                      seed = CB_RANDOMSEED, \n",
    "                      #plot=\"True\"\n",
    "                     )\n",
    "    \n",
    "    # проверка что лучшие итерации по test-RMSE-mean и test-R2-mean одинаковы\n",
    "    # для cb чаще правда, для lgb и xgb чаще ложь\n",
    "    #if scores['test-RMSE-mean'].argmin() != scores['test-R2-mean'].argmax():\n",
    "    #    raise ValueError('wtf?', scores['test-RMSE-mean'].argmin(), scores['test-R2-mean'].argmax())\n",
    "    \n",
    "    print(scores[scores['test-R2-mean'] == scores['test-R2-mean'].max()].to_string())\n",
    "    \n",
    "    # из cv берем лучшее по test-R2-mean количество итераций\n",
    "    # на нем и обучаем моедль на всех данных\n",
    "    niters = scores['test-R2-mean'].argmax()\n",
    "    print(niters)\n",
    "    \n",
    "    cb_model = CatBoostRegressor(iterations = niters,\n",
    "                                 #learning_rate=0.05,\n",
    "                                 #depth=10,\n",
    "                                 random_seed = CB_RANDOMSEED,\n",
    "                                 #n_estimators=100,\n",
    "                                )\n",
    "    # Fit model\n",
    "    cb_model.fit(inp_pool,\n",
    "                 #plot = True,\n",
    "                 verbose = 100,\n",
    "                )\n",
    "    \n",
    "    \n",
    "    return cb_model"
   ]
  },
  {
   "cell_type": "code",
   "execution_count": 21,
   "id": "f4715fcd-09e6-4f30-804f-80d53f1729dd",
   "metadata": {},
   "outputs": [],
   "source": [
    "cb_params_views['iterations'] = 2500"
   ]
  },
  {
   "cell_type": "code",
   "execution_count": 22,
   "id": "cccdc416-9dda-4647-bb98-5b22b5927a59",
   "metadata": {},
   "outputs": [
    {
     "name": "stdout",
     "output_type": "stream",
     "text": [
      "      iterations  test-R2-mean  test-R2-std  train-R2-mean  train-R2-std  test-RMSE-mean  test-RMSE-std  train-RMSE-mean  train-RMSE-std\n",
      "2485        2485      0.501527     0.095418       0.997046      0.000536    58180.327634    22554.69973      4513.057431      214.989456\n",
      "2485\n",
      "Learning rate set to 0.024004\n",
      "0:\tlearn: 83296.6673303\ttotal: 54.3ms\tremaining: 2m 14s\n",
      "100:\tlearn: 54624.1186906\ttotal: 4.11s\tremaining: 1m 37s\n",
      "200:\tlearn: 45355.0576915\ttotal: 8.23s\tremaining: 1m 33s\n",
      "300:\tlearn: 39823.9643031\ttotal: 12.3s\tremaining: 1m 29s\n",
      "400:\tlearn: 35619.3101096\ttotal: 16.4s\tremaining: 1m 25s\n",
      "500:\tlearn: 31836.0063473\ttotal: 20.4s\tremaining: 1m 20s\n",
      "600:\tlearn: 28835.9549733\ttotal: 24.5s\tremaining: 1m 16s\n",
      "700:\tlearn: 26380.0314998\ttotal: 28.7s\tremaining: 1m 13s\n",
      "800:\tlearn: 24191.0093803\ttotal: 32.9s\tremaining: 1m 9s\n",
      "900:\tlearn: 22387.4536125\ttotal: 37.2s\tremaining: 1m 5s\n",
      "1000:\tlearn: 20755.4705130\ttotal: 42.1s\tremaining: 1m 2s\n",
      "1100:\tlearn: 19347.8416463\ttotal: 46.9s\tremaining: 58.9s\n",
      "1200:\tlearn: 18149.8243640\ttotal: 51.7s\tremaining: 55.3s\n",
      "1300:\tlearn: 17063.4853106\ttotal: 56.1s\tremaining: 51s\n",
      "1400:\tlearn: 16059.0495573\ttotal: 1m\tremaining: 46.5s\n",
      "1500:\tlearn: 15089.3568886\ttotal: 1m 4s\tremaining: 42.1s\n",
      "1600:\tlearn: 14187.1835025\ttotal: 1m 9s\tremaining: 38.1s\n",
      "1700:\tlearn: 13291.4356543\ttotal: 1m 14s\tremaining: 34.2s\n",
      "1800:\tlearn: 12486.7841151\ttotal: 1m 18s\tremaining: 29.8s\n",
      "1900:\tlearn: 11793.3627086\ttotal: 1m 22s\tremaining: 25.4s\n",
      "2000:\tlearn: 11133.5053045\ttotal: 1m 26s\tremaining: 21s\n",
      "2100:\tlearn: 10483.4759658\ttotal: 1m 30s\tremaining: 16.6s\n",
      "2200:\tlearn: 9955.9978925\ttotal: 1m 34s\tremaining: 12.2s\n",
      "2300:\tlearn: 9416.2689944\ttotal: 1m 39s\tremaining: 7.92s\n",
      "2400:\tlearn: 8912.9579253\ttotal: 1m 43s\tremaining: 3.61s\n",
      "2484:\tlearn: 8496.7031411\ttotal: 1m 46s\tremaining: 0us\n",
      "Wall time: 1h 8min 49s\n"
     ]
    }
   ],
   "source": [
    "%%time\n",
    "model_views_start = get_model(train_views_start, cb_params_views)"
   ]
  },
  {
   "cell_type": "raw",
   "id": "26b5036c-61f6-4ca0-bd6a-16b0d9ff9dd3",
   "metadata": {},
   "source": [
    "2410        2410      0.514488     0.085848       0.996769      0.000571    57288.439777   21396.965895      4719.273203      150.040884"
   ]
  },
  {
   "cell_type": "code",
   "execution_count": 23,
   "id": "706be592-2cd3-4db9-9e9d-7b71af1277c0",
   "metadata": {},
   "outputs": [
    {
     "data": {
      "image/png": "[encoded data removed]",
      "text/plain": [
       "<Figure size 720x576 with 1 Axes>"
      ]
     },
     "metadata": {
      "needs_background": "light"
     },
     "output_type": "display_data"
    }
   ],
   "source": [
    "#plot_feature_importance(cb_model_views, train_ds_views, 30)\n",
    "plot_feature_importance(model_views_start.get_feature_importance(), train_views_start.get_feature_names(), 'CATBOOST')"
   ]
  },
  {
   "cell_type": "code",
   "execution_count": null,
   "id": "502e696d-dedd-411f-b7f0-945e2afe14fe",
   "metadata": {},
   "outputs": [],
   "source": []
  },
  {
   "cell_type": "code",
   "execution_count": 24,
   "id": "3be99dfc-422e-47bf-92ff-f45377942506",
   "metadata": {},
   "outputs": [],
   "source": [
    "cb_params_views['iterations'] = 750"
   ]
  },
  {
   "cell_type": "code",
   "execution_count": null,
   "id": "212ddccc-dc2c-44e7-9e59-fae325942d3e",
   "metadata": {},
   "outputs": [],
   "source": [
    "%%time\n",
    "model_views_end = get_model(train_views_end, cb_params_views)"
   ]
  },
  {
   "cell_type": "raw",
   "id": "4b69672a-72cd-4f34-9da7-ee889dc96e09",
   "metadata": {},
   "source": [
    "670         670      0.608364     0.065935       0.914413      0.008288     9189.254018     910.007358      4340.903897      127.150327"
   ]
  },
  {
   "cell_type": "code",
   "execution_count": null,
   "id": "73b50d92-be2e-448e-af33-f2527691c4d0",
   "metadata": {},
   "outputs": [],
   "source": [
    "plot_feature_importance(model_views_end.get_feature_importance(), train_views_end.get_feature_names(), 'CATBOOST')"
   ]
  },
  {
   "cell_type": "code",
   "execution_count": null,
   "id": "e1e17002-8c1f-4e36-bf5c-5f8c56f961e2",
   "metadata": {},
   "outputs": [],
   "source": []
  },
  {
   "cell_type": "code",
   "execution_count": null,
   "id": "57d15d8a-e96a-436f-9908-bb3efc30c1f7",
   "metadata": {},
   "outputs": [],
   "source": []
  },
  {
   "cell_type": "markdown",
   "id": "a3cac29b-566d-4c8b-9cf7-9ef84a7261d2",
   "metadata": {},
   "source": [
    "## depth"
   ]
  },
  {
   "cell_type": "markdown",
   "id": "c3c2443f-9e4d-4d0c-bfe2-0eed3597e5d9",
   "metadata": {},
   "source": [
    "Обучаем модели для depth с разделением на модели start (данные до 2022-04-08) / end (данные после 2022-04-08) "
   ]
  },
  {
   "cell_type": "code",
   "execution_count": 27,
   "id": "a2b00f32-c094-4b91-ae51-c30fe20cf7cf",
   "metadata": {},
   "outputs": [],
   "source": [
    "cb_params_depth = cb_params_views"
   ]
  },
  {
   "cell_type": "code",
   "execution_count": 28,
   "id": "f6fe7086-c4d7-438d-924d-5f95d58fbb52",
   "metadata": {},
   "outputs": [],
   "source": [
    "cb_params_depth['iterations'] = 1600"
   ]
  },
  {
   "cell_type": "code",
   "execution_count": 29,
   "id": "fec414e2-db71-4a0e-87f6-f8d57da58f99",
   "metadata": {},
   "outputs": [
    {
     "name": "stdout",
     "output_type": "stream",
     "text": [
      "      iterations  test-R2-mean  test-R2-std  train-R2-mean  train-R2-std  test-RMSE-mean  test-RMSE-std  train-RMSE-mean  train-RMSE-std\n",
      "1596        1596       0.47929     0.138784        0.97161      0.002873        0.036675       0.002137         0.008792        0.000178\n",
      "1596\n",
      "Learning rate set to 0.033607\n",
      "0:\tlearn: 0.0516209\ttotal: 93.2ms\tremaining: 2m 28s\n",
      "100:\tlearn: 0.0333598\ttotal: 8.64s\tremaining: 2m 7s\n",
      "200:\tlearn: 0.0300182\ttotal: 17.3s\tremaining: 2m\n",
      "300:\tlearn: 0.0269561\ttotal: 25.6s\tremaining: 1m 50s\n",
      "400:\tlearn: 0.0242301\ttotal: 34.2s\tremaining: 1m 41s\n",
      "500:\tlearn: 0.0221129\ttotal: 42.9s\tremaining: 1m 33s\n",
      "600:\tlearn: 0.0203158\ttotal: 51.4s\tremaining: 1m 25s\n",
      "700:\tlearn: 0.0186815\ttotal: 59.9s\tremaining: 1m 16s\n",
      "800:\tlearn: 0.0170199\ttotal: 1m 9s\tremaining: 1m 8s\n",
      "900:\tlearn: 0.0155511\ttotal: 1m 17s\tremaining: 59.7s\n",
      "1000:\tlearn: 0.0142585\ttotal: 1m 25s\tremaining: 51.1s\n",
      "1100:\tlearn: 0.0130981\ttotal: 1m 34s\tremaining: 42.5s\n",
      "1200:\tlearn: 0.0120625\ttotal: 1m 43s\tremaining: 34s\n",
      "1300:\tlearn: 0.0111076\ttotal: 1m 52s\tremaining: 25.5s\n",
      "1400:\tlearn: 0.0102138\ttotal: 2m\tremaining: 16.8s\n",
      "1500:\tlearn: 0.0094154\ttotal: 2m 9s\tremaining: 8.21s\n",
      "1595:\tlearn: 0.0087524\ttotal: 2m 17s\tremaining: 0us\n",
      "Wall time: 1h 3min 54s\n"
     ]
    }
   ],
   "source": [
    "%%time\n",
    "model_depth_start = get_model(train_depth_start, cb_params_depth)"
   ]
  },
  {
   "cell_type": "raw",
   "id": "08485084-6909-4019-8dbf-08464009a0d2",
   "metadata": {},
   "source": [
    "1550        1550      0.471369     0.152844        0.96694      0.002016         0.03689       0.003182         0.009499        0.000204"
   ]
  },
  {
   "cell_type": "code",
   "execution_count": 30,
   "id": "a37608db-f13d-45fc-9f3f-dd430a6f0839",
   "metadata": {},
   "outputs": [
    {
     "data": {
      "image/png": "[encoded data removed]",
      "text/plain": [
       "<Figure size 720x576 with 1 Axes>"
      ]
     },
     "metadata": {
      "needs_background": "light"
     },
     "output_type": "display_data"
    }
   ],
   "source": [
    "#plot_feature_importance(cb_model_views, train_ds_views, 30)\n",
    "plot_feature_importance(model_depth_start.get_feature_importance(), train_depth_start.get_feature_names(), 'CATBOOST')"
   ]
  },
  {
   "cell_type": "code",
   "execution_count": null,
   "id": "5eaabd43-32cd-42df-9c8f-a88c7c8cfe3c",
   "metadata": {},
   "outputs": [],
   "source": []
  },
  {
   "cell_type": "code",
   "execution_count": 31,
   "id": "c6440764-d5e2-4c35-8d03-cbb2165ad888",
   "metadata": {},
   "outputs": [],
   "source": [
    "cb_params_depth['iterations'] = 2500"
   ]
  },
  {
   "cell_type": "code",
   "execution_count": 32,
   "id": "0ab617d3-de74-411b-aac0-4dd050a826fd",
   "metadata": {},
   "outputs": [
    {
     "name": "stdout",
     "output_type": "stream",
     "text": [
      "      iterations  test-R2-mean  test-R2-std  train-R2-mean  train-R2-std  test-RMSE-mean  test-RMSE-std  train-RMSE-mean  train-RMSE-std\n",
      "2496        2496       0.28506     0.141042       0.979968      0.002423        0.017906        0.00419         0.003043        0.000134\n",
      "2496\n",
      "Learning rate set to 0.024706\n",
      "0:\tlearn: 0.0215912\ttotal: 84.4ms\tremaining: 3m 30s\n",
      "100:\tlearn: 0.0178168\ttotal: 9.25s\tremaining: 3m 39s\n",
      "200:\tlearn: 0.0153661\ttotal: 16.4s\tremaining: 3m 6s\n",
      "300:\tlearn: 0.0139178\ttotal: 23.8s\tremaining: 2m 53s\n",
      "400:\tlearn: 0.0128439\ttotal: 30.1s\tremaining: 2m 37s\n",
      "500:\tlearn: 0.0120001\ttotal: 36.3s\tremaining: 2m 24s\n",
      "600:\tlearn: 0.0112430\ttotal: 42.6s\tremaining: 2m 14s\n",
      "700:\tlearn: 0.0105696\ttotal: 49.4s\tremaining: 2m 6s\n",
      "800:\tlearn: 0.0099710\ttotal: 57.9s\tremaining: 2m 2s\n",
      "900:\tlearn: 0.0094273\ttotal: 1m 6s\tremaining: 1m 58s\n",
      "1000:\tlearn: 0.0089423\ttotal: 1m 15s\tremaining: 1m 53s\n",
      "1100:\tlearn: 0.0084590\ttotal: 1m 24s\tremaining: 1m 47s\n",
      "1200:\tlearn: 0.0080035\ttotal: 1m 33s\tremaining: 1m 40s\n",
      "1300:\tlearn: 0.0075778\ttotal: 1m 42s\tremaining: 1m 33s\n",
      "1400:\tlearn: 0.0072070\ttotal: 1m 50s\tremaining: 1m 26s\n",
      "1500:\tlearn: 0.0068638\ttotal: 1m 59s\tremaining: 1m 18s\n",
      "1600:\tlearn: 0.0065598\ttotal: 2m 7s\tremaining: 1m 11s\n",
      "1700:\tlearn: 0.0062650\ttotal: 2m 16s\tremaining: 1m 3s\n",
      "1800:\tlearn: 0.0059816\ttotal: 2m 24s\tremaining: 55.8s\n",
      "1900:\tlearn: 0.0057005\ttotal: 2m 32s\tremaining: 47.9s\n",
      "2000:\tlearn: 0.0054495\ttotal: 2m 41s\tremaining: 39.9s\n",
      "2100:\tlearn: 0.0052062\ttotal: 2m 50s\tremaining: 32s\n",
      "2200:\tlearn: 0.0049885\ttotal: 2m 58s\tremaining: 24s\n",
      "2300:\tlearn: 0.0047618\ttotal: 3m 6s\tremaining: 15.8s\n",
      "2400:\tlearn: 0.0045488\ttotal: 3m 15s\tremaining: 7.72s\n",
      "2495:\tlearn: 0.0043673\ttotal: 3m 22s\tremaining: 0us\n",
      "Wall time: 1h 34min\n"
     ]
    }
   ],
   "source": [
    "%%time\n",
    "model_depth_end = get_model(train_depth_end, cb_params_depth)"
   ]
  },
  {
   "cell_type": "raw",
   "id": "a48e66cc-c3b2-4ff6-97b7-ad34dd5a7bf9",
   "metadata": {},
   "source": [
    "2483        2483      0.339217     0.083196       0.981393      0.001967        0.017239        0.00378         0.002936        0.000174"
   ]
  },
  {
   "cell_type": "code",
   "execution_count": 33,
   "id": "e21b4997-a768-4aa9-a96b-5741fc8aa6c1",
   "metadata": {},
   "outputs": [
    {
     "data": {
      "image/png": "[encoded data removed]",
      "text/plain": [
       "<Figure size 720x576 with 1 Axes>"
      ]
     },
     "metadata": {
      "needs_background": "light"
     },
     "output_type": "display_data"
    }
   ],
   "source": [
    "plot_feature_importance(model_depth_end.get_feature_importance(), train_depth_end.get_feature_names(), 'CATBOOST')"
   ]
  },
  {
   "cell_type": "code",
   "execution_count": null,
   "id": "745f0738-13da-406c-a378-4f8a325be07d",
   "metadata": {},
   "outputs": [],
   "source": []
  },
  {
   "cell_type": "code",
   "execution_count": null,
   "id": "10617a22-de1d-4ddd-8176-0ac104907be0",
   "metadata": {},
   "outputs": [],
   "source": []
  },
  {
   "cell_type": "code",
   "execution_count": null,
   "id": "eab9cdf9-8e04-4950-8b57-57f9f045ac3d",
   "metadata": {},
   "outputs": [],
   "source": []
  },
  {
   "cell_type": "markdown",
   "id": "fafdf6ea-9687-472f-ab6e-86125f5dc7eb",
   "metadata": {},
   "source": [
    "## full_reads_percent"
   ]
  },
  {
   "cell_type": "markdown",
   "id": "eea38be4-7a2b-4925-9ae7-22dd317e30de",
   "metadata": {},
   "source": [
    "Обучаем модели для full_reads_percent с разделением на модели start (данные до 2022-04-08) / end (данные после 2022-04-08) "
   ]
  },
  {
   "cell_type": "code",
   "execution_count": 34,
   "id": "d9d8a013-9537-4797-9cf6-b26bc9f6e5e3",
   "metadata": {},
   "outputs": [],
   "source": [
    "cb_params_frp = cb_params_views"
   ]
  },
  {
   "cell_type": "code",
   "execution_count": 35,
   "id": "74ae7779-4bb6-4fbe-b79e-d9aa04e13f79",
   "metadata": {},
   "outputs": [],
   "source": [
    "cb_params_frp['iterations'] = 1400"
   ]
  },
  {
   "cell_type": "code",
   "execution_count": 36,
   "id": "ede24391-1a32-47b5-8f45-9f99a3653113",
   "metadata": {},
   "outputs": [
    {
     "name": "stdout",
     "output_type": "stream",
     "text": [
      "      iterations  test-R2-mean  test-R2-std  train-R2-mean  train-R2-std  test-RMSE-mean  test-RMSE-std  train-RMSE-mean  train-RMSE-std\n",
      "1247        1247      0.561634     0.004876        0.94645      0.001191         6.96986       0.123096         2.437519        0.032997\n",
      "1247\n",
      "Learning rate set to 0.040539\n",
      "0:\tlearn: 10.3666595\ttotal: 85.5ms\tremaining: 1m 46s\n",
      "100:\tlearn: 6.7587641\ttotal: 9.03s\tremaining: 1m 42s\n",
      "200:\tlearn: 6.1228634\ttotal: 14.9s\tremaining: 1m 17s\n",
      "300:\tlearn: 5.4357842\ttotal: 20.7s\tremaining: 1m 4s\n",
      "400:\tlearn: 4.8145464\ttotal: 26s\tremaining: 54.8s\n",
      "500:\tlearn: 4.2955233\ttotal: 31.2s\tremaining: 46.5s\n",
      "600:\tlearn: 3.8468101\ttotal: 36.5s\tremaining: 39.2s\n",
      "700:\tlearn: 3.4555002\ttotal: 42.3s\tremaining: 32.9s\n",
      "800:\tlearn: 3.1410352\ttotal: 48.2s\tremaining: 26.8s\n",
      "900:\tlearn: 2.8377759\ttotal: 54s\tremaining: 20.7s\n",
      "1000:\tlearn: 2.5733919\ttotal: 59.4s\tremaining: 14.6s\n",
      "1100:\tlearn: 2.3220825\ttotal: 1m 4s\tremaining: 8.6s\n",
      "1200:\tlearn: 2.1093713\ttotal: 1m 10s\tremaining: 2.69s\n",
      "1246:\tlearn: 2.0231203\ttotal: 1m 13s\tremaining: 0us\n",
      "Wall time: 53min 39s\n"
     ]
    }
   ],
   "source": [
    "%%time\n",
    "model_frp_start = get_model(train_frp_start, cb_params_frp)"
   ]
  },
  {
   "cell_type": "raw",
   "id": "131cf46e-1364-43d4-8092-8c227845447d",
   "metadata": {},
   "source": [
    "1303        1303      0.556958     0.008903       0.948849      0.001106        7.007296       0.168132         2.382234         0.02588"
   ]
  },
  {
   "cell_type": "code",
   "execution_count": 37,
   "id": "0921f52a-f376-4e01-bf22-958db46977c7",
   "metadata": {},
   "outputs": [
    {
     "data": {
      "image/png": "[encoded data removed]",
      "text/plain": [
       "<Figure size 720x576 with 1 Axes>"
      ]
     },
     "metadata": {
      "needs_background": "light"
     },
     "output_type": "display_data"
    }
   ],
   "source": [
    "#plot_feature_importance(cb_model_views, train_ds_views, 30)\n",
    "plot_feature_importance(model_frp_start.get_feature_importance(), train_frp_start.get_feature_names(), 'CATBOOST')"
   ]
  },
  {
   "cell_type": "code",
   "execution_count": null,
   "id": "be50fe97-02cb-48bb-beb5-c100041aa1f0",
   "metadata": {},
   "outputs": [],
   "source": []
  },
  {
   "cell_type": "code",
   "execution_count": 38,
   "id": "c04abd67-2df9-48be-9c1c-eb1ec1648aaf",
   "metadata": {},
   "outputs": [],
   "source": [
    "cb_params_frp['iterations'] = 1000"
   ]
  },
  {
   "cell_type": "code",
   "execution_count": 39,
   "id": "980f97f7-4e38-48bb-bb9a-9cdf201a2ecc",
   "metadata": {},
   "outputs": [
    {
     "name": "stdout",
     "output_type": "stream",
     "text": [
      "     iterations  test-R2-mean  test-R2-std  train-R2-mean  train-R2-std  test-RMSE-mean  test-RMSE-std  train-RMSE-mean  train-RMSE-std\n",
      "992         992      0.546965     0.027092       0.884609      0.003785        6.500979       0.058168         3.284923        0.057523\n",
      "992\n",
      "Learning rate set to 0.049814\n",
      "0:\tlearn: 9.4766064\ttotal: 53.2ms\tremaining: 52.7s\n",
      "100:\tlearn: 6.2215611\ttotal: 5.84s\tremaining: 51.5s\n",
      "200:\tlearn: 5.6143515\ttotal: 11.1s\tremaining: 43.8s\n",
      "300:\tlearn: 4.9744536\ttotal: 16.3s\tremaining: 37.4s\n",
      "400:\tlearn: 4.4734377\ttotal: 21.5s\tremaining: 31.7s\n",
      "500:\tlearn: 4.0432355\ttotal: 26.7s\tremaining: 26.2s\n",
      "600:\tlearn: 3.6408770\ttotal: 31.9s\tremaining: 20.8s\n",
      "700:\tlearn: 3.2614508\ttotal: 37.2s\tremaining: 15.5s\n",
      "800:\tlearn: 2.9596185\ttotal: 42.9s\tremaining: 10.2s\n",
      "900:\tlearn: 2.6655347\ttotal: 48.7s\tremaining: 4.91s\n",
      "991:\tlearn: 2.4350100\ttotal: 54.3s\tremaining: 0us\n",
      "Wall time: 33min 35s\n"
     ]
    }
   ],
   "source": [
    "%%time\n",
    "model_frp_end = get_model(train_frp_end, cb_params_frp)"
   ]
  },
  {
   "cell_type": "raw",
   "id": "c8473d52-35fa-4224-b196-188be623071d",
   "metadata": {},
   "source": [
    "924         924      0.558665     0.027472       0.877142      0.002326        6.416195        0.07435         3.389853         0.04638"
   ]
  },
  {
   "cell_type": "code",
   "execution_count": 40,
   "id": "a535211e-61f6-4010-a13a-2ec22ac8ad17",
   "metadata": {},
   "outputs": [
    {
     "data": {
      "image/png": "[encoded data removed]",
      "text/plain": [
       "<Figure size 720x576 with 1 Axes>"
      ]
     },
     "metadata": {
      "needs_background": "light"
     },
     "output_type": "display_data"
    }
   ],
   "source": [
    "#plot_feature_importance(cb_model_views, train_ds_views, 30)\n",
    "plot_feature_importance(model_frp_end.get_feature_importance(), train_frp_end.get_feature_names(), 'CATBOOST')"
   ]
  },
  {
   "cell_type": "code",
   "execution_count": null,
   "id": "1f1d5756-07fc-488b-bf92-31bacf9c0f10",
   "metadata": {},
   "outputs": [],
   "source": []
  },
  {
   "cell_type": "code",
   "execution_count": null,
   "id": "05695089-20c7-48bf-a7a6-e430863603e5",
   "metadata": {},
   "outputs": [],
   "source": []
  },
  {
   "cell_type": "code",
   "execution_count": null,
   "id": "23391983-198d-4fea-8c34-7915e8ea2819",
   "metadata": {},
   "outputs": [],
   "source": []
  },
  {
   "cell_type": "markdown",
   "id": "551ccadd-2762-4df3-8719-2b04118093ce",
   "metadata": {},
   "source": [
    "## Сохраняем предсказания для ансамблей / стекинга"
   ]
  },
  {
   "cell_type": "code",
   "execution_count": null,
   "id": "d764bec0-4e81-41e1-ae37-56792922f19c",
   "metadata": {},
   "outputs": [],
   "source": []
  },
  {
   "cell_type": "code",
   "execution_count": 78,
   "id": "388b4f35-923e-4790-a1e8-797372586242",
   "metadata": {},
   "outputs": [],
   "source": [
    "pred_train = pd.DataFrame()\n",
    "pred_train[['document_id', 'distrib_brdr']] = df_train[['document_id', 'distrib_brdr']]\n",
    "pred_train = pred_train.reindex(['document_id', 'distrib_brdr', 'views', 'depth', 'full_reads_percent'], axis = 1)"
   ]
  },
  {
   "cell_type": "code",
   "execution_count": 79,
   "id": "991077dc-dc89-404d-8477-cea61e711303",
   "metadata": {},
   "outputs": [
    {
     "data": {
      "text/plain": [
       "0"
      ]
     },
     "execution_count": 79,
     "metadata": {},
     "output_type": "execute_result"
    }
   ],
   "source": [
    "pred_train.loc[pred_train.query('distrib_brdr == 1').index, 'views'] = model_views_start.predict(df_train[df_train.distrib_brdr == 1][cat_cols + num_cols])\n",
    "pred_train.loc[pred_train.query('distrib_brdr == 0').index, 'views'] = model_views_end.predict(df_train[df_train.distrib_brdr == 0][cat_cols + num_cols])\n",
    "sum(pred_train.views.isna())"
   ]
  },
  {
   "cell_type": "code",
   "execution_count": 80,
   "id": "381dce61-ab9a-45f9-934a-3cb80c94d115",
   "metadata": {},
   "outputs": [
    {
     "data": {
      "text/plain": [
       "0"
      ]
     },
     "execution_count": 80,
     "metadata": {},
     "output_type": "execute_result"
    }
   ],
   "source": [
    "pred_train.loc[pred_train.query('distrib_brdr == 1').index, 'depth'] = model_depth_start.predict(df_train[df_train.distrib_brdr == 1][cat_cols + num_cols])\n",
    "pred_train.loc[pred_train.query('distrib_brdr == 0').index, 'depth'] = model_depth_end.predict(df_train[df_train.distrib_brdr == 0][cat_cols + num_cols])\n",
    "sum(pred_train.depth.isna())"
   ]
  },
  {
   "cell_type": "code",
   "execution_count": 81,
   "id": "066f6b7b-c8f0-46d7-9cd2-ae5944cc7b27",
   "metadata": {},
   "outputs": [
    {
     "data": {
      "text/plain": [
       "0"
      ]
     },
     "execution_count": 81,
     "metadata": {},
     "output_type": "execute_result"
    }
   ],
   "source": [
    "pred_train.loc[pred_train.query('distrib_brdr == 1').index, 'full_reads_percent'] = model_frp_start.predict(df_train[df_train.distrib_brdr == 1][cat_cols + num_cols])\n",
    "pred_train.loc[pred_train.query('distrib_brdr == 0').index, 'full_reads_percent'] = model_frp_end.predict(df_train[df_train.distrib_brdr == 0][cat_cols + num_cols])\n",
    "sum(pred_train.full_reads_percent.isna())"
   ]
  },
  {
   "cell_type": "raw",
   "id": "265ac8b5-9f4c-4e9e-a804-13e494ac376c",
   "metadata": {},
   "source": [
    "pred_train.drop(['distrib_brdr'], axis =1, inplace = True)\n",
    "pred_train.to_csv(os.path.join(DIR_SUBM_PART, f'{NAME}_train_part.csv'), index = False)"
   ]
  },
  {
   "cell_type": "code",
   "execution_count": null,
   "id": "c3d0c887-53ce-4db0-99a9-4732421f2173",
   "metadata": {},
   "outputs": [],
   "source": []
  },
  {
   "cell_type": "markdown",
   "id": "81b7d454-37b6-45ee-94fb-99af0fe23ae5",
   "metadata": {},
   "source": [
    "## Сохраняем модели"
   ]
  },
  {
   "cell_type": "code",
   "execution_count": null,
   "id": "aa4adde3-b017-4cea-9ae8-fc7cea77bab1",
   "metadata": {},
   "outputs": [],
   "source": []
  },
  {
   "cell_type": "code",
   "execution_count": 82,
   "id": "75aa11de-71cb-47a7-9e22-2857f7f7e643",
   "metadata": {},
   "outputs": [],
   "source": [
    "#cb_model_views.save_model(os.path.join(DIR_MODELS, f'{NTRY}_pca64_cb_views.cbm'), \n",
    "model_views_start.save_model(os.path.join(DIR_MODELS, f'{NAME}_v_start.cbm'), \n",
    "                           format=\"cbm\",\n",
    "                           export_parameters=None,\n",
    "                           pool=None\n",
    "                         )\n",
    "model_views_end.save_model(os.path.join(DIR_MODELS, f'{NAME}_v_end.cbm'), \n",
    "                           format=\"cbm\",\n",
    "                           export_parameters=None,\n",
    "                           pool=None\n",
    "                         )\n",
    "model_depth_start.save_model(os.path.join(DIR_MODELS, f'{NAME}_d_start.cbm'), \n",
    "                           format=\"cbm\",\n",
    "                           export_parameters=None,\n",
    "                           pool=None\n",
    "                         )\n",
    "model_depth_end.save_model(os.path.join(DIR_MODELS, f'{NAME}_d_end.cbm'), \n",
    "                           format=\"cbm\",\n",
    "                           export_parameters=None,\n",
    "                           pool=None\n",
    "                         )\n",
    "model_frp_start.save_model(os.path.join(DIR_MODELS, f'{NAME}_f_start.cbm'), \n",
    "                           format=\"cbm\",\n",
    "                           export_parameters=None,\n",
    "                           pool=None\n",
    "                         )\n",
    "model_frp_end.save_model(os.path.join(DIR_MODELS, f'{NAME}_f_end.cbm'), \n",
    "                           format=\"cbm\",\n",
    "                           export_parameters=None,\n",
    "                           pool=None\n",
    "                         )"
   ]
  },
  {
   "cell_type": "code",
   "execution_count": null,
   "id": "102c6530-8a1b-4c1c-a1d3-e9d95e350220",
   "metadata": {},
   "outputs": [],
   "source": []
  },
  {
   "cell_type": "code",
   "execution_count": null,
   "id": "70604fe7-79ce-48b3-88fe-cf67ecb6e354",
   "metadata": {},
   "outputs": [],
   "source": []
  },
  {
   "cell_type": "markdown",
   "id": "ac604b78-2718-408d-8d19-5b202d3f5a19",
   "metadata": {},
   "source": [
    "## Делаем предсказание / сабмит"
   ]
  },
  {
   "cell_type": "code",
   "execution_count": 83,
   "id": "ee86f7ae-828e-4b2f-a9e4-009e27353f5a",
   "metadata": {},
   "outputs": [],
   "source": [
    "subm = pd.DataFrame()\n",
    "subm[['document_id', 'distrib_brdr']] = df_test[['document_id', 'distrib_brdr']]\n",
    "subm = subm.reindex(['document_id', 'distrib_brdr', 'views', 'depth', 'full_reads_percent'], axis = 1)"
   ]
  },
  {
   "cell_type": "code",
   "execution_count": null,
   "id": "396d853a-84fe-4b6e-bd3b-e7cd600ac9ca",
   "metadata": {},
   "outputs": [],
   "source": []
  },
  {
   "cell_type": "code",
   "execution_count": 84,
   "id": "2edca06f-93d9-43f4-8e70-643ea554318c",
   "metadata": {},
   "outputs": [
    {
     "data": {
      "text/plain": [
       "0"
      ]
     },
     "execution_count": 84,
     "metadata": {},
     "output_type": "execute_result"
    }
   ],
   "source": [
    "subm.loc[subm.query('distrib_brdr == 1').index, 'views'] = model_views_start.predict(df_test[df_test.distrib_brdr == 1][cat_cols + num_cols])\n",
    "subm.loc[subm.query('distrib_brdr == 0').index, 'views'] = model_views_end.predict(df_test[df_test.distrib_brdr == 0][cat_cols + num_cols])\n",
    "sum(subm.views.isna())"
   ]
  },
  {
   "cell_type": "code",
   "execution_count": 85,
   "id": "3979a3b9-1d3b-4d5b-b4e5-60a91f876b3f",
   "metadata": {},
   "outputs": [
    {
     "data": {
      "text/plain": [
       "0"
      ]
     },
     "execution_count": 85,
     "metadata": {},
     "output_type": "execute_result"
    }
   ],
   "source": [
    "subm.loc[subm.query('distrib_brdr == 1').index, 'depth'] = model_depth_start.predict(df_test[df_test.distrib_brdr == 1][cat_cols + num_cols])\n",
    "subm.loc[subm.query('distrib_brdr == 0').index, 'depth'] = model_depth_end.predict(df_test[df_test.distrib_brdr == 0][cat_cols + num_cols])\n",
    "sum(subm.depth.isna())"
   ]
  },
  {
   "cell_type": "code",
   "execution_count": 86,
   "id": "562a667c-15ca-4ed0-8121-87011a1e817c",
   "metadata": {},
   "outputs": [
    {
     "data": {
      "text/plain": [
       "0"
      ]
     },
     "execution_count": 86,
     "metadata": {},
     "output_type": "execute_result"
    }
   ],
   "source": [
    "subm.loc[subm.query('distrib_brdr == 1').index, 'full_reads_percent'] = model_frp_start.predict(df_test[df_test.distrib_brdr == 1][cat_cols + num_cols])\n",
    "subm.loc[subm.query('distrib_brdr == 0').index, 'full_reads_percent'] = model_frp_end.predict(df_test[df_test.distrib_brdr == 0][cat_cols + num_cols])\n",
    "sum(subm.full_reads_percent.isna())"
   ]
  },
  {
   "cell_type": "code",
   "execution_count": 87,
   "id": "5992326a-1846-4096-9537-849c9d2c5662",
   "metadata": {},
   "outputs": [],
   "source": [
    "subm.drop(['distrib_brdr'], axis = 1, inplace = True)"
   ]
  },
  {
   "cell_type": "code",
   "execution_count": null,
   "id": "9dfc2478-7298-4171-8343-fbeab12ddf6b",
   "metadata": {},
   "outputs": [],
   "source": []
  },
  {
   "cell_type": "code",
   "execution_count": 88,
   "id": "0b45eb99-3913-44a7-b4e6-f0c49e38e890",
   "metadata": {},
   "outputs": [
    {
     "data": {
      "text/html": [
       "<div>\n",
       "<style scoped>\n",
       "    .dataframe tbody tr th:only-of-type {\n",
       "        vertical-align: middle;\n",
       "    }\n",
       "\n",
       "    .dataframe tbody tr th {\n",
       "        vertical-align: top;\n",
       "    }\n",
       "\n",
       "    .dataframe thead th {\n",
       "        text-align: right;\n",
       "    }\n",
       "</style>\n",
       "<table border=\"1\" class=\"dataframe\">\n",
       "  <thead>\n",
       "    <tr style=\"text-align: right;\">\n",
       "      <th></th>\n",
       "      <th>views</th>\n",
       "      <th>depth</th>\n",
       "      <th>full_reads_percent</th>\n",
       "    </tr>\n",
       "  </thead>\n",
       "  <tbody>\n",
       "    <tr>\n",
       "      <th>945</th>\n",
       "      <td>209386.576303</td>\n",
       "      <td>1.177938</td>\n",
       "      <td>24.427403</td>\n",
       "    </tr>\n",
       "    <tr>\n",
       "      <th>1440</th>\n",
       "      <td>181331.352535</td>\n",
       "      <td>1.164771</td>\n",
       "      <td>25.032613</td>\n",
       "    </tr>\n",
       "    <tr>\n",
       "      <th>2645</th>\n",
       "      <td>188197.124290</td>\n",
       "      <td>1.187522</td>\n",
       "      <td>28.438711</td>\n",
       "    </tr>\n",
       "  </tbody>\n",
       "</table>\n",
       "</div>"
      ],
      "text/plain": [
       "              views     depth  full_reads_percent\n",
       "945   209386.576303  1.177938           24.427403\n",
       "1440  181331.352535  1.164771           25.032613\n",
       "2645  188197.124290  1.187522           28.438711"
      ]
     },
     "execution_count": 88,
     "metadata": {},
     "output_type": "execute_result"
    }
   ],
   "source": [
    "doc_id_ukr = df_test[df_test.spec == 1].document_id.values\n",
    "subm.query('document_id in @doc_id_ukr')[['views', 'depth', 'full_reads_percent']]"
   ]
  },
  {
   "cell_type": "code",
   "execution_count": 89,
   "id": "43db487b-0209-4e2b-8ee0-1f33b2727552",
   "metadata": {},
   "outputs": [
    {
     "data": {
      "text/html": [
       "<div>\n",
       "<style scoped>\n",
       "    .dataframe tbody tr th:only-of-type {\n",
       "        vertical-align: middle;\n",
       "    }\n",
       "\n",
       "    .dataframe tbody tr th {\n",
       "        vertical-align: top;\n",
       "    }\n",
       "\n",
       "    .dataframe thead th {\n",
       "        text-align: right;\n",
       "    }\n",
       "</style>\n",
       "<table border=\"1\" class=\"dataframe\">\n",
       "  <thead>\n",
       "    <tr style=\"text-align: right;\">\n",
       "      <th></th>\n",
       "      <th>views</th>\n",
       "      <th>depth</th>\n",
       "      <th>full_reads_percent</th>\n",
       "    </tr>\n",
       "  </thead>\n",
       "  <tbody>\n",
       "    <tr>\n",
       "      <th>945</th>\n",
       "      <td>2554204.0</td>\n",
       "      <td>1.799</td>\n",
       "      <td>4.978</td>\n",
       "    </tr>\n",
       "    <tr>\n",
       "      <th>1440</th>\n",
       "      <td>2554204.0</td>\n",
       "      <td>1.799</td>\n",
       "      <td>4.978</td>\n",
       "    </tr>\n",
       "    <tr>\n",
       "      <th>2645</th>\n",
       "      <td>2554204.0</td>\n",
       "      <td>1.799</td>\n",
       "      <td>4.978</td>\n",
       "    </tr>\n",
       "  </tbody>\n",
       "</table>\n",
       "</div>"
      ],
      "text/plain": [
       "          views  depth  full_reads_percent\n",
       "945   2554204.0  1.799               4.978\n",
       "1440  2554204.0  1.799               4.978\n",
       "2645  2554204.0  1.799               4.978"
      ]
     },
     "execution_count": 89,
     "metadata": {},
     "output_type": "execute_result"
    }
   ],
   "source": [
    "# присваиваем статичные данные\n",
    "subm.loc[subm.query('document_id in @doc_id_ukr').index, 'views'] = VIEWS_UKR\n",
    "subm.loc[subm.query('document_id in @doc_id_ukr').index, 'depth'] = DEPTH_UKR\n",
    "subm.loc[subm.query('document_id in @doc_id_ukr').index, 'full_reads_percent'] = FPR_UKR\n",
    "\n",
    "subm.query('document_id in @doc_id_ukr')[['views', 'depth', 'full_reads_percent']]"
   ]
  },
  {
   "cell_type": "code",
   "execution_count": null,
   "id": "09b08a77-113c-45bb-ac28-55fef5f523b0",
   "metadata": {},
   "outputs": [],
   "source": []
  },
  {
   "cell_type": "code",
   "execution_count": 90,
   "id": "37fa65e1-c702-4764-8f84-eb93b80c73f8",
   "metadata": {},
   "outputs": [
    {
     "data": {
      "text/html": [
       "<div>\n",
       "<style scoped>\n",
       "    .dataframe tbody tr th:only-of-type {\n",
       "        vertical-align: middle;\n",
       "    }\n",
       "\n",
       "    .dataframe tbody tr th {\n",
       "        vertical-align: top;\n",
       "    }\n",
       "\n",
       "    .dataframe thead th {\n",
       "        text-align: right;\n",
       "    }\n",
       "</style>\n",
       "<table border=\"1\" class=\"dataframe\">\n",
       "  <thead>\n",
       "    <tr style=\"text-align: right;\">\n",
       "      <th></th>\n",
       "      <th>document_id</th>\n",
       "      <th>views</th>\n",
       "      <th>depth</th>\n",
       "      <th>full_reads_percent</th>\n",
       "    </tr>\n",
       "  </thead>\n",
       "  <tbody>\n",
       "    <tr>\n",
       "      <th>0</th>\n",
       "      <td>61f9569a9a794794245a82abJ0AvX96vTAaQCiWVbzoMdw</td>\n",
       "      <td>17757.560986</td>\n",
       "      <td>1.215035</td>\n",
       "      <td>46.380446</td>\n",
       "    </tr>\n",
       "    <tr>\n",
       "      <th>1</th>\n",
       "      <td>628c22b89a79470e553f594bQS5CqzXYRnmDdR2LaSreEw</td>\n",
       "      <td>5752.302531</td>\n",
       "      <td>1.061197</td>\n",
       "      <td>35.176315</td>\n",
       "    </tr>\n",
       "    <tr>\n",
       "      <th>2</th>\n",
       "      <td>627cb3249a7947ebdd752865XVsoyrUOT8OJJg2_finJhw</td>\n",
       "      <td>11560.447554</td>\n",
       "      <td>1.060698</td>\n",
       "      <td>31.109351</td>\n",
       "    </tr>\n",
       "    <tr>\n",
       "      <th>3</th>\n",
       "      <td>628618629a7947d4927eb812upfii3whSSuMXCqcqF8VbQ</td>\n",
       "      <td>9168.779360</td>\n",
       "      <td>1.065092</td>\n",
       "      <td>38.096110</td>\n",
       "    </tr>\n",
       "    <tr>\n",
       "      <th>4</th>\n",
       "      <td>620e76109a7947235623695b5hzCiIHdSYKQIr8WAM18bw</td>\n",
       "      <td>127568.917404</td>\n",
       "      <td>1.132620</td>\n",
       "      <td>28.052382</td>\n",
       "    </tr>\n",
       "  </tbody>\n",
       "</table>\n",
       "</div>"
      ],
      "text/plain": [
       "                                      document_id          views     depth  \\\n",
       "0  61f9569a9a794794245a82abJ0AvX96vTAaQCiWVbzoMdw   17757.560986  1.215035   \n",
       "1  628c22b89a79470e553f594bQS5CqzXYRnmDdR2LaSreEw    5752.302531  1.061197   \n",
       "2  627cb3249a7947ebdd752865XVsoyrUOT8OJJg2_finJhw   11560.447554  1.060698   \n",
       "3  628618629a7947d4927eb812upfii3whSSuMXCqcqF8VbQ    9168.779360  1.065092   \n",
       "4  620e76109a7947235623695b5hzCiIHdSYKQIr8WAM18bw  127568.917404  1.132620   \n",
       "\n",
       "   full_reads_percent  \n",
       "0           46.380446  \n",
       "1           35.176315  \n",
       "2           31.109351  \n",
       "3           38.096110  \n",
       "4           28.052382  "
      ]
     },
     "execution_count": 90,
     "metadata": {},
     "output_type": "execute_result"
    }
   ],
   "source": [
    "subm.head()"
   ]
  },
  {
   "cell_type": "code",
   "execution_count": 91,
   "id": "00d26c97-fb11-49b4-940e-ea797b27d29d",
   "metadata": {},
   "outputs": [],
   "source": [
    "subm.to_csv(os.path.join(DIR_SUBM, f'{NAME}.csv'), index = False)"
   ]
  },
  {
   "cell_type": "code",
   "execution_count": null,
   "id": "de448a8b-31ef-460b-8358-db43867defd2",
   "metadata": {},
   "outputs": [],
   "source": []
  },
  {
   "cell_type": "code",
   "execution_count": 92,
   "id": "189ef811-b2af-49d0-90de-7c3b598d7734",
   "metadata": {},
   "outputs": [
    {
     "name": "stdout",
     "output_type": "stream",
     "text": [
      "Notebook Runtime: 336.00 Minutes\n"
     ]
    }
   ],
   "source": [
    "print(\"Notebook Runtime: %0.2f Minutes\"%((time.time() - notebookstart)/60))"
   ]
  },
  {
   "cell_type": "code",
   "execution_count": null,
   "id": "c7d78c23-c03d-473c-b08c-a657e05a4f4c",
   "metadata": {},
   "outputs": [],
   "source": []
  },
  {
   "cell_type": "code",
   "execution_count": null,
   "id": "2b3f8a62-256f-4f85-9d3a-b286f62a3833",
   "metadata": {},
   "outputs": [],
   "source": []
  }
 ],
 "metadata": {
  "kernelspec": {
   "display_name": "Python 3",
   "language": "python",
   "name": "python3"
  },
  "language_info": {
   "codemirror_mode": {
    "name": "ipython",
    "version": 3
   },
   "file_extension": ".py",
   "mimetype": "text/x-python",
   "name": "python",
   "nbconvert_exporter": "python",
   "pygments_lexer": "ipython3",
   "version": "3.7.13"
  }
 },
 "nbformat": 4,
 "nbformat_minor": 5
}
