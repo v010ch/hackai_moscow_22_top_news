{
 "cells": [
  {
   "cell_type": "code",
   "execution_count": 1,
   "id": "6f62ec01-36f8-4ffe-b187-0616094602d5",
   "metadata": {},
   "outputs": [],
   "source": [
    "%load_ext watermark"
   ]
  },
  {
   "cell_type": "code",
   "execution_count": 2,
   "id": "fd631481-f748-4610-94f4-a0d9b5bbe4ed",
   "metadata": {},
   "outputs": [
    {
     "name": "stdout",
     "output_type": "stream",
     "text": [
      "Last updated: 2022-07-19T19:25:26.522655+03:00\n",
      "\n",
      "Python implementation: CPython\n",
      "Python version       : 3.7.10\n",
      "IPython version      : 7.22.0\n",
      "\n",
      "Compiler    : MSC v.1916 64 bit (AMD64)\n",
      "OS          : Windows\n",
      "Release     : 10\n",
      "Machine     : AMD64\n",
      "Processor   : Intel64 Family 6 Model 158 Stepping 9, GenuineIntel\n",
      "CPU cores   : 8\n",
      "Architecture: 64bit\n",
      "\n"
     ]
    }
   ],
   "source": [
    "%watermark"
   ]
  },
  {
   "cell_type": "code",
   "execution_count": 3,
   "id": "2f268c90-86ca-4ea1-8a02-3a6b43c450cf",
   "metadata": {},
   "outputs": [],
   "source": [
    "import os\n",
    "import pickle as pkl\n",
    "\n",
    "import numpy as np\n",
    "import pandas as pd\n",
    "\n",
    "from sklearn.metrics import r2_score\n",
    "from sklearn import preprocessing\n",
    "from catboost import CatBoostRegressor, Pool, cv\n",
    "\n",
    "import matplotlib.pyplot as plt\n",
    "import seaborn as sns"
   ]
  },
  {
   "cell_type": "code",
   "execution_count": 4,
   "id": "68c33f68-68f2-4e66-a8c6-4a7ac88eb910",
   "metadata": {},
   "outputs": [
    {
     "name": "stdout",
     "output_type": "stream",
     "text": [
      "cb_version: 0.24.3\n",
      "sklearn_version: 0.24.2\n"
     ]
    }
   ],
   "source": [
    "from catboost import __version__ as cb_version\n",
    "from sklearn import __version__ as sklearn_version\n",
    "\n",
    "print(f'cb_version: {cb_version}')\n",
    "print(f'sklearn_version: {sklearn_version}')"
   ]
  },
  {
   "cell_type": "code",
   "execution_count": 5,
   "id": "21f6a58a-b019-4436-83ec-428714473139",
   "metadata": {},
   "outputs": [
    {
     "name": "stdout",
     "output_type": "stream",
     "text": [
      "numpy     : 1.20.3\n",
      "pandas    : 0.25.3\n",
      "sklearn   : 0.24.2\n",
      "matplotlib: 3.3.4\n",
      "seaborn   : 0.11.1\n",
      "\n"
     ]
    }
   ],
   "source": [
    "%watermark --iversions"
   ]
  },
  {
   "cell_type": "code",
   "execution_count": null,
   "id": "8238fc41-4ff8-45af-832d-8ca6512b8995",
   "metadata": {},
   "outputs": [],
   "source": []
  },
  {
   "cell_type": "code",
   "execution_count": null,
   "id": "fabdb0fa-405c-4649-b004-d353666fef7a",
   "metadata": {},
   "outputs": [],
   "source": []
  },
  {
   "cell_type": "markdown",
   "id": "3f3d5ca4-753b-47f1-801f-02be08c0bc3c",
   "metadata": {},
   "source": [
    "## Reproducibility block"
   ]
  },
  {
   "cell_type": "code",
   "execution_count": 6,
   "id": "8d133278-9bc6-4c5d-b029-bd0c31d6adf1",
   "metadata": {},
   "outputs": [],
   "source": [
    "# seed the RNG for all devices (both CPU and CUDA)\n",
    "#torch.manual_seed(1984)\n",
    "\n",
    "#Disabling the benchmarking feature causes cuDNN to deterministically select an algorithm, \n",
    "#possibly at the cost of reduced performance.\n",
    "#torch.backends.cudnn.benchmark = False\n",
    "\n",
    "# for custom operators,\n",
    "import random\n",
    "random.seed(5986721)\n",
    "\n",
    "# \n",
    "np.random.seed(62185)\n",
    "\n",
    "#sklearn take seed from a line abowe\n",
    "\n",
    "CB_RANDOMSEED = 309487\n",
    "XGB_RANDOMSEED = 56"
   ]
  },
  {
   "cell_type": "code",
   "execution_count": null,
   "id": "9f38ebd5-a020-47eb-b1f4-9ea987afb524",
   "metadata": {},
   "outputs": [],
   "source": []
  },
  {
   "cell_type": "code",
   "execution_count": 7,
   "id": "019813d1-62ae-4b4d-a2f6-c0d74c146413",
   "metadata": {},
   "outputs": [],
   "source": [
    "DIR_DATA   = os.path.join(os.getcwd(), 'data')\n",
    "DIR_MODELS = os.path.join(os.getcwd(), 'models')\n",
    "DIR_SUBM   = os.path.join(os.getcwd(), 'subm')\n",
    "DIR_SUBM_PART = os.path.join(os.getcwd(), 'subm', 'partial')"
   ]
  },
  {
   "cell_type": "code",
   "execution_count": null,
   "id": "0d608686-6d8e-49ad-906b-b20933e0ec2a",
   "metadata": {},
   "outputs": [],
   "source": []
  },
  {
   "cell_type": "code",
   "execution_count": 8,
   "id": "00dcf830-653c-43e2-93a8-a48c90a3a78e",
   "metadata": {},
   "outputs": [],
   "source": [
    "NTRY = 19\n",
    "NAME = f'{NTRY}_cb_pca64_sber_lags_parse_bord_nose'"
   ]
  },
  {
   "cell_type": "code",
   "execution_count": 9,
   "id": "405a66ac-9262-4fce-8189-ee569f79eedf",
   "metadata": {},
   "outputs": [],
   "source": [
    "#CTR_UKR = 1.39808553\n",
    "VIEWS_UKR = 2554204\n",
    "DEPTH_UKR = 1.799\n",
    "FPR_UKR = 4.978"
   ]
  },
  {
   "cell_type": "code",
   "execution_count": null,
   "id": "6aee7533-343d-4346-a598-41e96250d2dc",
   "metadata": {},
   "outputs": [],
   "source": []
  },
  {
   "cell_type": "markdown",
   "id": "ae3e27a3-16bb-456d-b7a1-7975d5f85ea5",
   "metadata": {},
   "source": [
    "## Load data"
   ]
  },
  {
   "cell_type": "code",
   "execution_count": 10,
   "id": "ee296ac9-baf6-4bcb-89ce-5fe99408403d",
   "metadata": {},
   "outputs": [],
   "source": [
    "df_train = pd.read_csv(os.path.join(DIR_DATA, 'train_upd.csv'), index_col= 0)\n",
    "x_train  = pd.read_csv(os.path.join(DIR_DATA, 'x_train.csv'), index_col= 0)\n",
    "x_val    = pd.read_csv(os.path.join(DIR_DATA, 'x_val.csv'), index_col= 0)\n",
    "df_test  = pd.read_csv(os.path.join(DIR_DATA, 'test_upd.csv'), index_col= 0)\n",
    "\n",
    "#with open(os.path.join(DIR_DATA, 'cat_columns.pkl'), 'rb') as pickle_file:\n",
    "#    cat_cols = pkl.load(pickle_file)\n",
    "    \n",
    "#with open(os.path.join(DIR_DATA, 'num_columns.pkl'), 'rb') as pickle_file:\n",
    "#    num_cols = pkl.load(pickle_file)\n",
    "    \n",
    "with open(os.path.join(DIR_DATA, 'clmns.pkl'), 'rb') as pickle_file:\n",
    "    clmns = pkl.load(pickle_file)\n"
   ]
  },
  {
   "cell_type": "code",
   "execution_count": 11,
   "id": "b00427ec-ac4f-4da3-8dfb-94871e63072d",
   "metadata": {},
   "outputs": [
    {
     "data": {
      "text/plain": [
       "((5584, 292), (1397, 292), (3000, 289))"
      ]
     },
     "execution_count": 11,
     "metadata": {},
     "output_type": "execute_result"
    }
   ],
   "source": [
    "x_train.shape, x_val.shape, df_test.shape, #len(cat_cols), len(num_cols)"
   ]
  },
  {
   "cell_type": "code",
   "execution_count": null,
   "id": "40e960cf-00f2-45b2-986f-436a8024d0de",
   "metadata": {},
   "outputs": [],
   "source": []
  },
  {
   "cell_type": "markdown",
   "id": "d4b599d2-168d-4cc1-a4ea-fc34d707a0ce",
   "metadata": {},
   "source": [
    "отделяем метки от данных"
   ]
  },
  {
   "cell_type": "code",
   "execution_count": 12,
   "id": "40de44ef-8722-48fc-84f7-c78ce45471fc",
   "metadata": {},
   "outputs": [
    {
     "data": {
      "text/plain": [
       "((5584, 289), (1397, 289), (5584, 3), (1397, 3))"
      ]
     },
     "execution_count": 12,
     "metadata": {},
     "output_type": "execute_result"
    }
   ],
   "source": [
    "y_train = x_train[['views', 'depth', 'full_reads_percent']]\n",
    "y_val   = x_val[['views', 'depth', 'full_reads_percent']]\n",
    "\n",
    "x_train.drop(['views', 'depth', 'full_reads_percent'], axis = 1, inplace = True)\n",
    "x_val.drop(  ['views', 'depth', 'full_reads_percent'], axis = 1, inplace = True)\n",
    "\n",
    "x_train.shape, x_val.shape, y_train.shape, y_val.shape"
   ]
  },
  {
   "cell_type": "code",
   "execution_count": null,
   "id": "3145e466-8172-424b-85ac-ad97439d9913",
   "metadata": {},
   "outputs": [],
   "source": []
  },
  {
   "cell_type": "code",
   "execution_count": 13,
   "id": "c416f029-f4cc-46cf-aa20-c30e664b1cdb",
   "metadata": {},
   "outputs": [
    {
     "name": "stdout",
     "output_type": "stream",
     "text": [
      "['ph_report', 'ph_gallery', 'tv_prog', 'online', 'video', 'infogr']\n",
      "['hour', 'dow', 'day', 'mounth', 'holiday', 'day_before_holiday', 'day_after_holiday', 'distrib_brdr']\n"
     ]
    }
   ],
   "source": [
    "cat_cols = []\n",
    "num_cols = []\n",
    "\n",
    "for el in clmns.keys():\n",
    "    cat_cols.extend(clmns[el]['cat'])\n",
    "    num_cols.extend(clmns[el]['num'])\n",
    "    if len(clmns[el]['both']) != 0:\n",
    "        print(clmns[el]['both'])"
   ]
  },
  {
   "cell_type": "code",
   "execution_count": 14,
   "id": "972bb343-2bb3-4c31-b99f-f9c8331f8b87",
   "metadata": {},
   "outputs": [],
   "source": [
    "num_cols.extend(['hour', 'mounth'])\n",
    "cat_cols.extend(['dow', \n",
    "                 'ph_report', 'ph_gallery', 'tv_prog', 'online', 'video', 'infogr',\n",
    "                 'holiday', 'day_before_holiday', 'day_after_holiday', 'distrib_brdr',\n",
    "                 #'spec_event_1',\n",
    "                ])"
   ]
  },
  {
   "cell_type": "code",
   "execution_count": null,
   "id": "a0c5cb73-e2fa-48fc-8583-d52508106490",
   "metadata": {},
   "outputs": [],
   "source": []
  },
  {
   "cell_type": "code",
   "execution_count": 15,
   "id": "eec9699d-6702-4a88-9b87-c374c89a9b17",
   "metadata": {},
   "outputs": [],
   "source": [
    "for el in cat_cols:\n",
    "    df_train[el] = df_train[el].astype(str)\n",
    "    x_train[el] = x_train[el].astype(str)\n",
    "    x_val[el]   = x_val[el].astype(str)\n",
    "    df_test[el] = df_test[el].astype(str)"
   ]
  },
  {
   "cell_type": "code",
   "execution_count": null,
   "id": "b77dc32c-95e3-4722-ab02-c8c700dd78df",
   "metadata": {},
   "outputs": [],
   "source": []
  },
  {
   "cell_type": "code",
   "execution_count": 16,
   "id": "da5f4f8d-2ce3-42fc-b01c-9538a7867504",
   "metadata": {},
   "outputs": [],
   "source": [
    "#views\n",
    "train_ds_views = Pool(x_train[cat_cols + num_cols],\n",
    "#train_ds_views = Pool(x_train[cat_cols + ['ctr']],\n",
    "                      y_train[['views']],\n",
    "                      cat_features = cat_cols,\n",
    "                      #feature_names = cat_cols + num_cols\n",
    "                     )\n",
    "\n",
    "val_ds_views   = Pool(x_val[cat_cols + num_cols],\n",
    "#val_ds_views   = Pool(x_val[cat_cols + ['ctr']],\n",
    "                      y_val[['views']],\n",
    "                      cat_features = cat_cols,\n",
    "                      #feature_names = cat_cols + num_cols\n",
    "                     )\n",
    "train_views_full = Pool(df_train[cat_cols + num_cols],\n",
    "#train_ds_views = Pool(x_train[cat_cols + ['ctr']],\n",
    "                      df_train[['views']],\n",
    "                      cat_features = cat_cols,\n",
    "                      #feature_names = cat_cols + num_cols\n",
    "                     )\n",
    "\n",
    "\n",
    "\n",
    "#depth\n",
    "train_ds_depth = Pool(x_train[cat_cols + num_cols],\n",
    "                      y_train[['depth']],\n",
    "                      cat_features = cat_cols,\n",
    "                      feature_names = cat_cols + num_cols\n",
    "                     )\n",
    "\n",
    "val_ds_depth   = Pool(x_val[cat_cols + num_cols],\n",
    "                      y_val[['depth']],\n",
    "                      cat_features = cat_cols,\n",
    "                      feature_names = cat_cols + num_cols\n",
    "                     )\n",
    "train_depth_full = Pool(df_train[cat_cols + num_cols],\n",
    "#train_ds_views = Pool(x_train[cat_cols + ['ctr']],\n",
    "                      df_train[['depth']],\n",
    "                      cat_features = cat_cols,\n",
    "                      #feature_names = cat_cols + num_cols\n",
    "                     )\n",
    "\n",
    "\n",
    "#full_reads_percent\n",
    "#у frp корреляция с depth. так что добавим признак deprh_pred и соберем датасет уже после предсказания depth"
   ]
  },
  {
   "cell_type": "code",
   "execution_count": null,
   "id": "12ae502e-4ce4-4f6e-947f-4f6f5942584a",
   "metadata": {},
   "outputs": [],
   "source": []
  },
  {
   "cell_type": "code",
   "execution_count": 17,
   "id": "41e5514e-1f39-4fd8-bee0-98c9b705dda5",
   "metadata": {},
   "outputs": [],
   "source": [
    "def plot_feature_importance2(inp_model, inp_pool, imp_number = 30):\n",
    "    \n",
    "    data = pd.DataFrame({'feature_importance': inp_model.get_feature_importance(inp_pool), \n",
    "              'feature_names': inp_pool.get_feature_names()}).sort_values(by=['feature_importance'], \n",
    "                                                       ascending=True)\n",
    "    \n",
    "    data.nlargest(imp_number, columns=\"feature_importance\").plot(kind='barh', figsize = (30,16)) ## plot top 40 features"
   ]
  },
  {
   "cell_type": "code",
   "execution_count": 18,
   "id": "55711d60-6520-4f9c-af95-e2c0624d270c",
   "metadata": {},
   "outputs": [],
   "source": [
    "def plot_feature_importance(importance,names,model_type, imp_number = 30):\n",
    "    \n",
    "    #Create arrays from feature importance and feature names\n",
    "    feature_importance = np.array(importance)\n",
    "    feature_names = np.array(names)\n",
    "    \n",
    "    #Create a DataFrame using a Dictionary\n",
    "    data={'feature_names':feature_names,'feature_importance':feature_importance}\n",
    "    fi_df = pd.DataFrame(data)\n",
    "    \n",
    "    #Sort the DataFrame in order decreasing feature importance\n",
    "    fi_df.sort_values(by=['feature_importance'], ascending=False,inplace=True)\n",
    "    \n",
    "    #Define size of bar plot\n",
    "    plt.figure(figsize=(10,8))\n",
    "    #Plot Searborn bar chart\n",
    "    sns.barplot(x=fi_df['feature_importance'][:imp_number], y=fi_df['feature_names'][:imp_number])\n",
    "    #Add chart labels\n",
    "    plt.title(model_type + 'FEATURE IMPORTANCE')\n",
    "    plt.xlabel('FEATURE IMPORTANCE')\n",
    "    plt.ylabel('FEATURE NAMES')"
   ]
  },
  {
   "cell_type": "code",
   "execution_count": null,
   "id": "4c0f79ca-2997-443a-ab51-de4e53217939",
   "metadata": {},
   "outputs": [],
   "source": []
  },
  {
   "cell_type": "markdown",
   "id": "668fd48f-3112-40a7-a453-d4f159ef4877",
   "metadata": {},
   "source": [
    "## views"
   ]
  },
  {
   "cell_type": "code",
   "execution_count": 19,
   "id": "2489ac5a-4d21-4544-be84-ac5f7ba86c57",
   "metadata": {},
   "outputs": [],
   "source": [
    "cb_params_views = {\"iterations\": 100,\n",
    "                  #\"depth\": 2,\n",
    "                  \"loss_function\": \"RMSE\",\n",
    "                  'eval_metric': 'R2',\n",
    "                  \"verbose\": False\n",
    "                  }"
   ]
  },
  {
   "cell_type": "code",
   "execution_count": 20,
   "id": "b70dc05f-0165-452e-ab7c-7fa33f07bcd0",
   "metadata": {},
   "outputs": [
    {
     "name": "stdout",
     "output_type": "stream",
     "text": [
      "Wall time: 2min 2s\n"
     ]
    }
   ],
   "source": [
    "%%time\n",
    "scores_views = cv(train_views_full,\n",
    "                  cb_params_views,\n",
    "                  fold_count=5,\n",
    "                  seed = CB_RANDOMSEED, \n",
    "                  #plot=\"True\"\n",
    "                 )"
   ]
  },
  {
   "cell_type": "code",
   "execution_count": 21,
   "id": "8cf4bc60-8ca3-461a-865f-7c312e83e6ba",
   "metadata": {},
   "outputs": [],
   "source": [
    "#scores_views"
   ]
  },
  {
   "cell_type": "code",
   "execution_count": 22,
   "id": "35b0a3d9-a410-425a-a5d4-f31004706c5c",
   "metadata": {},
   "outputs": [
    {
     "data": {
      "text/html": [
       "<div>\n",
       "<style scoped>\n",
       "    .dataframe tbody tr th:only-of-type {\n",
       "        vertical-align: middle;\n",
       "    }\n",
       "\n",
       "    .dataframe tbody tr th {\n",
       "        vertical-align: top;\n",
       "    }\n",
       "\n",
       "    .dataframe thead th {\n",
       "        text-align: right;\n",
       "    }\n",
       "</style>\n",
       "<table border=\"1\" class=\"dataframe\">\n",
       "  <thead>\n",
       "    <tr style=\"text-align: right;\">\n",
       "      <th></th>\n",
       "      <th>iterations</th>\n",
       "      <th>test-R2-mean</th>\n",
       "      <th>test-R2-std</th>\n",
       "      <th>train-R2-mean</th>\n",
       "      <th>train-R2-std</th>\n",
       "      <th>test-RMSE-mean</th>\n",
       "      <th>test-RMSE-std</th>\n",
       "      <th>train-RMSE-mean</th>\n",
       "      <th>train-RMSE-std</th>\n",
       "    </tr>\n",
       "  </thead>\n",
       "  <tbody>\n",
       "    <tr>\n",
       "      <th>99</th>\n",
       "      <td>99</td>\n",
       "      <td>0.487575</td>\n",
       "      <td>0.076982</td>\n",
       "      <td>0.660354</td>\n",
       "      <td>0.010815</td>\n",
       "      <td>42671.693769</td>\n",
       "      <td>14002.351624</td>\n",
       "      <td>35193.036169</td>\n",
       "      <td>2693.651339</td>\n",
       "    </tr>\n",
       "  </tbody>\n",
       "</table>\n",
       "</div>"
      ],
      "text/plain": [
       "    iterations  test-R2-mean  test-R2-std  train-R2-mean  train-R2-std  \\\n",
       "99          99      0.487575     0.076982       0.660354      0.010815   \n",
       "\n",
       "    test-RMSE-mean  test-RMSE-std  train-RMSE-mean  train-RMSE-std  \n",
       "99    42671.693769   14002.351624     35193.036169     2693.651339  "
      ]
     },
     "execution_count": 22,
     "metadata": {},
     "output_type": "execute_result"
    }
   ],
   "source": [
    "scores_views[scores_views['test-R2-mean'] == scores_views['test-R2-mean'].max()]"
   ]
  },
  {
   "cell_type": "raw",
   "id": "871969ff-7643-4840-bb32-c48e8956c757",
   "metadata": {},
   "source": [
    "99\t99\t0.320283\t0.047732\t0.540503\t0.013341\t48957.82057\t14231.473752\t40897.020083\t2493.236817"
   ]
  },
  {
   "cell_type": "code",
   "execution_count": null,
   "id": "df096968-412c-4425-ab0e-8d3ca1746141",
   "metadata": {},
   "outputs": [],
   "source": []
  },
  {
   "cell_type": "code",
   "execution_count": 51,
   "id": "37fb9d99-b182-4aae-85ba-24ff91dfbe33",
   "metadata": {},
   "outputs": [
    {
     "name": "stdout",
     "output_type": "stream",
     "text": [
      "0:\tlearn: 60911.1448193\ttest: 53183.4024363\tbest: 53183.4024363 (0)\ttotal: 532ms\tremaining: 52.6s\n",
      "1:\tlearn: 59799.4368164\ttest: 52390.1220942\tbest: 52390.1220942 (1)\ttotal: 1.12s\tremaining: 54.8s\n",
      "2:\tlearn: 58830.9378454\ttest: 51749.8229510\tbest: 51749.8229510 (2)\ttotal: 1.67s\tremaining: 54s\n",
      "3:\tlearn: 57699.6036970\ttest: 50841.2640479\tbest: 50841.2640479 (3)\ttotal: 2.2s\tremaining: 52.8s\n",
      "4:\tlearn: 56659.7769081\ttest: 50040.4773030\tbest: 50040.4773030 (4)\ttotal: 2.73s\tremaining: 51.9s\n",
      "5:\tlearn: 55667.7377656\ttest: 49250.8389331\tbest: 49250.8389331 (5)\ttotal: 3.22s\tremaining: 50.5s\n",
      "6:\tlearn: 54724.2897707\ttest: 48672.6073250\tbest: 48672.6073250 (6)\ttotal: 3.78s\tremaining: 50.3s\n",
      "7:\tlearn: 53963.1717731\ttest: 48151.8530187\tbest: 48151.8530187 (7)\ttotal: 4.32s\tremaining: 49.7s\n",
      "8:\tlearn: 53080.3389163\ttest: 47610.1406750\tbest: 47610.1406750 (8)\ttotal: 4.87s\tremaining: 49.3s\n",
      "9:\tlearn: 52212.0518708\ttest: 46957.2685584\tbest: 46957.2685584 (9)\ttotal: 5.41s\tremaining: 48.7s\n",
      "10:\tlearn: 51432.9183146\ttest: 46538.9845648\tbest: 46538.9845648 (10)\ttotal: 5.92s\tremaining: 47.9s\n",
      "11:\tlearn: 50782.2266444\ttest: 46091.6393584\tbest: 46091.6393584 (11)\ttotal: 6.43s\tremaining: 47.2s\n",
      "12:\tlearn: 50064.2314415\ttest: 45679.3286739\tbest: 45679.3286739 (12)\ttotal: 6.93s\tremaining: 46.4s\n",
      "13:\tlearn: 49391.6550690\ttest: 45270.7516623\tbest: 45270.7516623 (13)\ttotal: 7.44s\tremaining: 45.7s\n",
      "14:\tlearn: 48723.8333772\ttest: 44915.4577850\tbest: 44915.4577850 (14)\ttotal: 7.95s\tremaining: 45.1s\n",
      "15:\tlearn: 48140.3780040\ttest: 44670.3426791\tbest: 44670.3426791 (15)\ttotal: 8.46s\tremaining: 44.4s\n",
      "16:\tlearn: 47614.1076618\ttest: 44242.8391600\tbest: 44242.8391600 (16)\ttotal: 8.97s\tremaining: 43.8s\n",
      "17:\tlearn: 47064.0140030\ttest: 44044.0460457\tbest: 44044.0460457 (17)\ttotal: 9.47s\tremaining: 43.2s\n",
      "18:\tlearn: 46517.1502906\ttest: 43748.9503743\tbest: 43748.9503743 (18)\ttotal: 10s\tremaining: 42.7s\n",
      "19:\tlearn: 45971.5593738\ttest: 43523.7197757\tbest: 43523.7197757 (19)\ttotal: 10.6s\tremaining: 42.4s\n",
      "20:\tlearn: 45441.2530586\ttest: 43166.8333320\tbest: 43166.8333320 (20)\ttotal: 11.2s\tremaining: 42s\n",
      "21:\tlearn: 44870.5012456\ttest: 42959.5946734\tbest: 42959.5946734 (21)\ttotal: 11.8s\tremaining: 41.9s\n",
      "22:\tlearn: 44312.7173058\ttest: 42463.2062582\tbest: 42463.2062582 (22)\ttotal: 12.4s\tremaining: 41.7s\n",
      "23:\tlearn: 43822.2194558\ttest: 42261.1410373\tbest: 42261.1410373 (23)\ttotal: 13s\tremaining: 41.3s\n",
      "24:\tlearn: 43339.1952611\ttest: 42009.8927158\tbest: 42009.8927158 (24)\ttotal: 13.6s\tremaining: 40.7s\n",
      "25:\tlearn: 42867.0392235\ttest: 41848.4927184\tbest: 41848.4927184 (25)\ttotal: 14.2s\tremaining: 40.5s\n",
      "26:\tlearn: 42438.5575833\ttest: 41677.6500345\tbest: 41677.6500345 (26)\ttotal: 15s\tremaining: 40.5s\n",
      "27:\tlearn: 42031.0295537\ttest: 41538.7890929\tbest: 41538.7890929 (27)\ttotal: 15.8s\tremaining: 40.5s\n",
      "28:\tlearn: 41581.1502759\ttest: 41373.4383765\tbest: 41373.4383765 (28)\ttotal: 16.4s\tremaining: 40.1s\n",
      "29:\tlearn: 41198.9487940\ttest: 41261.9457572\tbest: 41261.9457572 (29)\ttotal: 17s\tremaining: 39.6s\n",
      "30:\tlearn: 41001.9035439\ttest: 41233.1907064\tbest: 41233.1907064 (30)\ttotal: 17.6s\tremaining: 39.3s\n",
      "31:\tlearn: 40592.4969370\ttest: 41146.4908914\tbest: 41146.4908914 (31)\ttotal: 18.3s\tremaining: 38.9s\n",
      "32:\tlearn: 40178.7407061\ttest: 40939.6260052\tbest: 40939.6260052 (32)\ttotal: 18.9s\tremaining: 38.4s\n",
      "33:\tlearn: 39772.2951351\ttest: 40811.0570299\tbest: 40811.0570299 (33)\ttotal: 19.6s\tremaining: 38.1s\n",
      "34:\tlearn: 39407.0308342\ttest: 40774.7114834\tbest: 40774.7114834 (34)\ttotal: 20.2s\tremaining: 37.6s\n",
      "35:\tlearn: 39109.5245490\ttest: 40702.8049023\tbest: 40702.8049023 (35)\ttotal: 20.9s\tremaining: 37.1s\n",
      "36:\tlearn: 38698.1986298\ttest: 40501.2983056\tbest: 40501.2983056 (36)\ttotal: 21.5s\tremaining: 36.6s\n",
      "37:\tlearn: 38520.2026684\ttest: 40478.6616006\tbest: 40478.6616006 (37)\ttotal: 22.2s\tremaining: 36.2s\n",
      "38:\tlearn: 38182.9600086\ttest: 40360.0035593\tbest: 40360.0035593 (38)\ttotal: 22.9s\tremaining: 35.8s\n",
      "39:\tlearn: 37981.4214759\ttest: 40362.7904110\tbest: 40360.0035593 (38)\ttotal: 23.5s\tremaining: 35.3s\n",
      "40:\tlearn: 37659.1781260\ttest: 40333.0323518\tbest: 40333.0323518 (40)\ttotal: 24.2s\tremaining: 34.8s\n",
      "41:\tlearn: 37309.4015819\ttest: 40226.5837048\tbest: 40226.5837048 (41)\ttotal: 24.9s\tremaining: 34.4s\n",
      "42:\tlearn: 37142.3855020\ttest: 40171.1758275\tbest: 40171.1758275 (42)\ttotal: 25.5s\tremaining: 33.8s\n",
      "43:\tlearn: 36941.4132964\ttest: 40174.4776387\tbest: 40171.1758275 (42)\ttotal: 26.2s\tremaining: 33.4s\n",
      "44:\tlearn: 36629.6295872\ttest: 39998.0923522\tbest: 39998.0923522 (44)\ttotal: 26.8s\tremaining: 32.7s\n",
      "45:\tlearn: 36299.3431366\ttest: 39842.3611931\tbest: 39842.3611931 (45)\ttotal: 27.3s\tremaining: 32s\n",
      "46:\tlearn: 36014.8512054\ttest: 39720.4639665\tbest: 39720.4639665 (46)\ttotal: 27.8s\tremaining: 31.4s\n",
      "47:\tlearn: 35880.6956391\ttest: 39712.5315423\tbest: 39712.5315423 (47)\ttotal: 28.4s\tremaining: 30.8s\n",
      "48:\tlearn: 35686.9915993\ttest: 39682.2913972\tbest: 39682.2913972 (48)\ttotal: 28.9s\tremaining: 30.1s\n",
      "49:\tlearn: 35338.7477023\ttest: 39631.7322113\tbest: 39631.7322113 (49)\ttotal: 29.5s\tremaining: 29.5s\n",
      "50:\tlearn: 35173.5377484\ttest: 39622.3822832\tbest: 39622.3822832 (50)\ttotal: 30s\tremaining: 28.9s\n",
      "51:\tlearn: 35016.9906843\ttest: 39590.8597727\tbest: 39590.8597727 (51)\ttotal: 30.6s\tremaining: 28.2s\n",
      "52:\tlearn: 34683.0740325\ttest: 39420.3352483\tbest: 39420.3352483 (52)\ttotal: 31.1s\tremaining: 27.6s\n",
      "53:\tlearn: 34550.8980378\ttest: 39416.2827989\tbest: 39416.2827989 (53)\ttotal: 31.7s\tremaining: 27s\n",
      "54:\tlearn: 34318.8174539\ttest: 39357.7779617\tbest: 39357.7779617 (54)\ttotal: 32.2s\tremaining: 26.3s\n",
      "55:\tlearn: 34046.8017817\ttest: 39218.4158699\tbest: 39218.4158699 (55)\ttotal: 32.7s\tremaining: 25.7s\n",
      "56:\tlearn: 33759.7538753\ttest: 39104.7290566\tbest: 39104.7290566 (56)\ttotal: 33.2s\tremaining: 25.1s\n",
      "57:\tlearn: 33575.7992754\ttest: 39054.6525878\tbest: 39054.6525878 (57)\ttotal: 33.7s\tremaining: 24.4s\n",
      "58:\tlearn: 33466.8023839\ttest: 39048.1328050\tbest: 39048.1328050 (58)\ttotal: 34.2s\tremaining: 23.8s\n",
      "59:\tlearn: 33175.0010577\ttest: 38993.2576167\tbest: 38993.2576167 (59)\ttotal: 34.8s\tremaining: 23.2s\n",
      "60:\tlearn: 32999.4436697\ttest: 38975.7934104\tbest: 38975.7934104 (60)\ttotal: 35.3s\tremaining: 22.6s\n",
      "61:\tlearn: 32732.2015794\ttest: 38860.7501989\tbest: 38860.7501989 (61)\ttotal: 35.8s\tremaining: 21.9s\n",
      "62:\tlearn: 32611.2241558\ttest: 38862.2930239\tbest: 38860.7501989 (61)\ttotal: 36.3s\tremaining: 21.3s\n",
      "63:\tlearn: 32365.2448565\ttest: 38731.3779442\tbest: 38731.3779442 (63)\ttotal: 36.9s\tremaining: 20.7s\n",
      "64:\tlearn: 32116.4242725\ttest: 38713.5582447\tbest: 38713.5582447 (64)\ttotal: 37.4s\tremaining: 20.1s\n",
      "65:\tlearn: 32006.4473796\ttest: 38705.6664678\tbest: 38705.6664678 (65)\ttotal: 37.9s\tremaining: 19.5s\n",
      "66:\tlearn: 31891.0638456\ttest: 38689.6033312\tbest: 38689.6033312 (66)\ttotal: 38.4s\tremaining: 18.9s\n",
      "67:\tlearn: 31688.9936264\ttest: 38609.8782865\tbest: 38609.8782865 (67)\ttotal: 38.9s\tremaining: 18.3s\n",
      "68:\tlearn: 31593.1154504\ttest: 38602.2785447\tbest: 38602.2785447 (68)\ttotal: 39.4s\tremaining: 17.7s\n",
      "69:\tlearn: 31400.2894200\ttest: 38538.1704642\tbest: 38538.1704642 (69)\ttotal: 40s\tremaining: 17.1s\n",
      "70:\tlearn: 31233.2606938\ttest: 38493.2330298\tbest: 38493.2330298 (70)\ttotal: 40.5s\tremaining: 16.5s\n",
      "71:\tlearn: 31070.5237408\ttest: 38455.1391662\tbest: 38455.1391662 (71)\ttotal: 41.1s\tremaining: 16s\n",
      "72:\tlearn: 30988.9259372\ttest: 38455.5001802\tbest: 38455.1391662 (71)\ttotal: 41.8s\tremaining: 15.4s\n",
      "73:\tlearn: 30888.9080975\ttest: 38438.7133603\tbest: 38438.7133603 (73)\ttotal: 42.3s\tremaining: 14.9s\n",
      "74:\tlearn: 30790.9381329\ttest: 38419.8075813\tbest: 38419.8075813 (74)\ttotal: 43s\tremaining: 14.3s\n",
      "75:\tlearn: 30582.4706697\ttest: 38388.0297130\tbest: 38388.0297130 (75)\ttotal: 43.7s\tremaining: 13.8s\n",
      "76:\tlearn: 30361.0260612\ttest: 38329.5423647\tbest: 38329.5423647 (76)\ttotal: 44.4s\tremaining: 13.3s\n",
      "77:\tlearn: 30242.4559157\ttest: 38284.8036906\tbest: 38284.8036906 (77)\ttotal: 45s\tremaining: 12.7s\n",
      "78:\tlearn: 30016.5013507\ttest: 38220.0398156\tbest: 38220.0398156 (78)\ttotal: 45.7s\tremaining: 12.2s\n",
      "79:\tlearn: 29800.5730765\ttest: 38160.5877252\tbest: 38160.5877252 (79)\ttotal: 46.4s\tremaining: 11.6s\n",
      "80:\tlearn: 29719.2202945\ttest: 38159.6687945\tbest: 38159.6687945 (80)\ttotal: 47.1s\tremaining: 11.1s\n",
      "81:\tlearn: 29503.0846333\ttest: 38150.1400194\tbest: 38150.1400194 (81)\ttotal: 47.8s\tremaining: 10.5s\n",
      "82:\tlearn: 29376.3729590\ttest: 38126.8969629\tbest: 38126.8969629 (82)\ttotal: 48.4s\tremaining: 9.92s\n",
      "83:\tlearn: 29290.5472588\ttest: 38126.4288827\tbest: 38126.4288827 (83)\ttotal: 49.1s\tremaining: 9.35s\n",
      "84:\tlearn: 29083.4168283\ttest: 38083.9224642\tbest: 38083.9224642 (84)\ttotal: 49.8s\tremaining: 8.78s\n",
      "85:\tlearn: 28909.8933306\ttest: 38016.2827022\tbest: 38016.2827022 (85)\ttotal: 50.4s\tremaining: 8.2s\n",
      "86:\tlearn: 28766.3492570\ttest: 37961.7497722\tbest: 37961.7497722 (86)\ttotal: 51s\tremaining: 7.61s\n",
      "87:\tlearn: 28633.6247124\ttest: 37921.2723111\tbest: 37921.2723111 (87)\ttotal: 51.6s\tremaining: 7.03s\n",
      "88:\tlearn: 28436.9897705\ttest: 37889.0635180\tbest: 37889.0635180 (88)\ttotal: 52.1s\tremaining: 6.44s\n",
      "89:\tlearn: 28357.0720661\ttest: 37886.4570090\tbest: 37886.4570090 (89)\ttotal: 52.8s\tremaining: 5.87s\n",
      "90:\tlearn: 28209.8798323\ttest: 37871.9227389\tbest: 37871.9227389 (90)\ttotal: 53.3s\tremaining: 5.27s\n",
      "91:\tlearn: 28125.0499386\ttest: 37879.5478251\tbest: 37871.9227389 (90)\ttotal: 53.9s\tremaining: 4.68s\n",
      "92:\tlearn: 27977.0719746\ttest: 37823.7763873\tbest: 37823.7763873 (92)\ttotal: 54.4s\tremaining: 4.09s\n",
      "93:\tlearn: 27837.1785387\ttest: 37816.8189157\tbest: 37816.8189157 (93)\ttotal: 54.9s\tremaining: 3.5s\n",
      "94:\tlearn: 27655.4612161\ttest: 37777.0710716\tbest: 37777.0710716 (94)\ttotal: 55.4s\tremaining: 2.92s\n",
      "95:\tlearn: 27493.6609422\ttest: 37779.2152625\tbest: 37777.0710716 (94)\ttotal: 55.9s\tremaining: 2.33s\n",
      "96:\tlearn: 27262.1096325\ttest: 37695.0421946\tbest: 37695.0421946 (96)\ttotal: 56.4s\tremaining: 1.75s\n",
      "97:\tlearn: 27095.6327933\ttest: 37633.7682647\tbest: 37633.7682647 (97)\ttotal: 56.9s\tremaining: 1.16s\n",
      "98:\tlearn: 26957.1881144\ttest: 37599.3494202\tbest: 37599.3494202 (98)\ttotal: 57.4s\tremaining: 580ms\n",
      "99:\tlearn: 26776.3795445\ttest: 37596.5552272\tbest: 37596.5552272 (99)\ttotal: 57.9s\tremaining: 0us\n",
      "\n",
      "bestTest = 37596.55523\n",
      "bestIteration = 99\n",
      "\n"
     ]
    },
    {
     "data": {
      "text/plain": [
       "<catboost.core.CatBoostRegressor at 0x178557c2748>"
      ]
     },
     "execution_count": 51,
     "metadata": {},
     "output_type": "execute_result"
    }
   ],
   "source": [
    "cb_model_views = CatBoostRegressor(#iterations=20,\n",
    "                                 learning_rate=0.05,\n",
    "                                 depth=10,\n",
    "                                 random_seed = CB_RANDOMSEED,\n",
    "                   n_estimators=100,\n",
    "                                  )\n",
    "# Fit model\n",
    "cb_model_views.fit(train_ds_views,\n",
    "        #train_data, train_labels,\n",
    "                   eval_set=val_ds_views, \n",
    "                   #plot = True,\n",
    "                  )"
   ]
  },
  {
   "cell_type": "code",
   "execution_count": 24,
   "id": "b0c470be-2a85-4ddc-8523-19194d636b32",
   "metadata": {},
   "outputs": [
    {
     "data": {
      "text/plain": [
       "(0.813655538047701, 0.5135620982050143)"
      ]
     },
     "execution_count": 24,
     "metadata": {},
     "output_type": "execute_result"
    }
   ],
   "source": [
    "# Get predictions and metrics\n",
    "preds_train_views = cb_model_views.predict(x_train[cat_cols + num_cols])\n",
    "preds_val_views   = cb_model_views.predict(val_ds_views)\n",
    "\n",
    "train_score_views = r2_score(y_train[\"views\"], preds_train_views)\n",
    "val_score_views   = r2_score(y_val[\"views\"],   preds_val_views)\n",
    "\n",
    "train_score_views, val_score_views"
   ]
  },
  {
   "cell_type": "raw",
   "id": "fbcef74b-d54b-4a08-ab5d-c4838a2ccb05",
   "metadata": {},
   "source": [
    "(0.813655538047701, 0.5135620982050143) emb + pca 64 + lags + nauth + all_norm + parse + auth int + cat int"
   ]
  },
  {
   "cell_type": "code",
   "execution_count": null,
   "id": "40a5942c-9dbe-4dc8-952c-1a6af1618318",
   "metadata": {},
   "outputs": [],
   "source": []
  },
  {
   "cell_type": "code",
   "execution_count": 25,
   "id": "706be592-2cd3-4db9-9e9d-7b71af1277c0",
   "metadata": {},
   "outputs": [
    {
     "data": {
      "image/png": "[encoded data removed]",
      "text/plain": [
       "<Figure size 720x576 with 1 Axes>"
      ]
     },
     "metadata": {
      "needs_background": "light"
     },
     "output_type": "display_data"
    }
   ],
   "source": [
    "#plot_feature_importance(cb_model_views, train_ds_views, 30)\n",
    "plot_feature_importance(cb_model_views.get_feature_importance(), train_ds_views.get_feature_names(), 'CATBOOST')"
   ]
  },
  {
   "cell_type": "code",
   "execution_count": null,
   "id": "57d15d8a-e96a-436f-9908-bb3efc30c1f7",
   "metadata": {},
   "outputs": [],
   "source": []
  },
  {
   "cell_type": "markdown",
   "id": "a3cac29b-566d-4c8b-9cf7-9ef84a7261d2",
   "metadata": {},
   "source": [
    "## depth"
   ]
  },
  {
   "cell_type": "code",
   "execution_count": 26,
   "id": "a2b00f32-c094-4b91-ae51-c30fe20cf7cf",
   "metadata": {},
   "outputs": [],
   "source": [
    "cb_params_depth = cb_params_views"
   ]
  },
  {
   "cell_type": "code",
   "execution_count": 27,
   "id": "9770f82e-ee75-48b7-9e7a-42e454460756",
   "metadata": {},
   "outputs": [
    {
     "name": "stdout",
     "output_type": "stream",
     "text": [
      "Wall time: 2min 1s\n"
     ]
    }
   ],
   "source": [
    "%%time\n",
    "scores_depth = cv(train_depth_full,\n",
    "                  cb_params_depth,\n",
    "                  fold_count=5,\n",
    "                  seed = CB_RANDOMSEED, \n",
    "                  #plot=\"True\"\n",
    "                 )"
   ]
  },
  {
   "cell_type": "code",
   "execution_count": 28,
   "id": "2a8dcf9a-bae5-40b6-9d18-d7a4310b7a3b",
   "metadata": {},
   "outputs": [
    {
     "data": {
      "text/html": [
       "<div>\n",
       "<style scoped>\n",
       "    .dataframe tbody tr th:only-of-type {\n",
       "        vertical-align: middle;\n",
       "    }\n",
       "\n",
       "    .dataframe tbody tr th {\n",
       "        vertical-align: top;\n",
       "    }\n",
       "\n",
       "    .dataframe thead th {\n",
       "        text-align: right;\n",
       "    }\n",
       "</style>\n",
       "<table border=\"1\" class=\"dataframe\">\n",
       "  <thead>\n",
       "    <tr style=\"text-align: right;\">\n",
       "      <th></th>\n",
       "      <th>iterations</th>\n",
       "      <th>test-R2-mean</th>\n",
       "      <th>test-R2-std</th>\n",
       "      <th>train-R2-mean</th>\n",
       "      <th>train-R2-std</th>\n",
       "      <th>test-RMSE-mean</th>\n",
       "      <th>test-RMSE-std</th>\n",
       "      <th>train-RMSE-mean</th>\n",
       "      <th>train-RMSE-std</th>\n",
       "    </tr>\n",
       "  </thead>\n",
       "  <tbody>\n",
       "    <tr>\n",
       "      <th>99</th>\n",
       "      <td>99</td>\n",
       "      <td>-0.265</td>\n",
       "      <td>0.019129</td>\n",
       "      <td>-0.192406</td>\n",
       "      <td>0.013376</td>\n",
       "      <td>0.069446</td>\n",
       "      <td>0.002758</td>\n",
       "      <td>0.067472</td>\n",
       "      <td>0.000254</td>\n",
       "    </tr>\n",
       "  </tbody>\n",
       "</table>\n",
       "</div>"
      ],
      "text/plain": [
       "    iterations  test-R2-mean  test-R2-std  train-R2-mean  train-R2-std  \\\n",
       "99          99        -0.265     0.019129      -0.192406      0.013376   \n",
       "\n",
       "    test-RMSE-mean  test-RMSE-std  train-RMSE-mean  train-RMSE-std  \n",
       "99        0.069446       0.002758         0.067472        0.000254  "
      ]
     },
     "execution_count": 28,
     "metadata": {},
     "output_type": "execute_result"
    }
   ],
   "source": [
    "scores_depth[scores_depth['test-R2-mean'] == scores_depth['test-R2-mean'].max()]"
   ]
  },
  {
   "cell_type": "raw",
   "id": "44d68072-9fae-4323-944a-787f75308e65",
   "metadata": {},
   "source": [
    "99\t99\t-0.248805\t0.008272\t-0.181515\t0.019098\t0.069002\t0.002722\t0.067162\t0.000289"
   ]
  },
  {
   "cell_type": "code",
   "execution_count": 29,
   "id": "e9948b36-a6f3-4bec-bbb2-402d5186ef4e",
   "metadata": {},
   "outputs": [
    {
     "name": "stdout",
     "output_type": "stream",
     "text": [
      "0:\tlearn: 0.0602061\ttest: 0.0573240\tbest: 0.0573240 (0)\ttotal: 499ms\tremaining: 49.4s\n",
      "1:\tlearn: 0.0582521\ttest: 0.0554160\tbest: 0.0554160 (1)\ttotal: 1.02s\tremaining: 50.3s\n",
      "2:\tlearn: 0.0562994\ttest: 0.0535952\tbest: 0.0535952 (2)\ttotal: 1.52s\tremaining: 49.3s\n",
      "3:\tlearn: 0.0544306\ttest: 0.0517450\tbest: 0.0517450 (3)\ttotal: 2.02s\tremaining: 48.6s\n",
      "4:\tlearn: 0.0527501\ttest: 0.0500831\tbest: 0.0500831 (4)\ttotal: 2.57s\tremaining: 48.8s\n",
      "5:\tlearn: 0.0511456\ttest: 0.0485161\tbest: 0.0485161 (5)\ttotal: 3.17s\tremaining: 49.6s\n",
      "6:\tlearn: 0.0496311\ttest: 0.0470695\tbest: 0.0470695 (6)\ttotal: 3.76s\tremaining: 50s\n",
      "7:\tlearn: 0.0482213\ttest: 0.0457477\tbest: 0.0457477 (7)\ttotal: 4.34s\tremaining: 49.9s\n",
      "8:\tlearn: 0.0469449\ttest: 0.0445395\tbest: 0.0445395 (8)\ttotal: 4.93s\tremaining: 49.8s\n",
      "9:\tlearn: 0.0457619\ttest: 0.0434337\tbest: 0.0434337 (9)\ttotal: 5.5s\tremaining: 49.5s\n",
      "10:\tlearn: 0.0446198\ttest: 0.0423835\tbest: 0.0423835 (10)\ttotal: 6.15s\tremaining: 49.8s\n",
      "11:\tlearn: 0.0434851\ttest: 0.0413036\tbest: 0.0413036 (11)\ttotal: 6.69s\tremaining: 49.1s\n",
      "12:\tlearn: 0.0423638\ttest: 0.0403956\tbest: 0.0403956 (12)\ttotal: 7.22s\tremaining: 48.3s\n",
      "13:\tlearn: 0.0413654\ttest: 0.0394243\tbest: 0.0394243 (13)\ttotal: 7.78s\tremaining: 47.8s\n",
      "14:\tlearn: 0.0403729\ttest: 0.0384581\tbest: 0.0384581 (14)\ttotal: 8.32s\tremaining: 47.1s\n",
      "15:\tlearn: 0.0394796\ttest: 0.0376555\tbest: 0.0376555 (15)\ttotal: 8.87s\tremaining: 46.6s\n",
      "16:\tlearn: 0.0386080\ttest: 0.0368623\tbest: 0.0368623 (16)\ttotal: 9.43s\tremaining: 46s\n",
      "17:\tlearn: 0.0377975\ttest: 0.0361384\tbest: 0.0361384 (17)\ttotal: 9.98s\tremaining: 45.5s\n",
      "18:\tlearn: 0.0370923\ttest: 0.0355319\tbest: 0.0355319 (18)\ttotal: 10.5s\tremaining: 44.8s\n",
      "19:\tlearn: 0.0363969\ttest: 0.0349481\tbest: 0.0349481 (19)\ttotal: 11s\tremaining: 44s\n",
      "20:\tlearn: 0.0357462\ttest: 0.0343702\tbest: 0.0343702 (20)\ttotal: 11.5s\tremaining: 43.4s\n",
      "21:\tlearn: 0.0351169\ttest: 0.0338542\tbest: 0.0338542 (21)\ttotal: 12s\tremaining: 42.7s\n",
      "22:\tlearn: 0.0344910\ttest: 0.0333454\tbest: 0.0333454 (22)\ttotal: 12.5s\tremaining: 42s\n",
      "23:\tlearn: 0.0339349\ttest: 0.0328978\tbest: 0.0328978 (23)\ttotal: 13.1s\tremaining: 41.3s\n",
      "24:\tlearn: 0.0334050\ttest: 0.0324186\tbest: 0.0324186 (24)\ttotal: 13.6s\tremaining: 40.7s\n",
      "25:\tlearn: 0.0329016\ttest: 0.0320357\tbest: 0.0320357 (25)\ttotal: 14.1s\tremaining: 40.1s\n",
      "26:\tlearn: 0.0323837\ttest: 0.0315963\tbest: 0.0315963 (26)\ttotal: 14.6s\tremaining: 39.5s\n",
      "27:\tlearn: 0.0319535\ttest: 0.0312652\tbest: 0.0312652 (27)\ttotal: 15.1s\tremaining: 38.9s\n",
      "28:\tlearn: 0.0315233\ttest: 0.0309451\tbest: 0.0309451 (28)\ttotal: 15.7s\tremaining: 38.3s\n",
      "29:\tlearn: 0.0311624\ttest: 0.0306781\tbest: 0.0306781 (29)\ttotal: 16.2s\tremaining: 37.8s\n",
      "30:\tlearn: 0.0307676\ttest: 0.0303933\tbest: 0.0303933 (30)\ttotal: 16.8s\tremaining: 37.3s\n",
      "31:\tlearn: 0.0303908\ttest: 0.0301462\tbest: 0.0301462 (31)\ttotal: 17.3s\tremaining: 36.7s\n",
      "32:\tlearn: 0.0300473\ttest: 0.0298834\tbest: 0.0298834 (32)\ttotal: 17.8s\tremaining: 36.1s\n",
      "33:\tlearn: 0.0296773\ttest: 0.0296347\tbest: 0.0296347 (33)\ttotal: 18.3s\tremaining: 35.5s\n",
      "34:\tlearn: 0.0293606\ttest: 0.0294191\tbest: 0.0294191 (34)\ttotal: 18.8s\tremaining: 34.9s\n",
      "35:\tlearn: 0.0290773\ttest: 0.0292100\tbest: 0.0292100 (35)\ttotal: 19.3s\tremaining: 34.3s\n",
      "36:\tlearn: 0.0287880\ttest: 0.0290179\tbest: 0.0290179 (36)\ttotal: 19.8s\tremaining: 33.7s\n",
      "37:\tlearn: 0.0285191\ttest: 0.0288323\tbest: 0.0288323 (37)\ttotal: 20.3s\tremaining: 33.1s\n",
      "38:\tlearn: 0.0282792\ttest: 0.0286553\tbest: 0.0286553 (38)\ttotal: 20.8s\tremaining: 32.5s\n",
      "39:\tlearn: 0.0280159\ttest: 0.0284915\tbest: 0.0284915 (39)\ttotal: 21.3s\tremaining: 32s\n",
      "40:\tlearn: 0.0277673\ttest: 0.0282932\tbest: 0.0282932 (40)\ttotal: 21.9s\tremaining: 31.5s\n",
      "41:\tlearn: 0.0275351\ttest: 0.0281181\tbest: 0.0281181 (41)\ttotal: 22.4s\tremaining: 30.9s\n",
      "42:\tlearn: 0.0273560\ttest: 0.0280267\tbest: 0.0280267 (42)\ttotal: 22.9s\tremaining: 30.3s\n",
      "43:\tlearn: 0.0271384\ttest: 0.0279056\tbest: 0.0279056 (43)\ttotal: 23.4s\tremaining: 29.7s\n",
      "44:\tlearn: 0.0269349\ttest: 0.0278083\tbest: 0.0278083 (44)\ttotal: 23.9s\tremaining: 29.2s\n",
      "45:\tlearn: 0.0267502\ttest: 0.0277052\tbest: 0.0277052 (45)\ttotal: 24.4s\tremaining: 28.6s\n",
      "46:\tlearn: 0.0265577\ttest: 0.0276619\tbest: 0.0276619 (46)\ttotal: 24.9s\tremaining: 28.1s\n",
      "47:\tlearn: 0.0263764\ttest: 0.0275563\tbest: 0.0275563 (47)\ttotal: 25.5s\tremaining: 27.6s\n",
      "48:\tlearn: 0.0262198\ttest: 0.0274705\tbest: 0.0274705 (48)\ttotal: 26s\tremaining: 27s\n",
      "49:\tlearn: 0.0260778\ttest: 0.0274076\tbest: 0.0274076 (49)\ttotal: 26.5s\tremaining: 26.5s\n",
      "50:\tlearn: 0.0259195\ttest: 0.0273336\tbest: 0.0273336 (50)\ttotal: 27s\tremaining: 25.9s\n",
      "51:\tlearn: 0.0257699\ttest: 0.0272544\tbest: 0.0272544 (51)\ttotal: 27.5s\tremaining: 25.4s\n",
      "52:\tlearn: 0.0256209\ttest: 0.0271881\tbest: 0.0271881 (52)\ttotal: 28s\tremaining: 24.8s\n",
      "53:\tlearn: 0.0254926\ttest: 0.0271259\tbest: 0.0271259 (53)\ttotal: 28.5s\tremaining: 24.3s\n",
      "54:\tlearn: 0.0253614\ttest: 0.0270378\tbest: 0.0270378 (54)\ttotal: 29s\tremaining: 23.7s\n",
      "55:\tlearn: 0.0252317\ttest: 0.0269891\tbest: 0.0269891 (55)\ttotal: 29.5s\tremaining: 23.2s\n",
      "56:\tlearn: 0.0251213\ttest: 0.0269362\tbest: 0.0269362 (56)\ttotal: 30s\tremaining: 22.7s\n",
      "57:\tlearn: 0.0249743\ttest: 0.0268955\tbest: 0.0268955 (57)\ttotal: 30.6s\tremaining: 22.1s\n",
      "58:\tlearn: 0.0248634\ttest: 0.0268433\tbest: 0.0268433 (58)\ttotal: 31.1s\tremaining: 21.6s\n",
      "59:\tlearn: 0.0247595\ttest: 0.0267678\tbest: 0.0267678 (59)\ttotal: 31.6s\tremaining: 21.1s\n",
      "60:\tlearn: 0.0246450\ttest: 0.0267311\tbest: 0.0267311 (60)\ttotal: 32.1s\tremaining: 20.5s\n",
      "61:\tlearn: 0.0245178\ttest: 0.0266937\tbest: 0.0266937 (61)\ttotal: 32.6s\tremaining: 20s\n",
      "62:\tlearn: 0.0244213\ttest: 0.0266598\tbest: 0.0266598 (62)\ttotal: 33.2s\tremaining: 19.5s\n",
      "63:\tlearn: 0.0243135\ttest: 0.0266221\tbest: 0.0266221 (63)\ttotal: 33.8s\tremaining: 19s\n",
      "64:\tlearn: 0.0242006\ttest: 0.0265917\tbest: 0.0265917 (64)\ttotal: 34.4s\tremaining: 18.5s\n",
      "65:\tlearn: 0.0240862\ttest: 0.0265599\tbest: 0.0265599 (65)\ttotal: 35s\tremaining: 18s\n",
      "66:\tlearn: 0.0240032\ttest: 0.0265067\tbest: 0.0265067 (66)\ttotal: 35.6s\tremaining: 17.5s\n",
      "67:\tlearn: 0.0238989\ttest: 0.0264875\tbest: 0.0264875 (67)\ttotal: 36.2s\tremaining: 17s\n",
      "68:\tlearn: 0.0237891\ttest: 0.0264836\tbest: 0.0264836 (68)\ttotal: 36.8s\tremaining: 16.5s\n",
      "69:\tlearn: 0.0237112\ttest: 0.0264700\tbest: 0.0264700 (69)\ttotal: 37.3s\tremaining: 16s\n",
      "70:\tlearn: 0.0236467\ttest: 0.0264493\tbest: 0.0264493 (70)\ttotal: 38s\tremaining: 15.5s\n",
      "71:\tlearn: 0.0235519\ttest: 0.0264011\tbest: 0.0264011 (71)\ttotal: 38.6s\tremaining: 15s\n",
      "72:\tlearn: 0.0234697\ttest: 0.0263961\tbest: 0.0263961 (72)\ttotal: 39.3s\tremaining: 14.5s\n",
      "73:\tlearn: 0.0233626\ttest: 0.0263733\tbest: 0.0263733 (73)\ttotal: 39.9s\tremaining: 14s\n",
      "74:\tlearn: 0.0232820\ttest: 0.0263360\tbest: 0.0263360 (74)\ttotal: 40.5s\tremaining: 13.5s\n",
      "75:\tlearn: 0.0231812\ttest: 0.0263024\tbest: 0.0263024 (75)\ttotal: 41.1s\tremaining: 13s\n",
      "76:\tlearn: 0.0230938\ttest: 0.0262873\tbest: 0.0262873 (76)\ttotal: 41.9s\tremaining: 12.5s\n",
      "77:\tlearn: 0.0230152\ttest: 0.0262762\tbest: 0.0262762 (77)\ttotal: 42.5s\tremaining: 12s\n",
      "78:\tlearn: 0.0229420\ttest: 0.0262506\tbest: 0.0262506 (78)\ttotal: 43.1s\tremaining: 11.5s\n",
      "79:\tlearn: 0.0228452\ttest: 0.0262454\tbest: 0.0262454 (79)\ttotal: 43.7s\tremaining: 10.9s\n",
      "80:\tlearn: 0.0227635\ttest: 0.0262175\tbest: 0.0262175 (80)\ttotal: 44.3s\tremaining: 10.4s\n",
      "81:\tlearn: 0.0226781\ttest: 0.0261999\tbest: 0.0261999 (81)\ttotal: 45s\tremaining: 9.87s\n",
      "82:\tlearn: 0.0226196\ttest: 0.0261818\tbest: 0.0261818 (82)\ttotal: 45.7s\tremaining: 9.36s\n",
      "83:\tlearn: 0.0225415\ttest: 0.0261676\tbest: 0.0261676 (83)\ttotal: 46.4s\tremaining: 8.85s\n",
      "84:\tlearn: 0.0224701\ttest: 0.0261582\tbest: 0.0261582 (84)\ttotal: 47s\tremaining: 8.29s\n",
      "85:\tlearn: 0.0224148\ttest: 0.0261355\tbest: 0.0261355 (85)\ttotal: 47.6s\tremaining: 7.75s\n",
      "86:\tlearn: 0.0223653\ttest: 0.0261280\tbest: 0.0261280 (86)\ttotal: 48.2s\tremaining: 7.2s\n",
      "87:\tlearn: 0.0222913\ttest: 0.0261082\tbest: 0.0261082 (87)\ttotal: 48.8s\tremaining: 6.65s\n",
      "88:\tlearn: 0.0222109\ttest: 0.0260753\tbest: 0.0260753 (88)\ttotal: 49.4s\tremaining: 6.11s\n",
      "89:\tlearn: 0.0221628\ttest: 0.0260660\tbest: 0.0260660 (89)\ttotal: 49.9s\tremaining: 5.55s\n",
      "90:\tlearn: 0.0221075\ttest: 0.0260505\tbest: 0.0260505 (90)\ttotal: 50.6s\tremaining: 5s\n",
      "91:\tlearn: 0.0219898\ttest: 0.0260370\tbest: 0.0260370 (91)\ttotal: 51.1s\tremaining: 4.45s\n",
      "92:\tlearn: 0.0219695\ttest: 0.0260367\tbest: 0.0260367 (92)\ttotal: 51.7s\tremaining: 3.89s\n",
      "93:\tlearn: 0.0219041\ttest: 0.0260275\tbest: 0.0260275 (93)\ttotal: 52.2s\tremaining: 3.33s\n",
      "94:\tlearn: 0.0218378\ttest: 0.0260289\tbest: 0.0260275 (93)\ttotal: 52.8s\tremaining: 2.78s\n",
      "95:\tlearn: 0.0217662\ttest: 0.0260086\tbest: 0.0260086 (95)\ttotal: 53.3s\tremaining: 2.22s\n",
      "96:\tlearn: 0.0217351\ttest: 0.0259930\tbest: 0.0259930 (96)\ttotal: 53.9s\tremaining: 1.67s\n",
      "97:\tlearn: 0.0216992\ttest: 0.0260026\tbest: 0.0259930 (96)\ttotal: 54.4s\tremaining: 1.11s\n",
      "98:\tlearn: 0.0216547\ttest: 0.0259983\tbest: 0.0259930 (96)\ttotal: 54.9s\tremaining: 555ms\n",
      "99:\tlearn: 0.0216038\ttest: 0.0259804\tbest: 0.0259804 (99)\ttotal: 55.5s\tremaining: 0us\n",
      "\n",
      "bestTest = 0.02598042251\n",
      "bestIteration = 99\n",
      "\n"
     ]
    },
    {
     "data": {
      "text/plain": [
       "<catboost.core.CatBoostRegressor at 0x17853c54208>"
      ]
     },
     "execution_count": 29,
     "metadata": {},
     "output_type": "execute_result"
    }
   ],
   "source": [
    "cb_model_depth = CatBoostRegressor(#iterations=1000,\n",
    "                                 learning_rate=0.05,\n",
    "                                 depth=10,\n",
    "                                 random_seed = CB_RANDOMSEED,\n",
    "                   n_estimators=100,\n",
    "                                  )\n",
    "# Fit model\n",
    "cb_model_depth.fit(train_ds_depth,\n",
    "                   eval_set=val_ds_depth, \n",
    "                   #plot = True,\n",
    "                  )"
   ]
  },
  {
   "cell_type": "code",
   "execution_count": 30,
   "id": "2596cde2-acc0-4f27-8ab9-6658e7cba842",
   "metadata": {},
   "outputs": [
    {
     "data": {
      "text/plain": [
       "(0.8800463832093552, 0.808425376066183)"
      ]
     },
     "execution_count": 30,
     "metadata": {},
     "output_type": "execute_result"
    }
   ],
   "source": [
    "# Get predictions and metrics\n",
    "preds_train_depth = cb_model_depth.predict(x_train[cat_cols + num_cols])\n",
    "preds_val_depth   = cb_model_depth.predict(val_ds_depth)\n",
    "\n",
    "train_score_depth = r2_score(y_train[\"depth\"], preds_train_depth)\n",
    "val_score_depth   = r2_score(y_val[\"depth\"],   preds_val_depth)\n",
    "\n",
    "train_score_depth, val_score_depth"
   ]
  },
  {
   "cell_type": "raw",
   "id": "42b4b5db-a639-4829-9350-0c78a2bb037b",
   "metadata": {},
   "source": [
    "(0.8800463832093552, 0.808425376066183) emb + pca 64 + lags + nauth + all_norm + parse + auth int + cat int"
   ]
  },
  {
   "cell_type": "code",
   "execution_count": 31,
   "id": "bf7b2ffd-0f51-492c-ad5c-cd0e859050d8",
   "metadata": {},
   "outputs": [
    {
     "data": {
      "text/plain": [
       "(5584, 289)"
      ]
     },
     "execution_count": 31,
     "metadata": {},
     "output_type": "execute_result"
    }
   ],
   "source": [
    "x_train.shape"
   ]
  },
  {
   "cell_type": "code",
   "execution_count": 32,
   "id": "a37608db-f13d-45fc-9f3f-dd430a6f0839",
   "metadata": {},
   "outputs": [
    {
     "data": {
      "image/png": "[encoded data removed]",
      "text/plain": [
       "<Figure size 720x576 with 1 Axes>"
      ]
     },
     "metadata": {
      "needs_background": "light"
     },
     "output_type": "display_data"
    }
   ],
   "source": [
    "#plot_feature_importance(cb_model_views, train_ds_views, 30)\n",
    "plot_feature_importance(cb_model_depth.get_feature_importance(), train_ds_depth.get_feature_names(), 'CATBOOST')"
   ]
  },
  {
   "cell_type": "code",
   "execution_count": null,
   "id": "5eaabd43-32cd-42df-9c8f-a88c7c8cfe3c",
   "metadata": {},
   "outputs": [],
   "source": []
  },
  {
   "cell_type": "markdown",
   "id": "fafdf6ea-9687-472f-ab6e-86125f5dc7eb",
   "metadata": {},
   "source": [
    "## full_reads_percent"
   ]
  },
  {
   "cell_type": "code",
   "execution_count": 33,
   "id": "fab012d5-56fd-4c3e-9b9d-41e1b76832e8",
   "metadata": {},
   "outputs": [],
   "source": [
    "#pd.DataFrame(preds_train_depth, columns = ['depth_pred'])\n",
    "pred_scaler = preprocessing.StandardScaler()\n",
    "tmp = pred_scaler.fit_transform(preds_train_depth.reshape(-1, 1))\n",
    "pred_depth_train = pd.DataFrame(tmp, columns = ['depth_pred'])\n",
    "\n",
    "pred_depth_val   = pd.DataFrame(pred_scaler.transform(preds_val_depth.reshape(-1, 1)), columns = ['depth_pred'])"
   ]
  },
  {
   "cell_type": "code",
   "execution_count": null,
   "id": "ba1c8f1b-db34-4dbb-9ee2-6fe507ce7319",
   "metadata": {},
   "outputs": [],
   "source": []
  },
  {
   "cell_type": "raw",
   "id": "2dc89efd-2cf0-4de5-bff0-511e6e767943",
   "metadata": {},
   "source": [
    "print('before ', x_train.shape, x_val.shape, preds_train_depth.shape, preds_val_depth.shape)\n",
    "x_train = pd.concat([x_train, pred_depth_train], axis = 1)\n",
    "x_val   = pd.concat([x_val,   pred_depth_val],   axis = 1)\n",
    "print('after  ', x_train.shape, x_val.shape)"
   ]
  },
  {
   "cell_type": "code",
   "execution_count": null,
   "id": "38454f44-8a38-4ba8-9c7d-123819f11a42",
   "metadata": {},
   "outputs": [],
   "source": []
  },
  {
   "cell_type": "code",
   "execution_count": 34,
   "id": "e9595c2e-a58a-4099-9c9c-3abc1e141a20",
   "metadata": {},
   "outputs": [],
   "source": [
    "#train_ds_frp = Pool(x_train[cat_cols + num_cols + ['depth_pred']],\n",
    "train_ds_frp = Pool(x_train[cat_cols + num_cols],\n",
    "                      y_train[['full_reads_percent']],\n",
    "                      cat_features = cat_cols,\n",
    "                      feature_names = cat_cols + num_cols,\n",
    "                     )\n",
    "\n",
    "#val_ds_frp   = Pool(x_val[cat_cols + num_cols + ['depth_pred']],\n",
    "val_ds_frp   = Pool(x_val[cat_cols + num_cols],\n",
    "                      y_val[['full_reads_percent']],\n",
    "                      cat_features = cat_cols,\n",
    "                      feature_names = cat_cols + num_cols,\n",
    "                     )\n",
    "train_frp_full = Pool(df_train[cat_cols + num_cols],\n",
    "                      df_train[['full_reads_percent']],\n",
    "                      cat_features = cat_cols,\n",
    "                      #feature_names = cat_cols + num_cols\n",
    "                     )"
   ]
  },
  {
   "cell_type": "code",
   "execution_count": 35,
   "id": "d9d8a013-9537-4797-9cf6-b26bc9f6e5e3",
   "metadata": {},
   "outputs": [],
   "source": [
    "cb_params_frp = cb_params_views"
   ]
  },
  {
   "cell_type": "code",
   "execution_count": 36,
   "id": "86381a30-5902-4bcd-a14f-7de3fb719967",
   "metadata": {},
   "outputs": [
    {
     "name": "stdout",
     "output_type": "stream",
     "text": [
      "Wall time: 2min 2s\n"
     ]
    }
   ],
   "source": [
    "%%time\n",
    "scores_frp = cv(train_frp_full,\n",
    "                  cb_params_frp,\n",
    "                  fold_count=5,\n",
    "                  seed = CB_RANDOMSEED, \n",
    "                  #plot=\"True\"\n",
    "                 )"
   ]
  },
  {
   "cell_type": "code",
   "execution_count": 37,
   "id": "d75bd577-a9c0-4cbb-b613-adc968e6198b",
   "metadata": {},
   "outputs": [
    {
     "data": {
      "text/html": [
       "<div>\n",
       "<style scoped>\n",
       "    .dataframe tbody tr th:only-of-type {\n",
       "        vertical-align: middle;\n",
       "    }\n",
       "\n",
       "    .dataframe tbody tr th {\n",
       "        vertical-align: top;\n",
       "    }\n",
       "\n",
       "    .dataframe thead th {\n",
       "        text-align: right;\n",
       "    }\n",
       "</style>\n",
       "<table border=\"1\" class=\"dataframe\">\n",
       "  <thead>\n",
       "    <tr style=\"text-align: right;\">\n",
       "      <th></th>\n",
       "      <th>iterations</th>\n",
       "      <th>test-R2-mean</th>\n",
       "      <th>test-R2-std</th>\n",
       "      <th>train-R2-mean</th>\n",
       "      <th>train-R2-std</th>\n",
       "      <th>test-RMSE-mean</th>\n",
       "      <th>test-RMSE-std</th>\n",
       "      <th>train-RMSE-mean</th>\n",
       "      <th>train-RMSE-std</th>\n",
       "    </tr>\n",
       "  </thead>\n",
       "  <tbody>\n",
       "    <tr>\n",
       "      <th>99</th>\n",
       "      <td>99</td>\n",
       "      <td>0.439756</td>\n",
       "      <td>0.016117</td>\n",
       "      <td>0.469026</td>\n",
       "      <td>0.004297</td>\n",
       "      <td>7.586034</td>\n",
       "      <td>0.232034</td>\n",
       "      <td>7.390794</td>\n",
       "      <td>0.029972</td>\n",
       "    </tr>\n",
       "  </tbody>\n",
       "</table>\n",
       "</div>"
      ],
      "text/plain": [
       "    iterations  test-R2-mean  test-R2-std  train-R2-mean  train-R2-std  \\\n",
       "99          99      0.439756     0.016117       0.469026      0.004297   \n",
       "\n",
       "    test-RMSE-mean  test-RMSE-std  train-RMSE-mean  train-RMSE-std  \n",
       "99        7.586034       0.232034         7.390794        0.029972  "
      ]
     },
     "execution_count": 37,
     "metadata": {},
     "output_type": "execute_result"
    }
   ],
   "source": [
    "scores_frp[scores_frp['test-R2-mean'] == scores_frp['test-R2-mean'].max()]"
   ]
  },
  {
   "cell_type": "raw",
   "id": "8cbb21db-f5de-4b8a-bc4f-53dd14afa991",
   "metadata": {},
   "source": [
    "99\t99\t0.390668\t0.013571\t0.420722\t0.004774\t7.911234\t0.213452\t7.71969\t0.041776"
   ]
  },
  {
   "cell_type": "code",
   "execution_count": 38,
   "id": "7745c438-06e9-477e-ac52-37017039f9c4",
   "metadata": {},
   "outputs": [
    {
     "name": "stdout",
     "output_type": "stream",
     "text": [
      "0:\tlearn: 9.9201734\ttest: 10.0201147\tbest: 10.0201147 (0)\ttotal: 500ms\tremaining: 49.5s\n",
      "1:\tlearn: 9.7378669\ttest: 9.8512468\tbest: 9.8512468 (1)\ttotal: 1s\tremaining: 49.1s\n",
      "2:\tlearn: 9.5533900\ttest: 9.6752239\tbest: 9.6752239 (2)\ttotal: 1.49s\tremaining: 48.3s\n",
      "3:\tlearn: 9.3850072\ttest: 9.5236201\tbest: 9.5236201 (3)\ttotal: 2.03s\tremaining: 48.6s\n",
      "4:\tlearn: 9.2267609\ttest: 9.3702212\tbest: 9.3702212 (4)\ttotal: 2.51s\tremaining: 47.7s\n",
      "5:\tlearn: 9.0791858\ttest: 9.2378302\tbest: 9.2378302 (5)\ttotal: 3.04s\tremaining: 47.6s\n",
      "6:\tlearn: 8.9335486\ttest: 9.1078196\tbest: 9.1078196 (6)\ttotal: 3.54s\tremaining: 47s\n",
      "7:\tlearn: 8.7997777\ttest: 8.9975458\tbest: 8.9975458 (7)\ttotal: 4.06s\tremaining: 46.7s\n",
      "8:\tlearn: 8.6727176\ttest: 8.8903256\tbest: 8.8903256 (8)\ttotal: 4.59s\tremaining: 46.4s\n",
      "9:\tlearn: 8.5451325\ttest: 8.7761640\tbest: 8.7761640 (9)\ttotal: 5.09s\tremaining: 45.8s\n",
      "10:\tlearn: 8.4287583\ttest: 8.6670665\tbest: 8.6670665 (10)\ttotal: 5.61s\tremaining: 45.4s\n",
      "11:\tlearn: 8.3155622\ttest: 8.5695783\tbest: 8.5695783 (11)\ttotal: 6.1s\tremaining: 44.7s\n",
      "12:\tlearn: 8.2152758\ttest: 8.4772204\tbest: 8.4772204 (12)\ttotal: 6.61s\tremaining: 44.2s\n",
      "13:\tlearn: 8.1203046\ttest: 8.3957579\tbest: 8.3957579 (13)\ttotal: 7.11s\tremaining: 43.7s\n",
      "14:\tlearn: 8.0338830\ttest: 8.3231216\tbest: 8.3231216 (14)\ttotal: 7.61s\tremaining: 43.1s\n",
      "15:\tlearn: 7.9509235\ttest: 8.2500104\tbest: 8.2500104 (15)\ttotal: 8.14s\tremaining: 42.8s\n",
      "16:\tlearn: 7.8688393\ttest: 8.1784635\tbest: 8.1784635 (16)\ttotal: 8.64s\tremaining: 42.2s\n",
      "17:\tlearn: 7.7855968\ttest: 8.1186019\tbest: 8.1186019 (17)\ttotal: 9.18s\tremaining: 41.8s\n",
      "18:\tlearn: 7.7082161\ttest: 8.0618393\tbest: 8.0618393 (18)\ttotal: 9.69s\tremaining: 41.3s\n",
      "19:\tlearn: 7.6393893\ttest: 8.0096160\tbest: 8.0096160 (19)\ttotal: 10.2s\tremaining: 40.8s\n",
      "20:\tlearn: 7.5734277\ttest: 7.9686093\tbest: 7.9686093 (20)\ttotal: 10.7s\tremaining: 40.4s\n",
      "21:\tlearn: 7.5015415\ttest: 7.9028030\tbest: 7.9028030 (21)\ttotal: 11.2s\tremaining: 39.8s\n",
      "22:\tlearn: 7.4374724\ttest: 7.8453150\tbest: 7.8453150 (22)\ttotal: 11.7s\tremaining: 39.3s\n",
      "23:\tlearn: 7.3806988\ttest: 7.8106503\tbest: 7.8106503 (23)\ttotal: 12.2s\tremaining: 38.8s\n",
      "24:\tlearn: 7.3212681\ttest: 7.7621386\tbest: 7.7621386 (24)\ttotal: 12.8s\tremaining: 38.3s\n",
      "25:\tlearn: 7.2680776\ttest: 7.7254219\tbest: 7.7254219 (25)\ttotal: 13.3s\tremaining: 38s\n",
      "26:\tlearn: 7.2179019\ttest: 7.6858211\tbest: 7.6858211 (26)\ttotal: 13.9s\tremaining: 37.5s\n",
      "27:\tlearn: 7.1569022\ttest: 7.6440863\tbest: 7.6440863 (27)\ttotal: 14.4s\tremaining: 37.1s\n",
      "28:\tlearn: 7.1096774\ttest: 7.6054760\tbest: 7.6054760 (28)\ttotal: 14.9s\tremaining: 36.5s\n",
      "29:\tlearn: 7.0690445\ttest: 7.5753044\tbest: 7.5753044 (29)\ttotal: 15.4s\tremaining: 36s\n",
      "30:\tlearn: 7.0265928\ttest: 7.5355831\tbest: 7.5355831 (30)\ttotal: 16s\tremaining: 35.5s\n",
      "31:\tlearn: 6.9821388\ttest: 7.5040522\tbest: 7.5040522 (31)\ttotal: 16.5s\tremaining: 35s\n",
      "32:\tlearn: 6.9341936\ttest: 7.4782454\tbest: 7.4782454 (32)\ttotal: 17s\tremaining: 34.6s\n",
      "33:\tlearn: 6.8923758\ttest: 7.4484003\tbest: 7.4484003 (33)\ttotal: 17.5s\tremaining: 34.1s\n",
      "34:\tlearn: 6.8580597\ttest: 7.4225309\tbest: 7.4225309 (34)\ttotal: 18.1s\tremaining: 33.6s\n",
      "35:\tlearn: 6.8283850\ttest: 7.4016045\tbest: 7.4016045 (35)\ttotal: 18.6s\tremaining: 33.1s\n",
      "36:\tlearn: 6.7901290\ttest: 7.3794708\tbest: 7.3794708 (36)\ttotal: 19.1s\tremaining: 32.5s\n",
      "37:\tlearn: 6.7533137\ttest: 7.3517765\tbest: 7.3517765 (37)\ttotal: 19.6s\tremaining: 32s\n",
      "38:\tlearn: 6.7248164\ttest: 7.3331394\tbest: 7.3331394 (38)\ttotal: 20.1s\tremaining: 31.5s\n",
      "39:\tlearn: 6.6855487\ttest: 7.3132830\tbest: 7.3132830 (39)\ttotal: 20.6s\tremaining: 31s\n",
      "40:\tlearn: 6.6572031\ttest: 7.2942857\tbest: 7.2942857 (40)\ttotal: 21.1s\tremaining: 30.4s\n",
      "41:\tlearn: 6.6277171\ttest: 7.2702205\tbest: 7.2702205 (41)\ttotal: 21.6s\tremaining: 29.9s\n",
      "42:\tlearn: 6.6008503\ttest: 7.2584626\tbest: 7.2584626 (42)\ttotal: 22.1s\tremaining: 29.3s\n",
      "43:\tlearn: 6.5747564\ttest: 7.2436244\tbest: 7.2436244 (43)\ttotal: 22.6s\tremaining: 28.8s\n",
      "44:\tlearn: 6.5504190\ttest: 7.2268373\tbest: 7.2268373 (44)\ttotal: 23.2s\tremaining: 28.3s\n",
      "45:\tlearn: 6.5288816\ttest: 7.2128279\tbest: 7.2128279 (45)\ttotal: 23.6s\tremaining: 27.8s\n",
      "46:\tlearn: 6.5027344\ttest: 7.1918588\tbest: 7.1918588 (46)\ttotal: 24.2s\tremaining: 27.3s\n",
      "47:\tlearn: 6.4757268\ttest: 7.1785375\tbest: 7.1785375 (47)\ttotal: 24.7s\tremaining: 26.7s\n",
      "48:\tlearn: 6.4543776\ttest: 7.1671071\tbest: 7.1671071 (48)\ttotal: 25.2s\tremaining: 26.2s\n",
      "49:\tlearn: 6.4315335\ttest: 7.1563386\tbest: 7.1563386 (49)\ttotal: 25.7s\tremaining: 25.7s\n",
      "50:\tlearn: 6.4037947\ttest: 7.1477109\tbest: 7.1477109 (50)\ttotal: 26.2s\tremaining: 25.2s\n",
      "51:\tlearn: 6.3849102\ttest: 7.1307355\tbest: 7.1307355 (51)\ttotal: 26.7s\tremaining: 24.6s\n",
      "52:\tlearn: 6.3634062\ttest: 7.1185017\tbest: 7.1185017 (52)\ttotal: 27.2s\tremaining: 24.1s\n",
      "53:\tlearn: 6.3393212\ttest: 7.1135663\tbest: 7.1135663 (53)\ttotal: 27.7s\tremaining: 23.6s\n",
      "54:\tlearn: 6.3094489\ttest: 7.1075947\tbest: 7.1075947 (54)\ttotal: 28.2s\tremaining: 23.1s\n",
      "55:\tlearn: 6.2844203\ttest: 7.0942476\tbest: 7.0942476 (55)\ttotal: 28.7s\tremaining: 22.6s\n",
      "56:\tlearn: 6.2678761\ttest: 7.0824653\tbest: 7.0824653 (56)\ttotal: 29.2s\tremaining: 22.1s\n",
      "57:\tlearn: 6.2497937\ttest: 7.0738781\tbest: 7.0738781 (57)\ttotal: 29.7s\tremaining: 21.5s\n",
      "58:\tlearn: 6.2260474\ttest: 7.0663993\tbest: 7.0663993 (58)\ttotal: 30.2s\tremaining: 21s\n",
      "59:\tlearn: 6.2018481\ttest: 7.0588678\tbest: 7.0588678 (59)\ttotal: 30.8s\tremaining: 20.5s\n",
      "60:\tlearn: 6.1843637\ttest: 7.0456214\tbest: 7.0456214 (60)\ttotal: 31.3s\tremaining: 20s\n",
      "61:\tlearn: 6.1703358\ttest: 7.0368791\tbest: 7.0368791 (61)\ttotal: 31.8s\tremaining: 19.5s\n",
      "62:\tlearn: 6.1525430\ttest: 7.0290286\tbest: 7.0290286 (62)\ttotal: 32.4s\tremaining: 19s\n",
      "63:\tlearn: 6.1273879\ttest: 7.0202006\tbest: 7.0202006 (63)\ttotal: 32.9s\tremaining: 18.5s\n",
      "64:\tlearn: 6.1100931\ttest: 7.0129932\tbest: 7.0129932 (64)\ttotal: 33.4s\tremaining: 18s\n",
      "65:\tlearn: 6.0990270\ttest: 7.0044654\tbest: 7.0044654 (65)\ttotal: 33.9s\tremaining: 17.5s\n",
      "66:\tlearn: 6.0802728\ttest: 6.9930599\tbest: 6.9930599 (66)\ttotal: 34.4s\tremaining: 17s\n",
      "67:\tlearn: 6.0630776\ttest: 6.9896355\tbest: 6.9896355 (67)\ttotal: 34.9s\tremaining: 16.4s\n",
      "68:\tlearn: 6.0520953\ttest: 6.9848036\tbest: 6.9848036 (68)\ttotal: 35.4s\tremaining: 15.9s\n",
      "69:\tlearn: 6.0361743\ttest: 6.9729619\tbest: 6.9729619 (69)\ttotal: 35.9s\tremaining: 15.4s\n",
      "70:\tlearn: 6.0197108\ttest: 6.9673119\tbest: 6.9673119 (70)\ttotal: 36.5s\tremaining: 14.9s\n",
      "71:\tlearn: 6.0098634\ttest: 6.9619696\tbest: 6.9619696 (71)\ttotal: 37s\tremaining: 14.4s\n",
      "72:\tlearn: 5.9977848\ttest: 6.9571829\tbest: 6.9571829 (72)\ttotal: 37.5s\tremaining: 13.9s\n",
      "73:\tlearn: 5.9801236\ttest: 6.9535733\tbest: 6.9535733 (73)\ttotal: 38.1s\tremaining: 13.4s\n",
      "74:\tlearn: 5.9597880\ttest: 6.9490138\tbest: 6.9490138 (74)\ttotal: 38.6s\tremaining: 12.9s\n",
      "75:\tlearn: 5.9465487\ttest: 6.9424437\tbest: 6.9424437 (75)\ttotal: 39.1s\tremaining: 12.3s\n",
      "76:\tlearn: 5.9366589\ttest: 6.9350124\tbest: 6.9350124 (76)\ttotal: 39.6s\tremaining: 11.8s\n",
      "77:\tlearn: 5.9102373\ttest: 6.9308200\tbest: 6.9308200 (77)\ttotal: 40.2s\tremaining: 11.3s\n",
      "78:\tlearn: 5.8876742\ttest: 6.9254866\tbest: 6.9254866 (78)\ttotal: 40.7s\tremaining: 10.8s\n",
      "79:\tlearn: 5.8738886\ttest: 6.9228187\tbest: 6.9228187 (79)\ttotal: 41.3s\tremaining: 10.3s\n",
      "80:\tlearn: 5.8616874\ttest: 6.9174652\tbest: 6.9174652 (80)\ttotal: 41.8s\tremaining: 9.8s\n",
      "81:\tlearn: 5.8438777\ttest: 6.9110759\tbest: 6.9110759 (81)\ttotal: 42.3s\tremaining: 9.28s\n",
      "82:\tlearn: 5.8359314\ttest: 6.9036031\tbest: 6.9036031 (82)\ttotal: 42.8s\tremaining: 8.76s\n",
      "83:\tlearn: 5.8164987\ttest: 6.9028315\tbest: 6.9028315 (83)\ttotal: 43.3s\tremaining: 8.25s\n",
      "84:\tlearn: 5.7917480\ttest: 6.8971008\tbest: 6.8971008 (84)\ttotal: 43.9s\tremaining: 7.74s\n",
      "85:\tlearn: 5.7848160\ttest: 6.8942314\tbest: 6.8942314 (85)\ttotal: 44.5s\tremaining: 7.24s\n",
      "86:\tlearn: 5.7724121\ttest: 6.8912058\tbest: 6.8912058 (86)\ttotal: 45s\tremaining: 6.73s\n",
      "87:\tlearn: 5.7572061\ttest: 6.8841864\tbest: 6.8841864 (87)\ttotal: 45.5s\tremaining: 6.21s\n",
      "88:\tlearn: 5.7461505\ttest: 6.8787017\tbest: 6.8787017 (88)\ttotal: 46.1s\tremaining: 5.69s\n",
      "89:\tlearn: 5.7384864\ttest: 6.8746917\tbest: 6.8746917 (89)\ttotal: 46.5s\tremaining: 5.17s\n",
      "90:\tlearn: 5.7205474\ttest: 6.8731047\tbest: 6.8731047 (90)\ttotal: 47.1s\tremaining: 4.66s\n",
      "91:\tlearn: 5.7031460\ttest: 6.8669992\tbest: 6.8669992 (91)\ttotal: 47.6s\tremaining: 4.14s\n",
      "92:\tlearn: 5.6915129\ttest: 6.8628444\tbest: 6.8628444 (92)\ttotal: 48.1s\tremaining: 3.62s\n",
      "93:\tlearn: 5.6803342\ttest: 6.8612986\tbest: 6.8612986 (93)\ttotal: 48.6s\tremaining: 3.1s\n",
      "94:\tlearn: 5.6566402\ttest: 6.8570844\tbest: 6.8570844 (94)\ttotal: 49.1s\tremaining: 2.58s\n",
      "95:\tlearn: 5.6367013\ttest: 6.8588218\tbest: 6.8570844 (94)\ttotal: 49.6s\tremaining: 2.07s\n",
      "96:\tlearn: 5.6267293\ttest: 6.8538250\tbest: 6.8538250 (96)\ttotal: 50.2s\tremaining: 1.55s\n",
      "97:\tlearn: 5.6145108\ttest: 6.8506439\tbest: 6.8506439 (97)\ttotal: 50.8s\tremaining: 1.03s\n",
      "98:\tlearn: 5.6018800\ttest: 6.8465237\tbest: 6.8465237 (98)\ttotal: 51.3s\tremaining: 518ms\n",
      "99:\tlearn: 5.5846157\ttest: 6.8400286\tbest: 6.8400286 (99)\ttotal: 51.8s\tremaining: 0us\n",
      "\n",
      "bestTest = 6.840028559\n",
      "bestIteration = 99\n",
      "\n"
     ]
    },
    {
     "data": {
      "text/plain": [
       "<catboost.core.CatBoostRegressor at 0x178557b1588>"
      ]
     },
     "execution_count": 38,
     "metadata": {},
     "output_type": "execute_result"
    }
   ],
   "source": [
    "cb_model_frp = CatBoostRegressor(#iterations=1000,\n",
    "                                 learning_rate=0.05,\n",
    "                                 depth=10,\n",
    "                                 random_seed = CB_RANDOMSEED,\n",
    "                                 n_estimators=100,\n",
    "                                 #n_estimators=100,\n",
    "    #num_trees=None,\n",
    "                                )\n",
    "# Fit model\n",
    "cb_model_frp.fit(train_ds_frp,\n",
    "                   eval_set=val_ds_frp, \n",
    "                   #plot = True,\n",
    "                  )"
   ]
  },
  {
   "cell_type": "code",
   "execution_count": 39,
   "id": "ce2f5cf1-5605-4e75-99dd-8c23248ff512",
   "metadata": {},
   "outputs": [
    {
     "data": {
      "text/plain": [
       "(0.6957481571111437, 0.5514259880860194)"
      ]
     },
     "execution_count": 39,
     "metadata": {},
     "output_type": "execute_result"
    }
   ],
   "source": [
    "# Get predictions and metrics\n",
    "preds_train_frp = cb_model_frp.predict(x_train[cat_cols + num_cols])\n",
    "preds_val_frp   = cb_model_frp.predict(val_ds_frp)\n",
    "\n",
    "train_score_frp = r2_score(y_train[\"full_reads_percent\"], preds_train_frp)\n",
    "val_score_frp   = r2_score(y_val[\"full_reads_percent\"],   preds_val_frp)\n",
    "\n",
    "train_score_frp, val_score_frp"
   ]
  },
  {
   "cell_type": "raw",
   "id": "cec2f6b6-9782-4b5c-838c-66df8bfc72e5",
   "metadata": {},
   "source": [
    "(0.6957481571111437, 0.5514259880860194) emb + pca 64 + lags + nauth + all_norm + parse + auth int + cat int"
   ]
  },
  {
   "cell_type": "code",
   "execution_count": null,
   "id": "c6b000b9-9f71-4f8d-bb73-d58b91330eca",
   "metadata": {},
   "outputs": [],
   "source": []
  },
  {
   "cell_type": "code",
   "execution_count": 40,
   "id": "0921f52a-f376-4e01-bf22-958db46977c7",
   "metadata": {},
   "outputs": [
    {
     "data": {
      "image/png": "[encoded data removed]",
      "text/plain": [
       "<Figure size 720x576 with 1 Axes>"
      ]
     },
     "metadata": {
      "needs_background": "light"
     },
     "output_type": "display_data"
    }
   ],
   "source": [
    "#plot_feature_importance(cb_model_views, train_ds_views, 30)\n",
    "plot_feature_importance(cb_model_frp.get_feature_importance(), train_ds_frp.get_feature_names(), 'CATBOOST')"
   ]
  },
  {
   "cell_type": "code",
   "execution_count": null,
   "id": "be50fe97-02cb-48bb-beb5-c100041aa1f0",
   "metadata": {},
   "outputs": [],
   "source": []
  },
  {
   "cell_type": "code",
   "execution_count": 41,
   "id": "304d2314-a21f-4bb0-bd61-9fa94711f9f1",
   "metadata": {},
   "outputs": [
    {
     "data": {
      "text/plain": [
       "(0.7982005773152301, 0.6133802485276665)"
      ]
     },
     "execution_count": 41,
     "metadata": {},
     "output_type": "execute_result"
    }
   ],
   "source": [
    "score_train = 0.4 * train_score_views + 0.3 * train_score_depth + 0.3 * train_score_frp\n",
    "score_val  = 0.4 * val_score_views  + 0.3 * val_score_depth  + 0.3 * val_score_frp\n",
    "\n",
    "score_train, score_val"
   ]
  },
  {
   "cell_type": "raw",
   "id": "b4e2f449-432c-42f7-8cce-5cb15323aca0",
   "metadata": {},
   "source": [
    "(0.7982005773152301, 0.6133802485276665) 19 emb + pca 64 + lags + nauth + all_norm + parse + auth int + cat int"
   ]
  },
  {
   "cell_type": "code",
   "execution_count": null,
   "id": "8ff54468-e3a7-403c-b6e9-67ad93a5e09e",
   "metadata": {},
   "outputs": [],
   "source": []
  },
  {
   "cell_type": "code",
   "execution_count": null,
   "id": "23391983-198d-4fea-8c34-7915e8ea2819",
   "metadata": {},
   "outputs": [],
   "source": []
  },
  {
   "cell_type": "markdown",
   "id": "551ccadd-2762-4df3-8719-2b04118093ce",
   "metadata": {},
   "source": [
    "## Сохраняем предсказания для ансамблей / стекинга"
   ]
  },
  {
   "cell_type": "code",
   "execution_count": 42,
   "id": "0b41920c-0d99-4000-815e-0536d87f81b6",
   "metadata": {},
   "outputs": [
    {
     "name": "stdout",
     "output_type": "stream",
     "text": [
      "before  (5584, 1) (5584,) (5584,) (5584,)\n",
      "before  (1397, 1) (1397,) (1397,) (1397,)\n",
      "after  (5584, 4)\n",
      "after  (1397, 4)\n"
     ]
    }
   ],
   "source": [
    "x_train_pred = x_train[['document_id']]\n",
    "x_val_pred   = x_val[['document_id']]\n",
    "\n",
    "print('before ', x_train_pred.shape, preds_train_views.shape, preds_train_depth.shape, preds_train_frp.shape)\n",
    "print('before ', x_val_pred.shape,   preds_val_views.shape,   preds_val_depth.shape,   preds_val_frp.shape)\n",
    "\n",
    "# https://github.com/pandas-dev/pandas/issues/25349\n",
    "x_train_pred = pd.concat([x_train_pred.reset_index(drop=True), \n",
    "                          pd.DataFrame(preds_train_views).reset_index(drop = True), \n",
    "                          pd.DataFrame(preds_train_depth).reset_index(drop = True), \n",
    "                          pd.DataFrame(preds_train_frp).reset_index(drop = True)\n",
    "                         ], ignore_index = True, axis = 1)\n",
    "x_val_pred   = pd.concat([x_val_pred.reset_index(drop=True),   \n",
    "                          pd.DataFrame(preds_val_views).reset_index(drop = True), \n",
    "                          pd.DataFrame(preds_val_depth).reset_index(drop = True), \n",
    "                          pd.DataFrame(preds_val_frp).reset_index(drop = True)\n",
    "                         ], ignore_index = True, axis = 1)\n",
    "\n",
    "x_train_pred.columns = ['document_id', 'views_pred_cb', 'depth_pred_cb', 'frp_pred_cb']\n",
    "x_val_pred.columns   = ['document_id', 'views_pred_cb', 'depth_pred_cb', 'frp_pred_cb']\n",
    "\n",
    "print('after ', x_train_pred.shape)\n",
    "print('after ', x_val_pred.shape)\n",
    "\n",
    "x_train_pred.to_csv(os.path.join(DIR_SUBM_PART, f'{NAME}_train_part.csv'), index = False)\n",
    "x_val_pred.to_csv(os.path.join(DIR_SUBM_PART, f'{NAME}_val_part.csv'), index = False)"
   ]
  },
  {
   "cell_type": "code",
   "execution_count": null,
   "id": "381dce61-ab9a-45f9-934a-3cb80c94d115",
   "metadata": {},
   "outputs": [],
   "source": []
  },
  {
   "cell_type": "code",
   "execution_count": null,
   "id": "066f6b7b-c8f0-46d7-9cd2-ae5944cc7b27",
   "metadata": {},
   "outputs": [],
   "source": []
  },
  {
   "cell_type": "code",
   "execution_count": null,
   "id": "c3d0c887-53ce-4db0-99a9-4732421f2173",
   "metadata": {},
   "outputs": [],
   "source": []
  },
  {
   "cell_type": "markdown",
   "id": "81b7d454-37b6-45ee-94fb-99af0fe23ae5",
   "metadata": {},
   "source": [
    "## save models"
   ]
  },
  {
   "cell_type": "code",
   "execution_count": null,
   "id": "aa4adde3-b017-4cea-9ae8-fc7cea77bab1",
   "metadata": {},
   "outputs": [],
   "source": []
  },
  {
   "cell_type": "code",
   "execution_count": 43,
   "id": "75aa11de-71cb-47a7-9e22-2857f7f7e643",
   "metadata": {},
   "outputs": [],
   "source": [
    "#cb_model_views.save_model(os.path.join(DIR_MODELS, f'{NTRY}_pca64_cb_views.cbm'), \n",
    "cb_model_views.save_model(os.path.join(DIR_MODELS, f'{NAME}_v.cbm'), \n",
    "                           format=\"cbm\",\n",
    "                           export_parameters=None,\n",
    "                           pool=None\n",
    "                         )\n",
    "\n",
    "cb_model_depth.save_model(os.path.join(DIR_MODELS, f'{NAME}_d.cbm'), \n",
    "                           format=\"cbm\",\n",
    "                           export_parameters=None,\n",
    "                           pool=None\n",
    "                         )\n",
    "\n",
    "cb_model_frp.save_model(os.path.join(DIR_MODELS, f'{NAME}_f.cbm'), \n",
    "                           format=\"cbm\",\n",
    "                           export_parameters=None,\n",
    "                           pool=None\n",
    "                         )"
   ]
  },
  {
   "cell_type": "code",
   "execution_count": null,
   "id": "102c6530-8a1b-4c1c-a1d3-e9d95e350220",
   "metadata": {},
   "outputs": [],
   "source": []
  },
  {
   "cell_type": "markdown",
   "id": "ac604b78-2718-408d-8d19-5b202d3f5a19",
   "metadata": {},
   "source": [
    "## make predict"
   ]
  },
  {
   "cell_type": "code",
   "execution_count": 44,
   "id": "df8e4305-28ed-444f-8325-e6460f7d2271",
   "metadata": {},
   "outputs": [],
   "source": [
    "pred_views = cb_model_views.predict(df_test[cat_cols + num_cols])\n",
    "pred_depth = cb_model_depth.predict(df_test[cat_cols + num_cols])\n",
    "pred_frp   = cb_model_frp.predict(  df_test[cat_cols + num_cols])"
   ]
  },
  {
   "cell_type": "code",
   "execution_count": 45,
   "id": "f422300e-24cf-435a-af11-a450f4f10393",
   "metadata": {},
   "outputs": [],
   "source": [
    "subm = pd.DataFrame()\n",
    "subm['document_id'] = df_test.document_id\n",
    "\n",
    "subm['views'] = pred_views\n",
    "subm['depth'] = pred_depth\n",
    "subm['full_reads_percent'] = pred_frp"
   ]
  },
  {
   "cell_type": "code",
   "execution_count": 46,
   "id": "0b45eb99-3913-44a7-b4e6-f0c49e38e890",
   "metadata": {},
   "outputs": [
    {
     "data": {
      "text/html": [
       "<div>\n",
       "<style scoped>\n",
       "    .dataframe tbody tr th:only-of-type {\n",
       "        vertical-align: middle;\n",
       "    }\n",
       "\n",
       "    .dataframe tbody tr th {\n",
       "        vertical-align: top;\n",
       "    }\n",
       "\n",
       "    .dataframe thead th {\n",
       "        text-align: right;\n",
       "    }\n",
       "</style>\n",
       "<table border=\"1\" class=\"dataframe\">\n",
       "  <thead>\n",
       "    <tr style=\"text-align: right;\">\n",
       "      <th></th>\n",
       "      <th>views</th>\n",
       "      <th>depth</th>\n",
       "      <th>full_reads_percent</th>\n",
       "    </tr>\n",
       "  </thead>\n",
       "  <tbody>\n",
       "    <tr>\n",
       "      <th>945</th>\n",
       "      <td>37800.855788</td>\n",
       "      <td>1.072358</td>\n",
       "      <td>21.033267</td>\n",
       "    </tr>\n",
       "    <tr>\n",
       "      <th>1440</th>\n",
       "      <td>94845.560734</td>\n",
       "      <td>1.152847</td>\n",
       "      <td>27.125144</td>\n",
       "    </tr>\n",
       "    <tr>\n",
       "      <th>2645</th>\n",
       "      <td>92167.635793</td>\n",
       "      <td>1.163994</td>\n",
       "      <td>27.698177</td>\n",
       "    </tr>\n",
       "  </tbody>\n",
       "</table>\n",
       "</div>"
      ],
      "text/plain": [
       "             views     depth  full_reads_percent\n",
       "945   37800.855788  1.072358           21.033267\n",
       "1440  94845.560734  1.152847           27.125144\n",
       "2645  92167.635793  1.163994           27.698177"
      ]
     },
     "execution_count": 46,
     "metadata": {},
     "output_type": "execute_result"
    }
   ],
   "source": [
    "doc_id_ukr = df_test[df_test.spec == 1].document_id.values\n",
    "subm.query('document_id in @doc_id_ukr')[['views', 'depth', 'full_reads_percent']]"
   ]
  },
  {
   "cell_type": "code",
   "execution_count": 47,
   "id": "43db487b-0209-4e2b-8ee0-1f33b2727552",
   "metadata": {},
   "outputs": [
    {
     "data": {
      "text/html": [
       "<div>\n",
       "<style scoped>\n",
       "    .dataframe tbody tr th:only-of-type {\n",
       "        vertical-align: middle;\n",
       "    }\n",
       "\n",
       "    .dataframe tbody tr th {\n",
       "        vertical-align: top;\n",
       "    }\n",
       "\n",
       "    .dataframe thead th {\n",
       "        text-align: right;\n",
       "    }\n",
       "</style>\n",
       "<table border=\"1\" class=\"dataframe\">\n",
       "  <thead>\n",
       "    <tr style=\"text-align: right;\">\n",
       "      <th></th>\n",
       "      <th>views</th>\n",
       "      <th>depth</th>\n",
       "      <th>full_reads_percent</th>\n",
       "    </tr>\n",
       "  </thead>\n",
       "  <tbody>\n",
       "    <tr>\n",
       "      <th>945</th>\n",
       "      <td>2554204.0</td>\n",
       "      <td>1.799</td>\n",
       "      <td>4.978</td>\n",
       "    </tr>\n",
       "    <tr>\n",
       "      <th>1440</th>\n",
       "      <td>2554204.0</td>\n",
       "      <td>1.799</td>\n",
       "      <td>4.978</td>\n",
       "    </tr>\n",
       "    <tr>\n",
       "      <th>2645</th>\n",
       "      <td>2554204.0</td>\n",
       "      <td>1.799</td>\n",
       "      <td>4.978</td>\n",
       "    </tr>\n",
       "  </tbody>\n",
       "</table>\n",
       "</div>"
      ],
      "text/plain": [
       "          views  depth  full_reads_percent\n",
       "945   2554204.0  1.799               4.978\n",
       "1440  2554204.0  1.799               4.978\n",
       "2645  2554204.0  1.799               4.978"
      ]
     },
     "execution_count": 47,
     "metadata": {},
     "output_type": "execute_result"
    }
   ],
   "source": [
    "# присваиваем статичные данные\n",
    "subm.loc[subm.query('document_id in @doc_id_ukr').index, 'views'] = VIEWS_UKR\n",
    "subm.loc[subm.query('document_id in @doc_id_ukr').index, 'depth'] = DEPTH_UKR\n",
    "subm.loc[subm.query('document_id in @doc_id_ukr').index, 'full_reads_percent'] = FPR_UKR\n",
    "\n",
    "subm.query('document_id in @doc_id_ukr')[['views', 'depth', 'full_reads_percent']]"
   ]
  },
  {
   "cell_type": "code",
   "execution_count": null,
   "id": "09b08a77-113c-45bb-ac28-55fef5f523b0",
   "metadata": {},
   "outputs": [],
   "source": []
  },
  {
   "cell_type": "code",
   "execution_count": 48,
   "id": "37fa65e1-c702-4764-8f84-eb93b80c73f8",
   "metadata": {},
   "outputs": [
    {
     "data": {
      "text/html": [
       "<div>\n",
       "<style scoped>\n",
       "    .dataframe tbody tr th:only-of-type {\n",
       "        vertical-align: middle;\n",
       "    }\n",
       "\n",
       "    .dataframe tbody tr th {\n",
       "        vertical-align: top;\n",
       "    }\n",
       "\n",
       "    .dataframe thead th {\n",
       "        text-align: right;\n",
       "    }\n",
       "</style>\n",
       "<table border=\"1\" class=\"dataframe\">\n",
       "  <thead>\n",
       "    <tr style=\"text-align: right;\">\n",
       "      <th></th>\n",
       "      <th>document_id</th>\n",
       "      <th>views</th>\n",
       "      <th>depth</th>\n",
       "      <th>full_reads_percent</th>\n",
       "    </tr>\n",
       "  </thead>\n",
       "  <tbody>\n",
       "    <tr>\n",
       "      <th>0</th>\n",
       "      <td>61f9569a9a794794245a82abJ0AvX96vTAaQCiWVbzoMdw</td>\n",
       "      <td>20083.633585</td>\n",
       "      <td>1.186676</td>\n",
       "      <td>43.151348</td>\n",
       "    </tr>\n",
       "    <tr>\n",
       "      <th>1</th>\n",
       "      <td>628c22b89a79470e553f594bQS5CqzXYRnmDdR2LaSreEw</td>\n",
       "      <td>6748.097621</td>\n",
       "      <td>1.060097</td>\n",
       "      <td>28.212854</td>\n",
       "    </tr>\n",
       "    <tr>\n",
       "      <th>2</th>\n",
       "      <td>627cb3249a7947ebdd752865XVsoyrUOT8OJJg2_finJhw</td>\n",
       "      <td>7781.549196</td>\n",
       "      <td>1.060314</td>\n",
       "      <td>27.720059</td>\n",
       "    </tr>\n",
       "    <tr>\n",
       "      <th>3</th>\n",
       "      <td>628618629a7947d4927eb812upfii3whSSuMXCqcqF8VbQ</td>\n",
       "      <td>6934.344822</td>\n",
       "      <td>1.060506</td>\n",
       "      <td>35.723584</td>\n",
       "    </tr>\n",
       "    <tr>\n",
       "      <th>4</th>\n",
       "      <td>620e76109a7947235623695b5hzCiIHdSYKQIr8WAM18bw</td>\n",
       "      <td>96162.067345</td>\n",
       "      <td>1.131520</td>\n",
       "      <td>29.236318</td>\n",
       "    </tr>\n",
       "  </tbody>\n",
       "</table>\n",
       "</div>"
      ],
      "text/plain": [
       "                                      document_id         views     depth  \\\n",
       "0  61f9569a9a794794245a82abJ0AvX96vTAaQCiWVbzoMdw  20083.633585  1.186676   \n",
       "1  628c22b89a79470e553f594bQS5CqzXYRnmDdR2LaSreEw   6748.097621  1.060097   \n",
       "2  627cb3249a7947ebdd752865XVsoyrUOT8OJJg2_finJhw   7781.549196  1.060314   \n",
       "3  628618629a7947d4927eb812upfii3whSSuMXCqcqF8VbQ   6934.344822  1.060506   \n",
       "4  620e76109a7947235623695b5hzCiIHdSYKQIr8WAM18bw  96162.067345  1.131520   \n",
       "\n",
       "   full_reads_percent  \n",
       "0           43.151348  \n",
       "1           28.212854  \n",
       "2           27.720059  \n",
       "3           35.723584  \n",
       "4           29.236318  "
      ]
     },
     "execution_count": 48,
     "metadata": {},
     "output_type": "execute_result"
    }
   ],
   "source": [
    "subm.head()"
   ]
  },
  {
   "cell_type": "code",
   "execution_count": 49,
   "id": "00d26c97-fb11-49b4-940e-ea797b27d29d",
   "metadata": {},
   "outputs": [],
   "source": [
    "subm.to_csv(os.path.join(DIR_SUBM, f'{NAME}.csv'), index = False)"
   ]
  },
  {
   "cell_type": "code",
   "execution_count": 50,
   "id": "381434ea-0954-4ac1-8278-348a674c1a9c",
   "metadata": {},
   "outputs": [
    {
     "data": {
      "text/plain": [
       "Index(['document_id', 'title', 'publish_date', 'session', 'authors', 'ctr',\n",
       "       'category', 'tags', 'views', 'depth',\n",
       "       ...\n",
       "       'tt_emb54', 'tt_emb55', 'tt_emb56', 'tt_emb57', 'tt_emb58', 'tt_emb59',\n",
       "       'tt_emb60', 'tt_emb61', 'tt_emb62', 'tt_emb63'],\n",
       "      dtype='object', length=292)"
      ]
     },
     "execution_count": 50,
     "metadata": {},
     "output_type": "execute_result"
    }
   ],
   "source": [
    "df_train.columns"
   ]
  },
  {
   "cell_type": "code",
   "execution_count": null,
   "id": "de448a8b-31ef-460b-8358-db43867defd2",
   "metadata": {},
   "outputs": [],
   "source": []
  },
  {
   "cell_type": "code",
   "execution_count": null,
   "id": "143c5efd-8bf2-46a1-9b3e-03941979497d",
   "metadata": {},
   "outputs": [],
   "source": []
  }
 ],
 "metadata": {
  "kernelspec": {
   "display_name": "Python 3",
   "language": "python",
   "name": "python3"
  },
  "language_info": {
   "codemirror_mode": {
    "name": "ipython",
    "version": 3
   },
   "file_extension": ".py",
   "mimetype": "text/x-python",
   "name": "python",
   "nbconvert_exporter": "python",
   "pygments_lexer": "ipython3",
   "version": "3.7.10"
  }
 },
 "nbformat": 4,
 "nbformat_minor": 5
}
