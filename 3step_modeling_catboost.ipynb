{
 "cells": [
  {
   "cell_type": "code",
   "execution_count": 1,
   "id": "6f62ec01-36f8-4ffe-b187-0616094602d5",
   "metadata": {},
   "outputs": [],
   "source": [
    "%load_ext watermark"
   ]
  },
  {
   "cell_type": "code",
   "execution_count": 2,
   "id": "fd631481-f748-4610-94f4-a0d9b5bbe4ed",
   "metadata": {},
   "outputs": [
    {
     "name": "stdout",
     "output_type": "stream",
     "text": [
      "Last updated: 2022-07-08T12:39:59.321642+03:00\n",
      "\n",
      "Python implementation: CPython\n",
      "Python version       : 3.7.10\n",
      "IPython version      : 7.22.0\n",
      "\n",
      "Compiler    : MSC v.1916 64 bit (AMD64)\n",
      "OS          : Windows\n",
      "Release     : 10\n",
      "Machine     : AMD64\n",
      "Processor   : Intel64 Family 6 Model 158 Stepping 9, GenuineIntel\n",
      "CPU cores   : 8\n",
      "Architecture: 64bit\n",
      "\n"
     ]
    }
   ],
   "source": [
    "%watermark"
   ]
  },
  {
   "cell_type": "code",
   "execution_count": 3,
   "id": "2f268c90-86ca-4ea1-8a02-3a6b43c450cf",
   "metadata": {},
   "outputs": [],
   "source": [
    "import os\n",
    "import pickle as pkl\n",
    "\n",
    "import numpy as np\n",
    "import pandas as pd\n",
    "\n",
    "from sklearn.metrics import r2_score\n",
    "from sklearn import preprocessing\n",
    "from catboost import CatBoostRegressor, Pool\n",
    "\n",
    "import matplotlib.pyplot as plt\n",
    "import seaborn as sns"
   ]
  },
  {
   "cell_type": "code",
   "execution_count": 4,
   "id": "68c33f68-68f2-4e66-a8c6-4a7ac88eb910",
   "metadata": {},
   "outputs": [
    {
     "name": "stdout",
     "output_type": "stream",
     "text": [
      "cb_version: 0.24.3\n",
      "sklearn_version: 0.24.2\n"
     ]
    }
   ],
   "source": [
    "from catboost import __version__ as cb_version\n",
    "from sklearn import __version__ as sklearn_version\n",
    "\n",
    "print(f'cb_version: {cb_version}')\n",
    "print(f'sklearn_version: {sklearn_version}')"
   ]
  },
  {
   "cell_type": "code",
   "execution_count": 5,
   "id": "21f6a58a-b019-4436-83ec-428714473139",
   "metadata": {},
   "outputs": [
    {
     "name": "stdout",
     "output_type": "stream",
     "text": [
      "seaborn   : 0.11.1\n",
      "matplotlib: 3.3.4\n",
      "pandas    : 0.25.3\n",
      "numpy     : 1.20.3\n",
      "sklearn   : 0.24.2\n",
      "\n"
     ]
    }
   ],
   "source": [
    "%watermark --iversions"
   ]
  },
  {
   "cell_type": "code",
   "execution_count": null,
   "id": "8238fc41-4ff8-45af-832d-8ca6512b8995",
   "metadata": {},
   "outputs": [],
   "source": []
  },
  {
   "cell_type": "code",
   "execution_count": null,
   "id": "fabdb0fa-405c-4649-b004-d353666fef7a",
   "metadata": {},
   "outputs": [],
   "source": []
  },
  {
   "cell_type": "markdown",
   "id": "3f3d5ca4-753b-47f1-801f-02be08c0bc3c",
   "metadata": {},
   "source": [
    "## Reproducibility block"
   ]
  },
  {
   "cell_type": "code",
   "execution_count": 6,
   "id": "8d133278-9bc6-4c5d-b029-bd0c31d6adf1",
   "metadata": {},
   "outputs": [],
   "source": [
    "# seed the RNG for all devices (both CPU and CUDA)\n",
    "#torch.manual_seed(1984)\n",
    "\n",
    "#Disabling the benchmarking feature causes cuDNN to deterministically select an algorithm, \n",
    "#possibly at the cost of reduced performance.\n",
    "#torch.backends.cudnn.benchmark = False\n",
    "\n",
    "# for custom operators,\n",
    "import random\n",
    "random.seed(5986721)\n",
    "\n",
    "# \n",
    "np.random.seed(62185)\n",
    "\n",
    "#sklearn take seed from a line abowe\n",
    "\n",
    "CB_RANDOMSEED = 309487"
   ]
  },
  {
   "cell_type": "code",
   "execution_count": null,
   "id": "9f38ebd5-a020-47eb-b1f4-9ea987afb524",
   "metadata": {},
   "outputs": [],
   "source": []
  },
  {
   "cell_type": "code",
   "execution_count": 7,
   "id": "019813d1-62ae-4b4d-a2f6-c0d74c146413",
   "metadata": {},
   "outputs": [],
   "source": [
    "DIR_DATA   = os.path.join(os.getcwd(), 'data')\n",
    "DIR_MODELS = os.path.join(os.getcwd(), 'models')\n",
    "DIR_SUBM   = os.path.join(os.getcwd(), 'subm')\n",
    "DIR_SUBM_PART = os.path.join(os.getcwd(), 'subm', 'partial')"
   ]
  },
  {
   "cell_type": "code",
   "execution_count": null,
   "id": "0d608686-6d8e-49ad-906b-b20933e0ec2a",
   "metadata": {},
   "outputs": [],
   "source": []
  },
  {
   "cell_type": "markdown",
   "id": "ae3e27a3-16bb-456d-b7a1-7975d5f85ea5",
   "metadata": {},
   "source": [
    "## Load data"
   ]
  },
  {
   "cell_type": "code",
   "execution_count": 8,
   "id": "ee296ac9-baf6-4bcb-89ce-5fe99408403d",
   "metadata": {},
   "outputs": [],
   "source": [
    "x_train  = pd.read_csv(os.path.join(DIR_DATA, 'x_train.csv'), index_col= 0)\n",
    "x_val    = pd.read_csv(os.path.join(DIR_DATA, 'x_val.csv'), index_col= 0)\n",
    "df_test  = pd.read_csv(os.path.join(DIR_DATA, 'test_upd.csv'), index_col= 0)\n",
    "\n",
    "with open(os.path.join(DIR_DATA, 'cat_columns.pkl'), 'rb') as pickle_file:\n",
    "    cat_cols = pkl.load(pickle_file)\n",
    "    \n",
    "with open(os.path.join(DIR_DATA, 'num_columns.pkl'), 'rb') as pickle_file:\n",
    "    num_cols = pkl.load(pickle_file)"
   ]
  },
  {
   "cell_type": "code",
   "execution_count": 9,
   "id": "b00427ec-ac4f-4da3-8dfb-94871e63072d",
   "metadata": {},
   "outputs": [
    {
     "data": {
      "text/plain": [
       "((5589, 978), (1398, 978), (3000, 974), 0, 942)"
      ]
     },
     "execution_count": 9,
     "metadata": {},
     "output_type": "execute_result"
    }
   ],
   "source": [
    "x_train.shape, x_val.shape, df_test.shape, len(cat_cols), len(num_cols)"
   ]
  },
  {
   "cell_type": "code",
   "execution_count": 10,
   "id": "40e960cf-00f2-45b2-986f-436a8024d0de",
   "metadata": {},
   "outputs": [
    {
     "name": "stdout",
     "output_type": "stream",
     "text": [
      "['category']\n"
     ]
    }
   ],
   "source": [
    "cat_cols = cat_cols + ['category']\n",
    "print(cat_cols)"
   ]
  },
  {
   "cell_type": "markdown",
   "id": "d4b599d2-168d-4cc1-a4ea-fc34d707a0ce",
   "metadata": {},
   "source": [
    "отделяем метки от данных"
   ]
  },
  {
   "cell_type": "code",
   "execution_count": 11,
   "id": "40de44ef-8722-48fc-84f7-c78ce45471fc",
   "metadata": {},
   "outputs": [
    {
     "data": {
      "text/plain": [
       "((5589, 975), (1398, 975), (5589, 3), (1398, 3))"
      ]
     },
     "execution_count": 11,
     "metadata": {},
     "output_type": "execute_result"
    }
   ],
   "source": [
    "y_train = x_train[['views', 'depth', 'full_reads_percent']]\n",
    "y_val   = x_val[['views', 'depth', 'full_reads_percent']]\n",
    "\n",
    "x_train.drop(['views', 'depth', 'full_reads_percent'], axis = 1, inplace = True)\n",
    "x_val.drop(  ['views', 'depth', 'full_reads_percent'], axis = 1, inplace = True)\n",
    "\n",
    "x_train.shape, x_val.shape, y_train.shape, y_val.shape"
   ]
  },
  {
   "cell_type": "code",
   "execution_count": 12,
   "id": "3145e466-8172-424b-85ac-ad97439d9913",
   "metadata": {},
   "outputs": [
    {
     "data": {
      "text/plain": [
       "(5589, 975)"
      ]
     },
     "execution_count": 12,
     "metadata": {},
     "output_type": "execute_result"
    }
   ],
   "source": [
    "x_train.shape"
   ]
  },
  {
   "cell_type": "code",
   "execution_count": 13,
   "id": "c416f029-f4cc-46cf-aa20-c30e664b1cdb",
   "metadata": {},
   "outputs": [],
   "source": [
    "#cat_cols + num_cols\n"
   ]
  },
  {
   "cell_type": "code",
   "execution_count": 14,
   "id": "4a71aa58-27b4-4087-ba4c-595958c1c5fe",
   "metadata": {},
   "outputs": [],
   "source": [
    "#views\n",
    "train_ds_views = Pool(x_train[cat_cols + num_cols],\n",
    "#train_ds_views = Pool(x_train[cat_cols + ['ctr']],\n",
    "                      y_train[['views']],\n",
    "                      cat_features = cat_cols,\n",
    "                      #feature_names = cat_cols + num_cols\n",
    "                     )\n",
    "\n",
    "val_ds_views   = Pool(x_val[cat_cols + num_cols],\n",
    "#val_ds_views   = Pool(x_val[cat_cols + ['ctr']],\n",
    "                      y_val[['views']],\n",
    "                      cat_features = cat_cols,\n",
    "                      #feature_names = cat_cols + num_cols\n",
    "                     )\n",
    "\n",
    "\n",
    "#depth\n",
    "train_ds_depth = Pool(x_train[cat_cols + num_cols],\n",
    "                      y_train[['depth']],\n",
    "                      cat_features = cat_cols,\n",
    "                      feature_names = cat_cols + num_cols\n",
    "                     )\n",
    "\n",
    "val_ds_depth   = Pool(x_val[cat_cols + num_cols],\n",
    "                      y_val[['depth']],\n",
    "                      cat_features = cat_cols,\n",
    "                      feature_names = cat_cols + num_cols\n",
    "                     )\n",
    "\n",
    "\n",
    "#full_reads_percent\n",
    "#у frp корреляция с depth. так что добавим признак deprh_pred и соберем датасет уже после предсказания depth"
   ]
  },
  {
   "cell_type": "code",
   "execution_count": null,
   "id": "12ae502e-4ce4-4f6e-947f-4f6f5942584a",
   "metadata": {},
   "outputs": [],
   "source": []
  },
  {
   "cell_type": "code",
   "execution_count": 15,
   "id": "41e5514e-1f39-4fd8-bee0-98c9b705dda5",
   "metadata": {},
   "outputs": [],
   "source": [
    "def plot_feature_importance2(inp_model, inp_pool, imp_number = 30):\n",
    "    \n",
    "    data = pd.DataFrame({'feature_importance': inp_model.get_feature_importance(inp_pool), \n",
    "              'feature_names': inp_pool.get_feature_names()}).sort_values(by=['feature_importance'], \n",
    "                                                       ascending=True)\n",
    "    \n",
    "    data.nlargest(imp_number, columns=\"feature_importance\").plot(kind='barh', figsize = (30,16)) ## plot top 40 features"
   ]
  },
  {
   "cell_type": "code",
   "execution_count": 16,
   "id": "55711d60-6520-4f9c-af95-e2c0624d270c",
   "metadata": {},
   "outputs": [],
   "source": [
    "def plot_feature_importance(importance,names,model_type, imp_number = 30):\n",
    "    \n",
    "    #Create arrays from feature importance and feature names\n",
    "    feature_importance = np.array(importance)\n",
    "    feature_names = np.array(names)\n",
    "    \n",
    "    #Create a DataFrame using a Dictionary\n",
    "    data={'feature_names':feature_names,'feature_importance':feature_importance}\n",
    "    fi_df = pd.DataFrame(data)\n",
    "    \n",
    "    #Sort the DataFrame in order decreasing feature importance\n",
    "    fi_df.sort_values(by=['feature_importance'], ascending=False,inplace=True)\n",
    "    \n",
    "    #Define size of bar plot\n",
    "    plt.figure(figsize=(10,8))\n",
    "    #Plot Searborn bar chart\n",
    "    sns.barplot(x=fi_df['feature_importance'][:imp_number], y=fi_df['feature_names'][:imp_number])\n",
    "    #Add chart labels\n",
    "    plt.title(model_type + 'FEATURE IMPORTANCE')\n",
    "    plt.xlabel('FEATURE IMPORTANCE')\n",
    "    plt.ylabel('FEATURE NAMES')"
   ]
  },
  {
   "cell_type": "code",
   "execution_count": null,
   "id": "4c0f79ca-2997-443a-ab51-de4e53217939",
   "metadata": {},
   "outputs": [],
   "source": []
  },
  {
   "cell_type": "markdown",
   "id": "668fd48f-3112-40a7-a453-d4f159ef4877",
   "metadata": {},
   "source": [
    "## views"
   ]
  },
  {
   "cell_type": "code",
   "execution_count": 17,
   "id": "37fb9d99-b182-4aae-85ba-24ff91dfbe33",
   "metadata": {},
   "outputs": [
    {
     "name": "stdout",
     "output_type": "stream",
     "text": [
      "0:\tlearn: 101652.1475836\ttest: 51223.4943165\tbest: 51223.4943165 (0)\ttotal: 256ms\tremaining: 4.86s\n",
      "1:\tlearn: 97973.9181502\ttest: 50426.3027018\tbest: 50426.3027018 (1)\ttotal: 301ms\tremaining: 2.71s\n",
      "2:\tlearn: 95581.1395976\ttest: 48300.9650622\tbest: 48300.9650622 (2)\ttotal: 342ms\tremaining: 1.94s\n",
      "3:\tlearn: 92872.0084461\ttest: 46439.4626267\tbest: 46439.4626267 (3)\ttotal: 382ms\tremaining: 1.53s\n",
      "4:\tlearn: 90337.4954425\ttest: 45453.1344099\tbest: 45453.1344099 (4)\ttotal: 422ms\tremaining: 1.26s\n",
      "5:\tlearn: 87581.9518433\ttest: 44907.9675540\tbest: 44907.9675540 (5)\ttotal: 463ms\tremaining: 1.08s\n",
      "6:\tlearn: 86278.9384742\ttest: 44448.9520131\tbest: 44448.9520131 (6)\ttotal: 506ms\tremaining: 939ms\n",
      "7:\tlearn: 84623.7142422\ttest: 43306.6044943\tbest: 43306.6044943 (7)\ttotal: 545ms\tremaining: 818ms\n",
      "8:\tlearn: 83263.3353478\ttest: 43153.5850198\tbest: 43153.5850198 (8)\ttotal: 588ms\tremaining: 718ms\n",
      "9:\tlearn: 81462.8115055\ttest: 42797.6271742\tbest: 42797.6271742 (9)\ttotal: 628ms\tremaining: 628ms\n",
      "10:\tlearn: 80200.9765867\ttest: 42288.1293076\tbest: 42288.1293076 (10)\ttotal: 668ms\tremaining: 547ms\n",
      "11:\tlearn: 79310.6608122\ttest: 41924.3196355\tbest: 41924.3196355 (11)\ttotal: 711ms\tremaining: 474ms\n",
      "12:\tlearn: 76008.9004505\ttest: 41031.5208090\tbest: 41031.5208090 (12)\ttotal: 751ms\tremaining: 404ms\n",
      "13:\tlearn: 75103.3051223\ttest: 40582.7501978\tbest: 40582.7501978 (13)\ttotal: 791ms\tremaining: 339ms\n",
      "14:\tlearn: 73607.3944930\ttest: 40647.8969107\tbest: 40582.7501978 (13)\ttotal: 831ms\tremaining: 277ms\n",
      "15:\tlearn: 72349.3795828\ttest: 40727.7988254\tbest: 40582.7501978 (13)\ttotal: 871ms\tremaining: 218ms\n",
      "16:\tlearn: 71894.2649022\ttest: 40518.8955796\tbest: 40518.8955796 (16)\ttotal: 910ms\tremaining: 161ms\n",
      "17:\tlearn: 71335.3401915\ttest: 40247.3659954\tbest: 40247.3659954 (17)\ttotal: 956ms\tremaining: 106ms\n",
      "18:\tlearn: 70560.1251627\ttest: 40468.6383716\tbest: 40247.3659954 (17)\ttotal: 995ms\tremaining: 52.4ms\n",
      "19:\tlearn: 69777.0570004\ttest: 40267.5799478\tbest: 40247.3659954 (17)\ttotal: 1.03s\tremaining: 0us\n",
      "\n",
      "bestTest = 40247.366\n",
      "bestIteration = 17\n",
      "\n",
      "Shrink model to first 18 iterations.\n"
     ]
    },
    {
     "data": {
      "text/plain": [
       "<catboost.core.CatBoostRegressor at 0x23f1fd43388>"
      ]
     },
     "execution_count": 17,
     "metadata": {},
     "output_type": "execute_result"
    }
   ],
   "source": [
    "cb_model_views = CatBoostRegressor(iterations=20,\n",
    "                                 learning_rate=0.1,\n",
    "                                 depth=4,\n",
    "                                 random_seed = CB_RANDOMSEED,\n",
    "                   #n_estimators=100,\n",
    "                                  )\n",
    "# Fit model\n",
    "cb_model_views.fit(train_ds_views,\n",
    "        #train_data, train_labels,\n",
    "                   eval_set=val_ds_views, \n",
    "                   #plot = True,\n",
    "                  )"
   ]
  },
  {
   "cell_type": "code",
   "execution_count": 18,
   "id": "b0c470be-2a85-4ddc-8523-19194d636b32",
   "metadata": {},
   "outputs": [
    {
     "data": {
      "text/plain": [
       "(0.526447737099264, 0.3903379002036568)"
      ]
     },
     "execution_count": 18,
     "metadata": {},
     "output_type": "execute_result"
    }
   ],
   "source": [
    "# Get predictions and metrics\n",
    "preds_train_views = cb_model_views.predict(x_train[cat_cols + num_cols])\n",
    "preds_val_views   = cb_model_views.predict(val_ds_views)\n",
    "\n",
    "train_score_views = r2_score(y_train[\"views\"], preds_train_views)\n",
    "val_score_views   = r2_score(y_val[\"views\"],   preds_val_views)\n",
    "\n",
    "train_score_views, val_score_views"
   ]
  },
  {
   "cell_type": "raw",
   "id": "fbcef74b-d54b-4a08-ab5d-c4838a2ccb05",
   "metadata": {},
   "source": [
    "(0.5100195781796532, 0.5065575808145328) baseline"
   ]
  },
  {
   "cell_type": "code",
   "execution_count": null,
   "id": "40a5942c-9dbe-4dc8-952c-1a6af1618318",
   "metadata": {},
   "outputs": [],
   "source": []
  },
  {
   "cell_type": "code",
   "execution_count": 19,
   "id": "706be592-2cd3-4db9-9e9d-7b71af1277c0",
   "metadata": {},
   "outputs": [
    {
     "data": {
      "image/png": "[encoded data removed]",
      "text/plain": [
       "<Figure size 720x576 with 1 Axes>"
      ]
     },
     "metadata": {
      "needs_background": "light"
     },
     "output_type": "display_data"
    }
   ],
   "source": [
    "#plot_feature_importance(cb_model_views, train_ds_views, 30)\n",
    "plot_feature_importance(cb_model_views.get_feature_importance(), train_ds_views.get_feature_names(), 'CATBOOST')"
   ]
  },
  {
   "cell_type": "code",
   "execution_count": null,
   "id": "57d15d8a-e96a-436f-9908-bb3efc30c1f7",
   "metadata": {},
   "outputs": [],
   "source": []
  },
  {
   "cell_type": "markdown",
   "id": "a3cac29b-566d-4c8b-9cf7-9ef84a7261d2",
   "metadata": {},
   "source": [
    "## depth"
   ]
  },
  {
   "cell_type": "code",
   "execution_count": 20,
   "id": "e9948b36-a6f3-4bec-bbb2-402d5186ef4e",
   "metadata": {},
   "outputs": [
    {
     "name": "stdout",
     "output_type": "stream",
     "text": [
      "0:\tlearn: 0.0644520\ttest: 0.0581930\tbest: 0.0581930 (0)\ttotal: 2.13s\tremaining: 3m 30s\n",
      "1:\tlearn: 0.0627291\ttest: 0.0564978\tbest: 0.0564978 (1)\ttotal: 4.39s\tremaining: 3m 34s\n",
      "2:\tlearn: 0.0611382\ttest: 0.0548615\tbest: 0.0548615 (2)\ttotal: 6.65s\tremaining: 3m 34s\n",
      "3:\tlearn: 0.0594831\ttest: 0.0532627\tbest: 0.0532627 (3)\ttotal: 8.94s\tremaining: 3m 34s\n",
      "4:\tlearn: 0.0580289\ttest: 0.0517268\tbest: 0.0517268 (4)\ttotal: 11.2s\tremaining: 3m 32s\n",
      "5:\tlearn: 0.0566333\ttest: 0.0502771\tbest: 0.0502771 (5)\ttotal: 13.4s\tremaining: 3m 30s\n",
      "6:\tlearn: 0.0553124\ttest: 0.0488564\tbest: 0.0488564 (6)\ttotal: 15.6s\tremaining: 3m 27s\n",
      "7:\tlearn: 0.0540254\ttest: 0.0475802\tbest: 0.0475802 (7)\ttotal: 17.9s\tremaining: 3m 25s\n",
      "8:\tlearn: 0.0527934\ttest: 0.0464910\tbest: 0.0464910 (8)\ttotal: 20.2s\tremaining: 3m 23s\n",
      "9:\tlearn: 0.0517026\ttest: 0.0455100\tbest: 0.0455100 (9)\ttotal: 22.4s\tremaining: 3m 21s\n",
      "10:\tlearn: 0.0506645\ttest: 0.0445090\tbest: 0.0445090 (10)\ttotal: 24.6s\tremaining: 3m 19s\n",
      "11:\tlearn: 0.0496161\ttest: 0.0435540\tbest: 0.0435540 (11)\ttotal: 26.9s\tremaining: 3m 17s\n",
      "12:\tlearn: 0.0487099\ttest: 0.0427579\tbest: 0.0427579 (12)\ttotal: 29.2s\tremaining: 3m 15s\n",
      "13:\tlearn: 0.0478651\ttest: 0.0419432\tbest: 0.0419432 (13)\ttotal: 31.4s\tremaining: 3m 13s\n",
      "14:\tlearn: 0.0470430\ttest: 0.0411442\tbest: 0.0411442 (14)\ttotal: 33.9s\tremaining: 3m 12s\n",
      "15:\tlearn: 0.0462876\ttest: 0.0404457\tbest: 0.0404457 (15)\ttotal: 36.7s\tremaining: 3m 12s\n",
      "16:\tlearn: 0.0455479\ttest: 0.0397199\tbest: 0.0397199 (16)\ttotal: 39.3s\tremaining: 3m 12s\n",
      "17:\tlearn: 0.0448646\ttest: 0.0390546\tbest: 0.0390546 (17)\ttotal: 41.5s\tremaining: 3m 8s\n",
      "18:\tlearn: 0.0441318\ttest: 0.0384482\tbest: 0.0384482 (18)\ttotal: 43.6s\tremaining: 3m 6s\n",
      "19:\tlearn: 0.0434138\ttest: 0.0378823\tbest: 0.0378823 (19)\ttotal: 45.8s\tremaining: 3m 3s\n",
      "20:\tlearn: 0.0428523\ttest: 0.0373710\tbest: 0.0373710 (20)\ttotal: 47.9s\tremaining: 3m\n",
      "21:\tlearn: 0.0422672\ttest: 0.0369172\tbest: 0.0369172 (21)\ttotal: 50s\tremaining: 2m 57s\n",
      "22:\tlearn: 0.0417194\ttest: 0.0365246\tbest: 0.0365246 (22)\ttotal: 52.2s\tremaining: 2m 54s\n",
      "23:\tlearn: 0.0411544\ttest: 0.0361395\tbest: 0.0361395 (23)\ttotal: 54.3s\tremaining: 2m 52s\n",
      "24:\tlearn: 0.0406725\ttest: 0.0358044\tbest: 0.0358044 (24)\ttotal: 56.4s\tremaining: 2m 49s\n",
      "25:\tlearn: 0.0401627\ttest: 0.0354039\tbest: 0.0354039 (25)\ttotal: 58.6s\tremaining: 2m 46s\n",
      "26:\tlearn: 0.0397094\ttest: 0.0351484\tbest: 0.0351484 (26)\ttotal: 1m\tremaining: 2m 44s\n",
      "27:\tlearn: 0.0392561\ttest: 0.0348393\tbest: 0.0348393 (27)\ttotal: 1m 2s\tremaining: 2m 41s\n",
      "28:\tlearn: 0.0388664\ttest: 0.0345167\tbest: 0.0345167 (28)\ttotal: 1m 5s\tremaining: 2m 39s\n",
      "29:\tlearn: 0.0384539\ttest: 0.0342904\tbest: 0.0342904 (29)\ttotal: 1m 7s\tremaining: 2m 36s\n",
      "30:\tlearn: 0.0380735\ttest: 0.0341074\tbest: 0.0341074 (30)\ttotal: 1m 9s\tremaining: 2m 34s\n",
      "31:\tlearn: 0.0376487\ttest: 0.0338381\tbest: 0.0338381 (31)\ttotal: 1m 11s\tremaining: 2m 32s\n",
      "32:\tlearn: 0.0372878\ttest: 0.0335740\tbest: 0.0335740 (32)\ttotal: 1m 14s\tremaining: 2m 30s\n",
      "33:\tlearn: 0.0369163\ttest: 0.0333942\tbest: 0.0333942 (33)\ttotal: 1m 16s\tremaining: 2m 28s\n",
      "34:\tlearn: 0.0365927\ttest: 0.0332384\tbest: 0.0332384 (34)\ttotal: 1m 18s\tremaining: 2m 26s\n",
      "35:\tlearn: 0.0362664\ttest: 0.0330273\tbest: 0.0330273 (35)\ttotal: 1m 20s\tremaining: 2m 23s\n",
      "36:\tlearn: 0.0358535\ttest: 0.0328855\tbest: 0.0328855 (36)\ttotal: 1m 23s\tremaining: 2m 21s\n",
      "37:\tlearn: 0.0355337\ttest: 0.0327445\tbest: 0.0327445 (37)\ttotal: 1m 25s\tremaining: 2m 19s\n",
      "38:\tlearn: 0.0352075\ttest: 0.0326235\tbest: 0.0326235 (38)\ttotal: 1m 27s\tremaining: 2m 16s\n",
      "39:\tlearn: 0.0349440\ttest: 0.0325124\tbest: 0.0325124 (39)\ttotal: 1m 29s\tremaining: 2m 14s\n",
      "40:\tlearn: 0.0346620\ttest: 0.0323637\tbest: 0.0323637 (40)\ttotal: 1m 31s\tremaining: 2m 12s\n",
      "41:\tlearn: 0.0344037\ttest: 0.0322584\tbest: 0.0322584 (41)\ttotal: 1m 33s\tremaining: 2m 9s\n",
      "42:\tlearn: 0.0341902\ttest: 0.0321267\tbest: 0.0321267 (42)\ttotal: 1m 36s\tremaining: 2m 7s\n",
      "43:\tlearn: 0.0339248\ttest: 0.0320469\tbest: 0.0320469 (43)\ttotal: 1m 38s\tremaining: 2m 5s\n",
      "44:\tlearn: 0.0337152\ttest: 0.0319009\tbest: 0.0319009 (44)\ttotal: 1m 40s\tremaining: 2m 2s\n",
      "45:\tlearn: 0.0334903\ttest: 0.0318272\tbest: 0.0318272 (45)\ttotal: 1m 42s\tremaining: 2m\n",
      "46:\tlearn: 0.0332681\ttest: 0.0317041\tbest: 0.0317041 (46)\ttotal: 1m 44s\tremaining: 1m 58s\n",
      "47:\tlearn: 0.0330870\ttest: 0.0315979\tbest: 0.0315979 (47)\ttotal: 1m 46s\tremaining: 1m 55s\n",
      "48:\tlearn: 0.0328263\ttest: 0.0315421\tbest: 0.0315421 (48)\ttotal: 1m 49s\tremaining: 1m 53s\n",
      "49:\tlearn: 0.0326080\ttest: 0.0314846\tbest: 0.0314846 (49)\ttotal: 1m 51s\tremaining: 1m 51s\n",
      "50:\tlearn: 0.0324222\ttest: 0.0314290\tbest: 0.0314290 (50)\ttotal: 1m 53s\tremaining: 1m 48s\n",
      "51:\tlearn: 0.0322142\ttest: 0.0313720\tbest: 0.0313720 (51)\ttotal: 1m 55s\tremaining: 1m 46s\n",
      "52:\tlearn: 0.0320066\ttest: 0.0312837\tbest: 0.0312837 (52)\ttotal: 1m 57s\tremaining: 1m 44s\n",
      "53:\tlearn: 0.0318431\ttest: 0.0312380\tbest: 0.0312380 (53)\ttotal: 1m 59s\tremaining: 1m 42s\n",
      "54:\tlearn: 0.0316822\ttest: 0.0311706\tbest: 0.0311706 (54)\ttotal: 2m 1s\tremaining: 1m 39s\n",
      "55:\tlearn: 0.0315173\ttest: 0.0311101\tbest: 0.0311101 (55)\ttotal: 2m 4s\tremaining: 1m 37s\n",
      "56:\tlearn: 0.0312887\ttest: 0.0310797\tbest: 0.0310797 (56)\ttotal: 2m 6s\tremaining: 1m 35s\n",
      "57:\tlearn: 0.0310930\ttest: 0.0310389\tbest: 0.0310389 (57)\ttotal: 2m 8s\tremaining: 1m 33s\n",
      "58:\tlearn: 0.0309521\ttest: 0.0309851\tbest: 0.0309851 (58)\ttotal: 2m 10s\tremaining: 1m 30s\n",
      "59:\tlearn: 0.0308209\ttest: 0.0309336\tbest: 0.0309336 (59)\ttotal: 2m 12s\tremaining: 1m 28s\n",
      "60:\tlearn: 0.0306451\ttest: 0.0309265\tbest: 0.0309265 (60)\ttotal: 2m 15s\tremaining: 1m 26s\n",
      "61:\tlearn: 0.0305123\ttest: 0.0308699\tbest: 0.0308699 (61)\ttotal: 2m 17s\tremaining: 1m 24s\n",
      "62:\tlearn: 0.0303698\ttest: 0.0308031\tbest: 0.0308031 (62)\ttotal: 2m 19s\tremaining: 1m 21s\n",
      "63:\tlearn: 0.0302554\ttest: 0.0307555\tbest: 0.0307555 (63)\ttotal: 2m 21s\tremaining: 1m 19s\n",
      "64:\tlearn: 0.0301372\ttest: 0.0306965\tbest: 0.0306965 (64)\ttotal: 2m 23s\tremaining: 1m 17s\n",
      "65:\tlearn: 0.0299734\ttest: 0.0306856\tbest: 0.0306856 (65)\ttotal: 2m 25s\tremaining: 1m 15s\n",
      "66:\tlearn: 0.0298336\ttest: 0.0306557\tbest: 0.0306557 (66)\ttotal: 2m 27s\tremaining: 1m 12s\n",
      "67:\tlearn: 0.0297172\ttest: 0.0306392\tbest: 0.0306392 (67)\ttotal: 2m 30s\tremaining: 1m 10s\n",
      "68:\tlearn: 0.0296030\ttest: 0.0306032\tbest: 0.0306032 (68)\ttotal: 2m 32s\tremaining: 1m 8s\n",
      "69:\tlearn: 0.0295211\ttest: 0.0305783\tbest: 0.0305783 (69)\ttotal: 2m 34s\tremaining: 1m 6s\n",
      "70:\tlearn: 0.0294217\ttest: 0.0305329\tbest: 0.0305329 (70)\ttotal: 2m 36s\tremaining: 1m 3s\n",
      "71:\tlearn: 0.0293202\ttest: 0.0305054\tbest: 0.0305054 (71)\ttotal: 2m 38s\tremaining: 1m 1s\n",
      "72:\tlearn: 0.0292054\ttest: 0.0304915\tbest: 0.0304915 (72)\ttotal: 2m 41s\tremaining: 59.5s\n",
      "73:\tlearn: 0.0290814\ttest: 0.0304709\tbest: 0.0304709 (73)\ttotal: 2m 43s\tremaining: 57.4s\n",
      "74:\tlearn: 0.0289930\ttest: 0.0304582\tbest: 0.0304582 (74)\ttotal: 2m 45s\tremaining: 55.1s\n",
      "75:\tlearn: 0.0288342\ttest: 0.0304385\tbest: 0.0304385 (75)\ttotal: 2m 47s\tremaining: 52.9s\n",
      "76:\tlearn: 0.0287585\ttest: 0.0304399\tbest: 0.0304385 (75)\ttotal: 2m 49s\tremaining: 50.7s\n",
      "77:\tlearn: 0.0286162\ttest: 0.0303896\tbest: 0.0303896 (77)\ttotal: 2m 51s\tremaining: 48.5s\n",
      "78:\tlearn: 0.0284910\ttest: 0.0303763\tbest: 0.0303763 (78)\ttotal: 2m 53s\tremaining: 46.2s\n",
      "79:\tlearn: 0.0283376\ttest: 0.0303631\tbest: 0.0303631 (79)\ttotal: 2m 56s\tremaining: 44s\n",
      "80:\tlearn: 0.0281905\ttest: 0.0303480\tbest: 0.0303480 (80)\ttotal: 2m 58s\tremaining: 41.8s\n",
      "81:\tlearn: 0.0280826\ttest: 0.0303239\tbest: 0.0303239 (81)\ttotal: 3m\tremaining: 39.6s\n",
      "82:\tlearn: 0.0279589\ttest: 0.0302972\tbest: 0.0302972 (82)\ttotal: 3m 2s\tremaining: 37.4s\n",
      "83:\tlearn: 0.0278290\ttest: 0.0302777\tbest: 0.0302777 (83)\ttotal: 3m 4s\tremaining: 35.2s\n",
      "84:\tlearn: 0.0277420\ttest: 0.0302388\tbest: 0.0302388 (84)\ttotal: 3m 7s\tremaining: 33s\n",
      "85:\tlearn: 0.0277020\ttest: 0.0302405\tbest: 0.0302388 (84)\ttotal: 3m 9s\tremaining: 30.8s\n",
      "86:\tlearn: 0.0275944\ttest: 0.0302148\tbest: 0.0302148 (86)\ttotal: 3m 11s\tremaining: 28.6s\n",
      "87:\tlearn: 0.0274455\ttest: 0.0301903\tbest: 0.0301903 (87)\ttotal: 3m 13s\tremaining: 26.4s\n",
      "88:\tlearn: 0.0273687\ttest: 0.0301857\tbest: 0.0301857 (88)\ttotal: 3m 16s\tremaining: 24.3s\n",
      "89:\tlearn: 0.0273027\ttest: 0.0301817\tbest: 0.0301817 (89)\ttotal: 3m 19s\tremaining: 22.1s\n",
      "90:\tlearn: 0.0272250\ttest: 0.0301520\tbest: 0.0301520 (90)\ttotal: 3m 21s\tremaining: 19.9s\n",
      "91:\tlearn: 0.0271700\ttest: 0.0301443\tbest: 0.0301443 (91)\ttotal: 3m 24s\tremaining: 17.8s\n",
      "92:\tlearn: 0.0270967\ttest: 0.0301282\tbest: 0.0301282 (92)\ttotal: 3m 27s\tremaining: 15.6s\n",
      "93:\tlearn: 0.0269998\ttest: 0.0301198\tbest: 0.0301198 (93)\ttotal: 3m 29s\tremaining: 13.4s\n",
      "94:\tlearn: 0.0269211\ttest: 0.0301222\tbest: 0.0301198 (93)\ttotal: 3m 32s\tremaining: 11.2s\n",
      "95:\tlearn: 0.0268463\ttest: 0.0300982\tbest: 0.0300982 (95)\ttotal: 3m 34s\tremaining: 8.94s\n",
      "96:\tlearn: 0.0267880\ttest: 0.0300861\tbest: 0.0300861 (96)\ttotal: 3m 36s\tremaining: 6.71s\n",
      "97:\tlearn: 0.0267411\ttest: 0.0300652\tbest: 0.0300652 (97)\ttotal: 3m 39s\tremaining: 4.47s\n",
      "98:\tlearn: 0.0265930\ttest: 0.0300547\tbest: 0.0300547 (98)\ttotal: 3m 41s\tremaining: 2.24s\n",
      "99:\tlearn: 0.0265234\ttest: 0.0300306\tbest: 0.0300306 (99)\ttotal: 3m 44s\tremaining: 0us\n",
      "\n",
      "bestTest = 0.03003060204\n",
      "bestIteration = 99\n",
      "\n"
     ]
    },
    {
     "data": {
      "text/plain": [
       "<catboost.core.CatBoostRegressor at 0x23f1fc724c8>"
      ]
     },
     "execution_count": 20,
     "metadata": {},
     "output_type": "execute_result"
    }
   ],
   "source": [
    "cb_model_depth = CatBoostRegressor(#iterations=1000,\n",
    "                                 learning_rate=0.05,\n",
    "                                 depth=10,\n",
    "                                 random_seed = CB_RANDOMSEED,\n",
    "                   n_estimators=100,\n",
    "                                  )\n",
    "# Fit model\n",
    "cb_model_depth.fit(train_ds_depth,\n",
    "                   eval_set=val_ds_depth, \n",
    "                   #plot = True,\n",
    "                  )"
   ]
  },
  {
   "cell_type": "code",
   "execution_count": 21,
   "id": "2596cde2-acc0-4f27-8ab9-6658e7cba842",
   "metadata": {},
   "outputs": [
    {
     "data": {
      "text/plain": [
       "(0.8397164101577229, 0.747948360540658)"
      ]
     },
     "execution_count": 21,
     "metadata": {},
     "output_type": "execute_result"
    }
   ],
   "source": [
    "# Get predictions and metrics\n",
    "preds_train_depth = cb_model_depth.predict(x_train[cat_cols + num_cols])\n",
    "preds_val_depth   = cb_model_depth.predict(val_ds_depth)\n",
    "\n",
    "train_score_depth = r2_score(y_train[\"depth\"], preds_train_depth)\n",
    "val_score_depth   = r2_score(y_val[\"depth\"],   preds_val_depth)\n",
    "\n",
    "train_score_depth, val_score_depth"
   ]
  },
  {
   "cell_type": "raw",
   "id": "42b4b5db-a639-4829-9350-0c78a2bb037b",
   "metadata": {},
   "source": [
    "(0.8493920704127192, 0.7508125364228887) emb + lags + nauth + all_norm"
   ]
  },
  {
   "cell_type": "code",
   "execution_count": 22,
   "id": "bf7b2ffd-0f51-492c-ad5c-cd0e859050d8",
   "metadata": {},
   "outputs": [
    {
     "data": {
      "text/plain": [
       "(5589, 975)"
      ]
     },
     "execution_count": 22,
     "metadata": {},
     "output_type": "execute_result"
    }
   ],
   "source": [
    "x_train.shape"
   ]
  },
  {
   "cell_type": "code",
   "execution_count": 23,
   "id": "a37608db-f13d-45fc-9f3f-dd430a6f0839",
   "metadata": {},
   "outputs": [
    {
     "data": {
      "image/png": "[encoded data removed]",
      "text/plain": [
       "<Figure size 720x576 with 1 Axes>"
      ]
     },
     "metadata": {
      "needs_background": "light"
     },
     "output_type": "display_data"
    }
   ],
   "source": [
    "#plot_feature_importance(cb_model_views, train_ds_views, 30)\n",
    "plot_feature_importance(cb_model_depth.get_feature_importance(), train_ds_depth.get_feature_names(), 'CATBOOST')"
   ]
  },
  {
   "cell_type": "code",
   "execution_count": null,
   "id": "5eaabd43-32cd-42df-9c8f-a88c7c8cfe3c",
   "metadata": {},
   "outputs": [],
   "source": []
  },
  {
   "cell_type": "markdown",
   "id": "fafdf6ea-9687-472f-ab6e-86125f5dc7eb",
   "metadata": {},
   "source": [
    "## full_reads_percent"
   ]
  },
  {
   "cell_type": "code",
   "execution_count": 24,
   "id": "fab012d5-56fd-4c3e-9b9d-41e1b76832e8",
   "metadata": {},
   "outputs": [],
   "source": [
    "#pd.DataFrame(preds_train_depth, columns = ['depth_pred'])\n",
    "pred_scaler = preprocessing.StandardScaler()\n",
    "tmp = pred_scaler.fit_transform(preds_train_depth.reshape(-1, 1))\n",
    "pred_depth_train = pd.DataFrame(tmp, columns = ['depth_pred'])\n",
    "\n",
    "pred_depth_val   = pd.DataFrame(pred_scaler.transform(preds_val_depth.reshape(-1, 1)), columns = ['depth_pred'])"
   ]
  },
  {
   "cell_type": "code",
   "execution_count": null,
   "id": "ba1c8f1b-db34-4dbb-9ee2-6fe507ce7319",
   "metadata": {},
   "outputs": [],
   "source": []
  },
  {
   "cell_type": "code",
   "execution_count": 25,
   "id": "ff2235cf-836d-48a1-895f-bffbf202d0bc",
   "metadata": {},
   "outputs": [
    {
     "name": "stdout",
     "output_type": "stream",
     "text": [
      "before  (5589, 975) (1398, 975) (5589,) (1398,)\n",
      "after   (6704, 976) (2541, 976)\n"
     ]
    }
   ],
   "source": [
    "print('before ', x_train.shape, x_val.shape, preds_train_depth.shape, preds_val_depth.shape)\n",
    "x_train = pd.concat([x_train, pred_depth_train], axis = 1)\n",
    "x_val   = pd.concat([x_val,   pred_depth_val],   axis = 1)\n",
    "print('after  ', x_train.shape, x_val.shape)"
   ]
  },
  {
   "cell_type": "code",
   "execution_count": null,
   "id": "38454f44-8a38-4ba8-9c7d-123819f11a42",
   "metadata": {},
   "outputs": [],
   "source": []
  },
  {
   "cell_type": "code",
   "execution_count": 26,
   "id": "e9595c2e-a58a-4099-9c9c-3abc1e141a20",
   "metadata": {},
   "outputs": [
    {
     "ename": "CatBoostError",
     "evalue": "Length of label=5589 and length of data=6704 is different.",
     "output_type": "error",
     "traceback": [
      "\u001b[1;31m---------------------------------------------------------------------------\u001b[0m",
      "\u001b[1;31mCatBoostError\u001b[0m                             Traceback (most recent call last)",
      "\u001b[1;32m<ipython-input-26-343ee6fb9be8>\u001b[0m in \u001b[0;36m<module>\u001b[1;34m\u001b[0m\n\u001b[0;32m      2\u001b[0m                       \u001b[0my_train\u001b[0m\u001b[1;33m[\u001b[0m\u001b[1;33m[\u001b[0m\u001b[1;34m'full_reads_percent'\u001b[0m\u001b[1;33m]\u001b[0m\u001b[1;33m]\u001b[0m\u001b[1;33m,\u001b[0m\u001b[1;33m\u001b[0m\u001b[1;33m\u001b[0m\u001b[0m\n\u001b[0;32m      3\u001b[0m                       \u001b[0mcat_features\u001b[0m \u001b[1;33m=\u001b[0m \u001b[0mcat_cols\u001b[0m\u001b[1;33m,\u001b[0m\u001b[1;33m\u001b[0m\u001b[1;33m\u001b[0m\u001b[0m\n\u001b[1;32m----> 4\u001b[1;33m                       \u001b[0mfeature_names\u001b[0m \u001b[1;33m=\u001b[0m \u001b[0mcat_cols\u001b[0m \u001b[1;33m+\u001b[0m \u001b[0mnum_cols\u001b[0m \u001b[1;33m+\u001b[0m \u001b[1;33m[\u001b[0m\u001b[1;34m'depth_pred'\u001b[0m\u001b[1;33m]\u001b[0m\u001b[1;33m,\u001b[0m\u001b[1;33m\u001b[0m\u001b[1;33m\u001b[0m\u001b[0m\n\u001b[0m\u001b[0;32m      5\u001b[0m                      )\n\u001b[0;32m      6\u001b[0m \u001b[1;33m\u001b[0m\u001b[0m\n",
      "\u001b[1;32m~\\Anaconda3\\lib\\site-packages\\catboost\\core.py\u001b[0m in \u001b[0;36m__init__\u001b[1;34m(self, data, label, cat_features, text_features, embedding_features, column_description, pairs, delimiter, has_header, ignore_csv_quoting, weight, group_id, group_weight, subgroup_id, pairs_weight, baseline, feature_names, thread_count)\u001b[0m\n\u001b[0;32m    453\u001b[0m                     )\n\u001b[0;32m    454\u001b[0m \u001b[1;33m\u001b[0m\u001b[0m\n\u001b[1;32m--> 455\u001b[1;33m                 \u001b[0mself\u001b[0m\u001b[1;33m.\u001b[0m\u001b[0m_init\u001b[0m\u001b[1;33m(\u001b[0m\u001b[0mdata\u001b[0m\u001b[1;33m,\u001b[0m \u001b[0mlabel\u001b[0m\u001b[1;33m,\u001b[0m \u001b[0mcat_features\u001b[0m\u001b[1;33m,\u001b[0m \u001b[0mtext_features\u001b[0m\u001b[1;33m,\u001b[0m \u001b[0membedding_features\u001b[0m\u001b[1;33m,\u001b[0m \u001b[0mpairs\u001b[0m\u001b[1;33m,\u001b[0m \u001b[0mweight\u001b[0m\u001b[1;33m,\u001b[0m \u001b[0mgroup_id\u001b[0m\u001b[1;33m,\u001b[0m \u001b[0mgroup_weight\u001b[0m\u001b[1;33m,\u001b[0m \u001b[0msubgroup_id\u001b[0m\u001b[1;33m,\u001b[0m \u001b[0mpairs_weight\u001b[0m\u001b[1;33m,\u001b[0m \u001b[0mbaseline\u001b[0m\u001b[1;33m,\u001b[0m \u001b[0mfeature_names\u001b[0m\u001b[1;33m,\u001b[0m \u001b[0mthread_count\u001b[0m\u001b[1;33m)\u001b[0m\u001b[1;33m\u001b[0m\u001b[1;33m\u001b[0m\u001b[0m\n\u001b[0m\u001b[0;32m    456\u001b[0m         \u001b[0msuper\u001b[0m\u001b[1;33m(\u001b[0m\u001b[0mPool\u001b[0m\u001b[1;33m,\u001b[0m \u001b[0mself\u001b[0m\u001b[1;33m)\u001b[0m\u001b[1;33m.\u001b[0m\u001b[0m__init__\u001b[0m\u001b[1;33m(\u001b[0m\u001b[1;33m)\u001b[0m\u001b[1;33m\u001b[0m\u001b[1;33m\u001b[0m\u001b[0m\n\u001b[0;32m    457\u001b[0m \u001b[1;33m\u001b[0m\u001b[0m\n",
      "\u001b[1;32m~\\Anaconda3\\lib\\site-packages\\catboost\\core.py\u001b[0m in \u001b[0;36m_init\u001b[1;34m(self, data, label, cat_features, text_features, embedding_features, pairs, weight, group_id, group_weight, subgroup_id, pairs_weight, baseline, feature_names, thread_count)\u001b[0m\n\u001b[0;32m    918\u001b[0m             \u001b[1;32mif\u001b[0m \u001b[0mlen\u001b[0m\u001b[1;33m(\u001b[0m\u001b[0mnp\u001b[0m\u001b[1;33m.\u001b[0m\u001b[0mshape\u001b[0m\u001b[1;33m(\u001b[0m\u001b[0mlabel\u001b[0m\u001b[1;33m)\u001b[0m\u001b[1;33m)\u001b[0m \u001b[1;33m==\u001b[0m \u001b[1;36m1\u001b[0m\u001b[1;33m:\u001b[0m\u001b[1;33m\u001b[0m\u001b[1;33m\u001b[0m\u001b[0m\n\u001b[0;32m    919\u001b[0m                 \u001b[0mlabel\u001b[0m \u001b[1;33m=\u001b[0m \u001b[0mnp\u001b[0m\u001b[1;33m.\u001b[0m\u001b[0mexpand_dims\u001b[0m\u001b[1;33m(\u001b[0m\u001b[0mlabel\u001b[0m\u001b[1;33m,\u001b[0m \u001b[1;36m1\u001b[0m\u001b[1;33m)\u001b[0m\u001b[1;33m\u001b[0m\u001b[1;33m\u001b[0m\u001b[0m\n\u001b[1;32m--> 920\u001b[1;33m             \u001b[0mself\u001b[0m\u001b[1;33m.\u001b[0m\u001b[0m_check_label_shape\u001b[0m\u001b[1;33m(\u001b[0m\u001b[0mlabel\u001b[0m\u001b[1;33m,\u001b[0m \u001b[0msamples_count\u001b[0m\u001b[1;33m)\u001b[0m\u001b[1;33m\u001b[0m\u001b[1;33m\u001b[0m\u001b[0m\n\u001b[0m\u001b[0;32m    921\u001b[0m         \u001b[1;32mif\u001b[0m \u001b[0mfeature_names\u001b[0m \u001b[1;32mis\u001b[0m \u001b[1;32mnot\u001b[0m \u001b[1;32mNone\u001b[0m\u001b[1;33m:\u001b[0m\u001b[1;33m\u001b[0m\u001b[1;33m\u001b[0m\u001b[0m\n\u001b[0;32m    922\u001b[0m             \u001b[0mself\u001b[0m\u001b[1;33m.\u001b[0m\u001b[0m_check_feature_names\u001b[0m\u001b[1;33m(\u001b[0m\u001b[0mfeature_names\u001b[0m\u001b[1;33m,\u001b[0m \u001b[0mfeatures_count\u001b[0m\u001b[1;33m)\u001b[0m\u001b[1;33m\u001b[0m\u001b[1;33m\u001b[0m\u001b[0m\n",
      "\u001b[1;32m~\\Anaconda3\\lib\\site-packages\\catboost\\core.py\u001b[0m in \u001b[0;36m_check_label_shape\u001b[1;34m(self, label, samples_count)\u001b[0m\n\u001b[0;32m    565\u001b[0m         \"\"\"\n\u001b[0;32m    566\u001b[0m         \u001b[1;32mif\u001b[0m \u001b[0mlen\u001b[0m\u001b[1;33m(\u001b[0m\u001b[0mlabel\u001b[0m\u001b[1;33m)\u001b[0m \u001b[1;33m!=\u001b[0m \u001b[0msamples_count\u001b[0m\u001b[1;33m:\u001b[0m\u001b[1;33m\u001b[0m\u001b[1;33m\u001b[0m\u001b[0m\n\u001b[1;32m--> 567\u001b[1;33m             \u001b[1;32mraise\u001b[0m \u001b[0mCatBoostError\u001b[0m\u001b[1;33m(\u001b[0m\u001b[1;34m\"Length of label={} and length of data={} is different.\"\u001b[0m\u001b[1;33m.\u001b[0m\u001b[0mformat\u001b[0m\u001b[1;33m(\u001b[0m\u001b[0mlen\u001b[0m\u001b[1;33m(\u001b[0m\u001b[0mlabel\u001b[0m\u001b[1;33m)\u001b[0m\u001b[1;33m,\u001b[0m \u001b[0msamples_count\u001b[0m\u001b[1;33m)\u001b[0m\u001b[1;33m)\u001b[0m\u001b[1;33m\u001b[0m\u001b[1;33m\u001b[0m\u001b[0m\n\u001b[0m\u001b[0;32m    568\u001b[0m \u001b[1;33m\u001b[0m\u001b[0m\n\u001b[0;32m    569\u001b[0m     \u001b[1;32mdef\u001b[0m \u001b[0m_check_baseline_type\u001b[0m\u001b[1;33m(\u001b[0m\u001b[0mself\u001b[0m\u001b[1;33m,\u001b[0m \u001b[0mbaseline\u001b[0m\u001b[1;33m)\u001b[0m\u001b[1;33m:\u001b[0m\u001b[1;33m\u001b[0m\u001b[1;33m\u001b[0m\u001b[0m\n",
      "\u001b[1;31mCatBoostError\u001b[0m: Length of label=5589 and length of data=6704 is different."
     ]
    }
   ],
   "source": [
    "train_ds_frp = Pool(x_train[cat_cols + num_cols + ['depth_pred']],\n",
    "                      y_train[['full_reads_percent']],\n",
    "                      cat_features = cat_cols,\n",
    "                      feature_names = cat_cols + num_cols + ['depth_pred'],\n",
    "                     )\n",
    "\n",
    "val_ds_frp   = Pool(x_val[cat_cols + num_cols + ['depth_pred']],\n",
    "                      y_val[['full_reads_percent']],\n",
    "                      cat_features = cat_cols,\n",
    "                      feature_names = cat_cols + num_cols + ['depth_pred'],\n",
    "                     )"
   ]
  },
  {
   "cell_type": "code",
   "execution_count": null,
   "id": "7745c438-06e9-477e-ac52-37017039f9c4",
   "metadata": {},
   "outputs": [],
   "source": [
    "cb_model_frp = CatBoostRegressor(#iterations=1000,\n",
    "                                 learning_rate=0.05,\n",
    "                                 depth=10,\n",
    "                                 random_seed = CB_RANDOMSEED,\n",
    "                   n_estimators=100,\n",
    "                                 #n_estimators=100,\n",
    "    #num_trees=None,\n",
    "                                )\n",
    "# Fit model\n",
    "cb_model_frp.fit(train_ds_frp,\n",
    "                   eval_set=val_ds_frp, \n",
    "                   #plot = True,\n",
    "                  )"
   ]
  },
  {
   "cell_type": "code",
   "execution_count": null,
   "id": "ce2f5cf1-5605-4e75-99dd-8c23248ff512",
   "metadata": {},
   "outputs": [],
   "source": [
    "# Get predictions and metrics\n",
    "preds_train_frp = cb_model_frp.predict(x_train[cat_cols + num_cols])\n",
    "preds_val_frp   = cb_model_frp.predict(val_ds_frp)\n",
    "\n",
    "train_score_frp = r2_score(y_train[\"full_reads_percent\"], preds_train_frp)\n",
    "val_score_frp   = r2_score(y_val[\"full_reads_percent\"],   preds_val_frp)\n",
    "\n",
    "train_score_frp, val_score_frp"
   ]
  },
  {
   "cell_type": "raw",
   "id": "cec2f6b6-9782-4b5c-838c-66df8bfc72e5",
   "metadata": {},
   "source": [
    "(0.6631276724054295, 0.34064497648434666) emb + lags"
   ]
  },
  {
   "cell_type": "code",
   "execution_count": null,
   "id": "c6b000b9-9f71-4f8d-bb73-d58b91330eca",
   "metadata": {},
   "outputs": [],
   "source": []
  },
  {
   "cell_type": "code",
   "execution_count": 26,
   "id": "0921f52a-f376-4e01-bf22-958db46977c7",
   "metadata": {},
   "outputs": [
    {
     "ename": "NameError",
     "evalue": "name 'cb_model_frp' is not defined",
     "output_type": "error",
     "traceback": [
      "\u001b[1;31m---------------------------------------------------------------------------\u001b[0m",
      "\u001b[1;31mNameError\u001b[0m                                 Traceback (most recent call last)",
      "\u001b[1;32m<ipython-input-26-245cfb145a16>\u001b[0m in \u001b[0;36m<module>\u001b[1;34m\u001b[0m\n\u001b[0;32m      1\u001b[0m \u001b[1;31m#plot_feature_importance(cb_model_views, train_ds_views, 30)\u001b[0m\u001b[1;33m\u001b[0m\u001b[1;33m\u001b[0m\u001b[1;33m\u001b[0m\u001b[0m\n\u001b[1;32m----> 2\u001b[1;33m \u001b[0mplot_feature_importance\u001b[0m\u001b[1;33m(\u001b[0m\u001b[0mcb_model_frp\u001b[0m\u001b[1;33m.\u001b[0m\u001b[0mget_feature_importance\u001b[0m\u001b[1;33m(\u001b[0m\u001b[1;33m)\u001b[0m\u001b[1;33m,\u001b[0m \u001b[0mtrain_ds_frp\u001b[0m\u001b[1;33m.\u001b[0m\u001b[0mget_feature_names\u001b[0m\u001b[1;33m(\u001b[0m\u001b[1;33m)\u001b[0m\u001b[1;33m,\u001b[0m \u001b[1;34m'CATBOOST'\u001b[0m\u001b[1;33m)\u001b[0m\u001b[1;33m\u001b[0m\u001b[1;33m\u001b[0m\u001b[0m\n\u001b[0m",
      "\u001b[1;31mNameError\u001b[0m: name 'cb_model_frp' is not defined"
     ]
    }
   ],
   "source": [
    "#plot_feature_importance(cb_model_views, train_ds_views, 30)\n",
    "plot_feature_importance(cb_model_frp.get_feature_importance(), train_ds_frp.get_feature_names(), 'CATBOOST')"
   ]
  },
  {
   "cell_type": "code",
   "execution_count": null,
   "id": "be50fe97-02cb-48bb-beb5-c100041aa1f0",
   "metadata": {},
   "outputs": [],
   "source": []
  },
  {
   "cell_type": "code",
   "execution_count": 26,
   "id": "304d2314-a21f-4bb0-bd61-9fa94711f9f1",
   "metadata": {},
   "outputs": [
    {
     "data": {
      "text/plain": [
       "(0.6574691326113156, 0.47947194887639855)"
      ]
     },
     "execution_count": 26,
     "metadata": {},
     "output_type": "execute_result"
    }
   ],
   "source": [
    "score_train = 0.4 * train_score_views + 0.3 * train_score_depth + 0.3 * train_score_frp\n",
    "score_val  = 0.4 * val_score_views  + 0.3 * val_score_depth  + 0.3 * val_score_frp\n",
    "\n",
    "score_train, score_val"
   ]
  },
  {
   "cell_type": "raw",
   "id": "b4e2f449-432c-42f7-8cce-5cb15323aca0",
   "metadata": {},
   "source": [
    "(0.6661157519992797, 0.48755208933038424)  emb + lags + nauth + all_norm"
   ]
  },
  {
   "cell_type": "code",
   "execution_count": null,
   "id": "8ff54468-e3a7-403c-b6e9-67ad93a5e09e",
   "metadata": {},
   "outputs": [],
   "source": []
  },
  {
   "cell_type": "code",
   "execution_count": 27,
   "id": "381dce61-ab9a-45f9-934a-3cb80c94d115",
   "metadata": {},
   "outputs": [],
   "source": [
    "NTRY = 6"
   ]
  },
  {
   "cell_type": "markdown",
   "id": "81b7d454-37b6-45ee-94fb-99af0fe23ae5",
   "metadata": {},
   "source": [
    "## save models"
   ]
  },
  {
   "cell_type": "code",
   "execution_count": null,
   "id": "aa4adde3-b017-4cea-9ae8-fc7cea77bab1",
   "metadata": {},
   "outputs": [],
   "source": []
  },
  {
   "cell_type": "code",
   "execution_count": 28,
   "id": "75aa11de-71cb-47a7-9e22-2857f7f7e643",
   "metadata": {},
   "outputs": [],
   "source": [
    "cb_model_views.save_model(os.path.join(DIR_MODELS, f'{NTRY}_1_cb_views.cbm'), \n",
    "                           format=\"cbm\",\n",
    "                           export_parameters=None,\n",
    "                           pool=None\n",
    "                         )\n",
    "\n",
    "cb_model_depth.save_model(os.path.join(DIR_MODELS, f'{NTRY}_1_cb_depth.cbm'), \n",
    "                           format=\"cbm\",\n",
    "                           export_parameters=None,\n",
    "                           pool=None\n",
    "                         )\n",
    "\n",
    "cb_model_frp.save_model(os.path.join(DIR_MODELS, f'{NTRY}_1_cb_frp.cbm'), \n",
    "                           format=\"cbm\",\n",
    "                           export_parameters=None,\n",
    "                           pool=None\n",
    "                         )"
   ]
  },
  {
   "cell_type": "code",
   "execution_count": null,
   "id": "102c6530-8a1b-4c1c-a1d3-e9d95e350220",
   "metadata": {},
   "outputs": [],
   "source": []
  },
  {
   "cell_type": "markdown",
   "id": "ac604b78-2718-408d-8d19-5b202d3f5a19",
   "metadata": {},
   "source": [
    "## make predict"
   ]
  },
  {
   "cell_type": "code",
   "execution_count": 33,
   "id": "df8e4305-28ed-444f-8325-e6460f7d2271",
   "metadata": {},
   "outputs": [],
   "source": [
    "pred_views = cb_model_views.predict(df_test[cat_cols + num_cols])\n",
    "pred_depth = cb_model_depth.predict(df_test[cat_cols + num_cols])\n",
    "pred_frp   = cb_model_frp.predict(  df_test[cat_cols + num_cols])"
   ]
  },
  {
   "cell_type": "code",
   "execution_count": 34,
   "id": "f422300e-24cf-435a-af11-a450f4f10393",
   "metadata": {},
   "outputs": [],
   "source": [
    "subm = pd.DataFrame()\n",
    "subm['document_id'] = df_test.index\n",
    "\n",
    "subm['views'] = pred_views\n",
    "subm['depth'] = pred_depth\n",
    "subm['full_reads_percent'] = pred_frp"
   ]
  },
  {
   "cell_type": "code",
   "execution_count": 35,
   "id": "37fa65e1-c702-4764-8f84-eb93b80c73f8",
   "metadata": {},
   "outputs": [
    {
     "data": {
      "text/html": [
       "<div>\n",
       "<style scoped>\n",
       "    .dataframe tbody tr th:only-of-type {\n",
       "        vertical-align: middle;\n",
       "    }\n",
       "\n",
       "    .dataframe tbody tr th {\n",
       "        vertical-align: top;\n",
       "    }\n",
       "\n",
       "    .dataframe thead th {\n",
       "        text-align: right;\n",
       "    }\n",
       "</style>\n",
       "<table border=\"1\" class=\"dataframe\">\n",
       "  <thead>\n",
       "    <tr style=\"text-align: right;\">\n",
       "      <th></th>\n",
       "      <th>document_id</th>\n",
       "      <th>views</th>\n",
       "      <th>depth</th>\n",
       "      <th>full_reads_percent</th>\n",
       "    </tr>\n",
       "  </thead>\n",
       "  <tbody>\n",
       "    <tr>\n",
       "      <th>0</th>\n",
       "      <td>0</td>\n",
       "      <td>20078.706076</td>\n",
       "      <td>1.165812</td>\n",
       "      <td>38.174704</td>\n",
       "    </tr>\n",
       "    <tr>\n",
       "      <th>1</th>\n",
       "      <td>1</td>\n",
       "      <td>14811.683772</td>\n",
       "      <td>1.058684</td>\n",
       "      <td>30.163389</td>\n",
       "    </tr>\n",
       "    <tr>\n",
       "      <th>2</th>\n",
       "      <td>2</td>\n",
       "      <td>14346.062089</td>\n",
       "      <td>1.059364</td>\n",
       "      <td>29.007280</td>\n",
       "    </tr>\n",
       "    <tr>\n",
       "      <th>3</th>\n",
       "      <td>3</td>\n",
       "      <td>14178.628973</td>\n",
       "      <td>1.059176</td>\n",
       "      <td>36.559478</td>\n",
       "    </tr>\n",
       "    <tr>\n",
       "      <th>4</th>\n",
       "      <td>4</td>\n",
       "      <td>241883.958788</td>\n",
       "      <td>1.159283</td>\n",
       "      <td>31.517749</td>\n",
       "    </tr>\n",
       "  </tbody>\n",
       "</table>\n",
       "</div>"
      ],
      "text/plain": [
       "   document_id          views     depth  full_reads_percent\n",
       "0            0   20078.706076  1.165812           38.174704\n",
       "1            1   14811.683772  1.058684           30.163389\n",
       "2            2   14346.062089  1.059364           29.007280\n",
       "3            3   14178.628973  1.059176           36.559478\n",
       "4            4  241883.958788  1.159283           31.517749"
      ]
     },
     "execution_count": 35,
     "metadata": {},
     "output_type": "execute_result"
    }
   ],
   "source": [
    "subm.head()"
   ]
  },
  {
   "cell_type": "code",
   "execution_count": 37,
   "id": "00d26c97-fb11-49b4-940e-ea797b27d29d",
   "metadata": {},
   "outputs": [],
   "source": [
    "subm.to_csv(os.path.join(DIR_SUBM, f'{NTRY}_1_cb_ttls_emd_lags_dp.csv'), index = False)"
   ]
  },
  {
   "cell_type": "code",
   "execution_count": null,
   "id": "381434ea-0954-4ac1-8278-348a674c1a9c",
   "metadata": {},
   "outputs": [],
   "source": []
  },
  {
   "cell_type": "code",
   "execution_count": null,
   "id": "de448a8b-31ef-460b-8358-db43867defd2",
   "metadata": {},
   "outputs": [],
   "source": []
  }
 ],
 "metadata": {
  "kernelspec": {
   "display_name": "Python 3",
   "language": "python",
   "name": "python3"
  },
  "language_info": {
   "codemirror_mode": {
    "name": "ipython",
    "version": 3
   },
   "file_extension": ".py",
   "mimetype": "text/x-python",
   "name": "python",
   "nbconvert_exporter": "python",
   "pygments_lexer": "ipython3",
   "version": "3.7.10"
  }
 },
 "nbformat": 4,
 "nbformat_minor": 5
}
