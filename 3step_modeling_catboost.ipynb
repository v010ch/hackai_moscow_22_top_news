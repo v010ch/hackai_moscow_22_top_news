{
 "cells": [
  {
   "cell_type": "code",
   "execution_count": 1,
   "id": "6f62ec01-36f8-4ffe-b187-0616094602d5",
   "metadata": {},
   "outputs": [],
   "source": [
    "%load_ext watermark"
   ]
  },
  {
   "cell_type": "code",
   "execution_count": 2,
   "id": "fd631481-f748-4610-94f4-a0d9b5bbe4ed",
   "metadata": {},
   "outputs": [
    {
     "name": "stdout",
     "output_type": "stream",
     "text": [
      "Last updated: 2022-07-20T11:51:48.527952+03:00\n",
      "\n",
      "Python implementation: CPython\n",
      "Python version       : 3.7.10\n",
      "IPython version      : 7.22.0\n",
      "\n",
      "Compiler    : MSC v.1916 64 bit (AMD64)\n",
      "OS          : Windows\n",
      "Release     : 10\n",
      "Machine     : AMD64\n",
      "Processor   : Intel64 Family 6 Model 158 Stepping 9, GenuineIntel\n",
      "CPU cores   : 8\n",
      "Architecture: 64bit\n",
      "\n"
     ]
    }
   ],
   "source": [
    "%watermark"
   ]
  },
  {
   "cell_type": "code",
   "execution_count": 3,
   "id": "2f268c90-86ca-4ea1-8a02-3a6b43c450cf",
   "metadata": {},
   "outputs": [],
   "source": [
    "import os\n",
    "import pickle as pkl\n",
    "\n",
    "import numpy as np\n",
    "import pandas as pd\n",
    "\n",
    "from sklearn.metrics import r2_score\n",
    "from sklearn import preprocessing\n",
    "from catboost import CatBoostRegressor, Pool, cv\n",
    "\n",
    "import matplotlib.pyplot as plt\n",
    "import seaborn as sns"
   ]
  },
  {
   "cell_type": "code",
   "execution_count": 4,
   "id": "68c33f68-68f2-4e66-a8c6-4a7ac88eb910",
   "metadata": {},
   "outputs": [
    {
     "name": "stdout",
     "output_type": "stream",
     "text": [
      "cb_version: 0.24.3\n",
      "sklearn_version: 0.24.2\n"
     ]
    }
   ],
   "source": [
    "from catboost import __version__ as cb_version\n",
    "from sklearn import __version__ as sklearn_version\n",
    "\n",
    "print(f'cb_version: {cb_version}')\n",
    "print(f'sklearn_version: {sklearn_version}')"
   ]
  },
  {
   "cell_type": "code",
   "execution_count": 5,
   "id": "21f6a58a-b019-4436-83ec-428714473139",
   "metadata": {},
   "outputs": [
    {
     "name": "stdout",
     "output_type": "stream",
     "text": [
      "sklearn   : 0.24.2\n",
      "pandas    : 0.25.3\n",
      "numpy     : 1.20.3\n",
      "matplotlib: 3.3.4\n",
      "seaborn   : 0.11.1\n",
      "\n"
     ]
    }
   ],
   "source": [
    "%watermark --iversions"
   ]
  },
  {
   "cell_type": "code",
   "execution_count": null,
   "id": "8238fc41-4ff8-45af-832d-8ca6512b8995",
   "metadata": {},
   "outputs": [],
   "source": []
  },
  {
   "cell_type": "code",
   "execution_count": null,
   "id": "fabdb0fa-405c-4649-b004-d353666fef7a",
   "metadata": {},
   "outputs": [],
   "source": []
  },
  {
   "cell_type": "markdown",
   "id": "3f3d5ca4-753b-47f1-801f-02be08c0bc3c",
   "metadata": {},
   "source": [
    "## Reproducibility block"
   ]
  },
  {
   "cell_type": "code",
   "execution_count": 6,
   "id": "8d133278-9bc6-4c5d-b029-bd0c31d6adf1",
   "metadata": {},
   "outputs": [],
   "source": [
    "# seed the RNG for all devices (both CPU and CUDA)\n",
    "#torch.manual_seed(1984)\n",
    "\n",
    "#Disabling the benchmarking feature causes cuDNN to deterministically select an algorithm, \n",
    "#possibly at the cost of reduced performance.\n",
    "#torch.backends.cudnn.benchmark = False\n",
    "\n",
    "# for custom operators,\n",
    "import random\n",
    "random.seed(5986721)\n",
    "\n",
    "# \n",
    "np.random.seed(62185)\n",
    "\n",
    "#sklearn take seed from a line abowe\n",
    "\n",
    "CB_RANDOMSEED = 309487\n",
    "XGB_RANDOMSEED = 56"
   ]
  },
  {
   "cell_type": "code",
   "execution_count": null,
   "id": "9f38ebd5-a020-47eb-b1f4-9ea987afb524",
   "metadata": {},
   "outputs": [],
   "source": []
  },
  {
   "cell_type": "code",
   "execution_count": 7,
   "id": "019813d1-62ae-4b4d-a2f6-c0d74c146413",
   "metadata": {},
   "outputs": [],
   "source": [
    "DIR_DATA   = os.path.join(os.getcwd(), 'data')\n",
    "DIR_MODELS = os.path.join(os.getcwd(), 'models')\n",
    "DIR_SUBM   = os.path.join(os.getcwd(), 'subm')\n",
    "DIR_SUBM_PART = os.path.join(os.getcwd(), 'subm', 'partial')"
   ]
  },
  {
   "cell_type": "code",
   "execution_count": null,
   "id": "0d608686-6d8e-49ad-906b-b20933e0ec2a",
   "metadata": {},
   "outputs": [],
   "source": []
  },
  {
   "cell_type": "code",
   "execution_count": 8,
   "id": "00dcf830-653c-43e2-93a8-a48c90a3a78e",
   "metadata": {},
   "outputs": [],
   "source": [
    "NTRY = 24\n",
    "NAME = f'{NTRY}_cb_pca64_sber_bord_nose_iter_poly'"
   ]
  },
  {
   "cell_type": "code",
   "execution_count": 9,
   "id": "405a66ac-9262-4fce-8189-ee569f79eedf",
   "metadata": {},
   "outputs": [],
   "source": [
    "VIEWS_UKR = 2554204\n",
    "DEPTH_UKR = 1.799\n",
    "FPR_UKR = 4.978"
   ]
  },
  {
   "cell_type": "code",
   "execution_count": null,
   "id": "6aee7533-343d-4346-a598-41e96250d2dc",
   "metadata": {},
   "outputs": [],
   "source": []
  },
  {
   "cell_type": "markdown",
   "id": "ae3e27a3-16bb-456d-b7a1-7975d5f85ea5",
   "metadata": {},
   "source": [
    "## Load data"
   ]
  },
  {
   "cell_type": "code",
   "execution_count": 10,
   "id": "ee296ac9-baf6-4bcb-89ce-5fe99408403d",
   "metadata": {},
   "outputs": [],
   "source": [
    "df_train = pd.read_csv(os.path.join(DIR_DATA, 'train_upd.csv'), index_col= 0)\n",
    "df_test  = pd.read_csv(os.path.join(DIR_DATA, 'test_upd.csv'), index_col= 0)\n",
    "\n",
    "with open(os.path.join(DIR_DATA, 'clmns.pkl'), 'rb') as pickle_file:\n",
    "    clmns = pkl.load(pickle_file)\n"
   ]
  },
  {
   "cell_type": "code",
   "execution_count": 11,
   "id": "b00427ec-ac4f-4da3-8dfb-94871e63072d",
   "metadata": {},
   "outputs": [
    {
     "data": {
      "text/plain": [
       "((6981, 292), (3000, 289))"
      ]
     },
     "execution_count": 11,
     "metadata": {},
     "output_type": "execute_result"
    }
   ],
   "source": [
    "df_train.shape, df_test.shape, "
   ]
  },
  {
   "cell_type": "code",
   "execution_count": null,
   "id": "40e960cf-00f2-45b2-986f-436a8024d0de",
   "metadata": {},
   "outputs": [],
   "source": []
  },
  {
   "cell_type": "code",
   "execution_count": null,
   "id": "3145e466-8172-424b-85ac-ad97439d9913",
   "metadata": {},
   "outputs": [],
   "source": []
  },
  {
   "cell_type": "code",
   "execution_count": 12,
   "id": "c416f029-f4cc-46cf-aa20-c30e664b1cdb",
   "metadata": {},
   "outputs": [
    {
     "name": "stdout",
     "output_type": "stream",
     "text": [
      "['ph_report', 'ph_gallery', 'tv_prog', 'online', 'video', 'infogr']\n",
      "['hour', 'dow', 'day', 'mounth', 'holiday', 'day_before_holiday', 'day_after_holiday', 'distrib_brdr']\n"
     ]
    }
   ],
   "source": [
    "cat_cols = []\n",
    "num_cols = []\n",
    "\n",
    "for el in clmns.keys():\n",
    "    cat_cols.extend(clmns[el]['cat'])\n",
    "    num_cols.extend(clmns[el]['num'])\n",
    "    if len(clmns[el]['both']) != 0:\n",
    "        print(clmns[el]['both'])"
   ]
  },
  {
   "cell_type": "code",
   "execution_count": 13,
   "id": "972bb343-2bb3-4c31-b99f-f9c8331f8b87",
   "metadata": {},
   "outputs": [],
   "source": [
    "num_cols.extend(['hour', 'mounth'])\n",
    "cat_cols.extend(['dow', \n",
    "                 'ph_report', 'ph_gallery', 'tv_prog', 'online', 'video', 'infogr',\n",
    "                 'holiday', 'day_before_holiday', 'day_after_holiday', 'distrib_brdr',\n",
    "                 #'spec_event_1',\n",
    "                ])"
   ]
  },
  {
   "cell_type": "code",
   "execution_count": 14,
   "id": "eec9699d-6702-4a88-9b87-c374c89a9b17",
   "metadata": {},
   "outputs": [],
   "source": [
    "for el in cat_cols:\n",
    "    df_train[el] = df_train[el].astype(str)\n",
    "    df_test[el] = df_test[el].astype(str)"
   ]
  },
  {
   "cell_type": "code",
   "execution_count": null,
   "id": "b77dc32c-95e3-4722-ab02-c8c700dd78df",
   "metadata": {},
   "outputs": [],
   "source": []
  },
  {
   "cell_type": "code",
   "execution_count": 15,
   "id": "da5f4f8d-2ce3-42fc-b01c-9538a7867504",
   "metadata": {},
   "outputs": [],
   "source": [
    "#views\n",
    "train_views_full = Pool(df_train[cat_cols + num_cols],\n",
    "                      df_train[['views']],\n",
    "                      cat_features = cat_cols,\n",
    "                      #feature_names = cat_cols + num_cols\n",
    "                     )\n",
    "\n",
    "#depth\n",
    "train_depth_full = Pool(df_train[cat_cols + num_cols],\n",
    "                      df_train[['depth']],\n",
    "                      cat_features = cat_cols,\n",
    "                      #feature_names = cat_cols + num_cols\n",
    "                     )\n",
    "\n",
    "#frp\n",
    "train_frp_full = Pool(df_train[cat_cols + num_cols],\n",
    "                      df_train[['full_reads_percent']],\n",
    "                      cat_features = cat_cols,\n",
    "                      #feature_names = cat_cols + num_cols\n",
    "                     )\n",
    "\n",
    "#full_reads_percent\n",
    "#у frp корреляция с depth. так что добавим признак deprh_pred и соберем датасет уже после предсказания depth"
   ]
  },
  {
   "cell_type": "code",
   "execution_count": null,
   "id": "12ae502e-4ce4-4f6e-947f-4f6f5942584a",
   "metadata": {},
   "outputs": [],
   "source": []
  },
  {
   "cell_type": "code",
   "execution_count": 16,
   "id": "41e5514e-1f39-4fd8-bee0-98c9b705dda5",
   "metadata": {},
   "outputs": [],
   "source": [
    "def plot_feature_importance2(inp_model, inp_pool, imp_number = 30):\n",
    "    \n",
    "    data = pd.DataFrame({'feature_importance': inp_model.get_feature_importance(inp_pool), \n",
    "              'feature_names': inp_pool.get_feature_names()}).sort_values(by=['feature_importance'], \n",
    "                                                       ascending=True)\n",
    "    \n",
    "    data.nlargest(imp_number, columns=\"feature_importance\").plot(kind='barh', figsize = (30,16)) ## plot top 40 features"
   ]
  },
  {
   "cell_type": "code",
   "execution_count": 17,
   "id": "55711d60-6520-4f9c-af95-e2c0624d270c",
   "metadata": {},
   "outputs": [],
   "source": [
    "def plot_feature_importance(importance,names,model_type, imp_number = 30):\n",
    "    \n",
    "    #Create arrays from feature importance and feature names\n",
    "    feature_importance = np.array(importance)\n",
    "    feature_names = np.array(names)\n",
    "    \n",
    "    #Create a DataFrame using a Dictionary\n",
    "    data={'feature_names':feature_names,'feature_importance':feature_importance}\n",
    "    fi_df = pd.DataFrame(data)\n",
    "    \n",
    "    #Sort the DataFrame in order decreasing feature importance\n",
    "    fi_df.sort_values(by=['feature_importance'], ascending=False,inplace=True)\n",
    "    \n",
    "    #Define size of bar plot\n",
    "    plt.figure(figsize=(10,8))\n",
    "    #Plot Searborn bar chart\n",
    "    sns.barplot(x=fi_df['feature_importance'][:imp_number], y=fi_df['feature_names'][:imp_number])\n",
    "    #Add chart labels\n",
    "    plt.title(model_type + 'FEATURE IMPORTANCE')\n",
    "    plt.xlabel('FEATURE IMPORTANCE')\n",
    "    plt.ylabel('FEATURE NAMES')"
   ]
  },
  {
   "cell_type": "code",
   "execution_count": null,
   "id": "4c0f79ca-2997-443a-ab51-de4e53217939",
   "metadata": {},
   "outputs": [],
   "source": []
  },
  {
   "cell_type": "markdown",
   "id": "668fd48f-3112-40a7-a453-d4f159ef4877",
   "metadata": {},
   "source": [
    "## views"
   ]
  },
  {
   "cell_type": "code",
   "execution_count": 18,
   "id": "2489ac5a-4d21-4544-be84-ac5f7ba86c57",
   "metadata": {},
   "outputs": [],
   "source": [
    "cb_params_views = {\"iterations\": 100,\n",
    "                  #\"depth\": 2,\n",
    "                  \"loss_function\": \"RMSE\",\n",
    "                  'eval_metric': 'R2',\n",
    "                  \"verbose\": False\n",
    "                  }"
   ]
  },
  {
   "cell_type": "code",
   "execution_count": 19,
   "id": "b70dc05f-0165-452e-ab7c-7fa33f07bcd0",
   "metadata": {},
   "outputs": [
    {
     "name": "stdout",
     "output_type": "stream",
     "text": [
      "Wall time: 2min 9s\n"
     ]
    }
   ],
   "source": [
    "%%time\n",
    "scores_views = cv(train_views_full,\n",
    "                  cb_params_views,\n",
    "                  fold_count=5,\n",
    "                  seed = CB_RANDOMSEED, \n",
    "                  #plot=\"True\"\n",
    "                 )"
   ]
  },
  {
   "cell_type": "code",
   "execution_count": 20,
   "id": "8cf4bc60-8ca3-461a-865f-7c312e83e6ba",
   "metadata": {},
   "outputs": [],
   "source": [
    "#scores_views"
   ]
  },
  {
   "cell_type": "code",
   "execution_count": 52,
   "id": "495054be-68d9-4240-914f-e260e51c9081",
   "metadata": {},
   "outputs": [],
   "source": [
    "if scores_views['test-RMSE-mean'].argmin() != scores_views['test-R2-mean'].argmax():\n",
    "    raise ValueError('wtf?', scores_views['test-RMSE-mean'].argmin(), scores_views['test-R2-mean'].argmax())"
   ]
  },
  {
   "cell_type": "code",
   "execution_count": 22,
   "id": "35b0a3d9-a410-425a-a5d4-f31004706c5c",
   "metadata": {},
   "outputs": [
    {
     "data": {
      "text/html": [
       "<div>\n",
       "<style scoped>\n",
       "    .dataframe tbody tr th:only-of-type {\n",
       "        vertical-align: middle;\n",
       "    }\n",
       "\n",
       "    .dataframe tbody tr th {\n",
       "        vertical-align: top;\n",
       "    }\n",
       "\n",
       "    .dataframe thead th {\n",
       "        text-align: right;\n",
       "    }\n",
       "</style>\n",
       "<table border=\"1\" class=\"dataframe\">\n",
       "  <thead>\n",
       "    <tr style=\"text-align: right;\">\n",
       "      <th></th>\n",
       "      <th>iterations</th>\n",
       "      <th>test-R2-mean</th>\n",
       "      <th>test-R2-std</th>\n",
       "      <th>train-R2-mean</th>\n",
       "      <th>train-R2-std</th>\n",
       "      <th>test-RMSE-mean</th>\n",
       "      <th>test-RMSE-std</th>\n",
       "      <th>train-RMSE-mean</th>\n",
       "      <th>train-RMSE-std</th>\n",
       "    </tr>\n",
       "  </thead>\n",
       "  <tbody>\n",
       "    <tr>\n",
       "      <th>99</th>\n",
       "      <td>99</td>\n",
       "      <td>0.487575</td>\n",
       "      <td>0.076982</td>\n",
       "      <td>0.660354</td>\n",
       "      <td>0.010815</td>\n",
       "      <td>42671.693769</td>\n",
       "      <td>14002.351624</td>\n",
       "      <td>35193.036169</td>\n",
       "      <td>2693.651339</td>\n",
       "    </tr>\n",
       "  </tbody>\n",
       "</table>\n",
       "</div>"
      ],
      "text/plain": [
       "    iterations  test-R2-mean  test-R2-std  train-R2-mean  train-R2-std  \\\n",
       "99          99      0.487575     0.076982       0.660354      0.010815   \n",
       "\n",
       "    test-RMSE-mean  test-RMSE-std  train-RMSE-mean  train-RMSE-std  \n",
       "99    42671.693769   14002.351624     35193.036169     2693.651339  "
      ]
     },
     "execution_count": 22,
     "metadata": {},
     "output_type": "execute_result"
    }
   ],
   "source": [
    "scores_views[scores_views['test-R2-mean'] == scores_views['test-R2-mean'].max()]\n",
    "#@ores_views.iloc[scores_views['test-R2-mean'].argmax()]"
   ]
  },
  {
   "cell_type": "raw",
   "id": "871969ff-7643-4840-bb32-c48e8956c757",
   "metadata": {},
   "source": [
    "996\t996\t0.592591\t0.095643\t0.952982\t0.004997\t38079.381052\t13904.016339\t13045.641422\t600.200488"
   ]
  },
  {
   "cell_type": "code",
   "execution_count": null,
   "id": "df096968-412c-4425-ab0e-8d3ca1746141",
   "metadata": {},
   "outputs": [],
   "source": []
  },
  {
   "cell_type": "code",
   "execution_count": 23,
   "id": "95a9b926-f057-4f12-9513-66c068e69ef5",
   "metadata": {},
   "outputs": [
    {
     "name": "stdout",
     "output_type": "stream",
     "text": [
      "99\n"
     ]
    }
   ],
   "source": [
    "views_iter = scores_views['test-R2-mean'].argmax()\n",
    "print(views_iter)"
   ]
  },
  {
   "cell_type": "code",
   "execution_count": 24,
   "id": "37fb9d99-b182-4aae-85ba-24ff91dfbe33",
   "metadata": {},
   "outputs": [
    {
     "name": "stdout",
     "output_type": "stream",
     "text": [
      "Learning rate set to 0.319842\n",
      "0:\tlearn: 53788.0266729\ttotal: 38.4ms\tremaining: 3.77s\n",
      "98:\tlearn: 14712.8652346\ttotal: 3.55s\tremaining: 0us\n"
     ]
    },
    {
     "data": {
      "text/plain": [
       "<catboost.core.CatBoostRegressor at 0x2306bc54908>"
      ]
     },
     "execution_count": 24,
     "metadata": {},
     "output_type": "execute_result"
    }
   ],
   "source": [
    "cb_model_views = CatBoostRegressor(iterations=views_iter,\n",
    "                                 #learning_rate=0.05,\n",
    "                                 #depth=10,\n",
    "                                 random_seed = CB_RANDOMSEED,\n",
    "                                 #n_estimators=100,\n",
    "                                  )\n",
    "# Fit model\n",
    "cb_model_views.fit(train_views_full,\n",
    "                  #plot = True,\n",
    "                   verbose = 100,\n",
    "                  )"
   ]
  },
  {
   "cell_type": "code",
   "execution_count": 25,
   "id": "706be592-2cd3-4db9-9e9d-7b71af1277c0",
   "metadata": {},
   "outputs": [
    {
     "data": {
      "image/png": "[encoded data removed]",
      "text/plain": [
       "<Figure size 720x576 with 1 Axes>"
      ]
     },
     "metadata": {
      "needs_background": "light"
     },
     "output_type": "display_data"
    }
   ],
   "source": [
    "#plot_feature_importance(cb_model_views, train_ds_views, 30)\n",
    "plot_feature_importance(cb_model_views.get_feature_importance(), train_views_full.get_feature_names(), 'CATBOOST')"
   ]
  },
  {
   "cell_type": "code",
   "execution_count": null,
   "id": "57d15d8a-e96a-436f-9908-bb3efc30c1f7",
   "metadata": {},
   "outputs": [],
   "source": []
  },
  {
   "cell_type": "markdown",
   "id": "a3cac29b-566d-4c8b-9cf7-9ef84a7261d2",
   "metadata": {},
   "source": [
    "## depth"
   ]
  },
  {
   "cell_type": "code",
   "execution_count": 26,
   "id": "a2b00f32-c094-4b91-ae51-c30fe20cf7cf",
   "metadata": {},
   "outputs": [],
   "source": [
    "cb_params_depth = cb_params_views"
   ]
  },
  {
   "cell_type": "code",
   "execution_count": 27,
   "id": "9770f82e-ee75-48b7-9e7a-42e454460756",
   "metadata": {},
   "outputs": [
    {
     "name": "stdout",
     "output_type": "stream",
     "text": [
      "Wall time: 2min 10s\n"
     ]
    }
   ],
   "source": [
    "%%time\n",
    "scores_depth = cv(train_depth_full,\n",
    "                  cb_params_depth,\n",
    "                  fold_count=5,\n",
    "                  seed = CB_RANDOMSEED, \n",
    "                  #plot=\"True\"\n",
    "                 )"
   ]
  },
  {
   "cell_type": "code",
   "execution_count": 49,
   "id": "4ba3a286-c02c-4aea-bed1-460e756aea6d",
   "metadata": {},
   "outputs": [],
   "source": [
    "if scores_depth['test-RMSE-mean'].argmin() != scores_depth['test-R2-mean'].argmax():\n",
    "    raise ValueError('wtf?', scores_depth['test-RMSE-mean'].argmin(), scores_depth['test-R2-mean'].argmax())"
   ]
  },
  {
   "cell_type": "code",
   "execution_count": 29,
   "id": "2a8dcf9a-bae5-40b6-9d18-d7a4310b7a3b",
   "metadata": {},
   "outputs": [
    {
     "data": {
      "text/html": [
       "<div>\n",
       "<style scoped>\n",
       "    .dataframe tbody tr th:only-of-type {\n",
       "        vertical-align: middle;\n",
       "    }\n",
       "\n",
       "    .dataframe tbody tr th {\n",
       "        vertical-align: top;\n",
       "    }\n",
       "\n",
       "    .dataframe thead th {\n",
       "        text-align: right;\n",
       "    }\n",
       "</style>\n",
       "<table border=\"1\" class=\"dataframe\">\n",
       "  <thead>\n",
       "    <tr style=\"text-align: right;\">\n",
       "      <th></th>\n",
       "      <th>iterations</th>\n",
       "      <th>test-R2-mean</th>\n",
       "      <th>test-R2-std</th>\n",
       "      <th>train-R2-mean</th>\n",
       "      <th>train-R2-std</th>\n",
       "      <th>test-RMSE-mean</th>\n",
       "      <th>test-RMSE-std</th>\n",
       "      <th>train-RMSE-mean</th>\n",
       "      <th>train-RMSE-std</th>\n",
       "    </tr>\n",
       "  </thead>\n",
       "  <tbody>\n",
       "    <tr>\n",
       "      <th>99</th>\n",
       "      <td>99</td>\n",
       "      <td>-0.265</td>\n",
       "      <td>0.019129</td>\n",
       "      <td>-0.192406</td>\n",
       "      <td>0.013376</td>\n",
       "      <td>0.069446</td>\n",
       "      <td>0.002758</td>\n",
       "      <td>0.067472</td>\n",
       "      <td>0.000254</td>\n",
       "    </tr>\n",
       "  </tbody>\n",
       "</table>\n",
       "</div>"
      ],
      "text/plain": [
       "    iterations  test-R2-mean  test-R2-std  train-R2-mean  train-R2-std  \\\n",
       "99          99        -0.265     0.019129      -0.192406      0.013376   \n",
       "\n",
       "    test-RMSE-mean  test-RMSE-std  train-RMSE-mean  train-RMSE-std  \n",
       "99        0.069446       0.002758         0.067472        0.000254  "
      ]
     },
     "execution_count": 29,
     "metadata": {},
     "output_type": "execute_result"
    }
   ],
   "source": [
    "scores_depth[scores_depth['test-R2-mean'] == scores_depth['test-R2-mean'].max()]\n",
    "#scores_depth.iloc[scores_depth['test-R2-mean'].argmax()]"
   ]
  },
  {
   "cell_type": "raw",
   "id": "44d68072-9fae-4323-944a-787f75308e65",
   "metadata": {},
   "source": [
    "998\t998\t0.802018\t0.017199\t0.938263\t0.00201\t0.027449\t0.001461\t0.015352\t0.000314"
   ]
  },
  {
   "cell_type": "code",
   "execution_count": 30,
   "id": "a47e3e0d-f072-4e3f-b4a2-c263802c648f",
   "metadata": {},
   "outputs": [
    {
     "name": "stdout",
     "output_type": "stream",
     "text": [
      "99\n"
     ]
    }
   ],
   "source": [
    "depth_iter =  scores_depth['test-R2-mean'].argmax()\n",
    "print(depth_iter)"
   ]
  },
  {
   "cell_type": "code",
   "execution_count": 31,
   "id": "e9948b36-a6f3-4bec-bbb2-402d5186ef4e",
   "metadata": {},
   "outputs": [
    {
     "name": "stdout",
     "output_type": "stream",
     "text": [
      "Learning rate set to 0.319842\n",
      "0:\tlearn: 0.0483957\ttotal: 34.7ms\tremaining: 3.4s\n",
      "98:\tlearn: 0.0153846\ttotal: 3.83s\tremaining: 0us\n"
     ]
    },
    {
     "data": {
      "text/plain": [
       "<catboost.core.CatBoostRegressor at 0x23070618088>"
      ]
     },
     "execution_count": 31,
     "metadata": {},
     "output_type": "execute_result"
    }
   ],
   "source": [
    "cb_model_depth = CatBoostRegressor(iterations=depth_iter,\n",
    "                                 #learning_rate=0.05,\n",
    "                                 #depth=10,\n",
    "                                 random_seed = CB_RANDOMSEED,\n",
    "                                 #n_estimators=100,\n",
    "                                  )\n",
    "# Fit model\n",
    "cb_model_depth.fit(train_depth_full,\n",
    "                   #plot = True,\n",
    "                   verbose = 100,\n",
    "                  )"
   ]
  },
  {
   "cell_type": "code",
   "execution_count": 32,
   "id": "a37608db-f13d-45fc-9f3f-dd430a6f0839",
   "metadata": {},
   "outputs": [
    {
     "data": {
      "image/png": "[encoded data removed]",
      "text/plain": [
       "<Figure size 720x576 with 1 Axes>"
      ]
     },
     "metadata": {
      "needs_background": "light"
     },
     "output_type": "display_data"
    }
   ],
   "source": [
    "#plot_feature_importance(cb_model_views, train_ds_views, 30)\n",
    "plot_feature_importance(cb_model_depth.get_feature_importance(), train_depth_full.get_feature_names(), 'CATBOOST')"
   ]
  },
  {
   "cell_type": "code",
   "execution_count": null,
   "id": "5eaabd43-32cd-42df-9c8f-a88c7c8cfe3c",
   "metadata": {},
   "outputs": [],
   "source": []
  },
  {
   "cell_type": "markdown",
   "id": "fafdf6ea-9687-472f-ab6e-86125f5dc7eb",
   "metadata": {},
   "source": [
    "## full_reads_percent"
   ]
  },
  {
   "cell_type": "code",
   "execution_count": 33,
   "id": "d9d8a013-9537-4797-9cf6-b26bc9f6e5e3",
   "metadata": {},
   "outputs": [],
   "source": [
    "cb_params_frp = cb_params_views"
   ]
  },
  {
   "cell_type": "code",
   "execution_count": 34,
   "id": "86381a30-5902-4bcd-a14f-7de3fb719967",
   "metadata": {},
   "outputs": [
    {
     "name": "stdout",
     "output_type": "stream",
     "text": [
      "Wall time: 2min 9s\n"
     ]
    }
   ],
   "source": [
    "%%time\n",
    "scores_frp = cv(train_frp_full,\n",
    "                  cb_params_frp,\n",
    "                  fold_count=5,\n",
    "                  seed = CB_RANDOMSEED, \n",
    "                  #plot=\"True\"\n",
    "                 )"
   ]
  },
  {
   "cell_type": "code",
   "execution_count": 36,
   "id": "44728e1f-5389-471d-8eab-7aa39424f8e0",
   "metadata": {},
   "outputs": [],
   "source": [
    "if scores_frp['test-RMSE-mean'].argmin() != scores_frp['test-R2-mean'].argmax():\n",
    "    raise ValueError('wtf?', scores_frp['test-RMSE-mean'].argmin(), scores_frp['test-R2-mean'].argmax())"
   ]
  },
  {
   "cell_type": "code",
   "execution_count": 37,
   "id": "d75bd577-a9c0-4cbb-b613-adc968e6198b",
   "metadata": {},
   "outputs": [
    {
     "data": {
      "text/html": [
       "<div>\n",
       "<style scoped>\n",
       "    .dataframe tbody tr th:only-of-type {\n",
       "        vertical-align: middle;\n",
       "    }\n",
       "\n",
       "    .dataframe tbody tr th {\n",
       "        vertical-align: top;\n",
       "    }\n",
       "\n",
       "    .dataframe thead th {\n",
       "        text-align: right;\n",
       "    }\n",
       "</style>\n",
       "<table border=\"1\" class=\"dataframe\">\n",
       "  <thead>\n",
       "    <tr style=\"text-align: right;\">\n",
       "      <th></th>\n",
       "      <th>iterations</th>\n",
       "      <th>test-R2-mean</th>\n",
       "      <th>test-R2-std</th>\n",
       "      <th>train-R2-mean</th>\n",
       "      <th>train-R2-std</th>\n",
       "      <th>test-RMSE-mean</th>\n",
       "      <th>test-RMSE-std</th>\n",
       "      <th>train-RMSE-mean</th>\n",
       "      <th>train-RMSE-std</th>\n",
       "    </tr>\n",
       "  </thead>\n",
       "  <tbody>\n",
       "    <tr>\n",
       "      <th>99</th>\n",
       "      <td>99</td>\n",
       "      <td>0.439756</td>\n",
       "      <td>0.016117</td>\n",
       "      <td>0.469026</td>\n",
       "      <td>0.004297</td>\n",
       "      <td>7.586034</td>\n",
       "      <td>0.232034</td>\n",
       "      <td>7.390794</td>\n",
       "      <td>0.029972</td>\n",
       "    </tr>\n",
       "  </tbody>\n",
       "</table>\n",
       "</div>"
      ],
      "text/plain": [
       "    iterations  test-R2-mean  test-R2-std  train-R2-mean  train-R2-std  \\\n",
       "99          99      0.439756     0.016117       0.469026      0.004297   \n",
       "\n",
       "    test-RMSE-mean  test-RMSE-std  train-RMSE-mean  train-RMSE-std  \n",
       "99        7.586034       0.232034         7.390794        0.029972  "
      ]
     },
     "execution_count": 37,
     "metadata": {},
     "output_type": "execute_result"
    }
   ],
   "source": [
    "scores_frp[scores_frp['test-R2-mean'] == scores_frp['test-R2-mean'].max()]\n",
    "#scores_frp.iloc[scores_frp['test-R2-mean'].argmax()]"
   ]
  },
  {
   "cell_type": "raw",
   "id": "8cbb21db-f5de-4b8a-bc4f-53dd14afa991",
   "metadata": {},
   "source": [
    "999\t999\t0.579495\t0.008608\t0.820714\t0.003633\t6.572665\t0.196964\t4.294636\t0.058588"
   ]
  },
  {
   "cell_type": "code",
   "execution_count": 38,
   "id": "9247b021-9e07-4373-8ccf-232d4f963c5e",
   "metadata": {},
   "outputs": [
    {
     "name": "stdout",
     "output_type": "stream",
     "text": [
      "99\n"
     ]
    }
   ],
   "source": [
    "frp_iter = scores_frp['test-R2-mean'].argmax()\n",
    "print(frp_iter)"
   ]
  },
  {
   "cell_type": "code",
   "execution_count": 39,
   "id": "7745c438-06e9-477e-ac52-37017039f9c4",
   "metadata": {},
   "outputs": [
    {
     "name": "stdout",
     "output_type": "stream",
     "text": [
      "Learning rate set to 0.319842\n",
      "0:\tlearn: 8.8570007\ttotal: 46.5ms\tremaining: 4.55s\n",
      "98:\tlearn: 4.5546316\ttotal: 3.58s\tremaining: 0us\n"
     ]
    },
    {
     "data": {
      "text/plain": [
       "<catboost.core.CatBoostRegressor at 0x2307053c308>"
      ]
     },
     "execution_count": 39,
     "metadata": {},
     "output_type": "execute_result"
    }
   ],
   "source": [
    "cb_model_frp = CatBoostRegressor(iterations=frp_iter,\n",
    "                                 #learning_rate=0.05,\n",
    "                                 #depth=10,\n",
    "                                 random_seed = CB_RANDOMSEED,\n",
    "                                 #n_estimators=100,\n",
    "    #num_trees=None,\n",
    "                                )\n",
    "# Fit model\n",
    "cb_model_frp.fit(train_frp_full,#train_ds_frp,\n",
    "                   #eval_set=val_ds_frp, \n",
    "                   #plot = True,\n",
    "                 verbose = 100,\n",
    "                  )"
   ]
  },
  {
   "cell_type": "code",
   "execution_count": 40,
   "id": "0921f52a-f376-4e01-bf22-958db46977c7",
   "metadata": {},
   "outputs": [
    {
     "data": {
      "image/png": "[encoded data removed]",
      "text/plain": [
       "<Figure size 720x576 with 1 Axes>"
      ]
     },
     "metadata": {
      "needs_background": "light"
     },
     "output_type": "display_data"
    }
   ],
   "source": [
    "#plot_feature_importance(cb_model_views, train_ds_views, 30)\n",
    "plot_feature_importance(cb_model_frp.get_feature_importance(), train_frp_full.get_feature_names(), 'CATBOOST')"
   ]
  },
  {
   "cell_type": "code",
   "execution_count": null,
   "id": "be50fe97-02cb-48bb-beb5-c100041aa1f0",
   "metadata": {},
   "outputs": [],
   "source": []
  },
  {
   "cell_type": "code",
   "execution_count": null,
   "id": "23391983-198d-4fea-8c34-7915e8ea2819",
   "metadata": {},
   "outputs": [],
   "source": []
  },
  {
   "cell_type": "markdown",
   "id": "551ccadd-2762-4df3-8719-2b04118093ce",
   "metadata": {},
   "source": [
    "## Сохраняем предсказания для ансамблей / стекинга"
   ]
  },
  {
   "cell_type": "raw",
   "id": "fc6c30d3-72ff-4b6b-ab78-0abb1a92623a",
   "metadata": {},
   "source": [
    "x_train_pred = x_train[['document_id']]\n",
    "x_val_pred   = x_val[['document_id']]\n",
    "\n",
    "print('before ', x_train_pred.shape, preds_train_views.shape, preds_train_depth.shape, preds_train_frp.shape)\n",
    "print('before ', x_val_pred.shape,   preds_val_views.shape,   preds_val_depth.shape,   preds_val_frp.shape)\n",
    "\n",
    "# https://github.com/pandas-dev/pandas/issues/25349\n",
    "x_train_pred = pd.concat([x_train_pred.reset_index(drop=True), \n",
    "                          pd.DataFrame(preds_train_views).reset_index(drop = True), \n",
    "                          pd.DataFrame(preds_train_depth).reset_index(drop = True), \n",
    "                          pd.DataFrame(preds_train_frp).reset_index(drop = True)\n",
    "                         ], ignore_index = True, axis = 1)\n",
    "x_val_pred   = pd.concat([x_val_pred.reset_index(drop=True),   \n",
    "                          pd.DataFrame(preds_val_views).reset_index(drop = True), \n",
    "                          pd.DataFrame(preds_val_depth).reset_index(drop = True), \n",
    "                          pd.DataFrame(preds_val_frp).reset_index(drop = True)\n",
    "                         ], ignore_index = True, axis = 1)\n",
    "\n",
    "x_train_pred.columns = ['document_id', 'views_pred_cb', 'depth_pred_cb', 'frp_pred_cb']\n",
    "x_val_pred.columns   = ['document_id', 'views_pred_cb', 'depth_pred_cb', 'frp_pred_cb']\n",
    "\n",
    "print('after ', x_train_pred.shape)\n",
    "print('after ', x_val_pred.shape)\n",
    "\n",
    "x_train_pred.to_csv(os.path.join(DIR_SUBM_PART, f'{NAME}_train_part.csv'), index = False)\n",
    "x_val_pred.to_csv(os.path.join(DIR_SUBM_PART, f'{NAME}_val_part.csv'), index = False)"
   ]
  },
  {
   "cell_type": "code",
   "execution_count": null,
   "id": "381dce61-ab9a-45f9-934a-3cb80c94d115",
   "metadata": {},
   "outputs": [],
   "source": []
  },
  {
   "cell_type": "code",
   "execution_count": null,
   "id": "066f6b7b-c8f0-46d7-9cd2-ae5944cc7b27",
   "metadata": {},
   "outputs": [],
   "source": []
  },
  {
   "cell_type": "code",
   "execution_count": null,
   "id": "c3d0c887-53ce-4db0-99a9-4732421f2173",
   "metadata": {},
   "outputs": [],
   "source": []
  },
  {
   "cell_type": "markdown",
   "id": "81b7d454-37b6-45ee-94fb-99af0fe23ae5",
   "metadata": {},
   "source": [
    "## save models"
   ]
  },
  {
   "cell_type": "code",
   "execution_count": null,
   "id": "aa4adde3-b017-4cea-9ae8-fc7cea77bab1",
   "metadata": {},
   "outputs": [],
   "source": []
  },
  {
   "cell_type": "code",
   "execution_count": 41,
   "id": "75aa11de-71cb-47a7-9e22-2857f7f7e643",
   "metadata": {},
   "outputs": [],
   "source": [
    "#cb_model_views.save_model(os.path.join(DIR_MODELS, f'{NTRY}_pca64_cb_views.cbm'), \n",
    "cb_model_views.save_model(os.path.join(DIR_MODELS, f'{NAME}_v.cbm'), \n",
    "                           format=\"cbm\",\n",
    "                           export_parameters=None,\n",
    "                           pool=None\n",
    "                         )\n",
    "\n",
    "cb_model_depth.save_model(os.path.join(DIR_MODELS, f'{NAME}_d.cbm'), \n",
    "                           format=\"cbm\",\n",
    "                           export_parameters=None,\n",
    "                           pool=None\n",
    "                         )\n",
    "\n",
    "cb_model_frp.save_model(os.path.join(DIR_MODELS, f'{NAME}_f.cbm'), \n",
    "                           format=\"cbm\",\n",
    "                           export_parameters=None,\n",
    "                           pool=None\n",
    "                         )"
   ]
  },
  {
   "cell_type": "code",
   "execution_count": null,
   "id": "102c6530-8a1b-4c1c-a1d3-e9d95e350220",
   "metadata": {},
   "outputs": [],
   "source": []
  },
  {
   "cell_type": "code",
   "execution_count": null,
   "id": "70604fe7-79ce-48b3-88fe-cf67ecb6e354",
   "metadata": {},
   "outputs": [],
   "source": []
  },
  {
   "cell_type": "code",
   "execution_count": null,
   "id": "734dd8d2-27f5-4962-a597-fc2a775ff088",
   "metadata": {},
   "outputs": [],
   "source": []
  },
  {
   "cell_type": "markdown",
   "id": "ac604b78-2718-408d-8d19-5b202d3f5a19",
   "metadata": {},
   "source": [
    "## make predict"
   ]
  },
  {
   "cell_type": "code",
   "execution_count": 42,
   "id": "df8e4305-28ed-444f-8325-e6460f7d2271",
   "metadata": {},
   "outputs": [],
   "source": [
    "pred_views = cb_model_views.predict(df_test[cat_cols + num_cols])\n",
    "pred_depth = cb_model_depth.predict(df_test[cat_cols + num_cols])\n",
    "pred_frp   = cb_model_frp.predict(  df_test[cat_cols + num_cols])"
   ]
  },
  {
   "cell_type": "code",
   "execution_count": 43,
   "id": "f422300e-24cf-435a-af11-a450f4f10393",
   "metadata": {},
   "outputs": [],
   "source": [
    "subm = pd.DataFrame()\n",
    "subm['document_id'] = df_test.document_id\n",
    "\n",
    "subm['views'] = pred_views\n",
    "subm['depth'] = pred_depth\n",
    "subm['full_reads_percent'] = pred_frp"
   ]
  },
  {
   "cell_type": "code",
   "execution_count": 44,
   "id": "0b45eb99-3913-44a7-b4e6-f0c49e38e890",
   "metadata": {},
   "outputs": [
    {
     "data": {
      "text/html": [
       "<div>\n",
       "<style scoped>\n",
       "    .dataframe tbody tr th:only-of-type {\n",
       "        vertical-align: middle;\n",
       "    }\n",
       "\n",
       "    .dataframe tbody tr th {\n",
       "        vertical-align: top;\n",
       "    }\n",
       "\n",
       "    .dataframe thead th {\n",
       "        text-align: right;\n",
       "    }\n",
       "</style>\n",
       "<table border=\"1\" class=\"dataframe\">\n",
       "  <thead>\n",
       "    <tr style=\"text-align: right;\">\n",
       "      <th></th>\n",
       "      <th>views</th>\n",
       "      <th>depth</th>\n",
       "      <th>full_reads_percent</th>\n",
       "    </tr>\n",
       "  </thead>\n",
       "  <tbody>\n",
       "    <tr>\n",
       "      <th>945</th>\n",
       "      <td>70847.173068</td>\n",
       "      <td>1.043081</td>\n",
       "      <td>16.334374</td>\n",
       "    </tr>\n",
       "    <tr>\n",
       "      <th>1440</th>\n",
       "      <td>183803.425967</td>\n",
       "      <td>1.157772</td>\n",
       "      <td>27.326337</td>\n",
       "    </tr>\n",
       "    <tr>\n",
       "      <th>2645</th>\n",
       "      <td>178952.300773</td>\n",
       "      <td>1.173345</td>\n",
       "      <td>28.753270</td>\n",
       "    </tr>\n",
       "  </tbody>\n",
       "</table>\n",
       "</div>"
      ],
      "text/plain": [
       "              views     depth  full_reads_percent\n",
       "945    70847.173068  1.043081           16.334374\n",
       "1440  183803.425967  1.157772           27.326337\n",
       "2645  178952.300773  1.173345           28.753270"
      ]
     },
     "execution_count": 44,
     "metadata": {},
     "output_type": "execute_result"
    }
   ],
   "source": [
    "doc_id_ukr = df_test[df_test.spec == 1].document_id.values\n",
    "subm.query('document_id in @doc_id_ukr')[['views', 'depth', 'full_reads_percent']]"
   ]
  },
  {
   "cell_type": "code",
   "execution_count": 45,
   "id": "43db487b-0209-4e2b-8ee0-1f33b2727552",
   "metadata": {},
   "outputs": [
    {
     "data": {
      "text/html": [
       "<div>\n",
       "<style scoped>\n",
       "    .dataframe tbody tr th:only-of-type {\n",
       "        vertical-align: middle;\n",
       "    }\n",
       "\n",
       "    .dataframe tbody tr th {\n",
       "        vertical-align: top;\n",
       "    }\n",
       "\n",
       "    .dataframe thead th {\n",
       "        text-align: right;\n",
       "    }\n",
       "</style>\n",
       "<table border=\"1\" class=\"dataframe\">\n",
       "  <thead>\n",
       "    <tr style=\"text-align: right;\">\n",
       "      <th></th>\n",
       "      <th>views</th>\n",
       "      <th>depth</th>\n",
       "      <th>full_reads_percent</th>\n",
       "    </tr>\n",
       "  </thead>\n",
       "  <tbody>\n",
       "    <tr>\n",
       "      <th>945</th>\n",
       "      <td>2554204.0</td>\n",
       "      <td>1.799</td>\n",
       "      <td>4.978</td>\n",
       "    </tr>\n",
       "    <tr>\n",
       "      <th>1440</th>\n",
       "      <td>2554204.0</td>\n",
       "      <td>1.799</td>\n",
       "      <td>4.978</td>\n",
       "    </tr>\n",
       "    <tr>\n",
       "      <th>2645</th>\n",
       "      <td>2554204.0</td>\n",
       "      <td>1.799</td>\n",
       "      <td>4.978</td>\n",
       "    </tr>\n",
       "  </tbody>\n",
       "</table>\n",
       "</div>"
      ],
      "text/plain": [
       "          views  depth  full_reads_percent\n",
       "945   2554204.0  1.799               4.978\n",
       "1440  2554204.0  1.799               4.978\n",
       "2645  2554204.0  1.799               4.978"
      ]
     },
     "execution_count": 45,
     "metadata": {},
     "output_type": "execute_result"
    }
   ],
   "source": [
    "# присваиваем статичные данные\n",
    "subm.loc[subm.query('document_id in @doc_id_ukr').index, 'views'] = VIEWS_UKR\n",
    "subm.loc[subm.query('document_id in @doc_id_ukr').index, 'depth'] = DEPTH_UKR\n",
    "subm.loc[subm.query('document_id in @doc_id_ukr').index, 'full_reads_percent'] = FPR_UKR\n",
    "\n",
    "subm.query('document_id in @doc_id_ukr')[['views', 'depth', 'full_reads_percent']]"
   ]
  },
  {
   "cell_type": "code",
   "execution_count": null,
   "id": "09b08a77-113c-45bb-ac28-55fef5f523b0",
   "metadata": {},
   "outputs": [],
   "source": []
  },
  {
   "cell_type": "code",
   "execution_count": 46,
   "id": "37fa65e1-c702-4764-8f84-eb93b80c73f8",
   "metadata": {},
   "outputs": [
    {
     "data": {
      "text/html": [
       "<div>\n",
       "<style scoped>\n",
       "    .dataframe tbody tr th:only-of-type {\n",
       "        vertical-align: middle;\n",
       "    }\n",
       "\n",
       "    .dataframe tbody tr th {\n",
       "        vertical-align: top;\n",
       "    }\n",
       "\n",
       "    .dataframe thead th {\n",
       "        text-align: right;\n",
       "    }\n",
       "</style>\n",
       "<table border=\"1\" class=\"dataframe\">\n",
       "  <thead>\n",
       "    <tr style=\"text-align: right;\">\n",
       "      <th></th>\n",
       "      <th>document_id</th>\n",
       "      <th>views</th>\n",
       "      <th>depth</th>\n",
       "      <th>full_reads_percent</th>\n",
       "    </tr>\n",
       "  </thead>\n",
       "  <tbody>\n",
       "    <tr>\n",
       "      <th>0</th>\n",
       "      <td>61f9569a9a794794245a82abJ0AvX96vTAaQCiWVbzoMdw</td>\n",
       "      <td>8829.345132</td>\n",
       "      <td>1.203532</td>\n",
       "      <td>44.385839</td>\n",
       "    </tr>\n",
       "    <tr>\n",
       "      <th>1</th>\n",
       "      <td>628c22b89a79470e553f594bQS5CqzXYRnmDdR2LaSreEw</td>\n",
       "      <td>7193.449355</td>\n",
       "      <td>1.053143</td>\n",
       "      <td>29.157127</td>\n",
       "    </tr>\n",
       "    <tr>\n",
       "      <th>2</th>\n",
       "      <td>627cb3249a7947ebdd752865XVsoyrUOT8OJJg2_finJhw</td>\n",
       "      <td>7671.831280</td>\n",
       "      <td>1.054028</td>\n",
       "      <td>26.555411</td>\n",
       "    </tr>\n",
       "    <tr>\n",
       "      <th>3</th>\n",
       "      <td>628618629a7947d4927eb812upfii3whSSuMXCqcqF8VbQ</td>\n",
       "      <td>7479.729690</td>\n",
       "      <td>1.069820</td>\n",
       "      <td>35.746499</td>\n",
       "    </tr>\n",
       "    <tr>\n",
       "      <th>4</th>\n",
       "      <td>620e76109a7947235623695b5hzCiIHdSYKQIr8WAM18bw</td>\n",
       "      <td>81776.382712</td>\n",
       "      <td>1.149057</td>\n",
       "      <td>27.070489</td>\n",
       "    </tr>\n",
       "  </tbody>\n",
       "</table>\n",
       "</div>"
      ],
      "text/plain": [
       "                                      document_id         views     depth  \\\n",
       "0  61f9569a9a794794245a82abJ0AvX96vTAaQCiWVbzoMdw   8829.345132  1.203532   \n",
       "1  628c22b89a79470e553f594bQS5CqzXYRnmDdR2LaSreEw   7193.449355  1.053143   \n",
       "2  627cb3249a7947ebdd752865XVsoyrUOT8OJJg2_finJhw   7671.831280  1.054028   \n",
       "3  628618629a7947d4927eb812upfii3whSSuMXCqcqF8VbQ   7479.729690  1.069820   \n",
       "4  620e76109a7947235623695b5hzCiIHdSYKQIr8WAM18bw  81776.382712  1.149057   \n",
       "\n",
       "   full_reads_percent  \n",
       "0           44.385839  \n",
       "1           29.157127  \n",
       "2           26.555411  \n",
       "3           35.746499  \n",
       "4           27.070489  "
      ]
     },
     "execution_count": 46,
     "metadata": {},
     "output_type": "execute_result"
    }
   ],
   "source": [
    "subm.head()"
   ]
  },
  {
   "cell_type": "code",
   "execution_count": 47,
   "id": "00d26c97-fb11-49b4-940e-ea797b27d29d",
   "metadata": {},
   "outputs": [],
   "source": [
    "subm.to_csv(os.path.join(DIR_SUBM, f'{NAME}.csv'), index = False)"
   ]
  },
  {
   "cell_type": "code",
   "execution_count": null,
   "id": "de448a8b-31ef-460b-8358-db43867defd2",
   "metadata": {},
   "outputs": [],
   "source": []
  }
 ],
 "metadata": {
  "kernelspec": {
   "display_name": "Python 3",
   "language": "python",
   "name": "python3"
  },
  "language_info": {
   "codemirror_mode": {
    "name": "ipython",
    "version": 3
   },
   "file_extension": ".py",
   "mimetype": "text/x-python",
   "name": "python",
   "nbconvert_exporter": "python",
   "pygments_lexer": "ipython3",
   "version": "3.7.10"
  }
 },
 "nbformat": 4,
 "nbformat_minor": 5
}
