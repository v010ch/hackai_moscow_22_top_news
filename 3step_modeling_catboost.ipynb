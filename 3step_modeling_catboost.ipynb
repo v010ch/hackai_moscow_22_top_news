{
 "cells": [
  {
   "cell_type": "code",
   "execution_count": 1,
   "id": "6f62ec01-36f8-4ffe-b187-0616094602d5",
   "metadata": {},
   "outputs": [],
   "source": [
    "%load_ext watermark"
   ]
  },
  {
   "cell_type": "code",
   "execution_count": 2,
   "id": "fd631481-f748-4610-94f4-a0d9b5bbe4ed",
   "metadata": {},
   "outputs": [
    {
     "name": "stdout",
     "output_type": "stream",
     "text": [
      "Last updated: 2022-07-07T17:48:04.838863+03:00\n",
      "\n",
      "Python implementation: CPython\n",
      "Python version       : 3.7.10\n",
      "IPython version      : 7.22.0\n",
      "\n",
      "Compiler    : MSC v.1916 64 bit (AMD64)\n",
      "OS          : Windows\n",
      "Release     : 10\n",
      "Machine     : AMD64\n",
      "Processor   : Intel64 Family 6 Model 158 Stepping 9, GenuineIntel\n",
      "CPU cores   : 8\n",
      "Architecture: 64bit\n",
      "\n"
     ]
    }
   ],
   "source": [
    "%watermark"
   ]
  },
  {
   "cell_type": "code",
   "execution_count": 3,
   "id": "2f268c90-86ca-4ea1-8a02-3a6b43c450cf",
   "metadata": {},
   "outputs": [],
   "source": [
    "import os\n",
    "import pickle as pkl\n",
    "\n",
    "import numpy as np\n",
    "import pandas as pd\n",
    "\n",
    "from sklearn.metrics import r2_score\n",
    "from catboost import CatBoostRegressor, Pool\n",
    "\n",
    "import matplotlib.pyplot as plt\n",
    "import seaborn as sns"
   ]
  },
  {
   "cell_type": "code",
   "execution_count": 4,
   "id": "68c33f68-68f2-4e66-a8c6-4a7ac88eb910",
   "metadata": {},
   "outputs": [
    {
     "name": "stdout",
     "output_type": "stream",
     "text": [
      "cb_version: 0.24.3\n",
      "sklearn_version: 0.24.2\n"
     ]
    }
   ],
   "source": [
    "from catboost import __version__ as cb_version\n",
    "from sklearn import __version__ as sklearn_version\n",
    "\n",
    "print(f'cb_version: {cb_version}')\n",
    "print(f'sklearn_version: {sklearn_version}')"
   ]
  },
  {
   "cell_type": "code",
   "execution_count": 5,
   "id": "21f6a58a-b019-4436-83ec-428714473139",
   "metadata": {},
   "outputs": [
    {
     "name": "stdout",
     "output_type": "stream",
     "text": [
      "seaborn   : 0.11.1\n",
      "matplotlib: 3.3.4\n",
      "numpy     : 1.20.3\n",
      "pandas    : 0.25.3\n",
      "\n"
     ]
    }
   ],
   "source": [
    "%watermark --iversions"
   ]
  },
  {
   "cell_type": "code",
   "execution_count": null,
   "id": "8238fc41-4ff8-45af-832d-8ca6512b8995",
   "metadata": {},
   "outputs": [],
   "source": []
  },
  {
   "cell_type": "code",
   "execution_count": null,
   "id": "fabdb0fa-405c-4649-b004-d353666fef7a",
   "metadata": {},
   "outputs": [],
   "source": []
  },
  {
   "cell_type": "markdown",
   "id": "3f3d5ca4-753b-47f1-801f-02be08c0bc3c",
   "metadata": {},
   "source": [
    "## Reproducibility block"
   ]
  },
  {
   "cell_type": "code",
   "execution_count": 6,
   "id": "8d133278-9bc6-4c5d-b029-bd0c31d6adf1",
   "metadata": {},
   "outputs": [],
   "source": [
    "# seed the RNG for all devices (both CPU and CUDA)\n",
    "#torch.manual_seed(1984)\n",
    "\n",
    "#Disabling the benchmarking feature causes cuDNN to deterministically select an algorithm, \n",
    "#possibly at the cost of reduced performance.\n",
    "#torch.backends.cudnn.benchmark = False\n",
    "\n",
    "# for custom operators,\n",
    "import random\n",
    "random.seed(5986721)\n",
    "\n",
    "# \n",
    "np.random.seed(62185)\n",
    "\n",
    "#sklearn take seed from a line abowe\n",
    "\n",
    "CB_RANDOMSEED = 309487"
   ]
  },
  {
   "cell_type": "code",
   "execution_count": null,
   "id": "9f38ebd5-a020-47eb-b1f4-9ea987afb524",
   "metadata": {},
   "outputs": [],
   "source": []
  },
  {
   "cell_type": "code",
   "execution_count": 7,
   "id": "019813d1-62ae-4b4d-a2f6-c0d74c146413",
   "metadata": {},
   "outputs": [],
   "source": [
    "DIR_DATA   = os.path.join(os.getcwd(), 'data')\n",
    "DIR_MODELS = os.path.join(os.getcwd(), 'models')\n",
    "DIR_SUBM   = os.path.join(os.getcwd(), 'subm')\n",
    "DIR_SUBM_PART = os.path.join(os.getcwd(), 'subm', 'partial')"
   ]
  },
  {
   "cell_type": "code",
   "execution_count": null,
   "id": "0d608686-6d8e-49ad-906b-b20933e0ec2a",
   "metadata": {},
   "outputs": [],
   "source": []
  },
  {
   "cell_type": "markdown",
   "id": "ae3e27a3-16bb-456d-b7a1-7975d5f85ea5",
   "metadata": {},
   "source": [
    "## Load data"
   ]
  },
  {
   "cell_type": "code",
   "execution_count": 8,
   "id": "ee296ac9-baf6-4bcb-89ce-5fe99408403d",
   "metadata": {},
   "outputs": [],
   "source": [
    "x_train  = pd.read_csv(os.path.join(DIR_DATA, 'x_train.csv'), index_col= 0)\n",
    "x_val    = pd.read_csv(os.path.join(DIR_DATA, 'x_val.csv'), index_col= 0)\n",
    "df_test  = pd.read_csv(os.path.join(DIR_DATA, 'test_upd.csv'), index_col= 0)\n",
    "\n",
    "with open(os.path.join(DIR_DATA, 'cat_columns.pkl'), 'rb') as pickle_file:\n",
    "    cat_cols = pkl.load(pickle_file)\n",
    "    \n",
    "with open(os.path.join(DIR_DATA, 'num_columns.pkl'), 'rb') as pickle_file:\n",
    "    num_cols = pkl.load(pickle_file)"
   ]
  },
  {
   "cell_type": "code",
   "execution_count": 9,
   "id": "b00427ec-ac4f-4da3-8dfb-94871e63072d",
   "metadata": {},
   "outputs": [
    {
     "data": {
      "text/plain": [
       "((5589, 1234), (1398, 1234), (3000, 1230), 0, 1198)"
      ]
     },
     "execution_count": 9,
     "metadata": {},
     "output_type": "execute_result"
    }
   ],
   "source": [
    "x_train.shape, x_val.shape, df_test.shape, len(cat_cols), len(num_cols)"
   ]
  },
  {
   "cell_type": "code",
   "execution_count": 10,
   "id": "40e960cf-00f2-45b2-986f-436a8024d0de",
   "metadata": {},
   "outputs": [
    {
     "name": "stdout",
     "output_type": "stream",
     "text": [
      "['category']\n"
     ]
    }
   ],
   "source": [
    "cat_cols = cat_cols + ['category']\n",
    "print(cat_cols)"
   ]
  },
  {
   "cell_type": "markdown",
   "id": "d4b599d2-168d-4cc1-a4ea-fc34d707a0ce",
   "metadata": {},
   "source": [
    "отделяем метки от данных"
   ]
  },
  {
   "cell_type": "code",
   "execution_count": 11,
   "id": "40de44ef-8722-48fc-84f7-c78ce45471fc",
   "metadata": {},
   "outputs": [
    {
     "data": {
      "text/plain": [
       "((5589, 1231), (1398, 1231), (5589, 3), (1398, 3))"
      ]
     },
     "execution_count": 11,
     "metadata": {},
     "output_type": "execute_result"
    }
   ],
   "source": [
    "y_train = x_train[['views', 'depth', 'full_reads_percent']]\n",
    "y_val   = x_val[['views', 'depth', 'full_reads_percent']]\n",
    "\n",
    "x_train.drop(['views', 'depth', 'full_reads_percent'], axis = 1, inplace = True)\n",
    "x_val.drop(  ['views', 'depth', 'full_reads_percent'], axis = 1, inplace = True)\n",
    "\n",
    "x_train.shape, x_val.shape, y_train.shape, y_val.shape"
   ]
  },
  {
   "cell_type": "code",
   "execution_count": 12,
   "id": "3145e466-8172-424b-85ac-ad97439d9913",
   "metadata": {},
   "outputs": [
    {
     "data": {
      "text/plain": [
       "(5589, 1231)"
      ]
     },
     "execution_count": 12,
     "metadata": {},
     "output_type": "execute_result"
    }
   ],
   "source": [
    "x_train.shape"
   ]
  },
  {
   "cell_type": "code",
   "execution_count": 13,
   "id": "c416f029-f4cc-46cf-aa20-c30e664b1cdb",
   "metadata": {},
   "outputs": [],
   "source": [
    "#cat_cols + num_cols\n"
   ]
  },
  {
   "cell_type": "code",
   "execution_count": 14,
   "id": "4a71aa58-27b4-4087-ba4c-595958c1c5fe",
   "metadata": {},
   "outputs": [],
   "source": [
    "#views\n",
    "train_ds_views = Pool(x_train[cat_cols + num_cols],\n",
    "#train_ds_views = Pool(x_train[cat_cols + ['ctr']],\n",
    "                      y_train[['views']],\n",
    "                      cat_features = cat_cols,\n",
    "                      #feature_names = cat_cols + num_cols\n",
    "                     )\n",
    "\n",
    "val_ds_views   = Pool(x_val[cat_cols + num_cols],\n",
    "#val_ds_views   = Pool(x_val[cat_cols + ['ctr']],\n",
    "                      y_val[['views']],\n",
    "                      cat_features = cat_cols,\n",
    "                      #feature_names = cat_cols + num_cols\n",
    "                     )\n",
    "\n",
    "\n",
    "#depth\n",
    "train_ds_depth = Pool(x_train[cat_cols + num_cols],\n",
    "                      y_train[['depth']],\n",
    "                      cat_features = cat_cols,\n",
    "                      feature_names = cat_cols + num_cols\n",
    "                     )\n",
    "\n",
    "val_ds_depth   = Pool(x_val[cat_cols + num_cols],\n",
    "                      y_val[['depth']],\n",
    "                      cat_features = cat_cols,\n",
    "                      feature_names = cat_cols + num_cols\n",
    "                     )\n",
    "\n",
    "\n",
    "#full_reads_percent\n",
    "train_ds_frp = Pool(x_train[cat_cols + num_cols],\n",
    "                      y_train[['full_reads_percent']],\n",
    "                      cat_features = cat_cols,\n",
    "                      feature_names = cat_cols + num_cols\n",
    "                     )\n",
    "\n",
    "val_ds_frp   = Pool(x_val[cat_cols + num_cols],\n",
    "                      y_val[['full_reads_percent']],\n",
    "                      cat_features = cat_cols,\n",
    "                      feature_names = cat_cols + num_cols\n",
    "                     )"
   ]
  },
  {
   "cell_type": "code",
   "execution_count": null,
   "id": "12ae502e-4ce4-4f6e-947f-4f6f5942584a",
   "metadata": {},
   "outputs": [],
   "source": []
  },
  {
   "cell_type": "code",
   "execution_count": 15,
   "id": "41e5514e-1f39-4fd8-bee0-98c9b705dda5",
   "metadata": {},
   "outputs": [],
   "source": [
    "def plot_feature_importance2(inp_model, inp_pool, imp_number = 30):\n",
    "    \n",
    "    data = pd.DataFrame({'feature_importance': inp_model.get_feature_importance(inp_pool), \n",
    "              'feature_names': inp_pool.get_feature_names()}).sort_values(by=['feature_importance'], \n",
    "                                                       ascending=True)\n",
    "    \n",
    "    data.nlargest(imp_number, columns=\"feature_importance\").plot(kind='barh', figsize = (30,16)) ## plot top 40 features"
   ]
  },
  {
   "cell_type": "code",
   "execution_count": 16,
   "id": "55711d60-6520-4f9c-af95-e2c0624d270c",
   "metadata": {},
   "outputs": [],
   "source": [
    "def plot_feature_importance(importance,names,model_type, imp_number = 30):\n",
    "    \n",
    "    #Create arrays from feature importance and feature names\n",
    "    feature_importance = np.array(importance)\n",
    "    feature_names = np.array(names)\n",
    "    \n",
    "    #Create a DataFrame using a Dictionary\n",
    "    data={'feature_names':feature_names,'feature_importance':feature_importance}\n",
    "    fi_df = pd.DataFrame(data)\n",
    "    \n",
    "    #Sort the DataFrame in order decreasing feature importance\n",
    "    fi_df.sort_values(by=['feature_importance'], ascending=False,inplace=True)\n",
    "    \n",
    "    #Define size of bar plot\n",
    "    plt.figure(figsize=(10,8))\n",
    "    #Plot Searborn bar chart\n",
    "    sns.barplot(x=fi_df['feature_importance'][:imp_number], y=fi_df['feature_names'][:imp_number])\n",
    "    #Add chart labels\n",
    "    plt.title(model_type + 'FEATURE IMPORTANCE')\n",
    "    plt.xlabel('FEATURE IMPORTANCE')\n",
    "    plt.ylabel('FEATURE NAMES')"
   ]
  },
  {
   "cell_type": "code",
   "execution_count": null,
   "id": "4c0f79ca-2997-443a-ab51-de4e53217939",
   "metadata": {},
   "outputs": [],
   "source": []
  },
  {
   "cell_type": "markdown",
   "id": "668fd48f-3112-40a7-a453-d4f159ef4877",
   "metadata": {},
   "source": [
    "## views"
   ]
  },
  {
   "cell_type": "code",
   "execution_count": 17,
   "id": "37fb9d99-b182-4aae-85ba-24ff91dfbe33",
   "metadata": {},
   "outputs": [
    {
     "name": "stdout",
     "output_type": "stream",
     "text": [
      "0:\tlearn: 100715.7031977\ttest: 51263.3551196\tbest: 51263.3551196 (0)\ttotal: 268ms\tremaining: 5.09s\n",
      "1:\tlearn: 95856.0903844\ttest: 49992.3060966\tbest: 49992.3060966 (1)\ttotal: 313ms\tremaining: 2.82s\n",
      "2:\tlearn: 93612.9403611\ttest: 48579.5193358\tbest: 48579.5193358 (2)\ttotal: 358ms\tremaining: 2.03s\n",
      "3:\tlearn: 91269.5269742\ttest: 47922.1805845\tbest: 47922.1805845 (3)\ttotal: 402ms\tremaining: 1.61s\n",
      "4:\tlearn: 89507.1530843\ttest: 47479.7096488\tbest: 47479.7096488 (4)\ttotal: 445ms\tremaining: 1.34s\n",
      "5:\tlearn: 86763.6208973\ttest: 46326.5532678\tbest: 46326.5532678 (5)\ttotal: 496ms\tremaining: 1.16s\n",
      "6:\tlearn: 84430.8801933\ttest: 45580.0411436\tbest: 45580.0411436 (6)\ttotal: 541ms\tremaining: 1s\n",
      "7:\tlearn: 82123.0595546\ttest: 44878.7941325\tbest: 44878.7941325 (7)\ttotal: 587ms\tremaining: 880ms\n",
      "8:\tlearn: 80489.0566807\ttest: 44019.3986412\tbest: 44019.3986412 (8)\ttotal: 632ms\tremaining: 772ms\n",
      "9:\tlearn: 78960.3737681\ttest: 43152.1826326\tbest: 43152.1826326 (9)\ttotal: 679ms\tremaining: 679ms\n",
      "10:\tlearn: 78095.9100336\ttest: 42888.8009525\tbest: 42888.8009525 (10)\ttotal: 732ms\tremaining: 599ms\n",
      "11:\tlearn: 76892.8852164\ttest: 42360.4979367\tbest: 42360.4979367 (11)\ttotal: 784ms\tremaining: 523ms\n",
      "12:\tlearn: 75853.0819811\ttest: 41612.6630760\tbest: 41612.6630760 (12)\ttotal: 833ms\tremaining: 449ms\n",
      "13:\tlearn: 75430.0872120\ttest: 41409.1737175\tbest: 41409.1737175 (13)\ttotal: 887ms\tremaining: 380ms\n",
      "14:\tlearn: 74656.7766807\ttest: 41175.2179711\tbest: 41175.2179711 (14)\ttotal: 936ms\tremaining: 312ms\n",
      "15:\tlearn: 73580.4420257\ttest: 40747.9357756\tbest: 40747.9357756 (15)\ttotal: 987ms\tremaining: 247ms\n",
      "16:\tlearn: 72351.0837051\ttest: 40394.0490571\tbest: 40394.0490571 (16)\ttotal: 1.04s\tremaining: 183ms\n",
      "17:\tlearn: 71745.2646040\ttest: 40220.4890468\tbest: 40220.4890468 (17)\ttotal: 1.09s\tremaining: 121ms\n",
      "18:\tlearn: 70826.5463389\ttest: 40213.8483100\tbest: 40213.8483100 (18)\ttotal: 1.14s\tremaining: 59.8ms\n",
      "19:\tlearn: 70078.1347740\ttest: 39856.2675481\tbest: 39856.2675481 (19)\ttotal: 1.19s\tremaining: 0us\n",
      "\n",
      "bestTest = 39856.26755\n",
      "bestIteration = 19\n",
      "\n"
     ]
    },
    {
     "data": {
      "text/plain": [
       "<catboost.core.CatBoostRegressor at 0x1680357b748>"
      ]
     },
     "execution_count": 17,
     "metadata": {},
     "output_type": "execute_result"
    }
   ],
   "source": [
    "cb_model_views = CatBoostRegressor(iterations=20,\n",
    "                                 learning_rate=0.1,\n",
    "                                 depth=4,\n",
    "                                 random_seed = CB_RANDOMSEED,\n",
    "                   #n_estimators=100,\n",
    "                                  )\n",
    "# Fit model\n",
    "cb_model_views.fit(train_ds_views,\n",
    "        #train_data, train_labels,\n",
    "                   eval_set=val_ds_views, \n",
    "                   #plot = True,\n",
    "                  )"
   ]
  },
  {
   "cell_type": "code",
   "execution_count": 18,
   "id": "b0c470be-2a85-4ddc-8523-19194d636b32",
   "metadata": {},
   "outputs": [
    {
     "data": {
      "text/plain": [
       "(0.5429923069794368, 0.40212895287758055)"
      ]
     },
     "execution_count": 18,
     "metadata": {},
     "output_type": "execute_result"
    }
   ],
   "source": [
    "# Get predictions and metrics\n",
    "preds_train_views = cb_model_views.predict(x_train[cat_cols + num_cols])\n",
    "preds_val_views   = cb_model_views.predict(val_ds_views)\n",
    "\n",
    "train_score_views = r2_score(y_train[\"views\"], preds_train_views)\n",
    "val_score_views   = r2_score(y_val[\"views\"],   preds_val_views)\n",
    "\n",
    "train_score_views, val_score_views"
   ]
  },
  {
   "cell_type": "raw",
   "id": "fbcef74b-d54b-4a08-ab5d-c4838a2ccb05",
   "metadata": {},
   "source": [
    "(0.5100195781796532, 0.5065575808145328) baseline"
   ]
  },
  {
   "cell_type": "code",
   "execution_count": null,
   "id": "40a5942c-9dbe-4dc8-952c-1a6af1618318",
   "metadata": {},
   "outputs": [],
   "source": []
  },
  {
   "cell_type": "code",
   "execution_count": 19,
   "id": "706be592-2cd3-4db9-9e9d-7b71af1277c0",
   "metadata": {},
   "outputs": [
    {
     "data": {
      "image/png": "[encoded data removed]",
      "text/plain": [
       "<Figure size 720x576 with 1 Axes>"
      ]
     },
     "metadata": {
      "needs_background": "light"
     },
     "output_type": "display_data"
    }
   ],
   "source": [
    "#plot_feature_importance(cb_model_views, train_ds_views, 30)\n",
    "plot_feature_importance(cb_model_views.get_feature_importance(), train_ds_views.get_feature_names(), 'CATBOOST')"
   ]
  },
  {
   "cell_type": "code",
   "execution_count": null,
   "id": "57d15d8a-e96a-436f-9908-bb3efc30c1f7",
   "metadata": {},
   "outputs": [],
   "source": []
  },
  {
   "cell_type": "markdown",
   "id": "a3cac29b-566d-4c8b-9cf7-9ef84a7261d2",
   "metadata": {},
   "source": [
    "## depth"
   ]
  },
  {
   "cell_type": "code",
   "execution_count": 20,
   "id": "e9948b36-a6f3-4bec-bbb2-402d5186ef4e",
   "metadata": {},
   "outputs": [
    {
     "name": "stdout",
     "output_type": "stream",
     "text": [
      "0:\tlearn: 0.0643786\ttest: 0.0579895\tbest: 0.0579895 (0)\ttotal: 3.19s\tremaining: 5m 15s\n",
      "1:\tlearn: 0.0626312\ttest: 0.0562461\tbest: 0.0562461 (1)\ttotal: 6.15s\tremaining: 5m 1s\n",
      "2:\tlearn: 0.0608683\ttest: 0.0544753\tbest: 0.0544753 (2)\ttotal: 9.23s\tremaining: 4m 58s\n",
      "3:\tlearn: 0.0592393\ttest: 0.0530249\tbest: 0.0530249 (3)\ttotal: 12.7s\tremaining: 5m 4s\n",
      "4:\tlearn: 0.0577622\ttest: 0.0515243\tbest: 0.0515243 (4)\ttotal: 16.2s\tremaining: 5m 7s\n",
      "5:\tlearn: 0.0565170\ttest: 0.0504621\tbest: 0.0504621 (5)\ttotal: 19.6s\tremaining: 5m 6s\n",
      "6:\tlearn: 0.0552185\ttest: 0.0491422\tbest: 0.0491422 (6)\ttotal: 22.7s\tremaining: 5m 2s\n",
      "7:\tlearn: 0.0539246\ttest: 0.0480561\tbest: 0.0480561 (7)\ttotal: 26.2s\tremaining: 5m 1s\n",
      "8:\tlearn: 0.0526636\ttest: 0.0468975\tbest: 0.0468975 (8)\ttotal: 29.3s\tremaining: 4m 55s\n",
      "9:\tlearn: 0.0515493\ttest: 0.0458702\tbest: 0.0458702 (9)\ttotal: 32.3s\tremaining: 4m 51s\n",
      "10:\tlearn: 0.0504567\ttest: 0.0449663\tbest: 0.0449663 (10)\ttotal: 35.4s\tremaining: 4m 46s\n",
      "11:\tlearn: 0.0494965\ttest: 0.0440780\tbest: 0.0440780 (11)\ttotal: 38.6s\tremaining: 4m 42s\n",
      "12:\tlearn: 0.0484520\ttest: 0.0432345\tbest: 0.0432345 (12)\ttotal: 41.4s\tremaining: 4m 37s\n",
      "13:\tlearn: 0.0475283\ttest: 0.0424365\tbest: 0.0424365 (13)\ttotal: 44.1s\tremaining: 4m 31s\n",
      "14:\tlearn: 0.0466917\ttest: 0.0416452\tbest: 0.0416452 (14)\ttotal: 46.9s\tremaining: 4m 25s\n",
      "15:\tlearn: 0.0458657\ttest: 0.0409423\tbest: 0.0409423 (15)\ttotal: 49.8s\tremaining: 4m 21s\n",
      "16:\tlearn: 0.0450776\ttest: 0.0403390\tbest: 0.0403390 (16)\ttotal: 52.7s\tremaining: 4m 17s\n",
      "17:\tlearn: 0.0443190\ttest: 0.0396990\tbest: 0.0396990 (17)\ttotal: 55.4s\tremaining: 4m 12s\n",
      "18:\tlearn: 0.0435617\ttest: 0.0391988\tbest: 0.0391988 (18)\ttotal: 58.2s\tremaining: 4m 7s\n",
      "19:\tlearn: 0.0428447\ttest: 0.0386642\tbest: 0.0386642 (19)\ttotal: 1m\tremaining: 4m 3s\n",
      "20:\tlearn: 0.0421817\ttest: 0.0380716\tbest: 0.0380716 (20)\ttotal: 1m 3s\tremaining: 3m 59s\n",
      "21:\tlearn: 0.0415918\ttest: 0.0376678\tbest: 0.0376678 (21)\ttotal: 1m 6s\tremaining: 3m 54s\n",
      "22:\tlearn: 0.0410450\ttest: 0.0372010\tbest: 0.0372010 (22)\ttotal: 1m 8s\tremaining: 3m 50s\n",
      "23:\tlearn: 0.0404274\ttest: 0.0367186\tbest: 0.0367186 (23)\ttotal: 1m 11s\tremaining: 3m 47s\n",
      "24:\tlearn: 0.0398690\ttest: 0.0363810\tbest: 0.0363810 (24)\ttotal: 1m 14s\tremaining: 3m 43s\n",
      "25:\tlearn: 0.0393512\ttest: 0.0359836\tbest: 0.0359836 (25)\ttotal: 1m 17s\tremaining: 3m 39s\n",
      "26:\tlearn: 0.0388790\ttest: 0.0356950\tbest: 0.0356950 (26)\ttotal: 1m 20s\tremaining: 3m 36s\n",
      "27:\tlearn: 0.0384346\ttest: 0.0352914\tbest: 0.0352914 (27)\ttotal: 1m 22s\tremaining: 3m 33s\n",
      "28:\tlearn: 0.0379443\ttest: 0.0349478\tbest: 0.0349478 (28)\ttotal: 1m 25s\tremaining: 3m 29s\n",
      "29:\tlearn: 0.0375039\ttest: 0.0346300\tbest: 0.0346300 (29)\ttotal: 1m 28s\tremaining: 3m 26s\n",
      "30:\tlearn: 0.0370587\ttest: 0.0343492\tbest: 0.0343492 (30)\ttotal: 1m 31s\tremaining: 3m 23s\n",
      "31:\tlearn: 0.0366420\ttest: 0.0340695\tbest: 0.0340695 (31)\ttotal: 1m 34s\tremaining: 3m 19s\n",
      "32:\tlearn: 0.0363223\ttest: 0.0338647\tbest: 0.0338647 (32)\ttotal: 1m 36s\tremaining: 3m 16s\n",
      "33:\tlearn: 0.0359849\ttest: 0.0336337\tbest: 0.0336337 (33)\ttotal: 1m 39s\tremaining: 3m 13s\n",
      "34:\tlearn: 0.0356163\ttest: 0.0334465\tbest: 0.0334465 (34)\ttotal: 1m 42s\tremaining: 3m 9s\n",
      "35:\tlearn: 0.0353469\ttest: 0.0333013\tbest: 0.0333013 (35)\ttotal: 1m 45s\tremaining: 3m 6s\n",
      "36:\tlearn: 0.0350676\ttest: 0.0331417\tbest: 0.0331417 (36)\ttotal: 1m 47s\tremaining: 3m 3s\n",
      "37:\tlearn: 0.0347726\ttest: 0.0329964\tbest: 0.0329964 (37)\ttotal: 1m 50s\tremaining: 3m\n",
      "38:\tlearn: 0.0344607\ttest: 0.0328233\tbest: 0.0328233 (38)\ttotal: 1m 53s\tremaining: 2m 57s\n",
      "39:\tlearn: 0.0341651\ttest: 0.0326945\tbest: 0.0326945 (39)\ttotal: 1m 56s\tremaining: 2m 54s\n",
      "40:\tlearn: 0.0339344\ttest: 0.0325562\tbest: 0.0325562 (40)\ttotal: 1m 58s\tremaining: 2m 50s\n",
      "41:\tlearn: 0.0337073\ttest: 0.0324078\tbest: 0.0324078 (41)\ttotal: 2m 1s\tremaining: 2m 47s\n",
      "42:\tlearn: 0.0334219\ttest: 0.0322326\tbest: 0.0322326 (42)\ttotal: 2m 4s\tremaining: 2m 44s\n",
      "43:\tlearn: 0.0331625\ttest: 0.0320813\tbest: 0.0320813 (43)\ttotal: 2m 6s\tremaining: 2m 41s\n",
      "44:\tlearn: 0.0328965\ttest: 0.0320144\tbest: 0.0320144 (44)\ttotal: 2m 9s\tremaining: 2m 38s\n",
      "45:\tlearn: 0.0326921\ttest: 0.0319411\tbest: 0.0319411 (45)\ttotal: 2m 12s\tremaining: 2m 35s\n",
      "46:\tlearn: 0.0324220\ttest: 0.0318678\tbest: 0.0318678 (46)\ttotal: 2m 15s\tremaining: 2m 32s\n",
      "47:\tlearn: 0.0321772\ttest: 0.0317635\tbest: 0.0317635 (47)\ttotal: 2m 18s\tremaining: 2m 30s\n",
      "48:\tlearn: 0.0319300\ttest: 0.0316704\tbest: 0.0316704 (48)\ttotal: 2m 21s\tremaining: 2m 27s\n",
      "49:\tlearn: 0.0317239\ttest: 0.0315715\tbest: 0.0315715 (49)\ttotal: 2m 24s\tremaining: 2m 24s\n",
      "50:\tlearn: 0.0315537\ttest: 0.0315326\tbest: 0.0315326 (50)\ttotal: 2m 27s\tremaining: 2m 21s\n",
      "51:\tlearn: 0.0313541\ttest: 0.0314486\tbest: 0.0314486 (51)\ttotal: 2m 30s\tremaining: 2m 19s\n",
      "52:\tlearn: 0.0311654\ttest: 0.0313607\tbest: 0.0313607 (52)\ttotal: 2m 33s\tremaining: 2m 16s\n",
      "53:\tlearn: 0.0309754\ttest: 0.0313045\tbest: 0.0313045 (53)\ttotal: 2m 36s\tremaining: 2m 13s\n",
      "54:\tlearn: 0.0307931\ttest: 0.0312114\tbest: 0.0312114 (54)\ttotal: 2m 39s\tremaining: 2m 10s\n",
      "55:\tlearn: 0.0306386\ttest: 0.0311350\tbest: 0.0311350 (55)\ttotal: 2m 42s\tremaining: 2m 7s\n",
      "56:\tlearn: 0.0304301\ttest: 0.0310871\tbest: 0.0310871 (56)\ttotal: 2m 45s\tremaining: 2m 4s\n",
      "57:\tlearn: 0.0302575\ttest: 0.0310787\tbest: 0.0310787 (57)\ttotal: 2m 48s\tremaining: 2m 1s\n",
      "58:\tlearn: 0.0301099\ttest: 0.0310263\tbest: 0.0310263 (58)\ttotal: 2m 50s\tremaining: 1m 58s\n",
      "59:\tlearn: 0.0299376\ttest: 0.0309517\tbest: 0.0309517 (59)\ttotal: 2m 53s\tremaining: 1m 55s\n",
      "60:\tlearn: 0.0297343\ttest: 0.0309104\tbest: 0.0309104 (60)\ttotal: 2m 56s\tremaining: 1m 52s\n",
      "61:\tlearn: 0.0295956\ttest: 0.0308576\tbest: 0.0308576 (61)\ttotal: 2m 59s\tremaining: 1m 49s\n",
      "62:\tlearn: 0.0294625\ttest: 0.0308270\tbest: 0.0308270 (62)\ttotal: 3m 2s\tremaining: 1m 46s\n",
      "63:\tlearn: 0.0293404\ttest: 0.0308044\tbest: 0.0308044 (63)\ttotal: 3m 4s\tremaining: 1m 44s\n",
      "64:\tlearn: 0.0292551\ttest: 0.0307896\tbest: 0.0307896 (64)\ttotal: 3m 7s\tremaining: 1m 41s\n",
      "65:\tlearn: 0.0291481\ttest: 0.0307406\tbest: 0.0307406 (65)\ttotal: 3m 10s\tremaining: 1m 38s\n",
      "66:\tlearn: 0.0290268\ttest: 0.0307468\tbest: 0.0307406 (65)\ttotal: 3m 13s\tremaining: 1m 35s\n",
      "67:\tlearn: 0.0289209\ttest: 0.0307043\tbest: 0.0307043 (67)\ttotal: 3m 16s\tremaining: 1m 32s\n",
      "68:\tlearn: 0.0287802\ttest: 0.0306807\tbest: 0.0306807 (68)\ttotal: 3m 19s\tremaining: 1m 29s\n",
      "69:\tlearn: 0.0286939\ttest: 0.0306362\tbest: 0.0306362 (69)\ttotal: 3m 21s\tremaining: 1m 26s\n",
      "70:\tlearn: 0.0286073\ttest: 0.0306093\tbest: 0.0306093 (70)\ttotal: 3m 24s\tremaining: 1m 23s\n",
      "71:\tlearn: 0.0284985\ttest: 0.0305945\tbest: 0.0305945 (71)\ttotal: 3m 27s\tremaining: 1m 20s\n",
      "72:\tlearn: 0.0284222\ttest: 0.0305711\tbest: 0.0305711 (72)\ttotal: 3m 30s\tremaining: 1m 17s\n",
      "73:\tlearn: 0.0282844\ttest: 0.0305543\tbest: 0.0305543 (73)\ttotal: 3m 32s\tremaining: 1m 14s\n",
      "74:\tlearn: 0.0281872\ttest: 0.0305271\tbest: 0.0305271 (74)\ttotal: 3m 35s\tremaining: 1m 11s\n",
      "75:\tlearn: 0.0280278\ttest: 0.0304734\tbest: 0.0304734 (75)\ttotal: 3m 38s\tremaining: 1m 9s\n",
      "76:\tlearn: 0.0278892\ttest: 0.0304325\tbest: 0.0304325 (76)\ttotal: 3m 41s\tremaining: 1m 6s\n",
      "77:\tlearn: 0.0278009\ttest: 0.0303646\tbest: 0.0303646 (77)\ttotal: 3m 44s\tremaining: 1m 3s\n",
      "78:\tlearn: 0.0277052\ttest: 0.0303208\tbest: 0.0303208 (78)\ttotal: 3m 47s\tremaining: 1m\n",
      "79:\tlearn: 0.0276390\ttest: 0.0302946\tbest: 0.0302946 (79)\ttotal: 3m 50s\tremaining: 57.5s\n",
      "80:\tlearn: 0.0275823\ttest: 0.0302913\tbest: 0.0302913 (80)\ttotal: 3m 53s\tremaining: 54.7s\n",
      "81:\tlearn: 0.0274935\ttest: 0.0302677\tbest: 0.0302677 (81)\ttotal: 3m 55s\tremaining: 51.8s\n",
      "82:\tlearn: 0.0274388\ttest: 0.0302596\tbest: 0.0302596 (82)\ttotal: 3m 58s\tremaining: 48.9s\n",
      "83:\tlearn: 0.0273152\ttest: 0.0302442\tbest: 0.0302442 (83)\ttotal: 4m 1s\tremaining: 46s\n",
      "84:\tlearn: 0.0271743\ttest: 0.0302252\tbest: 0.0302252 (84)\ttotal: 4m 4s\tremaining: 43.1s\n",
      "85:\tlearn: 0.0271138\ttest: 0.0302096\tbest: 0.0302096 (85)\ttotal: 4m 7s\tremaining: 40.3s\n",
      "86:\tlearn: 0.0269844\ttest: 0.0301796\tbest: 0.0301796 (86)\ttotal: 4m 10s\tremaining: 37.4s\n",
      "87:\tlearn: 0.0268586\ttest: 0.0301651\tbest: 0.0301651 (87)\ttotal: 4m 12s\tremaining: 34.5s\n",
      "88:\tlearn: 0.0267573\ttest: 0.0301366\tbest: 0.0301366 (88)\ttotal: 4m 15s\tremaining: 31.6s\n",
      "89:\tlearn: 0.0266534\ttest: 0.0301215\tbest: 0.0301215 (89)\ttotal: 4m 18s\tremaining: 28.7s\n",
      "90:\tlearn: 0.0265615\ttest: 0.0300601\tbest: 0.0300601 (90)\ttotal: 4m 21s\tremaining: 25.8s\n",
      "91:\tlearn: 0.0264688\ttest: 0.0300677\tbest: 0.0300601 (90)\ttotal: 4m 23s\tremaining: 22.9s\n",
      "92:\tlearn: 0.0263824\ttest: 0.0300471\tbest: 0.0300471 (92)\ttotal: 4m 26s\tremaining: 20.1s\n",
      "93:\tlearn: 0.0262811\ttest: 0.0300105\tbest: 0.0300105 (93)\ttotal: 4m 29s\tremaining: 17.2s\n",
      "94:\tlearn: 0.0262012\ttest: 0.0299809\tbest: 0.0299809 (94)\ttotal: 4m 32s\tremaining: 14.3s\n",
      "95:\tlearn: 0.0260921\ttest: 0.0299594\tbest: 0.0299594 (95)\ttotal: 4m 34s\tremaining: 11.4s\n",
      "96:\tlearn: 0.0259630\ttest: 0.0299251\tbest: 0.0299251 (96)\ttotal: 4m 37s\tremaining: 8.58s\n",
      "97:\tlearn: 0.0258642\ttest: 0.0299098\tbest: 0.0299098 (97)\ttotal: 4m 40s\tremaining: 5.72s\n",
      "98:\tlearn: 0.0257635\ttest: 0.0298718\tbest: 0.0298718 (98)\ttotal: 4m 42s\tremaining: 2.86s\n",
      "99:\tlearn: 0.0257104\ttest: 0.0298595\tbest: 0.0298595 (99)\ttotal: 4m 45s\tremaining: 0us\n",
      "\n",
      "bestTest = 0.02985948879\n",
      "bestIteration = 99\n",
      "\n"
     ]
    },
    {
     "data": {
      "text/plain": [
       "<catboost.core.CatBoostRegressor at 0x16803875388>"
      ]
     },
     "execution_count": 20,
     "metadata": {},
     "output_type": "execute_result"
    }
   ],
   "source": [
    "cb_model_depth = CatBoostRegressor(#iterations=1000,\n",
    "                                 learning_rate=0.05,\n",
    "                                 depth=10,\n",
    "                                 random_seed = CB_RANDOMSEED,\n",
    "                   n_estimators=100,\n",
    "                                  )\n",
    "# Fit model\n",
    "cb_model_depth.fit(train_ds_depth,\n",
    "                   eval_set=val_ds_depth, \n",
    "                   #plot = True,\n",
    "                  )"
   ]
  },
  {
   "cell_type": "code",
   "execution_count": 21,
   "id": "2596cde2-acc0-4f27-8ab9-6658e7cba842",
   "metadata": {},
   "outputs": [
    {
     "data": {
      "text/plain": [
       "(0.8493920704127192, 0.7508125364228887)"
      ]
     },
     "execution_count": 21,
     "metadata": {},
     "output_type": "execute_result"
    }
   ],
   "source": [
    "# Get predictions and metrics\n",
    "preds_train_depth = cb_model_depth.predict(x_train[cat_cols + num_cols])\n",
    "preds_val_depth   = cb_model_depth.predict(val_ds_depth)\n",
    "\n",
    "train_score_depth = r2_score(y_train[\"depth\"], preds_train_depth)\n",
    "val_score_depth   = r2_score(y_val[\"depth\"],   preds_val_depth)\n",
    "\n",
    "train_score_depth, val_score_depth"
   ]
  },
  {
   "cell_type": "raw",
   "id": "42b4b5db-a639-4829-9350-0c78a2bb037b",
   "metadata": {},
   "source": [
    "(0.8493920704127192, 0.7508125364228887) emb + lags + nauth + all_norm"
   ]
  },
  {
   "cell_type": "code",
   "execution_count": null,
   "id": "bf7b2ffd-0f51-492c-ad5c-cd0e859050d8",
   "metadata": {},
   "outputs": [],
   "source": []
  },
  {
   "cell_type": "code",
   "execution_count": 22,
   "id": "a37608db-f13d-45fc-9f3f-dd430a6f0839",
   "metadata": {},
   "outputs": [
    {
     "data": {
      "image/png": "[encoded data removed]",
      "text/plain": [
       "<Figure size 720x576 with 1 Axes>"
      ]
     },
     "metadata": {
      "needs_background": "light"
     },
     "output_type": "display_data"
    }
   ],
   "source": [
    "#plot_feature_importance(cb_model_views, train_ds_views, 30)\n",
    "plot_feature_importance(cb_model_depth.get_feature_importance(), train_ds_depth.get_feature_names(), 'CATBOOST')"
   ]
  },
  {
   "cell_type": "code",
   "execution_count": null,
   "id": "5eaabd43-32cd-42df-9c8f-a88c7c8cfe3c",
   "metadata": {},
   "outputs": [],
   "source": []
  },
  {
   "cell_type": "markdown",
   "id": "fafdf6ea-9687-472f-ab6e-86125f5dc7eb",
   "metadata": {},
   "source": [
    "## full_reads_percent"
   ]
  },
  {
   "cell_type": "code",
   "execution_count": 23,
   "id": "7745c438-06e9-477e-ac52-37017039f9c4",
   "metadata": {},
   "outputs": [
    {
     "name": "stdout",
     "output_type": "stream",
     "text": [
      "0:\tlearn: 10.0448380\ttest: 10.1301260\tbest: 10.1301260 (0)\ttotal: 2.79s\tremaining: 4m 36s\n",
      "1:\tlearn: 9.9311969\ttest: 10.0437579\tbest: 10.0437579 (1)\ttotal: 5.6s\tremaining: 4m 34s\n",
      "2:\tlearn: 9.8271206\ttest: 9.9590121\tbest: 9.9590121 (2)\ttotal: 8.46s\tremaining: 4m 33s\n",
      "3:\tlearn: 9.7287505\ttest: 9.8789366\tbest: 9.8789366 (3)\ttotal: 11.3s\tremaining: 4m 30s\n",
      "4:\tlearn: 9.6231607\ttest: 9.7982387\tbest: 9.7982387 (4)\ttotal: 14.3s\tremaining: 4m 31s\n",
      "5:\tlearn: 9.5246113\ttest: 9.7205075\tbest: 9.7205075 (5)\ttotal: 17.1s\tremaining: 4m 27s\n",
      "6:\tlearn: 9.4352900\ttest: 9.6430707\tbest: 9.6430707 (6)\ttotal: 19.9s\tremaining: 4m 23s\n",
      "7:\tlearn: 9.3489194\ttest: 9.5753465\tbest: 9.5753465 (7)\ttotal: 22.6s\tremaining: 4m 20s\n",
      "8:\tlearn: 9.2665419\ttest: 9.5129997\tbest: 9.5129997 (8)\ttotal: 25.4s\tremaining: 4m 16s\n",
      "9:\tlearn: 9.1817253\ttest: 9.4627351\tbest: 9.4627351 (9)\ttotal: 28.2s\tremaining: 4m 13s\n",
      "10:\tlearn: 9.1022736\ttest: 9.4083034\tbest: 9.4083034 (10)\ttotal: 30.9s\tremaining: 4m 10s\n",
      "11:\tlearn: 9.0285363\ttest: 9.3558914\tbest: 9.3558914 (11)\ttotal: 33.7s\tremaining: 4m 7s\n",
      "12:\tlearn: 8.9583093\ttest: 9.3044197\tbest: 9.3044197 (12)\ttotal: 36.8s\tremaining: 4m 6s\n",
      "13:\tlearn: 8.8950506\ttest: 9.2539795\tbest: 9.2539795 (13)\ttotal: 39.7s\tremaining: 4m 3s\n",
      "14:\tlearn: 8.8299624\ttest: 9.2236080\tbest: 9.2236080 (14)\ttotal: 42.7s\tremaining: 4m 1s\n",
      "15:\tlearn: 8.7544518\ttest: 9.1842496\tbest: 9.1842496 (15)\ttotal: 45.7s\tremaining: 3m 59s\n",
      "16:\tlearn: 8.6950160\ttest: 9.1526718\tbest: 9.1526718 (16)\ttotal: 48.7s\tremaining: 3m 57s\n",
      "17:\tlearn: 8.6332147\ttest: 9.1149266\tbest: 9.1149266 (17)\ttotal: 51.5s\tremaining: 3m 54s\n",
      "18:\tlearn: 8.5797127\ttest: 9.0818231\tbest: 9.0818231 (18)\ttotal: 54.2s\tremaining: 3m 51s\n",
      "19:\tlearn: 8.5230731\ttest: 9.0527510\tbest: 9.0527510 (19)\ttotal: 57s\tremaining: 3m 47s\n",
      "20:\tlearn: 8.4673879\ttest: 9.0269031\tbest: 9.0269031 (20)\ttotal: 60s\tremaining: 3m 45s\n",
      "21:\tlearn: 8.4069795\ttest: 8.9951853\tbest: 8.9951853 (21)\ttotal: 1m 2s\tremaining: 3m 42s\n",
      "22:\tlearn: 8.3530127\ttest: 8.9617377\tbest: 8.9617377 (22)\ttotal: 1m 5s\tremaining: 3m 39s\n",
      "23:\tlearn: 8.2984029\ttest: 8.9344937\tbest: 8.9344937 (23)\ttotal: 1m 8s\tremaining: 3m 36s\n",
      "24:\tlearn: 8.2508313\ttest: 8.9159268\tbest: 8.9159268 (24)\ttotal: 1m 11s\tremaining: 3m 33s\n",
      "25:\tlearn: 8.1983162\ttest: 8.8951111\tbest: 8.8951111 (25)\ttotal: 1m 14s\tremaining: 3m 31s\n",
      "26:\tlearn: 8.1516400\ttest: 8.8703462\tbest: 8.8703462 (26)\ttotal: 1m 16s\tremaining: 3m 28s\n",
      "27:\tlearn: 8.0924434\ttest: 8.8547382\tbest: 8.8547382 (27)\ttotal: 1m 19s\tremaining: 3m 24s\n",
      "28:\tlearn: 8.0419982\ttest: 8.8288404\tbest: 8.8288404 (28)\ttotal: 1m 22s\tremaining: 3m 21s\n",
      "29:\tlearn: 7.9883309\ttest: 8.8104717\tbest: 8.8104717 (29)\ttotal: 1m 25s\tremaining: 3m 18s\n",
      "30:\tlearn: 7.9477725\ttest: 8.7897524\tbest: 8.7897524 (30)\ttotal: 1m 27s\tremaining: 3m 15s\n",
      "31:\tlearn: 7.8962320\ttest: 8.7721511\tbest: 8.7721511 (31)\ttotal: 1m 30s\tremaining: 3m 12s\n",
      "32:\tlearn: 7.8523460\ttest: 8.7513948\tbest: 8.7513948 (32)\ttotal: 1m 33s\tremaining: 3m 9s\n",
      "33:\tlearn: 7.8026660\ttest: 8.7354532\tbest: 8.7354532 (33)\ttotal: 1m 36s\tremaining: 3m 6s\n",
      "34:\tlearn: 7.7591466\ttest: 8.7212989\tbest: 8.7212989 (34)\ttotal: 1m 39s\tremaining: 3m 4s\n",
      "35:\tlearn: 7.7172051\ttest: 8.7107651\tbest: 8.7107651 (35)\ttotal: 1m 41s\tremaining: 3m 1s\n",
      "36:\tlearn: 7.6766681\ttest: 8.6978486\tbest: 8.6978486 (36)\ttotal: 1m 44s\tremaining: 2m 58s\n",
      "37:\tlearn: 7.6502853\ttest: 8.6861287\tbest: 8.6861287 (37)\ttotal: 1m 47s\tremaining: 2m 55s\n",
      "38:\tlearn: 7.6147933\ttest: 8.6707835\tbest: 8.6707835 (38)\ttotal: 1m 50s\tremaining: 2m 52s\n",
      "39:\tlearn: 7.5756435\ttest: 8.6563832\tbest: 8.6563832 (39)\ttotal: 1m 52s\tremaining: 2m 49s\n",
      "40:\tlearn: 7.5399373\ttest: 8.6466817\tbest: 8.6466817 (40)\ttotal: 1m 55s\tremaining: 2m 46s\n",
      "41:\tlearn: 7.5058842\ttest: 8.6325643\tbest: 8.6325643 (41)\ttotal: 1m 58s\tremaining: 2m 43s\n",
      "42:\tlearn: 7.4745211\ttest: 8.6219608\tbest: 8.6219608 (42)\ttotal: 2m 1s\tremaining: 2m 40s\n",
      "43:\tlearn: 7.4349407\ttest: 8.6109346\tbest: 8.6109346 (43)\ttotal: 2m 3s\tremaining: 2m 37s\n",
      "44:\tlearn: 7.3966799\ttest: 8.6024464\tbest: 8.6024464 (44)\ttotal: 2m 6s\tremaining: 2m 34s\n",
      "45:\tlearn: 7.3658701\ttest: 8.5923818\tbest: 8.5923818 (45)\ttotal: 2m 9s\tremaining: 2m 32s\n",
      "46:\tlearn: 7.3346416\ttest: 8.5820969\tbest: 8.5820969 (46)\ttotal: 2m 12s\tremaining: 2m 29s\n",
      "47:\tlearn: 7.3147503\ttest: 8.5719741\tbest: 8.5719741 (47)\ttotal: 2m 15s\tremaining: 2m 26s\n",
      "48:\tlearn: 7.2766148\ttest: 8.5676397\tbest: 8.5676397 (48)\ttotal: 2m 18s\tremaining: 2m 23s\n",
      "49:\tlearn: 7.2368190\ttest: 8.5600086\tbest: 8.5600086 (49)\ttotal: 2m 20s\tremaining: 2m 20s\n",
      "50:\tlearn: 7.2021873\ttest: 8.5524590\tbest: 8.5524590 (50)\ttotal: 2m 23s\tremaining: 2m 18s\n",
      "51:\tlearn: 7.1647972\ttest: 8.5407875\tbest: 8.5407875 (51)\ttotal: 2m 26s\tremaining: 2m 15s\n",
      "52:\tlearn: 7.1249898\ttest: 8.5306613\tbest: 8.5306613 (52)\ttotal: 2m 29s\tremaining: 2m 12s\n",
      "53:\tlearn: 7.0884713\ttest: 8.5192861\tbest: 8.5192861 (53)\ttotal: 2m 32s\tremaining: 2m 9s\n",
      "54:\tlearn: 7.0585634\ttest: 8.5111776\tbest: 8.5111776 (54)\ttotal: 2m 35s\tremaining: 2m 7s\n",
      "55:\tlearn: 7.0284475\ttest: 8.5035552\tbest: 8.5035552 (55)\ttotal: 2m 38s\tremaining: 2m 4s\n",
      "56:\tlearn: 7.0032002\ttest: 8.5002235\tbest: 8.5002235 (56)\ttotal: 2m 40s\tremaining: 2m 1s\n",
      "57:\tlearn: 6.9792316\ttest: 8.4928770\tbest: 8.4928770 (57)\ttotal: 2m 43s\tremaining: 1m 58s\n",
      "58:\tlearn: 6.9503038\ttest: 8.4874559\tbest: 8.4874559 (58)\ttotal: 2m 46s\tremaining: 1m 56s\n",
      "59:\tlearn: 6.9157000\ttest: 8.4799397\tbest: 8.4799397 (59)\ttotal: 2m 49s\tremaining: 1m 53s\n",
      "60:\tlearn: 6.8871733\ttest: 8.4753027\tbest: 8.4753027 (60)\ttotal: 2m 52s\tremaining: 1m 50s\n",
      "61:\tlearn: 6.8560094\ttest: 8.4688300\tbest: 8.4688300 (61)\ttotal: 2m 56s\tremaining: 1m 47s\n",
      "62:\tlearn: 6.8383279\ttest: 8.4671071\tbest: 8.4671071 (62)\ttotal: 2m 59s\tremaining: 1m 45s\n",
      "63:\tlearn: 6.8129218\ttest: 8.4596264\tbest: 8.4596264 (63)\ttotal: 3m 1s\tremaining: 1m 42s\n",
      "64:\tlearn: 6.7920969\ttest: 8.4546441\tbest: 8.4546441 (64)\ttotal: 3m 4s\tremaining: 1m 39s\n",
      "65:\tlearn: 6.7635566\ttest: 8.4493851\tbest: 8.4493851 (65)\ttotal: 3m 7s\tremaining: 1m 36s\n",
      "66:\tlearn: 6.7409925\ttest: 8.4439450\tbest: 8.4439450 (66)\ttotal: 3m 10s\tremaining: 1m 33s\n",
      "67:\tlearn: 6.7110813\ttest: 8.4409687\tbest: 8.4409687 (67)\ttotal: 3m 13s\tremaining: 1m 31s\n",
      "68:\tlearn: 6.6770704\ttest: 8.4346399\tbest: 8.4346399 (68)\ttotal: 3m 16s\tremaining: 1m 28s\n",
      "69:\tlearn: 6.6668511\ttest: 8.4299818\tbest: 8.4299818 (69)\ttotal: 3m 19s\tremaining: 1m 25s\n",
      "70:\tlearn: 6.6409395\ttest: 8.4260847\tbest: 8.4260847 (70)\ttotal: 3m 23s\tremaining: 1m 22s\n",
      "71:\tlearn: 6.6174956\ttest: 8.4167610\tbest: 8.4167610 (71)\ttotal: 3m 26s\tremaining: 1m 20s\n",
      "72:\tlearn: 6.5927080\ttest: 8.4162003\tbest: 8.4162003 (72)\ttotal: 3m 29s\tremaining: 1m 17s\n",
      "73:\tlearn: 6.5735948\ttest: 8.4113672\tbest: 8.4113672 (73)\ttotal: 3m 31s\tremaining: 1m 14s\n",
      "74:\tlearn: 6.5499396\ttest: 8.4076444\tbest: 8.4076444 (74)\ttotal: 3m 34s\tremaining: 1m 11s\n",
      "75:\tlearn: 6.5267640\ttest: 8.4045393\tbest: 8.4045393 (75)\ttotal: 3m 37s\tremaining: 1m 8s\n",
      "76:\tlearn: 6.5126666\ttest: 8.3998887\tbest: 8.3998887 (76)\ttotal: 3m 40s\tremaining: 1m 5s\n",
      "77:\tlearn: 6.4825830\ttest: 8.3972611\tbest: 8.3972611 (77)\ttotal: 3m 42s\tremaining: 1m 2s\n",
      "78:\tlearn: 6.4604401\ttest: 8.3948544\tbest: 8.3948544 (78)\ttotal: 3m 45s\tremaining: 60s\n",
      "79:\tlearn: 6.4397529\ttest: 8.3922318\tbest: 8.3922318 (79)\ttotal: 3m 48s\tremaining: 57.1s\n",
      "80:\tlearn: 6.4195832\ttest: 8.3863652\tbest: 8.3863652 (80)\ttotal: 3m 51s\tremaining: 54.2s\n",
      "81:\tlearn: 6.3998178\ttest: 8.3816406\tbest: 8.3816406 (81)\ttotal: 3m 53s\tremaining: 51.4s\n",
      "82:\tlearn: 6.3816288\ttest: 8.3776561\tbest: 8.3776561 (82)\ttotal: 3m 56s\tremaining: 48.5s\n",
      "83:\tlearn: 6.3654754\ttest: 8.3739943\tbest: 8.3739943 (83)\ttotal: 3m 59s\tremaining: 45.6s\n",
      "84:\tlearn: 6.3363007\ttest: 8.3685161\tbest: 8.3685161 (84)\ttotal: 4m 2s\tremaining: 42.8s\n",
      "85:\tlearn: 6.3135818\ttest: 8.3623711\tbest: 8.3623711 (85)\ttotal: 4m 5s\tremaining: 39.9s\n",
      "86:\tlearn: 6.2863216\ttest: 8.3585384\tbest: 8.3585384 (86)\ttotal: 4m 7s\tremaining: 37.1s\n",
      "87:\tlearn: 6.2719822\ttest: 8.3541067\tbest: 8.3541067 (87)\ttotal: 4m 10s\tremaining: 34.2s\n",
      "88:\tlearn: 6.2446221\ttest: 8.3489809\tbest: 8.3489809 (88)\ttotal: 4m 13s\tremaining: 31.4s\n",
      "89:\tlearn: 6.2318429\ttest: 8.3458353\tbest: 8.3458353 (89)\ttotal: 4m 16s\tremaining: 28.5s\n",
      "90:\tlearn: 6.2144520\ttest: 8.3456513\tbest: 8.3456513 (90)\ttotal: 4m 19s\tremaining: 25.7s\n",
      "91:\tlearn: 6.1973769\ttest: 8.3421281\tbest: 8.3421281 (91)\ttotal: 4m 22s\tremaining: 22.8s\n",
      "92:\tlearn: 6.1764650\ttest: 8.3385394\tbest: 8.3385394 (92)\ttotal: 4m 25s\tremaining: 20s\n",
      "93:\tlearn: 6.1547665\ttest: 8.3354401\tbest: 8.3354401 (93)\ttotal: 4m 28s\tremaining: 17.1s\n",
      "94:\tlearn: 6.1324842\ttest: 8.3310087\tbest: 8.3310087 (94)\ttotal: 4m 31s\tremaining: 14.3s\n",
      "95:\tlearn: 6.1109369\ttest: 8.3243601\tbest: 8.3243601 (95)\ttotal: 4m 34s\tremaining: 11.4s\n",
      "96:\tlearn: 6.0892210\ttest: 8.3230600\tbest: 8.3230600 (96)\ttotal: 4m 36s\tremaining: 8.57s\n",
      "97:\tlearn: 6.0710916\ttest: 8.3177946\tbest: 8.3177946 (97)\ttotal: 4m 39s\tremaining: 5.71s\n",
      "98:\tlearn: 6.0563634\ttest: 8.3139523\tbest: 8.3139523 (98)\ttotal: 4m 42s\tremaining: 2.86s\n",
      "99:\tlearn: 6.0384291\ttest: 8.3125127\tbest: 8.3125127 (99)\ttotal: 4m 45s\tremaining: 0us\n",
      "\n",
      "bestTest = 8.312512676\n",
      "bestIteration = 99\n",
      "\n"
     ]
    },
    {
     "data": {
      "text/plain": [
       "<catboost.core.CatBoostRegressor at 0x1681d5f1108>"
      ]
     },
     "execution_count": 23,
     "metadata": {},
     "output_type": "execute_result"
    }
   ],
   "source": [
    "cb_model_frp = CatBoostRegressor(#iterations=1000,\n",
    "                                 learning_rate=0.05,\n",
    "                                 depth=10,\n",
    "                                 random_seed = CB_RANDOMSEED,\n",
    "                   n_estimators=100,\n",
    "                                 #n_estimators=100,\n",
    "    #num_trees=None,\n",
    "                                )\n",
    "# Fit model\n",
    "cb_model_frp.fit(train_ds_frp,\n",
    "                   eval_set=val_ds_frp, \n",
    "                   #plot = True,\n",
    "                  )"
   ]
  },
  {
   "cell_type": "code",
   "execution_count": 24,
   "id": "ce2f5cf1-5605-4e75-99dd-8c23248ff512",
   "metadata": {},
   "outputs": [
    {
     "data": {
      "text/plain": [
       "(0.647004026945631, 0.3381891575082846)"
      ]
     },
     "execution_count": 24,
     "metadata": {},
     "output_type": "execute_result"
    }
   ],
   "source": [
    "# Get predictions and metrics\n",
    "preds_train_frp = cb_model_frp.predict(x_train[cat_cols + num_cols])\n",
    "preds_val_frp   = cb_model_frp.predict(val_ds_frp)\n",
    "\n",
    "train_score_frp = r2_score(y_train[\"full_reads_percent\"], preds_train_frp)\n",
    "val_score_frp   = r2_score(y_val[\"full_reads_percent\"],   preds_val_frp)\n",
    "\n",
    "train_score_frp, val_score_frp"
   ]
  },
  {
   "cell_type": "raw",
   "id": "cec2f6b6-9782-4b5c-838c-66df8bfc72e5",
   "metadata": {},
   "source": [
    "(0.6631276724054295, 0.34064497648434666) emb + lags"
   ]
  },
  {
   "cell_type": "code",
   "execution_count": null,
   "id": "c6b000b9-9f71-4f8d-bb73-d58b91330eca",
   "metadata": {},
   "outputs": [],
   "source": []
  },
  {
   "cell_type": "code",
   "execution_count": 25,
   "id": "0921f52a-f376-4e01-bf22-958db46977c7",
   "metadata": {},
   "outputs": [
    {
     "data": {
      "image/png": "[encoded data removed]",
      "text/plain": [
       "<Figure size 720x576 with 1 Axes>"
      ]
     },
     "metadata": {
      "needs_background": "light"
     },
     "output_type": "display_data"
    }
   ],
   "source": [
    "#plot_feature_importance(cb_model_views, train_ds_views, 30)\n",
    "plot_feature_importance(cb_model_frp.get_feature_importance(), train_ds_frp.get_feature_names(), 'CATBOOST')"
   ]
  },
  {
   "cell_type": "code",
   "execution_count": null,
   "id": "be50fe97-02cb-48bb-beb5-c100041aa1f0",
   "metadata": {},
   "outputs": [],
   "source": []
  },
  {
   "cell_type": "code",
   "execution_count": 26,
   "id": "304d2314-a21f-4bb0-bd61-9fa94711f9f1",
   "metadata": {},
   "outputs": [
    {
     "data": {
      "text/plain": [
       "(0.6661157519992797, 0.48755208933038424)"
      ]
     },
     "execution_count": 26,
     "metadata": {},
     "output_type": "execute_result"
    }
   ],
   "source": [
    "score_train = 0.4 * train_score_views + 0.3 * train_score_depth + 0.3 * train_score_frp\n",
    "score_val  = 0.4 * val_score_views  + 0.3 * val_score_depth  + 0.3 * val_score_frp\n",
    "\n",
    "score_train, score_val"
   ]
  },
  {
   "cell_type": "raw",
   "id": "b4e2f449-432c-42f7-8cce-5cb15323aca0",
   "metadata": {},
   "source": [
    "(0.6661157519992797, 0.48755208933038424)  emb + lags + nauth + all_norm"
   ]
  },
  {
   "cell_type": "code",
   "execution_count": null,
   "id": "8ff54468-e3a7-403c-b6e9-67ad93a5e09e",
   "metadata": {},
   "outputs": [],
   "source": []
  },
  {
   "cell_type": "code",
   "execution_count": 28,
   "id": "381dce61-ab9a-45f9-934a-3cb80c94d115",
   "metadata": {},
   "outputs": [],
   "source": [
    "NTRY = 6"
   ]
  },
  {
   "cell_type": "markdown",
   "id": "81b7d454-37b6-45ee-94fb-99af0fe23ae5",
   "metadata": {},
   "source": [
    "## save models"
   ]
  },
  {
   "cell_type": "code",
   "execution_count": null,
   "id": "aa4adde3-b017-4cea-9ae8-fc7cea77bab1",
   "metadata": {},
   "outputs": [],
   "source": []
  },
  {
   "cell_type": "code",
   "execution_count": 29,
   "id": "75aa11de-71cb-47a7-9e22-2857f7f7e643",
   "metadata": {},
   "outputs": [],
   "source": [
    "cb_model_views.save_model(os.path.join(DIR_MODELS, f'{NTRY}_cb_views.cbm'), \n",
    "                           format=\"cbm\",\n",
    "                           export_parameters=None,\n",
    "                           pool=None\n",
    "                         )\n",
    "\n",
    "cb_model_depth.save_model(os.path.join(DIR_MODELS, f'{NTRY}_cb_depth.cbm'), \n",
    "                           format=\"cbm\",\n",
    "                           export_parameters=None,\n",
    "                           pool=None\n",
    "                         )\n",
    "\n",
    "cb_model_frp.save_model(os.path.join(DIR_MODELS, f'{NTRY}_cb_frp.cbm'), \n",
    "                           format=\"cbm\",\n",
    "                           export_parameters=None,\n",
    "                           pool=None\n",
    "                         )"
   ]
  },
  {
   "cell_type": "code",
   "execution_count": null,
   "id": "102c6530-8a1b-4c1c-a1d3-e9d95e350220",
   "metadata": {},
   "outputs": [],
   "source": []
  },
  {
   "cell_type": "markdown",
   "id": "ac604b78-2718-408d-8d19-5b202d3f5a19",
   "metadata": {},
   "source": [
    "## make predict"
   ]
  },
  {
   "cell_type": "code",
   "execution_count": 30,
   "id": "df8e4305-28ed-444f-8325-e6460f7d2271",
   "metadata": {},
   "outputs": [],
   "source": [
    "pred_views = cb_model_views.predict(df_test[cat_cols + num_cols])\n",
    "pred_depth = cb_model_depth.predict(df_test[cat_cols + num_cols])\n",
    "pred_frp   = cb_model_frp.predict(  df_test[cat_cols + num_cols])"
   ]
  },
  {
   "cell_type": "code",
   "execution_count": 31,
   "id": "f422300e-24cf-435a-af11-a450f4f10393",
   "metadata": {},
   "outputs": [],
   "source": [
    "subm = pd.DataFrame()\n",
    "subm['document_id'] = df_test.index\n",
    "\n",
    "subm['views'] = pred_views\n",
    "subm['depth'] = pred_depth\n",
    "subm['full_reads_percent'] = pred_frp"
   ]
  },
  {
   "cell_type": "code",
   "execution_count": 32,
   "id": "37fa65e1-c702-4764-8f84-eb93b80c73f8",
   "metadata": {},
   "outputs": [
    {
     "data": {
      "text/html": [
       "<div>\n",
       "<style scoped>\n",
       "    .dataframe tbody tr th:only-of-type {\n",
       "        vertical-align: middle;\n",
       "    }\n",
       "\n",
       "    .dataframe tbody tr th {\n",
       "        vertical-align: top;\n",
       "    }\n",
       "\n",
       "    .dataframe thead th {\n",
       "        text-align: right;\n",
       "    }\n",
       "</style>\n",
       "<table border=\"1\" class=\"dataframe\">\n",
       "  <thead>\n",
       "    <tr style=\"text-align: right;\">\n",
       "      <th></th>\n",
       "      <th>document_id</th>\n",
       "      <th>views</th>\n",
       "      <th>depth</th>\n",
       "      <th>full_reads_percent</th>\n",
       "    </tr>\n",
       "  </thead>\n",
       "  <tbody>\n",
       "    <tr>\n",
       "      <th>0</th>\n",
       "      <td>0</td>\n",
       "      <td>21962.206852</td>\n",
       "      <td>1.161584</td>\n",
       "      <td>37.396553</td>\n",
       "    </tr>\n",
       "    <tr>\n",
       "      <th>1</th>\n",
       "      <td>1</td>\n",
       "      <td>13442.089310</td>\n",
       "      <td>1.059208</td>\n",
       "      <td>28.592472</td>\n",
       "    </tr>\n",
       "    <tr>\n",
       "      <th>2</th>\n",
       "      <td>2</td>\n",
       "      <td>13232.259815</td>\n",
       "      <td>1.059418</td>\n",
       "      <td>30.516706</td>\n",
       "    </tr>\n",
       "    <tr>\n",
       "      <th>3</th>\n",
       "      <td>3</td>\n",
       "      <td>14040.582570</td>\n",
       "      <td>1.063948</td>\n",
       "      <td>36.572453</td>\n",
       "    </tr>\n",
       "    <tr>\n",
       "      <th>4</th>\n",
       "      <td>4</td>\n",
       "      <td>154037.518560</td>\n",
       "      <td>1.161816</td>\n",
       "      <td>31.566852</td>\n",
       "    </tr>\n",
       "  </tbody>\n",
       "</table>\n",
       "</div>"
      ],
      "text/plain": [
       "   document_id          views     depth  full_reads_percent\n",
       "0            0   21962.206852  1.161584           37.396553\n",
       "1            1   13442.089310  1.059208           28.592472\n",
       "2            2   13232.259815  1.059418           30.516706\n",
       "3            3   14040.582570  1.063948           36.572453\n",
       "4            4  154037.518560  1.161816           31.566852"
      ]
     },
     "execution_count": 32,
     "metadata": {},
     "output_type": "execute_result"
    }
   ],
   "source": [
    "subm.head()"
   ]
  },
  {
   "cell_type": "code",
   "execution_count": 33,
   "id": "00d26c97-fb11-49b4-940e-ea797b27d29d",
   "metadata": {},
   "outputs": [],
   "source": [
    "subm.to_csv(os.path.join(DIR_SUBM, f'{NTRY}_cb_ttls_emd_lags.csv'), index = False)"
   ]
  },
  {
   "cell_type": "code",
   "execution_count": null,
   "id": "381434ea-0954-4ac1-8278-348a674c1a9c",
   "metadata": {},
   "outputs": [],
   "source": []
  }
 ],
 "metadata": {
  "kernelspec": {
   "display_name": "Python 3",
   "language": "python",
   "name": "python3"
  },
  "language_info": {
   "codemirror_mode": {
    "name": "ipython",
    "version": 3
   },
   "file_extension": ".py",
   "mimetype": "text/x-python",
   "name": "python",
   "nbconvert_exporter": "python",
   "pygments_lexer": "ipython3",
   "version": "3.7.10"
  }
 },
 "nbformat": 4,
 "nbformat_minor": 5
}
