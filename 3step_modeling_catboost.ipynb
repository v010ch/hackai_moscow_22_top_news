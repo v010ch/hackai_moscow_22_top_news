{
 "cells": [
  {
   "cell_type": "code",
   "execution_count": 1,
   "id": "6f62ec01-36f8-4ffe-b187-0616094602d5",
   "metadata": {},
   "outputs": [],
   "source": [
    "%load_ext watermark"
   ]
  },
  {
   "cell_type": "code",
   "execution_count": 2,
   "id": "fd631481-f748-4610-94f4-a0d9b5bbe4ed",
   "metadata": {},
   "outputs": [
    {
     "name": "stdout",
     "output_type": "stream",
     "text": [
      "Last updated: 2022-06-28T15:22:58.898659+03:00\n",
      "\n",
      "Python implementation: CPython\n",
      "Python version       : 3.7.10\n",
      "IPython version      : 7.22.0\n",
      "\n",
      "Compiler    : MSC v.1916 64 bit (AMD64)\n",
      "OS          : Windows\n",
      "Release     : 10\n",
      "Machine     : AMD64\n",
      "Processor   : Intel64 Family 6 Model 158 Stepping 9, GenuineIntel\n",
      "CPU cores   : 8\n",
      "Architecture: 64bit\n",
      "\n"
     ]
    }
   ],
   "source": [
    "%watermark"
   ]
  },
  {
   "cell_type": "code",
   "execution_count": 3,
   "id": "2f268c90-86ca-4ea1-8a02-3a6b43c450cf",
   "metadata": {},
   "outputs": [],
   "source": [
    "import os\n",
    "import pickle as pkl\n",
    "\n",
    "import numpy as np\n",
    "import pandas as pd\n",
    "\n",
    "from sklearn.metrics import r2_score\n",
    "from catboost import CatBoostRegressor, Pool\n"
   ]
  },
  {
   "cell_type": "code",
   "execution_count": 4,
   "id": "68c33f68-68f2-4e66-a8c6-4a7ac88eb910",
   "metadata": {},
   "outputs": [
    {
     "name": "stdout",
     "output_type": "stream",
     "text": [
      "cb_version: 0.24.3\n",
      "sklearn_version: 0.24.2\n"
     ]
    }
   ],
   "source": [
    "from catboost import __version__ as cb_version\n",
    "from sklearn import __version__ as sklearn_version\n",
    "\n",
    "print(f'cb_version: {cb_version}')\n",
    "print(f'sklearn_version: {sklearn_version}')"
   ]
  },
  {
   "cell_type": "code",
   "execution_count": 5,
   "id": "21f6a58a-b019-4436-83ec-428714473139",
   "metadata": {},
   "outputs": [
    {
     "name": "stdout",
     "output_type": "stream",
     "text": [
      "pandas: 0.25.3\n",
      "numpy : 1.20.3\n",
      "\n"
     ]
    }
   ],
   "source": [
    "%watermark --iversions"
   ]
  },
  {
   "cell_type": "code",
   "execution_count": null,
   "id": "8238fc41-4ff8-45af-832d-8ca6512b8995",
   "metadata": {},
   "outputs": [],
   "source": []
  },
  {
   "cell_type": "code",
   "execution_count": null,
   "id": "fabdb0fa-405c-4649-b004-d353666fef7a",
   "metadata": {},
   "outputs": [],
   "source": []
  },
  {
   "cell_type": "markdown",
   "id": "3f3d5ca4-753b-47f1-801f-02be08c0bc3c",
   "metadata": {},
   "source": [
    "## Reproducibility block"
   ]
  },
  {
   "cell_type": "code",
   "execution_count": 6,
   "id": "8d133278-9bc6-4c5d-b029-bd0c31d6adf1",
   "metadata": {},
   "outputs": [],
   "source": [
    "# seed the RNG for all devices (both CPU and CUDA)\n",
    "#torch.manual_seed(1984)\n",
    "\n",
    "#Disabling the benchmarking feature causes cuDNN to deterministically select an algorithm, \n",
    "#possibly at the cost of reduced performance.\n",
    "#torch.backends.cudnn.benchmark = False\n",
    "\n",
    "# for custom operators,\n",
    "import random\n",
    "random.seed(5986721)\n",
    "\n",
    "# \n",
    "np.random.seed(62185)\n",
    "\n",
    "#sklearn take seed from a line abowe\n",
    "\n",
    "CB_RANDOMSEED = 309487"
   ]
  },
  {
   "cell_type": "code",
   "execution_count": null,
   "id": "9f38ebd5-a020-47eb-b1f4-9ea987afb524",
   "metadata": {},
   "outputs": [],
   "source": []
  },
  {
   "cell_type": "code",
   "execution_count": 7,
   "id": "019813d1-62ae-4b4d-a2f6-c0d74c146413",
   "metadata": {},
   "outputs": [],
   "source": [
    "DIR_DATA   = os.path.join(os.getcwd(), 'data')\n",
    "DIR_MODELS = os.path.join(os.getcwd(), 'models')\n",
    "DIR_SUBM   = os.path.join(os.getcwd(), 'subm')\n",
    "DIR_SUBM_PART = os.path.join(os.getcwd(), 'subm', 'partial')"
   ]
  },
  {
   "cell_type": "code",
   "execution_count": null,
   "id": "0d608686-6d8e-49ad-906b-b20933e0ec2a",
   "metadata": {},
   "outputs": [],
   "source": []
  },
  {
   "cell_type": "markdown",
   "id": "ae3e27a3-16bb-456d-b7a1-7975d5f85ea5",
   "metadata": {},
   "source": [
    "## Load data"
   ]
  },
  {
   "cell_type": "code",
   "execution_count": 8,
   "id": "ee296ac9-baf6-4bcb-89ce-5fe99408403d",
   "metadata": {},
   "outputs": [],
   "source": [
    "x_train  = pd.read_csv(os.path.join(DIR_DATA, 'x_train.csv'), index_col= 0)\n",
    "x_val    = pd.read_csv(os.path.join(DIR_DATA, 'x_val.csv'), index_col= 0)\n",
    "df_test  = pd.read_csv(os.path.join(DIR_DATA, 'test_upd.csv'), index_col= 0)\n",
    "\n",
    "with open(os.path.join(DIR_DATA, 'cat_columns.pkl'), 'rb') as pickle_file:\n",
    "    cat_cols = pkl.load(pickle_file)\n",
    "    \n",
    "with open(os.path.join(DIR_DATA, 'num_columns.pkl'), 'rb') as pickle_file:\n",
    "    num_cols = pkl.load(pickle_file)"
   ]
  },
  {
   "cell_type": "code",
   "execution_count": 9,
   "id": "b00427ec-ac4f-4da3-8dfb-94871e63072d",
   "metadata": {},
   "outputs": [
    {
     "data": {
      "text/plain": [
       "((5592, 14), (1399, 14), (3000, 11), 5, 1)"
      ]
     },
     "execution_count": 9,
     "metadata": {},
     "output_type": "execute_result"
    }
   ],
   "source": [
    "x_train.shape, x_val.shape, df_test.shape, len(cat_cols), len(num_cols)"
   ]
  },
  {
   "cell_type": "markdown",
   "id": "d4b599d2-168d-4cc1-a4ea-fc34d707a0ce",
   "metadata": {},
   "source": [
    "отделяем метки от данных"
   ]
  },
  {
   "cell_type": "code",
   "execution_count": 10,
   "id": "40de44ef-8722-48fc-84f7-c78ce45471fc",
   "metadata": {},
   "outputs": [
    {
     "data": {
      "text/plain": [
       "((5592, 11), (1399, 11), (5592, 3), (1399, 3))"
      ]
     },
     "execution_count": 10,
     "metadata": {},
     "output_type": "execute_result"
    }
   ],
   "source": [
    "y_train = x_train[['views', 'depth', 'full_reads_percent']]\n",
    "y_val   = x_val[['views', 'depth', 'full_reads_percent']]\n",
    "\n",
    "x_train.drop(['views', 'depth', 'full_reads_percent'], axis = 1, inplace = True)\n",
    "x_val.drop(  ['views', 'depth', 'full_reads_percent'], axis = 1, inplace = True)\n",
    "\n",
    "x_train.shape, x_val.shape, y_train.shape, y_val.shape"
   ]
  },
  {
   "cell_type": "code",
   "execution_count": 11,
   "id": "c416f029-f4cc-46cf-aa20-c30e664b1cdb",
   "metadata": {},
   "outputs": [
    {
     "data": {
      "text/plain": [
       "['hour', 'dow', 'weekend', 'day', 'mounth', 'ctr']"
      ]
     },
     "execution_count": 11,
     "metadata": {},
     "output_type": "execute_result"
    }
   ],
   "source": [
    "cat_cols + num_cols"
   ]
  },
  {
   "cell_type": "code",
   "execution_count": 12,
   "id": "4a71aa58-27b4-4087-ba4c-595958c1c5fe",
   "metadata": {},
   "outputs": [],
   "source": [
    "#views\n",
    "train_ds_views = Pool(x_train[cat_cols + num_cols],\n",
    "                      y_train[['views']],\n",
    "                      cat_features = cat_cols,\n",
    "                      feature_names = cat_cols + num_cols\n",
    "                     )\n",
    "\n",
    "val_ds_views   = Pool(x_val[cat_cols + num_cols],\n",
    "                      y_val[['views']],\n",
    "                      cat_features = cat_cols,\n",
    "                      feature_names = cat_cols + num_cols\n",
    "                     )\n",
    "\n",
    "\n",
    "#depth\n",
    "train_ds_depth = Pool(x_train[cat_cols + num_cols],\n",
    "                      y_train[['depth']],\n",
    "                      cat_features = cat_cols,\n",
    "                      feature_names = cat_cols + num_cols\n",
    "                     )\n",
    "\n",
    "val_ds_depth   = Pool(x_val[cat_cols + num_cols],\n",
    "                      y_val[['depth']],\n",
    "                      cat_features = cat_cols,\n",
    "                      feature_names = cat_cols + num_cols\n",
    "                     )\n",
    "\n",
    "\n",
    "#full_reads_percent\n",
    "train_ds_frp = Pool(x_train[cat_cols + num_cols],\n",
    "                      y_train[['full_reads_percent']],\n",
    "                      cat_features = cat_cols,\n",
    "                      feature_names = cat_cols + num_cols\n",
    "                     )\n",
    "\n",
    "val_ds_frp   = Pool(x_val[cat_cols + num_cols],\n",
    "                      y_val[['full_reads_percent']],\n",
    "                      cat_features = cat_cols,\n",
    "                      feature_names = cat_cols + num_cols\n",
    "                     )"
   ]
  },
  {
   "cell_type": "code",
   "execution_count": null,
   "id": "12ae502e-4ce4-4f6e-947f-4f6f5942584a",
   "metadata": {},
   "outputs": [],
   "source": []
  },
  {
   "cell_type": "markdown",
   "id": "668fd48f-3112-40a7-a453-d4f159ef4877",
   "metadata": {},
   "source": [
    "## views"
   ]
  },
  {
   "cell_type": "code",
   "execution_count": 13,
   "id": "37fb9d99-b182-4aae-85ba-24ff91dfbe33",
   "metadata": {},
   "outputs": [
    {
     "name": "stdout",
     "output_type": "stream",
     "text": [
      "0:\tlearn: 75360.1195395\ttest: 117870.0504397\tbest: 117870.0504397 (0)\ttotal: 169ms\tremaining: 3.21s\n",
      "1:\tlearn: 75355.2302093\ttest: 117841.6199129\tbest: 117841.6199129 (1)\ttotal: 185ms\tremaining: 1.66s\n",
      "2:\tlearn: 75113.6961385\ttest: 117629.6379271\tbest: 117629.6379271 (2)\ttotal: 196ms\tremaining: 1.11s\n",
      "3:\tlearn: 74102.7144209\ttest: 118039.1228816\tbest: 117629.6379271 (2)\ttotal: 207ms\tremaining: 827ms\n",
      "4:\tlearn: 73462.8981654\ttest: 117505.9048526\tbest: 117505.9048526 (4)\ttotal: 216ms\tremaining: 648ms\n",
      "5:\tlearn: 72846.4225476\ttest: 117375.3612864\tbest: 117375.3612864 (5)\ttotal: 226ms\tremaining: 527ms\n",
      "6:\tlearn: 72833.7801154\ttest: 117361.9729046\tbest: 117361.9729046 (6)\ttotal: 234ms\tremaining: 435ms\n",
      "7:\tlearn: 71824.6538451\ttest: 117036.6227086\tbest: 117036.6227086 (7)\ttotal: 244ms\tremaining: 365ms\n",
      "8:\tlearn: 68957.5419793\ttest: 115216.3151507\tbest: 115216.3151507 (8)\ttotal: 252ms\tremaining: 309ms\n",
      "9:\tlearn: 64445.6197501\ttest: 95115.2262314\tbest: 95115.2262314 (9)\ttotal: 261ms\tremaining: 261ms\n",
      "10:\tlearn: 64099.3834151\ttest: 94810.1541639\tbest: 94810.1541639 (10)\ttotal: 270ms\tremaining: 221ms\n",
      "11:\tlearn: 63736.1378175\ttest: 94933.3648842\tbest: 94810.1541639 (10)\ttotal: 278ms\tremaining: 185ms\n",
      "12:\tlearn: 63734.5924769\ttest: 94934.6876221\tbest: 94810.1541639 (10)\ttotal: 286ms\tremaining: 154ms\n",
      "13:\tlearn: 63204.2181218\ttest: 94440.5422689\tbest: 94440.5422689 (13)\ttotal: 294ms\tremaining: 126ms\n",
      "14:\tlearn: 63028.3106976\ttest: 94328.6075402\tbest: 94328.6075402 (14)\ttotal: 303ms\tremaining: 101ms\n",
      "15:\tlearn: 60744.9527106\ttest: 89698.6876596\tbest: 89698.6876596 (15)\ttotal: 311ms\tremaining: 77.7ms\n",
      "16:\tlearn: 60193.5988275\ttest: 89481.6448077\tbest: 89481.6448077 (16)\ttotal: 319ms\tremaining: 56.3ms\n",
      "17:\tlearn: 59969.4635375\ttest: 89214.2105595\tbest: 89214.2105595 (17)\ttotal: 327ms\tremaining: 36.4ms\n",
      "18:\tlearn: 59839.2292577\ttest: 89376.5689499\tbest: 89214.2105595 (17)\ttotal: 336ms\tremaining: 17.7ms\n",
      "19:\tlearn: 59074.3832303\ttest: 89427.5391683\tbest: 89214.2105595 (17)\ttotal: 344ms\tremaining: 0us\n",
      "\n",
      "bestTest = 89214.21056\n",
      "bestIteration = 17\n",
      "\n",
      "Shrink model to first 18 iterations.\n"
     ]
    },
    {
     "data": {
      "text/plain": [
       "<catboost.core.CatBoostRegressor at 0x228c9aea508>"
      ]
     },
     "execution_count": 13,
     "metadata": {},
     "output_type": "execute_result"
    }
   ],
   "source": [
    "cb_model_views = CatBoostRegressor(iterations=20,\n",
    "                                   learning_rate=1,\n",
    "                                   depth=4,\n",
    "                                   random_seed = CB_RANDOMSEED,\n",
    "                                  )\n",
    "# Fit model\n",
    "cb_model_views.fit(train_ds_views,\n",
    "        #train_data, train_labels,\n",
    "                   eval_set=val_ds_views, \n",
    "                   #plot = True,\n",
    "                  )"
   ]
  },
  {
   "cell_type": "code",
   "execution_count": 14,
   "id": "b0c470be-2a85-4ddc-8523-19194d636b32",
   "metadata": {},
   "outputs": [
    {
     "data": {
      "text/plain": [
       "(0.5100195781796532, 0.5065575808145328)"
      ]
     },
     "execution_count": 14,
     "metadata": {},
     "output_type": "execute_result"
    }
   ],
   "source": [
    "# Get predictions and metrics\n",
    "preds_train_views = cb_model_views.predict(x_train[cat_cols + num_cols])\n",
    "preds_val_views   = cb_model_views.predict(val_ds_views)\n",
    "\n",
    "train_score_views = r2_score(y_train[\"views\"], preds_train_views)\n",
    "val_score_views   = r2_score(y_val[\"views\"],   preds_val_views)\n",
    "\n",
    "train_score_views, val_score_views"
   ]
  },
  {
   "cell_type": "raw",
   "id": "fbcef74b-d54b-4a08-ab5d-c4838a2ccb05",
   "metadata": {},
   "source": [
    "(0.5100195781796532, 0.5065575808145328)"
   ]
  },
  {
   "cell_type": "markdown",
   "id": "a3cac29b-566d-4c8b-9cf7-9ef84a7261d2",
   "metadata": {},
   "source": [
    "## depth"
   ]
  },
  {
   "cell_type": "code",
   "execution_count": 15,
   "id": "e9948b36-a6f3-4bec-bbb2-402d5186ef4e",
   "metadata": {},
   "outputs": [
    {
     "name": "stdout",
     "output_type": "stream",
     "text": [
      "0:\tlearn: 0.0488160\ttest: 0.0547476\tbest: 0.0547476 (0)\ttotal: 25.1ms\tremaining: 477ms\n",
      "1:\tlearn: 0.0452337\ttest: 0.0498291\tbest: 0.0498291 (1)\ttotal: 39.5ms\tremaining: 355ms\n",
      "2:\tlearn: 0.0441018\ttest: 0.0494809\tbest: 0.0494809 (2)\ttotal: 52ms\tremaining: 294ms\n",
      "3:\tlearn: 0.0434015\ttest: 0.0489231\tbest: 0.0489231 (3)\ttotal: 60.7ms\tremaining: 243ms\n",
      "4:\tlearn: 0.0430400\ttest: 0.0486279\tbest: 0.0486279 (4)\ttotal: 69.3ms\tremaining: 208ms\n",
      "5:\tlearn: 0.0426768\ttest: 0.0487880\tbest: 0.0486279 (4)\ttotal: 77.5ms\tremaining: 181ms\n",
      "6:\tlearn: 0.0426442\ttest: 0.0487599\tbest: 0.0486279 (4)\ttotal: 86.2ms\tremaining: 160ms\n",
      "7:\tlearn: 0.0426415\ttest: 0.0487663\tbest: 0.0486279 (4)\ttotal: 96.1ms\tremaining: 144ms\n",
      "8:\tlearn: 0.0423437\ttest: 0.0485966\tbest: 0.0485966 (8)\ttotal: 105ms\tremaining: 128ms\n",
      "9:\tlearn: 0.0411557\ttest: 0.0485407\tbest: 0.0485407 (9)\ttotal: 114ms\tremaining: 114ms\n",
      "10:\tlearn: 0.0401989\ttest: 0.0484133\tbest: 0.0484133 (10)\ttotal: 123ms\tremaining: 101ms\n",
      "11:\tlearn: 0.0395377\ttest: 0.0476966\tbest: 0.0476966 (11)\ttotal: 131ms\tremaining: 87.6ms\n",
      "12:\tlearn: 0.0391717\ttest: 0.0468036\tbest: 0.0468036 (12)\ttotal: 141ms\tremaining: 75.8ms\n",
      "13:\tlearn: 0.0391109\ttest: 0.0468268\tbest: 0.0468036 (12)\ttotal: 149ms\tremaining: 63.8ms\n",
      "14:\tlearn: 0.0389914\ttest: 0.0469594\tbest: 0.0468036 (12)\ttotal: 158ms\tremaining: 52.8ms\n",
      "15:\tlearn: 0.0388612\ttest: 0.0470861\tbest: 0.0468036 (12)\ttotal: 167ms\tremaining: 41.7ms\n",
      "16:\tlearn: 0.0387832\ttest: 0.0471106\tbest: 0.0468036 (12)\ttotal: 176ms\tremaining: 31ms\n",
      "17:\tlearn: 0.0387691\ttest: 0.0471080\tbest: 0.0468036 (12)\ttotal: 184ms\tremaining: 20.4ms\n",
      "18:\tlearn: 0.0387631\ttest: 0.0471073\tbest: 0.0468036 (12)\ttotal: 193ms\tremaining: 10.2ms\n",
      "19:\tlearn: 0.0387259\ttest: 0.0471289\tbest: 0.0468036 (12)\ttotal: 202ms\tremaining: 0us\n",
      "\n",
      "bestTest = 0.046803594\n",
      "bestIteration = 12\n",
      "\n",
      "Shrink model to first 13 iterations.\n"
     ]
    },
    {
     "data": {
      "text/plain": [
       "<catboost.core.CatBoostRegressor at 0x228c9b1be08>"
      ]
     },
     "execution_count": 15,
     "metadata": {},
     "output_type": "execute_result"
    }
   ],
   "source": [
    "cb_model_depth = CatBoostRegressor(iterations=20,\n",
    "                                   learning_rate=1,\n",
    "                                   depth=4,\n",
    "                                   random_seed = CB_RANDOMSEED,\n",
    "                                  )\n",
    "# Fit model\n",
    "cb_model_depth.fit(train_ds_depth,\n",
    "                   eval_set=val_ds_depth, \n",
    "                   #plot = True,\n",
    "                  )"
   ]
  },
  {
   "cell_type": "code",
   "execution_count": 16,
   "id": "2596cde2-acc0-4f27-8ab9-6658e7cba842",
   "metadata": {},
   "outputs": [
    {
     "data": {
      "text/plain": [
       "(0.6426108706670193, 0.5285762915493839)"
      ]
     },
     "execution_count": 16,
     "metadata": {},
     "output_type": "execute_result"
    }
   ],
   "source": [
    "# Get predictions and metrics\n",
    "preds_train_depth = cb_model_depth.predict(x_train[cat_cols + num_cols])\n",
    "preds_val_depth   = cb_model_depth.predict(val_ds_depth)\n",
    "\n",
    "train_score_depth = r2_score(y_train[\"depth\"], preds_train_depth)\n",
    "val_score_depth   = r2_score(y_val[\"depth\"],   preds_val_depth)\n",
    "\n",
    "train_score_depth, val_score_depth"
   ]
  },
  {
   "cell_type": "raw",
   "id": "42b4b5db-a639-4829-9350-0c78a2bb037b",
   "metadata": {},
   "source": [
    "(0.6426108706670193, 0.5285762915493839)"
   ]
  },
  {
   "cell_type": "markdown",
   "id": "fafdf6ea-9687-472f-ab6e-86125f5dc7eb",
   "metadata": {},
   "source": [
    "## full_reads_percent"
   ]
  },
  {
   "cell_type": "code",
   "execution_count": 17,
   "id": "7745c438-06e9-477e-ac52-37017039f9c4",
   "metadata": {},
   "outputs": [
    {
     "name": "stdout",
     "output_type": "stream",
     "text": [
      "0:\tlearn: 9.9603569\ttest: 9.2653195\tbest: 9.2653195 (0)\ttotal: 26.2ms\tremaining: 499ms\n",
      "1:\tlearn: 9.8567182\ttest: 9.1838367\tbest: 9.1838367 (1)\ttotal: 50.2ms\tremaining: 452ms\n",
      "2:\tlearn: 9.7876705\ttest: 9.1427622\tbest: 9.1427622 (2)\ttotal: 74ms\tremaining: 419ms\n",
      "3:\tlearn: 9.7453748\ttest: 9.1228918\tbest: 9.1228918 (3)\ttotal: 86.9ms\tremaining: 348ms\n",
      "4:\tlearn: 9.7086656\ttest: 9.1299693\tbest: 9.1228918 (3)\ttotal: 98.1ms\tremaining: 294ms\n",
      "5:\tlearn: 9.6881707\ttest: 9.1287665\tbest: 9.1228918 (3)\ttotal: 106ms\tremaining: 246ms\n",
      "6:\tlearn: 9.6847868\ttest: 9.1285411\tbest: 9.1228918 (3)\ttotal: 114ms\tremaining: 212ms\n",
      "7:\tlearn: 9.6772275\ttest: 9.1294206\tbest: 9.1228918 (3)\ttotal: 123ms\tremaining: 185ms\n",
      "8:\tlearn: 9.6621382\ttest: 9.1170918\tbest: 9.1170918 (8)\ttotal: 132ms\tremaining: 162ms\n",
      "9:\tlearn: 9.6417475\ttest: 9.1322980\tbest: 9.1170918 (8)\ttotal: 142ms\tremaining: 142ms\n",
      "10:\tlearn: 9.6317605\ttest: 9.1334745\tbest: 9.1170918 (8)\ttotal: 150ms\tremaining: 123ms\n",
      "11:\tlearn: 9.5803715\ttest: 9.1405149\tbest: 9.1170918 (8)\ttotal: 159ms\tremaining: 106ms\n",
      "12:\tlearn: 9.5656942\ttest: 9.1396830\tbest: 9.1170918 (8)\ttotal: 168ms\tremaining: 90.6ms\n",
      "13:\tlearn: 9.5591847\ttest: 9.1356711\tbest: 9.1170918 (8)\ttotal: 177ms\tremaining: 75.7ms\n",
      "14:\tlearn: 9.5427561\ttest: 9.1219628\tbest: 9.1170918 (8)\ttotal: 185ms\tremaining: 61.8ms\n",
      "15:\tlearn: 9.5379419\ttest: 9.1284249\tbest: 9.1170918 (8)\ttotal: 194ms\tremaining: 48.5ms\n",
      "16:\tlearn: 9.5269348\ttest: 9.1278642\tbest: 9.1170918 (8)\ttotal: 203ms\tremaining: 35.8ms\n",
      "17:\tlearn: 9.3286722\ttest: 9.1281323\tbest: 9.1170918 (8)\ttotal: 212ms\tremaining: 23.6ms\n",
      "18:\tlearn: 9.2826962\ttest: 9.0884721\tbest: 9.0884721 (18)\ttotal: 224ms\tremaining: 11.8ms\n",
      "19:\tlearn: 9.2621806\ttest: 9.0798267\tbest: 9.0798267 (19)\ttotal: 234ms\tremaining: 0us\n",
      "\n",
      "bestTest = 9.079826705\n",
      "bestIteration = 19\n",
      "\n"
     ]
    },
    {
     "data": {
      "text/plain": [
       "<catboost.core.CatBoostRegressor at 0x228c9b20688>"
      ]
     },
     "execution_count": 17,
     "metadata": {},
     "output_type": "execute_result"
    }
   ],
   "source": [
    "cb_model_frp = CatBoostRegressor(iterations=20,\n",
    "                                 learning_rate=1,\n",
    "                                 depth=4,\n",
    "                                 random_seed = CB_RANDOMSEED,\n",
    "                                )\n",
    "# Fit model\n",
    "cb_model_frp.fit(train_ds_frp,\n",
    "                   eval_set=val_ds_frp, \n",
    "                   #plot = True,\n",
    "                  )"
   ]
  },
  {
   "cell_type": "code",
   "execution_count": 18,
   "id": "ce2f5cf1-5605-4e75-99dd-8c23248ff512",
   "metadata": {},
   "outputs": [
    {
     "data": {
      "text/plain": [
       "(0.23313112177548145, 0.2305089887333156)"
      ]
     },
     "execution_count": 18,
     "metadata": {},
     "output_type": "execute_result"
    }
   ],
   "source": [
    "# Get predictions and metrics\n",
    "preds_train_frp = cb_model_frp.predict(x_train[cat_cols + num_cols])\n",
    "preds_val_frp  = cb_model_frp.predict(val_ds_frp)\n",
    "\n",
    "train_score_frp = r2_score(y_train[\"full_reads_percent\"], preds_train_frp)\n",
    "val_score_frp  = r2_score(y_val[\"full_reads_percent\"],   preds_val_frp)\n",
    "\n",
    "train_score_frp, val_score_frp"
   ]
  },
  {
   "cell_type": "raw",
   "id": "cec2f6b6-9782-4b5c-838c-66df8bfc72e5",
   "metadata": {},
   "source": [
    "(0.23313112177548145, 0.2305089887333156)"
   ]
  },
  {
   "cell_type": "code",
   "execution_count": null,
   "id": "c6b000b9-9f71-4f8d-bb73-d58b91330eca",
   "metadata": {},
   "outputs": [],
   "source": []
  },
  {
   "cell_type": "code",
   "execution_count": 19,
   "id": "304d2314-a21f-4bb0-bd61-9fa94711f9f1",
   "metadata": {},
   "outputs": [
    {
     "data": {
      "text/plain": [
       "(0.46673042900461154, 0.43034861641062294)"
      ]
     },
     "execution_count": 19,
     "metadata": {},
     "output_type": "execute_result"
    }
   ],
   "source": [
    "score_train = 0.4 * train_score_views + 0.3 * train_score_depth + 0.3 * train_score_frp\n",
    "score_val  = 0.4 * val_score_views  + 0.3 * val_score_depth  + 0.3 * val_score_frp\n",
    "\n",
    "score_train, score_val"
   ]
  },
  {
   "cell_type": "raw",
   "id": "b4e2f449-432c-42f7-8cce-5cb15323aca0",
   "metadata": {},
   "source": [
    "(0.46673042900461154, 0.43034861641062294)"
   ]
  },
  {
   "cell_type": "code",
   "execution_count": null,
   "id": "8ff54468-e3a7-403c-b6e9-67ad93a5e09e",
   "metadata": {},
   "outputs": [],
   "source": []
  },
  {
   "cell_type": "markdown",
   "id": "81b7d454-37b6-45ee-94fb-99af0fe23ae5",
   "metadata": {},
   "source": [
    "## save models"
   ]
  },
  {
   "cell_type": "code",
   "execution_count": 20,
   "id": "75aa11de-71cb-47a7-9e22-2857f7f7e643",
   "metadata": {},
   "outputs": [],
   "source": [
    "cb_model_views.save_model(os.path.join(DIR_MODELS, 'cb_views.cbm'), \n",
    "                           format=\"cbm\",\n",
    "                           export_parameters=None,\n",
    "                           pool=None\n",
    "                         )\n",
    "\n",
    "cb_model_depth.save_model(os.path.join(DIR_MODELS, 'cb_depth.cbm'), \n",
    "                           format=\"cbm\",\n",
    "                           export_parameters=None,\n",
    "                           pool=None\n",
    "                         )\n",
    "\n",
    "cb_model_frp.save_model(os.path.join(DIR_MODELS, 'cb_frp.cbm'), \n",
    "                           format=\"cbm\",\n",
    "                           export_parameters=None,\n",
    "                           pool=None\n",
    "                         )"
   ]
  },
  {
   "cell_type": "code",
   "execution_count": null,
   "id": "102c6530-8a1b-4c1c-a1d3-e9d95e350220",
   "metadata": {},
   "outputs": [],
   "source": []
  },
  {
   "cell_type": "markdown",
   "id": "ac604b78-2718-408d-8d19-5b202d3f5a19",
   "metadata": {},
   "source": [
    "## make predict"
   ]
  },
  {
   "cell_type": "code",
   "execution_count": 21,
   "id": "df8e4305-28ed-444f-8325-e6460f7d2271",
   "metadata": {},
   "outputs": [],
   "source": [
    "pred_views = cb_model_views.predict(df_test[cat_cols + num_cols])\n",
    "pred_depth = cb_model_depth.predict(df_test[cat_cols + num_cols])\n",
    "pred_frp   = cb_model_frp.predict(  df_test[cat_cols + num_cols])"
   ]
  },
  {
   "cell_type": "code",
   "execution_count": 22,
   "id": "f422300e-24cf-435a-af11-a450f4f10393",
   "metadata": {},
   "outputs": [],
   "source": [
    "subm = pd.DataFrame()\n",
    "subm['document_id'] = df_test.index\n",
    "\n",
    "subm['views'] = pred_views\n",
    "subm['depth'] = pred_depth\n",
    "subm['full_reads_percent'] = pred_frp"
   ]
  },
  {
   "cell_type": "code",
   "execution_count": 23,
   "id": "37fa65e1-c702-4764-8f84-eb93b80c73f8",
   "metadata": {},
   "outputs": [
    {
     "data": {
      "text/html": [
       "<div>\n",
       "<style scoped>\n",
       "    .dataframe tbody tr th:only-of-type {\n",
       "        vertical-align: middle;\n",
       "    }\n",
       "\n",
       "    .dataframe tbody tr th {\n",
       "        vertical-align: top;\n",
       "    }\n",
       "\n",
       "    .dataframe thead th {\n",
       "        text-align: right;\n",
       "    }\n",
       "</style>\n",
       "<table border=\"1\" class=\"dataframe\">\n",
       "  <thead>\n",
       "    <tr style=\"text-align: right;\">\n",
       "      <th></th>\n",
       "      <th>document_id</th>\n",
       "      <th>views</th>\n",
       "      <th>depth</th>\n",
       "      <th>full_reads_percent</th>\n",
       "    </tr>\n",
       "  </thead>\n",
       "  <tbody>\n",
       "    <tr>\n",
       "      <th>0</th>\n",
       "      <td>61f9569a9a794794245a82abJ0AvX96vTAaQCiWVbzoMdw</td>\n",
       "      <td>16926.122021</td>\n",
       "      <td>1.176089</td>\n",
       "      <td>36.264629</td>\n",
       "    </tr>\n",
       "    <tr>\n",
       "      <th>1</th>\n",
       "      <td>628c22b89a79470e553f594bQS5CqzXYRnmDdR2LaSreEw</td>\n",
       "      <td>7331.857768</td>\n",
       "      <td>1.063776</td>\n",
       "      <td>32.743696</td>\n",
       "    </tr>\n",
       "    <tr>\n",
       "      <th>2</th>\n",
       "      <td>627cb3249a7947ebdd752865XVsoyrUOT8OJJg2_finJhw</td>\n",
       "      <td>8209.656081</td>\n",
       "      <td>1.066230</td>\n",
       "      <td>30.633026</td>\n",
       "    </tr>\n",
       "    <tr>\n",
       "      <th>3</th>\n",
       "      <td>628618629a7947d4927eb812upfii3whSSuMXCqcqF8VbQ</td>\n",
       "      <td>7348.966911</td>\n",
       "      <td>1.057085</td>\n",
       "      <td>37.624757</td>\n",
       "    </tr>\n",
       "    <tr>\n",
       "      <th>4</th>\n",
       "      <td>620e76109a7947235623695b5hzCiIHdSYKQIr8WAM18bw</td>\n",
       "      <td>160489.198657</td>\n",
       "      <td>1.164103</td>\n",
       "      <td>31.792748</td>\n",
       "    </tr>\n",
       "  </tbody>\n",
       "</table>\n",
       "</div>"
      ],
      "text/plain": [
       "                                      document_id          views     depth  \\\n",
       "0  61f9569a9a794794245a82abJ0AvX96vTAaQCiWVbzoMdw   16926.122021  1.176089   \n",
       "1  628c22b89a79470e553f594bQS5CqzXYRnmDdR2LaSreEw    7331.857768  1.063776   \n",
       "2  627cb3249a7947ebdd752865XVsoyrUOT8OJJg2_finJhw    8209.656081  1.066230   \n",
       "3  628618629a7947d4927eb812upfii3whSSuMXCqcqF8VbQ    7348.966911  1.057085   \n",
       "4  620e76109a7947235623695b5hzCiIHdSYKQIr8WAM18bw  160489.198657  1.164103   \n",
       "\n",
       "   full_reads_percent  \n",
       "0           36.264629  \n",
       "1           32.743696  \n",
       "2           30.633026  \n",
       "3           37.624757  \n",
       "4           31.792748  "
      ]
     },
     "execution_count": 23,
     "metadata": {},
     "output_type": "execute_result"
    }
   ],
   "source": [
    "subm.head()"
   ]
  },
  {
   "cell_type": "code",
   "execution_count": 24,
   "id": "00d26c97-fb11-49b4-940e-ea797b27d29d",
   "metadata": {},
   "outputs": [],
   "source": [
    "subm.to_csv(os.path.join(DIR_SUBM, '1_cb_baseline_test.csv'), index = False)"
   ]
  },
  {
   "cell_type": "code",
   "execution_count": null,
   "id": "381434ea-0954-4ac1-8278-348a674c1a9c",
   "metadata": {},
   "outputs": [],
   "source": []
  }
 ],
 "metadata": {
  "kernelspec": {
   "display_name": "Python 3",
   "language": "python",
   "name": "python3"
  },
  "language_info": {
   "codemirror_mode": {
    "name": "ipython",
    "version": 3
   },
   "file_extension": ".py",
   "mimetype": "text/x-python",
   "name": "python",
   "nbconvert_exporter": "python",
   "pygments_lexer": "ipython3",
   "version": "3.7.10"
  }
 },
 "nbformat": 4,
 "nbformat_minor": 5
}
