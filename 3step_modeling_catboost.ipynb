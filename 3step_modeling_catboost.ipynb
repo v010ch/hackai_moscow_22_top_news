{
 "cells": [
  {
   "cell_type": "code",
   "execution_count": 1,
   "id": "6f62ec01-36f8-4ffe-b187-0616094602d5",
   "metadata": {},
   "outputs": [],
   "source": [
    "%load_ext watermark"
   ]
  },
  {
   "cell_type": "code",
   "execution_count": 2,
   "id": "fd631481-f748-4610-94f4-a0d9b5bbe4ed",
   "metadata": {},
   "outputs": [
    {
     "name": "stdout",
     "output_type": "stream",
     "text": [
      "Last updated: 2022-07-21T02:09:14.176866+03:00\n",
      "\n",
      "Python implementation: CPython\n",
      "Python version       : 3.7.10\n",
      "IPython version      : 7.22.0\n",
      "\n",
      "Compiler    : MSC v.1916 64 bit (AMD64)\n",
      "OS          : Windows\n",
      "Release     : 10\n",
      "Machine     : AMD64\n",
      "Processor   : Intel64 Family 6 Model 158 Stepping 9, GenuineIntel\n",
      "CPU cores   : 8\n",
      "Architecture: 64bit\n",
      "\n"
     ]
    }
   ],
   "source": [
    "%watermark"
   ]
  },
  {
   "cell_type": "code",
   "execution_count": 3,
   "id": "2f268c90-86ca-4ea1-8a02-3a6b43c450cf",
   "metadata": {},
   "outputs": [],
   "source": [
    "import os\n",
    "import pickle as pkl\n",
    "\n",
    "import numpy as np\n",
    "import pandas as pd\n",
    "\n",
    "from sklearn.metrics import r2_score\n",
    "from sklearn import preprocessing\n",
    "from catboost import CatBoostRegressor, Pool, cv\n",
    "\n",
    "import matplotlib.pyplot as plt\n",
    "import seaborn as sns"
   ]
  },
  {
   "cell_type": "code",
   "execution_count": 4,
   "id": "68c33f68-68f2-4e66-a8c6-4a7ac88eb910",
   "metadata": {},
   "outputs": [
    {
     "name": "stdout",
     "output_type": "stream",
     "text": [
      "cb_version: 0.24.3\n",
      "sklearn_version: 0.24.2\n"
     ]
    }
   ],
   "source": [
    "from catboost import __version__ as cb_version\n",
    "from sklearn import __version__ as sklearn_version\n",
    "\n",
    "print(f'cb_version: {cb_version}')\n",
    "print(f'sklearn_version: {sklearn_version}')"
   ]
  },
  {
   "cell_type": "code",
   "execution_count": 5,
   "id": "21f6a58a-b019-4436-83ec-428714473139",
   "metadata": {},
   "outputs": [
    {
     "name": "stdout",
     "output_type": "stream",
     "text": [
      "numpy     : 1.20.3\n",
      "sklearn   : 0.24.2\n",
      "pandas    : 0.25.3\n",
      "seaborn   : 0.11.1\n",
      "matplotlib: 3.3.4\n",
      "\n"
     ]
    }
   ],
   "source": [
    "%watermark --iversions"
   ]
  },
  {
   "cell_type": "code",
   "execution_count": null,
   "id": "8238fc41-4ff8-45af-832d-8ca6512b8995",
   "metadata": {},
   "outputs": [],
   "source": []
  },
  {
   "cell_type": "code",
   "execution_count": null,
   "id": "fabdb0fa-405c-4649-b004-d353666fef7a",
   "metadata": {},
   "outputs": [],
   "source": []
  },
  {
   "cell_type": "markdown",
   "id": "3f3d5ca4-753b-47f1-801f-02be08c0bc3c",
   "metadata": {},
   "source": [
    "## Reproducibility block"
   ]
  },
  {
   "cell_type": "code",
   "execution_count": 6,
   "id": "8d133278-9bc6-4c5d-b029-bd0c31d6adf1",
   "metadata": {},
   "outputs": [],
   "source": [
    "# seed the RNG for all devices (both CPU and CUDA)\n",
    "#torch.manual_seed(1984)\n",
    "\n",
    "#Disabling the benchmarking feature causes cuDNN to deterministically select an algorithm, \n",
    "#possibly at the cost of reduced performance.\n",
    "#torch.backends.cudnn.benchmark = False\n",
    "\n",
    "# for custom operators,\n",
    "import random\n",
    "random.seed(5986721)\n",
    "\n",
    "# \n",
    "np.random.seed(62185)\n",
    "\n",
    "#sklearn take seed from a line abowe\n",
    "\n",
    "CB_RANDOMSEED  = 309487\n",
    "XGB_RANDOMSEED = 56\n",
    "LGB_RANDOMSEED = 874256"
   ]
  },
  {
   "cell_type": "code",
   "execution_count": null,
   "id": "9f38ebd5-a020-47eb-b1f4-9ea987afb524",
   "metadata": {},
   "outputs": [],
   "source": []
  },
  {
   "cell_type": "code",
   "execution_count": 7,
   "id": "019813d1-62ae-4b4d-a2f6-c0d74c146413",
   "metadata": {},
   "outputs": [],
   "source": [
    "DIR_DATA   = os.path.join(os.getcwd(), 'data')\n",
    "DIR_MODELS = os.path.join(os.getcwd(), 'models')\n",
    "DIR_SUBM   = os.path.join(os.getcwd(), 'subm')\n",
    "DIR_SUBM_PART = os.path.join(os.getcwd(), 'subm', 'partial')"
   ]
  },
  {
   "cell_type": "code",
   "execution_count": null,
   "id": "0d608686-6d8e-49ad-906b-b20933e0ec2a",
   "metadata": {},
   "outputs": [],
   "source": []
  },
  {
   "cell_type": "code",
   "execution_count": 8,
   "id": "00dcf830-653c-43e2-93a8-a48c90a3a78e",
   "metadata": {},
   "outputs": [],
   "source": [
    "NTRY = 25\n",
    "NAME = f'{NTRY}_cb_pca64_sber_bord_nose_iter_2mod'"
   ]
  },
  {
   "cell_type": "code",
   "execution_count": 9,
   "id": "405a66ac-9262-4fce-8189-ee569f79eedf",
   "metadata": {},
   "outputs": [],
   "source": [
    "VIEWS_UKR = 2554204\n",
    "DEPTH_UKR = 1.799\n",
    "FPR_UKR = 4.978"
   ]
  },
  {
   "cell_type": "code",
   "execution_count": null,
   "id": "6aee7533-343d-4346-a598-41e96250d2dc",
   "metadata": {},
   "outputs": [],
   "source": []
  },
  {
   "cell_type": "markdown",
   "id": "ae3e27a3-16bb-456d-b7a1-7975d5f85ea5",
   "metadata": {},
   "source": [
    "## Load data"
   ]
  },
  {
   "cell_type": "code",
   "execution_count": 10,
   "id": "ee296ac9-baf6-4bcb-89ce-5fe99408403d",
   "metadata": {},
   "outputs": [],
   "source": [
    "df_train = pd.read_csv(os.path.join(DIR_DATA, 'train_upd.csv'), index_col= 0)\n",
    "df_test  = pd.read_csv(os.path.join(DIR_DATA, 'test_upd.csv'), index_col= 0)\n",
    "\n",
    "with open(os.path.join(DIR_DATA, 'clmns.pkl'), 'rb') as pickle_file:\n",
    "    clmns = pkl.load(pickle_file)\n"
   ]
  },
  {
   "cell_type": "code",
   "execution_count": 11,
   "id": "b00427ec-ac4f-4da3-8dfb-94871e63072d",
   "metadata": {},
   "outputs": [
    {
     "data": {
      "text/plain": [
       "((6981, 292), (3000, 289))"
      ]
     },
     "execution_count": 11,
     "metadata": {},
     "output_type": "execute_result"
    }
   ],
   "source": [
    "df_train.shape, df_test.shape, "
   ]
  },
  {
   "cell_type": "code",
   "execution_count": null,
   "id": "40e960cf-00f2-45b2-986f-436a8024d0de",
   "metadata": {},
   "outputs": [],
   "source": []
  },
  {
   "cell_type": "code",
   "execution_count": null,
   "id": "3145e466-8172-424b-85ac-ad97439d9913",
   "metadata": {},
   "outputs": [],
   "source": []
  },
  {
   "cell_type": "code",
   "execution_count": 12,
   "id": "c416f029-f4cc-46cf-aa20-c30e664b1cdb",
   "metadata": {},
   "outputs": [
    {
     "name": "stdout",
     "output_type": "stream",
     "text": [
      "['ph_report', 'ph_gallery', 'tv_prog', 'online', 'video', 'infogr']\n",
      "['hour', 'dow', 'day', 'mounth', 'holiday', 'day_before_holiday', 'day_after_holiday', 'distrib_brdr']\n"
     ]
    }
   ],
   "source": [
    "cat_cols = []\n",
    "num_cols = []\n",
    "\n",
    "for el in clmns.keys():\n",
    "    cat_cols.extend(clmns[el]['cat'])\n",
    "    num_cols.extend(clmns[el]['num'])\n",
    "    if len(clmns[el]['both']) != 0:\n",
    "        print(clmns[el]['both'])"
   ]
  },
  {
   "cell_type": "code",
   "execution_count": 13,
   "id": "972bb343-2bb3-4c31-b99f-f9c8331f8b87",
   "metadata": {},
   "outputs": [],
   "source": [
    "num_cols.extend(['hour', 'mounth'])\n",
    "cat_cols.extend(['dow', \n",
    "                 'ph_report', 'ph_gallery', 'tv_prog', 'online', 'video', 'infogr',\n",
    "                 'holiday', 'day_before_holiday', 'day_after_holiday', #'distrib_brdr',\n",
    "                 #'spec_event_1',\n",
    "                ])"
   ]
  },
  {
   "cell_type": "code",
   "execution_count": 14,
   "id": "eec9699d-6702-4a88-9b87-c374c89a9b17",
   "metadata": {},
   "outputs": [],
   "source": [
    "for el in cat_cols:\n",
    "    df_train[el] = df_train[el].astype(str)\n",
    "    df_test[el] = df_test[el].astype(str)"
   ]
  },
  {
   "cell_type": "code",
   "execution_count": null,
   "id": "b77dc32c-95e3-4722-ab02-c8c700dd78df",
   "metadata": {},
   "outputs": [],
   "source": []
  },
  {
   "cell_type": "code",
   "execution_count": 15,
   "id": "da5f4f8d-2ce3-42fc-b01c-9538a7867504",
   "metadata": {},
   "outputs": [],
   "source": [
    "#views\n",
    "train_views_start = Pool(df_train[df_train.distrib_brdr == 1][cat_cols + num_cols],\n",
    "                         df_train[df_train.distrib_brdr == 1][['views']],\n",
    "                         cat_features = cat_cols,\n",
    "                         #feature_names = cat_cols + num_cols\n",
    "                        )\n",
    "train_views_end = Pool(df_train[df_train.distrib_brdr == 0][cat_cols + num_cols],\n",
    "                       df_train[df_train.distrib_brdr == 0][['views']],\n",
    "                       cat_features = cat_cols,\n",
    "                       #feature_names = cat_cols + num_cols\n",
    "                      )\n",
    "#depth\n",
    "train_depth_start = Pool(df_train[df_train.distrib_brdr == 1][cat_cols + num_cols],\n",
    "                         df_train[df_train.distrib_brdr == 1][['depth']],\n",
    "                         cat_features = cat_cols,\n",
    "                         #feature_names = cat_cols + num_cols\n",
    "                        )\n",
    "train_depth_end = Pool(df_train[df_train.distrib_brdr == 0][cat_cols + num_cols],\n",
    "                       df_train[df_train.distrib_brdr == 0][['depth']],\n",
    "                       cat_features = cat_cols,\n",
    "                       #feature_names = cat_cols + num_cols\n",
    "                      )\n",
    "\n",
    "#frp\n",
    "train_frp_start = Pool(df_train[df_train.distrib_brdr == 1][cat_cols + num_cols],\n",
    "                       df_train[df_train.distrib_brdr == 1][['full_reads_percent']],\n",
    "                       cat_features = cat_cols,\n",
    "                       #feature_names = cat_cols + num_cols\n",
    "                      )\n",
    "train_frp_end = Pool(df_train[df_train.distrib_brdr == 0][cat_cols + num_cols],\n",
    "                     df_train[df_train.distrib_brdr == 0][['full_reads_percent']],\n",
    "                     cat_features = cat_cols,\n",
    "                     #feature_names = cat_cols + num_cols\n",
    "                    )\n",
    "\n",
    "#full_reads_percent\n",
    "#у frp корреляция с depth. так что добавим признак deprh_pred и соберем датасет уже после предсказания depth"
   ]
  },
  {
   "cell_type": "code",
   "execution_count": null,
   "id": "12ae502e-4ce4-4f6e-947f-4f6f5942584a",
   "metadata": {},
   "outputs": [],
   "source": []
  },
  {
   "cell_type": "code",
   "execution_count": 16,
   "id": "41e5514e-1f39-4fd8-bee0-98c9b705dda5",
   "metadata": {},
   "outputs": [],
   "source": [
    "def plot_feature_importance2(inp_model, inp_pool, imp_number = 30):\n",
    "    \n",
    "    data = pd.DataFrame({'feature_importance': inp_model.get_feature_importance(inp_pool), \n",
    "              'feature_names': inp_pool.get_feature_names()}).sort_values(by=['feature_importance'], \n",
    "                                                       ascending=True)\n",
    "    \n",
    "    data.nlargest(imp_number, columns=\"feature_importance\").plot(kind='barh', figsize = (30,16)) ## plot top 40 features"
   ]
  },
  {
   "cell_type": "code",
   "execution_count": 17,
   "id": "55711d60-6520-4f9c-af95-e2c0624d270c",
   "metadata": {},
   "outputs": [],
   "source": [
    "def plot_feature_importance(importance,names,model_type, imp_number = 30):\n",
    "    \n",
    "    #Create arrays from feature importance and feature names\n",
    "    feature_importance = np.array(importance)\n",
    "    feature_names = np.array(names)\n",
    "    \n",
    "    #Create a DataFrame using a Dictionary\n",
    "    data={'feature_names':feature_names,'feature_importance':feature_importance}\n",
    "    fi_df = pd.DataFrame(data)\n",
    "    \n",
    "    #Sort the DataFrame in order decreasing feature importance\n",
    "    fi_df.sort_values(by=['feature_importance'], ascending=False,inplace=True)\n",
    "    \n",
    "    #Define size of bar plot\n",
    "    plt.figure(figsize=(10,8))\n",
    "    #Plot Searborn bar chart\n",
    "    sns.barplot(x=fi_df['feature_importance'][:imp_number], y=fi_df['feature_names'][:imp_number])\n",
    "    #Add chart labels\n",
    "    plt.title(model_type + 'FEATURE IMPORTANCE')\n",
    "    plt.xlabel('FEATURE IMPORTANCE')\n",
    "    plt.ylabel('FEATURE NAMES')"
   ]
  },
  {
   "cell_type": "code",
   "execution_count": null,
   "id": "4c0f79ca-2997-443a-ab51-de4e53217939",
   "metadata": {},
   "outputs": [],
   "source": []
  },
  {
   "cell_type": "markdown",
   "id": "668fd48f-3112-40a7-a453-d4f159ef4877",
   "metadata": {},
   "source": [
    "## views"
   ]
  },
  {
   "cell_type": "code",
   "execution_count": 18,
   "id": "2489ac5a-4d21-4544-be84-ac5f7ba86c57",
   "metadata": {},
   "outputs": [],
   "source": [
    "cb_params_views = {\"iterations\": 2500,\n",
    "                  #\"depth\": 2,\n",
    "                  \"loss_function\": \"RMSE\",\n",
    "                  'eval_metric': 'R2',\n",
    "                  \"verbose\": False\n",
    "                  }"
   ]
  },
  {
   "cell_type": "code",
   "execution_count": 19,
   "id": "f5653871-5188-4c82-83b6-2f6c513d421e",
   "metadata": {},
   "outputs": [],
   "source": [
    "def get_model(inp_pool, inp_params):\n",
    "    \n",
    "    \n",
    "    scores = cv(inp_pool,\n",
    "                      inp_params,\n",
    "                      fold_count=5,\n",
    "                      seed = CB_RANDOMSEED, \n",
    "                      #plot=\"True\"\n",
    "                     )\n",
    "    \n",
    "    #if scores['test-RMSE-mean'].argmin() != scores['test-R2-mean'].argmax():\n",
    "    #    raise ValueError('wtf?', scores['test-RMSE-mean'].argmin(), scores['test-R2-mean'].argmax())\n",
    "    \n",
    "    print(scores[scores['test-R2-mean'] == scores['test-R2-mean'].max()].to_string())\n",
    "    \n",
    "    niters = scores['test-R2-mean'].argmax()\n",
    "    print(niters)\n",
    "    \n",
    "    cb_model = CatBoostRegressor(iterations=niters,\n",
    "                                 #learning_rate=0.05,\n",
    "                                 #depth=10,\n",
    "                                 random_seed = CB_RANDOMSEED,\n",
    "                                 #n_estimators=100,\n",
    "                                  )\n",
    "    # Fit model\n",
    "    cb_model.fit(inp_pool,\n",
    "                      #plot = True,\n",
    "                       verbose = 100,\n",
    "                      )\n",
    "    \n",
    "    \n",
    "    return cb_model"
   ]
  },
  {
   "cell_type": "raw",
   "id": "24757ed1-a95a-4a33-b5c6-86900e81c9a0",
   "metadata": {},
   "source": [
    "%%time\n",
    "scores_views = cv(train_views_full,\n",
    "                  cb_params_views,\n",
    "                  fold_count=5,\n",
    "                  seed = CB_RANDOMSEED, \n",
    "                  #plot=\"True\"\n",
    "                 )"
   ]
  },
  {
   "cell_type": "code",
   "execution_count": 20,
   "id": "8cf4bc60-8ca3-461a-865f-7c312e83e6ba",
   "metadata": {},
   "outputs": [],
   "source": [
    "#scores_views"
   ]
  },
  {
   "cell_type": "raw",
   "id": "489f1089-55c7-4493-9032-960df502bb2b",
   "metadata": {},
   "source": [
    "if scores_views['test-RMSE-mean'].argmin() != scores_views['test-R2-mean'].argmax():\n",
    "    raise ValueError('wtf?', scores_views['test-RMSE-mean'].argmin(), scores_views['test-R2-mean'].argmax())"
   ]
  },
  {
   "cell_type": "raw",
   "id": "39c15bbc-bdbf-4a85-81c0-b1a5890c3e30",
   "metadata": {},
   "source": [
    "scores_views[scores_views['test-R2-mean'] == scores_views['test-R2-mean'].max()]\n",
    "#@ores_views.iloc[scores_views['test-R2-mean'].argmax()]"
   ]
  },
  {
   "cell_type": "raw",
   "id": "871969ff-7643-4840-bb32-c48e8956c757",
   "metadata": {},
   "source": [
    "996\t996\t0.592591\t0.095643\t0.952982\t0.004997\t38079.381052\t13904.016339\t13045.641422\t600.200488"
   ]
  },
  {
   "cell_type": "code",
   "execution_count": null,
   "id": "df096968-412c-4425-ab0e-8d3ca1746141",
   "metadata": {},
   "outputs": [],
   "source": []
  },
  {
   "cell_type": "raw",
   "id": "6be06de6-c423-4d82-b7e7-0a6725c78751",
   "metadata": {},
   "source": [
    "views_iter = scores_views['test-R2-mean'].argmax()\n",
    "print(views_iter)"
   ]
  },
  {
   "cell_type": "raw",
   "id": "47286241-4e37-4d02-bbcb-e1900653b638",
   "metadata": {},
   "source": [
    "cb_model_views = CatBoostRegressor(iterations=views_iter,\n",
    "                                 #learning_rate=0.05,\n",
    "                                 #depth=10,\n",
    "                                 random_seed = CB_RANDOMSEED,\n",
    "                                 #n_estimators=100,\n",
    "                                  )\n",
    "# Fit model\n",
    "cb_model_views.fit(train_views_full,\n",
    "                  #plot = True,\n",
    "                   verbose = 100,\n",
    "                  )"
   ]
  },
  {
   "cell_type": "code",
   "execution_count": 21,
   "id": "cccdc416-9dda-4647-bb98-5b22b5927a59",
   "metadata": {},
   "outputs": [
    {
     "name": "stdout",
     "output_type": "stream",
     "text": [
      "      iterations  test-R2-mean  test-R2-std  train-R2-mean  train-R2-std  test-RMSE-mean  test-RMSE-std  train-RMSE-mean  train-RMSE-std\n",
      "2410        2410      0.514488     0.085848       0.996769      0.000571    57288.439777   21396.965895      4719.273203      150.040884\n",
      "2410\n",
      "Learning rate set to 0.02457\n",
      "0:\tlearn: 83167.4254994\ttotal: 49.2ms\tremaining: 1m 58s\n",
      "100:\tlearn: 53574.6758291\ttotal: 3.25s\tremaining: 1m 14s\n",
      "200:\tlearn: 43912.6562626\ttotal: 6.55s\tremaining: 1m 12s\n",
      "300:\tlearn: 38721.1823427\ttotal: 9.66s\tremaining: 1m 7s\n",
      "400:\tlearn: 34440.9100319\ttotal: 12.9s\tremaining: 1m 4s\n",
      "500:\tlearn: 30710.4857723\ttotal: 16s\tremaining: 1m 1s\n",
      "600:\tlearn: 27579.1810837\ttotal: 19.1s\tremaining: 57.5s\n",
      "700:\tlearn: 25294.2672771\ttotal: 22.2s\tremaining: 54.1s\n",
      "800:\tlearn: 23110.9294598\ttotal: 25.3s\tremaining: 50.8s\n",
      "900:\tlearn: 21272.7214876\ttotal: 28.4s\tremaining: 47.6s\n",
      "1000:\tlearn: 19575.0531380\ttotal: 31.5s\tremaining: 44.4s\n",
      "1100:\tlearn: 18143.7007650\ttotal: 34.6s\tremaining: 41.2s\n",
      "1200:\tlearn: 16852.4163638\ttotal: 37.8s\tremaining: 38s\n",
      "1300:\tlearn: 15742.1156272\ttotal: 40.9s\tremaining: 34.9s\n",
      "1400:\tlearn: 14727.4181495\ttotal: 44.1s\tremaining: 31.7s\n",
      "1500:\tlearn: 13777.4782899\ttotal: 47.2s\tremaining: 28.6s\n",
      "1600:\tlearn: 12989.5838896\ttotal: 50.2s\tremaining: 25.4s\n",
      "1700:\tlearn: 12244.2047395\ttotal: 53.3s\tremaining: 22.2s\n",
      "1800:\tlearn: 11501.7833238\ttotal: 56.6s\tremaining: 19.1s\n",
      "1900:\tlearn: 10874.8746944\ttotal: 59.8s\tremaining: 16s\n",
      "2000:\tlearn: 10277.5392079\ttotal: 1m 2s\tremaining: 12.9s\n",
      "2100:\tlearn: 9713.9259472\ttotal: 1m 6s\tremaining: 9.72s\n",
      "2200:\tlearn: 9167.0389543\ttotal: 1m 9s\tremaining: 6.58s\n",
      "2300:\tlearn: 8659.6028786\ttotal: 1m 12s\tremaining: 3.43s\n",
      "2400:\tlearn: 8198.8622283\ttotal: 1m 15s\tremaining: 283ms\n",
      "2409:\tlearn: 8146.0858040\ttotal: 1m 15s\tremaining: 0us\n",
      "Wall time: 1h 7min 37s\n"
     ]
    }
   ],
   "source": [
    "%%time\n",
    "model_views_start = get_model(train_views_start, cb_params_views)"
   ]
  },
  {
   "cell_type": "code",
   "execution_count": 22,
   "id": "706be592-2cd3-4db9-9e9d-7b71af1277c0",
   "metadata": {},
   "outputs": [
    {
     "data": {
      "image/png": "[encoded data removed]",
      "text/plain": [
       "<Figure size 720x576 with 1 Axes>"
      ]
     },
     "metadata": {
      "needs_background": "light"
     },
     "output_type": "display_data"
    }
   ],
   "source": [
    "#plot_feature_importance(cb_model_views, train_ds_views, 30)\n",
    "plot_feature_importance(model_views_start.get_feature_importance(), train_views_start.get_feature_names(), 'CATBOOST')"
   ]
  },
  {
   "cell_type": "code",
   "execution_count": null,
   "id": "502e696d-dedd-411f-b7f0-945e2afe14fe",
   "metadata": {},
   "outputs": [],
   "source": []
  },
  {
   "cell_type": "code",
   "execution_count": 23,
   "id": "212ddccc-dc2c-44e7-9e59-fae325942d3e",
   "metadata": {},
   "outputs": [
    {
     "name": "stdout",
     "output_type": "stream",
     "text": [
      "     iterations  test-R2-mean  test-R2-std  train-R2-mean  train-R2-std  test-RMSE-mean  test-RMSE-std  train-RMSE-mean  train-RMSE-std\n",
      "670         670      0.608364     0.065935       0.914413      0.008288     9189.254018     910.007358      4340.903897      127.150327\n",
      "670\n",
      "Learning rate set to 0.067125\n",
      "0:\tlearn: 14478.5711190\ttotal: 34.7ms\tremaining: 23.2s\n",
      "100:\tlearn: 6862.2907587\ttotal: 3.44s\tremaining: 19.4s\n",
      "200:\tlearn: 5484.1994170\ttotal: 6.72s\tremaining: 15.7s\n",
      "300:\tlearn: 4671.9640377\ttotal: 9.97s\tremaining: 12.2s\n",
      "400:\tlearn: 4034.0105430\ttotal: 13.3s\tremaining: 8.93s\n",
      "500:\tlearn: 3491.6141249\ttotal: 16.7s\tremaining: 5.65s\n",
      "600:\tlearn: 3068.8562329\ttotal: 20.1s\tremaining: 2.31s\n",
      "669:\tlearn: 2824.6580921\ttotal: 22.5s\tremaining: 0us\n",
      "Wall time: 57min 37s\n"
     ]
    }
   ],
   "source": [
    "%%time\n",
    "model_views_end = get_model(train_views_end, cb_params_views)"
   ]
  },
  {
   "cell_type": "code",
   "execution_count": 24,
   "id": "73b50d92-be2e-448e-af33-f2527691c4d0",
   "metadata": {},
   "outputs": [
    {
     "data": {
      "image/png": "[encoded data removed]",
      "text/plain": [
       "<Figure size 720x576 with 1 Axes>"
      ]
     },
     "metadata": {
      "needs_background": "light"
     },
     "output_type": "display_data"
    }
   ],
   "source": [
    "plot_feature_importance(model_views_end.get_feature_importance(), train_views_end.get_feature_names(), 'CATBOOST')"
   ]
  },
  {
   "cell_type": "code",
   "execution_count": null,
   "id": "e1e17002-8c1f-4e36-bf5c-5f8c56f961e2",
   "metadata": {},
   "outputs": [],
   "source": []
  },
  {
   "cell_type": "code",
   "execution_count": null,
   "id": "57d15d8a-e96a-436f-9908-bb3efc30c1f7",
   "metadata": {},
   "outputs": [],
   "source": []
  },
  {
   "cell_type": "markdown",
   "id": "a3cac29b-566d-4c8b-9cf7-9ef84a7261d2",
   "metadata": {},
   "source": [
    "## depth"
   ]
  },
  {
   "cell_type": "code",
   "execution_count": 25,
   "id": "a2b00f32-c094-4b91-ae51-c30fe20cf7cf",
   "metadata": {},
   "outputs": [],
   "source": [
    "cb_params_depth = cb_params_views"
   ]
  },
  {
   "cell_type": "raw",
   "id": "603ab4ee-1ec5-4a80-a31c-2de39c511b8f",
   "metadata": {},
   "source": [
    "%%time\n",
    "scores_depth = cv(train_depth_full,\n",
    "                  cb_params_depth,\n",
    "                  fold_count=5,\n",
    "                  seed = CB_RANDOMSEED, \n",
    "                  #plot=\"True\"\n",
    "                 )"
   ]
  },
  {
   "cell_type": "raw",
   "id": "8d3e2066-f7df-4628-8ece-8a26b920d397",
   "metadata": {},
   "source": [
    "if scores_depth['test-RMSE-mean'].argmin() != scores_depth['test-R2-mean'].argmax():\n",
    "    raise ValueError('wtf?', scores_depth['test-RMSE-mean'].argmin(), scores_depth['test-R2-mean'].argmax())"
   ]
  },
  {
   "cell_type": "raw",
   "id": "344515dd-7789-4f15-ba4a-16463f68529e",
   "metadata": {},
   "source": [
    "scores_depth[scores_depth['test-R2-mean'] == scores_depth['test-R2-mean'].max()]\n",
    "#scores_depth.iloc[scores_depth['test-R2-mean'].argmax()]"
   ]
  },
  {
   "cell_type": "raw",
   "id": "44d68072-9fae-4323-944a-787f75308e65",
   "metadata": {},
   "source": [
    "998\t998\t0.802018\t0.017199\t0.938263\t0.00201\t0.027449\t0.001461\t0.015352\t0.000314"
   ]
  },
  {
   "cell_type": "raw",
   "id": "9ad61585-cb8a-4161-b93c-76ae96b625e4",
   "metadata": {},
   "source": [
    "depth_iter =  scores_depth['test-R2-mean'].argmax()\n",
    "print(depth_iter)"
   ]
  },
  {
   "cell_type": "raw",
   "id": "55c5f76c-ad6e-4e95-944f-9d16219587b8",
   "metadata": {},
   "source": [
    "cb_model_depth = CatBoostRegressor(iterations=depth_iter,\n",
    "                                 #learning_rate=0.05,\n",
    "                                 #depth=10,\n",
    "                                 random_seed = CB_RANDOMSEED,\n",
    "                                 #n_estimators=100,\n",
    "                                  )\n",
    "# Fit model\n",
    "cb_model_depth.fit(train_depth_full,\n",
    "                   #plot = True,\n",
    "                   verbose = 100,\n",
    "                  )"
   ]
  },
  {
   "cell_type": "code",
   "execution_count": 26,
   "id": "fec414e2-db71-4a0e-87f6-f8d57da58f99",
   "metadata": {},
   "outputs": [
    {
     "name": "stdout",
     "output_type": "stream",
     "text": [
      "      iterations  test-R2-mean  test-R2-std  train-R2-mean  train-R2-std  test-RMSE-mean  test-RMSE-std  train-RMSE-mean  train-RMSE-std\n",
      "1550        1550      0.471369     0.152844        0.96694      0.002016         0.03689       0.003182         0.009499        0.000204\n",
      "1550\n",
      "Learning rate set to 0.034362\n",
      "0:\tlearn: 0.0516106\ttotal: 32.6ms\tremaining: 50.6s\n",
      "100:\tlearn: 0.0326142\ttotal: 3.11s\tremaining: 44.6s\n",
      "200:\tlearn: 0.0294415\ttotal: 6.25s\tremaining: 41.9s\n",
      "300:\tlearn: 0.0265716\ttotal: 9.34s\tremaining: 38.8s\n",
      "400:\tlearn: 0.0239564\ttotal: 12.5s\tremaining: 35.7s\n",
      "500:\tlearn: 0.0217852\ttotal: 15.5s\tremaining: 32.5s\n",
      "600:\tlearn: 0.0199028\ttotal: 18.6s\tremaining: 29.4s\n",
      "700:\tlearn: 0.0182410\ttotal: 21.8s\tremaining: 26.4s\n",
      "800:\tlearn: 0.0166942\ttotal: 24.9s\tremaining: 23.3s\n",
      "900:\tlearn: 0.0152275\ttotal: 28s\tremaining: 20.2s\n",
      "1000:\tlearn: 0.0140455\ttotal: 31.1s\tremaining: 17s\n",
      "1100:\tlearn: 0.0129136\ttotal: 34.2s\tremaining: 13.9s\n",
      "1200:\tlearn: 0.0118360\ttotal: 37.3s\tremaining: 10.8s\n",
      "1300:\tlearn: 0.0109309\ttotal: 40.4s\tremaining: 7.74s\n",
      "1400:\tlearn: 0.0100611\ttotal: 43.6s\tremaining: 4.63s\n",
      "1500:\tlearn: 0.0093075\ttotal: 46.8s\tremaining: 1.53s\n",
      "1549:\tlearn: 0.0089602\ttotal: 48.3s\tremaining: 0us\n",
      "Wall time: 1h 21s\n"
     ]
    }
   ],
   "source": [
    "%%time\n",
    "model_depth_start = get_model(train_depth_start, cb_params_depth)"
   ]
  },
  {
   "cell_type": "code",
   "execution_count": 27,
   "id": "a37608db-f13d-45fc-9f3f-dd430a6f0839",
   "metadata": {},
   "outputs": [
    {
     "data": {
      "image/png": "[encoded data removed]",
      "text/plain": [
       "<Figure size 720x576 with 1 Axes>"
      ]
     },
     "metadata": {
      "needs_background": "light"
     },
     "output_type": "display_data"
    }
   ],
   "source": [
    "#plot_feature_importance(cb_model_views, train_ds_views, 30)\n",
    "plot_feature_importance(model_depth_start.get_feature_importance(), train_depth_start.get_feature_names(), 'CATBOOST')"
   ]
  },
  {
   "cell_type": "code",
   "execution_count": null,
   "id": "5eaabd43-32cd-42df-9c8f-a88c7c8cfe3c",
   "metadata": {},
   "outputs": [],
   "source": []
  },
  {
   "cell_type": "code",
   "execution_count": 28,
   "id": "0ab617d3-de74-411b-aac0-4dd050a826fd",
   "metadata": {},
   "outputs": [
    {
     "name": "stdout",
     "output_type": "stream",
     "text": [
      "      iterations  test-R2-mean  test-R2-std  train-R2-mean  train-R2-std  test-RMSE-mean  test-RMSE-std  train-RMSE-mean  train-RMSE-std\n",
      "2483        2483      0.339217     0.083196       0.981393      0.001967        0.017239        0.00378         0.002936        0.000174\n",
      "2483\n",
      "Learning rate set to 0.024804\n",
      "0:\tlearn: 0.0214397\ttotal: 47.8ms\tremaining: 1m 58s\n",
      "100:\tlearn: 0.0165978\ttotal: 3.63s\tremaining: 1m 25s\n",
      "200:\tlearn: 0.0145615\ttotal: 7.29s\tremaining: 1m 22s\n",
      "300:\tlearn: 0.0131496\ttotal: 10.7s\tremaining: 1m 17s\n",
      "400:\tlearn: 0.0121136\ttotal: 14s\tremaining: 1m 12s\n",
      "500:\tlearn: 0.0112648\ttotal: 17.5s\tremaining: 1m 9s\n",
      "600:\tlearn: 0.0105427\ttotal: 20.9s\tremaining: 1m 5s\n",
      "700:\tlearn: 0.0099120\ttotal: 24.2s\tremaining: 1m 1s\n",
      "800:\tlearn: 0.0093606\ttotal: 27.6s\tremaining: 57.9s\n",
      "900:\tlearn: 0.0088588\ttotal: 30.9s\tremaining: 54.3s\n",
      "1000:\tlearn: 0.0084016\ttotal: 34.3s\tremaining: 50.7s\n",
      "1100:\tlearn: 0.0079686\ttotal: 37.6s\tremaining: 47.2s\n",
      "1200:\tlearn: 0.0075794\ttotal: 40.9s\tremaining: 43.7s\n",
      "1300:\tlearn: 0.0072188\ttotal: 44.3s\tremaining: 40.2s\n",
      "1400:\tlearn: 0.0068899\ttotal: 47.6s\tremaining: 36.8s\n",
      "1500:\tlearn: 0.0065709\ttotal: 51s\tremaining: 33.3s\n",
      "1600:\tlearn: 0.0062737\ttotal: 54.5s\tremaining: 30s\n",
      "1700:\tlearn: 0.0060027\ttotal: 57.7s\tremaining: 26.5s\n",
      "1800:\tlearn: 0.0057263\ttotal: 1m\tremaining: 23.1s\n",
      "1900:\tlearn: 0.0054672\ttotal: 1m 4s\tremaining: 19.7s\n",
      "2000:\tlearn: 0.0052255\ttotal: 1m 7s\tremaining: 16.3s\n",
      "2100:\tlearn: 0.0049866\ttotal: 1m 10s\tremaining: 12.9s\n",
      "2200:\tlearn: 0.0047768\ttotal: 1m 14s\tremaining: 9.51s\n",
      "2300:\tlearn: 0.0045642\ttotal: 1m 17s\tremaining: 6.13s\n",
      "2400:\tlearn: 0.0043776\ttotal: 1m 20s\tremaining: 2.77s\n",
      "2482:\tlearn: 0.0042252\ttotal: 1m 23s\tremaining: 0us\n",
      "Wall time: 58min 11s\n"
     ]
    }
   ],
   "source": [
    "%%time\n",
    "model_depth_end = get_model(train_depth_end, cb_params_depth)"
   ]
  },
  {
   "cell_type": "code",
   "execution_count": 29,
   "id": "e21b4997-a768-4aa9-a96b-5741fc8aa6c1",
   "metadata": {},
   "outputs": [
    {
     "data": {
      "image/png": "[encoded data removed]",
      "text/plain": [
       "<Figure size 720x576 with 1 Axes>"
      ]
     },
     "metadata": {
      "needs_background": "light"
     },
     "output_type": "display_data"
    }
   ],
   "source": [
    "plot_feature_importance(model_depth_end.get_feature_importance(), train_depth_end.get_feature_names(), 'CATBOOST')"
   ]
  },
  {
   "cell_type": "code",
   "execution_count": null,
   "id": "745f0738-13da-406c-a378-4f8a325be07d",
   "metadata": {},
   "outputs": [],
   "source": []
  },
  {
   "cell_type": "code",
   "execution_count": null,
   "id": "10617a22-de1d-4ddd-8176-0ac104907be0",
   "metadata": {},
   "outputs": [],
   "source": []
  },
  {
   "cell_type": "code",
   "execution_count": null,
   "id": "eab9cdf9-8e04-4950-8b57-57f9f045ac3d",
   "metadata": {},
   "outputs": [],
   "source": []
  },
  {
   "cell_type": "markdown",
   "id": "fafdf6ea-9687-472f-ab6e-86125f5dc7eb",
   "metadata": {},
   "source": [
    "## full_reads_percent"
   ]
  },
  {
   "cell_type": "code",
   "execution_count": 30,
   "id": "d9d8a013-9537-4797-9cf6-b26bc9f6e5e3",
   "metadata": {},
   "outputs": [],
   "source": [
    "cb_params_frp = cb_params_views"
   ]
  },
  {
   "cell_type": "raw",
   "id": "a54163dd-e49d-4fa2-a649-d9849ac3c116",
   "metadata": {},
   "source": [
    "%%time\n",
    "scores_frp = cv(train_frp_full,\n",
    "                  cb_params_frp,\n",
    "                  fold_count=5,\n",
    "                  seed = CB_RANDOMSEED, \n",
    "                  #plot=\"True\"\n",
    "                 )"
   ]
  },
  {
   "cell_type": "raw",
   "id": "bd9f15c1-bd64-4846-8e82-44ec8bf40900",
   "metadata": {},
   "source": [
    "if scores_frp['test-RMSE-mean'].argmin() != scores_frp['test-R2-mean'].argmax():\n",
    "    raise ValueError('wtf?', scores_frp['test-RMSE-mean'].argmin(), scores_frp['test-R2-mean'].argmax())"
   ]
  },
  {
   "cell_type": "raw",
   "id": "c31bd011-943b-4576-891d-9c326dba9bdd",
   "metadata": {},
   "source": [
    "scores_frp[scores_frp['test-R2-mean'] == scores_frp['test-R2-mean'].max()]\n",
    "#scores_frp.iloc[scores_frp['test-R2-mean'].argmax()]"
   ]
  },
  {
   "cell_type": "raw",
   "id": "8cbb21db-f5de-4b8a-bc4f-53dd14afa991",
   "metadata": {},
   "source": [
    "999\t999\t0.579495\t0.008608\t0.820714\t0.003633\t6.572665\t0.196964\t4.294636\t0.058588"
   ]
  },
  {
   "cell_type": "raw",
   "id": "96e63086-dee2-4a55-bb2e-d5937ee80e41",
   "metadata": {},
   "source": [
    "frp_iter = scores_frp['test-R2-mean'].argmax()\n",
    "print(frp_iter)"
   ]
  },
  {
   "cell_type": "raw",
   "id": "11ab8f93-d80d-4cb8-b401-2670b478885d",
   "metadata": {},
   "source": [
    "cb_model_frp = CatBoostRegressor(iterations=frp_iter,\n",
    "                                 #learning_rate=0.05,\n",
    "                                 #depth=10,\n",
    "                                 random_seed = CB_RANDOMSEED,\n",
    "                                 #n_estimators=100,\n",
    "    #num_trees=None,\n",
    "                                )\n",
    "# Fit model\n",
    "cb_model_frp.fit(train_frp_full,#train_ds_frp,\n",
    "                   #eval_set=val_ds_frp, \n",
    "                   #plot = True,\n",
    "                 verbose = 100,\n",
    "                  )"
   ]
  },
  {
   "cell_type": "code",
   "execution_count": 31,
   "id": "ede24391-1a32-47b5-8f45-9f99a3653113",
   "metadata": {},
   "outputs": [
    {
     "name": "stdout",
     "output_type": "stream",
     "text": [
      "      iterations  test-R2-mean  test-R2-std  train-R2-mean  train-R2-std  test-RMSE-mean  test-RMSE-std  train-RMSE-mean  train-RMSE-std\n",
      "1303        1303      0.556958     0.008903       0.948849      0.001106        7.007296       0.168132         2.382234         0.02588\n",
      "1303\n",
      "Learning rate set to 0.039208\n",
      "0:\tlearn: 10.3673955\ttotal: 29.7ms\tremaining: 38.6s\n",
      "100:\tlearn: 6.7908423\ttotal: 3.14s\tremaining: 37.4s\n",
      "200:\tlearn: 6.1610766\ttotal: 6.26s\tremaining: 34.3s\n",
      "300:\tlearn: 5.4955478\ttotal: 9.31s\tremaining: 31s\n",
      "400:\tlearn: 4.8980374\ttotal: 12.4s\tremaining: 27.8s\n",
      "500:\tlearn: 4.3891622\ttotal: 15.5s\tremaining: 24.8s\n",
      "600:\tlearn: 3.9541427\ttotal: 18.6s\tremaining: 21.7s\n",
      "700:\tlearn: 3.5901994\ttotal: 21.8s\tremaining: 18.7s\n",
      "800:\tlearn: 3.2587022\ttotal: 25.1s\tremaining: 15.7s\n",
      "900:\tlearn: 2.9752385\ttotal: 28.4s\tremaining: 12.7s\n",
      "1000:\tlearn: 2.7187224\ttotal: 31.5s\tremaining: 9.5s\n",
      "1100:\tlearn: 2.4837497\ttotal: 34.6s\tremaining: 6.34s\n",
      "1200:\tlearn: 2.2674344\ttotal: 37.7s\tremaining: 3.2s\n",
      "1300:\tlearn: 2.0756183\ttotal: 40.7s\tremaining: 62.6ms\n",
      "1302:\tlearn: 2.0715561\ttotal: 40.8s\tremaining: 0us\n",
      "Wall time: 56min 21s\n"
     ]
    }
   ],
   "source": [
    "%%time\n",
    "model_frp_start = get_model(train_frp_start, cb_params_frp)"
   ]
  },
  {
   "cell_type": "code",
   "execution_count": 32,
   "id": "0921f52a-f376-4e01-bf22-958db46977c7",
   "metadata": {},
   "outputs": [
    {
     "data": {
      "image/png": "[encoded data removed]",
      "text/plain": [
       "<Figure size 720x576 with 1 Axes>"
      ]
     },
     "metadata": {
      "needs_background": "light"
     },
     "output_type": "display_data"
    }
   ],
   "source": [
    "#plot_feature_importance(cb_model_views, train_ds_views, 30)\n",
    "plot_feature_importance(model_frp_start.get_feature_importance(), train_frp_start.get_feature_names(), 'CATBOOST')"
   ]
  },
  {
   "cell_type": "code",
   "execution_count": null,
   "id": "be50fe97-02cb-48bb-beb5-c100041aa1f0",
   "metadata": {},
   "outputs": [],
   "source": []
  },
  {
   "cell_type": "code",
   "execution_count": null,
   "id": "c04abd67-2df9-48be-9c1c-eb1ec1648aaf",
   "metadata": {},
   "outputs": [],
   "source": []
  },
  {
   "cell_type": "code",
   "execution_count": 33,
   "id": "980f97f7-4e38-48bb-bb9a-9cdf201a2ecc",
   "metadata": {},
   "outputs": [
    {
     "name": "stdout",
     "output_type": "stream",
     "text": [
      "     iterations  test-R2-mean  test-R2-std  train-R2-mean  train-R2-std  test-RMSE-mean  test-RMSE-std  train-RMSE-mean  train-RMSE-std\n",
      "924         924      0.558665     0.027472       0.877142      0.002326        6.416195        0.07435         3.389853         0.04638\n",
      "924\n",
      "Learning rate set to 0.052577\n",
      "0:\tlearn: 9.4666249\ttotal: 35.1ms\tremaining: 32.4s\n",
      "100:\tlearn: 6.0839665\ttotal: 3.34s\tremaining: 27.2s\n",
      "200:\tlearn: 5.4219900\ttotal: 6.65s\tremaining: 23.9s\n",
      "300:\tlearn: 4.7696534\ttotal: 10.1s\tremaining: 20.8s\n",
      "400:\tlearn: 4.2638598\ttotal: 13.7s\tremaining: 17.8s\n",
      "500:\tlearn: 3.8016583\ttotal: 17.1s\tremaining: 14.5s\n",
      "600:\tlearn: 3.4363623\ttotal: 20.7s\tremaining: 11.1s\n",
      "700:\tlearn: 3.0979469\ttotal: 24s\tremaining: 7.64s\n",
      "800:\tlearn: 2.7911929\ttotal: 27.3s\tremaining: 4.19s\n",
      "900:\tlearn: 2.5048999\ttotal: 30.6s\tremaining: 781ms\n",
      "923:\tlearn: 2.4462533\ttotal: 31.4s\tremaining: 0us\n",
      "Wall time: 57min 5s\n"
     ]
    }
   ],
   "source": [
    "%%time\n",
    "model_frp_end = get_model(train_frp_end, cb_params_frp)"
   ]
  },
  {
   "cell_type": "code",
   "execution_count": 34,
   "id": "a535211e-61f6-4010-a13a-2ec22ac8ad17",
   "metadata": {},
   "outputs": [
    {
     "data": {
      "image/png": "[encoded data removed]",
      "text/plain": [
       "<Figure size 720x576 with 1 Axes>"
      ]
     },
     "metadata": {
      "needs_background": "light"
     },
     "output_type": "display_data"
    }
   ],
   "source": [
    "#plot_feature_importance(cb_model_views, train_ds_views, 30)\n",
    "plot_feature_importance(model_frp_end.get_feature_importance(), train_frp_end.get_feature_names(), 'CATBOOST')"
   ]
  },
  {
   "cell_type": "code",
   "execution_count": null,
   "id": "1f1d5756-07fc-488b-bf92-31bacf9c0f10",
   "metadata": {},
   "outputs": [],
   "source": []
  },
  {
   "cell_type": "code",
   "execution_count": null,
   "id": "05695089-20c7-48bf-a7a6-e430863603e5",
   "metadata": {},
   "outputs": [],
   "source": []
  },
  {
   "cell_type": "code",
   "execution_count": null,
   "id": "23391983-198d-4fea-8c34-7915e8ea2819",
   "metadata": {},
   "outputs": [],
   "source": []
  },
  {
   "cell_type": "markdown",
   "id": "551ccadd-2762-4df3-8719-2b04118093ce",
   "metadata": {},
   "source": [
    "## Сохраняем предсказания для ансамблей / стекинга"
   ]
  },
  {
   "cell_type": "raw",
   "id": "fc6c30d3-72ff-4b6b-ab78-0abb1a92623a",
   "metadata": {},
   "source": [
    "x_train_pred = x_train[['document_id']]\n",
    "x_val_pred   = x_val[['document_id']]\n",
    "\n",
    "print('before ', x_train_pred.shape, preds_train_views.shape, preds_train_depth.shape, preds_train_frp.shape)\n",
    "print('before ', x_val_pred.shape,   preds_val_views.shape,   preds_val_depth.shape,   preds_val_frp.shape)\n",
    "\n",
    "# https://github.com/pandas-dev/pandas/issues/25349\n",
    "x_train_pred = pd.concat([x_train_pred.reset_index(drop=True), \n",
    "                          pd.DataFrame(preds_train_views).reset_index(drop = True), \n",
    "                          pd.DataFrame(preds_train_depth).reset_index(drop = True), \n",
    "                          pd.DataFrame(preds_train_frp).reset_index(drop = True)\n",
    "                         ], ignore_index = True, axis = 1)\n",
    "x_val_pred   = pd.concat([x_val_pred.reset_index(drop=True),   \n",
    "                          pd.DataFrame(preds_val_views).reset_index(drop = True), \n",
    "                          pd.DataFrame(preds_val_depth).reset_index(drop = True), \n",
    "                          pd.DataFrame(preds_val_frp).reset_index(drop = True)\n",
    "                         ], ignore_index = True, axis = 1)\n",
    "\n",
    "x_train_pred.columns = ['document_id', 'views_pred_cb', 'depth_pred_cb', 'frp_pred_cb']\n",
    "x_val_pred.columns   = ['document_id', 'views_pred_cb', 'depth_pred_cb', 'frp_pred_cb']\n",
    "\n",
    "print('after ', x_train_pred.shape)\n",
    "print('after ', x_val_pred.shape)\n",
    "\n",
    "x_train_pred.to_csv(os.path.join(DIR_SUBM_PART, f'{NAME}_train_part.csv'), index = False)\n",
    "x_val_pred.to_csv(os.path.join(DIR_SUBM_PART, f'{NAME}_val_part.csv'), index = False)"
   ]
  },
  {
   "cell_type": "code",
   "execution_count": null,
   "id": "d764bec0-4e81-41e1-ae37-56792922f19c",
   "metadata": {},
   "outputs": [],
   "source": []
  },
  {
   "cell_type": "code",
   "execution_count": 86,
   "id": "388b4f35-923e-4790-a1e8-797372586242",
   "metadata": {},
   "outputs": [],
   "source": [
    "pred_train = pd.DataFrame()\n",
    "pred_train[['document_id', 'distrib_brdr']] = df_train[['document_id', 'distrib_brdr']]\n",
    "pred_train = pred_train.reindex(['document_id', 'distrib_brdr', 'views', 'depth', 'full_reads_percent'], axis = 1)"
   ]
  },
  {
   "cell_type": "code",
   "execution_count": 87,
   "id": "991077dc-dc89-404d-8477-cea61e711303",
   "metadata": {},
   "outputs": [
    {
     "data": {
      "text/plain": [
       "0"
      ]
     },
     "execution_count": 87,
     "metadata": {},
     "output_type": "execute_result"
    }
   ],
   "source": [
    "pred_train.loc[pred_train.query('distrib_brdr == 1').index, 'views'] = model_views_start.predict(df_train[df_train.distrib_brdr == 1][cat_cols + num_cols])\n",
    "pred_train.loc[pred_train.query('distrib_brdr == 0').index, 'views'] = model_views_end.predict(df_train[df_train.distrib_brdr == 0][cat_cols + num_cols])\n",
    "sum(pred_train.views.isna())"
   ]
  },
  {
   "cell_type": "code",
   "execution_count": 88,
   "id": "381dce61-ab9a-45f9-934a-3cb80c94d115",
   "metadata": {},
   "outputs": [
    {
     "data": {
      "text/plain": [
       "0"
      ]
     },
     "execution_count": 88,
     "metadata": {},
     "output_type": "execute_result"
    }
   ],
   "source": [
    "pred_train.loc[pred_train.query('distrib_brdr == 1').index, 'depth'] = model_depth_start.predict(df_train[df_train.distrib_brdr == 1][cat_cols + num_cols])\n",
    "pred_train.loc[pred_train.query('distrib_brdr == 0').index, 'depth'] = model_depth_end.predict(df_train[df_train.distrib_brdr == 0][cat_cols + num_cols])\n",
    "sum(pred_train.depth.isna())"
   ]
  },
  {
   "cell_type": "code",
   "execution_count": 89,
   "id": "066f6b7b-c8f0-46d7-9cd2-ae5944cc7b27",
   "metadata": {},
   "outputs": [
    {
     "data": {
      "text/plain": [
       "0"
      ]
     },
     "execution_count": 89,
     "metadata": {},
     "output_type": "execute_result"
    }
   ],
   "source": [
    "pred_train.loc[pred_train.query('distrib_brdr == 1').index, 'full_reads_percent'] = model_frp_start.predict(df_train[df_train.distrib_brdr == 1][cat_cols + num_cols])\n",
    "pred_train.loc[pred_train.query('distrib_brdr == 0').index, 'full_reads_percent'] = model_frp_end.predict(df_train[df_train.distrib_brdr == 0][cat_cols + num_cols])\n",
    "sum(pred_train.full_reads_percent.isna())"
   ]
  },
  {
   "cell_type": "code",
   "execution_count": 90,
   "id": "42749aff-43a0-4248-a403-662d665ed97b",
   "metadata": {},
   "outputs": [],
   "source": [
    "pred_train.drop(['distrib_brdr'], axis =1, inplace = True)\n",
    "pred_train.to_csv(os.path.join(DIR_SUBM_PART, f'{NAME}_train_part.csv'), index = False)"
   ]
  },
  {
   "cell_type": "code",
   "execution_count": null,
   "id": "c3d0c887-53ce-4db0-99a9-4732421f2173",
   "metadata": {},
   "outputs": [],
   "source": []
  },
  {
   "cell_type": "markdown",
   "id": "81b7d454-37b6-45ee-94fb-99af0fe23ae5",
   "metadata": {},
   "source": [
    "## save models"
   ]
  },
  {
   "cell_type": "code",
   "execution_count": null,
   "id": "aa4adde3-b017-4cea-9ae8-fc7cea77bab1",
   "metadata": {},
   "outputs": [],
   "source": []
  },
  {
   "cell_type": "code",
   "execution_count": 35,
   "id": "75aa11de-71cb-47a7-9e22-2857f7f7e643",
   "metadata": {},
   "outputs": [],
   "source": [
    "#cb_model_views.save_model(os.path.join(DIR_MODELS, f'{NTRY}_pca64_cb_views.cbm'), \n",
    "model_views_start.save_model(os.path.join(DIR_MODELS, f'{NAME}_v_start.cbm'), \n",
    "                           format=\"cbm\",\n",
    "                           export_parameters=None,\n",
    "                           pool=None\n",
    "                         )\n",
    "model_views_end.save_model(os.path.join(DIR_MODELS, f'{NAME}_v_end.cbm'), \n",
    "                           format=\"cbm\",\n",
    "                           export_parameters=None,\n",
    "                           pool=None\n",
    "                         )\n",
    "model_depth_start.save_model(os.path.join(DIR_MODELS, f'{NAME}_d_start.cbm'), \n",
    "                           format=\"cbm\",\n",
    "                           export_parameters=None,\n",
    "                           pool=None\n",
    "                         )\n",
    "model_depth_end.save_model(os.path.join(DIR_MODELS, f'{NAME}_d_end.cbm'), \n",
    "                           format=\"cbm\",\n",
    "                           export_parameters=None,\n",
    "                           pool=None\n",
    "                         )\n",
    "model_frp_start.save_model(os.path.join(DIR_MODELS, f'{NAME}_f_start.cbm'), \n",
    "                           format=\"cbm\",\n",
    "                           export_parameters=None,\n",
    "                           pool=None\n",
    "                         )\n",
    "model_frp_end.save_model(os.path.join(DIR_MODELS, f'{NAME}_f_end.cbm'), \n",
    "                           format=\"cbm\",\n",
    "                           export_parameters=None,\n",
    "                           pool=None\n",
    "                         )"
   ]
  },
  {
   "cell_type": "code",
   "execution_count": null,
   "id": "102c6530-8a1b-4c1c-a1d3-e9d95e350220",
   "metadata": {},
   "outputs": [],
   "source": []
  },
  {
   "cell_type": "code",
   "execution_count": null,
   "id": "70604fe7-79ce-48b3-88fe-cf67ecb6e354",
   "metadata": {},
   "outputs": [],
   "source": []
  },
  {
   "cell_type": "code",
   "execution_count": null,
   "id": "734dd8d2-27f5-4962-a597-fc2a775ff088",
   "metadata": {},
   "outputs": [],
   "source": []
  },
  {
   "cell_type": "code",
   "execution_count": null,
   "id": "30a05643-ac4d-4449-975f-c4a973781046",
   "metadata": {},
   "outputs": [],
   "source": []
  },
  {
   "cell_type": "code",
   "execution_count": null,
   "id": "6b02aea2-953d-4b9b-b990-2566a79e4119",
   "metadata": {},
   "outputs": [],
   "source": []
  },
  {
   "cell_type": "code",
   "execution_count": null,
   "id": "fd8d25eb-d237-4bc6-b1a0-010c80b3900d",
   "metadata": {},
   "outputs": [],
   "source": []
  },
  {
   "cell_type": "markdown",
   "id": "ac604b78-2718-408d-8d19-5b202d3f5a19",
   "metadata": {},
   "source": [
    "## make predict"
   ]
  },
  {
   "cell_type": "code",
   "execution_count": 66,
   "id": "ee86f7ae-828e-4b2f-a9e4-009e27353f5a",
   "metadata": {},
   "outputs": [],
   "source": [
    "subm = pd.DataFrame()\n",
    "subm[['document_id', 'distrib_brdr']] = df_test[['document_id', 'distrib_brdr']]\n",
    "subm = subm.reindex(['document_id', 'distrib_brdr', 'views', 'depth', 'full_reads_percent'], axis = 1)"
   ]
  },
  {
   "cell_type": "code",
   "execution_count": null,
   "id": "396d853a-84fe-4b6e-bd3b-e7cd600ac9ca",
   "metadata": {},
   "outputs": [],
   "source": []
  },
  {
   "cell_type": "code",
   "execution_count": 67,
   "id": "2edca06f-93d9-43f4-8e70-643ea554318c",
   "metadata": {},
   "outputs": [
    {
     "data": {
      "text/plain": [
       "0"
      ]
     },
     "execution_count": 67,
     "metadata": {},
     "output_type": "execute_result"
    }
   ],
   "source": [
    "subm.loc[subm.query('distrib_brdr == 1').index, 'views'] = model_views_start.predict(df_test[df_test.distrib_brdr == 1][cat_cols + num_cols])\n",
    "subm.loc[subm.query('distrib_brdr == 0').index, 'views'] = model_views_end.predict(df_test[df_test.distrib_brdr == 0][cat_cols + num_cols])\n",
    "sum(subm.views.isna())"
   ]
  },
  {
   "cell_type": "code",
   "execution_count": 68,
   "id": "3979a3b9-1d3b-4d5b-b4e5-60a91f876b3f",
   "metadata": {},
   "outputs": [
    {
     "data": {
      "text/plain": [
       "0"
      ]
     },
     "execution_count": 68,
     "metadata": {},
     "output_type": "execute_result"
    }
   ],
   "source": [
    "subm.loc[subm.query('distrib_brdr == 1').index, 'depth'] = model_depth_start.predict(df_test[df_test.distrib_brdr == 1][cat_cols + num_cols])\n",
    "subm.loc[subm.query('distrib_brdr == 0').index, 'depth'] = model_depth_end.predict(df_test[df_test.distrib_brdr == 0][cat_cols + num_cols])\n",
    "sum(subm.depth.isna())"
   ]
  },
  {
   "cell_type": "code",
   "execution_count": 69,
   "id": "562a667c-15ca-4ed0-8121-87011a1e817c",
   "metadata": {},
   "outputs": [
    {
     "data": {
      "text/plain": [
       "0"
      ]
     },
     "execution_count": 69,
     "metadata": {},
     "output_type": "execute_result"
    }
   ],
   "source": [
    "subm.loc[subm.query('distrib_brdr == 1').index, 'full_reads_percent'] = model_frp_start.predict(df_test[df_test.distrib_brdr == 1][cat_cols + num_cols])\n",
    "subm.loc[subm.query('distrib_brdr == 0').index, 'full_reads_percent'] = model_frp_end.predict(df_test[df_test.distrib_brdr == 0][cat_cols + num_cols])\n",
    "sum(subm.full_reads_percent.isna())"
   ]
  },
  {
   "cell_type": "code",
   "execution_count": 70,
   "id": "5992326a-1846-4096-9537-849c9d2c5662",
   "metadata": {},
   "outputs": [],
   "source": [
    "subm.drop(['distrib_brdr'], axis = 1, inplace = True)"
   ]
  },
  {
   "cell_type": "code",
   "execution_count": null,
   "id": "9dfc2478-7298-4171-8343-fbeab12ddf6b",
   "metadata": {},
   "outputs": [],
   "source": []
  },
  {
   "cell_type": "raw",
   "id": "3e6d88b3-6557-4eec-9832-3df9a9ad8919",
   "metadata": {},
   "source": [
    "pred_views = cb_model_views.predict(df_test[cat_cols + num_cols])\n",
    "pred_depth = cb_model_depth.predict(df_test[cat_cols + num_cols])\n",
    "pred_frp   = cb_model_frp.predict(  df_test[cat_cols + num_cols])"
   ]
  },
  {
   "cell_type": "raw",
   "id": "be58bca3-5b15-4f90-8646-e9d907241372",
   "metadata": {},
   "source": [
    "subm = pd.DataFrame()\n",
    "subm['document_id'] = df_test.document_id\n",
    "\n",
    "subm['views'] = pred_views\n",
    "subm['depth'] = pred_depth\n",
    "subm['full_reads_percent'] = pred_frp"
   ]
  },
  {
   "cell_type": "code",
   "execution_count": 71,
   "id": "0b45eb99-3913-44a7-b4e6-f0c49e38e890",
   "metadata": {},
   "outputs": [
    {
     "data": {
      "text/html": [
       "<div>\n",
       "<style scoped>\n",
       "    .dataframe tbody tr th:only-of-type {\n",
       "        vertical-align: middle;\n",
       "    }\n",
       "\n",
       "    .dataframe tbody tr th {\n",
       "        vertical-align: top;\n",
       "    }\n",
       "\n",
       "    .dataframe thead th {\n",
       "        text-align: right;\n",
       "    }\n",
       "</style>\n",
       "<table border=\"1\" class=\"dataframe\">\n",
       "  <thead>\n",
       "    <tr style=\"text-align: right;\">\n",
       "      <th></th>\n",
       "      <th>views</th>\n",
       "      <th>depth</th>\n",
       "      <th>full_reads_percent</th>\n",
       "    </tr>\n",
       "  </thead>\n",
       "  <tbody>\n",
       "    <tr>\n",
       "      <th>945</th>\n",
       "      <td>154690.491916</td>\n",
       "      <td>1.129062</td>\n",
       "      <td>17.660287</td>\n",
       "    </tr>\n",
       "    <tr>\n",
       "      <th>1440</th>\n",
       "      <td>153627.211459</td>\n",
       "      <td>1.147872</td>\n",
       "      <td>24.085768</td>\n",
       "    </tr>\n",
       "    <tr>\n",
       "      <th>2645</th>\n",
       "      <td>149365.817511</td>\n",
       "      <td>1.162967</td>\n",
       "      <td>26.911664</td>\n",
       "    </tr>\n",
       "  </tbody>\n",
       "</table>\n",
       "</div>"
      ],
      "text/plain": [
       "              views     depth  full_reads_percent\n",
       "945   154690.491916  1.129062           17.660287\n",
       "1440  153627.211459  1.147872           24.085768\n",
       "2645  149365.817511  1.162967           26.911664"
      ]
     },
     "execution_count": 71,
     "metadata": {},
     "output_type": "execute_result"
    }
   ],
   "source": [
    "doc_id_ukr = df_test[df_test.spec == 1].document_id.values\n",
    "subm.query('document_id in @doc_id_ukr')[['views', 'depth', 'full_reads_percent']]"
   ]
  },
  {
   "cell_type": "code",
   "execution_count": 72,
   "id": "43db487b-0209-4e2b-8ee0-1f33b2727552",
   "metadata": {},
   "outputs": [
    {
     "data": {
      "text/html": [
       "<div>\n",
       "<style scoped>\n",
       "    .dataframe tbody tr th:only-of-type {\n",
       "        vertical-align: middle;\n",
       "    }\n",
       "\n",
       "    .dataframe tbody tr th {\n",
       "        vertical-align: top;\n",
       "    }\n",
       "\n",
       "    .dataframe thead th {\n",
       "        text-align: right;\n",
       "    }\n",
       "</style>\n",
       "<table border=\"1\" class=\"dataframe\">\n",
       "  <thead>\n",
       "    <tr style=\"text-align: right;\">\n",
       "      <th></th>\n",
       "      <th>views</th>\n",
       "      <th>depth</th>\n",
       "      <th>full_reads_percent</th>\n",
       "    </tr>\n",
       "  </thead>\n",
       "  <tbody>\n",
       "    <tr>\n",
       "      <th>945</th>\n",
       "      <td>2554204.0</td>\n",
       "      <td>1.799</td>\n",
       "      <td>4.978</td>\n",
       "    </tr>\n",
       "    <tr>\n",
       "      <th>1440</th>\n",
       "      <td>2554204.0</td>\n",
       "      <td>1.799</td>\n",
       "      <td>4.978</td>\n",
       "    </tr>\n",
       "    <tr>\n",
       "      <th>2645</th>\n",
       "      <td>2554204.0</td>\n",
       "      <td>1.799</td>\n",
       "      <td>4.978</td>\n",
       "    </tr>\n",
       "  </tbody>\n",
       "</table>\n",
       "</div>"
      ],
      "text/plain": [
       "          views  depth  full_reads_percent\n",
       "945   2554204.0  1.799               4.978\n",
       "1440  2554204.0  1.799               4.978\n",
       "2645  2554204.0  1.799               4.978"
      ]
     },
     "execution_count": 72,
     "metadata": {},
     "output_type": "execute_result"
    }
   ],
   "source": [
    "# присваиваем статичные данные\n",
    "subm.loc[subm.query('document_id in @doc_id_ukr').index, 'views'] = VIEWS_UKR\n",
    "subm.loc[subm.query('document_id in @doc_id_ukr').index, 'depth'] = DEPTH_UKR\n",
    "subm.loc[subm.query('document_id in @doc_id_ukr').index, 'full_reads_percent'] = FPR_UKR\n",
    "\n",
    "subm.query('document_id in @doc_id_ukr')[['views', 'depth', 'full_reads_percent']]"
   ]
  },
  {
   "cell_type": "code",
   "execution_count": null,
   "id": "09b08a77-113c-45bb-ac28-55fef5f523b0",
   "metadata": {},
   "outputs": [],
   "source": []
  },
  {
   "cell_type": "code",
   "execution_count": 73,
   "id": "37fa65e1-c702-4764-8f84-eb93b80c73f8",
   "metadata": {},
   "outputs": [
    {
     "data": {
      "text/html": [
       "<div>\n",
       "<style scoped>\n",
       "    .dataframe tbody tr th:only-of-type {\n",
       "        vertical-align: middle;\n",
       "    }\n",
       "\n",
       "    .dataframe tbody tr th {\n",
       "        vertical-align: top;\n",
       "    }\n",
       "\n",
       "    .dataframe thead th {\n",
       "        text-align: right;\n",
       "    }\n",
       "</style>\n",
       "<table border=\"1\" class=\"dataframe\">\n",
       "  <thead>\n",
       "    <tr style=\"text-align: right;\">\n",
       "      <th></th>\n",
       "      <th>document_id</th>\n",
       "      <th>views</th>\n",
       "      <th>depth</th>\n",
       "      <th>full_reads_percent</th>\n",
       "    </tr>\n",
       "  </thead>\n",
       "  <tbody>\n",
       "    <tr>\n",
       "      <th>0</th>\n",
       "      <td>61f9569a9a794794245a82abJ0AvX96vTAaQCiWVbzoMdw</td>\n",
       "      <td>14373.004863</td>\n",
       "      <td>1.204846</td>\n",
       "      <td>43.721250</td>\n",
       "    </tr>\n",
       "    <tr>\n",
       "      <th>1</th>\n",
       "      <td>628c22b89a79470e553f594bQS5CqzXYRnmDdR2LaSreEw</td>\n",
       "      <td>5978.932869</td>\n",
       "      <td>1.058283</td>\n",
       "      <td>33.748877</td>\n",
       "    </tr>\n",
       "    <tr>\n",
       "      <th>2</th>\n",
       "      <td>627cb3249a7947ebdd752865XVsoyrUOT8OJJg2_finJhw</td>\n",
       "      <td>8824.021815</td>\n",
       "      <td>1.057760</td>\n",
       "      <td>27.853561</td>\n",
       "    </tr>\n",
       "    <tr>\n",
       "      <th>3</th>\n",
       "      <td>628618629a7947d4927eb812upfii3whSSuMXCqcqF8VbQ</td>\n",
       "      <td>7391.985447</td>\n",
       "      <td>1.063639</td>\n",
       "      <td>35.863349</td>\n",
       "    </tr>\n",
       "    <tr>\n",
       "      <th>4</th>\n",
       "      <td>620e76109a7947235623695b5hzCiIHdSYKQIr8WAM18bw</td>\n",
       "      <td>117443.086763</td>\n",
       "      <td>1.143752</td>\n",
       "      <td>27.600877</td>\n",
       "    </tr>\n",
       "  </tbody>\n",
       "</table>\n",
       "</div>"
      ],
      "text/plain": [
       "                                      document_id          views     depth  \\\n",
       "0  61f9569a9a794794245a82abJ0AvX96vTAaQCiWVbzoMdw   14373.004863  1.204846   \n",
       "1  628c22b89a79470e553f594bQS5CqzXYRnmDdR2LaSreEw    5978.932869  1.058283   \n",
       "2  627cb3249a7947ebdd752865XVsoyrUOT8OJJg2_finJhw    8824.021815  1.057760   \n",
       "3  628618629a7947d4927eb812upfii3whSSuMXCqcqF8VbQ    7391.985447  1.063639   \n",
       "4  620e76109a7947235623695b5hzCiIHdSYKQIr8WAM18bw  117443.086763  1.143752   \n",
       "\n",
       "   full_reads_percent  \n",
       "0           43.721250  \n",
       "1           33.748877  \n",
       "2           27.853561  \n",
       "3           35.863349  \n",
       "4           27.600877  "
      ]
     },
     "execution_count": 73,
     "metadata": {},
     "output_type": "execute_result"
    }
   ],
   "source": [
    "subm.head()"
   ]
  },
  {
   "cell_type": "code",
   "execution_count": 74,
   "id": "00d26c97-fb11-49b4-940e-ea797b27d29d",
   "metadata": {},
   "outputs": [],
   "source": [
    "subm.to_csv(os.path.join(DIR_SUBM, f'{NAME}.csv'), index = False)"
   ]
  },
  {
   "cell_type": "code",
   "execution_count": null,
   "id": "de448a8b-31ef-460b-8358-db43867defd2",
   "metadata": {},
   "outputs": [],
   "source": []
  },
  {
   "cell_type": "code",
   "execution_count": null,
   "id": "189ef811-b2af-49d0-90de-7c3b598d7734",
   "metadata": {},
   "outputs": [],
   "source": []
  }
 ],
 "metadata": {
  "kernelspec": {
   "display_name": "Python 3",
   "language": "python",
   "name": "python3"
  },
  "language_info": {
   "codemirror_mode": {
    "name": "ipython",
    "version": 3
   },
   "file_extension": ".py",
   "mimetype": "text/x-python",
   "name": "python",
   "nbconvert_exporter": "python",
   "pygments_lexer": "ipython3",
   "version": "3.7.10"
  }
 },
 "nbformat": 4,
 "nbformat_minor": 5
}
