{
 "cells": [
  {
   "cell_type": "code",
   "execution_count": 1,
   "id": "6f62ec01-36f8-4ffe-b187-0616094602d5",
   "metadata": {},
   "outputs": [],
   "source": [
    "%load_ext watermark"
   ]
  },
  {
   "cell_type": "code",
   "execution_count": 2,
   "id": "fd631481-f748-4610-94f4-a0d9b5bbe4ed",
   "metadata": {},
   "outputs": [
    {
     "name": "stdout",
     "output_type": "stream",
     "text": [
      "Last updated: 2022-07-18T22:15:20.934896+03:00\n",
      "\n",
      "Python implementation: CPython\n",
      "Python version       : 3.7.10\n",
      "IPython version      : 7.22.0\n",
      "\n",
      "Compiler    : MSC v.1916 64 bit (AMD64)\n",
      "OS          : Windows\n",
      "Release     : 10\n",
      "Machine     : AMD64\n",
      "Processor   : Intel64 Family 6 Model 158 Stepping 9, GenuineIntel\n",
      "CPU cores   : 8\n",
      "Architecture: 64bit\n",
      "\n"
     ]
    }
   ],
   "source": [
    "%watermark"
   ]
  },
  {
   "cell_type": "code",
   "execution_count": 3,
   "id": "2f268c90-86ca-4ea1-8a02-3a6b43c450cf",
   "metadata": {},
   "outputs": [],
   "source": [
    "import os\n",
    "import pickle as pkl\n",
    "\n",
    "import numpy as np\n",
    "import pandas as pd\n",
    "\n",
    "from sklearn.metrics import r2_score\n",
    "from sklearn import preprocessing\n",
    "from catboost import CatBoostRegressor, Pool\n",
    "\n",
    "import matplotlib.pyplot as plt\n",
    "import seaborn as sns"
   ]
  },
  {
   "cell_type": "code",
   "execution_count": 4,
   "id": "68c33f68-68f2-4e66-a8c6-4a7ac88eb910",
   "metadata": {},
   "outputs": [
    {
     "name": "stdout",
     "output_type": "stream",
     "text": [
      "cb_version: 0.24.3\n",
      "sklearn_version: 0.24.2\n"
     ]
    }
   ],
   "source": [
    "from catboost import __version__ as cb_version\n",
    "from sklearn import __version__ as sklearn_version\n",
    "\n",
    "print(f'cb_version: {cb_version}')\n",
    "print(f'sklearn_version: {sklearn_version}')"
   ]
  },
  {
   "cell_type": "code",
   "execution_count": 5,
   "id": "21f6a58a-b019-4436-83ec-428714473139",
   "metadata": {},
   "outputs": [
    {
     "name": "stdout",
     "output_type": "stream",
     "text": [
      "sklearn   : 0.24.2\n",
      "matplotlib: 3.3.4\n",
      "seaborn   : 0.11.1\n",
      "pandas    : 0.25.3\n",
      "numpy     : 1.20.3\n",
      "\n"
     ]
    }
   ],
   "source": [
    "%watermark --iversions"
   ]
  },
  {
   "cell_type": "code",
   "execution_count": null,
   "id": "8238fc41-4ff8-45af-832d-8ca6512b8995",
   "metadata": {},
   "outputs": [],
   "source": []
  },
  {
   "cell_type": "code",
   "execution_count": null,
   "id": "fabdb0fa-405c-4649-b004-d353666fef7a",
   "metadata": {},
   "outputs": [],
   "source": []
  },
  {
   "cell_type": "markdown",
   "id": "3f3d5ca4-753b-47f1-801f-02be08c0bc3c",
   "metadata": {},
   "source": [
    "## Reproducibility block"
   ]
  },
  {
   "cell_type": "code",
   "execution_count": 6,
   "id": "8d133278-9bc6-4c5d-b029-bd0c31d6adf1",
   "metadata": {},
   "outputs": [],
   "source": [
    "# seed the RNG for all devices (both CPU and CUDA)\n",
    "#torch.manual_seed(1984)\n",
    "\n",
    "#Disabling the benchmarking feature causes cuDNN to deterministically select an algorithm, \n",
    "#possibly at the cost of reduced performance.\n",
    "#torch.backends.cudnn.benchmark = False\n",
    "\n",
    "# for custom operators,\n",
    "import random\n",
    "random.seed(5986721)\n",
    "\n",
    "# \n",
    "np.random.seed(62185)\n",
    "\n",
    "#sklearn take seed from a line abowe\n",
    "\n",
    "CB_RANDOMSEED = 309487"
   ]
  },
  {
   "cell_type": "code",
   "execution_count": null,
   "id": "9f38ebd5-a020-47eb-b1f4-9ea987afb524",
   "metadata": {},
   "outputs": [],
   "source": []
  },
  {
   "cell_type": "code",
   "execution_count": 7,
   "id": "019813d1-62ae-4b4d-a2f6-c0d74c146413",
   "metadata": {},
   "outputs": [],
   "source": [
    "DIR_DATA   = os.path.join(os.getcwd(), 'data')\n",
    "DIR_MODELS = os.path.join(os.getcwd(), 'models')\n",
    "DIR_SUBM   = os.path.join(os.getcwd(), 'subm')\n",
    "DIR_SUBM_PART = os.path.join(os.getcwd(), 'subm', 'partial')"
   ]
  },
  {
   "cell_type": "code",
   "execution_count": null,
   "id": "0d608686-6d8e-49ad-906b-b20933e0ec2a",
   "metadata": {},
   "outputs": [],
   "source": []
  },
  {
   "cell_type": "code",
   "execution_count": 8,
   "id": "00dcf830-653c-43e2-93a8-a48c90a3a78e",
   "metadata": {},
   "outputs": [],
   "source": [
    "NTRY = 15\n",
    "NAME = f'{NTRY}_cb_pca64_sber_lags_parse_bord_nose_irq'"
   ]
  },
  {
   "cell_type": "code",
   "execution_count": 9,
   "id": "405a66ac-9262-4fce-8189-ee569f79eedf",
   "metadata": {},
   "outputs": [],
   "source": [
    "CTR_UKR = 6.096\n",
    "\n",
    "VIEWS_UKR = 2554204\n",
    "DEPTH_UKR = 1.799\n",
    "FPR_UKR = 4.978"
   ]
  },
  {
   "cell_type": "code",
   "execution_count": null,
   "id": "6aee7533-343d-4346-a598-41e96250d2dc",
   "metadata": {},
   "outputs": [],
   "source": []
  },
  {
   "cell_type": "markdown",
   "id": "ae3e27a3-16bb-456d-b7a1-7975d5f85ea5",
   "metadata": {},
   "source": [
    "## Load data"
   ]
  },
  {
   "cell_type": "code",
   "execution_count": 10,
   "id": "ee296ac9-baf6-4bcb-89ce-5fe99408403d",
   "metadata": {},
   "outputs": [],
   "source": [
    "df_train  = pd.read_csv(os.path.join(DIR_DATA, 'train_upd.csv'), index_col= 0)\n",
    "x_train  = pd.read_csv(os.path.join(DIR_DATA, 'x_train.csv'), index_col= 0)\n",
    "x_val    = pd.read_csv(os.path.join(DIR_DATA, 'x_val.csv'), index_col= 0)\n",
    "df_test  = pd.read_csv(os.path.join(DIR_DATA, 'test_upd.csv'), index_col= 0)\n",
    "\n",
    "with open(os.path.join(DIR_DATA, 'cat_columns.pkl'), 'rb') as pickle_file:\n",
    "    cat_cols = pkl.load(pickle_file)\n",
    "    \n",
    "with open(os.path.join(DIR_DATA, 'num_columns.pkl'), 'rb') as pickle_file:\n",
    "    num_cols = pkl.load(pickle_file)\n",
    "    \n",
    "with open(os.path.join(DIR_DATA, 'clmns.pkl'), 'rb') as pickle_file:\n",
    "    clmns = pkl.load(pickle_file)\n"
   ]
  },
  {
   "cell_type": "code",
   "execution_count": 11,
   "id": "b00427ec-ac4f-4da3-8dfb-94871e63072d",
   "metadata": {},
   "outputs": [
    {
     "data": {
      "text/plain": [
       "((4930, 290), (1233, 290), (3000, 286), 11, 262)"
      ]
     },
     "execution_count": 11,
     "metadata": {},
     "output_type": "execute_result"
    }
   ],
   "source": [
    "x_train.shape, x_val.shape, df_test.shape, len(cat_cols), len(num_cols)"
   ]
  },
  {
   "cell_type": "code",
   "execution_count": 12,
   "id": "40e960cf-00f2-45b2-986f-436a8024d0de",
   "metadata": {},
   "outputs": [
    {
     "name": "stdout",
     "output_type": "stream",
     "text": [
      "['two_articles', 'ph_report', 'ph_gallery', 'tv_prog', 'online', 'video', 'infogr', 'holiday', 'day_before_holiday', 'day_after_holiday', 'distrib_brdr', 'category']\n"
     ]
    }
   ],
   "source": [
    "cat_cols = cat_cols + ['category']\n",
    "print(cat_cols)"
   ]
  },
  {
   "cell_type": "markdown",
   "id": "d4b599d2-168d-4cc1-a4ea-fc34d707a0ce",
   "metadata": {},
   "source": [
    "отделяем метки от данных"
   ]
  },
  {
   "cell_type": "code",
   "execution_count": 13,
   "id": "40de44ef-8722-48fc-84f7-c78ce45471fc",
   "metadata": {},
   "outputs": [
    {
     "data": {
      "text/plain": [
       "((4930, 287), (1233, 287), (4930, 3), (1233, 3))"
      ]
     },
     "execution_count": 13,
     "metadata": {},
     "output_type": "execute_result"
    }
   ],
   "source": [
    "y_train = x_train[['views', 'depth', 'full_reads_percent']]\n",
    "y_val   = x_val[['views', 'depth', 'full_reads_percent']]\n",
    "\n",
    "x_train.drop(['views', 'depth', 'full_reads_percent'], axis = 1, inplace = True)\n",
    "x_val.drop(  ['views', 'depth', 'full_reads_percent'], axis = 1, inplace = True)\n",
    "\n",
    "x_train.shape, x_val.shape, y_train.shape, y_val.shape"
   ]
  },
  {
   "cell_type": "code",
   "execution_count": 14,
   "id": "3145e466-8172-424b-85ac-ad97439d9913",
   "metadata": {},
   "outputs": [
    {
     "data": {
      "text/plain": [
       "(4930, 287)"
      ]
     },
     "execution_count": 14,
     "metadata": {},
     "output_type": "execute_result"
    }
   ],
   "source": [
    "x_train.shape"
   ]
  },
  {
   "cell_type": "code",
   "execution_count": 15,
   "id": "c416f029-f4cc-46cf-aa20-c30e664b1cdb",
   "metadata": {},
   "outputs": [
    {
     "name": "stdout",
     "output_type": "stream",
     "text": [
      "['ph_report', 'ph_gallery', 'tv_prog', 'online', 'video', 'infogr']\n",
      "['hour', 'dow', 'day', 'mounth', 'holiday', 'day_before_holiday', 'day_after_holiday', 'distrib_brdr']\n"
     ]
    }
   ],
   "source": [
    "cat_cols = []\n",
    "num_cols = []\n",
    "\n",
    "for el in clmns.keys():\n",
    "    cat_cols.extend(clmns[el]['cat'])\n",
    "    num_cols.extend(clmns[el]['num'])\n",
    "    if len(clmns[el]['both']) != 0:\n",
    "        print(clmns[el]['both'])"
   ]
  },
  {
   "cell_type": "code",
   "execution_count": 16,
   "id": "972bb343-2bb3-4c31-b99f-f9c8331f8b87",
   "metadata": {},
   "outputs": [],
   "source": [
    "num_cols.extend(['hour', 'mounth'])\n",
    "cat_cols.extend(['dow', \n",
    "                 'ph_report', 'ph_gallery', 'tv_prog', 'online', 'video', 'infogr',\n",
    "                 'holiday', 'day_before_holiday', 'day_after_holiday', 'distrib_brdr',\n",
    "                 #'spec_event_1',\n",
    "                ])"
   ]
  },
  {
   "cell_type": "code",
   "execution_count": null,
   "id": "a0c5cb73-e2fa-48fc-8583-d52508106490",
   "metadata": {},
   "outputs": [],
   "source": []
  },
  {
   "cell_type": "code",
   "execution_count": 17,
   "id": "eec9699d-6702-4a88-9b87-c374c89a9b17",
   "metadata": {},
   "outputs": [],
   "source": [
    "for el in cat_cols:\n",
    "    df_train[el] = df_train[el].astype(str)\n",
    "    x_train[el] = x_train[el].astype(str)\n",
    "    x_val[el]   = x_val[el].astype(str)\n",
    "    df_test[el] = df_test[el].astype(str)"
   ]
  },
  {
   "cell_type": "code",
   "execution_count": null,
   "id": "b77dc32c-95e3-4722-ab02-c8c700dd78df",
   "metadata": {},
   "outputs": [],
   "source": []
  },
  {
   "cell_type": "code",
   "execution_count": 18,
   "id": "da5f4f8d-2ce3-42fc-b01c-9538a7867504",
   "metadata": {},
   "outputs": [],
   "source": [
    "#views\n",
    "train_ds_views = Pool(x_train[cat_cols + num_cols],\n",
    "#train_ds_views = Pool(x_train[cat_cols + ['ctr']],\n",
    "                      y_train[['views']],\n",
    "                      cat_features = cat_cols,\n",
    "                      #feature_names = cat_cols + num_cols\n",
    "                     )\n",
    "\n",
    "val_ds_views   = Pool(x_val[cat_cols + num_cols],\n",
    "#val_ds_views   = Pool(x_val[cat_cols + ['ctr']],\n",
    "                      y_val[['views']],\n",
    "                      cat_features = cat_cols,\n",
    "                      #feature_names = cat_cols + num_cols\n",
    "                     )\n",
    "train_views_full = Pool(df_train[cat_cols + num_cols],\n",
    "#train_ds_views = Pool(x_train[cat_cols + ['ctr']],\n",
    "                      df_train[['views']],\n",
    "                      cat_features = cat_cols,\n",
    "                      #feature_names = cat_cols + num_cols\n",
    "                     )\n",
    "\n",
    "\n",
    "\n",
    "#depth\n",
    "train_ds_depth = Pool(x_train[cat_cols + num_cols],\n",
    "                      y_train[['depth']],\n",
    "                      cat_features = cat_cols,\n",
    "                      feature_names = cat_cols + num_cols\n",
    "                     )\n",
    "\n",
    "val_ds_depth   = Pool(x_val[cat_cols + num_cols],\n",
    "                      y_val[['depth']],\n",
    "                      cat_features = cat_cols,\n",
    "                      feature_names = cat_cols + num_cols\n",
    "                     )\n",
    "train_depth_full = Pool(df_train[cat_cols + num_cols],\n",
    "#train_ds_views = Pool(x_train[cat_cols + ['ctr']],\n",
    "                      df_train[['depth']],\n",
    "                      cat_features = cat_cols,\n",
    "                      #feature_names = cat_cols + num_cols\n",
    "                     )\n",
    "\n",
    "\n",
    "#full_reads_percent\n",
    "#у frp корреляция с depth. так что добавим признак deprh_pred и соберем датасет уже после предсказания depth"
   ]
  },
  {
   "cell_type": "code",
   "execution_count": null,
   "id": "12ae502e-4ce4-4f6e-947f-4f6f5942584a",
   "metadata": {},
   "outputs": [],
   "source": []
  },
  {
   "cell_type": "code",
   "execution_count": 19,
   "id": "41e5514e-1f39-4fd8-bee0-98c9b705dda5",
   "metadata": {},
   "outputs": [],
   "source": [
    "def plot_feature_importance2(inp_model, inp_pool, imp_number = 30):\n",
    "    \n",
    "    data = pd.DataFrame({'feature_importance': inp_model.get_feature_importance(inp_pool), \n",
    "              'feature_names': inp_pool.get_feature_names()}).sort_values(by=['feature_importance'], \n",
    "                                                       ascending=True)\n",
    "    \n",
    "    data.nlargest(imp_number, columns=\"feature_importance\").plot(kind='barh', figsize = (30,16)) ## plot top 40 features"
   ]
  },
  {
   "cell_type": "code",
   "execution_count": 20,
   "id": "55711d60-6520-4f9c-af95-e2c0624d270c",
   "metadata": {},
   "outputs": [],
   "source": [
    "def plot_feature_importance(importance,names,model_type, imp_number = 30):\n",
    "    \n",
    "    #Create arrays from feature importance and feature names\n",
    "    feature_importance = np.array(importance)\n",
    "    feature_names = np.array(names)\n",
    "    \n",
    "    #Create a DataFrame using a Dictionary\n",
    "    data={'feature_names':feature_names,'feature_importance':feature_importance}\n",
    "    fi_df = pd.DataFrame(data)\n",
    "    \n",
    "    #Sort the DataFrame in order decreasing feature importance\n",
    "    fi_df.sort_values(by=['feature_importance'], ascending=False,inplace=True)\n",
    "    \n",
    "    #Define size of bar plot\n",
    "    plt.figure(figsize=(10,8))\n",
    "    #Plot Searborn bar chart\n",
    "    sns.barplot(x=fi_df['feature_importance'][:imp_number], y=fi_df['feature_names'][:imp_number])\n",
    "    #Add chart labels\n",
    "    plt.title(model_type + 'FEATURE IMPORTANCE')\n",
    "    plt.xlabel('FEATURE IMPORTANCE')\n",
    "    plt.ylabel('FEATURE NAMES')"
   ]
  },
  {
   "cell_type": "code",
   "execution_count": null,
   "id": "4c0f79ca-2997-443a-ab51-de4e53217939",
   "metadata": {},
   "outputs": [],
   "source": []
  },
  {
   "cell_type": "markdown",
   "id": "668fd48f-3112-40a7-a453-d4f159ef4877",
   "metadata": {},
   "source": [
    "## views"
   ]
  },
  {
   "cell_type": "code",
   "execution_count": null,
   "id": "2489ac5a-4d21-4544-be84-ac5f7ba86c57",
   "metadata": {},
   "outputs": [],
   "source": []
  },
  {
   "cell_type": "raw",
   "id": "8a1170e4-1670-4f73-bcde-0a8c76b102f6",
   "metadata": {},
   "source": [
    "scores_views = cv(train_views_full,\n",
    "            cb_params_views,\n",
    "            fold_count=5,\n",
    "            random_seed = CB_RANDOMSEED, \n",
    "            #plot=\"True\"\n",
    "                 )"
   ]
  },
  {
   "cell_type": "code",
   "execution_count": null,
   "id": "8cf4bc60-8ca3-461a-865f-7c312e83e6ba",
   "metadata": {},
   "outputs": [],
   "source": []
  },
  {
   "cell_type": "code",
   "execution_count": 21,
   "id": "37fb9d99-b182-4aae-85ba-24ff91dfbe33",
   "metadata": {},
   "outputs": [
    {
     "name": "stdout",
     "output_type": "stream",
     "text": [
      "0:\tlearn: 12930.4671589\ttest: 12171.5275424\tbest: 12171.5275424 (0)\ttotal: 644ms\tremaining: 1m 3s\n",
      "1:\tlearn: 12749.2857962\ttest: 12017.5287851\tbest: 12017.5287851 (1)\ttotal: 1.15s\tremaining: 56.1s\n",
      "2:\tlearn: 12590.2307358\ttest: 11880.6115346\tbest: 11880.6115346 (2)\ttotal: 1.65s\tremaining: 53.3s\n",
      "3:\tlearn: 12435.4905624\ttest: 11747.0193224\tbest: 11747.0193224 (3)\ttotal: 2.2s\tremaining: 52.8s\n",
      "4:\tlearn: 12289.5722250\ttest: 11621.2848846\tbest: 11621.2848846 (4)\ttotal: 2.69s\tremaining: 51.2s\n",
      "5:\tlearn: 12139.8041112\ttest: 11477.2719781\tbest: 11477.2719781 (5)\ttotal: 3.21s\tremaining: 50.4s\n",
      "6:\tlearn: 12007.0917767\ttest: 11373.6709755\tbest: 11373.6709755 (6)\ttotal: 3.71s\tremaining: 49.3s\n",
      "7:\tlearn: 11889.5327191\ttest: 11262.7444767\tbest: 11262.7444767 (7)\ttotal: 4.22s\tremaining: 48.6s\n",
      "8:\tlearn: 11767.0694631\ttest: 11165.1362212\tbest: 11165.1362212 (8)\ttotal: 4.74s\tremaining: 47.9s\n",
      "9:\tlearn: 11658.9278801\ttest: 11066.6592038\tbest: 11066.6592038 (9)\ttotal: 5.29s\tremaining: 47.7s\n",
      "10:\tlearn: 11557.8834144\ttest: 10992.8939642\tbest: 10992.8939642 (10)\ttotal: 6.15s\tremaining: 49.7s\n",
      "11:\tlearn: 11467.3916558\ttest: 10921.7519422\tbest: 10921.7519422 (11)\ttotal: 6.74s\tremaining: 49.4s\n",
      "12:\tlearn: 11369.0479064\ttest: 10860.3769354\tbest: 10860.3769354 (12)\ttotal: 7.46s\tremaining: 49.9s\n",
      "13:\tlearn: 11276.5232208\ttest: 10803.8601153\tbest: 10803.8601153 (13)\ttotal: 8.21s\tremaining: 50.4s\n",
      "14:\tlearn: 11183.2600438\ttest: 10739.5502294\tbest: 10739.5502294 (14)\ttotal: 8.82s\tremaining: 50s\n",
      "15:\tlearn: 11085.3254266\ttest: 10682.4504590\tbest: 10682.4504590 (15)\ttotal: 9.44s\tremaining: 49.6s\n",
      "16:\tlearn: 10992.7525030\ttest: 10637.9710851\tbest: 10637.9710851 (16)\ttotal: 10.1s\tremaining: 49.2s\n",
      "17:\tlearn: 10906.7542758\ttest: 10590.2118125\tbest: 10590.2118125 (17)\ttotal: 10.6s\tremaining: 48.5s\n",
      "18:\tlearn: 10821.7834220\ttest: 10547.2207085\tbest: 10547.2207085 (18)\ttotal: 11.2s\tremaining: 47.9s\n",
      "19:\tlearn: 10739.9301719\ttest: 10503.3704216\tbest: 10503.3704216 (19)\ttotal: 11.8s\tremaining: 47.1s\n",
      "20:\tlearn: 10650.1310697\ttest: 10469.9635342\tbest: 10469.9635342 (20)\ttotal: 12.3s\tremaining: 46.4s\n",
      "21:\tlearn: 10580.1663295\ttest: 10420.3980997\tbest: 10420.3980997 (21)\ttotal: 12.9s\tremaining: 45.6s\n",
      "22:\tlearn: 10509.7611546\ttest: 10390.9982814\tbest: 10390.9982814 (22)\ttotal: 13.4s\tremaining: 45s\n",
      "23:\tlearn: 10435.3215734\ttest: 10359.0422470\tbest: 10359.0422470 (23)\ttotal: 14s\tremaining: 44.5s\n",
      "24:\tlearn: 10374.2704960\ttest: 10314.1842892\tbest: 10314.1842892 (24)\ttotal: 14.6s\tremaining: 43.9s\n",
      "25:\tlearn: 10305.2408176\ttest: 10281.3151900\tbest: 10281.3151900 (25)\ttotal: 15.4s\tremaining: 43.8s\n",
      "26:\tlearn: 10244.4250908\ttest: 10252.0313443\tbest: 10252.0313443 (26)\ttotal: 16s\tremaining: 43.2s\n",
      "27:\tlearn: 10173.5860991\ttest: 10227.5149285\tbest: 10227.5149285 (27)\ttotal: 16.6s\tremaining: 42.8s\n",
      "28:\tlearn: 10113.5174632\ttest: 10196.1766932\tbest: 10196.1766932 (28)\ttotal: 17.3s\tremaining: 42.2s\n",
      "29:\tlearn: 10064.2447276\ttest: 10173.3330982\tbest: 10173.3330982 (29)\ttotal: 17.8s\tremaining: 41.6s\n",
      "30:\tlearn: 10009.4055314\ttest: 10150.7203739\tbest: 10150.7203739 (30)\ttotal: 18.4s\tremaining: 41s\n",
      "31:\tlearn: 9963.8631747\ttest: 10129.1887445\tbest: 10129.1887445 (31)\ttotal: 19s\tremaining: 40.4s\n",
      "32:\tlearn: 9924.7260834\ttest: 10103.0963966\tbest: 10103.0963966 (32)\ttotal: 19.6s\tremaining: 39.8s\n",
      "33:\tlearn: 9870.8000348\ttest: 10082.0666152\tbest: 10082.0666152 (33)\ttotal: 20.2s\tremaining: 39.2s\n",
      "34:\tlearn: 9822.6826934\ttest: 10067.7627922\tbest: 10067.7627922 (34)\ttotal: 20.9s\tremaining: 38.8s\n",
      "35:\tlearn: 9780.6080757\ttest: 10042.5768725\tbest: 10042.5768725 (35)\ttotal: 21.6s\tremaining: 38.5s\n",
      "36:\tlearn: 9739.6909651\ttest: 10021.4324462\tbest: 10021.4324462 (36)\ttotal: 22.2s\tremaining: 37.8s\n",
      "37:\tlearn: 9691.8488546\ttest: 10004.7424236\tbest: 10004.7424236 (37)\ttotal: 22.8s\tremaining: 37.2s\n",
      "38:\tlearn: 9651.2575880\ttest: 9997.3420596\tbest: 9997.3420596 (38)\ttotal: 23.4s\tremaining: 36.6s\n",
      "39:\tlearn: 9611.6387597\ttest: 9978.8500978\tbest: 9978.8500978 (39)\ttotal: 24.1s\tremaining: 36.1s\n",
      "40:\tlearn: 9574.3797635\ttest: 9958.2496797\tbest: 9958.2496797 (40)\ttotal: 24.8s\tremaining: 35.6s\n",
      "41:\tlearn: 9537.0296006\ttest: 9945.5348772\tbest: 9945.5348772 (41)\ttotal: 25.3s\tremaining: 35s\n",
      "42:\tlearn: 9493.0995249\ttest: 9934.8087650\tbest: 9934.8087650 (42)\ttotal: 25.9s\tremaining: 34.3s\n",
      "43:\tlearn: 9454.1527057\ttest: 9920.9117654\tbest: 9920.9117654 (43)\ttotal: 26.5s\tremaining: 33.7s\n",
      "44:\tlearn: 9427.3829676\ttest: 9913.8816138\tbest: 9913.8816138 (44)\ttotal: 27.2s\tremaining: 33.3s\n",
      "45:\tlearn: 9392.6034094\ttest: 9912.2670692\tbest: 9912.2670692 (45)\ttotal: 27.9s\tremaining: 32.7s\n",
      "46:\tlearn: 9363.5783166\ttest: 9898.5423555\tbest: 9898.5423555 (46)\ttotal: 28.5s\tremaining: 32.2s\n",
      "47:\tlearn: 9323.4418602\ttest: 9885.2588926\tbest: 9885.2588926 (47)\ttotal: 29.1s\tremaining: 31.5s\n",
      "48:\tlearn: 9295.4133078\ttest: 9876.0414152\tbest: 9876.0414152 (48)\ttotal: 29.7s\tremaining: 31s\n",
      "49:\tlearn: 9260.1297407\ttest: 9867.4975210\tbest: 9867.4975210 (49)\ttotal: 30.4s\tremaining: 30.4s\n",
      "50:\tlearn: 9217.1078702\ttest: 9865.6039283\tbest: 9865.6039283 (50)\ttotal: 31s\tremaining: 29.8s\n",
      "51:\tlearn: 9190.2783819\ttest: 9859.1556770\tbest: 9859.1556770 (51)\ttotal: 31.7s\tremaining: 29.3s\n",
      "52:\tlearn: 9148.4411528\ttest: 9844.5236406\tbest: 9844.5236406 (52)\ttotal: 32.4s\tremaining: 28.7s\n",
      "53:\tlearn: 9111.1300622\ttest: 9832.0593146\tbest: 9832.0593146 (53)\ttotal: 33s\tremaining: 28.1s\n",
      "54:\tlearn: 9073.9295810\ttest: 9827.8523808\tbest: 9827.8523808 (54)\ttotal: 33.6s\tremaining: 27.5s\n",
      "55:\tlearn: 9033.6988463\ttest: 9823.1369806\tbest: 9823.1369806 (55)\ttotal: 34.1s\tremaining: 26.8s\n",
      "56:\tlearn: 8997.7415698\ttest: 9817.2533941\tbest: 9817.2533941 (56)\ttotal: 34.7s\tremaining: 26.2s\n",
      "57:\tlearn: 8970.2781618\ttest: 9809.3956489\tbest: 9809.3956489 (57)\ttotal: 35.3s\tremaining: 25.6s\n",
      "58:\tlearn: 8921.9842669\ttest: 9803.1537448\tbest: 9803.1537448 (58)\ttotal: 35.9s\tremaining: 24.9s\n",
      "59:\tlearn: 8880.6877678\ttest: 9797.9337857\tbest: 9797.9337857 (59)\ttotal: 36.5s\tremaining: 24.3s\n",
      "60:\tlearn: 8865.5718647\ttest: 9789.6577480\tbest: 9789.6577480 (60)\ttotal: 37.1s\tremaining: 23.7s\n",
      "61:\tlearn: 8831.7199210\ttest: 9789.8359618\tbest: 9789.6577480 (60)\ttotal: 37.7s\tremaining: 23.1s\n",
      "62:\tlearn: 8797.3619379\ttest: 9783.4689294\tbest: 9783.4689294 (62)\ttotal: 38.2s\tremaining: 22.5s\n",
      "63:\tlearn: 8763.1238185\ttest: 9777.4416200\tbest: 9777.4416200 (63)\ttotal: 38.8s\tremaining: 21.8s\n",
      "64:\tlearn: 8731.1503303\ttest: 9775.1357738\tbest: 9775.1357738 (64)\ttotal: 39.4s\tremaining: 21.2s\n",
      "65:\tlearn: 8698.2691217\ttest: 9768.2002143\tbest: 9768.2002143 (65)\ttotal: 40s\tremaining: 20.6s\n",
      "66:\tlearn: 8662.3676666\ttest: 9764.5932411\tbest: 9764.5932411 (66)\ttotal: 40.6s\tremaining: 20s\n",
      "67:\tlearn: 8633.3134703\ttest: 9756.6127271\tbest: 9756.6127271 (67)\ttotal: 41.1s\tremaining: 19.3s\n",
      "68:\tlearn: 8601.9570763\ttest: 9750.2314221\tbest: 9750.2314221 (68)\ttotal: 41.6s\tremaining: 18.7s\n",
      "69:\tlearn: 8553.7854682\ttest: 9740.1188345\tbest: 9740.1188345 (69)\ttotal: 42.2s\tremaining: 18.1s\n",
      "70:\tlearn: 8521.5406051\ttest: 9733.8248920\tbest: 9733.8248920 (70)\ttotal: 42.7s\tremaining: 17.4s\n",
      "71:\tlearn: 8490.2641772\ttest: 9726.1570118\tbest: 9726.1570118 (71)\ttotal: 43.2s\tremaining: 16.8s\n",
      "72:\tlearn: 8454.6766410\ttest: 9721.1759552\tbest: 9721.1759552 (72)\ttotal: 43.7s\tremaining: 16.2s\n",
      "73:\tlearn: 8418.0745876\ttest: 9720.4615709\tbest: 9720.4615709 (73)\ttotal: 44.2s\tremaining: 15.5s\n",
      "74:\tlearn: 8391.8152033\ttest: 9714.2160923\tbest: 9714.2160923 (74)\ttotal: 44.8s\tremaining: 14.9s\n",
      "75:\tlearn: 8363.5062142\ttest: 9708.0283276\tbest: 9708.0283276 (75)\ttotal: 45.3s\tremaining: 14.3s\n",
      "76:\tlearn: 8337.2824787\ttest: 9699.7307081\tbest: 9699.7307081 (76)\ttotal: 45.9s\tremaining: 13.7s\n",
      "77:\tlearn: 8314.8102408\ttest: 9697.8054519\tbest: 9697.8054519 (77)\ttotal: 46.4s\tremaining: 13.1s\n",
      "78:\tlearn: 8277.6604283\ttest: 9697.9522902\tbest: 9697.8054519 (77)\ttotal: 46.9s\tremaining: 12.5s\n",
      "79:\tlearn: 8241.0101923\ttest: 9695.3728128\tbest: 9695.3728128 (79)\ttotal: 47.5s\tremaining: 11.9s\n",
      "80:\tlearn: 8214.8581743\ttest: 9691.7731333\tbest: 9691.7731333 (80)\ttotal: 48s\tremaining: 11.3s\n",
      "81:\tlearn: 8186.2999464\ttest: 9690.1322786\tbest: 9690.1322786 (81)\ttotal: 48.5s\tremaining: 10.7s\n",
      "82:\tlearn: 8162.2850850\ttest: 9681.7860481\tbest: 9681.7860481 (82)\ttotal: 49s\tremaining: 10s\n",
      "83:\tlearn: 8120.9017049\ttest: 9674.0196435\tbest: 9674.0196435 (83)\ttotal: 49.6s\tremaining: 9.44s\n",
      "84:\tlearn: 8087.5297653\ttest: 9674.2183801\tbest: 9674.0196435 (83)\ttotal: 50.1s\tremaining: 8.84s\n",
      "85:\tlearn: 8058.0703895\ttest: 9670.1023879\tbest: 9670.1023879 (85)\ttotal: 50.6s\tremaining: 8.24s\n",
      "86:\tlearn: 8021.1735193\ttest: 9670.0561133\tbest: 9670.0561133 (86)\ttotal: 51.3s\tremaining: 7.66s\n",
      "87:\tlearn: 7999.4500774\ttest: 9667.8586136\tbest: 9667.8586136 (87)\ttotal: 51.8s\tremaining: 7.06s\n",
      "88:\tlearn: 7981.6884422\ttest: 9665.4511437\tbest: 9665.4511437 (88)\ttotal: 52.3s\tremaining: 6.46s\n",
      "89:\tlearn: 7951.7359199\ttest: 9663.2281385\tbest: 9663.2281385 (89)\ttotal: 52.8s\tremaining: 5.87s\n",
      "90:\tlearn: 7917.1336302\ttest: 9659.0683135\tbest: 9659.0683135 (90)\ttotal: 53.3s\tremaining: 5.27s\n",
      "91:\tlearn: 7898.4570688\ttest: 9654.0913467\tbest: 9654.0913467 (91)\ttotal: 53.8s\tremaining: 4.68s\n",
      "92:\tlearn: 7878.6645597\ttest: 9650.2637830\tbest: 9650.2637830 (92)\ttotal: 54.3s\tremaining: 4.09s\n",
      "93:\tlearn: 7844.1207352\ttest: 9650.2356131\tbest: 9650.2356131 (93)\ttotal: 54.9s\tremaining: 3.5s\n",
      "94:\tlearn: 7813.7283640\ttest: 9646.0891732\tbest: 9646.0891732 (94)\ttotal: 55.4s\tremaining: 2.92s\n",
      "95:\tlearn: 7795.5779099\ttest: 9644.8297896\tbest: 9644.8297896 (95)\ttotal: 55.9s\tremaining: 2.33s\n",
      "96:\tlearn: 7772.4767676\ttest: 9642.0461376\tbest: 9642.0461376 (96)\ttotal: 56.5s\tremaining: 1.75s\n",
      "97:\tlearn: 7751.4402336\ttest: 9638.4003399\tbest: 9638.4003399 (97)\ttotal: 57s\tremaining: 1.16s\n",
      "98:\tlearn: 7718.9664006\ttest: 9633.8417112\tbest: 9633.8417112 (98)\ttotal: 57.5s\tremaining: 581ms\n",
      "99:\tlearn: 7683.3522025\ttest: 9637.7568606\tbest: 9633.8417112 (98)\ttotal: 58.1s\tremaining: 0us\n",
      "\n",
      "bestTest = 9633.841711\n",
      "bestIteration = 98\n",
      "\n",
      "Shrink model to first 99 iterations.\n"
     ]
    },
    {
     "data": {
      "text/plain": [
       "<catboost.core.CatBoostRegressor at 0x1b0a6aa6148>"
      ]
     },
     "execution_count": 21,
     "metadata": {},
     "output_type": "execute_result"
    }
   ],
   "source": [
    "cb_model_views = CatBoostRegressor(#iterations=20,\n",
    "                                 learning_rate=0.05,\n",
    "                                 depth=10,\n",
    "                                 random_seed = CB_RANDOMSEED,\n",
    "                   n_estimators=100,\n",
    "                                  )\n",
    "# Fit model\n",
    "cb_model_views.fit(train_ds_views,\n",
    "        #train_data, train_labels,\n",
    "                   eval_set=val_ds_views, \n",
    "                   #plot = True,\n",
    "                  )"
   ]
  },
  {
   "cell_type": "code",
   "execution_count": 22,
   "id": "b0c470be-2a85-4ddc-8523-19194d636b32",
   "metadata": {},
   "outputs": [
    {
     "data": {
      "text/plain": [
       "(0.6545427840046301, 0.39106531344291406)"
      ]
     },
     "execution_count": 22,
     "metadata": {},
     "output_type": "execute_result"
    }
   ],
   "source": [
    "# Get predictions and metrics\n",
    "preds_train_views = cb_model_views.predict(x_train[cat_cols + num_cols])\n",
    "preds_val_views   = cb_model_views.predict(val_ds_views)\n",
    "\n",
    "train_score_views = r2_score(y_train[\"views\"], preds_train_views)\n",
    "val_score_views   = r2_score(y_val[\"views\"],   preds_val_views)\n",
    "\n",
    "train_score_views, val_score_views"
   ]
  },
  {
   "cell_type": "raw",
   "id": "fbcef74b-d54b-4a08-ab5d-c4838a2ccb05",
   "metadata": {},
   "source": [
    "(0.5100195781796532, 0.5065575808145328) baseline"
   ]
  },
  {
   "cell_type": "code",
   "execution_count": null,
   "id": "40a5942c-9dbe-4dc8-952c-1a6af1618318",
   "metadata": {},
   "outputs": [],
   "source": []
  },
  {
   "cell_type": "code",
   "execution_count": 23,
   "id": "706be592-2cd3-4db9-9e9d-7b71af1277c0",
   "metadata": {},
   "outputs": [
    {
     "data": {
      "image/png": "[encoded data removed]",
      "text/plain": [
       "<Figure size 720x576 with 1 Axes>"
      ]
     },
     "metadata": {
      "needs_background": "light"
     },
     "output_type": "display_data"
    }
   ],
   "source": [
    "#plot_feature_importance(cb_model_views, train_ds_views, 30)\n",
    "plot_feature_importance(cb_model_views.get_feature_importance(), train_ds_views.get_feature_names(), 'CATBOOST')"
   ]
  },
  {
   "cell_type": "code",
   "execution_count": null,
   "id": "57d15d8a-e96a-436f-9908-bb3efc30c1f7",
   "metadata": {},
   "outputs": [],
   "source": []
  },
  {
   "cell_type": "markdown",
   "id": "a3cac29b-566d-4c8b-9cf7-9ef84a7261d2",
   "metadata": {},
   "source": [
    "## depth"
   ]
  },
  {
   "cell_type": "code",
   "execution_count": 24,
   "id": "e9948b36-a6f3-4bec-bbb2-402d5186ef4e",
   "metadata": {},
   "outputs": [
    {
     "name": "stdout",
     "output_type": "stream",
     "text": [
      "0:\tlearn: 0.0520817\ttest: 0.0510322\tbest: 0.0510322 (0)\ttotal: 490ms\tremaining: 48.5s\n",
      "1:\tlearn: 0.0501988\ttest: 0.0491688\tbest: 0.0491688 (1)\ttotal: 1.05s\tremaining: 51.4s\n",
      "2:\tlearn: 0.0484293\ttest: 0.0474459\tbest: 0.0474459 (2)\ttotal: 1.59s\tremaining: 51.5s\n",
      "3:\tlearn: 0.0467632\ttest: 0.0458610\tbest: 0.0458610 (3)\ttotal: 2.32s\tremaining: 55.7s\n",
      "4:\tlearn: 0.0451656\ttest: 0.0442650\tbest: 0.0442650 (4)\ttotal: 2.86s\tremaining: 54.3s\n",
      "5:\tlearn: 0.0436790\ttest: 0.0428322\tbest: 0.0428322 (5)\ttotal: 3.36s\tremaining: 52.7s\n",
      "6:\tlearn: 0.0423118\ttest: 0.0415372\tbest: 0.0415372 (6)\ttotal: 3.89s\tremaining: 51.7s\n",
      "7:\tlearn: 0.0409855\ttest: 0.0402307\tbest: 0.0402307 (7)\ttotal: 4.45s\tremaining: 51.1s\n",
      "8:\tlearn: 0.0397745\ttest: 0.0390632\tbest: 0.0390632 (8)\ttotal: 5.01s\tremaining: 50.7s\n",
      "9:\tlearn: 0.0385933\ttest: 0.0379264\tbest: 0.0379264 (9)\ttotal: 5.59s\tremaining: 50.3s\n",
      "10:\tlearn: 0.0375372\ttest: 0.0369119\tbest: 0.0369119 (10)\ttotal: 6.17s\tremaining: 49.9s\n",
      "11:\tlearn: 0.0365198\ttest: 0.0359681\tbest: 0.0359681 (11)\ttotal: 6.74s\tremaining: 49.5s\n",
      "12:\tlearn: 0.0355675\ttest: 0.0350822\tbest: 0.0350822 (12)\ttotal: 7.34s\tremaining: 49.1s\n",
      "13:\tlearn: 0.0346138\ttest: 0.0341694\tbest: 0.0341694 (13)\ttotal: 7.84s\tremaining: 48.2s\n",
      "14:\tlearn: 0.0336954\ttest: 0.0332948\tbest: 0.0332948 (14)\ttotal: 8.42s\tremaining: 47.7s\n",
      "15:\tlearn: 0.0329067\ttest: 0.0325910\tbest: 0.0325910 (15)\ttotal: 9.15s\tremaining: 48s\n",
      "16:\tlearn: 0.0321416\ttest: 0.0318987\tbest: 0.0318987 (16)\ttotal: 9.71s\tremaining: 47.4s\n",
      "17:\tlearn: 0.0314301\ttest: 0.0312767\tbest: 0.0312767 (17)\ttotal: 10.3s\tremaining: 46.8s\n",
      "18:\tlearn: 0.0307581\ttest: 0.0306658\tbest: 0.0306658 (18)\ttotal: 10.9s\tremaining: 46.3s\n",
      "19:\tlearn: 0.0300871\ttest: 0.0300507\tbest: 0.0300507 (19)\ttotal: 11.4s\tremaining: 45.5s\n",
      "20:\tlearn: 0.0294989\ttest: 0.0295315\tbest: 0.0295315 (20)\ttotal: 11.8s\tremaining: 44.5s\n",
      "21:\tlearn: 0.0289109\ttest: 0.0289918\tbest: 0.0289918 (21)\ttotal: 12.3s\tremaining: 43.7s\n",
      "22:\tlearn: 0.0283520\ttest: 0.0285153\tbest: 0.0285153 (22)\ttotal: 12.9s\tremaining: 43s\n",
      "23:\tlearn: 0.0278235\ttest: 0.0280699\tbest: 0.0280699 (23)\ttotal: 13.4s\tremaining: 42.3s\n",
      "24:\tlearn: 0.0273305\ttest: 0.0276273\tbest: 0.0276273 (24)\ttotal: 13.9s\tremaining: 41.6s\n",
      "25:\tlearn: 0.0268652\ttest: 0.0272042\tbest: 0.0272042 (25)\ttotal: 14.4s\tremaining: 40.9s\n",
      "26:\tlearn: 0.0264176\ttest: 0.0268027\tbest: 0.0268027 (26)\ttotal: 14.8s\tremaining: 40.1s\n",
      "27:\tlearn: 0.0260142\ttest: 0.0264620\tbest: 0.0264620 (27)\ttotal: 15.3s\tremaining: 39.4s\n",
      "28:\tlearn: 0.0256357\ttest: 0.0261319\tbest: 0.0261319 (28)\ttotal: 15.8s\tremaining: 38.7s\n",
      "29:\tlearn: 0.0252676\ttest: 0.0258145\tbest: 0.0258145 (29)\ttotal: 16.3s\tremaining: 38s\n",
      "30:\tlearn: 0.0249383\ttest: 0.0255709\tbest: 0.0255709 (30)\ttotal: 16.8s\tremaining: 37.3s\n",
      "31:\tlearn: 0.0246136\ttest: 0.0252647\tbest: 0.0252647 (31)\ttotal: 17.2s\tremaining: 36.6s\n",
      "32:\tlearn: 0.0242982\ttest: 0.0250075\tbest: 0.0250075 (32)\ttotal: 17.7s\tremaining: 36s\n",
      "33:\tlearn: 0.0240116\ttest: 0.0247812\tbest: 0.0247812 (33)\ttotal: 18.2s\tremaining: 35.4s\n",
      "34:\tlearn: 0.0237447\ttest: 0.0245595\tbest: 0.0245595 (34)\ttotal: 18.7s\tremaining: 34.8s\n",
      "35:\tlearn: 0.0234901\ttest: 0.0244050\tbest: 0.0244050 (35)\ttotal: 19.3s\tremaining: 34.3s\n",
      "36:\tlearn: 0.0232584\ttest: 0.0242226\tbest: 0.0242226 (36)\ttotal: 19.8s\tremaining: 33.7s\n",
      "37:\tlearn: 0.0230249\ttest: 0.0240659\tbest: 0.0240659 (37)\ttotal: 20.2s\tremaining: 33s\n",
      "38:\tlearn: 0.0228216\ttest: 0.0239027\tbest: 0.0239027 (38)\ttotal: 20.7s\tremaining: 32.4s\n",
      "39:\tlearn: 0.0226378\ttest: 0.0237452\tbest: 0.0237452 (39)\ttotal: 21.2s\tremaining: 31.8s\n",
      "40:\tlearn: 0.0224342\ttest: 0.0236014\tbest: 0.0236014 (40)\ttotal: 21.7s\tremaining: 31.2s\n",
      "41:\tlearn: 0.0222406\ttest: 0.0234694\tbest: 0.0234694 (41)\ttotal: 22.1s\tremaining: 30.5s\n",
      "42:\tlearn: 0.0220690\ttest: 0.0233401\tbest: 0.0233401 (42)\ttotal: 22.6s\tremaining: 29.9s\n",
      "43:\tlearn: 0.0218911\ttest: 0.0232348\tbest: 0.0232348 (43)\ttotal: 23.1s\tremaining: 29.3s\n",
      "44:\tlearn: 0.0217350\ttest: 0.0231221\tbest: 0.0231221 (44)\ttotal: 23.5s\tremaining: 28.8s\n",
      "45:\tlearn: 0.0215942\ttest: 0.0230560\tbest: 0.0230560 (45)\ttotal: 24s\tremaining: 28.2s\n",
      "46:\tlearn: 0.0214267\ttest: 0.0229671\tbest: 0.0229671 (46)\ttotal: 24.5s\tremaining: 27.6s\n",
      "47:\tlearn: 0.0212773\ttest: 0.0228682\tbest: 0.0228682 (47)\ttotal: 24.9s\tremaining: 27s\n",
      "48:\tlearn: 0.0211365\ttest: 0.0227687\tbest: 0.0227687 (48)\ttotal: 25.4s\tremaining: 26.5s\n",
      "49:\tlearn: 0.0210325\ttest: 0.0226670\tbest: 0.0226670 (49)\ttotal: 25.4s\tremaining: 25.4s\n",
      "50:\tlearn: 0.0208961\ttest: 0.0226041\tbest: 0.0226041 (50)\ttotal: 25.9s\tremaining: 24.9s\n",
      "51:\tlearn: 0.0207945\ttest: 0.0225134\tbest: 0.0225134 (51)\ttotal: 26.4s\tremaining: 24.4s\n",
      "52:\tlearn: 0.0206655\ttest: 0.0224686\tbest: 0.0224686 (52)\ttotal: 26.9s\tremaining: 23.9s\n",
      "53:\tlearn: 0.0205667\ttest: 0.0224198\tbest: 0.0224198 (53)\ttotal: 27.5s\tremaining: 23.4s\n",
      "54:\tlearn: 0.0204451\ttest: 0.0223660\tbest: 0.0223660 (54)\ttotal: 28.1s\tremaining: 23s\n",
      "55:\tlearn: 0.0203166\ttest: 0.0223133\tbest: 0.0223133 (55)\ttotal: 28.7s\tremaining: 22.5s\n",
      "56:\tlearn: 0.0202295\ttest: 0.0222526\tbest: 0.0222526 (56)\ttotal: 29.2s\tremaining: 22s\n",
      "57:\tlearn: 0.0201079\ttest: 0.0222096\tbest: 0.0222096 (57)\ttotal: 29.7s\tremaining: 21.5s\n",
      "58:\tlearn: 0.0200140\ttest: 0.0221441\tbest: 0.0221441 (58)\ttotal: 30.2s\tremaining: 21s\n",
      "59:\tlearn: 0.0199187\ttest: 0.0221148\tbest: 0.0221148 (59)\ttotal: 30.7s\tremaining: 20.4s\n",
      "60:\tlearn: 0.0198215\ttest: 0.0220789\tbest: 0.0220789 (60)\ttotal: 31.2s\tremaining: 19.9s\n",
      "61:\tlearn: 0.0197200\ttest: 0.0220431\tbest: 0.0220431 (61)\ttotal: 31.6s\tremaining: 19.4s\n",
      "62:\tlearn: 0.0196229\ttest: 0.0220223\tbest: 0.0220223 (62)\ttotal: 32.1s\tremaining: 18.8s\n",
      "63:\tlearn: 0.0195464\ttest: 0.0219916\tbest: 0.0219916 (63)\ttotal: 32.6s\tremaining: 18.3s\n",
      "64:\tlearn: 0.0194342\ttest: 0.0219418\tbest: 0.0219418 (64)\ttotal: 33.1s\tremaining: 17.8s\n",
      "65:\tlearn: 0.0193427\ttest: 0.0218957\tbest: 0.0218957 (65)\ttotal: 33.6s\tremaining: 17.3s\n",
      "66:\tlearn: 0.0192443\ttest: 0.0218379\tbest: 0.0218379 (66)\ttotal: 34.1s\tremaining: 16.8s\n",
      "67:\tlearn: 0.0191557\ttest: 0.0218033\tbest: 0.0218033 (67)\ttotal: 34.7s\tremaining: 16.3s\n",
      "68:\tlearn: 0.0190619\ttest: 0.0217725\tbest: 0.0217725 (68)\ttotal: 35.2s\tremaining: 15.8s\n",
      "69:\tlearn: 0.0189799\ttest: 0.0217481\tbest: 0.0217481 (69)\ttotal: 35.7s\tremaining: 15.3s\n",
      "70:\tlearn: 0.0188861\ttest: 0.0217164\tbest: 0.0217164 (70)\ttotal: 36.2s\tremaining: 14.8s\n",
      "71:\tlearn: 0.0188169\ttest: 0.0216871\tbest: 0.0216871 (71)\ttotal: 36.8s\tremaining: 14.3s\n",
      "72:\tlearn: 0.0187435\ttest: 0.0216624\tbest: 0.0216624 (72)\ttotal: 37.3s\tremaining: 13.8s\n",
      "73:\tlearn: 0.0186797\ttest: 0.0216336\tbest: 0.0216336 (73)\ttotal: 37.9s\tremaining: 13.3s\n",
      "74:\tlearn: 0.0185900\ttest: 0.0216096\tbest: 0.0216096 (74)\ttotal: 38.4s\tremaining: 12.8s\n",
      "75:\tlearn: 0.0185157\ttest: 0.0215826\tbest: 0.0215826 (75)\ttotal: 38.9s\tremaining: 12.3s\n",
      "76:\tlearn: 0.0184541\ttest: 0.0215713\tbest: 0.0215713 (76)\ttotal: 39.4s\tremaining: 11.8s\n",
      "77:\tlearn: 0.0183930\ttest: 0.0215503\tbest: 0.0215503 (77)\ttotal: 39.8s\tremaining: 11.2s\n",
      "78:\tlearn: 0.0183180\ttest: 0.0215358\tbest: 0.0215358 (78)\ttotal: 40.3s\tremaining: 10.7s\n",
      "79:\tlearn: 0.0182526\ttest: 0.0215280\tbest: 0.0215280 (79)\ttotal: 40.8s\tremaining: 10.2s\n",
      "80:\tlearn: 0.0181763\ttest: 0.0215093\tbest: 0.0215093 (80)\ttotal: 41.4s\tremaining: 9.7s\n",
      "81:\tlearn: 0.0181070\ttest: 0.0214976\tbest: 0.0214976 (81)\ttotal: 41.9s\tremaining: 9.21s\n",
      "82:\tlearn: 0.0180137\ttest: 0.0214859\tbest: 0.0214859 (82)\ttotal: 42.5s\tremaining: 8.7s\n",
      "83:\tlearn: 0.0179583\ttest: 0.0214592\tbest: 0.0214592 (83)\ttotal: 43.1s\tremaining: 8.2s\n",
      "84:\tlearn: 0.0178981\ttest: 0.0214399\tbest: 0.0214399 (84)\ttotal: 43.6s\tremaining: 7.7s\n",
      "85:\tlearn: 0.0178453\ttest: 0.0214248\tbest: 0.0214248 (85)\ttotal: 44.1s\tremaining: 7.19s\n",
      "86:\tlearn: 0.0177779\ttest: 0.0213978\tbest: 0.0213978 (86)\ttotal: 44.7s\tremaining: 6.68s\n",
      "87:\tlearn: 0.0176944\ttest: 0.0213838\tbest: 0.0213838 (87)\ttotal: 45.2s\tremaining: 6.17s\n",
      "88:\tlearn: 0.0176548\ttest: 0.0213618\tbest: 0.0213618 (88)\ttotal: 45.7s\tremaining: 5.65s\n",
      "89:\tlearn: 0.0175860\ttest: 0.0213646\tbest: 0.0213618 (88)\ttotal: 46.3s\tremaining: 5.14s\n",
      "90:\tlearn: 0.0175032\ttest: 0.0213395\tbest: 0.0213395 (90)\ttotal: 46.8s\tremaining: 4.63s\n",
      "91:\tlearn: 0.0174251\ttest: 0.0213227\tbest: 0.0213227 (91)\ttotal: 47.3s\tremaining: 4.11s\n",
      "92:\tlearn: 0.0173597\ttest: 0.0213124\tbest: 0.0213124 (92)\ttotal: 47.7s\tremaining: 3.59s\n",
      "93:\tlearn: 0.0172957\ttest: 0.0213006\tbest: 0.0213006 (93)\ttotal: 48.2s\tremaining: 3.08s\n",
      "94:\tlearn: 0.0172319\ttest: 0.0212790\tbest: 0.0212790 (94)\ttotal: 48.7s\tremaining: 2.56s\n",
      "95:\tlearn: 0.0171781\ttest: 0.0212637\tbest: 0.0212637 (95)\ttotal: 49.1s\tremaining: 2.05s\n",
      "96:\tlearn: 0.0171083\ttest: 0.0212655\tbest: 0.0212637 (95)\ttotal: 49.6s\tremaining: 1.53s\n",
      "97:\tlearn: 0.0170599\ttest: 0.0212539\tbest: 0.0212539 (97)\ttotal: 50.1s\tremaining: 1.02s\n",
      "98:\tlearn: 0.0169849\ttest: 0.0212575\tbest: 0.0212539 (97)\ttotal: 50.6s\tremaining: 511ms\n",
      "99:\tlearn: 0.0169223\ttest: 0.0212405\tbest: 0.0212405 (99)\ttotal: 51.1s\tremaining: 0us\n",
      "\n",
      "bestTest = 0.02124045888\n",
      "bestIteration = 99\n",
      "\n"
     ]
    },
    {
     "data": {
      "text/plain": [
       "<catboost.core.CatBoostRegressor at 0x1b0ae0e3188>"
      ]
     },
     "execution_count": 24,
     "metadata": {},
     "output_type": "execute_result"
    }
   ],
   "source": [
    "cb_model_depth = CatBoostRegressor(#iterations=1000,\n",
    "                                 learning_rate=0.05,\n",
    "                                 depth=10,\n",
    "                                 random_seed = CB_RANDOMSEED,\n",
    "                   n_estimators=100,\n",
    "                                  )\n",
    "# Fit model\n",
    "cb_model_depth.fit(train_ds_depth,\n",
    "                   eval_set=val_ds_depth, \n",
    "                   #plot = True,\n",
    "                  )"
   ]
  },
  {
   "cell_type": "code",
   "execution_count": 43,
   "id": "2596cde2-acc0-4f27-8ab9-6658e7cba842",
   "metadata": {},
   "outputs": [
    {
     "data": {
      "text/plain": [
       "(0.9019094809535564, 0.8386270818183913)"
      ]
     },
     "execution_count": 43,
     "metadata": {},
     "output_type": "execute_result"
    }
   ],
   "source": [
    "# Get predictions and metrics\n",
    "preds_train_depth = cb_model_depth.predict(x_train[cat_cols + num_cols])\n",
    "preds_val_depth   = cb_model_depth.predict(val_ds_depth)\n",
    "\n",
    "train_score_depth = r2_score(y_train[\"depth\"], preds_train_depth)\n",
    "val_score_depth   = r2_score(y_val[\"depth\"],   preds_val_depth)\n",
    "\n",
    "train_score_depth, val_score_depth"
   ]
  },
  {
   "cell_type": "raw",
   "id": "42b4b5db-a639-4829-9350-0c78a2bb037b",
   "metadata": {},
   "source": [
    "(0.878413173781118, 0.7974803565676941) emb + pca 64 + lags + nauth + all_norm + parse"
   ]
  },
  {
   "cell_type": "code",
   "execution_count": 26,
   "id": "bf7b2ffd-0f51-492c-ad5c-cd0e859050d8",
   "metadata": {},
   "outputs": [
    {
     "data": {
      "text/plain": [
       "(4930, 287)"
      ]
     },
     "execution_count": 26,
     "metadata": {},
     "output_type": "execute_result"
    }
   ],
   "source": [
    "x_train.shape"
   ]
  },
  {
   "cell_type": "code",
   "execution_count": 27,
   "id": "a37608db-f13d-45fc-9f3f-dd430a6f0839",
   "metadata": {},
   "outputs": [
    {
     "data": {
      "image/png": "[encoded data removed]",
      "text/plain": [
       "<Figure size 720x576 with 1 Axes>"
      ]
     },
     "metadata": {
      "needs_background": "light"
     },
     "output_type": "display_data"
    }
   ],
   "source": [
    "#plot_feature_importance(cb_model_views, train_ds_views, 30)\n",
    "plot_feature_importance(cb_model_depth.get_feature_importance(), train_ds_depth.get_feature_names(), 'CATBOOST')"
   ]
  },
  {
   "cell_type": "code",
   "execution_count": null,
   "id": "5eaabd43-32cd-42df-9c8f-a88c7c8cfe3c",
   "metadata": {},
   "outputs": [],
   "source": []
  },
  {
   "cell_type": "markdown",
   "id": "fafdf6ea-9687-472f-ab6e-86125f5dc7eb",
   "metadata": {},
   "source": [
    "## full_reads_percent"
   ]
  },
  {
   "cell_type": "code",
   "execution_count": 28,
   "id": "fab012d5-56fd-4c3e-9b9d-41e1b76832e8",
   "metadata": {},
   "outputs": [],
   "source": [
    "#pd.DataFrame(preds_train_depth, columns = ['depth_pred'])\n",
    "pred_scaler = preprocessing.StandardScaler()\n",
    "tmp = pred_scaler.fit_transform(preds_train_depth.reshape(-1, 1))\n",
    "pred_depth_train = pd.DataFrame(tmp, columns = ['depth_pred'])\n",
    "\n",
    "pred_depth_val   = pd.DataFrame(pred_scaler.transform(preds_val_depth.reshape(-1, 1)), columns = ['depth_pred'])"
   ]
  },
  {
   "cell_type": "code",
   "execution_count": null,
   "id": "ba1c8f1b-db34-4dbb-9ee2-6fe507ce7319",
   "metadata": {},
   "outputs": [],
   "source": []
  },
  {
   "cell_type": "raw",
   "id": "2dc89efd-2cf0-4de5-bff0-511e6e767943",
   "metadata": {},
   "source": [
    "print('before ', x_train.shape, x_val.shape, preds_train_depth.shape, preds_val_depth.shape)\n",
    "x_train = pd.concat([x_train, pred_depth_train], axis = 1)\n",
    "x_val   = pd.concat([x_val,   pred_depth_val],   axis = 1)\n",
    "print('after  ', x_train.shape, x_val.shape)"
   ]
  },
  {
   "cell_type": "code",
   "execution_count": null,
   "id": "38454f44-8a38-4ba8-9c7d-123819f11a42",
   "metadata": {},
   "outputs": [],
   "source": []
  },
  {
   "cell_type": "code",
   "execution_count": 29,
   "id": "e9595c2e-a58a-4099-9c9c-3abc1e141a20",
   "metadata": {},
   "outputs": [],
   "source": [
    "#train_ds_frp = Pool(x_train[cat_cols + num_cols + ['depth_pred']],\n",
    "train_ds_frp = Pool(x_train[cat_cols + num_cols],\n",
    "                      y_train[['full_reads_percent']],\n",
    "                      cat_features = cat_cols,\n",
    "                      feature_names = cat_cols + num_cols,\n",
    "                     )\n",
    "\n",
    "#val_ds_frp   = Pool(x_val[cat_cols + num_cols + ['depth_pred']],\n",
    "val_ds_frp   = Pool(x_val[cat_cols + num_cols],\n",
    "                      y_val[['full_reads_percent']],\n",
    "                      cat_features = cat_cols,\n",
    "                      feature_names = cat_cols + num_cols,\n",
    "                     )"
   ]
  },
  {
   "cell_type": "code",
   "execution_count": 30,
   "id": "7745c438-06e9-477e-ac52-37017039f9c4",
   "metadata": {},
   "outputs": [
    {
     "name": "stdout",
     "output_type": "stream",
     "text": [
      "0:\tlearn: 9.5670051\ttest: 9.7776346\tbest: 9.7776346 (0)\ttotal: 631ms\tremaining: 1m 2s\n",
      "1:\tlearn: 9.4006082\ttest: 9.6240031\tbest: 9.6240031 (1)\ttotal: 1.13s\tremaining: 55.4s\n",
      "2:\tlearn: 9.2495587\ttest: 9.4987646\tbest: 9.4987646 (2)\ttotal: 1.63s\tremaining: 52.5s\n",
      "3:\tlearn: 9.1030336\ttest: 9.3805240\tbest: 9.3805240 (3)\ttotal: 2.13s\tremaining: 51.1s\n",
      "4:\tlearn: 8.9732981\ttest: 9.2813854\tbest: 9.2813854 (4)\ttotal: 2.64s\tremaining: 50.2s\n",
      "5:\tlearn: 8.8460210\ttest: 9.1766370\tbest: 9.1766370 (5)\ttotal: 3.23s\tremaining: 50.6s\n",
      "6:\tlearn: 8.7367720\ttest: 9.1019855\tbest: 9.1019855 (6)\ttotal: 3.73s\tremaining: 49.6s\n",
      "7:\tlearn: 8.6242726\ttest: 9.0234348\tbest: 9.0234348 (7)\ttotal: 4.26s\tremaining: 49s\n",
      "8:\tlearn: 8.5193648\ttest: 8.9456172\tbest: 8.9456172 (8)\ttotal: 4.8s\tremaining: 48.6s\n",
      "9:\tlearn: 8.4133274\ttest: 8.8538471\tbest: 8.8538471 (9)\ttotal: 5.28s\tremaining: 47.5s\n",
      "10:\tlearn: 8.3116315\ttest: 8.7720888\tbest: 8.7720888 (10)\ttotal: 5.82s\tremaining: 47.1s\n",
      "11:\tlearn: 8.2096589\ttest: 8.6937265\tbest: 8.6937265 (11)\ttotal: 6.41s\tremaining: 47s\n",
      "12:\tlearn: 8.1221813\ttest: 8.6245940\tbest: 8.6245940 (12)\ttotal: 6.96s\tremaining: 46.6s\n",
      "13:\tlearn: 8.0432766\ttest: 8.5606062\tbest: 8.5606062 (13)\ttotal: 7.58s\tremaining: 46.6s\n",
      "14:\tlearn: 7.9643233\ttest: 8.5146727\tbest: 8.5146727 (14)\ttotal: 8.06s\tremaining: 45.7s\n",
      "15:\tlearn: 7.8772902\ttest: 8.4605075\tbest: 8.4605075 (15)\ttotal: 8.57s\tremaining: 45s\n",
      "16:\tlearn: 7.7965643\ttest: 8.4001457\tbest: 8.4001457 (16)\ttotal: 9.08s\tremaining: 44.4s\n",
      "17:\tlearn: 7.7304256\ttest: 8.3583490\tbest: 8.3583490 (17)\ttotal: 9.6s\tremaining: 43.8s\n",
      "18:\tlearn: 7.6650145\ttest: 8.3111853\tbest: 8.3111853 (18)\ttotal: 10.1s\tremaining: 43s\n",
      "19:\tlearn: 7.5953205\ttest: 8.2567576\tbest: 8.2567576 (19)\ttotal: 10.6s\tremaining: 42.6s\n",
      "20:\tlearn: 7.5277648\ttest: 8.2151696\tbest: 8.2151696 (20)\ttotal: 11.1s\tremaining: 41.9s\n",
      "21:\tlearn: 7.4663491\ttest: 8.1800738\tbest: 8.1800738 (21)\ttotal: 11.6s\tremaining: 41.2s\n",
      "22:\tlearn: 7.4076184\ttest: 8.1320399\tbest: 8.1320399 (22)\ttotal: 12.1s\tremaining: 40.6s\n",
      "23:\tlearn: 7.3507224\ttest: 8.0975069\tbest: 8.0975069 (23)\ttotal: 12.6s\tremaining: 39.9s\n",
      "24:\tlearn: 7.3023373\ttest: 8.0656464\tbest: 8.0656464 (24)\ttotal: 13.1s\tremaining: 39.3s\n",
      "25:\tlearn: 7.2565895\ttest: 8.0332217\tbest: 8.0332217 (25)\ttotal: 13.6s\tremaining: 38.6s\n",
      "26:\tlearn: 7.2091124\ttest: 8.0059078\tbest: 8.0059078 (26)\ttotal: 14.1s\tremaining: 38s\n",
      "27:\tlearn: 7.1623333\ttest: 7.9827233\tbest: 7.9827233 (27)\ttotal: 14.5s\tremaining: 37.4s\n",
      "28:\tlearn: 7.1221073\ttest: 7.9556492\tbest: 7.9556492 (28)\ttotal: 15s\tremaining: 36.8s\n",
      "29:\tlearn: 7.0745108\ttest: 7.9329836\tbest: 7.9329836 (29)\ttotal: 15.6s\tremaining: 36.3s\n",
      "30:\tlearn: 7.0384743\ttest: 7.9141374\tbest: 7.9141374 (30)\ttotal: 16.1s\tremaining: 35.7s\n",
      "31:\tlearn: 7.0006996\ttest: 7.8963965\tbest: 7.8963965 (31)\ttotal: 16.5s\tremaining: 35.1s\n",
      "32:\tlearn: 6.9699494\ttest: 7.8795370\tbest: 7.8795370 (32)\ttotal: 17s\tremaining: 34.6s\n",
      "33:\tlearn: 6.9387913\ttest: 7.8615050\tbest: 7.8615050 (33)\ttotal: 17.5s\tremaining: 34s\n",
      "34:\tlearn: 6.9013858\ttest: 7.8410443\tbest: 7.8410443 (34)\ttotal: 18.1s\tremaining: 33.5s\n",
      "35:\tlearn: 6.8671739\ttest: 7.8156857\tbest: 7.8156857 (35)\ttotal: 18.6s\tremaining: 33s\n",
      "36:\tlearn: 6.8417981\ttest: 7.7978172\tbest: 7.7978172 (36)\ttotal: 19.2s\tremaining: 32.6s\n",
      "37:\tlearn: 6.8087229\ttest: 7.7803408\tbest: 7.7803408 (37)\ttotal: 19.7s\tremaining: 32.1s\n",
      "38:\tlearn: 6.7758165\ttest: 7.7707557\tbest: 7.7707557 (38)\ttotal: 20.2s\tremaining: 31.5s\n",
      "39:\tlearn: 6.7473165\ttest: 7.7551882\tbest: 7.7551882 (39)\ttotal: 20.7s\tremaining: 31s\n",
      "40:\tlearn: 6.7211665\ttest: 7.7477646\tbest: 7.7477646 (40)\ttotal: 21.2s\tremaining: 30.5s\n",
      "41:\tlearn: 6.6969515\ttest: 7.7369277\tbest: 7.7369277 (41)\ttotal: 21.7s\tremaining: 30s\n",
      "42:\tlearn: 6.6688186\ttest: 7.7297673\tbest: 7.7297673 (42)\ttotal: 22.2s\tremaining: 29.4s\n",
      "43:\tlearn: 6.6368111\ttest: 7.7239169\tbest: 7.7239169 (43)\ttotal: 22.7s\tremaining: 28.9s\n",
      "44:\tlearn: 6.6139574\ttest: 7.7143899\tbest: 7.7143899 (44)\ttotal: 23.2s\tremaining: 28.3s\n",
      "45:\tlearn: 6.5801515\ttest: 7.7047973\tbest: 7.7047973 (45)\ttotal: 23.7s\tremaining: 27.8s\n",
      "46:\tlearn: 6.5593805\ttest: 7.6977905\tbest: 7.6977905 (46)\ttotal: 24.1s\tremaining: 27.2s\n",
      "47:\tlearn: 6.5398714\ttest: 7.6890468\tbest: 7.6890468 (47)\ttotal: 24.6s\tremaining: 26.6s\n",
      "48:\tlearn: 6.5123301\ttest: 7.6789263\tbest: 7.6789263 (48)\ttotal: 25.1s\tremaining: 26.1s\n",
      "49:\tlearn: 6.5021066\ttest: 7.6699878\tbest: 7.6699878 (49)\ttotal: 25.1s\tremaining: 25.1s\n",
      "50:\tlearn: 6.4797723\ttest: 7.6627465\tbest: 7.6627465 (50)\ttotal: 25.5s\tremaining: 24.5s\n",
      "51:\tlearn: 6.4573496\ttest: 7.6538176\tbest: 7.6538176 (51)\ttotal: 26s\tremaining: 24s\n",
      "52:\tlearn: 6.4342121\ttest: 7.6489440\tbest: 7.6489440 (52)\ttotal: 26.6s\tremaining: 23.6s\n",
      "53:\tlearn: 6.4135202\ttest: 7.6429237\tbest: 7.6429237 (53)\ttotal: 27.1s\tremaining: 23.1s\n",
      "54:\tlearn: 6.3953318\ttest: 7.6350738\tbest: 7.6350738 (54)\ttotal: 27.6s\tremaining: 22.6s\n",
      "55:\tlearn: 6.3750443\ttest: 7.6324668\tbest: 7.6324668 (55)\ttotal: 28.1s\tremaining: 22.1s\n",
      "56:\tlearn: 6.3475949\ttest: 7.6265237\tbest: 7.6265237 (56)\ttotal: 28.6s\tremaining: 21.5s\n",
      "57:\tlearn: 6.3253834\ttest: 7.6248433\tbest: 7.6248433 (57)\ttotal: 29s\tremaining: 21s\n",
      "58:\tlearn: 6.3075501\ttest: 7.6200978\tbest: 7.6200978 (58)\ttotal: 29.6s\tremaining: 20.6s\n",
      "59:\tlearn: 6.2900886\ttest: 7.6163810\tbest: 7.6163810 (59)\ttotal: 30.1s\tremaining: 20.1s\n",
      "60:\tlearn: 6.2659722\ttest: 7.6089411\tbest: 7.6089411 (60)\ttotal: 30.6s\tremaining: 19.6s\n",
      "61:\tlearn: 6.2386390\ttest: 7.6034805\tbest: 7.6034805 (61)\ttotal: 31.1s\tremaining: 19.1s\n",
      "62:\tlearn: 6.2245365\ttest: 7.5941265\tbest: 7.5941265 (62)\ttotal: 31.7s\tremaining: 18.6s\n",
      "63:\tlearn: 6.2045756\ttest: 7.5847621\tbest: 7.5847621 (63)\ttotal: 32.2s\tremaining: 18.1s\n",
      "64:\tlearn: 6.1844756\ttest: 7.5786083\tbest: 7.5786083 (64)\ttotal: 32.7s\tremaining: 17.6s\n",
      "65:\tlearn: 6.1662912\ttest: 7.5721467\tbest: 7.5721467 (65)\ttotal: 33.1s\tremaining: 17.1s\n",
      "66:\tlearn: 6.1418243\ttest: 7.5664054\tbest: 7.5664054 (66)\ttotal: 33.7s\tremaining: 16.6s\n",
      "67:\tlearn: 6.1205855\ttest: 7.5624582\tbest: 7.5624582 (67)\ttotal: 34.2s\tremaining: 16.1s\n",
      "68:\tlearn: 6.1000700\ttest: 7.5579695\tbest: 7.5579695 (68)\ttotal: 34.7s\tremaining: 15.6s\n",
      "69:\tlearn: 6.0819192\ttest: 7.5550460\tbest: 7.5550460 (69)\ttotal: 35.1s\tremaining: 15.1s\n",
      "70:\tlearn: 6.0673062\ttest: 7.5498011\tbest: 7.5498011 (70)\ttotal: 35.6s\tremaining: 14.5s\n",
      "71:\tlearn: 6.0515182\ttest: 7.5476440\tbest: 7.5476440 (71)\ttotal: 36.1s\tremaining: 14s\n",
      "72:\tlearn: 6.0301744\ttest: 7.5451999\tbest: 7.5451999 (72)\ttotal: 36.5s\tremaining: 13.5s\n",
      "73:\tlearn: 6.0184875\ttest: 7.5380750\tbest: 7.5380750 (73)\ttotal: 37s\tremaining: 13s\n",
      "74:\tlearn: 6.0024760\ttest: 7.5372089\tbest: 7.5372089 (74)\ttotal: 37.4s\tremaining: 12.5s\n",
      "75:\tlearn: 5.9825431\ttest: 7.5348336\tbest: 7.5348336 (75)\ttotal: 37.9s\tremaining: 12s\n",
      "76:\tlearn: 5.9644207\ttest: 7.5307572\tbest: 7.5307572 (76)\ttotal: 38.4s\tremaining: 11.5s\n",
      "77:\tlearn: 5.9431069\ttest: 7.5274543\tbest: 7.5274543 (77)\ttotal: 38.9s\tremaining: 11s\n",
      "78:\tlearn: 5.9158463\ttest: 7.5220094\tbest: 7.5220094 (78)\ttotal: 39.4s\tremaining: 10.5s\n",
      "79:\tlearn: 5.8972947\ttest: 7.5193727\tbest: 7.5193727 (79)\ttotal: 40s\tremaining: 9.99s\n",
      "80:\tlearn: 5.8836258\ttest: 7.5146929\tbest: 7.5146929 (80)\ttotal: 40.5s\tremaining: 9.49s\n",
      "81:\tlearn: 5.8637077\ttest: 7.5126341\tbest: 7.5126341 (81)\ttotal: 41s\tremaining: 9s\n",
      "82:\tlearn: 5.8462893\ttest: 7.5095564\tbest: 7.5095564 (82)\ttotal: 41.5s\tremaining: 8.51s\n",
      "83:\tlearn: 5.8289263\ttest: 7.5063015\tbest: 7.5063015 (83)\ttotal: 42s\tremaining: 8.01s\n",
      "84:\tlearn: 5.8166383\ttest: 7.5021694\tbest: 7.5021694 (84)\ttotal: 42.5s\tremaining: 7.51s\n",
      "85:\tlearn: 5.8019212\ttest: 7.4977013\tbest: 7.4977013 (85)\ttotal: 43s\tremaining: 7.01s\n",
      "86:\tlearn: 5.7794167\ttest: 7.4937984\tbest: 7.4937984 (86)\ttotal: 43.6s\tremaining: 6.51s\n",
      "87:\tlearn: 5.7621519\ttest: 7.4893026\tbest: 7.4893026 (87)\ttotal: 44s\tremaining: 6.01s\n",
      "88:\tlearn: 5.7478117\ttest: 7.4853023\tbest: 7.4853023 (88)\ttotal: 44.5s\tremaining: 5.5s\n",
      "89:\tlearn: 5.7271403\ttest: 7.4835693\tbest: 7.4835693 (89)\ttotal: 45.1s\tremaining: 5.01s\n",
      "90:\tlearn: 5.7143913\ttest: 7.4830563\tbest: 7.4830563 (90)\ttotal: 45.6s\tremaining: 4.51s\n",
      "91:\tlearn: 5.6987024\ttest: 7.4805808\tbest: 7.4805808 (91)\ttotal: 46.1s\tremaining: 4.01s\n",
      "92:\tlearn: 5.6908851\ttest: 7.4783130\tbest: 7.4783130 (92)\ttotal: 46.6s\tremaining: 3.5s\n",
      "93:\tlearn: 5.6719746\ttest: 7.4796988\tbest: 7.4783130 (92)\ttotal: 47s\tremaining: 3s\n",
      "94:\tlearn: 5.6572287\ttest: 7.4792346\tbest: 7.4783130 (92)\ttotal: 47.5s\tremaining: 2.5s\n",
      "95:\tlearn: 5.6442573\ttest: 7.4776474\tbest: 7.4776474 (95)\ttotal: 48s\tremaining: 2s\n",
      "96:\tlearn: 5.6267682\ttest: 7.4775889\tbest: 7.4775889 (96)\ttotal: 48.5s\tremaining: 1.5s\n",
      "97:\tlearn: 5.6052032\ttest: 7.4752377\tbest: 7.4752377 (97)\ttotal: 49s\tremaining: 999ms\n",
      "98:\tlearn: 5.5923723\ttest: 7.4704613\tbest: 7.4704613 (98)\ttotal: 49.4s\tremaining: 499ms\n",
      "99:\tlearn: 5.5774765\ttest: 7.4682500\tbest: 7.4682500 (99)\ttotal: 49.9s\tremaining: 0us\n",
      "\n",
      "bestTest = 7.468249959\n",
      "bestIteration = 99\n",
      "\n"
     ]
    },
    {
     "data": {
      "text/plain": [
       "<catboost.core.CatBoostRegressor at 0x1b0afb0f4c8>"
      ]
     },
     "execution_count": 30,
     "metadata": {},
     "output_type": "execute_result"
    }
   ],
   "source": [
    "cb_model_frp = CatBoostRegressor(#iterations=1000,\n",
    "                                 learning_rate=0.05,\n",
    "                                 depth=10,\n",
    "                                 random_seed = CB_RANDOMSEED,\n",
    "                   n_estimators=100,\n",
    "                                 #n_estimators=100,\n",
    "    #num_trees=None,\n",
    "                                )\n",
    "# Fit model\n",
    "cb_model_frp.fit(train_ds_frp,\n",
    "                   eval_set=val_ds_frp, \n",
    "                   #plot = True,\n",
    "                  )"
   ]
  },
  {
   "cell_type": "code",
   "execution_count": 31,
   "id": "ce2f5cf1-5605-4e75-99dd-8c23248ff512",
   "metadata": {},
   "outputs": [
    {
     "data": {
      "text/plain": [
       "(0.6733865284288706, 0.4355172127044905)"
      ]
     },
     "execution_count": 31,
     "metadata": {},
     "output_type": "execute_result"
    }
   ],
   "source": [
    "# Get predictions and metrics\n",
    "preds_train_frp = cb_model_frp.predict(x_train[cat_cols + num_cols])\n",
    "preds_val_frp   = cb_model_frp.predict(val_ds_frp)\n",
    "\n",
    "train_score_frp = r2_score(y_train[\"full_reads_percent\"], preds_train_frp)\n",
    "val_score_frp   = r2_score(y_val[\"full_reads_percent\"],   preds_val_frp)\n",
    "\n",
    "train_score_frp, val_score_frp"
   ]
  },
  {
   "cell_type": "raw",
   "id": "cec2f6b6-9782-4b5c-838c-66df8bfc72e5",
   "metadata": {},
   "source": [
    "(0.6576181247309321, 0.5170616937900752) emb + pca 64 + lags + nauth + all_norm + parse"
   ]
  },
  {
   "cell_type": "code",
   "execution_count": null,
   "id": "c6b000b9-9f71-4f8d-bb73-d58b91330eca",
   "metadata": {},
   "outputs": [],
   "source": []
  },
  {
   "cell_type": "code",
   "execution_count": 32,
   "id": "0921f52a-f376-4e01-bf22-958db46977c7",
   "metadata": {},
   "outputs": [
    {
     "data": {
      "image/png": "[encoded data removed]",
      "text/plain": [
       "<Figure size 720x576 with 1 Axes>"
      ]
     },
     "metadata": {
      "needs_background": "light"
     },
     "output_type": "display_data"
    }
   ],
   "source": [
    "#plot_feature_importance(cb_model_views, train_ds_views, 30)\n",
    "plot_feature_importance(cb_model_frp.get_feature_importance(), train_ds_frp.get_feature_names(), 'CATBOOST')"
   ]
  },
  {
   "cell_type": "code",
   "execution_count": null,
   "id": "be50fe97-02cb-48bb-beb5-c100041aa1f0",
   "metadata": {},
   "outputs": [],
   "source": []
  },
  {
   "cell_type": "code",
   "execution_count": 33,
   "id": "304d2314-a21f-4bb0-bd61-9fa94711f9f1",
   "metadata": {},
   "outputs": [
    {
     "data": {
      "text/plain": [
       "(0.7344059164165802, 0.5386694137340301)"
      ]
     },
     "execution_count": 33,
     "metadata": {},
     "output_type": "execute_result"
    }
   ],
   "source": [
    "score_train = 0.4 * train_score_views + 0.3 * train_score_depth + 0.3 * train_score_frp\n",
    "score_val  = 0.4 * val_score_views  + 0.3 * val_score_depth  + 0.3 * val_score_frp\n",
    "\n",
    "score_train, score_val"
   ]
  },
  {
   "cell_type": "raw",
   "id": "b4e2f449-432c-42f7-8cce-5cb15323aca0",
   "metadata": {},
   "source": [
    "(0.7416662995099548, 0.491582766764076))  emb + pca 64 + lags + nauth + all_norm + parse"
   ]
  },
  {
   "cell_type": "code",
   "execution_count": null,
   "id": "8ff54468-e3a7-403c-b6e9-67ad93a5e09e",
   "metadata": {},
   "outputs": [],
   "source": []
  },
  {
   "cell_type": "code",
   "execution_count": null,
   "id": "23391983-198d-4fea-8c34-7915e8ea2819",
   "metadata": {},
   "outputs": [],
   "source": []
  },
  {
   "cell_type": "markdown",
   "id": "551ccadd-2762-4df3-8719-2b04118093ce",
   "metadata": {},
   "source": [
    "## Сохраняем предсказания для ансамблей / стекинга"
   ]
  },
  {
   "cell_type": "code",
   "execution_count": 34,
   "id": "0b41920c-0d99-4000-815e-0536d87f81b6",
   "metadata": {},
   "outputs": [
    {
     "name": "stdout",
     "output_type": "stream",
     "text": [
      "before  (4930, 1) (4930,) (4930,) (4930,)\n",
      "before  (1233, 1) (1233,) (1233,) (1233,)\n",
      "after  (4930, 4)\n",
      "after  (1233, 4)\n"
     ]
    }
   ],
   "source": [
    "x_train_pred = x_train[['document_id']]\n",
    "x_val_pred   = x_val[['document_id']]\n",
    "\n",
    "print('before ', x_train_pred.shape, preds_train_views.shape, preds_train_depth.shape, preds_train_frp.shape)\n",
    "print('before ', x_val_pred.shape,   preds_val_views.shape,   preds_val_depth.shape,   preds_val_frp.shape)\n",
    "\n",
    "# https://github.com/pandas-dev/pandas/issues/25349\n",
    "x_train_pred = pd.concat([x_train_pred.reset_index(drop=True), \n",
    "                          pd.DataFrame(preds_train_views).reset_index(drop = True), \n",
    "                          pd.DataFrame(preds_train_depth).reset_index(drop = True), \n",
    "                          pd.DataFrame(preds_train_frp).reset_index(drop = True)\n",
    "                         ], ignore_index = True, axis = 1)\n",
    "x_val_pred   = pd.concat([x_val_pred.reset_index(drop=True),   \n",
    "                          pd.DataFrame(preds_val_views).reset_index(drop = True), \n",
    "                          pd.DataFrame(preds_val_depth).reset_index(drop = True), \n",
    "                          pd.DataFrame(preds_val_frp).reset_index(drop = True)\n",
    "                         ], ignore_index = True, axis = 1)\n",
    "\n",
    "x_train_pred.columns = ['document_id', 'views_pred_cb', 'depth_pred_cb', 'frp_pred_cb']\n",
    "x_val_pred.columns   = ['document_id', 'views_pred_cb', 'depth_pred_cb', 'frp_pred_cb']\n",
    "\n",
    "print('after ', x_train_pred.shape)\n",
    "print('after ', x_val_pred.shape)\n",
    "\n",
    "x_train_pred.to_csv(os.path.join(DIR_SUBM_PART, f'{NAME}_train_part.csv'), index = False)\n",
    "x_val_pred.to_csv(os.path.join(DIR_SUBM_PART, f'{NAME}_val_part.csv'), index = False)"
   ]
  },
  {
   "cell_type": "code",
   "execution_count": null,
   "id": "381dce61-ab9a-45f9-934a-3cb80c94d115",
   "metadata": {},
   "outputs": [],
   "source": []
  },
  {
   "cell_type": "code",
   "execution_count": null,
   "id": "066f6b7b-c8f0-46d7-9cd2-ae5944cc7b27",
   "metadata": {},
   "outputs": [],
   "source": []
  },
  {
   "cell_type": "code",
   "execution_count": null,
   "id": "c3d0c887-53ce-4db0-99a9-4732421f2173",
   "metadata": {},
   "outputs": [],
   "source": []
  },
  {
   "cell_type": "markdown",
   "id": "81b7d454-37b6-45ee-94fb-99af0fe23ae5",
   "metadata": {},
   "source": [
    "## save models"
   ]
  },
  {
   "cell_type": "code",
   "execution_count": null,
   "id": "aa4adde3-b017-4cea-9ae8-fc7cea77bab1",
   "metadata": {},
   "outputs": [],
   "source": []
  },
  {
   "cell_type": "code",
   "execution_count": 35,
   "id": "75aa11de-71cb-47a7-9e22-2857f7f7e643",
   "metadata": {},
   "outputs": [],
   "source": [
    "#cb_model_views.save_model(os.path.join(DIR_MODELS, f'{NTRY}_pca64_cb_views.cbm'), \n",
    "cb_model_views.save_model(os.path.join(DIR_MODELS, f'{NAME}_v.cbm'), \n",
    "                           format=\"cbm\",\n",
    "                           export_parameters=None,\n",
    "                           pool=None\n",
    "                         )\n",
    "\n",
    "cb_model_depth.save_model(os.path.join(DIR_MODELS, f'{NAME}_d.cbm'), \n",
    "                           format=\"cbm\",\n",
    "                           export_parameters=None,\n",
    "                           pool=None\n",
    "                         )\n",
    "\n",
    "cb_model_frp.save_model(os.path.join(DIR_MODELS, f'{NAME}_f.cbm'), \n",
    "                           format=\"cbm\",\n",
    "                           export_parameters=None,\n",
    "                           pool=None\n",
    "                         )"
   ]
  },
  {
   "cell_type": "code",
   "execution_count": null,
   "id": "102c6530-8a1b-4c1c-a1d3-e9d95e350220",
   "metadata": {},
   "outputs": [],
   "source": []
  },
  {
   "cell_type": "markdown",
   "id": "ac604b78-2718-408d-8d19-5b202d3f5a19",
   "metadata": {},
   "source": [
    "## make predict"
   ]
  },
  {
   "cell_type": "code",
   "execution_count": 36,
   "id": "df8e4305-28ed-444f-8325-e6460f7d2271",
   "metadata": {},
   "outputs": [],
   "source": [
    "pred_views = cb_model_views.predict(df_test[cat_cols + num_cols])\n",
    "pred_depth = cb_model_depth.predict(df_test[cat_cols + num_cols])\n",
    "pred_frp   = cb_model_frp.predict(  df_test[cat_cols + num_cols])"
   ]
  },
  {
   "cell_type": "code",
   "execution_count": 37,
   "id": "f422300e-24cf-435a-af11-a450f4f10393",
   "metadata": {},
   "outputs": [],
   "source": [
    "subm = pd.DataFrame()\n",
    "subm['document_id'] = df_test.document_id\n",
    "\n",
    "subm['views'] = pred_views\n",
    "subm['depth'] = pred_depth\n",
    "subm['full_reads_percent'] = pred_frp"
   ]
  },
  {
   "cell_type": "code",
   "execution_count": 38,
   "id": "0b45eb99-3913-44a7-b4e6-f0c49e38e890",
   "metadata": {},
   "outputs": [
    {
     "data": {
      "text/html": [
       "<div>\n",
       "<style scoped>\n",
       "    .dataframe tbody tr th:only-of-type {\n",
       "        vertical-align: middle;\n",
       "    }\n",
       "\n",
       "    .dataframe tbody tr th {\n",
       "        vertical-align: top;\n",
       "    }\n",
       "\n",
       "    .dataframe thead th {\n",
       "        text-align: right;\n",
       "    }\n",
       "</style>\n",
       "<table border=\"1\" class=\"dataframe\">\n",
       "  <thead>\n",
       "    <tr style=\"text-align: right;\">\n",
       "      <th></th>\n",
       "      <th>views</th>\n",
       "      <th>depth</th>\n",
       "      <th>full_reads_percent</th>\n",
       "    </tr>\n",
       "  </thead>\n",
       "  <tbody>\n",
       "    <tr>\n",
       "      <th>945</th>\n",
       "      <td>11650.495796</td>\n",
       "      <td>1.063333</td>\n",
       "      <td>23.279293</td>\n",
       "    </tr>\n",
       "    <tr>\n",
       "      <th>1440</th>\n",
       "      <td>24268.030142</td>\n",
       "      <td>1.158996</td>\n",
       "      <td>26.658976</td>\n",
       "    </tr>\n",
       "    <tr>\n",
       "      <th>2645</th>\n",
       "      <td>22081.136405</td>\n",
       "      <td>1.164940</td>\n",
       "      <td>27.131145</td>\n",
       "    </tr>\n",
       "  </tbody>\n",
       "</table>\n",
       "</div>"
      ],
      "text/plain": [
       "             views     depth  full_reads_percent\n",
       "945   11650.495796  1.063333           23.279293\n",
       "1440  24268.030142  1.158996           26.658976\n",
       "2645  22081.136405  1.164940           27.131145"
      ]
     },
     "execution_count": 38,
     "metadata": {},
     "output_type": "execute_result"
    }
   ],
   "source": [
    "doc_id_ukr = df_test[df_test.ctr == CTR_UKR].document_id.values\n",
    "subm.query('document_id in @doc_id_ukr')[['views', 'depth', 'full_reads_percent']]"
   ]
  },
  {
   "cell_type": "code",
   "execution_count": 39,
   "id": "43db487b-0209-4e2b-8ee0-1f33b2727552",
   "metadata": {},
   "outputs": [
    {
     "data": {
      "text/html": [
       "<div>\n",
       "<style scoped>\n",
       "    .dataframe tbody tr th:only-of-type {\n",
       "        vertical-align: middle;\n",
       "    }\n",
       "\n",
       "    .dataframe tbody tr th {\n",
       "        vertical-align: top;\n",
       "    }\n",
       "\n",
       "    .dataframe thead th {\n",
       "        text-align: right;\n",
       "    }\n",
       "</style>\n",
       "<table border=\"1\" class=\"dataframe\">\n",
       "  <thead>\n",
       "    <tr style=\"text-align: right;\">\n",
       "      <th></th>\n",
       "      <th>views</th>\n",
       "      <th>depth</th>\n",
       "      <th>full_reads_percent</th>\n",
       "    </tr>\n",
       "  </thead>\n",
       "  <tbody>\n",
       "    <tr>\n",
       "      <th>945</th>\n",
       "      <td>2554204.0</td>\n",
       "      <td>1.799</td>\n",
       "      <td>4.978</td>\n",
       "    </tr>\n",
       "    <tr>\n",
       "      <th>1440</th>\n",
       "      <td>2554204.0</td>\n",
       "      <td>1.799</td>\n",
       "      <td>4.978</td>\n",
       "    </tr>\n",
       "    <tr>\n",
       "      <th>2645</th>\n",
       "      <td>2554204.0</td>\n",
       "      <td>1.799</td>\n",
       "      <td>4.978</td>\n",
       "    </tr>\n",
       "  </tbody>\n",
       "</table>\n",
       "</div>"
      ],
      "text/plain": [
       "          views  depth  full_reads_percent\n",
       "945   2554204.0  1.799               4.978\n",
       "1440  2554204.0  1.799               4.978\n",
       "2645  2554204.0  1.799               4.978"
      ]
     },
     "execution_count": 39,
     "metadata": {},
     "output_type": "execute_result"
    }
   ],
   "source": [
    "# присваиваем статичные данные\n",
    "subm.loc[subm.query('document_id in @doc_id_ukr').index, 'views'] = VIEWS_UKR\n",
    "subm.loc[subm.query('document_id in @doc_id_ukr').index, 'depth'] = DEPTH_UKR\n",
    "subm.loc[subm.query('document_id in @doc_id_ukr').index, 'full_reads_percent'] = FPR_UKR\n",
    "\n",
    "subm.query('document_id in @doc_id_ukr')[['views', 'depth', 'full_reads_percent']]"
   ]
  },
  {
   "cell_type": "code",
   "execution_count": null,
   "id": "09b08a77-113c-45bb-ac28-55fef5f523b0",
   "metadata": {},
   "outputs": [],
   "source": []
  },
  {
   "cell_type": "code",
   "execution_count": 40,
   "id": "37fa65e1-c702-4764-8f84-eb93b80c73f8",
   "metadata": {},
   "outputs": [
    {
     "data": {
      "text/html": [
       "<div>\n",
       "<style scoped>\n",
       "    .dataframe tbody tr th:only-of-type {\n",
       "        vertical-align: middle;\n",
       "    }\n",
       "\n",
       "    .dataframe tbody tr th {\n",
       "        vertical-align: top;\n",
       "    }\n",
       "\n",
       "    .dataframe thead th {\n",
       "        text-align: right;\n",
       "    }\n",
       "</style>\n",
       "<table border=\"1\" class=\"dataframe\">\n",
       "  <thead>\n",
       "    <tr style=\"text-align: right;\">\n",
       "      <th></th>\n",
       "      <th>document_id</th>\n",
       "      <th>views</th>\n",
       "      <th>depth</th>\n",
       "      <th>full_reads_percent</th>\n",
       "    </tr>\n",
       "  </thead>\n",
       "  <tbody>\n",
       "    <tr>\n",
       "      <th>0</th>\n",
       "      <td>61f9569a9a794794245a82abJ0AvX96vTAaQCiWVbzoMdw</td>\n",
       "      <td>14659.946618</td>\n",
       "      <td>1.177846</td>\n",
       "      <td>41.817011</td>\n",
       "    </tr>\n",
       "    <tr>\n",
       "      <th>1</th>\n",
       "      <td>628c22b89a79470e553f594bQS5CqzXYRnmDdR2LaSreEw</td>\n",
       "      <td>13026.304827</td>\n",
       "      <td>1.060883</td>\n",
       "      <td>29.636586</td>\n",
       "    </tr>\n",
       "    <tr>\n",
       "      <th>2</th>\n",
       "      <td>627cb3249a7947ebdd752865XVsoyrUOT8OJJg2_finJhw</td>\n",
       "      <td>10701.331008</td>\n",
       "      <td>1.060407</td>\n",
       "      <td>30.405598</td>\n",
       "    </tr>\n",
       "    <tr>\n",
       "      <th>3</th>\n",
       "      <td>628618629a7947d4927eb812upfii3whSSuMXCqcqF8VbQ</td>\n",
       "      <td>11588.263831</td>\n",
       "      <td>1.062740</td>\n",
       "      <td>36.483955</td>\n",
       "    </tr>\n",
       "    <tr>\n",
       "      <th>4</th>\n",
       "      <td>620e76109a7947235623695b5hzCiIHdSYKQIr8WAM18bw</td>\n",
       "      <td>19658.718110</td>\n",
       "      <td>1.136159</td>\n",
       "      <td>32.664934</td>\n",
       "    </tr>\n",
       "  </tbody>\n",
       "</table>\n",
       "</div>"
      ],
      "text/plain": [
       "                                      document_id         views     depth  \\\n",
       "0  61f9569a9a794794245a82abJ0AvX96vTAaQCiWVbzoMdw  14659.946618  1.177846   \n",
       "1  628c22b89a79470e553f594bQS5CqzXYRnmDdR2LaSreEw  13026.304827  1.060883   \n",
       "2  627cb3249a7947ebdd752865XVsoyrUOT8OJJg2_finJhw  10701.331008  1.060407   \n",
       "3  628618629a7947d4927eb812upfii3whSSuMXCqcqF8VbQ  11588.263831  1.062740   \n",
       "4  620e76109a7947235623695b5hzCiIHdSYKQIr8WAM18bw  19658.718110  1.136159   \n",
       "\n",
       "   full_reads_percent  \n",
       "0           41.817011  \n",
       "1           29.636586  \n",
       "2           30.405598  \n",
       "3           36.483955  \n",
       "4           32.664934  "
      ]
     },
     "execution_count": 40,
     "metadata": {},
     "output_type": "execute_result"
    }
   ],
   "source": [
    "subm.head()"
   ]
  },
  {
   "cell_type": "code",
   "execution_count": 41,
   "id": "00d26c97-fb11-49b4-940e-ea797b27d29d",
   "metadata": {},
   "outputs": [],
   "source": [
    "subm.to_csv(os.path.join(DIR_SUBM, f'{NAME}.csv'), index = False)"
   ]
  },
  {
   "cell_type": "code",
   "execution_count": 42,
   "id": "381434ea-0954-4ac1-8278-348a674c1a9c",
   "metadata": {},
   "outputs": [
    {
     "data": {
      "text/plain": [
       "Index(['document_id', 'title', 'publish_date', 'session', 'authors', 'ctr',\n",
       "       'category', 'tags', 'views', 'depth',\n",
       "       ...\n",
       "       'tt_emb54', 'tt_emb55', 'tt_emb56', 'tt_emb57', 'tt_emb58', 'tt_emb59',\n",
       "       'tt_emb60', 'tt_emb61', 'tt_emb62', 'tt_emb63'],\n",
       "      dtype='object', length=290)"
      ]
     },
     "execution_count": 42,
     "metadata": {},
     "output_type": "execute_result"
    }
   ],
   "source": [
    "df_train.columns"
   ]
  },
  {
   "cell_type": "code",
   "execution_count": null,
   "id": "de448a8b-31ef-460b-8358-db43867defd2",
   "metadata": {},
   "outputs": [],
   "source": []
  },
  {
   "cell_type": "code",
   "execution_count": null,
   "id": "143c5efd-8bf2-46a1-9b3e-03941979497d",
   "metadata": {},
   "outputs": [],
   "source": []
  }
 ],
 "metadata": {
  "kernelspec": {
   "display_name": "Python 3",
   "language": "python",
   "name": "python3"
  },
  "language_info": {
   "codemirror_mode": {
    "name": "ipython",
    "version": 3
   },
   "file_extension": ".py",
   "mimetype": "text/x-python",
   "name": "python",
   "nbconvert_exporter": "python",
   "pygments_lexer": "ipython3",
   "version": "3.7.10"
  }
 },
 "nbformat": 4,
 "nbformat_minor": 5
}
