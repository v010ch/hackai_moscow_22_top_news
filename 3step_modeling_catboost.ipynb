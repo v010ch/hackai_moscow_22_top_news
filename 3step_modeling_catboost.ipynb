{
 "cells": [
  {
   "cell_type": "code",
   "execution_count": 1,
   "id": "6f62ec01-36f8-4ffe-b187-0616094602d5",
   "metadata": {},
   "outputs": [],
   "source": [
    "%load_ext watermark"
   ]
  },
  {
   "cell_type": "code",
   "execution_count": 2,
   "id": "fd631481-f748-4610-94f4-a0d9b5bbe4ed",
   "metadata": {},
   "outputs": [
    {
     "name": "stdout",
     "output_type": "stream",
     "text": [
      "Last updated: 2022-06-30T16:03:55.203191+03:00\n",
      "\n",
      "Python implementation: CPython\n",
      "Python version       : 3.7.10\n",
      "IPython version      : 7.22.0\n",
      "\n",
      "Compiler    : MSC v.1916 64 bit (AMD64)\n",
      "OS          : Windows\n",
      "Release     : 10\n",
      "Machine     : AMD64\n",
      "Processor   : Intel64 Family 6 Model 158 Stepping 9, GenuineIntel\n",
      "CPU cores   : 8\n",
      "Architecture: 64bit\n",
      "\n"
     ]
    }
   ],
   "source": [
    "%watermark"
   ]
  },
  {
   "cell_type": "code",
   "execution_count": 3,
   "id": "2f268c90-86ca-4ea1-8a02-3a6b43c450cf",
   "metadata": {},
   "outputs": [],
   "source": [
    "import os\n",
    "import pickle as pkl\n",
    "\n",
    "import numpy as np\n",
    "import pandas as pd\n",
    "\n",
    "from sklearn.metrics import r2_score\n",
    "from catboost import CatBoostRegressor, Pool\n",
    "\n",
    "import matplotlib.pyplot as plt\n",
    "import seaborn as sns"
   ]
  },
  {
   "cell_type": "code",
   "execution_count": 4,
   "id": "68c33f68-68f2-4e66-a8c6-4a7ac88eb910",
   "metadata": {},
   "outputs": [
    {
     "name": "stdout",
     "output_type": "stream",
     "text": [
      "cb_version: 0.24.3\n",
      "sklearn_version: 0.24.2\n"
     ]
    }
   ],
   "source": [
    "from catboost import __version__ as cb_version\n",
    "from sklearn import __version__ as sklearn_version\n",
    "\n",
    "print(f'cb_version: {cb_version}')\n",
    "print(f'sklearn_version: {sklearn_version}')"
   ]
  },
  {
   "cell_type": "code",
   "execution_count": 5,
   "id": "21f6a58a-b019-4436-83ec-428714473139",
   "metadata": {},
   "outputs": [
    {
     "name": "stdout",
     "output_type": "stream",
     "text": [
      "matplotlib: 3.3.4\n",
      "seaborn   : 0.11.1\n",
      "numpy     : 1.20.3\n",
      "pandas    : 0.25.3\n",
      "\n"
     ]
    }
   ],
   "source": [
    "%watermark --iversions"
   ]
  },
  {
   "cell_type": "code",
   "execution_count": null,
   "id": "8238fc41-4ff8-45af-832d-8ca6512b8995",
   "metadata": {},
   "outputs": [],
   "source": []
  },
  {
   "cell_type": "code",
   "execution_count": null,
   "id": "fabdb0fa-405c-4649-b004-d353666fef7a",
   "metadata": {},
   "outputs": [],
   "source": []
  },
  {
   "cell_type": "markdown",
   "id": "3f3d5ca4-753b-47f1-801f-02be08c0bc3c",
   "metadata": {},
   "source": [
    "## Reproducibility block"
   ]
  },
  {
   "cell_type": "code",
   "execution_count": 6,
   "id": "8d133278-9bc6-4c5d-b029-bd0c31d6adf1",
   "metadata": {},
   "outputs": [],
   "source": [
    "# seed the RNG for all devices (both CPU and CUDA)\n",
    "#torch.manual_seed(1984)\n",
    "\n",
    "#Disabling the benchmarking feature causes cuDNN to deterministically select an algorithm, \n",
    "#possibly at the cost of reduced performance.\n",
    "#torch.backends.cudnn.benchmark = False\n",
    "\n",
    "# for custom operators,\n",
    "import random\n",
    "random.seed(5986721)\n",
    "\n",
    "# \n",
    "np.random.seed(62185)\n",
    "\n",
    "#sklearn take seed from a line abowe\n",
    "\n",
    "CB_RANDOMSEED = 309487"
   ]
  },
  {
   "cell_type": "code",
   "execution_count": null,
   "id": "9f38ebd5-a020-47eb-b1f4-9ea987afb524",
   "metadata": {},
   "outputs": [],
   "source": []
  },
  {
   "cell_type": "code",
   "execution_count": 7,
   "id": "019813d1-62ae-4b4d-a2f6-c0d74c146413",
   "metadata": {},
   "outputs": [],
   "source": [
    "DIR_DATA   = os.path.join(os.getcwd(), 'data')\n",
    "DIR_MODELS = os.path.join(os.getcwd(), 'models')\n",
    "DIR_SUBM   = os.path.join(os.getcwd(), 'subm')\n",
    "DIR_SUBM_PART = os.path.join(os.getcwd(), 'subm', 'partial')"
   ]
  },
  {
   "cell_type": "code",
   "execution_count": null,
   "id": "0d608686-6d8e-49ad-906b-b20933e0ec2a",
   "metadata": {},
   "outputs": [],
   "source": []
  },
  {
   "cell_type": "markdown",
   "id": "ae3e27a3-16bb-456d-b7a1-7975d5f85ea5",
   "metadata": {},
   "source": [
    "## Load data"
   ]
  },
  {
   "cell_type": "code",
   "execution_count": 8,
   "id": "ee296ac9-baf6-4bcb-89ce-5fe99408403d",
   "metadata": {},
   "outputs": [],
   "source": [
    "x_train  = pd.read_csv(os.path.join(DIR_DATA, 'x_train.csv'), index_col= 0)\n",
    "x_val    = pd.read_csv(os.path.join(DIR_DATA, 'x_val.csv'), index_col= 0)\n",
    "df_test  = pd.read_csv(os.path.join(DIR_DATA, 'test_upd.csv'), index_col= 0)\n",
    "\n",
    "with open(os.path.join(DIR_DATA, 'cat_columns.pkl'), 'rb') as pickle_file:\n",
    "    cat_cols = pkl.load(pickle_file)\n",
    "    \n",
    "with open(os.path.join(DIR_DATA, 'num_columns.pkl'), 'rb') as pickle_file:\n",
    "    num_cols = pkl.load(pickle_file)"
   ]
  },
  {
   "cell_type": "code",
   "execution_count": 9,
   "id": "b00427ec-ac4f-4da3-8dfb-94871e63072d",
   "metadata": {},
   "outputs": [
    {
     "data": {
      "text/plain": [
       "((5592, 1039), (1399, 1039), (3000, 1036), 5, 1025)"
      ]
     },
     "execution_count": 9,
     "metadata": {},
     "output_type": "execute_result"
    }
   ],
   "source": [
    "x_train.shape, x_val.shape, df_test.shape, len(cat_cols), len(num_cols)"
   ]
  },
  {
   "cell_type": "markdown",
   "id": "d4b599d2-168d-4cc1-a4ea-fc34d707a0ce",
   "metadata": {},
   "source": [
    "отделяем метки от данных"
   ]
  },
  {
   "cell_type": "code",
   "execution_count": 10,
   "id": "40de44ef-8722-48fc-84f7-c78ce45471fc",
   "metadata": {},
   "outputs": [
    {
     "data": {
      "text/plain": [
       "((5592, 1036), (1399, 1036), (5592, 3), (1399, 3))"
      ]
     },
     "execution_count": 10,
     "metadata": {},
     "output_type": "execute_result"
    }
   ],
   "source": [
    "y_train = x_train[['views', 'depth', 'full_reads_percent']]\n",
    "y_val   = x_val[['views', 'depth', 'full_reads_percent']]\n",
    "\n",
    "x_train.drop(['views', 'depth', 'full_reads_percent'], axis = 1, inplace = True)\n",
    "x_val.drop(  ['views', 'depth', 'full_reads_percent'], axis = 1, inplace = True)\n",
    "\n",
    "x_train.shape, x_val.shape, y_train.shape, y_val.shape"
   ]
  },
  {
   "cell_type": "code",
   "execution_count": 11,
   "id": "3145e466-8172-424b-85ac-ad97439d9913",
   "metadata": {},
   "outputs": [
    {
     "data": {
      "text/plain": [
       "(5592, 1036)"
      ]
     },
     "execution_count": 11,
     "metadata": {},
     "output_type": "execute_result"
    }
   ],
   "source": [
    "x_train.shape"
   ]
  },
  {
   "cell_type": "code",
   "execution_count": 12,
   "id": "c416f029-f4cc-46cf-aa20-c30e664b1cdb",
   "metadata": {},
   "outputs": [],
   "source": [
    "#cat_cols + num_cols\n"
   ]
  },
  {
   "cell_type": "code",
   "execution_count": 13,
   "id": "4a71aa58-27b4-4087-ba4c-595958c1c5fe",
   "metadata": {},
   "outputs": [],
   "source": [
    "#views\n",
    "#train_ds_views = Pool(x_train[cat_cols + num_cols],\n",
    "train_ds_views = Pool(x_train[cat_cols + ['ctr']],\n",
    "                      y_train[['views']],\n",
    "                      cat_features = cat_cols,\n",
    "                      #feature_names = cat_cols + num_cols\n",
    "                     )\n",
    "\n",
    "#val_ds_views   = Pool(x_val[cat_cols + num_cols],\n",
    "val_ds_views   = Pool(x_val[cat_cols + ['ctr']],\n",
    "                      y_val[['views']],\n",
    "                      cat_features = cat_cols,\n",
    "                      #feature_names = cat_cols + num_cols\n",
    "                     )\n",
    "\n",
    "\n",
    "#depth\n",
    "train_ds_depth = Pool(x_train[cat_cols + num_cols],\n",
    "                      y_train[['depth']],\n",
    "                      cat_features = cat_cols,\n",
    "                      feature_names = cat_cols + num_cols\n",
    "                     )\n",
    "\n",
    "val_ds_depth   = Pool(x_val[cat_cols + num_cols],\n",
    "                      y_val[['depth']],\n",
    "                      cat_features = cat_cols,\n",
    "                      feature_names = cat_cols + num_cols\n",
    "                     )\n",
    "\n",
    "\n",
    "#full_reads_percent\n",
    "train_ds_frp = Pool(x_train[cat_cols + num_cols],\n",
    "                      y_train[['full_reads_percent']],\n",
    "                      cat_features = cat_cols,\n",
    "                      feature_names = cat_cols + num_cols\n",
    "                     )\n",
    "\n",
    "val_ds_frp   = Pool(x_val[cat_cols + num_cols],\n",
    "                      y_val[['full_reads_percent']],\n",
    "                      cat_features = cat_cols,\n",
    "                      feature_names = cat_cols + num_cols\n",
    "                     )"
   ]
  },
  {
   "cell_type": "code",
   "execution_count": null,
   "id": "12ae502e-4ce4-4f6e-947f-4f6f5942584a",
   "metadata": {},
   "outputs": [],
   "source": []
  },
  {
   "cell_type": "code",
   "execution_count": 14,
   "id": "41e5514e-1f39-4fd8-bee0-98c9b705dda5",
   "metadata": {},
   "outputs": [],
   "source": [
    "def plot_feature_importance2(inp_model, inp_pool, imp_number = 30):\n",
    "    \n",
    "    data = pd.DataFrame({'feature_importance': inp_model.get_feature_importance(inp_pool), \n",
    "              'feature_names': inp_pool.get_feature_names()}).sort_values(by=['feature_importance'], \n",
    "                                                       ascending=True)\n",
    "    \n",
    "    data.nlargest(imp_number, columns=\"feature_importance\").plot(kind='barh', figsize = (30,16)) ## plot top 40 features"
   ]
  },
  {
   "cell_type": "code",
   "execution_count": 15,
   "id": "55711d60-6520-4f9c-af95-e2c0624d270c",
   "metadata": {},
   "outputs": [],
   "source": [
    "def plot_feature_importance(importance,names,model_type, imp_number = 30):\n",
    "    \n",
    "    #Create arrays from feature importance and feature names\n",
    "    feature_importance = np.array(importance)\n",
    "    feature_names = np.array(names)\n",
    "    \n",
    "    #Create a DataFrame using a Dictionary\n",
    "    data={'feature_names':feature_names,'feature_importance':feature_importance}\n",
    "    fi_df = pd.DataFrame(data)\n",
    "    \n",
    "    #Sort the DataFrame in order decreasing feature importance\n",
    "    fi_df.sort_values(by=['feature_importance'], ascending=False,inplace=True)\n",
    "    \n",
    "    #Define size of bar plot\n",
    "    plt.figure(figsize=(10,8))\n",
    "    #Plot Searborn bar chart\n",
    "    sns.barplot(x=fi_df['feature_importance'][:imp_number], y=fi_df['feature_names'][:imp_number])\n",
    "    #Add chart labels\n",
    "    plt.title(model_type + 'FEATURE IMPORTANCE')\n",
    "    plt.xlabel('FEATURE IMPORTANCE')\n",
    "    plt.ylabel('FEATURE NAMES')"
   ]
  },
  {
   "cell_type": "code",
   "execution_count": null,
   "id": "4c0f79ca-2997-443a-ab51-de4e53217939",
   "metadata": {},
   "outputs": [],
   "source": []
  },
  {
   "cell_type": "markdown",
   "id": "668fd48f-3112-40a7-a453-d4f159ef4877",
   "metadata": {},
   "source": [
    "## views"
   ]
  },
  {
   "cell_type": "code",
   "execution_count": 16,
   "id": "37fb9d99-b182-4aae-85ba-24ff91dfbe33",
   "metadata": {},
   "outputs": [
    {
     "name": "stdout",
     "output_type": "stream",
     "text": [
      "0:\tlearn: 95855.1193359\ttest: 83902.7661284\tbest: 83902.7661284 (0)\ttotal: 267ms\tremaining: 5.07s\n",
      "1:\tlearn: 90663.1707762\ttest: 82864.3498765\tbest: 82864.3498765 (1)\ttotal: 277ms\tremaining: 2.49s\n",
      "2:\tlearn: 87747.6761494\ttest: 81643.4624787\tbest: 81643.4624787 (2)\ttotal: 289ms\tremaining: 1.64s\n",
      "3:\tlearn: 86205.2212453\ttest: 80583.4611957\tbest: 80583.4611957 (3)\ttotal: 300ms\tremaining: 1.2s\n",
      "4:\tlearn: 81854.5830947\ttest: 80262.4359215\tbest: 80262.4359215 (4)\ttotal: 308ms\tremaining: 925ms\n",
      "5:\tlearn: 80133.6963146\ttest: 79423.2632484\tbest: 79423.2632484 (5)\ttotal: 321ms\tremaining: 750ms\n",
      "6:\tlearn: 79063.1008783\ttest: 78586.4713525\tbest: 78586.4713525 (6)\ttotal: 334ms\tremaining: 621ms\n",
      "7:\tlearn: 75202.4307743\ttest: 78062.1721212\tbest: 78062.1721212 (7)\ttotal: 343ms\tremaining: 514ms\n",
      "8:\tlearn: 72296.0953417\ttest: 78038.3482867\tbest: 78038.3482867 (8)\ttotal: 354ms\tremaining: 433ms\n",
      "9:\tlearn: 69036.5155372\ttest: 77647.8405323\tbest: 77647.8405323 (9)\ttotal: 365ms\tremaining: 365ms\n",
      "10:\tlearn: 66062.8371932\ttest: 77873.3881657\tbest: 77647.8405323 (9)\ttotal: 373ms\tremaining: 305ms\n",
      "11:\tlearn: 65648.6667228\ttest: 77523.8005677\tbest: 77523.8005677 (11)\ttotal: 384ms\tremaining: 256ms\n",
      "12:\tlearn: 65139.1440716\ttest: 77246.6637957\tbest: 77246.6637957 (12)\ttotal: 394ms\tremaining: 212ms\n",
      "13:\tlearn: 64843.1456524\ttest: 77016.3125823\tbest: 77016.3125823 (13)\ttotal: 404ms\tremaining: 173ms\n",
      "14:\tlearn: 64634.5764859\ttest: 76844.6508245\tbest: 76844.6508245 (14)\ttotal: 415ms\tremaining: 138ms\n",
      "15:\tlearn: 64342.4483285\ttest: 76666.8841232\tbest: 76666.8841232 (15)\ttotal: 424ms\tremaining: 106ms\n",
      "16:\tlearn: 64062.8977574\ttest: 76589.3400150\tbest: 76589.3400150 (16)\ttotal: 438ms\tremaining: 77.2ms\n",
      "17:\tlearn: 61601.7617652\ttest: 77184.8657667\tbest: 76589.3400150 (16)\ttotal: 449ms\tremaining: 49.9ms\n",
      "18:\tlearn: 61475.4412690\ttest: 77145.9876412\tbest: 76589.3400150 (16)\ttotal: 465ms\tremaining: 24.5ms\n",
      "19:\tlearn: 61344.8647859\ttest: 76981.7390158\tbest: 76589.3400150 (16)\ttotal: 478ms\tremaining: 0us\n",
      "\n",
      "bestTest = 76589.34001\n",
      "bestIteration = 16\n",
      "\n",
      "Shrink model to first 17 iterations.\n"
     ]
    },
    {
     "data": {
      "text/plain": [
       "<catboost.core.CatBoostRegressor at 0x24520069648>"
      ]
     },
     "execution_count": 16,
     "metadata": {},
     "output_type": "execute_result"
    }
   ],
   "source": [
    "cb_model_views = CatBoostRegressor(iterations=20,\n",
    "                                 learning_rate=0.1,\n",
    "                                 depth=4,\n",
    "                                 random_seed = CB_RANDOMSEED,\n",
    "                   #n_estimators=100,\n",
    "                                  )\n",
    "# Fit model\n",
    "cb_model_views.fit(train_ds_views,\n",
    "        #train_data, train_labels,\n",
    "                   eval_set=val_ds_views, \n",
    "                   #plot = True,\n",
    "                  )"
   ]
  },
  {
   "cell_type": "code",
   "execution_count": 17,
   "id": "b0c470be-2a85-4ddc-8523-19194d636b32",
   "metadata": {},
   "outputs": [
    {
     "data": {
      "text/plain": [
       "(0.5709449881026821, 0.19963751545920794)"
      ]
     },
     "execution_count": 17,
     "metadata": {},
     "output_type": "execute_result"
    }
   ],
   "source": [
    "# Get predictions and metrics\n",
    "preds_train_views = cb_model_views.predict(x_train[cat_cols + num_cols])\n",
    "preds_val_views   = cb_model_views.predict(val_ds_views)\n",
    "\n",
    "train_score_views = r2_score(y_train[\"views\"], preds_train_views)\n",
    "val_score_views   = r2_score(y_val[\"views\"],   preds_val_views)\n",
    "\n",
    "train_score_views, val_score_views"
   ]
  },
  {
   "cell_type": "raw",
   "id": "fbcef74b-d54b-4a08-ab5d-c4838a2ccb05",
   "metadata": {},
   "source": [
    "(0.5100195781796532, 0.5065575808145328)"
   ]
  },
  {
   "cell_type": "code",
   "execution_count": null,
   "id": "40a5942c-9dbe-4dc8-952c-1a6af1618318",
   "metadata": {},
   "outputs": [],
   "source": []
  },
  {
   "cell_type": "code",
   "execution_count": 18,
   "id": "706be592-2cd3-4db9-9e9d-7b71af1277c0",
   "metadata": {},
   "outputs": [
    {
     "data": {
      "image/png": "[encoded data removed]",
      "text/plain": [
       "<Figure size 720x576 with 1 Axes>"
      ]
     },
     "metadata": {
      "needs_background": "light"
     },
     "output_type": "display_data"
    }
   ],
   "source": [
    "#plot_feature_importance(cb_model_views, train_ds_views, 30)\n",
    "plot_feature_importance(cb_model_views.get_feature_importance(), train_ds_views.get_feature_names(), 'CATBOOST')"
   ]
  },
  {
   "cell_type": "code",
   "execution_count": null,
   "id": "57d15d8a-e96a-436f-9908-bb3efc30c1f7",
   "metadata": {},
   "outputs": [],
   "source": []
  },
  {
   "cell_type": "markdown",
   "id": "a3cac29b-566d-4c8b-9cf7-9ef84a7261d2",
   "metadata": {},
   "source": [
    "## depth"
   ]
  },
  {
   "cell_type": "code",
   "execution_count": 19,
   "id": "e9948b36-a6f3-4bec-bbb2-402d5186ef4e",
   "metadata": {},
   "outputs": [
    {
     "name": "stdout",
     "output_type": "stream",
     "text": [
      "0:\tlearn: 0.0642519\ttest: 0.0611611\tbest: 0.0611611 (0)\ttotal: 3.02s\tremaining: 4m 59s\n",
      "1:\tlearn: 0.0631383\ttest: 0.0601384\tbest: 0.0601384 (1)\ttotal: 6.18s\tremaining: 5m 2s\n",
      "2:\tlearn: 0.0619203\ttest: 0.0590642\tbest: 0.0590642 (2)\ttotal: 9.15s\tremaining: 4m 55s\n",
      "3:\tlearn: 0.0608471\ttest: 0.0580257\tbest: 0.0580257 (3)\ttotal: 12.4s\tremaining: 4m 57s\n",
      "4:\tlearn: 0.0598320\ttest: 0.0570242\tbest: 0.0570242 (4)\ttotal: 15.6s\tremaining: 4m 55s\n",
      "5:\tlearn: 0.0588117\ttest: 0.0562370\tbest: 0.0562370 (5)\ttotal: 18.9s\tremaining: 4m 56s\n",
      "6:\tlearn: 0.0577544\ttest: 0.0553993\tbest: 0.0553993 (6)\ttotal: 22s\tremaining: 4m 52s\n",
      "7:\tlearn: 0.0568946\ttest: 0.0546472\tbest: 0.0546472 (7)\ttotal: 25s\tremaining: 4m 47s\n",
      "8:\tlearn: 0.0560143\ttest: 0.0539521\tbest: 0.0539521 (8)\ttotal: 28.2s\tremaining: 4m 45s\n",
      "9:\tlearn: 0.0552092\ttest: 0.0533498\tbest: 0.0533498 (9)\ttotal: 31.5s\tremaining: 4m 43s\n",
      "10:\tlearn: 0.0543442\ttest: 0.0526022\tbest: 0.0526022 (10)\ttotal: 34.4s\tremaining: 4m 38s\n",
      "11:\tlearn: 0.0535451\ttest: 0.0519931\tbest: 0.0519931 (11)\ttotal: 37.2s\tremaining: 4m 33s\n",
      "12:\tlearn: 0.0527956\ttest: 0.0513534\tbest: 0.0513534 (12)\ttotal: 40s\tremaining: 4m 27s\n",
      "13:\tlearn: 0.0520998\ttest: 0.0508595\tbest: 0.0508595 (13)\ttotal: 43s\tremaining: 4m 23s\n",
      "14:\tlearn: 0.0514434\ttest: 0.0503807\tbest: 0.0503807 (14)\ttotal: 45.8s\tremaining: 4m 19s\n",
      "15:\tlearn: 0.0507901\ttest: 0.0499950\tbest: 0.0499950 (15)\ttotal: 48.8s\tremaining: 4m 16s\n",
      "16:\tlearn: 0.0502447\ttest: 0.0494765\tbest: 0.0494765 (16)\ttotal: 52s\tremaining: 4m 13s\n",
      "17:\tlearn: 0.0496740\ttest: 0.0489431\tbest: 0.0489431 (17)\ttotal: 54.8s\tremaining: 4m 9s\n",
      "18:\tlearn: 0.0491305\ttest: 0.0485512\tbest: 0.0485512 (18)\ttotal: 57.8s\tremaining: 4m 6s\n",
      "19:\tlearn: 0.0486492\ttest: 0.0482411\tbest: 0.0482411 (19)\ttotal: 1m\tremaining: 4m 3s\n",
      "20:\tlearn: 0.0481049\ttest: 0.0479492\tbest: 0.0479492 (20)\ttotal: 1m 3s\tremaining: 3m 59s\n",
      "21:\tlearn: 0.0475878\ttest: 0.0475629\tbest: 0.0475629 (21)\ttotal: 1m 6s\tremaining: 3m 56s\n",
      "22:\tlearn: 0.0471572\ttest: 0.0472242\tbest: 0.0472242 (22)\ttotal: 1m 9s\tremaining: 3m 52s\n",
      "23:\tlearn: 0.0467257\ttest: 0.0469414\tbest: 0.0469414 (23)\ttotal: 1m 12s\tremaining: 3m 49s\n",
      "24:\tlearn: 0.0463381\ttest: 0.0467041\tbest: 0.0467041 (24)\ttotal: 1m 15s\tremaining: 3m 45s\n",
      "25:\tlearn: 0.0456127\ttest: 0.0460816\tbest: 0.0460816 (25)\ttotal: 1m 17s\tremaining: 3m 41s\n",
      "26:\tlearn: 0.0449169\ttest: 0.0454539\tbest: 0.0454539 (26)\ttotal: 1m 20s\tremaining: 3m 38s\n",
      "27:\tlearn: 0.0442224\ttest: 0.0447909\tbest: 0.0447909 (27)\ttotal: 1m 23s\tremaining: 3m 35s\n",
      "28:\tlearn: 0.0435711\ttest: 0.0442499\tbest: 0.0442499 (28)\ttotal: 1m 27s\tremaining: 3m 33s\n",
      "29:\tlearn: 0.0429020\ttest: 0.0437507\tbest: 0.0437507 (29)\ttotal: 1m 31s\tremaining: 3m 32s\n",
      "30:\tlearn: 0.0423243\ttest: 0.0432503\tbest: 0.0432503 (30)\ttotal: 1m 34s\tremaining: 3m 29s\n",
      "31:\tlearn: 0.0417463\ttest: 0.0428190\tbest: 0.0428190 (31)\ttotal: 1m 37s\tremaining: 3m 27s\n",
      "32:\tlearn: 0.0412310\ttest: 0.0422894\tbest: 0.0422894 (32)\ttotal: 1m 40s\tremaining: 3m 24s\n",
      "33:\tlearn: 0.0406826\ttest: 0.0418283\tbest: 0.0418283 (33)\ttotal: 1m 43s\tremaining: 3m 20s\n",
      "34:\tlearn: 0.0401591\ttest: 0.0415268\tbest: 0.0415268 (34)\ttotal: 1m 46s\tremaining: 3m 17s\n",
      "35:\tlearn: 0.0395942\ttest: 0.0412174\tbest: 0.0412174 (35)\ttotal: 1m 49s\tremaining: 3m 15s\n",
      "36:\tlearn: 0.0391069\ttest: 0.0407897\tbest: 0.0407897 (36)\ttotal: 1m 53s\tremaining: 3m 12s\n",
      "37:\tlearn: 0.0385844\ttest: 0.0404751\tbest: 0.0404751 (37)\ttotal: 1m 56s\tremaining: 3m 10s\n",
      "38:\tlearn: 0.0381762\ttest: 0.0401523\tbest: 0.0401523 (38)\ttotal: 2m\tremaining: 3m 7s\n",
      "39:\tlearn: 0.0377942\ttest: 0.0397950\tbest: 0.0397950 (39)\ttotal: 2m 3s\tremaining: 3m 4s\n",
      "40:\tlearn: 0.0373818\ttest: 0.0394838\tbest: 0.0394838 (40)\ttotal: 2m 6s\tremaining: 3m 1s\n",
      "41:\tlearn: 0.0369538\ttest: 0.0391914\tbest: 0.0391914 (41)\ttotal: 2m 9s\tremaining: 2m 58s\n",
      "42:\tlearn: 0.0366379\ttest: 0.0389497\tbest: 0.0389497 (42)\ttotal: 2m 12s\tremaining: 2m 55s\n",
      "43:\tlearn: 0.0362725\ttest: 0.0386168\tbest: 0.0386168 (43)\ttotal: 2m 15s\tremaining: 2m 52s\n",
      "44:\tlearn: 0.0359170\ttest: 0.0384194\tbest: 0.0384194 (44)\ttotal: 2m 18s\tremaining: 2m 49s\n",
      "45:\tlearn: 0.0355841\ttest: 0.0382230\tbest: 0.0382230 (45)\ttotal: 2m 22s\tremaining: 2m 46s\n",
      "46:\tlearn: 0.0353715\ttest: 0.0381035\tbest: 0.0381035 (46)\ttotal: 2m 24s\tremaining: 2m 43s\n",
      "47:\tlearn: 0.0350525\ttest: 0.0378824\tbest: 0.0378824 (47)\ttotal: 2m 27s\tremaining: 2m 40s\n",
      "48:\tlearn: 0.0347623\ttest: 0.0377053\tbest: 0.0377053 (48)\ttotal: 2m 31s\tremaining: 2m 37s\n",
      "49:\tlearn: 0.0345191\ttest: 0.0375370\tbest: 0.0375370 (49)\ttotal: 2m 34s\tremaining: 2m 34s\n",
      "50:\tlearn: 0.0342421\ttest: 0.0374280\tbest: 0.0374280 (50)\ttotal: 2m 37s\tremaining: 2m 30s\n",
      "51:\tlearn: 0.0339682\ttest: 0.0373308\tbest: 0.0373308 (51)\ttotal: 2m 39s\tremaining: 2m 27s\n",
      "52:\tlearn: 0.0336924\ttest: 0.0371443\tbest: 0.0371443 (52)\ttotal: 2m 42s\tremaining: 2m 24s\n",
      "53:\tlearn: 0.0334645\ttest: 0.0370422\tbest: 0.0370422 (53)\ttotal: 2m 45s\tremaining: 2m 21s\n",
      "54:\tlearn: 0.0332195\ttest: 0.0369146\tbest: 0.0369146 (54)\ttotal: 2m 48s\tremaining: 2m 17s\n",
      "55:\tlearn: 0.0330287\ttest: 0.0368236\tbest: 0.0368236 (55)\ttotal: 2m 51s\tremaining: 2m 14s\n",
      "56:\tlearn: 0.0327609\ttest: 0.0367437\tbest: 0.0367437 (56)\ttotal: 2m 54s\tremaining: 2m 11s\n",
      "57:\tlearn: 0.0326206\ttest: 0.0367308\tbest: 0.0367308 (57)\ttotal: 2m 57s\tremaining: 2m 8s\n",
      "58:\tlearn: 0.0324169\ttest: 0.0366331\tbest: 0.0366331 (58)\ttotal: 3m\tremaining: 2m 5s\n",
      "59:\tlearn: 0.0321772\ttest: 0.0365419\tbest: 0.0365419 (59)\ttotal: 3m 3s\tremaining: 2m 2s\n",
      "60:\tlearn: 0.0319176\ttest: 0.0363508\tbest: 0.0363508 (60)\ttotal: 3m 5s\tremaining: 1m 58s\n",
      "61:\tlearn: 0.0318023\ttest: 0.0363314\tbest: 0.0363314 (61)\ttotal: 3m 8s\tremaining: 1m 55s\n",
      "62:\tlearn: 0.0316045\ttest: 0.0362616\tbest: 0.0362616 (62)\ttotal: 3m 12s\tremaining: 1m 52s\n",
      "63:\tlearn: 0.0313715\ttest: 0.0361939\tbest: 0.0361939 (63)\ttotal: 3m 14s\tremaining: 1m 49s\n",
      "64:\tlearn: 0.0312575\ttest: 0.0361317\tbest: 0.0361317 (64)\ttotal: 3m 17s\tremaining: 1m 46s\n",
      "65:\tlearn: 0.0310807\ttest: 0.0360844\tbest: 0.0360844 (65)\ttotal: 3m 20s\tremaining: 1m 43s\n",
      "66:\tlearn: 0.0308855\ttest: 0.0359947\tbest: 0.0359947 (66)\ttotal: 3m 24s\tremaining: 1m 40s\n",
      "67:\tlearn: 0.0307709\ttest: 0.0359683\tbest: 0.0359683 (67)\ttotal: 3m 27s\tremaining: 1m 37s\n",
      "68:\tlearn: 0.0305969\ttest: 0.0359352\tbest: 0.0359352 (68)\ttotal: 3m 30s\tremaining: 1m 34s\n",
      "69:\tlearn: 0.0304883\ttest: 0.0359122\tbest: 0.0359122 (69)\ttotal: 3m 33s\tremaining: 1m 31s\n",
      "70:\tlearn: 0.0303738\ttest: 0.0358960\tbest: 0.0358960 (70)\ttotal: 3m 36s\tremaining: 1m 28s\n",
      "71:\tlearn: 0.0302631\ttest: 0.0358815\tbest: 0.0358815 (71)\ttotal: 3m 39s\tremaining: 1m 25s\n",
      "72:\tlearn: 0.0301486\ttest: 0.0358673\tbest: 0.0358673 (72)\ttotal: 3m 42s\tremaining: 1m 22s\n",
      "73:\tlearn: 0.0300661\ttest: 0.0358409\tbest: 0.0358409 (73)\ttotal: 3m 45s\tremaining: 1m 19s\n",
      "74:\tlearn: 0.0298694\ttest: 0.0357725\tbest: 0.0357725 (74)\ttotal: 3m 49s\tremaining: 1m 16s\n",
      "75:\tlearn: 0.0297245\ttest: 0.0357533\tbest: 0.0357533 (75)\ttotal: 3m 52s\tremaining: 1m 13s\n",
      "76:\tlearn: 0.0296450\ttest: 0.0357226\tbest: 0.0357226 (76)\ttotal: 3m 55s\tremaining: 1m 10s\n",
      "77:\tlearn: 0.0295093\ttest: 0.0356888\tbest: 0.0356888 (77)\ttotal: 3m 59s\tremaining: 1m 7s\n",
      "78:\tlearn: 0.0293665\ttest: 0.0356811\tbest: 0.0356811 (78)\ttotal: 4m 2s\tremaining: 1m 4s\n",
      "79:\tlearn: 0.0291943\ttest: 0.0356003\tbest: 0.0356003 (79)\ttotal: 4m 6s\tremaining: 1m 1s\n",
      "80:\tlearn: 0.0290906\ttest: 0.0355865\tbest: 0.0355865 (80)\ttotal: 4m 9s\tremaining: 58.5s\n",
      "81:\tlearn: 0.0289694\ttest: 0.0355329\tbest: 0.0355329 (81)\ttotal: 4m 13s\tremaining: 55.6s\n",
      "82:\tlearn: 0.0287864\ttest: 0.0354670\tbest: 0.0354670 (82)\ttotal: 4m 17s\tremaining: 52.7s\n",
      "83:\tlearn: 0.0286230\ttest: 0.0354149\tbest: 0.0354149 (83)\ttotal: 4m 20s\tremaining: 49.7s\n",
      "84:\tlearn: 0.0285108\ttest: 0.0353857\tbest: 0.0353857 (84)\ttotal: 4m 24s\tremaining: 46.7s\n",
      "85:\tlearn: 0.0284008\ttest: 0.0353868\tbest: 0.0353857 (84)\ttotal: 4m 28s\tremaining: 43.7s\n",
      "86:\tlearn: 0.0283004\ttest: 0.0353687\tbest: 0.0353687 (86)\ttotal: 4m 31s\tremaining: 40.6s\n",
      "87:\tlearn: 0.0282297\ttest: 0.0353473\tbest: 0.0353473 (87)\ttotal: 4m 34s\tremaining: 37.5s\n",
      "88:\tlearn: 0.0281404\ttest: 0.0353151\tbest: 0.0353151 (88)\ttotal: 4m 37s\tremaining: 34.4s\n",
      "89:\tlearn: 0.0280076\ttest: 0.0352587\tbest: 0.0352587 (89)\ttotal: 4m 41s\tremaining: 31.2s\n",
      "90:\tlearn: 0.0278858\ttest: 0.0352178\tbest: 0.0352178 (90)\ttotal: 4m 44s\tremaining: 28.1s\n",
      "91:\tlearn: 0.0277854\ttest: 0.0351932\tbest: 0.0351932 (91)\ttotal: 4m 47s\tremaining: 25s\n",
      "92:\tlearn: 0.0276453\ttest: 0.0351211\tbest: 0.0351211 (92)\ttotal: 4m 50s\tremaining: 21.9s\n",
      "93:\tlearn: 0.0275116\ttest: 0.0350961\tbest: 0.0350961 (93)\ttotal: 4m 53s\tremaining: 18.7s\n",
      "94:\tlearn: 0.0274319\ttest: 0.0350777\tbest: 0.0350777 (94)\ttotal: 4m 56s\tremaining: 15.6s\n",
      "95:\tlearn: 0.0273336\ttest: 0.0350636\tbest: 0.0350636 (95)\ttotal: 5m\tremaining: 12.5s\n",
      "96:\tlearn: 0.0272058\ttest: 0.0350394\tbest: 0.0350394 (96)\ttotal: 5m 3s\tremaining: 9.39s\n",
      "97:\tlearn: 0.0270733\ttest: 0.0350040\tbest: 0.0350040 (97)\ttotal: 5m 6s\tremaining: 6.26s\n",
      "98:\tlearn: 0.0270129\ttest: 0.0350019\tbest: 0.0350019 (98)\ttotal: 5m 9s\tremaining: 3.13s\n",
      "99:\tlearn: 0.0269009\ttest: 0.0349795\tbest: 0.0349795 (99)\ttotal: 5m 12s\tremaining: 0us\n",
      "\n",
      "bestTest = 0.03497953015\n",
      "bestIteration = 99\n",
      "\n"
     ]
    },
    {
     "data": {
      "text/plain": [
       "<catboost.core.CatBoostRegressor at 0x2451ff7b2c8>"
      ]
     },
     "execution_count": 19,
     "metadata": {},
     "output_type": "execute_result"
    }
   ],
   "source": [
    "cb_model_depth = CatBoostRegressor(#iterations=1000,\n",
    "                                 learning_rate=0.05,\n",
    "                                 depth=10,\n",
    "                                 random_seed = CB_RANDOMSEED,\n",
    "                   n_estimators=100,\n",
    "                                  )\n",
    "# Fit model\n",
    "cb_model_depth.fit(train_ds_depth,\n",
    "                   eval_set=val_ds_depth, \n",
    "                   #plot = True,\n",
    "                  )"
   ]
  },
  {
   "cell_type": "code",
   "execution_count": 20,
   "id": "2596cde2-acc0-4f27-8ab9-6658e7cba842",
   "metadata": {},
   "outputs": [
    {
     "data": {
      "text/plain": [
       "(0.8328090105691034, 0.6882810714363827)"
      ]
     },
     "execution_count": 20,
     "metadata": {},
     "output_type": "execute_result"
    }
   ],
   "source": [
    "# Get predictions and metrics\n",
    "preds_train_depth = cb_model_depth.predict(x_train[cat_cols + num_cols])\n",
    "preds_val_depth   = cb_model_depth.predict(val_ds_depth)\n",
    "\n",
    "train_score_depth = r2_score(y_train[\"depth\"], preds_train_depth)\n",
    "val_score_depth   = r2_score(y_val[\"depth\"],   preds_val_depth)\n",
    "\n",
    "train_score_depth, val_score_depth"
   ]
  },
  {
   "cell_type": "raw",
   "id": "42b4b5db-a639-4829-9350-0c78a2bb037b",
   "metadata": {},
   "source": [
    "(0.6426108706670193, 0.5285762915493839)"
   ]
  },
  {
   "cell_type": "code",
   "execution_count": null,
   "id": "bf7b2ffd-0f51-492c-ad5c-cd0e859050d8",
   "metadata": {},
   "outputs": [],
   "source": []
  },
  {
   "cell_type": "code",
   "execution_count": 21,
   "id": "a37608db-f13d-45fc-9f3f-dd430a6f0839",
   "metadata": {},
   "outputs": [
    {
     "data": {
      "image/png": "[encoded data removed]",
      "text/plain": [
       "<Figure size 720x576 with 1 Axes>"
      ]
     },
     "metadata": {
      "needs_background": "light"
     },
     "output_type": "display_data"
    }
   ],
   "source": [
    "#plot_feature_importance(cb_model_views, train_ds_views, 30)\n",
    "plot_feature_importance(cb_model_depth.get_feature_importance(), train_ds_depth.get_feature_names(), 'CATBOOST')"
   ]
  },
  {
   "cell_type": "code",
   "execution_count": null,
   "id": "5eaabd43-32cd-42df-9c8f-a88c7c8cfe3c",
   "metadata": {},
   "outputs": [],
   "source": []
  },
  {
   "cell_type": "markdown",
   "id": "fafdf6ea-9687-472f-ab6e-86125f5dc7eb",
   "metadata": {},
   "source": [
    "## full_reads_percent"
   ]
  },
  {
   "cell_type": "code",
   "execution_count": 26,
   "id": "7745c438-06e9-477e-ac52-37017039f9c4",
   "metadata": {},
   "outputs": [
    {
     "name": "stdout",
     "output_type": "stream",
     "text": [
      "0:\tlearn: 10.5102552\ttest: 11.2687948\tbest: 11.2687948 (0)\ttotal: 3.17s\tremaining: 5m 14s\n",
      "1:\tlearn: 10.3982430\ttest: 11.1989699\tbest: 11.1989699 (1)\ttotal: 6.08s\tremaining: 4m 57s\n",
      "2:\tlearn: 10.2851879\ttest: 11.1223498\tbest: 11.1223498 (2)\ttotal: 9.04s\tremaining: 4m 52s\n",
      "3:\tlearn: 10.1824794\ttest: 11.0528606\tbest: 11.0528606 (3)\ttotal: 12.2s\tremaining: 4m 53s\n",
      "4:\tlearn: 10.0802942\ttest: 10.9821492\tbest: 10.9821492 (4)\ttotal: 15.2s\tremaining: 4m 49s\n",
      "5:\tlearn: 9.9804670\ttest: 10.9217374\tbest: 10.9217374 (5)\ttotal: 18.4s\tremaining: 4m 47s\n",
      "6:\tlearn: 9.8939226\ttest: 10.8655080\tbest: 10.8655080 (6)\ttotal: 21.5s\tremaining: 4m 45s\n",
      "7:\tlearn: 9.8097832\ttest: 10.8141637\tbest: 10.8141637 (7)\ttotal: 25s\tremaining: 4m 47s\n",
      "8:\tlearn: 9.7290678\ttest: 10.7689155\tbest: 10.7689155 (8)\ttotal: 28.5s\tremaining: 4m 48s\n",
      "9:\tlearn: 9.6546101\ttest: 10.7185260\tbest: 10.7185260 (9)\ttotal: 31.6s\tremaining: 4m 44s\n",
      "10:\tlearn: 9.5852226\ttest: 10.6726496\tbest: 10.6726496 (10)\ttotal: 34.8s\tremaining: 4m 41s\n",
      "11:\tlearn: 9.5110744\ttest: 10.6296868\tbest: 10.6296868 (11)\ttotal: 37.9s\tremaining: 4m 37s\n",
      "12:\tlearn: 9.4386084\ttest: 10.5937322\tbest: 10.5937322 (12)\ttotal: 40.9s\tremaining: 4m 33s\n",
      "13:\tlearn: 9.3664609\ttest: 10.5523107\tbest: 10.5523107 (13)\ttotal: 43.9s\tremaining: 4m 29s\n",
      "14:\tlearn: 9.3036828\ttest: 10.5251820\tbest: 10.5251820 (14)\ttotal: 47s\tremaining: 4m 26s\n",
      "15:\tlearn: 9.2428688\ttest: 10.4937821\tbest: 10.4937821 (15)\ttotal: 50.3s\tremaining: 4m 23s\n",
      "16:\tlearn: 9.1795244\ttest: 10.4616731\tbest: 10.4616731 (16)\ttotal: 53.6s\tremaining: 4m 21s\n",
      "17:\tlearn: 9.1300420\ttest: 10.4417195\tbest: 10.4417195 (17)\ttotal: 56.3s\tremaining: 4m 16s\n",
      "18:\tlearn: 9.0714233\ttest: 10.4161330\tbest: 10.4161330 (18)\ttotal: 58.9s\tremaining: 4m 11s\n",
      "19:\tlearn: 9.0193673\ttest: 10.3936022\tbest: 10.3936022 (19)\ttotal: 1m 1s\tremaining: 4m 7s\n",
      "20:\tlearn: 8.9639755\ttest: 10.3756543\tbest: 10.3756543 (20)\ttotal: 1m 4s\tremaining: 4m 3s\n",
      "21:\tlearn: 8.9180076\ttest: 10.3626723\tbest: 10.3626723 (21)\ttotal: 1m 8s\tremaining: 4m 2s\n",
      "22:\tlearn: 8.8714365\ttest: 10.3491958\tbest: 10.3491958 (22)\ttotal: 1m 11s\tremaining: 4m\n",
      "23:\tlearn: 8.8208948\ttest: 10.3331572\tbest: 10.3331572 (23)\ttotal: 1m 14s\tremaining: 3m 57s\n",
      "24:\tlearn: 8.7743926\ttest: 10.3155709\tbest: 10.3155709 (24)\ttotal: 1m 18s\tremaining: 3m 55s\n",
      "25:\tlearn: 8.7329103\ttest: 10.2985729\tbest: 10.2985729 (25)\ttotal: 1m 21s\tremaining: 3m 52s\n",
      "26:\tlearn: 8.6973422\ttest: 10.2832660\tbest: 10.2832660 (26)\ttotal: 1m 24s\tremaining: 3m 48s\n",
      "27:\tlearn: 8.6592699\ttest: 10.2687324\tbest: 10.2687324 (27)\ttotal: 1m 27s\tremaining: 3m 44s\n",
      "28:\tlearn: 8.6245375\ttest: 10.2549921\tbest: 10.2549921 (28)\ttotal: 1m 29s\tremaining: 3m 40s\n",
      "29:\tlearn: 8.5866987\ttest: 10.2431580\tbest: 10.2431580 (29)\ttotal: 1m 32s\tremaining: 3m 36s\n",
      "30:\tlearn: 8.5554922\ttest: 10.2387888\tbest: 10.2387888 (30)\ttotal: 1m 35s\tremaining: 3m 32s\n",
      "31:\tlearn: 8.5110713\ttest: 10.2274075\tbest: 10.2274075 (31)\ttotal: 1m 38s\tremaining: 3m 29s\n",
      "32:\tlearn: 8.4692044\ttest: 10.2118063\tbest: 10.2118063 (32)\ttotal: 1m 41s\tremaining: 3m 26s\n",
      "33:\tlearn: 8.4373688\ttest: 10.2036263\tbest: 10.2036263 (33)\ttotal: 1m 44s\tremaining: 3m 22s\n",
      "34:\tlearn: 8.3966408\ttest: 10.1854248\tbest: 10.1854248 (34)\ttotal: 1m 47s\tremaining: 3m 19s\n",
      "35:\tlearn: 8.3760020\ttest: 10.1809595\tbest: 10.1809595 (35)\ttotal: 1m 50s\tremaining: 3m 15s\n",
      "36:\tlearn: 8.3413956\ttest: 10.1777934\tbest: 10.1777934 (36)\ttotal: 1m 52s\tremaining: 3m 12s\n",
      "37:\tlearn: 8.3075554\ttest: 10.1715639\tbest: 10.1715639 (37)\ttotal: 1m 55s\tremaining: 3m 8s\n",
      "38:\tlearn: 8.2753260\ttest: 10.1684914\tbest: 10.1684914 (38)\ttotal: 1m 58s\tremaining: 3m 5s\n",
      "39:\tlearn: 8.2392844\ttest: 10.1576995\tbest: 10.1576995 (39)\ttotal: 2m 1s\tremaining: 3m 2s\n",
      "40:\tlearn: 8.2090083\ttest: 10.1546814\tbest: 10.1546814 (40)\ttotal: 2m 4s\tremaining: 2m 59s\n",
      "41:\tlearn: 8.1723141\ttest: 10.1492025\tbest: 10.1492025 (41)\ttotal: 2m 7s\tremaining: 2m 56s\n",
      "42:\tlearn: 8.1352094\ttest: 10.1450296\tbest: 10.1450296 (42)\ttotal: 2m 11s\tremaining: 2m 53s\n",
      "43:\tlearn: 8.1044062\ttest: 10.1401233\tbest: 10.1401233 (43)\ttotal: 2m 14s\tremaining: 2m 50s\n",
      "44:\tlearn: 8.0704002\ttest: 10.1321345\tbest: 10.1321345 (44)\ttotal: 2m 17s\tremaining: 2m 47s\n",
      "45:\tlearn: 8.0460905\ttest: 10.1280041\tbest: 10.1280041 (45)\ttotal: 2m 20s\tremaining: 2m 44s\n",
      "46:\tlearn: 8.0259916\ttest: 10.1224147\tbest: 10.1224147 (46)\ttotal: 2m 23s\tremaining: 2m 42s\n",
      "47:\tlearn: 8.0020105\ttest: 10.1165334\tbest: 10.1165334 (47)\ttotal: 2m 27s\tremaining: 2m 39s\n",
      "48:\tlearn: 7.9682244\ttest: 10.1056684\tbest: 10.1056684 (48)\ttotal: 2m 30s\tremaining: 2m 36s\n",
      "49:\tlearn: 7.9448710\ttest: 10.1032191\tbest: 10.1032191 (49)\ttotal: 2m 33s\tremaining: 2m 33s\n",
      "50:\tlearn: 7.9150415\ttest: 10.0996219\tbest: 10.0996219 (50)\ttotal: 2m 36s\tremaining: 2m 30s\n",
      "51:\tlearn: 7.8984417\ttest: 10.0965972\tbest: 10.0965972 (51)\ttotal: 2m 39s\tremaining: 2m 27s\n",
      "52:\tlearn: 7.8755761\ttest: 10.0928698\tbest: 10.0928698 (52)\ttotal: 2m 43s\tremaining: 2m 24s\n",
      "53:\tlearn: 7.8535551\ttest: 10.0876113\tbest: 10.0876113 (53)\ttotal: 2m 46s\tremaining: 2m 21s\n",
      "54:\tlearn: 7.8397051\ttest: 10.0876061\tbest: 10.0876061 (54)\ttotal: 2m 49s\tremaining: 2m 18s\n",
      "55:\tlearn: 7.8167218\ttest: 10.0818272\tbest: 10.0818272 (55)\ttotal: 2m 52s\tremaining: 2m 15s\n",
      "56:\tlearn: 7.7888364\ttest: 10.0758813\tbest: 10.0758813 (56)\ttotal: 2m 55s\tremaining: 2m 12s\n",
      "57:\tlearn: 7.7648446\ttest: 10.0727650\tbest: 10.0727650 (57)\ttotal: 2m 58s\tremaining: 2m 9s\n",
      "58:\tlearn: 7.7393912\ttest: 10.0677307\tbest: 10.0677307 (58)\ttotal: 3m 1s\tremaining: 2m 6s\n",
      "59:\tlearn: 7.7070245\ttest: 10.0625749\tbest: 10.0625749 (59)\ttotal: 3m 5s\tremaining: 2m 3s\n",
      "60:\tlearn: 7.6797043\ttest: 10.0574017\tbest: 10.0574017 (60)\ttotal: 3m 8s\tremaining: 2m\n",
      "61:\tlearn: 7.6519406\ttest: 10.0546554\tbest: 10.0546554 (61)\ttotal: 3m 12s\tremaining: 1m 57s\n",
      "62:\tlearn: 7.6275382\ttest: 10.0471643\tbest: 10.0471643 (62)\ttotal: 3m 15s\tremaining: 1m 54s\n",
      "63:\tlearn: 7.6002431\ttest: 10.0455956\tbest: 10.0455956 (63)\ttotal: 3m 18s\tremaining: 1m 51s\n",
      "64:\tlearn: 7.5732531\ttest: 10.0391406\tbest: 10.0391406 (64)\ttotal: 3m 22s\tremaining: 1m 48s\n",
      "65:\tlearn: 7.5339606\ttest: 10.0298609\tbest: 10.0298609 (65)\ttotal: 3m 25s\tremaining: 1m 46s\n",
      "66:\tlearn: 7.5110414\ttest: 10.0254907\tbest: 10.0254907 (66)\ttotal: 3m 29s\tremaining: 1m 43s\n",
      "67:\tlearn: 7.4795336\ttest: 10.0176585\tbest: 10.0176585 (67)\ttotal: 3m 32s\tremaining: 1m 39s\n",
      "68:\tlearn: 7.4441319\ttest: 10.0150863\tbest: 10.0150863 (68)\ttotal: 3m 35s\tremaining: 1m 36s\n",
      "69:\tlearn: 7.4265227\ttest: 10.0103101\tbest: 10.0103101 (69)\ttotal: 3m 39s\tremaining: 1m 34s\n",
      "70:\tlearn: 7.4063611\ttest: 10.0086269\tbest: 10.0086269 (70)\ttotal: 3m 42s\tremaining: 1m 31s\n",
      "71:\tlearn: 7.3862514\ttest: 10.0067398\tbest: 10.0067398 (71)\ttotal: 3m 45s\tremaining: 1m 27s\n",
      "72:\tlearn: 7.3612448\ttest: 10.0044371\tbest: 10.0044371 (72)\ttotal: 3m 48s\tremaining: 1m 24s\n",
      "73:\tlearn: 7.3453744\ttest: 10.0006178\tbest: 10.0006178 (73)\ttotal: 3m 51s\tremaining: 1m 21s\n",
      "74:\tlearn: 7.3186129\ttest: 9.9978362\tbest: 9.9978362 (74)\ttotal: 3m 55s\tremaining: 1m 18s\n",
      "75:\tlearn: 7.2931554\ttest: 9.9958030\tbest: 9.9958030 (75)\ttotal: 3m 58s\tremaining: 1m 15s\n",
      "76:\tlearn: 7.2719653\ttest: 9.9949432\tbest: 9.9949432 (76)\ttotal: 4m 1s\tremaining: 1m 12s\n",
      "77:\tlearn: 7.2522068\ttest: 9.9923215\tbest: 9.9923215 (77)\ttotal: 4m 4s\tremaining: 1m 9s\n",
      "78:\tlearn: 7.2351225\ttest: 9.9911164\tbest: 9.9911164 (78)\ttotal: 4m 8s\tremaining: 1m 6s\n",
      "79:\tlearn: 7.2085587\ttest: 9.9859594\tbest: 9.9859594 (79)\ttotal: 4m 12s\tremaining: 1m 3s\n",
      "80:\tlearn: 7.1912409\ttest: 9.9827031\tbest: 9.9827031 (80)\ttotal: 4m 15s\tremaining: 60s\n",
      "81:\tlearn: 7.1668030\ttest: 9.9805230\tbest: 9.9805230 (81)\ttotal: 4m 18s\tremaining: 56.8s\n",
      "82:\tlearn: 7.1413969\ttest: 9.9762553\tbest: 9.9762553 (82)\ttotal: 4m 21s\tremaining: 53.6s\n",
      "83:\tlearn: 7.1118069\ttest: 9.9702620\tbest: 9.9702620 (83)\ttotal: 4m 25s\tremaining: 50.5s\n",
      "84:\tlearn: 7.0774521\ttest: 9.9702330\tbest: 9.9702330 (84)\ttotal: 4m 28s\tremaining: 47.4s\n",
      "85:\tlearn: 7.0600175\ttest: 9.9702811\tbest: 9.9702330 (84)\ttotal: 4m 31s\tremaining: 44.3s\n",
      "86:\tlearn: 7.0384121\ttest: 9.9668821\tbest: 9.9668821 (86)\ttotal: 4m 34s\tremaining: 41.1s\n",
      "87:\tlearn: 7.0168021\ttest: 9.9626581\tbest: 9.9626581 (87)\ttotal: 4m 38s\tremaining: 38s\n",
      "88:\tlearn: 6.9946139\ttest: 9.9599880\tbest: 9.9599880 (88)\ttotal: 4m 42s\tremaining: 34.9s\n",
      "89:\tlearn: 6.9745765\ttest: 9.9594229\tbest: 9.9594229 (89)\ttotal: 4m 45s\tremaining: 31.7s\n",
      "90:\tlearn: 6.9548316\ttest: 9.9534223\tbest: 9.9534223 (90)\ttotal: 4m 48s\tremaining: 28.6s\n",
      "91:\tlearn: 6.9364925\ttest: 9.9525839\tbest: 9.9525839 (91)\ttotal: 4m 52s\tremaining: 25.4s\n",
      "92:\tlearn: 6.9174069\ttest: 9.9494256\tbest: 9.9494256 (92)\ttotal: 4m 55s\tremaining: 22.2s\n",
      "93:\tlearn: 6.9013015\ttest: 9.9465101\tbest: 9.9465101 (93)\ttotal: 4m 58s\tremaining: 19s\n",
      "94:\tlearn: 6.8796515\ttest: 9.9416341\tbest: 9.9416341 (94)\ttotal: 5m 1s\tremaining: 15.9s\n",
      "95:\tlearn: 6.8560743\ttest: 9.9403163\tbest: 9.9403163 (95)\ttotal: 5m 4s\tremaining: 12.7s\n",
      "96:\tlearn: 6.8325194\ttest: 9.9377475\tbest: 9.9377475 (96)\ttotal: 5m 7s\tremaining: 9.52s\n",
      "97:\tlearn: 6.8077449\ttest: 9.9366463\tbest: 9.9366463 (97)\ttotal: 5m 11s\tremaining: 6.35s\n",
      "98:\tlearn: 6.7925162\ttest: 9.9346857\tbest: 9.9346857 (98)\ttotal: 5m 14s\tremaining: 3.17s\n",
      "99:\tlearn: 6.7695656\ttest: 9.9358038\tbest: 9.9346857 (98)\ttotal: 5m 17s\tremaining: 0us\n",
      "\n",
      "bestTest = 9.934685658\n",
      "bestIteration = 98\n",
      "\n",
      "Shrink model to first 99 iterations.\n"
     ]
    },
    {
     "data": {
      "text/plain": [
       "<catboost.core.CatBoostRegressor at 0x2451f3f07c8>"
      ]
     },
     "execution_count": 26,
     "metadata": {},
     "output_type": "execute_result"
    }
   ],
   "source": [
    "cb_model_frp = CatBoostRegressor(#iterations=1000,\n",
    "                                 learning_rate=0.05,\n",
    "                                 depth=10,\n",
    "                                 random_seed = CB_RANDOMSEED,\n",
    "                   n_estimators=100,\n",
    "                                 #n_estimators=100,\n",
    "    #num_trees=None,\n",
    "                                )\n",
    "# Fit model\n",
    "cb_model_frp.fit(train_ds_frp,\n",
    "                   eval_set=val_ds_frp, \n",
    "                   #plot = True,\n",
    "                  )"
   ]
  },
  {
   "cell_type": "code",
   "execution_count": 23,
   "id": "ce2f5cf1-5605-4e75-99dd-8c23248ff512",
   "metadata": {},
   "outputs": [
    {
     "data": {
      "text/plain": [
       "(0.5910764058356718, 0.23241501130880693)"
      ]
     },
     "execution_count": 23,
     "metadata": {},
     "output_type": "execute_result"
    }
   ],
   "source": [
    "# Get predictions and metrics\n",
    "preds_train_frp = cb_model_frp.predict(x_train[cat_cols + num_cols])\n",
    "preds_val_frp   = cb_model_frp.predict(val_ds_frp)\n",
    "\n",
    "train_score_frp = r2_score(y_train[\"full_reads_percent\"], preds_train_frp)\n",
    "val_score_frp   = r2_score(y_val[\"full_reads_percent\"],   preds_val_frp)\n",
    "\n",
    "train_score_frp, val_score_frp"
   ]
  },
  {
   "cell_type": "raw",
   "id": "cec2f6b6-9782-4b5c-838c-66df8bfc72e5",
   "metadata": {},
   "source": [
    "(0.23313112177548145, 0.2305089887333156)"
   ]
  },
  {
   "cell_type": "code",
   "execution_count": null,
   "id": "c6b000b9-9f71-4f8d-bb73-d58b91330eca",
   "metadata": {},
   "outputs": [],
   "source": []
  },
  {
   "cell_type": "code",
   "execution_count": 24,
   "id": "0921f52a-f376-4e01-bf22-958db46977c7",
   "metadata": {},
   "outputs": [
    {
     "data": {
      "image/png": "[encoded data removed]",
      "text/plain": [
       "<Figure size 720x576 with 1 Axes>"
      ]
     },
     "metadata": {
      "needs_background": "light"
     },
     "output_type": "display_data"
    }
   ],
   "source": [
    "#plot_feature_importance(cb_model_views, train_ds_views, 30)\n",
    "plot_feature_importance(cb_model_frp.get_feature_importance(), train_ds_frp.get_feature_names(), 'CATBOOST')"
   ]
  },
  {
   "cell_type": "code",
   "execution_count": null,
   "id": "be50fe97-02cb-48bb-beb5-c100041aa1f0",
   "metadata": {},
   "outputs": [],
   "source": []
  },
  {
   "cell_type": "code",
   "execution_count": 25,
   "id": "304d2314-a21f-4bb0-bd61-9fa94711f9f1",
   "metadata": {},
   "outputs": [
    {
     "data": {
      "text/plain": [
       "(0.6555436201625053, 0.3560638310072401)"
      ]
     },
     "execution_count": 25,
     "metadata": {},
     "output_type": "execute_result"
    }
   ],
   "source": [
    "score_train = 0.4 * train_score_views + 0.3 * train_score_depth + 0.3 * train_score_frp\n",
    "score_val  = 0.4 * val_score_views  + 0.3 * val_score_depth  + 0.3 * val_score_frp\n",
    "\n",
    "score_train, score_val"
   ]
  },
  {
   "cell_type": "raw",
   "id": "b4e2f449-432c-42f7-8cce-5cb15323aca0",
   "metadata": {},
   "source": [
    "(0.46673042900461154, 0.43034861641062294)"
   ]
  },
  {
   "cell_type": "code",
   "execution_count": null,
   "id": "8ff54468-e3a7-403c-b6e9-67ad93a5e09e",
   "metadata": {},
   "outputs": [],
   "source": []
  },
  {
   "cell_type": "markdown",
   "id": "81b7d454-37b6-45ee-94fb-99af0fe23ae5",
   "metadata": {},
   "source": [
    "## save models"
   ]
  },
  {
   "cell_type": "code",
   "execution_count": null,
   "id": "75aa11de-71cb-47a7-9e22-2857f7f7e643",
   "metadata": {},
   "outputs": [],
   "source": [
    "cb_model_views.save_model(os.path.join(DIR_MODELS, 'cb_views.cbm'), \n",
    "                           format=\"cbm\",\n",
    "                           export_parameters=None,\n",
    "                           pool=None\n",
    "                         )\n",
    "\n",
    "cb_model_depth.save_model(os.path.join(DIR_MODELS, 'cb_depth.cbm'), \n",
    "                           format=\"cbm\",\n",
    "                           export_parameters=None,\n",
    "                           pool=None\n",
    "                         )\n",
    "\n",
    "cb_model_frp.save_model(os.path.join(DIR_MODELS, 'cb_frp.cbm'), \n",
    "                           format=\"cbm\",\n",
    "                           export_parameters=None,\n",
    "                           pool=None\n",
    "                         )"
   ]
  },
  {
   "cell_type": "code",
   "execution_count": null,
   "id": "102c6530-8a1b-4c1c-a1d3-e9d95e350220",
   "metadata": {},
   "outputs": [],
   "source": []
  },
  {
   "cell_type": "markdown",
   "id": "ac604b78-2718-408d-8d19-5b202d3f5a19",
   "metadata": {},
   "source": [
    "## make predict"
   ]
  },
  {
   "cell_type": "code",
   "execution_count": null,
   "id": "df8e4305-28ed-444f-8325-e6460f7d2271",
   "metadata": {},
   "outputs": [],
   "source": [
    "pred_views = cb_model_views.predict(df_test[cat_cols + num_cols])\n",
    "pred_depth = cb_model_depth.predict(df_test[cat_cols + num_cols])\n",
    "pred_frp   = cb_model_frp.predict(  df_test[cat_cols + num_cols])"
   ]
  },
  {
   "cell_type": "code",
   "execution_count": null,
   "id": "f422300e-24cf-435a-af11-a450f4f10393",
   "metadata": {},
   "outputs": [],
   "source": [
    "subm = pd.DataFrame()\n",
    "subm['document_id'] = df_test.index\n",
    "\n",
    "subm['views'] = pred_views\n",
    "subm['depth'] = pred_depth\n",
    "subm['full_reads_percent'] = pred_frp"
   ]
  },
  {
   "cell_type": "code",
   "execution_count": null,
   "id": "37fa65e1-c702-4764-8f84-eb93b80c73f8",
   "metadata": {},
   "outputs": [],
   "source": [
    "subm.head()"
   ]
  },
  {
   "cell_type": "code",
   "execution_count": null,
   "id": "00d26c97-fb11-49b4-940e-ea797b27d29d",
   "metadata": {},
   "outputs": [],
   "source": [
    "subm.to_csv(os.path.join(DIR_SUBM, '3_cb_ttls_emd_depth.csv'), index = False)"
   ]
  },
  {
   "cell_type": "code",
   "execution_count": null,
   "id": "381434ea-0954-4ac1-8278-348a674c1a9c",
   "metadata": {},
   "outputs": [],
   "source": []
  }
 ],
 "metadata": {
  "kernelspec": {
   "display_name": "Python 3",
   "language": "python",
   "name": "python3"
  },
  "language_info": {
   "codemirror_mode": {
    "name": "ipython",
    "version": 3
   },
   "file_extension": ".py",
   "mimetype": "text/x-python",
   "name": "python",
   "nbconvert_exporter": "python",
   "pygments_lexer": "ipython3",
   "version": "3.7.10"
  }
 },
 "nbformat": 4,
 "nbformat_minor": 5
}
